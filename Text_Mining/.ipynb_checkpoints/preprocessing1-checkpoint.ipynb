{
 "cells": [
  {
   "cell_type": "markdown",
   "id": "bfe64278-40cb-4506-9df6-ce202235928b",
   "metadata": {},
   "source": [
    "## 새올 민원 데이터 전처리\n",
    "### 1. 데이터 파일 불러오기"
   ]
  },
  {
   "cell_type": "code",
   "execution_count": null,
   "id": "70018506-819b-419e-83c2-6c221cdd0da8",
   "metadata": {},
   "outputs": [],
   "source": [
    "import pandas as pd\n",
    "file = pd.read_csv('새올민원자료(샘플).csv',encoding='cp949')\n",
    "file.head()"
   ]
  },
  {
   "cell_type": "markdown",
   "id": "d6cbb33a-8f24-41c3-880c-4efc98e5fcb5",
   "metadata": {},
   "source": [
    "### 2. 자료형 변환하기\n",
    "#### 날짜타입 변환"
   ]
  },
  {
   "cell_type": "code",
   "execution_count": null,
   "id": "cd9e7b37-4899-4e7e-aac0-d204899f7d18",
   "metadata": {},
   "outputs": [],
   "source": [
    "#각 열의 데이터 타입 확인\n",
    "file.dtypes"
   ]
  },
  {
   "cell_type": "code",
   "execution_count": null,
   "id": "029f0256-5bac-4384-ae22-41c89d5a09c1",
   "metadata": {},
   "outputs": [],
   "source": [
    "# 민원등록일자, 민원등록일시, 처리기한일시, 담당자지정일시, 답변일시, 연장처리기한\n",
    "# 날짜타입으로 변환하기\n",
    "file['민원등록일자'] = pd.to_datetime(file['민원등록일자'],format='%Y-%m-%d',errors='ignore')\n",
    "file['민원등록일시'] = pd.to_datetime(file['민원등록일시'],format='%Y-%m-%d %H:%M',errors='ignore')\n",
    "file['처리기한일시'] = pd.to_datetime(file['처리기한일시'],format\n",
    "                                \n",
    "                                ='%Y-%m-%d %H:%M',errors='ignore')\n",
    "file['담당자지정일시'] = pd.to_datetime(file['담당자지정일시'],format='%Y-%m-%d %H:%M',errors='coerce') #coerce는 0값도 NaT로 반환\n",
    "file['답변일시'] = pd.to_datetime(file['답변일시'],format='%Y-%m-%d',errors='coerce')\n",
    "file['연장처리기한'] = pd.to_datetime(file['연장처리기한'],format='%Y-%m-%d %H:%M',errors='ignore')"
   ]
  },
  {
   "cell_type": "code",
   "execution_count": null,
   "id": "20011ac2-585a-437c-8142-866b1428276b",
   "metadata": {},
   "outputs": [],
   "source": [
    "#변경된 날짜타입 확인\n",
    "file.dtypes"
   ]
  },
  {
   "cell_type": "markdown",
   "id": "d8141cea-4d39-40a0-9d88-82d9832b3517",
   "metadata": {},
   "source": [
    "### 3. 열 추가\n",
    "#### 민원 처리 기간 추가\n",
    "#### '민원할당기간' = '담당자 지정일시'-'민원등록일시'\n",
    "#### '민원처리기간' = '답변일시/이송일시'-'담당자 지정일시'\n",
    "#### '총처리기간' = '답변일시/이송일시'-'민원등록일시'\n",
    "#### '민원처리기한'\n",
    "#### '연장처리기한'이 없을 경우 '처리기한일시'를 '최종민원처리기한'으로 대체"
   ]
  },
  {
   "cell_type": "code",
   "execution_count": null,
   "id": "5ef86fb8-557f-4b72-8219-abd67be7cf05",
   "metadata": {},
   "outputs": [],
   "source": [
    "re_file = file\n",
    "re_file['민원할당기간'] = (re_file['담당자지정일시'] - re_file['민원등록일시']).astype('timedelta64[D]')\n",
    "re_file['민원처리기간'] = (re_file['답변일시'] - re_file['담당자지정일시']).astype('timedelta64[D]')\n",
    "re_file['총처리기간'] = (re_file['답변일시'] - re_file['민원등록일시']).astype('timedelta64[D]')\n",
    "#민원처리기한\n",
    "#'연장처리기한'이 없을 경우 '처리기한일시'를 '최종민원처리기한'으로 대체\n",
    "idx = re_file.index[re_file['연장처리기한'].isna()]\n",
    "extend = re_file['연장처리기한'].copy() #SettingWithCopyWarning 피하기 위함\n",
    "for i in idx:\n",
    "    extend[idx] = re_file['처리기한일시'][idx]\n",
    "re_file['최종민원처리기한'] =pd.to_datetime(extend,format='%Y-%m-%d %H:%M',errors='ignore')\n",
    "del idx, extend"
   ]
  },
  {
   "cell_type": "code",
   "execution_count": null,
   "id": "a970ed86-847e-4e79-87f7-ba972c13657f",
   "metadata": {},
   "outputs": [],
   "source": [
    "re_file"
   ]
  },
  {
   "cell_type": "markdown",
   "id": "8a4ed883-5b34-48ea-bb65-26fe4d1852fa",
   "metadata": {},
   "source": [
    "### 4. 주소 추가"
   ]
  },
  {
   "cell_type": "code",
   "execution_count": null,
   "id": "bb1fe50b-f8d6-4917-9c8d-21f30920432c",
   "metadata": {},
   "outputs": [],
   "source": [
    "#문자열 대체\n",
    "re_file['민원인주소'] = re_file['민원인주소'].replace({'김해시 삼방동, 654-1':'김해시 삼방동 654-1',\\\n",
    "                                             '김해시 대청동, 333':'김해시 대청동 333',\\\n",
    "                                             '김해시 가락로, 332번길 13 한라비발디107-1004':'경상남도 김해시 가락로332번길 13',\\\n",
    "                                             '\\(46516\\)':'','\\(민원발생위치\\)':'','\\[민원발생위치\\]':'',\\\n",
    "                                             ',\\s(.*)':'',',(.*)':'','null':'','&amp;(.*)':'','\\((.*)':'',\\\n",
    "                                            '^(김해시)':'경상남도 김해시'},regex=True)\n",
    "re_file[['민원인주소']][1584:1600]"
   ]
  },
  {
   "cell_type": "code",
   "execution_count": null,
   "id": "dd789b59-d326-4c26-84fd-1cc800b5adea",
   "metadata": {},
   "outputs": [],
   "source": [
    "re_file['민원인주소'] = re_file['민원인주소'].replace({'- -':None,'0':None,'부산광역시북구양달로80-18':'부산광역시 북구 양달로 80-18',\\\n",
    "                                             '주소불명':None,'대동아파트':'경상남도 김해시 함박로101번길 19',\\\n",
    "                                             '경상남도 김해시생림면사촌리458-2김해시나전로442번길19':'경상남도 김해시 나전로 442번길 19',\\\n",
    "                                             '경남의령군봉수면한지8길32-132=1':'경상남도 의령군 봉수면 한지8길 32-132',\\\n",
    "                                             '경상남도 김해시':'경상남도 김해시 정보없음',\\\n",
    "                                             '부산시북구백양대로1003 12동808호{구포1동':'부산시 북구 백양대로1003',\\\n",
    "                                             '경상남도김해시삼계로232 110-803':'경상남도 김해시 삼계로232 110-803',\\\n",
    "                                             '김해시 장유3동':'경상남도 김해시 장유3동'}, regex=False)\n",
    "re_file['민원인주소']"
   ]
  },
  {
   "cell_type": "code",
   "execution_count": null,
   "id": "7e99324e-8b04-4008-af89-0805f70e4a68",
   "metadata": {},
   "outputs": [],
   "source": [
    "#주소에서 시도 가져오기\n",
    "\n",
    "def cut_addrs(x,n):\n",
    "    if x!= None:\n",
    "        return x.split()[n]\n",
    "    else:\n",
    "        return x"
   ]
  },
  {
   "cell_type": "code",
   "execution_count": null,
   "id": "b04abd27-ef81-4bd0-a827-e942301a7498",
   "metadata": {},
   "outputs": [],
   "source": [
    "#시도 추출\n",
    "re_file_add1 = re_file['민원인주소'].apply(cut_addrs,n=0)\n",
    "re_file_add1"
   ]
  },
  {
   "cell_type": "code",
   "execution_count": null,
   "id": "58052f85-1756-4701-9605-590076bd1fe2",
   "metadata": {},
   "outputs": [],
   "source": [
    "#시군구 추출\n",
    "re_file_add2 = re_file['민원인주소'].apply(cut_addrs,n=1)\n",
    "re_file_add2"
   ]
  },
  {
   "cell_type": "code",
   "execution_count": null,
   "id": "0ce04f4a-2852-41ea-96eb-648b41b99380",
   "metadata": {},
   "outputs": [],
   "source": [
    "#읍면동 추출\n",
    "re_file_add3 = re_file['민원인주소'].apply(cut_addrs,n=2)\n",
    "re_file_add3"
   ]
  },
  {
   "cell_type": "code",
   "execution_count": null,
   "id": "16863319-82bb-4b7f-8ec5-44be82373b43",
   "metadata": {},
   "outputs": [],
   "source": [
    "re_file['민원인주소_시도'] = re_file_add1\n",
    "re_file['민원인주소_시군구'] = re_file_add2\n",
    "re_file['민원인주소_법정동'] = re_file_add3\n",
    "re_file"
   ]
  },
  {
   "cell_type": "code",
   "execution_count": null,
   "id": "0aff905c-3421-4426-ad39-6ba964fbf2ea",
   "metadata": {},
   "outputs": [],
   "source": [
    "# 법정동 주소 정보\n",
    "file_address = pd.read_csv('주소.csv',encoding='cp949',names=['법정동'])\n",
    "file_address"
   ]
  },
  {
   "cell_type": "code",
   "execution_count": null,
   "id": "07bd74ed-6956-4deb-9e9f-6e9413308527",
   "metadata": {},
   "outputs": [],
   "source": [
    "# 민원내용에서 법정동 주소가 있을 경우 주소정보로 가져오기\n",
    "def contain_add(x):\n",
    "    a = 0\n",
    "    for i in file_address['법정동']:\n",
    "        if i in x:\n",
    "            return i\n",
    "    \n",
    "re_file_add = re_file['민원내용'].apply(contain_add)"
   ]
  },
  {
   "cell_type": "code",
   "execution_count": null,
   "id": "608d4226-6839-430a-9b87-03a2bd01a983",
   "metadata": {},
   "outputs": [],
   "source": [
    "re_file['민원내용주소_법정동']= re_file_add\n",
    "re_file"
   ]
  },
  {
   "cell_type": "code",
   "execution_count": null,
   "id": "6f0b77bc-97bd-42f6-b99a-82f5415bd964",
   "metadata": {},
   "outputs": [],
   "source": [
    "# '민원내용주소_법정동'에서 주소정보가 없는 경우 '최종민원주소'에 '민원인주소_법정동'으로 대체\n",
    "idx2 = re_file.index[re_file['민원내용주소_법정동'].isna()]\n",
    "re_file['최종민원주소'] = re_file['민원내용주소_법정동'].copy()\n",
    "for i in idx2:\n",
    "    re_file['최종민원주소'][idx2] = re_file['민원인주소_법정동'][idx2]\n",
    "    \n",
    "re_file.head()"
   ]
  },
  {
   "cell_type": "code",
   "execution_count": null,
   "id": "542a619d-6cda-403b-85c9-615d75464e45",
   "metadata": {},
   "outputs": [],
   "source": [
    "#도로명주소 불러오기\n",
    "names = ['시군구코드','도로명번호','도로명','도로명 로마자','읍면동일련번호','시도명','시군구명','읍면동구분','9열','읍면동','11열','12열','13열','14열','15열','16열','17열','18열']\n",
    "road_code = pd.read_csv('road_code_total.txt',encoding='cp949',sep='|',low_memory=False,names=names)\n",
    "road_code.head()"
   ]
  },
  {
   "cell_type": "code",
   "execution_count": null,
   "id": "1dce7696-ff5a-4e47-9759-bf09080e678e",
   "metadata": {},
   "outputs": [],
   "source": [
    "####도로명주소를 법정동 주소로 변환####\n",
    "#도로명주소에서 읍명동 내용이 있는 행만 불러오기\n",
    "re_road_code = road_code[road_code['읍면동구분']!=2] #읍면동구분=2는 읍면동 미부여를 의미하므로 제외한다.\n",
    "re_road_code"
   ]
  },
  {
   "cell_type": "code",
   "execution_count": null,
   "id": "4ca89bc2-2301-4799-977b-8403d0860663",
   "metadata": {},
   "outputs": [],
   "source": [
    "#민원분석대상인 김해시 주소만 추출하기\n",
    "re_road_code2 = re_road_code[re_road_code['시군구명']=='김해시']\n",
    "re_road_code2"
   ]
  },
  {
   "cell_type": "code",
   "execution_count": null,
   "id": "f0a95e81-d513-4684-ab0d-e344d0cd63ea",
   "metadata": {},
   "outputs": [],
   "source": [
    "#도로명 주소\n",
    "pattern = re_road_code2['도로명']\n",
    "#법정동 주소\n",
    "replacement = re_road_code2['읍면동']\n",
    "\n",
    "print(len(pattern),len(replacement))"
   ]
  },
  {
   "cell_type": "code",
   "execution_count": null,
   "id": "22829f9d-2b8c-4b2f-8324-0ea567d52737",
   "metadata": {},
   "outputs": [],
   "source": [
    "#행번호 재세팅\n",
    "pattern.set_axis([i for i in range(len(pattern))],inplace=True)\n",
    "replacement.set_axis([i for i in range(len(replacement))],inplace=True)"
   ]
  },
  {
   "cell_type": "code",
   "execution_count": null,
   "id": "f4f25a8b-5ebf-4c1d-9fb6-9a82c58b7475",
   "metadata": {},
   "outputs": [],
   "source": [
    "#김해시 도로명 주소를 법정동으로 변경하기\n",
    "def pattern2replace(x):\n",
    "    for i in range(len(pattern)):\n",
    "        if pattern[i] == x:\n",
    "            return replacement[i]\n",
    "                 \n",
    "container = re_file['최종민원주소']\n",
    "container = container.apply(pattern2replace)\n",
    "container"
   ]
  },
  {
   "cell_type": "code",
   "execution_count": null,
   "id": "91dcb83e-81d3-40c4-a83a-8bce4b0ac158",
   "metadata": {},
   "outputs": [],
   "source": [
    "for i in range(len(container)):\n",
    "    if container.notnull()[i] == True:\n",
    "        re_file['최종민원주소'][i] = container[i]\n",
    "    else:\n",
    "        pass\n",
    "re_file"
   ]
  },
  {
   "cell_type": "code",
   "execution_count": null,
   "id": "1d1f77fa-ffcc-4919-9ef1-9fb197f64416",
   "metadata": {},
   "outputs": [],
   "source": [
    "# 분석대상 지자체의 민원만 추출하기\n",
    "# 이 분석참조모델은 '김해시'로 김해시 주소만 민원에서 추출\n",
    "final_file = re_file[re_file['민원인주소_시군구']=='김해시']\n",
    "final_file['최종민원주소'] =final_file['최종민원주소'].replace({'삼계로232':'삼계동','부원동641-23번지':'부원동','율현마을':'장유동','율하':'장유동','장유3동':'장유동'})\n",
    "final_file"
   ]
  },
  {
   "cell_type": "code",
   "execution_count": null,
   "id": "5de3a341-08cb-424a-8f49-159637e1a079",
   "metadata": {},
   "outputs": [],
   "source": [
    "#행번호 세팅\n",
    "final_file.set_axis([i for i in range(len(final_file))],inplace=True)"
   ]
  },
  {
   "cell_type": "code",
   "execution_count": null,
   "id": "3aa0133c-a10f-4987-b324-dd403ea320db",
   "metadata": {},
   "outputs": [],
   "source": [
    "#민원등록일시를 기준으로 정렬\n",
    "final_file = final_file.sort_values('민원등록일시')\n",
    "final_file"
   ]
  },
  {
   "cell_type": "markdown",
   "id": "5f5a99ab-d439-43b6-ab7a-931e21a5bf1a",
   "metadata": {},
   "source": [
    "### 4. 주소 및 처리부서 저장"
   ]
  },
  {
   "cell_type": "code",
   "execution_count": null,
   "id": "15357c64-fa3a-4d4e-bb99-b8a2e9f19fff",
   "metadata": {},
   "outputs": [],
   "source": [
    "#### 분석의 정확도를 위한 주소 및 처리부서 저장\n",
    "#필요한 내용만 불러오기\n",
    "s_time = final_file[['민원인주소_시도','최종민원주소','처리부서']]\n",
    "s_time.columns = ['시도','법정동.주소','처리부서']\n",
    "s_time"
   ]
  },
  {
   "cell_type": "code",
   "execution_count": null,
   "id": "edc92b8a-3fd1-482a-8ba7-f0d08f5bd916",
   "metadata": {},
   "outputs": [],
   "source": [
    "freq_address_table = s_time.groupby('법정동.주소')['법정동.주소'].count()\n",
    "freq_address_table"
   ]
  },
  {
   "cell_type": "code",
   "execution_count": null,
   "id": "0643565d-71c8-417b-ada1-50ee59e7d505",
   "metadata": {},
   "outputs": [],
   "source": [
    "freq_address_df = pd.DataFrame(freq_address_table)\n",
    "freq_address_df.columns = ['freq']\n",
    "#csv저장\n",
    "freq_address_df.to_csv('주소현황.csv',encoding='cp949')\n",
    "freq_address_df"
   ]
  },
  {
   "cell_type": "code",
   "execution_count": null,
   "id": "61f0d01b-6e03-4283-aee0-99af95e6a95d",
   "metadata": {},
   "outputs": [],
   "source": [
    "freq_dept_table = s_time.groupby('처리부서')['처리부서'].count()\n",
    "freq_dept_table"
   ]
  },
  {
   "cell_type": "code",
   "execution_count": null,
   "id": "83fa8b4a-2aa6-4f81-83fa-6efa0b8f11a1",
   "metadata": {},
   "outputs": [],
   "source": [
    "freq_dept_df = pd.DataFrame(freq_dept_table)\n",
    "freq_dept_df.columns = ['freq']\n",
    "#to_csv\n",
    "freq_dept_df.to_csv('부서현황.csv',encoding='cp949')\n",
    "freq_dept_df"
   ]
  },
  {
   "cell_type": "code",
   "execution_count": null,
   "id": "dc3ea61d-55a5-420c-a53c-f31177eb0ce9",
   "metadata": {},
   "outputs": [],
   "source": [
    "#final_file 저장\n",
    "final_file.to_csv('final_file.csv',encoding='cp949',index=False)"
   ]
  },
  {
   "cell_type": "code",
   "execution_count": null,
   "id": "bbce411f-1b0d-4595-88f0-97ae093cb858",
   "metadata": {},
   "outputs": [],
   "source": []
  }
 ],
 "metadata": {
  "kernelspec": {
   "display_name": "Python 3 (ipykernel)",
   "language": "python",
   "name": "python3"
  },
  "language_info": {
   "codemirror_mode": {
    "name": "ipython",
    "version": 3
   },
   "file_extension": ".py",
   "mimetype": "text/x-python",
   "name": "python",
   "nbconvert_exporter": "python",
   "pygments_lexer": "ipython3",
   "version": "3.9.12"
  }
 },
 "nbformat": 4,
 "nbformat_minor": 5
}
