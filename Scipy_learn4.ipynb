{
 "cells": [
  {
   "cell_type": "markdown",
   "id": "89a9fa3b-24ab-43bf-a156-ca3f37d7f356",
   "metadata": {},
   "source": [
    "- 베이즈 정리\n",
    "  - A|B가 일어날 확률 = P(A|B)\n",
    "  - 베이즈 정리는 위 확률을 구하는 공식이다."
   ]
  },
  {
   "cell_type": "code",
   "execution_count": null,
   "id": "ab1cc3ad-a1ba-463d-b206-2b538647fee1",
   "metadata": {},
   "outputs": [],
   "source": []
  }
 ],
 "metadata": {
  "kernelspec": {
   "display_name": "Python 3 (ipykernel)",
   "language": "python",
   "name": "python3"
  },
  "language_info": {
   "codemirror_mode": {
    "name": "ipython",
    "version": 3
   },
   "file_extension": ".py",
   "mimetype": "text/x-python",
   "name": "python",
   "nbconvert_exporter": "python",
   "pygments_lexer": "ipython3",
   "version": "3.9.12"
  }
 },
 "nbformat": 4,
 "nbformat_minor": 5
}
