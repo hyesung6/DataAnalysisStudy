{
 "cells": [
  {
   "cell_type": "markdown",
   "id": "9089466f-4c43-4986-945e-8e46e2d0adae",
   "metadata": {
    "tags": []
   },
   "source": [
    "# 점 추정"
   ]
  },
  {
   "cell_type": "code",
   "execution_count": 1,
   "id": "96f8bd9a-828a-4a36-ae01-ef72f4238e49",
   "metadata": {},
   "outputs": [],
   "source": [
    "import warnings\n",
    "warnings.simplefilter(action='ignore', category=FutureWarning)   # FutureWarning 제거\n",
    "\n",
    "import pandas as pd\n",
    "import numpy as np\n",
    "from scipy import stats\n",
    "\n",
    "import matplotlib.pyplot as plt\n",
    "import seaborn as sns\n",
    "%matplotlib inline\n",
    "\n",
    "import os\n",
    "font_family = 'Malgun Gothic'\n",
    "\n",
    "sns.set(font=font_family, rc={'axes.unicode_minus' : False})"
   ]
  },
  {
   "cell_type": "markdown",
   "id": "386ce502-c6b0-479a-889e-a1f184687f65",
   "metadata": {},
   "source": [
    "## 평균의 점 추정"
   ]
  },
  {
   "cell_type": "code",
   "execution_count": 2,
   "id": "4344de06-7668-4b34-a9df-3683f968d49f",
   "metadata": {},
   "outputs": [],
   "source": [
    "import math"
   ]
  },
  {
   "cell_type": "markdown",
   "id": "19cb5317-a8e1-469a-b161-8aa1881797ce",
   "metadata": {},
   "source": [
    "### 데이터 생성"
   ]
  },
  {
   "cell_type": "code",
   "execution_count": 3,
   "id": "126c3361-4b7a-49e6-98ca-0febb988aa27",
   "metadata": {},
   "outputs": [],
   "source": [
    "# 데이터 생성\n",
    "np.random.seed(100)\n",
    "\n",
    "math_score = pd.DataFrame(np.random.randint(25, 101, size=500), columns=['점수'])"
   ]
  },
  {
   "cell_type": "markdown",
   "id": "572dcf0e-2d31-4ca3-9039-5e17a65411ce",
   "metadata": {},
   "source": [
    "### 데이터 탐색"
   ]
  },
  {
   "cell_type": "code",
   "execution_count": 4,
   "id": "78646a03-007e-42bc-aa1f-b86a35131c64",
   "metadata": {},
   "outputs": [
    {
     "data": {
      "text/html": [
       "<div>\n",
       "<style scoped>\n",
       "    .dataframe tbody tr th:only-of-type {\n",
       "        vertical-align: middle;\n",
       "    }\n",
       "\n",
       "    .dataframe tbody tr th {\n",
       "        vertical-align: top;\n",
       "    }\n",
       "\n",
       "    .dataframe thead th {\n",
       "        text-align: right;\n",
       "    }\n",
       "</style>\n",
       "<table border=\"1\" class=\"dataframe\">\n",
       "  <thead>\n",
       "    <tr style=\"text-align: right;\">\n",
       "      <th></th>\n",
       "      <th>점수</th>\n",
       "    </tr>\n",
       "  </thead>\n",
       "  <tbody>\n",
       "    <tr>\n",
       "      <th>count</th>\n",
       "      <td>500.000000</td>\n",
       "    </tr>\n",
       "    <tr>\n",
       "      <th>mean</th>\n",
       "      <td>61.580000</td>\n",
       "    </tr>\n",
       "    <tr>\n",
       "      <th>std</th>\n",
       "      <td>21.513374</td>\n",
       "    </tr>\n",
       "    <tr>\n",
       "      <th>min</th>\n",
       "      <td>25.000000</td>\n",
       "    </tr>\n",
       "    <tr>\n",
       "      <th>25%</th>\n",
       "      <td>42.000000</td>\n",
       "    </tr>\n",
       "    <tr>\n",
       "      <th>50%</th>\n",
       "      <td>62.500000</td>\n",
       "    </tr>\n",
       "    <tr>\n",
       "      <th>75%</th>\n",
       "      <td>79.000000</td>\n",
       "    </tr>\n",
       "    <tr>\n",
       "      <th>max</th>\n",
       "      <td>100.000000</td>\n",
       "    </tr>\n",
       "  </tbody>\n",
       "</table>\n",
       "</div>"
      ],
      "text/plain": [
       "               점수\n",
       "count  500.000000\n",
       "mean    61.580000\n",
       "std     21.513374\n",
       "min     25.000000\n",
       "25%     42.000000\n",
       "50%     62.500000\n",
       "75%     79.000000\n",
       "max    100.000000"
      ]
     },
     "execution_count": 4,
     "metadata": {},
     "output_type": "execute_result"
    }
   ],
   "source": [
    "# 요약정보\n",
    "math_score.describe()"
   ]
  },
  {
   "cell_type": "code",
   "execution_count": 5,
   "id": "7f7277eb-a1ae-4500-a8bb-428935e5eb44",
   "metadata": {},
   "outputs": [
    {
     "data": {
      "text/plain": [
       "array([33, 49, 92, 73, 35])"
      ]
     },
     "execution_count": 5,
     "metadata": {},
     "output_type": "execute_result"
    }
   ],
   "source": [
    "# 데이터 확인\n",
    "scores = np.array(math_score['점수'])\n",
    "scores[:5]"
   ]
  },
  {
   "cell_type": "code",
   "execution_count": 6,
   "id": "c0a4d85f-f927-4a97-a4a1-414137faf163",
   "metadata": {},
   "outputs": [
    {
     "name": "stdout",
     "output_type": "stream",
     "text": [
      "[85 91 85 81 64 96 83 68 53 52 61 80 89 32 95 64 81 72 94 92]\n",
      "75.9\n",
      "282.29\n",
      "16.801488029338355\n"
     ]
    }
   ],
   "source": [
    "# 20개 샘플 추출 ( 복원추출 )\n",
    "sample = np.random.choice(scores, 20)\n",
    "print(sample)\n",
    "print(sample.mean())\n",
    "print(sample.var())\n",
    "print(sample.std())"
   ]
  },
  {
   "cell_type": "code",
   "execution_count": 7,
   "id": "0c14925f-82ce-45b2-85c9-3cd50d62515f",
   "metadata": {},
   "outputs": [
    {
     "name": "stdout",
     "output_type": "stream",
     "text": [
      "1 표본평균 67.0\n",
      "2 표본평균 61.55\n",
      "3 표본평균 59.55\n",
      "4 표본평균 62.6\n",
      "5 표본평균 57.95\n",
      "6 표본평균 57.8\n",
      "7 표본평균 59.85\n",
      "8 표본평균 65.05\n",
      "9 표본평균 60.0\n",
      "10 표본평균 63.05\n"
     ]
    }
   ],
   "source": [
    "# 표본에 따라 평균 오차 확인\n",
    "for i in range(10):\n",
    "    sample1 = np.random.choice(scores, 20)\n",
    "    print(i+1, '표본평균', sample1.mean())"
   ]
  },
  {
   "cell_type": "code",
   "execution_count": 8,
   "id": "0534d952-6583-4804-9cab-a96583f109e4",
   "metadata": {},
   "outputs": [
    {
     "data": {
      "image/png": "[encoded data removed]",
      "text/plain": [
       "<Figure size 432x288 with 1 Axes>"
      ]
     },
     "metadata": {},
     "output_type": "display_data"
    }
   ],
   "source": [
    "# 모집단 데이터 부노 확인\n",
    "plt.xlabel('score')\n",
    "plt.ylabel('relative frequency')\n",
    "plt.hist(scores, bins=100, range=(0,100), density=True)\n",
    "plt.xlim(20, 100)\n",
    "plt.show()"
   ]
  },
  {
   "cell_type": "code",
   "execution_count": 9,
   "id": "e670e39a-05fe-4a37-8fa2-563ee84e09bd",
   "metadata": {},
   "outputs": [
    {
     "data": {
      "image/png": "[encoded data removed]",
      "text/plain": [
       "<Figure size 432x288 with 1 Axes>"
      ]
     },
     "metadata": {},
     "output_type": "display_data"
    }
   ],
   "source": [
    "# 샘플2 10000개 생성하여 분포 확인\n",
    "sample_score = np.random.choice(scores, 10000)\n",
    "\n",
    "plt.hist(sample_score, bins=100, range=(0,100), density=True)\n",
    "plt.xlim(20,100)\n",
    "plt.show()"
   ]
  },
  {
   "cell_type": "markdown",
   "id": "a508a75b-85f7-4473-80aa-c7ba033eff81",
   "metadata": {},
   "source": [
    "### 모평균 점 추정"
   ]
  },
  {
   "cell_type": "code",
   "execution_count": 10,
   "id": "23b535f8-4953-48a3-a635-1967680f17b9",
   "metadata": {},
   "outputs": [],
   "source": [
    "# 20개(n)의 표본 100번 추출\n",
    "n = 20\n",
    "nSample = 100\n",
    "\n",
    "sample_mean = np.array([np.random.choice(scores,n).mean() for _ in range(nSample)])"
   ]
  },
  {
   "cell_type": "code",
   "execution_count": 11,
   "id": "5a678dd9-f687-4108-93a7-468e4e96be9b",
   "metadata": {},
   "outputs": [
    {
     "data": {
      "text/plain": [
       "array([63.9 , 62.65, 63.4 , 57.4 , 56.75, 60.35, 55.15, 67.2 , 58.15,\n",
       "       64.15, 67.7 , 58.45, 58.1 , 60.5 , 58.3 , 63.2 , 65.  , 63.1 ,\n",
       "       58.75, 70.2 , 61.3 , 60.95, 55.4 , 62.25, 62.7 , 62.8 , 61.05,\n",
       "       71.3 , 56.8 , 73.4 , 63.  , 63.15, 65.6 , 64.35, 61.55, 74.35,\n",
       "       51.85, 58.9 , 57.1 , 57.1 , 52.8 , 65.8 , 68.9 , 62.75, 54.4 ,\n",
       "       57.95, 62.7 , 60.15, 64.15, 61.4 , 71.75, 54.4 , 60.5 , 59.85,\n",
       "       57.3 , 61.3 , 55.95, 67.45, 62.45, 61.8 , 55.2 , 61.85, 71.1 ,\n",
       "       62.85, 69.7 , 58.15, 49.75, 58.85, 67.2 , 67.5 , 68.65, 56.1 ,\n",
       "       62.8 , 58.  , 57.75, 59.2 , 55.35, 67.5 , 56.9 , 59.3 , 67.15,\n",
       "       50.75, 63.4 , 72.2 , 60.6 , 67.3 , 50.45, 69.55, 69.85, 63.1 ,\n",
       "       62.1 , 64.8 , 70.7 , 71.25, 58.9 , 63.9 , 62.65, 65.2 , 64.9 ,\n",
       "       61.  ])"
      ]
     },
     "execution_count": 11,
     "metadata": {},
     "output_type": "execute_result"
    }
   ],
   "source": [
    "sample_mean"
   ]
  },
  {
   "cell_type": "code",
   "execution_count": 12,
   "id": "f4a0b975-dc71-490d-bd9f-d81676fa5ee4",
   "metadata": {},
   "outputs": [
    {
     "name": "stdout",
     "output_type": "stream",
     "text": [
      "모평균 : 61.58\n",
      "표본평균의 평균 : 62.04499999999999\n",
      "모분산/n : 23.09498\n",
      "표본평균의 분산 : 28.156875000000003\n",
      "표본평균의 표준편차 : 5.306305211726895\n",
      "표준오차 : 4.805723670790903\n"
     ]
    }
   ],
   "source": [
    "# 모평균\n",
    "print(f'모평균 : {scores.mean()}')\n",
    "\n",
    "# 표본평균의 평균     <= 모집단을 모를 경우 표본평균이 모수로 추정\n",
    "print(f'표본평균의 평균 : {sample_mean.mean()}')\n",
    "\n",
    "# 모분산/n\n",
    "print(f'모분산/n : {scores.var()/n}')\n",
    "\n",
    "# 표본평균의 분산\n",
    "print(f'표본평균의 분산 : {sample_mean.var()}')\n",
    "\n",
    "# 표본평균의 편차\n",
    "print(f'표본평균의 표준편차 : {sample_mean.std()}')\n",
    "\n",
    "# 표준오차 : standard error of the mean\n",
    "print(f'표준오차 : {scores.std()/math.sqrt(n)}')"
   ]
  },
  {
   "cell_type": "markdown",
   "id": "5f3dbabd-5ba0-4389-8900-ff3e9c21a887",
   "metadata": {
    "tags": []
   },
   "source": [
    "# 구간 추정"
   ]
  },
  {
   "cell_type": "markdown",
   "id": "9db778be-c2a6-49cb-b63c-70e77b844665",
   "metadata": {
    "tags": []
   },
   "source": [
    "## 신뢰구간 추정\n",
    "### 모평균의 신뢰구간 추정\n",
    "샘플 수 < 30, t통계량 이용"
   ]
  },
  {
   "cell_type": "code",
   "execution_count": 13,
   "id": "e92d81bc-7180-4156-832b-8fa4440e7114",
   "metadata": {},
   "outputs": [
    {
     "data": {
      "text/plain": [
       "2.093024054408263"
      ]
     },
     "execution_count": 13,
     "metadata": {},
     "output_type": "execute_result"
    }
   ],
   "source": [
    "from scipy.stats import t\n",
    "t_95 = t.ppf(1 - ( 1 - 0.95 ) / 2, df=20-1)\n",
    "t_95"
   ]
  },
  {
   "cell_type": "code",
   "execution_count": 24,
   "id": "c4233df5-48b0-4fba-a10c-039e56fc033f",
   "metadata": {},
   "outputs": [
    {
     "name": "stdout",
     "output_type": "stream",
     "text": [
      "59.561572716050755\n",
      "64.52842728394923\n",
      "신뢰구간 : 4.966854567898473\n"
     ]
    }
   ],
   "source": [
    "# 20개(n)의 표본 100개를 추출\n",
    "# 95% 신뢰구간 추정 : t통계량 2.093\n",
    "\n",
    "sMean = sample_mean.mean()\n",
    "sStd = sample_mean.std()\n",
    "\n",
    "Low_c = sMean - t_95*(sStd / math.sqrt(n))\n",
    "Upper_c = sMean + t_95*(sStd / math.sqrt(n))\n",
    "print(Low_c)       # 하한신뢰\n",
    "print(Upper_c)     # 상한신뢰\n",
    "# 95% 신뢰로 모평균은 59점 ~ 64점 사이에 존재(추정)\n",
    "print(f'신뢰구간 : {Upper_c - Low_c}')"
   ]
  },
  {
   "cell_type": "markdown",
   "id": "daf8c208-c2a6-4d9f-8e35-a49782f4cb90",
   "metadata": {},
   "source": [
    "### 모평균의 신뢰구간 추정\n",
    "샘플 수 >= 30, z통계량 이용"
   ]
  },
  {
   "cell_type": "code",
   "execution_count": 50,
   "id": "92e84baf-fbe3-4b14-a08d-a183b36feab2",
   "metadata": {},
   "outputs": [
    {
     "name": "stdout",
     "output_type": "stream",
     "text": [
      "모평균 : 61.58\n",
      "표본평균 : 60.56666666666667\n",
      "모편차 : 21.491849617936563\n",
      "표본편차 : 23.41322038697131\n"
     ]
    }
   ],
   "source": [
    "# 30개(n)의 표본 1개를 추출\n",
    "# 95% 신뢰구간 추정: z통계량 1.96\n",
    "\n",
    "z_n = 30\n",
    "sample1 = np.random.choice(scores, z_n)\n",
    "z_sMean = sample1.mean()       \n",
    "z_sStd = sample1.std()\n",
    "\n",
    "print(f'모평균 : {scores.mean()}')\n",
    "print(f'표본평균 : {z_sMean}')\n",
    "print(f'모편차 : {scores.std()}')\n",
    "print(f'표본편차 : {z_sStd}')"
   ]
  },
  {
   "cell_type": "code",
   "execution_count": 25,
   "id": "a32b2c89-5aa2-43cc-bac4-ad4212d3bad5",
   "metadata": {},
   "outputs": [
    {
     "name": "stdout",
     "output_type": "stream",
     "text": [
      "58.71\n",
      "74.09\n",
      "신뢰구간 : 15.380000000000003\n"
     ]
    }
   ],
   "source": [
    "# 임계값\n",
    "z_95 = stats.norm.ppf(1 - (1 - 0.95) / 2 ) # 양측검정\n",
    "\n",
    "# z_95_h = stats.norm.ppf(0.95) 단측검정\n",
    "# print(z_95_h)\n",
    "\n",
    "L_value_1 = round(z_sMean - z_95 * (scores.std() / math.sqrt(z_n)), 2)\n",
    "U_value_1 = round(z_sMean + z_95 * (scores.std() / math.sqrt(z_n)), 2)\n",
    "print(L_value_1)    # 하한\n",
    "print(U_value_1)    # 상한\n",
    "\n",
    "print(f'신뢰구간 : {U_value_1 - L_value_1}')"
   ]
  },
  {
   "cell_type": "markdown",
   "id": "262df5d5-495b-48bd-8144-ec8630303405",
   "metadata": {},
   "source": [
    "- 예제\n",
    "  - 어느 고등학교 남학생 49명의 제자리에서 멀리뛰기 기록은 평균이 205cm, 표준편차가 5cm였다. 이 학교 남학생들의 제자리 멀리뛰기 기록에 대한 모평균 m의 신뢰도 95% 신뢰구간을 구하라."
   ]
  },
  {
   "cell_type": "code",
   "execution_count": 26,
   "id": "748c2ae0-a8c1-4f87-906b-c89ede92a0c0",
   "metadata": {},
   "outputs": [
    {
     "name": "stdout",
     "output_type": "stream",
     "text": [
      "신뢰구간 : 203.6 ~ 206.4\n",
      "신뢰구간 길이 : 2.8000000000000114\n",
      "203.6 < 205 < 206.4\n"
     ]
    }
   ],
   "source": [
    "# 모평균, 모표준편차, 표본 수\n",
    "mStd = 5\n",
    "mMean = 205\n",
    "n = 49\n",
    "\n",
    "# z통계량 : 1.96\n",
    "z_95_1 = stats.norm.ppf( 1 - (1-0.95) / 2 )   # 신뢰구간\n",
    "\n",
    "# 신뢰구간 계산\n",
    "L_value = round(mMean - z_95_1 * (mStd/math.sqrt(n)), 2)\n",
    "U_value = round(mMean + z_95_1 * (mStd/math.sqrt(n)), 2)\n",
    "\n",
    "print(f'신뢰구간 : {L_value} ~ {U_value}')\n",
    "print(f'신뢰구간 길이 : {U_value - L_value}')\n",
    "print(f'{L_value} < {mMean} < {U_value}')"
   ]
  },
  {
   "cell_type": "code",
   "execution_count": 53,
   "id": "dd94fa5b-cc38-47d3-9aef-c95e49bba3e1",
   "metadata": {},
   "outputs": [
    {
     "data": {
      "image/png": "[encoded data removed]",
      "text/plain": [
       "<Figure size 432x288 with 1 Axes>"
      ]
     },
     "metadata": {},
     "output_type": "display_data"
    }
   ],
   "source": [
    "# 시각화\n",
    "standard_norm = stats.norm(205, 5)\n",
    "\n",
    "# standard_sr = stats.norm.rcv()\n",
    "x = np.linspace(130, 280, 100)\n",
    "\n",
    "plt.vlines(L_value, 0, standard_norm.pdf(L_value), colors='g')\n",
    "plt.vlines(U_value, 0, standard_norm.pdf(U_value), colors='skyblue')\n",
    "plt.plot(x, standard_norm.pdf(x), 'b--', lw=2, alpha=0.6, label='norm pdf')\n",
    "\n",
    "plt.title('신뢰구간 시각화')\n",
    "plt.legend()\n",
    "plt.show()"
   ]
  },
  {
   "cell_type": "code",
   "execution_count": 42,
   "id": "a6e40d46-c524-43b3-ba36-17454581e740",
   "metadata": {},
   "outputs": [
    {
     "data": {
      "text/plain": [
       "\u001b[1;31mSignature:\u001b[0m\n",
       "\u001b[0mplt\u001b[0m\u001b[1;33m.\u001b[0m\u001b[0mvlines\u001b[0m\u001b[1;33m(\u001b[0m\u001b[1;33m\n",
       "\u001b[0m    \u001b[0mx\u001b[0m\u001b[1;33m,\u001b[0m\u001b[1;33m\n",
       "\u001b[0m    \u001b[0mymin\u001b[0m\u001b[1;33m,\u001b[0m\u001b[1;33m\n",
       "\u001b[0m    \u001b[0mymax\u001b[0m\u001b[1;33m,\u001b[0m\u001b[1;33m\n",
       "\u001b[0m    \u001b[0mcolors\u001b[0m\u001b[1;33m=\u001b[0m\u001b[1;32mNone\u001b[0m\u001b[1;33m,\u001b[0m\u001b[1;33m\n",
       "\u001b[0m    \u001b[0mlinestyles\u001b[0m\u001b[1;33m=\u001b[0m\u001b[1;34m'solid'\u001b[0m\u001b[1;33m,\u001b[0m\u001b[1;33m\n",
       "\u001b[0m    \u001b[0mlabel\u001b[0m\u001b[1;33m=\u001b[0m\u001b[1;34m''\u001b[0m\u001b[1;33m,\u001b[0m\u001b[1;33m\n",
       "\u001b[0m    \u001b[1;33m*\u001b[0m\u001b[1;33m,\u001b[0m\u001b[1;33m\n",
       "\u001b[0m    \u001b[0mdata\u001b[0m\u001b[1;33m=\u001b[0m\u001b[1;32mNone\u001b[0m\u001b[1;33m,\u001b[0m\u001b[1;33m\n",
       "\u001b[0m    \u001b[1;33m**\u001b[0m\u001b[0mkwargs\u001b[0m\u001b[1;33m,\u001b[0m\u001b[1;33m\n",
       "\u001b[0m\u001b[1;33m)\u001b[0m\u001b[1;33m\u001b[0m\u001b[1;33m\u001b[0m\u001b[0m\n",
       "\u001b[1;31mDocstring:\u001b[0m\n",
       "Plot vertical lines at each *x* from *ymin* to *ymax*.\n",
       "\n",
       "Parameters\n",
       "----------\n",
       "x : float or array-like\n",
       "    x-indexes where to plot the lines.\n",
       "\n",
       "ymin, ymax : float or array-like\n",
       "    Respective beginning and end of each line. If scalars are\n",
       "    provided, all lines will have same length.\n",
       "\n",
       "colors : list of colors, default: :rc:`lines.color`\n",
       "\n",
       "linestyles : {'solid', 'dashed', 'dashdot', 'dotted'}, optional\n",
       "\n",
       "label : str, default: ''\n",
       "\n",
       "Returns\n",
       "-------\n",
       "`~matplotlib.collections.LineCollection`\n",
       "\n",
       "Other Parameters\n",
       "----------------\n",
       "data : indexable object, optional\n",
       "    If given, the following parameters also accept a string ``s``, which is\n",
       "    interpreted as ``data[s]`` (unless this raises an exception):\n",
       "\n",
       "    *x*, *ymin*, *ymax*, *colors*\n",
       "**kwargs : `~matplotlib.collections.LineCollection` properties.\n",
       "\n",
       "See Also\n",
       "--------\n",
       "hlines : horizontal lines\n",
       "axvline : vertical line across the Axes\n",
       "\u001b[1;31mFile:\u001b[0m      c:\\users\\user\\anaconda3\\lib\\site-packages\\matplotlib\\pyplot.py\n",
       "\u001b[1;31mType:\u001b[0m      function\n"
      ]
     },
     "metadata": {},
     "output_type": "display_data"
    }
   ],
   "source": [
    "plt.vlines?"
   ]
  },
  {
   "cell_type": "code",
   "execution_count": null,
   "id": "529a0cf4-b8cb-4e79-961d-e3b3bba976b7",
   "metadata": {},
   "outputs": [],
   "source": []
  }
 ],
 "metadata": {
  "kernelspec": {
   "display_name": "Python 3 (ipykernel)",
   "language": "python",
   "name": "python3"
  },
  "language_info": {
   "codemirror_mode": {
    "name": "ipython",
    "version": 3
   },
   "file_extension": ".py",
   "mimetype": "text/x-python",
   "name": "python",
   "nbconvert_exporter": "python",
   "pygments_lexer": "ipython3",
   "version": "3.9.12"
  }
 },
 "nbformat": 4,
 "nbformat_minor": 5
}
