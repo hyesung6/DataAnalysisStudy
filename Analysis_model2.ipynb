{
 "cells": [
  {
   "cell_type": "markdown",
   "id": "3a1308a4-ad81-4e8e-bab1-7335c4d9a095",
   "metadata": {},
   "source": [
    "# 기초 통계\n",
    "## 필요 라이브러리 import"
   ]
  },
  {
   "cell_type": "code",
   "execution_count": 1,
   "id": "a548254a-cdc7-4770-8589-da1fa6ed9745",
   "metadata": {},
   "outputs": [],
   "source": [
    "import pandas as pd\n",
    "import numpy as np"
   ]
  },
  {
   "cell_type": "markdown",
   "id": "9fc6ba56-a183-4ceb-a329-c9f3313b736c",
   "metadata": {},
   "source": [
    "## 데이터셋 생성"
   ]
  },
  {
   "cell_type": "code",
   "execution_count": 2,
   "id": "a1bc28a1-6072-4212-bb0e-1106eb01aea2",
   "metadata": {},
   "outputs": [
    {
     "data": {
      "text/html": [
       "<div>\n",
       "<style scoped>\n",
       "    .dataframe tbody tr th:only-of-type {\n",
       "        vertical-align: middle;\n",
       "    }\n",
       "\n",
       "    .dataframe tbody tr th {\n",
       "        vertical-align: top;\n",
       "    }\n",
       "\n",
       "    .dataframe thead th {\n",
       "        text-align: right;\n",
       "    }\n",
       "</style>\n",
       "<table border=\"1\" class=\"dataframe\">\n",
       "  <thead>\n",
       "    <tr style=\"text-align: right;\">\n",
       "      <th></th>\n",
       "      <th>score1</th>\n",
       "      <th>score2</th>\n",
       "      <th>score3</th>\n",
       "      <th>weight</th>\n",
       "      <th>diff</th>\n",
       "      <th>place</th>\n",
       "    </tr>\n",
       "  </thead>\n",
       "  <tbody>\n",
       "    <tr>\n",
       "      <th>0</th>\n",
       "      <td>99</td>\n",
       "      <td>79</td>\n",
       "      <td>59.0</td>\n",
       "      <td>5.43</td>\n",
       "      <td>-2.1</td>\n",
       "      <td>A</td>\n",
       "    </tr>\n",
       "    <tr>\n",
       "      <th>1</th>\n",
       "      <td>65</td>\n",
       "      <td>85</td>\n",
       "      <td>NaN</td>\n",
       "      <td>0.12</td>\n",
       "      <td>5.0</td>\n",
       "      <td>B</td>\n",
       "    </tr>\n",
       "    <tr>\n",
       "      <th>2</th>\n",
       "      <td>79</td>\n",
       "      <td>79</td>\n",
       "      <td>39.0</td>\n",
       "      <td>10.44</td>\n",
       "      <td>2.0</td>\n",
       "      <td>A</td>\n",
       "    </tr>\n",
       "    <tr>\n",
       "      <th>3</th>\n",
       "      <td>94</td>\n",
       "      <td>93</td>\n",
       "      <td>NaN</td>\n",
       "      <td>9.33</td>\n",
       "      <td>-5.4</td>\n",
       "      <td>A</td>\n",
       "    </tr>\n",
       "    <tr>\n",
       "      <th>4</th>\n",
       "      <td>87</td>\n",
       "      <td>97</td>\n",
       "      <td>NaN</td>\n",
       "      <td>4.22</td>\n",
       "      <td>-3.3</td>\n",
       "      <td>B</td>\n",
       "    </tr>\n",
       "  </tbody>\n",
       "</table>\n",
       "</div>"
      ],
      "text/plain": [
       "   score1  score2  score3  weight  diff place\n",
       "0      99      79    59.0    5.43  -2.1     A\n",
       "1      65      85     NaN    0.12   5.0     B\n",
       "2      79      79    39.0   10.44   2.0     A\n",
       "3      94      93     NaN    9.33  -5.4     A\n",
       "4      87      97     NaN    4.22  -3.3     B"
      ]
     },
     "execution_count": 2,
     "metadata": {},
     "output_type": "execute_result"
    }
   ],
   "source": [
    "data = pd.DataFrame( {'score1' : [99, 65, 79, 94, 87],\n",
    "                      'score2' : [79, 85, 79, 93, 97],\n",
    "                      'score3' : [59, np.nan, 39, np.nan, np.nan],\n",
    "                      'weight' : [5.43, 0.12, 10.44, 9.33, 4.22],\n",
    "                      'diff' : [-2.1, 5, 2, -5.4, -3.3],\n",
    "                      'place' : ['A', 'B', 'A', 'A', 'B']} )\n",
    "\n",
    "data"
   ]
  },
  {
   "cell_type": "markdown",
   "id": "b0c2731a-9118-4d35-9c6e-6f70fc1fb1b7",
   "metadata": {},
   "source": [
    "## 기술 통계\n",
    "### pnadas 함수를 이용한 요약 정보\n",
    "info() : 컬럼 이름, 결측치를 제외한 값 카운트, 타입 확인\n",
    "\n",
    "describe() : 데이터 프레임 컬럼별 카운트, 평균, 표준편차, 최소값, 사분위수, 최대값 확인\n",
    "  - 수치형 변수 요약 정보 : describe()\n",
    "  - 범주형 변수 요약 정보 : describe(include='object')\n",
    "  - 전체 변수의 요약 정보 : describe(include='all')"
   ]
  },
  {
   "cell_type": "code",
   "execution_count": 3,
   "id": "d74f80a5-2e12-43a9-a61f-5e4c74f4c0ea",
   "metadata": {},
   "outputs": [
    {
     "name": "stdout",
     "output_type": "stream",
     "text": [
      "<class 'pandas.core.frame.DataFrame'>\n",
      "RangeIndex: 5 entries, 0 to 4\n",
      "Data columns (total 6 columns):\n",
      " #   Column  Non-Null Count  Dtype  \n",
      "---  ------  --------------  -----  \n",
      " 0   score1  5 non-null      int64  \n",
      " 1   score2  5 non-null      int64  \n",
      " 2   score3  2 non-null      float64\n",
      " 3   weight  5 non-null      float64\n",
      " 4   diff    5 non-null      float64\n",
      " 5   place   5 non-null      object \n",
      "dtypes: float64(3), int64(2), object(1)\n",
      "memory usage: 368.0+ bytes\n"
     ]
    }
   ],
   "source": [
    "data.info()"
   ]
  },
  {
   "cell_type": "code",
   "execution_count": 4,
   "id": "beb1cc1f-70da-4ce3-b0c2-cf62cafe3089",
   "metadata": {},
   "outputs": [
    {
     "data": {
      "text/html": [
       "<div>\n",
       "<style scoped>\n",
       "    .dataframe tbody tr th:only-of-type {\n",
       "        vertical-align: middle;\n",
       "    }\n",
       "\n",
       "    .dataframe tbody tr th {\n",
       "        vertical-align: top;\n",
       "    }\n",
       "\n",
       "    .dataframe thead th {\n",
       "        text-align: right;\n",
       "    }\n",
       "</style>\n",
       "<table border=\"1\" class=\"dataframe\">\n",
       "  <thead>\n",
       "    <tr style=\"text-align: right;\">\n",
       "      <th></th>\n",
       "      <th>score1</th>\n",
       "      <th>score2</th>\n",
       "      <th>score3</th>\n",
       "      <th>weight</th>\n",
       "      <th>diff</th>\n",
       "    </tr>\n",
       "  </thead>\n",
       "  <tbody>\n",
       "    <tr>\n",
       "      <th>count</th>\n",
       "      <td>5.00000</td>\n",
       "      <td>5.000000</td>\n",
       "      <td>2.000000</td>\n",
       "      <td>5.000000</td>\n",
       "      <td>5.000000</td>\n",
       "    </tr>\n",
       "    <tr>\n",
       "      <th>mean</th>\n",
       "      <td>84.80000</td>\n",
       "      <td>86.600000</td>\n",
       "      <td>49.000000</td>\n",
       "      <td>5.908000</td>\n",
       "      <td>-0.760000</td>\n",
       "    </tr>\n",
       "    <tr>\n",
       "      <th>std</th>\n",
       "      <td>13.38656</td>\n",
       "      <td>8.173127</td>\n",
       "      <td>14.142136</td>\n",
       "      <td>4.148128</td>\n",
       "      <td>4.200357</td>\n",
       "    </tr>\n",
       "    <tr>\n",
       "      <th>min</th>\n",
       "      <td>65.00000</td>\n",
       "      <td>79.000000</td>\n",
       "      <td>39.000000</td>\n",
       "      <td>0.120000</td>\n",
       "      <td>-5.400000</td>\n",
       "    </tr>\n",
       "    <tr>\n",
       "      <th>25%</th>\n",
       "      <td>79.00000</td>\n",
       "      <td>79.000000</td>\n",
       "      <td>44.000000</td>\n",
       "      <td>4.220000</td>\n",
       "      <td>-3.300000</td>\n",
       "    </tr>\n",
       "    <tr>\n",
       "      <th>50%</th>\n",
       "      <td>87.00000</td>\n",
       "      <td>85.000000</td>\n",
       "      <td>49.000000</td>\n",
       "      <td>5.430000</td>\n",
       "      <td>-2.100000</td>\n",
       "    </tr>\n",
       "    <tr>\n",
       "      <th>75%</th>\n",
       "      <td>94.00000</td>\n",
       "      <td>93.000000</td>\n",
       "      <td>54.000000</td>\n",
       "      <td>9.330000</td>\n",
       "      <td>2.000000</td>\n",
       "    </tr>\n",
       "    <tr>\n",
       "      <th>max</th>\n",
       "      <td>99.00000</td>\n",
       "      <td>97.000000</td>\n",
       "      <td>59.000000</td>\n",
       "      <td>10.440000</td>\n",
       "      <td>5.000000</td>\n",
       "    </tr>\n",
       "  </tbody>\n",
       "</table>\n",
       "</div>"
      ],
      "text/plain": [
       "         score1     score2     score3     weight      diff\n",
       "count   5.00000   5.000000   2.000000   5.000000  5.000000\n",
       "mean   84.80000  86.600000  49.000000   5.908000 -0.760000\n",
       "std    13.38656   8.173127  14.142136   4.148128  4.200357\n",
       "min    65.00000  79.000000  39.000000   0.120000 -5.400000\n",
       "25%    79.00000  79.000000  44.000000   4.220000 -3.300000\n",
       "50%    87.00000  85.000000  49.000000   5.430000 -2.100000\n",
       "75%    94.00000  93.000000  54.000000   9.330000  2.000000\n",
       "max    99.00000  97.000000  59.000000  10.440000  5.000000"
      ]
     },
     "execution_count": 4,
     "metadata": {},
     "output_type": "execute_result"
    }
   ],
   "source": [
    "data.describe()"
   ]
  },
  {
   "cell_type": "code",
   "execution_count": 5,
   "id": "0c19a1d2-a042-4644-a490-dbd4e4f4b382",
   "metadata": {},
   "outputs": [
    {
     "data": {
      "text/html": [
       "<div>\n",
       "<style scoped>\n",
       "    .dataframe tbody tr th:only-of-type {\n",
       "        vertical-align: middle;\n",
       "    }\n",
       "\n",
       "    .dataframe tbody tr th {\n",
       "        vertical-align: top;\n",
       "    }\n",
       "\n",
       "    .dataframe thead th {\n",
       "        text-align: right;\n",
       "    }\n",
       "</style>\n",
       "<table border=\"1\" class=\"dataframe\">\n",
       "  <thead>\n",
       "    <tr style=\"text-align: right;\">\n",
       "      <th></th>\n",
       "      <th>place</th>\n",
       "    </tr>\n",
       "  </thead>\n",
       "  <tbody>\n",
       "    <tr>\n",
       "      <th>count</th>\n",
       "      <td>5</td>\n",
       "    </tr>\n",
       "    <tr>\n",
       "      <th>unique</th>\n",
       "      <td>2</td>\n",
       "    </tr>\n",
       "    <tr>\n",
       "      <th>top</th>\n",
       "      <td>A</td>\n",
       "    </tr>\n",
       "    <tr>\n",
       "      <th>freq</th>\n",
       "      <td>3</td>\n",
       "    </tr>\n",
       "  </tbody>\n",
       "</table>\n",
       "</div>"
      ],
      "text/plain": [
       "       place\n",
       "count      5\n",
       "unique     2\n",
       "top        A\n",
       "freq       3"
      ]
     },
     "execution_count": 5,
     "metadata": {},
     "output_type": "execute_result"
    }
   ],
   "source": [
    "data.describe(include='object')"
   ]
  },
  {
   "cell_type": "code",
   "execution_count": 7,
   "id": "b22e03bc-f2fe-4528-b435-97a07a2d7e27",
   "metadata": {},
   "outputs": [
    {
     "data": {
      "text/html": [
       "<div>\n",
       "<style scoped>\n",
       "    .dataframe tbody tr th:only-of-type {\n",
       "        vertical-align: middle;\n",
       "    }\n",
       "\n",
       "    .dataframe tbody tr th {\n",
       "        vertical-align: top;\n",
       "    }\n",
       "\n",
       "    .dataframe thead th {\n",
       "        text-align: right;\n",
       "    }\n",
       "</style>\n",
       "<table border=\"1\" class=\"dataframe\">\n",
       "  <thead>\n",
       "    <tr style=\"text-align: right;\">\n",
       "      <th></th>\n",
       "      <th>score1</th>\n",
       "      <th>score2</th>\n",
       "      <th>score3</th>\n",
       "      <th>weight</th>\n",
       "      <th>diff</th>\n",
       "      <th>place</th>\n",
       "    </tr>\n",
       "  </thead>\n",
       "  <tbody>\n",
       "    <tr>\n",
       "      <th>count</th>\n",
       "      <td>5.00000</td>\n",
       "      <td>5.000000</td>\n",
       "      <td>2.000000</td>\n",
       "      <td>5.000000</td>\n",
       "      <td>5.000000</td>\n",
       "      <td>5</td>\n",
       "    </tr>\n",
       "    <tr>\n",
       "      <th>unique</th>\n",
       "      <td>NaN</td>\n",
       "      <td>NaN</td>\n",
       "      <td>NaN</td>\n",
       "      <td>NaN</td>\n",
       "      <td>NaN</td>\n",
       "      <td>2</td>\n",
       "    </tr>\n",
       "    <tr>\n",
       "      <th>top</th>\n",
       "      <td>NaN</td>\n",
       "      <td>NaN</td>\n",
       "      <td>NaN</td>\n",
       "      <td>NaN</td>\n",
       "      <td>NaN</td>\n",
       "      <td>A</td>\n",
       "    </tr>\n",
       "    <tr>\n",
       "      <th>freq</th>\n",
       "      <td>NaN</td>\n",
       "      <td>NaN</td>\n",
       "      <td>NaN</td>\n",
       "      <td>NaN</td>\n",
       "      <td>NaN</td>\n",
       "      <td>3</td>\n",
       "    </tr>\n",
       "    <tr>\n",
       "      <th>mean</th>\n",
       "      <td>84.80000</td>\n",
       "      <td>86.600000</td>\n",
       "      <td>49.000000</td>\n",
       "      <td>5.908000</td>\n",
       "      <td>-0.760000</td>\n",
       "      <td>NaN</td>\n",
       "    </tr>\n",
       "    <tr>\n",
       "      <th>std</th>\n",
       "      <td>13.38656</td>\n",
       "      <td>8.173127</td>\n",
       "      <td>14.142136</td>\n",
       "      <td>4.148128</td>\n",
       "      <td>4.200357</td>\n",
       "      <td>NaN</td>\n",
       "    </tr>\n",
       "    <tr>\n",
       "      <th>min</th>\n",
       "      <td>65.00000</td>\n",
       "      <td>79.000000</td>\n",
       "      <td>39.000000</td>\n",
       "      <td>0.120000</td>\n",
       "      <td>-5.400000</td>\n",
       "      <td>NaN</td>\n",
       "    </tr>\n",
       "    <tr>\n",
       "      <th>25%</th>\n",
       "      <td>79.00000</td>\n",
       "      <td>79.000000</td>\n",
       "      <td>44.000000</td>\n",
       "      <td>4.220000</td>\n",
       "      <td>-3.300000</td>\n",
       "      <td>NaN</td>\n",
       "    </tr>\n",
       "    <tr>\n",
       "      <th>50%</th>\n",
       "      <td>87.00000</td>\n",
       "      <td>85.000000</td>\n",
       "      <td>49.000000</td>\n",
       "      <td>5.430000</td>\n",
       "      <td>-2.100000</td>\n",
       "      <td>NaN</td>\n",
       "    </tr>\n",
       "    <tr>\n",
       "      <th>75%</th>\n",
       "      <td>94.00000</td>\n",
       "      <td>93.000000</td>\n",
       "      <td>54.000000</td>\n",
       "      <td>9.330000</td>\n",
       "      <td>2.000000</td>\n",
       "      <td>NaN</td>\n",
       "    </tr>\n",
       "    <tr>\n",
       "      <th>max</th>\n",
       "      <td>99.00000</td>\n",
       "      <td>97.000000</td>\n",
       "      <td>59.000000</td>\n",
       "      <td>10.440000</td>\n",
       "      <td>5.000000</td>\n",
       "      <td>NaN</td>\n",
       "    </tr>\n",
       "  </tbody>\n",
       "</table>\n",
       "</div>"
      ],
      "text/plain": [
       "          score1     score2     score3     weight      diff place\n",
       "count    5.00000   5.000000   2.000000   5.000000  5.000000     5\n",
       "unique       NaN        NaN        NaN        NaN       NaN     2\n",
       "top          NaN        NaN        NaN        NaN       NaN     A\n",
       "freq         NaN        NaN        NaN        NaN       NaN     3\n",
       "mean    84.80000  86.600000  49.000000   5.908000 -0.760000   NaN\n",
       "std     13.38656   8.173127  14.142136   4.148128  4.200357   NaN\n",
       "min     65.00000  79.000000  39.000000   0.120000 -5.400000   NaN\n",
       "25%     79.00000  79.000000  44.000000   4.220000 -3.300000   NaN\n",
       "50%     87.00000  85.000000  49.000000   5.430000 -2.100000   NaN\n",
       "75%     94.00000  93.000000  54.000000   9.330000  2.000000   NaN\n",
       "max     99.00000  97.000000  59.000000  10.440000  5.000000   NaN"
      ]
     },
     "execution_count": 7,
     "metadata": {},
     "output_type": "execute_result"
    }
   ],
   "source": [
    "data.describe(include='all')"
   ]
  },
  {
   "cell_type": "markdown",
   "id": "7911393c-bbf9-4dda-b54a-3dfd3fda249d",
   "metadata": {},
   "source": [
    "### 중심경향치 확인\n",
    "  - mean() : 산술평균\n",
    "  - trim_mean() : 절사평균\n",
    "  - np.average(weight=) : 가중평균\n",
    "  - median() : 중앙값\n",
    "  - mode() : 최빈수"
   ]
  },
  {
   "cell_type": "code",
   "execution_count": 29,
   "id": "4e3aed76-c450-446d-817b-f96f9f38614f",
   "metadata": {},
   "outputs": [],
   "source": [
    "import warnings\n",
    "warnings.filterwarnings(action='ignore', category=FutureWarning)"
   ]
  },
  {
   "cell_type": "code",
   "execution_count": 38,
   "id": "3f8474ca-779f-4a50-bccf-cb9c74a0e2c4",
   "metadata": {},
   "outputs": [
    {
     "name": "stdout",
     "output_type": "stream",
     "text": [
      "한 변수: 84.8\n",
      "\n",
      "전체: \n",
      "score1    84.800\n",
      "score2    86.600\n",
      "score3    49.000\n",
      "weight     5.908\n",
      "diff      -0.760\n",
      "dtype: float64\n",
      "\n",
      "score2의 절사평균: 86.6\n",
      "\n",
      "score2의 가중평균: 86.01760324983074\n"
     ]
    }
   ],
   "source": [
    "# 한 변수의 평균\n",
    "print(f'한 변수: {data[\"score1\"].mean()}')\n",
    "\n",
    "# 데이터프레임 전체 평균\n",
    "print(f'\\n전체: \\n{data.mean()}')\n",
    "\n",
    "# 절사평균\n",
    "from scipy.stats import trim_mean\n",
    "print(f'\\nscore2의 절사평균: {trim_mean(data[\"score2\"], 0.1)}')  # 양쪽 끝에서 10%를 제거한 평균값\n",
    "\n",
    "# 가중평균\n",
    "import numpy as np\n",
    "print(f'\\nscore2의 가중평균: {np.average(data[\"score2\"], weights=data[\"weight\"])}')"
   ]
  },
  {
   "cell_type": "code",
   "execution_count": 39,
   "id": "19d15390-33b3-491d-aaa6-c401aadb1d65",
   "metadata": {},
   "outputs": [
    {
     "name": "stdout",
     "output_type": "stream",
     "text": [
      "85.0\n",
      "300.0\n"
     ]
    }
   ],
   "source": [
    "# 중앙값\n",
    "## 데이터 개수 : 홀수\n",
    "print(data['score2'].median())\n",
    "\n",
    "## 데이터 개수 : 짝수\n",
    "x = [100, 600, 100, 200, 400, 500]\n",
    "print(np.median(x))"
   ]
  },
  {
   "cell_type": "code",
   "execution_count": 40,
   "id": "8e9479de-eb00-4518-b8b9-23a1c2537931",
   "metadata": {},
   "outputs": [
    {
     "data": {
      "text/plain": [
       "0    79\n",
       "Name: score2, dtype: int64"
      ]
     },
     "execution_count": 40,
     "metadata": {},
     "output_type": "execute_result"
    }
   ],
   "source": [
    "# 최빈값\n",
    "data['score2'].mode()"
   ]
  },
  {
   "cell_type": "markdown",
   "id": "52d333b1-eeb6-4b4c-99a8-c5ad2f430425",
   "metadata": {},
   "source": [
    "### 산포도\n",
    "  - max() - min() : 범위 ( range )\n",
    "  - var() : 분산(variance)\n",
    "  - std() : 표준편차 (standard deviation)\n",
    "  - quantile(0.75) - quantile(0.25) : 사분위수 범위"
   ]
  },
  {
   "cell_type": "code",
   "execution_count": 41,
   "id": "36903099-f624-4d68-8b9f-82bb645f1a81",
   "metadata": {},
   "outputs": [
    {
     "data": {
      "text/plain": [
       "18"
      ]
     },
     "execution_count": 41,
     "metadata": {},
     "output_type": "execute_result"
    }
   ],
   "source": [
    "# 범위\n",
    "data['score2'].max() - data['score2'].min()"
   ]
  },
  {
   "cell_type": "code",
   "execution_count": 42,
   "id": "5497cb86-49b6-403d-9905-1642db7eb9c3",
   "metadata": {},
   "outputs": [
    {
     "name": "stdout",
     "output_type": "stream",
     "text": [
      "score2의 분산 : 66.8\n",
      "score2의 표준편차 : 8.17312669668102\n"
     ]
    }
   ],
   "source": [
    "# 분산\n",
    "print(f'score2의 분산 : {data[\"score2\"].var()}')\n",
    "# 표준편차\n",
    "print(f'score2의 표준편차 : {data[\"score2\"].std()}')"
   ]
  },
  {
   "cell_type": "code",
   "execution_count": 44,
   "id": "d4b67766-e8b9-432c-8423-762706a20863",
   "metadata": {},
   "outputs": [
    {
     "name": "stdout",
     "output_type": "stream",
     "text": [
      "14.0\n"
     ]
    }
   ],
   "source": [
    "# 사분위수 범위\n",
    "print(data[\"score2\"].quantile(0.75) - data[\"score2\"].quantile(0.25))"
   ]
  },
  {
   "cell_type": "code",
   "execution_count": 47,
   "id": "35437143-01eb-4e4a-9fc0-41de25f0f3ab",
   "metadata": {},
   "outputs": [
    {
     "name": "stdout",
     "output_type": "stream",
     "text": [
      "score1의 CV계수 : 0.158\n",
      "score2의 CV계수 : 0.094\n"
     ]
    }
   ],
   "source": [
    "# 변동 계수\n",
    "# 표준편차를 평균으로 나눈 값\n",
    "cv1 = data['score1'].std() / data['score1'].mean()\n",
    "cv2 = data['score2'].std() / data['score2'].mean()\n",
    "\n",
    "print(f'score1의 CV계수 : {np.round(cv1, 3)}')\n",
    "print(f'score2의 CV계수 : {np.round(cv2, 3)}')"
   ]
  },
  {
   "cell_type": "markdown",
   "id": "1cebd07a-4718-4601-b8c6-b3fbcaf26b05",
   "metadata": {},
   "source": [
    "### 비대칭도\n",
    "- skew() : 왜도\n",
    "- kurtosis() : 첨도"
   ]
  },
  {
   "cell_type": "code",
   "execution_count": 1,
   "id": "511fc651-e310-4de3-a294-2f659c114f32",
   "metadata": {},
   "outputs": [],
   "source": [
    "import warnings\n",
    "warnings.simplefilter(action='ignore', category=FutureWarning)   # FutureWarning 제거\n",
    "import pandas as pd\n",
    "import numpy as np\n",
    "from scipy import stats\n",
    "import matplotlib.pyplot as plt\n",
    "import seaborn as sns\n",
    "%matplotlib inline\n",
    "\n",
    "import os\n",
    "if os.name == 'nt':\n",
    "    font_family = 'Malgun Gothic'\n",
    "\n",
    "sns.set(font=font_family, rc={'axes.unicode_minus' : False})"
   ]
  },
  {
   "cell_type": "code",
   "execution_count": 16,
   "id": "32fdbe5f-819b-45d4-8bf7-0c634e78e2e0",
   "metadata": {},
   "outputs": [
    {
     "name": "stdout",
     "output_type": "stream",
     "text": [
      "1.6656293067949786\n",
      "-1.1156146358524315\n"
     ]
    }
   ],
   "source": [
    "# 왜도 산출\n",
    "from scipy.stats import skew\n",
    "\n",
    "skew_list1 = [1, 1, 1, 1, 1, 1, 1, 1, 1, 1, 1, 2, 2, 2, 2, 2, 3, 4, 5]\n",
    "skew_list2 = [1, 2, 3, 3, 4, 4, 5, 5, 5, 5, 6, 6, 6, 6, 6, 6, 6, 6, 6]\n",
    "\n",
    "print(skew(skew_list1))\n",
    "print(skew(skew_list2))"
   ]
  },
  {
   "cell_type": "code",
   "execution_count": 11,
   "id": "b9e01704-9c3c-4c16-80ac-43bdf44f8daf",
   "metadata": {},
   "outputs": [],
   "source": [
    "import scipy.stats"
   ]
  },
  {
   "cell_type": "code",
   "execution_count": 21,
   "id": "87404f65-46df-4d73-b2c0-34cc8f64514e",
   "metadata": {},
   "outputs": [
    {
     "name": "stdout",
     "output_type": "stream",
     "text": [
      "왜도가 0이상일 때의 평균 : 1.736842105263158\n",
      "왜도가 0이상일 때의 최빈값 : 1\n",
      "왜도가 0이상일 때의 중간값 : 1.0\n",
      "왜도가 0이상일 때, 그래프는 우측으로 늘어진 형태를 보인다.\n",
      "다시 말해 좌측에 값이 몰려있다는 뜻이므로 최빈값이 좌측에 있다는 말이다.\n",
      "왜도가 0이상일 때, 최빈값 =< 중간값 < 평균\n",
      "============================================================\n",
      "왜도가 0이하일 때의 평균 : 4.7894736842105265\n",
      "왜도가 0이하일 때의 최빈값 : 6\n",
      "왜도가 0이하일 때의 중간값 : 5.0\n",
      "왜도가 0이하일 때, 그래프는 좌측으로 늘어진 형태를 보인다.\n",
      "다시 말해 우측에 값이 몰려있다는 뜻이므로 최빈값이 우측에 있다는 말이다.\n",
      "왜도가 0이하일 때, 평균 < 중간값 =< 최빈값\n"
     ]
    }
   ],
   "source": [
    "print(f'왜도가 0이상일 때의 평균 : {np.mean(skew_list1)}')\n",
    "print(f'왜도가 0이상일 때의 최빈값 : {stats.mode(skew_list1)[0][0]}')\n",
    "print(f'왜도가 0이상일 때의 중간값 : {np.median(skew_list1)}')\n",
    "print('왜도가 0이상일 때, 그래프는 우측으로 늘어진 형태를 보인다.')\n",
    "print('다시 말해 좌측에 값이 몰려있다는 뜻이므로 최빈값이 좌측에 있다는 말이다.')\n",
    "print('왜도가 0이상일 때, 최빈값 =< 중간값 < 평균')\n",
    "print('='*60)\n",
    "print(f'왜도가 0이하일 때의 평균 : {np.mean(skew_list2)}')\n",
    "print(f'왜도가 0이하일 때의 최빈값 : {stats.mode(skew_list2)[0][0]}')\n",
    "print(f'왜도가 0이하일 때의 중간값 : {np.median(skew_list2)}')\n",
    "print('왜도가 0이하일 때, 그래프는 좌측으로 늘어진 형태를 보인다.')\n",
    "print('다시 말해 우측에 값이 몰려있다는 뜻이므로 최빈값이 우측에 있다는 말이다.')\n",
    "print('왜도가 0이하일 때, 평균 < 중간값 =< 최빈값')"
   ]
  },
  {
   "cell_type": "code",
   "execution_count": 18,
   "id": "dd35aab6-fc1b-41f7-821b-d0e859715020",
   "metadata": {},
   "outputs": [
    {
     "data": {
      "image/png": "[encoded data removed]",
      "text/plain": [
       "<Figure size 864x432 with 2 Axes>"
      ]
     },
     "metadata": {},
     "output_type": "display_data"
    }
   ],
   "source": [
    "# 왜도 시각화\n",
    "plt.figure(figsize=(12, 6))\n",
    "plt.subplot(1, 2, 1)\n",
    "dist_plot = sns.distplot(skew_list1)\n",
    "plt.title('우측 꼬리 분포, 왜도 > 0', fontsize=16)\n",
    "\n",
    "plt.subplot(1, 2, 2)\n",
    "dist_plot = sns.distplot(skew_list2)\n",
    "plt.title('좌측 꼬리 분포, 왜도 < 0', fontsize=16)\n",
    "\n",
    "plt.show()"
   ]
  },
  {
   "cell_type": "code",
   "execution_count": 4,
   "id": "bf17a2d3-db01-46ef-95d1-a38d92f4325e",
   "metadata": {
    "collapsed": true,
    "jupyter": {
     "outputs_hidden": true
    },
    "tags": []
   },
   "outputs": [
    {
     "name": "stdout",
     "output_type": "stream",
     "text": [
      "-1.2242424242424244\n",
      "2.351887069895106\n"
     ]
    }
   ],
   "source": [
    "# 첨도 산출\n",
    "from scipy.stats import kurtosis\n",
    "\n",
    "kur_list1 = [1, 2, 3, 4, 5, 6, 7, 8, 9, 10]\n",
    "kur_list2 = [1, 2, 3, 4, 5, 5, 5, 5, 5, 5, 5, 5,\n",
    "             5, 5, 5, 5, 5, 5, 5, 5, 5, 5, 5, 5,\n",
    "             5, 6, 7, 8, 9, 10]\n",
    "\n",
    "print(kurtosis(kur_list1))\n",
    "print(kurtosis(kur_list2))"
   ]
  },
  {
   "cell_type": "code",
   "execution_count": 5,
   "id": "79a3b7f6-7b7c-4f7d-b9ad-9a6d3f5d87da",
   "metadata": {},
   "outputs": [
    {
     "data": {
      "image/png": "[encoded data removed]",
      "text/plain": [
       "<Figure size 1440x432 with 2 Axes>"
      ]
     },
     "metadata": {},
     "output_type": "display_data"
    }
   ],
   "source": [
    "# 첨도 시각화\n",
    "plt.figure(figsize=(20, 6))\n",
    "plt.subplot(1, 2, 1)\n",
    "dist_plot = sns.distplot(kur_list1)\n",
    "plt.title('첨도 < 0', fontsize=16)\n",
    "\n",
    "plt.subplot(1, 2, 2)\n",
    "dist_plot = sns.distplot(kur_list2)\n",
    "plt.title('첨도 > 0', fontsize=16)\n",
    "\n",
    "plt.show()"
   ]
  },
  {
   "cell_type": "code",
   "execution_count": 39,
   "id": "2e7167ff-65a5-4b9f-a86c-02bba58f5229",
   "metadata": {},
   "outputs": [
    {
     "data": {
      "text/plain": [
       "array([ 6,  9,  4, 12, 17,  4, 17,  5, 12,  4])"
      ]
     },
     "execution_count": 39,
     "metadata": {},
     "output_type": "execute_result"
    }
   ],
   "source": [
    "np.random.choice(np.arange(20), size=10, replace=True)"
   ]
  },
  {
   "cell_type": "code",
   "execution_count": 54,
   "id": "76d90869-3e27-40db-8a35-801dee10f578",
   "metadata": {},
   "outputs": [],
   "source": [
    "y = np.random.randn(10)"
   ]
  },
  {
   "cell_type": "code",
   "execution_count": 55,
   "id": "8273db09-35ec-4212-b5a3-a6d32da4717d",
   "metadata": {},
   "outputs": [
    {
     "data": {
      "text/plain": [
       "[<matplotlib.lines.Line2D at 0x28e1b3b9a00>]"
      ]
     },
     "execution_count": 55,
     "metadata": {},
     "output_type": "execute_result"
    },
    {
     "data": {
      "image/png": "[encoded data removed]",
      "text/plain": [
       "<Figure size 432x288 with 1 Axes>"
      ]
     },
     "metadata": {},
     "output_type": "display_data"
    }
   ],
   "source": [
    "plt.plot(np.linspace(-2, 2, 10), y)"
   ]
  },
  {
   "cell_type": "code",
   "execution_count": 56,
   "id": "bbe69356-9a08-47d0-ab0b-db40de27b1e7",
   "metadata": {},
   "outputs": [
    {
     "data": {
      "text/plain": [
       "-0.28362489232047583"
      ]
     },
     "execution_count": 56,
     "metadata": {},
     "output_type": "execute_result"
    }
   ],
   "source": [
    "y.mean()"
   ]
  },
  {
   "cell_type": "code",
   "execution_count": 57,
   "id": "4a928c64-f6a4-40d9-8063-b72a89bae75a",
   "metadata": {},
   "outputs": [
    {
     "data": {
      "text/plain": [
       "0.8500342193040138"
      ]
     },
     "execution_count": 57,
     "metadata": {},
     "output_type": "execute_result"
    }
   ],
   "source": [
    "y.std()"
   ]
  },
  {
   "cell_type": "code",
   "execution_count": 53,
   "id": "985565cf-682f-4c33-b4ed-55b28f959c02",
   "metadata": {},
   "outputs": [],
   "source": [
    "x = np.linspace(-8, 8, 1000)"
   ]
  },
  {
   "cell_type": "code",
   "execution_count": 59,
   "id": "d162bce7-df59-4d7b-bf93-62fc95f6c69b",
   "metadata": {},
   "outputs": [],
   "source": [
    "sigma = 1"
   ]
  },
  {
   "cell_type": "code",
   "execution_count": 61,
   "id": "9c14032b-3281-4178-b067-2d29d7640706",
   "metadata": {},
   "outputs": [],
   "source": [
    "mu = 0"
   ]
  },
  {
   "cell_type": "code",
   "execution_count": 62,
   "id": "8fe38529-15f5-43cb-81bd-eb6c7036163f",
   "metadata": {},
   "outputs": [],
   "source": [
    "y2 = (1 / np.sqrt(2 * np.pi * sigma**2)) * np.exp(-(x-mu)**2 / (2 * sigma**2))"
   ]
  },
  {
   "cell_type": "code",
   "execution_count": 63,
   "id": "5cba37a8-d04c-4905-b7dd-a5b00bd6d29c",
   "metadata": {
    "collapsed": true,
    "jupyter": {
     "outputs_hidden": true
    },
    "tags": []
   },
   "outputs": [
    {
     "data": {
      "text/plain": [
       "array([5.05227108e-15, 5.74217313e-15, 6.52460942e-15, 7.41176008e-15,\n",
       "       8.41737711e-15, 9.55698301e-15, 1.08480940e-14, 1.23104709e-14,\n",
       "       1.39664005e-14, 1.58410116e-14, 1.79626303e-14, 2.03631776e-14,\n",
       "       2.30786161e-14, 2.61494511e-14, 2.96212913e-14, 3.35454789e-14,\n",
       "       3.79797938e-14, 4.29892440e-14, 4.86469493e-14, 5.50351318e-14,\n",
       "       6.22462237e-14, 7.03841071e-14, 7.95655007e-14, 8.99215102e-14,\n",
       "       1.01599362e-13, 1.14764342e-13, 1.29601956e-13, 1.46320353e-13,\n",
       "       1.65153021e-13, 1.86361802e-13, 2.10240257e-13, 2.37117417e-13,\n",
       "       2.67361968e-13, 3.01386920e-13, 3.39654810e-13, 3.82683499e-13,\n",
       "       4.31052633e-13, 4.85410834e-13, 5.46483717e-13, 6.15082803e-13,\n",
       "       6.92115446e-13, 7.78595871e-13, 8.75657455e-13, 9.84566375e-13,\n",
       "       1.10673679e-12, 1.24374771e-12, 1.39736171e-12, 1.56954576e-12,\n",
       "       1.76249430e-12, 1.97865492e-12, 2.22075678e-12, 2.49184216e-12,\n",
       "       2.79530153e-12, 3.13491227e-12, 3.51488175e-12, 3.93989497e-12,\n",
       "       4.41516734e-12, 4.94650315e-12, 5.54036031e-12, 6.20392197e-12,\n",
       "       6.94517578e-12, 7.77300157e-12, 8.69726827e-12, 9.72894113e-12,\n",
       "       1.08802001e-11, 1.21645707e-11, 1.35970686e-11, 1.51943593e-11,\n",
       "       1.69749338e-11, 1.89593038e-11, 2.11702156e-11, 2.36328867e-11,\n",
       "       2.63752669e-11, 2.94283255e-11, 3.28263683e-11, 3.66073862e-11,\n",
       "       4.08134402e-11, 4.54910837e-11, 5.06918290e-11, 5.64726590e-11,\n",
       "       6.28965914e-11, 7.00332985e-11, 7.79597883e-11, 8.67611538e-11,\n",
       "       9.65313954e-11, 1.07374325e-10, 1.19404559e-10, 1.32748606e-10,\n",
       "       1.47546063e-10, 1.63950928e-10, 1.82133038e-10, 2.02279645e-10,\n",
       "       2.24597145e-10, 2.49312974e-10, 2.76677679e-10, 3.06967195e-10,\n",
       "       3.40485331e-10, 3.77566491e-10, 4.18578657e-10, 4.63926643e-10,\n",
       "       5.14055661e-10, 5.69455218e-10, 6.30663366e-10, 6.98271361e-10,\n",
       "       7.72928736e-10, 8.55348850e-10, 9.46314937e-10, 1.04668672e-09,\n",
       "       1.15740760e-09, 1.27951252e-09, 1.41413657e-09, 1.56252423e-09,\n",
       "       1.72603965e-09, 1.90617765e-09, 2.10457582e-09, 2.32302764e-09,\n",
       "       2.56349678e-09, 2.82813263e-09, 3.11928723e-09, 3.43953363e-09,\n",
       "       3.79168588e-09, 4.17882072e-09, 4.60430119e-09, 5.07180222e-09,\n",
       "       5.58533841e-09, 6.14929420e-09, 6.76845662e-09, 7.44805072e-09,\n",
       "       8.19377812e-09, 9.01185865e-09, 9.90907558e-09, 1.08928245e-08,\n",
       "       1.19711666e-08, 1.31528854e-08, 1.44475497e-08, 1.58655802e-08,\n",
       "       1.74183220e-08, 1.91181238e-08, 2.09784223e-08, 2.30138339e-08,\n",
       "       2.52402541e-08, 2.76749643e-08, 3.03367473e-08, 3.32460120e-08,\n",
       "       3.64249276e-08, 3.98975691e-08, 4.36900732e-08, 4.78308068e-08,\n",
       "       5.23505488e-08, 5.72826853e-08, 6.26634204e-08, 6.85320026e-08,\n",
       "       7.49309686e-08, 8.19064058e-08, 8.95082339e-08, 9.77905088e-08,\n",
       "       1.06811748e-07, 1.16635280e-07, 1.27329621e-07, 1.38968879e-07,\n",
       "       1.51633187e-07, 1.65409165e-07, 1.80390421e-07, 1.96678086e-07,\n",
       "       2.14381384e-07, 2.33618251e-07, 2.54515984e-07, 2.77211955e-07,\n",
       "       3.01854355e-07, 3.28603008e-07, 3.57630229e-07, 3.89121749e-07,\n",
       "       4.23277699e-07, 4.60313665e-07, 5.00461814e-07, 5.43972095e-07,\n",
       "       5.91113524e-07, 6.42175552e-07, 6.97469527e-07, 7.57330252e-07,\n",
       "       8.22117648e-07, 8.92218522e-07, 9.68048455e-07, 1.05005381e-06,\n",
       "       1.13871388e-06, 1.23454313e-06, 1.33809369e-06, 1.44995783e-06,\n",
       "       1.57077081e-06, 1.70121369e-06, 1.84201649e-06, 1.99396144e-06,\n",
       "       2.15788649e-06, 2.33468899e-06, 2.52532961e-06, 2.73083654e-06,\n",
       "       2.95230987e-06, 3.19092626e-06, 3.44794395e-06, 3.72470792e-06,\n",
       "       4.02265555e-06, 4.34332241e-06, 4.68834852e-06, 5.05948493e-06,\n",
       "       5.45860065e-06, 5.88769001e-06, 6.34888042e-06, 6.84444057e-06,\n",
       "       7.37678905e-06, 7.94850350e-06, 8.56233022e-06, 9.22119432e-06,\n",
       "       9.92821042e-06, 1.06866939e-05, 1.15001728e-05, 1.23724002e-05,\n",
       "       1.33073674e-05, 1.43093181e-05, 1.53827621e-05, 1.65324915e-05,\n",
       "       1.77635961e-05, 1.90814806e-05, 2.04918821e-05, 2.20008888e-05,\n",
       "       2.36149592e-05, 2.53409430e-05, 2.71861020e-05, 2.91581328e-05,\n",
       "       3.12651902e-05, 3.35159118e-05, 3.59194436e-05, 3.84854670e-05,\n",
       "       4.12242267e-05, 4.41465605e-05, 4.72639296e-05, 5.05884505e-05,\n",
       "       5.41329291e-05, 5.79108946e-05, 6.19366368e-05, 6.62252432e-05,\n",
       "       7.07926391e-05, 7.56556282e-05, 8.08319355e-05, 8.63402522e-05,\n",
       "       9.22002811e-05, 9.84327856e-05, 1.05059639e-04, 1.12103876e-04,\n",
       "       1.19589749e-04, 1.27542779e-04, 1.35989819e-04, 1.44959110e-04,\n",
       "       1.54480345e-04, 1.64584732e-04, 1.75305062e-04, 1.86675776e-04,\n",
       "       1.98733039e-04, 2.11514809e-04, 2.25060916e-04, 2.39413140e-04,\n",
       "       2.54615291e-04, 2.70713292e-04, 2.87755262e-04, 3.05791612e-04,\n",
       "       3.24875124e-04, 3.45061056e-04, 3.66407230e-04, 3.88974131e-04,\n",
       "       4.12825011e-04, 4.38025992e-04, 4.64646169e-04, 4.92757720e-04,\n",
       "       5.22436019e-04, 5.53759747e-04, 5.86811010e-04, 6.21675456e-04,\n",
       "       6.58442397e-04, 6.97204933e-04, 7.38060075e-04, 7.81108876e-04,\n",
       "       8.26456558e-04, 8.74212649e-04, 9.24491110e-04, 9.77410479e-04,\n",
       "       1.03309400e-03, 1.09166978e-03, 1.15327090e-03, 1.21803558e-03,\n",
       "       1.28610734e-03, 1.35763509e-03, 1.43277334e-03, 1.51168230e-03,\n",
       "       1.59452804e-03, 1.68148265e-03, 1.77272438e-03, 1.86843780e-03,\n",
       "       1.96881391e-03, 2.07405033e-03, 2.18435143e-03, 2.29992847e-03,\n",
       "       2.42099976e-03, 2.54779077e-03, 2.68053432e-03, 2.81947067e-03,\n",
       "       2.96484770e-03, 3.11692100e-03, 3.27595403e-03, 3.44221823e-03,\n",
       "       3.61599315e-03, 3.79756658e-03, 3.98723462e-03, 4.18530185e-03,\n",
       "       4.39208136e-03, 4.60789490e-03, 4.83307297e-03, 5.06795485e-03,\n",
       "       5.31288872e-03, 5.56823172e-03, 5.83435000e-03, 6.11161876e-03,\n",
       "       6.40042230e-03, 6.70115405e-03, 7.01421659e-03, 7.34002164e-03,\n",
       "       7.67899008e-03, 8.03155191e-03, 8.39814623e-03, 8.77922122e-03,\n",
       "       9.17523402e-03, 9.58665075e-03, 1.00139463e-02, 1.04576045e-02,\n",
       "       1.09181174e-02, 1.13959860e-02, 1.18917194e-02, 1.24058349e-02,\n",
       "       1.29388577e-02, 1.34913210e-02, 1.40637654e-02, 1.46567388e-02,\n",
       "       1.52707962e-02, 1.59064994e-02, 1.65644165e-02, 1.72451219e-02,\n",
       "       1.79491957e-02, 1.86772234e-02, 1.94297957e-02, 2.02075077e-02,\n",
       "       2.10109587e-02, 2.18407518e-02, 2.26974932e-02, 2.35817920e-02,\n",
       "       2.44942594e-02, 2.54355082e-02, 2.64061522e-02, 2.74068059e-02,\n",
       "       2.84380834e-02, 2.95005981e-02, 3.05949619e-02, 3.17217844e-02,\n",
       "       3.28816726e-02, 3.40752295e-02, 3.53030540e-02, 3.65657396e-02,\n",
       "       3.78638739e-02, 3.91980377e-02, 4.05688040e-02, 4.19767375e-02,\n",
       "       4.34223932e-02, 4.49063160e-02, 4.64290394e-02, 4.79910848e-02,\n",
       "       4.95929603e-02, 5.12351601e-02, 5.29181630e-02, 5.46424319e-02,\n",
       "       5.64084125e-02, 5.82165324e-02, 6.00671999e-02, 6.19608032e-02,\n",
       "       6.38977092e-02, 6.58782624e-02, 6.79027841e-02, 6.99715710e-02,\n",
       "       7.20848943e-02, 7.42429988e-02, 7.64461015e-02, 7.86943908e-02,\n",
       "       8.09880254e-02, 8.33271334e-02, 8.57118108e-02, 8.81421210e-02,\n",
       "       9.06180936e-02, 9.31397235e-02, 9.57069695e-02, 9.83197540e-02,\n",
       "       1.00977962e-01, 1.03681438e-01, 1.06429991e-01, 1.09223386e-01,\n",
       "       1.12061348e-01, 1.14943562e-01, 1.17869666e-01, 1.20839260e-01,\n",
       "       1.23851895e-01, 1.26907080e-01, 1.30004279e-01, 1.33142909e-01,\n",
       "       1.36322340e-01, 1.39541897e-01, 1.42800856e-01, 1.46098445e-01,\n",
       "       1.49433847e-01, 1.52806194e-01, 1.56214570e-01, 1.59658011e-01,\n",
       "       1.63135504e-01, 1.66645988e-01, 1.70188352e-01, 1.73761438e-01,\n",
       "       1.77364038e-01, 1.80994898e-01, 1.84652713e-01, 1.88336135e-01,\n",
       "       1.92043765e-01, 1.95774160e-01, 1.99525828e-01, 2.03297236e-01,\n",
       "       2.07086803e-01, 2.10892906e-01, 2.14713879e-01, 2.18548012e-01,\n",
       "       2.22393557e-01, 2.26248725e-01, 2.30111688e-01, 2.33980580e-01,\n",
       "       2.37853500e-01, 2.41728512e-01, 2.45603645e-01, 2.49476897e-01,\n",
       "       2.53346237e-01, 2.57209604e-01, 2.61064910e-01, 2.64910042e-01,\n",
       "       2.68742862e-01, 2.72561212e-01, 2.76362914e-01, 2.80145773e-01,\n",
       "       2.83907576e-01, 2.87646099e-01, 2.91359104e-01, 2.95044344e-01,\n",
       "       2.98699568e-01, 3.02322515e-01, 3.05910925e-01, 3.09462537e-01,\n",
       "       3.12975090e-01, 3.16446329e-01, 3.19874006e-01, 3.23255881e-01,\n",
       "       3.26589726e-01, 3.29873326e-01, 3.33104484e-01, 3.36281019e-01,\n",
       "       3.39400775e-01, 3.42461617e-01, 3.45461436e-01, 3.48398152e-01,\n",
       "       3.51269715e-01, 3.54074111e-01, 3.56809358e-01, 3.59473513e-01,\n",
       "       3.62064675e-01, 3.64580982e-01, 3.67020620e-01, 3.69381820e-01,\n",
       "       3.71662862e-01, 3.73862077e-01, 3.75977850e-01, 3.78008620e-01,\n",
       "       3.79952884e-01, 3.81809196e-01, 3.83576173e-01, 3.85252493e-01,\n",
       "       3.86836897e-01, 3.88328193e-01, 3.89725256e-01, 3.91027029e-01,\n",
       "       3.92232525e-01, 3.93340827e-01, 3.94351091e-01, 3.95262548e-01,\n",
       "       3.96074500e-01, 3.96786326e-01, 3.97397481e-01, 3.97907495e-01,\n",
       "       3.98315978e-01, 3.98622615e-01, 3.98827171e-01, 3.98929489e-01,\n",
       "       3.98929489e-01, 3.98827171e-01, 3.98622615e-01, 3.98315978e-01,\n",
       "       3.97907495e-01, 3.97397481e-01, 3.96786326e-01, 3.96074500e-01,\n",
       "       3.95262548e-01, 3.94351091e-01, 3.93340827e-01, 3.92232525e-01,\n",
       "       3.91027029e-01, 3.89725256e-01, 3.88328193e-01, 3.86836897e-01,\n",
       "       3.85252493e-01, 3.83576173e-01, 3.81809196e-01, 3.79952884e-01,\n",
       "       3.78008620e-01, 3.75977850e-01, 3.73862077e-01, 3.71662862e-01,\n",
       "       3.69381820e-01, 3.67020620e-01, 3.64580982e-01, 3.62064675e-01,\n",
       "       3.59473513e-01, 3.56809358e-01, 3.54074111e-01, 3.51269715e-01,\n",
       "       3.48398152e-01, 3.45461436e-01, 3.42461617e-01, 3.39400775e-01,\n",
       "       3.36281019e-01, 3.33104484e-01, 3.29873326e-01, 3.26589726e-01,\n",
       "       3.23255881e-01, 3.19874006e-01, 3.16446329e-01, 3.12975090e-01,\n",
       "       3.09462537e-01, 3.05910925e-01, 3.02322515e-01, 2.98699568e-01,\n",
       "       2.95044344e-01, 2.91359104e-01, 2.87646099e-01, 2.83907576e-01,\n",
       "       2.80145773e-01, 2.76362914e-01, 2.72561212e-01, 2.68742862e-01,\n",
       "       2.64910042e-01, 2.61064910e-01, 2.57209604e-01, 2.53346237e-01,\n",
       "       2.49476897e-01, 2.45603645e-01, 2.41728512e-01, 2.37853500e-01,\n",
       "       2.33980580e-01, 2.30111688e-01, 2.26248725e-01, 2.22393557e-01,\n",
       "       2.18548012e-01, 2.14713879e-01, 2.10892906e-01, 2.07086803e-01,\n",
       "       2.03297236e-01, 1.99525828e-01, 1.95774160e-01, 1.92043765e-01,\n",
       "       1.88336135e-01, 1.84652713e-01, 1.80994898e-01, 1.77364038e-01,\n",
       "       1.73761438e-01, 1.70188352e-01, 1.66645988e-01, 1.63135504e-01,\n",
       "       1.59658011e-01, 1.56214570e-01, 1.52806194e-01, 1.49433847e-01,\n",
       "       1.46098445e-01, 1.42800856e-01, 1.39541897e-01, 1.36322340e-01,\n",
       "       1.33142909e-01, 1.30004279e-01, 1.26907080e-01, 1.23851895e-01,\n",
       "       1.20839260e-01, 1.17869666e-01, 1.14943562e-01, 1.12061348e-01,\n",
       "       1.09223386e-01, 1.06429991e-01, 1.03681438e-01, 1.00977962e-01,\n",
       "       9.83197540e-02, 9.57069695e-02, 9.31397235e-02, 9.06180936e-02,\n",
       "       8.81421210e-02, 8.57118108e-02, 8.33271334e-02, 8.09880254e-02,\n",
       "       7.86943908e-02, 7.64461015e-02, 7.42429988e-02, 7.20848943e-02,\n",
       "       6.99715710e-02, 6.79027841e-02, 6.58782624e-02, 6.38977092e-02,\n",
       "       6.19608032e-02, 6.00671999e-02, 5.82165324e-02, 5.64084125e-02,\n",
       "       5.46424319e-02, 5.29181630e-02, 5.12351601e-02, 4.95929603e-02,\n",
       "       4.79910848e-02, 4.64290394e-02, 4.49063160e-02, 4.34223932e-02,\n",
       "       4.19767375e-02, 4.05688040e-02, 3.91980377e-02, 3.78638739e-02,\n",
       "       3.65657396e-02, 3.53030540e-02, 3.40752295e-02, 3.28816726e-02,\n",
       "       3.17217844e-02, 3.05949619e-02, 2.95005981e-02, 2.84380834e-02,\n",
       "       2.74068059e-02, 2.64061522e-02, 2.54355082e-02, 2.44942594e-02,\n",
       "       2.35817920e-02, 2.26974932e-02, 2.18407518e-02, 2.10109587e-02,\n",
       "       2.02075077e-02, 1.94297957e-02, 1.86772234e-02, 1.79491957e-02,\n",
       "       1.72451219e-02, 1.65644165e-02, 1.59064994e-02, 1.52707962e-02,\n",
       "       1.46567388e-02, 1.40637654e-02, 1.34913210e-02, 1.29388577e-02,\n",
       "       1.24058349e-02, 1.18917194e-02, 1.13959860e-02, 1.09181174e-02,\n",
       "       1.04576045e-02, 1.00139463e-02, 9.58665075e-03, 9.17523402e-03,\n",
       "       8.77922122e-03, 8.39814623e-03, 8.03155191e-03, 7.67899008e-03,\n",
       "       7.34002164e-03, 7.01421659e-03, 6.70115405e-03, 6.40042230e-03,\n",
       "       6.11161876e-03, 5.83435000e-03, 5.56823172e-03, 5.31288872e-03,\n",
       "       5.06795485e-03, 4.83307297e-03, 4.60789490e-03, 4.39208136e-03,\n",
       "       4.18530185e-03, 3.98723462e-03, 3.79756658e-03, 3.61599315e-03,\n",
       "       3.44221823e-03, 3.27595403e-03, 3.11692100e-03, 2.96484770e-03,\n",
       "       2.81947067e-03, 2.68053432e-03, 2.54779077e-03, 2.42099976e-03,\n",
       "       2.29992847e-03, 2.18435143e-03, 2.07405033e-03, 1.96881391e-03,\n",
       "       1.86843780e-03, 1.77272438e-03, 1.68148265e-03, 1.59452804e-03,\n",
       "       1.51168230e-03, 1.43277334e-03, 1.35763509e-03, 1.28610734e-03,\n",
       "       1.21803558e-03, 1.15327090e-03, 1.09166978e-03, 1.03309400e-03,\n",
       "       9.77410479e-04, 9.24491110e-04, 8.74212649e-04, 8.26456558e-04,\n",
       "       7.81108876e-04, 7.38060075e-04, 6.97204933e-04, 6.58442397e-04,\n",
       "       6.21675456e-04, 5.86811010e-04, 5.53759747e-04, 5.22436019e-04,\n",
       "       4.92757720e-04, 4.64646169e-04, 4.38025992e-04, 4.12825011e-04,\n",
       "       3.88974131e-04, 3.66407230e-04, 3.45061056e-04, 3.24875124e-04,\n",
       "       3.05791612e-04, 2.87755262e-04, 2.70713292e-04, 2.54615291e-04,\n",
       "       2.39413140e-04, 2.25060916e-04, 2.11514809e-04, 1.98733039e-04,\n",
       "       1.86675776e-04, 1.75305062e-04, 1.64584732e-04, 1.54480345e-04,\n",
       "       1.44959110e-04, 1.35989819e-04, 1.27542779e-04, 1.19589749e-04,\n",
       "       1.12103876e-04, 1.05059639e-04, 9.84327856e-05, 9.22002811e-05,\n",
       "       8.63402522e-05, 8.08319355e-05, 7.56556282e-05, 7.07926391e-05,\n",
       "       6.62252432e-05, 6.19366368e-05, 5.79108946e-05, 5.41329291e-05,\n",
       "       5.05884505e-05, 4.72639296e-05, 4.41465605e-05, 4.12242267e-05,\n",
       "       3.84854670e-05, 3.59194436e-05, 3.35159118e-05, 3.12651902e-05,\n",
       "       2.91581328e-05, 2.71861020e-05, 2.53409430e-05, 2.36149592e-05,\n",
       "       2.20008888e-05, 2.04918821e-05, 1.90814806e-05, 1.77635961e-05,\n",
       "       1.65324915e-05, 1.53827621e-05, 1.43093181e-05, 1.33073674e-05,\n",
       "       1.23724002e-05, 1.15001728e-05, 1.06866939e-05, 9.92821042e-06,\n",
       "       9.22119432e-06, 8.56233022e-06, 7.94850350e-06, 7.37678905e-06,\n",
       "       6.84444057e-06, 6.34888042e-06, 5.88769001e-06, 5.45860065e-06,\n",
       "       5.05948493e-06, 4.68834852e-06, 4.34332241e-06, 4.02265555e-06,\n",
       "       3.72470792e-06, 3.44794395e-06, 3.19092626e-06, 2.95230987e-06,\n",
       "       2.73083654e-06, 2.52532961e-06, 2.33468899e-06, 2.15788649e-06,\n",
       "       1.99396144e-06, 1.84201649e-06, 1.70121369e-06, 1.57077081e-06,\n",
       "       1.44995783e-06, 1.33809369e-06, 1.23454313e-06, 1.13871388e-06,\n",
       "       1.05005381e-06, 9.68048455e-07, 8.92218522e-07, 8.22117648e-07,\n",
       "       7.57330252e-07, 6.97469527e-07, 6.42175552e-07, 5.91113524e-07,\n",
       "       5.43972095e-07, 5.00461814e-07, 4.60313665e-07, 4.23277699e-07,\n",
       "       3.89121749e-07, 3.57630229e-07, 3.28603008e-07, 3.01854355e-07,\n",
       "       2.77211955e-07, 2.54515984e-07, 2.33618251e-07, 2.14381384e-07,\n",
       "       1.96678086e-07, 1.80390421e-07, 1.65409165e-07, 1.51633187e-07,\n",
       "       1.38968879e-07, 1.27329621e-07, 1.16635280e-07, 1.06811748e-07,\n",
       "       9.77905088e-08, 8.95082339e-08, 8.19064058e-08, 7.49309686e-08,\n",
       "       6.85320026e-08, 6.26634204e-08, 5.72826853e-08, 5.23505488e-08,\n",
       "       4.78308068e-08, 4.36900732e-08, 3.98975691e-08, 3.64249276e-08,\n",
       "       3.32460120e-08, 3.03367473e-08, 2.76749643e-08, 2.52402541e-08,\n",
       "       2.30138339e-08, 2.09784223e-08, 1.91181238e-08, 1.74183220e-08,\n",
       "       1.58655802e-08, 1.44475497e-08, 1.31528854e-08, 1.19711666e-08,\n",
       "       1.08928245e-08, 9.90907558e-09, 9.01185865e-09, 8.19377812e-09,\n",
       "       7.44805072e-09, 6.76845662e-09, 6.14929420e-09, 5.58533841e-09,\n",
       "       5.07180222e-09, 4.60430119e-09, 4.17882072e-09, 3.79168588e-09,\n",
       "       3.43953363e-09, 3.11928723e-09, 2.82813263e-09, 2.56349678e-09,\n",
       "       2.32302764e-09, 2.10457582e-09, 1.90617765e-09, 1.72603965e-09,\n",
       "       1.56252423e-09, 1.41413657e-09, 1.27951252e-09, 1.15740760e-09,\n",
       "       1.04668672e-09, 9.46314937e-10, 8.55348850e-10, 7.72928736e-10,\n",
       "       6.98271361e-10, 6.30663366e-10, 5.69455218e-10, 5.14055661e-10,\n",
       "       4.63926643e-10, 4.18578657e-10, 3.77566491e-10, 3.40485331e-10,\n",
       "       3.06967195e-10, 2.76677679e-10, 2.49312974e-10, 2.24597145e-10,\n",
       "       2.02279645e-10, 1.82133038e-10, 1.63950928e-10, 1.47546063e-10,\n",
       "       1.32748606e-10, 1.19404559e-10, 1.07374325e-10, 9.65313954e-11,\n",
       "       8.67611538e-11, 7.79597883e-11, 7.00332985e-11, 6.28965914e-11,\n",
       "       5.64726590e-11, 5.06918290e-11, 4.54910837e-11, 4.08134402e-11,\n",
       "       3.66073862e-11, 3.28263683e-11, 2.94283255e-11, 2.63752669e-11,\n",
       "       2.36328867e-11, 2.11702156e-11, 1.89593038e-11, 1.69749338e-11,\n",
       "       1.51943593e-11, 1.35970686e-11, 1.21645707e-11, 1.08802001e-11,\n",
       "       9.72894113e-12, 8.69726827e-12, 7.77300157e-12, 6.94517578e-12,\n",
       "       6.20392197e-12, 5.54036031e-12, 4.94650315e-12, 4.41516734e-12,\n",
       "       3.93989497e-12, 3.51488175e-12, 3.13491227e-12, 2.79530153e-12,\n",
       "       2.49184216e-12, 2.22075678e-12, 1.97865492e-12, 1.76249430e-12,\n",
       "       1.56954576e-12, 1.39736171e-12, 1.24374771e-12, 1.10673679e-12,\n",
       "       9.84566375e-13, 8.75657455e-13, 7.78595871e-13, 6.92115446e-13,\n",
       "       6.15082803e-13, 5.46483717e-13, 4.85410834e-13, 4.31052633e-13,\n",
       "       3.82683499e-13, 3.39654810e-13, 3.01386920e-13, 2.67361968e-13,\n",
       "       2.37117417e-13, 2.10240257e-13, 1.86361802e-13, 1.65153021e-13,\n",
       "       1.46320353e-13, 1.29601956e-13, 1.14764342e-13, 1.01599362e-13,\n",
       "       8.99215102e-14, 7.95655007e-14, 7.03841071e-14, 6.22462237e-14,\n",
       "       5.50351318e-14, 4.86469493e-14, 4.29892440e-14, 3.79797938e-14,\n",
       "       3.35454789e-14, 2.96212913e-14, 2.61494511e-14, 2.30786161e-14,\n",
       "       2.03631776e-14, 1.79626303e-14, 1.58410116e-14, 1.39664005e-14,\n",
       "       1.23104709e-14, 1.08480940e-14, 9.55698301e-15, 8.41737711e-15,\n",
       "       7.41176008e-15, 6.52460942e-15, 5.74217313e-15, 5.05227108e-15])"
      ]
     },
     "execution_count": 63,
     "metadata": {},
     "output_type": "execute_result"
    }
   ],
   "source": [
    "y2"
   ]
  },
  {
   "cell_type": "code",
   "execution_count": 65,
   "id": "5376fbbd-b5a7-4cc4-91ea-f528e993d1cb",
   "metadata": {},
   "outputs": [
    {
     "data": {
      "text/plain": [
       "[<matplotlib.lines.Line2D at 0x28e16ab96d0>]"
      ]
     },
     "execution_count": 65,
     "metadata": {},
     "output_type": "execute_result"
    },
    {
     "data": {
      "image/png": "[encoded data removed]",
      "text/plain": [
       "<Figure size 432x288 with 1 Axes>"
      ]
     },
     "metadata": {},
     "output_type": "display_data"
    }
   ],
   "source": [
    "plt.plot(x, y2)"
   ]
  },
  {
   "cell_type": "code",
   "execution_count": 69,
   "id": "c07c0b51-9183-4812-99ba-0bd90e2ce47c",
   "metadata": {},
   "outputs": [],
   "source": [
    "pdf = stats.norm.pdf(y2, x)"
   ]
  },
  {
   "cell_type": "code",
   "execution_count": 71,
   "id": "012fcb3c-ac88-4097-a7c5-0042f2ecbcc3",
   "metadata": {},
   "outputs": [
    {
     "data": {
      "text/plain": [
       "[<matplotlib.lines.Line2D at 0x28e1baa5e20>]"
      ]
     },
     "execution_count": 71,
     "metadata": {},
     "output_type": "execute_result"
    },
    {
     "data": {
      "image/png": "[encoded data removed]",
      "text/plain": [
       "<Figure size 432x288 with 1 Axes>"
      ]
     },
     "metadata": {},
     "output_type": "display_data"
    }
   ],
   "source": [
    "plt.plot(x, pdf)"
   ]
  },
  {
   "cell_type": "code",
   "execution_count": 76,
   "id": "bffbfd39-53a0-4a2a-9b8f-8d187ae4f76b",
   "metadata": {},
   "outputs": [],
   "source": [
    "fin_250 = [10000 * np.random.randn() for _ in range(250)]"
   ]
  },
  {
   "cell_type": "code",
   "execution_count": 82,
   "id": "02c62963-981c-4c12-a646-02327dfb8f8d",
   "metadata": {
    "collapsed": true,
    "jupyter": {
     "outputs_hidden": true
    },
    "tags": []
   },
   "outputs": [
    {
     "data": {
      "text/plain": [
       "array([  8730.07111263,    393.01755043,  -9223.39865006,    160.39599416,\n",
       "       -16768.72662533, -10708.57176796,  14908.40851432,  15269.87950052,\n",
       "          669.81897887,   1317.41462878,   2577.99451121,  17410.98976168,\n",
       "        10089.3720387 ,   9840.41603943,   4809.90669966,  -2023.18975535,\n",
       "        -2183.7366257 ,  -4716.56055132,   2341.12088067,  14627.07810382,\n",
       "         7965.87874671,  -3493.40422408, -10012.74706216,  -4383.71084172,\n",
       "        -5800.26258515,    479.89204823,  -1960.75855298,   7270.07224125,\n",
       "       -23465.5387206 ,   6495.94048854,   9950.93464342,  -8527.11970366,\n",
       "       -14700.08338499,  -4769.1228639 ,   3726.63682867,   -960.80000141,\n",
       "         5596.19112403,  12007.17414444,  17025.54373797,   5823.5939971 ,\n",
       "        13014.22419995,   5500.73327143,   4359.3295559 ,   -330.0402736 ,\n",
       "        17441.93853595,   3815.91272746,  -3656.01614432,  -1117.25255349,\n",
       "         1928.0574869 ,  -1690.03790648,   2835.67065369,  10656.15261673,\n",
       "         5900.40844967,   3405.8844858 ,   5396.15039791,  10235.48466894,\n",
       "        17159.14027052, -24597.08365091,  -2837.04027721,  -4487.15311339,\n",
       "        -9383.60115065,  -8212.81611799, -19065.87868904, -17607.69557967,\n",
       "         2763.85092422,   7289.07674016,   4564.09616958,  -4340.82629738,\n",
       "          131.47632206,   3989.70206226, -11905.38940172, -11477.76769097,\n",
       "        15397.63491998,   8131.90195919,   6420.58146487,  10818.76271836,\n",
       "       -12457.52115852,  14572.03440776,  -2092.94684241,   8282.10978278,\n",
       "       -13249.42681911, -15362.0386354 ,   9476.64099883,  -4915.96336647,\n",
       "        -3961.35876907, -12655.02865751,   3943.10693712,  18614.76428763,\n",
       "        11208.70046314,  -3550.30577759,   9039.68955888,  -6484.20296561,\n",
       "       -10587.71113823,    -83.4027223 ,  -2564.89711244,    146.30274838,\n",
       "       -10107.53600197,   -152.41060532,   1614.97027208,   2755.48721821,\n",
       "         3758.51337666, -24422.63330555,  -3372.42854997,  -2662.38570343,\n",
       "        -8509.88867537,  -5232.78985154,   -402.18756709, -27286.66752974,\n",
       "        -1424.7762141 ,  13576.54674564, -24551.46398047,   9018.40865841,\n",
       "        -7116.9910621 ,   2035.3248001 ,  -7549.87338541,  -1455.0089501 ,\n",
       "         8974.69681145, -16484.82166655,   6189.68652887,   4226.99940118,\n",
       "        10450.97013974,  -3310.27507958,  -2509.93264684,  -5515.23021777,\n",
       "        23533.06835317,   4488.20011222,   1240.0557396 ,  -8724.90049189,\n",
       "        -5310.56444371,  -8040.79828379,   1801.73115274,  -1224.28155864,\n",
       "          691.74718301,   3302.74755133,   9836.66847994,  20886.81752353,\n",
       "         2988.63059592,   3798.36856789,  14096.39221016,   -451.14280628,\n",
       "         4876.9421922 ,   -312.56747043,  14334.3262594 ,  -2370.53818945,\n",
       "       -13793.14493454,   4336.49151564,   7045.93977023,   3240.43864588,\n",
       "        -1742.83603743,  15592.61798139,   2112.97674973,  -5550.35297692,\n",
       "        -4153.31038665,  11167.89137423,   8982.55273199,  10815.17261725,\n",
       "         1701.13305849,   8088.82665523, -12020.79721773,  17322.03426288,\n",
       "        12910.23532901,  -6730.86618178,   3775.60113084,  -2563.9312258 ,\n",
       "         9734.93270813,   1404.43982605,   -886.10207725,   9583.33367868,\n",
       "         9110.13466244,  15910.24832513,  10794.03139798,  10540.3873256 ,\n",
       "        11886.12157965,  -6424.15462697,  -6118.18597366,   2787.53031684,\n",
       "        21088.51875527,  -5125.17023644, -14355.69254784,  -8651.88194768,\n",
       "        -4025.65915148,  -9226.5683672 ,  -9957.70046869,  23512.64531085,\n",
       "        -1920.81509037,  13016.79726158,   5432.97288122,  -2990.02519593,\n",
       "       -10362.9598032 ,   2104.86409072,   1170.24785471,  -3167.21571255,\n",
       "         5636.45550248,   7080.66117618,   7444.47162653,  32389.82705699,\n",
       "        17864.71398238,  15091.10868126,  -1617.16915068,   1692.28084221,\n",
       "         6087.3896159 ,  16390.32059972,   1419.89754673,  -5816.59578391,\n",
       "        -1980.65835902,  19646.13187389,  -4700.57838098,  -8677.37359678,\n",
       "        -4041.22053355, -11665.75828755, -12110.76525498, -10573.94249782,\n",
       "        -5130.46580523,  -1778.46645344,   9512.9975288 ,   1768.93821764,\n",
       "        14265.0380035 ,  -7772.25850055, -10167.07303738,   8709.90155325,\n",
       "        14267.22429093,   1619.00495246,  10325.25940996,  -7434.71524274,\n",
       "         5184.3520781 ,  -1912.73744389,  -6326.85397989, -27238.55190232,\n",
       "        -5692.77493838,  10243.6944463 ,  13268.01063409,  -2688.48297372,\n",
       "        -3080.39100862,  -4938.01211321,  -2388.21895341,  -9062.22231179,\n",
       "        -6497.55908262,  17109.74423727,   -824.91609967,  -5030.40598727,\n",
       "         3708.19901717, -16528.32813035, -14610.36467633,   6475.78995486,\n",
       "        -6467.21425377, -11877.62327999,   -750.77567744,  15422.35392902,\n",
       "         8954.12993578,  -9989.52066797])"
      ]
     },
     "execution_count": 82,
     "metadata": {},
     "output_type": "execute_result"
    }
   ],
   "source": [
    "arr_fin_250 = np.array(fin_250)\n",
    "arr_fin_250"
   ]
  },
  {
   "cell_type": "code",
   "execution_count": 83,
   "id": "b039ac78-73ae-4d86-8c52-8d93d624eae6",
   "metadata": {},
   "outputs": [
    {
     "data": {
      "text/plain": [
       "964.5559319020081"
      ]
     },
     "execution_count": 83,
     "metadata": {},
     "output_type": "execute_result"
    }
   ],
   "source": [
    "arr_fin_250.mean()"
   ]
  },
  {
   "cell_type": "code",
   "execution_count": 84,
   "id": "8f73fa85-4db2-4075-97e0-40c6f23d3305",
   "metadata": {},
   "outputs": [
    {
     "data": {
      "text/plain": [
       "9947.169416673429"
      ]
     },
     "execution_count": 84,
     "metadata": {},
     "output_type": "execute_result"
    }
   ],
   "source": [
    "arr_fin_250.std()"
   ]
  },
  {
   "cell_type": "code",
   "execution_count": 85,
   "id": "5b544af8-b738-4562-ac7c-2266a8ec8b96",
   "metadata": {},
   "outputs": [
    {
     "data": {
      "text/plain": [
       "98946179.40400322"
      ]
     },
     "execution_count": 85,
     "metadata": {},
     "output_type": "execute_result"
    }
   ],
   "source": [
    "arr_fin_250.var()"
   ]
  },
  {
   "cell_type": "code",
   "execution_count": null,
   "id": "a3b97d72-151b-4448-9b43-e5f08b481481",
   "metadata": {},
   "outputs": [],
   "source": []
  }
 ],
 "metadata": {
  "kernelspec": {
   "display_name": "Python 3 (ipykernel)",
   "language": "python",
   "name": "python3"
  },
  "language_info": {
   "codemirror_mode": {
    "name": "ipython",
    "version": 3
   },
   "file_extension": ".py",
   "mimetype": "text/x-python",
   "name": "python",
   "nbconvert_exporter": "python",
   "pygments_lexer": "ipython3",
   "version": "3.9.12"
  }
 },
 "nbformat": 4,
 "nbformat_minor": 5
}
