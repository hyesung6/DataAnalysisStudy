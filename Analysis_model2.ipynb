{
 "cells": [
  {
   "cell_type": "markdown",
   "id": "3a1308a4-ad81-4e8e-bab1-7335c4d9a095",
   "metadata": {},
   "source": [
    "# 기초 통계\n",
    "## 필요 라이브러리 import"
   ]
  },
  {
   "cell_type": "code",
   "execution_count": 1,
   "id": "a548254a-cdc7-4770-8589-da1fa6ed9745",
   "metadata": {},
   "outputs": [],
   "source": [
    "import pandas as pd\n",
    "import numpy as np"
   ]
  },
  {
   "cell_type": "markdown",
   "id": "9fc6ba56-a183-4ceb-a329-c9f3313b736c",
   "metadata": {},
   "source": [
    "## 데이터셋 생성"
   ]
  },
  {
   "cell_type": "code",
   "execution_count": 2,
   "id": "a1bc28a1-6072-4212-bb0e-1106eb01aea2",
   "metadata": {},
   "outputs": [
    {
     "data": {
      "text/html": [
       "<div>\n",
       "<style scoped>\n",
       "    .dataframe tbody tr th:only-of-type {\n",
       "        vertical-align: middle;\n",
       "    }\n",
       "\n",
       "    .dataframe tbody tr th {\n",
       "        vertical-align: top;\n",
       "    }\n",
       "\n",
       "    .dataframe thead th {\n",
       "        text-align: right;\n",
       "    }\n",
       "</style>\n",
       "<table border=\"1\" class=\"dataframe\">\n",
       "  <thead>\n",
       "    <tr style=\"text-align: right;\">\n",
       "      <th></th>\n",
       "      <th>score1</th>\n",
       "      <th>score2</th>\n",
       "      <th>score3</th>\n",
       "      <th>weight</th>\n",
       "      <th>diff</th>\n",
       "      <th>place</th>\n",
       "    </tr>\n",
       "  </thead>\n",
       "  <tbody>\n",
       "    <tr>\n",
       "      <th>0</th>\n",
       "      <td>99</td>\n",
       "      <td>79</td>\n",
       "      <td>59.0</td>\n",
       "      <td>5.43</td>\n",
       "      <td>-2.1</td>\n",
       "      <td>A</td>\n",
       "    </tr>\n",
       "    <tr>\n",
       "      <th>1</th>\n",
       "      <td>65</td>\n",
       "      <td>85</td>\n",
       "      <td>NaN</td>\n",
       "      <td>0.12</td>\n",
       "      <td>5.0</td>\n",
       "      <td>B</td>\n",
       "    </tr>\n",
       "    <tr>\n",
       "      <th>2</th>\n",
       "      <td>79</td>\n",
       "      <td>79</td>\n",
       "      <td>39.0</td>\n",
       "      <td>10.44</td>\n",
       "      <td>2.0</td>\n",
       "      <td>A</td>\n",
       "    </tr>\n",
       "    <tr>\n",
       "      <th>3</th>\n",
       "      <td>94</td>\n",
       "      <td>93</td>\n",
       "      <td>NaN</td>\n",
       "      <td>9.33</td>\n",
       "      <td>-5.4</td>\n",
       "      <td>A</td>\n",
       "    </tr>\n",
       "    <tr>\n",
       "      <th>4</th>\n",
       "      <td>87</td>\n",
       "      <td>97</td>\n",
       "      <td>NaN</td>\n",
       "      <td>4.22</td>\n",
       "      <td>-3.3</td>\n",
       "      <td>B</td>\n",
       "    </tr>\n",
       "  </tbody>\n",
       "</table>\n",
       "</div>"
      ],
      "text/plain": [
       "   score1  score2  score3  weight  diff place\n",
       "0      99      79    59.0    5.43  -2.1     A\n",
       "1      65      85     NaN    0.12   5.0     B\n",
       "2      79      79    39.0   10.44   2.0     A\n",
       "3      94      93     NaN    9.33  -5.4     A\n",
       "4      87      97     NaN    4.22  -3.3     B"
      ]
     },
     "execution_count": 2,
     "metadata": {},
     "output_type": "execute_result"
    }
   ],
   "source": [
    "data = pd.DataFrame( {'score1' : [99, 65, 79, 94, 87],\n",
    "                      'score2' : [79, 85, 79, 93, 97],\n",
    "                      'score3' : [59, np.nan, 39, np.nan, np.nan],\n",
    "                      'weight' : [5.43, 0.12, 10.44, 9.33, 4.22],\n",
    "                      'diff' : [-2.1, 5, 2, -5.4, -3.3],\n",
    "                      'place' : ['A', 'B', 'A', 'A', 'B']} )\n",
    "\n",
    "data"
   ]
  },
  {
   "cell_type": "markdown",
   "id": "b0c2731a-9118-4d35-9c6e-6f70fc1fb1b7",
   "metadata": {},
   "source": [
    "## 기술 통계\n",
    "### pnadas 함수를 이용한 요약 정보\n",
    "info() : 컬럼 이름, 결측치를 제외한 값 카운트, 타입 확인\n",
    "\n",
    "describe() : 데이터 프레임 컬럼별 카운트, 평균, 표준편차, 최소값, 사분위수, 최대값 확인\n",
    "  - 수치형 변수 요약 정보 : describe()\n",
    "  - 범주형 변수 요약 정보 : describe(include='object')\n",
    "  - 전체 변수의 요약 정보 : describe(include='all')"
   ]
  },
  {
   "cell_type": "code",
   "execution_count": 3,
   "id": "d74f80a5-2e12-43a9-a61f-5e4c74f4c0ea",
   "metadata": {},
   "outputs": [
    {
     "name": "stdout",
     "output_type": "stream",
     "text": [
      "<class 'pandas.core.frame.DataFrame'>\n",
      "RangeIndex: 5 entries, 0 to 4\n",
      "Data columns (total 6 columns):\n",
      " #   Column  Non-Null Count  Dtype  \n",
      "---  ------  --------------  -----  \n",
      " 0   score1  5 non-null      int64  \n",
      " 1   score2  5 non-null      int64  \n",
      " 2   score3  2 non-null      float64\n",
      " 3   weight  5 non-null      float64\n",
      " 4   diff    5 non-null      float64\n",
      " 5   place   5 non-null      object \n",
      "dtypes: float64(3), int64(2), object(1)\n",
      "memory usage: 368.0+ bytes\n"
     ]
    }
   ],
   "source": [
    "data.info()"
   ]
  },
  {
   "cell_type": "code",
   "execution_count": 4,
   "id": "beb1cc1f-70da-4ce3-b0c2-cf62cafe3089",
   "metadata": {},
   "outputs": [
    {
     "data": {
      "text/html": [
       "<div>\n",
       "<style scoped>\n",
       "    .dataframe tbody tr th:only-of-type {\n",
       "        vertical-align: middle;\n",
       "    }\n",
       "\n",
       "    .dataframe tbody tr th {\n",
       "        vertical-align: top;\n",
       "    }\n",
       "\n",
       "    .dataframe thead th {\n",
       "        text-align: right;\n",
       "    }\n",
       "</style>\n",
       "<table border=\"1\" class=\"dataframe\">\n",
       "  <thead>\n",
       "    <tr style=\"text-align: right;\">\n",
       "      <th></th>\n",
       "      <th>score1</th>\n",
       "      <th>score2</th>\n",
       "      <th>score3</th>\n",
       "      <th>weight</th>\n",
       "      <th>diff</th>\n",
       "    </tr>\n",
       "  </thead>\n",
       "  <tbody>\n",
       "    <tr>\n",
       "      <th>count</th>\n",
       "      <td>5.00000</td>\n",
       "      <td>5.000000</td>\n",
       "      <td>2.000000</td>\n",
       "      <td>5.000000</td>\n",
       "      <td>5.000000</td>\n",
       "    </tr>\n",
       "    <tr>\n",
       "      <th>mean</th>\n",
       "      <td>84.80000</td>\n",
       "      <td>86.600000</td>\n",
       "      <td>49.000000</td>\n",
       "      <td>5.908000</td>\n",
       "      <td>-0.760000</td>\n",
       "    </tr>\n",
       "    <tr>\n",
       "      <th>std</th>\n",
       "      <td>13.38656</td>\n",
       "      <td>8.173127</td>\n",
       "      <td>14.142136</td>\n",
       "      <td>4.148128</td>\n",
       "      <td>4.200357</td>\n",
       "    </tr>\n",
       "    <tr>\n",
       "      <th>min</th>\n",
       "      <td>65.00000</td>\n",
       "      <td>79.000000</td>\n",
       "      <td>39.000000</td>\n",
       "      <td>0.120000</td>\n",
       "      <td>-5.400000</td>\n",
       "    </tr>\n",
       "    <tr>\n",
       "      <th>25%</th>\n",
       "      <td>79.00000</td>\n",
       "      <td>79.000000</td>\n",
       "      <td>44.000000</td>\n",
       "      <td>4.220000</td>\n",
       "      <td>-3.300000</td>\n",
       "    </tr>\n",
       "    <tr>\n",
       "      <th>50%</th>\n",
       "      <td>87.00000</td>\n",
       "      <td>85.000000</td>\n",
       "      <td>49.000000</td>\n",
       "      <td>5.430000</td>\n",
       "      <td>-2.100000</td>\n",
       "    </tr>\n",
       "    <tr>\n",
       "      <th>75%</th>\n",
       "      <td>94.00000</td>\n",
       "      <td>93.000000</td>\n",
       "      <td>54.000000</td>\n",
       "      <td>9.330000</td>\n",
       "      <td>2.000000</td>\n",
       "    </tr>\n",
       "    <tr>\n",
       "      <th>max</th>\n",
       "      <td>99.00000</td>\n",
       "      <td>97.000000</td>\n",
       "      <td>59.000000</td>\n",
       "      <td>10.440000</td>\n",
       "      <td>5.000000</td>\n",
       "    </tr>\n",
       "  </tbody>\n",
       "</table>\n",
       "</div>"
      ],
      "text/plain": [
       "         score1     score2     score3     weight      diff\n",
       "count   5.00000   5.000000   2.000000   5.000000  5.000000\n",
       "mean   84.80000  86.600000  49.000000   5.908000 -0.760000\n",
       "std    13.38656   8.173127  14.142136   4.148128  4.200357\n",
       "min    65.00000  79.000000  39.000000   0.120000 -5.400000\n",
       "25%    79.00000  79.000000  44.000000   4.220000 -3.300000\n",
       "50%    87.00000  85.000000  49.000000   5.430000 -2.100000\n",
       "75%    94.00000  93.000000  54.000000   9.330000  2.000000\n",
       "max    99.00000  97.000000  59.000000  10.440000  5.000000"
      ]
     },
     "execution_count": 4,
     "metadata": {},
     "output_type": "execute_result"
    }
   ],
   "source": [
    "data.describe()"
   ]
  },
  {
   "cell_type": "code",
   "execution_count": 5,
   "id": "0c19a1d2-a042-4644-a490-dbd4e4f4b382",
   "metadata": {},
   "outputs": [
    {
     "data": {
      "text/html": [
       "<div>\n",
       "<style scoped>\n",
       "    .dataframe tbody tr th:only-of-type {\n",
       "        vertical-align: middle;\n",
       "    }\n",
       "\n",
       "    .dataframe tbody tr th {\n",
       "        vertical-align: top;\n",
       "    }\n",
       "\n",
       "    .dataframe thead th {\n",
       "        text-align: right;\n",
       "    }\n",
       "</style>\n",
       "<table border=\"1\" class=\"dataframe\">\n",
       "  <thead>\n",
       "    <tr style=\"text-align: right;\">\n",
       "      <th></th>\n",
       "      <th>place</th>\n",
       "    </tr>\n",
       "  </thead>\n",
       "  <tbody>\n",
       "    <tr>\n",
       "      <th>count</th>\n",
       "      <td>5</td>\n",
       "    </tr>\n",
       "    <tr>\n",
       "      <th>unique</th>\n",
       "      <td>2</td>\n",
       "    </tr>\n",
       "    <tr>\n",
       "      <th>top</th>\n",
       "      <td>A</td>\n",
       "    </tr>\n",
       "    <tr>\n",
       "      <th>freq</th>\n",
       "      <td>3</td>\n",
       "    </tr>\n",
       "  </tbody>\n",
       "</table>\n",
       "</div>"
      ],
      "text/plain": [
       "       place\n",
       "count      5\n",
       "unique     2\n",
       "top        A\n",
       "freq       3"
      ]
     },
     "execution_count": 5,
     "metadata": {},
     "output_type": "execute_result"
    }
   ],
   "source": [
    "data.describe(include='object')"
   ]
  },
  {
   "cell_type": "code",
   "execution_count": 7,
   "id": "b22e03bc-f2fe-4528-b435-97a07a2d7e27",
   "metadata": {},
   "outputs": [
    {
     "data": {
      "text/html": [
       "<div>\n",
       "<style scoped>\n",
       "    .dataframe tbody tr th:only-of-type {\n",
       "        vertical-align: middle;\n",
       "    }\n",
       "\n",
       "    .dataframe tbody tr th {\n",
       "        vertical-align: top;\n",
       "    }\n",
       "\n",
       "    .dataframe thead th {\n",
       "        text-align: right;\n",
       "    }\n",
       "</style>\n",
       "<table border=\"1\" class=\"dataframe\">\n",
       "  <thead>\n",
       "    <tr style=\"text-align: right;\">\n",
       "      <th></th>\n",
       "      <th>score1</th>\n",
       "      <th>score2</th>\n",
       "      <th>score3</th>\n",
       "      <th>weight</th>\n",
       "      <th>diff</th>\n",
       "      <th>place</th>\n",
       "    </tr>\n",
       "  </thead>\n",
       "  <tbody>\n",
       "    <tr>\n",
       "      <th>count</th>\n",
       "      <td>5.00000</td>\n",
       "      <td>5.000000</td>\n",
       "      <td>2.000000</td>\n",
       "      <td>5.000000</td>\n",
       "      <td>5.000000</td>\n",
       "      <td>5</td>\n",
       "    </tr>\n",
       "    <tr>\n",
       "      <th>unique</th>\n",
       "      <td>NaN</td>\n",
       "      <td>NaN</td>\n",
       "      <td>NaN</td>\n",
       "      <td>NaN</td>\n",
       "      <td>NaN</td>\n",
       "      <td>2</td>\n",
       "    </tr>\n",
       "    <tr>\n",
       "      <th>top</th>\n",
       "      <td>NaN</td>\n",
       "      <td>NaN</td>\n",
       "      <td>NaN</td>\n",
       "      <td>NaN</td>\n",
       "      <td>NaN</td>\n",
       "      <td>A</td>\n",
       "    </tr>\n",
       "    <tr>\n",
       "      <th>freq</th>\n",
       "      <td>NaN</td>\n",
       "      <td>NaN</td>\n",
       "      <td>NaN</td>\n",
       "      <td>NaN</td>\n",
       "      <td>NaN</td>\n",
       "      <td>3</td>\n",
       "    </tr>\n",
       "    <tr>\n",
       "      <th>mean</th>\n",
       "      <td>84.80000</td>\n",
       "      <td>86.600000</td>\n",
       "      <td>49.000000</td>\n",
       "      <td>5.908000</td>\n",
       "      <td>-0.760000</td>\n",
       "      <td>NaN</td>\n",
       "    </tr>\n",
       "    <tr>\n",
       "      <th>std</th>\n",
       "      <td>13.38656</td>\n",
       "      <td>8.173127</td>\n",
       "      <td>14.142136</td>\n",
       "      <td>4.148128</td>\n",
       "      <td>4.200357</td>\n",
       "      <td>NaN</td>\n",
       "    </tr>\n",
       "    <tr>\n",
       "      <th>min</th>\n",
       "      <td>65.00000</td>\n",
       "      <td>79.000000</td>\n",
       "      <td>39.000000</td>\n",
       "      <td>0.120000</td>\n",
       "      <td>-5.400000</td>\n",
       "      <td>NaN</td>\n",
       "    </tr>\n",
       "    <tr>\n",
       "      <th>25%</th>\n",
       "      <td>79.00000</td>\n",
       "      <td>79.000000</td>\n",
       "      <td>44.000000</td>\n",
       "      <td>4.220000</td>\n",
       "      <td>-3.300000</td>\n",
       "      <td>NaN</td>\n",
       "    </tr>\n",
       "    <tr>\n",
       "      <th>50%</th>\n",
       "      <td>87.00000</td>\n",
       "      <td>85.000000</td>\n",
       "      <td>49.000000</td>\n",
       "      <td>5.430000</td>\n",
       "      <td>-2.100000</td>\n",
       "      <td>NaN</td>\n",
       "    </tr>\n",
       "    <tr>\n",
       "      <th>75%</th>\n",
       "      <td>94.00000</td>\n",
       "      <td>93.000000</td>\n",
       "      <td>54.000000</td>\n",
       "      <td>9.330000</td>\n",
       "      <td>2.000000</td>\n",
       "      <td>NaN</td>\n",
       "    </tr>\n",
       "    <tr>\n",
       "      <th>max</th>\n",
       "      <td>99.00000</td>\n",
       "      <td>97.000000</td>\n",
       "      <td>59.000000</td>\n",
       "      <td>10.440000</td>\n",
       "      <td>5.000000</td>\n",
       "      <td>NaN</td>\n",
       "    </tr>\n",
       "  </tbody>\n",
       "</table>\n",
       "</div>"
      ],
      "text/plain": [
       "          score1     score2     score3     weight      diff place\n",
       "count    5.00000   5.000000   2.000000   5.000000  5.000000     5\n",
       "unique       NaN        NaN        NaN        NaN       NaN     2\n",
       "top          NaN        NaN        NaN        NaN       NaN     A\n",
       "freq         NaN        NaN        NaN        NaN       NaN     3\n",
       "mean    84.80000  86.600000  49.000000   5.908000 -0.760000   NaN\n",
       "std     13.38656   8.173127  14.142136   4.148128  4.200357   NaN\n",
       "min     65.00000  79.000000  39.000000   0.120000 -5.400000   NaN\n",
       "25%     79.00000  79.000000  44.000000   4.220000 -3.300000   NaN\n",
       "50%     87.00000  85.000000  49.000000   5.430000 -2.100000   NaN\n",
       "75%     94.00000  93.000000  54.000000   9.330000  2.000000   NaN\n",
       "max     99.00000  97.000000  59.000000  10.440000  5.000000   NaN"
      ]
     },
     "execution_count": 7,
     "metadata": {},
     "output_type": "execute_result"
    }
   ],
   "source": [
    "data.describe(include='all')"
   ]
  },
  {
   "cell_type": "markdown",
   "id": "7911393c-bbf9-4dda-b54a-3dfd3fda249d",
   "metadata": {},
   "source": [
    "### 중심경향치 확인\n",
    "  - mean() : 산술평균\n",
    "  - trim_mean() : 절사평균\n",
    "  - np.average(weight=) : 가중평균\n",
    "  - median() : 중앙값\n",
    "  - mode() : 최빈수"
   ]
  },
  {
   "cell_type": "code",
   "execution_count": 29,
   "id": "4e3aed76-c450-446d-817b-f96f9f38614f",
   "metadata": {},
   "outputs": [],
   "source": [
    "import warnings\n",
    "warnings.filterwarnings(action='ignore', category=FutureWarning)"
   ]
  },
  {
   "cell_type": "code",
   "execution_count": 38,
   "id": "3f8474ca-779f-4a50-bccf-cb9c74a0e2c4",
   "metadata": {},
   "outputs": [
    {
     "name": "stdout",
     "output_type": "stream",
     "text": [
      "한 변수: 84.8\n",
      "\n",
      "전체: \n",
      "score1    84.800\n",
      "score2    86.600\n",
      "score3    49.000\n",
      "weight     5.908\n",
      "diff      -0.760\n",
      "dtype: float64\n",
      "\n",
      "score2의 절사평균: 86.6\n",
      "\n",
      "score2의 가중평균: 86.01760324983074\n"
     ]
    }
   ],
   "source": [
    "# 한 변수의 평균\n",
    "print(f'한 변수: {data[\"score1\"].mean()}')\n",
    "\n",
    "# 데이터프레임 전체 평균\n",
    "print(f'\\n전체: \\n{data.mean()}')\n",
    "\n",
    "# 절사평균\n",
    "from scipy.stats import trim_mean\n",
    "print(f'\\nscore2의 절사평균: {trim_mean(data[\"score2\"], 0.1)}')  # 양쪽 끝에서 10%를 제거한 평균값\n",
    "\n",
    "# 가중평균\n",
    "import numpy as np\n",
    "print(f'\\nscore2의 가중평균: {np.average(data[\"score2\"], weights=data[\"weight\"])}')"
   ]
  },
  {
   "cell_type": "code",
   "execution_count": 39,
   "id": "19d15390-33b3-491d-aaa6-c401aadb1d65",
   "metadata": {},
   "outputs": [
    {
     "name": "stdout",
     "output_type": "stream",
     "text": [
      "85.0\n",
      "300.0\n"
     ]
    }
   ],
   "source": [
    "# 중앙값\n",
    "## 데이터 개수 : 홀수\n",
    "print(data['score2'].median())\n",
    "\n",
    "## 데이터 개수 : 짝수\n",
    "x = [100, 600, 100, 200, 400, 500]\n",
    "print(np.median(x))"
   ]
  },
  {
   "cell_type": "code",
   "execution_count": 40,
   "id": "8e9479de-eb00-4518-b8b9-23a1c2537931",
   "metadata": {},
   "outputs": [
    {
     "data": {
      "text/plain": [
       "0    79\n",
       "Name: score2, dtype: int64"
      ]
     },
     "execution_count": 40,
     "metadata": {},
     "output_type": "execute_result"
    }
   ],
   "source": [
    "# 최빈값\n",
    "data['score2'].mode()"
   ]
  },
  {
   "cell_type": "markdown",
   "id": "52d333b1-eeb6-4b4c-99a8-c5ad2f430425",
   "metadata": {},
   "source": [
    "### 산포도\n",
    "  - max() - min() : 범위 ( range )\n",
    "  - var() : 분산(variance)\n",
    "  - std() : 표준편차 (standard deviation)\n",
    "  - quantile(0.75) - quantile(0.25) : 사분위수 범위"
   ]
  },
  {
   "cell_type": "code",
   "execution_count": 41,
   "id": "36903099-f624-4d68-8b9f-82bb645f1a81",
   "metadata": {},
   "outputs": [
    {
     "data": {
      "text/plain": [
       "18"
      ]
     },
     "execution_count": 41,
     "metadata": {},
     "output_type": "execute_result"
    }
   ],
   "source": [
    "# 범위\n",
    "data['score2'].max() - data['score2'].min()"
   ]
  },
  {
   "cell_type": "code",
   "execution_count": 42,
   "id": "5497cb86-49b6-403d-9905-1642db7eb9c3",
   "metadata": {},
   "outputs": [
    {
     "name": "stdout",
     "output_type": "stream",
     "text": [
      "score2의 분산 : 66.8\n",
      "score2의 표준편차 : 8.17312669668102\n"
     ]
    }
   ],
   "source": [
    "# 분산\n",
    "print(f'score2의 분산 : {data[\"score2\"].var()}')\n",
    "# 표준편차\n",
    "print(f'score2의 표준편차 : {data[\"score2\"].std()}')"
   ]
  },
  {
   "cell_type": "code",
   "execution_count": 44,
   "id": "d4b67766-e8b9-432c-8423-762706a20863",
   "metadata": {},
   "outputs": [
    {
     "name": "stdout",
     "output_type": "stream",
     "text": [
      "14.0\n"
     ]
    }
   ],
   "source": [
    "# 사분위수 범위\n",
    "print(data[\"score2\"].quantile(0.75) - data[\"score2\"].quantile(0.25))"
   ]
  },
  {
   "cell_type": "code",
   "execution_count": 47,
   "id": "35437143-01eb-4e4a-9fc0-41de25f0f3ab",
   "metadata": {},
   "outputs": [
    {
     "name": "stdout",
     "output_type": "stream",
     "text": [
      "score1의 CV계수 : 0.158\n",
      "score2의 CV계수 : 0.094\n"
     ]
    }
   ],
   "source": [
    "# 변동 계수\n",
    "# 표준편차를 평균으로 나눈 값\n",
    "cv1 = data['score1'].std() / data['score1'].mean()\n",
    "cv2 = data['score2'].std() / data['score2'].mean()\n",
    "\n",
    "print(f'score1의 CV계수 : {np.round(cv1, 3)}')\n",
    "print(f'score2의 CV계수 : {np.round(cv2, 3)}')"
   ]
  },
  {
   "cell_type": "markdown",
   "id": "1cebd07a-4718-4601-b8c6-b3fbcaf26b05",
   "metadata": {},
   "source": [
    "### 비대칭도\n",
    "- skew() : 왜도\n",
    "- kurtosis() : 첨도"
   ]
  },
  {
   "cell_type": "code",
   "execution_count": 48,
   "id": "511fc651-e310-4de3-a294-2f659c114f32",
   "metadata": {},
   "outputs": [],
   "source": [
    "import warnings\n",
    "warnings.simplefilter(action='ignore', category=FutureWarning)   # FutureWarning 제거\n",
    "import pandas as pd\n",
    "import numpy as np\n",
    "from scipy import stats\n",
    "import matplotlib.pyplot as plt\n",
    "import seaborn as sns\n",
    "%matplotlib inline\n",
    "\n",
    "import os\n",
    "if os.name == 'nt':\n",
    "    font_family = 'Malgun Gothic'\n",
    "\n",
    "sns.set(font=font_family, rc={'axes.unicode_minus' : False})"
   ]
  },
  {
   "cell_type": "code",
   "execution_count": 49,
   "id": "32fdbe5f-819b-45d4-8bf7-0c634e78e2e0",
   "metadata": {},
   "outputs": [
    {
     "name": "stdout",
     "output_type": "stream",
     "text": [
      "1.6656293067949786\n",
      "-1.0422210554570965\n"
     ]
    }
   ],
   "source": [
    "# 왜도 산출\n",
    "from scipy.stats import skew\n",
    "\n",
    "skew_list1 = [1, 1, 1, 1, 1, 1, 1, 1, 1, 1, 1, 2, 2, 2, 2, 2, 3, 4, 5]\n",
    "skew_list2 = [1, 2, 3, 3, 4, 4, 5, 5, 5, 5, 6, 6, 6, 6, 6, 6, 6, 6]\n",
    "\n",
    "print(skew(skew_list1))\n",
    "print(skew(skew_list2))"
   ]
  },
  {
   "cell_type": "code",
   "execution_count": null,
   "id": "dd35aab6-fc1b-41f7-821b-d0e859715020",
   "metadata": {},
   "outputs": [],
   "source": [
    "# 왜도 시각화\n",
    "plt.figure(figsize=(12, 6))\n",
    "plt.subplot(1, 2, 1)\n",
    "dist_plot = sns.distplot(skew_list1)\n",
    "plt.title('우측 꼬리 분포, 왜도 > 0', fontsize=16)\n",
    "\n",
    "plt.subplot(1, 2, 2)\n",
    "dist_plot = sns.distplot(skew_list2)\n",
    "plt.title('좌측 꼬리 분포, 왜도 < 0', fontsize=16)\n",
    "\n",
    "plt.show()"
   ]
  },
  {
   "cell_type": "code",
   "execution_count": 51,
   "id": "bf17a2d3-db01-46ef-95d1-a38d92f4325e",
   "metadata": {},
   "outputs": [
    {
     "name": "stdout",
     "output_type": "stream",
     "text": [
      "-1.2242424242424244\n",
      "2.351887069895106\n"
     ]
    }
   ],
   "source": [
    "# 첨도 산출\n",
    "from scipy.stats import kurtosis\n",
    "\n",
    "kur_list1 = [1, 2, 3, 4, 5, 6, 7, 8, 9, 10]\n",
    "kur_list2 = [1, 2, 3, 4, 5, 5, 5, 5, 5, 5, 5, 5,\n",
    "             5, 5, 5, 5, 5, 5, 5, 5, 5, 5, 5, 5,\n",
    "             5, 6, 7, 8, 9, 10]\n",
    "\n",
    "print(kurtosis(kur_list1))\n",
    "print(kurtosis(kur_list2))"
   ]
  },
  {
   "cell_type": "code",
   "execution_count": null,
   "id": "79a3b7f6-7b7c-4f7d-b9ad-9a6d3f5d87da",
   "metadata": {},
   "outputs": [],
   "source": [
    "# 첨도 시각화\n",
    "plt.figure(figsize=(20, 6))\n",
    "plt.subplot(1, 2, 1)\n",
    "dist_plot = sns.distplot(kur_list1)\n",
    "plt.title('첨도 < 0', fontsize=16)\n",
    "\n",
    "plt.subplot(1, 2, 2)\n",
    "dist_plot = sns.distplot(kur_list2)\n",
    "plt.title('첨도 > 0', fontsize=16)\n",
    "\n",
    "plt.show()"
   ]
  },
  {
   "cell_type": "code",
   "execution_count": null,
   "id": "2e7167ff-65a5-4b9f-a86c-02bba58f5229",
   "metadata": {},
   "outputs": [],
   "source": []
  }
 ],
 "metadata": {
  "kernelspec": {
   "display_name": "Python 3 (ipykernel)",
   "language": "python",
   "name": "python3"
  },
  "language_info": {
   "codemirror_mode": {
    "name": "ipython",
    "version": 3
   },
   "file_extension": ".py",
   "mimetype": "text/x-python",
   "name": "python",
   "nbconvert_exporter": "python",
   "pygments_lexer": "ipython3",
   "version": "3.9.12"
  }
 },
 "nbformat": 4,
 "nbformat_minor": 5
}
