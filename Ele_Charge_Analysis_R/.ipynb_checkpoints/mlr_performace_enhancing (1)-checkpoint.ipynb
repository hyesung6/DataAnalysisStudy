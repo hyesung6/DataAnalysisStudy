{
 "cells": [
  {
   "cell_type": "markdown",
   "id": "a68ad784",
   "metadata": {},
   "source": [
    "# Data Upload"
   ]
  },
  {
   "cell_type": "code",
   "execution_count": 2,
   "id": "eedbe806",
   "metadata": {},
   "outputs": [],
   "source": [
    "# 필요 library import \n",
    "import pandas as pd\n",
    "import numpy as np\n",
    "import seaborn as sns\n",
    "import matplotlib.pyplot as plt\n",
    "from sklearn.linear_model import Lasso, Ridge, ElasticNet, LinearRegression\n",
    "from sklearn import linear_model\n",
    "from sklearn.model_selection import train_test_split\n",
    "from sklearn.metrics import mean_squared_error\n",
    "from math import sqrt"
   ]
  },
  {
   "cell_type": "code",
   "execution_count": 3,
   "id": "71546a8b",
   "metadata": {},
   "outputs": [],
   "source": [
    "# data read\n",
    "infra_data = pd.read_csv('C:/Users/user/Desktop/data/infra_real.csv')"
   ]
  },
  {
   "cell_type": "markdown",
   "id": "fdc4ca96",
   "metadata": {},
   "source": [
    "# Basic statistics"
   ]
  },
  {
   "cell_type": "code",
   "execution_count": 4,
   "id": "239914ff",
   "metadata": {},
   "outputs": [
    {
     "data": {
      "text/html": [
       "<div>\n",
       "<style scoped>\n",
       "    .dataframe tbody tr th:only-of-type {\n",
       "        vertical-align: middle;\n",
       "    }\n",
       "\n",
       "    .dataframe tbody tr th {\n",
       "        vertical-align: top;\n",
       "    }\n",
       "\n",
       "    .dataframe thead th {\n",
       "        text-align: right;\n",
       "    }\n",
       "</style>\n",
       "<table border=\"1\" class=\"dataframe\">\n",
       "  <thead>\n",
       "    <tr style=\"text-align: right;\">\n",
       "      <th></th>\n",
       "      <th>EMD_CD</th>\n",
       "      <th>TRAD</th>\n",
       "      <th>CONCERT</th>\n",
       "      <th>OLD</th>\n",
       "      <th>MART</th>\n",
       "      <th>LIB</th>\n",
       "      <th>ART</th>\n",
       "      <th>MUS</th>\n",
       "      <th>MED</th>\n",
       "      <th>COMM</th>\n",
       "      <th>SPORT</th>\n",
       "      <th>CHARGE</th>\n",
       "    </tr>\n",
       "  </thead>\n",
       "  <tbody>\n",
       "    <tr>\n",
       "      <th>0</th>\n",
       "      <td>29170129</td>\n",
       "      <td>0</td>\n",
       "      <td>0</td>\n",
       "      <td>0</td>\n",
       "      <td>0</td>\n",
       "      <td>3</td>\n",
       "      <td>0</td>\n",
       "      <td>0</td>\n",
       "      <td>0</td>\n",
       "      <td>0</td>\n",
       "      <td>3</td>\n",
       "      <td>0</td>\n",
       "    </tr>\n",
       "    <tr>\n",
       "      <th>1</th>\n",
       "      <td>29170109</td>\n",
       "      <td>1</td>\n",
       "      <td>2</td>\n",
       "      <td>1</td>\n",
       "      <td>0</td>\n",
       "      <td>13</td>\n",
       "      <td>1</td>\n",
       "      <td>0</td>\n",
       "      <td>13</td>\n",
       "      <td>3</td>\n",
       "      <td>3</td>\n",
       "      <td>3</td>\n",
       "    </tr>\n",
       "    <tr>\n",
       "      <th>2</th>\n",
       "      <td>29200176</td>\n",
       "      <td>0</td>\n",
       "      <td>0</td>\n",
       "      <td>1</td>\n",
       "      <td>0</td>\n",
       "      <td>0</td>\n",
       "      <td>0</td>\n",
       "      <td>0</td>\n",
       "      <td>0</td>\n",
       "      <td>0</td>\n",
       "      <td>1</td>\n",
       "      <td>1</td>\n",
       "    </tr>\n",
       "    <tr>\n",
       "      <th>3</th>\n",
       "      <td>29200160</td>\n",
       "      <td>0</td>\n",
       "      <td>0</td>\n",
       "      <td>3</td>\n",
       "      <td>0</td>\n",
       "      <td>0</td>\n",
       "      <td>0</td>\n",
       "      <td>0</td>\n",
       "      <td>3</td>\n",
       "      <td>0</td>\n",
       "      <td>1</td>\n",
       "      <td>0</td>\n",
       "    </tr>\n",
       "    <tr>\n",
       "      <th>4</th>\n",
       "      <td>29170108</td>\n",
       "      <td>0</td>\n",
       "      <td>0</td>\n",
       "      <td>1</td>\n",
       "      <td>0</td>\n",
       "      <td>6</td>\n",
       "      <td>0</td>\n",
       "      <td>0</td>\n",
       "      <td>3</td>\n",
       "      <td>1</td>\n",
       "      <td>6</td>\n",
       "      <td>3</td>\n",
       "    </tr>\n",
       "  </tbody>\n",
       "</table>\n",
       "</div>"
      ],
      "text/plain": [
       "     EMD_CD  TRAD  CONCERT  OLD  MART  LIB  ART  MUS  MED  COMM  SPORT  CHARGE\n",
       "0  29170129     0        0    0     0    3    0    0    0     0      3       0\n",
       "1  29170109     1        2    1     0   13    1    0   13     3      3       3\n",
       "2  29200176     0        0    1     0    0    0    0    0     0      1       1\n",
       "3  29200160     0        0    3     0    0    0    0    3     0      1       0\n",
       "4  29170108     0        0    1     0    6    0    0    3     1      6       3"
      ]
     },
     "execution_count": 4,
     "metadata": {},
     "output_type": "execute_result"
    }
   ],
   "source": [
    "infra_data.head()"
   ]
  },
  {
   "cell_type": "code",
   "execution_count": 5,
   "id": "f374b935",
   "metadata": {},
   "outputs": [
    {
     "data": {
      "text/html": [
       "<div>\n",
       "<style scoped>\n",
       "    .dataframe tbody tr th:only-of-type {\n",
       "        vertical-align: middle;\n",
       "    }\n",
       "\n",
       "    .dataframe tbody tr th {\n",
       "        vertical-align: top;\n",
       "    }\n",
       "\n",
       "    .dataframe thead th {\n",
       "        text-align: right;\n",
       "    }\n",
       "</style>\n",
       "<table border=\"1\" class=\"dataframe\">\n",
       "  <thead>\n",
       "    <tr style=\"text-align: right;\">\n",
       "      <th></th>\n",
       "      <th>EMD_CD</th>\n",
       "      <th>TRAD</th>\n",
       "      <th>CONCERT</th>\n",
       "      <th>OLD</th>\n",
       "      <th>MART</th>\n",
       "      <th>LIB</th>\n",
       "      <th>ART</th>\n",
       "      <th>MUS</th>\n",
       "      <th>MED</th>\n",
       "      <th>COMM</th>\n",
       "      <th>SPORT</th>\n",
       "      <th>CHARGE</th>\n",
       "    </tr>\n",
       "  </thead>\n",
       "  <tbody>\n",
       "    <tr>\n",
       "      <th>count</th>\n",
       "      <td>1.930000e+02</td>\n",
       "      <td>193.000000</td>\n",
       "      <td>193.000000</td>\n",
       "      <td>193.000000</td>\n",
       "      <td>193.000000</td>\n",
       "      <td>193.000000</td>\n",
       "      <td>193.000000</td>\n",
       "      <td>193.000000</td>\n",
       "      <td>193.000000</td>\n",
       "      <td>193.000000</td>\n",
       "      <td>193.000000</td>\n",
       "      <td>193.000000</td>\n",
       "    </tr>\n",
       "    <tr>\n",
       "      <th>mean</th>\n",
       "      <td>2.916951e+07</td>\n",
       "      <td>0.119171</td>\n",
       "      <td>0.113990</td>\n",
       "      <td>0.492228</td>\n",
       "      <td>0.113990</td>\n",
       "      <td>1.818653</td>\n",
       "      <td>0.088083</td>\n",
       "      <td>0.041451</td>\n",
       "      <td>1.378238</td>\n",
       "      <td>0.502591</td>\n",
       "      <td>2.865285</td>\n",
       "      <td>0.575130</td>\n",
       "    </tr>\n",
       "    <tr>\n",
       "      <th>std</th>\n",
       "      <td>3.096457e+04</td>\n",
       "      <td>0.434568</td>\n",
       "      <td>0.417659</td>\n",
       "      <td>0.823605</td>\n",
       "      <td>0.429948</td>\n",
       "      <td>3.367007</td>\n",
       "      <td>0.405063</td>\n",
       "      <td>0.199849</td>\n",
       "      <td>2.581372</td>\n",
       "      <td>0.791388</td>\n",
       "      <td>4.089174</td>\n",
       "      <td>1.097252</td>\n",
       "    </tr>\n",
       "    <tr>\n",
       "      <th>min</th>\n",
       "      <td>2.911010e+07</td>\n",
       "      <td>0.000000</td>\n",
       "      <td>0.000000</td>\n",
       "      <td>0.000000</td>\n",
       "      <td>0.000000</td>\n",
       "      <td>0.000000</td>\n",
       "      <td>0.000000</td>\n",
       "      <td>0.000000</td>\n",
       "      <td>0.000000</td>\n",
       "      <td>0.000000</td>\n",
       "      <td>0.000000</td>\n",
       "      <td>0.000000</td>\n",
       "    </tr>\n",
       "    <tr>\n",
       "      <th>25%</th>\n",
       "      <td>2.915511e+07</td>\n",
       "      <td>0.000000</td>\n",
       "      <td>0.000000</td>\n",
       "      <td>0.000000</td>\n",
       "      <td>0.000000</td>\n",
       "      <td>0.000000</td>\n",
       "      <td>0.000000</td>\n",
       "      <td>0.000000</td>\n",
       "      <td>0.000000</td>\n",
       "      <td>0.000000</td>\n",
       "      <td>0.000000</td>\n",
       "      <td>0.000000</td>\n",
       "    </tr>\n",
       "    <tr>\n",
       "      <th>50%</th>\n",
       "      <td>2.917012e+07</td>\n",
       "      <td>0.000000</td>\n",
       "      <td>0.000000</td>\n",
       "      <td>0.000000</td>\n",
       "      <td>0.000000</td>\n",
       "      <td>0.000000</td>\n",
       "      <td>0.000000</td>\n",
       "      <td>0.000000</td>\n",
       "      <td>0.000000</td>\n",
       "      <td>0.000000</td>\n",
       "      <td>1.000000</td>\n",
       "      <td>0.000000</td>\n",
       "    </tr>\n",
       "    <tr>\n",
       "      <th>75%</th>\n",
       "      <td>2.920013e+07</td>\n",
       "      <td>0.000000</td>\n",
       "      <td>0.000000</td>\n",
       "      <td>1.000000</td>\n",
       "      <td>0.000000</td>\n",
       "      <td>2.000000</td>\n",
       "      <td>0.000000</td>\n",
       "      <td>0.000000</td>\n",
       "      <td>2.000000</td>\n",
       "      <td>1.000000</td>\n",
       "      <td>3.000000</td>\n",
       "      <td>1.000000</td>\n",
       "    </tr>\n",
       "    <tr>\n",
       "      <th>max</th>\n",
       "      <td>2.920020e+07</td>\n",
       "      <td>3.000000</td>\n",
       "      <td>3.000000</td>\n",
       "      <td>4.000000</td>\n",
       "      <td>3.000000</td>\n",
       "      <td>16.000000</td>\n",
       "      <td>4.000000</td>\n",
       "      <td>1.000000</td>\n",
       "      <td>18.000000</td>\n",
       "      <td>4.000000</td>\n",
       "      <td>20.000000</td>\n",
       "      <td>5.000000</td>\n",
       "    </tr>\n",
       "  </tbody>\n",
       "</table>\n",
       "</div>"
      ],
      "text/plain": [
       "             EMD_CD        TRAD     CONCERT         OLD        MART  \\\n",
       "count  1.930000e+02  193.000000  193.000000  193.000000  193.000000   \n",
       "mean   2.916951e+07    0.119171    0.113990    0.492228    0.113990   \n",
       "std    3.096457e+04    0.434568    0.417659    0.823605    0.429948   \n",
       "min    2.911010e+07    0.000000    0.000000    0.000000    0.000000   \n",
       "25%    2.915511e+07    0.000000    0.000000    0.000000    0.000000   \n",
       "50%    2.917012e+07    0.000000    0.000000    0.000000    0.000000   \n",
       "75%    2.920013e+07    0.000000    0.000000    1.000000    0.000000   \n",
       "max    2.920020e+07    3.000000    3.000000    4.000000    3.000000   \n",
       "\n",
       "              LIB         ART         MUS         MED        COMM       SPORT  \\\n",
       "count  193.000000  193.000000  193.000000  193.000000  193.000000  193.000000   \n",
       "mean     1.818653    0.088083    0.041451    1.378238    0.502591    2.865285   \n",
       "std      3.367007    0.405063    0.199849    2.581372    0.791388    4.089174   \n",
       "min      0.000000    0.000000    0.000000    0.000000    0.000000    0.000000   \n",
       "25%      0.000000    0.000000    0.000000    0.000000    0.000000    0.000000   \n",
       "50%      0.000000    0.000000    0.000000    0.000000    0.000000    1.000000   \n",
       "75%      2.000000    0.000000    0.000000    2.000000    1.000000    3.000000   \n",
       "max     16.000000    4.000000    1.000000   18.000000    4.000000   20.000000   \n",
       "\n",
       "           CHARGE  \n",
       "count  193.000000  \n",
       "mean     0.575130  \n",
       "std      1.097252  \n",
       "min      0.000000  \n",
       "25%      0.000000  \n",
       "50%      0.000000  \n",
       "75%      1.000000  \n",
       "max      5.000000  "
      ]
     },
     "execution_count": 5,
     "metadata": {},
     "output_type": "execute_result"
    }
   ],
   "source": [
    "infra_data.describe()"
   ]
  },
  {
   "cell_type": "code",
   "execution_count": 6,
   "id": "29b09c6a",
   "metadata": {},
   "outputs": [
    {
     "name": "stdout",
     "output_type": "stream",
     "text": [
      "<class 'pandas.core.frame.DataFrame'>\n",
      "RangeIndex: 193 entries, 0 to 192\n",
      "Data columns (total 12 columns):\n",
      " #   Column   Non-Null Count  Dtype\n",
      "---  ------   --------------  -----\n",
      " 0   EMD_CD   193 non-null    int64\n",
      " 1   TRAD     193 non-null    int64\n",
      " 2   CONCERT  193 non-null    int64\n",
      " 3   OLD      193 non-null    int64\n",
      " 4   MART     193 non-null    int64\n",
      " 5   LIB      193 non-null    int64\n",
      " 6   ART      193 non-null    int64\n",
      " 7   MUS      193 non-null    int64\n",
      " 8   MED      193 non-null    int64\n",
      " 9   COMM     193 non-null    int64\n",
      " 10  SPORT    193 non-null    int64\n",
      " 11  CHARGE   193 non-null    int64\n",
      "dtypes: int64(12)\n",
      "memory usage: 18.2 KB\n"
     ]
    }
   ],
   "source": [
    "infra_data.info()"
   ]
  },
  {
   "cell_type": "markdown",
   "id": "a872b8a3",
   "metadata": {},
   "source": [
    "# Missing Value"
   ]
  },
  {
   "cell_type": "code",
   "execution_count": 7,
   "id": "287d5d62",
   "metadata": {},
   "outputs": [
    {
     "data": {
      "text/html": [
       "<div>\n",
       "<style scoped>\n",
       "    .dataframe tbody tr th:only-of-type {\n",
       "        vertical-align: middle;\n",
       "    }\n",
       "\n",
       "    .dataframe tbody tr th {\n",
       "        vertical-align: top;\n",
       "    }\n",
       "\n",
       "    .dataframe thead th {\n",
       "        text-align: right;\n",
       "    }\n",
       "</style>\n",
       "<table border=\"1\" class=\"dataframe\">\n",
       "  <thead>\n",
       "    <tr style=\"text-align: right;\">\n",
       "      <th></th>\n",
       "      <th>EMD_CD</th>\n",
       "      <th>TRAD</th>\n",
       "      <th>CONCERT</th>\n",
       "      <th>OLD</th>\n",
       "      <th>MART</th>\n",
       "      <th>LIB</th>\n",
       "      <th>ART</th>\n",
       "      <th>MUS</th>\n",
       "      <th>MED</th>\n",
       "      <th>COMM</th>\n",
       "      <th>SPORT</th>\n",
       "      <th>CHARGE</th>\n",
       "    </tr>\n",
       "  </thead>\n",
       "  <tbody>\n",
       "    <tr>\n",
       "      <th>0</th>\n",
       "      <td>False</td>\n",
       "      <td>False</td>\n",
       "      <td>False</td>\n",
       "      <td>False</td>\n",
       "      <td>False</td>\n",
       "      <td>False</td>\n",
       "      <td>False</td>\n",
       "      <td>False</td>\n",
       "      <td>False</td>\n",
       "      <td>False</td>\n",
       "      <td>False</td>\n",
       "      <td>False</td>\n",
       "    </tr>\n",
       "    <tr>\n",
       "      <th>1</th>\n",
       "      <td>False</td>\n",
       "      <td>False</td>\n",
       "      <td>False</td>\n",
       "      <td>False</td>\n",
       "      <td>False</td>\n",
       "      <td>False</td>\n",
       "      <td>False</td>\n",
       "      <td>False</td>\n",
       "      <td>False</td>\n",
       "      <td>False</td>\n",
       "      <td>False</td>\n",
       "      <td>False</td>\n",
       "    </tr>\n",
       "    <tr>\n",
       "      <th>2</th>\n",
       "      <td>False</td>\n",
       "      <td>False</td>\n",
       "      <td>False</td>\n",
       "      <td>False</td>\n",
       "      <td>False</td>\n",
       "      <td>False</td>\n",
       "      <td>False</td>\n",
       "      <td>False</td>\n",
       "      <td>False</td>\n",
       "      <td>False</td>\n",
       "      <td>False</td>\n",
       "      <td>False</td>\n",
       "    </tr>\n",
       "    <tr>\n",
       "      <th>3</th>\n",
       "      <td>False</td>\n",
       "      <td>False</td>\n",
       "      <td>False</td>\n",
       "      <td>False</td>\n",
       "      <td>False</td>\n",
       "      <td>False</td>\n",
       "      <td>False</td>\n",
       "      <td>False</td>\n",
       "      <td>False</td>\n",
       "      <td>False</td>\n",
       "      <td>False</td>\n",
       "      <td>False</td>\n",
       "    </tr>\n",
       "    <tr>\n",
       "      <th>4</th>\n",
       "      <td>False</td>\n",
       "      <td>False</td>\n",
       "      <td>False</td>\n",
       "      <td>False</td>\n",
       "      <td>False</td>\n",
       "      <td>False</td>\n",
       "      <td>False</td>\n",
       "      <td>False</td>\n",
       "      <td>False</td>\n",
       "      <td>False</td>\n",
       "      <td>False</td>\n",
       "      <td>False</td>\n",
       "    </tr>\n",
       "    <tr>\n",
       "      <th>...</th>\n",
       "      <td>...</td>\n",
       "      <td>...</td>\n",
       "      <td>...</td>\n",
       "      <td>...</td>\n",
       "      <td>...</td>\n",
       "      <td>...</td>\n",
       "      <td>...</td>\n",
       "      <td>...</td>\n",
       "      <td>...</td>\n",
       "      <td>...</td>\n",
       "      <td>...</td>\n",
       "      <td>...</td>\n",
       "    </tr>\n",
       "    <tr>\n",
       "      <th>188</th>\n",
       "      <td>False</td>\n",
       "      <td>False</td>\n",
       "      <td>False</td>\n",
       "      <td>False</td>\n",
       "      <td>False</td>\n",
       "      <td>False</td>\n",
       "      <td>False</td>\n",
       "      <td>False</td>\n",
       "      <td>False</td>\n",
       "      <td>False</td>\n",
       "      <td>False</td>\n",
       "      <td>False</td>\n",
       "    </tr>\n",
       "    <tr>\n",
       "      <th>189</th>\n",
       "      <td>False</td>\n",
       "      <td>False</td>\n",
       "      <td>False</td>\n",
       "      <td>False</td>\n",
       "      <td>False</td>\n",
       "      <td>False</td>\n",
       "      <td>False</td>\n",
       "      <td>False</td>\n",
       "      <td>False</td>\n",
       "      <td>False</td>\n",
       "      <td>False</td>\n",
       "      <td>False</td>\n",
       "    </tr>\n",
       "    <tr>\n",
       "      <th>190</th>\n",
       "      <td>False</td>\n",
       "      <td>False</td>\n",
       "      <td>False</td>\n",
       "      <td>False</td>\n",
       "      <td>False</td>\n",
       "      <td>False</td>\n",
       "      <td>False</td>\n",
       "      <td>False</td>\n",
       "      <td>False</td>\n",
       "      <td>False</td>\n",
       "      <td>False</td>\n",
       "      <td>False</td>\n",
       "    </tr>\n",
       "    <tr>\n",
       "      <th>191</th>\n",
       "      <td>False</td>\n",
       "      <td>False</td>\n",
       "      <td>False</td>\n",
       "      <td>False</td>\n",
       "      <td>False</td>\n",
       "      <td>False</td>\n",
       "      <td>False</td>\n",
       "      <td>False</td>\n",
       "      <td>False</td>\n",
       "      <td>False</td>\n",
       "      <td>False</td>\n",
       "      <td>False</td>\n",
       "    </tr>\n",
       "    <tr>\n",
       "      <th>192</th>\n",
       "      <td>False</td>\n",
       "      <td>False</td>\n",
       "      <td>False</td>\n",
       "      <td>False</td>\n",
       "      <td>False</td>\n",
       "      <td>False</td>\n",
       "      <td>False</td>\n",
       "      <td>False</td>\n",
       "      <td>False</td>\n",
       "      <td>False</td>\n",
       "      <td>False</td>\n",
       "      <td>False</td>\n",
       "    </tr>\n",
       "  </tbody>\n",
       "</table>\n",
       "<p>193 rows × 12 columns</p>\n",
       "</div>"
      ],
      "text/plain": [
       "     EMD_CD   TRAD  CONCERT    OLD   MART    LIB    ART    MUS    MED   COMM  \\\n",
       "0     False  False    False  False  False  False  False  False  False  False   \n",
       "1     False  False    False  False  False  False  False  False  False  False   \n",
       "2     False  False    False  False  False  False  False  False  False  False   \n",
       "3     False  False    False  False  False  False  False  False  False  False   \n",
       "4     False  False    False  False  False  False  False  False  False  False   \n",
       "..      ...    ...      ...    ...    ...    ...    ...    ...    ...    ...   \n",
       "188   False  False    False  False  False  False  False  False  False  False   \n",
       "189   False  False    False  False  False  False  False  False  False  False   \n",
       "190   False  False    False  False  False  False  False  False  False  False   \n",
       "191   False  False    False  False  False  False  False  False  False  False   \n",
       "192   False  False    False  False  False  False  False  False  False  False   \n",
       "\n",
       "     SPORT  CHARGE  \n",
       "0    False   False  \n",
       "1    False   False  \n",
       "2    False   False  \n",
       "3    False   False  \n",
       "4    False   False  \n",
       "..     ...     ...  \n",
       "188  False   False  \n",
       "189  False   False  \n",
       "190  False   False  \n",
       "191  False   False  \n",
       "192  False   False  \n",
       "\n",
       "[193 rows x 12 columns]"
      ]
     },
     "execution_count": 7,
     "metadata": {},
     "output_type": "execute_result"
    }
   ],
   "source": [
    "infra_data.isnull()"
   ]
  },
  {
   "cell_type": "code",
   "execution_count": 8,
   "id": "fc8c7301",
   "metadata": {},
   "outputs": [
    {
     "data": {
      "text/plain": [
       "EMD_CD     0\n",
       "TRAD       0\n",
       "CONCERT    0\n",
       "OLD        0\n",
       "MART       0\n",
       "LIB        0\n",
       "ART        0\n",
       "MUS        0\n",
       "MED        0\n",
       "COMM       0\n",
       "SPORT      0\n",
       "CHARGE     0\n",
       "dtype: int64"
      ]
     },
     "execution_count": 8,
     "metadata": {},
     "output_type": "execute_result"
    }
   ],
   "source": [
    "infra_data.isnull().sum()"
   ]
  },
  {
   "cell_type": "markdown",
   "id": "bb8299de",
   "metadata": {},
   "source": [
    "#  ver1. 다중선형 회귀분석"
   ]
  },
  {
   "cell_type": "code",
   "execution_count": 9,
   "id": "c999d7b2",
   "metadata": {},
   "outputs": [],
   "source": [
    "# 법정동 코드 : EMD_CD, 충전소 개수 : CHARGE를 제외한 칼럼들은 X\n",
    "X = infra_data[infra_data.columns.difference(['EMD_CD','CHARGE'])]\n",
    "\n",
    "y = infra_data['CHARGE']"
   ]
  },
  {
   "cell_type": "code",
   "execution_count": 10,
   "id": "47921f00",
   "metadata": {},
   "outputs": [],
   "source": [
    "# train : test = 80 : 20\n",
    "X_train, X_test, y_train, y_test = train_test_split(X, y, test_size=0.2, random_state=1004)"
   ]
  },
  {
   "cell_type": "code",
   "execution_count": 11,
   "id": "0aaae87d",
   "metadata": {},
   "outputs": [],
   "source": [
    "lr = linear_model.LinearRegression()"
   ]
  },
  {
   "cell_type": "code",
   "execution_count": 12,
   "id": "22fe747e",
   "metadata": {},
   "outputs": [],
   "source": [
    "lr_model = lr.fit(X_train, y_train)"
   ]
  },
  {
   "cell_type": "code",
   "execution_count": 13,
   "id": "70b9af3a",
   "metadata": {},
   "outputs": [
    {
     "name": "stdout",
     "output_type": "stream",
     "text": [
      "[ 0.21561035  0.42419899 -0.01586696  0.03567289 -0.04128868  0.04147439\n",
      "  0.4404254   0.00781541  0.04076956  0.97407176]\n"
     ]
    }
   ],
   "source": [
    "# trained_coef\n",
    "print(lr.coef_)"
   ]
  },
  {
   "cell_type": "code",
   "execution_count": 14,
   "id": "724bd4ec",
   "metadata": {},
   "outputs": [
    {
     "name": "stdout",
     "output_type": "stream",
     "text": [
      "-0.036107578411470054\n"
     ]
    }
   ],
   "source": [
    "# trained_intercept\n",
    "print(lr.intercept_)"
   ]
  },
  {
   "cell_type": "markdown",
   "id": "a71a67ef",
   "metadata": {},
   "source": [
    "## 기존 값과 예측 값 비교"
   ]
  },
  {
   "cell_type": "code",
   "execution_count": 15,
   "id": "fb29cfb8",
   "metadata": {},
   "outputs": [
    {
     "name": "stdout",
     "output_type": "stream",
     "text": [
      "<class 'pandas.core.series.Series'>\n"
     ]
    }
   ],
   "source": [
    "x_new = X_test\n",
    "y_new = lr_model.predict(x_new)\n",
    "print(type(y_test))"
   ]
  },
  {
   "cell_type": "code",
   "execution_count": 16,
   "id": "3cc8496a",
   "metadata": {},
   "outputs": [],
   "source": [
    "y_compare = {'y_test' : y_test, 'y_predicted' : y_new}"
   ]
  },
  {
   "cell_type": "code",
   "execution_count": 18,
   "id": "54771e4f",
   "metadata": {
    "scrolled": true
   },
   "outputs": [
    {
     "data": {
      "text/html": [
       "<div>\n",
       "<style scoped>\n",
       "    .dataframe tbody tr th:only-of-type {\n",
       "        vertical-align: middle;\n",
       "    }\n",
       "\n",
       "    .dataframe tbody tr th {\n",
       "        vertical-align: top;\n",
       "    }\n",
       "\n",
       "    .dataframe thead th {\n",
       "        text-align: right;\n",
       "    }\n",
       "</style>\n",
       "<table border=\"1\" class=\"dataframe\">\n",
       "  <thead>\n",
       "    <tr style=\"text-align: right;\">\n",
       "      <th></th>\n",
       "      <th>y_test</th>\n",
       "      <th>y_predicted</th>\n",
       "    </tr>\n",
       "  </thead>\n",
       "  <tbody>\n",
       "    <tr>\n",
       "      <th>143</th>\n",
       "      <td>0</td>\n",
       "      <td>0.004662</td>\n",
       "    </tr>\n",
       "    <tr>\n",
       "      <th>17</th>\n",
       "      <td>1</td>\n",
       "      <td>1.172457</td>\n",
       "    </tr>\n",
       "    <tr>\n",
       "      <th>128</th>\n",
       "      <td>0</td>\n",
       "      <td>0.388091</td>\n",
       "    </tr>\n",
       "    <tr>\n",
       "      <th>103</th>\n",
       "      <td>2</td>\n",
       "      <td>0.135491</td>\n",
       "    </tr>\n",
       "    <tr>\n",
       "      <th>148</th>\n",
       "      <td>0</td>\n",
       "      <td>-0.036108</td>\n",
       "    </tr>\n",
       "    <tr>\n",
       "      <th>131</th>\n",
       "      <td>1</td>\n",
       "      <td>0.646953</td>\n",
       "    </tr>\n",
       "    <tr>\n",
       "      <th>93</th>\n",
       "      <td>0</td>\n",
       "      <td>0.086201</td>\n",
       "    </tr>\n",
       "    <tr>\n",
       "      <th>52</th>\n",
       "      <td>0</td>\n",
       "      <td>0.004662</td>\n",
       "    </tr>\n",
       "    <tr>\n",
       "      <th>25</th>\n",
       "      <td>0</td>\n",
       "      <td>-0.036108</td>\n",
       "    </tr>\n",
       "    <tr>\n",
       "      <th>182</th>\n",
       "      <td>4</td>\n",
       "      <td>1.855285</td>\n",
       "    </tr>\n",
       "    <tr>\n",
       "      <th>49</th>\n",
       "      <td>0</td>\n",
       "      <td>0.045432</td>\n",
       "    </tr>\n",
       "    <tr>\n",
       "      <th>119</th>\n",
       "      <td>2</td>\n",
       "      <td>3.996942</td>\n",
       "    </tr>\n",
       "    <tr>\n",
       "      <th>181</th>\n",
       "      <td>2</td>\n",
       "      <td>0.081104</td>\n",
       "    </tr>\n",
       "    <tr>\n",
       "      <th>118</th>\n",
       "      <td>3</td>\n",
       "      <td>3.891956</td>\n",
       "    </tr>\n",
       "    <tr>\n",
       "      <th>191</th>\n",
       "      <td>0</td>\n",
       "      <td>0.619928</td>\n",
       "    </tr>\n",
       "    <tr>\n",
       "      <th>15</th>\n",
       "      <td>0</td>\n",
       "      <td>0.110352</td>\n",
       "    </tr>\n",
       "    <tr>\n",
       "      <th>177</th>\n",
       "      <td>1</td>\n",
       "      <td>1.109277</td>\n",
       "    </tr>\n",
       "    <tr>\n",
       "      <th>63</th>\n",
       "      <td>0</td>\n",
       "      <td>0.045432</td>\n",
       "    </tr>\n",
       "    <tr>\n",
       "      <th>189</th>\n",
       "      <td>1</td>\n",
       "      <td>0.040335</td>\n",
       "    </tr>\n",
       "    <tr>\n",
       "      <th>116</th>\n",
       "      <td>1</td>\n",
       "      <td>1.636388</td>\n",
       "    </tr>\n",
       "    <tr>\n",
       "      <th>169</th>\n",
       "      <td>2</td>\n",
       "      <td>2.552587</td>\n",
       "    </tr>\n",
       "    <tr>\n",
       "      <th>89</th>\n",
       "      <td>0</td>\n",
       "      <td>-0.036108</td>\n",
       "    </tr>\n",
       "    <tr>\n",
       "      <th>82</th>\n",
       "      <td>2</td>\n",
       "      <td>1.017163</td>\n",
       "    </tr>\n",
       "    <tr>\n",
       "      <th>124</th>\n",
       "      <td>0</td>\n",
       "      <td>-0.036108</td>\n",
       "    </tr>\n",
       "    <tr>\n",
       "      <th>87</th>\n",
       "      <td>0</td>\n",
       "      <td>0.676029</td>\n",
       "    </tr>\n",
       "    <tr>\n",
       "      <th>32</th>\n",
       "      <td>0</td>\n",
       "      <td>1.370493</td>\n",
       "    </tr>\n",
       "    <tr>\n",
       "      <th>98</th>\n",
       "      <td>0</td>\n",
       "      <td>0.095426</td>\n",
       "    </tr>\n",
       "    <tr>\n",
       "      <th>188</th>\n",
       "      <td>5</td>\n",
       "      <td>2.011416</td>\n",
       "    </tr>\n",
       "    <tr>\n",
       "      <th>158</th>\n",
       "      <td>0</td>\n",
       "      <td>0.004662</td>\n",
       "    </tr>\n",
       "    <tr>\n",
       "      <th>88</th>\n",
       "      <td>0</td>\n",
       "      <td>0.844372</td>\n",
       "    </tr>\n",
       "    <tr>\n",
       "      <th>171</th>\n",
       "      <td>0</td>\n",
       "      <td>-0.036108</td>\n",
       "    </tr>\n",
       "    <tr>\n",
       "      <th>146</th>\n",
       "      <td>0</td>\n",
       "      <td>1.245590</td>\n",
       "    </tr>\n",
       "    <tr>\n",
       "      <th>101</th>\n",
       "      <td>0</td>\n",
       "      <td>0.045432</td>\n",
       "    </tr>\n",
       "    <tr>\n",
       "      <th>5</th>\n",
       "      <td>2</td>\n",
       "      <td>0.813893</td>\n",
       "    </tr>\n",
       "    <tr>\n",
       "      <th>125</th>\n",
       "      <td>0</td>\n",
       "      <td>0.004662</td>\n",
       "    </tr>\n",
       "    <tr>\n",
       "      <th>163</th>\n",
       "      <td>0</td>\n",
       "      <td>0.114399</td>\n",
       "    </tr>\n",
       "    <tr>\n",
       "      <th>9</th>\n",
       "      <td>0</td>\n",
       "      <td>1.238323</td>\n",
       "    </tr>\n",
       "    <tr>\n",
       "      <th>80</th>\n",
       "      <td>1</td>\n",
       "      <td>0.543187</td>\n",
       "    </tr>\n",
       "    <tr>\n",
       "      <th>38</th>\n",
       "      <td>0</td>\n",
       "      <td>0.086906</td>\n",
       "    </tr>\n",
       "  </tbody>\n",
       "</table>\n",
       "</div>"
      ],
      "text/plain": [
       "     y_test  y_predicted\n",
       "143       0     0.004662\n",
       "17        1     1.172457\n",
       "128       0     0.388091\n",
       "103       2     0.135491\n",
       "148       0    -0.036108\n",
       "131       1     0.646953\n",
       "93        0     0.086201\n",
       "52        0     0.004662\n",
       "25        0    -0.036108\n",
       "182       4     1.855285\n",
       "49        0     0.045432\n",
       "119       2     3.996942\n",
       "181       2     0.081104\n",
       "118       3     3.891956\n",
       "191       0     0.619928\n",
       "15        0     0.110352\n",
       "177       1     1.109277\n",
       "63        0     0.045432\n",
       "189       1     0.040335\n",
       "116       1     1.636388\n",
       "169       2     2.552587\n",
       "89        0    -0.036108\n",
       "82        2     1.017163\n",
       "124       0    -0.036108\n",
       "87        0     0.676029\n",
       "32        0     1.370493\n",
       "98        0     0.095426\n",
       "188       5     2.011416\n",
       "158       0     0.004662\n",
       "88        0     0.844372\n",
       "171       0    -0.036108\n",
       "146       0     1.245590\n",
       "101       0     0.045432\n",
       "5         2     0.813893\n",
       "125       0     0.004662\n",
       "163       0     0.114399\n",
       "9         0     1.238323\n",
       "80        1     0.543187\n",
       "38        0     0.086906"
      ]
     },
     "execution_count": 18,
     "metadata": {},
     "output_type": "execute_result"
    }
   ],
   "source": [
    "y_compare = pd.DataFrame(y_compare)\n",
    "y_compare"
   ]
  },
  {
   "cell_type": "code",
   "execution_count": 21,
   "id": "3de3f52c",
   "metadata": {},
   "outputs": [],
   "source": [
    "# os 에 따른 Font 깨짐 제거를 위해 Font 지정\n",
    "import os\n",
    "if os.name == 'nt' :\n",
    "    font_family = \"Malgun Gothic\"\n",
    "else :\n",
    "    font_family = \"Apple Gothic\"\n",
    "    \n",
    "\n",
    "# -값이 깨지는 문제 해결을 위해 파라미터값 설정\n",
    "sns.set(font = font_family, rc = {\"axes.unicode_minus\" : False})"
   ]
  },
  {
   "cell_type": "code",
   "execution_count": 24,
   "id": "771fddae",
   "metadata": {},
   "outputs": [
    {
     "data": {
      "text/plain": [
       "<matplotlib.legend.Legend at 0x1f42158f640>"
      ]
     },
     "execution_count": 24,
     "metadata": {},
     "output_type": "execute_result"
    },
    {
     "data": {
      "image/png": "[encoded data removed]",
      "text/plain": [
       "<Figure size 864x288 with 1 Axes>"
      ]
     },
     "metadata": {},
     "output_type": "display_data"
    }
   ],
   "source": [
    "ax = y_compare.plot(kind = 'bar', title = '생활 인프라 기반 충전소 수요 예측 ver.1', \n",
    "                   figsize = (12, 4), legend = True, fontsize = 12)\n",
    "ax.set_xlabel('법정동', fontsize = 12)\n",
    "ax.set_ylabel('테스트 값 / 예측 값', fontsize = 12)\n",
    "ax.legend(['y_test', 'y_predicted'], fontsize = 12)"
   ]
  },
  {
   "cell_type": "markdown",
   "id": "2b6f950a",
   "metadata": {},
   "source": [
    "# Performance"
   ]
  },
  {
   "cell_type": "code",
   "execution_count": 25,
   "id": "0ddc9fa8",
   "metadata": {},
   "outputs": [
    {
     "name": "stdout",
     "output_type": "stream",
     "text": [
      "훈련 세트의 정확도 : 0.6754028443153344\n",
      "테스트 세트의 정확도 : 0.3573305567858832\n",
      "사용한 특성의 수 : 10\n"
     ]
    }
   ],
   "source": [
    "# R2 Score(결정계수)\n",
    "print(f'훈련 세트의 정확도 : {lr_model.score(X_train, y_train)}')\n",
    "print(f'테스트 세트의 정확도 : {lr_model.score(X_test, y_test)}')\n",
    "print(f'사용한 특성의 수 : {np.sum(lr_model.coef_ != 0)}')"
   ]
  },
  {
   "cell_type": "markdown",
   "id": "f2b1ddd7",
   "metadata": {},
   "source": [
    "# Improved Performance "
   ]
  },
  {
   "cell_type": "markdown",
   "id": "fe329b28",
   "metadata": {},
   "source": [
    "## 1. vif가 높은 feature 제거"
   ]
  },
  {
   "cell_type": "code",
   "execution_count": 26,
   "id": "b708356c",
   "metadata": {},
   "outputs": [
    {
     "data": {
      "text/plain": [
       "<AxesSubplot:>"
      ]
     },
     "execution_count": 26,
     "metadata": {},
     "output_type": "execute_result"
    },
    {
     "data": {
      "image/png": "[encoded data removed]",
      "text/plain": [
       "<Figure size 1080x720 with 2 Axes>"
      ]
     },
     "metadata": {},
     "output_type": "display_data"
    }
   ],
   "source": [
    "# Heatmap\n",
    "infra_data_corr = infra_data[['TRAD', 'CONCERT', 'OLD', 'MART', 'LIB',\n",
    "                             'ART', 'MUS', 'COMM', 'SPORT', 'CHARGE']]\n",
    "plt.rcParams['figure.figsize'] = (15, 10)\n",
    "\n",
    "sns.heatmap(infra_data_corr.corr(), annot = True, cmap = 'Reds', vmin = -1, vmax = 1)"
   ]
  },
  {
   "cell_type": "code",
   "execution_count": 27,
   "id": "a5b6de67",
   "metadata": {},
   "outputs": [
    {
     "data": {
      "text/html": [
       "<div>\n",
       "<style scoped>\n",
       "    .dataframe tbody tr th:only-of-type {\n",
       "        vertical-align: middle;\n",
       "    }\n",
       "\n",
       "    .dataframe tbody tr th {\n",
       "        vertical-align: top;\n",
       "    }\n",
       "\n",
       "    .dataframe thead th {\n",
       "        text-align: right;\n",
       "    }\n",
       "</style>\n",
       "<table border=\"1\" class=\"dataframe\">\n",
       "  <thead>\n",
       "    <tr style=\"text-align: right;\">\n",
       "      <th></th>\n",
       "      <th>VIF</th>\n",
       "      <th>features</th>\n",
       "    </tr>\n",
       "  </thead>\n",
       "  <tbody>\n",
       "    <tr>\n",
       "      <th>0</th>\n",
       "      <td>1.850389</td>\n",
       "      <td>TRAD</td>\n",
       "    </tr>\n",
       "    <tr>\n",
       "      <th>1</th>\n",
       "      <td>1.582702</td>\n",
       "      <td>CONCERT</td>\n",
       "    </tr>\n",
       "    <tr>\n",
       "      <th>2</th>\n",
       "      <td>1.499320</td>\n",
       "      <td>OLD</td>\n",
       "    </tr>\n",
       "    <tr>\n",
       "      <th>3</th>\n",
       "      <td>1.415442</td>\n",
       "      <td>MART</td>\n",
       "    </tr>\n",
       "    <tr>\n",
       "      <th>4</th>\n",
       "      <td>3.331088</td>\n",
       "      <td>LIB</td>\n",
       "    </tr>\n",
       "    <tr>\n",
       "      <th>5</th>\n",
       "      <td>1.141831</td>\n",
       "      <td>ART</td>\n",
       "    </tr>\n",
       "    <tr>\n",
       "      <th>6</th>\n",
       "      <td>1.167249</td>\n",
       "      <td>MUS</td>\n",
       "    </tr>\n",
       "    <tr>\n",
       "      <th>7</th>\n",
       "      <td>4.048336</td>\n",
       "      <td>COMM</td>\n",
       "    </tr>\n",
       "    <tr>\n",
       "      <th>8</th>\n",
       "      <td>1.842815</td>\n",
       "      <td>SPORT</td>\n",
       "    </tr>\n",
       "    <tr>\n",
       "      <th>9</th>\n",
       "      <td>3.319672</td>\n",
       "      <td>CHARGE</td>\n",
       "    </tr>\n",
       "  </tbody>\n",
       "</table>\n",
       "</div>"
      ],
      "text/plain": [
       "        VIF features\n",
       "0  1.850389     TRAD\n",
       "1  1.582702  CONCERT\n",
       "2  1.499320      OLD\n",
       "3  1.415442     MART\n",
       "4  3.331088      LIB\n",
       "5  1.141831      ART\n",
       "6  1.167249      MUS\n",
       "7  4.048336     COMM\n",
       "8  1.842815    SPORT\n",
       "9  3.319672   CHARGE"
      ]
     },
     "execution_count": 27,
     "metadata": {},
     "output_type": "execute_result"
    }
   ],
   "source": [
    "# VIF\n",
    "from statsmodels.stats.outliers_influence import variance_inflation_factor\n",
    "vif = pd.DataFrame()\n",
    "vif['VIF'] = [variance_inflation_factor(infra_data_corr.values, i) for i in range(infra_data_corr.shape[1])]\n",
    "vif['features'] = infra_data_corr.columns\n",
    "vif"
   ]
  },
  {
   "cell_type": "code",
   "execution_count": 28,
   "id": "96ced364",
   "metadata": {},
   "outputs": [
    {
     "data": {
      "text/html": [
       "<div>\n",
       "<style scoped>\n",
       "    .dataframe tbody tr th:only-of-type {\n",
       "        vertical-align: middle;\n",
       "    }\n",
       "\n",
       "    .dataframe tbody tr th {\n",
       "        vertical-align: top;\n",
       "    }\n",
       "\n",
       "    .dataframe thead th {\n",
       "        text-align: right;\n",
       "    }\n",
       "</style>\n",
       "<table border=\"1\" class=\"dataframe\">\n",
       "  <thead>\n",
       "    <tr style=\"text-align: right;\">\n",
       "      <th></th>\n",
       "      <th>VIF</th>\n",
       "      <th>features</th>\n",
       "    </tr>\n",
       "  </thead>\n",
       "  <tbody>\n",
       "    <tr>\n",
       "      <th>0</th>\n",
       "      <td>1.740057</td>\n",
       "      <td>TRAD</td>\n",
       "    </tr>\n",
       "    <tr>\n",
       "      <th>1</th>\n",
       "      <td>1.421892</td>\n",
       "      <td>CONCERT</td>\n",
       "    </tr>\n",
       "    <tr>\n",
       "      <th>2</th>\n",
       "      <td>1.345542</td>\n",
       "      <td>OLD</td>\n",
       "    </tr>\n",
       "    <tr>\n",
       "      <th>3</th>\n",
       "      <td>1.332378</td>\n",
       "      <td>MART</td>\n",
       "    </tr>\n",
       "    <tr>\n",
       "      <th>4</th>\n",
       "      <td>1.123353</td>\n",
       "      <td>ART</td>\n",
       "    </tr>\n",
       "    <tr>\n",
       "      <th>5</th>\n",
       "      <td>1.139434</td>\n",
       "      <td>MUS</td>\n",
       "    </tr>\n",
       "    <tr>\n",
       "      <th>6</th>\n",
       "      <td>1.734879</td>\n",
       "      <td>SPORT</td>\n",
       "    </tr>\n",
       "    <tr>\n",
       "      <th>7</th>\n",
       "      <td>2.763806</td>\n",
       "      <td>CHARGE</td>\n",
       "    </tr>\n",
       "  </tbody>\n",
       "</table>\n",
       "</div>"
      ],
      "text/plain": [
       "        VIF features\n",
       "0  1.740057     TRAD\n",
       "1  1.421892  CONCERT\n",
       "2  1.345542      OLD\n",
       "3  1.332378     MART\n",
       "4  1.123353      ART\n",
       "5  1.139434      MUS\n",
       "6  1.734879    SPORT\n",
       "7  2.763806   CHARGE"
      ]
     },
     "execution_count": 28,
     "metadata": {},
     "output_type": "execute_result"
    }
   ],
   "source": [
    "# vif가 높은 계수의 feature 제거\n",
    "infra_data_corr = infra_data_corr.drop(['COMM', 'LIB',], axis = 1)\n",
    "vif = pd.DataFrame()\n",
    "vif['VIF'] = [variance_inflation_factor(infra_data_corr.values, i) for i in range(infra_data_corr.shape[1])]\n",
    "vif['features'] = infra_data_corr.columns\n",
    "vif"
   ]
  },
  {
   "cell_type": "code",
   "execution_count": 29,
   "id": "4aa8cfc8",
   "metadata": {
    "scrolled": true
   },
   "outputs": [
    {
     "data": {
      "text/plain": [
       "array(['TRAD', 'CONCERT', 'OLD', 'MART', 'ART', 'MUS', 'SPORT', 'CHARGE'],\n",
       "      dtype=object)"
      ]
     },
     "execution_count": 29,
     "metadata": {},
     "output_type": "execute_result"
    }
   ],
   "source": [
    "vif.features.values"
   ]
  },
  {
   "cell_type": "markdown",
   "id": "5bbf8d36",
   "metadata": {},
   "source": [
    "# ver2. 다중선형 회귀분석"
   ]
  },
  {
   "cell_type": "code",
   "execution_count": 34,
   "id": "d4cd4632",
   "metadata": {},
   "outputs": [],
   "source": [
    "# 충전소 개수 : CHARGE를 제외한 칼럼들은 X\n",
    "infra_data_corr_re = infra_data_corr[['TRAD', 'CONCERT', 'OLD', 'MART', 'ART', 'MUS',\n",
    "                                     'SPORT', 'CHARGE']]\n",
    "X = infra_data_corr_re[infra_data_corr_re.columns.difference(['CHARGE'])]\n",
    "y = infra_data_corr_re['CHARGE']"
   ]
  },
  {
   "cell_type": "code",
   "execution_count": 35,
   "id": "830eb4f2",
   "metadata": {},
   "outputs": [],
   "source": [
    "# train : test = 80 : 20\n",
    "X_train, X_test, y_train, y_test = train_test_split(X, y, test_size=0.2, random_state=1004)"
   ]
  },
  {
   "cell_type": "code",
   "execution_count": 36,
   "id": "bb7059ac",
   "metadata": {},
   "outputs": [],
   "source": [
    "lr = linear_model.LinearRegression()\n",
    "lr_model2 = lr.fit(X_train, y_train)"
   ]
  },
  {
   "cell_type": "markdown",
   "id": "8dd86780",
   "metadata": {},
   "source": [
    "## 기존 값과 예측 값 비교"
   ]
  },
  {
   "cell_type": "code",
   "execution_count": 37,
   "id": "476e60d0",
   "metadata": {},
   "outputs": [],
   "source": [
    "x_new = X_test\n",
    "y_new = lr_model2.predict(x_new)"
   ]
  },
  {
   "cell_type": "code",
   "execution_count": 40,
   "id": "260f61f5",
   "metadata": {},
   "outputs": [],
   "source": [
    "y_compare2 = {'y_test' : y_test, 'y_predicted' : y_new}"
   ]
  },
  {
   "cell_type": "code",
   "execution_count": 41,
   "id": "67bba9e0",
   "metadata": {},
   "outputs": [],
   "source": [
    "y_compare2 = pd.DataFrame(y_compare2)"
   ]
  },
  {
   "cell_type": "code",
   "execution_count": 42,
   "id": "ea88a037",
   "metadata": {},
   "outputs": [
    {
     "data": {
      "text/plain": [
       "<matplotlib.legend.Legend at 0x1f423b32160>"
      ]
     },
     "execution_count": 42,
     "metadata": {},
     "output_type": "execute_result"
    },
    {
     "data": {
      "image/png": "[encoded data removed]",
      "text/plain": [
       "<Figure size 864x288 with 1 Axes>"
      ]
     },
     "metadata": {},
     "output_type": "display_data"
    }
   ],
   "source": [
    "ax = y_compare2.plot(kind = 'bar', title = '생활 인프라 기반 충전소 수요 예측 ver.2', \n",
    "                   figsize = (12, 4), legend = True, fontsize = 12)\n",
    "ax.set_xlabel('법정동', fontsize = 12)\n",
    "ax.set_ylabel('테스트 값 / 예측 값', fontsize = 12)\n",
    "ax.legend(['y_test', 'y_predicted'], fontsize = 12)"
   ]
  },
  {
   "cell_type": "markdown",
   "id": "c1479205",
   "metadata": {},
   "source": [
    "# Performance ver.2"
   ]
  },
  {
   "cell_type": "code",
   "execution_count": 43,
   "id": "98cb7006",
   "metadata": {},
   "outputs": [
    {
     "name": "stdout",
     "output_type": "stream",
     "text": [
      "훈련 세트의 정확도 : 0.5605810860306383\n",
      "테스트 세트의 정확도 : 0.3934349851244826\n",
      "사용한 특성의 수 : 7\n"
     ]
    }
   ],
   "source": [
    "# R2 Score(결정계수)\n",
    "print(f'훈련 세트의 정확도 : {lr_model2.score(X_train, y_train)}')\n",
    "print(f'테스트 세트의 정확도 : {lr_model2.score(X_test, y_test)}')\n",
    "print(f'사용한 특성의 수 : {np.sum(lr_model2.coef_ != 0)}')"
   ]
  },
  {
   "cell_type": "markdown",
   "id": "35c48deb",
   "metadata": {},
   "source": [
    "# 2. feature의 p-value 검정"
   ]
  },
  {
   "cell_type": "code",
   "execution_count": 44,
   "id": "65a0db22",
   "metadata": {
    "scrolled": true
   },
   "outputs": [
    {
     "data": {
      "text/html": [
       "<table class=\"simpletable\">\n",
       "<caption>OLS Regression Results</caption>\n",
       "<tr>\n",
       "  <th>Dep. Variable:</th>         <td>CHARGE</td>      <th>  R-squared:         </th> <td>   0.561</td>\n",
       "</tr>\n",
       "<tr>\n",
       "  <th>Model:</th>                   <td>OLS</td>       <th>  Adj. R-squared:    </th> <td>   0.540</td>\n",
       "</tr>\n",
       "<tr>\n",
       "  <th>Method:</th>             <td>Least Squares</td>  <th>  F-statistic:       </th> <td>   26.61</td>\n",
       "</tr>\n",
       "<tr>\n",
       "  <th>Date:</th>             <td>Tue, 09 Aug 2022</td> <th>  Prob (F-statistic):</th> <td>2.99e-23</td>\n",
       "</tr>\n",
       "<tr>\n",
       "  <th>Time:</th>                 <td>09:28:17</td>     <th>  Log-Likelihood:    </th> <td> -163.89</td>\n",
       "</tr>\n",
       "<tr>\n",
       "  <th>No. Observations:</th>      <td>   154</td>      <th>  AIC:               </th> <td>   343.8</td>\n",
       "</tr>\n",
       "<tr>\n",
       "  <th>Df Residuals:</th>          <td>   146</td>      <th>  BIC:               </th> <td>   368.1</td>\n",
       "</tr>\n",
       "<tr>\n",
       "  <th>Df Model:</th>              <td>     7</td>      <th>                     </th>     <td> </td>   \n",
       "</tr>\n",
       "<tr>\n",
       "  <th>Covariance Type:</th>      <td>nonrobust</td>    <th>                     </th>     <td> </td>   \n",
       "</tr>\n",
       "</table>\n",
       "<table class=\"simpletable\">\n",
       "<tr>\n",
       "     <td></td>        <th>coef</th>     <th>std err</th>      <th>t</th>      <th>P>|t|</th>  <th>[0.025</th>    <th>0.975]</th>  \n",
       "</tr>\n",
       "<tr>\n",
       "  <th>const</th>   <td>    0.0474</td> <td>    0.078</td> <td>    0.606</td> <td> 0.546</td> <td>   -0.107</td> <td>    0.202</td>\n",
       "</tr>\n",
       "<tr>\n",
       "  <th>ART</th>     <td>    0.2416</td> <td>    0.135</td> <td>    1.783</td> <td> 0.077</td> <td>   -0.026</td> <td>    0.509</td>\n",
       "</tr>\n",
       "<tr>\n",
       "  <th>CONCERT</th> <td>    0.4273</td> <td>    0.204</td> <td>    2.094</td> <td> 0.038</td> <td>    0.024</td> <td>    0.831</td>\n",
       "</tr>\n",
       "<tr>\n",
       "  <th>MART</th>    <td>    0.3217</td> <td>    0.151</td> <td>    2.128</td> <td> 0.035</td> <td>    0.023</td> <td>    0.620</td>\n",
       "</tr>\n",
       "<tr>\n",
       "  <th>MUS</th>     <td>    0.7410</td> <td>    0.341</td> <td>    2.170</td> <td> 0.032</td> <td>    0.066</td> <td>    1.416</td>\n",
       "</tr>\n",
       "<tr>\n",
       "  <th>OLD</th>     <td>    0.1656</td> <td>    0.076</td> <td>    2.184</td> <td> 0.031</td> <td>    0.016</td> <td>    0.315</td>\n",
       "</tr>\n",
       "<tr>\n",
       "  <th>SPORT</th>   <td>    0.0609</td> <td>    0.017</td> <td>    3.688</td> <td> 0.000</td> <td>    0.028</td> <td>    0.094</td>\n",
       "</tr>\n",
       "<tr>\n",
       "  <th>TRAD</th>    <td>    1.1200</td> <td>    0.167</td> <td>    6.708</td> <td> 0.000</td> <td>    0.790</td> <td>    1.450</td>\n",
       "</tr>\n",
       "</table>\n",
       "<table class=\"simpletable\">\n",
       "<tr>\n",
       "  <th>Omnibus:</th>       <td>60.189</td> <th>  Durbin-Watson:     </th> <td>   2.075</td>\n",
       "</tr>\n",
       "<tr>\n",
       "  <th>Prob(Omnibus):</th> <td> 0.000</td> <th>  Jarque-Bera (JB):  </th> <td> 194.469</td>\n",
       "</tr>\n",
       "<tr>\n",
       "  <th>Skew:</th>          <td> 1.512</td> <th>  Prob(JB):          </th> <td>5.91e-43</td>\n",
       "</tr>\n",
       "<tr>\n",
       "  <th>Kurtosis:</th>      <td> 7.601</td> <th>  Cond. No.          </th> <td>    29.6</td>\n",
       "</tr>\n",
       "</table><br/><br/>Notes:<br/>[1] Standard Errors assume that the covariance matrix of the errors is correctly specified."
      ],
      "text/plain": [
       "<class 'statsmodels.iolib.summary.Summary'>\n",
       "\"\"\"\n",
       "                            OLS Regression Results                            \n",
       "==============================================================================\n",
       "Dep. Variable:                 CHARGE   R-squared:                       0.561\n",
       "Model:                            OLS   Adj. R-squared:                  0.540\n",
       "Method:                 Least Squares   F-statistic:                     26.61\n",
       "Date:                Tue, 09 Aug 2022   Prob (F-statistic):           2.99e-23\n",
       "Time:                        09:28:17   Log-Likelihood:                -163.89\n",
       "No. Observations:                 154   AIC:                             343.8\n",
       "Df Residuals:                     146   BIC:                             368.1\n",
       "Df Model:                           7                                         \n",
       "Covariance Type:            nonrobust                                         \n",
       "==============================================================================\n",
       "                 coef    std err          t      P>|t|      [0.025      0.975]\n",
       "------------------------------------------------------------------------------\n",
       "const          0.0474      0.078      0.606      0.546      -0.107       0.202\n",
       "ART            0.2416      0.135      1.783      0.077      -0.026       0.509\n",
       "CONCERT        0.4273      0.204      2.094      0.038       0.024       0.831\n",
       "MART           0.3217      0.151      2.128      0.035       0.023       0.620\n",
       "MUS            0.7410      0.341      2.170      0.032       0.066       1.416\n",
       "OLD            0.1656      0.076      2.184      0.031       0.016       0.315\n",
       "SPORT          0.0609      0.017      3.688      0.000       0.028       0.094\n",
       "TRAD           1.1200      0.167      6.708      0.000       0.790       1.450\n",
       "==============================================================================\n",
       "Omnibus:                       60.189   Durbin-Watson:                   2.075\n",
       "Prob(Omnibus):                  0.000   Jarque-Bera (JB):              194.469\n",
       "Skew:                           1.512   Prob(JB):                     5.91e-43\n",
       "Kurtosis:                       7.601   Cond. No.                         29.6\n",
       "==============================================================================\n",
       "\n",
       "Notes:\n",
       "[1] Standard Errors assume that the covariance matrix of the errors is correctly specified.\n",
       "\"\"\""
      ]
     },
     "execution_count": 44,
     "metadata": {},
     "output_type": "execute_result"
    }
   ],
   "source": [
    "import statsmodels.api as sms\n",
    "\n",
    "X_train = sms.add_constant(X_train)\n",
    "lr_remodel = sms.OLS(y_train, X_train).fit()\n",
    "lr_remodel.summary()"
   ]
  },
  {
   "cell_type": "markdown",
   "id": "687fb3df",
   "metadata": {},
   "source": [
    "# ver3. 다중선형 회귀분석"
   ]
  },
  {
   "cell_type": "code",
   "execution_count": 45,
   "id": "5838556a",
   "metadata": {},
   "outputs": [],
   "source": [
    "# 충전소 개수 : CHARGE를 제외한 칼럼들은 X\n",
    "infra_data_corr_re = infra_data_corr[['CONCERT', 'SPORT', 'TRAD', 'MART', 'OLD', 'CHARGE']]\n",
    "\n",
    "X = infra_data_corr_re[infra_data_corr_re.columns.difference(['CHARGE'])]\n",
    "y = infra_data_corr_re['CHARGE']"
   ]
  },
  {
   "cell_type": "code",
   "execution_count": 46,
   "id": "06dfe19e",
   "metadata": {},
   "outputs": [],
   "source": [
    "# train : test = 80 : 20\n",
    "X_train, X_test, y_train, y_test = train_test_split(X, y, test_size=0.2, random_state=1004)"
   ]
  },
  {
   "cell_type": "code",
   "execution_count": 47,
   "id": "c08b1d17",
   "metadata": {},
   "outputs": [],
   "source": [
    "lr = linear_model.LinearRegression()\n",
    "lr_model3 = lr.fit(X_train, y_train)"
   ]
  },
  {
   "cell_type": "markdown",
   "id": "89126251",
   "metadata": {},
   "source": [
    "## 기존 값과 예측 값 비교"
   ]
  },
  {
   "cell_type": "code",
   "execution_count": 48,
   "id": "6bf1284d",
   "metadata": {},
   "outputs": [],
   "source": [
    "x_new = X_test\n",
    "y_new = lr_model3.predict(x_new)"
   ]
  },
  {
   "cell_type": "code",
   "execution_count": 49,
   "id": "a35077e8",
   "metadata": {},
   "outputs": [],
   "source": [
    "y_compare3 = {'y_test' : y_test, 'y_predicted' : y_new}"
   ]
  },
  {
   "cell_type": "code",
   "execution_count": 50,
   "id": "6806313e",
   "metadata": {},
   "outputs": [],
   "source": [
    "y_compare3 = pd.DataFrame(y_compare3)"
   ]
  },
  {
   "cell_type": "code",
   "execution_count": 51,
   "id": "215bebfa",
   "metadata": {},
   "outputs": [
    {
     "data": {
      "text/plain": [
       "<matplotlib.legend.Legend at 0x1f422d06130>"
      ]
     },
     "execution_count": 51,
     "metadata": {},
     "output_type": "execute_result"
    },
    {
     "data": {
      "image/png": "[encoded data removed]",
      "text/plain": [
       "<Figure size 864x288 with 1 Axes>"
      ]
     },
     "metadata": {},
     "output_type": "display_data"
    }
   ],
   "source": [
    "ax = y_compare3.plot(kind = 'bar', title = '생활 인프라 기반 충전소 수요 예측 ver.2', \n",
    "                   figsize = (12, 4), legend = True, fontsize = 12)\n",
    "ax.set_xlabel('법정동', fontsize = 12)\n",
    "ax.set_ylabel('테스트 값 / 예측 값', fontsize = 12)\n",
    "ax.legend(['y_test', 'y_predicted'], fontsize = 12)"
   ]
  },
  {
   "cell_type": "markdown",
   "id": "1dd460c7",
   "metadata": {},
   "source": [
    "# Performance ver.3"
   ]
  },
  {
   "cell_type": "code",
   "execution_count": 52,
   "id": "c0b37fa3",
   "metadata": {},
   "outputs": [
    {
     "name": "stdout",
     "output_type": "stream",
     "text": [
      "훈련 세트의 정확도 : 0.535535713801683\n",
      "테스트 세트의 정확도 : 0.4224041375041633\n",
      "사용한 특성의 수 : 5\n"
     ]
    }
   ],
   "source": [
    "# R2 Score(결정계수)\n",
    "print(f'훈련 세트의 정확도 : {lr_model3.score(X_train, y_train)}')\n",
    "print(f'테스트 세트의 정확도 : {lr_model3.score(X_test, y_test)}')\n",
    "print(f'사용한 특성의 수 : {np.sum(lr_model3.coef_ != 0)}')"
   ]
  },
  {
   "cell_type": "code",
   "execution_count": null,
   "id": "4b782da2",
   "metadata": {},
   "outputs": [],
   "source": []
  }
 ],
 "metadata": {
  "kernelspec": {
   "display_name": "Python 3 (ipykernel)",
   "language": "python",
   "name": "python3"
  },
  "language_info": {
   "codemirror_mode": {
    "name": "ipython",
    "version": 3
   },
   "file_extension": ".py",
   "mimetype": "text/x-python",
   "name": "python",
   "nbconvert_exporter": "python",
   "pygments_lexer": "ipython3",
   "version": "3.9.12"
  }
 },
 "nbformat": 4,
 "nbformat_minor": 5
}
