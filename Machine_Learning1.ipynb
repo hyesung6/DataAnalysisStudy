{
 "cells": [
  {
   "cell_type": "markdown",
   "id": "47912001-74db-45e4-8cc9-595b40b95818",
   "metadata": {},
   "source": [
    "# 데이터 마이닝 기반 분석 모델\n",
    "--> 데이터 내에 존재하는 숨겨진 의미 및 패턴을 추출하는 과정. 패턴과 상관성을 중심으로 숫자, 데이터 처리까지 가능\n",
    "\n",
    "- 분류 모델\n",
    "  - 범주형 변수 혹은 이산형 변수 등의 범주를 예측하는 기법으로 다수의 속성 혹은 변수를 가지는 객체들을 사전에 정해진 그룹이나 변주 중의 하나로 분류하는 모델\n",
    "    - 통계적 기법 : 로지스틱 회귀, 판별 분석\n",
    "    - 트리 기반 기법 : 의사결정 규칙에 따라, 변수를 몇 개의 소집단으로 분류\n",
    "    - 최적화 기법 : 서포터 벡터 머신\n",
    "    - 기계 학습 : 인간의 학습 방법 ( 퍼셉트론 ) 을 실현하고자 하는 연구 분야. 인공신경망 ( Artificial Neural Network )\n",
    "\n",
    "\n",
    "- 예측 모델\n",
    "  - 수치형 등의 과거 데이터로부터 특성을 분석하여 결과값을 예측하는 기법\n",
    "    - 회귀 분석 : 관찰된 연속형 변수들에 대해 변수 사이의 모델을 구한 뒤 적합도를 측정\n",
    "    - 의사결정나무 : 의사결정규칙을 도표화해, 소집단으로 분류하거나 예측을 수행\n",
    "    - 시계열분석 : 연도, 분기, 월별 등을 분석하여 미래를 예측\n",
    "    - 인공신경망 : 인간의 학습 방법 ( 퍼셉트론 ) 을 실현하고자 하는 연구 분야. 인공신경망 ( Artificial Neural Network )\n",
    "\n",
    "\n",
    "- 군집화 모델\n",
    "  - 이질적인 집단을 몇 개의 동질적인 소집단으로 세분화하는 모델\n",
    "    - 계층적 방법 : 군집 수를 정하지 않고 응집 및 분할을 통해 단계적으로 결과를 산출\n",
    "    - 비계층적 방법 : 군집 수를 정해놓고 각 소집단으로 배정하는 방법\n",
    "\n",
    "\n",
    "- 연관규칙 모델\n",
    "  - 데이터에 숨어 있으면서 동시에 발생하는 사건 혹은 항목 간의 규칙을 수치화하는 분석 기법\n",
    "    - Apriori algorithm : 데이터셋의 빈발 항목을 산출하는 알고리즘. 데이터셋 내에서 최소 N번의 트랜잭션이 일어난 아이템 집합들을 발견하는 알고리즘\n",
    "    - FP-Growth algorithm : 방대한 양에 대한 Apriori의 연산 속도를 개선한 알고리즘"
   ]
  },
  {
   "cell_type": "markdown",
   "id": "1cce2535-60ee-4a79-a0b2-c43f4fe64663",
   "metadata": {
    "tags": []
   },
   "source": [
    "---\n",
    "# 기계학습 기반 분석 모델\n",
    "기계 학습은 모델을 만들고 이를 통한 예측을 수행. 데이터 마이닝과의 가장 큰 차이점은 데이터 모델의 매개 변수를 스스로 학습한다는 점\n",
    "\n",
    "\n",
    "- 지도 학습\n",
    "  - 정답인 레이블이 포함되어 있는 학습 데이터를 통해 학습 시키는 방법\n",
    "\n",
    "- 비지도 학습\n",
    "  - 정답인 레이블 없이 학습시키는 방법 ( 결과보다 과정 문제 활용 )\n",
    "  \n",
    "- 강화 학습\n",
    "  - 주어진 입력값에 대한 출력값의 정답이 주어지지 않은 상태에서 행동 결과에 대한 보상이 주어지게 되며, 이를 최대화하는 행동을 선택하는 학습 방법"
   ]
  },
  {
   "cell_type": "markdown",
   "id": "568f8d6b-08b1-4e5c-ad6f-4aed5c9bab63",
   "metadata": {},
   "source": [
    "---\n",
    "- 분류 ( Classification )\n",
    "  - 범주형 변수 혹은 이산형 변수 등의 범주를 예측하는 기법으로 다수의 속성 혹은 변수를 가지는 객체들을 사전에 정해진 그룹이나 범주 중의 하나로 분류하는 기법\n",
    "  - Ex ) 이 이미지는 개인가, 고양이인가?\n",
    "\n",
    "\n",
    "- 회귀 ( Regression ) = 추정 ( Estimation )\n",
    "  - 한 개 또는 그 이상의 변수들(독립변수)에 대하여 다른 변수(종속변수) 사이의 관계를 수학적인 모델을 이용하여 설명하고 예측하는 분석 기법\n",
    "  - Ex ) 3개월 뒤 이 아파트 가격은 2억 1천만원인가, 2억 2천만원인가?"
   ]
  },
  {
   "cell_type": "markdown",
   "id": "542fc472-e7a9-498f-b1ed-d08af0f6c335",
   "metadata": {},
   "source": [
    "# 분류 모델의 종류\n",
    "- 확률적 모델\n",
    "  - 입력 $x$가 주어졌을 때 $y$가 클래스 $k$가 될 확률 $P(y=k|x)$을 모두 계산 후 가장 확률이 큰 클래스를 선택하는 방법\n",
    "  - 확률적 생성 모델 ( Generative )\n",
    "    - y의 클래스값에 따른 x의 분포에 대한 정보를 먼저 알아낸 후, 베이즈 정리를 사용하여 주어진 x에 대한 y의 확률분포를 간접적으로 조건부 확률을 구하는 모델. 나이브 베이지안, LDA(Linear Discriminant Analysis), QDA(Quadratic Discriminant Analysis)\n",
    "  - 확률적 판별 모델 ( Discriminative )\n",
    "    - 직접 조건부 확률 함수의 모델을 추정하는 모델 ( 함수는 0 ~ 1 사이 ). 로지스틱회귀, 의사결정나무\n",
    "      \n",
    "      \n",
    "- 판별 함수 모델\n",
    "  - 주어진 데이터를 카테고리에 따라 서로 다른 영역으로 나누는 경계면(Decision Boundary)을 찾아낸 다음, 이 경계면으로부터 주어진 데이터가 어느 위치에 있는지를 계산하는 판별 함수(Discriminant Function)를 이용하는 모델\n",
    "  - 퍼셉트론, 서포트벡터머신, 인공신경망"
   ]
  },
  {
   "cell_type": "markdown",
   "id": "c8420f89-865c-40d4-b76e-d6fd3072e58b",
   "metadata": {},
   "source": [
    "# 나이브 베이즈\n",
    "  - 확률적 생성 모델\n",
    "    - 베이즈 정리를 사용하여 간접적으로 조건부 확률을 구하는 모델\n",
    "   \n",
    "   \n",
    "- 나이브 베이즈 분류 모델에서는 모든 차원의 개별 독립변수가 서로 조건부 독립이라는 가정을 사용\n",
    "- 독립변수들 간에 서로 조건부 독립임을 가정하여 조건을 나이브(순진)하게 하고, 베이즈 정리를 사용하여 MLE를 통해 가장 큰 확률값을 갖는 모수를 추정해내는 모델"
   ]
  },
  {
   "cell_type": "markdown",
   "id": "865cbc87-4548-453a-a2eb-69cc41ff218b",
   "metadata": {},
   "source": [
    "조건부 확률 ( Conditional Probability )\n",
    "- A 사건이 이루어진 이후에 B 사건이 발생할 확률\n",
    "\n",
    "독립사건 ( Independent events )\n",
    "- 두 사건 중 하나의 사건이 일어날 확률이 나머지 다른 하나의 사건이 일어날 확률에 영향을 미치지 않는다는 것. Ex ) 비오는 날 동전 던지기에서 앞면이 나올 확률\n",
    "\n",
    "베이즈 정리\n",
    "- $P(A|B) = \\frac{P(B|A)P(A)}{P(B)}$"
   ]
  },
  {
   "cell_type": "markdown",
   "id": "05b72e58-94a5-44fe-967b-a2682302e234",
   "metadata": {
    "tags": []
   },
   "source": [
    "---\n",
    "# 나이브 베이즈 실습\n",
    "- 모든 피처가 연속형의 값 => 가우시안 나이브 베이즈 모델 사용"
   ]
  },
  {
   "cell_type": "code",
   "execution_count": 1,
   "id": "d57c89f6-a38e-4036-80ce-ed1328f89026",
   "metadata": {},
   "outputs": [],
   "source": [
    "import numpy as np\n",
    "import pandas as pd\n",
    "import scipy as sp\n",
    "from sklearn.datasets import load_iris\n",
    "from sklearn.model_selection import train_test_split"
   ]
  },
  {
   "cell_type": "code",
   "execution_count": 6,
   "id": "6f267959-d5a9-4c4f-8efd-63dde1cbbf63",
   "metadata": {},
   "outputs": [],
   "source": [
    "## 가우시안 나이브 베이즈\n",
    "from sklearn.naive_bayes import GaussianNB\n",
    "\n",
    "## iris 데이터 로드\n",
    "iris = load_iris()\n",
    "df_X = pd.DataFrame(iris.data, columns=iris.feature_names)\n",
    "df_y = pd.DataFrame(iris.target, columns=['target'])\n",
    "\n",
    "# 테스트셋 분리\n",
    "X_train, test_X, y_train, test_y = train_test_split(df_X, df_y, train_size=0.8, test_size=0.2, random_state=123)"
   ]
  },
  {
   "cell_type": "code",
   "execution_count": 7,
   "id": "99d71eec-94f2-4d78-8006-bb523f7918b8",
   "metadata": {},
   "outputs": [
    {
     "data": {
      "text/html": [
       "<div>\n",
       "<style scoped>\n",
       "    .dataframe tbody tr th:only-of-type {\n",
       "        vertical-align: middle;\n",
       "    }\n",
       "\n",
       "    .dataframe tbody tr th {\n",
       "        vertical-align: top;\n",
       "    }\n",
       "\n",
       "    .dataframe thead th {\n",
       "        text-align: right;\n",
       "    }\n",
       "</style>\n",
       "<table border=\"1\" class=\"dataframe\">\n",
       "  <thead>\n",
       "    <tr style=\"text-align: right;\">\n",
       "      <th></th>\n",
       "      <th>sepal length (cm)</th>\n",
       "      <th>sepal width (cm)</th>\n",
       "      <th>petal length (cm)</th>\n",
       "      <th>petal width (cm)</th>\n",
       "    </tr>\n",
       "  </thead>\n",
       "  <tbody>\n",
       "    <tr>\n",
       "      <th>17</th>\n",
       "      <td>5.1</td>\n",
       "      <td>3.5</td>\n",
       "      <td>1.4</td>\n",
       "      <td>0.3</td>\n",
       "    </tr>\n",
       "    <tr>\n",
       "      <th>98</th>\n",
       "      <td>5.1</td>\n",
       "      <td>2.5</td>\n",
       "      <td>3.0</td>\n",
       "      <td>1.1</td>\n",
       "    </tr>\n",
       "    <tr>\n",
       "      <th>66</th>\n",
       "      <td>5.6</td>\n",
       "      <td>3.0</td>\n",
       "      <td>4.5</td>\n",
       "      <td>1.5</td>\n",
       "    </tr>\n",
       "    <tr>\n",
       "      <th>126</th>\n",
       "      <td>6.2</td>\n",
       "      <td>2.8</td>\n",
       "      <td>4.8</td>\n",
       "      <td>1.8</td>\n",
       "    </tr>\n",
       "    <tr>\n",
       "      <th>109</th>\n",
       "      <td>7.2</td>\n",
       "      <td>3.6</td>\n",
       "      <td>6.1</td>\n",
       "      <td>2.5</td>\n",
       "    </tr>\n",
       "  </tbody>\n",
       "</table>\n",
       "</div>"
      ],
      "text/plain": [
       "     sepal length (cm)  sepal width (cm)  petal length (cm)  petal width (cm)\n",
       "17                 5.1               3.5                1.4               0.3\n",
       "98                 5.1               2.5                3.0               1.1\n",
       "66                 5.6               3.0                4.5               1.5\n",
       "126                6.2               2.8                4.8               1.8\n",
       "109                7.2               3.6                6.1               2.5"
      ]
     },
     "execution_count": 7,
     "metadata": {},
     "output_type": "execute_result"
    }
   ],
   "source": [
    "# 트레이닝 데이터 확인\n",
    "X_train.tail()"
   ]
  },
  {
   "cell_type": "code",
   "execution_count": 12,
   "id": "946f0044-2855-4f64-b24e-17930c277647",
   "metadata": {},
   "outputs": [],
   "source": [
    "import warnings\n",
    "warnings.filterwarnings(action='ignore')"
   ]
  },
  {
   "cell_type": "code",
   "execution_count": 13,
   "id": "097bff37-c60b-45f1-bdef-7da2a2eceda8",
   "metadata": {},
   "outputs": [
    {
     "name": "stdout",
     "output_type": "stream",
     "text": [
      "[1 2 2 1 0 2 1 0 0 1 2 0 1 2 2 2 0 0 1 0 0 1 0 2 0 0 0 2 2 0]\n",
      "테스트 데이터 수 : 30, 틀린 개수 : 1\n"
     ]
    }
   ],
   "source": [
    "## 나이브 베이즈는 가우시안 나이브 베이즈\n",
    "gnb = GaussianNB()\n",
    "\n",
    "## 학습\n",
    "## train 데이터로 학습 진행, X_test 데이터로 결과를 예측하여 y_pred에 입력\n",
    "fitted = gnb.fit(X_train, y_train)\n",
    "y_pred = fitted.predict(test_X)\n",
    "y_pred\n",
    "print(y_pred)\n",
    "\n",
    "# 실제값과 y의 예측값을 비교하여 틀린 개수 확인\n",
    "print(\"테스트 데이터 수 : %d, 틀린 개수 : %d\" %(test_X.shape[0], (np.array(test_y.target.tolist()) != y_pred).sum()))"
   ]
  },
  {
   "cell_type": "code",
   "execution_count": 20,
   "id": "3c4bd3d0-fecd-4d7d-aa20-1ffb2c21b04a",
   "metadata": {},
   "outputs": [
    {
     "name": "stdout",
     "output_type": "stream",
     "text": [
      "[0 1 2]\n",
      "[37. 44. 39.]\n"
     ]
    },
    {
     "data": {
      "text/html": [
       "<div>\n",
       "<style scoped>\n",
       "    .dataframe tbody tr th:only-of-type {\n",
       "        vertical-align: middle;\n",
       "    }\n",
       "\n",
       "    .dataframe tbody tr th {\n",
       "        vertical-align: top;\n",
       "    }\n",
       "\n",
       "    .dataframe thead th {\n",
       "        text-align: right;\n",
       "    }\n",
       "</style>\n",
       "<table border=\"1\" class=\"dataframe\">\n",
       "  <thead>\n",
       "    <tr style=\"text-align: right;\">\n",
       "      <th></th>\n",
       "      <th>sepal length (cm)</th>\n",
       "      <th>sepal width (cm)</th>\n",
       "      <th>petal length (cm)</th>\n",
       "      <th>petal width (cm)</th>\n",
       "    </tr>\n",
       "  </thead>\n",
       "  <tbody>\n",
       "    <tr>\n",
       "      <th>72</th>\n",
       "      <td>6.3</td>\n",
       "      <td>2.5</td>\n",
       "      <td>4.9</td>\n",
       "      <td>1.5</td>\n",
       "    </tr>\n",
       "    <tr>\n",
       "      <th>112</th>\n",
       "      <td>6.8</td>\n",
       "      <td>3.0</td>\n",
       "      <td>5.5</td>\n",
       "      <td>2.1</td>\n",
       "    </tr>\n",
       "    <tr>\n",
       "      <th>132</th>\n",
       "      <td>6.4</td>\n",
       "      <td>2.8</td>\n",
       "      <td>5.6</td>\n",
       "      <td>2.2</td>\n",
       "    </tr>\n",
       "    <tr>\n",
       "      <th>88</th>\n",
       "      <td>5.6</td>\n",
       "      <td>3.0</td>\n",
       "      <td>4.1</td>\n",
       "      <td>1.3</td>\n",
       "    </tr>\n",
       "    <tr>\n",
       "      <th>37</th>\n",
       "      <td>4.9</td>\n",
       "      <td>3.6</td>\n",
       "      <td>1.4</td>\n",
       "      <td>0.1</td>\n",
       "    </tr>\n",
       "  </tbody>\n",
       "</table>\n",
       "</div>"
      ],
      "text/plain": [
       "     sepal length (cm)  sepal width (cm)  petal length (cm)  petal width (cm)\n",
       "72                 6.3               2.5                4.9               1.5\n",
       "112                6.8               3.0                5.5               2.1\n",
       "132                6.4               2.8                5.6               2.2\n",
       "88                 5.6               3.0                4.1               1.3\n",
       "37                 4.9               3.6                1.4               0.1"
      ]
     },
     "metadata": {},
     "output_type": "display_data"
    },
    {
     "name": "stdout",
     "output_type": "stream",
     "text": [
      "[[7.24143720e-126 9.23061979e-001 7.69380215e-002]] \n",
      "\n",
      "[1 2 2 1 0] \n",
      "\n"
     ]
    }
   ],
   "source": [
    "## 예측한 클래스와 해당 예측 데이터의 클래스별 확률\n",
    "# 클래스\n",
    "print(fitted.classes_)\n",
    "\n",
    "# 분류된 클래스 수\n",
    "print(fitted.class_count_)\n",
    "\n",
    "# 테스트 데이터\n",
    "display(test_X.head())\n",
    "\n",
    "# 테스트 데이터 1개에 대한 클래스가 나온 확률\n",
    "print(fitted.predict_proba(test_X)[:1], '\\n')\n",
    "# round(fitted.predict_proba(test_X)[:1][0][1], 3)\n",
    "\n",
    "# 테스트 데이터 1개의 클래스\n",
    "print(fitted.predict(test_X.head()), '\\n')"
   ]
  },
  {
   "cell_type": "code",
   "execution_count": 34,
   "id": "099f7b1e-d946-4ff4-a57a-173aa3776932",
   "metadata": {},
   "outputs": [
    {
     "name": "stdout",
     "output_type": "stream",
     "text": [
      "예측 결과 0번 X_train : 1 클래스\n",
      "예측 결과 1번 X_train : 2 클래스\n",
      "예측 결과 2번 X_train : 2 클래스\n",
      "예측 결과 3번 X_train : 1 클래스\n"
     ]
    }
   ],
   "source": [
    "for i, j in enumerate(test_X.head(10)):\n",
    "    print(f'예측 결과 {i}번 X_train : {y_pred[i]} 클래스')"
   ]
  },
  {
   "cell_type": "code",
   "execution_count": 36,
   "id": "59ec2be8-d36d-4be4-962d-376be6984f4e",
   "metadata": {},
   "outputs": [
    {
     "name": "stdout",
     "output_type": "stream",
     "text": [
      "[[1.81805757e-197 1.22131524e-005 9.99987787e-001]\n",
      " [1.00000000e+000 8.57846082e-017 1.77097412e-025]]\n"
     ]
    },
    {
     "data": {
      "text/plain": [
       "array([2, 0])"
      ]
     },
     "execution_count": 36,
     "metadata": {},
     "output_type": "execute_result"
    }
   ],
   "source": [
    "## 특정 값의 클래스별 확률 확인\n",
    "print(fitted.predict_proba(test_X)[[1, 20]])\n",
    "\n",
    "# 1번째 데이터는 2범주일 확률이 99%\n",
    "# 20번째 데이터는 0범주일 확률이 100%\n",
    "\n",
    "# 특정 변수의 범주별 클래스 확인\n",
    "fitted.predict(test_X)[[1, 20]]"
   ]
  },
  {
   "cell_type": "code",
   "execution_count": 37,
   "id": "5f0f44cb-648a-4355-9870-da5a97ff6cb1",
   "metadata": {},
   "outputs": [
    {
     "data": {
      "text/plain": [
       "array([[13,  0,  0],\n",
       "       [ 0,  6,  0],\n",
       "       [ 0,  1, 10]], dtype=int64)"
      ]
     },
     "execution_count": 37,
     "metadata": {},
     "output_type": "execute_result"
    }
   ],
   "source": [
    "# Confusion matrix 확인\n",
    "from sklearn.metrics import confusion_matrix\n",
    "\n",
    "confusion_matrix(test_y, y_pred)\n",
    "\n",
    "# 0범주와 1범주의 경우 모두 옳게 분류\n",
    "# 2범주의 경우 1개 오답으로 분류\n",
    "# 나이브 베이즈는 투자 대비 효용이 높은 간단한 머신러닝 모델"
   ]
  },
  {
   "cell_type": "code",
   "execution_count": 38,
   "id": "374120bb-9135-4a78-bbf1-366b239ec6d5",
   "metadata": {},
   "outputs": [],
   "source": [
    "# 특정 값에 대해 나이브 베이즈 직접 계산\n",
    "# 추정한 모델의 클래스별 모수 ( 평균과 분산 ) 확인\n",
    "# var_ / sigma_ : 클래스별 각 컬럼의 분산\n",
    "# theta_ : 클래스 별 각 컬럼의 평균"
   ]
  },
  {
   "cell_type": "code",
   "execution_count": 39,
   "id": "b57bc095-ead7-49e1-9ed4-b77fa582e5cc",
   "metadata": {},
   "outputs": [
    {
     "data": {
      "text/html": [
       "<div>\n",
       "<style scoped>\n",
       "    .dataframe tbody tr th:only-of-type {\n",
       "        vertical-align: middle;\n",
       "    }\n",
       "\n",
       "    .dataframe tbody tr th {\n",
       "        vertical-align: top;\n",
       "    }\n",
       "\n",
       "    .dataframe thead th {\n",
       "        text-align: right;\n",
       "    }\n",
       "</style>\n",
       "<table border=\"1\" class=\"dataframe\">\n",
       "  <thead>\n",
       "    <tr style=\"text-align: right;\">\n",
       "      <th></th>\n",
       "      <th>sepal length (cm)</th>\n",
       "      <th>sepal width (cm)</th>\n",
       "      <th>petal length (cm)</th>\n",
       "      <th>petal width (cm)</th>\n",
       "    </tr>\n",
       "  </thead>\n",
       "  <tbody>\n",
       "    <tr>\n",
       "      <th>72</th>\n",
       "      <td>6.3</td>\n",
       "      <td>2.5</td>\n",
       "      <td>4.9</td>\n",
       "      <td>1.5</td>\n",
       "    </tr>\n",
       "  </tbody>\n",
       "</table>\n",
       "</div>"
      ],
      "text/plain": [
       "    sepal length (cm)  sepal width (cm)  petal length (cm)  petal width (cm)\n",
       "72                6.3               2.5                4.9               1.5"
      ]
     },
     "execution_count": 39,
     "metadata": {},
     "output_type": "execute_result"
    }
   ],
   "source": [
    "# 데이터 확인\n",
    "test_X.head(1)"
   ]
  },
  {
   "cell_type": "code",
   "execution_count": 40,
   "id": "01fad5c9-6f4e-416f-aaf8-71dbcbd2e45c",
   "metadata": {},
   "outputs": [
    {
     "data": {
      "text/plain": [
       "array([6.3, 2.5, 4.9, 1.5])"
      ]
     },
     "execution_count": 40,
     "metadata": {},
     "output_type": "execute_result"
    }
   ],
   "source": [
    "# 예측할 데이터 ( 테스트 데이터 0행 )\n",
    "predict_data = np.array(test_X.iloc[0])\n",
    "predict_data"
   ]
  },
  {
   "cell_type": "code",
   "execution_count": 41,
   "id": "09f024d1-5d08-48d8-97d7-fd9424b32ff7",
   "metadata": {},
   "outputs": [
    {
     "data": {
      "text/plain": [
       "array([[5.01621622, 3.43243243, 1.46756757, 0.25945946],\n",
       "       [5.95      , 2.78409091, 4.24090909, 1.32272727],\n",
       "       [6.58717949, 2.95897436, 5.57948718, 2.02820513]])"
      ]
     },
     "execution_count": 41,
     "metadata": {},
     "output_type": "execute_result"
    }
   ],
   "source": [
    "# 클래스별 각 피쳐의 평균\n",
    "fitted.theta_"
   ]
  },
  {
   "cell_type": "code",
   "execution_count": 44,
   "id": "ad13467a-754a-4e6b-b65a-cf9fe4e0b514",
   "metadata": {},
   "outputs": [
    {
     "data": {
      "text/plain": [
       "array([[0.10568298, 0.14975895, 0.02705625, 0.01214025],\n",
       "       [0.27068182, 0.10042872, 0.22741736, 0.04221075],\n",
       "       [0.39752795, 0.11011177, 0.29188692, 0.0774096 ]])"
      ]
     },
     "execution_count": 44,
     "metadata": {},
     "output_type": "execute_result"
    }
   ],
   "source": [
    "# 클래스별 각 피쳐의 분산\n",
    "fitted.sigma_"
   ]
  },
  {
   "cell_type": "code",
   "execution_count": 43,
   "id": "627ace38-c35f-4ec7-b943-4c09a5cf3c50",
   "metadata": {},
   "outputs": [
    {
     "data": {
      "text/plain": [
       "array([0.30833333, 0.36666667, 0.325     ])"
      ]
     },
     "execution_count": 43,
     "metadata": {},
     "output_type": "execute_result"
    }
   ],
   "source": [
    "# 클래스별 사전 확률 ( prior probability )\n",
    "fitted.class_prior_"
   ]
  },
  {
   "cell_type": "code",
   "execution_count": 45,
   "id": "8f6aa6ab-2980-465c-a744-5d441c16d55a",
   "metadata": {},
   "outputs": [
    {
     "data": {
      "text/plain": [
       "[2.0700298536453225e-126, 0.2218869448618605, 0.020865556464324073]"
      ]
     },
     "execution_count": 45,
     "metadata": {},
     "output_type": "execute_result"
    }
   ],
   "source": [
    "## class별 가능도(likelihood) 산출\n",
    "\n",
    "likelihood = [\n",
    "# 0클래스\n",
    "(sp.stats.norm(fitted.theta_[0][0], np.sqrt(fitted.sigma_[0][0])).pdf(predict_data[0]) *\\\n",
    "sp.stats.norm(fitted.theta_[0][1], np.sqrt(fitted.sigma_[0][1])).pdf(predict_data[1]) *\\\n",
    "sp.stats.norm(fitted.theta_[0][2], np.sqrt(fitted.sigma_[0][2])).pdf(predict_data[2]) *\\\n",
    "sp.stats.norm(fitted.theta_[0][3], np.sqrt(fitted.sigma_[0][3])).pdf(predict_data[3])), \\\n",
    "    \n",
    "# 1클래스\n",
    "(sp.stats.norm(fitted.theta_[1][0], np.sqrt(fitted.sigma_[1][0])).pdf(predict_data[0]) *\\\n",
    "sp.stats.norm(fitted.theta_[1][1], np.sqrt(fitted.sigma_[1][1])).pdf(predict_data[1]) *\\\n",
    "sp.stats.norm(fitted.theta_[1][2], np.sqrt(fitted.sigma_[1][2])).pdf(predict_data[2]) *\\\n",
    "sp.stats.norm(fitted.theta_[1][3], np.sqrt(fitted.sigma_[1][3])).pdf(predict_data[3])), \\\n",
    "    \n",
    "# 2클래스\n",
    "(sp.stats.norm(fitted.theta_[2][0], np.sqrt(fitted.sigma_[2][0])).pdf(predict_data[0]) *\\\n",
    "sp.stats.norm(fitted.theta_[2][1], np.sqrt(fitted.sigma_[2][1])).pdf(predict_data[1]) *\\\n",
    "sp.stats.norm(fitted.theta_[2][2], np.sqrt(fitted.sigma_[2][2])).pdf(predict_data[2]) *\\\n",
    "sp.stats.norm(fitted.theta_[2][3], np.sqrt(fitted.sigma_[2][3])).pdf(predict_data[3]))\n",
    "]\n",
    "\n",
    "likelihood"
   ]
  },
  {
   "cell_type": "code",
   "execution_count": 47,
   "id": "863d120f-68f6-493a-a090-102a506bfbe0",
   "metadata": {},
   "outputs": [
    {
     "name": "stdout",
     "output_type": "stream",
     "text": [
      "[6.38259205e-127 8.13585464e-002 6.78130585e-003]\n"
     ]
    },
    {
     "data": {
      "text/plain": [
       "array([7.24143720e-126, 9.23061979e-001, 7.69380215e-002])"
      ]
     },
     "execution_count": 47,
     "metadata": {},
     "output_type": "execute_result"
    }
   ],
   "source": [
    "## 사후 확률\n",
    "posterior = likelihood * fitted.class_prior_\n",
    "print(posterior)\n",
    "\n",
    "## 정규화\n",
    "posterior / np.sum(posterior, axis=0)"
   ]
  },
  {
   "cell_type": "code",
   "execution_count": 48,
   "id": "868bd4c6-5c67-46a8-a462-2a430a890a0a",
   "metadata": {},
   "outputs": [
    {
     "name": "stdout",
     "output_type": "stream",
     "text": [
      "[[7.24143720e-126 9.23061979e-001 7.69380215e-002]]\n"
     ]
    }
   ],
   "source": [
    "## scipy gnb를 사용한 추정값\n",
    "print(fitted.predict_proba(test_X)[[0]])\n",
    "\n",
    "# 완벽히 일치하진 않지만 그에 근사하는 값을 추정값으로 계산"
   ]
  },
  {
   "cell_type": "code",
   "execution_count": 49,
   "id": "5af55e5b-68fa-4ea0-905d-bbbb40ce0283",
   "metadata": {},
   "outputs": [
    {
     "data": {
      "text/plain": [
       "array([[50,  0,  0],\n",
       "       [ 0, 33, 17],\n",
       "       [ 0,  0, 50]], dtype=int64)"
      ]
     },
     "execution_count": 49,
     "metadata": {},
     "output_type": "execute_result"
    }
   ],
   "source": [
    "## 2범주에 prior를 높게 줘서, 가중치를 주는 경우\n",
    "\n",
    "gnb2 = GaussianNB(priors= [1/100, 1/100, 98/100])\n",
    "fitted2 = gnb2.fit(iris.data, iris.target)\n",
    "y_pred2 = fitted2.predict(iris.data)\n",
    "confusion_matrix(iris.target, y_pred2)"
   ]
  },
  {
   "cell_type": "code",
   "execution_count": 50,
   "id": "6500a696-0671-4e8b-9158-e1b3c7874330",
   "metadata": {},
   "outputs": [
    {
     "data": {
      "text/plain": [
       "array([[50,  0,  0],\n",
       "       [ 0, 50,  0],\n",
       "       [ 0, 14, 36]], dtype=int64)"
      ]
     },
     "execution_count": 50,
     "metadata": {},
     "output_type": "execute_result"
    }
   ],
   "source": [
    "## 1범주에 prior를 높게 줘서, 가중치를 주는 경우\n",
    "\n",
    "gnb3 = GaussianNB(priors= [1/100, 98/100, 1/100])\n",
    "fitted3 = gnb3.fit(iris.data, iris.target)\n",
    "y_pred3 = fitted3.predict(iris.data)\n",
    "confusion_matrix(iris.target, y_pred3)"
   ]
  },
  {
   "cell_type": "code",
   "execution_count": 52,
   "id": "6bc0b695-1488-4d88-965e-16f38b42aad2",
   "metadata": {},
   "outputs": [
    {
     "data": {
      "text/plain": [
       "array(['setosa', 'versicolor', 'virginica'], dtype='<U10')"
      ]
     },
     "execution_count": 52,
     "metadata": {},
     "output_type": "execute_result"
    }
   ],
   "source": [
    "iris.target_names"
   ]
  },
  {
   "cell_type": "code",
   "execution_count": null,
   "id": "f576d748-fbbb-4e0f-955d-6714c9c51e0e",
   "metadata": {},
   "outputs": [],
   "source": []
  }
 ],
 "metadata": {
  "kernelspec": {
   "display_name": "Python 3 (ipykernel)",
   "language": "python",
   "name": "python3"
  },
  "language_info": {
   "codemirror_mode": {
    "name": "ipython",
    "version": 3
   },
   "file_extension": ".py",
   "mimetype": "text/x-python",
   "name": "python",
   "nbconvert_exporter": "python",
   "pygments_lexer": "ipython3",
   "version": "3.9.12"
  }
 },
 "nbformat": 4,
 "nbformat_minor": 5
}
