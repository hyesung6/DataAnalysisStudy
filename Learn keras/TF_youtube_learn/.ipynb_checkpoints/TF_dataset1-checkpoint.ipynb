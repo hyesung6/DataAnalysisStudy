{
 "cells": [
  {
   "cell_type": "code",
   "execution_count": 1,
   "id": "72757fa6-d5b3-4d5c-81f3-2fea05477430",
   "metadata": {},
   "outputs": [],
   "source": [
    "import tensorflow as tf\n",
    "import numpy as np\n",
    "import matplotlib.pyplot as plt"
   ]
  },
  {
   "cell_type": "code",
   "execution_count": null,
   "id": "696f4b16-6511-4330-afe5-ebd3adc3f28b",
   "metadata": {
    "tags": []
   },
   "outputs": [],
   "source": [
    "train_x = np.arange(20).astype('float32').reshape(-1, 1)\n",
    "train_y = 3*train_x+1\n",
    "\n",
    "train_ds = tf.data.Dataset.from_tensor_slices((train_x, train_y))\n",
    "train_ds = train_ds.shuffle(60000).batch(9)\n",
    "\n",
    "for x, y in train_ds:\n",
    "    print(x, y)\n",
    "    break"
   ]
  },
  {
   "cell_type": "markdown",
   "id": "e66da8ba-2bd8-4ad9-bdac-33b91ceeb7fc",
   "metadata": {},
   "source": [
    "# 데이터셋 로드"
   ]
  },
  {
   "cell_type": "code",
   "execution_count": 2,
   "id": "8fa0abb0-b02b-40ce-a0e6-40773e191cde",
   "metadata": {},
   "outputs": [],
   "source": [
    "from tensorflow.keras.datasets import fashion_mnist\n",
    "\n",
    "(train_images, train_labels), (test_images, test_labels) = fashion_mnist.load_data()"
   ]
  },
  {
   "cell_type": "code",
   "execution_count": 3,
   "id": "43458eac-4f02-42e2-bcaa-a764187d02cc",
   "metadata": {},
   "outputs": [],
   "source": [
    "train_ds = tf.data.Dataset.from_tensor_slices((train_images, train_labels))\n",
    "train_ds = train_ds.shuffle(60000).batch(9)\n",
    "\n",
    "test_ds = tf.data.Dataset.from_tensor_slices((test_images, test_labels))\n",
    "test_ds = test_ds.batch(9)"
   ]
  },
  {
   "cell_type": "code",
   "execution_count": 19,
   "id": "e79fabcc-7d1d-4170-85eb-8fc7886baf3a",
   "metadata": {},
   "outputs": [
    {
     "data": {
      "image/png": "[encoded data removed]",
      "text/plain": [
       "<Figure size 720x720 with 9 Axes>"
      ]
     },
     "metadata": {
      "needs_background": "light"
     },
     "output_type": "display_data"
    }
   ],
   "source": [
    "train_ds_iter = iter(train_ds)\n",
    "images, labels = next(train_ds_iter)\n",
    "\n",
    "fig, axes = plt.subplots(3, 3, figsize=(10, 10))\n",
    "\n",
    "for ax_idx, ax in enumerate(axes.flat):\n",
    "    image = images[ax_idx, ...]\n",
    "    label = labels[ax_idx]\n",
    "    \n",
    "    ax.imshow(image.numpy(), 'gray')\n",
    "    ax.set_title(label.numpy(), fontsize=20)\n",
    "    \n",
    "    ax.get_xaxis().set_visible(False)\n",
    "    ax.get_yaxis().set_visible(False)"
   ]
  },
  {
   "cell_type": "markdown",
   "id": "76529ee4-77d7-4f2a-afa1-af4592d632d8",
   "metadata": {},
   "source": [
    "---"
   ]
  },
  {
   "cell_type": "code",
   "execution_count": 1,
   "id": "482c2e65-4bd9-4c09-9767-0beada5b2c6d",
   "metadata": {},
   "outputs": [],
   "source": [
    "import tensorflow_datasets as tfds"
   ]
  },
  {
   "cell_type": "code",
   "execution_count": 4,
   "id": "4e0fd6ca-2f35-4f6a-82d7-7753e8dfb70b",
   "metadata": {},
   "outputs": [
    {
     "name": "stdout",
     "output_type": "stream",
     "text": [
      "\u001b[1mDownloading and preparing dataset Unknown size (download: Unknown size, generated: Unknown size, total: Unknown size) to ~\\tensorflow_datasets\\mnist\\3.0.1...\u001b[0m\n"
     ]
    },
    {
     "data": {
      "application/vnd.jupyter.widget-view+json": {
       "model_id": "fb41c7bf0e014f5ea91c2c39353a3caa",
       "version_major": 2,
       "version_minor": 0
      },
      "text/plain": [
       "Dl Completed...: 0 url [00:00, ? url/s]"
      ]
     },
     "metadata": {},
     "output_type": "display_data"
    },
    {
     "data": {
      "application/vnd.jupyter.widget-view+json": {
       "model_id": "851806d3b6a745618d9aae1d3fe1a90c",
       "version_major": 2,
       "version_minor": 0
      },
      "text/plain": [
       "Dl Size...: 0 MiB [00:00, ? MiB/s]"
      ]
     },
     "metadata": {},
     "output_type": "display_data"
    },
    {
     "data": {
      "application/vnd.jupyter.widget-view+json": {
       "model_id": "b2bd1aef74ee469ca0df7b886ac158b2",
       "version_major": 2,
       "version_minor": 0
      },
      "text/plain": [
       "Extraction completed...: 0 file [00:00, ? file/s]"
      ]
     },
     "metadata": {},
     "output_type": "display_data"
    },
    {
     "data": {
      "application/vnd.jupyter.widget-view+json": {
       "model_id": "",
       "version_major": 2,
       "version_minor": 0
      },
      "text/plain": [
       "Generating splits...:   0%|          | 0/2 [00:00<?, ? splits/s]"
      ]
     },
     "metadata": {},
     "output_type": "display_data"
    },
    {
     "data": {
      "application/vnd.jupyter.widget-view+json": {
       "model_id": "",
       "version_major": 2,
       "version_minor": 0
      },
      "text/plain": [
       "Generating train examples...: 0 examples [00:00, ? examples/s]"
      ]
     },
     "metadata": {},
     "output_type": "display_data"
    },
    {
     "data": {
      "application/vnd.jupyter.widget-view+json": {
       "model_id": "",
       "version_major": 2,
       "version_minor": 0
      },
      "text/plain": [
       "Shuffling ~\\tensorflow_datasets\\mnist\\3.0.1.incompleteI30JRU\\mnist-train.tfrecord*...:   0%|          | 0/6000…"
      ]
     },
     "metadata": {},
     "output_type": "display_data"
    },
    {
     "data": {
      "application/vnd.jupyter.widget-view+json": {
       "model_id": "",
       "version_major": 2,
       "version_minor": 0
      },
      "text/plain": [
       "Generating test examples...: 0 examples [00:00, ? examples/s]"
      ]
     },
     "metadata": {},
     "output_type": "display_data"
    },
    {
     "data": {
      "application/vnd.jupyter.widget-view+json": {
       "model_id": "",
       "version_major": 2,
       "version_minor": 0
      },
      "text/plain": [
       "Shuffling ~\\tensorflow_datasets\\mnist\\3.0.1.incompleteI30JRU\\mnist-test.tfrecord*...:   0%|          | 0/10000…"
      ]
     },
     "metadata": {},
     "output_type": "display_data"
    },
    {
     "name": "stdout",
     "output_type": "stream",
     "text": [
      "\u001b[1mDataset mnist downloaded and prepared to ~\\tensorflow_datasets\\mnist\\3.0.1. Subsequent calls will reuse this data.\u001b[0m\n"
     ]
    }
   ],
   "source": [
    "dataset, ds_info = tfds.load(name='mnist', shuffle_files=True, with_info=True)"
   ]
  },
  {
   "cell_type": "markdown",
   "id": "d2c5c1b4-e3e4-4cb8-9b59-d2c8bea84be2",
   "metadata": {},
   "source": [
    "tf 데이터셋 이용해서 연습 데이터를 가져올 때 info 정보를 같이 가져올 수 있음. features와 splits로 구성 항목 확인 가능"
   ]
  },
  {
   "cell_type": "code",
   "execution_count": 6,
   "id": "8ca0440a-2073-4a45-a455-9e0cf80b7473",
   "metadata": {},
   "outputs": [
    {
     "data": {
      "text/plain": [
       "FeaturesDict({\n",
       "    'image': Image(shape=(28, 28, 1), dtype=tf.uint8),\n",
       "    'label': ClassLabel(shape=(), dtype=tf.int64, num_classes=10),\n",
       "})"
      ]
     },
     "execution_count": 6,
     "metadata": {},
     "output_type": "execute_result"
    }
   ],
   "source": [
    "ds_info.features"
   ]
  },
  {
   "cell_type": "code",
   "execution_count": 7,
   "id": "055134f3-7851-4099-ac6f-a0084a01bfa5",
   "metadata": {},
   "outputs": [
    {
     "data": {
      "text/plain": [
       "{Split('train'): <SplitInfo num_examples=60000, num_shards=1>,\n",
       " Split('test'): <SplitInfo num_examples=10000, num_shards=1>}"
      ]
     },
     "execution_count": 7,
     "metadata": {},
     "output_type": "execute_result"
    }
   ],
   "source": [
    "ds_info.splits"
   ]
  },
  {
   "cell_type": "markdown",
   "id": "84c76601-306f-4448-810e-bca02be6da48",
   "metadata": {},
   "source": [
    "dataset 이용해서 사용 목적 별로 분류"
   ]
  },
  {
   "cell_type": "code",
   "execution_count": 8,
   "id": "df023ae0-4008-4cd9-b089-1bdd61c5b65f",
   "metadata": {},
   "outputs": [],
   "source": [
    "train_ds = dataset['train'].batch(32)\n",
    "test_ds = dataset['test']"
   ]
  },
  {
   "cell_type": "markdown",
   "id": "404cf69b-968b-432c-ad4e-d3098f91502b",
   "metadata": {},
   "source": [
    "as_supervised 옵션을 넣어주면 딕셔너리 형식으로 수작업을 하지 않아도 바로 언패킹해서 images, labels를 사용 가능"
   ]
  },
  {
   "cell_type": "code",
   "execution_count": 10,
   "id": "42cda227-e559-4d34-bb97-692fa3655db9",
   "metadata": {},
   "outputs": [],
   "source": [
    "import matplotlib.pyplot as plt"
   ]
  },
  {
   "cell_type": "code",
   "execution_count": 14,
   "id": "b2673255-a7d4-4c5e-b5f1-070cf947e446",
   "metadata": {},
   "outputs": [],
   "source": [
    "dataset, ds_info = tfds.load(name='mnist', shuffle_files=True, with_info=True, as_supervised=True)"
   ]
  },
  {
   "cell_type": "code",
   "execution_count": 15,
   "id": "833de0d8-7adc-4115-b7d1-aaf6b5485ece",
   "metadata": {},
   "outputs": [],
   "source": [
    "train_ds = dataset['train'].batch(32)\n",
    "test_ds = dataset['test']"
   ]
  },
  {
   "cell_type": "code",
   "execution_count": 18,
   "id": "fda253fa-9707-445b-b3ae-5f09962981f8",
   "metadata": {},
   "outputs": [
    {
     "name": "stdout",
     "output_type": "stream",
     "text": [
      "(32, 28, 28, 1)\n",
      "(32,)\n"
     ]
    }
   ],
   "source": [
    "for images, labels in train_ds:\n",
    "    print(images.shape)\n",
    "    print(labels.shape)\n",
    "    break"
   ]
  },
  {
   "cell_type": "markdown",
   "id": "1119ecf4-f699-4bde-93d2-a53cb23b7e2b",
   "metadata": {},
   "source": [
    "더 생략하고 싶은 경우"
   ]
  },
  {
   "cell_type": "code",
   "execution_count": 20,
   "id": "a2925f2d-8ed7-451f-8241-51d00167b024",
   "metadata": {},
   "outputs": [],
   "source": [
    "(train_ds, test_ds), ds_info = tfds.load(name='mnist', shuffle_files=True, with_info=True, as_supervised=True, split=['train', 'test'])"
   ]
  },
  {
   "cell_type": "code",
   "execution_count": 21,
   "id": "fbe1460c-c99c-4563-a74f-e0c496d8726a",
   "metadata": {},
   "outputs": [],
   "source": [
    "train_ds = train_ds.batch(32)"
   ]
  },
  {
   "cell_type": "code",
   "execution_count": 22,
   "id": "d2474911-089e-4c91-9bb2-8ed0686ffaab",
   "metadata": {},
   "outputs": [
    {
     "name": "stdout",
     "output_type": "stream",
     "text": [
      "(32, 28, 28, 1)\n",
      "(32,)\n"
     ]
    }
   ],
   "source": [
    "for images, labels in train_ds:\n",
    "    print(images.shape)\n",
    "    print(labels.shape)\n",
    "    break"
   ]
  },
  {
   "cell_type": "markdown",
   "id": "71aaf8ce-bbde-49c0-b1f8-09cc1f413227",
   "metadata": {},
   "source": [
    "# 다른 데이터셋으로 시도"
   ]
  },
  {
   "cell_type": "markdown",
   "id": "1ce28d6c-7bd4-47ae-8451-a32d3aeae378",
   "metadata": {
    "tags": []
   },
   "source": [
    "## patch_camelyon 데이터셋 로드\n",
    "\n",
    "- as_supervised : 딕셔너리가 아니라 튜플 형식으로 묶어서 줌, 즉 인덱싱이 가능해짐 (편의성 확보)\n",
    "- split : 데이터셋을 통째로 가져오는 게 아니라 train, test, validation 별로 변수에 저장할 수 있음\n",
    "- batch_size : 배치 사이즈"
   ]
  },
  {
   "cell_type": "code",
   "execution_count": null,
   "id": "16503884-0c02-44c9-9c9c-d8983b0e93bc",
   "metadata": {},
   "outputs": [],
   "source": [
    "''' 용량이 커서 오래 걸리는 관계로 생략 '''\n",
    "\n",
    "# (train_ds, validation_ds, test_ds), ds_info = tfds.load(name='patch_camelyon', shuffle_files=True, with_info=True, as_supervised=True, split=['train', 'validation', 'test'])"
   ]
  },
  {
   "cell_type": "code",
   "execution_count": 4,
   "id": "49957afb-fe3c-4fc8-a5be-154329b74be3",
   "metadata": {},
   "outputs": [],
   "source": [
    "from tensorflow.keras.datasets import fashion_mnist\n",
    "\n",
    "(train_images, train_labels), (test_images, test_labels) = fashion_mnist.load_data()"
   ]
  },
  {
   "cell_type": "code",
   "execution_count": 5,
   "id": "44e2c33b-c3b9-4a71-86ba-91d673fdb810",
   "metadata": {},
   "outputs": [],
   "source": [
    "train_ds = tf.data.Dataset.from_tensor_slices((train_images, train_labels))\n",
    "train_ds = train_ds.shuffle(60000).batch(9)\n",
    "\n",
    "test_ds = tf.data.Dataset.from_tensor_slices((test_images, test_labels))\n",
    "test_ds = test_ds.batch(9)"
   ]
  },
  {
   "cell_type": "code",
   "execution_count": 10,
   "id": "a1141d17-7316-43e4-81c8-3344147db986",
   "metadata": {},
   "outputs": [],
   "source": [
    "train_ds_iter = iter(train_ds)\n",
    "images, labels = next(train_ds_iter)\n",
    "\n",
    "images, labels = images.numpy(), labels.numpy()"
   ]
  },
  {
   "cell_type": "code",
   "execution_count": 14,
   "id": "06d134a9-cc94-4fe8-a10f-e23da20c75ea",
   "metadata": {},
   "outputs": [
    {
     "data": {
      "image/png": "[encoded data removed]",
      "text/plain": [
       "<Figure size 792x576 with 9 Axes>"
      ]
     },
     "metadata": {
      "needs_background": "light"
     },
     "output_type": "display_data"
    }
   ],
   "source": [
    "fig, axes = plt.subplots(3, 3, figsize=(11, 8))\n",
    "\n",
    "for ax_idx, ax in enumerate(axes.flat):\n",
    "    ax.imshow(images[ax_idx, ...])\n",
    "    ax.set_title(labels[ax_idx], fontsize=15)\n",
    "    \n",
    "    ax.get_xaxis().set_visible(False)\n",
    "    ax.get_yaxis().set_visible(False)"
   ]
  },
  {
   "cell_type": "code",
   "execution_count": null,
   "id": "80dbd6b1-9b3a-4be6-b516-d9fcb25b68c6",
   "metadata": {},
   "outputs": [],
   "source": []
  }
 ],
 "metadata": {
  "kernelspec": {
   "display_name": "Python 3 (ipykernel)",
   "language": "python",
   "name": "python3"
  },
  "language_info": {
   "codemirror_mode": {
    "name": "ipython",
    "version": 3
   },
   "file_extension": ".py",
   "mimetype": "text/x-python",
   "name": "python",
   "nbconvert_exporter": "python",
   "pygments_lexer": "ipython3",
   "version": "3.9.12"
  }
 },
 "nbformat": 4,
 "nbformat_minor": 5
}
