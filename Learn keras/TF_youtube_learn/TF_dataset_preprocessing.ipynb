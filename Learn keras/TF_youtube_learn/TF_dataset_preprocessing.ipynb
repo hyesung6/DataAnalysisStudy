{
 "cells": [
  {
   "cell_type": "code",
   "execution_count": 19,
   "id": "07d45634-1b43-40d7-8ea3-8e00ef16b91d",
   "metadata": {},
   "outputs": [],
   "source": [
    "import tensorflow as tf\n",
    "import tensorflow_datasets as tfds\n",
    "import numpy as np\n",
    "import matplotlib.pyplot as plt"
   ]
  },
  {
   "cell_type": "code",
   "execution_count": 4,
   "id": "fc5049dc-2a71-4ed5-86aa-f60028d1f704",
   "metadata": {},
   "outputs": [],
   "source": [
    "(train_ds, test_ds), ds_info = tfds.load(name='mnist', \n",
    "                                         shuffle_files=True, \n",
    "                                         with_info=True, as_supervised=True, \n",
    "                                         split=['train', 'test'])\n",
    "\n",
    "train_ds_iter = iter(train_ds)\n",
    "images, labels = next(train_ds_iter)"
   ]
  },
  {
   "cell_type": "code",
   "execution_count": 5,
   "id": "05c19a7f-3edc-48de-be99-6821ce25ce67",
   "metadata": {},
   "outputs": [],
   "source": [
    "def standardization(images, labels):\n",
    "    images = tf.cast(images, tf.float32) / 255.\n",
    "    return [images, labels]"
   ]
  },
  {
   "cell_type": "code",
   "execution_count": 6,
   "id": "1632f548-5107-4b48-9d1e-8f1a87d88efa",
   "metadata": {},
   "outputs": [],
   "source": [
    "train_ds = train_ds.map(standardization)"
   ]
  },
  {
   "cell_type": "code",
   "execution_count": 20,
   "id": "46312efb-6059-4555-ab83-ab35098c00ff",
   "metadata": {
    "tags": []
   },
   "outputs": [],
   "source": [
    "# 데이터 로드 / 표준화 과정을 한 함수로 압축\n",
    "\n",
    "def mnist_data_loader():\n",
    "    \n",
    "    def standardization(images, labels):\n",
    "        images = tf.cast(images, tf.float32) / 255.\n",
    "        return [images, labels]\n",
    "    \n",
    "    (train_ds, test_ds), ds_info = tfds.load(name='mnist', shuffle_files=True,\n",
    "                                             as_supervised=True, split=['train', 'test'], \n",
    "                                             with_info=True, batch_size=4)\n",
    "    \n",
    "    train_ds = train_ds.map(standardization)\n",
    "    test_ds = test_ds.map(standardization)\n",
    "    return train_ds, test_ds"
   ]
  },
  {
   "cell_type": "code",
   "execution_count": 27,
   "id": "9832f761-111d-45ab-b438-06ea9acf056c",
   "metadata": {},
   "outputs": [
    {
     "data": {
      "image/png": "[encoded data removed]",
      "text/plain": [
       "<Figure size 432x288 with 1 Axes>"
      ]
     },
     "metadata": {
      "needs_background": "light"
     },
     "output_type": "display_data"
    }
   ],
   "source": [
    "for images, labels in train_ds:\n",
    "    plt.imshow(images[4])\n",
    "    break"
   ]
  },
  {
   "cell_type": "code",
   "execution_count": null,
   "id": "5683c368-ea7c-4f66-b147-fadbe8406662",
   "metadata": {},
   "outputs": [],
   "source": []
  }
 ],
 "metadata": {
  "kernelspec": {
   "display_name": "Python 3 (ipykernel)",
   "language": "python",
   "name": "python3"
  },
  "language_info": {
   "codemirror_mode": {
    "name": "ipython",
    "version": 3
   },
   "file_extension": ".py",
   "mimetype": "text/x-python",
   "name": "python",
   "nbconvert_exporter": "python",
   "pygments_lexer": "ipython3",
   "version": "3.9.12"
  }
 },
 "nbformat": 4,
 "nbformat_minor": 5
}
