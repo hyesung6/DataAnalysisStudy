{
 "cells": [
  {
   "cell_type": "code",
   "execution_count": 1,
   "id": "0d7b8318-b794-4510-b705-f5e82e388891",
   "metadata": {},
   "outputs": [],
   "source": [
    "import tensorflow as tf\n",
    "import matplotlib.pyplot as plt"
   ]
  },
  {
   "cell_type": "code",
   "execution_count": 7,
   "id": "82f8f89b-ce79-4d0c-a05e-1878217ccc96",
   "metadata": {},
   "outputs": [],
   "source": [
    "t1 = tf.Variable([1, 2, 3], dtype=tf.float32)\n",
    "t2 = tf.Variable([10, 20, 30], dtype=tf.float32)"
   ]
  },
  {
   "cell_type": "code",
   "execution_count": 28,
   "id": "09fbc1ff-db7c-4e13-9ae6-bc701e54bde2",
   "metadata": {},
   "outputs": [],
   "source": [
    "with tf.GradientTape() as tape:\n",
    "    t3 = t1 * t2\n",
    "    t4 = t3 + t2"
   ]
  },
  {
   "cell_type": "code",
   "execution_count": 29,
   "id": "d4d13b2c-17df-4941-8a3e-3214be2b642b",
   "metadata": {},
   "outputs": [
    {
     "name": "stdout",
     "output_type": "stream",
     "text": [
      "[1. 2. 3.]\n",
      "[10. 20. 30.]\n",
      "[10. 40. 90.]\n"
     ]
    }
   ],
   "source": [
    "print(t1.numpy())\n",
    "print(t2.numpy())\n",
    "print(t3.numpy())"
   ]
  },
  {
   "cell_type": "markdown",
   "id": "b7f26c22-1657-472d-a1fe-5a355e11a401",
   "metadata": {},
   "source": [
    "back propagation에 사용될 값을 저장하는 tape이라고 생각하면 됨\n",
    "\n",
    "즉, t3의 연산 결과는 t1의 편미분값 t2를 구하게 되고\n",
    "\n",
    "t2에 대해서는 t1을 구하게 됨"
   ]
  },
  {
   "cell_type": "code",
   "execution_count": 27,
   "id": "de5a2155-4dff-461e-9da5-585525a8cd3f",
   "metadata": {},
   "outputs": [
    {
     "name": "stdout",
     "output_type": "stream",
     "text": [
      "[<tf.Tensor: shape=(3,), dtype=float32, numpy=array([10., 20., 30.], dtype=float32)>, <tf.Tensor: shape=(3,), dtype=float32, numpy=array([1., 2., 3.], dtype=float32)>]\n",
      "dt1 : tf.Tensor([10. 20. 30.], shape=(3,), dtype=float32)\n",
      "dt2 : tf.Tensor([1. 2. 3.], shape=(3,), dtype=float32)\n"
     ]
    }
   ],
   "source": [
    "gradients = tape.gradient(t3, [t1, t2])\n",
    "print(gradients)\n",
    "\n",
    "print('dt1 :', gradients[0])\n",
    "print('dt2 :', gradients[1])"
   ]
  },
  {
   "cell_type": "code",
   "execution_count": 30,
   "id": "ece365c5-ca91-4a6d-a27d-ae754d9e88de",
   "metadata": {},
   "outputs": [
    {
     "name": "stdout",
     "output_type": "stream",
     "text": [
      "dt1 : tf.Tensor([10. 20. 30.], shape=(3,), dtype=float32)\n",
      "dt2 : tf.Tensor([2. 3. 4.], shape=(3,), dtype=float32)\n",
      "dt3 : tf.Tensor([1. 1. 1.], shape=(3,), dtype=float32)\n"
     ]
    }
   ],
   "source": [
    "gradients = tape.gradient(t4, [t1, t2, t3])\n",
    "\n",
    "print('dt1 :', gradients[0])\n",
    "print('dt2 :', gradients[1])\n",
    "print('dt3 :', gradients[2])"
   ]
  },
  {
   "cell_type": "markdown",
   "id": "3f7610d2-1808-4563-ba24-bc1df089b969",
   "metadata": {},
   "source": [
    "---"
   ]
  },
  {
   "cell_type": "markdown",
   "id": "939cd046-0bde-459f-9c04-0ccab84171ac",
   "metadata": {},
   "source": [
    "- 선형회귀 레이어 구현\n",
    "\n",
    "    - GradientTape을 통해 역전파에 사용하는 편미분값을 알 수 있다면, 직접 선형회귀식을 구현할 수 있음\n",
    "\n",
    "    - w : weight, b : bias\n",
    "\n",
    "    - 가중치에 x를 곱하고, 편향값을 더한다면 회귀식이 됨 ==> $wx+b$\n",
    "    \n",
    "    - 예측 결과에 타겟(y)의 실제값을 뺀 제곱은 손실함수가 됨 ==> $((wx+b)-y)^2$\n",
    "\n",
    "    - 손실함수를 얻기 위해 사용된 w와 b의 편미분값을 원래의 w, b에서 빼면\n",
    "      역전파 단계에서 전달하는 w, b가 됨\n",
    "\n",
    "    - learning rate가 필요하다면 원래 w, b에서 각 학습율의 차분을 편미분값에 곱함 \n",
    "    \n",
    "    - GradientTape을 통해 얻어진 편미분값을 사용해 새로운 w, b값을 얻은 다음, 학습 과정을 반복하면 (회귀식에 대입) 신경망을 반복하는 모델이 완성됨\n"
   ]
  },
  {
   "cell_type": "code",
   "execution_count": 44,
   "id": "3494a96d-4c3e-4de5-a376-e9ae0ad09c0f",
   "metadata": {},
   "outputs": [],
   "source": [
    "x_data = tf.random.normal(shape=(1000,), dtype=tf.float32)\n",
    "y_data = 3*x_data + 1\n",
    "\n",
    "\n",
    "w = tf.Variable(-1, dtype=tf.float32)\n",
    "b = tf.Variable(-1, dtype=tf.float32)\n",
    "\n",
    "learning_rate = 0.01\n",
    "w_trace, b_trace = [], []\n",
    "EPOCHS = 10\n",
    "\n",
    "for epoch in range(EPOCHS):\n",
    "    for x, y in zip(x_data, y_data):\n",
    "        with tf.GradientTape() as tape:\n",
    "            prediction = w * x + b\n",
    "            loss = ( prediction - y )**2\n",
    "\n",
    "        gradients = tape.gradient(loss, [w, b])\n",
    "\n",
    "        w_trace.append(w.numpy())\n",
    "        b_trace.append(b.numpy())\n",
    "\n",
    "        w = tf.Variable(w - learning_rate * gradients[0])\n",
    "        b = tf.Variable(b - learning_rate * gradients[1])"
   ]
  },
  {
   "cell_type": "code",
   "execution_count": 45,
   "id": "acc8a30f-4eec-4844-8914-ba55361df32d",
   "metadata": {},
   "outputs": [
    {
     "data": {
      "image/png": "[encoded data removed]",
      "text/plain": [
       "<Figure size 864x504 with 1 Axes>"
      ]
     },
     "metadata": {
      "needs_background": "light"
     },
     "output_type": "display_data"
    }
   ],
   "source": [
    "fig, ax = plt.subplots(figsize=(12, 7))\n",
    "\n",
    "ax.plot(w_trace, label='weight')\n",
    "ax.plot(b_trace, label='bias')\n",
    "\n",
    "ax.tick_params(labelsize=20)\n",
    "ax.legend(fontsize=20)\n",
    "ax.grid()\n",
    "\n",
    "plt.show()"
   ]
  },
  {
   "cell_type": "code",
   "execution_count": null,
   "id": "bc9ca158-ff2a-4e03-83a6-cfde95d82407",
   "metadata": {},
   "outputs": [],
   "source": []
  }
 ],
 "metadata": {
  "kernelspec": {
   "display_name": "Python 3 (ipykernel)",
   "language": "python",
   "name": "python3"
  },
  "language_info": {
   "codemirror_mode": {
    "name": "ipython",
    "version": 3
   },
   "file_extension": ".py",
   "mimetype": "text/x-python",
   "name": "python",
   "nbconvert_exporter": "python",
   "pygments_lexer": "ipython3",
   "version": "3.9.12"
  }
 },
 "nbformat": 4,
 "nbformat_minor": 5
}
