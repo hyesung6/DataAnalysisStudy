{
 "cells": [
  {
   "cell_type": "markdown",
   "id": "6f1a6e40-39cf-4ecb-9c1c-7bed3c5a31a7",
   "metadata": {},
   "source": [
    "- 차원이 안 맞는 오류 발생시\n",
    "    1. tf.random.normal의 shape를 (1000, 1)로 스칼라가 아닌 벡터로 지정해주는 방법\n",
    "    2. numpy_ops로 reshape를 텐서에 쓸 수 있게 한 다음, reshape(-1, 1) 지정하는 방법"
   ]
  },
  {
   "cell_type": "code",
   "execution_count": 29,
   "id": "1ed4419c-3190-40a6-af7b-43a8c683e3f2",
   "metadata": {},
   "outputs": [],
   "source": [
    "import tensorflow as tf\n",
    "import matplotlib.pyplot as plt \n",
    "from tensorflow.python.ops.numpy_ops import np_config\n",
    "np_config.enable_numpy_behavior()\n",
    "\n",
    "x_train = tf.random.normal(shape=(1000, 1), dtype=tf.float32)\n",
    "y_train = 3 * x_train + 1 + 0.2 * tf.random.normal(shape=(1000, 1), dtype=tf.float32)\n",
    "\n",
    "x_test = tf.random.normal(shape=(300, 1), dtype=tf.float32)\n",
    "y_test = 3 * x_test + 1 + 0.2 * tf.random.normal(shape=(300, 1), dtype=tf.float32)"
   ]
  },
  {
   "cell_type": "code",
   "execution_count": 30,
   "id": "d30e9b66-acaf-4998-a7ac-455daf6e1f2e",
   "metadata": {},
   "outputs": [
    {
     "data": {
      "image/png": "[encoded data removed]",
      "text/plain": [
       "<Figure size 720x720 with 1 Axes>"
      ]
     },
     "metadata": {
      "needs_background": "light"
     },
     "output_type": "display_data"
    }
   ],
   "source": [
    "fig, ax = plt.subplots(figsize=(10, 10))\n",
    "ax.scatter(x_train.numpy(), y_train.numpy())\n",
    "ax.tick_params(labelsize=20)\n",
    "ax.grid()"
   ]
  },
  {
   "cell_type": "code",
   "execution_count": 31,
   "id": "748429ae-a64b-4385-aec1-7107cc55afc0",
   "metadata": {},
   "outputs": [],
   "source": [
    "model = tf.keras.models.Sequential([\n",
    "    tf.keras.layers.Dense(units=1, activation='linear'),\n",
    "    ])\n",
    "\n",
    "model.compile(loss=tf.keras.losses.mean_squared_error, optimizer='SGD')"
   ]
  },
  {
   "cell_type": "code",
   "execution_count": 37,
   "id": "45284255-2eba-43a2-87e9-23dfb7b609e9",
   "metadata": {},
   "outputs": [
    {
     "name": "stdout",
     "output_type": "stream",
     "text": [
      "Epoch 1/50\n",
      "1000/1000 [==============================] - 2s 2ms/step - loss: 0.0386\n",
      "Epoch 2/50\n",
      "1000/1000 [==============================] - 2s 2ms/step - loss: 0.0387\n",
      "Epoch 3/50\n",
      "1000/1000 [==============================] - 2s 2ms/step - loss: 0.0386\n",
      "Epoch 4/50\n",
      "1000/1000 [==============================] - 1s 1ms/step - loss: 0.0387\n",
      "Epoch 5/50\n",
      "1000/1000 [==============================] - 2s 2ms/step - loss: 0.0387\n",
      "Epoch 6/50\n",
      "1000/1000 [==============================] - 2s 2ms/step - loss: 0.0385\n",
      "Epoch 7/50\n",
      "1000/1000 [==============================] - 2s 2ms/step - loss: 0.0388\n",
      "Epoch 8/50\n",
      "1000/1000 [==============================] - 2s 2ms/step - loss: 0.0387\n",
      "Epoch 9/50\n",
      "1000/1000 [==============================] - 2s 2ms/step - loss: 0.0386\n",
      "Epoch 10/50\n",
      "1000/1000 [==============================] - 2s 2ms/step - loss: 0.0388\n",
      "Epoch 11/50\n",
      "1000/1000 [==============================] - 2s 2ms/step - loss: 0.0386\n",
      "Epoch 12/50\n",
      "1000/1000 [==============================] - 2s 2ms/step - loss: 0.0386\n",
      "Epoch 13/50\n",
      "1000/1000 [==============================] - 2s 2ms/step - loss: 0.0384\n",
      "Epoch 14/50\n",
      "1000/1000 [==============================] - 1s 1ms/step - loss: 0.0387\n",
      "Epoch 15/50\n",
      "1000/1000 [==============================] - 1s 1ms/step - loss: 0.0389\n",
      "Epoch 16/50\n",
      "1000/1000 [==============================] - 2s 2ms/step - loss: 0.0389\n",
      "Epoch 17/50\n",
      "1000/1000 [==============================] - 1s 1ms/step - loss: 0.0387\n",
      "Epoch 18/50\n",
      "1000/1000 [==============================] - 1s 1ms/step - loss: 0.0384A: 0s - loss: 0.\n",
      "Epoch 19/50\n",
      "1000/1000 [==============================] - 2s 2ms/step - loss: 0.0388\n",
      "Epoch 20/50\n",
      "1000/1000 [==============================] - 1s 1ms/step - loss: 0.0386\n",
      "Epoch 21/50\n",
      "1000/1000 [==============================] - 2s 2ms/step - loss: 0.0387\n",
      "Epoch 22/50\n",
      "1000/1000 [==============================] - 1s 1ms/step - loss: 0.0386\n",
      "Epoch 23/50\n",
      "1000/1000 [==============================] - 2s 2ms/step - loss: 0.0388\n",
      "Epoch 24/50\n",
      "1000/1000 [==============================] - 2s 2ms/step - loss: 0.0387\n",
      "Epoch 25/50\n",
      "1000/1000 [==============================] - 1s 1ms/step - loss: 0.0388\n",
      "Epoch 26/50\n",
      "1000/1000 [==============================] - 2s 2ms/step - loss: 0.0387\n",
      "Epoch 27/50\n",
      "1000/1000 [==============================] - 1s 1ms/step - loss: 0.0390\n",
      "Epoch 28/50\n",
      "1000/1000 [==============================] - 2s 2ms/step - loss: 0.0386\n",
      "Epoch 29/50\n",
      "1000/1000 [==============================] - 1s 1ms/step - loss: 0.0387\n",
      "Epoch 30/50\n",
      "1000/1000 [==============================] - 2s 2ms/step - loss: 0.0388\n",
      "Epoch 31/50\n",
      "1000/1000 [==============================] - 2s 2ms/step - loss: 0.0387\n",
      "Epoch 32/50\n",
      "1000/1000 [==============================] - 1s 1ms/step - loss: 0.0386\n",
      "Epoch 33/50\n",
      "1000/1000 [==============================] - 1s 1ms/step - loss: 0.0387\n",
      "Epoch 34/50\n",
      "1000/1000 [==============================] - 2s 2ms/step - loss: 0.0386\n",
      "Epoch 35/50\n",
      "1000/1000 [==============================] - 2s 2ms/step - loss: 0.0385\n",
      "Epoch 36/50\n",
      "1000/1000 [==============================] - 2s 2ms/step - loss: 0.0389\n",
      "Epoch 37/50\n",
      "1000/1000 [==============================] - 1s 1ms/step - loss: 0.0388\n",
      "Epoch 38/50\n",
      "1000/1000 [==============================] - 1s 1ms/step - loss: 0.0388\n",
      "Epoch 39/50\n",
      "1000/1000 [==============================] - 1s 1ms/step - loss: 0.0387\n",
      "Epoch 40/50\n",
      "1000/1000 [==============================] - 2s 2ms/step - loss: 0.0386\n",
      "Epoch 41/50\n",
      "1000/1000 [==============================] - 2s 2ms/step - loss: 0.0387\n",
      "Epoch 42/50\n",
      "1000/1000 [==============================] - 1s 1ms/step - loss: 0.0387\n",
      "Epoch 43/50\n",
      "1000/1000 [==============================] - 1s 1ms/step - loss: 0.0385\n",
      "Epoch 44/50\n",
      "1000/1000 [==============================] - 1s 1ms/step - loss: 0.0387\n",
      "Epoch 45/50\n",
      "1000/1000 [==============================] - 1s 1ms/step - loss: 0.0382\n",
      "Epoch 46/50\n",
      "1000/1000 [==============================] - 1s 1ms/step - loss: 0.0387\n",
      "Epoch 47/50\n",
      "1000/1000 [==============================] - 1s 1ms/step - loss: 0.0388\n",
      "Epoch 48/50\n",
      "1000/1000 [==============================] - 1s 1ms/step - loss: 0.0385\n",
      "Epoch 49/50\n",
      "1000/1000 [==============================] - 2s 2ms/step - loss: 0.0386\n",
      "Epoch 50/50\n",
      "1000/1000 [==============================] - 2s 2ms/step - loss: 0.0386A: 0s - loss:\n"
     ]
    },
    {
     "data": {
      "text/plain": [
       "<keras.callbacks.History at 0x25538062f10>"
      ]
     },
     "execution_count": 37,
     "metadata": {},
     "output_type": "execute_result"
    }
   ],
   "source": [
    "model.fit(x_train, y_train, epochs=50, verbose=1, batch_size=1)"
   ]
  },
  {
   "cell_type": "code",
   "execution_count": 39,
   "id": "36541028-8494-4dcd-b96c-56978386ef95",
   "metadata": {},
   "outputs": [
    {
     "name": "stdout",
     "output_type": "stream",
     "text": [
      "10/10 - 0s - loss: 0.0436 - 112ms/epoch - 11ms/step\n"
     ]
    },
    {
     "data": {
      "text/plain": [
       "0.043618373572826385"
      ]
     },
     "execution_count": 39,
     "metadata": {},
     "output_type": "execute_result"
    }
   ],
   "source": [
    "model.evaluate(x_test, y_test, verbose=2)"
   ]
  },
  {
   "cell_type": "markdown",
   "id": "5db3dcaa-a7f1-46e1-83c9-b9243ba592a8",
   "metadata": {},
   "source": [
    "---"
   ]
  },
  {
   "cell_type": "code",
   "execution_count": 43,
   "id": "e4be8c49-3b3e-4776-9977-1b57539ca585",
   "metadata": {},
   "outputs": [],
   "source": [
    "x_train = tf.random.normal(shape=(10, 1), dtype=tf.float32)\n",
    "y_train = 3 * x_train + 1 + 0.2 * tf.random.normal(shape=(10, 1), dtype=tf.float32)\n",
    "\n",
    "x_test = tf.random.normal(shape=(3, 1), dtype=tf.float32)\n",
    "y_test = 3 * x_test + 1 + 0.2 * tf.random.normal(shape=(3, 1), dtype=tf.float32)"
   ]
  },
  {
   "cell_type": "code",
   "execution_count": 51,
   "id": "68aced3e-bb93-418a-b026-ea4c956fb847",
   "metadata": {},
   "outputs": [
    {
     "name": "stdout",
     "output_type": "stream",
     "text": [
      "\u001b[47m\u001b[31mEpoch: \u001b[0m 1\n",
      "Train Loss: 12.7925\n",
      "\u001b[47m\u001b[31mEpoch: \u001b[0m 2\n",
      "Train Loss: 7.3635\n",
      "\u001b[47m\u001b[31mEpoch: \u001b[0m 3\n",
      "Train Loss: 4.2185\n",
      "\u001b[47m\u001b[31mEpoch: \u001b[0m 4\n",
      "Train Loss: 2.4009\n",
      "\u001b[47m\u001b[31mEpoch: \u001b[0m 5\n",
      "Train Loss: 1.3539\n",
      "\u001b[47m\u001b[31mEpoch: \u001b[0m 6\n",
      "Train Loss: 0.7537\n",
      "\u001b[47m\u001b[31mEpoch: \u001b[0m 7\n",
      "Train Loss: 0.4120\n",
      "\u001b[47m\u001b[31mEpoch: \u001b[0m 8\n",
      "Train Loss: 0.2194\n",
      "\u001b[47m\u001b[31mEpoch: \u001b[0m 9\n",
      "Train Loss: 0.1124\n",
      "\u001b[47m\u001b[31mEpoch: \u001b[0m 10\n",
      "Train Loss: 0.0542\n"
     ]
    }
   ],
   "source": [
    "from termcolor import colored\n",
    "\n",
    "class LinearPredictor(tf.keras.Model):\n",
    "    def __init__(self):\n",
    "        super(LinearPredictor, self).__init__()\n",
    "        \n",
    "        self.d1 = tf.keras.layers.Dense(units=1, activation='linear')\n",
    "        \n",
    "    def call(self, x):\n",
    "        x = self.d1(x)\n",
    "        return x\n",
    "\n",
    "EPOCHS = 10\n",
    "LR = 0.01\n",
    "model = LinearPredictor()\n",
    "\n",
    "loss_object = tf.keras.losses.MeanSquaredError()\n",
    "optimizer = tf.keras.optimizers.SGD(learning_rate=LR)\n",
    "\n",
    "for epoch in range(EPOCHS):\n",
    "    for x, y in zip(x_train, y_train):\n",
    "        x = tf.reshape(x, (1, 1))\n",
    "        # 여기서부터가 하나의 이터레이션이 됨\n",
    "        ## fore propagation\n",
    "        with tf.GradientTape() as tape:\n",
    "            predictions = model(x)\n",
    "            loss = loss_object(y, predictions)\n",
    "            \n",
    "        ## back propagation\n",
    "        gradients = tape.gradient(loss, model.trainable_variables)\n",
    "        ## update parameter\n",
    "        optimizer.apply_gradients(zip(gradients, model.trainable_variables))\n",
    "        \n",
    "    print(colored('Epoch: ', 'red', 'on_white'), epoch + 1)\n",
    "    \n",
    "    template = 'Train Loss: {:.4f}'\n",
    "    print(template.format(loss))"
   ]
  },
  {
   "cell_type": "code",
   "execution_count": null,
   "id": "9c57aa23-6da5-46ac-af67-d2387b388500",
   "metadata": {},
   "outputs": [],
   "source": []
  }
 ],
 "metadata": {
  "kernelspec": {
   "display_name": "Python 3 (ipykernel)",
   "language": "python",
   "name": "python3"
  },
  "language_info": {
   "codemirror_mode": {
    "name": "ipython",
    "version": 3
   },
   "file_extension": ".py",
   "mimetype": "text/x-python",
   "name": "python",
   "nbconvert_exporter": "python",
   "pygments_lexer": "ipython3",
   "version": "3.9.12"
  }
 },
 "nbformat": 4,
 "nbformat_minor": 5
}
