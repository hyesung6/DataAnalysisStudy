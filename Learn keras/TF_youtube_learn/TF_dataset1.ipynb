{
 "cells": [
  {
   "cell_type": "code",
   "execution_count": 8,
   "id": "72757fa6-d5b3-4d5c-81f3-2fea05477430",
   "metadata": {},
   "outputs": [],
   "source": [
    "import tensorflow as tf\n",
    "import numpy as np\n",
    "import matplotlib.pyplot as plt"
   ]
  },
  {
   "cell_type": "code",
   "execution_count": 5,
   "id": "696f4b16-6511-4330-afe5-ebd3adc3f28b",
   "metadata": {
    "collapsed": true,
    "jupyter": {
     "outputs_hidden": true
    },
    "tags": []
   },
   "outputs": [
    {
     "name": "stdout",
     "output_type": "stream",
     "text": [
      "tf.Tensor(\n",
      "[[ 6.]\n",
      " [15.]\n",
      " [ 9.]\n",
      " [ 2.]\n",
      " [16.]\n",
      " [11.]\n",
      " [14.]\n",
      " [ 7.]\n",
      " [12.]\n",
      " [13.]\n",
      " [18.]\n",
      " [ 1.]\n",
      " [10.]\n",
      " [ 4.]\n",
      " [17.]\n",
      " [ 3.]\n",
      " [19.]\n",
      " [ 8.]\n",
      " [ 0.]\n",
      " [ 5.]], shape=(20, 1), dtype=float32) tf.Tensor(\n",
      "[[19.]\n",
      " [46.]\n",
      " [28.]\n",
      " [ 7.]\n",
      " [49.]\n",
      " [34.]\n",
      " [43.]\n",
      " [22.]\n",
      " [37.]\n",
      " [40.]\n",
      " [55.]\n",
      " [ 4.]\n",
      " [31.]\n",
      " [13.]\n",
      " [52.]\n",
      " [10.]\n",
      " [58.]\n",
      " [25.]\n",
      " [ 1.]\n",
      " [16.]], shape=(20, 1), dtype=float32)\n"
     ]
    }
   ],
   "source": [
    "train_x = np.arange(20).astype('float32').reshape(-1, 1)\n",
    "train_y = 3*train_x+1\n",
    "\n",
    "train_ds = tf.data.Dataset.from_tensor_slices((train_x, train_y))\n",
    "train_ds = train_ds.shuffle(60000).batch(9)\n",
    "\n",
    "for x, y in train_ds:\n",
    "    print(x, y)"
   ]
  },
  {
   "cell_type": "markdown",
   "id": "e66da8ba-2bd8-4ad9-bdac-33b91ceeb7fc",
   "metadata": {},
   "source": [
    "# 데이터셋 로드"
   ]
  },
  {
   "cell_type": "code",
   "execution_count": 6,
   "id": "8fa0abb0-b02b-40ce-a0e6-40773e191cde",
   "metadata": {},
   "outputs": [],
   "source": [
    "from tensorflow.keras.datasets import fashion_mnist\n",
    "\n",
    "(train_images, train_labels), (test_images, test_labels) = fashion_mnist.load_data()"
   ]
  },
  {
   "cell_type": "code",
   "execution_count": 15,
   "id": "43458eac-4f02-42e2-bcaa-a764187d02cc",
   "metadata": {},
   "outputs": [],
   "source": [
    "train_ds = tf.data.Dataset.from_tensor_slices((train_images, train_labels))\n",
    "train_ds = train_ds.shuffle(60000).batch(9)\n",
    "\n",
    "test_ds = tf.data.Dataset.from_tensor_slices((test_images, test_labels))\n",
    "test_ds = test_ds.batch(9)"
   ]
  },
  {
   "cell_type": "code",
   "execution_count": 19,
   "id": "e79fabcc-7d1d-4170-85eb-8fc7886baf3a",
   "metadata": {},
   "outputs": [
    {
     "data": {
      "image/png": "[encoded data removed]",
      "text/plain": [
       "<Figure size 720x720 with 9 Axes>"
      ]
     },
     "metadata": {
      "needs_background": "light"
     },
     "output_type": "display_data"
    }
   ],
   "source": [
    "train_ds_iter = iter(train_ds)\n",
    "images, labels = next(train_ds_iter)\n",
    "\n",
    "fig, axes = plt.subplots(3, 3, figsize=(10, 10))\n",
    "\n",
    "for ax_idx, ax in enumerate(axes.flat):\n",
    "    image = images[ax_idx, ...]\n",
    "    label = labels[ax_idx]\n",
    "    \n",
    "    ax.imshow(image.numpy(), 'gray')\n",
    "    ax.set_title(label.numpy(), fontsize=20)\n",
    "    \n",
    "    ax.get_xaxis().set_visible(False)\n",
    "    ax.get_yaxis().set_visible(False)"
   ]
  },
  {
   "cell_type": "code",
   "execution_count": 20,
   "id": "482c2e65-4bd9-4c09-9767-0beada5b2c6d",
   "metadata": {},
   "outputs": [],
   "source": [
    "import tensorflow_datasets as tfds"
   ]
  },
  {
   "cell_type": "code",
   "execution_count": null,
   "id": "4e0fd6ca-2f35-4f6a-82d7-7753e8dfb70b",
   "metadata": {},
   "outputs": [],
   "source": []
  }
 ],
 "metadata": {
  "kernelspec": {
   "display_name": "Python 3 (ipykernel)",
   "language": "python",
   "name": "python3"
  },
  "language_info": {
   "codemirror_mode": {
    "name": "ipython",
    "version": 3
   },
   "file_extension": ".py",
   "mimetype": "text/x-python",
   "name": "python",
   "nbconvert_exporter": "python",
   "pygments_lexer": "ipython3",
   "version": "3.9.12"
  }
 },
 "nbformat": 4,
 "nbformat_minor": 5
}
