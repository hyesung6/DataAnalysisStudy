{
 "cells": [
  {
   "cell_type": "code",
   "execution_count": 3,
   "id": "aa4f7836-6eb6-43a4-80af-e9b6fb568a1c",
   "metadata": {},
   "outputs": [],
   "source": [
    "import tensorflow as tf\n",
    "import tensorflow_datasets as tfds\n",
    "import numpy as np"
   ]
  },
  {
   "cell_type": "code",
   "execution_count": 10,
   "id": "f901ad18-02a9-4c39-904c-861130905234",
   "metadata": {},
   "outputs": [
    {
     "name": "stdout",
     "output_type": "stream",
     "text": [
      "tf.Tensor([0], shape=(1,), dtype=int32)\n",
      "tf.Tensor([1], shape=(1,), dtype=int32) \n",
      "\n",
      "tf.Tensor([1], shape=(1,), dtype=int32)\n",
      "tf.Tensor([4], shape=(1,), dtype=int32) \n",
      "\n",
      "tf.Tensor([2], shape=(1,), dtype=int32)\n",
      "tf.Tensor([7], shape=(1,), dtype=int32) \n",
      "\n",
      "tf.Tensor([3], shape=(1,), dtype=int32)\n",
      "tf.Tensor([10], shape=(1,), dtype=int32) \n",
      "\n",
      "tf.Tensor([4], shape=(1,), dtype=int32)\n",
      "tf.Tensor([13], shape=(1,), dtype=int32) \n",
      "\n",
      "tf.Tensor([5], shape=(1,), dtype=int32)\n",
      "tf.Tensor([16], shape=(1,), dtype=int32) \n",
      "\n",
      "tf.Tensor([6], shape=(1,), dtype=int32)\n",
      "tf.Tensor([19], shape=(1,), dtype=int32) \n",
      "\n",
      "tf.Tensor([7], shape=(1,), dtype=int32)\n",
      "tf.Tensor([22], shape=(1,), dtype=int32) \n",
      "\n",
      "tf.Tensor([8], shape=(1,), dtype=int32)\n",
      "tf.Tensor([25], shape=(1,), dtype=int32) \n",
      "\n",
      "tf.Tensor([9], shape=(1,), dtype=int32)\n",
      "tf.Tensor([28], shape=(1,), dtype=int32) \n",
      "\n"
     ]
    }
   ],
   "source": [
    "train_x = np.arange(100).reshape(-1, 1)\n",
    "train_y = 3 * train_x + 1\n",
    "\n",
    "train_validation_ds = tf.data.Dataset.from_tensor_slices((train_x, train_y))\n",
    "\n",
    "tmp_ds = train_ds.take(10)  # take는 지정한 개수만 가져옴\n",
    "\n",
    "for idx, (x, y) in enumerate(tmp_ds):\n",
    "    print(x)\n",
    "    print(y, '\\n')\n",
    "    if idx == 10:\n",
    "        break"
   ]
  },
  {
   "cell_type": "code",
   "execution_count": 11,
   "id": "0a9cb0ad-9cf1-455a-b5d8-c60081fde13f",
   "metadata": {},
   "outputs": [
    {
     "name": "stdout",
     "output_type": "stream",
     "text": [
      "100\n",
      "80\n",
      "80\n"
     ]
    }
   ],
   "source": [
    "n_train_validation = 100\n",
    "train_ratio = 0.8\n",
    "n_train = int(n_train_validation * train_ratio)\n",
    "\n",
    "print(n_train_validation)\n",
    "print(n_train)\n",
    "\n",
    "train_ds = train_validation_ds.take(n_train)\n",
    "\n",
    "print(len(train_ds))"
   ]
  },
  {
   "cell_type": "code",
   "execution_count": 12,
   "id": "d0252e3e-9765-4a23-b9d9-67e16533b594",
   "metadata": {},
   "outputs": [
    {
     "name": "stdout",
     "output_type": "stream",
     "text": [
      "tf.Tensor([10], shape=(1,), dtype=int32)\n",
      "tf.Tensor([31], shape=(1,), dtype=int32) \n",
      "\n",
      "tf.Tensor([11], shape=(1,), dtype=int32)\n",
      "tf.Tensor([34], shape=(1,), dtype=int32) \n",
      "\n",
      "tf.Tensor([12], shape=(1,), dtype=int32)\n",
      "tf.Tensor([37], shape=(1,), dtype=int32) \n",
      "\n",
      "tf.Tensor([13], shape=(1,), dtype=int32)\n",
      "tf.Tensor([40], shape=(1,), dtype=int32) \n",
      "\n",
      "tf.Tensor([14], shape=(1,), dtype=int32)\n",
      "tf.Tensor([43], shape=(1,), dtype=int32) \n",
      "\n",
      "tf.Tensor([15], shape=(1,), dtype=int32)\n",
      "tf.Tensor([46], shape=(1,), dtype=int32) \n",
      "\n",
      "tf.Tensor([16], shape=(1,), dtype=int32)\n",
      "tf.Tensor([49], shape=(1,), dtype=int32) \n",
      "\n",
      "tf.Tensor([17], shape=(1,), dtype=int32)\n",
      "tf.Tensor([52], shape=(1,), dtype=int32) \n",
      "\n",
      "tf.Tensor([18], shape=(1,), dtype=int32)\n",
      "tf.Tensor([55], shape=(1,), dtype=int32) \n",
      "\n",
      "tf.Tensor([19], shape=(1,), dtype=int32)\n",
      "tf.Tensor([58], shape=(1,), dtype=int32) \n",
      "\n",
      "tf.Tensor([20], shape=(1,), dtype=int32)\n",
      "tf.Tensor([61], shape=(1,), dtype=int32) \n",
      "\n"
     ]
    }
   ],
   "source": [
    "train_x = np.arange(100).reshape(-1, 1)\n",
    "train_y = 3 * train_x + 1\n",
    "\n",
    "train_validation_ds = tf.data.Dataset.from_tensor_slices((train_x, train_y))\n",
    "\n",
    "tmp_ds = train_ds.skip(10)  # skip은 개수만큼 건너뜀\n",
    "\n",
    "for idx, (x, y) in enumerate(tmp_ds):\n",
    "    print(x)\n",
    "    print(y, '\\n')\n",
    "    if idx == 10:\n",
    "        break"
   ]
  },
  {
   "cell_type": "markdown",
   "id": "17d58ce1-64f5-467f-9d59-59069ead55cd",
   "metadata": {},
   "source": [
    "take과 skip을 이용해 data split을 원하는 만큼 조정 가능\n",
    "\n",
    "skip(n_train)만큼 건너 뛴 다음, \n",
    "take(n_validation)만큼 검증셋을 가져오는 식으로 "
   ]
  },
  {
   "cell_type": "code",
   "execution_count": null,
   "id": "f73d0bf7-4088-4704-9ce5-724da1caa37f",
   "metadata": {},
   "outputs": [],
   "source": []
  }
 ],
 "metadata": {
  "kernelspec": {
   "display_name": "Python 3 (ipykernel)",
   "language": "python",
   "name": "python3"
  },
  "language_info": {
   "codemirror_mode": {
    "name": "ipython",
    "version": 3
   },
   "file_extension": ".py",
   "mimetype": "text/x-python",
   "name": "python",
   "nbconvert_exporter": "python",
   "pygments_lexer": "ipython3",
   "version": "3.9.12"
  }
 },
 "nbformat": 4,
 "nbformat_minor": 5
}
