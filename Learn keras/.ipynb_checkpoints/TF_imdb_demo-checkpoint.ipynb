{
 "cells": [
  {
   "cell_type": "code",
   "execution_count": 1,
   "id": "02331abf-a08b-4ad2-b516-7d56b199afb8",
   "metadata": {},
   "outputs": [],
   "source": [
    "from keras.datasets import imdb"
   ]
  },
  {
   "cell_type": "code",
   "execution_count": 3,
   "id": "04138e03-8142-42cf-99f0-0d02ca675c17",
   "metadata": {},
   "outputs": [
    {
     "name": "stdout",
     "output_type": "stream",
     "text": [
      "Downloading data from https://storage.googleapis.com/tensorflow/tf-keras-datasets/imdb.npz\n",
      "17465344/17464789 [==============================] - 133s 8us/step\n",
      "17473536/17464789 [==============================] - 133s 8us/step\n"
     ]
    }
   ],
   "source": [
    "(train_data, train_labels), (test_data, test_labels) = imdb.load_data(num_words=10000)"
   ]
  },
  {
   "cell_type": "markdown",
   "id": "4c571326-41a2-45de-ab6a-adea72b7855e",
   "metadata": {},
   "source": [
    "num_words는 훈련 데이터에서 가장 많이 나타나는 단어 10000개를 사용하겠다는 뜻\n",
    "각 labels에 저장된 0과 1은 0:부정 , 1:긍정으로 카테고리 변수로 사용할 수 있음"
   ]
  },
  {
   "cell_type": "code",
   "execution_count": 4,
   "id": "18ee4f5e-8169-449a-b432-3339156661fb",
   "metadata": {},
   "outputs": [
    {
     "data": {
      "text/plain": [
       "9999"
      ]
     },
     "execution_count": 4,
     "metadata": {},
     "output_type": "execute_result"
    }
   ],
   "source": [
    "max([max(sequence) for sequence in train_data])"
   ]
  },
  {
   "cell_type": "code",
   "execution_count": 5,
   "id": "d12c5b79-9935-4bdf-a1b5-e9a3bd769d39",
   "metadata": {},
   "outputs": [
    {
     "data": {
      "text/plain": [
       "(25000,)"
      ]
     },
     "execution_count": 5,
     "metadata": {},
     "output_type": "execute_result"
    }
   ],
   "source": [
    "train_data.shape"
   ]
  },
  {
   "cell_type": "code",
   "execution_count": 13,
   "id": "599a893a-8fe4-4605-a5c9-09d5ec6b7d05",
   "metadata": {},
   "outputs": [
    {
     "data": {
      "text/plain": [
       "153"
      ]
     },
     "execution_count": 13,
     "metadata": {},
     "output_type": "execute_result"
    }
   ],
   "source": [
    "len(train_data[24999])"
   ]
  },
  {
   "cell_type": "code",
   "execution_count": 14,
   "id": "432faf10-4e04-4a3b-8cac-f7faac3f4cc8",
   "metadata": {},
   "outputs": [
    {
     "name": "stdout",
     "output_type": "stream",
     "text": [
      "Downloading data from https://storage.googleapis.com/tensorflow/tf-keras-datasets/imdb_word_index.json\n",
      "1646592/1641221 [==============================] - 12s 7us/step\n",
      "1654784/1641221 [==============================] - 12s 7us/step\n"
     ]
    }
   ],
   "source": [
    "word_index = imdb.get_word_index()    # 단어와 정수 인덱스를 매핑한 딕셔너리\n",
    "reverse_word_index = dict(\n",
    "    [(value, key) for (key, value) in word_index.items()])\n",
    "decoded_review = ' '.join([reverse_word_index.get(i - 3, '?') for i in train_data[0]])"
   ]
  },
  {
   "cell_type": "markdown",
   "id": "6529d7e3-5392-4f32-bf28-0d3784936455",
   "metadata": {},
   "source": [
    "신경망에 숫자 리스트를 넣을 수는 없다.\n",
    "\n",
    "리스트를 텐서로 바꾸는 방법은 두 가지.\n",
    "\n",
    "1. 같은 길이가 되도록 리스트에 패딩을 추가하고 (samples, sequence_length) 크기의 정수 텐서로 변환한다. 그다음 이 정수 텐서를 다룰 수 있는 층을 신경망의 첫 번째 층으로 사용한다.\n",
    "2. 리스트를 원-핫 인코딩하여 0과 1의 벡터로 변환한다. 예를 들어 시퀀스[3,5]를 인덱스 3과 5의 위치는 1이고 나머지는 0인 10000차원의 벡터로 각각 변환한다. 그다음 부동 소수 벡터 데이터를 다룰 수 있는 Dense 층을 신경망의 첫 번째 층으로 사용한다. "
   ]
  },
  {
   "cell_type": "code",
   "execution_count": 21,
   "id": "f8643009-c64d-4fb8-b0ee-88c2e0af281f",
   "metadata": {},
   "outputs": [],
   "source": [
    "import numpy as np\n",
    "\n",
    "def vectorize_sequences(sequences, dimension=10000):\n",
    "    results = np.zeros((len(sequences), dimension))\n",
    "    for i, sequence in enumerate(sequences):\n",
    "        results[i, sequence] = 1.\n",
    "    return results\n",
    "\n",
    "X_train = vectorize_sequences(train_data)\n",
    "X_test = vectorize_sequences(test_data)"
   ]
  },
  {
   "cell_type": "code",
   "execution_count": 22,
   "id": "bc43363a-43f9-4273-a895-c9b375d75747",
   "metadata": {},
   "outputs": [
    {
     "data": {
      "text/plain": [
       "array([0., 1., 1., ..., 0., 0., 0.])"
      ]
     },
     "execution_count": 22,
     "metadata": {},
     "output_type": "execute_result"
    }
   ],
   "source": [
    "X_train[0]"
   ]
  },
  {
   "cell_type": "code",
   "execution_count": 23,
   "id": "3311469c-d074-41dc-9994-42196923d06c",
   "metadata": {},
   "outputs": [
    {
     "data": {
      "text/plain": [
       "array([0., 1., 1., ..., 0., 0., 0.])"
      ]
     },
     "execution_count": 23,
     "metadata": {},
     "output_type": "execute_result"
    }
   ],
   "source": [
    "X_test[0]"
   ]
  },
  {
   "cell_type": "code",
   "execution_count": 24,
   "id": "b474c8cf-94a7-48ef-aadf-074e69972b9f",
   "metadata": {},
   "outputs": [],
   "source": [
    "# 데이터를 벡터화했으니 레이블도 벡터화 해야하는데, 레이블은 01로만 이루어져있으므로 numpy asarray 사용\n",
    "y_train = np.asarray(train_labels).astype('float32')\n",
    "y_test = np.asarray(test_labels).astype('float32')"
   ]
  },
  {
   "cell_type": "markdown",
   "id": "ae6f9b26-2836-47ef-bf53-3e233aff1e07",
   "metadata": {},
   "source": [
    "Dense 층을 쌓을 때 두 가지 중요한 구조상의 결정이 필요하다\n",
    "1. 얼마나 많은 층을 사용할 것인가?\n",
    "2. 각 층에 얼마나 많은 은닉 유닛을 둘 것인가?"
   ]
  },
  {
   "cell_type": "markdown",
   "id": "6fcbc64a-2d22-44ea-a15b-2cf1301948ef",
   "metadata": {},
   "source": [
    "해당 실습에서는 중간에 위치하는 은닉층은 활성화 함수로 relu를 사용, 마지막 층은 확률을 점수로 출력하기 위해 시그모이드 활성화 함수를 사용\n",
    "1. relu는 음수를 0으로 만드는 함수\n",
    "2. sigmoid는 0과 1 사이로 정규화하므로 출력값을 확률로 해석 가능"
   ]
  },
  {
   "cell_type": "code",
   "execution_count": null,
   "id": "560c7b7d-1ca1-4a45-8291-139785e0e7e6",
   "metadata": {},
   "outputs": [],
   "source": []
  }
 ],
 "metadata": {
  "kernelspec": {
   "display_name": "Python 3 (ipykernel)",
   "language": "python",
   "name": "python3"
  },
  "language_info": {
   "codemirror_mode": {
    "name": "ipython",
    "version": 3
   },
   "file_extension": ".py",
   "mimetype": "text/x-python",
   "name": "python",
   "nbconvert_exporter": "python",
   "pygments_lexer": "ipython3",
   "version": "3.9.12"
  }
 },
 "nbformat": 4,
 "nbformat_minor": 5
}
