{
 "cells": [
  {
   "cell_type": "markdown",
   "id": "1b6fb26b-bdec-4605-aa78-3ed90e57a0df",
   "metadata": {},
   "source": [
    "# 과대적합이란?"
   ]
  },
  {
   "cell_type": "markdown",
   "id": "1b7d79f6-a8cc-4f70-ab3e-20908a89c3b2",
   "metadata": {},
   "source": [
    "이전 example 세가지 ( 영화 리뷰 분류, 토픽 분류, 주택 가격 회귀 ) 모두 홀드 아웃 데이터에서 모델의 성능이 몇 번의 에포크 후에 최고치에 다다랐다가 감소되기 시작했습니다. 즉, 모델이 금방 훈련 데이터에 과대적합되기 시작합니다. 과대적합은 모든 머신 러닝 문제에서 발생합니다. 머신 러닝을 마스터하려면 과대적합을 다루는 방법을 꼭 배워야합니다."
   ]
  },
  {
   "cell_type": "markdown",
   "id": "252f83cc-03ce-4eb4-88a7-c2ff7e9b50ee",
   "metadata": {},
   "source": [
    "머신 러닝의 근본적인 이슈는 최적화와 일반화 사이의 줄다리기입니다. 최적화는 가능한 훈련 데이터에서 최고의 성능을 얻으려고 모델을 조정하는 과정입니다(머신 러닝의 학습). 반면 일반화는 훈련된 모델이 이전에 본 적 없는 데이터에서 얼마나 잘 수행되는지를 의미합니다. 물론 모델을 만드는 목적은 좋은 일반화 성능을 얻는 것입니다. 하지만 일반화 성능을 제어할 방법이 없습니다. 단지 훈련 데이터를 기반으로 모델을 조정할 수만 있습니다."
   ]
  },
  {
   "cell_type": "markdown",
   "id": "ccddce7c-010f-47b4-8432-817ce8d5b7aa",
   "metadata": {},
   "source": [
    "훈련 초기에 최적화와 일반화는 상호 연관되어 있습니다. 훈련 데이터의 손실이 낮을수록 테스트 데이터의 손실이 낮습니다. 이런 상황이 발생할 때 모델이 과소적합되었다고 말합니다. 모델의 성능이 계속 발전될 여지가 있습니다. 즉, 네트워크가 훈련 데이터에 있는 관련 특성을 모두 학습하지 못했습니다. 하지만 훈련 데이터에 여러 번 반복 학습하고 나면 어느 시점부터 일반화 성능이 더 이상 높아지지 않습니다. 검증 세트의 성능이 멈추고 감소되기 시작합니다. 즉, 모델이 과대적합되기 시작합니다. 이는 훈련 데이터에 특화된 패턴을 학습하기 시작했다는 의미입니다. 이 패턴은 새로운 데이터와 관련성이 적어 잘못된 판단을 하게 만듭니다."
   ]
  },
  {
   "cell_type": "markdown",
   "id": "451ee229-1c1e-4c86-a254-be2fe1188261",
   "metadata": {},
   "source": [
    "모델이 관련성이 없고 좋지 못한 패턴을 훈련 데이터에서 학습하지 못 하도록 하려면 가장 좋은 방법은 더 많은 훈련 데이터를 모으는 것입니다. 더 많은 데이터에서 훈련된 모델은 자연히 일반화 성능이 더 뛰어 납니다. 데이터를 더 모으는 것이 불가능할 때 차선책은 모델이 수용할 수 있는 정보의 양을 조절하거나 저장할 수 있는 정보에 제약을 가하는 것입니다. 네트워크가 적은 수의 패턴만을 기억할 수 있다면 최적화 과정에서 가장 중요한 패턴에 집중하게 될 것입니다. 이런 패턴은 더 나은 일반화 성능을 제공할 수 있습니다. "
   ]
  },
  {
   "cell_type": "markdown",
   "id": "6c4e83ef-fb5a-45a2-8498-dc3c0b77ea19",
   "metadata": {},
   "source": [
    "이런 식으로 과대적합을 피하는 처리 과정을 규제라고 합니다. 가장 널리 사용되는 규제 기법을 알아보고 이전 장에서 본 영화 리뷰 본류 모델에 실제로 적용해 성능을 향상시켜 보겠습니다.\n",
    "* example.1 imdb 코드 사용"
   ]
  },
  {
   "cell_type": "code",
   "execution_count": 1,
   "id": "7785edc0-2b1b-4f3f-af31-6180c7b1a815",
   "metadata": {},
   "outputs": [],
   "source": [
    "from keras.datasets import imdb\n",
    "import numpy as np\n",
    "\n",
    "(train_data, train_labels), (test_data, test_labels) = imdb.load_data(num_words=10000)\n",
    "\n",
    "def vectorize_sequences(sequences, dimension=10000):\n",
    "    # 크기가 (len(sequences), dimension))이고 모든 원소가 0인 행렬을 만듭니다\n",
    "    results = np.zeros((len(sequences), dimension))\n",
    "    for i, sequence in enumerate(sequences):\n",
    "        results[i, sequence] = 1.  # results[i]에서 특정 인덱스의 위치를 1로 만듭니다\n",
    "    return results\n",
    "\n",
    "# 훈련 데이터를 벡터로 변환합니다\n",
    "x_train = vectorize_sequences(train_data)\n",
    "# 테스트 데이터를 벡터로 변환합니다\n",
    "x_test = vectorize_sequences(test_data)\n",
    "# 레이블을 벡터로 변환합니다\n",
    "y_train = np.asarray(train_labels).astype('float32')\n",
    "y_test = np.asarray(test_labels).astype('float32')"
   ]
  },
  {
   "cell_type": "markdown",
   "id": "75d6ed6c-4b42-4e5b-b0af-0d4a65ddaa95",
   "metadata": {},
   "source": [
    "# 과대적합을 해결하는 방법들\n",
    "## 네트워크 크기 축소"
   ]
  },
  {
   "cell_type": "markdown",
   "id": "444bb46f-3798-41aa-8675-864e3c70b7ff",
   "metadata": {},
   "source": [
    "과대적합을 막는 가장 단순한 방법은 모델의 크기, 즉 모델에 있는 학습 파라미터의 수를 줄이는 것입니다. 파라미터의 수는 층의 수와 각 층의 유닛 수에 의해 결정됩니다. 딥러닝에서 모델에 있는 학습 파라미터의 수를 종종 모델의 용량이라고 말합니다. 당연하게 파라미터가 많은 모델이 기억 용량이 더 많습니다. 훈련 샘플과 타깃 사이를 딕셔너리와 같은 1:1 매핑으로 완벽하게 학습할 수도 있습니다. 이런 매핑은 일반화 능력이 없습니다. 예를 들어 500,000개의 이진 파라미터가 있는 모델은 MNIST 훈련 세트의 숫자 이미지의 클래스를 쉽게 모두 학습할 수 있습니다. 50,000개의 숫자 이미지 하나마다 10개의 이진 파라미터만 있으면 됩니다. 하지만 이런 모델은 새로운 숫자 샘플을 분류하는 용도로는 쓸모가 없습니다. 항상 유념해야 할 것은 딥러닝 모델은 훈련 데이터에 잘 맞으려는 경향을 가진다는 점입니다. 하지만 진자 문제는 최적화가 아니고 일반화입니다."
   ]
  },
  {
   "cell_type": "markdown",
   "id": "bedef2da-339b-4fd2-a7ef-f7c4babc23cd",
   "metadata": {},
   "source": [
    "다른 한편으로 네트워크가 기억 용량에 제한이 있다면 이런 매핑을 쉽게 학습하지 못할 것입니다. 따라서 손실을 최소화하기 위해 타깃에 대한 예측 성능을 가진 압축된 표현을 학습해야 합니다. 정확히 이런 표현이 우리의 관심 대상입니다. 동시에 기억해야할 것은 과소적합되지 않도록 충분한 파라미터를 가진 모델을 사용해야 한다는 점입니다. 모델의 기억 용량이 부족해서는 안 됩니다. 너무 많은 용량과 충분하지 않은 용량 사이의 절충점을 찾아야 합니다."
   ]
  },
  {
   "cell_type": "markdown",
   "id": "06989d37-86d7-4386-b0e5-00834c2e6658",
   "metadata": {},
   "source": [
    "안타깝지만 알맞은 층의 수나 각 층의 유닛 수를 결정할 수 있는 마법 같은 공식은 없습니다. 데이터에 알맞은 모델 크기를 찾으려면 각기 다른 구조를 (당연히 테스트 세트가 아니고 검증 세트에서) 평가해 보아야 합니다. 적절한 모델 크기를 찾는 일반적인 작업 흐름은 비교적 적은 수의 층과 파라미터로 시작합니다. 그다음 검증 손실이 감소되기 시작할 때까지 층이나 유닛의 수를 늘리는 것입니다."
   ]
  },
  {
   "cell_type": "code",
   "execution_count": 2,
   "id": "7fbae755-d105-4efd-a2b1-b3e7ef79fde9",
   "metadata": {},
   "outputs": [],
   "source": [
    "from keras import models\n",
    "from keras import layers\n",
    "\n",
    "original_model = models.Sequential()\n",
    "original_model.add(layers.Dense(16, activation='relu', input_shape=(10000,)))\n",
    "original_model.add(layers.Dense(16, activation='relu'))\n",
    "original_model.add(layers.Dense(1, activation='sigmoid'))\n",
    "\n",
    "original_model.compile(optimizer='rmsprop',\n",
    "                       loss='binary_crossentropy',\n",
    "                       metrics=['acc'])"
   ]
  },
  {
   "cell_type": "markdown",
   "id": "00f479b3-4643-429f-beb4-abd35b320b43",
   "metadata": {},
   "source": [
    "- 위 코드를 더 작은 네트워크로 바꾸어봅니다 ( 덴스층의 유닛 수가 16에서 6으로 감소 )"
   ]
  },
  {
   "cell_type": "code",
   "execution_count": 3,
   "id": "b4ec6127-cc5e-49be-90a1-eb42293887e2",
   "metadata": {},
   "outputs": [],
   "source": [
    "smaller_model = models.Sequential()\n",
    "smaller_model.add(layers.Dense(6, activation='relu', input_shape=(10000,)))\n",
    "smaller_model.add(layers.Dense(6, activation='relu'))\n",
    "smaller_model.add(layers.Dense(1, activation='sigmoid'))\n",
    "\n",
    "smaller_model.compile(optimizer='rmsprop',\n",
    "                      loss='binary_crossentropy',\n",
    "                      metrics=['acc'])"
   ]
  },
  {
   "cell_type": "markdown",
   "id": "d2f9460f-1025-4179-b6f9-e0f516bdc46e",
   "metadata": {},
   "source": [
    "원본 네트워크와 축소된 네트워크의 검증 손실을 비교해봅니다. 점으로 표현된 것이 작은 네트워크이고 덧셈 기호가 원래 네트워크입니다. ( 검증 손실이 작은 것이 좋은 모델입니다. )"
   ]
  },
  {
   "cell_type": "code",
   "execution_count": 4,
   "id": "e9f54593-a21c-477d-8ad4-0ed8ef1ae780",
   "metadata": {},
   "outputs": [
    {
     "name": "stdout",
     "output_type": "stream",
     "text": [
      "---\n"
     ]
    }
   ],
   "source": [
    "original_hist = original_model.fit(x_train, y_train,\n",
    "                                   epochs=20,\n",
    "                                   batch_size=512,\n",
    "                                   validation_data=(x_test, y_test),\n",
    "                                   verbose=0)\n",
    "print('---')"
   ]
  },
  {
   "cell_type": "code",
   "execution_count": 5,
   "id": "70df8df2-0cba-4b90-b461-06166d161ae8",
   "metadata": {},
   "outputs": [
    {
     "name": "stdout",
     "output_type": "stream",
     "text": [
      "---\n"
     ]
    }
   ],
   "source": [
    "smaller_model_hist = smaller_model.fit(x_train, y_train,\n",
    "                                       epochs=20,\n",
    "                                       batch_size=512,\n",
    "                                       validation_data=(x_test, y_test),\n",
    "                                       verbose=0)\n",
    "print('---')"
   ]
  },
  {
   "cell_type": "code",
   "execution_count": 6,
   "id": "936bddfa-3ebe-4081-be2d-636729539149",
   "metadata": {},
   "outputs": [],
   "source": [
    "epochs = range(1, 21)\n",
    "original_val_loss = original_hist.history['val_loss']\n",
    "smaller_model_val_loss = smaller_model_hist.history['val_loss']"
   ]
  },
  {
   "cell_type": "code",
   "execution_count": 8,
   "id": "216e5b37-9ee0-425e-87fe-e43d4fa49489",
   "metadata": {},
   "outputs": [],
   "source": [
    "import matplotlib.pyplot as plt"
   ]
  },
  {
   "cell_type": "code",
   "execution_count": 11,
   "id": "ecd5c92d-f6f2-4510-91d5-3acabb6c09d3",
   "metadata": {},
   "outputs": [
    {
     "data": {
      "image/png": "[encoded data removed]",
      "text/plain": [
       "<Figure size 432x288 with 1 Axes>"
      ]
     },
     "metadata": {
      "needs_background": "light"
     },
     "output_type": "display_data"
    }
   ],
   "source": [
    "plt.plot(epochs, original_val_loss, 'b+', label='Original model')\n",
    "plt.plot(epochs, smaller_model_val_loss, 'bo', label='Smaller model')\n",
    "plt.xlabel('Epochs')\n",
    "plt.ylabel('Validation loss')\n",
    "plt.xticks(range(21))\n",
    "plt.legend()\n",
    "\n",
    "plt.show()"
   ]
  },
  {
   "cell_type": "markdown",
   "id": "43e89dcd-6170-4d41-957d-2e8ea10c36ca",
   "metadata": {},
   "source": [
    "위 플롯에서 볼 수 있듯이 작은 네트워크의 과대적합 지점이 기본 네트워크보다 더 늦습니다. 또한 과대적합 시작 이후 성능 감소폭이 더 작아졌습니다."
   ]
  },
  {
   "cell_type": "markdown",
   "id": "030420c6-cc21-45b8-af50-ba64659d79dc",
   "metadata": {},
   "source": [
    "이번에는 문제에 필요한 것보다 훨씬 더 많은 용량을 가진 네트워크를 비교해보겠습니다. ( 은닉층의 유닛 수가 16에서 1024로 증가 )"
   ]
  },
  {
   "cell_type": "code",
   "execution_count": 12,
   "id": "36f270bc-2512-4d98-87c5-febcf48b0df5",
   "metadata": {},
   "outputs": [],
   "source": [
    "bigger_model = models.Sequential()\n",
    "bigger_model.add(layers.Dense(1024, activation='relu', input_shape=(10000,)))\n",
    "bigger_model.add(layers.Dense(1024, activation='relu'))\n",
    "bigger_model.add(layers.Dense(1, activation='sigmoid'))\n",
    "\n",
    "bigger_model.compile(optimizer='rmsprop',\n",
    "                     loss='binary_crossentropy',\n",
    "                     metrics=['acc'])"
   ]
  },
  {
   "cell_type": "code",
   "execution_count": 13,
   "id": "39d9fbe3-147f-433f-9b4a-f6b445a5295b",
   "metadata": {},
   "outputs": [
    {
     "name": "stdout",
     "output_type": "stream",
     "text": [
      "---\n"
     ]
    }
   ],
   "source": [
    "bigger_model_hist = bigger_model.fit(x_train, y_train,\n",
    "                                     epochs=20,\n",
    "                                     batch_size=512,\n",
    "                                     validation_data=(x_test, y_test),\n",
    "                                     verbose=0)\n",
    "print('---')"
   ]
  },
  {
   "cell_type": "markdown",
   "id": "e546b31f-32b0-4251-b03e-28a5492d3c4f",
   "metadata": {},
   "source": [
    "다음은 더 큰 네트워크가 기본 네트워크에 비해 얼마나 차이나는지를 보여줍니다. 점이 용량이 큰 네트워크의 검증 손실이고 덧셈 기호는 원본 네트워크의 검증 손실입니다."
   ]
  },
  {
   "cell_type": "code",
   "execution_count": 14,
   "id": "3260207e-5a96-48f0-90a0-1d720560d74f",
   "metadata": {},
   "outputs": [
    {
     "data": {
      "image/png": "[encoded data removed]",
      "text/plain": [
       "<Figure size 432x288 with 1 Axes>"
      ]
     },
     "metadata": {
      "needs_background": "light"
     },
     "output_type": "display_data"
    }
   ],
   "source": [
    "bigger_model_val_loss = bigger_model_hist.history['val_loss']\n",
    "\n",
    "plt.plot(epochs, original_val_loss, 'b+', label='Original model')\n",
    "plt.plot(epochs, bigger_model_val_loss, 'bo', label='Bigger model')\n",
    "plt.xlabel('Epochs')\n",
    "plt.ylabel('Validation loss')\n",
    "plt.xticks(range(21))\n",
    "plt.legend()\n",
    "\n",
    "plt.show()"
   ]
  },
  {
   "cell_type": "markdown",
   "id": "12ee3553-5cdd-4b7f-91e0-48b0acf78eca",
   "metadata": {},
   "source": [
    "용량이 큰 네트워크는 세 번째 에포크 이후 과대적합이 시작되어 갈수록 더 심해집니다. 검증 손실도 매우 불안정합니다."
   ]
  },
  {
   "cell_type": "markdown",
   "id": "3735060f-e579-405b-af08-3cabbd195f81",
   "metadata": {},
   "source": [
    "다음은 두 네트워크의 훈련 손실을 비교하겠습니다."
   ]
  },
  {
   "cell_type": "code",
   "execution_count": 15,
   "id": "14291ed5-00cf-495f-ba09-3853325b9789",
   "metadata": {},
   "outputs": [
    {
     "data": {
      "image/png": "[encoded data removed]",
      "text/plain": [
       "<Figure size 432x288 with 1 Axes>"
      ]
     },
     "metadata": {
      "needs_background": "light"
     },
     "output_type": "display_data"
    }
   ],
   "source": [
    "original_train_loss = original_hist.history['loss']\n",
    "bigger_model_train_loss = bigger_model_hist.history['loss']\n",
    "\n",
    "plt.plot(epochs, original_train_loss, 'b+', label='Original model')\n",
    "plt.plot(epochs, bigger_model_train_loss, 'bo', label='Bigger model')\n",
    "plt.xlabel('Epochs')\n",
    "plt.ylabel('Training loss')\n",
    "plt.xticks(range(21))\n",
    "plt.legend()\n",
    "\n",
    "plt.show()"
   ]
  },
  {
   "cell_type": "markdown",
   "id": "0245b323-c1e1-4715-9d69-d4916ab4079d",
   "metadata": {},
   "source": [
    "여기서 볼 수 있듯이 용량이 큰 네트워크는 훈련 손실이 매우 빠르게 0에 가까워집니다. 용량이 많은 네트워크일수록 더 빠르게 훈련 데이터를 모델링할 수 있습니다(결국 훈련 손실이 낮아집니다). 하지만 더욱 과대적합에 민감해집니다(결국 훈련과 검증 손실 사이에 큰 차이가 발생합니다)."
   ]
  },
  {
   "cell_type": "markdown",
   "id": "2abeadfb-7339-4420-bd36-6a8b1294de17",
   "metadata": {},
   "source": [
    "아래는 유닛 수를 줄였을 때와, 늘렸을 때의 차이를 한 번에 보는 그래프입니다."
   ]
  },
  {
   "cell_type": "code",
   "execution_count": 56,
   "id": "cfbdf0fd-7dc2-4b66-b2e1-d28f72dbecbf",
   "metadata": {},
   "outputs": [
    {
     "data": {
      "image/png": "[encoded data removed]",
      "text/plain": [
       "<Figure size 720x504 with 1 Axes>"
      ]
     },
     "metadata": {
      "needs_background": "light"
     },
     "output_type": "display_data"
    }
   ],
   "source": [
    "plt.figure(figsize=(10, 7))\n",
    "plt.title('Validation loss change from unit of layers')\n",
    "plt.plot(epochs, original_val_loss, 'cD-', label='Original model')\n",
    "plt.plot(epochs, smaller_model_val_loss, 'mv:', label='Smaller model')\n",
    "plt.plot(epochs, bigger_model_val_loss, 'kv-.', label='Bigger model')\n",
    "plt.xlabel('Epochs')\n",
    "plt.ylabel('Validation loss')\n",
    "plt.xticks(range(21))\n",
    "plt.legend()\n",
    "\n",
    "plt.show()"
   ]
  },
  {
   "cell_type": "markdown",
   "id": "8a6a7a27-5fc9-4b06-92e9-4d001852bc0b",
   "metadata": {},
   "source": [
    "## 가중치 규제 추가"
   ]
  },
  {
   "cell_type": "markdown",
   "id": "ed99b8f7-496e-432e-8dce-fee5a035de5a",
   "metadata": {},
   "source": [
    "오캄의 면도날 이론이란 어떤 것에 대한 두 가지 설명이 있다면 더 적은 가정을 필요로 하는 간단한 설명이 옳을 것이라는 이론입니다. 이 개념은 신경망 학습 모델에도 적용됩니다. 어떤 훈련 데이터와 네트워크 구조가 주우졌을 때 데이터를 설명할 수 있는 가중치 값의 집합은 여러 개(여러 개의 모델)입니다. 간단한 모델이 복잡한 모델보다 덜 과대적합될 가능성이 높습니다."
   ]
  },
  {
   "cell_type": "markdown",
   "id": "b0e5c8cd-0a22-43d1-ae53-5486091d09a1",
   "metadata": {},
   "source": [
    "여기에서 간단한 모델은 파라미터 값 분포의 엔트로피가 작은 모델입니다(또는 앞 절에서 본 것처럼 적은 수의 파라미터를 가진 모델입니다). 그러므로 과대적합을 완화시키기 위한 일반적인 방법은 네트워크의 복잡도에 제한을 두어 가중치가 작은 값을 가지도록 강제하는 것입니다. 가중치 값의 분포가 더 균일하게 됩니다. 이를 가중치 규제라고 하고 네트워크의 손실 함수에 큰 가중치에 연관된 비용을 추가합니다. 두 가지 형태의 비용이 있습니다."
   ]
  },
  {
   "cell_type": "markdown",
   "id": "c81a9dcf-c8b3-4a15-817b-4797b1d7e633",
   "metadata": {},
   "source": [
    "- L1 규제 : 가중치의 절대값에 비례하는 비용이 추가됩니다 ( 가중치 L1 norm )\n",
    "- L2 규제 : 가중치의 제곱에 비례하는 비용이 추가됩니다 ( 가중치 L2 norm ). L2 규제는 신경망에서 가중치 감쇠라고도 부릅니다. 혼동 우려가 있을 수 있지만 수학적으로 L2 규제와 가중치 감쇠는 동일합니다."
   ]
  },
  {
   "cell_type": "markdown",
   "id": "a06d0e8f-4af1-4ffc-bb07-7702741c502d",
   "metadata": {},
   "source": [
    "### l2(0.001) 모델과 비교"
   ]
  },
  {
   "cell_type": "markdown",
   "id": "54b0493a-0e20-44de-b9c9-316d6ec11476",
   "metadata": {},
   "source": [
    "케라스에서 가중치 규제 인스턴스를 층의 키워드 매개변수로 전달하여 가중치 규제를 추가할 수 있습니다. 영화 리뷰 분류 네트워크에 L2 가중치 규제를 추가해봅니다."
   ]
  },
  {
   "cell_type": "code",
   "execution_count": 18,
   "id": "a1b8c19e-6762-4c5b-b225-36abd4a81061",
   "metadata": {},
   "outputs": [],
   "source": [
    "from keras import regularizers\n",
    "\n",
    "l2_model = models.Sequential()\n",
    "l2_model.add(layers.Dense(16, kernel_regularizer=regularizers.l2(0.001),\n",
    "                          activation='relu', input_shape=(10000,)))\n",
    "l2_model.add(layers.Dense(16, kernel_regularizer=regularizers.l2(0.001),\n",
    "                          activation='relu'))\n",
    "l2_model.add(layers.Dense(1, activation='sigmoid'))"
   ]
  },
  {
   "cell_type": "code",
   "execution_count": 19,
   "id": "3fa8f5e7-de01-4ec1-a60d-8cb8e94ceed5",
   "metadata": {},
   "outputs": [],
   "source": [
    "l2_model.compile(optimizer='rmsprop',\n",
    "                 loss='binary_crossentropy',\n",
    "                 metrics=['acc'])"
   ]
  },
  {
   "cell_type": "markdown",
   "id": "1ba37f27-2280-4078-92b8-203acad28e44",
   "metadata": {},
   "source": [
    "l2(0.001)은 가중치 행렬의 모든 원소를 제곱하고 0.001을 곱하여 네트워크의 전체 손실에 더해진다는 의미입니다. 이 패널티 항은 훈련할 때만 추가됩니다. 이 네트워크의 손실은 테스트보다 훈련할 때 더 높을 것입니다.\n",
    "\n",
    "L2 규제 패널티의 효과를 확인해봅니다."
   ]
  },
  {
   "cell_type": "code",
   "execution_count": 20,
   "id": "4dd569aa-9995-443c-9b86-ba7a8678d213",
   "metadata": {},
   "outputs": [
    {
     "name": "stdout",
     "output_type": "stream",
     "text": [
      "Epoch 1/20\n",
      "49/49 [==============================] - 2s 28ms/step - loss: 0.4951 - acc: 0.8129 - val_loss: 0.3757 - val_acc: 0.8829\n",
      "Epoch 2/20\n",
      "49/49 [==============================] - 1s 17ms/step - loss: 0.3132 - acc: 0.9068 - val_loss: 0.3369 - val_acc: 0.8874\n",
      "Epoch 3/20\n",
      "49/49 [==============================] - 1s 16ms/step - loss: 0.2686 - acc: 0.9210 - val_loss: 0.3498 - val_acc: 0.8781\n",
      "Epoch 4/20\n",
      "49/49 [==============================] - 1s 16ms/step - loss: 0.2485 - acc: 0.9291 - val_loss: 0.3361 - val_acc: 0.8860\n",
      "Epoch 5/20\n",
      "49/49 [==============================] - 1s 16ms/step - loss: 0.2354 - acc: 0.9336 - val_loss: 0.3448 - val_acc: 0.8821\n",
      "Epoch 6/20\n",
      "49/49 [==============================] - 1s 16ms/step - loss: 0.2280 - acc: 0.9367 - val_loss: 0.3470 - val_acc: 0.8836\n",
      "Epoch 7/20\n",
      "49/49 [==============================] - 1s 15ms/step - loss: 0.2211 - acc: 0.9392 - val_loss: 0.3541 - val_acc: 0.8822\n",
      "Epoch 8/20\n",
      "49/49 [==============================] - 1s 14ms/step - loss: 0.2154 - acc: 0.9414 - val_loss: 0.3638 - val_acc: 0.8791\n",
      "Epoch 9/20\n",
      "49/49 [==============================] - 1s 16ms/step - loss: 0.2098 - acc: 0.9432 - val_loss: 0.3963 - val_acc: 0.8677\n",
      "Epoch 10/20\n",
      "49/49 [==============================] - 1s 15ms/step - loss: 0.2096 - acc: 0.9438 - val_loss: 0.3949 - val_acc: 0.8703\n",
      "Epoch 11/20\n",
      "49/49 [==============================] - 1s 16ms/step - loss: 0.2048 - acc: 0.9461 - val_loss: 0.3943 - val_acc: 0.8715\n",
      "Epoch 12/20\n",
      "49/49 [==============================] - 1s 15ms/step - loss: 0.2011 - acc: 0.9470 - val_loss: 0.4393 - val_acc: 0.8563\n",
      "Epoch 13/20\n",
      "49/49 [==============================] - 1s 16ms/step - loss: 0.1974 - acc: 0.9484 - val_loss: 0.3976 - val_acc: 0.8710\n",
      "Epoch 14/20\n",
      "49/49 [==============================] - 1s 16ms/step - loss: 0.1950 - acc: 0.9489 - val_loss: 0.4631 - val_acc: 0.8503\n",
      "Epoch 15/20\n",
      "49/49 [==============================] - 1s 15ms/step - loss: 0.1921 - acc: 0.9503 - val_loss: 0.4017 - val_acc: 0.8712\n",
      "Epoch 16/20\n",
      "49/49 [==============================] - 1s 17ms/step - loss: 0.1916 - acc: 0.9510 - val_loss: 0.4093 - val_acc: 0.8708\n",
      "Epoch 17/20\n",
      "49/49 [==============================] - 1s 15ms/step - loss: 0.1879 - acc: 0.9516 - val_loss: 0.4168 - val_acc: 0.8673\n",
      "Epoch 18/20\n",
      "49/49 [==============================] - 1s 15ms/step - loss: 0.1885 - acc: 0.9512 - val_loss: 0.4312 - val_acc: 0.8667\n",
      "Epoch 19/20\n",
      "49/49 [==============================] - 1s 16ms/step - loss: 0.1842 - acc: 0.9518 - val_loss: 0.4165 - val_acc: 0.8680\n",
      "Epoch 20/20\n",
      "49/49 [==============================] - 1s 16ms/step - loss: 0.1806 - acc: 0.9547 - val_loss: 0.4192 - val_acc: 0.8673\n"
     ]
    }
   ],
   "source": [
    "l2_model_hist = l2_model.fit(x_train, y_train,\n",
    "                             epochs=20,\n",
    "                             batch_size=512,\n",
    "                             validation_data=(x_test, y_test))"
   ]
  },
  {
   "cell_type": "code",
   "execution_count": 21,
   "id": "7e93a274-7d74-4b43-9f2b-0b340c401b5b",
   "metadata": {},
   "outputs": [
    {
     "data": {
      "image/png": "[encoded data removed]",
      "text/plain": [
       "<Figure size 432x288 with 1 Axes>"
      ]
     },
     "metadata": {
      "needs_background": "light"
     },
     "output_type": "display_data"
    }
   ],
   "source": [
    "l2_model_val_loss = l2_model_hist.history['val_loss']\n",
    "\n",
    "plt.plot(epochs, original_val_loss, 'b+', label='Original model')\n",
    "plt.plot(epochs, l2_model_val_loss, 'bo', label='L2-regularized model')\n",
    "plt.xlabel('Epochs')\n",
    "plt.ylabel('Validation loss')\n",
    "plt.legend()\n",
    "\n",
    "plt.show()"
   ]
  },
  {
   "cell_type": "markdown",
   "id": "b332d59e-8df9-4a62-ac6d-f9041a43255d",
   "metadata": {},
   "source": [
    "여기서 볼 수 있듯이 두 모델이 동일한 파라미터 수를 가지고 있더라도 L2 규제를 사용한 모델(점)이 기본 모델(덧셈 기호)보다 훨씬 더 과대적합에 잘 견디고 있습니다.\n",
    "\n",
    "케라스에서 L2 규제 대신에 다음과 같은 가중치 규제 중 하나를 사용할 수 있습니다.\n",
    "\n",
    "- from keras import regularizers\n",
    "\n",
    "- L1 규제\n",
    "regularizers.l1(0.001)\n",
    "\n",
    "-  L1과 L2 규제 병행\n",
    "regularizers.l1_l2(l1=0.001, l2=0.001)"
   ]
  },
  {
   "cell_type": "markdown",
   "id": "04ac44a2-83bc-4a4f-ae8e-34d9cac51488",
   "metadata": {},
   "source": [
    "### l1(0.0001) 모델과 비교"
   ]
  },
  {
   "cell_type": "code",
   "execution_count": 23,
   "id": "55c8ab7a-f590-4db0-b598-a17b1f074265",
   "metadata": {},
   "outputs": [],
   "source": [
    "l1_model = models.Sequential()\n",
    "l1_model.add(layers.Dense(16, kernel_regularizer=regularizers.l1(0.0001),\n",
    "                          activation='relu', input_shape=(10000,)))\n",
    "l1_model.add(layers.Dense(16, kernel_regularizer=regularizers.l1(0.0001),\n",
    "                          activation='relu'))\n",
    "l1_model.add(layers.Dense(1, activation='sigmoid'))"
   ]
  },
  {
   "cell_type": "code",
   "execution_count": 24,
   "id": "5816a48b-f0f0-43ed-a2b9-ae70c29dcc79",
   "metadata": {},
   "outputs": [],
   "source": [
    "l1_model.compile(optimizer='rmsprop',\n",
    "                 loss='binary_crossentropy',\n",
    "                 metrics=['acc'])"
   ]
  },
  {
   "cell_type": "code",
   "execution_count": 25,
   "id": "62ae0e2d-7942-4392-93c5-c79000c30209",
   "metadata": {},
   "outputs": [
    {
     "name": "stdout",
     "output_type": "stream",
     "text": [
      "Epoch 1/20\n",
      "49/49 [==============================] - 2s 28ms/step - loss: 0.5544 - acc: 0.8195 - val_loss: 0.4378 - val_acc: 0.8680\n",
      "Epoch 2/20\n",
      "49/49 [==============================] - 1s 16ms/step - loss: 0.3752 - acc: 0.8946 - val_loss: 0.3758 - val_acc: 0.8875\n",
      "Epoch 3/20\n",
      "49/49 [==============================] - 1s 15ms/step - loss: 0.3354 - acc: 0.9065 - val_loss: 0.3687 - val_acc: 0.8877\n",
      "Epoch 4/20\n",
      "49/49 [==============================] - 1s 16ms/step - loss: 0.3189 - acc: 0.9104 - val_loss: 0.3728 - val_acc: 0.8854\n",
      "Epoch 5/20\n",
      "49/49 [==============================] - 1s 17ms/step - loss: 0.3079 - acc: 0.9165 - val_loss: 0.3643 - val_acc: 0.8865\n",
      "Epoch 6/20\n",
      "49/49 [==============================] - 1s 18ms/step - loss: 0.3017 - acc: 0.9191 - val_loss: 0.3676 - val_acc: 0.8864\n",
      "Epoch 7/20\n",
      "49/49 [==============================] - 1s 16ms/step - loss: 0.2919 - acc: 0.9222 - val_loss: 0.3838 - val_acc: 0.8796\n",
      "Epoch 8/20\n",
      "49/49 [==============================] - 1s 16ms/step - loss: 0.2866 - acc: 0.9242 - val_loss: 0.3759 - val_acc: 0.8830\n",
      "Epoch 9/20\n",
      "49/49 [==============================] - 1s 16ms/step - loss: 0.2775 - acc: 0.9280 - val_loss: 0.3868 - val_acc: 0.8787\n",
      "Epoch 10/20\n",
      "49/49 [==============================] - 1s 16ms/step - loss: 0.2786 - acc: 0.9259 - val_loss: 0.3817 - val_acc: 0.8836\n",
      "Epoch 11/20\n",
      "49/49 [==============================] - 1s 15ms/step - loss: 0.2738 - acc: 0.9271 - val_loss: 0.3962 - val_acc: 0.8766\n",
      "Epoch 12/20\n",
      "49/49 [==============================] - 1s 19ms/step - loss: 0.2668 - acc: 0.9313 - val_loss: 0.3983 - val_acc: 0.8782\n",
      "Epoch 13/20\n",
      "49/49 [==============================] - 1s 17ms/step - loss: 0.2670 - acc: 0.9318 - val_loss: 0.3933 - val_acc: 0.8801\n",
      "Epoch 14/20\n",
      "49/49 [==============================] - 1s 17ms/step - loss: 0.2605 - acc: 0.9363 - val_loss: 0.3997 - val_acc: 0.8776\n",
      "Epoch 15/20\n",
      "49/49 [==============================] - 1s 17ms/step - loss: 0.2563 - acc: 0.9363 - val_loss: 0.3991 - val_acc: 0.8789\n",
      "Epoch 16/20\n",
      "49/49 [==============================] - 1s 15ms/step - loss: 0.2534 - acc: 0.9368 - val_loss: 0.4051 - val_acc: 0.8756\n",
      "Epoch 17/20\n",
      "49/49 [==============================] - 1s 16ms/step - loss: 0.2440 - acc: 0.9412 - val_loss: 0.4583 - val_acc: 0.8593\n",
      "Epoch 18/20\n",
      "49/49 [==============================] - 1s 16ms/step - loss: 0.2413 - acc: 0.9413 - val_loss: 0.4239 - val_acc: 0.8721\n",
      "Epoch 19/20\n",
      "49/49 [==============================] - 1s 15ms/step - loss: 0.2357 - acc: 0.9443 - val_loss: 0.4110 - val_acc: 0.8754\n",
      "Epoch 20/20\n",
      "49/49 [==============================] - 1s 16ms/step - loss: 0.2315 - acc: 0.9462 - val_loss: 0.4167 - val_acc: 0.8743\n"
     ]
    }
   ],
   "source": [
    "l1_model_hist = l1_model.fit(x_train,  y_train,\n",
    "                             epochs=20,\n",
    "                             batch_size=512,\n",
    "                             validation_data=(x_test, y_test))"
   ]
  },
  {
   "cell_type": "code",
   "execution_count": 30,
   "id": "74faac60-88df-415b-9be1-29fb1e2a3b65",
   "metadata": {},
   "outputs": [
    {
     "data": {
      "image/png": "[encoded data removed]",
      "text/plain": [
       "<Figure size 432x288 with 1 Axes>"
      ]
     },
     "metadata": {
      "needs_background": "light"
     },
     "output_type": "display_data"
    }
   ],
   "source": [
    "l1_model_val_loss = l1_model_hist.history['val_loss']\n",
    "\n",
    "plt.plot(epochs, original_val_loss, 'b+', label='Original model')\n",
    "plt.plot(epochs, l1_model_val_loss, 'bo', label='L1-regularized model')\n",
    "plt.xlabel('Epochs')\n",
    "plt.ylabel('Validation loss')\n",
    "plt.xticks(range(21))\n",
    "plt.legend()\n",
    "\n",
    "plt.show()"
   ]
  },
  {
   "cell_type": "markdown",
   "id": "a4c0be5c-58ae-42f0-9165-4b19c51f6d83",
   "metadata": {},
   "source": [
    "원본 모델과 L1 규제 모델을 비교해보아도 검증 손실이 훨씬 균일하다는 것을 알 수 있습니다."
   ]
  },
  {
   "cell_type": "markdown",
   "id": "e481e244-9e3f-42d2-9f9a-e4e844c7a58b",
   "metadata": {},
   "source": [
    "### l1_l2(l1=0.0001, l2=0.0001)모델과 비교"
   ]
  },
  {
   "cell_type": "code",
   "execution_count": 31,
   "id": "6074b8db-2db2-47f2-8f21-7c370049195d",
   "metadata": {},
   "outputs": [],
   "source": [
    "l1l2_model = models.Sequential()\n",
    "l1l2_model.add(layers.Dense(16, kernel_regularizer=regularizers.l1_l2(l1=0.0001, l2=0.0001),\n",
    "                            activation='relu', input_shape=(10000,)))\n",
    "l1l2_model.add(layers.Dense(16, kernel_regularizer=regularizers.l1_l2(l1=0.0001, l2=0.0001),\n",
    "                            activation='relu'))\n",
    "l1l2_model.add(layers.Dense(1, activation='sigmoid'))"
   ]
  },
  {
   "cell_type": "code",
   "execution_count": 32,
   "id": "59de3e88-4a5c-4914-810d-089d38ce4053",
   "metadata": {},
   "outputs": [],
   "source": [
    "l1l2_model.compile(optimizer='rmsprop',\n",
    "                   loss='binary_crossentropy',\n",
    "                   metrics=['acc'])"
   ]
  },
  {
   "cell_type": "code",
   "execution_count": 33,
   "id": "f0e73d04-4b69-44c6-aa5f-0dbd3f5ff123",
   "metadata": {},
   "outputs": [
    {
     "name": "stdout",
     "output_type": "stream",
     "text": [
      "Epoch 1/20\n",
      "49/49 [==============================] - 2s 23ms/step - loss: 0.5802 - acc: 0.8095 - val_loss: 0.4788 - val_acc: 0.8384\n",
      "Epoch 2/20\n",
      "49/49 [==============================] - 1s 14ms/step - loss: 0.3864 - acc: 0.8916 - val_loss: 0.4128 - val_acc: 0.8630\n",
      "Epoch 3/20\n",
      "49/49 [==============================] - 1s 14ms/step - loss: 0.3410 - acc: 0.9024 - val_loss: 0.3620 - val_acc: 0.8873\n",
      "Epoch 4/20\n",
      "49/49 [==============================] - 1s 13ms/step - loss: 0.3210 - acc: 0.9074 - val_loss: 0.3764 - val_acc: 0.8779\n",
      "Epoch 5/20\n",
      "49/49 [==============================] - 1s 15ms/step - loss: 0.3119 - acc: 0.9127 - val_loss: 0.3613 - val_acc: 0.8859\n",
      "Epoch 6/20\n",
      "49/49 [==============================] - 1s 15ms/step - loss: 0.3010 - acc: 0.9168 - val_loss: 0.3629 - val_acc: 0.8864\n",
      "Epoch 7/20\n",
      "49/49 [==============================] - 1s 15ms/step - loss: 0.2931 - acc: 0.9213 - val_loss: 0.4239 - val_acc: 0.8592\n",
      "Epoch 8/20\n",
      "49/49 [==============================] - 1s 16ms/step - loss: 0.2921 - acc: 0.9195 - val_loss: 0.3738 - val_acc: 0.8824\n",
      "Epoch 9/20\n",
      "49/49 [==============================] - 1s 13ms/step - loss: 0.2849 - acc: 0.9251 - val_loss: 0.3732 - val_acc: 0.8843\n",
      "Epoch 10/20\n",
      "49/49 [==============================] - 1s 17ms/step - loss: 0.2827 - acc: 0.9245 - val_loss: 0.3756 - val_acc: 0.8841\n",
      "Epoch 11/20\n",
      "49/49 [==============================] - 1s 14ms/step - loss: 0.2772 - acc: 0.9280 - val_loss: 0.3955 - val_acc: 0.8745\n",
      "Epoch 12/20\n",
      "49/49 [==============================] - 1s 15ms/step - loss: 0.2760 - acc: 0.9266 - val_loss: 0.4042 - val_acc: 0.8702\n",
      "Epoch 13/20\n",
      "49/49 [==============================] - 1s 16ms/step - loss: 0.2685 - acc: 0.9308 - val_loss: 0.3951 - val_acc: 0.8755\n",
      "Epoch 14/20\n",
      "49/49 [==============================] - 1s 14ms/step - loss: 0.2668 - acc: 0.9312 - val_loss: 0.3993 - val_acc: 0.8758\n",
      "Epoch 15/20\n",
      "49/49 [==============================] - 1s 12ms/step - loss: 0.2630 - acc: 0.9320 - val_loss: 0.3929 - val_acc: 0.8789\n",
      "Epoch 16/20\n",
      "49/49 [==============================] - 1s 15ms/step - loss: 0.2563 - acc: 0.9360 - val_loss: 0.3910 - val_acc: 0.8795\n",
      "Epoch 17/20\n",
      "49/49 [==============================] - 1s 15ms/step - loss: 0.2515 - acc: 0.9377 - val_loss: 0.3988 - val_acc: 0.8762\n",
      "Epoch 18/20\n",
      "49/49 [==============================] - 1s 14ms/step - loss: 0.2482 - acc: 0.9381 - val_loss: 0.3930 - val_acc: 0.8767\n",
      "Epoch 19/20\n",
      "49/49 [==============================] - 1s 13ms/step - loss: 0.2401 - acc: 0.9424 - val_loss: 0.3967 - val_acc: 0.8772\n",
      "Epoch 20/20\n",
      "49/49 [==============================] - 1s 14ms/step - loss: 0.2388 - acc: 0.9417 - val_loss: 0.4004 - val_acc: 0.8746\n"
     ]
    }
   ],
   "source": [
    "l1l2_model_hist = l1l2_model.fit(x_train, y_train,\n",
    "                                 epochs=20,\n",
    "                                 batch_size=512,\n",
    "                                 validation_data=(x_test, y_test))"
   ]
  },
  {
   "cell_type": "code",
   "execution_count": 34,
   "id": "e3bcadd5-0961-4c47-84be-97d1ff373a34",
   "metadata": {},
   "outputs": [
    {
     "data": {
      "image/png": "[encoded data removed]",
      "text/plain": [
       "<Figure size 432x288 with 1 Axes>"
      ]
     },
     "metadata": {
      "needs_background": "light"
     },
     "output_type": "display_data"
    }
   ],
   "source": [
    "l1l2_model_val_loss = l1l2_model_hist.history['val_loss']\n",
    "\n",
    "plt.plot(epochs, original_val_loss, 'b+', label='Original model')\n",
    "plt.plot(epochs, l1l2_model_val_loss, 'bo', label='L1,L2-regularized model')\n",
    "plt.xlabel('Epochs')\n",
    "plt.ylabel('Validation loss')\n",
    "plt.legend()\n",
    "\n",
    "plt.show()"
   ]
  },
  {
   "cell_type": "markdown",
   "id": "c39ca46a-9653-4259-b4a6-735d8ec4878f",
   "metadata": {},
   "source": [
    "역시 원본모델에 비해 l1l2 모델이 훨씬 안정적으로 나타납니다."
   ]
  },
  {
   "cell_type": "markdown",
   "id": "b550cc27-1a98-4269-ac4f-36553d37797b",
   "metadata": {},
   "source": [
    "지금까지 확인한 원본 모델과 규제 모델들의 검증 손실 차이를 다시 한 번 보겠습니다."
   ]
  },
  {
   "cell_type": "code",
   "execution_count": 51,
   "id": "bb9eca97-0b45-421e-be50-6adf1d14ded3",
   "metadata": {},
   "outputs": [
    {
     "data": {
      "image/png": "[encoded data removed]",
      "text/plain": [
       "<Figure size 720x504 with 1 Axes>"
      ]
     },
     "metadata": {
      "needs_background": "light"
     },
     "output_type": "display_data"
    }
   ],
   "source": [
    "plt.figure(figsize=(10, 7))\n",
    "plt.title('Validation loss change from regularization')\n",
    "plt.plot(epochs, original_val_loss, 'b+-.', label='Original model')\n",
    "plt.plot(epochs, l1_model_val_loss, 'rs--', label='L1-regularized model')\n",
    "plt.plot(epochs, l2_model_val_loss, 'g^-', label='L2-regularized model')\n",
    "plt.plot(epochs, l1l2_model_val_loss, 'mo:', label='L1,L2-regularized model')\n",
    "plt.xlabel('Epochs')\n",
    "plt.ylabel('Validation loss')\n",
    "plt.legend()\n",
    "\n",
    "plt.show()"
   ]
  },
  {
   "cell_type": "markdown",
   "id": "7717181c-1670-42d5-8bc6-5a0575696039",
   "metadata": {},
   "source": [
    "## 드롭아웃 추가"
   ]
  },
  {
   "cell_type": "markdown",
   "id": "124f9151-9ed6-4aac-9cab-dc6f81c1de41",
   "metadata": {},
   "source": [
    "드롭아웃은 토론토 대학의 교수와 학생들이 개발했습니다. 신경망을 위해 사용되는 규제 기법 중에서 가장 효과적이고 널리 사용되는 방법 중에 하나입니다. 네트워크 층에 드롭아웃을 적용하면 훈련하는 동안 무작위로 층의 일부 출력 특성을 제외시킵니다(0으로 만듭니다). 한 층이 정상적으로 훈련하는 동안에는 어떤 입력 샘플에 대해 [0.2, 0.5, 1.3, 0.8, 1.1] 벡터를 출력한다고 가정합시다. 드롭아웃을 적용하면 이 벡터의 일부가 무작위로 0으로 바뀝니다. 예를 들면 [0, 0.5 1.3, 0, 1.1]이 됩니다. 드롭아웃 비율은 0이 될 특성의 비율입니다. 보통 0.2에서 0.5사이로 지정됩니다. 테스트 단계에서는 어떤 유닛도 드롭아웃되지 않습니다. 대신에 층의 출력을 드롭아웃 비율에 비례하여 줄여 줍니다. 훈련할 때보다 더 많은 유닛이 활성화되기 때문입니다.\n",
    "\n",
    "크기가 (batch_size, features)인 한 층의 출력을 담고 있는 넘파이 행렬을 생각해보겠습니다. 훈련할 때는 이 행렬의 값의 일부가 랜덤하게 0이 됩니다."
   ]
  },
  {
   "cell_type": "code",
   "execution_count": 62,
   "id": "a922ce41-e925-41e3-9dad-b361f385a310",
   "metadata": {},
   "outputs": [],
   "source": [
    "layer_output = np.array([0.2, 0.5, 1.3, 0.8, 1.1], dtype=float)"
   ]
  },
  {
   "cell_type": "code",
   "execution_count": 63,
   "id": "277b96a0-3818-4c8a-9a35-15d237a4dc66",
   "metadata": {},
   "outputs": [],
   "source": [
    "# 훈련할 때 유닛의 출력 중 50%를 버립니다\n",
    "layer_output *= np.random.randint(0, high=2, size=layer_output.shape)"
   ]
  },
  {
   "cell_type": "code",
   "execution_count": 64,
   "id": "3421706f-73ab-40d1-9d8c-c8bbbba34c86",
   "metadata": {},
   "outputs": [
    {
     "data": {
      "text/plain": [
       "array([0.2, 0. , 1.3, 0.8, 1.1])"
      ]
     },
     "execution_count": 64,
     "metadata": {},
     "output_type": "execute_result"
    }
   ],
   "source": [
    "layer_output"
   ]
  },
  {
   "cell_type": "markdown",
   "id": "2ff17736-55b6-4d00-b996-9b8d25cb2395",
   "metadata": {},
   "source": [
    "테스트할 때는 드롭아웃 비율로 출력을 낮추어 주어야 합니다. 여기에서는 0.5배만큼 스케일을 조정했습니다(앞에서 절반의 유닛을 드롭아웃했으므로)."
   ]
  },
  {
   "cell_type": "code",
   "execution_count": 65,
   "id": "1d77c620-34fb-430e-a996-9e528bce20e1",
   "metadata": {},
   "outputs": [],
   "source": [
    "# 테스트 단계\n",
    "layer_output *= 0.5"
   ]
  },
  {
   "cell_type": "markdown",
   "id": "dcc2d7b6-70b3-42c6-946d-30ea5665029a",
   "metadata": {},
   "source": [
    "훈련 단계에서 이 두 연산을 포함시켜 테스트 단계에는 출력을 그대로 두도록 구현할 수 있습니다. 실제로 종종 이런 방식으로 구현합니다."
   ]
  },
  {
   "cell_type": "code",
   "execution_count": 67,
   "id": "528cd3dc-bbe2-44d1-a704-eba51ea142c9",
   "metadata": {},
   "outputs": [],
   "source": [
    "# 훈련 단계\n",
    "layer_output *= np.random.randint(0, high=2, size=layer_output.shape)\n",
    "# 여기에서 스케일을 낮추는 대신 높입니다\n",
    "layer_output /= 0.5"
   ]
  },
  {
   "cell_type": "code",
   "execution_count": 68,
   "id": "4568ec7c-54ff-48e8-b9da-95eabfc42dc5",
   "metadata": {},
   "outputs": [
    {
     "data": {
      "text/plain": [
       "array([0. , 0. , 0. , 0. , 1.1])"
      ]
     },
     "execution_count": 68,
     "metadata": {},
     "output_type": "execute_result"
    }
   ],
   "source": [
    "layer_output"
   ]
  },
  {
   "cell_type": "markdown",
   "id": "9ce1f1dc-60de-4e5f-88a2-0a7fd24d2c43",
   "metadata": {},
   "source": [
    "이 기법이 이상하고 무계획적으로 보일 수 있습니다. 왜 드롭아웃이 과대적합을 줄이는 데 도움이 될까요? 힌튼은 은행에서 사용하는 부정 방지 메커니즘에서 착안했다고 합니다. 행원이 자주 바뀌는 이유인즉슨 직원들이 충분히 유대를 쌓기 전에(부정를 저지르기 전에) 업무를 바꿔서 부정 방지를 하는 목적이었습니다. 이것을 신경망에 적용한다면 각 샘플에 대해 뉴런의 일부를 무작위 제거하여 뉴런의 부정을 방지하고 결국 과대적합을 감소시키게 됩니다."
   ]
  },
  {
   "cell_type": "markdown",
   "id": "7a8fbd2a-2959-4882-8142-a4fee455c5b9",
   "metadata": {},
   "source": [
    "핵심 아이디어는 층의 출력값에 노이즈를 추가하여 중요하지 않은 우연한 패턴(부정한 협업)을 깨뜨리는 것입니다. 노이즈가 없다면 네트워크가 이 패턴을 기억하기 시작할 것입니다.\n",
    "\n",
    "케라스는 층의 출력 바로 뒤에 Dropout 층을 추가하여 네트워크에 드롭아웃을 적용할 수 있습니다."
   ]
  },
  {
   "cell_type": "markdown",
   "id": "497804a9-9f08-43c1-94ee-b79d954d4ad1",
   "metadata": {},
   "source": [
    "imdb 데이터 네트워크에 두 개의 Dropout 층을 추가하여 결과를 확인해보겠습니다."
   ]
  },
  {
   "cell_type": "code",
   "execution_count": 69,
   "id": "9f05e400-b8d7-4387-8196-d51fc46f331c",
   "metadata": {},
   "outputs": [],
   "source": [
    "dpt_model = models.Sequential()\n",
    "dpt_model.add(layers.Dense(16, activation='relu', input_shape=(10000,)))\n",
    "dpt_model.add(layers.Dropout(0.5))\n",
    "dpt_model.add(layers.Dense(16, activation='relu'))\n",
    "dpt_model.add(layers.Dropout(0.5))\n",
    "dpt_model.add(layers.Dense(1, activation='sigmoid'))\n",
    "\n",
    "dpt_model.compile(optimizer='rmsprop',\n",
    "                  loss='binary_crossentropy',\n",
    "                  metrics=['acc'])"
   ]
  },
  {
   "cell_type": "code",
   "execution_count": 70,
   "id": "85da5615-9547-4b96-98f8-25a085755f8a",
   "metadata": {},
   "outputs": [
    {
     "name": "stdout",
     "output_type": "stream",
     "text": [
      "---fitting finished---\n"
     ]
    }
   ],
   "source": [
    "dpt_model_hist = dpt_model.fit(x_train, y_train,\n",
    "                               epochs=20,\n",
    "                               batch_size=512,\n",
    "                               validation_data=(x_test, y_test),\n",
    "                               verbose=0)\n",
    "print('---fitting finished---')"
   ]
  },
  {
   "cell_type": "markdown",
   "id": "528d3e3f-8c68-448e-8122-fe9dc98292b2",
   "metadata": {},
   "source": [
    "결과 그래프를 그려보겠습니다."
   ]
  },
  {
   "cell_type": "code",
   "execution_count": 72,
   "id": "d76b6b99-5545-4a81-88bd-94af9ee96a36",
   "metadata": {},
   "outputs": [
    {
     "data": {
      "image/png": "[encoded data removed]",
      "text/plain": [
       "<Figure size 432x288 with 1 Axes>"
      ]
     },
     "metadata": {
      "needs_background": "light"
     },
     "output_type": "display_data"
    }
   ],
   "source": [
    "dpt_model_val_loss = dpt_model.history.history['val_loss']\n",
    "\n",
    "plt.plot(epochs, dpt_model_val_loss, 'bo', label='Dropout-regularized model')\n",
    "plt.plot(epochs, original_val_loss, 'b+', label='Original model')\n",
    "plt.xlabel('Epochs')\n",
    "plt.ylabel('Validation loss')\n",
    "plt.xticks(range(21))\n",
    "plt.legend()\n",
    "\n",
    "plt.show()"
   ]
  },
  {
   "cell_type": "markdown",
   "id": "74e67f1f-faf5-4c02-8830-fab3be41aca0",
   "metadata": {},
   "source": [
    "드롭아웃을 통한 규제의 결과 또한 기본 네트워크보다 확실히 나아졌습니다."
   ]
  },
  {
   "cell_type": "markdown",
   "id": "48d2e24c-b9be-45ab-ae23-ce6e9ded7c67",
   "metadata": {},
   "source": [
    "# 정리"
   ]
  },
  {
   "cell_type": "markdown",
   "id": "9302727b-2517-416b-a522-1d6986061c88",
   "metadata": {},
   "source": [
    "정리하면 신경망에서 과대적합을 방지하기 위해 널리 사용되는 방법은 다음과 같습니다.\n",
    "\n",
    "- 훈련 데이터의 볼륨을 증가시킨다. \n",
    "  - -> 가능하다면 가장 좋은 방법. 데이터 수집이 불가한 경우 차선책으로 다음의 1, 2, 3번을 시도해볼 수 있음\n",
    "- 우리가 시도한 방법 1 : 네트워크의 용량을 감소시킨다. ( 층을 줄이거나, 유닛 수를 감소시켜서 )\n",
    "  - -> 비교적 적은 층과 파라미터로 시작해서, 성능 감소가 시작되는 지점까지 점진적으로 시도\n",
    "- 우리가 시도한 방법 2 : 가중치 규제를 추가한다 ( L1 : 절대값 비례, L2 : 제곱 비례 )\n",
    "- 우리가 시도한 방법 3 : 드롭아웃을 추가한다 ( 출력층의 값을 비율에 따라 0으로 바꿔서 중요치않은 패턴 학습 방지 )"
   ]
  },
  {
   "cell_type": "code",
   "execution_count": null,
   "id": "79c5a46d-a825-4c28-bd48-d3981316a915",
   "metadata": {},
   "outputs": [],
   "source": []
  }
 ],
 "metadata": {
  "kernelspec": {
   "display_name": "Python 3 (ipykernel)",
   "language": "python",
   "name": "python3"
  },
  "language_info": {
   "codemirror_mode": {
    "name": "ipython",
    "version": 3
   },
   "file_extension": ".py",
   "mimetype": "text/x-python",
   "name": "python",
   "nbconvert_exporter": "python",
   "pygments_lexer": "ipython3",
   "version": "3.9.12"
  },
  "toc-autonumbering": true
 },
 "nbformat": 4,
 "nbformat_minor": 5
}
