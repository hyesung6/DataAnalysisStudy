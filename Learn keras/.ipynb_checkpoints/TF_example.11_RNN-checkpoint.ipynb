{
 "cells": [
  {
   "cell_type": "markdown",
   "id": "d47534f3-74fa-4402-ba83-8fc6c36bf2fb",
   "metadata": {},
   "source": [
    "# 케라스의 순환층 ( Recurrent Neural Network )\n",
    "keras의 SimpleRNN은 다른 케라스 층과 마찬가지로 시퀀스 배치 처리를 하게 되어있습니다. 즉 (timesteps, input_features) 크기가 아니라 (batch_size, timesteps, input_features) 크기의 입력을 받습니다. \n",
    "\n",
    "다른 케라스의 순환층과 마찬가지로 SimpleRNN은 두 가지 모드로 실행할 수 있습니다. 각 타임스텝의 출력을 모은 전체 시퀀스를 반환하거나(batch_size, timesteps, output_features의 3D 텐서), 입력 시퀀스에 대한 마지막 출력만 반환할 수 있습니다(batch_size, output_features의 2D 텐서). 어떤 출력을 반환시킬지는 return_sequences에서 지정할 수 있습니다."
   ]
  },
  {
   "cell_type": "code",
   "execution_count": 1,
   "id": "8ba0efb5-9590-4aee-9a33-bfcfa3b623b8",
   "metadata": {},
   "outputs": [
    {
     "name": "stdout",
     "output_type": "stream",
     "text": [
      "Model: \"sequential\"\n",
      "_________________________________________________________________\n",
      " Layer (type)                Output Shape              Param #   \n",
      "=================================================================\n",
      " embedding (Embedding)       (None, None, 32)          320000    \n",
      "                                                                 \n",
      " simple_rnn (SimpleRNN)      (None, 32)                2080      \n",
      "                                                                 \n",
      "=================================================================\n",
      "Total params: 322,080\n",
      "Trainable params: 322,080\n",
      "Non-trainable params: 0\n",
      "_________________________________________________________________\n"
     ]
    }
   ],
   "source": [
    "from keras.models import Sequential\n",
    "from keras.layers import Embedding, SimpleRNN\n",
    "\n",
    "model = Sequential()\n",
    "model.add(Embedding(10000, 32))\n",
    "model.add(SimpleRNN(32))\n",
    "model.summary()"
   ]
  },
  {
   "cell_type": "code",
   "execution_count": 2,
   "id": "91aa7219-348d-4117-b896-b99fb1834c4e",
   "metadata": {},
   "outputs": [
    {
     "name": "stdout",
     "output_type": "stream",
     "text": [
      "Model: \"sequential_1\"\n",
      "_________________________________________________________________\n",
      " Layer (type)                Output Shape              Param #   \n",
      "=================================================================\n",
      " embedding_1 (Embedding)     (None, None, 32)          320000    \n",
      "                                                                 \n",
      " simple_rnn_1 (SimpleRNN)    (None, None, 32)          2080      \n",
      "                                                                 \n",
      "=================================================================\n",
      "Total params: 322,080\n",
      "Trainable params: 322,080\n",
      "Non-trainable params: 0\n",
      "_________________________________________________________________\n"
     ]
    }
   ],
   "source": [
    "model = Sequential()\n",
    "model.add(Embedding(10000, 32))\n",
    "model.add(SimpleRNN(32, return_sequences=True))\n",
    "model.summary()"
   ]
  },
  {
   "cell_type": "markdown",
   "id": "637d903a-3431-484f-8dfc-2db5fe1a2819",
   "metadata": {},
   "source": [
    "위 두 코드의 출력 셀을 보면, RNN의 output shape이 서로 다르다는 것을 확인할 수 있습니다."
   ]
  },
  {
   "cell_type": "markdown",
   "id": "09879ce9-aac5-42ff-ae50-5f385afc7e37",
   "metadata": {},
   "source": [
    "네트워크의 표현력을 증가시키기 위해 여러 개의 순환 층을 차례대로 쌓는 것이 유용할 때가 있습니다. 이런 설정에서는 중간 층들이 전체 출력 시퀀스를 반환하도록 설정해야 합니다."
   ]
  },
  {
   "cell_type": "code",
   "execution_count": 3,
   "id": "07df9467-c1ab-4968-82f2-0421f26c3f8b",
   "metadata": {},
   "outputs": [
    {
     "name": "stdout",
     "output_type": "stream",
     "text": [
      "Model: \"sequential_2\"\n",
      "_________________________________________________________________\n",
      " Layer (type)                Output Shape              Param #   \n",
      "=================================================================\n",
      " embedding_2 (Embedding)     (None, None, 32)          320000    \n",
      "                                                                 \n",
      " simple_rnn_2 (SimpleRNN)    (None, None, 32)          2080      \n",
      "                                                                 \n",
      " simple_rnn_3 (SimpleRNN)    (None, None, 32)          2080      \n",
      "                                                                 \n",
      " simple_rnn_4 (SimpleRNN)    (None, None, 32)          2080      \n",
      "                                                                 \n",
      " simple_rnn_5 (SimpleRNN)    (None, 32)                2080      \n",
      "                                                                 \n",
      "=================================================================\n",
      "Total params: 328,320\n",
      "Trainable params: 328,320\n",
      "Non-trainable params: 0\n",
      "_________________________________________________________________\n"
     ]
    }
   ],
   "source": [
    "model = Sequential()\n",
    "model.add(Embedding(10000, 32))\n",
    "model.add(SimpleRNN(32, return_sequences=True))\n",
    "model.add(SimpleRNN(32, return_sequences=True))\n",
    "model.add(SimpleRNN(32, return_sequences=True))\n",
    "model.add(SimpleRNN(32))\n",
    "model.summary()"
   ]
  },
  {
   "cell_type": "markdown",
   "id": "5009dd0b-10a5-42a2-8cf9-5219b024d8b2",
   "metadata": {},
   "source": [
    "이제 IMDB 영화 리뷰 분류 문제에 적용해보겠습니다. 먼저 데이터를 전처리합니다."
   ]
  },
  {
   "cell_type": "code",
   "execution_count": 11,
   "id": "a0095f37-2d4c-405c-b27e-ba4fb05b2168",
   "metadata": {},
   "outputs": [
    {
     "name": "stdout",
     "output_type": "stream",
     "text": [
      "데이터 로딩...\n",
      "25000 훈련 시퀀스\n",
      "25000 테스트 시퀀스\n",
      "시퀀스 패딩 (samples x time)\n",
      "input_train 크기 : (25000, 500)\n",
      "input_test 크기 : (25000, 500)\n"
     ]
    }
   ],
   "source": [
    "from keras.datasets import imdb\n",
    "from keras.preprocessing import sequence\n",
    "from keras.preprocessing.sequence import pad_sequences\n",
    "\n",
    "max_features = 10000\n",
    "maxlen = 500\n",
    "batch_size = 32\n",
    "\n",
    "print('데이터 로딩...')\n",
    "(input_train, y_train), (input_test, y_test) = imdb.load_data(num_words=max_features)\n",
    "print(len(input_train), '훈련 시퀀스')\n",
    "print(len(input_test), '테스트 시퀀스')\n",
    "\n",
    "print('시퀀스 패딩 (samples x time)')\n",
    "input_train = sequence.pad_sequences(input_train, maxlen=maxlen)\n",
    "input_test = sequence.pad_sequences(input_test, maxlen=maxlen)\n",
    "print('input_train 크기 :', input_train.shape)\n",
    "print('input_test 크기 :', input_test.shape)"
   ]
  },
  {
   "cell_type": "code",
   "execution_count": 12,
   "id": "c85f2734-a464-4a8b-a3e9-79b98e6ef5ff",
   "metadata": {},
   "outputs": [
    {
     "name": "stdout",
     "output_type": "stream",
     "text": [
      "Epoch 1/10\n",
      "157/157 [==============================] - 13s 80ms/step - loss: 0.6276 - acc: 0.6320 - val_loss: 0.5204 - val_acc: 0.7590\n",
      "Epoch 2/10\n",
      "157/157 [==============================] - 12s 78ms/step - loss: 0.4005 - acc: 0.8315 - val_loss: 0.3838 - val_acc: 0.8342\n",
      "Epoch 3/10\n",
      "157/157 [==============================] - 12s 78ms/step - loss: 0.2863 - acc: 0.8874 - val_loss: 0.3775 - val_acc: 0.8318\n",
      "Epoch 4/10\n",
      "157/157 [==============================] - 12s 75ms/step - loss: 0.2369 - acc: 0.9081 - val_loss: 0.3606 - val_acc: 0.8502\n",
      "Epoch 5/10\n",
      "157/157 [==============================] - 12s 76ms/step - loss: 0.1828 - acc: 0.9321 - val_loss: 0.4360 - val_acc: 0.8218\n",
      "Epoch 6/10\n",
      "157/157 [==============================] - 13s 80ms/step - loss: 0.1708 - acc: 0.9336 - val_loss: 0.4397 - val_acc: 0.8332\n",
      "Epoch 7/10\n",
      "157/157 [==============================] - 13s 83ms/step - loss: 0.1048 - acc: 0.9636 - val_loss: 0.4740 - val_acc: 0.8186\n",
      "Epoch 8/10\n",
      "157/157 [==============================] - 13s 83ms/step - loss: 0.0873 - acc: 0.9689 - val_loss: 0.4918 - val_acc: 0.8356\n",
      "Epoch 9/10\n",
      "157/157 [==============================] - 14s 87ms/step - loss: 0.0508 - acc: 0.9838 - val_loss: 0.5580 - val_acc: 0.8130\n",
      "Epoch 10/10\n",
      "157/157 [==============================] - 13s 84ms/step - loss: 0.0290 - acc: 0.9921 - val_loss: 0.6169 - val_acc: 0.8236\n"
     ]
    }
   ],
   "source": [
    "from keras.layers import Dense\n",
    "\n",
    "model = Sequential()\n",
    "model.add(Embedding(max_features, 32))\n",
    "model.add(SimpleRNN(32))\n",
    "model.add(Dense(1, activation='sigmoid'))\n",
    "\n",
    "model.compile(optimizer='rmsprop', loss='binary_crossentropy', metrics=['acc'])\n",
    "history = model.fit(input_train, y_train,\n",
    "                    epochs = 10,\n",
    "                    batch_size = 128,\n",
    "                    validation_split = 0.2)"
   ]
  },
  {
   "cell_type": "code",
   "execution_count": 8,
   "id": "ce793c6c-d6b3-40ab-83c6-a20e28fe96c2",
   "metadata": {},
   "outputs": [],
   "source": [
    "import matplotlib.pyplot as plt"
   ]
  },
  {
   "cell_type": "code",
   "execution_count": 9,
   "id": "efb98da0-3dd4-4e7f-8e2a-c7773dfe5a8e",
   "metadata": {},
   "outputs": [
    {
     "data": {
      "image/png": "[encoded data removed]",
      "text/plain": [
       "<Figure size 432x288 with 1 Axes>"
      ]
     },
     "metadata": {
      "needs_background": "light"
     },
     "output_type": "display_data"
    },
    {
     "data": {
      "image/png": "[encoded data removed]",
      "text/plain": [
       "<Figure size 432x288 with 1 Axes>"
      ]
     },
     "metadata": {
      "needs_background": "light"
     },
     "output_type": "display_data"
    }
   ],
   "source": [
    "acc = history.history['acc']\n",
    "val_acc = history.history['val_acc']\n",
    "loss = history.history['loss']\n",
    "val_loss = history.history['val_loss']\n",
    "\n",
    "epochs = range(1, len(acc) + 1)\n",
    "\n",
    "plt.plot(epochs, acc, 'bo', label='Training acc')\n",
    "plt.plot(epochs, val_acc, 'b', label='Validation acc')\n",
    "plt.title('Training and validation accuracy')\n",
    "plt.legend()\n",
    "\n",
    "plt.figure()\n",
    "\n",
    "plt.plot(epochs, loss, 'bo', label='Training loss')\n",
    "plt.plot(epochs, val_loss, 'b', label='Validation loss')\n",
    "plt.title('Training and validation loss')\n",
    "plt.legend()\n",
    "\n",
    "plt.show()\n"
   ]
  },
  {
   "cell_type": "markdown",
   "id": "3248da13-48ba-4367-a175-b3887b0cf437",
   "metadata": {},
   "source": [
    "3번째 epochs부터 과대적합이 시작하며, 모델의 테스트 정확도가 그렇게 높지 않습니다. 이는 SimpleRNN이 텍스트와 같이 긴 시퀀스를 처리하는 데 적합하지 않기 때문입니다. 더 잘 작동하는 다른 순환층을 살펴보겠습니다."
   ]
  },
  {
   "cell_type": "markdown",
   "id": "0f5aca18-8b9d-42ec-9c0d-8cf60ff664c5",
   "metadata": {},
   "source": [
    "# LSTM \n",
    "keras의 LSTM은 출력 차원만 지정해주면 됩니다. 다른 파라미터들은 디폴트 값으로도 충분히 좋은 모델을 만들어주므로 아직은 괜찮습니다."
   ]
  },
  {
   "cell_type": "code",
   "execution_count": 13,
   "id": "265c6d49-f51f-4c2b-b9bb-96862c47efd6",
   "metadata": {},
   "outputs": [
    {
     "name": "stdout",
     "output_type": "stream",
     "text": [
      "Epoch 1/10\n",
      "157/157 [==============================] - 33s 197ms/step - loss: 0.4851 - acc: 0.7702 - val_loss: 0.3805 - val_acc: 0.8446\n",
      "Epoch 2/10\n",
      "157/157 [==============================] - 31s 195ms/step - loss: 0.2920 - acc: 0.8834 - val_loss: 0.3572 - val_acc: 0.8634\n",
      "Epoch 3/10\n",
      "157/157 [==============================] - 31s 200ms/step - loss: 0.2348 - acc: 0.9119 - val_loss: 0.3620 - val_acc: 0.8398\n",
      "Epoch 4/10\n",
      "157/157 [==============================] - 31s 200ms/step - loss: 0.2038 - acc: 0.9243 - val_loss: 0.2874 - val_acc: 0.8816\n",
      "Epoch 5/10\n",
      "157/157 [==============================] - 31s 199ms/step - loss: 0.1717 - acc: 0.9388 - val_loss: 0.3228 - val_acc: 0.86240.1688 - acc: 0. - ETA: 6s - loss: 0.1720 - acc: 0.93 - ET\n",
      "Epoch 6/10\n",
      "157/157 [==============================] - 31s 199ms/step - loss: 0.1604 - acc: 0.9419 - val_loss: 0.3280 - val_acc: 0.8704\n",
      "Epoch 7/10\n",
      "157/157 [==============================] - 31s 199ms/step - loss: 0.1435 - acc: 0.9513 - val_loss: 0.3209 - val_acc: 0.8822\n",
      "Epoch 8/10\n",
      "157/157 [==============================] - 31s 199ms/step - loss: 0.1354 - acc: 0.9537 - val_loss: 0.4429 - val_acc: 0.8700\n",
      "Epoch 9/10\n",
      "157/157 [==============================] - 31s 200ms/step - loss: 0.1236 - acc: 0.9575 - val_loss: 0.3334 - val_acc: 0.8718\n",
      "Epoch 10/10\n",
      "157/157 [==============================] - 32s 201ms/step - loss: 0.1133 - acc: 0.9605 - val_loss: 0.3964 - val_acc: 0.8708\n"
     ]
    }
   ],
   "source": [
    "from keras.layers import LSTM\n",
    "\n",
    "model = Sequential()\n",
    "model.add(Embedding(max_features, 32))\n",
    "model.add(LSTM(32))\n",
    "model.add(Dense(1, activation='sigmoid'))\n",
    "\n",
    "model.compile(optimizer='rmsprop',\n",
    "              loss='binary_crossentropy',\n",
    "              metrics=['acc'])\n",
    "history = model.fit(input_train, y_train,\n",
    "                    epochs=10,\n",
    "                    batch_size=128,\n",
    "                    validation_split=0.2)"
   ]
  },
  {
   "cell_type": "code",
   "execution_count": 14,
   "id": "652ccbc0-2fde-4d75-b243-604a8af17830",
   "metadata": {},
   "outputs": [
    {
     "data": {
      "image/png": "[encoded data removed]",
      "text/plain": [
       "<Figure size 432x288 with 1 Axes>"
      ]
     },
     "metadata": {
      "needs_background": "light"
     },
     "output_type": "display_data"
    },
    {
     "data": {
      "image/png": "[encoded data removed]",
      "text/plain": [
       "<Figure size 432x288 with 1 Axes>"
      ]
     },
     "metadata": {
      "needs_background": "light"
     },
     "output_type": "display_data"
    }
   ],
   "source": [
    "acc = history.history['acc']\n",
    "val_acc = history.history['val_acc']\n",
    "loss = history.history['loss']\n",
    "val_loss = history.history['val_loss']\n",
    "\n",
    "epochs = range(1, len(acc) + 1)\n",
    "\n",
    "plt.plot(epochs, acc, 'bo', label='Training acc')\n",
    "plt.plot(epochs, val_acc, 'b', label='Validation acc')\n",
    "plt.title('Training and validation accuracy')\n",
    "plt.legend()\n",
    "\n",
    "plt.figure()\n",
    "\n",
    "plt.plot(epochs, loss, 'bo', label='Training loss')\n",
    "plt.plot(epochs, val_loss, 'b', label='Validation loss')\n",
    "plt.title('Training and validation loss')\n",
    "plt.legend()\n",
    "\n",
    "plt.show()"
   ]
  },
  {
   "cell_type": "code",
   "execution_count": null,
   "id": "b243bdcc-dbda-4460-9f4b-8ce8219fabb9",
   "metadata": {},
   "outputs": [],
   "source": []
  }
 ],
 "metadata": {
  "kernelspec": {
   "display_name": "Python 3 (ipykernel)",
   "language": "python",
   "name": "python3"
  },
  "language_info": {
   "codemirror_mode": {
    "name": "ipython",
    "version": 3
   },
   "file_extension": ".py",
   "mimetype": "text/x-python",
   "name": "python",
   "nbconvert_exporter": "python",
   "pygments_lexer": "ipython3",
   "version": "3.9.12"
  }
 },
 "nbformat": 4,
 "nbformat_minor": 5
}
