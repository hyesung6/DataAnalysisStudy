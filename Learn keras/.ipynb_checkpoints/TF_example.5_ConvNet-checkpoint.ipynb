{
 "cells": [
  {
   "cell_type": "markdown",
   "id": "f3dbf2ea-b991-4134-9b60-e089e88b9970",
   "metadata": {},
   "source": [
    "# 합성곱 신경망 ( CNN )"
   ]
  },
  {
   "cell_type": "markdown",
   "id": "af0adc5c-6574-4b0f-b83b-23027c6bf802",
   "metadata": {},
   "source": [
    "컨브넷의 정의와 컨브넷이 컴퓨터 비전 관련 작업에 잘 맞는 이유에 대해 이론적 배경을 알아보겠습니다. 이전에 진행했던 MNIST 숫자 이미지 분류에 컨브넷을 사용해보겠습니다. 기본적인 컨브넷이더라도 2장의 Dense층보다 성능이 좋을 것입니다.\n",
    "\n",
    "기본적인 컨브넷의 모습은 다음 코드와 같습니다."
   ]
  },
  {
   "cell_type": "code",
   "execution_count": 1,
   "id": "36dee2b8-5956-4183-b6a7-faea53d06378",
   "metadata": {},
   "outputs": [],
   "source": [
    "from keras import layers\n",
    "from keras import models\n",
    "\n",
    "model = models.Sequential()\n",
    "model.add(layers.Conv2D(32, (3, 3), activation='relu', input_shape=(28, 28, 1)))\n",
    "model.add(layers.MaxPooling2D((2, 2)))\n",
    "model.add(layers.Conv2D(64, (3, 3), activation='relu'))\n",
    "model.add(layers.MaxPooling2D((2, 2)))\n",
    "model.add(layers.Conv2D(64, (3, 3), activation='relu'))"
   ]
  },
  {
   "cell_type": "markdown",
   "id": "5a233b81-b243-45e2-b0c0-54a1d9483193",
   "metadata": {},
   "source": [
    "생성한 모델의 구조를 출력해봅니다."
   ]
  },
  {
   "cell_type": "code",
   "execution_count": 2,
   "id": "6927024e-4872-4afb-ad61-9923a0aa57fe",
   "metadata": {},
   "outputs": [
    {
     "name": "stdout",
     "output_type": "stream",
     "text": [
      "Model: \"sequential\"\n",
      "_________________________________________________________________\n",
      " Layer (type)                Output Shape              Param #   \n",
      "=================================================================\n",
      " conv2d (Conv2D)             (None, 26, 26, 32)        320       \n",
      "                                                                 \n",
      " max_pooling2d (MaxPooling2D  (None, 13, 13, 32)       0         \n",
      " )                                                               \n",
      "                                                                 \n",
      " conv2d_1 (Conv2D)           (None, 11, 11, 64)        18496     \n",
      "                                                                 \n",
      " max_pooling2d_1 (MaxPooling  (None, 5, 5, 64)         0         \n",
      " 2D)                                                             \n",
      "                                                                 \n",
      " conv2d_2 (Conv2D)           (None, 3, 3, 64)          36928     \n",
      "                                                                 \n",
      "=================================================================\n",
      "Total params: 55,744\n",
      "Trainable params: 55,744\n",
      "Non-trainable params: 0\n",
      "_________________________________________________________________\n"
     ]
    }
   ],
   "source": [
    "model.summary()"
   ]
  },
  {
   "cell_type": "markdown",
   "id": "7567a5b9-e164-41e8-8fd7-9c8b69844e4a",
   "metadata": {},
   "source": [
    "Conv2D와 MaxPooling2D층의 출력은 (height, width, channels) 크기의 3D 텐서입니다. height과 width(높이와 넓이) 차원은 네트워크가 깊어질수록 작아지는 경향이 있습니다. 채널의 수는 Conv2D층에 전달된 첫 번째 매개변수에 의해 조절됩니다(32개 또는 64개).\n",
    "\n",
    "다음 단계에서 마지막 층의 ((3, 3, 64)) 크기 출력 텐서를 완전 연결 네트워크에 주입합니다. 이 네트워크는 익숙하게 볼 수 있는 Dense층을 쌓은 분류기입니다. 이 분류기는 1D 벡터를 처리하는데, 이전 층의 출력은 3D 텐서입니다. 그래서 먼저 3D 출력을 1D 텐서로 펼쳐야 합니다. 그다음 몇 개의 Dense층을 추가합니다."
   ]
  },
  {
   "cell_type": "code",
   "execution_count": 3,
   "id": "9e33c671-14de-4d4e-bff7-e71563f4d8b0",
   "metadata": {},
   "outputs": [],
   "source": [
    "model.add(layers.Flatten())\n",
    "model.add(layers.Dense(64, activation='relu'))\n",
    "model.add(layers.Dense(10, activation='softmax'))"
   ]
  },
  {
   "cell_type": "markdown",
   "id": "0a16aa37-ab9c-4a61-8192-4a43ad4a4e6d",
   "metadata": {},
   "source": [
    " [0-9] 까지 숫자 이미지에 대해 클래스 분류를 위해 마지막 층의 출력 크기를 10으로 하고, 소프트맥스 활성화 함수를 최종 출력층에 둡니다. (출력값이 0~1사이로만 나옴). 그 다음 다시 한 번 네트워크를 확인해봅니다."
   ]
  },
  {
   "cell_type": "code",
   "execution_count": 4,
   "id": "c6b81b80-ff21-4a63-bf43-6b9a53924e47",
   "metadata": {},
   "outputs": [
    {
     "name": "stdout",
     "output_type": "stream",
     "text": [
      "Model: \"sequential\"\n",
      "_________________________________________________________________\n",
      " Layer (type)                Output Shape              Param #   \n",
      "=================================================================\n",
      " conv2d (Conv2D)             (None, 26, 26, 32)        320       \n",
      "                                                                 \n",
      " max_pooling2d (MaxPooling2D  (None, 13, 13, 32)       0         \n",
      " )                                                               \n",
      "                                                                 \n",
      " conv2d_1 (Conv2D)           (None, 11, 11, 64)        18496     \n",
      "                                                                 \n",
      " max_pooling2d_1 (MaxPooling  (None, 5, 5, 64)         0         \n",
      " 2D)                                                             \n",
      "                                                                 \n",
      " conv2d_2 (Conv2D)           (None, 3, 3, 64)          36928     \n",
      "                                                                 \n",
      " flatten (Flatten)           (None, 576)               0         \n",
      "                                                                 \n",
      " dense (Dense)               (None, 64)                36928     \n",
      "                                                                 \n",
      " dense_1 (Dense)             (None, 10)                650       \n",
      "                                                                 \n",
      "=================================================================\n",
      "Total params: 93,322\n",
      "Trainable params: 93,322\n",
      "Non-trainable params: 0\n",
      "_________________________________________________________________\n"
     ]
    }
   ],
   "source": [
    "model.summary()"
   ]
  },
  {
   "cell_type": "markdown",
   "id": "f6cead90-0de0-484c-ba42-7950cdd68232",
   "metadata": {},
   "source": [
    "Fltten층에서 ($3*3*64$)가 되어 (576,) 크기의 벡터로 펼쳐진 후 Dense층의 입력으로 들어갑니다. 이제 이 모델에 숫자 이미지를 학습시킵니다."
   ]
  },
  {
   "cell_type": "code",
   "execution_count": 5,
   "id": "c26fbb7d-64b2-4eb8-a12e-ca11e3e68119",
   "metadata": {},
   "outputs": [],
   "source": [
    "from keras.datasets import mnist\n",
    "from keras.utils.all_utils import to_categorical\n",
    "\n",
    "(train_images, train_labels), (test_images, test_labels) = mnist.load_data()\n",
    "\n",
    "train_images = train_images.reshape((60000, 28, 28, 1))\n",
    "train_images = train_images.astype('float32') / 255\n",
    "\n",
    "test_images = test_images.reshape((10000, 28, 28, 1))\n",
    "test_images = test_images.astype('float32') / 255\n",
    "\n",
    "train_labels = to_categorical(train_labels)\n",
    "test_labels = to_categorical(test_labels)"
   ]
  },
  {
   "cell_type": "code",
   "execution_count": 6,
   "id": "9a5c4299-ed2a-47a2-bd4d-7a0ce901f5a9",
   "metadata": {},
   "outputs": [
    {
     "name": "stdout",
     "output_type": "stream",
     "text": [
      "Epoch 1/5\n",
      "938/938 [==============================] - 18s 18ms/step - loss: 0.1701 - accuracy: 0.9469\n",
      "Epoch 2/5\n",
      "938/938 [==============================] - 17s 18ms/step - loss: 0.0464 - accuracy: 0.9854\n",
      "Epoch 3/5\n",
      "938/938 [==============================] - 18s 20ms/step - loss: 0.0329 - accuracy: 0.9900\n",
      "Epoch 4/5\n",
      "938/938 [==============================] - 19s 21ms/step - loss: 0.0250 - accuracy: 0.9924\n",
      "Epoch 5/5\n",
      "938/938 [==============================] - 19s 21ms/step - loss: 0.0196 - accuracy: 0.9940\n"
     ]
    },
    {
     "data": {
      "text/plain": [
       "<keras.callbacks.History at 0x23025f90340>"
      ]
     },
     "execution_count": 6,
     "metadata": {},
     "output_type": "execute_result"
    }
   ],
   "source": [
    "model.compile(optimizer='rmsprop',\n",
    "              loss='categorical_crossentropy',\n",
    "              metrics=['accuracy'])\n",
    "model.fit(train_images, train_labels,\n",
    "          epochs=5, batch_size=64)"
   ]
  },
  {
   "cell_type": "code",
   "execution_count": 8,
   "id": "ae8c9399-0f03-4d1d-a5ff-5db1c60f4ee5",
   "metadata": {},
   "outputs": [
    {
     "name": "stdout",
     "output_type": "stream",
     "text": [
      "0번 째 Epoch의 정확도 : 94.692%\n",
      "1번 째 Epoch의 정확도 : 98.542%\n",
      "2번 째 Epoch의 정확도 : 98.997%\n",
      "3번 째 Epoch의 정확도 : 99.245%\n",
      "4번 째 Epoch의 정확도 : 99.395%\n"
     ]
    }
   ],
   "source": [
    "for i, j in enumerate(model.history.history['accuracy']):\n",
    "    print(f'{i}번 째 Epoch의 정확도 : {j*100:.3f}%')"
   ]
  },
  {
   "cell_type": "code",
   "execution_count": 12,
   "id": "628d0a6a-d10a-4180-bd84-29c9d813ee91",
   "metadata": {},
   "outputs": [
    {
     "data": {
      "image/png": "[encoded data removed]",
      "text/plain": [
       "<Figure size 432x288 with 1 Axes>"
      ]
     },
     "metadata": {
      "needs_background": "light"
     },
     "output_type": "display_data"
    }
   ],
   "source": [
    "import matplotlib.pyplot as plt\n",
    "plt.plot(range(1,6), model.history.history['accuracy'], 'c*--')\n",
    "plt.grid(axis='y')\n",
    "plt.xlabel('Epochs')\n",
    "plt.ylabel('accuracy')\n",
    "\n",
    "plt.show()"
   ]
  },
  {
   "cell_type": "code",
   "execution_count": null,
   "id": "d365f709-cd89-489b-ab3b-eee41c89c94a",
   "metadata": {},
   "outputs": [],
   "source": []
  }
 ],
 "metadata": {
  "kernelspec": {
   "display_name": "Python 3 (ipykernel)",
   "language": "python",
   "name": "python3"
  },
  "language_info": {
   "codemirror_mode": {
    "name": "ipython",
    "version": 3
   },
   "file_extension": ".py",
   "mimetype": "text/x-python",
   "name": "python",
   "nbconvert_exporter": "python",
   "pygments_lexer": "ipython3",
   "version": "3.9.12"
  }
 },
 "nbformat": 4,
 "nbformat_minor": 5
}
