{
 "cells": [
  {
   "cell_type": "code",
   "execution_count": 1,
   "id": "02331abf-a08b-4ad2-b516-7d56b199afb8",
   "metadata": {},
   "outputs": [],
   "source": [
    "from keras.datasets import imdb"
   ]
  },
  {
   "cell_type": "code",
   "execution_count": 2,
   "id": "04138e03-8142-42cf-99f0-0d02ca675c17",
   "metadata": {},
   "outputs": [],
   "source": [
    "(train_data, train_labels), (test_data, test_labels) = imdb.load_data(num_words=10000)"
   ]
  },
  {
   "cell_type": "markdown",
   "id": "4c571326-41a2-45de-ab6a-adea72b7855e",
   "metadata": {},
   "source": [
    "num_words는 훈련 데이터에서 가장 많이 나타나는 단어 10000개를 사용하겠다는 뜻\n",
    "각 labels에 저장된 0과 1은 0:부정 , 1:긍정으로 카테고리 변수로 사용할 수 있음"
   ]
  },
  {
   "cell_type": "code",
   "execution_count": 3,
   "id": "18ee4f5e-8169-449a-b432-3339156661fb",
   "metadata": {},
   "outputs": [
    {
     "data": {
      "text/plain": [
       "9999"
      ]
     },
     "execution_count": 3,
     "metadata": {},
     "output_type": "execute_result"
    }
   ],
   "source": [
    "max([max(sequence) for sequence in train_data])"
   ]
  },
  {
   "cell_type": "code",
   "execution_count": 4,
   "id": "d12c5b79-9935-4bdf-a1b5-e9a3bd769d39",
   "metadata": {},
   "outputs": [
    {
     "data": {
      "text/plain": [
       "(25000,)"
      ]
     },
     "execution_count": 4,
     "metadata": {},
     "output_type": "execute_result"
    }
   ],
   "source": [
    "train_data.shape"
   ]
  },
  {
   "cell_type": "code",
   "execution_count": 5,
   "id": "599a893a-8fe4-4605-a5c9-09d5ec6b7d05",
   "metadata": {},
   "outputs": [
    {
     "data": {
      "text/plain": [
       "153"
      ]
     },
     "execution_count": 5,
     "metadata": {},
     "output_type": "execute_result"
    }
   ],
   "source": [
    "len(train_data[24999])"
   ]
  },
  {
   "cell_type": "code",
   "execution_count": 6,
   "id": "432faf10-4e04-4a3b-8cac-f7faac3f4cc8",
   "metadata": {},
   "outputs": [],
   "source": [
    "word_index = imdb.get_word_index()    # 단어와 정수 인덱스를 매핑한 딕셔너리\n",
    "reverse_word_index = dict(\n",
    "    [(value, key) for (key, value) in word_index.items()])\n",
    "decoded_review = ' '.join([reverse_word_index.get(i - 3, '?') for i in train_data[0]])"
   ]
  },
  {
   "cell_type": "markdown",
   "id": "6529d7e3-5392-4f32-bf28-0d3784936455",
   "metadata": {},
   "source": [
    "신경망에 숫자 리스트를 넣을 수는 없다.\n",
    "\n",
    "리스트를 텐서로 바꾸는 방법은 두 가지.\n",
    "\n",
    "1. 같은 길이가 되도록 리스트에 패딩을 추가하고 (samples, sequence_length) 크기의 정수 텐서로 변환한다. 그다음 이 정수 텐서를 다룰 수 있는 층을 신경망의 첫 번째 층으로 사용한다.\n",
    "2. 리스트를 원-핫 인코딩하여 0과 1의 벡터로 변환한다. 예를 들어 시퀀스[3,5]를 인덱스 3과 5의 위치는 1이고 나머지는 0인 10000차원의 벡터로 각각 변환한다. 그다음 부동 소수 벡터 데이터를 다룰 수 있는 Dense 층을 신경망의 첫 번째 층으로 사용한다. "
   ]
  },
  {
   "cell_type": "code",
   "execution_count": 7,
   "id": "f8643009-c64d-4fb8-b0ee-88c2e0af281f",
   "metadata": {},
   "outputs": [],
   "source": [
    "import numpy as np\n",
    "\n",
    "def vectorize_sequences(sequences, dimension=10000):\n",
    "    results = np.zeros((len(sequences), dimension))\n",
    "    for i, sequence in enumerate(sequences):\n",
    "        results[i, sequence] = 1.\n",
    "    return results\n",
    "\n",
    "X_train = vectorize_sequences(train_data)\n",
    "X_test = vectorize_sequences(test_data)"
   ]
  },
  {
   "cell_type": "code",
   "execution_count": 8,
   "id": "bc43363a-43f9-4273-a895-c9b375d75747",
   "metadata": {},
   "outputs": [
    {
     "data": {
      "text/plain": [
       "array([0., 1., 1., ..., 0., 0., 0.])"
      ]
     },
     "execution_count": 8,
     "metadata": {},
     "output_type": "execute_result"
    }
   ],
   "source": [
    "X_train[0]"
   ]
  },
  {
   "cell_type": "code",
   "execution_count": 9,
   "id": "3311469c-d074-41dc-9994-42196923d06c",
   "metadata": {},
   "outputs": [
    {
     "data": {
      "text/plain": [
       "array([0., 1., 1., ..., 0., 0., 0.])"
      ]
     },
     "execution_count": 9,
     "metadata": {},
     "output_type": "execute_result"
    }
   ],
   "source": [
    "X_test[0]"
   ]
  },
  {
   "cell_type": "code",
   "execution_count": 10,
   "id": "b474c8cf-94a7-48ef-aadf-074e69972b9f",
   "metadata": {},
   "outputs": [],
   "source": [
    "# 데이터를 벡터화했으니 레이블도 벡터화 해야하는데, 레이블은 01로만 이루어져있으므로 numpy asarray 사용\n",
    "y_train = np.asarray(train_labels).astype('float32')\n",
    "y_test = np.asarray(test_labels).astype('float32')"
   ]
  },
  {
   "cell_type": "markdown",
   "id": "ae6f9b26-2836-47ef-bf53-3e233aff1e07",
   "metadata": {},
   "source": [
    "Dense 층을 쌓을 때 두 가지 중요한 구조상의 결정이 필요하다\n",
    "1. 얼마나 많은 층을 사용할 것인가?\n",
    "2. 각 층에 얼마나 많은 은닉 유닛을 둘 것인가?"
   ]
  },
  {
   "cell_type": "markdown",
   "id": "6fcbc64a-2d22-44ea-a15b-2cf1301948ef",
   "metadata": {},
   "source": [
    "해당 실습에서는 중간에 위치하는 은닉층은 활성화 함수로 relu를 사용, 마지막 층은 확률을 점수로 출력하기 위해 시그모이드 활성화 함수를 사용\n",
    "1. relu는 음수를 0으로 만드는 함수\n",
    "2. sigmoid는 0과 1 사이로 정규화하므로 출력값을 확률로 해석 가능"
   ]
  },
  {
   "cell_type": "code",
   "execution_count": 11,
   "id": "560c7b7d-1ca1-4a45-8291-139785e0e7e6",
   "metadata": {},
   "outputs": [],
   "source": [
    "from keras import models\n",
    "from keras import layers\n",
    "\n",
    "model = models.Sequential()\n",
    "model.add(layers.Dense(16, activation='relu', input_shape=(10000,)))\n",
    "model.add(layers.Dense(16, activation='relu'))\n",
    "model.add(layers.Dense(1, activation='sigmoid'))"
   ]
  },
  {
   "cell_type": "markdown",
   "id": "ac43169d-c4b9-4e59-abf6-3a099da7b421",
   "metadata": {},
   "source": [
    "Dense층의 매개변수 16은 은닉 유닛의 개수이다. 하나의 은닉 유닛은 층에 나타내는 표현 공간에서 하나의 차원이 된다. 16개의 은닉 유닛이 있다는 것은 가중치 행렬 $w$의 크기가 16차원이라는 것이다. "
   ]
  },
  {
   "cell_type": "markdown",
   "id": "1fbc6a4f-1264-4995-b474-0882cd1ce7b4",
   "metadata": {},
   "source": [
    "model에 레이어를 만들어준 후에는,\n",
    "\n",
    "옵티마이저와 손실함수를 정해줘야한다.\n",
    "\n",
    "compile 메서드의 파라미터로 지정."
   ]
  },
  {
   "cell_type": "code",
   "execution_count": 12,
   "id": "a4c94756-b4c1-4cf5-904f-f5ce87daeda5",
   "metadata": {},
   "outputs": [],
   "source": [
    "from keras import losses\n",
    "from keras import metrics\n",
    "\n",
    "model.compile(optimizer='rmsprop',\n",
    "              loss='binary_crossentropy',\n",
    "              metrics=['accuracy'])"
   ]
  },
  {
   "cell_type": "code",
   "execution_count": 13,
   "id": "955cdfd3-799b-492c-8c46-d9f99490928a",
   "metadata": {},
   "outputs": [],
   "source": [
    "# from keras import losses\n",
    "# from keras import metrics\n",
    "\n",
    "# model.compile(optimizer='rmsprop',\n",
    "#               loss=losses.binary_crossentropy,\n",
    "#               metrics=[metrics.binary_accuracy])\n",
    "\n",
    "# 손실함수나 측정함수에도 직접 값을 전달하고 싶은 경우, 클래스를 직접 불러와서 함수 객체를 전달하면 됨"
   ]
  },
  {
   "cell_type": "markdown",
   "id": "2682dc6b-c7c0-41d4-8d81-aa50ee0742a5",
   "metadata": {
    "tags": []
   },
   "source": [
    "# 훈련 검증\n",
    "- 훈련하는 동안 처음 본 데이터에 대한 모델의 정확도를 측정하기 위해서는 원본 훈련 데이터에서 10,000의 샘플을 떼어서 검증 세트를 만들어야 함."
   ]
  },
  {
   "cell_type": "code",
   "execution_count": 14,
   "id": "68b387fb-d40f-4267-a039-c5efd01bb31c",
   "metadata": {},
   "outputs": [],
   "source": [
    "x_val = X_train[:10000]\n",
    "partial_X_train = X_train[10000:]\n",
    "\n",
    "y_val = y_train[:10000]\n",
    "partial_y_train = y_train[10000:]"
   ]
  },
  {
   "cell_type": "code",
   "execution_count": 15,
   "id": "47ee95a3-2abb-4a7d-84e2-783465a468f6",
   "metadata": {},
   "outputs": [
    {
     "name": "stdout",
     "output_type": "stream",
     "text": [
      "Epoch 1/20\n",
      "30/30 [==============================] - 1s 23ms/step - loss: 0.5901 - accuracy: 0.6305 - val_loss: 0.5186 - val_accuracy: 0.7910\n",
      "Epoch 2/20\n",
      "30/30 [==============================] - 0s 13ms/step - loss: 0.4640 - accuracy: 0.8537 - val_loss: 0.4629 - val_accuracy: 0.8592\n",
      "Epoch 3/20\n",
      "30/30 [==============================] - 0s 12ms/step - loss: 0.3903 - accuracy: 0.9101 - val_loss: 0.4095 - val_accuracy: 0.8893\n",
      "Epoch 4/20\n",
      "30/30 [==============================] - ETA: 0s - loss: 0.3118 - accuracy: 0.93 - 0s 12ms/step - loss: 0.3099 - accuracy: 0.9391 - val_loss: 0.3817 - val_accuracy: 0.8685\n",
      "Epoch 5/20\n",
      "30/30 [==============================] - 0s 11ms/step - loss: 0.2360 - accuracy: 0.9529 - val_loss: 0.3300 - val_accuracy: 0.8846\n",
      "Epoch 6/20\n",
      "30/30 [==============================] - 0s 13ms/step - loss: 0.1799 - accuracy: 0.9606 - val_loss: 0.3080 - val_accuracy: 0.8845\n",
      "Epoch 7/20\n",
      "30/30 [==============================] - 0s 12ms/step - loss: 0.1406 - accuracy: 0.9691 - val_loss: 0.3127 - val_accuracy: 0.8834\n",
      "Epoch 8/20\n",
      "30/30 [==============================] - 0s 11ms/step - loss: 0.1117 - accuracy: 0.9758 - val_loss: 0.3250 - val_accuracy: 0.8826\n",
      "Epoch 9/20\n",
      "30/30 [==============================] - 0s 13ms/step - loss: 0.0923 - accuracy: 0.9806 - val_loss: 0.3434 - val_accuracy: 0.8774\n",
      "Epoch 10/20\n",
      "30/30 [==============================] - 0s 14ms/step - loss: 0.0777 - accuracy: 0.9835 - val_loss: 0.3532 - val_accuracy: 0.8788\n",
      "Epoch 11/20\n",
      "30/30 [==============================] - 0s 11ms/step - loss: 0.0634 - accuracy: 0.9876 - val_loss: 0.3952 - val_accuracy: 0.8737\n",
      "Epoch 12/20\n",
      "30/30 [==============================] - 0s 11ms/step - loss: 0.0533 - accuracy: 0.9897 - val_loss: 0.4543 - val_accuracy: 0.8669\n",
      "Epoch 13/20\n",
      "30/30 [==============================] - 0s 12ms/step - loss: 0.0426 - accuracy: 0.9930 - val_loss: 0.4214 - val_accuracy: 0.8747\n",
      "Epoch 14/20\n",
      "30/30 [==============================] - 0s 11ms/step - loss: 0.0366 - accuracy: 0.9946 - val_loss: 0.4635 - val_accuracy: 0.8708\n",
      "Epoch 15/20\n",
      "30/30 [==============================] - 0s 12ms/step - loss: 0.0330 - accuracy: 0.9935 - val_loss: 0.4752 - val_accuracy: 0.8739\n",
      "Epoch 16/20\n",
      "30/30 [==============================] - 0s 12ms/step - loss: 0.0222 - accuracy: 0.9970 - val_loss: 0.6026 - val_accuracy: 0.8574\n",
      "Epoch 17/20\n",
      "30/30 [==============================] - 0s 12ms/step - loss: 0.0250 - accuracy: 0.9954 - val_loss: 0.5379 - val_accuracy: 0.8708\n",
      "Epoch 18/20\n",
      "30/30 [==============================] - 0s 11ms/step - loss: 0.0158 - accuracy: 0.9978 - val_loss: 0.5650 - val_accuracy: 0.8700\n",
      "Epoch 19/20\n",
      "30/30 [==============================] - 0s 13ms/step - loss: 0.0201 - accuracy: 0.9958 - val_loss: 0.5955 - val_accuracy: 0.8687\n",
      "Epoch 20/20\n",
      "30/30 [==============================] - 0s 12ms/step - loss: 0.0119 - accuracy: 0.9983 - val_loss: 0.6147 - val_accuracy: 0.8684\n"
     ]
    }
   ],
   "source": [
    "history = model.fit(partial_X_train,\n",
    "                    partial_y_train,\n",
    "                    epochs=20,\n",
    "                    batch_size=512,\n",
    "                    validation_data=(x_val, y_val))"
   ]
  },
  {
   "cell_type": "markdown",
   "id": "c61d010b-595d-44fd-9435-a888fe9e3180",
   "metadata": {},
   "source": [
    "fit() 메서드는 history 객체를 반환한다. 훈련간 발생한 정보를 담고 있는 history를 열어서 확인해볼 수 있음.\n",
    "\n",
    "history 객체를 이용하여 에포크 별 변화를 시각화할 수 있음."
   ]
  },
  {
   "cell_type": "code",
   "execution_count": 16,
   "id": "a75c6022-69fa-4e45-ad78-c8902455c9de",
   "metadata": {},
   "outputs": [
    {
     "data": {
      "text/plain": [
       "dict_keys(['loss', 'accuracy', 'val_loss', 'val_accuracy'])"
      ]
     },
     "execution_count": 16,
     "metadata": {},
     "output_type": "execute_result"
    }
   ],
   "source": [
    "history_dict = history.history\n",
    "history.history.keys()"
   ]
  },
  {
   "cell_type": "code",
   "execution_count": 17,
   "id": "1eb4b840-08e7-4c83-97e8-47165a1ad134",
   "metadata": {},
   "outputs": [
    {
     "data": {
      "text/plain": [
       "[0.5900672674179077,\n",
       " 0.4639810621738434,\n",
       " 0.3903041481971741,\n",
       " 0.3098899722099304,\n",
       " 0.23598171770572662,\n",
       " 0.1799011379480362,\n",
       " 0.1405818611383438,\n",
       " 0.11172544211149216,\n",
       " 0.09228391200304031,\n",
       " 0.07767090946435928,\n",
       " 0.06335509568452835,\n",
       " 0.05330895259976387,\n",
       " 0.04262317717075348,\n",
       " 0.03657012805342674,\n",
       " 0.033031437546014786,\n",
       " 0.022213716059923172,\n",
       " 0.024965237826108932,\n",
       " 0.015765052288770676,\n",
       " 0.020081650465726852,\n",
       " 0.011939231306314468]"
      ]
     },
     "execution_count": 17,
     "metadata": {},
     "output_type": "execute_result"
    }
   ],
   "source": [
    "history.history.get('loss')"
   ]
  },
  {
   "cell_type": "code",
   "execution_count": 18,
   "id": "cc3e63e2-afab-4117-9145-856f34b21a87",
   "metadata": {},
   "outputs": [
    {
     "data": {
      "image/png": "[encoded data removed]",
      "text/plain": [
       "<Figure size 432x288 with 1 Axes>"
      ]
     },
     "metadata": {
      "needs_background": "light"
     },
     "output_type": "display_data"
    }
   ],
   "source": [
    "import matplotlib.pyplot as plt\n",
    "\n",
    "acc = history.history['accuracy']\n",
    "val_acc = history.history['val_accuracy']\n",
    "loss = history.history.get('loss')\n",
    "val_loss = history.history.get('val_loss')\n",
    "\n",
    "epochs = range(1, len(acc) + 1)\n",
    "\n",
    "# 'bo'는 color = b, style = o 를 뜻함\n",
    "plt.plot(epochs, loss, 'bo', label='Training loss')\n",
    "# 'b'는 color = b, linestyle = '-'를 뜻함\n",
    "plt.plot(epochs, val_loss, 'b', label='Validation loss')\n",
    "plt.title('Traning and validation loss')\n",
    "plt.xlabel('Epochs')\n",
    "plt.ylabel('Loss')\n",
    "plt.legend(fontsize=11.2)\n",
    "\n",
    "plt.show()"
   ]
  },
  {
   "cell_type": "code",
   "execution_count": 20,
   "id": "30ef3c25-8c7a-4e22-b39a-f38e80f4dd4a",
   "metadata": {},
   "outputs": [
    {
     "data": {
      "image/png": "[encoded data removed]",
      "text/plain": [
       "<Figure size 432x288 with 1 Axes>"
      ]
     },
     "metadata": {
      "needs_background": "light"
     },
     "output_type": "display_data"
    }
   ],
   "source": [
    "plt.clf()\n",
    "acc = history_dict['accuracy']\n",
    "val_acc = history_dict['val_accuracy']\n",
    "\n",
    "plt.plot(epochs, acc, 'bo', label='Training acc')\n",
    "plt.plot(epochs, val_acc, 'b', label='Validation acc')\n",
    "plt.title('Training and validation accuracy')\n",
    "plt.xlabel('Epochs')\n",
    "plt.ylabel('Accuracy')\n",
    "plt.legend()\n",
    "plt.grid(axis='y')\n",
    "\n",
    "plt.show()"
   ]
  },
  {
   "cell_type": "code",
   "execution_count": 23,
   "id": "d961e33a-3e6f-4679-a1bc-8461aa1d6ee2",
   "metadata": {},
   "outputs": [
    {
     "name": "stdout",
     "output_type": "stream",
     "text": [
      "Epoch 1/4\n",
      "49/49 [==============================] - 1s 8ms/step - loss: 0.4831 - accuracy: 0.8127\n",
      "Epoch 2/4\n",
      "49/49 [==============================] - 0s 7ms/step - loss: 0.2762 - accuracy: 0.9068\n",
      "Epoch 3/4\n",
      "49/49 [==============================] - 0s 8ms/step - loss: 0.2094 - accuracy: 0.9254\n",
      "Epoch 4/4\n",
      "49/49 [==============================] - 0s 8ms/step - loss: 0.1749 - accuracy: 0.9381\n",
      "782/782 [==============================] - 1s 1ms/step - loss: 0.2912 - accuracy: 0.8838\n"
     ]
    }
   ],
   "source": [
    "model = models.Sequential()\n",
    "model.add(layers.Dense(16, activation='relu', input_shape=(10000,)))\n",
    "model.add(layers.Dense(16, activation='relu'))\n",
    "model.add(layers.Dense(1, activation='sigmoid'))\n",
    "\n",
    "model.compile(optimizer='rmsprop',\n",
    "              loss='binary_crossentropy',\n",
    "              metrics=['accuracy'])\n",
    "\n",
    "model.fit(X_train, y_train, epochs=4, batch_size=512)\n",
    "results = model.evaluate(X_test, y_test)"
   ]
  },
  {
   "cell_type": "code",
   "execution_count": 24,
   "id": "5477d109-ce27-4c30-ae11-1322f63ec43a",
   "metadata": {},
   "outputs": [
    {
     "data": {
      "text/plain": [
       "[0.2912263870239258, 0.8838000297546387]"
      ]
     },
     "execution_count": 24,
     "metadata": {},
     "output_type": "execute_result"
    }
   ],
   "source": [
    "results"
   ]
  },
  {
   "cell_type": "code",
   "execution_count": 26,
   "id": "d13283e3-52dc-41b7-863b-be79c7e21e4a",
   "metadata": {},
   "outputs": [
    {
     "data": {
      "text/plain": [
       "array([[0.1753377 ],\n",
       "       [0.9993568 ],\n",
       "       [0.83300185],\n",
       "       ...,\n",
       "       [0.11008233],\n",
       "       [0.0575797 ],\n",
       "       [0.5521012 ]], dtype=float32)"
      ]
     },
     "execution_count": 26,
     "metadata": {},
     "output_type": "execute_result"
    }
   ],
   "source": [
    "model.predict(X_test)"
   ]
  },
  {
   "cell_type": "code",
   "execution_count": null,
   "id": "b60705d8-fd03-4c6c-a209-5693cb5f0fa6",
   "metadata": {},
   "outputs": [],
   "source": []
  }
 ],
 "metadata": {
  "kernelspec": {
   "display_name": "Python 3 (ipykernel)",
   "language": "python",
   "name": "python3"
  },
  "language_info": {
   "codemirror_mode": {
    "name": "ipython",
    "version": 3
   },
   "file_extension": ".py",
   "mimetype": "text/x-python",
   "name": "python",
   "nbconvert_exporter": "python",
   "pygments_lexer": "ipython3",
   "version": "3.9.12"
  }
 },
 "nbformat": 4,
 "nbformat_minor": 5
}
