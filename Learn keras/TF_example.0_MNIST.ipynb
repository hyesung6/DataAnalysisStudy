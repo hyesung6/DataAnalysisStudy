{
 "cells": [
  {
   "cell_type": "markdown",
   "id": "6cfa1395-3043-4eb3-8849-6036643513c3",
   "metadata": {},
   "source": [
    "MNIST를 사용해서 간단한 분류를 해보겠습니다. 이 데이터셋은 머신 러닝의 역사만큼 오래되었고 많은 연구에 사용되었습니다. 미국 국립표준기술연구소에서 수집한 6만 개의 훈련 이미지와 1만 개의 테스트 이미지로 구성되어 있습니다. 딥러닝계의 'Hello world'라고 생각해도 됩니다."
   ]
  },
  {
   "cell_type": "code",
   "execution_count": 1,
   "id": "8d559209-3ce7-425f-b445-1504d630501a",
   "metadata": {},
   "outputs": [],
   "source": [
    "from keras.datasets import mnist"
   ]
  },
  {
   "cell_type": "code",
   "execution_count": 29,
   "id": "44dc8e7d-0e43-46d3-be8b-3b778e8a0342",
   "metadata": {},
   "outputs": [],
   "source": [
    "(train_images, train_labels), (test_images, test_labels) = mnist.load_data()"
   ]
  },
  {
   "cell_type": "markdown",
   "id": "f039cfe9-03c5-43c9-881c-57e14d55edef",
   "metadata": {},
   "source": [
    "train_images와 train_labels가 모델이 학습해야 할 훈련 세트입니다. 또한 모델은 test_images와 test_labels로 구성된 테스트 세트로 테스트될 것입니다. 이미지는 넘파이 배열로 인코딩 되어있고, 레이블은 0에서 9까지의 숫자 배열입니다. 이미지와 레이블은 일대일 관계를 가집니다."
   ]
  },
  {
   "cell_type": "code",
   "execution_count": 30,
   "id": "40c448a4-b62f-4bac-87d8-8b3d2d4445a7",
   "metadata": {},
   "outputs": [
    {
     "data": {
      "text/plain": [
       "(60000, 28, 28)"
      ]
     },
     "execution_count": 30,
     "metadata": {},
     "output_type": "execute_result"
    }
   ],
   "source": [
    "train_images.shape"
   ]
  },
  {
   "cell_type": "code",
   "execution_count": 31,
   "id": "8810daf5-2ef6-48a0-9cbc-d08bdb613bc5",
   "metadata": {},
   "outputs": [
    {
     "data": {
      "text/plain": [
       "(60000,)"
      ]
     },
     "execution_count": 31,
     "metadata": {},
     "output_type": "execute_result"
    }
   ],
   "source": [
    "train_labels.shape"
   ]
  },
  {
   "cell_type": "markdown",
   "id": "d8f9050e-dc77-4b46-8146-0696639eb443",
   "metadata": {},
   "source": [
    "plt를 통해 이미지 하나를 확인해보겠습니다.\n",
    "imshow() 메서드는 2차원 어레이나 텐서를 이미지로 읽어내는 기능을 합니다."
   ]
  },
  {
   "cell_type": "code",
   "execution_count": 32,
   "id": "2b094c15-5761-4d68-a252-22d759b9083a",
   "metadata": {},
   "outputs": [],
   "source": [
    "import matplotlib.pyplot as plt"
   ]
  },
  {
   "cell_type": "code",
   "execution_count": 33,
   "id": "8fef3bb2-cae6-461c-917f-aa0e2530813e",
   "metadata": {},
   "outputs": [
    {
     "data": {
      "image/png": "[encoded data removed]",
      "text/plain": [
       "<Figure size 432x288 with 1 Axes>"
      ]
     },
     "metadata": {
      "needs_background": "light"
     },
     "output_type": "display_data"
    }
   ],
   "source": [
    "digit = train_images[4]\n",
    "\n",
    "plt.imshow(digit, cmap=plt.cm.binary)\n",
    "plt.show()"
   ]
  },
  {
   "cell_type": "markdown",
   "id": "8db37ced-1a42-4ee4-bc63-efd428d16b95",
   "metadata": {},
   "source": [
    "작업 순서는 다음과 같습니다. 먼저 훈련 데이터 train_images와 train_labels를 네트워크에 주입합니다. ( 입력층 ). 그러면 네트워크는 이미지와 레이블을 연관시킬 수 있도록 학습됩니다. 마지막으로 test_images에 대한 예측을 네트워크에 요청합니다. 이 예측이 test_labels와 일치하는지 확인하는 것입니다."
   ]
  },
  {
   "cell_type": "code",
   "execution_count": 34,
   "id": "863425f5-f225-4aff-be75-d6860ae15e94",
   "metadata": {},
   "outputs": [],
   "source": [
    "from keras import models\n",
    "from keras import layers\n",
    "\n",
    "network = models.Sequential()\n",
    "network.add(layers.Dense(512, activation='relu', input_shape=(28 * 28,)))\n",
    "network.add(layers.Dense(10, activation='softmax'))"
   ]
  },
  {
   "cell_type": "markdown",
   "id": "fa56c2fe-5ee9-4699-a61d-cf9f52c63d8d",
   "metadata": {},
   "source": [
    "신경망의 핵심 구성 요소는 일종의 데이터 처리 필터라고 생각할 수 있는 층입니다. 어떤 데이터가 들어가면 더 유용한 형태로 출력됩니다. 조금 더 구체적으로 층은 주어진 문제에 더 의미있는 표현을 입력된 데이터로부터 추출합니다. 대부분의 딥러닝은 간단한 층을 연결하여 구성되어있고, 점진적으로 데이터를 정제하는 형태를 띠고 있습니다. 딥러닝 모델은 데이터 정제 필터(층)가 연속되어있는 데이터 프로세싱을 위한 여과기와 같습니다. "
   ]
  },
  {
   "cell_type": "markdown",
   "id": "3e768b09-c55c-4aed-b45c-d6e8e8809e9a",
   "metadata": {},
   "source": [
    "이 예에서는 조밀하게 연결된 신경망 층인 Dense 층 2개가 연속되어 있습니다. 마지막 층은 10개의 확률 점수가 들어있는 배열입니다(모두 더하면 1이 되는 결과값을 출력하는 softmax층). 각 점수는 이미지가 숫자 클래스 중 하나에 속할 확률입니다."
   ]
  },
  {
   "cell_type": "markdown",
   "id": "7d929bcb-231e-41b9-a1b7-f85db293cf4d",
   "metadata": {},
   "source": [
    "신경망이 훈련 준비를 마치기 위해서 컴파일 단계에 포함될 세 가지가 더 필요합니다.\n",
    "- 손실 함수 : 훈련 데이터에서 신경망의 성능을 측정하는 방법으로 네트워크가 옳은 방향으로 학습될 수 있도록 도와줍니다.\n",
    "- 옵티마이저 : 입력된 데이터와 손실 함수를 기반으로 네트워크를 업데이트하는 메커니즘입니다.\n",
    "- 훈련과 테스트 과정을 모니터링할 지표(metrics) : 여기서는 정확도를 고려하겠습니다. \n",
    "  - classification 혹은 regression인지에 따라서, 달라지고 그 분류 내에서도 다른 지표를 사용할 수 있음"
   ]
  },
  {
   "cell_type": "code",
   "execution_count": 35,
   "id": "d7dbc8fd-7f59-48e3-9b18-354cdda41e10",
   "metadata": {},
   "outputs": [],
   "source": [
    "network.compile(optimizer='rmsprop',\n",
    "                loss='categorical_crossentropy',\n",
    "                metrics=['acc'])"
   ]
  },
  {
   "cell_type": "markdown",
   "id": "c580996c-1e71-4e7a-a743-08e47fbcad1b",
   "metadata": {},
   "source": [
    "훈련을 시작하기 전에 데이터를 네트워크에 맞는 크기로 바꾸고 모든 값을 0과 1 사이로 스케일링합니다.\n",
    "( 네트워크가 훈련 데이터에 비해 너무 작은 경우, 데이터를 압축해서 학습하는 과정에서 손실이 발생 ) \n",
    "\n",
    "우리의 훈련 이미지는 [0, 255] 사이의 unit8 값으로 이루어진 (28 x 28) 배열이 60,000개 있는 세트입니다. 이 데이터를 [0, 1] 사이의 float32 값으로 이루어진 배열 세트로 변환합니다."
   ]
  },
  {
   "cell_type": "code",
   "execution_count": 36,
   "id": "2b6a2551-aba9-4dc7-98de-cc8c39f703c8",
   "metadata": {},
   "outputs": [
    {
     "name": "stdout",
     "output_type": "stream",
     "text": [
      "(60000, 784)\n",
      "(10000, 28, 28)\n"
     ]
    }
   ],
   "source": [
    "train_images = train_images.reshape((60000, 28 * 28))\n",
    "train_images = train_images.astype('float32') / 255\n",
    "\n",
    "test_images = test_images.reshape((10000, 28 * 28))\n",
    "test_images = test_images.astype('float32') / 255\n",
    "\n",
    "print(train_images.shape)\n",
    "print(test_iamges.shape)"
   ]
  },
  {
   "cell_type": "markdown",
   "id": "8dc39f51-e91e-477d-a29b-506830a899e1",
   "metadata": {},
   "source": [
    "또한, 레이블을 범주형으로 인코딩 해야합니다."
   ]
  },
  {
   "cell_type": "code",
   "execution_count": 38,
   "id": "173bc90a-514e-4bb9-996f-8d3a69dd13b7",
   "metadata": {},
   "outputs": [],
   "source": [
    "from keras.utils.all_utils import to_categorical\n",
    "\n",
    "train_labels = to_categorical(train_labels)\n",
    "test_labels = to_categorical(test_labels)"
   ]
  },
  {
   "cell_type": "markdown",
   "id": "43131460-982e-4b5e-a3ed-1cfef7349535",
   "metadata": {},
   "source": [
    "훈련 준비가 끝났습니다. 이제 fit 메서드를 호출하여 학습을 진행합니다."
   ]
  },
  {
   "cell_type": "code",
   "execution_count": 39,
   "id": "274a33a4-b769-434a-a102-64c27bcef292",
   "metadata": {},
   "outputs": [
    {
     "name": "stdout",
     "output_type": "stream",
     "text": [
      "Epoch 1/5\n",
      "469/469 [==============================] - 3s 5ms/step - loss: 0.2599 - acc: 0.9243\n",
      "Epoch 2/5\n",
      "469/469 [==============================] - 2s 4ms/step - loss: 0.1053 - acc: 0.9688\n",
      "Epoch 3/5\n",
      "469/469 [==============================] - 2s 4ms/step - loss: 0.0689 - acc: 0.9796\n",
      "Epoch 4/5\n",
      "469/469 [==============================] - 2s 4ms/step - loss: 0.0504 - acc: 0.9850\n",
      "Epoch 5/5\n",
      "469/469 [==============================] - 2s 5ms/step - loss: 0.0376 - acc: 0.9888\n"
     ]
    },
    {
     "data": {
      "text/plain": [
       "<keras.callbacks.History at 0x1f4d2a62c10>"
      ]
     },
     "execution_count": 39,
     "metadata": {},
     "output_type": "execute_result"
    }
   ],
   "source": [
    "network.fit(train_images, train_labels,\n",
    "            epochs=5,\n",
    "            batch_size=128)"
   ]
  },
  {
   "cell_type": "markdown",
   "id": "2154f75b-d169-4a68-a43f-727caaf7c351",
   "metadata": {},
   "source": [
    "훈련이 끝났으니 각 epochs별 정확도를 확인해봅니다. 모델은 history 객체에 훈련의 결과로 얻은 변수를 딕셔너리 형식으로 저장하고 있습니다."
   ]
  },
  {
   "cell_type": "code",
   "execution_count": 51,
   "id": "67566fa4-c2ea-416b-beae-74480643780f",
   "metadata": {},
   "outputs": [
    {
     "name": "stdout",
     "output_type": "stream",
     "text": [
      "0번째 epochs의 정확도 : 92.433%\n",
      "1번째 epochs의 정확도 : 96.878%\n",
      "2번째 epochs의 정확도 : 97.955%\n",
      "3번째 epochs의 정확도 : 98.502%\n",
      "4번째 epochs의 정확도 : 98.878%\n"
     ]
    }
   ],
   "source": [
    "for i, j in enumerate(network.history.history['acc']):\n",
    "    print(f\"{i}번째 epochs의 정확도 : {(j*100):.3f}%\")"
   ]
  },
  {
   "cell_type": "markdown",
   "id": "fbaca3ee-2290-48e7-ad6f-6d736e47db90",
   "metadata": {},
   "source": [
    "이제 테스트 세트를 사용한 정확도를 확인해보겠습니다."
   ]
  },
  {
   "cell_type": "code",
   "execution_count": 52,
   "id": "1735d89c-239e-47f1-9faa-6e07ab87952d",
   "metadata": {},
   "outputs": [
    {
     "name": "stdout",
     "output_type": "stream",
     "text": [
      "313/313 [==============================] - 1s 2ms/step - loss: 0.0645 - acc: 0.9811\n"
     ]
    }
   ],
   "source": [
    "test_loss, test_acc = network.evaluate(test_images, test_labels)"
   ]
  },
  {
   "cell_type": "code",
   "execution_count": 55,
   "id": "be32325d-231c-4d3e-9c67-728e8ee72438",
   "metadata": {},
   "outputs": [
    {
     "name": "stdout",
     "output_type": "stream",
     "text": [
      "테스트 세트의 손실 함수 : 0.06447701901197433\n",
      "테스트 세트의 정확도 : 98.110%\n"
     ]
    }
   ],
   "source": [
    "print(f'테스트 세트의 손실 함수 : {test_loss}')\n",
    "print(f'테스트 세트의 정확도 : {(test_acc*100):.3f}%')"
   ]
  },
  {
   "cell_type": "markdown",
   "id": "6d4ac0cd-d4bd-4f71-b43a-90dd3156a41b",
   "metadata": {},
   "source": [
    "충분히 좋은 퍼포먼스를 보여주지만, 훈련 세트 정확도보다 약간 낮습니다. 훈련 정확도와 테스트 정확도 간의 차이는 과대적합 때문입니다. 즉 테스트 정확도가 훈련 정확도에 비해 낮은 만큼 과대적합되었다고 볼 수 있습니다."
   ]
  },
  {
   "cell_type": "code",
   "execution_count": null,
   "id": "83a08eeb-fe54-45c1-bcb4-e438b1a67e5c",
   "metadata": {},
   "outputs": [],
   "source": []
  }
 ],
 "metadata": {
  "kernelspec": {
   "display_name": "Python 3 (ipykernel)",
   "language": "python",
   "name": "python3"
  },
  "language_info": {
   "codemirror_mode": {
    "name": "ipython",
    "version": 3
   },
   "file_extension": ".py",
   "mimetype": "text/x-python",
   "name": "python",
   "nbconvert_exporter": "python",
   "pygments_lexer": "ipython3",
   "version": "3.9.12"
  }
 },
 "nbformat": 4,
 "nbformat_minor": 5
}
