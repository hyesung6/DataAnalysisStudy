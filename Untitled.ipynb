{
 "cells": [
  {
   "cell_type": "code",
   "execution_count": 2,
   "id": "5abae1f3-39fa-4704-8477-d7cd87d2ae17",
   "metadata": {},
   "outputs": [],
   "source": [
    "from scipy import stats"
   ]
  },
  {
   "cell_type": "code",
   "execution_count": 4,
   "id": "e0d55b4b-d2f3-4dee-95cd-f53cf5c2af5a",
   "metadata": {},
   "outputs": [],
   "source": [
    "rv = stats.norm(32, 2450)"
   ]
  },
  {
   "cell_type": "code",
   "execution_count": 2,
   "id": "7098217f-0755-4154-a35a-9b1031139635",
   "metadata": {},
   "outputs": [],
   "source": [
    "import matplotlib.pyplot as plt\n",
    "import seaborn as sns"
   ]
  },
  {
   "cell_type": "code",
   "execution_count": 3,
   "id": "dd7bfd2f-2e66-47ea-8513-1f794f446881",
   "metadata": {},
   "outputs": [],
   "source": [
    "import numpy as np"
   ]
  },
  {
   "cell_type": "code",
   "execution_count": 29,
   "id": "4918f5ad-4c3c-4205-891b-5fe7ddc77460",
   "metadata": {},
   "outputs": [],
   "source": [
    "xx = np.linspace(0, 1, 10)"
   ]
  },
  {
   "cell_type": "code",
   "execution_count": 24,
   "id": "197cc888-d685-4752-9d2d-7976fbcc9fb0",
   "metadata": {},
   "outputs": [],
   "source": [
    "pdf = rv.pdf(xx)"
   ]
  },
  {
   "cell_type": "code",
   "execution_count": 23,
   "id": "0a1dd1b9-23b8-4a21-a54a-f87d4b71d879",
   "metadata": {
    "tags": []
   },
   "outputs": [
    {
     "data": {
      "text/plain": [
       "[<matplotlib.lines.Line2D at 0x1ebf0c3ad60>]"
      ]
     },
     "execution_count": 23,
     "metadata": {},
     "output_type": "execute_result"
    },
    {
     "data": {
      "image/png": "[encoded data removed]",
      "text/plain": [
       "<Figure size 432x288 with 1 Axes>"
      ]
     },
     "metadata": {
      "needs_background": "light"
     },
     "output_type": "display_data"
    }
   ],
   "source": [
    "plt.plot(pdf, xx)"
   ]
  },
  {
   "cell_type": "code",
   "execution_count": 30,
   "id": "590ee85f-c32b-4455-8806-b2bb29e55756",
   "metadata": {},
   "outputs": [
    {
     "data": {
      "text/plain": [
       "[<matplotlib.lines.Line2D at 0x1ebf1ef6850>]"
      ]
     },
     "execution_count": 30,
     "metadata": {},
     "output_type": "execute_result"
    },
    {
     "data": {
      "image/png": "[encoded data removed]",
      "text/plain": [
       "<Figure size 432x288 with 1 Axes>"
      ]
     },
     "metadata": {
      "needs_background": "light"
     },
     "output_type": "display_data"
    }
   ],
   "source": [
    "rv = stats.norm(loc=0, scale=1)\n",
    "pdf = rv.pdf(xx)\n",
    "plt.plot(xx, pdf)"
   ]
  },
  {
   "cell_type": "code",
   "execution_count": 2,
   "id": "2d125d03-f907-4c52-809b-9ad7c05d59ad",
   "metadata": {},
   "outputs": [],
   "source": [
    "import json\n",
    "import pandas as pd"
   ]
  },
  {
   "cell_type": "code",
   "execution_count": 4,
   "id": "6f2f0a07-c6a6-4a36-aee8-4a92646becb6",
   "metadata": {},
   "outputs": [
    {
     "name": "stdout",
     "output_type": "stream",
     "text": [
      "3.0\n",
      "19609713.4\n"
     ]
    }
   ],
   "source": [
    "with open('top_cities.json') as f:\n",
    "    a = pd.read_json(f)\n",
    "    for mean in a.mean(numeric_only=True):\n",
    "        print(mean)"
   ]
  },
  {
   "cell_type": "code",
   "execution_count": 5,
   "id": "b580cfed-80e4-49da-87e6-0bfe0e1b7f35",
   "metadata": {},
   "outputs": [
    {
     "data": {
      "text/plain": [
       "_io.TextIOWrapper"
      ]
     },
     "execution_count": 5,
     "metadata": {},
     "output_type": "execute_result"
    }
   ],
   "source": [
    "type(f)"
   ]
  },
  {
   "cell_type": "code",
   "execution_count": 8,
   "id": "c1d3000e-1000-4d38-8619-04ca7b785a31",
   "metadata": {},
   "outputs": [
    {
     "data": {
      "text/plain": [
       "pandas.core.frame.DataFrame"
      ]
     },
     "execution_count": 8,
     "metadata": {},
     "output_type": "execute_result"
    }
   ],
   "source": [
    "type(a)"
   ]
  },
  {
   "cell_type": "code",
   "execution_count": null,
   "id": "6a2b4f4d-a758-4861-911f-d81b8b9a80be",
   "metadata": {},
   "outputs": [],
   "source": []
  }
 ],
 "metadata": {
  "kernelspec": {
   "display_name": "Python 3 (ipykernel)",
   "language": "python",
   "name": "python3"
  },
  "language_info": {
   "codemirror_mode": {
    "name": "ipython",
    "version": 3
   },
   "file_extension": ".py",
   "mimetype": "text/x-python",
   "name": "python",
   "nbconvert_exporter": "python",
   "pygments_lexer": "ipython3",
   "version": "3.9.12"
  }
 },
 "nbformat": 4,
 "nbformat_minor": 5
}
