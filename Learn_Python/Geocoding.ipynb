{
 "cells": [
  {
   "cell_type": "code",
   "execution_count": null,
   "id": "336c4605-a23d-4269-b5e3-fdc17e07c0d1",
   "metadata": {},
   "outputs": [],
   "source": [
    "import pandas as pd\n",
    "csv = pd.read_excel('File path here')\n",
    "print(csv.head())"
   ]
  },
  {
   "cell_type": "code",
   "execution_count": null,
   "id": "ad8d0aa7-9e9d-4602-80bd-978bb9c7c742",
   "metadata": {},
   "outputs": [],
   "source": [
    "# 데이터프레임 주소값 추출\n",
    "address= csv['주소']\n",
    "print(address.head())"
   ]
  },
  {
   "cell_type": "code",
   "execution_count": 4,
   "id": "b7dc230a-3ed2-4866-968f-49b80f972f4a",
   "metadata": {},
   "outputs": [],
   "source": [
    "csv = csv.dropna()"
   ]
  },
  {
   "cell_type": "code",
   "execution_count": 5,
   "id": "71b3a27e-4368-4fc2-bed8-6ec2dff22002",
   "metadata": {},
   "outputs": [],
   "source": [
    "####### 도로명주소 위도 경도 값으로 바꿔주기 ########\n",
    "from geopy.geocoders import Nominatim\n",
    "geo_local = Nominatim(user_agent='South Korea')"
   ]
  },
  {
   "cell_type": "code",
   "execution_count": 6,
   "id": "92aea751-a95d-4b90-9215-3e0a5f3f44f7",
   "metadata": {},
   "outputs": [],
   "source": [
    "# 위도, 경도 반환하는 함수\n",
    "def geocoding(address):\n",
    "    try:\n",
    "        geo = geo_local.geocode(address)\n",
    "        x_y = [geo.latitude, geo.longitude]\n",
    "        return x_y\n",
    "\n",
    "    except:\n",
    "        return [0,0]"
   ]
  },
  {
   "cell_type": "code",
   "execution_count": null,
   "id": "10f2a5d2-2382-4aa9-9667-8f1ca4fedb14",
   "metadata": {},
   "outputs": [
    {
     "name": "stdout",
     "output_type": "stream",
     "text": [
      "1건 진행 중...\n",
      "2건 진행 중...\n",
      "3건 진행 중...\n",
      "4건 진행 중...\n",
      "5건 진행 중...\n",
      "6건 진행 중...\n",
      "7건 진행 중...\n",
      "8건 진행 중...\n",
      "9건 진행 중...\n",
      "10건 진행 중...\n",
      "11건 진행 중...\n",
      "12건 진행 중...\n",
      "13건 진행 중...\n",
      "14건 진행 중...\n",
      "15건 진행 중...\n",
      "16건 진행 중...\n",
      "17건 진행 중...\n",
      "18건 진행 중...\n"
     ]
    }
   ],
   "source": [
    "#####주소를 위,경도 값으로 변환하기 #####\n",
    "latitude = []\n",
    "longitude =[]\n",
    "count = 1\n",
    "\n",
    "for i in address:\n",
    "    latitude.append(geocoding(i)[0])\n",
    "    longitude.append(geocoding(i)[1])\n",
    "    print(f'{count}건 진행 중...')\n",
    "    count += 1"
   ]
  },
  {
   "cell_type": "code",
   "execution_count": null,
   "id": "0d93aeb8-74ce-44a9-a597-7d8c105881cb",
   "metadata": {},
   "outputs": [],
   "source": [
    "#####Dataframe만들기######\n",
    "csv['위도'] = latitude\n",
    "csv['경도'] = longitude\n",
    "\n",
    "#df저장\n",
    "address_df.to_csv('Export file path here')"
   ]
  }
 ],
 "metadata": {
  "kernelspec": {
   "display_name": "Python 3 (ipykernel)",
   "language": "python",
   "name": "python3"
  },
  "language_info": {
   "codemirror_mode": {
    "name": "ipython",
    "version": 3
   },
   "file_extension": ".py",
   "mimetype": "text/x-python",
   "name": "python",
   "nbconvert_exporter": "python",
   "pygments_lexer": "ipython3",
   "version": "3.9.12"
  }
 },
 "nbformat": 4,
 "nbformat_minor": 5
}
