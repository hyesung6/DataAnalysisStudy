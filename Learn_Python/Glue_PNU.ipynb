{
 "cells": [
  {
   "cell_type": "code",
   "execution_count": 1,
   "id": "c8a4a6f9-4b46-4bba-980f-0c97fd2288c2",
   "metadata": {},
   "outputs": [],
   "source": [
    "import pandas as pd\n",
    "db_DH = pd.read_csv('db_D.csv', encoding='EUC-KR')\n",
    "db_UJ = pd.read_csv('db_U.csv', encoding='EUC-KR')\n",
    "origin = pd.read_csv('PNU코드.csv', encoding='EUC-KR')"
   ]
  },
  {
   "cell_type": "code",
   "execution_count": null,
   "id": "905c2b83-4ee9-4c97-b260-50fcac05f63e",
   "metadata": {},
   "outputs": [],
   "source": [
    "print(db_D.shape)\n",
    "print(db_U.shape)\n",
    "print(origin.shape)"
   ]
  },
  {
   "cell_type": "code",
   "execution_count": 3,
   "id": "491170e8-cd23-460b-a42f-c0115d29592a",
   "metadata": {},
   "outputs": [],
   "source": [
    "pd.options.display.float_format = '{:.5f}'.format"
   ]
  },
  {
   "cell_type": "code",
   "execution_count": null,
   "id": "ce094df5-4a40-49de-a860-4e7b8af18ba4",
   "metadata": {},
   "outputs": [],
   "source": [
    "origin.columns"
   ]
  },
  {
   "cell_type": "code",
   "execution_count": 9,
   "id": "b3a2820c-3a9c-405c-b346-7d0927419059",
   "metadata": {},
   "outputs": [],
   "source": [
    "result = pd.merge(db_DH, origin, left_on='A1', right_on='PNU', how='left')"
   ]
  },
  {
   "cell_type": "code",
   "execution_count": 10,
   "id": "81c5d763-89e7-497b-afa5-7e2dc60e5f95",
   "metadata": {},
   "outputs": [
    {
     "data": {
      "text/plain": [
       "(39987, 28)"
      ]
     },
     "execution_count": 10,
     "metadata": {},
     "output_type": "execute_result"
    }
   ],
   "source": [
    "result.shape"
   ]
  },
  {
   "cell_type": "code",
   "execution_count": 11,
   "id": "433fccfd-7ea7-4866-990a-770772c6d349",
   "metadata": {},
   "outputs": [],
   "source": [
    "result2 = pd.merge(db_UJ, origin, left_on='A1', right_on='PNU', how='left')"
   ]
  },
  {
   "cell_type": "code",
   "execution_count": 12,
   "id": "90c5b8d8-a3b2-45f3-90cc-55a3e498d5fe",
   "metadata": {},
   "outputs": [
    {
     "data": {
      "text/plain": [
       "(85369, 28)"
      ]
     },
     "execution_count": 12,
     "metadata": {},
     "output_type": "execute_result"
    }
   ],
   "source": [
    "result2.shape"
   ]
  },
  {
   "cell_type": "code",
   "execution_count": 15,
   "id": "aa27bf7d-ffb6-4365-9e2f-8ceb75021e64",
   "metadata": {},
   "outputs": [],
   "source": [
    "result.to_csv('db_DH_병합결과.csv', encoding='EUC-KR')\n",
    "result2.to_csv('db_UJ_병합결과.csv', encoding='EUC-KR')"
   ]
  },
  {
   "cell_type": "code",
   "execution_count": 27,
   "id": "99509707-5572-4c06-881a-17b8b6be5f5c",
   "metadata": {},
   "outputs": [],
   "source": [
    "DH_A1 = result['A1']\n",
    "UJ_A1 = result2['A1']"
   ]
  },
  {
   "cell_type": "code",
   "execution_count": 32,
   "id": "90ac2fff-9ee3-4511-8732-fc910cc8a9d1",
   "metadata": {},
   "outputs": [],
   "source": [
    "result['A1'].to_csv('DH_PNU.csv', encoding='EUC-KR')"
   ]
  },
  {
   "cell_type": "code",
   "execution_count": 33,
   "id": "efd67353-32e2-4a9a-983b-b77db36aad33",
   "metadata": {},
   "outputs": [],
   "source": [
    "result2['A1'].to_csv('UJ_PNU.csv', encoding='EUC-KR')"
   ]
  },
  {
   "cell_type": "code",
   "execution_count": 34,
   "id": "cc12d546-dbaf-49ea-a78d-a15e15660b78",
   "metadata": {},
   "outputs": [],
   "source": [
    "result['A1'].to_excel('DH_PNU.xlsx')\n",
    "result2['A1'].to_excel('UJ_PNU.xlsx')"
   ]
  },
  {
   "cell_type": "code",
   "execution_count": 25,
   "id": "56b67370-3627-460d-b5bd-485efb73bbc3",
   "metadata": {},
   "outputs": [],
   "source": [
    "DH_PNU = DH_PNU.astype('string')"
   ]
  },
  {
   "cell_type": "code",
   "execution_count": 26,
   "id": "ce4f66bb-a9c2-4e6b-8686-a3cb8ecc5b01",
   "metadata": {},
   "outputs": [],
   "source": [
    "DH_PNU.to_csv('DH_PNU.csv', encoding='EUC-KR')"
   ]
  },
  {
   "cell_type": "code",
   "execution_count": 52,
   "id": "e347cf2c-9db4-401c-826e-00028614e550",
   "metadata": {},
   "outputs": [],
   "source": [
    "# excelwriter로 num_format : 0  지정 해줘야함\n",
    "# 그 전에 result['A1'] = result['A1'].astype('string')로 바꿔줘야함\n",
    "# int나 object 형식 X\n",
    "# only String만 가능\n",
    "result['A1'] = result['A1'].astype('string')"
   ]
  },
  {
   "cell_type": "code",
   "execution_count": 54,
   "id": "2a096ab9-df57-47db-b638-c8c72be71119",
   "metadata": {
    "tags": []
   },
   "outputs": [],
   "source": [
    "writer_2 = pd.ExcelWriter('DH_PNU_1.xlsx', engine= 'xlsxwriter') \n",
    "result['A1'].to_excel(writer_2, index=False, sheet_name= 'PNU')\n",
    "workbook_2 = writer_2.book \n",
    "worksheet_2 = writer_2.sheets['PNU']"
   ]
  },
  {
   "cell_type": "code",
   "execution_count": 55,
   "id": "b3b4d7f8-3a31-41e1-97e0-21fad802ebab",
   "metadata": {},
   "outputs": [],
   "source": [
    "# 간단한 숫자 형식 추가. \n",
    "fmt_number = workbook_2.add_format({ \n",
    "\"num_format\" : \"0\" \n",
    "})\n",
    "# 통화 형식 추가\n",
    "fmt_currency = workbook_2.add_format({ \n",
    "\"num_format\" : \"$#,##0.00\" ,\"bold\" :False \n",
    "})\n",
    "# 백분율 형식 추가. \n",
    "fmt_rate = workbook_2.add_format({ \n",
    "\"num_format\" : \"%0.0\" , \"bold\" : False \n",
    "})\n",
    "# 헤더 행에 대한 형식 추가. \n",
    "fmt_header = workbook_2.add_format({ \n",
    "'bold': True, \n",
    "'text_wrap': True, \n",
    "'valign': 'top', \n",
    "'fg_color': '#5DADE2', \n",
    "'font_color': '#FFFFFF', \n",
    "'border': 1 })\n",
    "# 텍스트 형식 추가.\n",
    "fmt_txt = workbook_2.add_format({ \n",
    "\"num_format\" : \"Text\" \n",
    "})\n",
    "#확대/축소 설정 \n",
    "#worksheet_2.set_zoom(80)"
   ]
  },
  {
   "cell_type": "code",
   "execution_count": 56,
   "id": "e13ccc7b-ab34-4652-a249-89c159fc9fbf",
   "metadata": {},
   "outputs": [
    {
     "data": {
      "text/plain": [
       "0"
      ]
     },
     "execution_count": 56,
     "metadata": {},
     "output_type": "execute_result"
    }
   ],
   "source": [
    "worksheet_2.set_column(\"A:A\", 20, fmt_number)\n",
    "worksheet_2.set_column(\"B:B\", 20, fmt_txt)"
   ]
  },
  {
   "cell_type": "code",
   "execution_count": 57,
   "id": "e42830bf-e99e-4ecc-a55d-042ff1dcf18f",
   "metadata": {},
   "outputs": [],
   "source": [
    "writer_2.save()"
   ]
  },
  {
   "cell_type": "code",
   "execution_count": 111,
   "id": "be7b545e-7341-4eda-a34c-d7fa3e9f9d29",
   "metadata": {},
   "outputs": [],
   "source": [
    "result.to_excel('PNU 매칭 결과.xlsx')"
   ]
  },
  {
   "cell_type": "code",
   "execution_count": 118,
   "id": "a2e86d4d-384c-4408-80d4-82c9199ff8ad",
   "metadata": {},
   "outputs": [],
   "source": [
    "result['PNU'].to_excel('TEST.xlsx')"
   ]
  },
  {
   "cell_type": "code",
   "execution_count": 114,
   "id": "2b93a327-0d7d-4214-9e02-dc2620e91bd2",
   "metadata": {},
   "outputs": [],
   "source": [
    "result.to_csv('PNU 매칭 결과.csv', encoding='EUC-KR')"
   ]
  },
  {
   "cell_type": "code",
   "execution_count": 68,
   "id": "41ff9d2c-a3e7-4f5c-a2c4-c07fd57b7357",
   "metadata": {},
   "outputs": [],
   "source": [
    "result2 = pd.merge(want_fill, origin, left_on='PNU', right_on='PNU', how='left')"
   ]
  },
  {
   "cell_type": "code",
   "execution_count": 90,
   "id": "d8d5c048-400d-4d09-b721-0216b776cec5",
   "metadata": {},
   "outputs": [
    {
     "data": {
      "text/plain": [
       "(51, 21)"
      ]
     },
     "execution_count": 90,
     "metadata": {},
     "output_type": "execute_result"
    }
   ],
   "source": [
    "result.shape"
   ]
  },
  {
   "cell_type": "code",
   "execution_count": 72,
   "id": "57c5298c-a3ab-472e-b8a3-4bb65d0e3a4e",
   "metadata": {},
   "outputs": [],
   "source": [
    "result2.to_excel('Matched_PNU_4.xlsx')"
   ]
  },
  {
   "cell_type": "code",
   "execution_count": 151,
   "id": "a9f8e545-81fa-4197-a565-67a7d0dd2f2e",
   "metadata": {},
   "outputs": [],
   "source": [
    "result.to_csv('TESTSES22.csv', encoding='EUC-KR')"
   ]
  },
  {
   "cell_type": "code",
   "execution_count": 153,
   "id": "e33d0329-c8c1-49bd-97ca-e22e238e4825",
   "metadata": {},
   "outputs": [],
   "source": [
    "test1 = result['PNU']"
   ]
  },
  {
   "cell_type": "code",
   "execution_count": 156,
   "id": "37537f53-f62a-46a7-ad35-079ce1a75316",
   "metadata": {},
   "outputs": [],
   "source": [
    "test1.to_excel('TEST1111.xlsx')"
   ]
  },
  {
   "cell_type": "code",
   "execution_count": 58,
   "id": "3c4d92ab-d139-47dd-8191-327ac3c647bc",
   "metadata": {},
   "outputs": [],
   "source": [
    "# excelwriter로 num_format : 0  지정 해줘야함\n",
    "# 그 전에 result['A1'] = result['A1'].astype('string')로 바꿔줘야함\n",
    "# int나 object 형식 X\n",
    "# only String만 가능\n",
    "result2['A1'] = result2['A1'].astype('string')"
   ]
  },
  {
   "cell_type": "code",
   "execution_count": 59,
   "id": "6b4c9074-47ea-469b-b357-d2a99e8aaf8e",
   "metadata": {
    "tags": []
   },
   "outputs": [],
   "source": [
    "writer_2 = pd.ExcelWriter('UJ_PNU_1.xlsx', engine= 'xlsxwriter') \n",
    "result2['A1'].to_excel(writer_2, index=False, sheet_name= 'PNU')\n",
    "workbook_2 = writer_2.book \n",
    "worksheet_2 = writer_2.sheets['PNU']"
   ]
  },
  {
   "cell_type": "code",
   "execution_count": 60,
   "id": "ab2dc560-be3d-4397-a652-66e75745dfe3",
   "metadata": {},
   "outputs": [],
   "source": [
    "# 간단한 숫자 형식 추가. \n",
    "fmt_number = workbook_2.add_format({ \n",
    "\"num_format\" : \"0\" \n",
    "})\n",
    "# 통화 형식 추가\n",
    "fmt_currency = workbook_2.add_format({ \n",
    "\"num_format\" : \"$#,##0.00\" ,\"bold\" :False \n",
    "})\n",
    "# 백분율 형식 추가. \n",
    "fmt_rate = workbook_2.add_format({ \n",
    "\"num_format\" : \"%0.0\" , \"bold\" : False \n",
    "})\n",
    "# 헤더 행에 대한 형식 추가. \n",
    "fmt_header = workbook_2.add_format({ \n",
    "'bold': True, \n",
    "'text_wrap': True, \n",
    "'valign': 'top', \n",
    "'fg_color': '#5DADE2', \n",
    "'font_color': '#FFFFFF', \n",
    "'border': 1 })\n",
    "# 텍스트 형식 추가.\n",
    "fmt_txt = workbook_2.add_format({ \n",
    "\"num_format\" : \"Text\" \n",
    "})\n",
    "#확대/축소 설정 \n",
    "#worksheet_2.set_zoom(80)"
   ]
  },
  {
   "cell_type": "code",
   "execution_count": 61,
   "id": "dfad825e-1861-43fb-84d8-f662e3818807",
   "metadata": {},
   "outputs": [
    {
     "data": {
      "text/plain": [
       "0"
      ]
     },
     "execution_count": 61,
     "metadata": {},
     "output_type": "execute_result"
    }
   ],
   "source": [
    "worksheet_2.set_column(\"A:A\", 20, fmt_number)\n",
    "worksheet_2.set_column(\"B:B\", 20, fmt_txt)"
   ]
  },
  {
   "cell_type": "code",
   "execution_count": 62,
   "id": "bd8d77c9-2137-4037-b857-ff1e6cc57650",
   "metadata": {},
   "outputs": [],
   "source": [
    "writer_2.save()"
   ]
  },
  {
   "cell_type": "code",
   "execution_count": null,
   "id": "787fefca-f1c6-458d-bfd4-ca9e5a728483",
   "metadata": {},
   "outputs": [],
   "source": []
  }
 ],
 "metadata": {
  "kernelspec": {
   "display_name": "Python 3.9.12 ('base')",
   "language": "python",
   "name": "python3"
  },
  "language_info": {
   "codemirror_mode": {
    "name": "ipython",
    "version": 3
   },
   "file_extension": ".py",
   "mimetype": "text/x-python",
   "name": "python",
   "nbconvert_exporter": "python",
   "pygments_lexer": "ipython3",
   "version": "3.9.12"
  },
  "vscode": {
   "interpreter": {
    "hash": "a077222d77dfe082b8f1dd562ad70e458ac2ab76993a0b248ab0476e32e9e8dd"
   }
  }
 },
 "nbformat": 4,
 "nbformat_minor": 5
}
