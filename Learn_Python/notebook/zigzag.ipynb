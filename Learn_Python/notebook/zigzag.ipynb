{
 "cells": [
  {
   "cell_type": "code",
   "execution_count": 20,
   "id": "01e24374-5130-4573-83d0-60443504252a",
   "metadata": {},
   "outputs": [],
   "source": [
    "s = 'PAYPALISHIRING'"
   ]
  },
  {
   "cell_type": "code",
   "execution_count": 21,
   "id": "32339cf6-8e48-4d00-aa2b-822a450a7245",
   "metadata": {},
   "outputs": [],
   "source": [
    "class Solution(object):\n",
    "    def convert(self, s, numRows):\n",
    "        if numRows == 1:\n",
    "            return s \n",
    "        n = len(s)\n",
    "        cycle = 2*numRows - 2\n",
    "        strlist = []\n",
    "        for i in range(numRows):\n",
    "            for j in range(i, n, cycle):\n",
    "                strlist.append(s[j])\n",
    "                if i != numRows-1 and i != 0 and j+cycle-2*i < n:\n",
    "                    strlist.append(s[j+cycle-2*i])             \n",
    "        newstr = ''.join(strlist)\n",
    "        return newstr"
   ]
  },
  {
   "cell_type": "code",
   "execution_count": 22,
   "id": "8cf16206-a84d-496e-893d-b0357d378345",
   "metadata": {},
   "outputs": [],
   "source": [
    "S = Solution()"
   ]
  },
  {
   "cell_type": "code",
   "execution_count": 24,
   "id": "371243b5-3266-4b28-9371-88fefe2039e0",
   "metadata": {},
   "outputs": [
    {
     "data": {
      "text/plain": [
       "'PHASIYIRPLIGAN'"
      ]
     },
     "execution_count": 24,
     "metadata": {},
     "output_type": "execute_result"
    }
   ],
   "source": [
    "S.convert(s, 5)"
   ]
  },
  {
   "cell_type": "code",
   "execution_count": null,
   "id": "272fd0a5-7685-486e-a82b-f6dd4ace6e6e",
   "metadata": {},
   "outputs": [],
   "source": []
  }
 ],
 "metadata": {
  "kernelspec": {
   "display_name": "Python 3 (ipykernel)",
   "language": "python",
   "name": "python3"
  },
  "language_info": {
   "codemirror_mode": {
    "name": "ipython",
    "version": 3
   },
   "file_extension": ".py",
   "mimetype": "text/x-python",
   "name": "python",
   "nbconvert_exporter": "python",
   "pygments_lexer": "ipython3",
   "version": "3.9.12"
  }
 },
 "nbformat": 4,
 "nbformat_minor": 5
}
