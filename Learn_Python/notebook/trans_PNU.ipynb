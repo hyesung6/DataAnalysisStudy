{
 "cells": [
  {
   "cell_type": "code",
   "execution_count": null,
   "id": "d8c8de40-8ddb-4c1b-8558-8cd8389c2683",
   "metadata": {},
   "outputs": [],
   "source": [
    "import pandas as pd"
   ]
  },
  {
   "cell_type": "code",
   "execution_count": null,
   "id": "76f98d17-db02-46a3-affd-b3694e358eb3",
   "metadata": {},
   "outputs": [],
   "source": [
    "data = pd.read_excel('Land_Info')"
   ]
  },
  {
   "cell_type": "code",
   "execution_count": null,
   "id": "5cc66ccd-de9f-4b31-8a1a-4137eeb516fe",
   "metadata": {},
   "outputs": [],
   "source": [
    "dong_code = pd.read_excel('PNU.xlsx', sheet_name='법정동코드')"
   ]
  },
  {
   "cell_type": "code",
   "execution_count": null,
   "id": "ef23494d-70b7-412c-8e78-a3b7f2d72d80",
   "metadata": {},
   "outputs": [],
   "source": [
    "data.head()"
   ]
  },
  {
   "cell_type": "code",
   "execution_count": null,
   "id": "ae071e90-afe2-4097-8858-f51f36735486",
   "metadata": {},
   "outputs": [],
   "source": [
    "data = data[['연번', '시군', '읍면', '리', '지번']]"
   ]
  },
  {
   "cell_type": "code",
   "execution_count": null,
   "id": "89f76364-6a41-41c2-93ee-9c6938eaac5c",
   "metadata": {},
   "outputs": [],
   "source": [
    "data = data[data['시군'] == '울진']"
   ]
  },
  {
   "cell_type": "code",
   "execution_count": null,
   "id": "23d73c69-319a-44ba-ad05-a62ad4f08a7f",
   "metadata": {},
   "outputs": [],
   "source": [
    "data['연번'] = data['연번'].astype('int64')"
   ]
  },
  {
   "cell_type": "code",
   "execution_count": null,
   "id": "9f9c854b-45c8-45be-a698-ec86b7227911",
   "metadata": {},
   "outputs": [],
   "source": [
    "data['읍면'].unique()"
   ]
  },
  {
   "cell_type": "code",
   "execution_count": null,
   "id": "316a0bb0-f6a6-4479-ac73-151a1934971d",
   "metadata": {},
   "outputs": [],
   "source": [
    "울진1 = data[data['읍면'] == '울진']\n",
    "\n",
    "울진.head(5)"
   ]
  },
  {
   "cell_type": "code",
   "execution_count": null,
   "id": "af8207af-85e3-44d7-9bdc-ba18abd9dd98",
   "metadata": {},
   "outputs": [],
   "source": [
    "print(f'울진 row count : {len(울진)}')"
   ]
  },
  {
   "cell_type": "code",
   "execution_count": null,
   "id": "398e9590-b243-49dc-b81b-1fe6c268c016",
   "metadata": {},
   "outputs": [],
   "source": [
    "print(울진['리'].unique())"
   ]
  },
  {
   "cell_type": "code",
   "execution_count": null,
   "id": "28f442dc-d467-4591-8ed0-608f8d16ef83",
   "metadata": {},
   "outputs": [],
   "source": [
    "울진_고성 = 울진[울진['리'] == '고성'].copy()\n",
    "울진_명도 = 울진[울진['리'] == '명도'].copy()\n",
    "울진_연지 = 울진[울진['리'] == '연지'].copy()"
   ]
  },
  {
   "cell_type": "markdown",
   "id": "5c744f98-aead-4789-ad74-e9978e0f1e86",
   "metadata": {},
   "source": [
    "---\n",
    "# 울진_울진_고성"
   ]
  },
  {
   "cell_type": "code",
   "execution_count": null,
   "id": "cec353b7-b00f-43d6-991a-6c7a9ea7c824",
   "metadata": {
    "tags": []
   },
   "outputs": [],
   "source": [
    "result = []\n",
    "for i in 울진_고성['지번']:\n",
    "    if i[0] == '산':\n",
    "        산여부 = '2'\n",
    "    else:\n",
    "        산여부 = '1'\n",
    "    \n",
    "    try:\n",
    "        a = i.split('-')\n",
    "        if a[0][0] == '산':\n",
    "            a[0] = a[0].replace('산', '')\n",
    "        else:\n",
    "            pass\n",
    "    \n",
    "        if a[0] == None:\n",
    "            a[0] == '0000'\n",
    "        elif len(a[0]) == 1:\n",
    "                a[0] = '000'+str(a[0])\n",
    "        elif len(a[0]) == 2:\n",
    "                a[0] = '00'+str(a[0])\n",
    "        elif len(a[0]) == 3:\n",
    "                a[0] = '0'+str(a[0])\n",
    "\n",
    "        if a[1] == None:\n",
    "            a[1] == '0000'\n",
    "        elif len(a[1]) == 1:\n",
    "            a[1] = '000'+str(a[1])\n",
    "        elif len(a[1]) == 2:\n",
    "            a[1] = '00'+str(a[1])\n",
    "        elif len(a[1]) == 3:\n",
    "            a[1] = '0'+str(a[1])\n",
    "        result.append(산여부+a[0]+a[1])\n",
    "        \n",
    "    except:\n",
    "        b = i\n",
    "        if b[0] == '산':\n",
    "            b = b.replace('산', '')\n",
    "        else :\n",
    "            pass\n",
    "        \n",
    "        if b == None:\n",
    "            b == '0000'\n",
    "        elif len(b) == 1:\n",
    "                b = '000'+str(b)\n",
    "        elif len(b) == 2:\n",
    "                b = '00'+str(b)\n",
    "        elif len(b) == 3:\n",
    "                b = '0'+str(b)\n",
    "        result.append(산여부+b+'0000')"
   ]
  },
  {
   "cell_type": "code",
   "execution_count": null,
   "id": "738b49c5-97bb-427e-8333-ecbb96ec950d",
   "metadata": {},
   "outputs": [],
   "source": [
    "울진_고성['PNU'] = result\n",
    "\n",
    "울진_고성['시군구코드'] = str(dong_code[\n",
    "                           (dong_code['시군구명'] == '울진군') & \n",
    "                           (dong_code['읍면동명'] == '울진읍') & \n",
    "                           (dong_code['동리명'] == '고성리')].법정동코드.values)[1:11]\n",
    "\n",
    "울진_고성['PNU_Final'] = 울진_고성['시군구코드'] + 울진_고성['PNU']\n",
    "\n",
    "울진_고성.drop(['PNU', '시군구코드'], inplace=True, axis=1)\n",
    "\n",
    "울진_고성.rename(columns={'PNU_Final':'PNU'}, inplace=True)\n",
    "\n",
    "울진_고성.to_excel('울진_고성_PNU.xlsx')"
   ]
  }
 ],
 "metadata": {
  "kernelspec": {
   "display_name": "Python 3 (ipykernel)",
   "language": "python",
   "name": "python3"
  },
  "language_info": {
   "codemirror_mode": {
    "name": "ipython",
    "version": 3
   },
   "file_extension": ".py",
   "mimetype": "text/x-python",
   "name": "python",
   "nbconvert_exporter": "python",
   "pygments_lexer": "ipython3",
   "version": "3.9.12"
  }
 },
 "nbformat": 4,
 "nbformat_minor": 5
}
