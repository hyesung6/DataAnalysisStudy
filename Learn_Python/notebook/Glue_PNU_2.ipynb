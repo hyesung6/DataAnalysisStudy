{
 "cells": [
  {
   "cell_type": "markdown",
   "id": "c59f5374-e88c-4553-afa2-ee27af6909fb",
   "metadata": {},
   "source": [
    "- 엑셀에 15자 이상 정수가 입력될 시에 지수로 변환되는 문제를 해결하기 위해 \n",
    "- df export 전에 엑셀의 사용자 지정 형식을 해당 컬럼에 지정하고, 그 컬럼에 값을 넣어줌\n",
    "- pd.excelwriter 사용하면 15자 초과시에도 제대로 정수로만 출력되는 것을 확인"
   ]
  },
  {
   "cell_type": "code",
   "execution_count": 116,
   "id": "c8a4a6f9-4b46-4bba-980f-0c97fd2288c2",
   "metadata": {},
   "outputs": [],
   "source": [
    "import pandas as pd\n",
    "db_D = pd.read_csv('db_D.csv', encoding='euc-kr')\n",
    "db_U = pd.read_csv('db_U.csv', encoding='euc-kr')\n",
    "origin = pd.read_csv('PNU.csv', encoding='euc-kr')"
   ]
  },
  {
   "cell_type": "code",
   "execution_count": null,
   "id": "905c2b83-4ee9-4c97-b260-50fcac05f63e",
   "metadata": {},
   "outputs": [],
   "source": [
    "print(db_D.shape)\n",
    "print(db_U.shape)\n",
    "print(origin.shape)"
   ]
  },
  {
   "cell_type": "code",
   "execution_count": null,
   "id": "ce094df5-4a40-49de-a860-4e7b8af18ba4",
   "metadata": {},
   "outputs": [],
   "source": [
    "print(db_D['A1'].dtypes)\n",
    "print(db_U['A1'].dtypes)\n",
    "print(origin['PNU'].dtypes)"
   ]
  },
  {
   "cell_type": "code",
   "execution_count": 123,
   "id": "b3a2820c-3a9c-405c-b346-7d0927419059",
   "metadata": {},
   "outputs": [],
   "source": [
    "result = pd.merge(db_D, origin, left_on='A1', right_on='PNU', how='left')"
   ]
  },
  {
   "cell_type": "code",
   "execution_count": null,
   "id": "81c5d763-89e7-497b-afa5-7e2dc60e5f95",
   "metadata": {},
   "outputs": [],
   "source": [
    "result.shape"
   ]
  },
  {
   "cell_type": "code",
   "execution_count": null,
   "id": "8e6d0fc8",
   "metadata": {},
   "outputs": [],
   "source": [
    "result = result.drop_duplicates(['A1'])\n",
    "result.info()"
   ]
  },
  {
   "cell_type": "code",
   "execution_count": 139,
   "id": "1a8a1cb9",
   "metadata": {},
   "outputs": [],
   "source": [
    "result.drop(['A0', 'A2', 'A3', 'A4', 'A5', 'A6', 'PNU'], inplace=True, axis=1)"
   ]
  },
  {
   "cell_type": "code",
   "execution_count": 126,
   "id": "433fccfd-7ea7-4866-990a-770772c6d349",
   "metadata": {},
   "outputs": [],
   "source": [
    "result2 = pd.merge(db_U, origin, left_on='A1', right_on='PNU', how='left')\n",
    "result2 = result2.drop_duplicates(['A1'])"
   ]
  },
  {
   "cell_type": "code",
   "execution_count": null,
   "id": "8b678785",
   "metadata": {},
   "outputs": [],
   "source": [
    "result2.drop(['A0', 'A2', 'A3', 'A4', 'A5', 'A6', 'PNU'], inplace=True, axis=1)"
   ]
  },
  {
   "cell_type": "code",
   "execution_count": null,
   "id": "90c5b8d8-a3b2-45f3-90cc-55a3e498d5fe",
   "metadata": {},
   "outputs": [],
   "source": [
    "result2.shape"
   ]
  },
  {
   "cell_type": "code",
   "execution_count": null,
   "id": "c5685340",
   "metadata": {},
   "outputs": [],
   "source": [
    "result2.info()"
   ]
  },
  {
   "cell_type": "code",
   "execution_count": null,
   "id": "bdd34917-6dab-4336-b561-6ce4f547fa2b",
   "metadata": {},
   "outputs": [],
   "source": [
    "display(result['A1'].head(5))\n",
    "display(result2['A1'].head(5))"
   ]
  },
  {
   "cell_type": "code",
   "execution_count": 129,
   "id": "e347cf2c-9db4-401c-826e-00028614e550",
   "metadata": {},
   "outputs": [],
   "source": [
    "# excelwriter로 num_format : 0  지정 해주면 지수 표시 안되는 사용자 형식으로 입력 가능\n",
    "# 그 전에 result['A1'] = result['A1'].astype('string')로 바꿔줘야함\n",
    "# int나 object 형식 X\n",
    "# only String만 가능\n",
    "result['A1'] = result['A1'].astype('string')"
   ]
  },
  {
   "cell_type": "code",
   "execution_count": 130,
   "id": "2a096ab9-df57-47db-b638-c8c72be71119",
   "metadata": {
    "tags": []
   },
   "outputs": [],
   "source": [
    "writer = pd.ExcelWriter('D_result.xlsx', engine= 'xlsxwriter') \n",
    "result.to_excel(writer, index=False, sheet_name= 'PNU')\n",
    "workbook = writer.book \n",
    "worksheet = writer.sheets['PNU']"
   ]
  },
  {
   "cell_type": "code",
   "execution_count": 131,
   "id": "b3b4d7f8-3a31-41e1-97e0-21fad802ebab",
   "metadata": {},
   "outputs": [],
   "source": [
    "# 간단한 숫자 형식 추가. \n",
    "fmt_number = workbook.add_format({ \n",
    "\"num_format\" : \"0\" \n",
    "})\n",
    "# 통화 형식 추가\n",
    "fmt_currency = workbook.add_format({ \n",
    "\"num_format\" : \"$#,##0.00\" ,\"bold\" :False \n",
    "})\n",
    "# 백분율 형식 추가. \n",
    "fmt_rate = workbook.add_format({ \n",
    "\"num_format\" : \"%0.0\" , \"bold\" : False \n",
    "})\n",
    "# 헤더 행에 대한 형식 추가. \n",
    "fmt_header = workbook.add_format({ \n",
    "'bold': True, \n",
    "'text_wrap': True, \n",
    "'valign': 'top', \n",
    "'fg_color': '#5DADE2', \n",
    "'font_color': '#FFFFFF', \n",
    "'border': 1 })\n",
    "# 텍스트 형식 추가.\n",
    "fmt_txt = workbook.add_format({ \n",
    "\"num_format\" : \"Text\" \n",
    "})\n",
    "#확대/축소 설정 \n",
    "#worksheet.set_zoom(80)"
   ]
  },
  {
   "cell_type": "code",
   "execution_count": 132,
   "id": "e13ccc7b-ab34-4652-a249-89c159fc9fbf",
   "metadata": {},
   "outputs": [
    {
     "data": {
      "text/plain": [
       "0"
      ]
     },
     "execution_count": 132,
     "metadata": {},
     "output_type": "execute_result"
    }
   ],
   "source": [
    "worksheet.set_column(\"A:A\", 20, fmt_number)\n",
    "worksheet.set_column(\"B:B\", 20, fmt_number)"
   ]
  },
  {
   "cell_type": "code",
   "execution_count": 133,
   "id": "e42830bf-e99e-4ecc-a55d-042ff1dcf18f",
   "metadata": {},
   "outputs": [],
   "source": [
    "writer.save()"
   ]
  },
  {
   "cell_type": "markdown",
   "id": "0e8662c7",
   "metadata": {},
   "source": [
    "---"
   ]
  },
  {
   "cell_type": "code",
   "execution_count": 134,
   "id": "d8381949",
   "metadata": {},
   "outputs": [],
   "source": [
    "# excelwriter로 num_format : 0  지정 해주면 지수 표시 안되는 사용자 형식으로 입력 가능\n",
    "# 그 전에 result['A1'] = result['A1'].astype('string')로 바꿔줘야함\n",
    "# int나 object 형식 X\n",
    "# only String만 가능\n",
    "result2['A1'] = result2['A1'].astype('string')"
   ]
  },
  {
   "cell_type": "code",
   "execution_count": 135,
   "id": "6cd3b64a",
   "metadata": {
    "tags": []
   },
   "outputs": [],
   "source": [
    "writer = pd.ExcelWriter('U_result.xlsx', engine= 'xlsxwriter') \n",
    "result2.to_excel(writer, index=False, sheet_name= 'PNU')\n",
    "workbook = writer.book \n",
    "worksheet = writer.sheets['PNU']"
   ]
  },
  {
   "cell_type": "code",
   "execution_count": 136,
   "id": "65f4945e",
   "metadata": {},
   "outputs": [],
   "source": [
    "# 간단한 숫자 형식 추가. \n",
    "fmt_number = workbook.add_format({ \n",
    "\"num_format\" : \"0\" \n",
    "})\n",
    "# 통화 형식 추가\n",
    "fmt_currency = workbook.add_format({ \n",
    "\"num_format\" : \"$#,##0.00\" ,\"bold\" :False \n",
    "})\n",
    "# 백분율 형식 추가. \n",
    "fmt_rate = workbook.add_format({ \n",
    "\"num_format\" : \"%0.0\" , \"bold\" : False \n",
    "})\n",
    "# 헤더 행에 대한 형식 추가. \n",
    "fmt_header = workbook.add_format({ \n",
    "'bold': True, \n",
    "'text_wrap': True, \n",
    "'valign': 'top', \n",
    "'fg_color': '#5DADE2', \n",
    "'font_color': '#FFFFFF', \n",
    "'border': 1 })\n",
    "# 텍스트 형식 추가.\n",
    "fmt_txt = workbook.add_format({ \n",
    "\"num_format\" : \"Text\" \n",
    "})\n",
    "#확대/축소 설정 \n",
    "#worksheet.set_zoom(80)"
   ]
  },
  {
   "cell_type": "code",
   "execution_count": 137,
   "id": "0ccd7195",
   "metadata": {},
   "outputs": [
    {
     "data": {
      "text/plain": [
       "0"
      ]
     },
     "execution_count": 137,
     "metadata": {},
     "output_type": "execute_result"
    }
   ],
   "source": [
    "worksheet.set_column(\"A:A\", 20, fmt_number)\n",
    "worksheet.set_column(\"B:B\", 20, fmt_txt)"
   ]
  },
  {
   "cell_type": "code",
   "execution_count": 138,
   "id": "8d18733a",
   "metadata": {},
   "outputs": [],
   "source": [
    "writer.save()"
   ]
  },
  {
   "cell_type": "code",
   "execution_count": null,
   "id": "7c3285cd",
   "metadata": {},
   "outputs": [],
   "source": [
    "!dir"
   ]
  },
  {
   "cell_type": "code",
   "execution_count": null,
   "id": "e7eb13a0",
   "metadata": {},
   "outputs": [],
   "source": []
  }
 ],
 "metadata": {
  "kernelspec": {
   "display_name": "Python 3 (ipykernel)",
   "language": "python",
   "name": "python3"
  },
  "language_info": {
   "codemirror_mode": {
    "name": "ipython",
    "version": 3
   },
   "file_extension": ".py",
   "mimetype": "text/x-python",
   "name": "python",
   "nbconvert_exporter": "python",
   "pygments_lexer": "ipython3",
   "version": "3.9.12"
  },
  "vscode": {
   "interpreter": {
    "hash": "a077222d77dfe082b8f1dd562ad70e458ac2ab76993a0b248ab0476e32e9e8dd"
   }
  }
 },
 "nbformat": 4,
 "nbformat_minor": 5
}
