{
 "cells": [
  {
   "cell_type": "code",
   "execution_count": 26,
   "id": "7fc6c284-3158-49a2-b4a0-ed2b437d03df",
   "metadata": {},
   "outputs": [],
   "source": [
    "import warnings\n",
    "warnings.simplefilter(action='ignore', category=FutureWarning)\n",
    "import pandas as pd\n",
    "import numpy as np \n",
    "import matplotlib.pyplot as plt \n",
    "import seaborn as sns\n",
    "%matplotlib inline"
   ]
  },
  {
   "cell_type": "code",
   "execution_count": 63,
   "id": "097f5d9c-738a-4bea-b535-d18f649a098c",
   "metadata": {},
   "outputs": [],
   "source": [
    "Miller = pd.read_excel('Spot_27_Graph.xlsx', sheet_name='27_Miller')\n",
    "LiCor = pd.read_excel('Spot_27_Graph.xlsx', sheet_name='27_LiCor')"
   ]
  },
  {
   "cell_type": "code",
   "execution_count": 69,
   "id": "b3fc7867-35f0-4f9f-88f0-dfff486f19f6",
   "metadata": {},
   "outputs": [],
   "source": [
    "fix_Miller = pd.read_excel('Spot_fix_Graph.xlsx', sheet_name='fix_Miller')\n",
    "fix_LiCor = pd.read_excel('Spot_fix_Graph.xlsx', sheet_name='fix_LiCor')"
   ]
  },
  {
   "cell_type": "code",
   "execution_count": 58,
   "id": "1f6a7148-580d-4699-bf04-25bd482665a7",
   "metadata": {},
   "outputs": [],
   "source": [
    "Miller_T = Miller.set_index('angle/month').T.iloc[:, [0, 2, 4, 6, 8, 10]]"
   ]
  },
  {
   "cell_type": "code",
   "execution_count": null,
   "id": "f9785992-8151-400a-bc03-07c7084f6a30",
   "metadata": {},
   "outputs": [],
   "source": [
    "plt.figure(figsize=(12,10))\n",
    "plt.plot(Miller_T.iloc[:, 0], linestyle='-.', marker='^', color='b')\n",
    "plt.plot(Miller_T.iloc[:, 1], linestyle='--', marker='o', color='r')\n",
    "plt.plot(Miller_T.iloc[:, 2], linestyle='-', marker='s', color='g')\n",
    "plt.plot(Miller_T.iloc[:, 3], linestyle='-.', marker='^', color='pink')\n",
    "plt.plot(Miller_T.iloc[:, 4], linestyle='--', marker='o', color='orange')\n",
    "plt.plot(Miller_T.iloc[:, 5], linestyle='-', marker='s', color='purple')\n",
    "plt.ylabel('LAI')\n",
    "plt.xlabel('Month')\n",
    "plt.title('Miller_LAI')\n",
    "plt.legend(Miller_T.columns)"
   ]
  },
  {
   "cell_type": "code",
   "execution_count": 64,
   "id": "ba9e72fa-d527-4abd-a67f-b45c154b4bce",
   "metadata": {},
   "outputs": [],
   "source": [
    "LiCor_T = LiCor.set_index('angle/month').T.iloc[:, [0, 2, 4, 6, 8, 10]]"
   ]
  },
  {
   "cell_type": "code",
   "execution_count": null,
   "id": "8455d71f-ccc3-40e2-8576-8f3e8c6ed592",
   "metadata": {},
   "outputs": [],
   "source": [
    "plt.figure(figsize=(12,10))\n",
    "plt.plot(LiCor_T.iloc[:, 0], linestyle='-.', marker='^', color='b')\n",
    "plt.plot(LiCor_T.iloc[:, 1], linestyle='--', marker='o', color='r')\n",
    "plt.plot(LiCor_T.iloc[:, 2], linestyle='-', marker='s', color='g')\n",
    "plt.plot(LiCor_T.iloc[:, 3], linestyle='-.', marker='^', color='pink')\n",
    "plt.plot(LiCor_T.iloc[:, 4], linestyle='--', marker='o', color='orange')\n",
    "plt.plot(LiCor_T.iloc[:, 5], linestyle='-', marker='s', color='purple')\n",
    "plt.ylabel('LAI')\n",
    "plt.xlabel('Month')\n",
    "plt.title('LiCor_LAI')\n",
    "plt.legend(LiCor_T.columns, title='Zenith Angle')"
   ]
  },
  {
   "cell_type": "code",
   "execution_count": 94,
   "id": "f47b3e24-7739-49d1-a859-6a27cbdc3ba5",
   "metadata": {},
   "outputs": [],
   "source": [
    "fix_Miller_T_30 = fix_Miller.set_index('angle/month').T.iloc[:, [6]]\n",
    "fix_LiCor_T_30 = fix_LiCor.set_index('angle/month').T.iloc[:, [6]]\n",
    "Miller_T_30 = Miller_T.iloc[:, 3]\n",
    "LiCor_T_30 = LiCor_T.iloc[:, 3]"
   ]
  },
  {
   "cell_type": "code",
   "execution_count": null,
   "id": "b33750d2-e1e0-4954-8ae3-33eb71411582",
   "metadata": {},
   "outputs": [],
   "source": [
    "plt.figure(figsize=(12,10))\n",
    "plt.plot(fix_Miller_T_30, linestyle='-.', marker='^', color='b')\n",
    "plt.plot(Miller_T_30, linestyle='--', marker='o', color='r')\n",
    "plt.ylabel('LAI')\n",
    "plt.xlabel('Month')\n",
    "plt.title('LiCor_LAI')\n",
    "plt.legend(['fix_Miller', 'Miller'], title='Zenith Angle : 30')"
   ]
  },
  {
   "cell_type": "code",
   "execution_count": null,
   "id": "4d3356fe-ac61-4fa3-ba2f-4386131fb927",
   "metadata": {},
   "outputs": [],
   "source": [
    "plt.figure(figsize=(12,10))\n",
    "plt.plot(fix_LiCor_T_30, linestyle='-.', marker='^', color='b')\n",
    "plt.plot(LiCor_T_30, linestyle='--', marker='o', color='r')\n",
    "plt.ylabel('LAI')\n",
    "plt.xlabel('Month')\n",
    "plt.title('LiCor_LAI')\n",
    "plt.legend(['fix_LiCor', 'LiCor'], title='Zenith Angle : 30')\n",
    "plt.grid(True, axis='y', linestyle='-.')\n",
    "plt.yticks(np.linspace(0, 6, 11))"
   ]
  },
  {
   "cell_type": "code",
   "execution_count": null,
   "id": "e6cbeb2c-8d5d-417b-8a4f-9f4fba62e58c",
   "metadata": {},
   "outputs": [],
   "source": []
  }
 ],
 "metadata": {
  "kernelspec": {
   "display_name": "Python 3.9.12 ('base')",
   "language": "python",
   "name": "python3"
  },
  "language_info": {
   "codemirror_mode": {
    "name": "ipython",
    "version": 3
   },
   "file_extension": ".py",
   "mimetype": "text/x-python",
   "name": "python",
   "nbconvert_exporter": "python",
   "pygments_lexer": "ipython3",
   "version": "3.9.12"
  },
  "vscode": {
   "interpreter": {
    "hash": "a077222d77dfe082b8f1dd562ad70e458ac2ab76993a0b248ab0476e32e9e8dd"
   }
  }
 },
 "nbformat": 4,
 "nbformat_minor": 5
}
