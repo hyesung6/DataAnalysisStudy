{
 "cells": [
  {
   "cell_type": "code",
   "execution_count": null,
   "id": "7fc6c284-3158-49a2-b4a0-ed2b437d03df",
   "metadata": {},
   "outputs": [],
   "source": [
    "import warnings\n",
    "warnings.simplefilter(action='ignore', category=FutureWarning)\n",
    "import pandas as pd\n",
    "import numpy as np \n",
    "import matplotlib.pyplot as plt \n",
    "import seaborn as sns\n",
    "%matplotlib inline"
   ]
  },
  {
   "cell_type": "code",
   "execution_count": null,
   "id": "097f5d9c-738a-4bea-b535-d18f649a098c",
   "metadata": {},
   "outputs": [],
   "source": [
    "Miller = pd.read_excel('Spot_27_Graph.xlsx', sheet_name='27_Miller')\n",
    "LiCor = pd.read_excel('Spot_27_Graph.xlsx', sheet_name='27_LiCor')"
   ]
  },
  {
   "cell_type": "code",
   "execution_count": null,
   "id": "b3fc7867-35f0-4f9f-88f0-dfff486f19f6",
   "metadata": {},
   "outputs": [],
   "source": [
    "fix_Miller = pd.read_excel('Spot_fix_Graph.xlsx', sheet_name='fix_Miller')\n",
    "fix_LiCor = pd.read_excel('Spot_fix_Graph.xlsx', sheet_name='fix_LiCor')"
   ]
  },
  {
   "cell_type": "code",
   "execution_count": null,
   "id": "897ab5e5-9bf2-415b-9132-e15693b0b4c9",
   "metadata": {},
   "outputs": [],
   "source": [
    "Miller_T = Miller.set_index('angle/month').T.iloc[:, [0, 2, 4, 6, 8, 10]]\n",
    "LiCor_T = LiCor.set_index('angle/month').T.iloc[:, [0, 2, 4, 6, 8, 10]]"
   ]
  },
  {
   "cell_type": "code",
   "execution_count": null,
   "id": "95f295c0-85d3-47a0-8aca-80b085c3bb30",
   "metadata": {},
   "outputs": [],
   "source": [
    "fix_Miller_T = fix_Miller.set_index('angle/month').T.iloc[:, [0, 2, 4, 6, 8, 10]]\n",
    "fix_LiCor_T = fix_LiCor.set_index('angle/month').T.iloc[:, [0, 2, 4, 6, 8, 10]]"
   ]
  },
  {
   "cell_type": "code",
   "execution_count": null,
   "id": "f47b3e24-7739-49d1-a859-6a27cbdc3ba5",
   "metadata": {},
   "outputs": [],
   "source": [
    "fix_Miller_T_30 = fix_Miller.set_index('angle/month').T.iloc[:, [6]]\n",
    "fix_LiCor_T_30 = fix_LiCor.set_index('angle/month').T.iloc[:, [6]]\n",
    "Miller_T_30 = Miller_T.iloc[:, 3]\n",
    "LiCor_T_30 = LiCor_T.iloc[:, 3]"
   ]
  },
  {
   "cell_type": "markdown",
   "id": "28354101-1a04-43a0-bb3b-3fd89b2c7a79",
   "metadata": {
    "tags": []
   },
   "source": [
    "---\n",
    "# LAI of Spot 27\n",
    "## Miller / All angle"
   ]
  },
  {
   "cell_type": "code",
   "execution_count": null,
   "id": "f9785992-8151-400a-bc03-07c7084f6a30",
   "metadata": {},
   "outputs": [],
   "source": [
    "plt.figure(figsize=(13,11), facecolor='white', dpi=250)\n",
    "plt.plot(Miller_T.iloc[:, 0], linestyle='-.', marker='^', color='b')\n",
    "plt.plot(Miller_T.iloc[:, 1], linestyle='--', marker='o', color='r')\n",
    "plt.plot(Miller_T.iloc[:, 2], linestyle='-', marker='s', color='g')\n",
    "plt.plot(Miller_T.iloc[:, 3], linestyle='-.', marker='^', color='pink')\n",
    "plt.plot(Miller_T.iloc[:, 4], linestyle='--', marker='o', color='orange')\n",
    "plt.plot(Miller_T.iloc[:, 5], linestyle='-', marker='s', color='purple')\n",
    "plt.ylabel('LAI', fontsize= 27)\n",
    "plt.xlabel('Month', fontsize= 27)\n",
    "#plt.title('Miller LAI of Spot 27', fontsize= 33)\n",
    "plt.legend(Miller_T.columns, title='zenith angle', fontsize=21).get_title().set_fontsize(21)\n",
    "plt.grid(True, axis='y', linestyle='-.', )\n",
    "plt.yticks(np.linspace(0, 6, 11), fontsize=20)\n",
    "plt.xticks(range(4, 11), fontsize=20)\n",
    "plt.tight_layout()\n",
    "\n",
    "plt.savefig('./Graph_png/Miller_LAI.png', dpi=250)"
   ]
  },
  {
   "cell_type": "markdown",
   "id": "e4d52551-a6c2-46ad-aa6a-cd55254b4879",
   "metadata": {},
   "source": [
    "---\n",
    "## LiCor / All angle"
   ]
  },
  {
   "cell_type": "code",
   "execution_count": null,
   "id": "8455d71f-ccc3-40e2-8576-8f3e8c6ed592",
   "metadata": {},
   "outputs": [],
   "source": [
    "plt.figure(figsize=(13,11), facecolor='white', dpi=250)\n",
    "plt.plot(LiCor_T.iloc[:, 0], linestyle='-.', marker='^', color='b')\n",
    "plt.plot(LiCor_T.iloc[:, 1], linestyle='--', marker='o', color='r')\n",
    "plt.plot(LiCor_T.iloc[:, 2], linestyle='-', marker='s', color='g')\n",
    "plt.plot(LiCor_T.iloc[:, 3], linestyle='-.', marker='^', color='pink')\n",
    "plt.plot(LiCor_T.iloc[:, 4], linestyle='--', marker='o', color='orange')\n",
    "plt.plot(LiCor_T.iloc[:, 5], linestyle='-', marker='s', color='purple')\n",
    "plt.ylabel('LAI', fontsize=27)\n",
    "plt.xlabel('Month', fontsize= 27)\n",
    "#plt.title('LiCor LAI of Spot 27', fontsize=33)\n",
    "plt.legend(LiCor_T.columns, title='zenith angle', fontsize=21).get_title().set_fontsize(21)\n",
    "plt.grid(True, axis='y', linestyle='-.')\n",
    "plt.yticks(np.linspace(0, 6, 11), fontsize=20)\n",
    "plt.xticks(range(4, 11), fontsize=20)\n",
    "plt.tight_layout()\n",
    "\n",
    "plt.savefig('./Graph_png/LiCor_LAI.png', dpi=250)"
   ]
  },
  {
   "cell_type": "markdown",
   "id": "06978eff-b297-459e-8e84-64cc3a202200",
   "metadata": {},
   "source": [
    "---\n",
    "# Compare of fixed and spot 27\n",
    "## Miller / Angle 30"
   ]
  },
  {
   "cell_type": "code",
   "execution_count": null,
   "id": "b33750d2-e1e0-4954-8ae3-33eb71411582",
   "metadata": {},
   "outputs": [],
   "source": [
    "plt.figure(figsize=(13,11), facecolor='white', dpi=250)\n",
    "plt.plot(fix_Miller_T_30, linestyle='-.', marker='^', color='b')\n",
    "plt.plot(Miller_T_30, linestyle='--', marker='o', color='r')\n",
    "plt.ylabel('LAI', fontsize=27)\n",
    "plt.xlabel('Month', fontsize=27)\n",
    "#plt.title('comparsion of fixed fish lens and spot 27', fontsize=33)\n",
    "plt.legend(['fixed fish lens', 'spot 27'], title='zenith angle: 30degree', fontsize=21).get_title().set_fontsize(21)\n",
    "plt.grid(True, axis='y', linestyle='-.')\n",
    "plt.yticks(np.linspace(0, 6, 11), fontsize=20)\n",
    "plt.xticks(range(4, 11), fontsize=20)\n",
    "plt.tight_layout()\n",
    "\n",
    "plt.savefig('./Graph_png/comparsion_fixed_and_spot27_Miller_30.png', dpi=250)"
   ]
  },
  {
   "cell_type": "markdown",
   "id": "485fcd32-ef2f-4f52-b0ae-3104609bf2c7",
   "metadata": {},
   "source": [
    "---\n",
    "## LiCor / Angle 30"
   ]
  },
  {
   "cell_type": "code",
   "execution_count": null,
   "id": "4d3356fe-ac61-4fa3-ba2f-4386131fb927",
   "metadata": {},
   "outputs": [],
   "source": [
    "plt.figure(figsize=(13,11), facecolor='white', dpi=250)\n",
    "plt.plot(fix_LiCor_T_30, linestyle='-.', marker='^', color='b')\n",
    "plt.plot(LiCor_T_30, linestyle='--', marker='o', color='r')\n",
    "plt.ylabel('LAI', fontsize=27)\n",
    "plt.xlabel('Month', fontsize=27)\n",
    "#plt.title('comparsion of fixed fish lens and spot 27', fontsize=33)\n",
    "plt.legend(['fixed fish lens', 'spot 27'], title='zenith angle: 30degree', fontsize=21).get_title().set_fontsize(21)\n",
    "plt.grid(True, axis='y', linestyle='-.')\n",
    "plt.yticks(np.linspace(0, 6, 11), fontsize=20)\n",
    "plt.xticks(range(4, 11), fontsize=20)\n",
    "plt.tight_layout()\n",
    "\n",
    "plt.savefig('./Graph_png/comparsion_fixed_and_spot27_LiCor_30.png', dpi=250)"
   ]
  },
  {
   "cell_type": "markdown",
   "id": "3ab391b6-af66-40c4-9994-aa104ab0c09c",
   "metadata": {},
   "source": [
    "---\n",
    "# LAI of Fixed fish lens\n",
    "## Miller / All angle"
   ]
  },
  {
   "cell_type": "code",
   "execution_count": null,
   "id": "e6cbeb2c-8d5d-417b-8a4f-9f4fba62e58c",
   "metadata": {},
   "outputs": [],
   "source": [
    "plt.figure(figsize=(13,11), facecolor='white', dpi=250)\n",
    "plt.plot(fix_Miller_T.iloc[:, 0], linestyle='-.', marker='^', color='b')\n",
    "plt.plot(fix_Miller_T.iloc[:, 1], linestyle='--', marker='o', color='r')\n",
    "plt.plot(fix_Miller_T.iloc[:, 2], linestyle='-', marker='s', color='g')\n",
    "plt.plot(fix_Miller_T.iloc[:, 3], linestyle='-.', marker='^', color='pink')\n",
    "plt.plot(fix_Miller_T.iloc[:, 4], linestyle='--', marker='o', color='orange')\n",
    "plt.plot(fix_Miller_T.iloc[:, 5], linestyle='-', marker='s', color='purple')\n",
    "plt.ylabel('LAI', fontsize=27)\n",
    "plt.xlabel('Month', fontsize=27)\n",
    "#plt.title('Miller LAI of Fixed Fish Lens', fontsize=33)\n",
    "plt.legend(fix_Miller_T.columns, title='zenith angle', fontsize=21).get_title().set_fontsize(21)\n",
    "plt.grid(True, axis='y', linestyle='-.')\n",
    "plt.yticks(np.linspace(0, 6, 11), fontsize=20)\n",
    "plt.xticks(range(4, 11), fontsize=20)\n",
    "plt.tight_layout()\n",
    "\n",
    "plt.savefig('./Graph_png/fix_Miller_LAI.png', dpi=250)"
   ]
  },
  {
   "cell_type": "markdown",
   "id": "907c983a-8248-4979-b91a-92e48ccb7cf5",
   "metadata": {},
   "source": [
    "---\n",
    "## LiCor / Angle"
   ]
  },
  {
   "cell_type": "code",
   "execution_count": null,
   "id": "09794565-ab5a-4d01-afbc-d6a5e8fcff88",
   "metadata": {},
   "outputs": [],
   "source": [
    "plt.figure(figsize=(13,11), facecolor='white', dpi=250)\n",
    "plt.plot(fix_LiCor_T.iloc[:, 0], linestyle='-.', marker='^', color='b')\n",
    "plt.plot(fix_LiCor_T.iloc[:, 1], linestyle='--', marker='o', color='r')\n",
    "plt.plot(fix_LiCor_T.iloc[:, 2], linestyle='-', marker='s', color='g')\n",
    "plt.plot(fix_LiCor_T.iloc[:, 3], linestyle='-.', marker='^', color='pink')\n",
    "plt.plot(fix_LiCor_T.iloc[:, 4], linestyle='--', marker='o', color='orange')\n",
    "plt.plot(fix_LiCor_T.iloc[:, 5], linestyle='-', marker='s', color='purple')\n",
    "plt.ylabel('LAI', fontsize=27)\n",
    "plt.xlabel('Month', fontsize=27)\n",
    "#plt.title('LiCor LAI of Fixed Fish Lens', fontsize=33)\n",
    "plt.legend(fix_LiCor_T.columns, title='zenith angle', fontsize=21).get_title().set_fontsize(21)\n",
    "plt.grid(True, axis='y', linestyle='-.')\n",
    "plt.yticks(np.linspace(0, 6, 11), fontsize=20)\n",
    "plt.xticks(range(4, 11), fontsize=20)\n",
    "plt.tight_layout()\n",
    "\n",
    "plt.savefig('./Graph_png/fix_LiCor_LAI.png', dpi=250)"
   ]
  }
 ],
 "metadata": {
  "kernelspec": {
   "display_name": "Python 3 (ipykernel)",
   "language": "python",
   "name": "python3"
  },
  "language_info": {
   "codemirror_mode": {
    "name": "ipython",
    "version": 3
   },
   "file_extension": ".py",
   "mimetype": "text/x-python",
   "name": "python",
   "nbconvert_exporter": "python",
   "pygments_lexer": "ipython3",
   "version": "3.9.12"
  },
  "toc-autonumbering": true,
  "toc-showcode": false,
  "toc-showmarkdowntxt": false,
  "toc-showtags": false,
  "vscode": {
   "interpreter": {
    "hash": "a077222d77dfe082b8f1dd562ad70e458ac2ab76993a0b248ab0476e32e9e8dd"
   }
  }
 },
 "nbformat": 4,
 "nbformat_minor": 5
}
