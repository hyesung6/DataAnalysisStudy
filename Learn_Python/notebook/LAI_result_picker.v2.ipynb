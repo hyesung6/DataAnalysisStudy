{
 "cells": [
  {
   "cell_type": "markdown",
   "id": "c70405c7-b60e-47d9-84c7-d265c8f227b1",
   "metadata": {},
   "source": [
    "# Library import"
   ]
  },
  {
   "cell_type": "code",
   "execution_count": 38,
   "id": "52fe532c-2c2a-4872-9af6-e80782eabe64",
   "metadata": {},
   "outputs": [],
   "source": [
    "import pandas as pd\n",
    "import re\n",
    "import os"
   ]
  },
  {
   "cell_type": "markdown",
   "id": "c70d6214-7c75-497b-a88e-82052a30bf37",
   "metadata": {},
   "source": [
    "# 추출 함수 생성"
   ]
  },
  {
   "cell_type": "code",
   "execution_count": 39,
   "id": "46c37cbb-5e90-457c-8853-ebbdf8c2ff69",
   "metadata": {
    "tags": []
   },
   "outputs": [],
   "source": [
    "def get_LAI(LAI:list):\n",
    "    lai = []\n",
    "    p = re.compile('\\t.{5}')\n",
    "    p1 = [p.findall(i) for i in LAI]\n",
    "    for q in p1:\n",
    "        for i, j in enumerate(q):\n",
    "            if i == 3:\n",
    "                j = str(j)\n",
    "                j.replace('\\t', '')\n",
    "                j = j.strip()\n",
    "                lai.append(j)\n",
    "    return lai"
   ]
  },
  {
   "cell_type": "code",
   "execution_count": 40,
   "id": "bf5a95af-7a69-4e8a-a696-98351d7b4d43",
   "metadata": {},
   "outputs": [],
   "source": [
    "def get_angle(ANGLE:list):\n",
    "    angle = []\n",
    "    p = re.compile('\\t.*')\n",
    "    p1 = [p.findall(i) for i in ANGLE]\n",
    "    for q in p1:\n",
    "        q = str(q).replace('\\t', '').split('\\\\t')\n",
    "        angle.append(int(q[1]) * 5)\n",
    "    return angle"
   ]
  },
  {
   "cell_type": "markdown",
   "id": "71b735fe-3197-4bc8-a932-cd8025331a44",
   "metadata": {},
   "source": [
    "# 폴더 별로 수행할 경우"
   ]
  },
  {
   "cell_type": "code",
   "execution_count": null,
   "id": "30a4d964-9937-41d9-80b3-8cabb71ab490",
   "metadata": {},
   "outputs": [],
   "source": [
    "# 폴더마다 path 변수 수정 바람\n",
    "path = \"path here\"\n",
    "file_list = os.listdir(path)\n",
    "dat_list = []\n",
    "\n",
    "for file in file_list:\n",
    "    if '.ipynb' in file:\n",
    "        del file\n",
    "        pass\n",
    "    elif 'checkpoint' in file:\n",
    "        del file\n",
    "        pass\n",
    "    elif '.xlsx' in file:\n",
    "        del file\n",
    "        pass\n",
    "    elif '.dat' in file:\n",
    "        dat_path = path + '/' + file\n",
    "        dat_list.append(dat_path)\n",
    "    else: \n",
    "        del file\n",
    "        pass\n",
    "print(dat_list)"
   ]
  },
  {
   "cell_type": "markdown",
   "id": "9e089af0-144b-4e70-a9ec-6897576b65ea",
   "metadata": {},
   "source": [
    "## 각 파일 엑셀 하나씩 내보내기"
   ]
  },
  {
   "cell_type": "code",
   "execution_count": 67,
   "id": "543ed10b-0fdd-401a-ae74-77136e515936",
   "metadata": {
    "tags": []
   },
   "outputs": [],
   "source": [
    "for file in dat_list:\n",
    "    f = open(file, 'r', encoding='utf-8')\n",
    "\n",
    "    Miller_LAI = []\n",
    "    LiCor_LAI = []\n",
    "    Angle = []\n",
    "    \n",
    "    for i, j in enumerate(f):\n",
    "        if 'rings' in j:\n",
    "            Angle.append(j)\n",
    "        elif 'Miller' in j:\n",
    "            Miller_LAI.append(j)\n",
    "        elif 'LiCor' in j:\n",
    "            LiCor_LAI.append(j)\n",
    "            \n",
    "    f.close()\n",
    "\n",
    "    Miller_list = get_LAI(Miller_LAI)\n",
    "    LiCor_list = get_LAI(LiCor_LAI)\n",
    "    angle_list = get_angle(Angle)\n",
    "    \n",
    "    df = pd.DataFrame({'angle':angle_list,\n",
    "                       'Miller':Miller_list,\n",
    "                       'LiCor':LiCor_list})\n",
    "    \n",
    "    df.to_excel(file+'.result.xlsx', index=False) "
   ]
  },
  {
   "cell_type": "markdown",
   "id": "91f42226-79ed-4bc4-8f90-b1153e113ebb",
   "metadata": {},
   "source": [
    "## 엑셀 파일 하나, 여러 시트에 내보내기"
   ]
  },
  {
   "cell_type": "code",
   "execution_count": 67,
   "id": "ce09d8c9-8de7-49b4-ae9b-a9898ff9727a",
   "metadata": {
    "tags": []
   },
   "outputs": [],
   "source": [
    "for file in dat_list:\n",
    "    f = open(file, 'r', encoding='utf-8')\n",
    "\n",
    "    Miller_LAI = []\n",
    "    LiCor_LAI = []\n",
    "    Angle = []\n",
    "    \n",
    "    for i, j in enumerate(f):\n",
    "        if 'rings' in j:\n",
    "            Angle.append(j)\n",
    "        elif 'Miller' in j:\n",
    "            Miller_LAI.append(j)\n",
    "        elif 'LiCor' in j:\n",
    "            LiCor_LAI.append(j)\n",
    "        elif 'picture' in j:\n",
    "            picture_name = j\n",
    "    f.close()\n",
    "\n",
    "    Miller_list = get_LAI(Miller_LAI)\n",
    "    LiCor_list = get_LAI(LiCor_LAI)\n",
    "    angle_list = get_angle(Angle)\n",
    "    \n",
    "    df = pd.DataFrame({'angle':angle_list,\n",
    "                       'Miller':Miller_list,\n",
    "                       'LiCor':LiCor_list})\n",
    "    \n",
    "    if not os.path.exists(f'{path}/LAI_result.xlsx'):\n",
    "        with pd.ExcelWriter(f'{path}/LAI_result.xlsx', mode='w', engine='openpyxl') as writer:\n",
    "            df.to_excel(writer, sheet_name=picture_name, index=False)\n",
    "    else:\n",
    "        with pd.ExcelWriter(f'{path}/LAI_result.xlsx', mode='a', engine='openpyxl') as writer:\n",
    "            df.to_excel(writer, sheet_name=picture_name, index=False)"
   ]
  },
  {
   "cell_type": "markdown",
   "id": "92500bbe-ba30-47fa-99da-d64f4140a31a",
   "metadata": {},
   "source": [
    "# 파일 하나씩 수행할 경우"
   ]
  },
  {
   "cell_type": "code",
   "execution_count": 28,
   "id": "a3bbf017-4e22-4293-8a0c-6ec079ccc62e",
   "metadata": {},
   "outputs": [],
   "source": [
    "# 파일/경로 수정하고 하기 코드 실행\n",
    "file = 'path here'"
   ]
  },
  {
   "cell_type": "code",
   "execution_count": 29,
   "id": "b828221d-6adf-4aaf-b5cf-564fb65f7042",
   "metadata": {
    "tags": []
   },
   "outputs": [],
   "source": [
    "f = open(file, 'r', encoding='utf-8')\n",
    "\n",
    "Miller_LAI = []\n",
    "LiCor_LAI = []\n",
    "Angle = []\n",
    "\n",
    "for i, j in enumerate(f):\n",
    "    if 'rings' in j:\n",
    "        Angle.append(j)\n",
    "    elif 'Miller' in j:\n",
    "        Miller_LAI.append(j)\n",
    "    elif 'LiCor' in j:\n",
    "        LiCor_LAI.append(j)\n",
    "        \n",
    "f.close()\n",
    "\n",
    "Miller_list = get_LAI(Miller_LAI)\n",
    "LiCor_list = get_LAI(LiCor_LAI)\n",
    "angle_list = get_angle(Angle)\n",
    "\n",
    "df = pd.DataFrame({'angle':angle_list,\n",
    "                   'Miller':Miller_list,\n",
    "                   'LiCor':LiCor_list})\n",
    "df.to_excel(file+'.result.xlsx', index=False)"
   ]
  },
  {
   "cell_type": "code",
   "execution_count": null,
   "id": "51c6c40b-82b4-4d85-9d46-36e3884398c2",
   "metadata": {},
   "outputs": [],
   "source": []
  }
 ],
 "metadata": {
  "kernelspec": {
   "display_name": "Python 3 (ipykernel)",
   "language": "python",
   "name": "python3"
  },
  "language_info": {
   "codemirror_mode": {
    "name": "ipython",
    "version": 3
   },
   "file_extension": ".py",
   "mimetype": "text/x-python",
   "name": "python",
   "nbconvert_exporter": "python",
   "pygments_lexer": "ipython3",
   "version": "3.9.12"
  },
  "toc-autonumbering": true
 },
 "nbformat": 4,
 "nbformat_minor": 5
}
