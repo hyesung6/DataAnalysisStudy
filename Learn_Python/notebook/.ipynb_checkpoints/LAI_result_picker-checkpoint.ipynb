{
 "cells": [
  {
   "cell_type": "code",
   "execution_count": 141,
   "id": "52fe532c-2c2a-4872-9af6-e80782eabe64",
   "metadata": {},
   "outputs": [],
   "source": [
    "import pandas as pd\n",
    "import re"
   ]
  },
  {
   "cell_type": "code",
   "execution_count": 142,
   "id": "46c37cbb-5e90-457c-8853-ebbdf8c2ff69",
   "metadata": {
    "tags": []
   },
   "outputs": [],
   "source": [
    "def get_LAI(LAI:list):\n",
    "    lai = []\n",
    "    p = re.compile('\\t.{5}')\n",
    "    p1 = [p.findall(i) for i in LAI]\n",
    "    for q in p1:\n",
    "        for i, j in enumerate(q):\n",
    "            if i == 3:\n",
    "                j = str(j)\n",
    "                j.replace('\\t', '')\n",
    "                j = j.strip()\n",
    "                lai.append(j)\n",
    "    return lai"
   ]
  },
  {
   "cell_type": "code",
   "execution_count": 143,
   "id": "bf5a95af-7a69-4e8a-a696-98351d7b4d43",
   "metadata": {},
   "outputs": [],
   "source": [
    "def get_angle(ANGLE:list):\n",
    "    angle = []\n",
    "    p = re.compile('\\t.*')\n",
    "    p1 = [p.findall(i) for i in ANGLE]\n",
    "    for q in p1:\n",
    "        q = str(q).replace('\\t', '').split('\\\\t')\n",
    "        angle.append(int(q[1]) * 5)\n",
    "    return angle"
   ]
  },
  {
   "cell_type": "code",
   "execution_count": 154,
   "id": "a3bbf017-4e22-4293-8a0c-6ec079ccc62e",
   "metadata": {},
   "outputs": [],
   "source": [
    "# 파일/경로 수정하면서 사용\n",
    "file = '10.19/10.19/ICT1019A_2_Raw_wd.dat'"
   ]
  },
  {
   "cell_type": "code",
   "execution_count": 155,
   "id": "b828221d-6adf-4aaf-b5cf-564fb65f7042",
   "metadata": {
    "tags": []
   },
   "outputs": [],
   "source": [
    "f = open(file, 'r', encoding='utf-8')\n",
    "\n",
    "Miller_LAI = []\n",
    "LiCor_LAI = []\n",
    "Angle = []\n",
    "\n",
    "for i, j in enumerate(f):\n",
    "    if 'rings' in j:\n",
    "        Angle.append(j)\n",
    "    elif 'Miller' in j:\n",
    "        Miller_LAI.append(j)\n",
    "    elif 'LiCor' in j:\n",
    "        LiCor_LAI.append(j)\n",
    "        \n",
    "f.close()\n",
    "\n",
    "Miller_list = get_LAI(Miller_LAI)\n",
    "LiCor_list = get_LAI(LiCor_LAI)\n",
    "angle_list = get_angle(Angle)\n",
    "\n",
    "df = pd.DataFrame({'angle':angle_list,\n",
    "                   'Miller':Miller_list,\n",
    "                   'LiCor':LiCor_list})\n",
    "df.to_excel(file+'.result.xlsx', index=False)"
   ]
  },
  {
   "cell_type": "code",
   "execution_count": null,
   "id": "51c6c40b-82b4-4d85-9d46-36e3884398c2",
   "metadata": {},
   "outputs": [],
   "source": []
  }
 ],
 "metadata": {
  "kernelspec": {
   "display_name": "Python 3 (ipykernel)",
   "language": "python",
   "name": "python3"
  },
  "language_info": {
   "codemirror_mode": {
    "name": "ipython",
    "version": 3
   },
   "file_extension": ".py",
   "mimetype": "text/x-python",
   "name": "python",
   "nbconvert_exporter": "python",
   "pygments_lexer": "ipython3",
   "version": "3.9.12"
  }
 },
 "nbformat": 4,
 "nbformat_minor": 5
}
