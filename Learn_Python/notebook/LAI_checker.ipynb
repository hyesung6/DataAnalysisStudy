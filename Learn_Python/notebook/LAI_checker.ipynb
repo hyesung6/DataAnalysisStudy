{
 "cells": [
  {
   "cell_type": "code",
   "execution_count": null,
   "id": "52fe532c-2c2a-4872-9af6-e80782eabe64",
   "metadata": {},
   "outputs": [],
   "source": [
    "import pandas as pd\n",
    "import re"
   ]
  },
  {
   "cell_type": "code",
   "execution_count": null,
   "id": "5a4cbcf5-9374-4e3f-af20-eee92345ce16",
   "metadata": {},
   "outputs": [],
   "source": [
    "#line = f.readline()"
   ]
  },
  {
   "cell_type": "code",
   "execution_count": null,
   "id": "77eef38c-aae3-4d30-a92a-1e135a9167a0",
   "metadata": {
    "tags": []
   },
   "outputs": [],
   "source": [
    "#for i, j in enumerate(f):\n",
    "#    print(i, j)"
   ]
  },
  {
   "cell_type": "code",
   "execution_count": null,
   "id": "e0415a57-e4d1-4fc2-a038-eecaeb9f4f6f",
   "metadata": {
    "tags": []
   },
   "outputs": [],
   "source": [
    "f = open('9.8/ICT0908A_27_Raw_wd.dat', 'r', encoding='utf-8')\n",
    "\n",
    "Miller_list = [38, 87, 135, 182, 228, 273, \n",
    "               317, 360, 402, 443, 483, 522]\n",
    "\n",
    "Licor_list = [_ + 1 for _ in Miller_list]\n",
    "\n",
    "Miller_LAI = []\n",
    "Licor_LAI = []\n",
    "count = 0\n",
    "\n",
    "for i, j in enumerate(f):\n",
    "    if i+1 == Miller_list[count]:\n",
    "        Miller_LAI.append(j)\n",
    "    elif i+1 == Licor_list[count]:\n",
    "        Licor_LAI.append(j)\n",
    "        count += 1\n",
    "        if count == 12:\n",
    "            break\n",
    "\n",
    "f.close()\n",
    "\n",
    "for i in Miller_LAI:\n",
    "    print(i)\n",
    "for i in Licor_LAI:\n",
    "    print(i)"
   ]
  }
 ],
 "metadata": {
  "kernelspec": {
   "display_name": "Python 3 (ipykernel)",
   "language": "python",
   "name": "python3"
  },
  "language_info": {
   "codemirror_mode": {
    "name": "ipython",
    "version": 3
   },
   "file_extension": ".py",
   "mimetype": "text/x-python",
   "name": "python",
   "nbconvert_exporter": "python",
   "pygments_lexer": "ipython3",
   "version": "3.9.12"
  }
 },
 "nbformat": 4,
 "nbformat_minor": 5
}
