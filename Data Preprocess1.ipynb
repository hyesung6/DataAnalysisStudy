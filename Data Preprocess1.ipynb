{
 "cells": [
  {
   "cell_type": "markdown",
   "id": "56e00c0d-289f-4662-85e2-23982157fd4b",
   "metadata": {
    "tags": []
   },
   "source": [
    "# 범주형 데이터의 실수화"
   ]
  },
  {
   "cell_type": "markdown",
   "id": "227d6a35-0a95-4978-b4cf-30ce1b250e6b",
   "metadata": {},
   "source": [
    "## 필요 라이브러리 import"
   ]
  },
  {
   "cell_type": "code",
   "execution_count": 1,
   "id": "342adfa1-625d-439b-9300-435be1eb6c1e",
   "metadata": {},
   "outputs": [],
   "source": [
    "import pandas as pd\n",
    "from sklearn.preprocessing import LabelEncoder\n",
    "from sklearn.preprocessing import OneHotEncoder"
   ]
  },
  {
   "cell_type": "markdown",
   "id": "e1af3742-971e-436e-b3d1-f82304b584ec",
   "metadata": {},
   "source": [
    "## 데이터 set 생성 및 확인"
   ]
  },
  {
   "cell_type": "code",
   "execution_count": 2,
   "id": "d47b4da9-76f8-4b08-8ba1-e35fd42d0d3b",
   "metadata": {},
   "outputs": [
    {
     "data": {
      "text/html": [
       "<div>\n",
       "<style scoped>\n",
       "    .dataframe tbody tr th:only-of-type {\n",
       "        vertical-align: middle;\n",
       "    }\n",
       "\n",
       "    .dataframe tbody tr th {\n",
       "        vertical-align: top;\n",
       "    }\n",
       "\n",
       "    .dataframe thead th {\n",
       "        text-align: right;\n",
       "    }\n",
       "</style>\n",
       "<table border=\"1\" class=\"dataframe\">\n",
       "  <thead>\n",
       "    <tr style=\"text-align: right;\">\n",
       "      <th></th>\n",
       "      <th>성별</th>\n",
       "    </tr>\n",
       "  </thead>\n",
       "  <tbody>\n",
       "    <tr>\n",
       "      <th>0</th>\n",
       "      <td>남성</td>\n",
       "    </tr>\n",
       "    <tr>\n",
       "      <th>1</th>\n",
       "      <td>여성</td>\n",
       "    </tr>\n",
       "    <tr>\n",
       "      <th>2</th>\n",
       "      <td>남성</td>\n",
       "    </tr>\n",
       "  </tbody>\n",
       "</table>\n",
       "</div>"
      ],
      "text/plain": [
       "   성별\n",
       "0  남성\n",
       "1  여성\n",
       "2  남성"
      ]
     },
     "execution_count": 2,
     "metadata": {},
     "output_type": "execute_result"
    }
   ],
   "source": [
    "# 데이터 set 생성\n",
    "x_train = pd.DataFrame(['남성', '여성', '남성' ,'여성', '남성', '여성'], columns=['성별'])\n",
    "\n",
    "# 데이터 확인\n",
    "x_train.head(3)"
   ]
  },
  {
   "cell_type": "code",
   "execution_count": 3,
   "id": "883d153f-c1d3-4df3-aaec-3d6648098c6c",
   "metadata": {},
   "outputs": [
    {
     "name": "stdout",
     "output_type": "stream",
     "text": [
      "<class 'pandas.core.frame.DataFrame'>\n",
      "RangeIndex: 6 entries, 0 to 5\n",
      "Data columns (total 1 columns):\n",
      " #   Column  Non-Null Count  Dtype \n",
      "---  ------  --------------  ----- \n",
      " 0   성별      6 non-null      object\n",
      "dtypes: object(1)\n",
      "memory usage: 176.0+ bytes\n"
     ]
    }
   ],
   "source": [
    "x_train.info()  # 데이터 프레임의 정보 확인 : object 타입 '성별' 변수"
   ]
  },
  {
   "cell_type": "code",
   "execution_count": 5,
   "id": "9ab03aea-9515-47b6-8333-daf86b446877",
   "metadata": {},
   "outputs": [
    {
     "data": {
      "text/plain": [
       "남성    3\n",
       "여성    3\n",
       "Name: 성별, dtype: int64"
      ]
     },
     "execution_count": 5,
     "metadata": {},
     "output_type": "execute_result"
    }
   ],
   "source": [
    "x_train['성별'].value_counts()   # 범주형 데이터의 갯수 확인"
   ]
  },
  {
   "cell_type": "markdown",
   "id": "7b20afcf-fa4f-4116-9b7f-067b0f8eda24",
   "metadata": {},
   "source": [
    "## 레이블 인코딩 : 문자를 0부터 시작하는 정수형 숫자로 변환"
   ]
  },
  {
   "cell_type": "code",
   "execution_count": 6,
   "id": "b98aea09-34c5-479d-99af-ffe61fb22441",
   "metadata": {},
   "outputs": [],
   "source": [
    "# 레이블 인코더 생성\n",
    "encoding = LabelEncoder()\n",
    "# X_train 데이터를 이용하여 피팅하고 레이블 숫자로 변환\n",
    "encoding.fit(x_train['성별'])\n",
    "x_train['성별_인코딩'] = encoding.transform(x_train['성별'])"
   ]
  },
  {
   "cell_type": "code",
   "execution_count": 50,
   "id": "39d6e14b-ed39-4fa4-838a-6fb6a1e8f421",
   "metadata": {},
   "outputs": [
    {
     "data": {
      "text/plain": [
       "\u001b[1;31mSignature:\u001b[0m \u001b[0mLabelEncoder\u001b[0m\u001b[1;33m.\u001b[0m\u001b[0mtransform\u001b[0m\u001b[1;33m(\u001b[0m\u001b[0mself\u001b[0m\u001b[1;33m,\u001b[0m \u001b[0my\u001b[0m\u001b[1;33m)\u001b[0m\u001b[1;33m\u001b[0m\u001b[1;33m\u001b[0m\u001b[0m\n",
       "\u001b[1;31mDocstring:\u001b[0m\n",
       "Transform labels to normalized encoding.\n",
       "\n",
       "Parameters\n",
       "----------\n",
       "y : array-like of shape (n_samples,)\n",
       "    Target values.\n",
       "\n",
       "Returns\n",
       "-------\n",
       "y : array-like of shape (n_samples,)\n",
       "    Labels as normalized encodings.\n",
       "\u001b[1;31mFile:\u001b[0m      c:\\users\\user\\anaconda3\\lib\\site-packages\\sklearn\\preprocessing\\_label.py\n",
       "\u001b[1;31mType:\u001b[0m      function\n"
      ]
     },
     "metadata": {},
     "output_type": "display_data"
    }
   ],
   "source": [
    "LabelEncoder.transform?"
   ]
  },
  {
   "cell_type": "markdown",
   "id": "563fd566-79e6-4b50-9ef4-dbe05d2209d5",
   "metadata": {},
   "source": [
    "## 인코딩 결과 확인"
   ]
  },
  {
   "cell_type": "code",
   "execution_count": 8,
   "id": "12a2fcf4-74ca-4887-85d1-8c99723a4a7a",
   "metadata": {},
   "outputs": [
    {
     "data": {
      "text/html": [
       "<div>\n",
       "<style scoped>\n",
       "    .dataframe tbody tr th:only-of-type {\n",
       "        vertical-align: middle;\n",
       "    }\n",
       "\n",
       "    .dataframe tbody tr th {\n",
       "        vertical-align: top;\n",
       "    }\n",
       "\n",
       "    .dataframe thead th {\n",
       "        text-align: right;\n",
       "    }\n",
       "</style>\n",
       "<table border=\"1\" class=\"dataframe\">\n",
       "  <thead>\n",
       "    <tr style=\"text-align: right;\">\n",
       "      <th></th>\n",
       "      <th>성별</th>\n",
       "      <th>성별_인코딩</th>\n",
       "    </tr>\n",
       "  </thead>\n",
       "  <tbody>\n",
       "    <tr>\n",
       "      <th>0</th>\n",
       "      <td>남성</td>\n",
       "      <td>0</td>\n",
       "    </tr>\n",
       "    <tr>\n",
       "      <th>1</th>\n",
       "      <td>여성</td>\n",
       "      <td>1</td>\n",
       "    </tr>\n",
       "    <tr>\n",
       "      <th>2</th>\n",
       "      <td>남성</td>\n",
       "      <td>0</td>\n",
       "    </tr>\n",
       "    <tr>\n",
       "      <th>3</th>\n",
       "      <td>여성</td>\n",
       "      <td>1</td>\n",
       "    </tr>\n",
       "    <tr>\n",
       "      <th>4</th>\n",
       "      <td>남성</td>\n",
       "      <td>0</td>\n",
       "    </tr>\n",
       "    <tr>\n",
       "      <th>5</th>\n",
       "      <td>여성</td>\n",
       "      <td>1</td>\n",
       "    </tr>\n",
       "  </tbody>\n",
       "</table>\n",
       "</div>"
      ],
      "text/plain": [
       "   성별  성별_인코딩\n",
       "0  남성       0\n",
       "1  여성       1\n",
       "2  남성       0\n",
       "3  여성       1\n",
       "4  남성       0\n",
       "5  여성       1"
      ]
     },
     "execution_count": 8,
     "metadata": {},
     "output_type": "execute_result"
    }
   ],
   "source": [
    "x_train"
   ]
  },
  {
   "cell_type": "code",
   "execution_count": 9,
   "id": "1ea6e5b0-b819-4e17-8b89-8cc1ea4183c5",
   "metadata": {},
   "outputs": [
    {
     "name": "stdout",
     "output_type": "stream",
     "text": [
      "['남성', '여성']\n",
      "['여성', '남성']\n"
     ]
    }
   ],
   "source": [
    "print(list(encoding.classes_))   # 클래스 확인\n",
    "print(list(encoding.inverse_transform([1,0])))    # 인코딩 값으로 문자값 확인"
   ]
  },
  {
   "cell_type": "markdown",
   "id": "91291acd-05c8-4855-a74d-7cabfe021a0c",
   "metadata": {},
   "source": [
    "# One-Hot Encoding : 더미변수 생성, 가변환"
   ]
  },
  {
   "cell_type": "markdown",
   "id": "8b77a9be-b6e0-4b7f-8994-b01f34131c39",
   "metadata": {},
   "source": [
    "## 데이터 확인 ( 실수화한 데이터 사용 )"
   ]
  },
  {
   "cell_type": "code",
   "execution_count": 10,
   "id": "af9345e7-8911-42e1-8ce5-b914efd3fb49",
   "metadata": {},
   "outputs": [
    {
     "data": {
      "text/html": [
       "<div>\n",
       "<style scoped>\n",
       "    .dataframe tbody tr th:only-of-type {\n",
       "        vertical-align: middle;\n",
       "    }\n",
       "\n",
       "    .dataframe tbody tr th {\n",
       "        vertical-align: top;\n",
       "    }\n",
       "\n",
       "    .dataframe thead th {\n",
       "        text-align: right;\n",
       "    }\n",
       "</style>\n",
       "<table border=\"1\" class=\"dataframe\">\n",
       "  <thead>\n",
       "    <tr style=\"text-align: right;\">\n",
       "      <th></th>\n",
       "      <th>성별</th>\n",
       "      <th>성별_인코딩</th>\n",
       "    </tr>\n",
       "  </thead>\n",
       "  <tbody>\n",
       "    <tr>\n",
       "      <th>0</th>\n",
       "      <td>남성</td>\n",
       "      <td>0</td>\n",
       "    </tr>\n",
       "    <tr>\n",
       "      <th>1</th>\n",
       "      <td>여성</td>\n",
       "      <td>1</td>\n",
       "    </tr>\n",
       "  </tbody>\n",
       "</table>\n",
       "</div>"
      ],
      "text/plain": [
       "   성별  성별_인코딩\n",
       "0  남성       0\n",
       "1  여성       1"
      ]
     },
     "execution_count": 10,
     "metadata": {},
     "output_type": "execute_result"
    }
   ],
   "source": [
    "x_train.head(2)"
   ]
  },
  {
   "cell_type": "markdown",
   "id": "c45512ac-3545-477e-82c9-4a71a8c3c88d",
   "metadata": {},
   "source": [
    "## Ont-Hot Encoding"
   ]
  },
  {
   "cell_type": "code",
   "execution_count": 11,
   "id": "63edbe90-743f-4e39-87ad-ee150b02449c",
   "metadata": {},
   "outputs": [
    {
     "data": {
      "text/plain": [
       "array([[1., 0.],\n",
       "       [0., 1.],\n",
       "       [1., 0.],\n",
       "       [0., 1.],\n",
       "       [1., 0.],\n",
       "       [0., 1.]])"
      ]
     },
     "execution_count": 11,
     "metadata": {},
     "output_type": "execute_result"
    }
   ],
   "source": [
    "# 원핫인코더 생성\n",
    "# sparse 를 True로 할 경우 '(행, 열) 1'의 좌표리스트의 형식\n",
    "#           False로 할 경우 넘파이 배열로 반환\n",
    "one_encoding = OneHotEncoder(sparse=False)\n",
    "\n",
    "# x_train 데이터를 이용하여 피팅\n",
    "one_encoding.fit(x_train[['성별']])\n",
    "\n",
    "# 가변환값 반환\n",
    "one_encoding.transform(x_train[['성별']])"
   ]
  },
  {
   "cell_type": "code",
   "execution_count": 15,
   "id": "beebbed4-2955-4577-aba9-8e82db36e6b2",
   "metadata": {},
   "outputs": [
    {
     "name": "stdout",
     "output_type": "stream",
     "text": [
      "['성별_남성' '성별_여성']\n"
     ]
    }
   ],
   "source": [
    "# 가변환된 피쳐 확인\n",
    "print(one_encoding.get_feature_names_out())"
   ]
  },
  {
   "cell_type": "markdown",
   "id": "e4afeb7f-94fd-41e9-aeb4-b62d6b144ee2",
   "metadata": {},
   "source": [
    "## 인코딩 결과 확인"
   ]
  },
  {
   "cell_type": "code",
   "execution_count": 18,
   "id": "9aef582d-39b9-42aa-bf07-cfe70bf4fe2d",
   "metadata": {},
   "outputs": [],
   "source": [
    "# 가변환된 값을 x_train_one 데이터프레임으로 저장\n",
    "x_train_one = pd.DataFrame(one_encoding.transform(x_train[['성별']]), columns=['성별0', '성별1'])"
   ]
  },
  {
   "cell_type": "code",
   "execution_count": 19,
   "id": "e84141c7-5424-4678-ab34-6a12e0944cdc",
   "metadata": {},
   "outputs": [],
   "source": [
    "# x_train 데이터와 x_train_one의 가변환된 속성 합침\n",
    "x_train = pd.concat([x_train, x_train_one], axis=1)"
   ]
  },
  {
   "cell_type": "code",
   "execution_count": 20,
   "id": "3346d102-8a39-4e99-a7f0-9f587c1c048a",
   "metadata": {},
   "outputs": [
    {
     "data": {
      "text/html": [
       "<div>\n",
       "<style scoped>\n",
       "    .dataframe tbody tr th:only-of-type {\n",
       "        vertical-align: middle;\n",
       "    }\n",
       "\n",
       "    .dataframe tbody tr th {\n",
       "        vertical-align: top;\n",
       "    }\n",
       "\n",
       "    .dataframe thead th {\n",
       "        text-align: right;\n",
       "    }\n",
       "</style>\n",
       "<table border=\"1\" class=\"dataframe\">\n",
       "  <thead>\n",
       "    <tr style=\"text-align: right;\">\n",
       "      <th></th>\n",
       "      <th>성별</th>\n",
       "      <th>성별_인코딩</th>\n",
       "      <th>성별0</th>\n",
       "      <th>성별1</th>\n",
       "    </tr>\n",
       "  </thead>\n",
       "  <tbody>\n",
       "    <tr>\n",
       "      <th>0</th>\n",
       "      <td>남성</td>\n",
       "      <td>0</td>\n",
       "      <td>1.0</td>\n",
       "      <td>0.0</td>\n",
       "    </tr>\n",
       "    <tr>\n",
       "      <th>1</th>\n",
       "      <td>여성</td>\n",
       "      <td>1</td>\n",
       "      <td>0.0</td>\n",
       "      <td>1.0</td>\n",
       "    </tr>\n",
       "    <tr>\n",
       "      <th>2</th>\n",
       "      <td>남성</td>\n",
       "      <td>0</td>\n",
       "      <td>1.0</td>\n",
       "      <td>0.0</td>\n",
       "    </tr>\n",
       "  </tbody>\n",
       "</table>\n",
       "</div>"
      ],
      "text/plain": [
       "   성별  성별_인코딩  성별0  성별1\n",
       "0  남성       0  1.0  0.0\n",
       "1  여성       1  0.0  1.0\n",
       "2  남성       0  1.0  0.0"
      ]
     },
     "execution_count": 20,
     "metadata": {},
     "output_type": "execute_result"
    }
   ],
   "source": [
    "# 결과 확인\n",
    "x_train.head(3)"
   ]
  },
  {
   "cell_type": "markdown",
   "id": "9b47de82-2d58-4256-9939-5a16f2b13238",
   "metadata": {},
   "source": [
    "# 텍스트 데이터 실수화"
   ]
  },
  {
   "cell_type": "markdown",
   "id": "4aada05f-5edd-4481-8bc8-10a95d55062d",
   "metadata": {},
   "source": [
    "## 단어의 빈도수를 카운트하여 단어를 수치화하는 방법\n",
    "- CountVertorizer 함수 : 문서 집합에서 단어 토큰을 생성하고 각 단어의 수를 세어 Bag OF Words로 인코딩하는 함수"
   ]
  },
  {
   "cell_type": "markdown",
   "id": "a6ebedd1-72ef-4c3a-822d-288ecf85ffe5",
   "metadata": {},
   "source": [
    "### 필요 라이브러리 import"
   ]
  },
  {
   "cell_type": "code",
   "execution_count": 21,
   "id": "9384ecf3-9077-40ec-821c-b79e04deacac",
   "metadata": {},
   "outputs": [],
   "source": [
    "from sklearn.feature_extraction.text import CountVectorizer"
   ]
  },
  {
   "cell_type": "markdown",
   "id": "574079ca-6894-45e6-85b4-b2b771d31527",
   "metadata": {},
   "source": [
    "### 데이터셋 생성 및 확인"
   ]
  },
  {
   "cell_type": "code",
   "execution_count": 22,
   "id": "2b7941bc-f116-4649-b066-d0655ced6045",
   "metadata": {},
   "outputs": [
    {
     "data": {
      "text/plain": [
       "['청년 인재 개발 양성 과정', '인공지능 청년 양성', '미래 인공지능 데이터 대한민국', '데이터 원유 기술사 청년 개발']"
      ]
     },
     "execution_count": 22,
     "metadata": {},
     "output_type": "execute_result"
    }
   ],
   "source": [
    "corpus = [\n",
    "            '청년 인재 개발 양성 과정',\n",
    "            '인공지능 청년 양성',\n",
    "            '미래 인공지능 데이터 대한민국',\n",
    "            '데이터 원유 기술사 청년 개발'\n",
    "]\n",
    "\n",
    "corpus"
   ]
  },
  {
   "cell_type": "code",
   "execution_count": 23,
   "id": "23e1ab33-9651-47b1-ab4c-c2f7b0affcb9",
   "metadata": {},
   "outputs": [
    {
     "data": {
      "text/plain": [
       "list"
      ]
     },
     "execution_count": 23,
     "metadata": {},
     "output_type": "execute_result"
    }
   ],
   "source": [
    "type(corpus)"
   ]
  },
  {
   "cell_type": "markdown",
   "id": "2805baba-bfb7-4647-ba15-e0893bc91538",
   "metadata": {},
   "source": [
    "### 텍스트 실수화 : 단어의 빈도수를 카운트(Count)"
   ]
  },
  {
   "cell_type": "code",
   "execution_count": 27,
   "id": "06243923-6673-4068-8266-8678817fc159",
   "metadata": {},
   "outputs": [
    {
     "data": {
      "text/plain": [
       "{'청년': 10,\n",
       " '인재': 9,\n",
       " '개발': 0,\n",
       " '양성': 6,\n",
       " '과정': 1,\n",
       " '인공지능': 8,\n",
       " '미래': 5,\n",
       " '데이터': 4,\n",
       " '대한민국': 3,\n",
       " '원유': 7,\n",
       " '기술사': 2}"
      ]
     },
     "execution_count": 27,
     "metadata": {},
     "output_type": "execute_result"
    }
   ],
   "source": [
    "# 카운트 벡터라이저 생성\n",
    "count_vect = CountVectorizer()\n",
    "\n",
    "# 단어 카운트\n",
    "count_vect.fit(corpus)\n",
    "\n",
    "# 단어 확인\n",
    "count_vect.vocabulary_"
   ]
  },
  {
   "cell_type": "code",
   "execution_count": 28,
   "id": "e503eac7-bfa4-4940-be03-94724b7fe119",
   "metadata": {},
   "outputs": [
    {
     "data": {
      "text/plain": [
       "array([[1, 1, 0, 0, 0, 0, 1, 0, 0, 1, 1],\n",
       "       [0, 0, 0, 0, 0, 0, 1, 0, 1, 0, 1],\n",
       "       [0, 0, 0, 1, 1, 1, 0, 0, 1, 0, 0],\n",
       "       [1, 0, 1, 0, 1, 0, 0, 1, 0, 0, 1]], dtype=int64)"
      ]
     },
     "execution_count": 28,
     "metadata": {},
     "output_type": "execute_result"
    }
   ],
   "source": [
    "# 단어 벡터화한 값을 array로 변환하여 확인\n",
    "count_vect.transform(corpus).toarray()"
   ]
  },
  {
   "cell_type": "code",
   "execution_count": 29,
   "id": "76767a50-0b6f-44cd-b818-79b871fb3b71",
   "metadata": {},
   "outputs": [
    {
     "data": {
      "text/plain": [
       "<4x11 sparse matrix of type '<class 'numpy.int64'>'\n",
       "\twith 17 stored elements in Compressed Sparse Row format>"
      ]
     },
     "execution_count": 29,
     "metadata": {},
     "output_type": "execute_result"
    }
   ],
   "source": [
    "# 단어 벡터화\n",
    "features = count_vect.transform(corpus)\n",
    "features"
   ]
  },
  {
   "cell_type": "markdown",
   "id": "b359df2a-757a-429e-9ede-fbbb70795541",
   "metadata": {},
   "source": [
    "### 문서단어행렬 ( DTM ) 로 변환"
   ]
  },
  {
   "cell_type": "code",
   "execution_count": 31,
   "id": "b0ad5d4e-95a6-4942-9405-2bccb5f4a990",
   "metadata": {},
   "outputs": [
    {
     "data": {
      "text/plain": [
       "array(['개발', '과정', '기술사', '대한민국', '데이터', '미래', '양성', '원유', '인공지능', '인재',\n",
       "       '청년'], dtype=object)"
      ]
     },
     "execution_count": 31,
     "metadata": {},
     "output_type": "execute_result"
    }
   ],
   "source": [
    "# 속성 이름만 반환\n",
    "vocab = count_vect.get_feature_names_out()\n",
    "vocab"
   ]
  },
  {
   "cell_type": "code",
   "execution_count": 33,
   "id": "bdb2af20-1102-4939-9149-48efcd830b47",
   "metadata": {},
   "outputs": [
    {
     "data": {
      "text/html": [
       "<div>\n",
       "<style scoped>\n",
       "    .dataframe tbody tr th:only-of-type {\n",
       "        vertical-align: middle;\n",
       "    }\n",
       "\n",
       "    .dataframe tbody tr th {\n",
       "        vertical-align: top;\n",
       "    }\n",
       "\n",
       "    .dataframe thead th {\n",
       "        text-align: right;\n",
       "    }\n",
       "</style>\n",
       "<table border=\"1\" class=\"dataframe\">\n",
       "  <thead>\n",
       "    <tr style=\"text-align: right;\">\n",
       "      <th></th>\n",
       "      <th>개발</th>\n",
       "      <th>과정</th>\n",
       "      <th>기술사</th>\n",
       "      <th>대한민국</th>\n",
       "      <th>데이터</th>\n",
       "      <th>미래</th>\n",
       "      <th>양성</th>\n",
       "      <th>원유</th>\n",
       "      <th>인공지능</th>\n",
       "      <th>인재</th>\n",
       "      <th>청년</th>\n",
       "    </tr>\n",
       "  </thead>\n",
       "  <tbody>\n",
       "    <tr>\n",
       "      <th>0</th>\n",
       "      <td>1</td>\n",
       "      <td>1</td>\n",
       "      <td>0</td>\n",
       "      <td>0</td>\n",
       "      <td>0</td>\n",
       "      <td>0</td>\n",
       "      <td>1</td>\n",
       "      <td>0</td>\n",
       "      <td>0</td>\n",
       "      <td>1</td>\n",
       "      <td>1</td>\n",
       "    </tr>\n",
       "    <tr>\n",
       "      <th>1</th>\n",
       "      <td>0</td>\n",
       "      <td>0</td>\n",
       "      <td>0</td>\n",
       "      <td>0</td>\n",
       "      <td>0</td>\n",
       "      <td>0</td>\n",
       "      <td>1</td>\n",
       "      <td>0</td>\n",
       "      <td>1</td>\n",
       "      <td>0</td>\n",
       "      <td>1</td>\n",
       "    </tr>\n",
       "    <tr>\n",
       "      <th>2</th>\n",
       "      <td>0</td>\n",
       "      <td>0</td>\n",
       "      <td>0</td>\n",
       "      <td>1</td>\n",
       "      <td>1</td>\n",
       "      <td>1</td>\n",
       "      <td>0</td>\n",
       "      <td>0</td>\n",
       "      <td>1</td>\n",
       "      <td>0</td>\n",
       "      <td>0</td>\n",
       "    </tr>\n",
       "    <tr>\n",
       "      <th>3</th>\n",
       "      <td>1</td>\n",
       "      <td>0</td>\n",
       "      <td>1</td>\n",
       "      <td>0</td>\n",
       "      <td>1</td>\n",
       "      <td>0</td>\n",
       "      <td>0</td>\n",
       "      <td>1</td>\n",
       "      <td>0</td>\n",
       "      <td>0</td>\n",
       "      <td>1</td>\n",
       "    </tr>\n",
       "  </tbody>\n",
       "</table>\n",
       "</div>"
      ],
      "text/plain": [
       "   개발  과정  기술사  대한민국  데이터  미래  양성  원유  인공지능  인재  청년\n",
       "0   1   1    0     0    0   0   1   0     0   1   1\n",
       "1   0   0    0     0    0   0   1   0     1   0   1\n",
       "2   0   0    0     1    1   1   0   0     1   0   0\n",
       "3   1   0    1     0    1   0   0   1     0   0   1"
      ]
     },
     "execution_count": 33,
     "metadata": {},
     "output_type": "execute_result"
    }
   ],
   "source": [
    "# 문서단어행렬(DTM)을 데이터프레임으로 변환\n",
    "# 위에서 확인했던 count_vect.transform(corpus).toarray() 값\n",
    "DTM = pd.DataFrame(features.toarray(), columns= vocab).head()\n",
    "DTM"
   ]
  },
  {
   "cell_type": "code",
   "execution_count": 34,
   "id": "c40fd71c-c984-47e3-b37c-b7e2fccad90c",
   "metadata": {},
   "outputs": [
    {
     "data": {
      "text/plain": [
       "array([[0, 0, 1, 1, 0, 0, 0, 0, 0, 1, 0]], dtype=int64)"
      ]
     },
     "execution_count": 34,
     "metadata": {},
     "output_type": "execute_result"
    }
   ],
   "source": [
    "# 문서단어행렬에 일치하는 단어 확인\n",
    "count_vect.transform(['기술사 대한민국 인재 만세']).toarray()"
   ]
  },
  {
   "cell_type": "markdown",
   "id": "41b549b8-f0a4-425d-af23-6fc009e1f7f0",
   "metadata": {},
   "source": [
    "## 단어의 빈도수를 단어들마다 중요한 정도를 가중치로 주어 수치화하는 방법\n",
    "- TfidVertorizer 함수 : TF-IDF 방식으로 단어의 가중치를 조정한 BOW로 인코딩 하는 함수"
   ]
  },
  {
   "cell_type": "markdown",
   "id": "42183524-d5fc-4e13-beac-51b51a6dfe4e",
   "metadata": {},
   "source": [
    "### 필요 라이브러리 import"
   ]
  },
  {
   "cell_type": "code",
   "execution_count": 35,
   "id": "2a7f21f6-1daf-4560-9d92-4ad8461ec566",
   "metadata": {},
   "outputs": [],
   "source": [
    "from sklearn.feature_extraction.text import TfidfVectorizer"
   ]
  },
  {
   "cell_type": "markdown",
   "id": "2028ed9c-1684-4baa-aa0b-60fc6c203801",
   "metadata": {},
   "source": [
    "### 데이터 set 생성 및 확인\n",
    "- 단어의 빈도수 수치화에서 활용한 corpus 데이터셋 사용"
   ]
  },
  {
   "cell_type": "code",
   "execution_count": 36,
   "id": "ce678b44-524e-45ee-97c9-2d8be83a858c",
   "metadata": {},
   "outputs": [
    {
     "data": {
      "text/plain": [
       "['청년 인재 개발 양성 과정', '인공지능 청년 양성', '미래 인공지능 데이터 대한민국', '데이터 원유 기술사 청년 개발']"
      ]
     },
     "execution_count": 36,
     "metadata": {},
     "output_type": "execute_result"
    }
   ],
   "source": [
    "corpus"
   ]
  },
  {
   "cell_type": "markdown",
   "id": "99edaa74-daae-4a56-aeb2-9a9cda6a26e7",
   "metadata": {},
   "source": [
    "### 텍스트 실수화 : TF-IDF 방식"
   ]
  },
  {
   "cell_type": "code",
   "execution_count": 37,
   "id": "30527542-96b7-4fb9-a071-645a14b6863f",
   "metadata": {},
   "outputs": [
    {
     "data": {
      "text/plain": [
       "{'청년': 10,\n",
       " '인재': 9,\n",
       " '개발': 0,\n",
       " '양성': 6,\n",
       " '과정': 1,\n",
       " '인공지능': 8,\n",
       " '미래': 5,\n",
       " '데이터': 4,\n",
       " '대한민국': 3,\n",
       " '원유': 7,\n",
       " '기술사': 2}"
      ]
     },
     "execution_count": 37,
     "metadata": {},
     "output_type": "execute_result"
    }
   ],
   "source": [
    "# TF-IDF 벡터라이저 생성\n",
    "tfid = TfidfVectorizer()\n",
    "\n",
    "# 단어 카운트\n",
    "tfid.fit(corpus)\n",
    "\n",
    "# 단어 사전 확인\n",
    "tfid.vocabulary_"
   ]
  },
  {
   "cell_type": "code",
   "execution_count": 38,
   "id": "57af2dd4-f4cc-4cfc-a071-3c0ef7d25d62",
   "metadata": {},
   "outputs": [
    {
     "data": {
      "text/plain": [
       "array([[0.41263976, 0.52338122, 0.        , 0.        , 0.        ,\n",
       "        0.        , 0.41263976, 0.        , 0.        , 0.52338122,\n",
       "        0.33406745],\n",
       "       [0.        , 0.        , 0.        , 0.        , 0.        ,\n",
       "        0.        , 0.61366674, 0.        , 0.61366674, 0.        ,\n",
       "        0.49681612],\n",
       "       [0.        , 0.        , 0.        , 0.55528266, 0.43779123,\n",
       "        0.55528266, 0.        , 0.        , 0.43779123, 0.        ,\n",
       "        0.        ],\n",
       "       [0.41263976, 0.        , 0.52338122, 0.        , 0.41263976,\n",
       "        0.        , 0.        , 0.52338122, 0.        , 0.        ,\n",
       "        0.33406745]])"
      ]
     },
     "execution_count": 38,
     "metadata": {},
     "output_type": "execute_result"
    }
   ],
   "source": [
    "# 단어 벡터화한 값을 array로 변환하여 확인\n",
    "tfid.transform(corpus).toarray()"
   ]
  },
  {
   "cell_type": "code",
   "execution_count": 39,
   "id": "82c922b2-b94d-4645-95c2-4a4068fafe91",
   "metadata": {},
   "outputs": [],
   "source": [
    "# 단어 벡터화\n",
    "features_idf = tfid.transform(corpus)"
   ]
  },
  {
   "cell_type": "code",
   "execution_count": 40,
   "id": "e1c880eb-4618-47f8-9468-72f4df9469b5",
   "metadata": {},
   "outputs": [
    {
     "data": {
      "text/plain": [
       "<4x11 sparse matrix of type '<class 'numpy.float64'>'\n",
       "\twith 17 stored elements in Compressed Sparse Row format>"
      ]
     },
     "execution_count": 40,
     "metadata": {},
     "output_type": "execute_result"
    }
   ],
   "source": [
    "features_idf"
   ]
  },
  {
   "cell_type": "markdown",
   "id": "92a05d2f-5764-49f8-9510-1a371e9c6b3c",
   "metadata": {},
   "source": [
    "### 문서단어행렬로 변환"
   ]
  },
  {
   "cell_type": "code",
   "execution_count": 44,
   "id": "12998981-43c7-456c-8c98-b5f4b96ece91",
   "metadata": {},
   "outputs": [
    {
     "data": {
      "text/plain": [
       "array(['개발', '과정', '기술사', '대한민국', '데이터', '미래', '양성', '원유', '인공지능', '인재',\n",
       "       '청년'], dtype=object)"
      ]
     },
     "execution_count": 44,
     "metadata": {},
     "output_type": "execute_result"
    }
   ],
   "source": [
    "# 속성 이름만 반환\n",
    "vocab_idf = count_vect.get_feature_names_out()\n",
    "vocab_idf"
   ]
  },
  {
   "cell_type": "code",
   "execution_count": 45,
   "id": "e7986646-fd42-4a4d-8145-fa57ec262938",
   "metadata": {},
   "outputs": [
    {
     "data": {
      "text/html": [
       "<div>\n",
       "<style scoped>\n",
       "    .dataframe tbody tr th:only-of-type {\n",
       "        vertical-align: middle;\n",
       "    }\n",
       "\n",
       "    .dataframe tbody tr th {\n",
       "        vertical-align: top;\n",
       "    }\n",
       "\n",
       "    .dataframe thead th {\n",
       "        text-align: right;\n",
       "    }\n",
       "</style>\n",
       "<table border=\"1\" class=\"dataframe\">\n",
       "  <thead>\n",
       "    <tr style=\"text-align: right;\">\n",
       "      <th></th>\n",
       "      <th>개발</th>\n",
       "      <th>과정</th>\n",
       "      <th>기술사</th>\n",
       "      <th>대한민국</th>\n",
       "      <th>데이터</th>\n",
       "      <th>미래</th>\n",
       "      <th>양성</th>\n",
       "      <th>원유</th>\n",
       "      <th>인공지능</th>\n",
       "      <th>인재</th>\n",
       "      <th>청년</th>\n",
       "    </tr>\n",
       "  </thead>\n",
       "  <tbody>\n",
       "    <tr>\n",
       "      <th>0</th>\n",
       "      <td>0.41264</td>\n",
       "      <td>0.523381</td>\n",
       "      <td>0.000000</td>\n",
       "      <td>0.000000</td>\n",
       "      <td>0.000000</td>\n",
       "      <td>0.000000</td>\n",
       "      <td>0.412640</td>\n",
       "      <td>0.000000</td>\n",
       "      <td>0.000000</td>\n",
       "      <td>0.523381</td>\n",
       "      <td>0.334067</td>\n",
       "    </tr>\n",
       "    <tr>\n",
       "      <th>1</th>\n",
       "      <td>0.00000</td>\n",
       "      <td>0.000000</td>\n",
       "      <td>0.000000</td>\n",
       "      <td>0.000000</td>\n",
       "      <td>0.000000</td>\n",
       "      <td>0.000000</td>\n",
       "      <td>0.613667</td>\n",
       "      <td>0.000000</td>\n",
       "      <td>0.613667</td>\n",
       "      <td>0.000000</td>\n",
       "      <td>0.496816</td>\n",
       "    </tr>\n",
       "    <tr>\n",
       "      <th>2</th>\n",
       "      <td>0.00000</td>\n",
       "      <td>0.000000</td>\n",
       "      <td>0.000000</td>\n",
       "      <td>0.555283</td>\n",
       "      <td>0.437791</td>\n",
       "      <td>0.555283</td>\n",
       "      <td>0.000000</td>\n",
       "      <td>0.000000</td>\n",
       "      <td>0.437791</td>\n",
       "      <td>0.000000</td>\n",
       "      <td>0.000000</td>\n",
       "    </tr>\n",
       "    <tr>\n",
       "      <th>3</th>\n",
       "      <td>0.41264</td>\n",
       "      <td>0.000000</td>\n",
       "      <td>0.523381</td>\n",
       "      <td>0.000000</td>\n",
       "      <td>0.412640</td>\n",
       "      <td>0.000000</td>\n",
       "      <td>0.000000</td>\n",
       "      <td>0.523381</td>\n",
       "      <td>0.000000</td>\n",
       "      <td>0.000000</td>\n",
       "      <td>0.334067</td>\n",
       "    </tr>\n",
       "  </tbody>\n",
       "</table>\n",
       "</div>"
      ],
      "text/plain": [
       "        개발        과정       기술사      대한민국       데이터        미래        양성  \\\n",
       "0  0.41264  0.523381  0.000000  0.000000  0.000000  0.000000  0.412640   \n",
       "1  0.00000  0.000000  0.000000  0.000000  0.000000  0.000000  0.613667   \n",
       "2  0.00000  0.000000  0.000000  0.555283  0.437791  0.555283  0.000000   \n",
       "3  0.41264  0.000000  0.523381  0.000000  0.412640  0.000000  0.000000   \n",
       "\n",
       "         원유      인공지능        인재        청년  \n",
       "0  0.000000  0.000000  0.523381  0.334067  \n",
       "1  0.000000  0.613667  0.000000  0.496816  \n",
       "2  0.000000  0.437791  0.000000  0.000000  \n",
       "3  0.523381  0.000000  0.000000  0.334067  "
      ]
     },
     "execution_count": 45,
     "metadata": {},
     "output_type": "execute_result"
    }
   ],
   "source": [
    "# 문서단어행렬을 데이터프레임으로 변환\n",
    "DTM_idf =pd.DataFrame(features_idf.toarray(), columns=vocab_idf).head()\n",
    "DTM_idf"
   ]
  },
  {
   "cell_type": "markdown",
   "id": "0a002636-be0d-438d-8eee-ccb551752944",
   "metadata": {},
   "source": [
    "- 위 데이터프레임에서 idf가 높은 필드가 중요도가 높은 것, 낮을수록 중요도 낮은 것"
   ]
  },
  {
   "cell_type": "code",
   "execution_count": null,
   "id": "e0a8a62e-e123-49eb-924e-5e423f04664a",
   "metadata": {},
   "outputs": [],
   "source": []
  }
 ],
 "metadata": {
  "kernelspec": {
   "display_name": "Python 3 (ipykernel)",
   "language": "python",
   "name": "python3"
  },
  "language_info": {
   "codemirror_mode": {
    "name": "ipython",
    "version": 3
   },
   "file_extension": ".py",
   "mimetype": "text/x-python",
   "name": "python",
   "nbconvert_exporter": "python",
   "pygments_lexer": "ipython3",
   "version": "3.9.12"
  },
  "toc-autonumbering": true
 },
 "nbformat": 4,
 "nbformat_minor": 5
}
