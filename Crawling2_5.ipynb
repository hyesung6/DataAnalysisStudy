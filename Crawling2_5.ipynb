{
 "cells": [
  {
   "cell_type": "markdown",
   "id": "23645f5d-9c3d-419c-aeaa-a025d72a75ce",
   "metadata": {},
   "source": [
    "# daum_news_list_final"
   ]
  },
  {
   "cell_type": "code",
   "execution_count": 1,
   "id": "44c347fa-4d78-4217-b3a3-06788e893228",
   "metadata": {},
   "outputs": [],
   "source": [
    "import requests\n",
    "import lxml.html\n",
    "import pandas as pd\n",
    "import sqlite3\n",
    "from pandas.io import sql\n",
    "import os\n",
    "import time"
   ]
  },
  {
   "cell_type": "code",
   "execution_count": 9,
   "id": "92a3bcc5-2a5d-47f9-a619-ccd171c1e451",
   "metadata": {},
   "outputs": [],
   "source": [
    "def db_save(NEWS_LIST):\n",
    "    with sqlite3.connect(os.path.join('.', 'sqliteDB')) as con:\n",
    "        try:\n",
    "            NEWS_LIST.to_sql(name = 'NEWS_LIST', con= con, index= False, if_exists ='append')\n",
    "        except Exception as e:\n",
    "            print(str(e))\n",
    "        print(len(NEWS_LIST), '건 저장 완료...')"
   ]
  },
  {
   "cell_type": "code",
   "execution_count": 3,
   "id": "9a446f69-1dd8-4808-a634-a6a24c38b8ae",
   "metadata": {},
   "outputs": [],
   "source": [
    "def db_delete():\n",
    "    with sqlite3.connect(os.path.join('.','sqliteDB')) as con:\n",
    "        try:\n",
    "            cur = con.cursor()\n",
    "            sql = 'DELETE FROM NEWS_LIST'\n",
    "            cur.execute(sql)\n",
    "        except Exception as e:\n",
    "            print(str(e))"
   ]
  },
  {
   "cell_type": "code",
   "execution_count": 4,
   "id": "687718e9-7fcf-4123-847f-e7efc37338ad",
   "metadata": {},
   "outputs": [],
   "source": [
    "def db_select():\n",
    "    with sqlite3.connect(os.path.join('.','sqliteDB')) as con:\n",
    "        try:\n",
    "            query = 'SELECT * FROM NEWS_LIST'\n",
    "            NEWS_LIST = pd.read_sql(query, con=con)\n",
    "        except Exception as e:\n",
    "            print(str(e))\n",
    "        return NEWS_LIST"
   ]
  },
  {
   "cell_type": "code",
   "execution_count": 5,
   "id": "b0d5487d-b589-4344-ae06-21c10415d426",
   "metadata": {},
   "outputs": [],
   "source": [
    "import re\n",
    "import string\n",
    "\n",
    "def get_detail(url):\n",
    "    body = []\n",
    "    punc = '[!\"#$%&\\'()*+,-./:;<=>?[\\]^_`{|}~“”·]'\n",
    "    response = requests.get(url)\n",
    "    root = lxml.html.fromstring(response.content)\n",
    "    for p in root.xpath('//*[@id=\"harmonyContainer\"]/section/p'):\n",
    "        if p.text:\n",
    "            body.append(re.sub(punc, '', p.text))\n",
    "        full_body = ' '.join(body)\n",
    "    \n",
    "    return full_body"
   ]
  },
  {
   "cell_type": "code",
   "execution_count": 6,
   "id": "d0c558de-e388-4215-99c2-8cfb4acbb283",
   "metadata": {},
   "outputs": [],
   "source": [
    "page = 58\n",
    "max_page = 0\n",
    "REG_DATE = '20200819'"
   ]
  },
  {
   "cell_type": "code",
   "execution_count": 14,
   "id": "51c2879f-b3f7-40cf-aca0-40fd9ea036df",
   "metadata": {},
   "outputs": [
    {
     "name": "stdout",
     "output_type": "stream",
     "text": [
      "13 건 저장 완료...\n"
     ]
    }
   ],
   "source": [
    "while(True):\n",
    "    df_list = []\n",
    "    response = requests.get('http://news.daum.net/breakingnews/digital?page={}&regDate={}'\\\n",
    "                            .format(page, REG_DATE))\n",
    "    root = lxml.html.fromstring(response.content)\n",
    "    for li in root.xpath('//*[@id=\"mArticle\"]/div[3]/ul/li'):\n",
    "        a = li.xpath('div/strong/a')[0]\n",
    "        url = a.get('href')\n",
    "        article = get_detail(url)\n",
    "        df = pd.DataFrame({'URL' : [url],\n",
    "                           'TITLE' : [a.text],\n",
    "                           'ARTICLE' : [article]})\n",
    "        df_list.append(df)\n",
    "    \n",
    "    if df_list:\n",
    "        df_10 = pd.concat(df_list)\n",
    "        db_save(df_10)\n",
    "    \n",
    "    # 페이지 번호 중에서 max 페이지 가져오기\n",
    "    for a in root.xpath('//*[@id=\"mArticle\"]/div[3]/div/span/a'):\n",
    "        try:\n",
    "            num = int(a.text)\n",
    "            if max_page < num:\n",
    "                max_page = num\n",
    "        except:\n",
    "            pass\n",
    "        \n",
    "    # 마지막 페이지 여부 확인\n",
    "    span = root.xpath('//*[@id=\"mArticle\"]/div[3]/div/span/a[@class=\"btn_page btn_next\"]')\n",
    "    \n",
    "    if (len(span) <= 0) & (page > max_page):\n",
    "        break\n",
    "    else:\n",
    "        page = page + 1\n",
    "    \n",
    "    time.sleep(1)"
   ]
  },
  {
   "cell_type": "code",
   "execution_count": 10,
   "id": "475c2481-cc55-4891-bf3c-46ed29feb59b",
   "metadata": {
    "tags": []
   },
   "outputs": [
    {
     "data": {
      "text/html": [
       "<div>\n",
       "<style scoped>\n",
       "    .dataframe tbody tr th:only-of-type {\n",
       "        vertical-align: middle;\n",
       "    }\n",
       "\n",
       "    .dataframe tbody tr th {\n",
       "        vertical-align: top;\n",
       "    }\n",
       "\n",
       "    .dataframe thead th {\n",
       "        text-align: right;\n",
       "    }\n",
       "</style>\n",
       "<table border=\"1\" class=\"dataframe\">\n",
       "  <thead>\n",
       "    <tr style=\"text-align: right;\">\n",
       "      <th></th>\n",
       "      <th>URL</th>\n",
       "      <th>TITLE</th>\n",
       "      <th>ARTICLE</th>\n",
       "    </tr>\n",
       "  </thead>\n",
       "  <tbody>\n",
       "    <tr>\n",
       "      <th>0</th>\n",
       "      <td>https://v.daum.net/v/20200819053006071</td>\n",
       "      <td>\"이태원때처럼\"..기지국 정보로 광화문집회 참석자 알 수 있나</td>\n",
       "      <td>전광훈 목사가 있는 서울 성북구 사랑제일교회 관련 확진자가 5일 만에 457명대로 ...</td>\n",
       "    </tr>\n",
       "    <tr>\n",
       "      <th>0</th>\n",
       "      <td>https://v.daum.net/v/20200819052402971</td>\n",
       "      <td>계속되는 코로나19 돌연변이..'칵테일 항체'로 잡는다</td>\n",
       "      <td>앵커  전 세계가 코로나19 치료제와 백신 개발에 속도를 내고 있습니다  하지만 바...</td>\n",
       "    </tr>\n",
       "    <tr>\n",
       "      <th>0</th>\n",
       "      <td>https://v.daum.net/v/20200819050632662</td>\n",
       "      <td>투명한 공원 공중화장실, 왜 만들었을까</td>\n",
       "      <td>공원에 설치된 공중화장실은 누구나 이용할 수 있는 개방 시설이지만 불특정 다수가 사...</td>\n",
       "    </tr>\n",
       "    <tr>\n",
       "      <th>0</th>\n",
       "      <td>https://v.daum.net/v/20200819050618638</td>\n",
       "      <td>부산 특구는 암호화폐를 비켜가지 않습니데이</td>\n",
       "      <td>부산광역시는 지난해 7월 국내 첫 ‘블록체인 규제자유특구’에 지정됐다 지금까지 추가...</td>\n",
       "    </tr>\n",
       "    <tr>\n",
       "      <th>0</th>\n",
       "      <td>https://v.daum.net/v/20200819050602624</td>\n",
       "      <td>DAXPO 2020, 코로나19 이후 새로운 금융 토론한다</td>\n",
       "      <td>코인데스크코리아와 한국블록체인협회가 공동주최하고 부산광역시가 후원하는 디지털자산박...</td>\n",
       "    </tr>\n",
       "    <tr>\n",
       "      <th>0</th>\n",
       "      <td>https://v.daum.net/v/20200819042015362</td>\n",
       "      <td>코로나19 재확산 위험 커졌다.. 여름잠 준비하는 IT업계</td>\n",
       "      <td>19일 업계에 따르면 코로나19가 수도권을 중심으로 확산되면서 국내 주요 IT업체가...</td>\n",
       "    </tr>\n",
       "    <tr>\n",
       "      <th>0</th>\n",
       "      <td>https://v.daum.net/v/20200819030956010</td>\n",
       "      <td>LG 벨벳, 최적의 메모리 용량 제안</td>\n",
       "      <td>고용량 메모리는 No 수년 전만 해도 보고 싶은 영화를 스마트폰에 내려받아 저장하던...</td>\n",
       "    </tr>\n",
       "    <tr>\n",
       "      <th>0</th>\n",
       "      <td>https://v.daum.net/v/20200819030950009</td>\n",
       "      <td>5G 보급과 함께 쑥쑥.. VR게임 대중화시대 열린다</td>\n",
       "      <td>18일 게임업계와 외신 보도 등에 따르면 올해 3월 판매를 시작한 미 게임사 밸브의...</td>\n",
       "    </tr>\n",
       "    <tr>\n",
       "      <th>0</th>\n",
       "      <td>https://v.daum.net/v/20200819030053787</td>\n",
       "      <td>\"게임에 빠진 아이와 소통하려면..'게임의 룰'부터 파악하세요\"</td>\n",
       "      <td>방승호 서울시교육청 교육연구관59은 게임에 대한 오해가 크다고 말했다 서울 중구 충...</td>\n",
       "    </tr>\n",
       "    <tr>\n",
       "      <th>0</th>\n",
       "      <td>https://v.daum.net/v/20200819021530691</td>\n",
       "      <td>\"재택근무부터 온라인 콘서트까지..코로나19로 모바일이 삶에 뿌리내렸다\"[신무경의 ...</td>\n",
       "      <td>글로벌 앱 분석업체 앱애니는 17일미국 현지시간 ‘신종 코로나바이러스 감염증코로나1...</td>\n",
       "    </tr>\n",
       "    <tr>\n",
       "      <th>0</th>\n",
       "      <td>https://v.daum.net/v/20200819010010384</td>\n",
       "      <td>보름 앞으로 다가온 반쪽 행사 'IFA 2020'..강행 배경은?</td>\n",
       "      <td>유럽 최대 가전ㆍ정보기술IT 전시회인 ‘IFA 2020’가 신종 코로나바이러스 감염...</td>\n",
       "    </tr>\n",
       "    <tr>\n",
       "      <th>0</th>\n",
       "      <td>https://v.daum.net/v/20200819004221292</td>\n",
       "      <td>방심위, 진공 청소기 흡입력 오인케한 공영쇼핑에 '주의'</td>\n",
       "      <td>지디넷코리아안희정 기자방송통신심의위원회는 19일 광고심의소위원회 회의를 열고 가정용...</td>\n",
       "    </tr>\n",
       "    <tr>\n",
       "      <th>0</th>\n",
       "      <td>https://v.daum.net/v/20200819000017909</td>\n",
       "      <td>[TF초점] 기대 높아진 갤노트20, 상반기 갤S20 부진까지 씻어낼까</td>\n",
       "      <td>더팩트│최수진 기자 신종 코로나바이러스 감염증코로나19 사태 이후 굳게 닫힌 소비자...</td>\n",
       "    </tr>\n",
       "  </tbody>\n",
       "</table>\n",
       "</div>"
      ],
      "text/plain": [
       "                                      URL  \\\n",
       "0  https://v.daum.net/v/20200819053006071   \n",
       "0  https://v.daum.net/v/20200819052402971   \n",
       "0  https://v.daum.net/v/20200819050632662   \n",
       "0  https://v.daum.net/v/20200819050618638   \n",
       "0  https://v.daum.net/v/20200819050602624   \n",
       "0  https://v.daum.net/v/20200819042015362   \n",
       "0  https://v.daum.net/v/20200819030956010   \n",
       "0  https://v.daum.net/v/20200819030950009   \n",
       "0  https://v.daum.net/v/20200819030053787   \n",
       "0  https://v.daum.net/v/20200819021530691   \n",
       "0  https://v.daum.net/v/20200819010010384   \n",
       "0  https://v.daum.net/v/20200819004221292   \n",
       "0  https://v.daum.net/v/20200819000017909   \n",
       "\n",
       "                                               TITLE  \\\n",
       "0                 \"이태원때처럼\"..기지국 정보로 광화문집회 참석자 알 수 있나   \n",
       "0                     계속되는 코로나19 돌연변이..'칵테일 항체'로 잡는다   \n",
       "0                              투명한 공원 공중화장실, 왜 만들었을까   \n",
       "0                            부산 특구는 암호화폐를 비켜가지 않습니데이   \n",
       "0                   DAXPO 2020, 코로나19 이후 새로운 금융 토론한다   \n",
       "0                   코로나19 재확산 위험 커졌다.. 여름잠 준비하는 IT업계   \n",
       "0                               LG 벨벳, 최적의 메모리 용량 제안   \n",
       "0                      5G 보급과 함께 쑥쑥.. VR게임 대중화시대 열린다   \n",
       "0                \"게임에 빠진 아이와 소통하려면..'게임의 룰'부터 파악하세요\"   \n",
       "0  \"재택근무부터 온라인 콘서트까지..코로나19로 모바일이 삶에 뿌리내렸다\"[신무경의 ...   \n",
       "0               보름 앞으로 다가온 반쪽 행사 'IFA 2020'..강행 배경은?   \n",
       "0                    방심위, 진공 청소기 흡입력 오인케한 공영쇼핑에 '주의'   \n",
       "0            [TF초점] 기대 높아진 갤노트20, 상반기 갤S20 부진까지 씻어낼까   \n",
       "\n",
       "                                             ARTICLE  \n",
       "0  전광훈 목사가 있는 서울 성북구 사랑제일교회 관련 확진자가 5일 만에 457명대로 ...  \n",
       "0  앵커  전 세계가 코로나19 치료제와 백신 개발에 속도를 내고 있습니다  하지만 바...  \n",
       "0  공원에 설치된 공중화장실은 누구나 이용할 수 있는 개방 시설이지만 불특정 다수가 사...  \n",
       "0  부산광역시는 지난해 7월 국내 첫 ‘블록체인 규제자유특구’에 지정됐다 지금까지 추가...  \n",
       "0   코인데스크코리아와 한국블록체인협회가 공동주최하고 부산광역시가 후원하는 디지털자산박...  \n",
       "0  19일 업계에 따르면 코로나19가 수도권을 중심으로 확산되면서 국내 주요 IT업체가...  \n",
       "0  고용량 메모리는 No 수년 전만 해도 보고 싶은 영화를 스마트폰에 내려받아 저장하던...  \n",
       "0  18일 게임업계와 외신 보도 등에 따르면 올해 3월 판매를 시작한 미 게임사 밸브의...  \n",
       "0  방승호 서울시교육청 교육연구관59은 게임에 대한 오해가 크다고 말했다 서울 중구 충...  \n",
       "0  글로벌 앱 분석업체 앱애니는 17일미국 현지시간 ‘신종 코로나바이러스 감염증코로나1...  \n",
       "0  유럽 최대 가전ㆍ정보기술IT 전시회인 ‘IFA 2020’가 신종 코로나바이러스 감염...  \n",
       "0  지디넷코리아안희정 기자방송통신심의위원회는 19일 광고심의소위원회 회의를 열고 가정용...  \n",
       "0  더팩트│최수진 기자 신종 코로나바이러스 감염증코로나19 사태 이후 굳게 닫힌 소비자...  "
      ]
     },
     "execution_count": 10,
     "metadata": {},
     "output_type": "execute_result"
    }
   ],
   "source": [
    "df_10"
   ]
  },
  {
   "cell_type": "code",
   "execution_count": 18,
   "id": "b259770b-e863-4a5f-97f4-7cd98d24c215",
   "metadata": {},
   "outputs": [
    {
     "name": "stdout",
     "output_type": "stream",
     "text": [
      "                                       URL  \\\n",
      "0   https://v.daum.net/v/20200819053006071   \n",
      "1   https://v.daum.net/v/20200819052402971   \n",
      "2   https://v.daum.net/v/20200819050632662   \n",
      "3   https://v.daum.net/v/20200819050618638   \n",
      "4   https://v.daum.net/v/20200819050602624   \n",
      "5   https://v.daum.net/v/20200819042015362   \n",
      "6   https://v.daum.net/v/20200819030956010   \n",
      "7   https://v.daum.net/v/20200819030950009   \n",
      "8   https://v.daum.net/v/20200819030053787   \n",
      "9   https://v.daum.net/v/20200819021530691   \n",
      "10  https://v.daum.net/v/20200819010010384   \n",
      "11  https://v.daum.net/v/20200819004221292   \n",
      "12  https://v.daum.net/v/20200819000017909   \n",
      "\n",
      "                                                TITLE  \\\n",
      "0                  \"이태원때처럼\"..기지국 정보로 광화문집회 참석자 알 수 있나   \n",
      "1                      계속되는 코로나19 돌연변이..'칵테일 항체'로 잡는다   \n",
      "2                               투명한 공원 공중화장실, 왜 만들었을까   \n",
      "3                             부산 특구는 암호화폐를 비켜가지 않습니데이   \n",
      "4                    DAXPO 2020, 코로나19 이후 새로운 금융 토론한다   \n",
      "5                    코로나19 재확산 위험 커졌다.. 여름잠 준비하는 IT업계   \n",
      "6                                LG 벨벳, 최적의 메모리 용량 제안   \n",
      "7                       5G 보급과 함께 쑥쑥.. VR게임 대중화시대 열린다   \n",
      "8                 \"게임에 빠진 아이와 소통하려면..'게임의 룰'부터 파악하세요\"   \n",
      "9   \"재택근무부터 온라인 콘서트까지..코로나19로 모바일이 삶에 뿌리내렸다\"[신무경의 ...   \n",
      "10               보름 앞으로 다가온 반쪽 행사 'IFA 2020'..강행 배경은?   \n",
      "11                    방심위, 진공 청소기 흡입력 오인케한 공영쇼핑에 '주의'   \n",
      "12            [TF초점] 기대 높아진 갤노트20, 상반기 갤S20 부진까지 씻어낼까   \n",
      "\n",
      "                                              ARTICLE  \n",
      "0   전광훈 목사가 있는 서울 성북구 사랑제일교회 관련 확진자가 5일 만에 457명대로 ...  \n",
      "1   앵커  전 세계가 코로나19 치료제와 백신 개발에 속도를 내고 있습니다  하지만 바...  \n",
      "2   공원에 설치된 공중화장실은 누구나 이용할 수 있는 개방 시설이지만 불특정 다수가 사...  \n",
      "3   부산광역시는 지난해 7월 국내 첫 ‘블록체인 규제자유특구’에 지정됐다 지금까지 추가...  \n",
      "4    코인데스크코리아와 한국블록체인협회가 공동주최하고 부산광역시가 후원하는 디지털자산박...  \n",
      "5   19일 업계에 따르면 코로나19가 수도권을 중심으로 확산되면서 국내 주요 IT업체가...  \n",
      "6   고용량 메모리는 No 수년 전만 해도 보고 싶은 영화를 스마트폰에 내려받아 저장하던...  \n",
      "7   18일 게임업계와 외신 보도 등에 따르면 올해 3월 판매를 시작한 미 게임사 밸브의...  \n",
      "8   방승호 서울시교육청 교육연구관59은 게임에 대한 오해가 크다고 말했다 서울 중구 충...  \n",
      "9   글로벌 앱 분석업체 앱애니는 17일미국 현지시간 ‘신종 코로나바이러스 감염증코로나1...  \n",
      "10  유럽 최대 가전ㆍ정보기술IT 전시회인 ‘IFA 2020’가 신종 코로나바이러스 감염...  \n",
      "11  지디넷코리아안희정 기자방송통신심의위원회는 19일 광고심의소위원회 회의를 열고 가정용...  \n",
      "12  더팩트│최수진 기자 신종 코로나바이러스 감염증코로나19 사태 이후 굳게 닫힌 소비자...  \n"
     ]
    }
   ],
   "source": [
    "print(db_select())"
   ]
  },
  {
   "cell_type": "code",
   "execution_count": 16,
   "id": "21a25147-0c8b-4e04-9cdd-fb10b7816a95",
   "metadata": {},
   "outputs": [],
   "source": [
    "from string import *"
   ]
  },
  {
   "cell_type": "code",
   "execution_count": 17,
   "id": "870a9da4-5cd5-4885-8ff7-d1804ea8c1d5",
   "metadata": {},
   "outputs": [
    {
     "data": {
      "text/plain": [
       "'!\"#$%&\\'()*+,-./:;<=>?@[\\\\]^_`{|}~'"
      ]
     },
     "execution_count": 17,
     "metadata": {},
     "output_type": "execute_result"
    }
   ],
   "source": [
    "string.punctuation"
   ]
  },
  {
   "cell_type": "code",
   "execution_count": null,
   "id": "82f46de7-1b35-402c-8840-79d4f85986c9",
   "metadata": {},
   "outputs": [],
   "source": []
  }
 ],
 "metadata": {
  "kernelspec": {
   "display_name": "Python 3 (ipykernel)",
   "language": "python",
   "name": "python3"
  },
  "language_info": {
   "codemirror_mode": {
    "name": "ipython",
    "version": 3
   },
   "file_extension": ".py",
   "mimetype": "text/x-python",
   "name": "python",
   "nbconvert_exporter": "python",
   "pygments_lexer": "ipython3",
   "version": "3.9.12"
  }
 },
 "nbformat": 4,
 "nbformat_minor": 5
}
