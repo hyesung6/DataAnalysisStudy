{
 "cells": [
  {
   "cell_type": "code",
   "execution_count": 3,
   "id": "8ffd84eb-8767-4d90-8b17-0844814d0de4",
   "metadata": {},
   "outputs": [
    {
     "name": "stdout",
     "output_type": "stream",
     "text": [
      "Collecting torch\n",
      "  Downloading torch-1.13.0-cp39-cp39-win_amd64.whl (167.2 MB)\n",
      "     ------------------------------------ 167.2/167.2 MB 120.6 kB/s eta 0:00:00\n",
      "Collecting torchvision\n",
      "  Downloading torchvision-0.14.0-cp39-cp39-win_amd64.whl (1.1 MB)\n",
      "     ---------------------------------------- 1.1/1.1 MB 135.1 kB/s eta 0:00:00\n",
      "Collecting torchaudio\n",
      "  Downloading torchaudio-0.13.0-cp39-cp39-win_amd64.whl (2.1 MB)\n",
      "     ---------------------------------------- 2.1/2.1 MB 136.1 kB/s eta 0:00:00\n",
      "Requirement already satisfied: typing-extensions in c:\\users\\user\\anaconda3\\lib\\site-packages (from torch) (4.1.1)\n",
      "Requirement already satisfied: requests in c:\\users\\user\\anaconda3\\lib\\site-packages (from torchvision) (2.27.1)\n",
      "Requirement already satisfied: pillow!=8.3.*,>=5.3.0 in c:\\users\\user\\anaconda3\\lib\\site-packages (from torchvision) (9.0.1)\n",
      "Requirement already satisfied: numpy in c:\\users\\user\\anaconda3\\lib\\site-packages (from torchvision) (1.21.5)\n",
      "Requirement already satisfied: certifi>=2017.4.17 in c:\\users\\user\\anaconda3\\lib\\site-packages (from requests->torchvision) (2021.10.8)\n",
      "Requirement already satisfied: idna<4,>=2.5 in c:\\users\\user\\anaconda3\\lib\\site-packages (from requests->torchvision) (2.10)\n",
      "Requirement already satisfied: urllib3<1.27,>=1.21.1 in c:\\users\\user\\anaconda3\\lib\\site-packages (from requests->torchvision) (1.26.9)\n",
      "Requirement already satisfied: charset-normalizer~=2.0.0 in c:\\users\\user\\anaconda3\\lib\\site-packages (from requests->torchvision) (2.0.4)\n",
      "Installing collected packages: torch, torchvision, torchaudio\n",
      "Successfully installed torch-1.13.0 torchaudio-0.13.0 torchvision-0.14.0\n"
     ]
    }
   ],
   "source": [
    "!pip3 install torch torchvision torchaudio"
   ]
  },
  {
   "cell_type": "code",
   "execution_count": 22,
   "id": "dc03a7b5-2530-4a2d-8430-d9f6efd56951",
   "metadata": {},
   "outputs": [],
   "source": [
    "import torch"
   ]
  },
  {
   "cell_type": "code",
   "execution_count": 29,
   "id": "518e5a1e-adf9-4613-91e8-d1d74a8d9214",
   "metadata": {},
   "outputs": [],
   "source": [
    "import torch.Pointnet_Pointnet2_pytorch.models.pointnet2_cls_msg as msg"
   ]
  },
  {
   "cell_type": "code",
   "execution_count": 32,
   "id": "96982029-b186-4664-a910-6caef4856765",
   "metadata": {},
   "outputs": [],
   "source": [
    "a = msg.get_model()"
   ]
  },
  {
   "cell_type": "code",
   "execution_count": 33,
   "id": "9efd13a3-82ef-46d1-9171-0b7368de4746",
   "metadata": {},
   "outputs": [
    {
     "data": {
      "text/plain": [
       "''"
      ]
     },
     "execution_count": 33,
     "metadata": {},
     "output_type": "execute_result"
    }
   ],
   "source": [
    "torch.cuda_path"
   ]
  },
  {
   "cell_type": "code",
   "execution_count": 35,
   "id": "200d1ea9-a785-4c00-968f-ae8f206ed7cb",
   "metadata": {},
   "outputs": [],
   "source": [
    "import torch.Pointnet_Pointnet2_pytorch.test_classification as test_cls"
   ]
  },
  {
   "cell_type": "code",
   "execution_count": 36,
   "id": "756f0250-ba51-44e8-aae3-f7de08cc7369",
   "metadata": {},
   "outputs": [
    {
     "name": "stderr",
     "output_type": "stream",
     "text": [
      "usage: Testing [-h] [--use_cpu] [--gpu GPU] [--batch_size BATCH_SIZE] [--num_category {10,40}] [--num_point NUM_POINT]\n",
      "               --log_dir LOG_DIR [--use_normals] [--use_uniform_sample] [--num_votes NUM_VOTES]\n",
      "Testing: error: the following arguments are required: --log_dir\n"
     ]
    },
    {
     "ename": "SystemExit",
     "evalue": "2",
     "output_type": "error",
     "traceback": [
      "An exception has occurred, use %tb to see the full traceback.\n",
      "\u001b[1;31mSystemExit\u001b[0m\u001b[1;31m:\u001b[0m 2\n"
     ]
    }
   ],
   "source": [
    "test_cls.parse_args()"
   ]
  },
  {
   "cell_type": "code",
   "execution_count": 37,
   "id": "c407cc39-8f7f-4234-a604-4724cfa7cbbd",
   "metadata": {},
   "outputs": [],
   "source": [
    "del msg\n",
    "del test_cls"
   ]
  },
  {
   "cell_type": "code",
   "execution_count": 38,
   "id": "bf1452d7-9a4f-4a6b-b950-23e06e7eb828",
   "metadata": {},
   "outputs": [],
   "source": [
    "import Pointnet_Pointnet2_pytorch.test_classification as test_cls"
   ]
  },
  {
   "cell_type": "code",
   "execution_count": 39,
   "id": "8f8a7983-c1ad-4be8-a97e-bd23b85b2089",
   "metadata": {},
   "outputs": [],
   "source": [
    "import Pointnet_Pointnet2_pytorch.models.pointnet2_cls_msg as msg"
   ]
  },
  {
   "cell_type": "code",
   "execution_count": null,
   "id": "90e84893-5848-4eeb-9bfc-9177d9818323",
   "metadata": {},
   "outputs": [],
   "source": [
    "msg.get_model()"
   ]
  }
 ],
 "metadata": {
  "kernelspec": {
   "display_name": "Python 3 (ipykernel)",
   "language": "python",
   "name": "python3"
  },
  "language_info": {
   "codemirror_mode": {
    "name": "ipython",
    "version": 3
   },
   "file_extension": ".py",
   "mimetype": "text/x-python",
   "name": "python",
   "nbconvert_exporter": "python",
   "pygments_lexer": "ipython3",
   "version": "3.9.12"
  }
 },
 "nbformat": 4,
 "nbformat_minor": 5
}
