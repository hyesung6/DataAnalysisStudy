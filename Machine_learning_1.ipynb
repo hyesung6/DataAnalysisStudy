{
 "cells": [
  {
   "cell_type": "markdown",
   "id": "1e7aaa07-fbe8-4556-b98f-bec73e6e9717",
   "metadata": {},
   "source": [
    "***[의사결정나무]***\n",
    "- 분류나무 ( Classification Tree, 종속변수가 범주형인 경우)\n",
    "  1. 카이제곱 통계량 : p-value가 (관측도수와 기대도수 차이) 작을수록 자식 노드 간의 이질성이 큼.\n",
    "  2. 지니지수 : 값이 클수록 불순도가 높음. 불순도가 클수록 (0.5) 자식 노드 내의 이질성이 큼을 의미. 불순도가 작은 방향으로 분리, 불순도의 감소 폭이 큰 쪽으로 분리\n",
    "  3. 엔트로피지수 : 엔트로피값이 클수록 불순도 높으며, 불순도가 클수록 자식 노드 내의 이질성이 큼을 의미. 작은 방향으로 분리"
   ]
  },
  {
   "cell_type": "code",
   "execution_count": null,
   "id": "1590c6cb-8551-4f8c-b55f-fb73cb664808",
   "metadata": {},
   "outputs": [],
   "source": []
  }
 ],
 "metadata": {
  "kernelspec": {
   "display_name": "Python 3 (ipykernel)",
   "language": "python",
   "name": "python3"
  },
  "language_info": {
   "codemirror_mode": {
    "name": "ipython",
    "version": 3
   },
   "file_extension": ".py",
   "mimetype": "text/x-python",
   "name": "python",
   "nbconvert_exporter": "python",
   "pygments_lexer": "ipython3",
   "version": "3.9.12"
  }
 },
 "nbformat": 4,
 "nbformat_minor": 5
}
