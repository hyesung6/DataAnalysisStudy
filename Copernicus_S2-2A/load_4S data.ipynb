{
 "cells": [
  {
   "cell_type": "markdown",
   "id": "fa3587ad-4492-4fe5-b3dd-51ca0393d332",
   "metadata": {
    "tags": []
   },
   "source": [
    "# 프로세스 준비"
   ]
  },
  {
   "cell_type": "code",
   "execution_count": 1,
   "id": "be3343a1-87b7-424a-8c4f-2923080734e8",
   "metadata": {},
   "outputs": [],
   "source": [
    "import pandas as pd\n",
    "import warnings, os, shutil\n",
    "import ipywidgets as widgets\n",
    "from ipywidgets import interact, interact_manual"
   ]
  },
  {
   "cell_type": "code",
   "execution_count": 2,
   "id": "defa8bad-5999-4d25-978e-020b9067d49f",
   "metadata": {},
   "outputs": [],
   "source": [
    "warnings.simplefilter(action='ignore')\n",
    "pd.options.display.max_columns = None"
   ]
  },
  {
   "cell_type": "markdown",
   "id": "2e30e397-427d-49b2-b3fd-15a86a340ee0",
   "metadata": {},
   "source": [
    "## 데이터 확인"
   ]
  },
  {
   "cell_type": "code",
   "execution_count": 3,
   "id": "867f8553-b75e-4b3f-88ef-150cb87c9d5e",
   "metadata": {},
   "outputs": [],
   "source": [
    "dataDir = \"4S data\"\n",
    "S2DataDir = \"2022-01-01-2022-12-01_Time-Series\"\n",
    "outputDir = \"result data\"\n",
    "\n",
    "files_list_4S = os.listdir(dataDir)\n",
    "files_list_STNL = os.listdir(S2DataDir)\n",
    "\n",
    "files_list_4S = [file for file in files_list_4S if file.endswith('.xlsx')]\n",
    "files_list_STNL = [file for file in files_list_STNL if file.endswith('.csv')]"
   ]
  },
  {
   "cell_type": "code",
   "execution_count": null,
   "id": "f0077983-c578-485c-bb51-4240b63a499d",
   "metadata": {},
   "outputs": [],
   "source": [
    "print('4S file list :', files_list_4S)\n",
    "print(f\"4S file : {len(files_list_4S)}개\")\n",
    "print('='*100)\n",
    "print('S2 file list :', files_list_STNL)\n",
    "print(f\"Sentinel-2 file : {len(files_list_STNL)}개\")"
   ]
  },
  {
   "cell_type": "code",
   "execution_count": null,
   "id": "a999bb90-b4e9-4405-b784-ad1b27054372",
   "metadata": {},
   "outputs": [],
   "source": [
    "loc_list = list(map(lambda x: x.strip('.xlsx'), files_list_4S))\n",
    "files_list_STNL_matched = []\n",
    "\n",
    "for location_4S in loc_list:\n",
    "    for location_S2 in files_list_STNL:\n",
    "        if location_4S in location_S2:\n",
    "            files_list_STNL_matched.append(location_S2)\n",
    "\n",
    "print(f\"Location 목록 : {loc_list}\")\n",
    "print(f\"조인 가능 데이터 목록 : {files_list_STNL_matched}\")"
   ]
  },
  {
   "cell_type": "markdown",
   "id": "f33557e1-ccc4-4b88-a003-a86a9190fe5b",
   "metadata": {
    "tags": []
   },
   "source": [
    "## 4S 데이터 로드"
   ]
  },
  {
   "cell_type": "code",
   "execution_count": 6,
   "id": "cbbec8fa-35b8-4228-b090-708ce75f04b1",
   "metadata": {},
   "outputs": [],
   "source": [
    "''' [Location명]_4S 변수 이름으로 데이터프레임 생성 '''\n",
    "for file in files_list_4S:\n",
    "    globals()[f'{file.strip(\".xlsx\")}_4S'] = pd.read_excel(f\"{dataDir}\\\\{file}\")"
   ]
  },
  {
   "cell_type": "markdown",
   "id": "7b298f80-a249-4c6f-9ab7-c02917690c90",
   "metadata": {},
   "source": [
    "## 센티넬 데이터 로드"
   ]
  },
  {
   "cell_type": "code",
   "execution_count": 7,
   "id": "fb5c0508-1c2f-4ce4-b1cf-abb2f5c0a579",
   "metadata": {},
   "outputs": [],
   "source": [
    "''' [Location명]_S2 변수 이름으로 데이터프레임 생성 '''\n",
    "for file in files_list_STNL_matched:\n",
    "    globals()[f\"{file.strip('.csv')}\"] = pd.read_csv(f\"{S2DataDir}\\\\{file}\", encoding='utf-8')"
   ]
  },
  {
   "cell_type": "markdown",
   "id": "716be912-1bac-418c-8d5e-a563ff96c721",
   "metadata": {},
   "source": [
    "---"
   ]
  },
  {
   "cell_type": "markdown",
   "id": "47d2dbe1-ba41-4f15-a2e8-afed646ac29a",
   "metadata": {},
   "source": [
    "# 데이터 전처리"
   ]
  },
  {
   "cell_type": "markdown",
   "id": "b67dfee8-27de-4e36-8aa3-391e9b85f8c4",
   "metadata": {
    "tags": []
   },
   "source": [
    "## 4S 데이터 전처리 및 센티넬 데이터와 조인"
   ]
  },
  {
   "cell_type": "code",
   "execution_count": 8,
   "id": "8bf6764d-b030-4f86-8eb6-6d8602caf4bf",
   "metadata": {
    "tags": []
   },
   "outputs": [],
   "source": [
    "''' 폴더 생성 '''\n",
    "if os.path.exists(outputDir):\n",
    "    shutil.rmtree(outputDir)\n",
    "os.makedirs(outputDir)\n",
    "\n",
    "\n",
    "for location in loc_list:\n",
    "    \n",
    "    ''' 4S 데이터 전처리 '''\n",
    "    df_4S = globals()[f'{location}_4S']\n",
    "    df_4S = df_4S.drop(columns=\"Unnamed: 0\")\n",
    "    df_4S.dropna(inplace=True)\n",
    "    df_4S[['Year', 'Month', 'Date']] = df_4S[['Year', 'Month', 'Date']].astype('uint64').astype('string')\n",
    "    df_4S.rename(columns={'Date':'Day'}, inplace=True)\n",
    "\n",
    "    datePadding = lambda x: '0' + x if len(x) == 1 else x\n",
    "    df_4S['Month'] = df_4S['Month'].apply(datePadding)\n",
    "    df_4S['Day'] = df_4S['Day'].apply(datePadding)\n",
    "    df_4S['DATE'] = df_4S['Year'] + '-' + df_4S['Month'] + '-' + df_4S['Day']\n",
    "\n",
    "    try:\n",
    "        df_4S = df_4S[['DATE', 'Ref_BLU', 'Ref_GRN', 'Ref_RED', 'Ref_NIR', 'Ref_PAR', 'NDVI']]\n",
    "    except:\n",
    "        df_4S = df_4S[['DATE', 'Ref_BLU', 'Ref_GRN', 'Ref_RED', 'Ref_NIR', 'NDVI']]\n",
    "\n",
    "    df_4S['DATE'] = df_4S['DATE'].astype('datetime64')\n",
    "    df_4S.set_index('DATE', inplace=True)\n",
    "\n",
    "\n",
    "    ''' 센티넬 데이터 조인 준비 '''\n",
    "    df_S2 = globals()[f'{location}_S2']\n",
    "    df_S2['DATE'] = df_S2['DATE'].astype('datetime64')\n",
    "\n",
    "    buff_5M_cols = {'Blue':'BLUE_5M', 'Green':'GREEN_5M', 'Red':'RED_5M', 'NIR':'NIR_5M', 'NDVI':'NDVI_5M'}\n",
    "    buff_10M_cols = {'Blue':'BLUE_10M', 'Green':'GREEN_10M', 'Red':'RED_10M', 'NIR':'NIR_10M', 'NDVI':'NDVI_10M'}\n",
    "    buff_15M_cols = {'Blue':'BLUE_15M', 'Green':'GREEN_15M', 'Red':'RED_15M', 'NIR':'NIR_15M', 'NDVI':'NDVI_15M'}\n",
    "    buff_20M_cols = {'Blue':'BLUE_20M', 'Green':'GREEN_20M', 'Red':'RED_20M', 'NIR':'NIR_20M', 'NDVI':'NDVI_20M'}\n",
    "    buff_25M_cols = {'Blue':'BLUE_25M', 'Green':'GREEN_25M', 'Red':'RED_25M', 'NIR':'NIR_25M', 'NDVI':'NDVI_25M'}\n",
    "    buff_30M_cols = {'Blue':'BLUE_30M', 'Green':'GREEN_30M', 'Red':'RED_30M', 'NIR':'NIR_30M', 'NDVI':'NDVI_30M'}\n",
    "    \n",
    "    df_5M = df_S2[df_S2['BUFF_DIST'] == 5][['DATE', 'Blue', 'Green', 'Red', 'NIR', 'NDVI']].rename(columns=buff_5M_cols).groupby('DATE').mean()\n",
    "    df_10M = df_S2[df_S2['BUFF_DIST'] == 10][['DATE', 'Blue', 'Green', 'Red', 'NIR', 'NDVI']].rename(columns=buff_10M_cols).groupby('DATE').mean()\n",
    "    df_15M = df_S2[df_S2['BUFF_DIST'] == 15][['DATE', 'Blue', 'Green', 'Red', 'NIR', 'NDVI']].rename(columns=buff_15M_cols).groupby('DATE').mean()\n",
    "    df_20M = df_S2[df_S2['BUFF_DIST'] == 20][['DATE', 'Blue', 'Green', 'Red', 'NIR', 'NDVI']].rename(columns=buff_20M_cols).groupby('DATE').mean()\n",
    "    df_25M = df_S2[df_S2['BUFF_DIST'] == 25][['DATE', 'Blue', 'Green', 'Red', 'NIR', 'NDVI']].rename(columns=buff_25M_cols).groupby('DATE').mean()\n",
    "    df_30M = df_S2[df_S2['BUFF_DIST'] == 30][['DATE', 'Blue', 'Green', 'Red', 'NIR', 'NDVI']].rename(columns=buff_30M_cols).groupby('DATE').mean()\n",
    "\n",
    "\n",
    "    ''' 조인 결과 저장 '''\n",
    "    result_df = pd.concat([df_4S, df_5M, df_10M, df_15M, df_20M, df_25M, df_30M], axis=1, join='inner')\n",
    "    result_df.to_excel(f'{outputDir}\\\\{location}_total.xlsx', engine='xlsxwriter')\n",
    "    globals()[f'{location}_total'] = result_df.copy()"
   ]
  },
  {
   "cell_type": "markdown",
   "id": "cbf844e7-84db-4062-b154-58535ad5a644",
   "metadata": {},
   "source": [
    "---"
   ]
  },
  {
   "cell_type": "markdown",
   "id": "1dff599e-2ae1-4d30-9086-e8c716ed2846",
   "metadata": {},
   "source": [
    "# 통계 데이터 생성"
   ]
  },
  {
   "cell_type": "markdown",
   "id": "aa6318a8-04df-42bd-8503-185aaaca0830",
   "metadata": {},
   "source": [
    "## 평균"
   ]
  },
  {
   "cell_type": "markdown",
   "id": "4052f08b-353b-423e-920f-63f0ee7bdd00",
   "metadata": {},
   "source": [
    "- TODO\n",
    "    - 버퍼별 평균 - 필드 평균 : 오차 테이블 생성\n",
    "    - 지역별 통계 시트에 나눠서 작성\n",
    "    - 플로팅"
   ]
  },
  {
   "cell_type": "code",
   "execution_count": 61,
   "id": "d3a777d4-d91c-4ef4-9648-b714091c3d8e",
   "metadata": {},
   "outputs": [],
   "source": [
    "for Location in loc_list:    \n",
    "    BLUE_mean = pd.DataFrame(globals()[f'{Location}_total'][['BLUE_5M', 'BLUE_10M', 'BLUE_15M', 'BLUE_20M', 'BLUE_25M', 'BLUE_30M', 'Ref_BLU']].mean()).rename(\n",
    "                index={'Ref_BLU':'Field', 'BLUE_5M':'5M', 'BLUE_10M':'10M', 'BLUE_15M':'15M', 'BLUE_20M':'20M', 'BLUE_25M':'25M', 'BLUE_30M':'30M'})\n",
    "    GREEN_mean = pd.DataFrame(globals()[f'{Location}_total'][['GREEN_5M', 'GREEN_10M', 'GREEN_15M', 'GREEN_20M', 'GREEN_25M', 'GREEN_30M', 'Ref_GRN']].mean()).rename(\n",
    "                index={'Ref_GRN':'Field', 'GREEN_5M':'5M', 'GREEN_10M':'10M', 'GREEN_15M':'15M', 'GREEN_20M':'20M', 'GREEN_25M':'25M', 'GREEN_30M':'30M'})\n",
    "    RED_mean = pd.DataFrame(globals()[f'{Location}_total'][['RED_5M', 'RED_10M', 'RED_15M', 'RED_20M', 'RED_25M', 'RED_30M', 'Ref_RED']].mean()).rename(\n",
    "                index={'Ref_RED':'Field', 'RED_5M':'5M', 'RED_10M':'10M', 'RED_15M':'15M', 'RED_20M':'20M', 'RED_25M':'25M', 'RED_30M':'30M'})\n",
    "    NIR_mean = pd.DataFrame(globals()[f'{Location}_total'][['NIR_5M', 'NIR_10M', 'NIR_15M', 'NIR_20M', 'NIR_25M', 'NIR_30M', 'Ref_NIR']].mean()).rename(\n",
    "                index={'Ref_NIR':'Field', 'NIR_5M':'5M', 'NIR_10M':'10M', 'NIR_15M':'15M', 'NIR_20M':'20M', 'NIR_25M':'25M', 'NIR_30M':'30M'})\n",
    "    NDVI_mean = pd.DataFrame(globals()[f'{Location}_total'][['NDVI_5M', 'NDVI_10M', 'NDVI_15M', 'NDVI_20M', 'NDVI_25M', 'NDVI_30M', 'NDVI']].mean()).rename(\n",
    "                index={'NDVI':'Field', 'NDVI_5M':'5M', 'NDVI_10M':'10M', 'NDVI_15M':'15M', 'NDVI_20M':'20M', 'NDVI_25M':'25M', 'NDVI_30M':'30M'})\n",
    "\n",
    "    mean_df = pd.concat([BLUE_mean,GREEN_mean,RED_mean,NIR_mean,NDVI_mean], axis=1)\n",
    "    mean_df.columns = ['BLUE', 'GREEN', 'RED', 'NIR', 'NDVI']\n",
    "    globals()[f'{Location}_mean'] = mean_df.copy()"
   ]
  },
  {
   "cell_type": "markdown",
   "id": "591e654c-84cb-4315-9288-bacf33363cca",
   "metadata": {},
   "source": [
    "## 표준편차"
   ]
  },
  {
   "cell_type": "code",
   "execution_count": 62,
   "id": "df827f16-f595-4010-a759-5d46000199ec",
   "metadata": {},
   "outputs": [],
   "source": [
    "for Location in loc_list:\n",
    "    BLUE_std = pd.DataFrame(globals()[f'{Location}_total'][['BLUE_5M', 'BLUE_10M', 'BLUE_15M', 'BLUE_20M', 'BLUE_25M', 'BLUE_30M', 'Ref_BLU']].std()).rename(\n",
    "                index={'Ref_BLU':'Field', 'BLUE_5M':'5M', 'BLUE_10M':'10M', 'BLUE_15M':'15M', 'BLUE_20M':'20M', 'BLUE_25M':'25M', 'BLUE_30M':'30M'})\n",
    "    GREEN_std = pd.DataFrame(globals()[f'{Location}_total'][['GREEN_5M', 'GREEN_10M', 'GREEN_15M', 'GREEN_20M', 'GREEN_25M', 'GREEN_30M', 'Ref_GRN']].std()).rename(\n",
    "                index={'Ref_GRN':'Field', 'GREEN_5M':'5M', 'GREEN_10M':'10M', 'GREEN_15M':'15M', 'GREEN_20M':'20M', 'GREEN_25M':'25M', 'GREEN_30M':'30M'})\n",
    "    RED_std = pd.DataFrame(globals()[f'{Location}_total'][['RED_5M', 'RED_10M', 'RED_15M', 'RED_20M', 'RED_25M', 'RED_30M', 'Ref_RED']].std()).rename(\n",
    "                index={'Ref_RED':'Field', 'RED_5M':'5M', 'RED_10M':'10M', 'RED_15M':'15M', 'RED_20M':'20M', 'RED_25M':'25M', 'RED_30M':'30M'})\n",
    "    NIR_std = pd.DataFrame(globals()[f'{Location}_total'][['NIR_5M', 'NIR_10M', 'NIR_15M', 'NIR_20M', 'NIR_25M', 'NIR_30M', 'Ref_NIR']].std()).rename(\n",
    "                index={'Ref_NIR':'Field', 'NIR_5M':'5M', 'NIR_10M':'10M', 'NIR_15M':'15M', 'NIR_20M':'20M', 'NIR_25M':'25M', 'NIR_30M':'30M'})\n",
    "    NDVI_std = pd.DataFrame(globals()[f'{Location}_total'][['NDVI_5M', 'NDVI_10M', 'NDVI_15M', 'NDVI_20M', 'NDVI_25M', 'NDVI_30M', 'NDVI']].std()).rename(\n",
    "                index={'NDVI':'Field', 'NDVI_5M':'5M', 'NDVI_10M':'10M', 'NDVI_15M':'15M', 'NDVI_20M':'20M', 'NDVI_25M':'25M', 'NDVI_30M':'30M'})\n",
    "\n",
    "    std_df = pd.concat([BLUE_std,GREEN_std,RED_std,NIR_std,NDVI_std], axis=1)\n",
    "    std_df.columns = ['BLUE', 'GREEN', 'RED', 'NIR', 'NDVI']\n",
    "    globals()[f'{Location}_std'] = std_df.copy()"
   ]
  },
  {
   "cell_type": "markdown",
   "id": "2276d19b-bd60-4343-8f8b-6d42ec4e533a",
   "metadata": {},
   "source": [
    "# 데이터 시각화"
   ]
  },
  {
   "cell_type": "markdown",
   "id": "2dbfee60-77a5-41ca-ae98-4c1cbe72a3d8",
   "metadata": {},
   "source": [
    "## 전체일자 지역별 평균"
   ]
  },
  {
   "cell_type": "code",
   "execution_count": 63,
   "id": "a1204a30-8013-4603-853b-b791ed39842e",
   "metadata": {},
   "outputs": [
    {
     "data": {
      "application/vnd.jupyter.widget-view+json": {
       "model_id": "22f2ec4fef3946749cb5dbe10d1c9296",
       "version_major": 2,
       "version_minor": 0
      },
      "text/plain": [
       "interactive(children=(Dropdown(description='Location', options=('AMD', 'GCK', 'HAWS1', 'JJ', 'PYC'), value='AM…"
      ]
     },
     "metadata": {},
     "output_type": "display_data"
    }
   ],
   "source": [
    "location = widgets.Dropdown(options=loc_list)\n",
    "\n",
    "@interact\n",
    "def showByLocationMean(Location = location):\n",
    "    return globals()[f'{Location}_mean']"
   ]
  },
  {
   "cell_type": "markdown",
   "id": "6ee56d66-b5b3-4b1f-a5c0-6c87fd6c51ba",
   "metadata": {},
   "source": [
    "## 전체일자 지역별 표준편차"
   ]
  },
  {
   "cell_type": "code",
   "execution_count": 64,
   "id": "3262821a-a76f-45d7-a6a7-cb121acf45aa",
   "metadata": {},
   "outputs": [
    {
     "data": {
      "application/vnd.jupyter.widget-view+json": {
       "model_id": "c1f4e862bb2e46c9bd2c6559bf48cfd9",
       "version_major": 2,
       "version_minor": 0
      },
      "text/plain": [
       "interactive(children=(Dropdown(description='Location', options=('AMD', 'GCK', 'HAWS1', 'JJ', 'PYC'), value='AM…"
      ]
     },
     "metadata": {},
     "output_type": "display_data"
    }
   ],
   "source": [
    "location2 = widgets.Dropdown(options=loc_list)\n",
    "\n",
    "@interact\n",
    "def showByLocationMean(Location = location2):\n",
    "    return globals()[f'{Location}_std']"
   ]
  },
  {
   "cell_type": "code",
   "execution_count": null,
   "id": "aea57cdc-a94e-4788-9901-39b44b9216cb",
   "metadata": {},
   "outputs": [],
   "source": []
  }
 ],
 "metadata": {
  "kernelspec": {
   "display_name": "Python 3 (ipykernel)",
   "language": "python",
   "name": "python3"
  },
  "language_info": {
   "codemirror_mode": {
    "name": "ipython",
    "version": 3
   },
   "file_extension": ".py",
   "mimetype": "text/x-python",
   "name": "python",
   "nbconvert_exporter": "python",
   "pygments_lexer": "ipython3",
   "version": "3.9.12"
  }
 },
 "nbformat": 4,
 "nbformat_minor": 5
}
