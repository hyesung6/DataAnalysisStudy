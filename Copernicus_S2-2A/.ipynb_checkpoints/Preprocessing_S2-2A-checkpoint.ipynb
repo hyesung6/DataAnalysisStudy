{
 "cells": [
  {
   "cell_type": "code",
   "execution_count": 1,
   "id": "8805bfe4-09ee-43a0-9cab-cb138e313ac3",
   "metadata": {},
   "outputs": [],
   "source": [
    "import numpy as np\n",
    "import pandas as pd"
   ]
  },
  {
   "cell_type": "code",
   "execution_count": 3,
   "id": "87bedb86-3fe1-40bc-96f8-ff18cdc9dba1",
   "metadata": {},
   "outputs": [],
   "source": [
    "data = pd.read_csv('20210101-20210331.csv', encoding='utf-8')"
   ]
  },
  {
   "cell_type": "code",
   "execution_count": 10,
   "id": "c1d980e4-53e0-4e18-a975-f9e544bc4a96",
   "metadata": {
    "tags": []
   },
   "outputs": [
    {
     "data": {
      "text/plain": [
       "array(['system:index', 'AOT', 'AOT_RETRIEVAL_ACCURACY', 'B1', 'B11',\n",
       "       'B12', 'B2', 'B3', 'B4', 'B5', 'B6', 'B7', 'B8', 'B8A', 'B9',\n",
       "       'CLOUDY_PIXEL_PERCENTAGE', 'CLOUD_COVERAGE_ASSESSMENT',\n",
       "       'CLOUD_SHADOW_PERCENTAGE', 'DARK_FEATURES_PERCENTAGE',\n",
       "       'DATASTRIP_ID', 'DATATAKE_IDENTIFIER', 'DATATAKE_TYPE',\n",
       "       'DEGRADED_MSI_DATA_PERCENTAGE', 'FORMAT_CORRECTNESS',\n",
       "       'GENERAL_QUALITY', 'GENERATION_TIME', 'GEOMETRIC_QUALITY',\n",
       "       'GRANULE_ID', 'HIGH_PROBA_CLOUDS_PERCENTAGE',\n",
       "       'MEAN_INCIDENCE_AZIMUTH_ANGLE_B1',\n",
       "       'MEAN_INCIDENCE_AZIMUTH_ANGLE_B10',\n",
       "       'MEAN_INCIDENCE_AZIMUTH_ANGLE_B11',\n",
       "       'MEAN_INCIDENCE_AZIMUTH_ANGLE_B12',\n",
       "       'MEAN_INCIDENCE_AZIMUTH_ANGLE_B2',\n",
       "       'MEAN_INCIDENCE_AZIMUTH_ANGLE_B3',\n",
       "       'MEAN_INCIDENCE_AZIMUTH_ANGLE_B4',\n",
       "       'MEAN_INCIDENCE_AZIMUTH_ANGLE_B5',\n",
       "       'MEAN_INCIDENCE_AZIMUTH_ANGLE_B6',\n",
       "       'MEAN_INCIDENCE_AZIMUTH_ANGLE_B7',\n",
       "       'MEAN_INCIDENCE_AZIMUTH_ANGLE_B8',\n",
       "       'MEAN_INCIDENCE_AZIMUTH_ANGLE_B8A',\n",
       "       'MEAN_INCIDENCE_AZIMUTH_ANGLE_B9',\n",
       "       'MEAN_INCIDENCE_ZENITH_ANGLE_B1',\n",
       "       'MEAN_INCIDENCE_ZENITH_ANGLE_B10',\n",
       "       'MEAN_INCIDENCE_ZENITH_ANGLE_B11',\n",
       "       'MEAN_INCIDENCE_ZENITH_ANGLE_B12',\n",
       "       'MEAN_INCIDENCE_ZENITH_ANGLE_B2', 'MEAN_INCIDENCE_ZENITH_ANGLE_B3',\n",
       "       'MEAN_INCIDENCE_ZENITH_ANGLE_B4', 'MEAN_INCIDENCE_ZENITH_ANGLE_B5',\n",
       "       'MEAN_INCIDENCE_ZENITH_ANGLE_B6', 'MEAN_INCIDENCE_ZENITH_ANGLE_B7',\n",
       "       'MEAN_INCIDENCE_ZENITH_ANGLE_B8',\n",
       "       'MEAN_INCIDENCE_ZENITH_ANGLE_B8A',\n",
       "       'MEAN_INCIDENCE_ZENITH_ANGLE_B9', 'MEAN_SOLAR_AZIMUTH_ANGLE',\n",
       "       'MEAN_SOLAR_ZENITH_ANGLE', 'MEDIUM_PROBA_CLOUDS_PERCENTAGE',\n",
       "       'MGRS_TILE', 'MSK_CLDPRB', 'MSK_SNWPRB', 'NODATA_PIXEL_PERCENTAGE',\n",
       "       'NOT_VEGETATED_PERCENTAGE', 'PROCESSING_BASELINE', 'PRODUCT_ID',\n",
       "       'QA10', 'QA20', 'QA60', 'RADIATIVE_TRANSFER_ACCURACY',\n",
       "       'RADIOMETRIC_QUALITY', 'REFLECTANCE_CONVERSION_CORRECTION',\n",
       "       'SATURATED_DEFECTIVE_PIXEL_PERCENTAGE', 'SCL',\n",
       "       'SENSING_ORBIT_DIRECTION', 'SENSING_ORBIT_NUMBER',\n",
       "       'SENSOR_QUALITY', 'SNOW_ICE_PERCENTAGE', 'SOLAR_IRRADIANCE_B1',\n",
       "       'SOLAR_IRRADIANCE_B10', 'SOLAR_IRRADIANCE_B11',\n",
       "       'SOLAR_IRRADIANCE_B12', 'SOLAR_IRRADIANCE_B2',\n",
       "       'SOLAR_IRRADIANCE_B3', 'SOLAR_IRRADIANCE_B4',\n",
       "       'SOLAR_IRRADIANCE_B5', 'SOLAR_IRRADIANCE_B6',\n",
       "       'SOLAR_IRRADIANCE_B7', 'SOLAR_IRRADIANCE_B8',\n",
       "       'SOLAR_IRRADIANCE_B8A', 'SOLAR_IRRADIANCE_B9', 'SPACECRAFT_NAME',\n",
       "       'TCI_B', 'TCI_G', 'TCI_R', 'THIN_CIRRUS_PERCENTAGE',\n",
       "       'UNCLASSIFIED_PERCENTAGE', 'VEGETATION_PERCENTAGE',\n",
       "       'WATER_PERCENTAGE', 'WATER_VAPOUR_RETRIEVAL_ACCURACY', 'WVP',\n",
       "       'ndvi', 'system:asset_size', 'system:band_names', 'system:bands',\n",
       "       'system:footprint', 'system:id', 'system:time_end',\n",
       "       'system:time_start', 'system:version', '.geo'], dtype=object)"
      ]
     },
     "execution_count": 10,
     "metadata": {},
     "output_type": "execute_result"
    }
   ],
   "source": [
    "data.columns.values"
   ]
  },
  {
   "cell_type": "code",
   "execution_count": 31,
   "id": "2fb9fd97-36c7-4d06-af70-76de685c0c63",
   "metadata": {},
   "outputs": [
    {
     "data": {
      "text/plain": [
       "'[B1, B2, B3, B4, B5, B6, B7, B8, B8A, B9, B11, B12, AOT, WVP, SCL, TCI_R, TCI_G, TCI_B, MSK_CLDPRB, MSK_SNWPRB, QA10, QA20, QA60, ndvi]'"
      ]
     },
     "execution_count": 31,
     "metadata": {},
     "output_type": "execute_result"
    }
   ],
   "source": [
    "data['system:band_names'][0]"
   ]
  },
  {
   "cell_type": "code",
   "execution_count": 33,
   "id": "f525bdd9-5489-403e-a3d0-7d93048b87fb",
   "metadata": {
    "tags": []
   },
   "outputs": [
    {
     "data": {
      "text/html": [
       "<div>\n",
       "<style scoped>\n",
       "    .dataframe tbody tr th:only-of-type {\n",
       "        vertical-align: middle;\n",
       "    }\n",
       "\n",
       "    .dataframe tbody tr th {\n",
       "        vertical-align: top;\n",
       "    }\n",
       "\n",
       "    .dataframe thead th {\n",
       "        text-align: right;\n",
       "    }\n",
       "</style>\n",
       "<table border=\"1\" class=\"dataframe\">\n",
       "  <thead>\n",
       "    <tr style=\"text-align: right;\">\n",
       "      <th></th>\n",
       "      <th>system:index</th>\n",
       "      <th>AOT</th>\n",
       "      <th>AOT_RETRIEVAL_ACCURACY</th>\n",
       "      <th>B1</th>\n",
       "      <th>B11</th>\n",
       "      <th>B12</th>\n",
       "      <th>B2</th>\n",
       "      <th>B3</th>\n",
       "      <th>B4</th>\n",
       "      <th>B5</th>\n",
       "      <th>...</th>\n",
       "      <th>ndvi</th>\n",
       "      <th>system:asset_size</th>\n",
       "      <th>system:band_names</th>\n",
       "      <th>system:bands</th>\n",
       "      <th>system:footprint</th>\n",
       "      <th>system:id</th>\n",
       "      <th>system:time_end</th>\n",
       "      <th>system:time_start</th>\n",
       "      <th>system:version</th>\n",
       "      <th>.geo</th>\n",
       "    </tr>\n",
       "  </thead>\n",
       "  <tbody>\n",
       "    <tr>\n",
       "      <th>0</th>\n",
       "      <td>20210117T022029_20210117T022027_T52SCF_2021011...</td>\n",
       "      <td>76.011705</td>\n",
       "      <td>0.0</td>\n",
       "      <td>316.892441</td>\n",
       "      <td>1887.628168</td>\n",
       "      <td>1375.549324</td>\n",
       "      <td>443.360313</td>\n",
       "      <td>572.090456</td>\n",
       "      <td>734.79284</td>\n",
       "      <td>926.953552</td>\n",
       "      <td>...</td>\n",
       "      <td>0.347715</td>\n",
       "      <td>1848223741</td>\n",
       "      <td>[B1, B2, B3, B4, B5, B6, B7, B8, B8A, B9, B11,...</td>\n",
       "      <td>&lt;Element&gt;</td>\n",
       "      <td>LinearRing(127.98548549639763,37.0423346972869...</td>\n",
       "      <td>COPERNICUS/S2_SR/20210117T022029_20210117T0220...</td>\n",
       "      <td>1.610850e+12</td>\n",
       "      <td>1.610850e+12</td>\n",
       "      <td>1611079662833821</td>\n",
       "      <td>{\"type\":\"Polygon\",\"coordinates\":[[[127.9854854...</td>\n",
       "    </tr>\n",
       "  </tbody>\n",
       "</table>\n",
       "<p>1 rows × 110 columns</p>\n",
       "</div>"
      ],
      "text/plain": [
       "                                        system:index        AOT  \\\n",
       "0  20210117T022029_20210117T022027_T52SCF_2021011...  76.011705   \n",
       "\n",
       "   AOT_RETRIEVAL_ACCURACY          B1          B11          B12          B2  \\\n",
       "0                     0.0  316.892441  1887.628168  1375.549324  443.360313   \n",
       "\n",
       "           B3         B4          B5  ...      ndvi  system:asset_size  \\\n",
       "0  572.090456  734.79284  926.953552  ...  0.347715         1848223741   \n",
       "\n",
       "                                   system:band_names  system:bands  \\\n",
       "0  [B1, B2, B3, B4, B5, B6, B7, B8, B8A, B9, B11,...     <Element>   \n",
       "\n",
       "                                    system:footprint  \\\n",
       "0  LinearRing(127.98548549639763,37.0423346972869...   \n",
       "\n",
       "                                           system:id  system:time_end  \\\n",
       "0  COPERNICUS/S2_SR/20210117T022029_20210117T0220...     1.610850e+12   \n",
       "\n",
       "   system:time_start    system:version  \\\n",
       "0       1.610850e+12  1611079662833821   \n",
       "\n",
       "                                                .geo  \n",
       "0  {\"type\":\"Polygon\",\"coordinates\":[[[127.9854854...  \n",
       "\n",
       "[1 rows x 110 columns]"
      ]
     },
     "execution_count": 33,
     "metadata": {},
     "output_type": "execute_result"
    }
   ],
   "source": []
  }
 ],
 "metadata": {
  "kernelspec": {
   "display_name": "Python 3 (ipykernel)",
   "language": "python",
   "name": "python3"
  },
  "language_info": {
   "codemirror_mode": {
    "name": "ipython",
    "version": 3
   },
   "file_extension": ".py",
   "mimetype": "text/x-python",
   "name": "python",
   "nbconvert_exporter": "python",
   "pygments_lexer": "ipython3",
   "version": "3.9.12"
  }
 },
 "nbformat": 4,
 "nbformat_minor": 5
}
