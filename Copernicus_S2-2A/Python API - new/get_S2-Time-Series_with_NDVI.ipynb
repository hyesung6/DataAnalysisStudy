{
 "cells": [
  {
   "cell_type": "markdown",
   "id": "a45c09c0-e33d-4389-b247-7b3b64c11ea6",
   "metadata": {},
   "source": [
    "# 프로세스 준비"
   ]
  },
  {
   "cell_type": "code",
   "execution_count": null,
   "id": "99242cb2-6d6d-4b9d-a760-1ed446312a5a",
   "metadata": {},
   "outputs": [],
   "source": [
    "## 설치 필요 라이브러리 목록\n",
    "# !pip install ee\n",
    "# !pip install geemap\n",
    "# !pip install ipympl"
   ]
  },
  {
   "cell_type": "code",
   "execution_count": 1,
   "id": "77bc0ddb-1c17-4667-8ffb-f1f9e2297641",
   "metadata": {},
   "outputs": [
    {
     "data": {
      "text/html": [
       "        <script type=\"text/javascript\">\n",
       "        window.PlotlyConfig = {MathJaxConfig: 'local'};\n",
       "        if (window.MathJax) {MathJax.Hub.Config({SVG: {font: \"STIX-Web\"}});}\n",
       "        if (typeof require !== 'undefined') {\n",
       "        require.undef(\"plotly\");\n",
       "        requirejs.config({\n",
       "            paths: {\n",
       "                'plotly': ['https://cdn.plot.ly/plotly-2.9.0.min']\n",
       "            }\n",
       "        });\n",
       "        require(['plotly'], function(Plotly) {\n",
       "            window._Plotly = Plotly;\n",
       "        });\n",
       "        }\n",
       "        </script>\n",
       "        "
      ]
     },
     "metadata": {},
     "output_type": "display_data"
    }
   ],
   "source": [
    "import ee, geemap, os, shutil\n",
    "import pandas as pd\n",
    "import matplotlib.pyplot as plt\n",
    "from matplotlib import font_manager, rc\n",
    "import ipyleaflet\n",
    "import ipywidgets as widgets\n",
    "from ipywidgets import interact, interact_manual\n",
    "import numpy as np\n",
    "import cufflinks as cf\n",
    "cf.go_offline(connected=True)"
   ]
  },
  {
   "cell_type": "code",
   "execution_count": 2,
   "id": "0f65218d-a2fa-4630-aba9-355796490474",
   "metadata": {},
   "outputs": [],
   "source": [
    "geemap.ee_initialize()"
   ]
  },
  {
   "cell_type": "code",
   "execution_count": 3,
   "id": "aac3390e-bc75-4250-bc7f-c2526ae938f9",
   "metadata": {},
   "outputs": [],
   "source": [
    "def addNDVI(image):\n",
    "    ndvi = image.normalizedDifference(['B8', 'B4']).rename('NDVI')\n",
    "    return image.addBands([ndvi])"
   ]
  },
  {
   "cell_type": "code",
   "execution_count": 4,
   "id": "232037e2-bdfd-4bfa-a502-b9976df5cb11",
   "metadata": {},
   "outputs": [],
   "source": [
    "def maskS2clouds(image):\n",
    "    qa = image.select('QA60')\n",
    "    \n",
    "    cloudBitMask = 1 << 10\n",
    "    cirrusBitMask = 1 << 11\n",
    "    \n",
    "    mask = (qa.bitwiseAnd(cloudBitMask).eq(0) and qa.bitwiseAnd(cirrusBitMask).eq(0))\n",
    "        \n",
    "    return image.updateMask(mask)"
   ]
  },
  {
   "cell_type": "code",
   "execution_count": 5,
   "id": "8e5624e6-cac7-4dfc-b65e-04ada78971c1",
   "metadata": {},
   "outputs": [],
   "source": [
    "def clipPoint(image):\n",
    "    return image.clip(ee.Geometry.Point(point).buffer(250).bounds())\\\n",
    "                .reduceRegions(\n",
    "                     collection = points,\n",
    "                     reducer = ee.Reducer.mean(),\n",
    "                     scale = 10)"
   ]
  },
  {
   "cell_type": "markdown",
   "id": "bb47ff9f-098a-4a2a-9225-b281c8c030cc",
   "metadata": {},
   "source": [
    "---\n",
    "# 데이터 준비"
   ]
  },
  {
   "cell_type": "code",
   "execution_count": 6,
   "id": "07c4fd45-a5d1-45ef-81cd-16f5f59cd61a",
   "metadata": {},
   "outputs": [],
   "source": [
    "table = geemap.shp_to_ee('shp file here')\n",
    "df = geemap.ee_to_df(table)"
   ]
  },
  {
   "cell_type": "code",
   "execution_count": 7,
   "id": "22629c03-ed11-412b-b04d-f9f088b11326",
   "metadata": {},
   "outputs": [],
   "source": [
    "coords = df[['Location', 'Lon', 'Lat']].drop_duplicates().copy()\n",
    "\n",
    "coords_dict = { }"
   ]
  },
  {
   "attachments": {},
   "cell_type": "markdown",
   "id": "cc823dd1-6105-4807-83c3-126003c5a1bd",
   "metadata": {},
   "source": [
    "## 데이터가 있는 Location만 진행하는 경우"
   ]
  },
  {
   "cell_type": "code",
   "execution_count": null,
   "id": "2598f4bc-b9bf-41dd-affe-7355631131f6",
   "metadata": {},
   "outputs": [],
   "source": [
    "loc_list = list(map(lambda x: x.strip('.xlsx'), os.listdir('data')))\n",
    "df = df[df['Location'].isin(loc_list)].sort_values(['Location', 'BUFF'])\n",
    "\n",
    "loc_list"
   ]
  },
  {
   "cell_type": "markdown",
   "id": "d9e64c6c-2114-440f-976e-8014212cddb2",
   "metadata": {},
   "source": [
    "## 모든 Location 대상으로 진행하는 경우"
   ]
  },
  {
   "cell_type": "code",
   "execution_count": null,
   "id": "aca9e707-fa4e-42fa-9233-4cf0757d9e49",
   "metadata": {},
   "outputs": [],
   "source": [
    "loc_list = list(coords['Location'].values)\n",
    "loc_list"
   ]
  },
  {
   "cell_type": "markdown",
   "id": "ef3ae32f-b728-4196-8501-46f3a84cc4ac",
   "metadata": {},
   "source": [
    "---"
   ]
  },
  {
   "cell_type": "markdown",
   "id": "8cf30649-42a5-41ff-a8cd-9525e5325ebe",
   "metadata": {
    "tags": []
   },
   "source": [
    "# 위성 이미지 출력"
   ]
  },
  {
   "cell_type": "markdown",
   "id": "4f0e377f-42f4-4513-b989-b159ef27a944",
   "metadata": {},
   "source": [
    "- location 변수에 Location 코드 입력하여 사용"
   ]
  },
  {
   "cell_type": "code",
   "execution_count": 9,
   "id": "22e3a6fe-4a97-41e2-9c8e-47fe1a174cbb",
   "metadata": {
    "tags": []
   },
   "outputs": [],
   "source": [
    "location = ''\n",
    "\n",
    "point = coords_dict[f'{location}_coord']\n",
    "\n",
    "start_date = '2022-01-01'\n",
    "end_date = '2022-12-01'\n",
    "\n",
    "images = (ee.ImageCollection(\"COPERNICUS/S2_SR_HARMONIZED\")\n",
    "       .select(['B2', 'B3', 'B4', 'B8', 'QA60'])\n",
    "       .filterDate(start_date, end_date)\n",
    "       .filterBounds(ee.Geometry.Point(point))\n",
    "       .filterMetadata('CLOUDY_PIXEL_PERCENTAGE', 'less_than', 10)\n",
    "       .map(addNDVI)\n",
    "       .map(maskS2clouds))\n",
    "\n",
    "vis = {'bands': ['B4', 'B3', 'B2'],\n",
    "       'min': 0,\n",
    "       'max': 3000,\n",
    "       'gamma':1.4  }"
   ]
  },
  {
   "cell_type": "code",
   "execution_count": null,
   "id": "47068b65-39c1-4a56-83da-42854ad185fc",
   "metadata": {
    "tags": []
   },
   "outputs": [],
   "source": [
    "''' 이미지컬렉션 사이즈 확인 '''\n",
    "size = images.size()\n",
    "print(f'{location} data size : {size.getInfo()}')\n",
    "\n",
    "images_list = images.toList(size)\n",
    "print(f'{location} data_list size : {images_list.length().getInfo()}')"
   ]
  },
  {
   "cell_type": "code",
   "execution_count": 11,
   "id": "f1a350ae-4256-4070-8a8a-a1a3b00b9465",
   "metadata": {},
   "outputs": [
    {
     "data": {
      "application/vnd.jupyter.widget-view+json": {
       "model_id": "6291587c43af4e8fb43083988a861e50",
       "version_major": 2,
       "version_minor": 0
      },
      "text/plain": [
       "Map(center=[33.3179, 126.568], controls=(WidgetControl(options=['position', 'transparent_bg'], widget=HBox(chi…"
      ]
     },
     "metadata": {},
     "output_type": "display_data"
    }
   ],
   "source": [
    "Map = geemap.Map()\n",
    "Map.setCenter(point[0], point[1], 16)\n",
    "Map.addLayer(ee.Image(images_list.get(2)).clip(ee.Geometry.Point(point).buffer(500).bounds()), vis, 'Sentinel-2')\n",
    "Map.addLayer(ee.Image().paint(ee.Geometry.Point(point).buffer(250).bounds(), 0, 1), {'palette': 'FF0000'}, 'Box Outline')\n",
    "Map.addLayer(ee.Image().paint(ee.Geometry.Point(point).buffer(30), 0, 1), {'palette': 'FFFF00'}, 'Center point')\n",
    "Map"
   ]
  },
  {
   "cell_type": "markdown",
   "id": "48695163-9bdf-46e6-8b2c-f963431b39bf",
   "metadata": {
    "tags": []
   },
   "source": [
    "---\n",
    "# 데이터 생성 및 전처리"
   ]
  },
  {
   "cell_type": "markdown",
   "id": "b4406dcc-dc99-40e3-9a91-77d5c546a3dd",
   "metadata": {},
   "source": [
    "## 위성 이미지 png 저장"
   ]
  },
  {
   "cell_type": "code",
   "execution_count": 13,
   "id": "ca88c693-3faa-45bc-9a2b-a8a647472601",
   "metadata": {
    "tags": []
   },
   "outputs": [],
   "source": [
    "''' 일자 및 폴더 지정 '''\n",
    "if not os.path.exists('Sentinel-2 data'):\n",
    "    os.makedirs('Sentinel-2 data')\n",
    "os.chdir('Sentinel-2 data')\n",
    "    \n",
    "start_date = '2022-01-01'\n",
    "end_date = '2022-12-01'\n",
    "img_save_dir = f'{start_date}-{end_date}_Images'"
   ]
  },
  {
   "cell_type": "code",
   "execution_count": null,
   "id": "ee05c55b-19ad-4225-9b7c-efbb14405e58",
   "metadata": {
    "tags": []
   },
   "outputs": [],
   "source": [
    "''' 폴더 생성 '''\n",
    "# 해당 경로 폴더가 이미 있으면 삭제하고 진행하므로 img_save_dir 변수 확인하고 진행\n",
    "if os.path.exists(img_save_dir):\n",
    "    shutil.rmtree(img_save_dir)\n",
    "os.makedirs(img_save_dir)\n",
    "\n",
    "''' 전체 관측일자 Image 저장 '''\n",
    "for location in loc_list:\n",
    "    point = coords_dict[f'{location}_coord']\n",
    "\n",
    "    images = (ee.ImageCollection(\"COPERNICUS/S2_SR_HARMONIZED\")\n",
    "           .select(['B2', 'B3', 'B4', 'B8', 'QA60'])\n",
    "           .filterDate(start_date, end_date)\n",
    "           .filterBounds(ee.Geometry.Point(point))\n",
    "           .filterMetadata('CLOUDY_PIXEL_PERCENTAGE', 'less_than', 10)\n",
    "           .map(addNDVI)\n",
    "           .map(maskS2clouds))\n",
    "    \n",
    "    vis = {'bands': ['B4', 'B3', 'B2'],\n",
    "       'min': 0,\n",
    "       'max': 3000,\n",
    "       'gamma':1.4  }\n",
    "    \n",
    "    size = images.size()\n",
    "    images_list = images.toList(size)\n",
    "    \n",
    "    for num in range(size.getInfo()):\n",
    "        targetImage = ee.Image(images_list.get(num)).clip(ee.Geometry.Point(point).buffer(300).bounds())\n",
    "        datetime = ee.Date(ee.Image(images_list.get(num)).get('system:time_start')).format().getInfo()\n",
    "        filename = f\"{img_save_dir}\\\\{location}_Images\\\\{location}_{datetime[:10]}.png\"\n",
    "        \n",
    "        for i in range(1, 5):\n",
    "            if not os.path.exists(filename):\n",
    "                filename = filename\n",
    "            elif os.path.exists(filename):\n",
    "                filename = f\"{img_save_dir}\\\\{location}_Images\\\\{location}_{datetime[:10]}({i}).png\"\n",
    "            \n",
    "        geemap.get_image_thumbnail(targetImage, filename, vis, dimensions=1000)\n",
    "        print(f\"{filename} 생성 완료.\")\n",
    "    print(f\"총 {size.getInfo()}개 Image 생성 완료.\", \"=\"*70, sep=\"\\n\")\n",
    "    print()"
   ]
  },
  {
   "cell_type": "markdown",
   "id": "179d31b4-f20a-4b74-81c6-8425a2662831",
   "metadata": {},
   "source": [
    "## 시계열 테이블 전처리 및 csv 저장"
   ]
  },
  {
   "cell_type": "code",
   "execution_count": 15,
   "id": "670acabf-3228-4328-a8fe-8ea80bdc4649",
   "metadata": {},
   "outputs": [],
   "source": [
    "''' FeatureCollection 생성 '''\n",
    "points = ee.FeatureCollection(table)"
   ]
  },
  {
   "cell_type": "code",
   "execution_count": 16,
   "id": "801c94ca-957b-4763-9a68-051dce4e0b33",
   "metadata": {},
   "outputs": [],
   "source": [
    "''' 일자 및 폴더 지정 '''\n",
    "start_date = '2022-01-01'\n",
    "end_date = '2022-12-01'\n",
    "csv_save_dir = f'{start_date}-{end_date}_Time-Series'"
   ]
  },
  {
   "cell_type": "code",
   "execution_count": null,
   "id": "7d151ed7-d5e7-49db-b593-e7697acaee95",
   "metadata": {
    "tags": []
   },
   "outputs": [],
   "source": [
    "''' 폴더 생성 '''\n",
    "# 해당 경로 폴더가 이미 있으면 삭제하고 진행하므로 csv_save_dir 변수 확인하고 진행\n",
    "if os.path.exists(csv_save_dir):\n",
    "    shutil.rmtree(csv_save_dir)  \n",
    "os.makedirs(csv_save_dir)\n",
    "\n",
    "''' 지점별로 시계열 csv파일 생성, 전처리, 이후 활용할 df 생성 반복 '''\n",
    "for location in loc_list:\n",
    "    point = coords_dict[f'{location}_coord']\n",
    "    \n",
    "    images = (ee.ImageCollection(\"COPERNICUS/S2_SR_HARMONIZED\")\n",
    "           .select(['B2', 'B3', 'B4', 'B8', 'QA60'])\n",
    "           .filterDate(start_date, end_date)\n",
    "           .filterBounds(ee.Geometry.Point(point))\n",
    "           .filterMetadata('CLOUDY_PIXEL_PERCENTAGE', 'less_than', 10)\n",
    "           .map(addNDVI)\n",
    "           .map(maskS2clouds))\n",
    "\n",
    "    features = images.map(clipPoint).flatten()\n",
    "    \n",
    "    geemap.ee_to_csv(features, f'{csv_save_dir}\\\\temp.csv')\n",
    "    feature_df = pd.read_csv(f'{csv_save_dir}\\\\temp.csv', encoding='utf-8')\n",
    "    feature_df_cleaned = feature_df.reset_index().sort_values(by=['Location', 'index'])\n",
    "    feature_df_cleaned = feature_df_cleaned[['system:index', 'Location', 'BUFF_DIST', 'B2', 'B3', 'B4', 'B8', 'NDVI']].dropna() \n",
    "    feature_df_cleaned.rename(columns={'B2':'Blue', 'B3':'Green', 'B4':'Red', 'B8':'NIR'}, inplace=True)\n",
    "    feature_df_cleaned[['Blue', 'Green', 'Red', 'NIR']] *= 0.0001\n",
    "    feature_df_cleaned.rename(columns={'system:index':'DATE'}, inplace=True)\n",
    "    feature_df_cleaned['DATE'] = feature_df_cleaned['DATE'].apply(lambda x: f\"{x[:4]}-{x[4:6]}-{x[6:8]}\")\n",
    "\n",
    "    feature_df_cleaned.to_csv(f'{csv_save_dir}\\\\{location}_S2.csv', encoding='utf-8', index=False)\n",
    "    globals()[f'{location}_df'] = feature_df_cleaned.copy()\n",
    "    \n",
    "os.remove(f'{csv_save_dir}\\\\temp.csv')"
   ]
  },
  {
   "cell_type": "code",
   "execution_count": null,
   "id": "2e51a353-9fb7-4d62-80a0-de4a4310d5e5",
   "metadata": {},
   "outputs": [],
   "source": [
    "''' 통합 df 생성 '''\n",
    "total_df = pd.concat([globals()[f'{location}_df'] for location in loc_list], axis=0)\n",
    "total_df.to_csv(f'{csv_save_dir}\\\\TOTAL_S2.csv', encoding='utf-8', index=False)\n",
    "\n",
    "total_df.info()"
   ]
  },
  {
   "cell_type": "markdown",
   "id": "4158c5b2-47ee-4d3d-8f0e-46ee1415f4fa",
   "metadata": {},
   "source": [
    "---\n",
    "# 데이터 시각화"
   ]
  },
  {
   "cell_type": "markdown",
   "id": "22a9db38-fcff-4881-aa3f-8acd054d10e5",
   "metadata": {},
   "source": [
    "- 데이터 로드"
   ]
  },
  {
   "cell_type": "code",
   "execution_count": 21,
   "id": "8f035cb1-2537-4eda-b731-b3f12df74cc9",
   "metadata": {},
   "outputs": [],
   "source": [
    "total_df = pd.read_csv(f'{csv_save_dir}\\\\TOTAL_S2.csv', encoding='utf-8')"
   ]
  },
  {
   "cell_type": "markdown",
   "id": "7ed6ce5f-0cbf-43dd-9a81-7ebc51afe6ea",
   "metadata": {
    "tags": []
   },
   "source": [
    "## 지역별 관측 개수 시각화"
   ]
  },
  {
   "cell_type": "code",
   "execution_count": 15,
   "id": "e159658f-45cf-4521-8234-0f915dc80b52",
   "metadata": {},
   "outputs": [],
   "source": [
    "# 그래프에 한글 출력 시 사용\n",
    "\n",
    "font_path = \"C:/Windows/Fonts/NGULIM.TTF\"\n",
    "font = font_manager.FontProperties(fname=font_path).get_name()\n",
    "rc('font', family=font)"
   ]
  },
  {
   "cell_type": "code",
   "execution_count": null,
   "id": "c27d5eaf-e471-4682-b23a-1e7d9004344b",
   "metadata": {},
   "outputs": [],
   "source": [
    "counts = total_df['Location'].value_counts()/6\n",
    "\n",
    "plt.figure(figsize=(8, 8))\n",
    "plt.title('Observation number by Location')\n",
    "bars = plt.bar(counts.index, counts, width=0.4)\n",
    "plt.ylim(0, counts.max()*1.25) \n",
    "\n",
    "for bar in bars:\n",
    "    height = bar.get_height()\n",
    "    plt.text(bar.get_x() + bar.get_width()/2.0, \n",
    "             height, f'{height:.1f}', ha='center', va='bottom', size = 11)\n",
    "    \n",
    "plt.show()"
   ]
  },
  {
   "cell_type": "markdown",
   "id": "77781efd-65f0-4d70-afaa-b44fd1172abb",
   "metadata": {},
   "source": [
    "## 일별 테이블"
   ]
  },
  {
   "cell_type": "code",
   "execution_count": 23,
   "id": "2fbd632b-f5d7-47e3-abc3-a7049816dea1",
   "metadata": {
    "tags": []
   },
   "outputs": [
    {
     "data": {
      "application/vnd.jupyter.widget-view+json": {
       "model_id": "ae129f562c7e4f649493ec644282c6c4",
       "version_major": 2,
       "version_minor": 0
      },
      "text/plain": [
       "interactive(children=(Dropdown(description='Location', options=('AMD', 'GCK', 'HAWS1', 'JJ', 'PYC'), value='AM…"
      ]
     },
     "metadata": {},
     "output_type": "display_data"
    }
   ],
   "source": [
    "location = widgets.Dropdown(options=loc_list)\n",
    "date = widgets.Dropdown(options=total_df['DATE'][total_df['Location'] == location.value].drop_duplicates())\n",
    "\n",
    "def change_loc(*args):\n",
    "    date.options = total_df['DATE'][total_df['Location'] == location.value].drop_duplicates()\n",
    "\n",
    "location.observe(change_loc, 'value')\n",
    "\n",
    "@interact\n",
    "def showByDate( Location = location,\n",
    "                Date = date ):\n",
    "\n",
    "    return total_df.loc[(total_df.Location == Location) & (total_df.DATE == Date)]"
   ]
  },
  {
   "cell_type": "markdown",
   "id": "4f5d4ff5-4ebe-4750-8db9-478ab0dae604",
   "metadata": {},
   "source": [
    "## 일 / 밴드별 그래프"
   ]
  },
  {
   "cell_type": "markdown",
   "id": "b6fa4457-d1a5-4055-9093-58571e8f2f53",
   "metadata": {},
   "source": [
    "- 한 날짜에 관측 건수가 여러 건이 있어 중복되는 경우 평균으로 출력"
   ]
  },
  {
   "cell_type": "code",
   "execution_count": 24,
   "id": "cad73083-6405-4ad6-a1f9-eb9fff6a5228",
   "metadata": {},
   "outputs": [
    {
     "data": {
      "application/vnd.jupyter.widget-view+json": {
       "model_id": "c4a5ddaab3e94b3089b6b5b152784c43",
       "version_major": 2,
       "version_minor": 0
      },
      "text/plain": [
       "interactive(children=(Dropdown(description='Location', options=('AMD', 'GCK', 'HAWS1', 'JJ', 'PYC'), value='AM…"
      ]
     },
     "metadata": {},
     "output_type": "display_data"
    }
   ],
   "source": [
    "location2 = widgets.Dropdown(options=loc_list)\n",
    "date2 = widgets.Dropdown(options=total_df['DATE'][total_df['Location'] == location2.value].drop_duplicates())\n",
    "\n",
    "def change_loc2(*args):\n",
    "    date2.options = total_df['DATE'][total_df['Location'] == location2.value].drop_duplicates()\n",
    "\n",
    "location2.observe(change_loc2, 'value')\n",
    "\n",
    "@interact\n",
    "def showByDateAndBand(Location = location2,\n",
    "                      Date = date2,\n",
    "                      Band = total_df.columns[-5:]\n",
    "                     ):\n",
    "    \n",
    "    colorDict = {\n",
    "        'Blue' : 'blue', \n",
    "       'Green' : 'green',\n",
    "          'Red': 'red',\n",
    "          'NIR': 'magenta',\n",
    "         'NDVI': 'skyblue'\n",
    "    }\n",
    "    \n",
    "    base = total_df[total_df['Location'] == Location].set_index(['BUFF_DIST'])\n",
    "    data = base[base['DATE'] == Date].loc[:, Band].groupby('BUFF_DIST').mean()\n",
    "    plt.figure(figsize=(9, 7))\n",
    "    plt.plot(data, color=colorDict[Band])\n",
    "    plt.xlabel('Buffer')\n",
    "    plt.ylabel('Value', rotation=0, labelpad=14)\n",
    "    plt.ylim(data.min() * 0.975, data.max() * 1.025)\n",
    "    plt.title(f'{Location} | {Date} | {Band}')\n",
    "    plt.grid(axis='y')\n",
    "    plt.show()\n",
    "    \n",
    "    for buff, value in zip(data.index, data.values):\n",
    "        print(f'{buff}M : {value:.7f}')"
   ]
  },
  {
   "cell_type": "markdown",
   "id": "272bf9b3-474b-441a-9bea-cf0a1ff25856",
   "metadata": {
    "tags": []
   },
   "source": [
    "## 전체 기간 지역별 평균 그래프"
   ]
  },
  {
   "cell_type": "code",
   "execution_count": 25,
   "id": "c49bee56-15a9-4177-a9f3-21c9e94184be",
   "metadata": {
    "tags": []
   },
   "outputs": [
    {
     "data": {
      "application/vnd.jupyter.widget-view+json": {
       "model_id": "664bce0c3b344e0d84a03db56dd0f99b",
       "version_major": 2,
       "version_minor": 0
      },
      "text/plain": [
       "interactive(children=(Dropdown(description='Location', options=('AMD', 'GCK', 'HAWS1', 'JJ', 'PYC'), value='AM…"
      ]
     },
     "metadata": {},
     "output_type": "display_data"
    }
   ],
   "source": [
    "location3 = widgets.Dropdown(options=loc_list)\n",
    "\n",
    "@interact\n",
    "def showByLocationMean(Location = location3):\n",
    "    \n",
    "    location_df = total_df[total_df['Location'] == Location]\n",
    "    groupMean = location_df.drop(axis=1, columns=['Location' ,'BUFF_DIST']).groupby('DATE').mean()\n",
    "    \n",
    "    colorDict = {\n",
    "            'Blue' : 'blue', \n",
    "           'Green' : 'green',\n",
    "              'Red': 'red',\n",
    "              'NIR': 'magenta',\n",
    "             'NDVI': 'skyblue'\n",
    "        }\n",
    "\n",
    "    groupMean.iplot(kind='line', subplots=True, subplot_titles=True,\n",
    "                    title='Timeseries graph by Bands (Mean)', \n",
    "                    vertical_spacing=0.1, dimensions=(1150, 800),\n",
    "                    colors=colorDict)"
   ]
  }
 ],
 "metadata": {
  "kernelspec": {
   "display_name": "Python 3 (ipykernel)",
   "language": "python",
   "name": "python3"
  },
  "language_info": {
   "codemirror_mode": {
    "name": "ipython",
    "version": 3
   },
   "file_extension": ".py",
   "mimetype": "text/x-python",
   "name": "python",
   "nbconvert_exporter": "python",
   "pygments_lexer": "ipython3",
   "version": "3.9.12"
  },
  "toc-autonumbering": true
 },
 "nbformat": 4,
 "nbformat_minor": 5
}
