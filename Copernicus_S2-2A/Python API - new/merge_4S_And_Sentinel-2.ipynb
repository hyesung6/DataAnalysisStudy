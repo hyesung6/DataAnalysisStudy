{
 "cells": [
  {
   "cell_type": "markdown",
   "id": "fa3587ad-4492-4fe5-b3dd-51ca0393d332",
   "metadata": {
    "tags": []
   },
   "source": [
    "# 프로세스 준비"
   ]
  },
  {
   "cell_type": "code",
   "execution_count": 1,
   "id": "be3343a1-87b7-424a-8c4f-2923080734e8",
   "metadata": {},
   "outputs": [],
   "source": [
    "import pandas as pd\n",
    "import warnings, os, shutil\n",
    "import ipywidgets as widgets\n",
    "from ipywidgets import interact, interact_manual\n",
    "import matplotlib.pyplot as plt\n",
    "from sklearn.metrics import r2_score, mean_squared_error\n",
    "from sklearn.linear_model import LinearRegression"
   ]
  },
  {
   "cell_type": "code",
   "execution_count": 2,
   "id": "defa8bad-5999-4d25-978e-020b9067d49f",
   "metadata": {},
   "outputs": [],
   "source": [
    "warnings.simplefilter(action='ignore')\n",
    "pd.options.display.max_columns = None"
   ]
  },
  {
   "cell_type": "markdown",
   "id": "2e30e397-427d-49b2-b3fd-15a86a340ee0",
   "metadata": {},
   "source": [
    "## 데이터 확인"
   ]
  },
  {
   "cell_type": "code",
   "execution_count": 3,
   "id": "867f8553-b75e-4b3f-88ef-150cb87c9d5e",
   "metadata": {},
   "outputs": [],
   "source": [
    "dataDir = \"data path here\"\n",
    "S2DataDir = \"Setinel data path here\"\n",
    "outputDir = \"result data\"\n",
    "\n",
    "files_list_data = os.listdir(dataDir)\n",
    "files_list_STNL = os.listdir(S2DataDir)\n",
    "\n",
    "files_list_data = [file for file in files_list_data if file.endswith('.xlsx')]\n",
    "files_list_STNL = [file for file in files_list_STNL if file.endswith('.csv')]"
   ]
  },
  {
   "cell_type": "code",
   "execution_count": null,
   "id": "f0077983-c578-485c-bb51-4240b63a499d",
   "metadata": {},
   "outputs": [],
   "source": [
    "print('data file list :', files_list_data)\n",
    "print(f\"data file : {len(files_list_data)}개\")\n",
    "print('='*100)\n",
    "print('S2 file list :', files_list_STNL)\n",
    "print(f\"Sentinel-2 file : {len(files_list_STNL)}개\")"
   ]
  },
  {
   "cell_type": "code",
   "execution_count": null,
   "id": "a999bb90-b4e9-4405-b784-ad1b27054372",
   "metadata": {},
   "outputs": [],
   "source": [
    "loc_list = list(map(lambda x: x.strip('.xlsx'), files_list_data))\n",
    "files_list_STNL_matched = []\n",
    "\n",
    "for location_data in loc_list:\n",
    "    for location_S2 in files_list_STNL:\n",
    "        if location_data in location_S2:\n",
    "            files_list_STNL_matched.append(location_S2)\n",
    "\n",
    "print(f\"Location 목록 : {loc_list}\")\n",
    "print(f\"조인 가능 데이터 목록 : {files_list_STNL_matched}\")"
   ]
  },
  {
   "attachments": {},
   "cell_type": "markdown",
   "id": "f33557e1-ccc4-4b88-a003-a86a9190fe5b",
   "metadata": {
    "tags": []
   },
   "source": [
    "## data 데이터 로드"
   ]
  },
  {
   "cell_type": "code",
   "execution_count": 6,
   "id": "cbbec8fa-35b8-4228-b090-708ce75f04b1",
   "metadata": {},
   "outputs": [],
   "source": [
    "''' [Location명]_data 변수 이름으로 데이터프레임 생성 '''\n",
    "for file in files_list_data:\n",
    "    globals()[f'{file.strip(\".xlsx\")}_data'] = pd.read_excel(f\"{dataDir}\\\\{file}\")"
   ]
  },
  {
   "cell_type": "markdown",
   "id": "7b298f80-a249-4c6f-9ab7-c02917690c90",
   "metadata": {
    "tags": []
   },
   "source": [
    "## 센티넬 데이터 로드"
   ]
  },
  {
   "cell_type": "code",
   "execution_count": 7,
   "id": "fb5c0508-1c2f-4ce4-b1cf-abb2f5c0a579",
   "metadata": {},
   "outputs": [],
   "source": [
    "''' [Location명]_S2 변수 이름으로 데이터프레임 생성 '''\n",
    "for file in files_list_STNL_matched:\n",
    "    globals()[f\"{file.strip('.csv')}\"] = pd.read_csv(f\"{S2DataDir}\\\\{file}\", encoding='utf-8')"
   ]
  },
  {
   "cell_type": "markdown",
   "id": "716be912-1bac-418c-8d5e-a563ff96c721",
   "metadata": {},
   "source": [
    "---"
   ]
  },
  {
   "cell_type": "markdown",
   "id": "47d2dbe1-ba41-4f15-a2e8-afed646ac29a",
   "metadata": {},
   "source": [
    "# 데이터 전처리"
   ]
  },
  {
   "attachments": {},
   "cell_type": "markdown",
   "id": "b67dfee8-27de-4e36-8aa3-391e9b85f8c4",
   "metadata": {
    "tags": []
   },
   "source": [
    "## data 데이터 전처리 및 센티넬 데이터와 조인"
   ]
  },
  {
   "cell_type": "code",
   "execution_count": null,
   "id": "8bf6764d-b030-4f86-8eb6-6d8602caf4bf",
   "metadata": {
    "tags": []
   },
   "outputs": [],
   "source": [
    "''' 폴더 생성 '''\n",
    "if os.path.exists(outputDir):\n",
    "    shutil.rmtree(outputDir)\n",
    "os.makedirs(outputDir)\n",
    "\n",
    "\n",
    "for location in loc_list:\n",
    "    \n",
    "    ''' data 데이터 전처리 '''\n",
    "    df_data = globals()[f'{location}_data']\n",
    "    df_data = df_data.drop(columns=\"Unnamed: 0\")\n",
    "    df_data.dropna(inplace=True)\n",
    "    df_data[['Year', 'Month', 'Date']] = df_data[['Year', 'Month', 'Date']].astype('uint64').astype('string')\n",
    "    df_data.rename(columns={'Date':'Day'}, inplace=True)\n",
    "\n",
    "    datePadding = lambda x: '0' + x if len(x) == 1 else x\n",
    "    df_data['Month'] = df_data['Month'].apply(datePadding)\n",
    "    df_data['Day'] = df_data['Day'].apply(datePadding)\n",
    "    df_data['DATE'] = df_data['Year'] + '-' + df_data['Month'] + '-' + df_data['Day']\n",
    "    df_data['DATE'] = df_data['DATE'].astype('datetime64')\n",
    "    \n",
    "    try:\n",
    "        df_data = df_data[['DATE', 'Ref_BLU', 'Ref_GRN', 'Ref_RED', 'Ref_NIR', 'Ref_PAR', 'NDVI']]\n",
    "    except:\n",
    "        df_data = df_data[['DATE', 'Ref_BLU', 'Ref_GRN', 'Ref_RED', 'Ref_NIR', 'NDVI']]\n",
    "\n",
    "    df_data.set_index('DATE', inplace=True)\n",
    "\n",
    "\n",
    "    ''' 센티넬 데이터 조인 준비 '''\n",
    "    df_S2 = globals()[f'{location}_S2']\n",
    "    df_S2['DATE'] = df_S2['DATE'].astype('datetime64')\n",
    "\n",
    "    cols_by_buff_dict = { '5M': {'Blue':'BLUE_5M', 'Green':'GREEN_5M', 'Red':'RED_5M', 'NIR':'NIR_5M', 'NDVI':'NDVI_5M'},\n",
    "                         '10M': {'Blue':'BLUE_10M', 'Green':'GREEN_10M', 'Red':'RED_10M', 'NIR':'NIR_10M', 'NDVI':'NDVI_10M'},\n",
    "                         '15M': {'Blue':'BLUE_15M', 'Green':'GREEN_15M', 'Red':'RED_15M', 'NIR':'NIR_15M', 'NDVI':'NDVI_15M'},\n",
    "                         '20M': {'Blue':'BLUE_20M', 'Green':'GREEN_20M', 'Red':'RED_20M', 'NIR':'NIR_20M', 'NDVI':'NDVI_20M'},\n",
    "                         '25M': {'Blue':'BLUE_25M', 'Green':'GREEN_25M', 'Red':'RED_25M', 'NIR':'NIR_25M', 'NDVI':'NDVI_25M'},\n",
    "                         '30M': {'Blue':'BLUE_30M', 'Green':'GREEN_30M', 'Red':'RED_30M', 'NIR':'NIR_30M', 'NDVI':'NDVI_30M'}}\n",
    "    \n",
    "    df_5M = df_S2[df_S2['BUFF_DIST'] == 5][['DATE', 'Blue', 'Green', 'Red', 'NIR', 'NDVI']].rename(columns=cols_by_buff_dict['5M']).groupby('DATE').mean()\n",
    "    df_10M = df_S2[df_S2['BUFF_DIST'] == 10][['DATE', 'Blue', 'Green', 'Red', 'NIR', 'NDVI']].rename(columns=cols_by_buff_dict['10M']).groupby('DATE').mean()\n",
    "    df_15M = df_S2[df_S2['BUFF_DIST'] == 15][['DATE', 'Blue', 'Green', 'Red', 'NIR', 'NDVI']].rename(columns=cols_by_buff_dict['15M']).groupby('DATE').mean()\n",
    "    df_20M = df_S2[df_S2['BUFF_DIST'] == 20][['DATE', 'Blue', 'Green', 'Red', 'NIR', 'NDVI']].rename(columns=cols_by_buff_dict['20M']).groupby('DATE').mean()\n",
    "    df_25M = df_S2[df_S2['BUFF_DIST'] == 25][['DATE', 'Blue', 'Green', 'Red', 'NIR', 'NDVI']].rename(columns=cols_by_buff_dict['25M']).groupby('DATE').mean()\n",
    "    df_30M = df_S2[df_S2['BUFF_DIST'] == 30][['DATE', 'Blue', 'Green', 'Red', 'NIR', 'NDVI']].rename(columns=cols_by_buff_dict['30M']).groupby('DATE').mean()\n",
    "\n",
    "\n",
    "    ''' 조인 결과 저장 '''\n",
    "    result_df = pd.concat([df_data, df_5M, df_10M, df_15M, df_20M, df_25M, df_30M], axis=1, join='inner')\n",
    "    result_df.reset_index(inplace=True)\n",
    "    result_df['DATE'] = result_df['DATE'].astype('string')\n",
    "    result_df.to_excel(f'{outputDir}\\\\{location}_total.xlsx', engine='xlsxwriter', index=False)\n",
    "    print(f'{outputDir}\\\\{location}_total.xlsx 저장 완료.')\n",
    "    globals()[f'{location}_total'] = result_df.copy()"
   ]
  },
  {
   "cell_type": "markdown",
   "id": "cbf844e7-84db-4062-b154-58535ad5a644",
   "metadata": {},
   "source": [
    "---"
   ]
  },
  {
   "cell_type": "markdown",
   "id": "1dff599e-2ae1-4d30-9086-e8c716ed2846",
   "metadata": {
    "tags": []
   },
   "source": [
    "# 통계 데이터 생성"
   ]
  },
  {
   "cell_type": "markdown",
   "id": "e1b36f96-5958-4f5a-9410-16994ebfe182",
   "metadata": {},
   "source": [
    "## 통계"
   ]
  },
  {
   "cell_type": "markdown",
   "id": "aa6318a8-04df-42bd-8503-185aaaca0830",
   "metadata": {},
   "source": [
    "### 평균"
   ]
  },
  {
   "cell_type": "code",
   "execution_count": 9,
   "id": "7e04e340-5d53-4ec1-a3e0-30de0efc6178",
   "metadata": {},
   "outputs": [],
   "source": [
    "bands_cols_dict = { 'blue':{'Ref_BLU':'Field', 'BLUE_5M':'5M', 'BLUE_10M':'10M', 'BLUE_15M':'15M', 'BLUE_20M':'20M', 'BLUE_25M':'25M', 'BLUE_30M':'30M'},\n",
    "                   'green':{'Ref_GRN':'Field', 'GREEN_5M':'5M', 'GREEN_10M':'10M', 'GREEN_15M':'15M', 'GREEN_20M':'20M', 'GREEN_25M':'25M', 'GREEN_30M':'30M'},\n",
    "                     'red':{'Ref_RED':'Field', 'RED_5M':'5M', 'RED_10M':'10M', 'RED_15M':'15M', 'RED_20M':'20M', 'RED_25M':'25M', 'RED_30M':'30M'},\n",
    "                     'nir':{'Ref_NIR':'Field', 'NIR_5M':'5M', 'NIR_10M':'10M', 'NIR_15M':'15M', 'NIR_20M':'20M', 'NIR_25M':'25M', 'NIR_30M':'30M'},\n",
    "                    'ndvi':{'NDVI':'Field', 'NDVI_5M':'5M', 'NDVI_10M':'10M', 'NDVI_15M':'15M', 'NDVI_20M':'20M', 'NDVI_25M':'25M', 'NDVI_30M':'30M'}}"
   ]
  },
  {
   "cell_type": "code",
   "execution_count": 10,
   "id": "6a3873a0-6a9c-4763-a4d0-10f798418efa",
   "metadata": {},
   "outputs": [],
   "source": [
    "for Location in loc_list:    \n",
    "    \n",
    "    target_df = globals()[f'{Location}_total']\n",
    "    \n",
    "    BLUE_mean = pd.DataFrame(target_df[['BLUE_5M', 'BLUE_10M', 'BLUE_15M', 'BLUE_20M', 'BLUE_25M', 'BLUE_30M', 'Ref_BLU']].mean())\n",
    "    BLUE_mean.rename(index=bands_cols_dict['blue'], inplace=True)\n",
    "    \n",
    "    GREEN_mean = pd.DataFrame(target_df[['GREEN_5M', 'GREEN_10M', 'GREEN_15M', 'GREEN_20M', 'GREEN_25M', 'GREEN_30M', 'Ref_GRN']].mean())\n",
    "    GREEN_mean.rename(index=bands_cols_dict['green'], inplace=True)\n",
    "    \n",
    "    RED_mean = pd.DataFrame(target_df[['RED_5M', 'RED_10M', 'RED_15M', 'RED_20M', 'RED_25M', 'RED_30M', 'Ref_RED']].mean())\n",
    "    RED_mean.rename(index=bands_cols_dict['red'], inplace=True)\n",
    "    \n",
    "    NIR_mean = pd.DataFrame(target_df[['NIR_5M', 'NIR_10M', 'NIR_15M', 'NIR_20M', 'NIR_25M', 'NIR_30M', 'Ref_NIR']].mean())\n",
    "    NIR_mean.rename(index=bands_cols_dict['nir'], inplace=True)\n",
    "    \n",
    "    NDVI_mean = pd.DataFrame(target_df[['NDVI_5M', 'NDVI_10M', 'NDVI_15M', 'NDVI_20M', 'NDVI_25M', 'NDVI_30M', 'NDVI']].mean())\n",
    "    NDVI_mean.rename(index=bands_cols_dict['ndvi'], inplace=True)\n",
    "\n",
    "    mean_df = pd.concat([BLUE_mean, GREEN_mean, RED_mean, NIR_mean, NDVI_mean], axis=1)\n",
    "    mean_df.columns = ['BLUE', 'GREEN', 'RED', 'NIR', 'NDVI']\n",
    "    globals()[f'{Location}_mean'] = mean_df.copy()"
   ]
  },
  {
   "cell_type": "markdown",
   "id": "591e654c-84cb-4315-9288-bacf33363cca",
   "metadata": {},
   "source": [
    "### 표준편차"
   ]
  },
  {
   "cell_type": "code",
   "execution_count": 11,
   "id": "df827f16-f595-4010-a759-5d46000199ec",
   "metadata": {
    "tags": []
   },
   "outputs": [],
   "source": [
    "for Location in loc_list:\n",
    "    \n",
    "    target_df = globals()[f'{Location}_total']\n",
    "    \n",
    "    BLUE_std = pd.DataFrame(target_df[['BLUE_5M', 'BLUE_10M', 'BLUE_15M', 'BLUE_20M', 'BLUE_25M', 'BLUE_30M', 'Ref_BLU']].std())\n",
    "    BLUE_std.rename(index=bands_cols_dict['blue'], inplace=True)\n",
    "    \n",
    "    GREEN_std = pd.DataFrame(target_df[['GREEN_5M', 'GREEN_10M', 'GREEN_15M', 'GREEN_20M', 'GREEN_25M', 'GREEN_30M', 'Ref_GRN']].std())\n",
    "    GREEN_std.rename(index=bands_cols_dict['green'], inplace=True)\n",
    "    \n",
    "    RED_std = pd.DataFrame(target_df[['RED_5M', 'RED_10M', 'RED_15M', 'RED_20M', 'RED_25M', 'RED_30M', 'Ref_RED']].std())\n",
    "    RED_std.rename(index=bands_cols_dict['red'], inplace=True)\n",
    "    \n",
    "    NIR_std = pd.DataFrame(target_df[['NIR_5M', 'NIR_10M', 'NIR_15M', 'NIR_20M', 'NIR_25M', 'NIR_30M', 'Ref_NIR']].std())\n",
    "    NIR_std.rename(index=bands_cols_dict['nir'], inplace=True)\n",
    "    \n",
    "    NDVI_std = pd.DataFrame(target_df[['NDVI_5M', 'NDVI_10M', 'NDVI_15M', 'NDVI_20M', 'NDVI_25M', 'NDVI_30M', 'NDVI']].std())\n",
    "    NDVI_std.rename(index=bands_cols_dict['ndvi'], inplace=True)\n",
    "\n",
    "    std_df = pd.concat([BLUE_std, GREEN_std, RED_std, NIR_std, NDVI_std], axis=1)\n",
    "    std_df.columns = ['BLUE', 'GREEN', 'RED', 'NIR', 'NDVI']\n",
    "    globals()[f'{Location}_std'] = std_df.copy()"
   ]
  },
  {
   "cell_type": "markdown",
   "id": "58dae0bf-3953-491e-bc21-a1f2f3477a6b",
   "metadata": {
    "tags": []
   },
   "source": [
    "### 오차\n",
    "- ( 버퍼별 평균 - 필드 평균 )\n",
    "- 4자리에서 반올림한 백분율로 표기"
   ]
  },
  {
   "cell_type": "code",
   "execution_count": 12,
   "id": "be2adea0-da94-46fb-9bb0-2236a8e88a10",
   "metadata": {},
   "outputs": [],
   "source": [
    "for location in loc_list:\n",
    "    diff = globals()[f'{location}_mean']\n",
    "    globals()[f'{location}_diff'] = ((diff.loc[['5M', '10M', '15M', '20M', '25M', '30M'], :] - diff.loc['Field', :]) * 100)\n",
    "    globals()[f'{location}_diff'] = globals()[f'{location}_diff'].round(3).astype('string') + '%'"
   ]
  },
  {
   "cell_type": "markdown",
   "id": "87dd0914-379f-4996-8efe-862b1d4bcfec",
   "metadata": {},
   "source": [
    "## 회귀분석 결과"
   ]
  },
  {
   "cell_type": "markdown",
   "id": "e7f3edaa-029f-4d1c-8205-b748c2dd1de5",
   "metadata": {},
   "source": [
    "### R-Squared"
   ]
  },
  {
   "cell_type": "code",
   "execution_count": 13,
   "id": "56bf9ab0-19ef-45a1-9a52-c0e25d2a1e2f",
   "metadata": {},
   "outputs": [],
   "source": [
    "def df_to_R2_list(train_data, target_data, result_list):\n",
    "    X = train_data.to_numpy().reshape(-1, 1)\n",
    "    Y = target_data.to_numpy().reshape(-1, 1)\n",
    "\n",
    "    green_model = LinearRegression()\n",
    "    green_model.fit(X, Y)\n",
    "    pred = green_model.predict(X)\n",
    "\n",
    "    r2 = r2_score(Y, pred)\n",
    "    result_list.append(r2)\n",
    "    return result_list"
   ]
  },
  {
   "cell_type": "code",
   "execution_count": 14,
   "id": "84997d3d-20af-4774-943c-1d6f0b8b09f0",
   "metadata": {},
   "outputs": [],
   "source": [
    "for location in loc_list:\n",
    "    \n",
    "    buff_list = list(range(5, 31, 5))\n",
    "    blue_r2_list = []\n",
    "    green_r2_list = []\n",
    "    red_r2_list = []\n",
    "    nir_r2_list = []\n",
    "    ndvi_r2_list = []\n",
    "    \n",
    "    target_df = globals()[f'{location}_total']\n",
    "    \n",
    "    for buff in buff_list:\n",
    "        df_to_R2_list(target_df[f'BLUE_{buff}M'], target_df['Ref_BLU'], blue_r2_list)\n",
    "        df_to_R2_list(target_df[f'GREEN_{buff}M'], target_df['Ref_GRN'], green_r2_list)\n",
    "        df_to_R2_list(target_df[f'RED_{buff}M'], target_df['Ref_RED'], red_r2_list)\n",
    "        df_to_R2_list(target_df[f'NIR_{buff}M'], target_df['Ref_NIR'], nir_r2_list)\n",
    "        df_to_R2_list(target_df[f'NDVI_{buff}M'], target_df['NDVI'], ndvi_r2_list)\n",
    "\n",
    "    globals()[f'{location}_R2'] = pd.DataFrame({'Buffer(M)':buff_list, 'R2_BLUE':blue_r2_list, 'R2_GREEN':green_r2_list,\n",
    "                                                'R2_RED':red_r2_list, 'R2_NIR':nir_r2_list, 'R2_NDVI':ndvi_r2_list}).set_index('Buffer(M)')"
   ]
  },
  {
   "cell_type": "markdown",
   "id": "bd0e710c-450c-4fec-a763-e89e220f1a1a",
   "metadata": {},
   "source": [
    "### Coefficient"
   ]
  },
  {
   "cell_type": "code",
   "execution_count": null,
   "id": "57d59be9-62cf-4c47-8ce2-15985c5bf193",
   "metadata": {},
   "outputs": [],
   "source": []
  },
  {
   "cell_type": "markdown",
   "id": "77347de8-0cf6-4d49-96c2-606bad2c05e8",
   "metadata": {
    "tags": []
   },
   "source": [
    "### RMSD ( Root Mean Sqaured Deviation )"
   ]
  },
  {
   "cell_type": "code",
   "execution_count": 15,
   "id": "2a8b6572-4f03-4fb3-8394-d8774aabfdec",
   "metadata": {},
   "outputs": [],
   "source": [
    "for location in loc_list:\n",
    "    \n",
    "    buff_list = list(range(5, 31, 5))\n",
    "    blue_RMSD_list = []\n",
    "    green_RMSD_list = []\n",
    "    red_RMSD_list = []\n",
    "    nir_RMSD_list = []\n",
    "    ndvi_RMSD_list = []\n",
    "    \n",
    "    target_df = globals()[f'{location}_total']\n",
    "    \n",
    "    for buff in buff_list:\n",
    "\n",
    "        blue_RMSD = mean_squared_error(target_df[f'BLUE_{buff}M'], target_df['Ref_BLU'], squared=False)\n",
    "        blue_RMSD_list.append(blue_RMSD)\n",
    "\n",
    "        green_RMSD = mean_squared_error(target_df[f'GREEN_{buff}M'], target_df['Ref_GRN'], squared=False)\n",
    "        green_RMSD_list.append(green_RMSD)\n",
    "\n",
    "        red_RMSD = mean_squared_error(target_df[f'RED_{buff}M'], target_df['Ref_RED'], squared=False)\n",
    "        red_RMSD_list.append(red_RMSD)\n",
    "\n",
    "        nir_RMSD2 = mean_squared_error(target_df[f'NIR_{buff}M'], target_df['Ref_NIR'], squared=False)\n",
    "        nir_RMSD_list.append(nir_RMSD2)\n",
    "\n",
    "        ndvi_RMSD = mean_squared_error(target_df[f'NDVI_{buff}M'], target_df['NDVI'], squared=False)\n",
    "        ndvi_RMSD_list.append(ndvi_RMSD)\n",
    "\n",
    "    globals()[f'{location}_RMSD'] = pd.DataFrame({'Buffer(M)':buff_list, 'RMSD_BLUE':blue_RMSD_list, 'RMSD_GREEN':green_RMSD_list,\n",
    "                                                'RMSD_RED':red_RMSD_list, 'RMSD_NIR':nir_RMSD_list, 'RMSD_NDVI':ndvi_RMSD_list}).set_index('Buffer(M)')"
   ]
  },
  {
   "cell_type": "markdown",
   "id": "1efdcca8-95f4-47cf-9318-b1ffd42b362a",
   "metadata": {},
   "source": [
    "---"
   ]
  },
  {
   "cell_type": "markdown",
   "id": "2276d19b-bd60-4343-8f8b-6d42ec4e533a",
   "metadata": {
    "tags": []
   },
   "source": [
    "# 데이터 조회"
   ]
  },
  {
   "cell_type": "markdown",
   "id": "2dbfee60-77a5-41ca-ae98-4c1cbe72a3d8",
   "metadata": {},
   "source": [
    "## 평균"
   ]
  },
  {
   "cell_type": "code",
   "execution_count": 16,
   "id": "a1204a30-8013-4603-853b-b791ed39842e",
   "metadata": {},
   "outputs": [
    {
     "data": {
      "application/vnd.jupyter.widget-view+json": {
       "model_id": "b757a32d2ef04ea3a113f758a8082d3b",
       "version_major": 2,
       "version_minor": 0
      },
      "text/plain": [
       "interactive(children=(Dropdown(description='Location', options=('AMD', 'GCK', 'HAWS1', 'JJ', 'PYC'), value='AM…"
      ]
     },
     "metadata": {},
     "output_type": "display_data"
    }
   ],
   "source": [
    "location = widgets.Dropdown(options=loc_list)\n",
    "\n",
    "@interact\n",
    "def showMeanByLocation(Location = location):\n",
    "    return globals()[f'{Location}_mean']"
   ]
  },
  {
   "cell_type": "code",
   "execution_count": 17,
   "id": "f66383f7-caa8-4e40-816c-4049bbf23d77",
   "metadata": {
    "tags": []
   },
   "outputs": [
    {
     "data": {
      "application/vnd.jupyter.widget-view+json": {
       "model_id": "91ebd1dbf64b4cacb036bfea4de94ac2",
       "version_major": 2,
       "version_minor": 0
      },
      "text/plain": [
       "interactive(children=(Dropdown(description='Location', options=('AMD', 'GCK', 'HAWS1', 'JJ', 'PYC'), value='AM…"
      ]
     },
     "metadata": {},
     "output_type": "display_data"
    }
   ],
   "source": [
    "location2 = widgets.Dropdown(options=loc_list)\n",
    "\n",
    "@interact\n",
    "def showMeanGraphByLocation(Location = location2):\n",
    "    data = globals()[f'{Location}_mean']\n",
    "    data = data.T.loc[['BLUE', 'GREEN', 'RED', 'NIR'], :]\n",
    "    \n",
    "    plt.figure(figsize=(9, 7))\n",
    "    \n",
    "    buff_5M = plt.plot(data['5M'], color='blue', label='5M')\n",
    "    buff_10M = plt.plot(data['10M'], color='green', label='10M')\n",
    "    buff_15M = plt.plot(data['15M'], color='red', label='15M')\n",
    "    buff_20M = plt.plot(data['20M'], color='magenta', label='20M')\n",
    "    buff_25M = plt.plot(data['25M'], color='cyan', label='25M')\n",
    "    buff_30M = plt.plot(data['30M'], color='skyblue', label='30M')\n",
    "    field = plt.plot(data['Field'], color='grey', label='Field', marker='*')\n",
    "    \n",
    "    plt.xlabel('Buffer', fontsize=13)\n",
    "    plt.ylabel('Value', rotation=0, labelpad=18, fontsize=13)\n",
    "    plt.ylim(0, data.max().max() * 1.25)\n",
    "    plt.title(f'{Location} Mean', fontsize=18)\n",
    "    plt.grid(axis='y')\n",
    "    \n",
    "    lines = buff_5M + buff_10M + buff_15M + buff_20M + buff_25M + buff_30M + field\n",
    "    labels = [line.get_label() for line in lines]\n",
    "    plt.legend(lines, labels)\n",
    "    \n",
    "    plt.show()"
   ]
  },
  {
   "cell_type": "markdown",
   "id": "6ee56d66-b5b3-4b1f-a5c0-6c87fd6c51ba",
   "metadata": {},
   "source": [
    "## 표준편차"
   ]
  },
  {
   "cell_type": "code",
   "execution_count": 18,
   "id": "3262821a-a76f-45d7-a6a7-cb121acf45aa",
   "metadata": {},
   "outputs": [
    {
     "data": {
      "application/vnd.jupyter.widget-view+json": {
       "model_id": "bc4499f14d1b4861a73331f6de9bda08",
       "version_major": 2,
       "version_minor": 0
      },
      "text/plain": [
       "interactive(children=(Dropdown(description='Location', options=('AMD', 'GCK', 'HAWS1', 'JJ', 'PYC'), value='AM…"
      ]
     },
     "metadata": {},
     "output_type": "display_data"
    }
   ],
   "source": [
    "location3 = widgets.Dropdown(options=loc_list)\n",
    "\n",
    "@interact\n",
    "def showSTDByLocation(Location = location3):\n",
    "    return globals()[f'{Location}_std']"
   ]
  },
  {
   "cell_type": "markdown",
   "id": "463e96b2-28a5-44fa-9138-4d8e4b708c80",
   "metadata": {},
   "source": [
    "## 오차"
   ]
  },
  {
   "cell_type": "code",
   "execution_count": 19,
   "id": "a37264e3-5e05-4f6e-bfbb-1c1d0c85ac7c",
   "metadata": {},
   "outputs": [
    {
     "data": {
      "application/vnd.jupyter.widget-view+json": {
       "model_id": "51df4d879c1a4680a792702cfe29e886",
       "version_major": 2,
       "version_minor": 0
      },
      "text/plain": [
       "interactive(children=(Dropdown(description='Location', options=('AMD', 'GCK', 'HAWS1', 'JJ', 'PYC'), value='AM…"
      ]
     },
     "metadata": {},
     "output_type": "display_data"
    }
   ],
   "source": [
    "location4 = widgets.Dropdown(options=loc_list)\n",
    "\n",
    "@interact\n",
    "def showMeanByLocation(Location = location4):\n",
    "    return globals()[f'{Location}_diff']"
   ]
  },
  {
   "cell_type": "markdown",
   "id": "ad678043-c1c6-4835-8062-74e80d26fb08",
   "metadata": {},
   "source": [
    "## R-Squared"
   ]
  },
  {
   "cell_type": "code",
   "execution_count": 20,
   "id": "e152ec24-78c4-45d9-9372-2e6ea5ebc013",
   "metadata": {},
   "outputs": [
    {
     "data": {
      "application/vnd.jupyter.widget-view+json": {
       "model_id": "40d8165f383a4b33b58ba131d97eb7ce",
       "version_major": 2,
       "version_minor": 0
      },
      "text/plain": [
       "interactive(children=(Dropdown(description='Location', options=('AMD', 'GCK', 'HAWS1', 'JJ', 'PYC'), value='AM…"
      ]
     },
     "metadata": {},
     "output_type": "display_data"
    }
   ],
   "source": [
    "location5 = widgets.Dropdown(options=loc_list)\n",
    "\n",
    "@interact\n",
    "def showR2ByLocation(Location = location5):\n",
    "    return globals()[f'{Location}_R2']"
   ]
  },
  {
   "cell_type": "markdown",
   "id": "449e4598-5fd8-413a-bea1-9c97f87135c1",
   "metadata": {},
   "source": [
    "## Coefficient"
   ]
  },
  {
   "cell_type": "code",
   "execution_count": null,
   "id": "4246f0f2-52b8-479d-9a8c-58d17387583d",
   "metadata": {},
   "outputs": [],
   "source": []
  },
  {
   "cell_type": "markdown",
   "id": "a8aeca57-8aca-451d-a04e-af6522bde12b",
   "metadata": {},
   "source": [
    "## RMSD"
   ]
  },
  {
   "cell_type": "code",
   "execution_count": 21,
   "id": "f6a2ebca-a4a7-464d-9a1f-def74b6072d8",
   "metadata": {},
   "outputs": [
    {
     "data": {
      "application/vnd.jupyter.widget-view+json": {
       "model_id": "570a6666ff6d4d93acb0456c1088e499",
       "version_major": 2,
       "version_minor": 0
      },
      "text/plain": [
       "interactive(children=(Dropdown(description='Location', options=('AMD', 'GCK', 'HAWS1', 'JJ', 'PYC'), value='AM…"
      ]
     },
     "metadata": {},
     "output_type": "display_data"
    }
   ],
   "source": [
    "location7 = widgets.Dropdown(options=loc_list)\n",
    "\n",
    "@interact\n",
    "def showRMSDByLocation(Location = location7):\n",
    "    return globals()[f'{Location}_RMSD']"
   ]
  },
  {
   "cell_type": "code",
   "execution_count": null,
   "id": "fae57c98-23c8-401b-ac00-280484e50953",
   "metadata": {},
   "outputs": [],
   "source": []
  }
 ],
 "metadata": {
  "kernelspec": {
   "display_name": "Python 3 (ipykernel)",
   "language": "python",
   "name": "python3"
  },
  "language_info": {
   "codemirror_mode": {
    "name": "ipython",
    "version": 3
   },
   "file_extension": ".py",
   "mimetype": "text/x-python",
   "name": "python",
   "nbconvert_exporter": "python",
   "pygments_lexer": "ipython3",
   "version": "3.9.12"
  }
 },
 "nbformat": 4,
 "nbformat_minor": 5
}
