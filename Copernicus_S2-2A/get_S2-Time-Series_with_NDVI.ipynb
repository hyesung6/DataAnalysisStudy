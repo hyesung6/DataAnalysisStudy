{
 "cells": [
  {
   "cell_type": "markdown",
   "id": "a45c09c0-e33d-4389-b247-7b3b64c11ea6",
   "metadata": {},
   "source": [
    "# 전체 지점 데이터 추출"
   ]
  },
  {
   "cell_type": "code",
   "execution_count": null,
   "id": "99242cb2-6d6d-4b9d-a760-1ed446312a5a",
   "metadata": {},
   "outputs": [],
   "source": [
    "# !pip install ee\n",
    "# !pip install geemap\n",
    "# !pip install ipympl"
   ]
  },
  {
   "cell_type": "code",
   "execution_count": 1,
   "id": "c531e892-784e-42b6-b203-ff0792f775d7",
   "metadata": {},
   "outputs": [],
   "source": [
    "import ee, geemap\n",
    "import pandas as pd"
   ]
  },
  {
   "cell_type": "code",
   "execution_count": 2,
   "id": "0f65218d-a2fa-4630-aba9-355796490474",
   "metadata": {},
   "outputs": [],
   "source": [
    "geemap.ee_initialize()"
   ]
  },
  {
   "cell_type": "code",
   "execution_count": 3,
   "id": "aac3390e-bc75-4250-bc7f-c2526ae938f9",
   "metadata": {},
   "outputs": [],
   "source": [
    "def addNDVI(image):\n",
    "    ndvi = image.normalizedDifference(['B8', 'B4']).rename('NDVI')\n",
    "    return image.addBands([ndvi])"
   ]
  },
  {
   "cell_type": "code",
   "execution_count": 13,
   "id": "232037e2-bdfd-4bfa-a502-b9976df5cb11",
   "metadata": {},
   "outputs": [],
   "source": [
    "def maskS2clouds(image):\n",
    "    qa = image.select('QA60')\n",
    "    \n",
    "    cloudBitMask = 1 << 10\n",
    "    cirrusBitMask = 1 << 11\n",
    "    \n",
    "    mask = (qa.bitwiseAnd(cloudBitMask).eq(0) and (qa.bitwiseAnd(cirrusBitMask).eq(0)))\n",
    "        \n",
    "    return image.updateMask(mask)"
   ]
  },
  {
   "cell_type": "code",
   "execution_count": 125,
   "id": "6521dd37-42fc-442c-991a-d16dc414c8d2",
   "metadata": {
    "tags": []
   },
   "outputs": [
    {
     "data": {
      "text/plain": [
       "'2022-01-07T02:27:29'"
      ]
     },
     "execution_count": 125,
     "metadata": {},
     "output_type": "execute_result"
    }
   ],
   "source": [
    "# reducePoints의 날짜 추가 코드가 기능하지 않으므로\n",
    "# 새로운 날짜 추가 기능을 해줄 코드를 작성해야함\n",
    "## 아래 코드는 한 개 image 대상으로는 돌아가는데 Collection단위로 적용되게 할 방법을 찾아야함\n",
    "\n",
    "def addDate(image):\n",
    "    date = ee.Date(image.get('system:time_start')).format().getInfo().rename('DATE')\n",
    "    return image.addBands([date])\n",
    "\n",
    "# ee.Date(collection.first().get('system:time_start')).format().getInfo()"
   ]
  },
  {
   "cell_type": "code",
   "execution_count": 5,
   "id": "085a40e9-cf0e-416f-a729-fe30fa04d67f",
   "metadata": {},
   "outputs": [],
   "source": [
    "def reducePoints(image):\n",
    "    return image.reduceRegions(\n",
    "                     collection = points,\n",
    "                     reducer = ee.Reducer.mean(),\n",
    "                     scale = 10)\n",
    "                # .copyProperties(image, ['system:time_start'])\\\n",
    "                # .set('DATE', image.date().format('YYYY-MM-dd'))"
   ]
  },
  {
   "cell_type": "code",
   "execution_count": 6,
   "id": "97b4cc2a-e4b5-4704-be0d-f7e73e1f4cdb",
   "metadata": {
    "tags": []
   },
   "outputs": [],
   "source": [
    "table = geemap.shp_to_ee('.shp')\n",
    "points = ee.FeatureCollection(table)\n",
    "\n",
    "# geometry = geemap.geojson_to_ee('korea.geojson')\n",
    "\n",
    "start_date = '2022-01-01'\n",
    "end_date = '2022-02-01'"
   ]
  },
  {
   "cell_type": "code",
   "execution_count": 14,
   "id": "83b00d31-dd1a-42c3-9b2f-7fb7f36b4546",
   "metadata": {
    "tags": []
   },
   "outputs": [],
   "source": [
    "collection = (\n",
    "    ee.ImageCollection(\"COPERNICUS/S2_SR_HARMONIZED\")\n",
    "       .select(['B2', 'B3', 'B4', 'B8', 'QA60'])\n",
    "       .filterBounds(table)\n",
    "       .filterDate(start_date, end_date)\n",
    "       .filterMetadata('CLOUDY_PIXEL_PERCENTAGE', 'less_than', 10)\n",
    "       .map(addNDVI)\n",
    "       .map(maskS2clouds)\n",
    ")"
   ]
  },
  {
   "cell_type": "code",
   "execution_count": 15,
   "id": "83885b1d-8c7b-4968-882e-f162b07d742d",
   "metadata": {
    "tags": []
   },
   "outputs": [],
   "source": [
    "result = collection.map(reducePoints).flatten()"
   ]
  },
  {
   "cell_type": "markdown",
   "id": "61942f69-4989-4a23-bbfc-b7be8a757867",
   "metadata": {},
   "source": [
    "---\n",
    "# 데이터 저장 및 데이터프레임 생성"
   ]
  },
  {
   "cell_type": "code",
   "execution_count": null,
   "id": "39538840-13c8-4cb5-8bb5-520a558dd986",
   "metadata": {
    "tags": []
   },
   "outputs": [],
   "source": [
    "# FeatureCollection -> csv로 내보내기\n",
    "geemap.ee_to_csv(result, filename=f'S2_Total-{start_date}-{end_date}_timeseries.csv')"
   ]
  },
  {
   "cell_type": "code",
   "execution_count": 12,
   "id": "9a8639f6-593d-439c-b17e-f13a7ca14adb",
   "metadata": {
    "tags": []
   },
   "outputs": [],
   "source": [
    "# FeatureCollection -> DataFrame으로 변환\n",
    "## ee 오브젝트를 바로 df로 사용하고 싶은 경우 사용  (system:index가 df에 안들어옴..)\n",
    "# result_df = geemap.ee_to_df(result)\n",
    "\n",
    "## 이미지 개수가 5000개 이상이면 오류 발생함"
   ]
  },
  {
   "cell_type": "code",
   "execution_count": 17,
   "id": "23da5a30-45a8-4f8b-bef1-034ec57e3ea0",
   "metadata": {
    "tags": []
   },
   "outputs": [],
   "source": [
    "# 내보낸 csv -> DataFrame으로 가져오기\n",
    "result_df = pd.read_csv(f'S2_Total-{start_date}-{end_date}_timeseries.csv', encoding='utf-8')"
   ]
  },
  {
   "cell_type": "markdown",
   "id": "bcb43fbb-1730-4c41-8e77-840843ebcf59",
   "metadata": {},
   "source": [
    "## NA값 제거 및 컬럼 이름 변경"
   ]
  },
  {
   "cell_type": "code",
   "execution_count": 37,
   "id": "7a2604b0-ab50-48b1-893b-69c5791aae26",
   "metadata": {},
   "outputs": [],
   "source": [
    "if 'system:index' in result_df.columns:\n",
    "    S2 = result_df[['system:index', 'Location', 'BUFF_DIST', 'B2', 'B3', 'B4', 'B8', 'NDVI']].dropna() \n",
    "else:\n",
    "    S2 = result_df[['Location', 'BUFF_DIST', 'B2', 'B3', 'B4', 'B8', 'NDVI']].dropna() "
   ]
  },
  {
   "cell_type": "code",
   "execution_count": null,
   "id": "0ca7d0e7-1c23-495f-a8c6-b45f87ab35ab",
   "metadata": {},
   "outputs": [],
   "source": [
    "from datetime import datetime\n",
    "\n",
    "S2.rename(columns={'B2':'Blue', 'B3':'Green', 'B4':'Red', 'B8':'NIR'}, inplace=True)\n",
    "S2.rename(columns={'system:index':'DATE'}, inplace=True)\n",
    "S2['DATE'] = S2['DATE'].apply(lambda x: f\"{x[:4]}-{x[4:6]}-{x[6:8]}\")"
   ]
  },
  {
   "cell_type": "code",
   "execution_count": 39,
   "id": "3007d842-2726-4978-9f2a-1be41134c7a8",
   "metadata": {},
   "outputs": [
    {
     "data": {
      "text/html": [
       "<div>\n",
       "<style scoped>\n",
       "    .dataframe tbody tr th:only-of-type {\n",
       "        vertical-align: middle;\n",
       "    }\n",
       "\n",
       "    .dataframe tbody tr th {\n",
       "        vertical-align: top;\n",
       "    }\n",
       "\n",
       "    .dataframe thead th {\n",
       "        text-align: right;\n",
       "    }\n",
       "</style>\n",
       "<table border=\"1\" class=\"dataframe\">\n",
       "  <thead>\n",
       "    <tr style=\"text-align: right;\">\n",
       "      <th></th>\n",
       "      <th>DATE</th>\n",
       "      <th>Location</th>\n",
       "      <th>BUFF_DIST</th>\n",
       "      <th>Blue</th>\n",
       "      <th>Green</th>\n",
       "      <th>Red</th>\n",
       "      <th>NIR</th>\n",
       "      <th>NDVI</th>\n",
       "    </tr>\n",
       "  </thead>\n",
       "  <tbody>\n",
       "    <tr>\n",
       "      <th>1</th>\n",
       "      <td>2022-01-07</td>\n",
       "      <td>AMD</td>\n",
       "      <td>5</td>\n",
       "      <td>69.502488</td>\n",
       "      <td>179.348259</td>\n",
       "      <td>157.636816</td>\n",
       "      <td>1824.378109</td>\n",
       "      <td>0.843008</td>\n",
       "    </tr>\n",
       "    <tr>\n",
       "      <th>10</th>\n",
       "      <td>2022-01-07</td>\n",
       "      <td>AMD</td>\n",
       "      <td>10</td>\n",
       "      <td>75.086250</td>\n",
       "      <td>192.245000</td>\n",
       "      <td>167.407500</td>\n",
       "      <td>1870.890000</td>\n",
       "      <td>0.838265</td>\n",
       "    </tr>\n",
       "    <tr>\n",
       "      <th>19</th>\n",
       "      <td>2022-01-07</td>\n",
       "      <td>AMD</td>\n",
       "      <td>15</td>\n",
       "      <td>69.702282</td>\n",
       "      <td>193.190317</td>\n",
       "      <td>160.622705</td>\n",
       "      <td>1883.075125</td>\n",
       "      <td>0.845583</td>\n",
       "    </tr>\n",
       "    <tr>\n",
       "      <th>28</th>\n",
       "      <td>2022-01-07</td>\n",
       "      <td>AMD</td>\n",
       "      <td>20</td>\n",
       "      <td>62.674083</td>\n",
       "      <td>194.796929</td>\n",
       "      <td>153.726418</td>\n",
       "      <td>1917.150736</td>\n",
       "      <td>0.854010</td>\n",
       "    </tr>\n",
       "    <tr>\n",
       "      <th>37</th>\n",
       "      <td>2022-01-07</td>\n",
       "      <td>AMD</td>\n",
       "      <td>25</td>\n",
       "      <td>56.926379</td>\n",
       "      <td>195.976931</td>\n",
       "      <td>147.907121</td>\n",
       "      <td>1939.359278</td>\n",
       "      <td>0.860170</td>\n",
       "    </tr>\n",
       "    <tr>\n",
       "      <th>46</th>\n",
       "      <td>2022-01-07</td>\n",
       "      <td>AMD</td>\n",
       "      <td>30</td>\n",
       "      <td>52.770077</td>\n",
       "      <td>197.076270</td>\n",
       "      <td>142.614335</td>\n",
       "      <td>1960.400835</td>\n",
       "      <td>0.865630</td>\n",
       "    </tr>\n",
       "  </tbody>\n",
       "</table>\n",
       "</div>"
      ],
      "text/plain": [
       "          DATE Location  BUFF_DIST       Blue       Green         Red  \\\n",
       "1   2022-01-07      AMD          5  69.502488  179.348259  157.636816   \n",
       "10  2022-01-07      AMD         10  75.086250  192.245000  167.407500   \n",
       "19  2022-01-07      AMD         15  69.702282  193.190317  160.622705   \n",
       "28  2022-01-07      AMD         20  62.674083  194.796929  153.726418   \n",
       "37  2022-01-07      AMD         25  56.926379  195.976931  147.907121   \n",
       "46  2022-01-07      AMD         30  52.770077  197.076270  142.614335   \n",
       "\n",
       "            NIR      NDVI  \n",
       "1   1824.378109  0.843008  \n",
       "10  1870.890000  0.838265  \n",
       "19  1883.075125  0.845583  \n",
       "28  1917.150736  0.854010  \n",
       "37  1939.359278  0.860170  \n",
       "46  1960.400835  0.865630  "
      ]
     },
     "execution_count": 39,
     "metadata": {},
     "output_type": "execute_result"
    }
   ],
   "source": [
    "S2.head(6)"
   ]
  },
  {
   "cell_type": "markdown",
   "id": "54183984-d353-4c4a-b24d-ae8b6ff292df",
   "metadata": {},
   "source": [
    "- 결측치 제거한 데이터 정렬 및 .csv 내보내기"
   ]
  },
  {
   "cell_type": "code",
   "execution_count": 40,
   "id": "fe05e17f-c3b4-4d74-ae81-4f9e6ecb8a6e",
   "metadata": {},
   "outputs": [],
   "source": [
    "sorted_S2 = S2.reset_index().sort_values(by=['Location', 'index'])"
   ]
  },
  {
   "cell_type": "code",
   "execution_count": 41,
   "id": "565a20c9-dad5-4d1b-8dd7-e42185b7024d",
   "metadata": {},
   "outputs": [],
   "source": [
    "sorted_S2.drop(axis=1, columns=['index']).to_csv(f'S2_Total-{start_date}-{end_date}_timeseries_clean.csv', encoding='utf-8', index=False)"
   ]
  },
  {
   "cell_type": "markdown",
   "id": "744ab992-9b03-4229-8d19-47ec98df15d3",
   "metadata": {},
   "source": [
    "---"
   ]
  },
  {
   "cell_type": "markdown",
   "id": "a847b0e8-ace7-412b-8746-35b45e9b8a81",
   "metadata": {},
   "source": [
    "# 지점별 관측 개수 시각화"
   ]
  },
  {
   "cell_type": "code",
   "execution_count": 69,
   "id": "00ddfe1a-9f0e-43db-83df-e138cba6b0c4",
   "metadata": {},
   "outputs": [],
   "source": [
    "import matplotlib.pyplot as plt"
   ]
  },
  {
   "cell_type": "code",
   "execution_count": null,
   "id": "512c2531-4bea-4fc9-99b3-f7393d5b3477",
   "metadata": {},
   "outputs": [],
   "source": [
    "# 그래프에 한글 출력 시 사용\n",
    "from matplotlib import font_manager, rc\n",
    "\n",
    "font_path = \"C:/Windows/Fonts/NGULIM.TTF\"\n",
    "font = font_manager.FontProperties(fname=font_path).get_name()\n",
    "rc('font', family=font)"
   ]
  },
  {
   "cell_type": "code",
   "execution_count": 20,
   "id": "d9749821-5c74-4da1-abdf-0e6cab8c473a",
   "metadata": {},
   "outputs": [
    {
     "data": {
      "image/png": "[encoded data removed]",
      "text/plain": [
       "<Figure size 576x576 with 1 Axes>"
      ]
     },
     "metadata": {
      "needs_background": "light"
     },
     "output_type": "display_data"
    }
   ],
   "source": [
    "targetColumn = 'Location'\n",
    "counts = S2[targetColumn].value_counts()\n",
    "\n",
    "plt.figure(figsize=(8, 8))\n",
    "plt.title('Observation number by Location')\n",
    "bars = plt.bar(counts.index, counts, width=0.4)\n",
    "plt.ylim(0, counts.max()*1.25) \n",
    "\n",
    "for bar in bars:\n",
    "    height = bar.get_height()\n",
    "    plt.text(bar.get_x() + bar.get_width()/2.0, \n",
    "             height, f'{height:.1f}', ha='center', va='bottom', size = 11)\n",
    "    \n",
    "plt.show()"
   ]
  },
  {
   "cell_type": "markdown",
   "id": "bb47ff9f-098a-4a2a-9225-b281c8c030cc",
   "metadata": {},
   "source": [
    "---\n",
    "# 관측 지점별 위성 사진 확인"
   ]
  },
  {
   "cell_type": "code",
   "execution_count": 43,
   "id": "98ca4bfc-fc89-49fa-a663-7121a0d7ecbb",
   "metadata": {},
   "outputs": [],
   "source": [
    "coords = result_df[['Location', 'Lon', 'Lat']].drop_duplicates()"
   ]
  },
  {
   "cell_type": "code",
   "execution_count": 44,
   "id": "04b8beb8-479a-4548-bf93-2821aa215fcb",
   "metadata": {},
   "outputs": [],
   "source": [
    "coords_dict = {'GBK_coord' : [coords.iloc[0, 1], coords.iloc[0, 2]],\n",
    "               'AMD_coord' : [coords.iloc[1, 1], coords.iloc[1, 2]],\n",
    "               'WD_coord'  : [coords.iloc[2, 1], coords.iloc[2, 2]],\n",
    "               'HC_coord'  : [coords.iloc[3, 1], coords.iloc[3, 2]],\n",
    "               'PYC_coord' : [coords.iloc[4, 1], coords.iloc[4, 2]],\n",
    "               'SC_coord'  : [coords.iloc[5, 1], coords.iloc[5, 2]],\n",
    "               'JJ_coord'  : [coords.iloc[6, 1], coords.iloc[6, 2]],\n",
    "               'GCK_coord' : [coords.iloc[7, 1], coords.iloc[7, 2]],\n",
    "             'HAWS1_coord' : [coords.iloc[8, 1], coords.iloc[8, 2]], }\n",
    "\n",
    "vis = {'bands': ['B4', 'B3', 'B2'],\n",
    "       'min': 0,\n",
    "       'max': 3000,\n",
    "       'gamma':1.4  }"
   ]
  },
  {
   "cell_type": "markdown",
   "id": "4f0e377f-42f4-4513-b989-b159ef27a944",
   "metadata": {},
   "source": [
    "- target 변수에 관측지점 코드 입력하여 사용"
   ]
  },
  {
   "cell_type": "code",
   "execution_count": 57,
   "id": "462d924a-4efd-491a-b821-82a1186d8b2c",
   "metadata": {},
   "outputs": [],
   "source": [
    "target = 'GCK'\n",
    "point = coords_dict[f'{target}_coord']\n",
    "\n",
    "start_date = '2022-01-01'\n",
    "end_date = '2022-05-01'\n",
    "\n",
    "spot = (ee.ImageCollection(\"COPERNICUS/S2_SR_HARMONIZED\")\n",
    "       .select(['B2', 'B3', 'B4', 'B8', 'QA60'])\n",
    "       .filterDate(start_date, end_date)\n",
    "       .filterBounds(ee.Geometry.Point(point))\n",
    "       .filterMetadata('CLOUDY_PIXEL_PERCENTAGE', 'less_than', 10)\n",
    "       .map(addNDVI)\n",
    "       .map(maskS2clouds))\n",
    "\n",
    "# ee.Date(temp.first().get('system:time_start')).format().getInfo()"
   ]
  },
  {
   "cell_type": "code",
   "execution_count": 132,
   "id": "f1a350ae-4256-4070-8a8a-a1a3b00b9465",
   "metadata": {},
   "outputs": [
    {
     "data": {
      "application/vnd.jupyter.widget-view+json": {
       "model_id": "a9f3209c4fd7409fb012d5c9b840f989",
       "version_major": 2,
       "version_minor": 0
      },
      "text/plain": [
       "Map(center=[37.7484, 127.163], controls=(WidgetControl(options=['position', 'transparent_bg'], widget=HBox(chi…"
      ]
     },
     "metadata": {},
     "output_type": "display_data"
    }
   ],
   "source": [
    "Map = geemap.Map()\n",
    "Map.setCenter(point[0], point[1], 15)\n",
    "Map.addLayer(ee.Image(spot.mean().clip(ee.Geometry.Point(point).buffer(250).bounds())), vis, 'Sentinel-2')\n",
    "Map.addLayer(ee.Image().paint(ee.Geometry.Point(point).buffer(250).bounds(), 0, 1), {'palette': 'FF0000'}, 'Box Outline')\n",
    "Map.addLayer(ee.Image().paint(ee.Geometry.Point(point).buffer(30).bounds(), 0, 1), {'palette': 'FFFF00'}, 'Center point')\n",
    "Map"
   ]
  },
  {
   "cell_type": "markdown",
   "id": "48695163-9bdf-46e6-8b2c-f963431b39bf",
   "metadata": {
    "tags": []
   },
   "source": [
    "## 지점별 데이터 생성 및 전처리"
   ]
  },
  {
   "cell_type": "code",
   "execution_count": 59,
   "id": "8e5624e6-cac7-4dfc-b65e-04ada78971c1",
   "metadata": {},
   "outputs": [],
   "source": [
    "def clipPoint(image):\n",
    "    return image.clip(ee.Geometry.Point(point).buffer(250).bounds())\\\n",
    "                .reduceRegions(\n",
    "                     collection = points,\n",
    "                     reducer = ee.Reducer.mean(),\n",
    "                     scale = 10)\n",
    "                # .copyProperties(image, ['system:time_start'])\\\n",
    "                # .set('DATE', image.date().format('YYYY-MM-dd'))"
   ]
  },
  {
   "cell_type": "code",
   "execution_count": 60,
   "id": "48872691-c148-4984-a13d-699e55df2835",
   "metadata": {
    "tags": []
   },
   "outputs": [],
   "source": [
    "spot_result = spot.map(clipPoint).flatten()"
   ]
  },
  {
   "cell_type": "code",
   "execution_count": 61,
   "id": "3ab84a7b-cb83-44d6-9800-63275d341f68",
   "metadata": {},
   "outputs": [],
   "source": [
    "# ee 오브젝트 csv로 내보내지않고 바로 df로 사용할 경우 실행 (system:index 컬럼이 df로 안넘어옴..)\n",
    "# spot_df = geemap.ee_to_df(spot_result)"
   ]
  },
  {
   "cell_type": "code",
   "execution_count": null,
   "id": "aa57364f-b043-47d8-9bf0-de87cf0f1b43",
   "metadata": {
    "tags": []
   },
   "outputs": [],
   "source": [
    "# ee 오브젝트를 csv로 내보냈다가 df로 불러오고 싶은 경우 사용 \n",
    "geemap.ee_to_csv(spot_result, f'S2_{target}-{start_date}-{end_date}_timeseries.csv')\n",
    "spot_result_df = pd.read_csv(f'S2_{target}-{start_date}-{end_date}_timeseries.csv', encoding='utf-8')\n",
    "\n",
    "spot_result_cleaned = spot_result_df.reset_index().sort_values(by=['Location', 'index'])\n",
    "if 'system:index' in spot_result_cleaned.columns:\n",
    "    spot_result_cleaned = spot_result_cleaned[['system:index', 'Location', 'BUFF_DIST', 'B2', 'B3', 'B4', 'B8', 'NDVI']].dropna() \n",
    "else:\n",
    "    spot_result_cleaned = spot_result_cleaned[['Location', 'BUFF_DIST', 'B2', 'B3', 'B4', 'B8', 'NDVI']].dropna() \n",
    "\n",
    "spot_result_cleaned.rename(columns={'B2':'Blue', 'B3':'Green', 'B4':'Red', 'B8':'NIR'}, inplace=True)\n",
    "spot_result_cleaned.rename(columns={'system:index':'DATE'}, inplace=True)\n",
    "spot_result_cleaned['DATE'] = spot_result_cleaned['DATE'].apply(lambda x: f\"{x[:4]}-{x[4:6]}-{x[6:8]}\")\n",
    "spot_result_cleaned.to_csv(f'S2_{target}-{start_date}-{end_date}_timeseries_clean.csv', encoding='utf-8', index=False)\n",
    "\n",
    "spot_df = pd.read_csv(f'S2_{target}-{start_date}-{end_date}_timeseries_clean.csv', encoding='utf-8')"
   ]
  },
  {
   "cell_type": "code",
   "execution_count": 66,
   "id": "9dee7905-93ac-4ad3-be02-1c0fc0947658",
   "metadata": {},
   "outputs": [
    {
     "data": {
      "text/plain": [
       "GCK    60\n",
       "Name: Location, dtype: int64"
      ]
     },
     "execution_count": 66,
     "metadata": {},
     "output_type": "execute_result"
    }
   ],
   "source": [
    "spot_df['Location'].value_counts()"
   ]
  },
  {
   "cell_type": "code",
   "execution_count": 104,
   "id": "bd802cf6-d526-4e17-88eb-8547828c52cb",
   "metadata": {},
   "outputs": [],
   "source": [
    "target_df = spot_df.copy()"
   ]
  },
  {
   "cell_type": "markdown",
   "id": "4158c5b2-47ee-4d3d-8f0e-46ee1415f4fa",
   "metadata": {},
   "source": [
    "## 관측 밴드값 그래프"
   ]
  },
  {
   "cell_type": "markdown",
   "id": "a496c84d-c32e-4e82-9d43-dc48312713f3",
   "metadata": {},
   "source": [
    "### 날짜별 밴드값 조회"
   ]
  },
  {
   "cell_type": "code",
   "execution_count": 105,
   "id": "feaa9929-54e1-4b46-acbf-8cf4efb2ef16",
   "metadata": {},
   "outputs": [
    {
     "data": {
      "text/plain": [
       "Index(['2022-01-07', '2022-01-17', '2022-02-06', '2022-02-11', '2022-03-03',\n",
       "       '2022-03-08', '2022-04-02', '2022-04-07', '2022-04-17', '2022-04-27'],\n",
       "      dtype='object')"
      ]
     },
     "execution_count": 105,
     "metadata": {},
     "output_type": "execute_result"
    }
   ],
   "source": [
    "vaild_date = target_df['DATE'].value_counts().index\n",
    "vaild_date"
   ]
  },
  {
   "cell_type": "markdown",
   "id": "89420a87-c9c4-4c6a-8fec-5664a3a222aa",
   "metadata": {
    "tags": []
   },
   "source": [
    "- targetDate 변수에 조회 날짜의 인덱스 입력\n",
    "-  targetBand 변수에 조회 밴드 입력"
   ]
  },
  {
   "cell_type": "code",
   "execution_count": 129,
   "id": "18eda079-b3ef-4f95-995c-e721c9d04f8a",
   "metadata": {},
   "outputs": [],
   "source": [
    "targetDate = vaild_date[3]\n",
    "targetBand = 'NIR'"
   ]
  },
  {
   "cell_type": "code",
   "execution_count": 130,
   "id": "55784fd9-e2d6-429f-8afe-516001c11339",
   "metadata": {},
   "outputs": [
    {
     "data": {
      "text/plain": [
       "BUFF_DIST\n",
       "5     1361.126316\n",
       "10    1388.348214\n",
       "15    1423.828732\n",
       "20    1437.492594\n",
       "25    1440.307522\n",
       "30    1430.193318\n",
       "Name: NIR, dtype: float64"
      ]
     },
     "execution_count": 130,
     "metadata": {},
     "output_type": "execute_result"
    }
   ],
   "source": [
    "target_line = target_df[target_df['DATE'] == targetDate].set_index(['BUFF_DIST']).loc[:, targetBand].T\n",
    "target_line"
   ]
  },
  {
   "cell_type": "code",
   "execution_count": 131,
   "id": "bbfb132a-fc8d-43ba-8b86-5b10a2dd3fa9",
   "metadata": {},
   "outputs": [
    {
     "data": {
      "image/png": "[encoded data removed]",
      "text/plain": [
       "<Figure size 720x504 with 1 Axes>"
      ]
     },
     "metadata": {
      "needs_background": "light"
     },
     "output_type": "display_data"
    }
   ],
   "source": [
    "plt.plot(target_line, label = targetBand, marker='^')\n",
    "plt.xlabel('Buffer')\n",
    "plt.ylabel('Value', rotation=0, labelpad=14)\n",
    "plt.ylim(target_line.min() * 0.975, target_line.max() * 1.025)\n",
    "plt.title(f'{targetDate} : {targetBand}')\n",
    "plt.grid(axis='y')\n",
    "plt.show()"
   ]
  },
  {
   "cell_type": "markdown",
   "id": "f0f97a12-7c98-41c2-84df-dadf70777ed7",
   "metadata": {},
   "source": [
    "### 밴드별 전체 날짜 평균값 조회"
   ]
  },
  {
   "cell_type": "code",
   "execution_count": 109,
   "id": "40308b1a-c2a2-4d88-8800-39145c319563",
   "metadata": {},
   "outputs": [
    {
     "data": {
      "text/plain": [
       "BUFF_DIST\n",
       "5     0.669248\n",
       "10    0.672606\n",
       "15    0.675778\n",
       "20    0.676173\n",
       "25    0.672285\n",
       "30    0.665996\n",
       "Name: NDVI, dtype: float64"
      ]
     },
     "execution_count": 109,
     "metadata": {},
     "output_type": "execute_result"
    }
   ],
   "source": [
    "target_mean = target_df.groupby(['BUFF_DIST']).mean()\n",
    "target_mean.loc[:, 'NDVI'].T"
   ]
  },
  {
   "cell_type": "code",
   "execution_count": 110,
   "id": "71cce1ef-c966-40cb-9fd1-1d6bee33e20f",
   "metadata": {
    "tags": []
   },
   "outputs": [
    {
     "data": {
      "image/png": "[encoded data removed]",
      "text/plain": [
       "<Figure size 720x504 with 2 Axes>"
      ]
     },
     "metadata": {
      "needs_background": "light"
     },
     "output_type": "display_data"
    }
   ],
   "source": [
    "plt.rcParams['figure.figsize'] = (10, 7)\n",
    "\n",
    "fig, ax1 = plt.subplots()\n",
    "ax1.set_xlabel('Buffer', size=12)\n",
    "blueLine = ax1.plot(target_mean.loc[:, 'Blue'].T, marker='^', color='b', label='Blue')\n",
    "greenLine = ax1.plot(target_mean.loc[:, 'Green'].T, marker='^', color='g', label='Green')\n",
    "redLine = ax1.plot(target_mean.loc[:, 'Red'].T, marker='^', color='r', label='Red')\n",
    "NIRLine = ax1.plot(target_mean.loc[:, 'NIR'].T, marker='^', color='pink', label='NIR')\n",
    "\n",
    "\n",
    "ax2 = ax1.twinx()\n",
    "ax2.set_ylabel('Value', rotation=0, size=12, labelpad=25)\n",
    "NDVILine = ax2.plot(target_mean.loc[:, 'NDVI'].T, marker='^', color='purple', label='NDVI')\n",
    "\n",
    "lines = blueLine + greenLine + redLine + NIRLine + NDVILine\n",
    "labels = [line.get_label() for line in lines]\n",
    "ax1.legend(lines, labels, loc='center left', bbox_to_anchor=(1.1, 0.1))\n",
    "plt.grid(axis='y')\n",
    "plt.show()"
   ]
  },
  {
   "cell_type": "code",
   "execution_count": null,
   "id": "56c2f5c3-8636-4e0a-83d7-c03bebc6bdd2",
   "metadata": {},
   "outputs": [],
   "source": []
  }
 ],
 "metadata": {
  "kernelspec": {
   "display_name": "Python 3 (ipykernel)",
   "language": "python",
   "name": "python3"
  },
  "language_info": {
   "codemirror_mode": {
    "name": "ipython",
    "version": 3
   },
   "file_extension": ".py",
   "mimetype": "text/x-python",
   "name": "python",
   "nbconvert_exporter": "python",
   "pygments_lexer": "ipython3",
   "version": "3.9.12"
  },
  "toc-autonumbering": true
 },
 "nbformat": 4,
 "nbformat_minor": 5
}
