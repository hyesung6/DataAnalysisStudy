{
 "cells": [
  {
   "cell_type": "markdown",
   "id": "a45c09c0-e33d-4389-b247-7b3b64c11ea6",
   "metadata": {},
   "source": [
    "# 데이터 추출"
   ]
  },
  {
   "cell_type": "code",
   "execution_count": null,
   "id": "99242cb2-6d6d-4b9d-a760-1ed446312a5a",
   "metadata": {},
   "outputs": [],
   "source": [
    "# !pip install ee\n",
    "# !pip install geemap\n",
    "# !pip install ipympl"
   ]
  },
  {
   "cell_type": "code",
   "execution_count": 1,
   "id": "c531e892-784e-42b6-b203-ff0792f775d7",
   "metadata": {},
   "outputs": [],
   "source": [
    "import ee, geemap\n",
    "import pandas as pd"
   ]
  },
  {
   "cell_type": "code",
   "execution_count": 2,
   "id": "0f65218d-a2fa-4630-aba9-355796490474",
   "metadata": {},
   "outputs": [],
   "source": [
    "geemap.ee_initialize()"
   ]
  },
  {
   "cell_type": "code",
   "execution_count": 5,
   "id": "aac3390e-bc75-4250-bc7f-c2526ae938f9",
   "metadata": {},
   "outputs": [],
   "source": [
    "def addNDVI(image):\n",
    "    ndvi = image.normalizedDifference(['B8', 'B4']).rename('NDVI')\n",
    "    return image.addBands([ndvi])"
   ]
  },
  {
   "cell_type": "code",
   "execution_count": 6,
   "id": "232037e2-bdfd-4bfa-a502-b9976df5cb11",
   "metadata": {},
   "outputs": [],
   "source": [
    "def maskS2clouds(image):\n",
    "    qa = image.select('QA60');\n",
    "    \n",
    "    cloudBitMask = 1 << 10\n",
    "    cirrusBitMask = 1 << 11\n",
    "    \n",
    "    mask = (qa.bitwiseAnd(cloudBitMask).eq(0) and (qa.bitwiseAnd(cirrusBitMask).eq(0)))\n",
    "        \n",
    "    return image.updateMask(mask)"
   ]
  },
  {
   "cell_type": "code",
   "execution_count": 20,
   "id": "6521dd37-42fc-442c-991a-d16dc414c8d2",
   "metadata": {},
   "outputs": [
    {
     "data": {
      "text/plain": [
       "'2022-01-01T02:08:26'"
      ]
     },
     "execution_count": 20,
     "metadata": {},
     "output_type": "execute_result"
    }
   ],
   "source": [
    "# reducePoints의 날짜 추가 코드가 기능하지 않으므로\n",
    "# 새로운 날짜 추가 기능을 해줄 코드를 작성해야함\n",
    "## 아래 코드는 한 개 image 대상으로는 돌아가는데 Collection단위로 적용되게 할 방법을 찾아야함\n",
    "\n",
    "def addDate(image):\n",
    "    return image.addBands(ee.Date(image.get('system:time_start')).format().getInfo()).rename('DATE')\n",
    "\n",
    "ee.Date(collection.first().get('system:time_start')).format().getInfo()"
   ]
  },
  {
   "cell_type": "code",
   "execution_count": 7,
   "id": "085a40e9-cf0e-416f-a729-fe30fa04d67f",
   "metadata": {},
   "outputs": [],
   "source": [
    "def reducePoints(image):\n",
    "    return image.reduceRegions(\n",
    "                     collection = points,\n",
    "                     reducer = ee.Reducer.mean(),\n",
    "                     scale = 10)\n",
    "                # .copyProperties(image, ['system:time_start'])\\\n",
    "                # .set('DATE', image.date().format('YYYY-MM-dd'))"
   ]
  },
  {
   "cell_type": "code",
   "execution_count": 8,
   "id": "3c2141c4-9bb4-4aeb-a32f-de658c1cdf52",
   "metadata": {
    "tags": []
   },
   "outputs": [],
   "source": [
    "table = geemap.shp_to_ee('Tower_52N_mod_B5_30.shp')\n",
    "points = ee.FeatureCollection(table)\n",
    "\n",
    "geometry = geemap.geojson_to_ee('korea.geojson')\n",
    "\n",
    "start_date = '2022-01-01'\n",
    "end_date = '2022-02-01'\n",
    "\n",
    "collection = (\n",
    "    ee.ImageCollection(\"COPERNICUS/S2_SR_HARMONIZED\")\n",
    "       .select(['B2', 'B3', 'B4', 'B8', 'QA60'])\n",
    "       .filterBounds(geometry)\n",
    "       .filterDate(start_date, end_date)\n",
    "       .filterMetadata('CLOUDY_PIXEL_PERCENTAGE', 'less_than', 10)\n",
    "       .map(addNDVI)\n",
    "       .map(maskS2clouds)\n",
    ")"
   ]
  },
  {
   "cell_type": "code",
   "execution_count": 9,
   "id": "83885b1d-8c7b-4968-882e-f162b07d742d",
   "metadata": {
    "tags": []
   },
   "outputs": [],
   "source": [
    "result = collection.map(reducePoints).flatten()"
   ]
  },
  {
   "cell_type": "markdown",
   "id": "61942f69-4989-4a23-bbfc-b7be8a757867",
   "metadata": {},
   "source": [
    "# 데이터 저장 및 데이터프레임 생성"
   ]
  },
  {
   "cell_type": "code",
   "execution_count": 11,
   "id": "39538840-13c8-4cb5-8bb5-520a558dd986",
   "metadata": {
    "tags": []
   },
   "outputs": [
    {
     "name": "stdout",
     "output_type": "stream",
     "text": [
      "Generating URL ...\n",
      "Downloading data from https://earthengine.googleapis.com/v1alpha/projects/earthengine-legacy/tables/e1c7be9296e4478a3270e5fc3d7b0e03-725e8ef408045ed52b5f31be1d19d5d6:getFeatures\n",
      "Please wait ...\n",
      "Data downloaded to C:\\Users\\user\\Desktop\\산림과학원\\221129 GEE-Python API\\220101-220201.csv\n"
     ]
    }
   ],
   "source": [
    "# FeatureCollection -> csv로 내보내기\n",
    "geemap.ee_to_csv(result, filename='220101-220201.csv')"
   ]
  },
  {
   "cell_type": "code",
   "execution_count": 10,
   "id": "9a8639f6-593d-439c-b17e-f13a7ca14adb",
   "metadata": {
    "collapsed": true,
    "jupyter": {
     "outputs_hidden": true
    },
    "tags": []
   },
   "outputs": [
    {
     "ename": "Exception",
     "evalue": "Collection query aborted after accumulating over 5000 elements.",
     "output_type": "error",
     "traceback": [
      "\u001b[1;31m---------------------------------------------------------------------------\u001b[0m",
      "\u001b[1;31mHttpError\u001b[0m                                 Traceback (most recent call last)",
      "File \u001b[1;32m~\\anaconda3\\lib\\site-packages\\ee\\data.py:328\u001b[0m, in \u001b[0;36m_execute_cloud_call\u001b[1;34m(call, num_retries)\u001b[0m\n\u001b[0;32m    327\u001b[0m \u001b[38;5;28;01mtry\u001b[39;00m:\n\u001b[1;32m--> 328\u001b[0m   \u001b[38;5;28;01mreturn\u001b[39;00m \u001b[43mcall\u001b[49m\u001b[38;5;241;43m.\u001b[39;49m\u001b[43mexecute\u001b[49m\u001b[43m(\u001b[49m\u001b[43mnum_retries\u001b[49m\u001b[38;5;241;43m=\u001b[39;49m\u001b[43mnum_retries\u001b[49m\u001b[43m)\u001b[49m\n\u001b[0;32m    329\u001b[0m \u001b[38;5;28;01mexcept\u001b[39;00m googleapiclient\u001b[38;5;241m.\u001b[39merrors\u001b[38;5;241m.\u001b[39mHttpError \u001b[38;5;28;01mas\u001b[39;00m e:\n",
      "File \u001b[1;32m~\\anaconda3\\lib\\site-packages\\googleapiclient\\_helpers.py:134\u001b[0m, in \u001b[0;36mpositional.<locals>.positional_decorator.<locals>.positional_wrapper\u001b[1;34m(*args, **kwargs)\u001b[0m\n\u001b[0;32m    133\u001b[0m         logger\u001b[38;5;241m.\u001b[39mwarning(message)\n\u001b[1;32m--> 134\u001b[0m \u001b[38;5;28;01mreturn\u001b[39;00m wrapped(\u001b[38;5;241m*\u001b[39margs, \u001b[38;5;241m*\u001b[39m\u001b[38;5;241m*\u001b[39mkwargs)\n",
      "File \u001b[1;32m~\\anaconda3\\lib\\site-packages\\googleapiclient\\http.py:915\u001b[0m, in \u001b[0;36mHttpRequest.execute\u001b[1;34m(self, http, num_retries)\u001b[0m\n\u001b[0;32m    914\u001b[0m \u001b[38;5;28;01mif\u001b[39;00m resp\u001b[38;5;241m.\u001b[39mstatus \u001b[38;5;241m>\u001b[39m\u001b[38;5;241m=\u001b[39m \u001b[38;5;241m300\u001b[39m:\n\u001b[1;32m--> 915\u001b[0m     \u001b[38;5;28;01mraise\u001b[39;00m HttpError(resp, content, uri\u001b[38;5;241m=\u001b[39m\u001b[38;5;28mself\u001b[39m\u001b[38;5;241m.\u001b[39muri)\n\u001b[0;32m    916\u001b[0m \u001b[38;5;28;01mreturn\u001b[39;00m \u001b[38;5;28mself\u001b[39m\u001b[38;5;241m.\u001b[39mpostproc(resp, content)\n",
      "\u001b[1;31mHttpError\u001b[0m: <HttpError 400 when requesting https://earthengine.googleapis.com/v1alpha/projects/earthengine-legacy/value:compute?prettyPrint=false&alt=json returned \"Collection query aborted after accumulating over 5000 elements.\". Details: \"Collection query aborted after accumulating over 5000 elements.\">",
      "\nDuring handling of the above exception, another exception occurred:\n",
      "\u001b[1;31mEEException\u001b[0m                               Traceback (most recent call last)",
      "File \u001b[1;32m~\\anaconda3\\lib\\site-packages\\geemap\\common.py:8756\u001b[0m, in \u001b[0;36mee_to_df\u001b[1;34m(ee_object, col_names, sort_columns, **kwargs)\u001b[0m\n\u001b[0;32m   8755\u001b[0m data \u001b[38;5;241m=\u001b[39m ee_object\u001b[38;5;241m.\u001b[39mmap(\u001b[38;5;28;01mlambda\u001b[39;00m f: ee\u001b[38;5;241m.\u001b[39mFeature(\u001b[38;5;28;01mNone\u001b[39;00m, f\u001b[38;5;241m.\u001b[39mtoDictionary()))\n\u001b[1;32m-> 8756\u001b[0m data \u001b[38;5;241m=\u001b[39m [x[\u001b[38;5;124m\"\u001b[39m\u001b[38;5;124mproperties\u001b[39m\u001b[38;5;124m\"\u001b[39m] \u001b[38;5;28;01mfor\u001b[39;00m x \u001b[38;5;129;01min\u001b[39;00m \u001b[43mdata\u001b[49m\u001b[38;5;241;43m.\u001b[39;49m\u001b[43mgetInfo\u001b[49m\u001b[43m(\u001b[49m\u001b[43m)\u001b[49m[\u001b[38;5;124m\"\u001b[39m\u001b[38;5;124mfeatures\u001b[39m\u001b[38;5;124m\"\u001b[39m]]\n\u001b[0;32m   8757\u001b[0m df \u001b[38;5;241m=\u001b[39m pd\u001b[38;5;241m.\u001b[39mDataFrame(data)\n",
      "File \u001b[1;32m~\\anaconda3\\lib\\site-packages\\ee\\collection.py:133\u001b[0m, in \u001b[0;36mCollection.getInfo\u001b[1;34m(self)\u001b[0m\n\u001b[0;32m    121\u001b[0m \u001b[38;5;124;03m\"\"\"Returns all the known information about this collection.\u001b[39;00m\n\u001b[0;32m    122\u001b[0m \n\u001b[0;32m    123\u001b[0m \u001b[38;5;124;03mThis function makes an REST call to to retrieve all the known information\u001b[39;00m\n\u001b[1;32m   (...)\u001b[0m\n\u001b[0;32m    131\u001b[0m \u001b[38;5;124;03m       properties.\u001b[39;00m\n\u001b[0;32m    132\u001b[0m \u001b[38;5;124;03m\"\"\"\u001b[39;00m\n\u001b[1;32m--> 133\u001b[0m \u001b[38;5;28;01mreturn\u001b[39;00m \u001b[38;5;28;43msuper\u001b[39;49m\u001b[43m(\u001b[49m\u001b[43mCollection\u001b[49m\u001b[43m,\u001b[49m\u001b[43m \u001b[49m\u001b[38;5;28;43mself\u001b[39;49m\u001b[43m)\u001b[49m\u001b[38;5;241;43m.\u001b[39;49m\u001b[43mgetInfo\u001b[49m\u001b[43m(\u001b[49m\u001b[43m)\u001b[49m\n",
      "File \u001b[1;32m~\\anaconda3\\lib\\site-packages\\ee\\computedobject.py:98\u001b[0m, in \u001b[0;36mComputedObject.getInfo\u001b[1;34m(self)\u001b[0m\n\u001b[0;32m     93\u001b[0m \u001b[38;5;124;03m\"\"\"Fetch and return information about this object.\u001b[39;00m\n\u001b[0;32m     94\u001b[0m \n\u001b[0;32m     95\u001b[0m \u001b[38;5;124;03mReturns:\u001b[39;00m\n\u001b[0;32m     96\u001b[0m \u001b[38;5;124;03m  The object can evaluate to anything.\u001b[39;00m\n\u001b[0;32m     97\u001b[0m \u001b[38;5;124;03m\"\"\"\u001b[39;00m\n\u001b[1;32m---> 98\u001b[0m \u001b[38;5;28;01mreturn\u001b[39;00m \u001b[43mdata\u001b[49m\u001b[38;5;241;43m.\u001b[39;49m\u001b[43mcomputeValue\u001b[49m\u001b[43m(\u001b[49m\u001b[38;5;28;43mself\u001b[39;49m\u001b[43m)\u001b[49m\n",
      "File \u001b[1;32m~\\anaconda3\\lib\\site-packages\\ee\\data.py:738\u001b[0m, in \u001b[0;36mcomputeValue\u001b[1;34m(obj)\u001b[0m\n\u001b[0;32m    736\u001b[0m   body[\u001b[38;5;124m'\u001b[39m\u001b[38;5;124mworkloadTag\u001b[39m\u001b[38;5;124m'\u001b[39m] \u001b[38;5;241m=\u001b[39m workload_tag\n\u001b[1;32m--> 738\u001b[0m \u001b[38;5;28;01mreturn\u001b[39;00m \u001b[43m_execute_cloud_call\u001b[49m\u001b[43m(\u001b[49m\n\u001b[0;32m    739\u001b[0m \u001b[43m    \u001b[49m\u001b[43m_get_cloud_api_resource\u001b[49m\u001b[43m(\u001b[49m\u001b[43m)\u001b[49m\u001b[38;5;241;43m.\u001b[39;49m\u001b[43mprojects\u001b[49m\u001b[43m(\u001b[49m\u001b[43m)\u001b[49m\u001b[38;5;241;43m.\u001b[39;49m\u001b[43mvalue\u001b[49m\u001b[43m(\u001b[49m\u001b[43m)\u001b[49m\u001b[38;5;241;43m.\u001b[39;49m\u001b[43mcompute\u001b[49m\u001b[43m(\u001b[49m\n\u001b[0;32m    740\u001b[0m \u001b[43m        \u001b[49m\u001b[43mbody\u001b[49m\u001b[38;5;241;43m=\u001b[39;49m\u001b[43mbody\u001b[49m\u001b[43m,\u001b[49m\n\u001b[0;32m    741\u001b[0m \u001b[43m        \u001b[49m\u001b[43mproject\u001b[49m\u001b[38;5;241;43m=\u001b[39;49m\u001b[43m_get_projects_path\u001b[49m\u001b[43m(\u001b[49m\u001b[43m)\u001b[49m\u001b[43m,\u001b[49m\n\u001b[0;32m    742\u001b[0m \u001b[43m        \u001b[49m\u001b[43mprettyPrint\u001b[49m\u001b[38;5;241;43m=\u001b[39;49m\u001b[38;5;28;43;01mFalse\u001b[39;49;00m\u001b[43m)\u001b[49m\u001b[43m)\u001b[49m[\u001b[38;5;124m'\u001b[39m\u001b[38;5;124mresult\u001b[39m\u001b[38;5;124m'\u001b[39m]\n",
      "File \u001b[1;32m~\\anaconda3\\lib\\site-packages\\ee\\data.py:330\u001b[0m, in \u001b[0;36m_execute_cloud_call\u001b[1;34m(call, num_retries)\u001b[0m\n\u001b[0;32m    329\u001b[0m \u001b[38;5;28;01mexcept\u001b[39;00m googleapiclient\u001b[38;5;241m.\u001b[39merrors\u001b[38;5;241m.\u001b[39mHttpError \u001b[38;5;28;01mas\u001b[39;00m e:\n\u001b[1;32m--> 330\u001b[0m   \u001b[38;5;28;01mraise\u001b[39;00m _translate_cloud_exception(e)\n",
      "\u001b[1;31mEEException\u001b[0m: Collection query aborted after accumulating over 5000 elements.",
      "\nDuring handling of the above exception, another exception occurred:\n",
      "\u001b[1;31mException\u001b[0m                                 Traceback (most recent call last)",
      "Input \u001b[1;32mIn [10]\u001b[0m, in \u001b[0;36m<cell line: 2>\u001b[1;34m()\u001b[0m\n\u001b[0;32m      1\u001b[0m \u001b[38;5;66;03m# FeatureCollection -> DataFrame으로 변환\u001b[39;00m\n\u001b[1;32m----> 2\u001b[0m result_df \u001b[38;5;241m=\u001b[39m \u001b[43mgeemap\u001b[49m\u001b[38;5;241;43m.\u001b[39;49m\u001b[43mee_to_df\u001b[49m\u001b[43m(\u001b[49m\u001b[43mresult\u001b[49m\u001b[43m)\u001b[49m\n",
      "File \u001b[1;32m~\\anaconda3\\lib\\site-packages\\geemap\\common.py:8772\u001b[0m, in \u001b[0;36mee_to_df\u001b[1;34m(ee_object, col_names, sort_columns, **kwargs)\u001b[0m\n\u001b[0;32m   8770\u001b[0m     \u001b[38;5;28;01mreturn\u001b[39;00m df\n\u001b[0;32m   8771\u001b[0m \u001b[38;5;28;01mexcept\u001b[39;00m \u001b[38;5;167;01mException\u001b[39;00m \u001b[38;5;28;01mas\u001b[39;00m e:\n\u001b[1;32m-> 8772\u001b[0m     \u001b[38;5;28;01mraise\u001b[39;00m \u001b[38;5;167;01mException\u001b[39;00m(e)\n",
      "\u001b[1;31mException\u001b[0m: Collection query aborted after accumulating over 5000 elements."
     ]
    }
   ],
   "source": [
    "# FeatureCollection -> DataFrame으로 변환\n",
    "result_df = geemap.ee_to_df(result)"
   ]
  },
  {
   "cell_type": "code",
   "execution_count": 12,
   "id": "23da5a30-45a8-4f8b-bef1-034ec57e3ea0",
   "metadata": {},
   "outputs": [],
   "source": [
    "# 내보낸 csv -> DataFrame으로 가져오기\n",
    "result_df = pd.read_csv('220101-220201.csv', encoding='utf-8')"
   ]
  },
  {
   "cell_type": "markdown",
   "id": "bcb43fbb-1730-4c41-8e77-840843ebcf59",
   "metadata": {},
   "source": [
    "## NA값 제거 및 컬럼 이름 변경"
   ]
  },
  {
   "cell_type": "code",
   "execution_count": 13,
   "id": "7a2604b0-ab50-48b1-893b-69c5791aae26",
   "metadata": {},
   "outputs": [],
   "source": [
    "S2 = result_df[['Location', 'BUFF_DIST', 'B2', 'B3', 'B4', 'B8', 'NDVI']].dropna() "
   ]
  },
  {
   "cell_type": "code",
   "execution_count": 14,
   "id": "0ca7d0e7-1c23-495f-a8c6-b45f87ab35ab",
   "metadata": {},
   "outputs": [],
   "source": [
    "S2.rename(columns={'B2':'Blue', 'B3':'Green', 'B4':'Red', 'B8':'NIR'}, inplace=True)"
   ]
  },
  {
   "cell_type": "code",
   "execution_count": 15,
   "id": "3007d842-2726-4978-9f2a-1be41134c7a8",
   "metadata": {},
   "outputs": [
    {
     "data": {
      "text/html": [
       "<div>\n",
       "<style scoped>\n",
       "    .dataframe tbody tr th:only-of-type {\n",
       "        vertical-align: middle;\n",
       "    }\n",
       "\n",
       "    .dataframe tbody tr th {\n",
       "        vertical-align: top;\n",
       "    }\n",
       "\n",
       "    .dataframe thead th {\n",
       "        text-align: right;\n",
       "    }\n",
       "</style>\n",
       "<table border=\"1\" class=\"dataframe\">\n",
       "  <thead>\n",
       "    <tr style=\"text-align: right;\">\n",
       "      <th></th>\n",
       "      <th>Location</th>\n",
       "      <th>BUFF_DIST</th>\n",
       "      <th>Blue</th>\n",
       "      <th>Green</th>\n",
       "      <th>Red</th>\n",
       "      <th>NIR</th>\n",
       "      <th>NDVI</th>\n",
       "    </tr>\n",
       "  </thead>\n",
       "  <tbody>\n",
       "    <tr>\n",
       "      <th>865</th>\n",
       "      <td>AMD</td>\n",
       "      <td>5</td>\n",
       "      <td>69.502488</td>\n",
       "      <td>179.348259</td>\n",
       "      <td>157.636816</td>\n",
       "      <td>1824.378109</td>\n",
       "      <td>0.843008</td>\n",
       "    </tr>\n",
       "    <tr>\n",
       "      <th>874</th>\n",
       "      <td>AMD</td>\n",
       "      <td>10</td>\n",
       "      <td>75.086250</td>\n",
       "      <td>192.245000</td>\n",
       "      <td>167.407500</td>\n",
       "      <td>1870.890000</td>\n",
       "      <td>0.838265</td>\n",
       "    </tr>\n",
       "    <tr>\n",
       "      <th>883</th>\n",
       "      <td>AMD</td>\n",
       "      <td>15</td>\n",
       "      <td>69.702282</td>\n",
       "      <td>193.190317</td>\n",
       "      <td>160.622705</td>\n",
       "      <td>1883.075125</td>\n",
       "      <td>0.845583</td>\n",
       "    </tr>\n",
       "    <tr>\n",
       "      <th>892</th>\n",
       "      <td>AMD</td>\n",
       "      <td>20</td>\n",
       "      <td>62.674083</td>\n",
       "      <td>194.796929</td>\n",
       "      <td>153.726418</td>\n",
       "      <td>1917.150736</td>\n",
       "      <td>0.854010</td>\n",
       "    </tr>\n",
       "    <tr>\n",
       "      <th>901</th>\n",
       "      <td>AMD</td>\n",
       "      <td>25</td>\n",
       "      <td>56.926379</td>\n",
       "      <td>195.976931</td>\n",
       "      <td>147.907121</td>\n",
       "      <td>1939.359278</td>\n",
       "      <td>0.860170</td>\n",
       "    </tr>\n",
       "    <tr>\n",
       "      <th>910</th>\n",
       "      <td>AMD</td>\n",
       "      <td>30</td>\n",
       "      <td>52.770077</td>\n",
       "      <td>197.076270</td>\n",
       "      <td>142.614335</td>\n",
       "      <td>1960.400835</td>\n",
       "      <td>0.865630</td>\n",
       "    </tr>\n",
       "  </tbody>\n",
       "</table>\n",
       "</div>"
      ],
      "text/plain": [
       "    Location  BUFF_DIST       Blue       Green         Red          NIR  \\\n",
       "865      AMD          5  69.502488  179.348259  157.636816  1824.378109   \n",
       "874      AMD         10  75.086250  192.245000  167.407500  1870.890000   \n",
       "883      AMD         15  69.702282  193.190317  160.622705  1883.075125   \n",
       "892      AMD         20  62.674083  194.796929  153.726418  1917.150736   \n",
       "901      AMD         25  56.926379  195.976931  147.907121  1939.359278   \n",
       "910      AMD         30  52.770077  197.076270  142.614335  1960.400835   \n",
       "\n",
       "         NDVI  \n",
       "865  0.843008  \n",
       "874  0.838265  \n",
       "883  0.845583  \n",
       "892  0.854010  \n",
       "901  0.860170  \n",
       "910  0.865630  "
      ]
     },
     "execution_count": 15,
     "metadata": {},
     "output_type": "execute_result"
    }
   ],
   "source": [
    "S2.head(6)"
   ]
  },
  {
   "cell_type": "markdown",
   "id": "744ab992-9b03-4229-8d19-47ec98df15d3",
   "metadata": {},
   "source": [
    "---"
   ]
  },
  {
   "cell_type": "markdown",
   "id": "a847b0e8-ace7-412b-8746-35b45e9b8a81",
   "metadata": {},
   "source": [
    "# 관측 지점별 관측 개수 시각화"
   ]
  },
  {
   "cell_type": "code",
   "execution_count": 14,
   "id": "00ddfe1a-9f0e-43db-83df-e138cba6b0c4",
   "metadata": {},
   "outputs": [],
   "source": [
    "import matplotlib.pyplot as plt"
   ]
  },
  {
   "cell_type": "code",
   "execution_count": null,
   "id": "512c2531-4bea-4fc9-99b3-f7393d5b3477",
   "metadata": {},
   "outputs": [],
   "source": [
    "# 그래프에 한글 출력 시 사용\n",
    "from matplotlib import font_manager, rc\n",
    "\n",
    "font_path = \"C:/Windows/Fonts/NGULIM.TTF\"\n",
    "font = font_manager.FontProperties(fname=font_path).get_name()\n",
    "rc('font', family=font)"
   ]
  },
  {
   "cell_type": "code",
   "execution_count": 135,
   "id": "d9749821-5c74-4da1-abdf-0e6cab8c473a",
   "metadata": {},
   "outputs": [
    {
     "data": {
      "image/png": "[encoded data removed]",
      "text/plain": [
       "<Figure size 576x576 with 1 Axes>"
      ]
     },
     "metadata": {
      "needs_background": "light"
     },
     "output_type": "display_data"
    }
   ],
   "source": [
    "targetColumn = 'Location'\n",
    "counts = S2[targetColumn].value_counts()\n",
    "\n",
    "plt.figure(figsize=(8, 8))\n",
    "plt.title('Observation number by Location')\n",
    "bars = plt.bar(counts.index, counts, width=0.4)\n",
    "plt.ylim(0, counts.max()*1.25) \n",
    "\n",
    "for bar in bars:\n",
    "    height = bar.get_height()\n",
    "    plt.text(bar.get_x() + bar.get_width()/2.0, \n",
    "             height, f'{height:.1f}', ha='center', va='bottom', size = 11)\n",
    "    \n",
    "plt.show()"
   ]
  },
  {
   "cell_type": "markdown",
   "id": "bb47ff9f-098a-4a2a-9225-b281c8c030cc",
   "metadata": {},
   "source": [
    "# 관측 지점별 위성 사진 확인"
   ]
  },
  {
   "cell_type": "code",
   "execution_count": 23,
   "id": "462d924a-4efd-491a-b821-82a1186d8b2c",
   "metadata": {},
   "outputs": [
    {
     "data": {
      "text/plain": [
       "'2022-01-07T02:27:29'"
      ]
     },
     "execution_count": 23,
     "metadata": {},
     "output_type": "execute_result"
    }
   ],
   "source": [
    "start_date = '2022-01-01'\n",
    "end_date = '2022-02-01'\n",
    "\n",
    "temp = (ee.ImageCollection(\"COPERNICUS/S2_SR_HARMONIZED\")\n",
    "       .select(['B2', 'B3', 'B4', 'B8', 'QA60'])\n",
    "       .filterDate(start_date, end_date)\n",
    "       .filterBounds(ee.Geometry.Point(point).buffer(50).bounds())\n",
    "       .filterMetadata('CLOUDY_PIXEL_PERCENTAGE', 'less_than', 10)\n",
    "       .filterMetadata('CLOUDY_PIXEL_PERCENTAGE', 'less_than', 10)\n",
    "       .map(addNDVI)\n",
    "       .map(maskS2clouds))\n",
    "\n",
    "ee.Date(temp.first().get('system:time_start')).format().getInfo()"
   ]
  },
  {
   "cell_type": "code",
   "execution_count": 24,
   "id": "98ca4bfc-fc89-49fa-a663-7121a0d7ecbb",
   "metadata": {},
   "outputs": [],
   "source": [
    "coords = result_df[['Location', 'Lon', 'Lat']].drop_duplicates()"
   ]
  },
  {
   "cell_type": "code",
   "execution_count": 25,
   "id": "04b8beb8-479a-4548-bf93-2821aa215fcb",
   "metadata": {},
   "outputs": [],
   "source": [
    "coords_dict = {'GBK_coord' : [coords.iloc[0, 1], coords.iloc[0, 2]],\n",
    "               'GBK_coord' : [coords.iloc[1, 1], coords.iloc[1, 2]],\n",
    "               'WD_coord'  : [coords.iloc[2, 1], coords.iloc[2, 2]],\n",
    "               'HC_coord'  : [coords.iloc[3, 1], coords.iloc[3, 2]],\n",
    "               'PYC_coord' : [coords.iloc[4, 1], coords.iloc[4, 2]],\n",
    "               'SC_coord'  : [coords.iloc[5, 1], coords.iloc[5, 2]],\n",
    "               'JJ_coord'  : [coords.iloc[6, 1], coords.iloc[6, 2]],\n",
    "               'GCK_coord' : [coords.iloc[7, 1], coords.iloc[7, 2]],\n",
    "             'HAWS1_coord' : [coords.iloc[8, 1], coords.iloc[8, 2]], }\n",
    "\n",
    "vis = {'bands': ['B4', 'B3', 'B2'],\n",
    "       'min': 0,\n",
    "       'max': 3000,\n",
    "       'gamma':1.4  }"
   ]
  },
  {
   "cell_type": "code",
   "execution_count": 26,
   "id": "f1a350ae-4256-4070-8a8a-a1a3b00b9465",
   "metadata": {},
   "outputs": [
    {
     "data": {
      "application/vnd.jupyter.widget-view+json": {
       "model_id": "7f9901fd961a40dba53064b0b7172bb6",
       "version_major": 2,
       "version_minor": 0
      },
      "text/plain": [
       "Map(center=[36.5056, 126.359], controls=(WidgetControl(options=['position', 'transparent_bg'], widget=HBox(chi…"
      ]
     },
     "metadata": {},
     "output_type": "display_data"
    }
   ],
   "source": [
    "Map = geemap.Map()\n",
    "point = coords_dict['GBK_coord']\n",
    "Map.setCenter(point[0], point[1], 17)\n",
    "Map.addLayer(ee.Image(temp.first()), vis, 'Sentinel-2')\n",
    "Map.addLayer(ee.Image().paint(ee.Geometry.Point(point).buffer(250).bounds(), 0, 1), {'palette': 'FF0000'}, 'Box Outline')\n",
    "Map.addLayer(ee.Image().paint(ee.Geometry.Point(point).buffer(30), 0, 1), {'palette': 'FFFF00'}, 'Center point')\n",
    "Map"
   ]
  },
  {
   "cell_type": "code",
   "execution_count": null,
   "id": "13cfc6d9-3b57-4c72-b33c-4f9684cadd18",
   "metadata": {},
   "outputs": [],
   "source": []
  }
 ],
 "metadata": {
  "kernelspec": {
   "display_name": "Python 3 (ipykernel)",
   "language": "python",
   "name": "python3"
  },
  "language_info": {
   "codemirror_mode": {
    "name": "ipython",
    "version": 3
   },
   "file_extension": ".py",
   "mimetype": "text/x-python",
   "name": "python",
   "nbconvert_exporter": "python",
   "pygments_lexer": "ipython3",
   "version": "3.9.12"
  },
  "toc-autonumbering": true
 },
 "nbformat": 4,
 "nbformat_minor": 5
}
