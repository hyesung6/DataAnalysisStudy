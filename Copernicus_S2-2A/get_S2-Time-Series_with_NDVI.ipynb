{
 "cells": [
  {
   "cell_type": "markdown",
   "id": "a45c09c0-e33d-4389-b247-7b3b64c11ea6",
   "metadata": {},
   "source": [
    "# 프로세스 준비"
   ]
  },
  {
   "cell_type": "code",
   "execution_count": null,
   "id": "99242cb2-6d6d-4b9d-a760-1ed446312a5a",
   "metadata": {},
   "outputs": [],
   "source": [
    "# !pip install ee\n",
    "# !pip install geemap\n",
    "# !pip install ipympl"
   ]
  },
  {
   "cell_type": "code",
   "execution_count": 1,
   "id": "77bc0ddb-1c17-4667-8ffb-f1f9e2297641",
   "metadata": {},
   "outputs": [
    {
     "data": {
      "text/html": [
       "        <script type=\"text/javascript\">\n",
       "        window.PlotlyConfig = {MathJaxConfig: 'local'};\n",
       "        if (window.MathJax) {MathJax.Hub.Config({SVG: {font: \"STIX-Web\"}});}\n",
       "        if (typeof require !== 'undefined') {\n",
       "        require.undef(\"plotly\");\n",
       "        requirejs.config({\n",
       "            paths: {\n",
       "                'plotly': ['https://cdn.plot.ly/plotly-2.9.0.min']\n",
       "            }\n",
       "        });\n",
       "        require(['plotly'], function(Plotly) {\n",
       "            window._Plotly = Plotly;\n",
       "        });\n",
       "        }\n",
       "        </script>\n",
       "        "
      ]
     },
     "metadata": {},
     "output_type": "display_data"
    }
   ],
   "source": [
    "import ee, geemap, os, shutil\n",
    "import pandas as pd\n",
    "import matplotlib.pyplot as plt\n",
    "from matplotlib import font_manager, rc\n",
    "import ipywidgets as widgets\n",
    "from ipywidgets import interact, interact_manual\n",
    "import numpy as np\n",
    "import cufflinks as cf\n",
    "cf.go_offline(connected=True)"
   ]
  },
  {
   "cell_type": "code",
   "execution_count": 2,
   "id": "0f65218d-a2fa-4630-aba9-355796490474",
   "metadata": {},
   "outputs": [],
   "source": [
    "geemap.ee_initialize()"
   ]
  },
  {
   "cell_type": "code",
   "execution_count": 3,
   "id": "aac3390e-bc75-4250-bc7f-c2526ae938f9",
   "metadata": {},
   "outputs": [],
   "source": [
    "def addNDVI(image):\n",
    "    ndvi = image.normalizedDifference(['B8', 'B4']).rename('NDVI')\n",
    "    return image.addBands([ndvi])"
   ]
  },
  {
   "cell_type": "code",
   "execution_count": 4,
   "id": "232037e2-bdfd-4bfa-a502-b9976df5cb11",
   "metadata": {},
   "outputs": [],
   "source": [
    "def maskS2clouds(image):\n",
    "    qa = image.select('QA60')\n",
    "    \n",
    "    cloudBitMask = 1 << 10\n",
    "    cirrusBitMask = 1 << 11\n",
    "    \n",
    "    mask = (qa.bitwiseAnd(cloudBitMask).eq(0) and (qa.bitwiseAnd(cirrusBitMask).eq(0)))\n",
    "        \n",
    "    return image.updateMask(mask)"
   ]
  },
  {
   "cell_type": "code",
   "execution_count": 13,
   "id": "8e5624e6-cac7-4dfc-b65e-04ada78971c1",
   "metadata": {},
   "outputs": [],
   "source": [
    "def clipPoint(image):\n",
    "    return image.clip(ee.Geometry.Point(point).buffer(250).bounds())\\\n",
    "                .reduceRegions(\n",
    "                     collection = points,\n",
    "                     reducer = ee.Reducer.mean(),\n",
    "                     scale = 10)"
   ]
  },
  {
   "cell_type": "code",
   "execution_count": 5,
   "id": "085a40e9-cf0e-416f-a729-fe30fa04d67f",
   "metadata": {},
   "outputs": [],
   "source": [
    "def reducePoints(image):\n",
    "    return image.reduceRegions(\n",
    "                     collection = points,\n",
    "                     reducer = ee.Reducer.mean(),\n",
    "                     scale = 10)"
   ]
  },
  {
   "cell_type": "code",
   "execution_count": 6,
   "id": "6521dd37-42fc-442c-991a-d16dc414c8d2",
   "metadata": {
    "tags": []
   },
   "outputs": [],
   "source": [
    "# reducePoints의 날짜 추가 코드가 기능하지 않으므로\n",
    "# 새로운 날짜 추가 기능을 해줄 코드를 작성해야함\n",
    "## 아래 코드는 한 개 image 대상으로는 돌아가는데 Collection단위로 적용되게 할 방법을 찾아야함\n",
    "\n",
    "def addDate(image):\n",
    "    date = ee.Date(image.get('system:time_start')).format().getInfo().rename('DATE')\n",
    "    return image.addBands([date])\n",
    "\n",
    "# ee.Date(collection.first().get('system:time_start')).format().getInfo()"
   ]
  },
  {
   "cell_type": "markdown",
   "id": "bb47ff9f-098a-4a2a-9225-b281c8c030cc",
   "metadata": {},
   "source": [
    "---\n",
    "# 위성 이미지 출력"
   ]
  },
  {
   "cell_type": "code",
   "execution_count": 7,
   "id": "07c4fd45-a5d1-45ef-81cd-16f5f59cd61a",
   "metadata": {},
   "outputs": [],
   "source": [
    "table = geemap.shp_to_ee('Tower_52N_mod_B5_30.shp')\n",
    "df = geemap.ee_to_df(table)"
   ]
  },
  {
   "cell_type": "code",
   "execution_count": 8,
   "id": "22629c03-ed11-412b-b04d-f9f088b11326",
   "metadata": {},
   "outputs": [],
   "source": [
    "coords = df[['Location', 'Lon', 'Lat']].drop_duplicates()\n",
    "\n",
    "coords_dict = {'GBK_coord' : [coords.iloc[0, 1], coords.iloc[0, 2]],\n",
    "               'AMD_coord' : [coords.iloc[1, 1], coords.iloc[1, 2]],\n",
    "               'WD_coord'  : [coords.iloc[2, 1], coords.iloc[2, 2]],\n",
    "               'HC_coord'  : [coords.iloc[3, 1], coords.iloc[3, 2]],\n",
    "               'PYC_coord' : [coords.iloc[4, 1], coords.iloc[4, 2]],\n",
    "               'SC_coord'  : [coords.iloc[5, 1], coords.iloc[5, 2]],\n",
    "               'JJ_coord'  : [coords.iloc[6, 1], coords.iloc[6, 2]],\n",
    "               'GCK_coord' : [coords.iloc[7, 1], coords.iloc[7, 2]],\n",
    "             'HAWS1_coord' : [coords.iloc[8, 1], coords.iloc[8, 2]], }"
   ]
  },
  {
   "cell_type": "markdown",
   "id": "4f0e377f-42f4-4513-b989-b159ef27a944",
   "metadata": {},
   "source": [
    "- target 변수에 Location 코드 입력하여 사용"
   ]
  },
  {
   "cell_type": "code",
   "execution_count": 9,
   "id": "aca9e707-fa4e-42fa-9233-4cf0757d9e49",
   "metadata": {},
   "outputs": [
    {
     "data": {
      "text/plain": [
       "['GBK', 'AMD', 'WD', 'HC', 'PYC', 'SC', 'JJ', 'GCK', 'HAWS1']"
      ]
     },
     "execution_count": 9,
     "metadata": {},
     "output_type": "execute_result"
    }
   ],
   "source": [
    "target_list = list(coords['Location'].values)\n",
    "target_list"
   ]
  },
  {
   "cell_type": "code",
   "execution_count": 10,
   "id": "462d924a-4efd-491a-b821-82a1186d8b2c",
   "metadata": {},
   "outputs": [],
   "source": [
    "target = 'WD'\n",
    "\n",
    "point = coords_dict[f'{target}_coord']\n",
    "\n",
    "start_date = '2022-01-01'\n",
    "end_date = '2022-12-01'\n",
    "\n",
    "images = (ee.ImageCollection(\"COPERNICUS/S2_SR_HARMONIZED\")\n",
    "       .select(['B2', 'B3', 'B4', 'B8', 'QA60'])\n",
    "       .filterDate(start_date, end_date)\n",
    "       .filterBounds(ee.Geometry.Point(point))\n",
    "       .filterMetadata('CLOUDY_PIXEL_PERCENTAGE', 'less_than', 10)\n",
    "       .map(addNDVI)\n",
    "       .map(maskS2clouds))\n",
    "\n",
    "vis = {'bands': ['B4', 'B3', 'B2'],\n",
    "       'min': 0,\n",
    "       'max': 3000,\n",
    "       'gamma':1.4  }"
   ]
  },
  {
   "cell_type": "code",
   "execution_count": 11,
   "id": "f1a350ae-4256-4070-8a8a-a1a3b00b9465",
   "metadata": {},
   "outputs": [
    {
     "data": {
      "application/vnd.jupyter.widget-view+json": {
       "model_id": "84184daf14984a91892505afa0fc540c",
       "version_major": 2,
       "version_minor": 0
      },
      "text/plain": [
       "Map(center=[34.3595, 126.678], controls=(WidgetControl(options=['position', 'transparent_bg'], widget=HBox(chi…"
      ]
     },
     "metadata": {},
     "output_type": "display_data"
    }
   ],
   "source": [
    "Map = geemap.Map()\n",
    "Map.setCenter(point[0], point[1], 16)\n",
    "Map.addLayer(ee.Image(images.mean().clip(ee.Geometry.Point(point).buffer(500).bounds())), vis, 'Sentinel-2')\n",
    "Map.addLayer(ee.Image().paint(ee.Geometry.Point(point).buffer(250).bounds(), 0, 1), {'palette': 'FF0000'}, 'Box Outline')\n",
    "Map.addLayer(ee.Image().paint(ee.Geometry.Point(point).buffer(30).bounds(), 0, 1), {'palette': 'FFFF00'}, 'Center point')\n",
    "Map"
   ]
  },
  {
   "cell_type": "markdown",
   "id": "48695163-9bdf-46e6-8b2c-f963431b39bf",
   "metadata": {
    "tags": []
   },
   "source": [
    "---\n",
    "# 데이터 생성 및 전처리"
   ]
  },
  {
   "cell_type": "code",
   "execution_count": 16,
   "id": "e5a2de38-5ff2-41a3-99da-5f2a25aa42ae",
   "metadata": {},
   "outputs": [
    {
     "name": "stdout",
     "output_type": "stream",
     "text": [
      "Generating URL ...\n",
      "Downloading data from https://earthengine.googleapis.com/v1alpha/projects/earthengine-legacy/tables/19fa464986ef1a31381c7a39636ae0f8-cc4112408cd55a4506fb9bf2c094a2ec:getFeatures\n",
      "Please wait ...\n",
      "Data downloaded to C:\\Users\\user\\Desktop\\산림과학원\\221129 GEE-Python API\\temp_df.csv\n",
      "Generating URL ...\n",
      "Downloading data from https://earthengine.googleapis.com/v1alpha/projects/earthengine-legacy/tables/1378df39612d99baafb47d6a089939bd-0df151dd112adb33f3c780881ac59986:getFeatures\n",
      "Please wait ...\n",
      "Data downloaded to C:\\Users\\user\\Desktop\\산림과학원\\221129 GEE-Python API\\temp_df.csv\n",
      "Generating URL ...\n",
      "Downloading data from https://earthengine.googleapis.com/v1alpha/projects/earthengine-legacy/tables/0044b4af77838deaf680500537426c24-915418feaee65b64555e6e289acb12fc:getFeatures\n",
      "Please wait ...\n",
      "Data downloaded to C:\\Users\\user\\Desktop\\산림과학원\\221129 GEE-Python API\\temp_df.csv\n",
      "Generating URL ...\n",
      "Downloading data from https://earthengine.googleapis.com/v1alpha/projects/earthengine-legacy/tables/5e67009be699d42254260eb41e6efef4-392ff647a628b68525b9af1a4caf9f12:getFeatures\n",
      "Please wait ...\n",
      "Data downloaded to C:\\Users\\user\\Desktop\\산림과학원\\221129 GEE-Python API\\temp_df.csv\n",
      "Generating URL ...\n",
      "Downloading data from https://earthengine.googleapis.com/v1alpha/projects/earthengine-legacy/tables/f2daedbded159f8fb2947f867e0ff084-d8b4bdb284c25409fc30389e08330ffe:getFeatures\n",
      "Please wait ...\n",
      "Data downloaded to C:\\Users\\user\\Desktop\\산림과학원\\221129 GEE-Python API\\temp_df.csv\n",
      "Generating URL ...\n",
      "Downloading data from https://earthengine.googleapis.com/v1alpha/projects/earthengine-legacy/tables/e4ea39af7c294dced3b8f1bff237a3e2-a61de1d6037206358e7bf4bc2ced3d34:getFeatures\n",
      "Please wait ...\n",
      "Data downloaded to C:\\Users\\user\\Desktop\\산림과학원\\221129 GEE-Python API\\temp_df.csv\n",
      "Generating URL ...\n",
      "Downloading data from https://earthengine.googleapis.com/v1alpha/projects/earthengine-legacy/tables/37e0f329f6b7b10b9df1ce21e778e874-167f238774965bcd96fec41e664b598f:getFeatures\n",
      "Please wait ...\n",
      "Data downloaded to C:\\Users\\user\\Desktop\\산림과학원\\221129 GEE-Python API\\temp_df.csv\n",
      "Generating URL ...\n",
      "Downloading data from https://earthengine.googleapis.com/v1alpha/projects/earthengine-legacy/tables/23a3f8fd8ee63837368ba4d8592ef293-9db1a5f75afc3660d3336846257c0999:getFeatures\n",
      "Please wait ...\n",
      "Data downloaded to C:\\Users\\user\\Desktop\\산림과학원\\221129 GEE-Python API\\temp_df.csv\n",
      "Generating URL ...\n",
      "Downloading data from https://earthengine.googleapis.com/v1alpha/projects/earthengine-legacy/tables/5eddca22bab576d0f169299b6aa57d93-f39c0907b55e7165f451e33171b461ae:getFeatures\n",
      "Please wait ...\n",
      "Data downloaded to C:\\Users\\user\\Desktop\\산림과학원\\221129 GEE-Python API\\temp_df.csv\n"
     ]
    }
   ],
   "source": [
    "''' FeatureCollection 생성 '''\n",
    "points = ee.FeatureCollection(table)\n",
    "\n",
    "''' 시계열 csv 파일 저장할 폴더 생성 '''\n",
    "save_path = f'{start_date}-{end_date}_Time-Series'\n",
    "if os.path.exists(save_path):\n",
    "    shutil.rmtree(save_path)\n",
    "os.makedirs(save_path)\n",
    "\n",
    "''' 지점별로 시계열 csv파일 생성, 전처리, 이후 활용할 df 생성 반복 '''\n",
    "for target in target_list:\n",
    "    \n",
    "    point = coords_dict[f'{target}_coord']\n",
    "    start_date = '2022-01-01'\n",
    "    end_date = '2022-12-01'\n",
    "    \n",
    "    images = (ee.ImageCollection(\"COPERNICUS/S2_SR_HARMONIZED\")\n",
    "           .select(['B2', 'B3', 'B4', 'B8', 'QA60'])\n",
    "           .filterDate(start_date, end_date)\n",
    "           .filterBounds(ee.Geometry.Point(point))\n",
    "           .filterMetadata('CLOUDY_PIXEL_PERCENTAGE', 'less_than', 10)\n",
    "           .map(addNDVI)\n",
    "           .map(maskS2clouds))\n",
    "\n",
    "    features = images.map(clipPoint).flatten()\n",
    "    \n",
    "    geemap.ee_to_csv(features, 'temp_df.csv')\n",
    "    features_df = pd.read_csv('temp_df.csv', encoding='utf-8')\n",
    "    features_df_cleaned = features_df.reset_index().sort_values(by=['Location', 'index'])\n",
    "    features_df_cleaned = features_df_cleaned[['system:index', 'Location', 'BUFF_DIST', 'B2', 'B3', 'B4', 'B8', 'NDVI']].dropna() \n",
    "    features_df_cleaned.rename(columns={'B2':'Blue', 'B3':'Green', 'B4':'Red', 'B8':'NIR'}, inplace=True)\n",
    "    features_df_cleaned.rename(columns={'system:index':'DATE'}, inplace=True)\n",
    "    features_df_cleaned['DATE'] = features_df_cleaned['DATE'].apply(lambda x: f\"{x[:4]}-{x[4:6]}-{x[6:8]}\")\n",
    "\n",
    "    features_df_cleaned.to_csv(f'{save_path}\\\\S2_{target}-{start_date}-{end_date}_timeseries_clean.csv', encoding='utf-8', index=False)\n",
    "    globals()[f'{target}_df'] = features_df_cleaned.copy()\n",
    "    \n",
    "''' 통합 df 생성 '''\n",
    "total_df = pd.concat([globals()[f'{target}_df'] for target in target_list], axis=0)"
   ]
  },
  {
   "cell_type": "code",
   "execution_count": 17,
   "id": "35230485-fef7-4d20-8ae7-9762fff13722",
   "metadata": {},
   "outputs": [
    {
     "name": "stdout",
     "output_type": "stream",
     "text": [
      "<class 'pandas.core.frame.DataFrame'>\n",
      "Int64Index: 1056 entries, 0 to 863\n",
      "Data columns (total 8 columns):\n",
      " #   Column     Non-Null Count  Dtype  \n",
      "---  ------     --------------  -----  \n",
      " 0   DATE       1056 non-null   object \n",
      " 1   Location   1056 non-null   object \n",
      " 2   BUFF_DIST  1056 non-null   int64  \n",
      " 3   Blue       1056 non-null   float64\n",
      " 4   Green      1056 non-null   float64\n",
      " 5   Red        1056 non-null   float64\n",
      " 6   NIR        1056 non-null   float64\n",
      " 7   NDVI       1056 non-null   float64\n",
      "dtypes: float64(5), int64(1), object(2)\n",
      "memory usage: 74.2+ KB\n"
     ]
    }
   ],
   "source": [
    "total_df.info()"
   ]
  },
  {
   "cell_type": "markdown",
   "id": "4158c5b2-47ee-4d3d-8f0e-46ee1415f4fa",
   "metadata": {},
   "source": [
    "---\n",
    "# 데이터 시각화"
   ]
  },
  {
   "cell_type": "markdown",
   "id": "7ed6ce5f-0cbf-43dd-9a81-7ebc51afe6ea",
   "metadata": {},
   "source": [
    "## 지역별 관측 개수 시각화"
   ]
  },
  {
   "cell_type": "code",
   "execution_count": null,
   "id": "e159658f-45cf-4521-8234-0f915dc80b52",
   "metadata": {},
   "outputs": [],
   "source": [
    "# 그래프에 한글 출력 시 사용\n",
    "\n",
    "font_path = \"C:/Windows/Fonts/NGULIM.TTF\"\n",
    "font = font_manager.FontProperties(fname=font_path).get_name()\n",
    "rc('font', family=font)"
   ]
  },
  {
   "cell_type": "code",
   "execution_count": 18,
   "id": "c27d5eaf-e471-4682-b23a-1e7d9004344b",
   "metadata": {},
   "outputs": [
    {
     "data": {
      "image/png": "[encoded data removed]",
      "text/plain": [
       "<Figure size 576x576 with 1 Axes>"
      ]
     },
     "metadata": {
      "needs_background": "light"
     },
     "output_type": "display_data"
    }
   ],
   "source": [
    "targetColumn = 'Location'\n",
    "counts = total_df[targetColumn].value_counts()\n",
    "\n",
    "plt.figure(figsize=(8, 8))\n",
    "plt.title('Observation number by Location')\n",
    "bars = plt.bar(counts.index, counts, width=0.4)\n",
    "plt.ylim(0, counts.max()*1.25) \n",
    "\n",
    "for bar in bars:\n",
    "    height = bar.get_height()\n",
    "    plt.text(bar.get_x() + bar.get_width()/2.0, \n",
    "             height, f'{height:.1f}', ha='center', va='bottom', size = 11)\n",
    "    \n",
    "plt.show()"
   ]
  },
  {
   "cell_type": "markdown",
   "id": "77781efd-65f0-4d70-afaa-b44fd1172abb",
   "metadata": {},
   "source": [
    "## 일별 데이터 조회"
   ]
  },
  {
   "cell_type": "code",
   "execution_count": null,
   "id": "5e83911d-abac-421c-a660-e243db161f7b",
   "metadata": {},
   "outputs": [
    {
     "name": "stdout",
     "output_type": "stream",
     "text": [
      "['GBK', 'AMD', 'WD', 'HC', 'PYC', 'SC', 'JJ', 'GCK', 'HAWS1']\n"
     ]
    }
   ],
   "source": [
    "print(target_list)"
   ]
  },
  {
   "cell_type": "code",
   "execution_count": 51,
   "id": "1d4dc448-3fde-430a-aa3b-32539b1c8f5b",
   "metadata": {},
   "outputs": [
    {
     "data": {
      "text/plain": [
       "56      2022-02-11\n",
       "65      2022-02-11\n",
       "74      2022-02-11\n",
       "83      2022-02-11\n",
       "92      2022-02-11\n",
       "           ...    \n",
       "983     2022-11-18\n",
       "992     2022-11-18\n",
       "1001    2022-11-18\n",
       "1010    2022-11-18\n",
       "1019    2022-11-18\n",
       "Name: DATE, Length: 108, dtype: object"
      ]
     },
     "execution_count": 51,
     "metadata": {},
     "output_type": "execute_result"
    }
   ],
   "source": [
    "total_df['DATE'][total_df['Location'] == 'WD']"
   ]
  },
  {
   "cell_type": "code",
   "execution_count": null,
   "id": "29c3a556-6662-4e0f-9ce9-0abbe54fa55b",
   "metadata": {},
   "outputs": [],
   "source": [
    "target = 'WD'\n",
    "target_df = globals()[f'{target}_df']"
   ]
  },
  {
   "cell_type": "code",
   "execution_count": 52,
   "id": "2fbd632b-f5d7-47e3-abc3-a7049816dea1",
   "metadata": {},
   "outputs": [
    {
     "data": {
      "application/vnd.jupyter.widget-view+json": {
       "model_id": "48745dd410274a75ae30c922668225a8",
       "version_major": 2,
       "version_minor": 0
      },
      "text/plain": [
       "interactive(children=(Dropdown(description='Location', options=('GBK', 'AMD', 'WD', 'HC', 'PYC', 'SC', 'JJ', '…"
      ]
     },
     "metadata": {},
     "output_type": "display_data"
    }
   ],
   "source": [
    "@interact\n",
    "def showByDateWrapper(Location=target_list,\n",
    "    Date=list(total_df['DATE'].drop_duplicates().sort_values(ascending=True))):\n",
    "    \n",
    "    def showByDate(Location=Location,\n",
    "        Date1=list(total_df['DATE'][total_df['Location'] == Location].drop_duplicates().sort_values(ascending=True))):\n",
    "        \n",
    "        return total_df.loc[(total_df.Location == Location) & (total_df.DATE == Date)]"
   ]
  },
  {
   "cell_type": "markdown",
   "id": "4f5d4ff5-4ebe-4750-8db9-478ab0dae604",
   "metadata": {},
   "source": [
    "## 일 / 밴드별 그래프"
   ]
  },
  {
   "cell_type": "code",
   "execution_count": 36,
   "id": "cad73083-6405-4ad6-a1f9-eb9fff6a5228",
   "metadata": {},
   "outputs": [
    {
     "data": {
      "application/vnd.jupyter.widget-view+json": {
       "model_id": "2c4bf34474d244f68f075de66b5ab1af",
       "version_major": 2,
       "version_minor": 0
      },
      "text/plain": [
       "interactive(children=(Dropdown(description='Band', options=('Blue', 'Green', 'Red', 'NIR', 'NDVI'), value='Blu…"
      ]
     },
     "metadata": {},
     "output_type": "display_data"
    }
   ],
   "source": [
    "@interact\n",
    "def showByDateAndBand(Band=list(target_df.columns[-5:]), \n",
    "                      Date=list(target_df['DATE'].drop_duplicates())):\n",
    "    \n",
    "    colorDict = {\n",
    "        'Blue' : 'blue', \n",
    "       'Green' : 'green',\n",
    "          'Red': 'red',\n",
    "          'NIR': 'pink',\n",
    "         'NDVI': 'purple'\n",
    "    }\n",
    "    \n",
    "    data = target_df[target_df['DATE'] == Date].set_index(['BUFF_DIST']).loc[:, Band]\n",
    "    plt.figure(figsize=(9, 7))\n",
    "    plt.plot(data, color=colorDict[Band])\n",
    "    plt.xlabel('Buffer')\n",
    "    plt.ylabel('Value', rotation=0, labelpad=14)\n",
    "    plt.ylim(data.min() * 0.975, data.max() * 1.025)\n",
    "    plt.title(f'{Band} : {Date}')\n",
    "    plt.grid(axis='y')\n",
    "    plt.show()\n",
    "    \n",
    "    for buff, value in zip(data.index, data.values):\n",
    "        print(f'{buff}M : {value:.7f}')"
   ]
  },
  {
   "cell_type": "markdown",
   "id": "272bf9b3-474b-441a-9bea-cf0a1ff25856",
   "metadata": {
    "tags": []
   },
   "source": [
    "## 전체 기간 밴드별 평균 그래프"
   ]
  },
  {
   "cell_type": "code",
   "execution_count": 24,
   "id": "18912077-93b9-4fba-9ae3-038582273bed",
   "metadata": {},
   "outputs": [],
   "source": [
    "groupMean = target_df.drop(axis=1, columns=['Location' ,'BUFF_DIST']).groupby('DATE').mean()"
   ]
  },
  {
   "cell_type": "code",
   "execution_count": 25,
   "id": "1fd5d809-72e3-452a-8a8b-cdbda5a69b3d",
   "metadata": {
    "tags": []
   },
   "outputs": [
    {
     "data": {
      "application/vnd.plotly.v1+json": {
       "config": {
        "linkText": "Export to plot.ly",
        "plotlyServerURL": "https://plot.ly",
        "showLink": true
       },
       "data": [
        {
         "line": {
          "color": "rgba(255, 153, 51, 1.0)",
          "dash": "solid",
          "shape": "linear",
          "width": 1.3
         },
         "mode": "lines",
         "name": "Blue",
         "text": "",
         "type": "scatter",
         "x": [
          "2022-01-07",
          "2022-02-06",
          "2022-02-11",
          "2022-03-03",
          "2022-03-08",
          "2022-04-02",
          "2022-04-07",
          "2022-04-17",
          "2022-04-27",
          "2022-05-17",
          "2022-06-01",
          "2022-09-24",
          "2022-10-19",
          "2022-10-29",
          "2022-11-18"
         ],
         "xaxis": "x",
         "y": [
          166.43190630642582,
          660.9260126724894,
          651.1490297937935,
          418.37152971251226,
          607.955672042318,
          506.74368817556064,
          447.74763917267836,
          461.8678832867327,
          378.2739141017808,
          385.993246335152,
          367.41791335193466,
          200.72238609043893,
          175.84034715637986,
          292.49312692367977,
          376.10822091348524
         ],
         "yaxis": "y"
        },
        {
         "line": {
          "color": "rgba(55, 128, 191, 1.0)",
          "dash": "solid",
          "shape": "linear",
          "width": 1.3
         },
         "mode": "lines",
         "name": "Green",
         "text": "",
         "type": "scatter",
         "x": [
          "2022-01-07",
          "2022-02-06",
          "2022-02-11",
          "2022-03-03",
          "2022-03-08",
          "2022-04-02",
          "2022-04-07",
          "2022-04-17",
          "2022-04-27",
          "2022-05-17",
          "2022-06-01",
          "2022-09-24",
          "2022-10-19",
          "2022-10-29",
          "2022-11-18"
         ],
         "xaxis": "x2",
         "y": [
          266.7989353099561,
          739.5491782571048,
          658.4044029156429,
          458.44270847858564,
          650.5809859863459,
          573.1976713573443,
          546.4943280676786,
          609.5425379462702,
          718.5735476835863,
          630.5285706145534,
          572.2875510085513,
          321.0257949946062,
          278.99913394909163,
          398.0584314394136,
          388.6463905597846
         ],
         "yaxis": "y2"
        },
        {
         "line": {
          "color": "rgba(50, 171, 96, 1.0)",
          "dash": "solid",
          "shape": "linear",
          "width": 1.3
         },
         "mode": "lines",
         "name": "Red",
         "text": "",
         "type": "scatter",
         "x": [
          "2022-01-07",
          "2022-02-06",
          "2022-02-11",
          "2022-03-03",
          "2022-03-08",
          "2022-04-02",
          "2022-04-07",
          "2022-04-17",
          "2022-04-27",
          "2022-05-17",
          "2022-06-01",
          "2022-09-24",
          "2022-10-19",
          "2022-10-29",
          "2022-11-18"
         ],
         "xaxis": "x3",
         "y": [
          443.52737563530627,
          900.2589243611407,
          759.0478237912115,
          638.2386266386753,
          755.0702444174184,
          727.1501358988894,
          736.8177407454718,
          679.0478234661564,
          452.61314887002396,
          374.26505530950567,
          334.4948295681122,
          220.48283418650863,
          272.88314078433064,
          508.7034240201844,
          527.6704947221464
         ],
         "yaxis": "y3"
        },
        {
         "line": {
          "color": "rgba(128, 0, 128, 1.0)",
          "dash": "solid",
          "shape": "linear",
          "width": 1.3
         },
         "mode": "lines",
         "name": "NIR",
         "text": "",
         "type": "scatter",
         "x": [
          "2022-01-07",
          "2022-02-06",
          "2022-02-11",
          "2022-03-03",
          "2022-03-08",
          "2022-04-02",
          "2022-04-07",
          "2022-04-17",
          "2022-04-27",
          "2022-05-17",
          "2022-06-01",
          "2022-09-24",
          "2022-10-19",
          "2022-10-29",
          "2022-11-18"
         ],
         "xaxis": "x4",
         "y": [
          983.353445024181,
          1478.7731766017732,
          1306.7555612539477,
          1261.4454614695476,
          1290.4611837158584,
          1448.4039404610758,
          1465.8865151709645,
          1752.214455105208,
          3123.7161617559145,
          3747.1580777574604,
          3838.3857082058635,
          2335.3251485039677,
          1864.7747281886907,
          1725.1949798832077,
          1072.907871497839
         ],
         "yaxis": "y4"
        },
        {
         "line": {
          "color": "rgba(219, 64, 82, 1.0)",
          "dash": "solid",
          "shape": "linear",
          "width": 1.3
         },
         "mode": "lines",
         "name": "NDVI",
         "text": "",
         "type": "scatter",
         "x": [
          "2022-01-07",
          "2022-02-06",
          "2022-02-11",
          "2022-03-03",
          "2022-03-08",
          "2022-04-02",
          "2022-04-07",
          "2022-04-17",
          "2022-04-27",
          "2022-05-17",
          "2022-06-01",
          "2022-09-24",
          "2022-10-19",
          "2022-10-29",
          "2022-11-18"
         ],
         "xaxis": "x5",
         "y": [
          0.3783875747812262,
          0.2471876599856134,
          0.2638006373194986,
          0.327640750107133,
          0.26086294307495844,
          0.33127495788429845,
          0.3304800698720851,
          0.43963455371612753,
          0.7450139542150694,
          0.8161820587616737,
          0.8380329900100977,
          0.8258769834891347,
          0.7431758783741856,
          0.5453004771658965,
          0.33723376449949
         ],
         "yaxis": "y5"
        }
       ],
       "layout": {
        "annotations": [
         {
          "font": {
           "size": 16
          },
          "showarrow": false,
          "text": "Blue",
          "x": 0.225,
          "xanchor": "center",
          "xref": "paper",
          "y": 1,
          "yanchor": "bottom",
          "yref": "paper"
         },
         {
          "font": {
           "size": 16
          },
          "showarrow": false,
          "text": "Green",
          "x": 0.775,
          "xanchor": "center",
          "xref": "paper",
          "y": 1,
          "yanchor": "bottom",
          "yref": "paper"
         },
         {
          "font": {
           "size": 16
          },
          "showarrow": false,
          "text": "Red",
          "x": 0.225,
          "xanchor": "center",
          "xref": "paper",
          "y": 0.6333333333333333,
          "yanchor": "bottom",
          "yref": "paper"
         },
         {
          "font": {
           "size": 16
          },
          "showarrow": false,
          "text": "NIR",
          "x": 0.775,
          "xanchor": "center",
          "xref": "paper",
          "y": 0.6333333333333333,
          "yanchor": "bottom",
          "yref": "paper"
         },
         {
          "font": {
           "size": 16
          },
          "showarrow": false,
          "text": "NDVI",
          "x": 0.225,
          "xanchor": "center",
          "xref": "paper",
          "y": 0.26666666666666666,
          "yanchor": "bottom",
          "yref": "paper"
         }
        ],
        "height": 800,
        "legend": {
         "bgcolor": "#F5F6F9",
         "font": {
          "color": "#4D5663"
         }
        },
        "paper_bgcolor": "#F5F6F9",
        "plot_bgcolor": "#F5F6F9",
        "template": {
         "data": {
          "bar": [
           {
            "error_x": {
             "color": "#2a3f5f"
            },
            "error_y": {
             "color": "#2a3f5f"
            },
            "marker": {
             "line": {
              "color": "#E5ECF6",
              "width": 0.5
             },
             "pattern": {
              "fillmode": "overlay",
              "size": 10,
              "solidity": 0.2
             }
            },
            "type": "bar"
           }
          ],
          "barpolar": [
           {
            "marker": {
             "line": {
              "color": "#E5ECF6",
              "width": 0.5
             },
             "pattern": {
              "fillmode": "overlay",
              "size": 10,
              "solidity": 0.2
             }
            },
            "type": "barpolar"
           }
          ],
          "carpet": [
           {
            "aaxis": {
             "endlinecolor": "#2a3f5f",
             "gridcolor": "white",
             "linecolor": "white",
             "minorgridcolor": "white",
             "startlinecolor": "#2a3f5f"
            },
            "baxis": {
             "endlinecolor": "#2a3f5f",
             "gridcolor": "white",
             "linecolor": "white",
             "minorgridcolor": "white",
             "startlinecolor": "#2a3f5f"
            },
            "type": "carpet"
           }
          ],
          "choropleth": [
           {
            "colorbar": {
             "outlinewidth": 0,
             "ticks": ""
            },
            "type": "choropleth"
           }
          ],
          "contour": [
           {
            "colorbar": {
             "outlinewidth": 0,
             "ticks": ""
            },
            "colorscale": [
             [
              0,
              "#0d0887"
             ],
             [
              0.1111111111111111,
              "#46039f"
             ],
             [
              0.2222222222222222,
              "#7201a8"
             ],
             [
              0.3333333333333333,
              "#9c179e"
             ],
             [
              0.4444444444444444,
              "#bd3786"
             ],
             [
              0.5555555555555556,
              "#d8576b"
             ],
             [
              0.6666666666666666,
              "#ed7953"
             ],
             [
              0.7777777777777778,
              "#fb9f3a"
             ],
             [
              0.8888888888888888,
              "#fdca26"
             ],
             [
              1,
              "#f0f921"
             ]
            ],
            "type": "contour"
           }
          ],
          "contourcarpet": [
           {
            "colorbar": {
             "outlinewidth": 0,
             "ticks": ""
            },
            "type": "contourcarpet"
           }
          ],
          "heatmap": [
           {
            "colorbar": {
             "outlinewidth": 0,
             "ticks": ""
            },
            "colorscale": [
             [
              0,
              "#0d0887"
             ],
             [
              0.1111111111111111,
              "#46039f"
             ],
             [
              0.2222222222222222,
              "#7201a8"
             ],
             [
              0.3333333333333333,
              "#9c179e"
             ],
             [
              0.4444444444444444,
              "#bd3786"
             ],
             [
              0.5555555555555556,
              "#d8576b"
             ],
             [
              0.6666666666666666,
              "#ed7953"
             ],
             [
              0.7777777777777778,
              "#fb9f3a"
             ],
             [
              0.8888888888888888,
              "#fdca26"
             ],
             [
              1,
              "#f0f921"
             ]
            ],
            "type": "heatmap"
           }
          ],
          "heatmapgl": [
           {
            "colorbar": {
             "outlinewidth": 0,
             "ticks": ""
            },
            "colorscale": [
             [
              0,
              "#0d0887"
             ],
             [
              0.1111111111111111,
              "#46039f"
             ],
             [
              0.2222222222222222,
              "#7201a8"
             ],
             [
              0.3333333333333333,
              "#9c179e"
             ],
             [
              0.4444444444444444,
              "#bd3786"
             ],
             [
              0.5555555555555556,
              "#d8576b"
             ],
             [
              0.6666666666666666,
              "#ed7953"
             ],
             [
              0.7777777777777778,
              "#fb9f3a"
             ],
             [
              0.8888888888888888,
              "#fdca26"
             ],
             [
              1,
              "#f0f921"
             ]
            ],
            "type": "heatmapgl"
           }
          ],
          "histogram": [
           {
            "marker": {
             "pattern": {
              "fillmode": "overlay",
              "size": 10,
              "solidity": 0.2
             }
            },
            "type": "histogram"
           }
          ],
          "histogram2d": [
           {
            "colorbar": {
             "outlinewidth": 0,
             "ticks": ""
            },
            "colorscale": [
             [
              0,
              "#0d0887"
             ],
             [
              0.1111111111111111,
              "#46039f"
             ],
             [
              0.2222222222222222,
              "#7201a8"
             ],
             [
              0.3333333333333333,
              "#9c179e"
             ],
             [
              0.4444444444444444,
              "#bd3786"
             ],
             [
              0.5555555555555556,
              "#d8576b"
             ],
             [
              0.6666666666666666,
              "#ed7953"
             ],
             [
              0.7777777777777778,
              "#fb9f3a"
             ],
             [
              0.8888888888888888,
              "#fdca26"
             ],
             [
              1,
              "#f0f921"
             ]
            ],
            "type": "histogram2d"
           }
          ],
          "histogram2dcontour": [
           {
            "colorbar": {
             "outlinewidth": 0,
             "ticks": ""
            },
            "colorscale": [
             [
              0,
              "#0d0887"
             ],
             [
              0.1111111111111111,
              "#46039f"
             ],
             [
              0.2222222222222222,
              "#7201a8"
             ],
             [
              0.3333333333333333,
              "#9c179e"
             ],
             [
              0.4444444444444444,
              "#bd3786"
             ],
             [
              0.5555555555555556,
              "#d8576b"
             ],
             [
              0.6666666666666666,
              "#ed7953"
             ],
             [
              0.7777777777777778,
              "#fb9f3a"
             ],
             [
              0.8888888888888888,
              "#fdca26"
             ],
             [
              1,
              "#f0f921"
             ]
            ],
            "type": "histogram2dcontour"
           }
          ],
          "mesh3d": [
           {
            "colorbar": {
             "outlinewidth": 0,
             "ticks": ""
            },
            "type": "mesh3d"
           }
          ],
          "parcoords": [
           {
            "line": {
             "colorbar": {
              "outlinewidth": 0,
              "ticks": ""
             }
            },
            "type": "parcoords"
           }
          ],
          "pie": [
           {
            "automargin": true,
            "type": "pie"
           }
          ],
          "scatter": [
           {
            "marker": {
             "colorbar": {
              "outlinewidth": 0,
              "ticks": ""
             }
            },
            "type": "scatter"
           }
          ],
          "scatter3d": [
           {
            "line": {
             "colorbar": {
              "outlinewidth": 0,
              "ticks": ""
             }
            },
            "marker": {
             "colorbar": {
              "outlinewidth": 0,
              "ticks": ""
             }
            },
            "type": "scatter3d"
           }
          ],
          "scattercarpet": [
           {
            "marker": {
             "colorbar": {
              "outlinewidth": 0,
              "ticks": ""
             }
            },
            "type": "scattercarpet"
           }
          ],
          "scattergeo": [
           {
            "marker": {
             "colorbar": {
              "outlinewidth": 0,
              "ticks": ""
             }
            },
            "type": "scattergeo"
           }
          ],
          "scattergl": [
           {
            "marker": {
             "colorbar": {
              "outlinewidth": 0,
              "ticks": ""
             }
            },
            "type": "scattergl"
           }
          ],
          "scattermapbox": [
           {
            "marker": {
             "colorbar": {
              "outlinewidth": 0,
              "ticks": ""
             }
            },
            "type": "scattermapbox"
           }
          ],
          "scatterpolar": [
           {
            "marker": {
             "colorbar": {
              "outlinewidth": 0,
              "ticks": ""
             }
            },
            "type": "scatterpolar"
           }
          ],
          "scatterpolargl": [
           {
            "marker": {
             "colorbar": {
              "outlinewidth": 0,
              "ticks": ""
             }
            },
            "type": "scatterpolargl"
           }
          ],
          "scatterternary": [
           {
            "marker": {
             "colorbar": {
              "outlinewidth": 0,
              "ticks": ""
             }
            },
            "type": "scatterternary"
           }
          ],
          "surface": [
           {
            "colorbar": {
             "outlinewidth": 0,
             "ticks": ""
            },
            "colorscale": [
             [
              0,
              "#0d0887"
             ],
             [
              0.1111111111111111,
              "#46039f"
             ],
             [
              0.2222222222222222,
              "#7201a8"
             ],
             [
              0.3333333333333333,
              "#9c179e"
             ],
             [
              0.4444444444444444,
              "#bd3786"
             ],
             [
              0.5555555555555556,
              "#d8576b"
             ],
             [
              0.6666666666666666,
              "#ed7953"
             ],
             [
              0.7777777777777778,
              "#fb9f3a"
             ],
             [
              0.8888888888888888,
              "#fdca26"
             ],
             [
              1,
              "#f0f921"
             ]
            ],
            "type": "surface"
           }
          ],
          "table": [
           {
            "cells": {
             "fill": {
              "color": "#EBF0F8"
             },
             "line": {
              "color": "white"
             }
            },
            "header": {
             "fill": {
              "color": "#C8D4E3"
             },
             "line": {
              "color": "white"
             }
            },
            "type": "table"
           }
          ]
         },
         "layout": {
          "annotationdefaults": {
           "arrowcolor": "#2a3f5f",
           "arrowhead": 0,
           "arrowwidth": 1
          },
          "autotypenumbers": "strict",
          "coloraxis": {
           "colorbar": {
            "outlinewidth": 0,
            "ticks": ""
           }
          },
          "colorscale": {
           "diverging": [
            [
             0,
             "#8e0152"
            ],
            [
             0.1,
             "#c51b7d"
            ],
            [
             0.2,
             "#de77ae"
            ],
            [
             0.3,
             "#f1b6da"
            ],
            [
             0.4,
             "#fde0ef"
            ],
            [
             0.5,
             "#f7f7f7"
            ],
            [
             0.6,
             "#e6f5d0"
            ],
            [
             0.7,
             "#b8e186"
            ],
            [
             0.8,
             "#7fbc41"
            ],
            [
             0.9,
             "#4d9221"
            ],
            [
             1,
             "#276419"
            ]
           ],
           "sequential": [
            [
             0,
             "#0d0887"
            ],
            [
             0.1111111111111111,
             "#46039f"
            ],
            [
             0.2222222222222222,
             "#7201a8"
            ],
            [
             0.3333333333333333,
             "#9c179e"
            ],
            [
             0.4444444444444444,
             "#bd3786"
            ],
            [
             0.5555555555555556,
             "#d8576b"
            ],
            [
             0.6666666666666666,
             "#ed7953"
            ],
            [
             0.7777777777777778,
             "#fb9f3a"
            ],
            [
             0.8888888888888888,
             "#fdca26"
            ],
            [
             1,
             "#f0f921"
            ]
           ],
           "sequentialminus": [
            [
             0,
             "#0d0887"
            ],
            [
             0.1111111111111111,
             "#46039f"
            ],
            [
             0.2222222222222222,
             "#7201a8"
            ],
            [
             0.3333333333333333,
             "#9c179e"
            ],
            [
             0.4444444444444444,
             "#bd3786"
            ],
            [
             0.5555555555555556,
             "#d8576b"
            ],
            [
             0.6666666666666666,
             "#ed7953"
            ],
            [
             0.7777777777777778,
             "#fb9f3a"
            ],
            [
             0.8888888888888888,
             "#fdca26"
            ],
            [
             1,
             "#f0f921"
            ]
           ]
          },
          "colorway": [
           "#636efa",
           "#EF553B",
           "#00cc96",
           "#ab63fa",
           "#FFA15A",
           "#19d3f3",
           "#FF6692",
           "#B6E880",
           "#FF97FF",
           "#FECB52"
          ],
          "font": {
           "color": "#2a3f5f"
          },
          "geo": {
           "bgcolor": "white",
           "lakecolor": "white",
           "landcolor": "#E5ECF6",
           "showlakes": true,
           "showland": true,
           "subunitcolor": "white"
          },
          "hoverlabel": {
           "align": "left"
          },
          "hovermode": "closest",
          "mapbox": {
           "style": "light"
          },
          "paper_bgcolor": "white",
          "plot_bgcolor": "#E5ECF6",
          "polar": {
           "angularaxis": {
            "gridcolor": "white",
            "linecolor": "white",
            "ticks": ""
           },
           "bgcolor": "#E5ECF6",
           "radialaxis": {
            "gridcolor": "white",
            "linecolor": "white",
            "ticks": ""
           }
          },
          "scene": {
           "xaxis": {
            "backgroundcolor": "#E5ECF6",
            "gridcolor": "white",
            "gridwidth": 2,
            "linecolor": "white",
            "showbackground": true,
            "ticks": "",
            "zerolinecolor": "white"
           },
           "yaxis": {
            "backgroundcolor": "#E5ECF6",
            "gridcolor": "white",
            "gridwidth": 2,
            "linecolor": "white",
            "showbackground": true,
            "ticks": "",
            "zerolinecolor": "white"
           },
           "zaxis": {
            "backgroundcolor": "#E5ECF6",
            "gridcolor": "white",
            "gridwidth": 2,
            "linecolor": "white",
            "showbackground": true,
            "ticks": "",
            "zerolinecolor": "white"
           }
          },
          "shapedefaults": {
           "line": {
            "color": "#2a3f5f"
           }
          },
          "ternary": {
           "aaxis": {
            "gridcolor": "white",
            "linecolor": "white",
            "ticks": ""
           },
           "baxis": {
            "gridcolor": "white",
            "linecolor": "white",
            "ticks": ""
           },
           "bgcolor": "#E5ECF6",
           "caxis": {
            "gridcolor": "white",
            "linecolor": "white",
            "ticks": ""
           }
          },
          "title": {
           "x": 0.05
          },
          "xaxis": {
           "automargin": true,
           "gridcolor": "white",
           "linecolor": "white",
           "ticks": "",
           "title": {
            "standoff": 15
           },
           "zerolinecolor": "white",
           "zerolinewidth": 2
          },
          "yaxis": {
           "automargin": true,
           "gridcolor": "white",
           "linecolor": "white",
           "ticks": "",
           "title": {
            "standoff": 15
           },
           "zerolinecolor": "white",
           "zerolinewidth": 2
          }
         }
        },
        "title": {
         "font": {
          "color": "#4D5663"
         },
         "text": "Timeseries graph by Bands (Mean)"
        },
        "width": 1000,
        "xaxis": {
         "anchor": "y",
         "autorange": true,
         "domain": [
          0,
          0.45
         ],
         "gridcolor": "#E1E5ED",
         "range": [
          "2022-01-07",
          "2022-11-18"
         ],
         "showgrid": true,
         "tickfont": {
          "color": "#4D5663"
         },
         "title": {
          "font": {
           "color": "#4D5663"
          },
          "text": ""
         },
         "type": "date",
         "zerolinecolor": "#E1E5ED"
        },
        "xaxis2": {
         "anchor": "y2",
         "autorange": true,
         "domain": [
          0.55,
          1
         ],
         "gridcolor": "#E1E5ED",
         "range": [
          "2022-01-07",
          "2022-11-18"
         ],
         "showgrid": true,
         "tickfont": {
          "color": "#4D5663"
         },
         "title": {
          "font": {
           "color": "#4D5663"
          },
          "text": ""
         },
         "type": "date",
         "zerolinecolor": "#E1E5ED"
        },
        "xaxis3": {
         "anchor": "y3",
         "autorange": true,
         "domain": [
          0,
          0.45
         ],
         "gridcolor": "#E1E5ED",
         "range": [
          "2022-01-07",
          "2022-11-18"
         ],
         "showgrid": true,
         "tickfont": {
          "color": "#4D5663"
         },
         "title": {
          "font": {
           "color": "#4D5663"
          },
          "text": ""
         },
         "type": "date",
         "zerolinecolor": "#E1E5ED"
        },
        "xaxis4": {
         "anchor": "y4",
         "autorange": true,
         "domain": [
          0.55,
          1
         ],
         "gridcolor": "#E1E5ED",
         "range": [
          "2022-01-07",
          "2022-11-18"
         ],
         "showgrid": true,
         "tickfont": {
          "color": "#4D5663"
         },
         "title": {
          "font": {
           "color": "#4D5663"
          },
          "text": ""
         },
         "type": "date",
         "zerolinecolor": "#E1E5ED"
        },
        "xaxis5": {
         "anchor": "y5",
         "autorange": true,
         "domain": [
          0,
          0.45
         ],
         "gridcolor": "#E1E5ED",
         "range": [
          "2022-01-07",
          "2022-11-18"
         ],
         "showgrid": true,
         "tickfont": {
          "color": "#4D5663"
         },
         "title": {
          "font": {
           "color": "#4D5663"
          },
          "text": ""
         },
         "type": "date",
         "zerolinecolor": "#E1E5ED"
        },
        "yaxis": {
         "anchor": "x",
         "autorange": true,
         "domain": [
          0.7333333333333334,
          1
         ],
         "gridcolor": "#E1E5ED",
         "range": [
          138.9600115083112,
          688.397907470604
         ],
         "showgrid": true,
         "tickfont": {
          "color": "#4D5663"
         },
         "title": {
          "font": {
           "color": "#4D5663"
          },
          "text": ""
         },
         "type": "linear",
         "zerolinecolor": "#E1E5ED"
        },
        "yaxis2": {
         "anchor": "x2",
         "autorange": true,
         "domain": [
          0.7333333333333334,
          1
         ],
         "gridcolor": "#E1E5ED",
         "range": [
          240.53503292400342,
          765.8130806430576
         ],
         "showgrid": true,
         "tickfont": {
          "color": "#4D5663"
         },
         "title": {
          "font": {
           "color": "#4D5663"
          },
          "text": ""
         },
         "type": "linear",
         "zerolinecolor": "#E1E5ED"
        },
        "yaxis3": {
         "anchor": "x3",
         "autorange": true,
         "domain": [
          0.3666666666666667,
          0.6333333333333333
         ],
         "gridcolor": "#E1E5ED",
         "range": [
          182.71749584347353,
          938.0242627041757
         ],
         "showgrid": true,
         "tickfont": {
          "color": "#4D5663"
         },
         "title": {
          "font": {
           "color": "#4D5663"
          },
          "text": ""
         },
         "type": "linear",
         "zerolinecolor": "#E1E5ED"
        },
        "yaxis4": {
         "anchor": "x4",
         "autorange": true,
         "domain": [
          0.3666666666666667,
          0.6333333333333333
         ],
         "gridcolor": "#E1E5ED",
         "range": [
          824.7405415140876,
          3996.998611715957
         ],
         "showgrid": true,
         "tickfont": {
          "color": "#4D5663"
         },
         "title": {
          "font": {
           "color": "#4D5663"
          },
          "text": ""
         },
         "type": "linear",
         "zerolinecolor": "#E1E5ED"
        },
        "yaxis5": {
         "anchor": "x5",
         "autorange": true,
         "domain": [
          0,
          0.26666666666666666
         ],
         "gridcolor": "#E1E5ED",
         "range": [
          0.21436291942869762,
          0.8708577305670134
         ],
         "showgrid": true,
         "tickfont": {
          "color": "#4D5663"
         },
         "title": {
          "font": {
           "color": "#4D5663"
          },
          "text": ""
         },
         "type": "linear",
         "zerolinecolor": "#E1E5ED"
        }
       }
      },
      "image/png": "[encoded data removed]",
      "text/html": [
       "<div>                            <div id=\"9492fd44-a556-4cf6-9ab6-b387760b4b12\" class=\"plotly-graph-div\" style=\"height:800px; width:1000px;\"></div>            <script type=\"text/javascript\">                require([\"plotly\"], function(Plotly) {                    window.PLOTLYENV=window.PLOTLYENV || {};\n",
       "                    window.PLOTLYENV.BASE_URL='https://plot.ly';                                    if (document.getElementById(\"9492fd44-a556-4cf6-9ab6-b387760b4b12\")) {                    Plotly.newPlot(                        \"9492fd44-a556-4cf6-9ab6-b387760b4b12\",                        [{\"line\":{\"color\":\"rgba(255, 153, 51, 1.0)\",\"dash\":\"solid\",\"shape\":\"linear\",\"width\":1.3},\"mode\":\"lines\",\"name\":\"Blue\",\"text\":\"\",\"x\":[\"2022-01-07\",\"2022-02-06\",\"2022-02-11\",\"2022-03-03\",\"2022-03-08\",\"2022-04-02\",\"2022-04-07\",\"2022-04-17\",\"2022-04-27\",\"2022-05-17\",\"2022-06-01\",\"2022-09-24\",\"2022-10-19\",\"2022-10-29\",\"2022-11-18\"],\"xaxis\":\"x\",\"y\":[166.43190630642582,660.9260126724894,651.1490297937935,418.37152971251226,607.955672042318,506.74368817556064,447.74763917267836,461.8678832867327,378.2739141017808,385.993246335152,367.41791335193466,200.72238609043893,175.84034715637986,292.49312692367977,376.10822091348524],\"yaxis\":\"y\",\"type\":\"scatter\"},{\"line\":{\"color\":\"rgba(55, 128, 191, 1.0)\",\"dash\":\"solid\",\"shape\":\"linear\",\"width\":1.3},\"mode\":\"lines\",\"name\":\"Green\",\"text\":\"\",\"x\":[\"2022-01-07\",\"2022-02-06\",\"2022-02-11\",\"2022-03-03\",\"2022-03-08\",\"2022-04-02\",\"2022-04-07\",\"2022-04-17\",\"2022-04-27\",\"2022-05-17\",\"2022-06-01\",\"2022-09-24\",\"2022-10-19\",\"2022-10-29\",\"2022-11-18\"],\"xaxis\":\"x2\",\"y\":[266.7989353099561,739.5491782571048,658.4044029156429,458.44270847858564,650.5809859863459,573.1976713573443,546.4943280676786,609.5425379462702,718.5735476835863,630.5285706145534,572.2875510085513,321.0257949946062,278.99913394909163,398.0584314394136,388.6463905597846],\"yaxis\":\"y2\",\"type\":\"scatter\"},{\"line\":{\"color\":\"rgba(50, 171, 96, 1.0)\",\"dash\":\"solid\",\"shape\":\"linear\",\"width\":1.3},\"mode\":\"lines\",\"name\":\"Red\",\"text\":\"\",\"x\":[\"2022-01-07\",\"2022-02-06\",\"2022-02-11\",\"2022-03-03\",\"2022-03-08\",\"2022-04-02\",\"2022-04-07\",\"2022-04-17\",\"2022-04-27\",\"2022-05-17\",\"2022-06-01\",\"2022-09-24\",\"2022-10-19\",\"2022-10-29\",\"2022-11-18\"],\"xaxis\":\"x3\",\"y\":[443.52737563530627,900.2589243611407,759.0478237912115,638.2386266386753,755.0702444174184,727.1501358988894,736.8177407454718,679.0478234661564,452.61314887002396,374.26505530950567,334.4948295681122,220.48283418650863,272.88314078433064,508.7034240201844,527.6704947221464],\"yaxis\":\"y3\",\"type\":\"scatter\"},{\"line\":{\"color\":\"rgba(128, 0, 128, 1.0)\",\"dash\":\"solid\",\"shape\":\"linear\",\"width\":1.3},\"mode\":\"lines\",\"name\":\"NIR\",\"text\":\"\",\"x\":[\"2022-01-07\",\"2022-02-06\",\"2022-02-11\",\"2022-03-03\",\"2022-03-08\",\"2022-04-02\",\"2022-04-07\",\"2022-04-17\",\"2022-04-27\",\"2022-05-17\",\"2022-06-01\",\"2022-09-24\",\"2022-10-19\",\"2022-10-29\",\"2022-11-18\"],\"xaxis\":\"x4\",\"y\":[983.353445024181,1478.7731766017732,1306.7555612539477,1261.4454614695476,1290.4611837158584,1448.4039404610758,1465.8865151709645,1752.214455105208,3123.7161617559145,3747.1580777574604,3838.3857082058635,2335.3251485039677,1864.7747281886907,1725.1949798832077,1072.907871497839],\"yaxis\":\"y4\",\"type\":\"scatter\"},{\"line\":{\"color\":\"rgba(219, 64, 82, 1.0)\",\"dash\":\"solid\",\"shape\":\"linear\",\"width\":1.3},\"mode\":\"lines\",\"name\":\"NDVI\",\"text\":\"\",\"x\":[\"2022-01-07\",\"2022-02-06\",\"2022-02-11\",\"2022-03-03\",\"2022-03-08\",\"2022-04-02\",\"2022-04-07\",\"2022-04-17\",\"2022-04-27\",\"2022-05-17\",\"2022-06-01\",\"2022-09-24\",\"2022-10-19\",\"2022-10-29\",\"2022-11-18\"],\"xaxis\":\"x5\",\"y\":[0.3783875747812262,0.2471876599856134,0.2638006373194986,0.327640750107133,0.26086294307495844,0.33127495788429845,0.3304800698720851,0.43963455371612753,0.7450139542150694,0.8161820587616737,0.8380329900100977,0.8258769834891347,0.7431758783741856,0.5453004771658965,0.33723376449949],\"yaxis\":\"y5\",\"type\":\"scatter\"}],                        {\"annotations\":[{\"font\":{\"size\":16},\"showarrow\":false,\"text\":\"Blue\",\"x\":0.225,\"xanchor\":\"center\",\"xref\":\"paper\",\"y\":1.0,\"yanchor\":\"bottom\",\"yref\":\"paper\"},{\"font\":{\"size\":16},\"showarrow\":false,\"text\":\"Green\",\"x\":0.775,\"xanchor\":\"center\",\"xref\":\"paper\",\"y\":1.0,\"yanchor\":\"bottom\",\"yref\":\"paper\"},{\"font\":{\"size\":16},\"showarrow\":false,\"text\":\"Red\",\"x\":0.225,\"xanchor\":\"center\",\"xref\":\"paper\",\"y\":0.6333333333333333,\"yanchor\":\"bottom\",\"yref\":\"paper\"},{\"font\":{\"size\":16},\"showarrow\":false,\"text\":\"NIR\",\"x\":0.775,\"xanchor\":\"center\",\"xref\":\"paper\",\"y\":0.6333333333333333,\"yanchor\":\"bottom\",\"yref\":\"paper\"},{\"font\":{\"size\":16},\"showarrow\":false,\"text\":\"NDVI\",\"x\":0.225,\"xanchor\":\"center\",\"xref\":\"paper\",\"y\":0.26666666666666666,\"yanchor\":\"bottom\",\"yref\":\"paper\"}],\"height\":800,\"legend\":{\"bgcolor\":\"#F5F6F9\",\"font\":{\"color\":\"#4D5663\"}},\"paper_bgcolor\":\"#F5F6F9\",\"plot_bgcolor\":\"#F5F6F9\",\"template\":{\"data\":{\"barpolar\":[{\"marker\":{\"line\":{\"color\":\"#E5ECF6\",\"width\":0.5},\"pattern\":{\"fillmode\":\"overlay\",\"size\":10,\"solidity\":0.2}},\"type\":\"barpolar\"}],\"bar\":[{\"error_x\":{\"color\":\"#2a3f5f\"},\"error_y\":{\"color\":\"#2a3f5f\"},\"marker\":{\"line\":{\"color\":\"#E5ECF6\",\"width\":0.5},\"pattern\":{\"fillmode\":\"overlay\",\"size\":10,\"solidity\":0.2}},\"type\":\"bar\"}],\"carpet\":[{\"aaxis\":{\"endlinecolor\":\"#2a3f5f\",\"gridcolor\":\"white\",\"linecolor\":\"white\",\"minorgridcolor\":\"white\",\"startlinecolor\":\"#2a3f5f\"},\"baxis\":{\"endlinecolor\":\"#2a3f5f\",\"gridcolor\":\"white\",\"linecolor\":\"white\",\"minorgridcolor\":\"white\",\"startlinecolor\":\"#2a3f5f\"},\"type\":\"carpet\"}],\"choropleth\":[{\"colorbar\":{\"outlinewidth\":0,\"ticks\":\"\"},\"type\":\"choropleth\"}],\"contourcarpet\":[{\"colorbar\":{\"outlinewidth\":0,\"ticks\":\"\"},\"type\":\"contourcarpet\"}],\"contour\":[{\"colorbar\":{\"outlinewidth\":0,\"ticks\":\"\"},\"colorscale\":[[0.0,\"#0d0887\"],[0.1111111111111111,\"#46039f\"],[0.2222222222222222,\"#7201a8\"],[0.3333333333333333,\"#9c179e\"],[0.4444444444444444,\"#bd3786\"],[0.5555555555555556,\"#d8576b\"],[0.6666666666666666,\"#ed7953\"],[0.7777777777777778,\"#fb9f3a\"],[0.8888888888888888,\"#fdca26\"],[1.0,\"#f0f921\"]],\"type\":\"contour\"}],\"heatmapgl\":[{\"colorbar\":{\"outlinewidth\":0,\"ticks\":\"\"},\"colorscale\":[[0.0,\"#0d0887\"],[0.1111111111111111,\"#46039f\"],[0.2222222222222222,\"#7201a8\"],[0.3333333333333333,\"#9c179e\"],[0.4444444444444444,\"#bd3786\"],[0.5555555555555556,\"#d8576b\"],[0.6666666666666666,\"#ed7953\"],[0.7777777777777778,\"#fb9f3a\"],[0.8888888888888888,\"#fdca26\"],[1.0,\"#f0f921\"]],\"type\":\"heatmapgl\"}],\"heatmap\":[{\"colorbar\":{\"outlinewidth\":0,\"ticks\":\"\"},\"colorscale\":[[0.0,\"#0d0887\"],[0.1111111111111111,\"#46039f\"],[0.2222222222222222,\"#7201a8\"],[0.3333333333333333,\"#9c179e\"],[0.4444444444444444,\"#bd3786\"],[0.5555555555555556,\"#d8576b\"],[0.6666666666666666,\"#ed7953\"],[0.7777777777777778,\"#fb9f3a\"],[0.8888888888888888,\"#fdca26\"],[1.0,\"#f0f921\"]],\"type\":\"heatmap\"}],\"histogram2dcontour\":[{\"colorbar\":{\"outlinewidth\":0,\"ticks\":\"\"},\"colorscale\":[[0.0,\"#0d0887\"],[0.1111111111111111,\"#46039f\"],[0.2222222222222222,\"#7201a8\"],[0.3333333333333333,\"#9c179e\"],[0.4444444444444444,\"#bd3786\"],[0.5555555555555556,\"#d8576b\"],[0.6666666666666666,\"#ed7953\"],[0.7777777777777778,\"#fb9f3a\"],[0.8888888888888888,\"#fdca26\"],[1.0,\"#f0f921\"]],\"type\":\"histogram2dcontour\"}],\"histogram2d\":[{\"colorbar\":{\"outlinewidth\":0,\"ticks\":\"\"},\"colorscale\":[[0.0,\"#0d0887\"],[0.1111111111111111,\"#46039f\"],[0.2222222222222222,\"#7201a8\"],[0.3333333333333333,\"#9c179e\"],[0.4444444444444444,\"#bd3786\"],[0.5555555555555556,\"#d8576b\"],[0.6666666666666666,\"#ed7953\"],[0.7777777777777778,\"#fb9f3a\"],[0.8888888888888888,\"#fdca26\"],[1.0,\"#f0f921\"]],\"type\":\"histogram2d\"}],\"histogram\":[{\"marker\":{\"pattern\":{\"fillmode\":\"overlay\",\"size\":10,\"solidity\":0.2}},\"type\":\"histogram\"}],\"mesh3d\":[{\"colorbar\":{\"outlinewidth\":0,\"ticks\":\"\"},\"type\":\"mesh3d\"}],\"parcoords\":[{\"line\":{\"colorbar\":{\"outlinewidth\":0,\"ticks\":\"\"}},\"type\":\"parcoords\"}],\"pie\":[{\"automargin\":true,\"type\":\"pie\"}],\"scatter3d\":[{\"line\":{\"colorbar\":{\"outlinewidth\":0,\"ticks\":\"\"}},\"marker\":{\"colorbar\":{\"outlinewidth\":0,\"ticks\":\"\"}},\"type\":\"scatter3d\"}],\"scattercarpet\":[{\"marker\":{\"colorbar\":{\"outlinewidth\":0,\"ticks\":\"\"}},\"type\":\"scattercarpet\"}],\"scattergeo\":[{\"marker\":{\"colorbar\":{\"outlinewidth\":0,\"ticks\":\"\"}},\"type\":\"scattergeo\"}],\"scattergl\":[{\"marker\":{\"colorbar\":{\"outlinewidth\":0,\"ticks\":\"\"}},\"type\":\"scattergl\"}],\"scattermapbox\":[{\"marker\":{\"colorbar\":{\"outlinewidth\":0,\"ticks\":\"\"}},\"type\":\"scattermapbox\"}],\"scatterpolargl\":[{\"marker\":{\"colorbar\":{\"outlinewidth\":0,\"ticks\":\"\"}},\"type\":\"scatterpolargl\"}],\"scatterpolar\":[{\"marker\":{\"colorbar\":{\"outlinewidth\":0,\"ticks\":\"\"}},\"type\":\"scatterpolar\"}],\"scatter\":[{\"marker\":{\"colorbar\":{\"outlinewidth\":0,\"ticks\":\"\"}},\"type\":\"scatter\"}],\"scatterternary\":[{\"marker\":{\"colorbar\":{\"outlinewidth\":0,\"ticks\":\"\"}},\"type\":\"scatterternary\"}],\"surface\":[{\"colorbar\":{\"outlinewidth\":0,\"ticks\":\"\"},\"colorscale\":[[0.0,\"#0d0887\"],[0.1111111111111111,\"#46039f\"],[0.2222222222222222,\"#7201a8\"],[0.3333333333333333,\"#9c179e\"],[0.4444444444444444,\"#bd3786\"],[0.5555555555555556,\"#d8576b\"],[0.6666666666666666,\"#ed7953\"],[0.7777777777777778,\"#fb9f3a\"],[0.8888888888888888,\"#fdca26\"],[1.0,\"#f0f921\"]],\"type\":\"surface\"}],\"table\":[{\"cells\":{\"fill\":{\"color\":\"#EBF0F8\"},\"line\":{\"color\":\"white\"}},\"header\":{\"fill\":{\"color\":\"#C8D4E3\"},\"line\":{\"color\":\"white\"}},\"type\":\"table\"}]},\"layout\":{\"annotationdefaults\":{\"arrowcolor\":\"#2a3f5f\",\"arrowhead\":0,\"arrowwidth\":1},\"autotypenumbers\":\"strict\",\"coloraxis\":{\"colorbar\":{\"outlinewidth\":0,\"ticks\":\"\"}},\"colorscale\":{\"diverging\":[[0,\"#8e0152\"],[0.1,\"#c51b7d\"],[0.2,\"#de77ae\"],[0.3,\"#f1b6da\"],[0.4,\"#fde0ef\"],[0.5,\"#f7f7f7\"],[0.6,\"#e6f5d0\"],[0.7,\"#b8e186\"],[0.8,\"#7fbc41\"],[0.9,\"#4d9221\"],[1,\"#276419\"]],\"sequential\":[[0.0,\"#0d0887\"],[0.1111111111111111,\"#46039f\"],[0.2222222222222222,\"#7201a8\"],[0.3333333333333333,\"#9c179e\"],[0.4444444444444444,\"#bd3786\"],[0.5555555555555556,\"#d8576b\"],[0.6666666666666666,\"#ed7953\"],[0.7777777777777778,\"#fb9f3a\"],[0.8888888888888888,\"#fdca26\"],[1.0,\"#f0f921\"]],\"sequentialminus\":[[0.0,\"#0d0887\"],[0.1111111111111111,\"#46039f\"],[0.2222222222222222,\"#7201a8\"],[0.3333333333333333,\"#9c179e\"],[0.4444444444444444,\"#bd3786\"],[0.5555555555555556,\"#d8576b\"],[0.6666666666666666,\"#ed7953\"],[0.7777777777777778,\"#fb9f3a\"],[0.8888888888888888,\"#fdca26\"],[1.0,\"#f0f921\"]]},\"colorway\":[\"#636efa\",\"#EF553B\",\"#00cc96\",\"#ab63fa\",\"#FFA15A\",\"#19d3f3\",\"#FF6692\",\"#B6E880\",\"#FF97FF\",\"#FECB52\"],\"font\":{\"color\":\"#2a3f5f\"},\"geo\":{\"bgcolor\":\"white\",\"lakecolor\":\"white\",\"landcolor\":\"#E5ECF6\",\"showlakes\":true,\"showland\":true,\"subunitcolor\":\"white\"},\"hoverlabel\":{\"align\":\"left\"},\"hovermode\":\"closest\",\"mapbox\":{\"style\":\"light\"},\"paper_bgcolor\":\"white\",\"plot_bgcolor\":\"#E5ECF6\",\"polar\":{\"angularaxis\":{\"gridcolor\":\"white\",\"linecolor\":\"white\",\"ticks\":\"\"},\"bgcolor\":\"#E5ECF6\",\"radialaxis\":{\"gridcolor\":\"white\",\"linecolor\":\"white\",\"ticks\":\"\"}},\"scene\":{\"xaxis\":{\"backgroundcolor\":\"#E5ECF6\",\"gridcolor\":\"white\",\"gridwidth\":2,\"linecolor\":\"white\",\"showbackground\":true,\"ticks\":\"\",\"zerolinecolor\":\"white\"},\"yaxis\":{\"backgroundcolor\":\"#E5ECF6\",\"gridcolor\":\"white\",\"gridwidth\":2,\"linecolor\":\"white\",\"showbackground\":true,\"ticks\":\"\",\"zerolinecolor\":\"white\"},\"zaxis\":{\"backgroundcolor\":\"#E5ECF6\",\"gridcolor\":\"white\",\"gridwidth\":2,\"linecolor\":\"white\",\"showbackground\":true,\"ticks\":\"\",\"zerolinecolor\":\"white\"}},\"shapedefaults\":{\"line\":{\"color\":\"#2a3f5f\"}},\"ternary\":{\"aaxis\":{\"gridcolor\":\"white\",\"linecolor\":\"white\",\"ticks\":\"\"},\"baxis\":{\"gridcolor\":\"white\",\"linecolor\":\"white\",\"ticks\":\"\"},\"bgcolor\":\"#E5ECF6\",\"caxis\":{\"gridcolor\":\"white\",\"linecolor\":\"white\",\"ticks\":\"\"}},\"title\":{\"x\":0.05},\"xaxis\":{\"automargin\":true,\"gridcolor\":\"white\",\"linecolor\":\"white\",\"ticks\":\"\",\"title\":{\"standoff\":15},\"zerolinecolor\":\"white\",\"zerolinewidth\":2},\"yaxis\":{\"automargin\":true,\"gridcolor\":\"white\",\"linecolor\":\"white\",\"ticks\":\"\",\"title\":{\"standoff\":15},\"zerolinecolor\":\"white\",\"zerolinewidth\":2}}},\"title\":{\"font\":{\"color\":\"#4D5663\"},\"text\":\"Timeseries graph by Bands (Mean)\"},\"width\":1000,\"xaxis\":{\"anchor\":\"y\",\"domain\":[0.0,0.45],\"gridcolor\":\"#E1E5ED\",\"showgrid\":true,\"tickfont\":{\"color\":\"#4D5663\"},\"title\":{\"font\":{\"color\":\"#4D5663\"},\"text\":\"\"},\"zerolinecolor\":\"#E1E5ED\"},\"yaxis\":{\"anchor\":\"x\",\"domain\":[0.7333333333333334,1.0],\"gridcolor\":\"#E1E5ED\",\"showgrid\":true,\"tickfont\":{\"color\":\"#4D5663\"},\"title\":{\"font\":{\"color\":\"#4D5663\"},\"text\":\"\"},\"zerolinecolor\":\"#E1E5ED\"},\"xaxis2\":{\"anchor\":\"y2\",\"domain\":[0.55,1.0],\"gridcolor\":\"#E1E5ED\",\"showgrid\":true,\"tickfont\":{\"color\":\"#4D5663\"},\"title\":{\"font\":{\"color\":\"#4D5663\"},\"text\":\"\"},\"zerolinecolor\":\"#E1E5ED\"},\"yaxis2\":{\"anchor\":\"x2\",\"domain\":[0.7333333333333334,1.0],\"gridcolor\":\"#E1E5ED\",\"showgrid\":true,\"tickfont\":{\"color\":\"#4D5663\"},\"title\":{\"font\":{\"color\":\"#4D5663\"},\"text\":\"\"},\"zerolinecolor\":\"#E1E5ED\"},\"xaxis3\":{\"anchor\":\"y3\",\"domain\":[0.0,0.45],\"gridcolor\":\"#E1E5ED\",\"showgrid\":true,\"tickfont\":{\"color\":\"#4D5663\"},\"title\":{\"font\":{\"color\":\"#4D5663\"},\"text\":\"\"},\"zerolinecolor\":\"#E1E5ED\"},\"yaxis3\":{\"anchor\":\"x3\",\"domain\":[0.3666666666666667,0.6333333333333333],\"gridcolor\":\"#E1E5ED\",\"showgrid\":true,\"tickfont\":{\"color\":\"#4D5663\"},\"title\":{\"font\":{\"color\":\"#4D5663\"},\"text\":\"\"},\"zerolinecolor\":\"#E1E5ED\"},\"xaxis4\":{\"anchor\":\"y4\",\"domain\":[0.55,1.0],\"gridcolor\":\"#E1E5ED\",\"showgrid\":true,\"tickfont\":{\"color\":\"#4D5663\"},\"title\":{\"font\":{\"color\":\"#4D5663\"},\"text\":\"\"},\"zerolinecolor\":\"#E1E5ED\"},\"yaxis4\":{\"anchor\":\"x4\",\"domain\":[0.3666666666666667,0.6333333333333333],\"gridcolor\":\"#E1E5ED\",\"showgrid\":true,\"tickfont\":{\"color\":\"#4D5663\"},\"title\":{\"font\":{\"color\":\"#4D5663\"},\"text\":\"\"},\"zerolinecolor\":\"#E1E5ED\"},\"xaxis5\":{\"anchor\":\"y5\",\"domain\":[0.0,0.45],\"gridcolor\":\"#E1E5ED\",\"showgrid\":true,\"tickfont\":{\"color\":\"#4D5663\"},\"title\":{\"font\":{\"color\":\"#4D5663\"},\"text\":\"\"},\"zerolinecolor\":\"#E1E5ED\"},\"yaxis5\":{\"anchor\":\"x5\",\"domain\":[0.0,0.26666666666666666],\"gridcolor\":\"#E1E5ED\",\"showgrid\":true,\"tickfont\":{\"color\":\"#4D5663\"},\"title\":{\"font\":{\"color\":\"#4D5663\"},\"text\":\"\"},\"zerolinecolor\":\"#E1E5ED\"}},                        {\"showLink\": true, \"linkText\": \"Export to plot.ly\", \"plotlyServerURL\": \"https://plot.ly\", \"responsive\": true}                    ).then(function(){\n",
       "                            \n",
       "var gd = document.getElementById('9492fd44-a556-4cf6-9ab6-b387760b4b12');\n",
       "var x = new MutationObserver(function (mutations, observer) {{\n",
       "        var display = window.getComputedStyle(gd).display;\n",
       "        if (!display || display === 'none') {{\n",
       "            console.log([gd, 'removed!']);\n",
       "            Plotly.purge(gd);\n",
       "            observer.disconnect();\n",
       "        }}\n",
       "}});\n",
       "\n",
       "// Listen for the removal of the full notebook cells\n",
       "var notebookContainer = gd.closest('#notebook-container');\n",
       "if (notebookContainer) {{\n",
       "    x.observe(notebookContainer, {childList: true});\n",
       "}}\n",
       "\n",
       "// Listen for the clearing of the current output cell\n",
       "var outputEl = gd.closest('.output');\n",
       "if (outputEl) {{\n",
       "    x.observe(outputEl, {childList: true});\n",
       "}}\n",
       "\n",
       "                        })                };                });            </script>        </div>"
      ]
     },
     "metadata": {},
     "output_type": "display_data"
    }
   ],
   "source": [
    "groupMean.iplot(kind='line', subplots=True, subplot_titles=True,\n",
    "                title='Timeseries graph by Bands (Mean)', \n",
    "                vertical_spacing=0.1, dimensions=(1000, 800))"
   ]
  },
  {
   "cell_type": "markdown",
   "id": "5a0935fc-9927-4f61-9135-4e29838ec901",
   "metadata": {},
   "source": [
    "- TODO\n",
    "\n",
    "Date, Band, Buffer 별로 조회할 수 있는 위젯 플롯 만들기\n",
    "\n",
    "가능하면 Location도 추가"
   ]
  },
  {
   "cell_type": "code",
   "execution_count": 131,
   "id": "6acc019e-4f7e-4bb4-8c43-dfa458875bfb",
   "metadata": {
    "tags": []
   },
   "outputs": [
    {
     "data": {
      "application/vnd.jupyter.widget-view+json": {
       "model_id": "d61494ba985a4a808856ecfb43a70604",
       "version_major": 2,
       "version_minor": 0
      },
      "text/plain": [
       "interactive(children=(Dropdown(description='Date', options=('2022-01-07', '2022-01-17', '2022-02-06', '2022-02…"
      ]
     },
     "metadata": {},
     "output_type": "display_data"
    }
   ],
   "source": [
    "@interact_manual\n",
    "def interactPlotting(Date=list(target_df['DATE'].drop_duplicates()),\n",
    "                     Band=list(target_df.columns[-5:]),\n",
    "                     Buffer=list(target_df['BUFF_DIST'].drop_duplicates())):\n",
    "    target_df.iplot(kind= 'line', x=target_df)"
   ]
  },
  {
   "cell_type": "markdown",
   "id": "fb9e0570-7995-4f87-9ae2-4a64726c4923",
   "metadata": {
    "tags": [],
    "toc-hr-collapsed": true
   },
   "source": [
    "---\n",
    "# 미사용 코드"
   ]
  },
  {
   "cell_type": "markdown",
   "id": "7e201838-0f51-4429-bd9a-8c3dc1e9e8a0",
   "metadata": {},
   "source": [
    "### 날짜별 조회"
   ]
  },
  {
   "cell_type": "code",
   "execution_count": 27,
   "id": "feaa9929-54e1-4b46-acbf-8cf4efb2ef16",
   "metadata": {},
   "outputs": [
    {
     "data": {
      "text/plain": [
       "Index(['2022-01-07', '2022-01-17', '2022-02-06', '2022-02-11', '2022-03-03',\n",
       "       '2022-03-08', '2022-04-02', '2022-04-07', '2022-04-17', '2022-04-27'],\n",
       "      dtype='object')"
      ]
     },
     "execution_count": 27,
     "metadata": {},
     "output_type": "execute_result"
    }
   ],
   "source": [
    "valid_date = target_df['DATE'].value_counts().index\n",
    "valid_date"
   ]
  },
  {
   "cell_type": "markdown",
   "id": "89420a87-c9c4-4c6a-8fec-5664a3a222aa",
   "metadata": {
    "tags": []
   },
   "source": [
    "- targetDate 변수에 조회 날짜의 인덱스 입력\n",
    "-  targetBand 변수에 조회 밴드 입력"
   ]
  },
  {
   "cell_type": "code",
   "execution_count": 28,
   "id": "18eda079-b3ef-4f95-995c-e721c9d04f8a",
   "metadata": {},
   "outputs": [],
   "source": [
    "targetDate = valid_date[3]\n",
    "targetBand = 'NIR'"
   ]
  },
  {
   "cell_type": "code",
   "execution_count": 29,
   "id": "55784fd9-e2d6-429f-8afe-516001c11339",
   "metadata": {},
   "outputs": [
    {
     "data": {
      "text/plain": [
       "BUFF_DIST\n",
       "5     1361.126316\n",
       "10    1388.348214\n",
       "15    1423.828732\n",
       "20    1437.492594\n",
       "25    1440.307522\n",
       "30    1430.193318\n",
       "Name: NIR, dtype: float64"
      ]
     },
     "execution_count": 29,
     "metadata": {},
     "output_type": "execute_result"
    }
   ],
   "source": [
    "target_line = target_df[target_df['DATE'] == targetDate].set_index(['BUFF_DIST']).loc[:, targetBand].T\n",
    "target_line"
   ]
  },
  {
   "cell_type": "code",
   "execution_count": 32,
   "id": "bbfb132a-fc8d-43ba-8b86-5b10a2dd3fa9",
   "metadata": {},
   "outputs": [
    {
     "data": {
      "image/png": "[encoded data removed]",
      "text/plain": [
       "<Figure size 432x288 with 1 Axes>"
      ]
     },
     "metadata": {
      "needs_background": "light"
     },
     "output_type": "display_data"
    }
   ],
   "source": [
    "plt.plot(target_line, label = targetBand, marker='^')\n",
    "plt.xlabel('Buffer')\n",
    "plt.ylabel('Value', rotation=0, labelpad=14)\n",
    "plt.ylim(target_line.min() * 0.975, target_line.max() * 1.025)\n",
    "plt.title(f'{targetDate} : {targetBand}')\n",
    "plt.grid(axis='y')\n",
    "plt.show()"
   ]
  },
  {
   "cell_type": "markdown",
   "id": "f0f97a12-7c98-41c2-84df-dadf70777ed7",
   "metadata": {},
   "source": [
    "### 밴드별 전체 날짜 평균값 조회"
   ]
  },
  {
   "cell_type": "code",
   "execution_count": 33,
   "id": "40308b1a-c2a2-4d88-8800-39145c319563",
   "metadata": {},
   "outputs": [
    {
     "data": {
      "text/plain": [
       "BUFF_DIST\n",
       "5     0.669248\n",
       "10    0.672606\n",
       "15    0.675778\n",
       "20    0.676173\n",
       "25    0.672285\n",
       "30    0.665996\n",
       "Name: NDVI, dtype: float64"
      ]
     },
     "execution_count": 33,
     "metadata": {},
     "output_type": "execute_result"
    }
   ],
   "source": [
    "target_mean = target_df.groupby(['BUFF_DIST']).mean()\n",
    "target_mean.loc[:, 'NDVI'].T"
   ]
  },
  {
   "cell_type": "code",
   "execution_count": 204,
   "id": "71cce1ef-c966-40cb-9fd1-1d6bee33e20f",
   "metadata": {
    "tags": []
   },
   "outputs": [
    {
     "data": {
      "image/png": "[encoded data removed]",
      "text/plain": [
       "<Figure size 720x504 with 1 Axes>"
      ]
     },
     "metadata": {
      "needs_background": "light"
     },
     "output_type": "display_data"
    }
   ],
   "source": [
    "plt.rcParams['figure.figsize'] = (10, 7)\n",
    "\n",
    "fig, ax1 = plt.subplots()\n",
    "ax1.set_xlabel('Buffer', size=12)\n",
    "blueLine = ax1.plot(target_mean.loc[:, 'Blue'].T, marker='^', color='b', label='Blue')\n",
    "greenLine = ax1.plot(target_mean.loc[:, 'Green'].T, marker='^', color='g', label='Green')\n",
    "redLine = ax1.plot(target_mean.loc[:, 'Red'].T, marker='^', color='r', label='Red')\n",
    "NIRLine = ax1.plot(target_mean.loc[:, 'NIR'].T, marker='^', color='pink', label='NIR')\n",
    "\n",
    "\n",
    "# ax2 = ax1.twinx()\n",
    "# ax2.set_ylabel('Value', rotation=0, size=12, labelpad=25)\n",
    "# NDVILine = ax2.plot(target_mean.loc[:, 'NDVI'].T, marker='^', color='purple', label='NDVI')\n",
    "\n",
    "lines = blueLine + greenLine + redLine + NIRLine #+ NDVILine\n",
    "labels = [line.get_label() for line in lines]\n",
    "ax1.legend(lines, labels, loc='center left', bbox_to_anchor=(1.1, 0.1))\n",
    "plt.grid(axis='y')\n",
    "plt.show()"
   ]
  },
  {
   "cell_type": "markdown",
   "id": "238ba0aa-6805-4a64-b922-4d490d1714f6",
   "metadata": {},
   "source": [
    "- target 변수에 Location 코드 입력하여 진행"
   ]
  },
  {
   "cell_type": "code",
   "execution_count": null,
   "id": "fd95b303-9c2a-4da2-8e75-38b21f031b81",
   "metadata": {},
   "outputs": [
    {
     "name": "stdout",
     "output_type": "stream",
     "text": [
      "['GBK', 'AMD', 'WD', 'HC', 'PYC', 'SC', 'JJ', 'GCK', 'HAWS1']\n"
     ]
    }
   ],
   "source": [
    "print(target_list)"
   ]
  },
  {
   "cell_type": "code",
   "execution_count": null,
   "id": "bccd6663-7c30-421b-8ca4-ced5673b976a",
   "metadata": {},
   "outputs": [],
   "source": [
    "target = 'WD'\n",
    "target_df = globals()[f'{target}_df']"
   ]
  },
  {
   "cell_type": "markdown",
   "id": "573f3d16-ab8d-4993-8aa4-773b57e55e01",
   "metadata": {},
   "source": [
    "---"
   ]
  },
  {
   "cell_type": "markdown",
   "id": "bc5e9703-28d4-46d8-8861-5b87ef3705cb",
   "metadata": {
    "tags": []
   },
   "source": [
    "---\n",
    "# 메모"
   ]
  },
  {
   "cell_type": "markdown",
   "id": "b6163ff4-1c05-4d93-b7e7-1e7724f477c1",
   "metadata": {},
   "source": [
    "- 전체 지점 데이터를 한 번에 만드는 것보다 각 지점 데이터를 구한 다음, 합치는 것이 더 낫다고 생각하는 이유?\n",
    "    1. 어차피 각 지점으로 나눠야함\n",
    "    2. 불필요한 데이터가 들어오는 걸 방지 가능\n",
    "        - Geometry 변수 사용 시 범위 내 데이터가 있는 모든 날짜에서 각 Point를 추려내므로 데이터가 없는 날짜(row)가 너무 많음\n",
    "        "
   ]
  },
  {
   "cell_type": "code",
   "execution_count": null,
   "id": "cf3ee3d0-5312-4510-8d5d-ffb7ed65a3e2",
   "metadata": {},
   "outputs": [],
   "source": []
  }
 ],
 "metadata": {
  "kernelspec": {
   "display_name": "Python 3 (ipykernel)",
   "language": "python",
   "name": "python3"
  },
  "language_info": {
   "codemirror_mode": {
    "name": "ipython",
    "version": 3
   },
   "file_extension": ".py",
   "mimetype": "text/x-python",
   "name": "python",
   "nbconvert_exporter": "python",
   "pygments_lexer": "ipython3",
   "version": "3.9.12"
  },
  "toc-autonumbering": true
 },
 "nbformat": 4,
 "nbformat_minor": 5
}
