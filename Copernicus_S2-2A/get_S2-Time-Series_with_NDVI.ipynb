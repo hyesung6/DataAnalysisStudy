{
 "cells": [
  {
   "cell_type": "markdown",
   "id": "a45c09c0-e33d-4389-b247-7b3b64c11ea6",
   "metadata": {},
   "source": [
    "# 프로세스 준비"
   ]
  },
  {
   "cell_type": "code",
   "execution_count": null,
   "id": "99242cb2-6d6d-4b9d-a760-1ed446312a5a",
   "metadata": {},
   "outputs": [],
   "source": [
    "# !pip install ee\n",
    "# !pip install geemap\n",
    "# !pip install ipympl"
   ]
  },
  {
   "cell_type": "code",
   "execution_count": 1,
   "id": "77bc0ddb-1c17-4667-8ffb-f1f9e2297641",
   "metadata": {},
   "outputs": [
    {
     "data": {
      "text/html": [
       "        <script type=\"text/javascript\">\n",
       "        window.PlotlyConfig = {MathJaxConfig: 'local'};\n",
       "        if (window.MathJax) {MathJax.Hub.Config({SVG: {font: \"STIX-Web\"}});}\n",
       "        if (typeof require !== 'undefined') {\n",
       "        require.undef(\"plotly\");\n",
       "        requirejs.config({\n",
       "            paths: {\n",
       "                'plotly': ['https://cdn.plot.ly/plotly-2.9.0.min']\n",
       "            }\n",
       "        });\n",
       "        require(['plotly'], function(Plotly) {\n",
       "            window._Plotly = Plotly;\n",
       "        });\n",
       "        }\n",
       "        </script>\n",
       "        "
      ]
     },
     "metadata": {},
     "output_type": "display_data"
    }
   ],
   "source": [
    "import ee, geemap, os, shutil\n",
    "import pandas as pd\n",
    "import matplotlib.pyplot as plt\n",
    "from matplotlib import font_manager, rc\n",
    "import ipyleaflet\n",
    "import ipywidgets as widgets\n",
    "from ipywidgets import interact, interact_manual\n",
    "import numpy as np\n",
    "import cufflinks as cf\n",
    "cf.go_offline(connected=True)"
   ]
  },
  {
   "cell_type": "code",
   "execution_count": 2,
   "id": "0f65218d-a2fa-4630-aba9-355796490474",
   "metadata": {},
   "outputs": [],
   "source": [
    "geemap.ee_initialize()"
   ]
  },
  {
   "cell_type": "code",
   "execution_count": 3,
   "id": "aac3390e-bc75-4250-bc7f-c2526ae938f9",
   "metadata": {},
   "outputs": [],
   "source": [
    "def addNDVI(image):\n",
    "    ndvi = image.normalizedDifference(['B8', 'B4']).rename('NDVI')\n",
    "    return image.addBands([ndvi])"
   ]
  },
  {
   "cell_type": "code",
   "execution_count": 4,
   "id": "232037e2-bdfd-4bfa-a502-b9976df5cb11",
   "metadata": {},
   "outputs": [],
   "source": [
    "def maskS2clouds(image):\n",
    "    qa = image.select('QA60')\n",
    "    \n",
    "    cloudBitMask = 1 << 10\n",
    "    cirrusBitMask = 1 << 11\n",
    "    \n",
    "    mask = (qa.bitwiseAnd(cloudBitMask).eq(0) and qa.bitwiseAnd(cirrusBitMask).eq(0))\n",
    "        \n",
    "    return image.updateMask(mask)"
   ]
  },
  {
   "cell_type": "code",
   "execution_count": 5,
   "id": "8e5624e6-cac7-4dfc-b65e-04ada78971c1",
   "metadata": {},
   "outputs": [],
   "source": [
    "def clipPoint(image):\n",
    "    return image.clip(ee.Geometry.Point(point).buffer(250).bounds())\\\n",
    "                .reduceRegions(\n",
    "                     collection = points,\n",
    "                     reducer = ee.Reducer.mean(),\n",
    "                     scale = 10)"
   ]
  },
  {
   "cell_type": "markdown",
   "id": "bb47ff9f-098a-4a2a-9225-b281c8c030cc",
   "metadata": {},
   "source": [
    "---\n",
    "# 위성 이미지 출력"
   ]
  },
  {
   "cell_type": "code",
   "execution_count": 6,
   "id": "07c4fd45-a5d1-45ef-81cd-16f5f59cd61a",
   "metadata": {},
   "outputs": [],
   "source": [
    "table = geemap.shp_to_ee('shp file here')\n",
    "df = geemap.ee_to_df(table)"
   ]
  },
  {
   "cell_type": "code",
   "execution_count": 7,
   "id": "22629c03-ed11-412b-b04d-f9f088b11326",
   "metadata": {},
   "outputs": [],
   "source": [
    "coords = df[['Location', 'Lon', 'Lat']].drop_duplicates()\n",
    "\n",
    "coords_dict = {'GBK_coord' : [coords.iloc[0, 1], coords.iloc[0, 2]],\n",
    "               'AMD_coord' : [coords.iloc[1, 1], coords.iloc[1, 2]],\n",
    "               'WD_coord'  : [coords.iloc[2, 1], coords.iloc[2, 2]],\n",
    "               'HC_coord'  : [coords.iloc[3, 1], coords.iloc[3, 2]],\n",
    "               'PYC_coord' : [coords.iloc[4, 1], coords.iloc[4, 2]],\n",
    "               'SC_coord'  : [coords.iloc[5, 1], coords.iloc[5, 2]],\n",
    "               'JJ_coord'  : [coords.iloc[6, 1], coords.iloc[6, 2]],\n",
    "               'GCK_coord' : [coords.iloc[7, 1], coords.iloc[7, 2]],\n",
    "             'HAWS1_coord' : [coords.iloc[8, 1], coords.iloc[8, 2]], }"
   ]
  },
  {
   "cell_type": "markdown",
   "id": "4f0e377f-42f4-4513-b989-b159ef27a944",
   "metadata": {},
   "source": [
    "- location 변수에 Location 코드 입력하여 사용"
   ]
  },
  {
   "cell_type": "code",
   "execution_count": 8,
   "id": "aca9e707-fa4e-42fa-9233-4cf0757d9e49",
   "metadata": {},
   "outputs": [
    {
     "data": {
      "text/plain": [
       "['GBK', 'AMD', 'WD', 'HC', 'PYC', 'SC', 'JJ', 'GCK', 'HAWS1']"
      ]
     },
     "execution_count": 8,
     "metadata": {},
     "output_type": "execute_result"
    }
   ],
   "source": [
    "loc_list = list(coords['Location'].values)\n",
    "loc_list"
   ]
  },
  {
   "cell_type": "code",
   "execution_count": 9,
   "id": "22e3a6fe-4a97-41e2-9c8e-47fe1a174cbb",
   "metadata": {
    "tags": []
   },
   "outputs": [],
   "source": [
    "location = 'GCK'\n",
    "\n",
    "point = coords_dict[f'{location}_coord']\n",
    "\n",
    "start_date = '2022-01-01'\n",
    "end_date = '2022-12-01'\n",
    "\n",
    "images = (ee.ImageCollection(\"COPERNICUS/S2_SR_HARMONIZED\")\n",
    "       .select(['B2', 'B3', 'B4', 'B8', 'QA60'])\n",
    "       .filterDate(start_date, end_date)\n",
    "       .filterBounds(ee.Geometry.Point(point))\n",
    "       .filterMetadata('CLOUDY_PIXEL_PERCENTAGE', 'less_than', 10)\n",
    "       .map(addNDVI)\n",
    "       .map(maskS2clouds))\n",
    "\n",
    "vis = {'bands': ['B4', 'B3', 'B2'],\n",
    "       'min': 0,\n",
    "       'max': 3000,\n",
    "       'gamma':1.4  }"
   ]
  },
  {
   "cell_type": "code",
   "execution_count": null,
   "id": "47068b65-39c1-4a56-83da-42854ad185fc",
   "metadata": {
    "tags": []
   },
   "outputs": [],
   "source": [
    "size = images.size()\n",
    "print(f'{location} data size : {size.getInfo()}')\n",
    "\n",
    "images_list = images.toList(size)\n",
    "print(f'{location} data_list size : {images_list.length().getInfo()}')"
   ]
  },
  {
   "cell_type": "markdown",
   "id": "54d3d831-aaa7-4b2b-be8a-a14965734386",
   "metadata": {},
   "source": [
    "- TODO\n",
    "\n",
    "    - 버튼 만들어서 날짜별 조회하게 만들기"
   ]
  },
  {
   "cell_type": "code",
   "execution_count": 11,
   "id": "f1a350ae-4256-4070-8a8a-a1a3b00b9465",
   "metadata": {},
   "outputs": [
    {
     "data": {
      "application/vnd.jupyter.widget-view+json": {
       "model_id": "e77f6fb2808743f4bf69fa60ec43156d",
       "version_major": 2,
       "version_minor": 0
      },
      "text/plain": [
       "Map(center=[37.7484, 127.163], controls=(WidgetControl(options=['position', 'transparent_bg'], widget=HBox(chi…"
      ]
     },
     "metadata": {},
     "output_type": "display_data"
    }
   ],
   "source": [
    "Map = geemap.Map()\n",
    "Map.setCenter(point[0], point[1], 15)\n",
    "Map.addLayer(ee.Image(images_list.get(0)).clip(ee.Geometry.Point(point).buffer(500).bounds()), vis, 'Sentinel-2')\n",
    "Map.addLayer(ee.Image().paint(ee.Geometry.Point(point).buffer(250).bounds(), 0, 1), {'palette': 'FF0000'}, 'Box Outline')\n",
    "Map.addLayer(ee.Image().paint(ee.Geometry.Point(point).buffer(30), 0, 1), {'palette': 'FFFF00'}, 'Center point')\n",
    "Map"
   ]
  },
  {
   "cell_type": "markdown",
   "id": "48695163-9bdf-46e6-8b2c-f963431b39bf",
   "metadata": {
    "tags": []
   },
   "source": [
    "---\n",
    "# 데이터 생성 및 전처리"
   ]
  },
  {
   "cell_type": "markdown",
   "id": "b4406dcc-dc99-40e3-9a91-77d5c546a3dd",
   "metadata": {},
   "source": [
    "## 위성사진 png 저장"
   ]
  },
  {
   "cell_type": "code",
   "execution_count": 13,
   "id": "ca88c693-3faa-45bc-9a2b-a8a647472601",
   "metadata": {
    "tags": []
   },
   "outputs": [],
   "source": [
    "''' 일자 및 폴더 지정 '''\n",
    "start_date = '2022-01-01'\n",
    "end_date = '2022-12-01'\n",
    "img_save_dir = f'{start_date}-{end_date}_Images'"
   ]
  },
  {
   "cell_type": "code",
   "execution_count": null,
   "id": "ee05c55b-19ad-4225-9b7c-efbb14405e58",
   "metadata": {
    "collapsed": true,
    "jupyter": {
     "outputs_hidden": true
    },
    "tags": []
   },
   "outputs": [],
   "source": [
    "''' 폴더 생성 '''\n",
    "if os.path.exists(img_save_dir):\n",
    "    shutil.rmtree(img_save_dir)\n",
    "os.makedirs(img_save_dir)\n",
    "\n",
    "''' 전체 관측일자 Image 저장 '''\n",
    "for location in loc_list:\n",
    "    point = coords_dict[f'{location}_coord']\n",
    "\n",
    "    images = (ee.ImageCollection(\"COPERNICUS/S2_SR_HARMONIZED\")\n",
    "           .select(['B2', 'B3', 'B4', 'B8', 'QA60'])\n",
    "           .filterDate(start_date, end_date)\n",
    "           .filterBounds(ee.Geometry.Point(point))\n",
    "           .filterMetadata('CLOUDY_PIXEL_PERCENTAGE', 'less_than', 10)\n",
    "           .map(addNDVI)\n",
    "           .map(maskS2clouds))\n",
    "    \n",
    "    vis = {'bands': ['B4', 'B3', 'B2'],\n",
    "       'min': 0,\n",
    "       'max': 3000,\n",
    "       'gamma':1.4  }\n",
    "    \n",
    "    size = images.size()\n",
    "    images_list = images.toList(size)\n",
    "    \n",
    "    for num in range(size.getInfo()):\n",
    "        targetImage = ee.Image(images_list.get(num)).clip(ee.Geometry.Point(point).buffer(500).bounds())\n",
    "        datetime = ee.Date(ee.Image(images_list.get(num)).get('system:time_start')).format().getInfo()\n",
    "        filename = f\"{img_save_dir}\\\\{location}_Images\\\\{location}_{datetime[:10]}.png\"\n",
    "        \n",
    "        for i in range(1, 5):\n",
    "            if not os.path.exists(filename):\n",
    "                filename = filename\n",
    "            elif os.path.exists(filename):\n",
    "                filename = f\"{img_save_dir}\\\\{location}_Images\\\\{location}_{datetime[:10]}({i}).png\"\n",
    "            \n",
    "        geemap.get_image_thumbnail(targetImage, filename, vis, dimensions=1000)\n",
    "        print(f\"{filename} 생성 완료.\")\n",
    "    print(f\"총 {size.getInfo()}개 Image 생성 완료.\", \"=\"*50, sep=\"\\n\")"
   ]
  },
  {
   "cell_type": "markdown",
   "id": "179d31b4-f20a-4b74-81c6-8425a2662831",
   "metadata": {},
   "source": [
    "## 시계열 테이블 전처리 및 저장"
   ]
  },
  {
   "cell_type": "code",
   "execution_count": 17,
   "id": "670acabf-3228-4328-a8fe-8ea80bdc4649",
   "metadata": {},
   "outputs": [],
   "source": [
    "''' FeatureCollection 생성 '''\n",
    "points = ee.FeatureCollection(table)"
   ]
  },
  {
   "cell_type": "code",
   "execution_count": 18,
   "id": "801c94ca-957b-4763-9a68-051dce4e0b33",
   "metadata": {},
   "outputs": [],
   "source": [
    "''' 일자 및 폴더 지정 '''\n",
    "start_date = '2022-01-01'\n",
    "end_date = '2022-12-01'\n",
    "csv_save_dir = f'{start_date}-{end_date}_Time-Series'"
   ]
  },
  {
   "cell_type": "code",
   "execution_count": null,
   "id": "7d151ed7-d5e7-49db-b593-e7697acaee95",
   "metadata": {
    "collapsed": true,
    "jupyter": {
     "outputs_hidden": true
    },
    "tags": []
   },
   "outputs": [],
   "source": [
    "''' 폴더 생성 '''\n",
    "if os.path.exists(csv_save_dir):\n",
    "    shutil.rmtree(csv_save_dir)\n",
    "os.makedirs(csv_save_dir)\n",
    "\n",
    "''' 지점별로 시계열 csv파일 생성, 전처리, 이후 활용할 df 생성 반복 '''\n",
    "for location in loc_list:\n",
    "    point = coords_dict[f'{location}_coord']\n",
    "    \n",
    "    images = (ee.ImageCollection(\"COPERNICUS/S2_SR_HARMONIZED\")\n",
    "           .select(['B2', 'B3', 'B4', 'B8', 'QA60'])\n",
    "           .filterDate(start_date, end_date)\n",
    "           .filterBounds(ee.Geometry.Point(point))\n",
    "           .filterMetadata('CLOUDY_PIXEL_PERCENTAGE', 'less_than', 10)\n",
    "           .map(addNDVI)\n",
    "           .map(maskS2clouds))\n",
    "\n",
    "    features = images.map(clipPoint).flatten()\n",
    "    \n",
    "    geemap.ee_to_csv(features, f'{csv_save_dir}\\\\temp.csv')\n",
    "    feature_df = pd.read_csv(f'{csv_save_dir}\\\\temp.csv', encoding='utf-8')\n",
    "    feature_df_cleaned = feature_df.reset_index().sort_values(by=['Location', 'index'])\n",
    "    feature_df_cleaned = feature_df_cleaned[['system:index', 'Location', 'BUFF_DIST', 'B2', 'B3', 'B4', 'B8', 'NDVI']].dropna() \n",
    "    feature_df_cleaned.rename(columns={'B2':'Blue', 'B3':'Green', 'B4':'Red', 'B8':'NIR'}, inplace=True)\n",
    "    feature_df_cleaned[['Blue', 'Green', 'Red', 'NIR']] *= 0.0001\n",
    "    feature_df_cleaned.rename(columns={'system:index':'DATE'}, inplace=True)\n",
    "    feature_df_cleaned['DATE'] = feature_df_cleaned['DATE'].apply(lambda x: f\"{x[:4]}-{x[4:6]}-{x[6:8]}\")\n",
    "\n",
    "    feature_df_cleaned.to_csv(f'{csv_save_dir}\\\\S2_{location}-{start_date}-{end_date}_timeseries.csv', encoding='utf-8', index=False)\n",
    "    globals()[f'{location}_df'] = feature_df_cleaned.copy()\n",
    "    \n",
    "os.remove(f'{csv_save_dir}\\\\temp.csv')"
   ]
  },
  {
   "cell_type": "code",
   "execution_count": 20,
   "id": "2e51a353-9fb7-4d62-80a0-de4a4310d5e5",
   "metadata": {},
   "outputs": [
    {
     "name": "stdout",
     "output_type": "stream",
     "text": [
      "<class 'pandas.core.frame.DataFrame'>\n",
      "Int64Index: 1056 entries, 0 to 863\n",
      "Data columns (total 8 columns):\n",
      " #   Column     Non-Null Count  Dtype  \n",
      "---  ------     --------------  -----  \n",
      " 0   DATE       1056 non-null   object \n",
      " 1   Location   1056 non-null   object \n",
      " 2   BUFF_DIST  1056 non-null   int64  \n",
      " 3   Blue       1056 non-null   float64\n",
      " 4   Green      1056 non-null   float64\n",
      " 5   Red        1056 non-null   float64\n",
      " 6   NIR        1056 non-null   float64\n",
      " 7   NDVI       1056 non-null   float64\n",
      "dtypes: float64(5), int64(1), object(2)\n",
      "memory usage: 74.2+ KB\n"
     ]
    }
   ],
   "source": [
    "''' 통합 df 생성 '''\n",
    "total_df = pd.concat([globals()[f'{location}_df'] for location in loc_list], axis=0)\n",
    "total_df.to_csv(f'{csv_save_dir}\\\\S2_TOTAL-{start_date}-{end_date}_timeseries.csv', encoding='utf-8', index=False)\n",
    "\n",
    "total_df.info()"
   ]
  },
  {
   "cell_type": "markdown",
   "id": "4158c5b2-47ee-4d3d-8f0e-46ee1415f4fa",
   "metadata": {},
   "source": [
    "---\n",
    "# 데이터 시각화"
   ]
  },
  {
   "cell_type": "markdown",
   "id": "22a9db38-fcff-4881-aa3f-8acd054d10e5",
   "metadata": {},
   "source": [
    "- 데이터 로드"
   ]
  },
  {
   "cell_type": "code",
   "execution_count": 21,
   "id": "8f035cb1-2537-4eda-b731-b3f12df74cc9",
   "metadata": {},
   "outputs": [],
   "source": [
    "total_df = pd.read_csv(f'{csv_save_dir}\\\\S2_TOTAL-{start_date}-{end_date}_timeseries.csv', encoding='utf-8')"
   ]
  },
  {
   "cell_type": "markdown",
   "id": "7ed6ce5f-0cbf-43dd-9a81-7ebc51afe6ea",
   "metadata": {
    "tags": []
   },
   "source": [
    "## 지역별 관측 개수 시각화"
   ]
  },
  {
   "cell_type": "code",
   "execution_count": null,
   "id": "e159658f-45cf-4521-8234-0f915dc80b52",
   "metadata": {},
   "outputs": [],
   "source": [
    "# 그래프에 한글 출력 시 사용\n",
    "\n",
    "font_path = \"C:/Windows/Fonts/NGULIM.TTF\"\n",
    "font = font_manager.FontProperties(fname=font_path).get_name()\n",
    "rc('font', family=font)"
   ]
  },
  {
   "cell_type": "code",
   "execution_count": null,
   "id": "c27d5eaf-e471-4682-b23a-1e7d9004344b",
   "metadata": {},
   "outputs": [],
   "source": [
    "counts = total_df['Location'].value_counts()/6\n",
    "\n",
    "plt.figure(figsize=(8, 8))\n",
    "plt.title('Observation number by Location')\n",
    "bars = plt.bar(counts.index, counts, width=0.4)\n",
    "plt.ylim(0, counts.max()*1.25) \n",
    "\n",
    "for bar in bars:\n",
    "    height = bar.get_height()\n",
    "    plt.text(bar.get_x() + bar.get_width()/2.0, \n",
    "             height, f'{height:.1f}', ha='center', va='bottom', size = 11)\n",
    "    \n",
    "plt.show()"
   ]
  },
  {
   "cell_type": "markdown",
   "id": "77781efd-65f0-4d70-afaa-b44fd1172abb",
   "metadata": {},
   "source": [
    "## 일별 테이블"
   ]
  },
  {
   "cell_type": "code",
   "execution_count": 23,
   "id": "2fbd632b-f5d7-47e3-abc3-a7049816dea1",
   "metadata": {
    "tags": []
   },
   "outputs": [
    {
     "data": {
      "application/vnd.jupyter.widget-view+json": {
       "model_id": "c9e414a3937842a6be0d9815a9eb286c",
       "version_major": 2,
       "version_minor": 0
      },
      "text/plain": [
       "interactive(children=(Dropdown(description='Location', options=('GBK', 'AMD', 'WD', 'HC', 'PYC', 'SC', 'JJ', '…"
      ]
     },
     "metadata": {},
     "output_type": "display_data"
    }
   ],
   "source": [
    "location = widgets.Dropdown(options=loc_list)\n",
    "date = widgets.Dropdown(options=total_df['DATE'][total_df['Location'] == location.value].drop_duplicates())\n",
    "\n",
    "def change_loc(*args):\n",
    "    date.options = total_df['DATE'][total_df['Location'] == location.value].drop_duplicates()\n",
    "\n",
    "location.observe(change_loc, 'value')\n",
    "\n",
    "@interact\n",
    "def showByDate( Location = location,\n",
    "                Date = date ):\n",
    "\n",
    "    return total_df.loc[(total_df.Location == Location) & (total_df.DATE == Date)]"
   ]
  },
  {
   "cell_type": "markdown",
   "id": "4f5d4ff5-4ebe-4750-8db9-478ab0dae604",
   "metadata": {},
   "source": [
    "## 일 / 밴드별 그래프"
   ]
  },
  {
   "cell_type": "markdown",
   "id": "b6fa4457-d1a5-4055-9093-58571e8f2f53",
   "metadata": {},
   "source": [
    "- 한 날짜에 관측 건수가 여러 건이 있어 중복되는 경우 평균으로 출력"
   ]
  },
  {
   "cell_type": "code",
   "execution_count": 24,
   "id": "cad73083-6405-4ad6-a1f9-eb9fff6a5228",
   "metadata": {},
   "outputs": [
    {
     "data": {
      "application/vnd.jupyter.widget-view+json": {
       "model_id": "d5c53ce37c05455a8dc448196f7d6572",
       "version_major": 2,
       "version_minor": 0
      },
      "text/plain": [
       "interactive(children=(Dropdown(description='Location', options=('GBK', 'AMD', 'WD', 'HC', 'PYC', 'SC', 'JJ', '…"
      ]
     },
     "metadata": {},
     "output_type": "display_data"
    }
   ],
   "source": [
    "location2 = widgets.Dropdown(options=loc_list)\n",
    "date2 = widgets.Dropdown(options=total_df['DATE'][total_df['Location'] == location2.value].drop_duplicates())\n",
    "\n",
    "def change_loc2(*args):\n",
    "    date2.options = total_df['DATE'][total_df['Location'] == location2.value].drop_duplicates()\n",
    "\n",
    "location2.observe(change_loc2, 'value')\n",
    "\n",
    "@interact\n",
    "def showByDateAndBand(Location = location2,\n",
    "                      Date = date2,\n",
    "                      Band = total_df.columns[-5:]\n",
    "                     ):\n",
    "    \n",
    "    colorDict = {\n",
    "        'Blue' : 'blue', \n",
    "       'Green' : 'green',\n",
    "          'Red': 'red',\n",
    "          'NIR': 'magenta',\n",
    "         'NDVI': 'skyblue'\n",
    "    }\n",
    "    \n",
    "    base = total_df[total_df['Location'] == Location].set_index(['BUFF_DIST'])\n",
    "    data = base[base['DATE'] == Date].loc[:, Band].groupby('BUFF_DIST').mean()\n",
    "    plt.figure(figsize=(9, 7))\n",
    "    plt.plot(data, color=colorDict[Band])\n",
    "    plt.xlabel('Buffer')\n",
    "    plt.ylabel('Value', rotation=0, labelpad=14)\n",
    "    plt.ylim(data.min() * 0.975, data.max() * 1.025)\n",
    "    plt.title(f'{Location} | {Date} | {Band}')\n",
    "    plt.grid(axis='y')\n",
    "    plt.show()\n",
    "    \n",
    "    for buff, value in zip(data.index, data.values):\n",
    "        print(f'{buff}M : {value:.7f}')"
   ]
  },
  {
   "cell_type": "markdown",
   "id": "272bf9b3-474b-441a-9bea-cf0a1ff25856",
   "metadata": {
    "tags": []
   },
   "source": [
    "## 전체 기간 지역별 평균 그래프"
   ]
  },
  {
   "cell_type": "code",
   "execution_count": 36,
   "id": "c49bee56-15a9-4177-a9f3-21c9e94184be",
   "metadata": {
    "tags": []
   },
   "outputs": [
    {
     "data": {
      "application/vnd.jupyter.widget-view+json": {
       "model_id": "dced96caebc04dfab01c02de7f0ea7b3",
       "version_major": 2,
       "version_minor": 0
      },
      "text/plain": [
       "interactive(children=(Dropdown(description='Location', options=('GBK', 'AMD', 'WD', 'HC', 'PYC', 'SC', 'JJ', '…"
      ]
     },
     "metadata": {},
     "output_type": "display_data"
    }
   ],
   "source": [
    "location3 = widgets.Dropdown(options=loc_list)\n",
    "\n",
    "@interact\n",
    "def showByLocationMean(Location = location3):\n",
    "    \n",
    "    location_df = total_df[total_df['Location'] == Location]\n",
    "    groupMean = location_df.drop(axis=1, columns=['Location' ,'BUFF_DIST']).groupby('DATE').mean()\n",
    "    \n",
    "    colorDict = {\n",
    "            'Blue' : 'blue', \n",
    "           'Green' : 'green',\n",
    "              'Red': 'red',\n",
    "              'NIR': 'magenta',\n",
    "             'NDVI': 'skyblue'\n",
    "        }\n",
    "\n",
    "    groupMean.iplot(kind='line', subplots=True, subplot_titles=True,\n",
    "                    title='Timeseries graph by Bands (Mean)', \n",
    "                    vertical_spacing=0.1, dimensions=(1150, 800),\n",
    "                    colors=colorDict)"
   ]
  },
  {
   "cell_type": "markdown",
   "id": "fb9e0570-7995-4f87-9ae2-4a64726c4923",
   "metadata": {
    "tags": [],
    "toc-hr-collapsed": true
   },
   "source": [
    "---\n",
    "# 미사용 코드"
   ]
  },
  {
   "cell_type": "markdown",
   "id": "7e201838-0f51-4429-bd9a-8c3dc1e9e8a0",
   "metadata": {},
   "source": [
    "### 날짜별 조회"
   ]
  },
  {
   "cell_type": "code",
   "execution_count": 27,
   "id": "feaa9929-54e1-4b46-acbf-8cf4efb2ef16",
   "metadata": {},
   "outputs": [
    {
     "data": {
      "text/plain": [
       "Index(['2022-01-07', '2022-01-17', '2022-02-06', '2022-02-11', '2022-03-03',\n",
       "       '2022-03-08', '2022-04-02', '2022-04-07', '2022-04-17', '2022-04-27'],\n",
       "      dtype='object')"
      ]
     },
     "execution_count": 27,
     "metadata": {},
     "output_type": "execute_result"
    }
   ],
   "source": [
    "valid_date = target_df['DATE'].value_counts().index\n",
    "valid_date"
   ]
  },
  {
   "cell_type": "markdown",
   "id": "89420a87-c9c4-4c6a-8fec-5664a3a222aa",
   "metadata": {
    "tags": []
   },
   "source": [
    "- targetDate 변수에 조회 날짜의 인덱스 입력\n",
    "-  targetBand 변수에 조회 밴드 입력"
   ]
  },
  {
   "cell_type": "code",
   "execution_count": 28,
   "id": "18eda079-b3ef-4f95-995c-e721c9d04f8a",
   "metadata": {},
   "outputs": [],
   "source": [
    "targetDate = valid_date[3]\n",
    "targetBand = 'NIR'"
   ]
  },
  {
   "cell_type": "code",
   "execution_count": 29,
   "id": "55784fd9-e2d6-429f-8afe-516001c11339",
   "metadata": {},
   "outputs": [
    {
     "data": {
      "text/plain": [
       "BUFF_DIST\n",
       "5     1361.126316\n",
       "10    1388.348214\n",
       "15    1423.828732\n",
       "20    1437.492594\n",
       "25    1440.307522\n",
       "30    1430.193318\n",
       "Name: NIR, dtype: float64"
      ]
     },
     "execution_count": 29,
     "metadata": {},
     "output_type": "execute_result"
    }
   ],
   "source": [
    "target_line = target_df[target_df['DATE'] == targetDate].set_index(['BUFF_DIST']).loc[:, targetBand].T\n",
    "target_line"
   ]
  },
  {
   "cell_type": "code",
   "execution_count": 32,
   "id": "bbfb132a-fc8d-43ba-8b86-5b10a2dd3fa9",
   "metadata": {},
   "outputs": [
    {
     "data": {
      "image/png": "[encoded data removed]",
      "text/plain": [
       "<Figure size 432x288 with 1 Axes>"
      ]
     },
     "metadata": {
      "needs_background": "light"
     },
     "output_type": "display_data"
    }
   ],
   "source": [
    "plt.plot(target_line, label = targetBand, marker='^')\n",
    "plt.xlabel('Buffer')\n",
    "plt.ylabel('Value', rotation=0, labelpad=14)\n",
    "plt.ylim(target_line.min() * 0.975, target_line.max() * 1.025)\n",
    "plt.title(f'{targetDate} : {targetBand}')\n",
    "plt.grid(axis='y')\n",
    "plt.show()"
   ]
  },
  {
   "cell_type": "markdown",
   "id": "f0f97a12-7c98-41c2-84df-dadf70777ed7",
   "metadata": {},
   "source": [
    "### 밴드별 전체 날짜 평균값 조회"
   ]
  },
  {
   "cell_type": "code",
   "execution_count": 33,
   "id": "40308b1a-c2a2-4d88-8800-39145c319563",
   "metadata": {},
   "outputs": [
    {
     "data": {
      "text/plain": [
       "BUFF_DIST\n",
       "5     0.669248\n",
       "10    0.672606\n",
       "15    0.675778\n",
       "20    0.676173\n",
       "25    0.672285\n",
       "30    0.665996\n",
       "Name: NDVI, dtype: float64"
      ]
     },
     "execution_count": 33,
     "metadata": {},
     "output_type": "execute_result"
    }
   ],
   "source": [
    "target_mean = target_df.groupby(['BUFF_DIST']).mean()\n",
    "target_mean.loc[:, 'NDVI'].T"
   ]
  },
  {
   "cell_type": "code",
   "execution_count": 204,
   "id": "71cce1ef-c966-40cb-9fd1-1d6bee33e20f",
   "metadata": {
    "tags": []
   },
   "outputs": [
    {
     "data": {
      "image/png": "[encoded data removed]",
      "text/plain": [
       "<Figure size 720x504 with 1 Axes>"
      ]
     },
     "metadata": {
      "needs_background": "light"
     },
     "output_type": "display_data"
    }
   ],
   "source": [
    "plt.rcParams['figure.figsize'] = (10, 7)\n",
    "\n",
    "fig, ax1 = plt.subplots()\n",
    "ax1.set_xlabel('Buffer', size=12)\n",
    "blueLine = ax1.plot(target_mean.loc[:, 'Blue'].T, marker='^', color='b', label='Blue')\n",
    "greenLine = ax1.plot(target_mean.loc[:, 'Green'].T, marker='^', color='g', label='Green')\n",
    "redLine = ax1.plot(target_mean.loc[:, 'Red'].T, marker='^', color='r', label='Red')\n",
    "NIRLine = ax1.plot(target_mean.loc[:, 'NIR'].T, marker='^', color='pink', label='NIR')\n",
    "\n",
    "\n",
    "# ax2 = ax1.twinx()\n",
    "# ax2.set_ylabel('Value', rotation=0, size=12, labelpad=25)\n",
    "# NDVILine = ax2.plot(target_mean.loc[:, 'NDVI'].T, marker='^', color='purple', label='NDVI')\n",
    "\n",
    "lines = blueLine + greenLine + redLine + NIRLine #+ NDVILine\n",
    "labels = [line.get_label() for line in lines]\n",
    "ax1.legend(lines, labels, loc='center left', bbox_to_anchor=(1.1, 0.1))\n",
    "plt.grid(axis='y')\n",
    "plt.show()"
   ]
  },
  {
   "cell_type": "markdown",
   "id": "238ba0aa-6805-4a64-b922-4d490d1714f6",
   "metadata": {},
   "source": [
    "- target 변수에 Location 코드 입력하여 진행"
   ]
  },
  {
   "cell_type": "code",
   "execution_count": null,
   "id": "fd95b303-9c2a-4da2-8e75-38b21f031b81",
   "metadata": {},
   "outputs": [],
   "source": [
    "print(target_list)"
   ]
  },
  {
   "cell_type": "markdown",
   "id": "5a0935fc-9927-4f61-9135-4e29838ec901",
   "metadata": {},
   "source": [
    "- TODO\n",
    "\n",
    "Date, Band, Buffer 별로 조회할 수 있는 위젯 플롯 만들기\n",
    "\n",
    "가능하면 Location도 추가"
   ]
  },
  {
   "cell_type": "code",
   "execution_count": 21,
   "id": "6acc019e-4f7e-4bb4-8c43-dfa458875bfb",
   "metadata": {
    "tags": []
   },
   "outputs": [
    {
     "data": {
      "application/vnd.jupyter.widget-view+json": {
       "model_id": "2bedb077bf3d45e9a40ba6c7b92afed1",
       "version_major": 2,
       "version_minor": 0
      },
      "text/plain": [
       "interactive(children=(Dropdown(description='Date', options=('2022-01-07', '2022-01-17', '2022-02-06', '2022-02…"
      ]
     },
     "metadata": {},
     "output_type": "display_data"
    }
   ],
   "source": [
    "@interact_manual\n",
    "def interactPlotting(Date=list(target_df['DATE'].drop_duplicates()),\n",
    "                     Band=list(target_df.columns[-5:]),\n",
    "                     Buffer=list(target_df['BUFF_DIST'].drop_duplicates())):\n",
    "    target_df.iplot(kind= 'line', x=target_df)"
   ]
  },
  {
   "cell_type": "markdown",
   "id": "bc5e9703-28d4-46d8-8861-5b87ef3705cb",
   "metadata": {
    "tags": []
   },
   "source": [
    "---\n",
    "# 메모"
   ]
  },
  {
   "cell_type": "markdown",
   "id": "b6163ff4-1c05-4d93-b7e7-1e7724f477c1",
   "metadata": {},
   "source": [
    "- 전체 지점 데이터를 한 번에 만드는 것보다 각 지점 데이터를 구한 다음, 합치는 것이 더 나은 점??\n",
    "    1. 어차피 각 지점으로 나눠야함\n",
    "    2. 불필요한 데이터가 들어오는 걸 방지 가능\n",
    "        - Geometry 변수 사용 시 범위 내 데이터가 있는 모든 날짜에서 각 Point를 추려내므로 데이터가 없는 날짜(row)가 너무 많음\n",
    "        "
   ]
  },
  {
   "cell_type": "code",
   "execution_count": null,
   "id": "cf3ee3d0-5312-4510-8d5d-ffb7ed65a3e2",
   "metadata": {},
   "outputs": [],
   "source": []
  }
 ],
 "metadata": {
  "kernelspec": {
   "display_name": "Python 3 (ipykernel)",
   "language": "python",
   "name": "python3"
  },
  "language_info": {
   "codemirror_mode": {
    "name": "ipython",
    "version": 3
   },
   "file_extension": ".py",
   "mimetype": "text/x-python",
   "name": "python",
   "nbconvert_exporter": "python",
   "pygments_lexer": "ipython3",
   "version": "3.9.12"
  },
  "toc-autonumbering": true
 },
 "nbformat": 4,
 "nbformat_minor": 5
}
