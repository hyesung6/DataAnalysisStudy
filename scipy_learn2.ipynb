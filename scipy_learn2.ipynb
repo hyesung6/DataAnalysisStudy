{
 "cells": [
  {
   "cell_type": "markdown",
   "id": "f01f790d-4f1c-4de1-bbbe-0affcd09bde6",
   "metadata": {},
   "source": [
    "베르누이분포와 이항분포\n",
    "\n",
    "베르누이분포와 이항분포는 가장 단순한 분포지만 분류문제에서 널리 사용된다.\n",
    "\n",
    "\n",
    "- 베르누이 시행\n",
    "  - 결과가 두 가지 중 하나로만 나오는 시행. 동전을 던져 앞면/뒷면이 나오게 하는 것.\n",
    "- 베르누이 확률변수\n",
    "  - 베르누이 시행 결과를 실수 0 또는 1로 바꾼 것. 모수로 $\\mu$를 갖는다. 1이 나올 확률 = $\\mu$\n",
    "- 베르누이 확률분포\n",
    "  - 베르누이 확률변수의 분포. 모수로 $\\mu$를 갖는다. 1이 나올 확률 = $\\mu$\n",
    "  - $X$ ~ $Bern(x; \\mu)$\n",
    "---"
   ]
  },
  {
   "cell_type": "code",
   "execution_count": 1,
   "id": "bb12785a-4e78-4bba-828f-623f179549bc",
   "metadata": {},
   "outputs": [],
   "source": [
    "import os\n",
    "import warnings\n",
    "warnings.simplefilter(action='ignore', category=FutureWarning)   # FutureWarning 제거\n",
    "\n",
    "import pandas as pd\n",
    "import numpy as np\n",
    "import math\n",
    "from scipy import stats\n",
    "\n",
    "import matplotlib.pyplot as plt\n",
    "import seaborn as sns\n",
    "%matplotlib inline\n",
    "\n",
    "font_family = 'Malgun Gothic'\n",
    "\n",
    "sns.set(font=font_family, rc={'axes.unicode_minus' : False})"
   ]
  },
  {
   "cell_type": "code",
   "execution_count": 2,
   "id": "0415405a-554c-447f-8510-52e8241880d1",
   "metadata": {},
   "outputs": [],
   "source": [
    "mu = 0.6\n",
    "rv = stats.bernoulli(mu)"
   ]
  },
  {
   "cell_type": "code",
   "execution_count": 5,
   "id": "e4d27816-749f-4a81-b700-e35ff76c662a",
   "metadata": {},
   "outputs": [
    {
     "data": {
      "image/png": "[encoded data removed]",
      "text/plain": [
       "<Figure size 432x288 with 1 Axes>"
      ]
     },
     "metadata": {},
     "output_type": "display_data"
    }
   ],
   "source": [
    "xx = [0, 1]\n",
    "pmf = rv.pmf(xx)\n",
    "plt.bar(xx, pmf)\n",
    "plt.show()"
   ]
  },
  {
   "cell_type": "code",
   "execution_count": 6,
   "id": "2040dd4b-071e-4515-8a6e-36730933433a",
   "metadata": {},
   "outputs": [
    {
     "data": {
      "text/plain": [
       "array([1, 0, 1, 1, 1, 0, 0, 1, 0, 1, 1, 0, 0, 0, 1, 1, 1, 1, 0, 1, 0, 1,\n",
       "       1, 1, 1, 0, 1, 0, 1, 0, 0, 1, 1, 0, 0, 0, 0, 0, 1, 1, 1, 0, 1, 0,\n",
       "       1, 1, 1, 1, 1, 1, 1, 0, 0, 1, 1, 1, 1, 1, 1, 1, 1, 0, 1, 1, 0, 1,\n",
       "       1, 1, 0, 0, 0, 1, 1, 0, 1, 0, 1, 1, 1, 0, 0, 0, 0, 1, 0, 0, 0, 1,\n",
       "       1, 1, 0, 1, 0, 0, 0, 1, 0, 0, 1, 0])"
      ]
     },
     "execution_count": 6,
     "metadata": {},
     "output_type": "execute_result"
    }
   ],
   "source": [
    "# 무작위 표본 100개 생성\n",
    "x = rv.rvs(100, random_state=12)\n",
    "x"
   ]
  },
  {
   "cell_type": "code",
   "execution_count": 15,
   "id": "bc05e8fe-794c-48f5-8dca-9c5217298388",
   "metadata": {},
   "outputs": [
    {
     "data": {
      "image/png": "[encoded data removed]",
      "text/plain": [
       "<Figure size 432x288 with 1 Axes>"
      ]
     },
     "metadata": {},
     "output_type": "display_data"
    }
   ],
   "source": [
    "# 집계도   ( countplot )\n",
    "sns.countplot(x)\n",
    "plt.title('베르누이 확률변수의 질량함수_무작위 표본 100회 시뮬레이션 결과')\n",
    "plt.xlabel('표본값')\n",
    "plt.ylim(0, 60)\n",
    "plt.show()"
   ]
  },
  {
   "cell_type": "code",
   "execution_count": 21,
   "id": "b2ad1722-2092-4474-876b-def5b83385a0",
   "metadata": {},
   "outputs": [
    {
     "data": {
      "text/html": [
       "<div>\n",
       "<style scoped>\n",
       "    .dataframe tbody tr th:only-of-type {\n",
       "        vertical-align: middle;\n",
       "    }\n",
       "\n",
       "    .dataframe tbody tr th {\n",
       "        vertical-align: top;\n",
       "    }\n",
       "\n",
       "    .dataframe thead th {\n",
       "        text-align: right;\n",
       "    }\n",
       "</style>\n",
       "<table border=\"1\" class=\"dataframe\">\n",
       "  <thead>\n",
       "    <tr style=\"text-align: right;\">\n",
       "      <th></th>\n",
       "      <th>이론</th>\n",
       "      <th>시뮬레이션</th>\n",
       "    </tr>\n",
       "  </thead>\n",
       "  <tbody>\n",
       "    <tr>\n",
       "      <th>0</th>\n",
       "      <td>0.4</td>\n",
       "      <td>0.43</td>\n",
       "    </tr>\n",
       "    <tr>\n",
       "      <th>1</th>\n",
       "      <td>0.6</td>\n",
       "      <td>0.57</td>\n",
       "    </tr>\n",
       "  </tbody>\n",
       "</table>\n",
       "</div>"
      ],
      "text/plain": [
       "    이론  시뮬레이션\n",
       "0  0.4   0.43\n",
       "1  0.6   0.57"
      ]
     },
     "execution_count": 21,
     "metadata": {},
     "output_type": "execute_result"
    }
   ],
   "source": [
    "y = np.bincount(x, minlength=2) / float(len(x))\n",
    "\n",
    "df = pd.DataFrame({'이론':pmf, '시뮬레이션':y})\n",
    "df.index = [0, 1]\n",
    "df"
   ]
  },
  {
   "cell_type": "code",
   "execution_count": 19,
   "id": "232ad9b1-e9f5-4e16-b144-a53776baea1b",
   "metadata": {},
   "outputs": [
    {
     "data": {
      "text/plain": [
       "array([43, 57], dtype=int64)"
      ]
     },
     "execution_count": 19,
     "metadata": {},
     "output_type": "execute_result"
    }
   ],
   "source": [
    "np.bincount(x, minlength=2)"
   ]
  },
  {
   "cell_type": "code",
   "execution_count": 20,
   "id": "73d3ec0d-de24-42d9-a4c8-ac94df73da27",
   "metadata": {},
   "outputs": [
    {
     "data": {
      "text/html": [
       "<div>\n",
       "<style scoped>\n",
       "    .dataframe tbody tr th:only-of-type {\n",
       "        vertical-align: middle;\n",
       "    }\n",
       "\n",
       "    .dataframe tbody tr th {\n",
       "        vertical-align: top;\n",
       "    }\n",
       "\n",
       "    .dataframe thead th {\n",
       "        text-align: right;\n",
       "    }\n",
       "</style>\n",
       "<table border=\"1\" class=\"dataframe\">\n",
       "  <thead>\n",
       "    <tr style=\"text-align: right;\">\n",
       "      <th></th>\n",
       "      <th>표본값</th>\n",
       "      <th>유형</th>\n",
       "      <th>비율</th>\n",
       "    </tr>\n",
       "  </thead>\n",
       "  <tbody>\n",
       "    <tr>\n",
       "      <th>0</th>\n",
       "      <td>0</td>\n",
       "      <td>이론</td>\n",
       "      <td>0.40</td>\n",
       "    </tr>\n",
       "    <tr>\n",
       "      <th>1</th>\n",
       "      <td>0</td>\n",
       "      <td>시뮬레이션</td>\n",
       "      <td>0.43</td>\n",
       "    </tr>\n",
       "    <tr>\n",
       "      <th>2</th>\n",
       "      <td>1</td>\n",
       "      <td>이론</td>\n",
       "      <td>0.60</td>\n",
       "    </tr>\n",
       "    <tr>\n",
       "      <th>3</th>\n",
       "      <td>1</td>\n",
       "      <td>시뮬레이션</td>\n",
       "      <td>0.57</td>\n",
       "    </tr>\n",
       "  </tbody>\n",
       "</table>\n",
       "</div>"
      ],
      "text/plain": [
       "   표본값     유형    비율\n",
       "0    0     이론  0.40\n",
       "1    0  시뮬레이션  0.43\n",
       "2    1     이론  0.60\n",
       "3    1  시뮬레이션  0.57"
      ]
     },
     "execution_count": 20,
     "metadata": {},
     "output_type": "execute_result"
    }
   ],
   "source": [
    "df2 = df.stack().reset_index()\n",
    "df2.columns = ['표본값', '유형', '비율']\n",
    "df2"
   ]
  },
  {
   "cell_type": "code",
   "execution_count": 23,
   "id": "4c73b4bb-de1c-40c5-acb2-30e031613217",
   "metadata": {},
   "outputs": [
    {
     "data": {
      "image/png": "[encoded data removed]",
      "text/plain": [
       "<Figure size 432x288 with 1 Axes>"
      ]
     },
     "metadata": {},
     "output_type": "display_data"
    }
   ],
   "source": [
    "sns.barplot(x='표본값', y='비율', hue='유형', data=df2)\n",
    "plt.title('베르누이분포의 이론적 분포와 시뮬레이션 분포')\n",
    "plt.show()"
   ]
  },
  {
   "cell_type": "code",
   "execution_count": 24,
   "id": "ee042bf8-5293-40ed-a95c-99e470fdf9f3",
   "metadata": {},
   "outputs": [],
   "source": [
    "# 연습문제\n",
    "# 베르누이 확률분포의 모수가 다음과 같을 경우 각각 표본을 생성한 후\n",
    "# 기댓값과 분산을 구하고 확률밀도함수와 비교한 바 플롯을 그려라.\n",
    "# 표본 개수 10개와 1000개인 경우 각각 계산할 것.\n",
    "\n",
    "mu1 = 0.5\n",
    "mu2 = 0.9\n",
    "\n",
    "rv1 = stats.bernoulli(mu1)\n",
    "rv2 = stats.bernoulli(mu2)\n",
    "\n",
    "xx = [0, 1]\n",
    "\n",
    "pmf1 = rv1.pmf(xx)\n",
    "pmf2 = rv2.pmf(xx)\n",
    "\n"
   ]
  },
  {
   "cell_type": "code",
   "execution_count": 25,
   "id": "c534c76e-5589-4480-9199-cb5e44c06982",
   "metadata": {
    "tags": []
   },
   "outputs": [],
   "source": [
    "rvs1 = rv1.rvs(size=10, random_state=42)\n",
    "rvs2 = rv2.rvs(size=10, random_state=42)"
   ]
  },
  {
   "cell_type": "code",
   "execution_count": 36,
   "id": "10833f46-a866-439a-9d37-fa5d1b68ef0f",
   "metadata": {
    "collapsed": true,
    "jupyter": {
     "outputs_hidden": true,
     "source_hidden": true
    },
    "tags": []
   },
   "outputs": [
    {
     "data": {
      "image/png": "[encoded data removed]",
      "text/plain": [
       "<Figure size 432x288 with 2 Axes>"
      ]
     },
     "metadata": {},
     "output_type": "display_data"
    }
   ],
   "source": [
    "plt.subplot(1, 2, 1)\n",
    "sns.countplot(rvs1)\n",
    "plt.title('$mu$=0.6')\n",
    "\n",
    "plt.subplot(1, 2, 2)\n",
    "sns.countplot(rvs2)\n",
    "plt.title('$mu$=0.9')\n",
    "plt.subplots_adjust(hspace=3, wspace=0.5)\n",
    "plt.show()"
   ]
  },
  {
   "cell_type": "code",
   "execution_count": 37,
   "id": "fd3a29e5-b2f0-4944-860d-69b6fe6ffe7c",
   "metadata": {
    "jupyter": {
     "source_hidden": true
    },
    "tags": []
   },
   "outputs": [],
   "source": [
    "rvs1_1000 = rv1.rvs(size=1000, random_state=42)\n",
    "rvs2_1000 = rv2.rvs(size=1000, random_state=42)"
   ]
  },
  {
   "cell_type": "code",
   "execution_count": 38,
   "id": "6722899c-2e63-4661-bbee-e44acddfa3cc",
   "metadata": {
    "collapsed": true,
    "jupyter": {
     "outputs_hidden": true,
     "source_hidden": true
    },
    "tags": []
   },
   "outputs": [
    {
     "data": {
      "image/png": "[encoded data removed]",
      "text/plain": [
       "<Figure size 432x288 with 2 Axes>"
      ]
     },
     "metadata": {},
     "output_type": "display_data"
    }
   ],
   "source": [
    "plt.subplot(1, 2, 1)\n",
    "sns.countplot(rvs1_1000)\n",
    "plt.title('$mu$=0.6')\n",
    "\n",
    "plt.subplot(1, 2, 2)\n",
    "sns.countplot(rvs2_1000)\n",
    "plt.title('$mu$=0.9')\n",
    "plt.subplots_adjust(hspace=3, wspace=0.5)\n",
    "plt.show()"
   ]
  },
  {
   "cell_type": "code",
   "execution_count": 45,
   "id": "d82b04a4-a098-4545-bc87-19bbd2c9898f",
   "metadata": {},
   "outputs": [
    {
     "name": "stdout",
     "output_type": "stream",
     "text": [
      "rvs1의 기댓값 : 0.6\n",
      "rvs2의 기댓값 : 0.9\n",
      "rvs1_1000의 기댓값 : 0.497\n",
      "rvs2_1000의 기댓값 : 0.9\n"
     ]
    }
   ],
   "source": [
    "# 기댓값 구하기\n",
    "print(f'rvs1의 기댓값 : {rvs1.mean()}')\n",
    "print(f'rvs2의 기댓값 : {rvs2.mean()}')\n",
    "print(f'rvs1_1000의 기댓값 : {rvs1_1000.mean()}')\n",
    "print(f'rvs2_1000의 기댓값 : {rvs2_1000.mean()}')"
   ]
  },
  {
   "cell_type": "code",
   "execution_count": 44,
   "id": "5e099cb8-eaaa-46e3-8923-0b6b8630538d",
   "metadata": {},
   "outputs": [
    {
     "name": "stdout",
     "output_type": "stream",
     "text": [
      "rvs1의 분산 : 0.24000000000000005\n",
      "rvs2의 분산 : 0.09000000000000001\n",
      "rvs1_1000의 분산 : 0.24999099999999994\n",
      "rvs2_1000의 분산 : 0.09\n"
     ]
    }
   ],
   "source": [
    "# 분산 구하기\n",
    "print(f'rvs1의 분산 : {rvs1.var()}')\n",
    "print(f'rvs2의 분산 : {rvs2.var()}')\n",
    "print(f'rvs1_1000의 분산 : {rvs1_1000.var()}')\n",
    "print(f'rvs2_1000의 분산 : {rvs2_1000.var()}')"
   ]
  },
  {
   "cell_type": "code",
   "execution_count": 48,
   "id": "f530a621-963b-4ab3-9f4f-3b0d467f4db5",
   "metadata": {},
   "outputs": [
    {
     "data": {
      "text/plain": [
       "DescribeResult(nobs=10, minmax=(0, 1), mean=0.6, variance=0.2666666666666667, skewness=-0.40824829046386274, kurtosis=-1.8333333333333335)"
      ]
     },
     "execution_count": 48,
     "metadata": {},
     "output_type": "execute_result"
    }
   ],
   "source": [
    "# stats.describe 명령으로 구하기\n",
    "stats.describe(rvs1)"
   ]
  },
  {
   "cell_type": "code",
   "execution_count": 50,
   "id": "fd03972f-6c8b-48c6-911c-e4b53d866881",
   "metadata": {},
   "outputs": [
    {
     "data": {
      "text/plain": [
       "표본 사이즈          10\n",
       "최소최대값       (0, 1)\n",
       "기댓값            0.6\n",
       "분산        0.266667\n",
       "왜도       -0.408248\n",
       "첨도       -1.833333\n",
       "dtype: object"
      ]
     },
     "execution_count": 50,
     "metadata": {},
     "output_type": "execute_result"
    }
   ],
   "source": [
    "pd.Series(stats.describe(rvs1), index=['표본 사이즈', '최소최대값', '기댓값', '분산', '왜도', '첨도'])"
   ]
  },
  {
   "cell_type": "code",
   "execution_count": 63,
   "id": "f463698f-fde2-41a6-b11c-4a4e4fcc86b1",
   "metadata": {},
   "outputs": [
    {
     "data": {
      "image/png": "[encoded data removed]",
      "text/plain": [
       "<Figure size 432x288 with 6 Axes>"
      ]
     },
     "metadata": {},
     "output_type": "display_data"
    }
   ],
   "source": [
    "# 비교 시각화\n",
    "plt.subplot(3, 2, 1)\n",
    "sns.countplot(pmf1)\n",
    "plt.title('before_Sampling_$mu$=0.6')\n",
    "plt.ylabel('확률')\n",
    "plt.xlabel('분포값')\n",
    "\n",
    "plt.subplot(3, 2, 2)\n",
    "sns.countplot(pmf2)\n",
    "plt.title('before_Sampling_$mu$=0.9')\n",
    "plt.ylabel('확률')\n",
    "plt.xlabel('분포값')\n",
    "\n",
    "plt.subplot(3, 2, 3)\n",
    "sns.countplot(rvs1)\n",
    "plt.title('after_Sampling_10_$mu$=0.6')\n",
    "plt.ylabel('확률')\n",
    "plt.xlabel('분포값')\n",
    "\n",
    "plt.subplot(3, 2, 4)\n",
    "sns.countplot(rvs2)\n",
    "plt.title('after_Sampling_10_$mu$=0.9')\n",
    "plt.ylabel('확률')\n",
    "plt.xlabel('분포값')\n",
    "\n",
    "plt.subplot(3, 2, 5)\n",
    "sns.countplot(rvs1_1000)\n",
    "plt.title('after_Sampling_1000_$mu$=0.6')\n",
    "plt.ylabel('확률')\n",
    "plt.xlabel('분포값')\n",
    "\n",
    "plt.subplot(3, 2, 6)\n",
    "sns.countplot(rvs2_1000)\n",
    "plt.title('after_Sampling_1000_$mu$=0.9')\n",
    "plt.ylabel('확률')\n",
    "plt.xlabel('분포값')\n",
    "\n",
    "plt.subplots_adjust(wspace=0.5, hspace=1.5, top=1.5)\n",
    "plt.show()"
   ]
  },
  {
   "cell_type": "markdown",
   "id": "3c5a5a9a-8925-4b55-a44e-c3fdd87d0823",
   "metadata": {},
   "source": [
    "- 이항분포\n",
    "  - 베르누이 시행을 N번 반복하여, N번 중 성공할 확률의 분포"
   ]
  },
  {
   "cell_type": "code",
   "execution_count": 64,
   "id": "e1f5f235-f62a-442f-b047-95c591da9595",
   "metadata": {},
   "outputs": [
    {
     "data": {
      "image/png": "[encoded data removed]",
      "text/plain": [
       "<Figure size 432x288 with 1 Axes>"
      ]
     },
     "metadata": {},
     "output_type": "display_data"
    }
   ],
   "source": [
    "N = 10   # 시행횟수\n",
    "mu = 0.6  # 기댓값\n",
    "rv = stats.binom(N, mu)\n",
    "xx = np.arange(N + 1)\n",
    "pmf = rv.pmf(xx)\n",
    "\n",
    "plt.bar(xx, pmf, align='center')\n",
    "plt.show()"
   ]
  },
  {
   "cell_type": "code",
   "execution_count": 77,
   "id": "ed652b65-91e0-4ca0-86d7-9502696b475f",
   "metadata": {},
   "outputs": [
    {
     "name": "stdout",
     "output_type": "stream",
     "text": [
      "pmf의 기댓값 : 0.09090909090909086\n"
     ]
    }
   ],
   "source": [
    "print(f'pmf의 기댓값 : {np.mean(pmf)}')"
   ]
  },
  {
   "cell_type": "code",
   "execution_count": 70,
   "id": "a699a5d5-f2aa-4f00-85ca-1b17272240b8",
   "metadata": {},
   "outputs": [
    {
     "data": {
      "text/plain": [
       "array([ 6,  5,  6,  6,  6,  5,  6,  4,  3,  6,  5,  6,  6,  4,  8,  8,  9,\n",
       "        5,  5,  4,  3,  5,  6,  5,  8,  5,  8,  4,  6,  6,  7,  5,  6,  6,\n",
       "        9,  6,  6,  6,  4,  5,  7,  6,  5,  8,  5,  5,  7,  8,  7,  7,  6,\n",
       "        6,  2,  8,  7,  8,  5,  7,  6,  7,  8,  8,  5,  8,  7,  7,  5,  8,\n",
       "        4,  8,  3,  6,  3,  6,  5,  9,  7,  8,  7,  8,  7,  6,  8,  5,  6,\n",
       "        7,  6,  8,  6,  4,  7,  5,  8,  5,  7,  7,  6,  9,  5, 10])"
      ]
     },
     "execution_count": 70,
     "metadata": {},
     "output_type": "execute_result"
    }
   ],
   "source": [
    "np.random.seed(0)\n",
    "x = rv.rvs(100)\n",
    "x"
   ]
  },
  {
   "cell_type": "code",
   "execution_count": 71,
   "id": "c61efcbb-b7bb-4711-a9ca-99c3479d779f",
   "metadata": {},
   "outputs": [
    {
     "data": {
      "image/png": "[encoded data removed]",
      "text/plain": [
       "<Figure size 432x288 with 1 Axes>"
      ]
     },
     "metadata": {},
     "output_type": "display_data"
    }
   ],
   "source": [
    "sns.countplot(x)\n",
    "plt.title('이항분포의 시뮬레이션 결과')\n",
    "plt.xlabel('표본값')\n",
    "plt.show()"
   ]
  },
  {
   "cell_type": "code",
   "execution_count": 72,
   "id": "ff350618-d717-4097-81d4-551c89a266b3",
   "metadata": {},
   "outputs": [
    {
     "data": {
      "text/html": [
       "<div>\n",
       "<style scoped>\n",
       "    .dataframe tbody tr th:only-of-type {\n",
       "        vertical-align: middle;\n",
       "    }\n",
       "\n",
       "    .dataframe tbody tr th {\n",
       "        vertical-align: top;\n",
       "    }\n",
       "\n",
       "    .dataframe thead th {\n",
       "        text-align: right;\n",
       "    }\n",
       "</style>\n",
       "<table border=\"1\" class=\"dataframe\">\n",
       "  <thead>\n",
       "    <tr style=\"text-align: right;\">\n",
       "      <th></th>\n",
       "      <th>표본값</th>\n",
       "      <th>유형</th>\n",
       "      <th>비율</th>\n",
       "    </tr>\n",
       "  </thead>\n",
       "  <tbody>\n",
       "    <tr>\n",
       "      <th>0</th>\n",
       "      <td>0</td>\n",
       "      <td>이론</td>\n",
       "      <td>0.000105</td>\n",
       "    </tr>\n",
       "    <tr>\n",
       "      <th>1</th>\n",
       "      <td>0</td>\n",
       "      <td>시뮬레이션</td>\n",
       "      <td>0.000000</td>\n",
       "    </tr>\n",
       "    <tr>\n",
       "      <th>2</th>\n",
       "      <td>1</td>\n",
       "      <td>이론</td>\n",
       "      <td>0.001573</td>\n",
       "    </tr>\n",
       "    <tr>\n",
       "      <th>3</th>\n",
       "      <td>1</td>\n",
       "      <td>시뮬레이션</td>\n",
       "      <td>0.000000</td>\n",
       "    </tr>\n",
       "    <tr>\n",
       "      <th>4</th>\n",
       "      <td>2</td>\n",
       "      <td>이론</td>\n",
       "      <td>0.010617</td>\n",
       "    </tr>\n",
       "    <tr>\n",
       "      <th>5</th>\n",
       "      <td>2</td>\n",
       "      <td>시뮬레이션</td>\n",
       "      <td>0.010000</td>\n",
       "    </tr>\n",
       "    <tr>\n",
       "      <th>6</th>\n",
       "      <td>3</td>\n",
       "      <td>이론</td>\n",
       "      <td>0.042467</td>\n",
       "    </tr>\n",
       "    <tr>\n",
       "      <th>7</th>\n",
       "      <td>3</td>\n",
       "      <td>시뮬레이션</td>\n",
       "      <td>0.040000</td>\n",
       "    </tr>\n",
       "    <tr>\n",
       "      <th>8</th>\n",
       "      <td>4</td>\n",
       "      <td>이론</td>\n",
       "      <td>0.111477</td>\n",
       "    </tr>\n",
       "    <tr>\n",
       "      <th>9</th>\n",
       "      <td>4</td>\n",
       "      <td>시뮬레이션</td>\n",
       "      <td>0.070000</td>\n",
       "    </tr>\n",
       "    <tr>\n",
       "      <th>10</th>\n",
       "      <td>5</td>\n",
       "      <td>이론</td>\n",
       "      <td>0.200658</td>\n",
       "    </tr>\n",
       "    <tr>\n",
       "      <th>11</th>\n",
       "      <td>5</td>\n",
       "      <td>시뮬레이션</td>\n",
       "      <td>0.210000</td>\n",
       "    </tr>\n",
       "    <tr>\n",
       "      <th>12</th>\n",
       "      <td>6</td>\n",
       "      <td>이론</td>\n",
       "      <td>0.250823</td>\n",
       "    </tr>\n",
       "    <tr>\n",
       "      <th>13</th>\n",
       "      <td>6</td>\n",
       "      <td>시뮬레이션</td>\n",
       "      <td>0.270000</td>\n",
       "    </tr>\n",
       "    <tr>\n",
       "      <th>14</th>\n",
       "      <td>7</td>\n",
       "      <td>이론</td>\n",
       "      <td>0.214991</td>\n",
       "    </tr>\n",
       "    <tr>\n",
       "      <th>15</th>\n",
       "      <td>7</td>\n",
       "      <td>시뮬레이션</td>\n",
       "      <td>0.170000</td>\n",
       "    </tr>\n",
       "    <tr>\n",
       "      <th>16</th>\n",
       "      <td>8</td>\n",
       "      <td>이론</td>\n",
       "      <td>0.120932</td>\n",
       "    </tr>\n",
       "    <tr>\n",
       "      <th>17</th>\n",
       "      <td>8</td>\n",
       "      <td>시뮬레이션</td>\n",
       "      <td>0.180000</td>\n",
       "    </tr>\n",
       "    <tr>\n",
       "      <th>18</th>\n",
       "      <td>9</td>\n",
       "      <td>이론</td>\n",
       "      <td>0.040311</td>\n",
       "    </tr>\n",
       "    <tr>\n",
       "      <th>19</th>\n",
       "      <td>9</td>\n",
       "      <td>시뮬레이션</td>\n",
       "      <td>0.040000</td>\n",
       "    </tr>\n",
       "    <tr>\n",
       "      <th>20</th>\n",
       "      <td>10</td>\n",
       "      <td>이론</td>\n",
       "      <td>0.006047</td>\n",
       "    </tr>\n",
       "    <tr>\n",
       "      <th>21</th>\n",
       "      <td>10</td>\n",
       "      <td>시뮬레이션</td>\n",
       "      <td>0.010000</td>\n",
       "    </tr>\n",
       "  </tbody>\n",
       "</table>\n",
       "</div>"
      ],
      "text/plain": [
       "    표본값     유형        비율\n",
       "0     0     이론  0.000105\n",
       "1     0  시뮬레이션  0.000000\n",
       "2     1     이론  0.001573\n",
       "3     1  시뮬레이션  0.000000\n",
       "4     2     이론  0.010617\n",
       "5     2  시뮬레이션  0.010000\n",
       "6     3     이론  0.042467\n",
       "7     3  시뮬레이션  0.040000\n",
       "8     4     이론  0.111477\n",
       "9     4  시뮬레이션  0.070000\n",
       "10    5     이론  0.200658\n",
       "11    5  시뮬레이션  0.210000\n",
       "12    6     이론  0.250823\n",
       "13    6  시뮬레이션  0.270000\n",
       "14    7     이론  0.214991\n",
       "15    7  시뮬레이션  0.170000\n",
       "16    8     이론  0.120932\n",
       "17    8  시뮬레이션  0.180000\n",
       "18    9     이론  0.040311\n",
       "19    9  시뮬레이션  0.040000\n",
       "20   10     이론  0.006047\n",
       "21   10  시뮬레이션  0.010000"
      ]
     },
     "execution_count": 72,
     "metadata": {},
     "output_type": "execute_result"
    }
   ],
   "source": [
    "y = np.bincount(x, minlength=N+1) / float(len(x))  # 비율 계산\n",
    "df = pd.DataFrame({'이론': pmf, '시뮬레이션': y}).stack()\n",
    "df = df.reset_index()\n",
    "df.columns = ['표본값', '유형', '비율']\n",
    "df.pivot('표본값', '유형', '비율')\n",
    "df"
   ]
  },
  {
   "cell_type": "code",
   "execution_count": 78,
   "id": "c857ffa0-69bd-401e-9ece-42460f898448",
   "metadata": {},
   "outputs": [
    {
     "data": {
      "image/png": "[encoded data removed]",
      "text/plain": [
       "<Figure size 432x288 with 1 Axes>"
      ]
     },
     "metadata": {},
     "output_type": "display_data"
    }
   ],
   "source": [
    "sns.barplot(x='표본값', y='비율', hue='유형', data=df)\n",
    "plt.title('이항분포의 이론적 분포와 시뮬레이션 분포')\n",
    "plt.show()"
   ]
  },
  {
   "cell_type": "markdown",
   "id": "2decf10f-9e73-45cf-95cc-c4280d324fea",
   "metadata": {},
   "source": [
    "- 이항분포의 기댓값은 $N\\mu$이다.\n",
    "- ( 시행횟수 * 모집단의 기댓값 )"
   ]
  },
  {
   "cell_type": "code",
   "execution_count": 80,
   "id": "d857005c-47d4-4dda-ad14-91d77618de1c",
   "metadata": {},
   "outputs": [],
   "source": [
    "N1 = 5\n",
    "N2 = 20\n",
    "mu1 = 0.5\n",
    "mu2 = 0.9\n",
    "rv1 = stats.binom(N1, mu1)\n",
    "rv2 = stats.binom(N2, mu2)\n",
    "x1 = np.arange(N1 + 1)\n",
    "x2 = np.arange(N2 + 1)\n",
    "\n",
    "pmf1 = rv1.pmf(x1)\n",
    "pmf2 = rv2.pmf(x2)\n",
    "\n",
    "rvs1_10 = rv1.rvs(size=10, random_state=8)\n",
    "rvs2_10 = rv2.rvs(size=10, random_state=8)\n",
    "rvs1_1000 = rv1.rvs(size=1000, random_state=8)\n",
    "rvs2_1000 = rv2.rvs(size=1000, random_state=8)"
   ]
  },
  {
   "cell_type": "code",
   "execution_count": 81,
   "id": "82d48295-0cee-4a27-888f-05b98e962010",
   "metadata": {
    "tags": []
   },
   "outputs": [
    {
     "data": {
      "text/plain": [
       "<AxesSubplot:ylabel='count'>"
      ]
     },
     "execution_count": 81,
     "metadata": {},
     "output_type": "execute_result"
    },
    {
     "data": {
      "image/png": "[encoded data removed]",
      "text/plain": [
       "<Figure size 432x288 with 1 Axes>"
      ]
     },
     "metadata": {},
     "output_type": "display_data"
    }
   ],
   "source": [
    "sns.countplot(rvs1_10)"
   ]
  },
  {
   "cell_type": "code",
   "execution_count": 84,
   "id": "c9b561a4-7d43-4a4f-88ff-6dfcefbf83b3",
   "metadata": {},
   "outputs": [
    {
     "data": {
      "image/png": "[encoded data removed]",
      "text/plain": [
       "<Figure size 432x288 with 6 Axes>"
      ]
     },
     "metadata": {},
     "output_type": "display_data"
    }
   ],
   "source": [
    "plt.subplot(3, 2, 1)\n",
    "sns.countplot(pmf1)\n",
    "\n",
    "plt.subplot(3, 2, 2)\n",
    "sns.countplot(pmf2)\n",
    "\n",
    "plt.subplot(3, 2, 3)\n",
    "sns.countplot(rvs1_10)\n",
    "\n",
    "plt.subplot(3, 2, 4)\n",
    "sns.countplot(rvs2_10)\n",
    "\n",
    "plt.subplot(3, 2, 5)\n",
    "sns.countplot(rvs1_1000)\n",
    "\n",
    "plt.subplot(3, 2, 6)\n",
    "sns.countplot(rvs2_1000)\n",
    "\n",
    "plt.subplots_adjust(wspace=2, hspace=2)\n",
    "plt.show()\n",
    "\n",
    "\n",
    "## countplot은 사이즈가 많아질수록 그림이 망가진다.."
   ]
  },
  {
   "cell_type": "code",
   "execution_count": 111,
   "id": "12097ef1-f135-4920-bdbc-3c11df7e447e",
   "metadata": {},
   "outputs": [],
   "source": [
    "cdf1 = rv1.cdf(x1)\n",
    "cdf2 = rv2.cdf(x2)"
   ]
  },
  {
   "cell_type": "code",
   "execution_count": 119,
   "id": "11b43d3a-b9d5-4bb0-bfae-75d0d65566ea",
   "metadata": {},
   "outputs": [
    {
     "name": "stdout",
     "output_type": "stream",
     "text": [
      "rv1의 기댓값 = 0.6, 시행횟수 = 5\n",
      "rv1의 누적분포함수 : 0.5833333333333334\n",
      "rv2의 기댓값 = 0.9, 시행횟수 = 20\n",
      "rv2의 누적분포함수 : 0.14285714285714285\n"
     ]
    }
   ],
   "source": [
    "print(f'rv1의 기댓값 = 0.6, 시행횟수 = 5')\n",
    "print(f'rv1의 누적분포함수 : {cdf1.mean()}')\n",
    "print(f'rv2의 기댓값 = 0.9, 시행횟수 = 20')\n",
    "print(f'rv2의 누적분포함수 : {cdf2.mean()}')"
   ]
  },
  {
   "cell_type": "code",
   "execution_count": null,
   "id": "430574fa-03e6-4433-81f5-5c753a0e3504",
   "metadata": {},
   "outputs": [],
   "source": []
  }
 ],
 "metadata": {
  "kernelspec": {
   "display_name": "Python 3 (ipykernel)",
   "language": "python",
   "name": "python3"
  },
  "language_info": {
   "codemirror_mode": {
    "name": "ipython",
    "version": 3
   },
   "file_extension": ".py",
   "mimetype": "text/x-python",
   "name": "python",
   "nbconvert_exporter": "python",
   "pygments_lexer": "ipython3",
   "version": "3.9.12"
  }
 },
 "nbformat": 4,
 "nbformat_minor": 5
}
