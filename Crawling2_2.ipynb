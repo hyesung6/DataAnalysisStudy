{
 "cells": [
  {
   "cell_type": "markdown",
   "id": "80f51815-0ee3-4ea0-8990-061b8098ca2e",
   "metadata": {},
   "source": [
    "# python_crawler_3"
   ]
  },
  {
   "cell_type": "code",
   "execution_count": 1,
   "id": "48b5ac45-b938-4b46-8507-c6c8d4b7d6e3",
   "metadata": {},
   "outputs": [],
   "source": [
    "import requests\n",
    "import lxml.html"
   ]
  },
  {
   "cell_type": "code",
   "execution_count": 5,
   "id": "fc71a6e8-888f-4a00-92ae-9806e158e5f2",
   "metadata": {},
   "outputs": [],
   "source": [
    "def main():\n",
    "    '''\n",
    "    크롤러의 메인 처리\n",
    "    '''\n",
    "    # 여러 페이지에서 크롤링을 위해 Session 사용\n",
    "    session = requests.Session()\n",
    "    # scrape_list_page() 함수를 호출해서 제너레이터를 추출\n",
    "    response = session.get('http://www.hanbit.co.kr/store/books/new_book_list.html')\n",
    "    urls = scrape_list_page(response)\n",
    "    # 제너레이터는 list처럼 사용 가능\n",
    "    for url in urls:\n",
    "        print(url)\n",
    "        print('-'*70)"
   ]
  },
  {
   "cell_type": "code",
   "execution_count": 8,
   "id": "c61b49a1-26e1-4867-b136-e8b5956fe271",
   "metadata": {},
   "outputs": [],
   "source": [
    "def scrape_list_page(response):\n",
    "    root = lxml.html.fromstring(response.content)\n",
    "    root.make_links_absolute(response.url)\n",
    "    for a in root.cssselect('.view_box .book_tit a'):\n",
    "        url = a.get('href')\n",
    "        # yield 구문으로 제너레이터의 요소 반환\n",
    "        yield url"
   ]
  },
  {
   "cell_type": "code",
   "execution_count": 9,
   "id": "dca0531e-b707-40fb-a740-8c9eef69dfec",
   "metadata": {},
   "outputs": [
    {
     "name": "stdout",
     "output_type": "stream",
     "text": [
      "https://www.hanbit.co.kr/store/books/look.php?p_code=B3178834938\n",
      "----------------------------------------------------------------------\n",
      "https://www.hanbit.co.kr/store/books/look.php?p_code=B6084607806\n",
      "----------------------------------------------------------------------\n",
      "https://www.hanbit.co.kr/store/books/look.php?p_code=B8948111854\n",
      "----------------------------------------------------------------------\n",
      "https://www.hanbit.co.kr/store/books/look.php?p_code=B8661740335\n",
      "----------------------------------------------------------------------\n",
      "https://www.hanbit.co.kr/store/books/look.php?p_code=B1382037871\n",
      "----------------------------------------------------------------------\n",
      "https://www.hanbit.co.kr/store/books/look.php?p_code=B2847674054\n",
      "----------------------------------------------------------------------\n",
      "https://www.hanbit.co.kr/store/books/look.php?p_code=B4162156367\n",
      "----------------------------------------------------------------------\n",
      "https://www.hanbit.co.kr/store/books/look.php?p_code=B5156679966\n",
      "----------------------------------------------------------------------\n",
      "https://www.hanbit.co.kr/store/books/look.php?p_code=B6189263297\n",
      "----------------------------------------------------------------------\n",
      "https://www.hanbit.co.kr/store/books/look.php?p_code=B4813114979\n",
      "----------------------------------------------------------------------\n",
      "https://www.hanbit.co.kr/store/books/look.php?p_code=B8806843023\n",
      "----------------------------------------------------------------------\n",
      "https://www.hanbit.co.kr/store/books/look.php?p_code=B2859439220\n",
      "----------------------------------------------------------------------\n",
      "https://www.hanbit.co.kr/store/books/look.php?p_code=B1996635146\n",
      "----------------------------------------------------------------------\n",
      "https://www.hanbit.co.kr/store/books/look.php?p_code=B9063949643\n",
      "----------------------------------------------------------------------\n",
      "https://www.hanbit.co.kr/store/books/look.php?p_code=B7400451696\n",
      "----------------------------------------------------------------------\n",
      "https://www.hanbit.co.kr/store/books/look.php?p_code=B6129400746\n",
      "----------------------------------------------------------------------\n",
      "https://www.hanbit.co.kr/store/books/look.php?p_code=B7738896383\n",
      "----------------------------------------------------------------------\n",
      "https://www.hanbit.co.kr/store/books/look.php?p_code=B4354575770\n",
      "----------------------------------------------------------------------\n",
      "https://www.hanbit.co.kr/store/books/look.php?p_code=B1959656080\n",
      "----------------------------------------------------------------------\n",
      "https://www.hanbit.co.kr/store/books/look.php?p_code=B5171715268\n",
      "----------------------------------------------------------------------\n"
     ]
    }
   ],
   "source": [
    "if __name__ == '__main__':\n",
    "    main()"
   ]
  },
  {
   "cell_type": "markdown",
   "id": "a8a904df-84ba-453c-90c4-3f34541c0a12",
   "metadata": {},
   "source": [
    "---\n",
    "# python_crawler_4"
   ]
  },
  {
   "cell_type": "code",
   "execution_count": 1,
   "id": "b080e7f3-793b-4ed8-aa98-53bc57ee93d5",
   "metadata": {},
   "outputs": [],
   "source": [
    "import requests\n",
    "import lxml.html"
   ]
  },
  {
   "cell_type": "code",
   "execution_count": 13,
   "id": "ab1beb60-2ab8-4c31-88c4-8ed75c57ccf8",
   "metadata": {},
   "outputs": [],
   "source": [
    "def main():\n",
    "    '''\n",
    "    크롤러의 메인 처리\n",
    "    '''\n",
    "    # 여러 페이지에서 크롤링을 위해 Session 사용\n",
    "    session = requests.Session()\n",
    "    # scrape_list_page() 함수를 호출해서 제너레이터를 추출\n",
    "    response = session.get('http://www.hanbit.co.kr/store/books/new_book_list.html')\n",
    "    urls = scrape_list_page(response)\n",
    "    # 제너레이터는 list처럼 사용 가능\n",
    "    for url in urls:\n",
    "        response = session.get(url)       # session을 사용해 상세 페이지 추출\n",
    "        ebook = scrape_detail_page(response)      # 상세 페이지에서 상세 정보 추출\n",
    "        print(ebook)\n",
    "        break"
   ]
  },
  {
   "cell_type": "code",
   "execution_count": 14,
   "id": "70c34e65-c54c-481c-9aeb-9406334a7a08",
   "metadata": {},
   "outputs": [],
   "source": [
    "def scrape_list_page(response):\n",
    "    root = lxml.html.fromstring(response.content)\n",
    "    root.make_links_absolute(response.url)\n",
    "    for a in root.cssselect('.view_box .book_tit a'):\n",
    "        url = a.get('href')\n",
    "        yield url"
   ]
  },
  {
   "cell_type": "code",
   "execution_count": 18,
   "id": "ab5d85f4-99c2-4dca-b8cc-7eedb2ab49d9",
   "metadata": {},
   "outputs": [],
   "source": [
    "def scrape_detail_page(response):\n",
    "    '''\n",
    "    상세 페이지의 Response에서 책 정보를 dict로 추출\n",
    "    '''\n",
    "    root = lxml.html.fromstring(response.content)\n",
    "    ebook = {\n",
    "        'url':response.url,\n",
    "        'title':root.cssselect('.store_product_info_box h3')[0].text_content(),\n",
    "        'price':root.cssselect('.pbr strong')[0].text_content(),\n",
    "        'content':[p.text_content()\\\n",
    "                   for p in root.cssselect('#tabs_3 .hanbit_edit_view p')]\n",
    "    }\n",
    "    return ebook"
   ]
  },
  {
   "cell_type": "code",
   "execution_count": 20,
   "id": "ff954374-e462-4e38-b6de-2e6ed4edee9d",
   "metadata": {},
   "outputs": [
    {
     "name": "stdout",
     "output_type": "stream",
     "text": [
      "{'url': 'https://www.hanbit.co.kr/store/books/look.php?p_code=B3178834938', 'title': '받침 없는 한글 동화 : 4권 세트', 'price': '49,680', 'content': ['', '\\r\\n\\t\\t<1편>\\r\\n', '이렇게 읽어요', '1. 무시무시 마녀가 이사 와!', '2. 아기 고래 뿌우의 노래', '\\xa0', '\\r\\n\\t\\t<2편>\\r\\n', '이렇게 읽어요', '1. 도, 도, 도깨비다!', '2. 느티나무 아파트', '\\xa0', '\\r\\n\\t\\t<3편>\\r\\n', '이렇게 읽어요', '1. 바쁘다 바빠 너구리 바빠', '2. 꼬마 지우개 마구마구', '\\xa0', '\\r\\n\\t\\t<4편>\\r\\n', '이렇게 읽어요', '1. 도깨비 파자마 파티', '2. 꼬마 두루미 뚜루']}\n"
     ]
    }
   ],
   "source": [
    "if __name__ == '__main__':\n",
    "    main()"
   ]
  },
  {
   "cell_type": "markdown",
   "id": "c62df91f-fa72-41dc-acb1-48ba3b63161e",
   "metadata": {
    "tags": []
   },
   "source": [
    "---\n",
    "# python_crawler_5"
   ]
  },
  {
   "cell_type": "code",
   "execution_count": 21,
   "id": "81677c5e-8316-469b-9409-4acb2bb1448f",
   "metadata": {
    "tags": []
   },
   "outputs": [],
   "source": [
    "import requests\n",
    "import lxml.html\n",
    "import re"
   ]
  },
  {
   "cell_type": "code",
   "execution_count": 26,
   "id": "e40af877-9386-4afd-bb89-9f1b3bf39d6c",
   "metadata": {
    "tags": []
   },
   "outputs": [],
   "source": [
    "def main():\n",
    "    session = requests.Session()\n",
    "    response = session.get('http://www.hanbit.co.kr/store/books/new_book_list.html')\n",
    "    urls = scrape_list_page(response)\n",
    "    for url in urls:\n",
    "        response = session.get(url)\n",
    "        ebook = scrape_detail_page(response)\n",
    "        print(ebook)\n",
    "        break"
   ]
  },
  {
   "cell_type": "code",
   "execution_count": 27,
   "id": "fca6b2c3-b98b-4c5c-aef6-7a04d03fa9af",
   "metadata": {
    "tags": []
   },
   "outputs": [],
   "source": [
    "def scrape_list_page(response):\n",
    "    root = lxml.html.fromstring(response.content)\n",
    "    root.make_links_absolute(response.url)\n",
    "    for a in root.cssselect('.view_box .book_tit a'):\n",
    "        url = a.get('href')\n",
    "        yield url"
   ]
  },
  {
   "cell_type": "code",
   "execution_count": 28,
   "id": "b2ac5af3-ad05-4095-bb80-48062f4713a1",
   "metadata": {
    "tags": []
   },
   "outputs": [],
   "source": [
    "def scrape_detail_page(response):\n",
    "    '''\n",
    "    상세 페이지의 Response에서 책 정보를 dict로 추출\n",
    "    '''\n",
    "    root = lxml.html.fromstring(response.content)\n",
    "    ebook = {\n",
    "        'url':response.url,\n",
    "        'title':root.cssselect('.store_product_info_box h3')[0].text_content(),\n",
    "        'price':root.cssselect('.pbr strong')[0].text_content(),\n",
    "        'content':[p.text_content()\\\n",
    "                   for p in root.cssselect('#tabs_3 .hanbit_edit_view p')]\n",
    "    }\n",
    "    return ebook"
   ]
  },
  {
   "cell_type": "code",
   "execution_count": 29,
   "id": "d999b482-403a-42d6-923c-026cd8c73cca",
   "metadata": {
    "tags": []
   },
   "outputs": [],
   "source": [
    "def normalize_spaces(s):\n",
    "    '''\n",
    "    연결된 공백을 하나의 공백으로 변경\n",
    "    '''\n",
    "    return re.sub(r'\\s+', ' ', s).strip()"
   ]
  },
  {
   "cell_type": "code",
   "execution_count": 30,
   "id": "d72621d4-ee26-4f4b-8b55-38dfe7b91712",
   "metadata": {
    "tags": []
   },
   "outputs": [
    {
     "name": "stdout",
     "output_type": "stream",
     "text": [
      "{'url': 'https://www.hanbit.co.kr/store/books/look.php?p_code=B3178834938', 'title': '받침 없는 한글 동화 : 4권 세트', 'price': '49,680', 'content': ['', '\\r\\n\\t\\t<1편>\\r\\n', '이렇게 읽어요', '1. 무시무시 마녀가 이사 와!', '2. 아기 고래 뿌우의 노래', '\\xa0', '\\r\\n\\t\\t<2편>\\r\\n', '이렇게 읽어요', '1. 도, 도, 도깨비다!', '2. 느티나무 아파트', '\\xa0', '\\r\\n\\t\\t<3편>\\r\\n', '이렇게 읽어요', '1. 바쁘다 바빠 너구리 바빠', '2. 꼬마 지우개 마구마구', '\\xa0', '\\r\\n\\t\\t<4편>\\r\\n', '이렇게 읽어요', '1. 도깨비 파자마 파티', '2. 꼬마 두루미 뚜루']}\n"
     ]
    }
   ],
   "source": [
    "if __name__ == '__main__':\n",
    "    main()"
   ]
  },
  {
   "cell_type": "markdown",
   "id": "e3ddd27c-715c-4bc9-8135-2d7b12b02b2a",
   "metadata": {},
   "source": [
    "---\n",
    "# python_crawler_final"
   ]
  },
  {
   "cell_type": "code",
   "execution_count": 31,
   "id": "555c5a01-233c-43c0-8e7b-88e90b584e96",
   "metadata": {},
   "outputs": [],
   "source": [
    "import time\n",
    "import requests\n",
    "import lxml.html\n",
    "import re"
   ]
  },
  {
   "cell_type": "code",
   "execution_count": 32,
   "id": "77dcd4e7-9c88-4a17-9145-5b5749eb2b46",
   "metadata": {},
   "outputs": [],
   "source": [
    "def main():\n",
    "    session = requests.Session()\n",
    "    response = session.get('http://www.hanbit.co.kr/store/books/new_book_list.html')\n",
    "    urls = scrape_list_page(response)\n",
    "    for url in urls:\n",
    "        time.sleep(1)  # 1초간 대기\n",
    "        response = session.get(url)\n",
    "        ebook = scrape_detail_page(response)\n",
    "        print(ebook)\n",
    "        break"
   ]
  },
  {
   "cell_type": "code",
   "execution_count": 33,
   "id": "2aa52fa2-0e06-4952-991f-1df5dd36d571",
   "metadata": {},
   "outputs": [],
   "source": [
    "def scrape_list_page(response):\n",
    "    root = lxml.html.fromstring(response.content)\n",
    "    root.make_links_absolute(response.url)\n",
    "    for a in root.cssselect('.view_box .book_tit a'):\n",
    "        url = a.get('href')\n",
    "        yield url"
   ]
  },
  {
   "cell_type": "code",
   "execution_count": 35,
   "id": "bd756748-e9a2-4336-9bde-d3b3f2fa5d74",
   "metadata": {},
   "outputs": [],
   "source": [
    "def scrape_detail_page(response):\n",
    "    root = lxml.html.fromstring(response.content)\n",
    "    ebook = {\n",
    "        'url':response.url,\n",
    "        'title':root.cssselect('.store_product_info_box h3')[0].text_content(),\n",
    "        'price':root.cssselect('.pbr strong')[0].text_content(),\n",
    "        'content': [normalize_spaces(p.text_content())\n",
    "                    for p in root.cssselect('#tabs_3 .hanbit_edit_view p')\n",
    "                    if normalize_spaces(p.text_content()) != '']\n",
    "    }\n",
    "    return ebook"
   ]
  },
  {
   "cell_type": "code",
   "execution_count": 36,
   "id": "ce8a6886-d46f-4af8-a6e1-eca77398cdba",
   "metadata": {
    "tags": []
   },
   "outputs": [],
   "source": [
    "def normalize_spaces(s):\n",
    "    '''\n",
    "    연결된 공백을 하나의 공백으로 변경\n",
    "    '''\n",
    "    return re.sub(r'\\s+', ' ', s).strip()"
   ]
  },
  {
   "cell_type": "code",
   "execution_count": 37,
   "id": "35af8da9-efd6-4a96-8711-1bde20bcf58d",
   "metadata": {
    "tags": []
   },
   "outputs": [
    {
     "name": "stdout",
     "output_type": "stream",
     "text": [
      "{'url': 'https://www.hanbit.co.kr/store/books/look.php?p_code=B3178834938', 'title': '받침 없는 한글 동화 : 4권 세트', 'price': '49,680', 'content': ['<1편>', '이렇게 읽어요', '1. 무시무시 마녀가 이사 와!', '2. 아기 고래 뿌우의 노래', '<2편>', '이렇게 읽어요', '1. 도, 도, 도깨비다!', '2. 느티나무 아파트', '<3편>', '이렇게 읽어요', '1. 바쁘다 바빠 너구리 바빠', '2. 꼬마 지우개 마구마구', '<4편>', '이렇게 읽어요', '1. 도깨비 파자마 파티', '2. 꼬마 두루미 뚜루']}\n"
     ]
    }
   ],
   "source": [
    "if __name__ == '__main__':\n",
    "    main()"
   ]
  },
  {
   "cell_type": "code",
   "execution_count": null,
   "id": "6905ee9f-3dbc-4292-80e0-f8f331adeaf1",
   "metadata": {},
   "outputs": [],
   "source": []
  }
 ],
 "metadata": {
  "kernelspec": {
   "display_name": "Python 3 (ipykernel)",
   "language": "python",
   "name": "python3"
  },
  "language_info": {
   "codemirror_mode": {
    "name": "ipython",
    "version": 3
   },
   "file_extension": ".py",
   "mimetype": "text/x-python",
   "name": "python",
   "nbconvert_exporter": "python",
   "pygments_lexer": "ipython3",
   "version": "3.9.12"
  }
 },
 "nbformat": 4,
 "nbformat_minor": 5
}
