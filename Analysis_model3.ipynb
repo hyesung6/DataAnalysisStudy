{
 "cells": [
  {
   "cell_type": "markdown",
   "id": "22b75167-c093-41eb-bc99-db3d1f62b960",
   "metadata": {},
   "source": [
    "# 시각화 탐색\n",
    "## 필요 라이브러리 import"
   ]
  },
  {
   "cell_type": "code",
   "execution_count": 1,
   "id": "d35f1b91-aff4-4e07-81bc-971bedf9e01e",
   "metadata": {},
   "outputs": [],
   "source": [
    "import warnings\n",
    "warnings.simplefilter(action='ignore', category=FutureWarning)   # FutureWarning 제거\n",
    "import pandas as pd\n",
    "import numpy as np\n",
    "from scipy import stats\n",
    "import matplotlib.pyplot as plt\n",
    "import seaborn as sns\n",
    "%matplotlib inline\n",
    "\n",
    "import os\n",
    "if os.name == 'nt':\n",
    "    font_family = 'Malgun Gothic'\n",
    "\n",
    "sns.set(font=font_family, rc={'axes.unicode_minus' : False})"
   ]
  },
  {
   "cell_type": "markdown",
   "id": "d1f21bab-0ef3-413e-90e4-dd62be942d96",
   "metadata": {},
   "source": [
    "## 데이터셋 생성\n",
    "- 팁 데이터셋 (tips)\n",
    "레스토랑에 방문한 손님이 팁을 얼마나 주는지, 성별 흡연여부, 요일, 식사 시간, 식사 인원 등에 대한 정보를 가지고 있는 데이터셋"
   ]
  },
  {
   "cell_type": "code",
   "execution_count": 2,
   "id": "ac9a9b2c-e9ca-49bd-b683-a4970ecb144d",
   "metadata": {},
   "outputs": [],
   "source": [
    "# tips 데이터 로드\n",
    "data = sns.load_dataset('tips')"
   ]
  },
  {
   "cell_type": "markdown",
   "id": "064af210-c998-49e5-a6ea-87299cf332b2",
   "metadata": {},
   "source": [
    "## 시각화 탐색\n",
    "### 상자그림 ( boxplot )\n",
    "사분위수를 계산하여, 최대/최소값을 벗어나는 이상값 시각화"
   ]
  },
  {
   "cell_type": "code",
   "execution_count": 3,
   "id": "c4063315-2379-46b6-95bf-bb670174c5a7",
   "metadata": {},
   "outputs": [
    {
     "name": "stdout",
     "output_type": "stream",
     "text": [
      "0.05    1.4400\n",
      "0.25    2.0000\n",
      "0.50    2.9000\n",
      "0.75    3.5625\n",
      "0.95    5.1955\n",
      "Name: tip, dtype: float64\n",
      "\n",
      "     5.0%  25.0%  50.0%   75.0%   95.0%\n",
      "tip  1.44    2.0    2.9  3.5625  5.1955\n"
     ]
    }
   ],
   "source": [
    "# 백분위수 계산 ( percentile )\n",
    "print(data['tip'].quantile([0.05, 0.25, 0.5, 0.75, 0.95]))\n",
    "print()\n",
    "\n",
    "percentages = [0.05, 0.25, 0.5, 0.75, 0.95]\n",
    "df = pd.DataFrame(data['tip'].quantile(percentages))\n",
    "df.index = [f'{p * 100}%' for p in percentages]\n",
    "print(df.transpose())"
   ]
  },
  {
   "cell_type": "code",
   "execution_count": 4,
   "id": "466b709b-a446-4cc4-9b3a-236f902b7e65",
   "metadata": {},
   "outputs": [
    {
     "data": {
      "text/html": [
       "<div>\n",
       "<style scoped>\n",
       "    .dataframe tbody tr th:only-of-type {\n",
       "        vertical-align: middle;\n",
       "    }\n",
       "\n",
       "    .dataframe tbody tr th {\n",
       "        vertical-align: top;\n",
       "    }\n",
       "\n",
       "    .dataframe thead th {\n",
       "        text-align: right;\n",
       "    }\n",
       "</style>\n",
       "<table border=\"1\" class=\"dataframe\">\n",
       "  <thead>\n",
       "    <tr style=\"text-align: right;\">\n",
       "      <th></th>\n",
       "      <th>tip</th>\n",
       "    </tr>\n",
       "  </thead>\n",
       "  <tbody>\n",
       "    <tr>\n",
       "      <th>5.0%</th>\n",
       "      <td>1.4400</td>\n",
       "    </tr>\n",
       "    <tr>\n",
       "      <th>25.0%</th>\n",
       "      <td>2.0000</td>\n",
       "    </tr>\n",
       "    <tr>\n",
       "      <th>50.0%</th>\n",
       "      <td>2.9000</td>\n",
       "    </tr>\n",
       "    <tr>\n",
       "      <th>75.0%</th>\n",
       "      <td>3.5625</td>\n",
       "    </tr>\n",
       "    <tr>\n",
       "      <th>95.0%</th>\n",
       "      <td>5.1955</td>\n",
       "    </tr>\n",
       "  </tbody>\n",
       "</table>\n",
       "</div>"
      ],
      "text/plain": [
       "          tip\n",
       "5.0%   1.4400\n",
       "25.0%  2.0000\n",
       "50.0%  2.9000\n",
       "75.0%  3.5625\n",
       "95.0%  5.1955"
      ]
     },
     "execution_count": 4,
     "metadata": {},
     "output_type": "execute_result"
    }
   ],
   "source": [
    "df"
   ]
  },
  {
   "cell_type": "code",
   "execution_count": 10,
   "id": "7b418d06-cb18-4a50-8099-a906dc64d820",
   "metadata": {},
   "outputs": [
    {
     "data": {
      "text/plain": [
       "Text(0, 0.5, '달러($)')"
      ]
     },
     "execution_count": 10,
     "metadata": {},
     "output_type": "execute_result"
    },
    {
     "data": {
      "image/png": "[encoded data removed]",
      "text/plain": [
       "<Figure size 432x288 with 1 Axes>"
      ]
     },
     "metadata": {},
     "output_type": "display_data"
    }
   ],
   "source": [
    "# 한 변수에 대한 이상값 시각화\n",
    "ax = data['tip'].plot.box()\n",
    "ax.set_ylabel('달러($)')"
   ]
  },
  {
   "cell_type": "code",
   "execution_count": 11,
   "id": "e7856bcb-3666-4ea7-9e20-d991f88f124b",
   "metadata": {},
   "outputs": [
    {
     "data": {
      "image/png": "[encoded data removed]",
      "text/plain": [
       "<Figure size 720x360 with 1 Axes>"
      ]
     },
     "metadata": {},
     "output_type": "display_data"
    }
   ],
   "source": [
    "# 상자 그림을 이용한 전체 변수의 이상값 확인\n",
    "plt.figure(figsize=(10, 5))\n",
    "sns.boxplot(data = data, orient='h')\n",
    "plt.show()"
   ]
  },
  {
   "cell_type": "markdown",
   "id": "73d2e0be-bdaf-4880-9617-b56861f859a5",
   "metadata": {},
   "source": [
    "### 막대 그래프 ( Bar Chart )\n",
    "사물의 양을 막대 모양의 길이로 나타낸 그래프(비교 시각화)"
   ]
  },
  {
   "cell_type": "code",
   "execution_count": 12,
   "id": "cc5b6fbd-8fbf-4a80-a8cf-e96d49edf573",
   "metadata": {},
   "outputs": [
    {
     "data": {
      "text/plain": [
       "day\n",
       "Thur    171.83\n",
       "Fri      51.96\n",
       "Sat     260.40\n",
       "Sun     247.39\n",
       "Name: tip, dtype: float64"
      ]
     },
     "execution_count": 12,
     "metadata": {},
     "output_type": "execute_result"
    }
   ],
   "source": [
    "# 요일별 tip 비교\n",
    "tips_sum_day = data.groupby('day').tip.sum()\n",
    "tips_sum_day"
   ]
  },
  {
   "cell_type": "code",
   "execution_count": 20,
   "id": "97769878-417b-40ec-8663-dba0d4731483",
   "metadata": {},
   "outputs": [
    {
     "data": {
      "text/plain": [
       "day\n",
       "Thur    171.83\n",
       "Fri      51.96\n",
       "Sat     260.40\n",
       "Sun     247.39\n",
       "Name: tip, dtype: float64"
      ]
     },
     "execution_count": 20,
     "metadata": {},
     "output_type": "execute_result"
    }
   ],
   "source": [
    "data.groupby('day')['tip'].sum()"
   ]
  },
  {
   "cell_type": "code",
   "execution_count": 21,
   "id": "4f2965a4-2fab-4ab9-aeb0-ae9f40466a3a",
   "metadata": {},
   "outputs": [
    {
     "data": {
      "text/plain": [
       "pandas.core.groupby.generic.SeriesGroupBy"
      ]
     },
     "execution_count": 21,
     "metadata": {},
     "output_type": "execute_result"
    }
   ],
   "source": [
    "type(data.groupby('day').tip)"
   ]
  },
  {
   "cell_type": "code",
   "execution_count": 22,
   "id": "871a1ed8-3407-4364-88b3-cd9097505807",
   "metadata": {},
   "outputs": [
    {
     "data": {
      "text/plain": [
       "<AxesSubplot:xlabel='sex', ylabel='tip'>"
      ]
     },
     "execution_count": 22,
     "metadata": {},
     "output_type": "execute_result"
    },
    {
     "data": {
      "image/png": "[encoded data removed]",
      "text/plain": [
       "<Figure size 432x288 with 1 Axes>"
      ]
     },
     "metadata": {},
     "output_type": "display_data"
    }
   ],
   "source": [
    "# Seaborn 막대 그래프 시각화\n",
    "# 성별, 평균 팁 비교\n",
    "sns.barplot(data= data, x='sex', y='tip')"
   ]
  },
  {
   "cell_type": "code",
   "execution_count": 23,
   "id": "66a243b1-61e7-446d-8429-df08f7de963b",
   "metadata": {},
   "outputs": [
    {
     "data": {
      "text/plain": [
       "<AxesSubplot:xlabel='sex', ylabel='tip'>"
      ]
     },
     "execution_count": 23,
     "metadata": {},
     "output_type": "execute_result"
    },
    {
     "data": {
      "image/png": "[encoded data removed]",
      "text/plain": [
       "<Figure size 720x360 with 1 Axes>"
      ]
     },
     "metadata": {},
     "output_type": "display_data"
    }
   ],
   "source": [
    "# 식사 인월(size)별 남성과 여성 tip 평균 비교\n",
    "## 여러 열에서 집단 묶어서 세부 집단 시각화 ( hue )\n",
    "plt.figure(figsize=(10, 5))\n",
    "sns.barplot(data=data, x='sex', y='tip', hue='size')"
   ]
  },
  {
   "cell_type": "markdown",
   "id": "3e408bb9-093e-4102-8842-a172958bf944",
   "metadata": {},
   "source": [
    "### 도수분포표 & 히스토그램\n",
    "pd.cut() : 연속된 수치를 구간으로 나누어 카테고리화할 때 사용"
   ]
  },
  {
   "cell_type": "code",
   "execution_count": 24,
   "id": "33de17ab-ab22-4b99-a32e-df9c9e6816e6",
   "metadata": {},
   "outputs": [
    {
     "data": {
      "text/plain": [
       "(15.005, 20.972]    81\n",
       "(9.038, 15.005]     68\n",
       "(20.972, 26.94]     38\n",
       "(26.94, 32.908]     24\n",
       "(3.022, 9.038]      12\n",
       "(32.908, 38.875]    10\n",
       "(38.875, 44.842]     6\n",
       "(44.842, 50.81]      5\n",
       "Name: total_bill, dtype: int64"
      ]
     },
     "execution_count": 24,
     "metadata": {},
     "output_type": "execute_result"
    }
   ],
   "source": [
    "# 도수분포표\n",
    "## 총 계산 금액 구간별 빈도수\n",
    "bin_total = pd.cut(data['total_bill'], 8)    # data 를 8개 구간으로 잘라서 카테고리화\n",
    "bin_total.value_counts()"
   ]
  },
  {
   "cell_type": "code",
   "execution_count": 26,
   "id": "dc63d526-233c-44c4-932c-e735a85f86d9",
   "metadata": {},
   "outputs": [
    {
     "data": {
      "image/png": "[encoded data removed]",
      "text/plain": [
       "<Figure size 720x360 with 2 Axes>"
      ]
     },
     "metadata": {},
     "output_type": "display_data"
    }
   ],
   "source": [
    "fig, axs = plt.subplots(1, 2, figsize=(10,5))\n",
    "\n",
    "# 히스토그램\n",
    "## plt.style.use('ggplot')\n",
    "ax1 = plt.subplot(1, 2, 1)\n",
    "ax1 = data['total_bill'].plot.hist(bins=8)   # bins : 구간 수\n",
    "ax1.set_xlabel('total_bill($)');\n",
    "\n",
    "# 밀도 그림\n",
    "# plt.style.use('seaborn')\n",
    "ax2 = plt.subplot(1, 2, 2)\n",
    "ax2 = data['total_bill'].plot.hist(density=True, xlim=[0, 60], bins=8)\n",
    "data['total_bill'].plot.density(ax=ax2);\n",
    "ax2.set_xlabel('total_bill($)');\n",
    "\n",
    "plt.tight_layout()\n",
    "plt.show()"
   ]
  },
  {
   "cell_type": "code",
   "execution_count": null,
   "id": "dc2c15d6-a890-4175-9728-0beb3a119e80",
   "metadata": {},
   "outputs": [],
   "source": []
  }
 ],
 "metadata": {
  "kernelspec": {
   "display_name": "Python 3 (ipykernel)",
   "language": "python",
   "name": "python3"
  },
  "language_info": {
   "codemirror_mode": {
    "name": "ipython",
    "version": 3
   },
   "file_extension": ".py",
   "mimetype": "text/x-python",
   "name": "python",
   "nbconvert_exporter": "python",
   "pygments_lexer": "ipython3",
   "version": "3.9.12"
  }
 },
 "nbformat": 4,
 "nbformat_minor": 5
}
