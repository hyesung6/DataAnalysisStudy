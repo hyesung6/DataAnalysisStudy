{
 "cells": [
  {
   "cell_type": "markdown",
   "id": "c89877b3-6258-4d46-a738-f0a617772822",
   "metadata": {},
   "source": [
    "## Scipy 패키지\n",
    "- 확률분포 클래스\n",
    "  - 이산확률분포\n",
    "    - bernoulli() : 베르누이분포\n",
    "    - binom() : 이항분포\n",
    "    - multinomial() : 다항분포\n",
    "  \n",
    "  - 연속확률분포\n",
    "    - uniform() : 균일분포\n",
    "    - norm() : 정규분포\n",
    "    - beta() : 베타분포\n",
    "    - gamma() : 감마분포\n",
    "    - t() : 스튜던트 t분포\n",
    "    - chi2() : 카이제곱 분포\n",
    "    - f() : f분포\n",
    "    - dirichlet() : 디리클리 분포\n",
    "    - multivariate_normal() : 다변수 정규분포\n",
    "  \n",
    "- 확률분포 메서드\n",
    "  - pmf : 확률질량함수 ( Probability Mass Function )\n",
    "  - pdf : 확률밀도함수 ( Probability Density Function )\n",
    "  - cdf : 누적분포함수 ( Cumulative Distribution Function )\n",
    "  - ppf : 누적분포함수의 역함수 ( Inverse Cumulative Distribution Function )\n",
    "  - sf : 생존함수 ( Survival Function) = (1 - 누적분포함수)\n",
    "  - isf : 생존함수의 역함수 ( Inverse Survival Function )\n",
    "  - rvs : 랜덤 표본 생성 ( Random Variable Sampling )"
   ]
  },
  {
   "cell_type": "markdown",
   "id": "42c275ba-4041-4e4e-91d1-b61c90a6e161",
   "metadata": {},
   "source": [
    "- pmf : 확률질량함수 ( Probability Mass Function )\n",
    "- pdf : 확률밀도함수 ( Probability Density Function )\n",
    "- cdf : 누적분포함수 ( Cumulative Distribution Function )\n",
    "- ppf : 누적분포함수의 역함수 ( Inverse Cumulative Distribution Function )\n",
    "- sf : 생존함수 ( Survival Function) = (1 - 누적분포함수)\n",
    "- isf : 생존함수의 역함수 ( Inverse Survival Function )\n",
    "- rvs : 랜덤 표본 생성 ( Random Variable Sampling )"
   ]
  },
  {
   "cell_type": "code",
   "execution_count": 1,
   "id": "f47a99c3-2e73-4d23-b08e-f20e17f1fc3d",
   "metadata": {},
   "outputs": [],
   "source": [
    "import scipy.stats\n"
   ]
  },
  {
   "cell_type": "code",
   "execution_count": null,
   "id": "93c51135",
   "metadata": {},
   "outputs": [],
   "source": []
  }
 ],
 "metadata": {
  "kernelspec": {
   "display_name": "Python 3.9.12 ('base')",
   "language": "python",
   "name": "python3"
  },
  "language_info": {
   "codemirror_mode": {
    "name": "ipython",
    "version": 3
   },
   "file_extension": ".py",
   "mimetype": "text/x-python",
   "name": "python",
   "nbconvert_exporter": "python",
   "pygments_lexer": "ipython3",
   "version": "3.9.12"
  },
  "vscode": {
   "interpreter": {
    "hash": "a077222d77dfe082b8f1dd562ad70e458ac2ab76993a0b248ab0476e32e9e8dd"
   }
  }
 },
 "nbformat": 4,
 "nbformat_minor": 5
}
