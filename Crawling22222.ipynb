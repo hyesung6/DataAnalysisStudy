{
 "cells": [
  {
   "cell_type": "code",
   "execution_count": 1,
   "id": "8e7f81cd-e976-46c7-ac83-3fc28f0e955f",
   "metadata": {},
   "outputs": [],
   "source": [
    "import requests\n",
    "from bs4 import BeautifulSoup\n",
    "import selenium"
   ]
  },
  {
   "cell_type": "code",
   "execution_count": 2,
   "id": "73266764-efe4-4f44-a436-f13e79e09d3e",
   "metadata": {},
   "outputs": [],
   "source": [
    "from selenium.webdriver import chrome\n",
    "import time\n",
    "import sqlite3\n",
    "from pandas.io import sql\n",
    "import os\n",
    "import pandas as pd"
   ]
  },
  {
   "cell_type": "code",
   "execution_count": 22,
   "id": "3c09a637-f091-4c8a-852c-38cae72fd600",
   "metadata": {},
   "outputs": [],
   "source": [
    "from selenium import webdriver\n",
    "\n",
    "options = webdriver.ChromeOptions()\n",
    "options.add_argument(\"--start-maximized\");\n",
    "\n",
    "browser = webdriver.Chrome('chromedriver', options=options)"
   ]
  },
  {
   "cell_type": "code",
   "execution_count": 23,
   "id": "ad482eeb-9d8a-42a3-b151-d7d24a39971c",
   "metadata": {},
   "outputs": [],
   "source": [
    "browser.get('https://map.naver.com/v5/search/%EA%B4%91%EC%A3%BC%20%EA%B3%B5%EC%A4%91%EC%A0%84%ED%99%94%20%EC%98%A5%EC%99%B8')\n",
    "browser.implicitly_wait(7)"
   ]
  },
  {
   "cell_type": "code",
   "execution_count": 24,
   "id": "efd58e70-7016-44c2-8e70-5cf3223df4c4",
   "metadata": {},
   "outputs": [],
   "source": [
    "browser.switch_to.frame(\"searchIframe\")"
   ]
  },
  {
   "cell_type": "code",
   "execution_count": 18,
   "id": "a88e839e-2429-4b33-9993-24496981bd8b",
   "metadata": {},
   "outputs": [],
   "source": [
    "addr = browser.find_element('xpath', '//*[@id=\"_pcmap_list_scroll_container\"]/ul/li[1]/div[1]/div/div/span/a/span[1]')"
   ]
  },
  {
   "cell_type": "code",
   "execution_count": 19,
   "id": "ed3586fe-2f2a-47c9-b4fd-be3349a71abf",
   "metadata": {},
   "outputs": [
    {
     "data": {
      "text/plain": [
       "'광주 북구 일곡동'"
      ]
     },
     "execution_count": 19,
     "metadata": {},
     "output_type": "execute_result"
    }
   ],
   "source": [
    "addr.text"
   ]
  },
  {
   "cell_type": "code",
   "execution_count": 20,
   "id": "95844fac-1342-4d22-bc84-402e725710cc",
   "metadata": {
    "collapsed": true,
    "jupyter": {
     "outputs_hidden": true
    },
    "tags": []
   },
   "outputs": [
    {
     "ename": "NoSuchElementException",
     "evalue": "Message: no such element: Unable to locate element: {\"method\":\"xpath\",\"selector\":\"//*[@id=\"_pcmap_list_scroll_container\"]/ul/li[1]/div[1]/div/div/span/a/span[2]/svg/path\"}\n  (Session info: chrome=103.0.5060.134)\nStacktrace:\nBacktrace:\n\tOrdinal0 [0x00446463+2188387]\n\tOrdinal0 [0x003DE461+1762401]\n\tOrdinal0 [0x002F3D78+802168]\n\tOrdinal0 [0x00321880+989312]\n\tOrdinal0 [0x00321B1B+989979]\n\tOrdinal0 [0x0034E912+1173778]\n\tOrdinal0 [0x0033C824+1099812]\n\tOrdinal0 [0x0034CC22+1166370]\n\tOrdinal0 [0x0033C5F6+1099254]\n\tOrdinal0 [0x00316BE0+945120]\n\tOrdinal0 [0x00317AD6+948950]\n\tGetHandleVerifier [0x006E71F2+2712546]\n\tGetHandleVerifier [0x006D886D+2652765]\n\tGetHandleVerifier [0x004D002A+520730]\n\tGetHandleVerifier [0x004CEE06+516086]\n\tOrdinal0 [0x003E468B+1787531]\n\tOrdinal0 [0x003E8E88+1805960]\n\tOrdinal0 [0x003E8F75+1806197]\n\tOrdinal0 [0x003F1DF1+1842673]\n\tBaseThreadInitThunk [0x75A3FA29+25]\n\tRtlGetAppContainerNamedObjectPath [0x77697A9E+286]\n\tRtlGetAppContainerNamedObjectPath [0x77697A6E+238]\n",
     "output_type": "error",
     "traceback": [
      "\u001b[1;31m---------------------------------------------------------------------------\u001b[0m",
      "\u001b[1;31mNoSuchElementException\u001b[0m                    Traceback (most recent call last)",
      "Input \u001b[1;32mIn [20]\u001b[0m, in \u001b[0;36m<cell line: 1>\u001b[1;34m()\u001b[0m\n\u001b[1;32m----> 1\u001b[0m \u001b[43mbrowser\u001b[49m\u001b[38;5;241;43m.\u001b[39;49m\u001b[43mfind_element\u001b[49m\u001b[43m(\u001b[49m\u001b[38;5;124;43m'\u001b[39;49m\u001b[38;5;124;43mxpath\u001b[39;49m\u001b[38;5;124;43m'\u001b[39;49m\u001b[43m,\u001b[49m\u001b[43m \u001b[49m\u001b[38;5;124;43m'\u001b[39;49m\u001b[38;5;124;43m//*[@id=\u001b[39;49m\u001b[38;5;124;43m\"\u001b[39;49m\u001b[38;5;124;43m_pcmap_list_scroll_container\u001b[39;49m\u001b[38;5;124;43m\"\u001b[39;49m\u001b[38;5;124;43m]/ul/li[1]/div[1]/div/div/span/a/span[2]/svg/path\u001b[39;49m\u001b[38;5;124;43m'\u001b[39;49m\u001b[43m)\u001b[49m\u001b[38;5;241m.\u001b[39mclick()\n",
      "File \u001b[1;32m~\\anaconda3\\lib\\site-packages\\selenium\\webdriver\\remote\\webdriver.py:857\u001b[0m, in \u001b[0;36mWebDriver.find_element\u001b[1;34m(self, by, value)\u001b[0m\n\u001b[0;32m    854\u001b[0m     by \u001b[38;5;241m=\u001b[39m By\u001b[38;5;241m.\u001b[39mCSS_SELECTOR\n\u001b[0;32m    855\u001b[0m     value \u001b[38;5;241m=\u001b[39m \u001b[38;5;124m'\u001b[39m\u001b[38;5;124m[name=\u001b[39m\u001b[38;5;124m\"\u001b[39m\u001b[38;5;132;01m%s\u001b[39;00m\u001b[38;5;124m\"\u001b[39m\u001b[38;5;124m]\u001b[39m\u001b[38;5;124m'\u001b[39m \u001b[38;5;241m%\u001b[39m value\n\u001b[1;32m--> 857\u001b[0m \u001b[38;5;28;01mreturn\u001b[39;00m \u001b[38;5;28;43mself\u001b[39;49m\u001b[38;5;241;43m.\u001b[39;49m\u001b[43mexecute\u001b[49m\u001b[43m(\u001b[49m\u001b[43mCommand\u001b[49m\u001b[38;5;241;43m.\u001b[39;49m\u001b[43mFIND_ELEMENT\u001b[49m\u001b[43m,\u001b[49m\u001b[43m \u001b[49m\u001b[43m{\u001b[49m\n\u001b[0;32m    858\u001b[0m \u001b[43m    \u001b[49m\u001b[38;5;124;43m'\u001b[39;49m\u001b[38;5;124;43musing\u001b[39;49m\u001b[38;5;124;43m'\u001b[39;49m\u001b[43m:\u001b[49m\u001b[43m \u001b[49m\u001b[43mby\u001b[49m\u001b[43m,\u001b[49m\n\u001b[0;32m    859\u001b[0m \u001b[43m    \u001b[49m\u001b[38;5;124;43m'\u001b[39;49m\u001b[38;5;124;43mvalue\u001b[39;49m\u001b[38;5;124;43m'\u001b[39;49m\u001b[43m:\u001b[49m\u001b[43m \u001b[49m\u001b[43mvalue\u001b[49m\u001b[43m}\u001b[49m\u001b[43m)\u001b[49m[\u001b[38;5;124m'\u001b[39m\u001b[38;5;124mvalue\u001b[39m\u001b[38;5;124m'\u001b[39m]\n",
      "File \u001b[1;32m~\\anaconda3\\lib\\site-packages\\selenium\\webdriver\\remote\\webdriver.py:435\u001b[0m, in \u001b[0;36mWebDriver.execute\u001b[1;34m(self, driver_command, params)\u001b[0m\n\u001b[0;32m    433\u001b[0m response \u001b[38;5;241m=\u001b[39m \u001b[38;5;28mself\u001b[39m\u001b[38;5;241m.\u001b[39mcommand_executor\u001b[38;5;241m.\u001b[39mexecute(driver_command, params)\n\u001b[0;32m    434\u001b[0m \u001b[38;5;28;01mif\u001b[39;00m response:\n\u001b[1;32m--> 435\u001b[0m     \u001b[38;5;28;43mself\u001b[39;49m\u001b[38;5;241;43m.\u001b[39;49m\u001b[43merror_handler\u001b[49m\u001b[38;5;241;43m.\u001b[39;49m\u001b[43mcheck_response\u001b[49m\u001b[43m(\u001b[49m\u001b[43mresponse\u001b[49m\u001b[43m)\u001b[49m\n\u001b[0;32m    436\u001b[0m     response[\u001b[38;5;124m'\u001b[39m\u001b[38;5;124mvalue\u001b[39m\u001b[38;5;124m'\u001b[39m] \u001b[38;5;241m=\u001b[39m \u001b[38;5;28mself\u001b[39m\u001b[38;5;241m.\u001b[39m_unwrap_value(\n\u001b[0;32m    437\u001b[0m         response\u001b[38;5;241m.\u001b[39mget(\u001b[38;5;124m'\u001b[39m\u001b[38;5;124mvalue\u001b[39m\u001b[38;5;124m'\u001b[39m, \u001b[38;5;28;01mNone\u001b[39;00m))\n\u001b[0;32m    438\u001b[0m     \u001b[38;5;28;01mreturn\u001b[39;00m response\n",
      "File \u001b[1;32m~\\anaconda3\\lib\\site-packages\\selenium\\webdriver\\remote\\errorhandler.py:247\u001b[0m, in \u001b[0;36mErrorHandler.check_response\u001b[1;34m(self, response)\u001b[0m\n\u001b[0;32m    245\u001b[0m         alert_text \u001b[38;5;241m=\u001b[39m value[\u001b[38;5;124m'\u001b[39m\u001b[38;5;124malert\u001b[39m\u001b[38;5;124m'\u001b[39m]\u001b[38;5;241m.\u001b[39mget(\u001b[38;5;124m'\u001b[39m\u001b[38;5;124mtext\u001b[39m\u001b[38;5;124m'\u001b[39m)\n\u001b[0;32m    246\u001b[0m     \u001b[38;5;28;01mraise\u001b[39;00m exception_class(message, screen, stacktrace, alert_text)  \u001b[38;5;66;03m# type: ignore[call-arg]  # mypy is not smart enough here\u001b[39;00m\n\u001b[1;32m--> 247\u001b[0m \u001b[38;5;28;01mraise\u001b[39;00m exception_class(message, screen, stacktrace)\n",
      "\u001b[1;31mNoSuchElementException\u001b[0m: Message: no such element: Unable to locate element: {\"method\":\"xpath\",\"selector\":\"//*[@id=\"_pcmap_list_scroll_container\"]/ul/li[1]/div[1]/div/div/span/a/span[2]/svg/path\"}\n  (Session info: chrome=103.0.5060.134)\nStacktrace:\nBacktrace:\n\tOrdinal0 [0x00446463+2188387]\n\tOrdinal0 [0x003DE461+1762401]\n\tOrdinal0 [0x002F3D78+802168]\n\tOrdinal0 [0x00321880+989312]\n\tOrdinal0 [0x00321B1B+989979]\n\tOrdinal0 [0x0034E912+1173778]\n\tOrdinal0 [0x0033C824+1099812]\n\tOrdinal0 [0x0034CC22+1166370]\n\tOrdinal0 [0x0033C5F6+1099254]\n\tOrdinal0 [0x00316BE0+945120]\n\tOrdinal0 [0x00317AD6+948950]\n\tGetHandleVerifier [0x006E71F2+2712546]\n\tGetHandleVerifier [0x006D886D+2652765]\n\tGetHandleVerifier [0x004D002A+520730]\n\tGetHandleVerifier [0x004CEE06+516086]\n\tOrdinal0 [0x003E468B+1787531]\n\tOrdinal0 [0x003E8E88+1805960]\n\tOrdinal0 [0x003E8F75+1806197]\n\tOrdinal0 [0x003F1DF1+1842673]\n\tBaseThreadInitThunk [0x75A3FA29+25]\n\tRtlGetAppContainerNamedObjectPath [0x77697A9E+286]\n\tRtlGetAppContainerNamedObjectPath [0x77697A6E+238]\n"
     ]
    }
   ],
   "source": [
    "browser.find_element('xpath', '//*[@id=\"_pcmap_list_scroll_container\"]/ul/li[1]/div[1]/div/div/span/a/span[2]/svg/path').click()"
   ]
  },
  {
   "cell_type": "code",
   "execution_count": 21,
   "id": "46326cc9-30aa-4d58-bc45-d4b7948dbf8d",
   "metadata": {},
   "outputs": [],
   "source": [
    "browser.close()"
   ]
  },
  {
   "cell_type": "code",
   "execution_count": 25,
   "id": "abfde996-7a41-4160-97a4-9d4599dbd158",
   "metadata": {
    "collapsed": true,
    "jupyter": {
     "outputs_hidden": true
    },
    "tags": []
   },
   "outputs": [
    {
     "ename": "NoSuchElementException",
     "evalue": "Message: no such element: Unable to locate element: {\"method\":\"xpath\",\"selector\":\"//*[@id=\"app-root\"]/div/div/div/div[6]/div/div[1]/div/ul/li[1]/div/a/span[1]\"}\n  (Session info: chrome=103.0.5060.134)\nStacktrace:\nBacktrace:\n\tOrdinal0 [0x00446463+2188387]\n\tOrdinal0 [0x003DE461+1762401]\n\tOrdinal0 [0x002F3D78+802168]\n\tOrdinal0 [0x00321880+989312]\n\tOrdinal0 [0x00321B1B+989979]\n\tOrdinal0 [0x0034E912+1173778]\n\tOrdinal0 [0x0033C824+1099812]\n\tOrdinal0 [0x0034CC22+1166370]\n\tOrdinal0 [0x0033C5F6+1099254]\n\tOrdinal0 [0x00316BE0+945120]\n\tOrdinal0 [0x00317AD6+948950]\n\tGetHandleVerifier [0x006E71F2+2712546]\n\tGetHandleVerifier [0x006D886D+2652765]\n\tGetHandleVerifier [0x004D002A+520730]\n\tGetHandleVerifier [0x004CEE06+516086]\n\tOrdinal0 [0x003E468B+1787531]\n\tOrdinal0 [0x003E8E88+1805960]\n\tOrdinal0 [0x003E8F75+1806197]\n\tOrdinal0 [0x003F1DF1+1842673]\n\tBaseThreadInitThunk [0x75A3FA29+25]\n\tRtlGetAppContainerNamedObjectPath [0x77697A9E+286]\n\tRtlGetAppContainerNamedObjectPath [0x77697A6E+238]\n",
     "output_type": "error",
     "traceback": [
      "\u001b[1;31m---------------------------------------------------------------------------\u001b[0m",
      "\u001b[1;31mNoSuchElementException\u001b[0m                    Traceback (most recent call last)",
      "Input \u001b[1;32mIn [25]\u001b[0m, in \u001b[0;36m<cell line: 1>\u001b[1;34m()\u001b[0m\n\u001b[1;32m----> 1\u001b[0m addr \u001b[38;5;241m=\u001b[39m \u001b[43mbrowser\u001b[49m\u001b[38;5;241;43m.\u001b[39;49m\u001b[43mfind_element\u001b[49m\u001b[43m(\u001b[49m\u001b[38;5;124;43m'\u001b[39;49m\u001b[38;5;124;43mxpath\u001b[39;49m\u001b[38;5;124;43m'\u001b[39;49m\u001b[43m,\u001b[49m\u001b[43m \u001b[49m\u001b[38;5;124;43m'\u001b[39;49m\u001b[38;5;124;43m//*[@id=\u001b[39;49m\u001b[38;5;124;43m\"\u001b[39;49m\u001b[38;5;124;43mapp-root\u001b[39;49m\u001b[38;5;124;43m\"\u001b[39;49m\u001b[38;5;124;43m]/div/div/div/div[6]/div/div[1]/div/ul/li[1]/div/a/span[1]\u001b[39;49m\u001b[38;5;124;43m'\u001b[39;49m\u001b[43m)\u001b[49m\n",
      "File \u001b[1;32m~\\anaconda3\\lib\\site-packages\\selenium\\webdriver\\remote\\webdriver.py:857\u001b[0m, in \u001b[0;36mWebDriver.find_element\u001b[1;34m(self, by, value)\u001b[0m\n\u001b[0;32m    854\u001b[0m     by \u001b[38;5;241m=\u001b[39m By\u001b[38;5;241m.\u001b[39mCSS_SELECTOR\n\u001b[0;32m    855\u001b[0m     value \u001b[38;5;241m=\u001b[39m \u001b[38;5;124m'\u001b[39m\u001b[38;5;124m[name=\u001b[39m\u001b[38;5;124m\"\u001b[39m\u001b[38;5;132;01m%s\u001b[39;00m\u001b[38;5;124m\"\u001b[39m\u001b[38;5;124m]\u001b[39m\u001b[38;5;124m'\u001b[39m \u001b[38;5;241m%\u001b[39m value\n\u001b[1;32m--> 857\u001b[0m \u001b[38;5;28;01mreturn\u001b[39;00m \u001b[38;5;28;43mself\u001b[39;49m\u001b[38;5;241;43m.\u001b[39;49m\u001b[43mexecute\u001b[49m\u001b[43m(\u001b[49m\u001b[43mCommand\u001b[49m\u001b[38;5;241;43m.\u001b[39;49m\u001b[43mFIND_ELEMENT\u001b[49m\u001b[43m,\u001b[49m\u001b[43m \u001b[49m\u001b[43m{\u001b[49m\n\u001b[0;32m    858\u001b[0m \u001b[43m    \u001b[49m\u001b[38;5;124;43m'\u001b[39;49m\u001b[38;5;124;43musing\u001b[39;49m\u001b[38;5;124;43m'\u001b[39;49m\u001b[43m:\u001b[49m\u001b[43m \u001b[49m\u001b[43mby\u001b[49m\u001b[43m,\u001b[49m\n\u001b[0;32m    859\u001b[0m \u001b[43m    \u001b[49m\u001b[38;5;124;43m'\u001b[39;49m\u001b[38;5;124;43mvalue\u001b[39;49m\u001b[38;5;124;43m'\u001b[39;49m\u001b[43m:\u001b[49m\u001b[43m \u001b[49m\u001b[43mvalue\u001b[49m\u001b[43m}\u001b[49m\u001b[43m)\u001b[49m[\u001b[38;5;124m'\u001b[39m\u001b[38;5;124mvalue\u001b[39m\u001b[38;5;124m'\u001b[39m]\n",
      "File \u001b[1;32m~\\anaconda3\\lib\\site-packages\\selenium\\webdriver\\remote\\webdriver.py:435\u001b[0m, in \u001b[0;36mWebDriver.execute\u001b[1;34m(self, driver_command, params)\u001b[0m\n\u001b[0;32m    433\u001b[0m response \u001b[38;5;241m=\u001b[39m \u001b[38;5;28mself\u001b[39m\u001b[38;5;241m.\u001b[39mcommand_executor\u001b[38;5;241m.\u001b[39mexecute(driver_command, params)\n\u001b[0;32m    434\u001b[0m \u001b[38;5;28;01mif\u001b[39;00m response:\n\u001b[1;32m--> 435\u001b[0m     \u001b[38;5;28;43mself\u001b[39;49m\u001b[38;5;241;43m.\u001b[39;49m\u001b[43merror_handler\u001b[49m\u001b[38;5;241;43m.\u001b[39;49m\u001b[43mcheck_response\u001b[49m\u001b[43m(\u001b[49m\u001b[43mresponse\u001b[49m\u001b[43m)\u001b[49m\n\u001b[0;32m    436\u001b[0m     response[\u001b[38;5;124m'\u001b[39m\u001b[38;5;124mvalue\u001b[39m\u001b[38;5;124m'\u001b[39m] \u001b[38;5;241m=\u001b[39m \u001b[38;5;28mself\u001b[39m\u001b[38;5;241m.\u001b[39m_unwrap_value(\n\u001b[0;32m    437\u001b[0m         response\u001b[38;5;241m.\u001b[39mget(\u001b[38;5;124m'\u001b[39m\u001b[38;5;124mvalue\u001b[39m\u001b[38;5;124m'\u001b[39m, \u001b[38;5;28;01mNone\u001b[39;00m))\n\u001b[0;32m    438\u001b[0m     \u001b[38;5;28;01mreturn\u001b[39;00m response\n",
      "File \u001b[1;32m~\\anaconda3\\lib\\site-packages\\selenium\\webdriver\\remote\\errorhandler.py:247\u001b[0m, in \u001b[0;36mErrorHandler.check_response\u001b[1;34m(self, response)\u001b[0m\n\u001b[0;32m    245\u001b[0m         alert_text \u001b[38;5;241m=\u001b[39m value[\u001b[38;5;124m'\u001b[39m\u001b[38;5;124malert\u001b[39m\u001b[38;5;124m'\u001b[39m]\u001b[38;5;241m.\u001b[39mget(\u001b[38;5;124m'\u001b[39m\u001b[38;5;124mtext\u001b[39m\u001b[38;5;124m'\u001b[39m)\n\u001b[0;32m    246\u001b[0m     \u001b[38;5;28;01mraise\u001b[39;00m exception_class(message, screen, stacktrace, alert_text)  \u001b[38;5;66;03m# type: ignore[call-arg]  # mypy is not smart enough here\u001b[39;00m\n\u001b[1;32m--> 247\u001b[0m \u001b[38;5;28;01mraise\u001b[39;00m exception_class(message, screen, stacktrace)\n",
      "\u001b[1;31mNoSuchElementException\u001b[0m: Message: no such element: Unable to locate element: {\"method\":\"xpath\",\"selector\":\"//*[@id=\"app-root\"]/div/div/div/div[6]/div/div[1]/div/ul/li[1]/div/a/span[1]\"}\n  (Session info: chrome=103.0.5060.134)\nStacktrace:\nBacktrace:\n\tOrdinal0 [0x00446463+2188387]\n\tOrdinal0 [0x003DE461+1762401]\n\tOrdinal0 [0x002F3D78+802168]\n\tOrdinal0 [0x00321880+989312]\n\tOrdinal0 [0x00321B1B+989979]\n\tOrdinal0 [0x0034E912+1173778]\n\tOrdinal0 [0x0033C824+1099812]\n\tOrdinal0 [0x0034CC22+1166370]\n\tOrdinal0 [0x0033C5F6+1099254]\n\tOrdinal0 [0x00316BE0+945120]\n\tOrdinal0 [0x00317AD6+948950]\n\tGetHandleVerifier [0x006E71F2+2712546]\n\tGetHandleVerifier [0x006D886D+2652765]\n\tGetHandleVerifier [0x004D002A+520730]\n\tGetHandleVerifier [0x004CEE06+516086]\n\tOrdinal0 [0x003E468B+1787531]\n\tOrdinal0 [0x003E8E88+1805960]\n\tOrdinal0 [0x003E8F75+1806197]\n\tOrdinal0 [0x003F1DF1+1842673]\n\tBaseThreadInitThunk [0x75A3FA29+25]\n\tRtlGetAppContainerNamedObjectPath [0x77697A9E+286]\n\tRtlGetAppContainerNamedObjectPath [0x77697A6E+238]\n"
     ]
    }
   ],
   "source": [
    "addr = browser.find_element('xpath', '//*[@id=\"app-root\"]/div/div/div/div[6]/div/div[1]/div/ul/li[1]/div/a/span[1]')"
   ]
  },
  {
   "cell_type": "code",
   "execution_count": 8,
   "id": "67f79027-a316-418f-9a54-cdff3cd53465",
   "metadata": {},
   "outputs": [
    {
     "data": {
      "text/plain": [
       "'광주 북구 일곡동'"
      ]
     },
     "execution_count": 8,
     "metadata": {},
     "output_type": "execute_result"
    }
   ],
   "source": [
    "addr.text"
   ]
  },
  {
   "cell_type": "code",
   "execution_count": 5,
   "id": "0ab746ed-2d2d-4ed0-ba23-06c1c62dc483",
   "metadata": {
    "collapsed": true,
    "jupyter": {
     "outputs_hidden": true
    },
    "tags": []
   },
   "outputs": [
    {
     "ename": "NoSuchElementException",
     "evalue": "Message: no such element: Unable to locate element: {\"method\":\"xpath\",\"selector\":\"//*[@id=\"_pcmap_list_scroll_container\"]/ul/li[1]/div[1]/div/div/span/a/span[1]\"}\n  (Session info: chrome=103.0.5060.134)\nStacktrace:\nBacktrace:\n\tOrdinal0 [0x00446463+2188387]\n\tOrdinal0 [0x003DE461+1762401]\n\tOrdinal0 [0x002F3D78+802168]\n\tOrdinal0 [0x00321880+989312]\n\tOrdinal0 [0x00321B1B+989979]\n\tOrdinal0 [0x0034E912+1173778]\n\tOrdinal0 [0x0033C824+1099812]\n\tOrdinal0 [0x0034CC22+1166370]\n\tOrdinal0 [0x0033C5F6+1099254]\n\tOrdinal0 [0x00316BE0+945120]\n\tOrdinal0 [0x00317AD6+948950]\n\tGetHandleVerifier [0x006E71F2+2712546]\n\tGetHandleVerifier [0x006D886D+2652765]\n\tGetHandleVerifier [0x004D002A+520730]\n\tGetHandleVerifier [0x004CEE06+516086]\n\tOrdinal0 [0x003E468B+1787531]\n\tOrdinal0 [0x003E8E88+1805960]\n\tOrdinal0 [0x003E8F75+1806197]\n\tOrdinal0 [0x003F1DF1+1842673]\n\tBaseThreadInitThunk [0x75A3FA29+25]\n\tRtlGetAppContainerNamedObjectPath [0x77697A9E+286]\n\tRtlGetAppContainerNamedObjectPath [0x77697A6E+238]\n",
     "output_type": "error",
     "traceback": [
      "\u001b[1;31m---------------------------------------------------------------------------\u001b[0m",
      "\u001b[1;31mNoSuchElementException\u001b[0m                    Traceback (most recent call last)",
      "Input \u001b[1;32mIn [5]\u001b[0m, in \u001b[0;36m<cell line: 1>\u001b[1;34m()\u001b[0m\n\u001b[1;32m----> 1\u001b[0m addr \u001b[38;5;241m=\u001b[39m \u001b[43mbrowser\u001b[49m\u001b[38;5;241;43m.\u001b[39;49m\u001b[43mfind_element\u001b[49m\u001b[43m(\u001b[49m\u001b[38;5;124;43m'\u001b[39;49m\u001b[38;5;124;43mxpath\u001b[39;49m\u001b[38;5;124;43m'\u001b[39;49m\u001b[43m,\u001b[49m\u001b[43m \u001b[49m\u001b[38;5;124;43m'\u001b[39;49m\u001b[38;5;124;43m//*[@id=\u001b[39;49m\u001b[38;5;124;43m\"\u001b[39;49m\u001b[38;5;124;43m_pcmap_list_scroll_container\u001b[39;49m\u001b[38;5;124;43m\"\u001b[39;49m\u001b[38;5;124;43m]/ul/li[1]/div[1]/div/div/span/a/span[1]\u001b[39;49m\u001b[38;5;124;43m'\u001b[39;49m\u001b[43m)\u001b[49m\n",
      "File \u001b[1;32m~\\anaconda3\\lib\\site-packages\\selenium\\webdriver\\remote\\webdriver.py:857\u001b[0m, in \u001b[0;36mWebDriver.find_element\u001b[1;34m(self, by, value)\u001b[0m\n\u001b[0;32m    854\u001b[0m     by \u001b[38;5;241m=\u001b[39m By\u001b[38;5;241m.\u001b[39mCSS_SELECTOR\n\u001b[0;32m    855\u001b[0m     value \u001b[38;5;241m=\u001b[39m \u001b[38;5;124m'\u001b[39m\u001b[38;5;124m[name=\u001b[39m\u001b[38;5;124m\"\u001b[39m\u001b[38;5;132;01m%s\u001b[39;00m\u001b[38;5;124m\"\u001b[39m\u001b[38;5;124m]\u001b[39m\u001b[38;5;124m'\u001b[39m \u001b[38;5;241m%\u001b[39m value\n\u001b[1;32m--> 857\u001b[0m \u001b[38;5;28;01mreturn\u001b[39;00m \u001b[38;5;28;43mself\u001b[39;49m\u001b[38;5;241;43m.\u001b[39;49m\u001b[43mexecute\u001b[49m\u001b[43m(\u001b[49m\u001b[43mCommand\u001b[49m\u001b[38;5;241;43m.\u001b[39;49m\u001b[43mFIND_ELEMENT\u001b[49m\u001b[43m,\u001b[49m\u001b[43m \u001b[49m\u001b[43m{\u001b[49m\n\u001b[0;32m    858\u001b[0m \u001b[43m    \u001b[49m\u001b[38;5;124;43m'\u001b[39;49m\u001b[38;5;124;43musing\u001b[39;49m\u001b[38;5;124;43m'\u001b[39;49m\u001b[43m:\u001b[49m\u001b[43m \u001b[49m\u001b[43mby\u001b[49m\u001b[43m,\u001b[49m\n\u001b[0;32m    859\u001b[0m \u001b[43m    \u001b[49m\u001b[38;5;124;43m'\u001b[39;49m\u001b[38;5;124;43mvalue\u001b[39;49m\u001b[38;5;124;43m'\u001b[39;49m\u001b[43m:\u001b[49m\u001b[43m \u001b[49m\u001b[43mvalue\u001b[49m\u001b[43m}\u001b[49m\u001b[43m)\u001b[49m[\u001b[38;5;124m'\u001b[39m\u001b[38;5;124mvalue\u001b[39m\u001b[38;5;124m'\u001b[39m]\n",
      "File \u001b[1;32m~\\anaconda3\\lib\\site-packages\\selenium\\webdriver\\remote\\webdriver.py:435\u001b[0m, in \u001b[0;36mWebDriver.execute\u001b[1;34m(self, driver_command, params)\u001b[0m\n\u001b[0;32m    433\u001b[0m response \u001b[38;5;241m=\u001b[39m \u001b[38;5;28mself\u001b[39m\u001b[38;5;241m.\u001b[39mcommand_executor\u001b[38;5;241m.\u001b[39mexecute(driver_command, params)\n\u001b[0;32m    434\u001b[0m \u001b[38;5;28;01mif\u001b[39;00m response:\n\u001b[1;32m--> 435\u001b[0m     \u001b[38;5;28;43mself\u001b[39;49m\u001b[38;5;241;43m.\u001b[39;49m\u001b[43merror_handler\u001b[49m\u001b[38;5;241;43m.\u001b[39;49m\u001b[43mcheck_response\u001b[49m\u001b[43m(\u001b[49m\u001b[43mresponse\u001b[49m\u001b[43m)\u001b[49m\n\u001b[0;32m    436\u001b[0m     response[\u001b[38;5;124m'\u001b[39m\u001b[38;5;124mvalue\u001b[39m\u001b[38;5;124m'\u001b[39m] \u001b[38;5;241m=\u001b[39m \u001b[38;5;28mself\u001b[39m\u001b[38;5;241m.\u001b[39m_unwrap_value(\n\u001b[0;32m    437\u001b[0m         response\u001b[38;5;241m.\u001b[39mget(\u001b[38;5;124m'\u001b[39m\u001b[38;5;124mvalue\u001b[39m\u001b[38;5;124m'\u001b[39m, \u001b[38;5;28;01mNone\u001b[39;00m))\n\u001b[0;32m    438\u001b[0m     \u001b[38;5;28;01mreturn\u001b[39;00m response\n",
      "File \u001b[1;32m~\\anaconda3\\lib\\site-packages\\selenium\\webdriver\\remote\\errorhandler.py:247\u001b[0m, in \u001b[0;36mErrorHandler.check_response\u001b[1;34m(self, response)\u001b[0m\n\u001b[0;32m    245\u001b[0m         alert_text \u001b[38;5;241m=\u001b[39m value[\u001b[38;5;124m'\u001b[39m\u001b[38;5;124malert\u001b[39m\u001b[38;5;124m'\u001b[39m]\u001b[38;5;241m.\u001b[39mget(\u001b[38;5;124m'\u001b[39m\u001b[38;5;124mtext\u001b[39m\u001b[38;5;124m'\u001b[39m)\n\u001b[0;32m    246\u001b[0m     \u001b[38;5;28;01mraise\u001b[39;00m exception_class(message, screen, stacktrace, alert_text)  \u001b[38;5;66;03m# type: ignore[call-arg]  # mypy is not smart enough here\u001b[39;00m\n\u001b[1;32m--> 247\u001b[0m \u001b[38;5;28;01mraise\u001b[39;00m exception_class(message, screen, stacktrace)\n",
      "\u001b[1;31mNoSuchElementException\u001b[0m: Message: no such element: Unable to locate element: {\"method\":\"xpath\",\"selector\":\"//*[@id=\"_pcmap_list_scroll_container\"]/ul/li[1]/div[1]/div/div/span/a/span[1]\"}\n  (Session info: chrome=103.0.5060.134)\nStacktrace:\nBacktrace:\n\tOrdinal0 [0x00446463+2188387]\n\tOrdinal0 [0x003DE461+1762401]\n\tOrdinal0 [0x002F3D78+802168]\n\tOrdinal0 [0x00321880+989312]\n\tOrdinal0 [0x00321B1B+989979]\n\tOrdinal0 [0x0034E912+1173778]\n\tOrdinal0 [0x0033C824+1099812]\n\tOrdinal0 [0x0034CC22+1166370]\n\tOrdinal0 [0x0033C5F6+1099254]\n\tOrdinal0 [0x00316BE0+945120]\n\tOrdinal0 [0x00317AD6+948950]\n\tGetHandleVerifier [0x006E71F2+2712546]\n\tGetHandleVerifier [0x006D886D+2652765]\n\tGetHandleVerifier [0x004D002A+520730]\n\tGetHandleVerifier [0x004CEE06+516086]\n\tOrdinal0 [0x003E468B+1787531]\n\tOrdinal0 [0x003E8E88+1805960]\n\tOrdinal0 [0x003E8F75+1806197]\n\tOrdinal0 [0x003F1DF1+1842673]\n\tBaseThreadInitThunk [0x75A3FA29+25]\n\tRtlGetAppContainerNamedObjectPath [0x77697A9E+286]\n\tRtlGetAppContainerNamedObjectPath [0x77697A6E+238]\n"
     ]
    }
   ],
   "source": [
    "addr = browser.find_element('cssselector', '#searchIframe')"
   ]
  },
  {
   "cell_type": "code",
   "execution_count": 9,
   "id": "1f39d369-8cd1-447e-a315-cc6b5ef1381b",
   "metadata": {},
   "outputs": [],
   "source": [
    "response = requests.get('https://map.naver.com/v5/search/%EA%B4%91%EC%A3%BC%20%EA%B3%B5%EC%A4%91%EC%A0%84%ED%99%94%20%EC%98%A5%EC%99%B8')"
   ]
  },
  {
   "cell_type": "code",
   "execution_count": 10,
   "id": "ad9f9572-f8d7-4b26-bf10-0253572b5870",
   "metadata": {},
   "outputs": [],
   "source": [
    "soup = BeautifulSoup(response.content, 'lxml')"
   ]
  },
  {
   "cell_type": "code",
   "execution_count": 11,
   "id": "44a75557-f2b3-40fe-b4df-76a06e5e0215",
   "metadata": {
    "collapsed": true,
    "jupyter": {
     "outputs_hidden": true
    },
    "tags": []
   },
   "outputs": [
    {
     "data": {
      "text/plain": [
       "<bound method Tag.prettify of <!DOCTYPE html>\n",
       "<html lang=\"ko\">\n",
       "<head>\n",
       "<title>네이버 지도</title>\n",
       "<meta charset=\"utf-8\"/>\n",
       "<meta content=\"origin\" name=\"Referrer\"/>\n",
       "<meta content=\"text/javascript\" http-equiv=\"Content-Script-Type\"/>\n",
       "<meta content=\"text/css\" http-equiv=\"Content-Style-Type\"/>\n",
       "<meta content=\"ie=edge\" http-equiv=\"x-ua-compatible\"/>\n",
       "<meta content=\"width=device-width,initial-scale=1.0,minimum-scale=1.0,maximum-scale=1.0\" name=\"viewport\"/>\n",
       "<meta content=\"telephone=no\" name=\"format-detection\"/>\n",
       "<meta content=\"공간을 검색합니다. 생활을 연결합니다. 장소, 버스, 지하철, 도로 등 모든 공간의 정보를 하나의 검색으로 연결한 새로운 지도를 만나보세요.\" name=\"description\"/>\n",
       "<meta content=\"AO_6MCsaxSfiydw-JSF8cCpFrYPwZDiEo40pMwIwl7Q\" name=\"google-site-verification\"/>\n",
       "<meta content=\"website\" property=\"og:type\"/>\n",
       "<meta content=\"네이버 지도\" property=\"og:site_name\"/>\n",
       "<meta content=\"네이버 지도\" property=\"og:title\"/>\n",
       "<meta content=\"https://map.pstatic.net/res/file/content/global/static/naver/og_map.png\" property=\"og:image\"/>\n",
       "<meta content=\"공간을 검색합니다. 생활을 연결합니다. 장소, 버스, 지하철, 도로 등 모든 공간의 정보를 하나의 검색으로 연결 한 새로운 지도를 만나보세요.\" property=\"og:description\"/>\n",
       "<meta content=\"https://map.pstatic.net/res/file/content/global/static/naver/og_map.png\" property=\"twitter:image\"/>\n",
       "<meta content=\"공간을 검색합니다. 생활을 연결합니다. 장소, 버스, 지하철, 도로 등 모든 공간의 정보를 하나의 검색으로 연결 한 새로운 지도를 만나보세요.\" property=\"twitter:description\"/>\n",
       "<meta content=\"summary_large_image\" property=\"twitter:card\"/>\n",
       "<!-- base url -->\n",
       "<base href=\"/v5/\"/>\n",
       "<!-- Configured Head Tags  -->\n",
       "<link href=\"assets/icon/apple-icon-57x57.png\" rel=\"apple-touch-icon\" sizes=\"57x57\"/>\n",
       "<link href=\"assets/icon/apple-icon-60x60.png\" rel=\"apple-touch-icon\" sizes=\"60x60\"/>\n",
       "<link href=\"assets/icon/apple-icon-72x72.png\" rel=\"apple-touch-icon\" sizes=\"72x72\"/>\n",
       "<link href=\"assets/icon/apple-icon-76x76.png\" rel=\"apple-touch-icon\" sizes=\"76x76\"/>\n",
       "<link href=\"assets/icon/apple-icon-114x114.png\" rel=\"apple-touch-icon\" sizes=\"114x114\"/>\n",
       "<link href=\"assets/icon/apple-icon-120x120.png\" rel=\"apple-touch-icon\" sizes=\"120x120\"/>\n",
       "<link href=\"assets/icon/apple-icon-144x144.png\" rel=\"apple-touch-icon\" sizes=\"144x144\"/>\n",
       "<link href=\"assets/icon/apple-icon-152x152.png\" rel=\"apple-touch-icon\" sizes=\"152x152\"/>\n",
       "<link href=\"assets/icon/apple-icon-180x180.png\" rel=\"apple-touch-icon\" sizes=\"180x180\"/>\n",
       "<!--<link rel=\"icon\" type=\"image/png\" sizes=\"192x192\" href=\"assets/icon/android-icon-192x192.png\">-->\n",
       "<link href=\"assets/icon/favicon-32x32.png\" rel=\"icon\" sizes=\"32x32\" type=\"image/png\"/>\n",
       "<!--<link rel=\"icon\" type=\"image/png\" sizes=\"96x96\" href=\"assets/icon/favicon-96x96.png\">-->\n",
       "<!--<link rel=\"icon\" type=\"image/png\" sizes=\"16x16\" href=\"assets/icon/favicon-16x16.png\">-->\n",
       "<link href=\"assets/icon/favicon.ico\" rel=\"shortcut icon\" type=\"image/x-icon\"/>\n",
       "<link crossorigin=\"use-credentials\" href=\"assets/manifest.json\" rel=\"manifest\"/>\n",
       "<link href=\"assets/opensearch.xml\" rel=\"search\" title=\"네이버지도\" type=\"application/opensearchdescription+xml\"/>\n",
       "<meta content=\"#00bcd4\" name=\"msapplication-TileColor\"/>\n",
       "<meta content=\"assets/icon/ms-icon-144x144.png\" name=\"msapplication-TileImage\"/>\n",
       "<meta content=\"#00bcd4\" name=\"theme-color\"/>\n",
       "<link href=\"styles.21c98575d4b0aeae20de.css\" rel=\"stylesheet\"/></head>\n",
       "<body>\n",
       "<app></app>\n",
       "<div id=\"preview_area\">\n",
       "<div class=\"navbar_box\">\n",
       "<h1 class=\"logo_box\">\n",
       "<span class=\"link_logo\">\n",
       "<span class=\"blind\">NAVER</span>\n",
       "</span>\n",
       "</h1>\n",
       "<div class=\"scroll_area\">\n",
       "<div class=\"scroll_box\">\n",
       "<ul class=\"list_navbar\">\n",
       "<li class=\"item_navbar\">\n",
       "<span class=\"link_navbar home\">\n",
       "<span class=\"navbar_text\">지도 홈</span>\n",
       "</span>\n",
       "</li>\n",
       "<li class=\"item_navbar\">\n",
       "<span class=\"link_navbar directions\">\n",
       "<span class=\"navbar_text\">길찾기</span>\n",
       "</span>\n",
       "</li>\n",
       "<li class=\"item_navbar\">\n",
       "<span class=\"link_navbar bus\">\n",
       "<span class=\"navbar_text\">버스</span>\n",
       "</span>\n",
       "</li>\n",
       "<li class=\"item_navbar\">\n",
       "<span class=\"link_navbar subway\">\n",
       "<span class=\"navbar_text\">지하철</span>\n",
       "</span>\n",
       "</li>\n",
       "<li class=\"item_navbar\">\n",
       "<span class=\"link_navbar train\">\n",
       "<span class=\"navbar_text\">기차</span>\n",
       "</span>\n",
       "</li>\n",
       "<li class=\"item_navbar\">\n",
       "<span class=\"link_navbar favorite\">\n",
       "<span class=\"navbar_text\">즐겨찾기</span>\n",
       "</span>\n",
       "</li>\n",
       "<li class=\"item_navbar\">\n",
       "<span class=\"link_navbar settings\">\n",
       "<span class=\"navbar_text\">더보기</span>\n",
       "</span>\n",
       "</li>\n",
       "</ul>\n",
       "</div>\n",
       "</div>\n",
       "</div>\n",
       "<div class=\"loading_box\"></div>\n",
       "</div>\n",
       "<div class=\"base_map\" id=\"baseMap\"></div>\n",
       "<div id=\"subwayMap\"></div>\n",
       "<div id=\"_unsupported_browser\"></div>\n",
       "<noscript>\n",
       "<div id=\"no-script\">\n",
       "<div class=\"no-script-message\">\n",
       "<div class=\"title\">네이버 지도를 사용하려면 자바스크립트 설정이 필요합니다.</div>\n",
       "<div class=\"desc\">\n",
       "            Chrome, Firefox 와 같은 브라우저에서 자바스크립트 기능을 사용 설정하지 않으면 네이버 지도를 볼 수 없습니다.\n",
       "          </div>\n",
       "<div class=\"explain\">[예시 : Chrome 브라우저 설정 방법]</div>\n",
       "<ol class=\"items\">\n",
       "<li>Chrome 브라우저 창을 열고, 환경설정을 클릭</li>\n",
       "<li>하단에서 고급 선택</li>\n",
       "<li>‘개인정보 및 보안’ 에서 콘텐츠 설정을 클릭</li>\n",
       "<li>자바스크립트 클릭 후, 허용으로 설정</li>\n",
       "</ol>\n",
       "</div>\n",
       "</div>\n",
       "</noscript>\n",
       "<script>\n",
       "      var ie = (function () {\n",
       "        if (window.ActiveXObject === undefined) return null;\n",
       "        if (!document.querySelector) return 7;\n",
       "        if (!document.addEventListener) return 8;\n",
       "        if (!window.atob) return 9;\n",
       "        if (!document.__proto__) return 10;\n",
       "        return 11;\n",
       "      })();\n",
       "      if (ie && ie < 11) {\n",
       "        location.href = 'https://map.naver.com/v5/unsupported-browser.html';\n",
       "      }\n",
       "      __Zone_disable_requestAnimationFrame = true;\n",
       "      __Zone_disable_on_property = true;\n",
       "      __Zone_disable_timers = true;\n",
       "      __Zone_disable_XHR = true;\n",
       "      __Zone_disable_PromiseRejectionEvent = true;\n",
       "      __Zone_disable_crypto = true;\n",
       "      __zone_symbol__BLACK_LISTED_EVENTS = [\n",
       "        'scroll',\n",
       "        'pointerstart',\n",
       "        'pointermove',\n",
       "        'pointerend',\n",
       "        'pointerout',\n",
       "        'pointerover',\n",
       "        'mousemove',\n",
       "        'mousewheel',\n",
       "        'wheel'\n",
       "      ];\n",
       "      window['__zone_symbol__PASSIVE_EVENTS'] = [\n",
       "        'scroll',\n",
       "        'message',\n",
       "        'mouseout',\n",
       "      ];\n",
       "      var targets = [window, Worker, Document, HTMLBodyElement, HTMLCanvasElement, HTMLElement];\n",
       "      __Zone_ignore_on_properties = [];\n",
       "      targets.forEach(function (target) {\n",
       "        __Zone_ignore_on_properties.push({\n",
       "          target: target,\n",
       "          ignoreProperties: [\n",
       "            'scroll',\n",
       "            'message',\n",
       "            'pointermove',\n",
       "            'mousemove',\n",
       "            'mousewheel',\n",
       "            'mouseout',\n",
       "            'wheel',\n",
       "            'mousewheel'\n",
       "          ]\n",
       "        });\n",
       "      });\n",
       "      if (ie) {\n",
       "        window.__Zone_enable_cross_context_check = true;\n",
       "      }\n",
       "    </script>\n",
       "<script src=\"runtime-es2015.b1c26e4594dc1f1c598c.js\" type=\"module\"></script><script defer=\"\" nomodule=\"\" src=\"runtime-es5.b1c26e4594dc1f1c598c.js\"></script><script defer=\"\" nomodule=\"\" src=\"polyfills-es5.ed5032a8283d99574d0b.js\"></script><script src=\"polyfills-es2015.8014e26284b526dd1aca.js\" type=\"module\"></script><script defer=\"\" src=\"scripts.22e3df55b9c9035c5741.js\"></script><script src=\"vendor-es2015.939cec8cbbb8340658d5.js\" type=\"module\"></script><script defer=\"\" nomodule=\"\" src=\"vendor-es5.939cec8cbbb8340658d5.js\"></script><script src=\"main-es2015.5c853feef36ff09a682b.js\" type=\"module\"></script><script defer=\"\" nomodule=\"\" src=\"main-es5.5c853feef36ff09a682b.js\"></script></body>\n",
       "</html>\n",
       ">"
      ]
     },
     "execution_count": 11,
     "metadata": {},
     "output_type": "execute_result"
    }
   ],
   "source": [
    "# soup으로 가져온 html 코드 정렬해서 출력 \n",
    "soup.prettify"
   ]
  },
  {
   "cell_type": "code",
   "execution_count": 16,
   "id": "001557fa-5eeb-4e01-86c2-1bbd0310846a",
   "metadata": {},
   "outputs": [
    {
     "ename": "AttributeError",
     "evalue": "module 'selenium.webdriver' has no attribute 'PhantomJS'",
     "output_type": "error",
     "traceback": [
      "\u001b[1;31m---------------------------------------------------------------------------\u001b[0m",
      "\u001b[1;31mAttributeError\u001b[0m                            Traceback (most recent call last)",
      "Input \u001b[1;32mIn [16]\u001b[0m, in \u001b[0;36m<cell line: 4>\u001b[1;34m()\u001b[0m\n\u001b[0;32m      1\u001b[0m \u001b[38;5;28;01mfrom\u001b[39;00m \u001b[38;5;21;01mselenium\u001b[39;00m \u001b[38;5;28;01mimport\u001b[39;00m webdriver\n\u001b[0;32m      2\u001b[0m \u001b[38;5;28;01mfrom\u001b[39;00m \u001b[38;5;21;01mselenium\u001b[39;00m\u001b[38;5;21;01m.\u001b[39;00m\u001b[38;5;21;01mwebdriver\u001b[39;00m\u001b[38;5;21;01m.\u001b[39;00m\u001b[38;5;21;01mcommon\u001b[39;00m\u001b[38;5;21;01m.\u001b[39;00m\u001b[38;5;21;01mkeys\u001b[39;00m \u001b[38;5;28;01mimport\u001b[39;00m Keys\n\u001b[1;32m----> 4\u001b[0m driver \u001b[38;5;241m=\u001b[39m \u001b[43mwebdriver\u001b[49m\u001b[38;5;241;43m.\u001b[39;49m\u001b[43mPhantomJS\u001b[49m(\u001b[38;5;124m'\u001b[39m\u001b[38;5;124mC:\u001b[39m\u001b[38;5;130;01m\\\\\u001b[39;00m\u001b[38;5;124mUsers\u001b[39m\u001b[38;5;130;01m\\\\\u001b[39;00m\u001b[38;5;124muser\u001b[39m\u001b[38;5;130;01m\\\\\u001b[39;00m\u001b[38;5;124mDesktop\u001b[39m\u001b[38;5;130;01m\\\\\u001b[39;00m\u001b[38;5;124mDataAnalysisStudy\u001b[39m\u001b[38;5;130;01m\\\\\u001b[39;00m\u001b[38;5;124mphantomjs-2.1.1-windows\u001b[39m\u001b[38;5;130;01m\\\\\u001b[39;00m\u001b[38;5;124mbin\u001b[39m\u001b[38;5;130;01m\\\\\u001b[39;00m\u001b[38;5;124mphantomjs.exe\u001b[39m\u001b[38;5;124m'\u001b[39m)\n",
      "\u001b[1;31mAttributeError\u001b[0m: module 'selenium.webdriver' has no attribute 'PhantomJS'"
     ]
    }
   ],
   "source": [
    "# PhantomJS 사용해보려 했으나 큰 의미 없음..\n",
    "\n",
    "from selenium import webdriver\n",
    "from selenium.webdriver.common.keys import Keys\n",
    "\n",
    "driver = webdriver.PhantomJS('C:\\\\Users\\\\user\\\\Desktop\\\\DataAnalysisStudy\\\\phantomjs-2.1.1-windows\\\\bin\\\\phantomjs.exe')"
   ]
  },
  {
   "cell_type": "code",
   "execution_count": null,
   "id": "90a50bf6-8519-45b2-a2b0-922192ef3369",
   "metadata": {},
   "outputs": [],
   "source": [
    "C:\\Users\\user\\Desktop\\DataAnalysisStudy\\phantomjs-2.1.1-windows\\bin\\phantomjs.exe"
   ]
  },
  {
   "cell_type": "code",
   "execution_count": null,
   "id": "389a454c-fe8d-4f9e-8bdb-1ca454e75186",
   "metadata": {},
   "outputs": [],
   "source": []
  },
  {
   "cell_type": "code",
   "execution_count": 12,
   "id": "3a85274b-d0d4-47bb-b1fe-004a45216681",
   "metadata": {},
   "outputs": [],
   "source": [
    "from selenium.webdriver import Chrome\n",
    "import time\n",
    "import sqlite3\n",
    "from pandas.io import sql\n",
    "import os\n",
    "import pandas as pd"
   ]
  },
  {
   "cell_type": "code",
   "execution_count": 13,
   "id": "5ff26196-a8d8-4c86-a78e-7f6b87000517",
   "metadata": {},
   "outputs": [],
   "source": [
    "from selenium import webdriver\n",
    "\n",
    "options = webdriver.ChromeOptions()\n",
    "options.add_argument('--headless')\n",
    "options.add_argument('--disable-gpu')\n",
    "options.add_argument('--window-size=1280x1024')\n",
    "# options.add_argument(\"--start-maximized\");\n",
    "\n",
    "browser = webdriver.Chrome('chromedriver', options=options)"
   ]
  },
  {
   "cell_type": "code",
   "execution_count": 14,
   "id": "746afff8-ae89-4fdb-9f4b-f4059481dbfb",
   "metadata": {},
   "outputs": [],
   "source": [
    "browser.close()"
   ]
  },
  {
   "cell_type": "code",
   "execution_count": 3,
   "id": "483609bb-db33-42b6-a338-7710b9c0fad2",
   "metadata": {},
   "outputs": [],
   "source": [
    "browser.get('https://map.naver.com/v5/search/%EA%B4%91%EC%A3%BC%20%EA%B3%B5%EC%A4%91%EC%A0%84%ED%99%94%20%EC%98%A5%EC%99%B8')\n",
    "browser.implicitly_wait(7)"
   ]
  },
  {
   "cell_type": "code",
   "execution_count": null,
   "id": "4090c12b-32da-4dc2-8136-ee421eba0553",
   "metadata": {},
   "outputs": [],
   "source": [
    "browser.switch_to.frame(\"searchIframe\")"
   ]
  },
  {
   "cell_type": "code",
   "execution_count": 4,
   "id": "54377d83-816d-4bbc-907f-1725ac64e8cb",
   "metadata": {},
   "outputs": [
    {
     "ename": "NoSuchElementException",
     "evalue": "Message: no such element: Unable to locate element: {\"method\":\"xpath\",\"selector\":\"//*[@id=\"_pcmap_list_scroll_container\"]/ul/li[1]/div[1]/div/div/div/div/text()[1]\"}\n  (Session info: headless chrome=103.0.5060.134)\nStacktrace:\nBacktrace:\n\tOrdinal0 [0x00446463+2188387]\n\tOrdinal0 [0x003DE461+1762401]\n\tOrdinal0 [0x002F3D78+802168]\n\tOrdinal0 [0x00321880+989312]\n\tOrdinal0 [0x00321B1B+989979]\n\tOrdinal0 [0x0034E912+1173778]\n\tOrdinal0 [0x0033C824+1099812]\n\tOrdinal0 [0x0034CC22+1166370]\n\tOrdinal0 [0x0033C5F6+1099254]\n\tOrdinal0 [0x00316BE0+945120]\n\tOrdinal0 [0x00317AD6+948950]\n\tGetHandleVerifier [0x006E71F2+2712546]\n\tGetHandleVerifier [0x006D886D+2652765]\n\tGetHandleVerifier [0x004D002A+520730]\n\tGetHandleVerifier [0x004CEE06+516086]\n\tOrdinal0 [0x003E468B+1787531]\n\tOrdinal0 [0x003E8E88+1805960]\n\tOrdinal0 [0x003E8F75+1806197]\n\tOrdinal0 [0x003F1DF1+1842673]\n\tBaseThreadInitThunk [0x75A3FA29+25]\n\tRtlGetAppContainerNamedObjectPath [0x77697A9E+286]\n\tRtlGetAppContainerNamedObjectPath [0x77697A6E+238]\n",
     "output_type": "error",
     "traceback": [
      "\u001b[1;31m---------------------------------------------------------------------------\u001b[0m",
      "\u001b[1;31mNoSuchElementException\u001b[0m                    Traceback (most recent call last)",
      "Input \u001b[1;32mIn [4]\u001b[0m, in \u001b[0;36m<cell line: 1>\u001b[1;34m()\u001b[0m\n\u001b[1;32m----> 1\u001b[0m addr \u001b[38;5;241m=\u001b[39m \u001b[43mbrowser\u001b[49m\u001b[38;5;241;43m.\u001b[39;49m\u001b[43mfind_element\u001b[49m\u001b[43m(\u001b[49m\u001b[38;5;124;43m'\u001b[39;49m\u001b[38;5;124;43mxpath\u001b[39;49m\u001b[38;5;124;43m'\u001b[39;49m\u001b[43m,\u001b[49m\u001b[43m \u001b[49m\u001b[38;5;124;43m'\u001b[39;49m\u001b[38;5;124;43m//*[@id=\u001b[39;49m\u001b[38;5;124;43m\"\u001b[39;49m\u001b[38;5;124;43m_pcmap_list_scroll_container\u001b[39;49m\u001b[38;5;124;43m\"\u001b[39;49m\u001b[38;5;124;43m]/ul/li[1]/div[1]/div/div/div/div/text()[1]\u001b[39;49m\u001b[38;5;124;43m'\u001b[39;49m\u001b[43m)\u001b[49m\n\u001b[0;32m      2\u001b[0m browser\u001b[38;5;241m.\u001b[39mimplicitly_wait(\u001b[38;5;241m5\u001b[39m)\n",
      "File \u001b[1;32m~\\anaconda3\\lib\\site-packages\\selenium\\webdriver\\remote\\webdriver.py:857\u001b[0m, in \u001b[0;36mWebDriver.find_element\u001b[1;34m(self, by, value)\u001b[0m\n\u001b[0;32m    854\u001b[0m     by \u001b[38;5;241m=\u001b[39m By\u001b[38;5;241m.\u001b[39mCSS_SELECTOR\n\u001b[0;32m    855\u001b[0m     value \u001b[38;5;241m=\u001b[39m \u001b[38;5;124m'\u001b[39m\u001b[38;5;124m[name=\u001b[39m\u001b[38;5;124m\"\u001b[39m\u001b[38;5;132;01m%s\u001b[39;00m\u001b[38;5;124m\"\u001b[39m\u001b[38;5;124m]\u001b[39m\u001b[38;5;124m'\u001b[39m \u001b[38;5;241m%\u001b[39m value\n\u001b[1;32m--> 857\u001b[0m \u001b[38;5;28;01mreturn\u001b[39;00m \u001b[38;5;28;43mself\u001b[39;49m\u001b[38;5;241;43m.\u001b[39;49m\u001b[43mexecute\u001b[49m\u001b[43m(\u001b[49m\u001b[43mCommand\u001b[49m\u001b[38;5;241;43m.\u001b[39;49m\u001b[43mFIND_ELEMENT\u001b[49m\u001b[43m,\u001b[49m\u001b[43m \u001b[49m\u001b[43m{\u001b[49m\n\u001b[0;32m    858\u001b[0m \u001b[43m    \u001b[49m\u001b[38;5;124;43m'\u001b[39;49m\u001b[38;5;124;43musing\u001b[39;49m\u001b[38;5;124;43m'\u001b[39;49m\u001b[43m:\u001b[49m\u001b[43m \u001b[49m\u001b[43mby\u001b[49m\u001b[43m,\u001b[49m\n\u001b[0;32m    859\u001b[0m \u001b[43m    \u001b[49m\u001b[38;5;124;43m'\u001b[39;49m\u001b[38;5;124;43mvalue\u001b[39;49m\u001b[38;5;124;43m'\u001b[39;49m\u001b[43m:\u001b[49m\u001b[43m \u001b[49m\u001b[43mvalue\u001b[49m\u001b[43m}\u001b[49m\u001b[43m)\u001b[49m[\u001b[38;5;124m'\u001b[39m\u001b[38;5;124mvalue\u001b[39m\u001b[38;5;124m'\u001b[39m]\n",
      "File \u001b[1;32m~\\anaconda3\\lib\\site-packages\\selenium\\webdriver\\remote\\webdriver.py:435\u001b[0m, in \u001b[0;36mWebDriver.execute\u001b[1;34m(self, driver_command, params)\u001b[0m\n\u001b[0;32m    433\u001b[0m response \u001b[38;5;241m=\u001b[39m \u001b[38;5;28mself\u001b[39m\u001b[38;5;241m.\u001b[39mcommand_executor\u001b[38;5;241m.\u001b[39mexecute(driver_command, params)\n\u001b[0;32m    434\u001b[0m \u001b[38;5;28;01mif\u001b[39;00m response:\n\u001b[1;32m--> 435\u001b[0m     \u001b[38;5;28;43mself\u001b[39;49m\u001b[38;5;241;43m.\u001b[39;49m\u001b[43merror_handler\u001b[49m\u001b[38;5;241;43m.\u001b[39;49m\u001b[43mcheck_response\u001b[49m\u001b[43m(\u001b[49m\u001b[43mresponse\u001b[49m\u001b[43m)\u001b[49m\n\u001b[0;32m    436\u001b[0m     response[\u001b[38;5;124m'\u001b[39m\u001b[38;5;124mvalue\u001b[39m\u001b[38;5;124m'\u001b[39m] \u001b[38;5;241m=\u001b[39m \u001b[38;5;28mself\u001b[39m\u001b[38;5;241m.\u001b[39m_unwrap_value(\n\u001b[0;32m    437\u001b[0m         response\u001b[38;5;241m.\u001b[39mget(\u001b[38;5;124m'\u001b[39m\u001b[38;5;124mvalue\u001b[39m\u001b[38;5;124m'\u001b[39m, \u001b[38;5;28;01mNone\u001b[39;00m))\n\u001b[0;32m    438\u001b[0m     \u001b[38;5;28;01mreturn\u001b[39;00m response\n",
      "File \u001b[1;32m~\\anaconda3\\lib\\site-packages\\selenium\\webdriver\\remote\\errorhandler.py:247\u001b[0m, in \u001b[0;36mErrorHandler.check_response\u001b[1;34m(self, response)\u001b[0m\n\u001b[0;32m    245\u001b[0m         alert_text \u001b[38;5;241m=\u001b[39m value[\u001b[38;5;124m'\u001b[39m\u001b[38;5;124malert\u001b[39m\u001b[38;5;124m'\u001b[39m]\u001b[38;5;241m.\u001b[39mget(\u001b[38;5;124m'\u001b[39m\u001b[38;5;124mtext\u001b[39m\u001b[38;5;124m'\u001b[39m)\n\u001b[0;32m    246\u001b[0m     \u001b[38;5;28;01mraise\u001b[39;00m exception_class(message, screen, stacktrace, alert_text)  \u001b[38;5;66;03m# type: ignore[call-arg]  # mypy is not smart enough here\u001b[39;00m\n\u001b[1;32m--> 247\u001b[0m \u001b[38;5;28;01mraise\u001b[39;00m exception_class(message, screen, stacktrace)\n",
      "\u001b[1;31mNoSuchElementException\u001b[0m: Message: no such element: Unable to locate element: {\"method\":\"xpath\",\"selector\":\"//*[@id=\"_pcmap_list_scroll_container\"]/ul/li[1]/div[1]/div/div/div/div/text()[1]\"}\n  (Session info: headless chrome=103.0.5060.134)\nStacktrace:\nBacktrace:\n\tOrdinal0 [0x00446463+2188387]\n\tOrdinal0 [0x003DE461+1762401]\n\tOrdinal0 [0x002F3D78+802168]\n\tOrdinal0 [0x00321880+989312]\n\tOrdinal0 [0x00321B1B+989979]\n\tOrdinal0 [0x0034E912+1173778]\n\tOrdinal0 [0x0033C824+1099812]\n\tOrdinal0 [0x0034CC22+1166370]\n\tOrdinal0 [0x0033C5F6+1099254]\n\tOrdinal0 [0x00316BE0+945120]\n\tOrdinal0 [0x00317AD6+948950]\n\tGetHandleVerifier [0x006E71F2+2712546]\n\tGetHandleVerifier [0x006D886D+2652765]\n\tGetHandleVerifier [0x004D002A+520730]\n\tGetHandleVerifier [0x004CEE06+516086]\n\tOrdinal0 [0x003E468B+1787531]\n\tOrdinal0 [0x003E8E88+1805960]\n\tOrdinal0 [0x003E8F75+1806197]\n\tOrdinal0 [0x003F1DF1+1842673]\n\tBaseThreadInitThunk [0x75A3FA29+25]\n\tRtlGetAppContainerNamedObjectPath [0x77697A9E+286]\n\tRtlGetAppContainerNamedObjectPath [0x77697A6E+238]\n"
     ]
    }
   ],
   "source": [
    "addr = browser.find_element('xpath', '//*[@id=\"_pcmap_list_scroll_container\"]/ul/li[1]/div[1]/div/div/div/div/text()[1]')\n",
    "browser.implicitly_wait(5)"
   ]
  },
  {
   "cell_type": "code",
   "execution_count": null,
   "id": "64dc9df7-0c8e-4c6e-a418-018c46257cd7",
   "metadata": {},
   "outputs": [],
   "source": [
    "//*[@id=\"_pcmap_list_scroll_container\"]/ul/li[1]/div[1]/div/div/div/div/text()[1]"
   ]
  },
  {
   "cell_type": "code",
   "execution_count": 6,
   "id": "8eb1e4ca-937f-47cd-8ab4-ebb8e95e1213",
   "metadata": {},
   "outputs": [],
   "source": [
    "browser.close()"
   ]
  },
  {
   "cell_type": "code",
   "execution_count": null,
   "id": "f2477bcd-a438-477b-aa38-50aab80297c2",
   "metadata": {},
   "outputs": [],
   "source": [
    "#searchIframe"
   ]
  }
 ],
 "metadata": {
  "kernelspec": {
   "display_name": "Python 3 (ipykernel)",
   "language": "python",
   "name": "python3"
  },
  "language_info": {
   "codemirror_mode": {
    "name": "ipython",
    "version": 3
   },
   "file_extension": ".py",
   "mimetype": "text/x-python",
   "name": "python",
   "nbconvert_exporter": "python",
   "pygments_lexer": "ipython3",
   "version": "3.9.12"
  }
 },
 "nbformat": 4,
 "nbformat_minor": 5
}
