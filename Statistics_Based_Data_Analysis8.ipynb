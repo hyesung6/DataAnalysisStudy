{
 "cells": [
  {
   "cell_type": "markdown",
   "id": "37da5aed-6069-4d66-871d-c461ead1ea54",
   "metadata": {},
   "source": [
    "# 통계적 검정 방법"
   ]
  },
  {
   "cell_type": "code",
   "execution_count": 1,
   "id": "8c542899-ee27-48ac-82c4-a5490ae7365c",
   "metadata": {},
   "outputs": [],
   "source": [
    "import os\n",
    "import warnings\n",
    "warnings.simplefilter(action='ignore', category=FutureWarning)   # FutureWarning 제거\n",
    "\n",
    "import pandas as pd\n",
    "import numpy as np\n",
    "import math\n",
    "from scipy import stats\n",
    "\n",
    "import matplotlib.pyplot as plt\n",
    "import seaborn as sns\n",
    "%matplotlib inline\n",
    "\n",
    "font_family = 'Malgun Gothic'\n",
    "\n",
    "sns.set(font=font_family, rc={'axes.unicode_minus' : False})"
   ]
  },
  {
   "cell_type": "markdown",
   "id": "f30e2049-aa4f-49bb-b68d-efdaa7be3e43",
   "metadata": {},
   "source": [
    "- statsmodels 패키지\n",
    "  - statsmodel 패키지는 추정 및 검정, 회귀분석, 시계열분석 등의 기능을 제공하는 파이썬 패키지\n",
    "  - 예제 데이터셋\n",
    "  - 검정 및 모수 추정\n",
    "  - 회귀 분석\n",
    "  - 선형 회귀\n",
    "  - 강건 회귀\n",
    "  - 일반화 선형모델\n",
    "  - 혼합효과모델\n",
    "  - 이산종속변수\n",
    "  - 시계열분석\n",
    "  \n",
    "  ...\n",
    "  - 요인 분석\n",
    "  \n",
    "  \n",
    "---\n",
    "\n",
    "\n",
    "- statsModels에서 제공하는 정규성 검정 명령어\n",
    "  - 콜모고로프-스미르노프 검정 ( Kolmogorov-Smirnov test ) :\n",
    "    - statsmodels.stats.diagnostic.kstest_normal\n",
    "  - 옴니버스 검정 ( Omnibus Normality test ) :\n",
    "    - statsmodels.stats.stattools.omni_normtest\n",
    "  - 자크-베라 검정 ( Jarque-Bera test ) :\n",
    "    - statsmodels.stats.stattools.jarque_bera\n",
    "  - 릴리포스 검정 ( Lilliefors test ) :\n",
    "    - statsmodels.stats.diagnostic.lillifors\n",
    "\n",
    "---\n",
    "\n",
    "- scipy에서 제공하는 정규성 검정 명령어\n",
    "  - 콜모고로프-스미르노프 검정\n",
    "    - scipy.stats.ks_2samp\n",
    "  - 샤피로-윌크 검정 ( Shapiro-Wilk test ) :\n",
    "    - scipy.stats.shapiro\n",
    "  - 앤더스-달링 검정 ( Anderson-Darling test ) :\n",
    "    - scipy.stats.anderson\n",
    "  - 다고스티노 K-제곱 검정 ( D'Agostino's K-squared test ) :\n",
    "    - scipy.stats.mstats.normaltest"
   ]
  },
  {
   "cell_type": "markdown",
   "id": "4f79a2dc-a343-4aa4-adcc-c1d1d7ac6aae",
   "metadata": {},
   "source": [
    "## t검정\n",
    "### 일표본 t-검정 ( one sample t-test )\n",
    "- stats.ttest_1samp() 이용 ( alternative : {'two-sided', 'less', 'greater'} )\n",
    "- stats.shapiro 정규성 검정\n",
    "- numpy의 std는 모표준편차(ddof=0)이 기본값\n",
    "- pandas의 std는 표본표준편차(ddof=1)이 기본값  \n",
    "---\n",
    "- 증명하고자 하는 가설\n",
    "  - 아이리포 중학교 1학년의 평균 키는 175cm로 알려져 있다. 실제로도 그러한지 알아보기 위해 학생 14명을 임의로 뽑아서 키를 측정하였다. 해당 데이터를 가지고 아이리포 중학교 1학년 학생의 평균 키는 175cm와 같다고 할 수 있는지 검정해보자 ( 유의수준 : 0.05 )  \n",
    "  \n",
    "- 귀무가설 : 아이리포 중학교 1학년의 평균 키는 175cm이다.  \n",
    "- 대립가설 : 아이리포 중학교 1학년의 평균 키는 175cm가 아니다."
   ]
  },
  {
   "cell_type": "code",
   "execution_count": 2,
   "id": "0db045f3-3199-4997-ba3f-53e9ace69cf4",
   "metadata": {},
   "outputs": [
    {
     "data": {
      "text/plain": [
       "ShapiroResult(statistic=0.9641273021697998, pvalue=0.7900116443634033)"
      ]
     },
     "execution_count": 2,
     "metadata": {},
     "output_type": "execute_result"
    }
   ],
   "source": [
    "# 모집단 데이터\n",
    "data = [177.3, 182.7, 169.6, 160, 180.3, 179.4, 178.5, 177.2, 181.8, 176.5, 190, 185, 167, 171]\n",
    "\n",
    "### 데이터의 정규성 검정 : p-value > 0.05 이면 정규성을 따름\n",
    "stats.shapiro(data)"
   ]
  },
  {
   "cell_type": "markdown",
   "id": "bb9cc582-d983-40ad-8b47-b37aa8e045d6",
   "metadata": {},
   "source": [
    "- stats.ttest_1samp로 검정 통계량 계산"
   ]
  },
  {
   "cell_type": "code",
   "execution_count": 4,
   "id": "e0e198b8-3741-474e-b047-c502093ecaa4",
   "metadata": {},
   "outputs": [
    {
     "name": "stdout",
     "output_type": "stream",
     "text": [
      "t검정 통계량 = 0.903, p-value = 0.383\n"
     ]
    }
   ],
   "source": [
    "# 유의수준 0.05\n",
    "m_a = 0.05\n",
    "\n",
    "# 알려진 평균 확인\n",
    "s_mu = 175\n",
    "one_sample_result = stats.ttest_1samp(data, popmean = s_mu)\n",
    "\n",
    "print(f't검정 통계량 = {one_sample_result[0]:.3f}, p-value = {one_sample_result[1]:.3f}')"
   ]
  },
  {
   "cell_type": "markdown",
   "id": "063d570e-f407-4f8c-9944-593f3a7070c2",
   "metadata": {},
   "source": [
    "- 검정 통계량 직접 계산"
   ]
  },
  {
   "cell_type": "code",
   "execution_count": 9,
   "id": "5638bb56-7a13-4159-bbed-805335d719e0",
   "metadata": {},
   "outputs": [
    {
     "name": "stdout",
     "output_type": "stream",
     "text": [
      "표본 수 : 14\n",
      "표본평균 : 176.87857142857143\n",
      "표본표준편차 : 7.782443611837389\n",
      "t검정 통계량 : 0.903\n",
      "p_value(유의확률) : 0.383\n"
     ]
    }
   ],
   "source": [
    "# 표본 수\n",
    "n = len(data)\n",
    "print(f'표본 수 : {len(data)}')\n",
    "      \n",
    "hysis_mu = np.mean(data)\n",
    "print(f'표본평균 : {hysis_mu}')\n",
    "\n",
    "# 알려진 평균\n",
    "s_mu = 175\n",
    "\n",
    "# 표본표준편차\n",
    "s_sigma = np.std(data, ddof=1)    # 넘파이 std는 모표준편차(ddof=0)이 Default이므로 , 표본표준편차를 구하려면 ddof=1을 추가\n",
    "print(f'표본표준편차 : {s_sigma}')\n",
    "\n",
    "# 통계량 t값 계산\n",
    "t_value = (hysis_mu - s_mu) / (s_sigma / np.sqrt(n))\n",
    "print(f't검정 통계량 : {t_value:.3f}')\n",
    "\n",
    "# p-value(유의확률) 계산\n",
    "print(f'p_value(유의확률) : {(1-stats.t(df=13).cdf(t_value))*2 :.3f}')"
   ]
  },
  {
   "cell_type": "code",
   "execution_count": 10,
   "id": "f13abbd5-b91a-4ef0-aa52-9a053daf9187",
   "metadata": {},
   "outputs": [
    {
     "name": "stdout",
     "output_type": "stream",
     "text": [
      "유의수준 : 0.05\n",
      "기각값 : 2.1603686564610127\n"
     ]
    }
   ],
   "source": [
    "## 기각값\n",
    "# 유의수준 0.05\n",
    "print(f'유의수준 : {m_a}')\n",
    "\n",
    "# 기각값\n",
    "t_95 = stats.t.ppf(1 - (1-0.95) / 2, df=n-1)\n",
    "print(f'기각값 : {t_95}')"
   ]
  },
  {
   "cell_type": "markdown",
   "id": "9f87f5e4-7a8e-4662-96bb-41159a384414",
   "metadata": {},
   "source": [
    "***[   결론     ]***\n",
    "\n",
    "\n",
    "- 검정 통계량 검정 : 0.903은 채택역에 속함 ( 기각역 2.16 )\n",
    "- P-value 검정 : 0.05(유의수준) < 0.383(P-value), 귀무가설 채택\n",
    "- 아이리포 중학교 1학년의 평균 키는 175cm이다.\n",
    "---"
   ]
  },
  {
   "cell_type": "markdown",
   "id": "a7e37995-96ad-44a9-b456-4942421a1bc1",
   "metadata": {},
   "source": [
    "### 대응표본 t-검정 ( paired sample t-test )\n",
    "- stats.ttest_rel(before_data, after_data)\n",
    "---\n",
    "- 증명하고자 하는 가설\n",
    "  - 10명의 환자를 대상으로 비타민을 복용하기 전과 후의 수면시간을 측정하여 비타민의 효과가 있는지를 판단하고자 한다. 표본이 정규성을 만족한다는 가정하에 수면시간의 차이가 줄어들었는지 검정 ( 유의수준 : 0.05 )\n",
    "  - 귀무가설 : 수면영양제를 복용하기 전과 후의 평균 수면시간에는 차이가 없다. (D=0)\n",
    "  - 대립가설 : 수면영양제를 복용하기 전과 후의 평균 수면시간의 차이는 0보다 작다. (D<0)"
   ]
  },
  {
   "cell_type": "code",
   "execution_count": 14,
   "id": "f2c4809a-084a-4ff5-a458-73421a4e6fff",
   "metadata": {},
   "outputs": [],
   "source": [
    "# 검정 데이터 관측치\n",
    "before_data = [7, 3, 4, 5, 2, 1, 6, 6, 5, 4]\n",
    "after_data = [8, 4, 5, 6, 2, 3, 6, 8, 6, 5]\n",
    "\n",
    "check = ['before', 'after']\n",
    "# 데이터프레임 merge\n",
    "check = [check[j] for j in range(2) for i in range(10)]\n",
    "\n",
    "check\n",
    "\n",
    "data = pd.DataFrame({'when':check, 'score':before_data+after_data})"
   ]
  },
  {
   "cell_type": "code",
   "execution_count": 21,
   "id": "eb8d58ad-3157-4dff-9d8c-36dd46d789db",
   "metadata": {},
   "outputs": [
    {
     "data": {
      "text/html": [
       "<div>\n",
       "<style scoped>\n",
       "    .dataframe tbody tr th:only-of-type {\n",
       "        vertical-align: middle;\n",
       "    }\n",
       "\n",
       "    .dataframe tbody tr th {\n",
       "        vertical-align: top;\n",
       "    }\n",
       "\n",
       "    .dataframe thead th {\n",
       "        text-align: right;\n",
       "    }\n",
       "</style>\n",
       "<table border=\"1\" class=\"dataframe\">\n",
       "  <thead>\n",
       "    <tr style=\"text-align: right;\">\n",
       "      <th></th>\n",
       "      <th>when</th>\n",
       "      <th>score</th>\n",
       "    </tr>\n",
       "  </thead>\n",
       "  <tbody>\n",
       "    <tr>\n",
       "      <th>0</th>\n",
       "      <td>before</td>\n",
       "      <td>7</td>\n",
       "    </tr>\n",
       "    <tr>\n",
       "      <th>1</th>\n",
       "      <td>before</td>\n",
       "      <td>3</td>\n",
       "    </tr>\n",
       "    <tr>\n",
       "      <th>2</th>\n",
       "      <td>before</td>\n",
       "      <td>4</td>\n",
       "    </tr>\n",
       "    <tr>\n",
       "      <th>3</th>\n",
       "      <td>before</td>\n",
       "      <td>5</td>\n",
       "    </tr>\n",
       "    <tr>\n",
       "      <th>4</th>\n",
       "      <td>before</td>\n",
       "      <td>2</td>\n",
       "    </tr>\n",
       "  </tbody>\n",
       "</table>\n",
       "</div>"
      ],
      "text/plain": [
       "     when  score\n",
       "0  before      7\n",
       "1  before      3\n",
       "2  before      4\n",
       "3  before      5\n",
       "4  before      2"
      ]
     },
     "execution_count": 21,
     "metadata": {},
     "output_type": "execute_result"
    }
   ],
   "source": [
    "data.head()"
   ]
  },
  {
   "cell_type": "code",
   "execution_count": 22,
   "id": "ecbeaf7a-b76a-4af1-9488-ccf89a9a562b",
   "metadata": {},
   "outputs": [
    {
     "name": "stdout",
     "output_type": "stream",
     "text": [
      "ShapiroResult(statistic=0.9644594192504883, pvalue=0.8352694511413574)\n",
      "ShapiroResult(statistic=0.9456835985183716, pvalue=0.6177982091903687)\n"
     ]
    }
   ],
   "source": [
    "# 정규성 검정 : 자료의 모집단 분포는 정규분포를 따름\n",
    "from scipy.stats import shapiro\n",
    "\n",
    "normal_before = shapiro(before_data)\n",
    "normal_after = shapiro(after_data)\n",
    "\n",
    "print(normal_before)\n",
    "print(normal_after)\n",
    "\n",
    "# p_value 모두 0.05보다 크기 때문에 정규성 만족"
   ]
  },
  {
   "cell_type": "code",
   "execution_count": 25,
   "id": "a9ad00c9-73b5-466c-be60-40c34109beea",
   "metadata": {},
   "outputs": [
    {
     "name": "stdout",
     "output_type": "stream",
     "text": [
      "LeveneResult(statistic=0.0, pvalue=1.0)\n",
      "BartlettResult(statistic=0.007785808167159078, pvalue=0.9296881301038368)\n"
     ]
    }
   ],
   "source": [
    "# 등분산성 검정 : 모든 집단의 모분산은 동일함\n",
    "from scipy.stats import levene\n",
    "print(levene(before_data, after_data))\n",
    "\n",
    "from scipy.stats import bartlett\n",
    "print(bartlett(before_data, after_data))\n",
    "\n",
    "# p-value가 0.05보다 커서 등분산성 만족"
   ]
  },
  {
   "cell_type": "code",
   "execution_count": 27,
   "id": "ad18e64e-3488-43e1-9a26-42ebf442a8ff",
   "metadata": {},
   "outputs": [
    {
     "name": "stdout",
     "output_type": "stream",
     "text": [
      "t검정 통계량 = -4.743, p-value = 0.001\n"
     ]
    }
   ],
   "source": [
    "# 대응표본 t검정 수행\n",
    "paired_result = stats.ttest_rel(before_data, after_data)\n",
    "print(f't검정 통계량 = {paired_result[0]:.3f}, p-value = {paired_result[1]:.3f}')"
   ]
  },
  {
   "cell_type": "markdown",
   "id": "55e3da9e-f193-4b3b-873c-0fc34f218d30",
   "metadata": {},
   "source": [
    "***[결론 ]***\n",
    "- 대응표본 t검정 수행 결과, 검정 통계량 t값은 -4.7434, 유의확률(P-value)은 0.001\n",
    "- P-value 검정 : 0.05(유의수준)>0.001(p-value), 귀무가설 기각\n",
    "- 수면영양제를 복용하기 전과 후의 평균 수면시간 차이는 통계적으로 유의미하며, 영양제를 복용한 후 수면시간이 줄었다는 결론을 내릴 수 있음.\n",
    "---"
   ]
  },
  {
   "cell_type": "markdown",
   "id": "5a97b0f1-18f9-4893-911a-d0415511179a",
   "metadata": {},
   "source": [
    "### 독립표본 t-검정\n",
    "- 등분산성 만족 : stats.ttest_ind(x, y, equal_var = True )\n",
    "- 등분산성 불만족 : stats.ttest_ind(x, y, equal_var = False )\n",
    "\n",
    "---\n",
    "- 증명하고자 하는 가설\n",
    "  - 서울과 구미, 두 지역의 겨울 낮 최고기온에 차이가 있는지를 알아보기 위해 12일 동안 두 지역의 낮 최고 기온을 측정한 데이터로 독립표본 t검정을 수행해보자.(표본이 정규성을 만족한다는 가정, 양측검정 수행 )\n",
    "  - 귀무가설 : a, b 두 지역에 따른 겨울 낮 최고기온은 차이가 없다.\n",
    "  - 대립가설 : a, b 두 지역에 따른 겨울 낮 최고기온은 차이가 있다."
   ]
  },
  {
   "cell_type": "code",
   "execution_count": 35,
   "id": "d8b365ed-f561-4345-aa40-883efba5c093",
   "metadata": {},
   "outputs": [],
   "source": [
    "# 데이터프레임\n",
    "seoul = [-1, 0, 3, 4, 1, 3, 3, 1, 1, 3, 2, 4]\n",
    "daegu = [6, 6, 8, 8, 11, 11, 10, 8, 8, 9, 7, 10]\n",
    "region = ['seoul']*12 + ['daegu']*12\n",
    "data = pd.DataFrame({'region':region, 'temp':seoul+daegu})"
   ]
  },
  {
   "cell_type": "code",
   "execution_count": 36,
   "id": "6f941354-898f-43ab-8eda-25357d60bdb1",
   "metadata": {},
   "outputs": [
    {
     "data": {
      "text/html": [
       "<div>\n",
       "<style scoped>\n",
       "    .dataframe tbody tr th:only-of-type {\n",
       "        vertical-align: middle;\n",
       "    }\n",
       "\n",
       "    .dataframe tbody tr th {\n",
       "        vertical-align: top;\n",
       "    }\n",
       "\n",
       "    .dataframe thead th {\n",
       "        text-align: right;\n",
       "    }\n",
       "</style>\n",
       "<table border=\"1\" class=\"dataframe\">\n",
       "  <thead>\n",
       "    <tr style=\"text-align: right;\">\n",
       "      <th></th>\n",
       "      <th>region</th>\n",
       "      <th>temp</th>\n",
       "    </tr>\n",
       "  </thead>\n",
       "  <tbody>\n",
       "    <tr>\n",
       "      <th>0</th>\n",
       "      <td>seoul</td>\n",
       "      <td>-1</td>\n",
       "    </tr>\n",
       "    <tr>\n",
       "      <th>1</th>\n",
       "      <td>seoul</td>\n",
       "      <td>0</td>\n",
       "    </tr>\n",
       "    <tr>\n",
       "      <th>2</th>\n",
       "      <td>seoul</td>\n",
       "      <td>3</td>\n",
       "    </tr>\n",
       "  </tbody>\n",
       "</table>\n",
       "</div>"
      ],
      "text/plain": [
       "  region  temp\n",
       "0  seoul    -1\n",
       "1  seoul     0\n",
       "2  seoul     3"
      ]
     },
     "execution_count": 36,
     "metadata": {},
     "output_type": "execute_result"
    }
   ],
   "source": [
    "data.head(3)"
   ]
  },
  {
   "cell_type": "code",
   "execution_count": 37,
   "id": "1ae2cceb-676f-4801-b7b1-c4eac356593b",
   "metadata": {},
   "outputs": [
    {
     "name": "stdout",
     "output_type": "stream",
     "text": [
      "ShapiroResult(statistic=0.9178412556648254, pvalue=0.2685365378856659)\n",
      "ShapiroResult(statistic=0.9212772846221924, pvalue=0.2966691553592682)\n"
     ]
    }
   ],
   "source": [
    "## 정규성 검정 : 자료의 모집단 분포는 정규분포를 따름\n",
    "\n",
    "normal_seoul = shapiro(seoul)\n",
    "normal_daegu = shapiro(daegu)\n",
    "print(normal_seoul)\n",
    "print(normal_daegu)\n",
    "\n",
    "# 결과 : p-value > 0.05, 정규성을 만족"
   ]
  },
  {
   "cell_type": "code",
   "execution_count": 39,
   "id": "0144f4c7-51a5-4762-bf73-520a3889461e",
   "metadata": {},
   "outputs": [
    {
     "name": "stdout",
     "output_type": "stream",
     "text": [
      "LeveneResult(statistic=0.0, pvalue=1.0)\n",
      "BartlettResult(statistic=0.07093015354702552, pvalue=0.7899872613272646)\n"
     ]
    }
   ],
   "source": [
    "## 등분산성 검정 : 모든 집단의 모분산은 동일함\n",
    "\n",
    "# levene 등분산성 검정\n",
    "print(levene(seoul, daegu))\n",
    "\n",
    "# bartlett 등분산성 검정\n",
    "print(bartlett(seoul, daegu))\n",
    "\n",
    "# 결과 : p-value > 0.05, 등분산성 만족"
   ]
  },
  {
   "cell_type": "code",
   "execution_count": 41,
   "id": "5a624c54-dd6e-4bd7-b1b5-e72f82e09742",
   "metadata": {},
   "outputs": [
    {
     "name": "stdout",
     "output_type": "stream",
     "text": [
      "t검정 통계량 : -9.562, pvalue : 0.000000002711180\n"
     ]
    }
   ],
   "source": [
    "# 독립표본 t검정\n",
    "ttest_result = stats.ttest_ind(seoul, daegu, equal_var=True) # 등분산성 만족\n",
    "# ttest_ind(seoul, daegu, equal_var=False)  # 등분산성 불만족할 경우\n",
    "print(f't검정 통계량 : {ttest_result[0]:.3f}, pvalue : {ttest_result[1]:.15f}')"
   ]
  },
  {
   "cell_type": "markdown",
   "id": "b708fa9a-d56c-499f-9947-e50976dd774b",
   "metadata": {},
   "source": [
    "***[결론 ]***\n",
    "- 독립표본 t검정 수행결과, 검정 통계량 t값은 -9.562, 유의확률(P-value)은 0.000000002711180\n",
    "- P-value 검정 : 0.05(유의수준) > 0.000000002711180(p-value), 귀무가설 기각 ( p-value가 유의수준보다 작으면 기각, 크면 채택 )\n",
    "- 서울과 구미, 두 지역의 겨울 낮 최고 기온에는 통계적으로 유의한 차이가 존재한다는 결론을 내릴 수 있음"
   ]
  },
  {
   "cell_type": "code",
   "execution_count": null,
   "id": "d20b1697-add7-4b38-bee2-8ed2e81dcc77",
   "metadata": {},
   "outputs": [],
   "source": []
  }
 ],
 "metadata": {
  "kernelspec": {
   "display_name": "Python 3 (ipykernel)",
   "language": "python",
   "name": "python3"
  },
  "language_info": {
   "codemirror_mode": {
    "name": "ipython",
    "version": 3
   },
   "file_extension": ".py",
   "mimetype": "text/x-python",
   "name": "python",
   "nbconvert_exporter": "python",
   "pygments_lexer": "ipython3",
   "version": "3.9.12"
  }
 },
 "nbformat": 4,
 "nbformat_minor": 5
}
