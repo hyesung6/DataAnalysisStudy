{
 "cells": [
  {
   "cell_type": "code",
   "execution_count": 1,
   "id": "b5b0206c-2ea6-42e6-b6ea-ec3be10c9369",
   "metadata": {
    "jp-MarkdownHeadingCollapsed": true,
    "tags": []
   },
   "outputs": [
    {
     "data": {
      "text/html": [
       "<div>\n",
       "<style scoped>\n",
       "    .dataframe tbody tr th:only-of-type {\n",
       "        vertical-align: middle;\n",
       "    }\n",
       "\n",
       "    .dataframe tbody tr th {\n",
       "        vertical-align: top;\n",
       "    }\n",
       "\n",
       "    .dataframe thead th {\n",
       "        text-align: right;\n",
       "    }\n",
       "</style>\n",
       "<table border=\"1\" class=\"dataframe\">\n",
       "  <thead>\n",
       "    <tr style=\"text-align: right;\">\n",
       "      <th></th>\n",
       "      <th>성별</th>\n",
       "    </tr>\n",
       "  </thead>\n",
       "  <tbody>\n",
       "    <tr>\n",
       "      <th>0</th>\n",
       "      <td>남성</td>\n",
       "    </tr>\n",
       "    <tr>\n",
       "      <th>1</th>\n",
       "      <td>여성</td>\n",
       "    </tr>\n",
       "    <tr>\n",
       "      <th>2</th>\n",
       "      <td>남성</td>\n",
       "    </tr>\n",
       "  </tbody>\n",
       "</table>\n",
       "</div>"
      ],
      "text/plain": [
       "   성별\n",
       "0  남성\n",
       "1  여성\n",
       "2  남성"
      ]
     },
     "execution_count": 1,
     "metadata": {},
     "output_type": "execute_result"
    }
   ],
   "source": [
    "import pandas as pd\n",
    "from sklearn.preprocessing import LabelEncoder\n",
    "from sklearn.preprocessing import OneHotEncoder\n",
    "\n",
    "# 데이터 set 생성\n",
    "x_train = pd.DataFrame(['남성', '여성', '남성' ,'여성', '남성', '여성'], columns=['성별'])\n",
    "\n",
    "# 데이터 확인\n",
    "x_train.head(3)"
   ]
  },
  {
   "cell_type": "code",
   "execution_count": 2,
   "id": "dded50bf-a281-4bc5-850b-626adccefd50",
   "metadata": {},
   "outputs": [
    {
     "name": "stdout",
     "output_type": "stream",
     "text": [
      "<class 'pandas.core.frame.DataFrame'>\n",
      "RangeIndex: 6 entries, 0 to 5\n",
      "Data columns (total 1 columns):\n",
      " #   Column  Non-Null Count  Dtype \n",
      "---  ------  --------------  ----- \n",
      " 0   성별      6 non-null      object\n",
      "dtypes: object(1)\n",
      "memory usage: 176.0+ bytes\n"
     ]
    }
   ],
   "source": [
    "x_train.info()"
   ]
  },
  {
   "cell_type": "code",
   "execution_count": 6,
   "id": "766e5f94-ad93-427f-a2d5-3917a8d5031f",
   "metadata": {},
   "outputs": [
    {
     "data": {
      "text/plain": [
       "남성    3\n",
       "여성    3\n",
       "Name: 성별, dtype: int64"
      ]
     },
     "execution_count": 6,
     "metadata": {},
     "output_type": "execute_result"
    }
   ],
   "source": [
    "x_train['성별'].value_counts()\n",
    "\n",
    "# 범주형 데이터에 대해 범주별 합산 반환"
   ]
  },
  {
   "cell_type": "code",
   "execution_count": 11,
   "id": "05ee28e5-af5a-4ed7-8c08-4a8c75a527a3",
   "metadata": {},
   "outputs": [
    {
     "data": {
      "text/html": [
       "<div>\n",
       "<style scoped>\n",
       "    .dataframe tbody tr th:only-of-type {\n",
       "        vertical-align: middle;\n",
       "    }\n",
       "\n",
       "    .dataframe tbody tr th {\n",
       "        vertical-align: top;\n",
       "    }\n",
       "\n",
       "    .dataframe thead th {\n",
       "        text-align: right;\n",
       "    }\n",
       "</style>\n",
       "<table border=\"1\" class=\"dataframe\">\n",
       "  <thead>\n",
       "    <tr style=\"text-align: right;\">\n",
       "      <th></th>\n",
       "      <th>성별</th>\n",
       "      <th>성별_인코딩</th>\n",
       "    </tr>\n",
       "  </thead>\n",
       "  <tbody>\n",
       "    <tr>\n",
       "      <th>0</th>\n",
       "      <td>남성</td>\n",
       "      <td>0</td>\n",
       "    </tr>\n",
       "    <tr>\n",
       "      <th>1</th>\n",
       "      <td>여성</td>\n",
       "      <td>1</td>\n",
       "    </tr>\n",
       "    <tr>\n",
       "      <th>2</th>\n",
       "      <td>남성</td>\n",
       "      <td>0</td>\n",
       "    </tr>\n",
       "    <tr>\n",
       "      <th>3</th>\n",
       "      <td>여성</td>\n",
       "      <td>1</td>\n",
       "    </tr>\n",
       "    <tr>\n",
       "      <th>4</th>\n",
       "      <td>남성</td>\n",
       "      <td>0</td>\n",
       "    </tr>\n",
       "    <tr>\n",
       "      <th>5</th>\n",
       "      <td>여성</td>\n",
       "      <td>1</td>\n",
       "    </tr>\n",
       "  </tbody>\n",
       "</table>\n",
       "</div>"
      ],
      "text/plain": [
       "   성별  성별_인코딩\n",
       "0  남성       0\n",
       "1  여성       1\n",
       "2  남성       0\n",
       "3  여성       1\n",
       "4  남성       0\n",
       "5  여성       1"
      ]
     },
     "execution_count": 11,
     "metadata": {},
     "output_type": "execute_result"
    }
   ],
   "source": [
    "# 레이블 인코더 생성\n",
    "# 레이블 인코딩 : 문자형 범주값을 분석에 용이한 숫자형 범주값으로 변환\n",
    "\n",
    "encoding = LabelEncoder()\n",
    "x_train['성별_인코딩'] = encoding.fit_transform(x_train['성별'])\n",
    "x_train"
   ]
  },
  {
   "cell_type": "code",
   "execution_count": 28,
   "id": "5e369576-2064-42f8-86bf-85f012a6617f",
   "metadata": {},
   "outputs": [
    {
     "data": {
      "text/plain": [
       "sklearn.preprocessing._label.LabelEncoder"
      ]
     },
     "execution_count": 28,
     "metadata": {},
     "output_type": "execute_result"
    }
   ],
   "source": [
    "type(encoding)"
   ]
  },
  {
   "cell_type": "code",
   "execution_count": 19,
   "id": "3e3920cf-61bc-47bd-8ba3-a53a88ebce7a",
   "metadata": {},
   "outputs": [
    {
     "data": {
      "text/plain": [
       "\u001b[1;31mSignature:\u001b[0m \u001b[0mencoding\u001b[0m\u001b[1;33m.\u001b[0m\u001b[0mfit_transform\u001b[0m\u001b[1;33m(\u001b[0m\u001b[0my\u001b[0m\u001b[1;33m)\u001b[0m\u001b[1;33m\u001b[0m\u001b[1;33m\u001b[0m\u001b[0m\n",
       "\u001b[1;31mDocstring:\u001b[0m\n",
       "Fit label encoder and return encoded labels.\n",
       "\n",
       "Parameters\n",
       "----------\n",
       "y : array-like of shape (n_samples,)\n",
       "    Target values.\n",
       "\n",
       "Returns\n",
       "-------\n",
       "y : array-like of shape (n_samples,)\n",
       "    Encoded labels.\n",
       "\u001b[1;31mFile:\u001b[0m      c:\\users\\user\\anaconda3\\lib\\site-packages\\sklearn\\preprocessing\\_label.py\n",
       "\u001b[1;31mType:\u001b[0m      method\n"
      ]
     },
     "metadata": {},
     "output_type": "display_data"
    }
   ],
   "source": [
    "encoding.fit_transform?"
   ]
  },
  {
   "cell_type": "code",
   "execution_count": 25,
   "id": "bd9c9d8a-fb95-4554-9974-14e2cb4cf389",
   "metadata": {},
   "outputs": [
    {
     "data": {
      "text/plain": [
       "array(['남성', '여성'], dtype=object)"
      ]
     },
     "execution_count": 25,
     "metadata": {},
     "output_type": "execute_result"
    }
   ],
   "source": [
    "encoding.inverse_transform([0,1])"
   ]
  },
  {
   "cell_type": "code",
   "execution_count": 24,
   "id": "783bc746-443e-46ce-b5b7-22341c70d315",
   "metadata": {},
   "outputs": [
    {
     "data": {
      "text/plain": [
       "array(['남성', '여성'], dtype=object)"
      ]
     },
     "execution_count": 24,
     "metadata": {},
     "output_type": "execute_result"
    }
   ],
   "source": [
    "encoding.classes_"
   ]
  },
  {
   "cell_type": "code",
   "execution_count": 37,
   "id": "be89d829-5e06-4037-8026-f257a78d5d00",
   "metadata": {},
   "outputs": [
    {
     "data": {
      "text/plain": [
       "(6, 2)"
      ]
     },
     "execution_count": 37,
     "metadata": {},
     "output_type": "execute_result"
    }
   ],
   "source": [
    "# 원핫인코딩\n",
    "# sparse=False 로 지정해줘야 numpy 어레이로 반환\n",
    "one_encoding = OneHotEncoder(sparse=False)\n",
    "x_train1 = one_encoding.fit_transform(x_train[['성별']])\n",
    "x_train1.shape\n"
   ]
  },
  {
   "cell_type": "code",
   "execution_count": 40,
   "id": "9a49d28e-cd11-4f52-a5bb-2fa37dc9adcf",
   "metadata": {},
   "outputs": [
    {
     "data": {
      "text/plain": [
       "array([[1., 0.],\n",
       "       [0., 1.],\n",
       "       [1., 0.],\n",
       "       [0., 1.],\n",
       "       [1., 0.],\n",
       "       [0., 1.]])"
      ]
     },
     "execution_count": 40,
     "metadata": {},
     "output_type": "execute_result"
    }
   ],
   "source": [
    "x_train1"
   ]
  },
  {
   "cell_type": "code",
   "execution_count": 44,
   "id": "bdb05799-f5e0-4e94-a62f-0e2c96f1c60d",
   "metadata": {},
   "outputs": [
    {
     "data": {
      "text/html": [
       "<div>\n",
       "<style scoped>\n",
       "    .dataframe tbody tr th:only-of-type {\n",
       "        vertical-align: middle;\n",
       "    }\n",
       "\n",
       "    .dataframe tbody tr th {\n",
       "        vertical-align: top;\n",
       "    }\n",
       "\n",
       "    .dataframe thead th {\n",
       "        text-align: right;\n",
       "    }\n",
       "</style>\n",
       "<table border=\"1\" class=\"dataframe\">\n",
       "  <thead>\n",
       "    <tr style=\"text-align: right;\">\n",
       "      <th></th>\n",
       "      <th>성별_남</th>\n",
       "      <th>성별_여</th>\n",
       "    </tr>\n",
       "  </thead>\n",
       "  <tbody>\n",
       "    <tr>\n",
       "      <th>0</th>\n",
       "      <td>1</td>\n",
       "      <td>0</td>\n",
       "    </tr>\n",
       "    <tr>\n",
       "      <th>1</th>\n",
       "      <td>0</td>\n",
       "      <td>1</td>\n",
       "    </tr>\n",
       "    <tr>\n",
       "      <th>2</th>\n",
       "      <td>1</td>\n",
       "      <td>0</td>\n",
       "    </tr>\n",
       "    <tr>\n",
       "      <th>3</th>\n",
       "      <td>0</td>\n",
       "      <td>1</td>\n",
       "    </tr>\n",
       "    <tr>\n",
       "      <th>4</th>\n",
       "      <td>1</td>\n",
       "      <td>0</td>\n",
       "    </tr>\n",
       "    <tr>\n",
       "      <th>5</th>\n",
       "      <td>0</td>\n",
       "      <td>1</td>\n",
       "    </tr>\n",
       "  </tbody>\n",
       "</table>\n",
       "</div>"
      ],
      "text/plain": [
       "   성별_남  성별_여\n",
       "0     1     0\n",
       "1     0     1\n",
       "2     1     0\n",
       "3     0     1\n",
       "4     1     0\n",
       "5     0     1"
      ]
     },
     "execution_count": 44,
     "metadata": {},
     "output_type": "execute_result"
    }
   ],
   "source": [
    "# 원핫인코딩으로 생성된 행렬 --> 데이터프레임으로 변환\n",
    "# 원핫인코딩으로 생성된 행렬은 dtype : float으로 반환되는데,\n",
    "# 간단한 실습 목적에는 flaot일 필요가 없으니   astype(int) 함수를 사용하여\n",
    "# 형변환 해주고 데이터프레임 생성\n",
    "x_train2 = pd.DataFrame(x_train1.astype(int), columns=['성별_남', '성별_여'])\n",
    "x_train2"
   ]
  },
  {
   "cell_type": "code",
   "execution_count": 45,
   "id": "b4d27690-82e9-499a-8275-a1456d920f88",
   "metadata": {},
   "outputs": [
    {
     "data": {
      "text/html": [
       "<div>\n",
       "<style scoped>\n",
       "    .dataframe tbody tr th:only-of-type {\n",
       "        vertical-align: middle;\n",
       "    }\n",
       "\n",
       "    .dataframe tbody tr th {\n",
       "        vertical-align: top;\n",
       "    }\n",
       "\n",
       "    .dataframe thead th {\n",
       "        text-align: right;\n",
       "    }\n",
       "</style>\n",
       "<table border=\"1\" class=\"dataframe\">\n",
       "  <thead>\n",
       "    <tr style=\"text-align: right;\">\n",
       "      <th></th>\n",
       "      <th>성별</th>\n",
       "      <th>성별_인코딩</th>\n",
       "      <th>성별_남</th>\n",
       "      <th>성별_여</th>\n",
       "    </tr>\n",
       "  </thead>\n",
       "  <tbody>\n",
       "    <tr>\n",
       "      <th>0</th>\n",
       "      <td>남성</td>\n",
       "      <td>0</td>\n",
       "      <td>1</td>\n",
       "      <td>0</td>\n",
       "    </tr>\n",
       "    <tr>\n",
       "      <th>1</th>\n",
       "      <td>여성</td>\n",
       "      <td>1</td>\n",
       "      <td>0</td>\n",
       "      <td>1</td>\n",
       "    </tr>\n",
       "    <tr>\n",
       "      <th>2</th>\n",
       "      <td>남성</td>\n",
       "      <td>0</td>\n",
       "      <td>1</td>\n",
       "      <td>0</td>\n",
       "    </tr>\n",
       "    <tr>\n",
       "      <th>3</th>\n",
       "      <td>여성</td>\n",
       "      <td>1</td>\n",
       "      <td>0</td>\n",
       "      <td>1</td>\n",
       "    </tr>\n",
       "    <tr>\n",
       "      <th>4</th>\n",
       "      <td>남성</td>\n",
       "      <td>0</td>\n",
       "      <td>1</td>\n",
       "      <td>0</td>\n",
       "    </tr>\n",
       "    <tr>\n",
       "      <th>5</th>\n",
       "      <td>여성</td>\n",
       "      <td>1</td>\n",
       "      <td>0</td>\n",
       "      <td>1</td>\n",
       "    </tr>\n",
       "  </tbody>\n",
       "</table>\n",
       "</div>"
      ],
      "text/plain": [
       "   성별  성별_인코딩  성별_남  성별_여\n",
       "0  남성       0     1     0\n",
       "1  여성       1     0     1\n",
       "2  남성       0     1     0\n",
       "3  여성       1     0     1\n",
       "4  남성       0     1     0\n",
       "5  여성       1     0     1"
      ]
     },
     "execution_count": 45,
     "metadata": {},
     "output_type": "execute_result"
    }
   ],
   "source": [
    "# 원핫인코딩으로 생성된 데이터프레임과\n",
    "# 기존 데이터프레임을 병합\n",
    "\n",
    "merged_df = pd.concat([x_train, x_train2], axis=1)\n",
    "merged_df"
   ]
  },
  {
   "cell_type": "code",
   "execution_count": 46,
   "id": "cd1bb913-6176-4d2c-b988-ae21148a43dd",
   "metadata": {},
   "outputs": [],
   "source": [
    "# 단어 빈도수 세기\n",
    "from sklearn.feature_extraction.text import CountVectorizer"
   ]
  },
  {
   "cell_type": "code",
   "execution_count": 53,
   "id": "33ea7641-5086-4169-bf1c-d0adb3d802d2",
   "metadata": {},
   "outputs": [],
   "source": [
    "data = pd.read_csv('naver_webtoon_data2.csv')\n",
    "df0 = pd.DataFrame(data)"
   ]
  },
  {
   "cell_type": "code",
   "execution_count": 55,
   "id": "5280276b-00fa-4d5b-9ccf-70e712d790bf",
   "metadata": {
    "collapsed": true,
    "jupyter": {
     "outputs_hidden": true
    },
    "tags": []
   },
   "outputs": [
    {
     "data": {
      "text/html": [
       "<div>\n",
       "<style scoped>\n",
       "    .dataframe tbody tr th:only-of-type {\n",
       "        vertical-align: middle;\n",
       "    }\n",
       "\n",
       "    .dataframe tbody tr th {\n",
       "        vertical-align: top;\n",
       "    }\n",
       "\n",
       "    .dataframe thead th {\n",
       "        text-align: right;\n",
       "    }\n",
       "</style>\n",
       "<table border=\"1\" class=\"dataframe\">\n",
       "  <thead>\n",
       "    <tr style=\"text-align: right;\">\n",
       "      <th></th>\n",
       "      <th>id</th>\n",
       "      <th>Name</th>\n",
       "      <th>Writer</th>\n",
       "      <th>Likes</th>\n",
       "      <th>Genre</th>\n",
       "      <th>Rating</th>\n",
       "      <th>Subscribers</th>\n",
       "      <th>Summary</th>\n",
       "      <th>Update</th>\n",
       "      <th>Reading Link</th>\n",
       "    </tr>\n",
       "  </thead>\n",
       "  <tbody>\n",
       "    <tr>\n",
       "      <th>0</th>\n",
       "      <td>0</td>\n",
       "      <td>Let's Play</td>\n",
       "      <td>Leeanne M. Krecic (Mongie)</td>\n",
       "      <td>30.6M</td>\n",
       "      <td>Romance</td>\n",
       "      <td>9.62</td>\n",
       "      <td>4.2M</td>\n",
       "      <td>She's young, single and about to achieve her d...</td>\n",
       "      <td>UP EVERY TUESDAY</td>\n",
       "      <td>https://www.webtoons.com/en/romance/letsplay/l...</td>\n",
       "    </tr>\n",
       "    <tr>\n",
       "      <th>1</th>\n",
       "      <td>1</td>\n",
       "      <td>True Beauty</td>\n",
       "      <td>Yaongyi</td>\n",
       "      <td>39.9M</td>\n",
       "      <td>Romance</td>\n",
       "      <td>9.60</td>\n",
       "      <td>6.4M</td>\n",
       "      <td>After binge-watching beauty videos online, a s...</td>\n",
       "      <td>UP EVERY WEDNESDAY</td>\n",
       "      <td>https://www.webtoons.com/en/romance/truebeauty...</td>\n",
       "    </tr>\n",
       "    <tr>\n",
       "      <th>2</th>\n",
       "      <td>2</td>\n",
       "      <td>Midnight Poppy Land</td>\n",
       "      <td>Lilydusk</td>\n",
       "      <td>10.4M</td>\n",
       "      <td>Romance</td>\n",
       "      <td>9.81</td>\n",
       "      <td>2.1M</td>\n",
       "      <td>After making a grisly discovery in the country...</td>\n",
       "      <td>UP EVERY SATURDAY</td>\n",
       "      <td>https://www.webtoons.com/en/romance/midnight-p...</td>\n",
       "    </tr>\n",
       "    <tr>\n",
       "      <th>3</th>\n",
       "      <td>3</td>\n",
       "      <td>Age Matters</td>\n",
       "      <td>Enjelicious</td>\n",
       "      <td>25.9M</td>\n",
       "      <td>Romance</td>\n",
       "      <td>9.79</td>\n",
       "      <td>3.5M</td>\n",
       "      <td>She's a hopeless romantic who's turning 30's  ...</td>\n",
       "      <td>UP EVERY WEDNESDAY</td>\n",
       "      <td>https://www.webtoons.com/en/romance/age-matter...</td>\n",
       "    </tr>\n",
       "    <tr>\n",
       "      <th>4</th>\n",
       "      <td>4</td>\n",
       "      <td>Unholy Blood</td>\n",
       "      <td>Lina Im / Jeonghyeon Kim</td>\n",
       "      <td>9.9M</td>\n",
       "      <td>Supernatural</td>\n",
       "      <td>9.85</td>\n",
       "      <td>1.5M</td>\n",
       "      <td>When vampires destroy her chance to have the n...</td>\n",
       "      <td>UP EVERY THURSDAY</td>\n",
       "      <td>https://www.webtoons.com/en/supernatural/unhol...</td>\n",
       "    </tr>\n",
       "    <tr>\n",
       "      <th>...</th>\n",
       "      <td>...</td>\n",
       "      <td>...</td>\n",
       "      <td>...</td>\n",
       "      <td>...</td>\n",
       "      <td>...</td>\n",
       "      <td>...</td>\n",
       "      <td>...</td>\n",
       "      <td>...</td>\n",
       "      <td>...</td>\n",
       "      <td>...</td>\n",
       "    </tr>\n",
       "    <tr>\n",
       "      <th>564</th>\n",
       "      <td>564</td>\n",
       "      <td>Third Shift Society</td>\n",
       "      <td>Meredith Moriarty</td>\n",
       "      <td>8,66,428</td>\n",
       "      <td>Supernatural</td>\n",
       "      <td>9.78</td>\n",
       "      <td>376.9K</td>\n",
       "      <td>Life's funny. One minute you're jobless, deep ...</td>\n",
       "      <td>UP EVERY FRIDAY</td>\n",
       "      <td>https://www.webtoons.com/en/supernatural/third...</td>\n",
       "    </tr>\n",
       "    <tr>\n",
       "      <th>565</th>\n",
       "      <td>565</td>\n",
       "      <td>Adamsville</td>\n",
       "      <td>Michael Regina</td>\n",
       "      <td>1,84,981</td>\n",
       "      <td>Mystery</td>\n",
       "      <td>9.32</td>\n",
       "      <td>60.4K</td>\n",
       "      <td>\"Adamsville\" is an all ages series about two m...</td>\n",
       "      <td>COMPLETED</td>\n",
       "      <td>https://www.webtoons.com/en/mystery/adamsville...</td>\n",
       "    </tr>\n",
       "    <tr>\n",
       "      <th>566</th>\n",
       "      <td>566</td>\n",
       "      <td>WEBTOON Now</td>\n",
       "      <td>LOZOLZ / Wyatt the Cat</td>\n",
       "      <td>1.9M</td>\n",
       "      <td>Informative</td>\n",
       "      <td>9.25</td>\n",
       "      <td>459.2K</td>\n",
       "      <td>Get your WEBTOON news here!</td>\n",
       "      <td>UP EVERY MONDAY</td>\n",
       "      <td>https://www.webtoons.com/en/tiptoon/webtoon-no...</td>\n",
       "    </tr>\n",
       "    <tr>\n",
       "      <th>567</th>\n",
       "      <td>567</td>\n",
       "      <td>Staying Healthy Together</td>\n",
       "      <td>Various Artists</td>\n",
       "      <td>1.5M</td>\n",
       "      <td>Informative</td>\n",
       "      <td>9.76</td>\n",
       "      <td>204.6K</td>\n",
       "      <td>A series of tips for staying safe during the C...</td>\n",
       "      <td>COMPLETED</td>\n",
       "      <td>https://www.webtoons.com/en/tiptoon/staying-he...</td>\n",
       "    </tr>\n",
       "    <tr>\n",
       "      <th>568</th>\n",
       "      <td>568</td>\n",
       "      <td>ã„´ã…‡ã„¹ã…‡ã„´ã„¹</td>\n",
       "      <td>LOZOLZ</td>\n",
       "      <td>2,65,458</td>\n",
       "      <td>Informative</td>\n",
       "      <td>8.83</td>\n",
       "      <td>109.1K</td>\n",
       "      <td>The mysterious team that brings Webtoon to you...</td>\n",
       "      <td>COMPLETED</td>\n",
       "      <td>https://www.webtoons.com/en/tiptoon/lozolz/lis...</td>\n",
       "    </tr>\n",
       "  </tbody>\n",
       "</table>\n",
       "<p>569 rows × 10 columns</p>\n",
       "</div>"
      ],
      "text/plain": [
       "      id                      Name                      Writer     Likes  \\\n",
       "0      0                Let's Play  Leeanne M. Krecic (Mongie)     30.6M   \n",
       "1      1               True Beauty                     Yaongyi     39.9M   \n",
       "2      2       Midnight Poppy Land                    Lilydusk     10.4M   \n",
       "3      3               Age Matters                 Enjelicious     25.9M   \n",
       "4      4              Unholy Blood    Lina Im / Jeonghyeon Kim      9.9M   \n",
       "..   ...                       ...                         ...       ...   \n",
       "564  564       Third Shift Society           Meredith Moriarty  8,66,428   \n",
       "565  565                Adamsville              Michael Regina  1,84,981   \n",
       "566  566               WEBTOON Now      LOZOLZ / Wyatt the Cat      1.9M   \n",
       "567  567  Staying Healthy Together             Various Artists      1.5M   \n",
       "568  568        ã„´ã…‡ã„¹ã…‡ã„´ã„¹                      LOZOLZ  2,65,458   \n",
       "\n",
       "            Genre  Rating Subscribers  \\\n",
       "0         Romance    9.62        4.2M   \n",
       "1         Romance    9.60        6.4M   \n",
       "2         Romance    9.81        2.1M   \n",
       "3         Romance    9.79        3.5M   \n",
       "4    Supernatural    9.85        1.5M   \n",
       "..            ...     ...         ...   \n",
       "564  Supernatural    9.78      376.9K   \n",
       "565       Mystery    9.32       60.4K   \n",
       "566   Informative    9.25      459.2K   \n",
       "567   Informative    9.76      204.6K   \n",
       "568   Informative    8.83      109.1K   \n",
       "\n",
       "                                               Summary              Update  \\\n",
       "0    She's young, single and about to achieve her d...    UP EVERY TUESDAY   \n",
       "1    After binge-watching beauty videos online, a s...  UP EVERY WEDNESDAY   \n",
       "2    After making a grisly discovery in the country...   UP EVERY SATURDAY   \n",
       "3    She's a hopeless romantic who's turning 30's  ...  UP EVERY WEDNESDAY   \n",
       "4    When vampires destroy her chance to have the n...   UP EVERY THURSDAY   \n",
       "..                                                 ...                 ...   \n",
       "564  Life's funny. One minute you're jobless, deep ...     UP EVERY FRIDAY   \n",
       "565  \"Adamsville\" is an all ages series about two m...           COMPLETED   \n",
       "566                        Get your WEBTOON news here!     UP EVERY MONDAY   \n",
       "567  A series of tips for staying safe during the C...           COMPLETED   \n",
       "568  The mysterious team that brings Webtoon to you...           COMPLETED   \n",
       "\n",
       "                                          Reading Link  \n",
       "0    https://www.webtoons.com/en/romance/letsplay/l...  \n",
       "1    https://www.webtoons.com/en/romance/truebeauty...  \n",
       "2    https://www.webtoons.com/en/romance/midnight-p...  \n",
       "3    https://www.webtoons.com/en/romance/age-matter...  \n",
       "4    https://www.webtoons.com/en/supernatural/unhol...  \n",
       "..                                                 ...  \n",
       "564  https://www.webtoons.com/en/supernatural/third...  \n",
       "565  https://www.webtoons.com/en/mystery/adamsville...  \n",
       "566  https://www.webtoons.com/en/tiptoon/webtoon-no...  \n",
       "567  https://www.webtoons.com/en/tiptoon/staying-he...  \n",
       "568  https://www.webtoons.com/en/tiptoon/lozolz/lis...  \n",
       "\n",
       "[569 rows x 10 columns]"
      ]
     },
     "execution_count": 55,
     "metadata": {},
     "output_type": "execute_result"
    }
   ],
   "source": [
    "df0"
   ]
  },
  {
   "cell_type": "code",
   "execution_count": 56,
   "id": "97326ad3-6be0-4828-aee7-dd7b64e8bbe5",
   "metadata": {},
   "outputs": [
    {
     "data": {
      "text/plain": [
       "0           Romance\n",
       "1           Romance\n",
       "2           Romance\n",
       "3           Romance\n",
       "4      Supernatural\n",
       "           ...     \n",
       "564    Supernatural\n",
       "565         Mystery\n",
       "566     Informative\n",
       "567     Informative\n",
       "568     Informative\n",
       "Name: Genre, Length: 569, dtype: object"
      ]
     },
     "execution_count": 56,
     "metadata": {},
     "output_type": "execute_result"
    }
   ],
   "source": [
    "df1 = df0['Genre'].copy()\n",
    "df1"
   ]
  },
  {
   "cell_type": "markdown",
   "id": "3cb2bb98-28c5-4845-81d9-30f962b12ad0",
   "metadata": {},
   "source": [
    "- copy() 함수를 사용하여 만든 객체는 수정해도 원본에 영향 X\n",
    "- copy()를 안하고 그냥 df1 = df0['Genre'] 하면 df1의 값 수정하면 df0도 바뀜"
   ]
  },
  {
   "cell_type": "code",
   "execution_count": 85,
   "id": "d69916b0-0b57-42b6-816f-4fc776e049df",
   "metadata": {},
   "outputs": [
    {
     "data": {
      "text/plain": [
       "400           Comedy\n",
       "401           Comedy\n",
       "402    Slice of life\n",
       "403    Slice of life\n",
       "404           Comedy\n",
       "           ...      \n",
       "564     Supernatural\n",
       "565          Mystery\n",
       "566      Informative\n",
       "567      Informative\n",
       "568      Informative\n",
       "Name: Genre, Length: 169, dtype: object"
      ]
     },
     "execution_count": 85,
     "metadata": {},
     "output_type": "execute_result"
    }
   ],
   "source": [
    "df1[400:]"
   ]
  },
  {
   "cell_type": "code",
   "execution_count": 59,
   "id": "b51a5c45-ae5a-499c-8e71-84af9c6a64f4",
   "metadata": {},
   "outputs": [
    {
     "data": {
      "text/plain": [
       "<569x19 sparse matrix of type '<class 'numpy.int64'>'\n",
       "\twith 699 stored elements in Compressed Sparse Row format>"
      ]
     },
     "execution_count": 59,
     "metadata": {},
     "output_type": "execute_result"
    }
   ],
   "source": [
    "count_vect = CountVectorizer()\n",
    "count_vect.fit_transform(df1)"
   ]
  },
  {
   "cell_type": "code",
   "execution_count": 81,
   "id": "e48ae63d-0e23-470d-8277-8a8ddb939843",
   "metadata": {},
   "outputs": [
    {
     "data": {
      "text/plain": [
       "{'romance': 12,\n",
       " 'supernatural': 17,\n",
       " 'fantasy': 3,\n",
       " 'action': 0,\n",
       " 'drama': 2,\n",
       " 'thriller': 18,\n",
       " 'mystery': 10,\n",
       " 'historical': 6,\n",
       " 'comedy': 1,\n",
       " 'sci': 13,\n",
       " 'fi': 4,\n",
       " 'slice': 14,\n",
       " 'of': 11,\n",
       " 'life': 9,\n",
       " 'heartwarming': 5,\n",
       " 'superhero': 16,\n",
       " 'sports': 15,\n",
       " 'informative': 8,\n",
       " 'horror': 7}"
      ]
     },
     "execution_count": 81,
     "metadata": {},
     "output_type": "execute_result"
    }
   ],
   "source": [
    "# 단어 수 빈도가 저장된 딕셔너리 형식 객체 확인\n",
    "count_vect.vocabulary_"
   ]
  },
  {
   "cell_type": "code",
   "execution_count": null,
   "id": "0bb8899f-bfb2-4a57-a459-bf9451e44f42",
   "metadata": {},
   "outputs": [],
   "source": [
    "# CountVerterizer - wordcolud 만들기\n",
    "from wordcloud import WordCloud\n",
    "wordcloud = WordCloud()"
   ]
  },
  {
   "cell_type": "code",
   "execution_count": 64,
   "id": "7e2ec8fc-f676-4364-a825-7fa3ced699a1",
   "metadata": {},
   "outputs": [
    {
     "data": {
      "text/plain": [
       "dict"
      ]
     },
     "execution_count": 64,
     "metadata": {},
     "output_type": "execute_result"
    }
   ],
   "source": [
    "cloud0 = count_vect.vocabulary_\n",
    "type(cloud0)"
   ]
  },
  {
   "cell_type": "code",
   "execution_count": 72,
   "id": "36f19815-2f16-4314-8896-ab961089bd62",
   "metadata": {},
   "outputs": [],
   "source": [
    "wc1 = wordcloud.generate_from_frequencies(cloud0)"
   ]
  },
  {
   "cell_type": "code",
   "execution_count": 78,
   "id": "c50030e8-3cfa-40ac-a01e-2b5a4a98bddf",
   "metadata": {},
   "outputs": [
    {
     "data": {
      "image/png": "[encoded data removed]",
      "text/plain": [
       "<Figure size 432x288 with 1 Axes>"
      ]
     },
     "metadata": {
      "needs_background": "light"
     },
     "output_type": "display_data"
    }
   ],
   "source": [
    "# plt로 표현하기\n",
    "\n",
    "import matplotlib.pyplot as plt\n",
    "\n",
    "plt.imshow(wc1)\n",
    "plt.show()"
   ]
  },
  {
   "cell_type": "code",
   "execution_count": 79,
   "id": "0f4dc840-8dad-4007-a761-1348da9c0590",
   "metadata": {},
   "outputs": [
    {
     "data": {
      "image/png": "[encoded data removed]",
      "text/plain": [
       "<PIL.Image.Image image mode=RGB size=400x200 at 0x29C10D9EF70>"
      ]
     },
     "execution_count": 79,
     "metadata": {},
     "output_type": "execute_result"
    }
   ],
   "source": [
    "# 워드클라우드 시각화 함수 사용하기\n",
    "\n",
    "wc1.to_image()\n",
    "\n"
   ]
  },
  {
   "cell_type": "code",
   "execution_count": null,
   "id": "bd793dad-0b9a-4288-a661-10346544a33d",
   "metadata": {},
   "outputs": [],
   "source": [
    "# 생성한 워드클라우드 파일로 내보내기\n",
    "wc1.to_file('naver_webtoon_wordcloud_en.jpg')"
   ]
  },
  {
   "cell_type": "code",
   "execution_count": 119,
   "id": "3d47fb8d-08b5-42c7-be14-afddfad93424",
   "metadata": {},
   "outputs": [],
   "source": [
    "# CountVertorizer 로 생성한 dict의 키(df1의 컬럼)를 리스트로 반환받아 저장\n",
    "# 문서단어행렬 ( Document Term Matrix, DTM ) 만들기\n",
    "vocab = cloud0.keys()\n",
    "df3 = pd.DataFrame(count_vect.transform(df1).toarray(), columns=sorted(vocab).remove('sci'))"
   ]
  },
  {
   "cell_type": "code",
   "execution_count": 117,
   "id": "0c1e6ad3-316c-4d66-9f9f-08985a881374",
   "metadata": {},
   "outputs": [
    {
     "data": {
      "text/html": [
       "<div>\n",
       "<style scoped>\n",
       "    .dataframe tbody tr th:only-of-type {\n",
       "        vertical-align: middle;\n",
       "    }\n",
       "\n",
       "    .dataframe tbody tr th {\n",
       "        vertical-align: top;\n",
       "    }\n",
       "\n",
       "    .dataframe thead th {\n",
       "        text-align: right;\n",
       "    }\n",
       "</style>\n",
       "<table border=\"1\" class=\"dataframe\">\n",
       "  <thead>\n",
       "    <tr style=\"text-align: right;\">\n",
       "      <th></th>\n",
       "      <th>0</th>\n",
       "      <th>1</th>\n",
       "      <th>2</th>\n",
       "      <th>3</th>\n",
       "      <th>4</th>\n",
       "      <th>5</th>\n",
       "      <th>6</th>\n",
       "      <th>7</th>\n",
       "      <th>8</th>\n",
       "      <th>9</th>\n",
       "      <th>10</th>\n",
       "      <th>11</th>\n",
       "      <th>12</th>\n",
       "      <th>13</th>\n",
       "      <th>14</th>\n",
       "      <th>15</th>\n",
       "      <th>16</th>\n",
       "      <th>17</th>\n",
       "      <th>18</th>\n",
       "    </tr>\n",
       "  </thead>\n",
       "  <tbody>\n",
       "    <tr>\n",
       "      <th>0</th>\n",
       "      <td>0</td>\n",
       "      <td>0</td>\n",
       "      <td>0</td>\n",
       "      <td>0</td>\n",
       "      <td>0</td>\n",
       "      <td>0</td>\n",
       "      <td>0</td>\n",
       "      <td>0</td>\n",
       "      <td>0</td>\n",
       "      <td>0</td>\n",
       "      <td>0</td>\n",
       "      <td>0</td>\n",
       "      <td>1</td>\n",
       "      <td>0</td>\n",
       "      <td>0</td>\n",
       "      <td>0</td>\n",
       "      <td>0</td>\n",
       "      <td>0</td>\n",
       "      <td>0</td>\n",
       "    </tr>\n",
       "    <tr>\n",
       "      <th>1</th>\n",
       "      <td>0</td>\n",
       "      <td>0</td>\n",
       "      <td>0</td>\n",
       "      <td>0</td>\n",
       "      <td>0</td>\n",
       "      <td>0</td>\n",
       "      <td>0</td>\n",
       "      <td>0</td>\n",
       "      <td>0</td>\n",
       "      <td>0</td>\n",
       "      <td>0</td>\n",
       "      <td>0</td>\n",
       "      <td>1</td>\n",
       "      <td>0</td>\n",
       "      <td>0</td>\n",
       "      <td>0</td>\n",
       "      <td>0</td>\n",
       "      <td>0</td>\n",
       "      <td>0</td>\n",
       "    </tr>\n",
       "    <tr>\n",
       "      <th>2</th>\n",
       "      <td>0</td>\n",
       "      <td>0</td>\n",
       "      <td>0</td>\n",
       "      <td>0</td>\n",
       "      <td>0</td>\n",
       "      <td>0</td>\n",
       "      <td>0</td>\n",
       "      <td>0</td>\n",
       "      <td>0</td>\n",
       "      <td>0</td>\n",
       "      <td>0</td>\n",
       "      <td>0</td>\n",
       "      <td>1</td>\n",
       "      <td>0</td>\n",
       "      <td>0</td>\n",
       "      <td>0</td>\n",
       "      <td>0</td>\n",
       "      <td>0</td>\n",
       "      <td>0</td>\n",
       "    </tr>\n",
       "    <tr>\n",
       "      <th>3</th>\n",
       "      <td>0</td>\n",
       "      <td>0</td>\n",
       "      <td>0</td>\n",
       "      <td>0</td>\n",
       "      <td>0</td>\n",
       "      <td>0</td>\n",
       "      <td>0</td>\n",
       "      <td>0</td>\n",
       "      <td>0</td>\n",
       "      <td>0</td>\n",
       "      <td>0</td>\n",
       "      <td>0</td>\n",
       "      <td>1</td>\n",
       "      <td>0</td>\n",
       "      <td>0</td>\n",
       "      <td>0</td>\n",
       "      <td>0</td>\n",
       "      <td>0</td>\n",
       "      <td>0</td>\n",
       "    </tr>\n",
       "    <tr>\n",
       "      <th>4</th>\n",
       "      <td>0</td>\n",
       "      <td>0</td>\n",
       "      <td>0</td>\n",
       "      <td>0</td>\n",
       "      <td>0</td>\n",
       "      <td>0</td>\n",
       "      <td>0</td>\n",
       "      <td>0</td>\n",
       "      <td>0</td>\n",
       "      <td>0</td>\n",
       "      <td>0</td>\n",
       "      <td>0</td>\n",
       "      <td>0</td>\n",
       "      <td>0</td>\n",
       "      <td>0</td>\n",
       "      <td>0</td>\n",
       "      <td>0</td>\n",
       "      <td>1</td>\n",
       "      <td>0</td>\n",
       "    </tr>\n",
       "    <tr>\n",
       "      <th>...</th>\n",
       "      <td>...</td>\n",
       "      <td>...</td>\n",
       "      <td>...</td>\n",
       "      <td>...</td>\n",
       "      <td>...</td>\n",
       "      <td>...</td>\n",
       "      <td>...</td>\n",
       "      <td>...</td>\n",
       "      <td>...</td>\n",
       "      <td>...</td>\n",
       "      <td>...</td>\n",
       "      <td>...</td>\n",
       "      <td>...</td>\n",
       "      <td>...</td>\n",
       "      <td>...</td>\n",
       "      <td>...</td>\n",
       "      <td>...</td>\n",
       "      <td>...</td>\n",
       "      <td>...</td>\n",
       "    </tr>\n",
       "    <tr>\n",
       "      <th>564</th>\n",
       "      <td>0</td>\n",
       "      <td>0</td>\n",
       "      <td>0</td>\n",
       "      <td>0</td>\n",
       "      <td>0</td>\n",
       "      <td>0</td>\n",
       "      <td>0</td>\n",
       "      <td>0</td>\n",
       "      <td>0</td>\n",
       "      <td>0</td>\n",
       "      <td>0</td>\n",
       "      <td>0</td>\n",
       "      <td>0</td>\n",
       "      <td>0</td>\n",
       "      <td>0</td>\n",
       "      <td>0</td>\n",
       "      <td>0</td>\n",
       "      <td>1</td>\n",
       "      <td>0</td>\n",
       "    </tr>\n",
       "    <tr>\n",
       "      <th>565</th>\n",
       "      <td>0</td>\n",
       "      <td>0</td>\n",
       "      <td>0</td>\n",
       "      <td>0</td>\n",
       "      <td>0</td>\n",
       "      <td>0</td>\n",
       "      <td>0</td>\n",
       "      <td>0</td>\n",
       "      <td>0</td>\n",
       "      <td>0</td>\n",
       "      <td>1</td>\n",
       "      <td>0</td>\n",
       "      <td>0</td>\n",
       "      <td>0</td>\n",
       "      <td>0</td>\n",
       "      <td>0</td>\n",
       "      <td>0</td>\n",
       "      <td>0</td>\n",
       "      <td>0</td>\n",
       "    </tr>\n",
       "    <tr>\n",
       "      <th>566</th>\n",
       "      <td>0</td>\n",
       "      <td>0</td>\n",
       "      <td>0</td>\n",
       "      <td>0</td>\n",
       "      <td>0</td>\n",
       "      <td>0</td>\n",
       "      <td>0</td>\n",
       "      <td>0</td>\n",
       "      <td>1</td>\n",
       "      <td>0</td>\n",
       "      <td>0</td>\n",
       "      <td>0</td>\n",
       "      <td>0</td>\n",
       "      <td>0</td>\n",
       "      <td>0</td>\n",
       "      <td>0</td>\n",
       "      <td>0</td>\n",
       "      <td>0</td>\n",
       "      <td>0</td>\n",
       "    </tr>\n",
       "    <tr>\n",
       "      <th>567</th>\n",
       "      <td>0</td>\n",
       "      <td>0</td>\n",
       "      <td>0</td>\n",
       "      <td>0</td>\n",
       "      <td>0</td>\n",
       "      <td>0</td>\n",
       "      <td>0</td>\n",
       "      <td>0</td>\n",
       "      <td>1</td>\n",
       "      <td>0</td>\n",
       "      <td>0</td>\n",
       "      <td>0</td>\n",
       "      <td>0</td>\n",
       "      <td>0</td>\n",
       "      <td>0</td>\n",
       "      <td>0</td>\n",
       "      <td>0</td>\n",
       "      <td>0</td>\n",
       "      <td>0</td>\n",
       "    </tr>\n",
       "    <tr>\n",
       "      <th>568</th>\n",
       "      <td>0</td>\n",
       "      <td>0</td>\n",
       "      <td>0</td>\n",
       "      <td>0</td>\n",
       "      <td>0</td>\n",
       "      <td>0</td>\n",
       "      <td>0</td>\n",
       "      <td>0</td>\n",
       "      <td>1</td>\n",
       "      <td>0</td>\n",
       "      <td>0</td>\n",
       "      <td>0</td>\n",
       "      <td>0</td>\n",
       "      <td>0</td>\n",
       "      <td>0</td>\n",
       "      <td>0</td>\n",
       "      <td>0</td>\n",
       "      <td>0</td>\n",
       "      <td>0</td>\n",
       "    </tr>\n",
       "  </tbody>\n",
       "</table>\n",
       "<p>569 rows × 19 columns</p>\n",
       "</div>"
      ],
      "text/plain": [
       "     0   1   2   3   4   5   6   7   8   9   10  11  12  13  14  15  16  17  \\\n",
       "0     0   0   0   0   0   0   0   0   0   0   0   0   1   0   0   0   0   0   \n",
       "1     0   0   0   0   0   0   0   0   0   0   0   0   1   0   0   0   0   0   \n",
       "2     0   0   0   0   0   0   0   0   0   0   0   0   1   0   0   0   0   0   \n",
       "3     0   0   0   0   0   0   0   0   0   0   0   0   1   0   0   0   0   0   \n",
       "4     0   0   0   0   0   0   0   0   0   0   0   0   0   0   0   0   0   1   \n",
       "..   ..  ..  ..  ..  ..  ..  ..  ..  ..  ..  ..  ..  ..  ..  ..  ..  ..  ..   \n",
       "564   0   0   0   0   0   0   0   0   0   0   0   0   0   0   0   0   0   1   \n",
       "565   0   0   0   0   0   0   0   0   0   0   1   0   0   0   0   0   0   0   \n",
       "566   0   0   0   0   0   0   0   0   1   0   0   0   0   0   0   0   0   0   \n",
       "567   0   0   0   0   0   0   0   0   1   0   0   0   0   0   0   0   0   0   \n",
       "568   0   0   0   0   0   0   0   0   1   0   0   0   0   0   0   0   0   0   \n",
       "\n",
       "     18  \n",
       "0     0  \n",
       "1     0  \n",
       "2     0  \n",
       "3     0  \n",
       "4     0  \n",
       "..   ..  \n",
       "564   0  \n",
       "565   0  \n",
       "566   0  \n",
       "567   0  \n",
       "568   0  \n",
       "\n",
       "[569 rows x 19 columns]"
      ]
     },
     "execution_count": 117,
     "metadata": {},
     "output_type": "execute_result"
    }
   ],
   "source": [
    "df3"
   ]
  },
  {
   "cell_type": "code",
   "execution_count": 97,
   "id": "3956b2ff-d587-4cf0-bfb4-001ad6d50251",
   "metadata": {},
   "outputs": [
    {
     "data": {
      "text/plain": [
       "dict_keys(['romance', 'supernatural', 'fantasy', 'action', 'drama', 'thriller', 'mystery', 'historical', 'comedy', 'sci', 'fi', 'slice', 'of', 'life', 'heartwarming', 'superhero', 'sports', 'informative', 'horror'])"
      ]
     },
     "execution_count": 97,
     "metadata": {},
     "output_type": "execute_result"
    }
   ],
   "source": [
    "cloud0.keys()"
   ]
  },
  {
   "cell_type": "code",
   "execution_count": 94,
   "id": "75d7bc6b-82d1-4e32-9872-58eaedd6388b",
   "metadata": {},
   "outputs": [
    {
     "data": {
      "text/plain": [
       "array(['action', 'comedy', 'drama', 'fantasy', 'fi', 'heartwarming',\n",
       "       'historical', 'horror', 'informative', 'life', 'mystery', 'of',\n",
       "       'romance', 'sci', 'slice', 'sports', 'superhero', 'supernatural',\n",
       "       'thriller'], dtype=object)"
      ]
     },
     "execution_count": 94,
     "metadata": {},
     "output_type": "execute_result"
    }
   ],
   "source": [
    "# 위 코드는 CountVertorizer 클래스가 갖고 있는\n",
    "# 빈도수를 세어 저장한 딕셔너리에서 키를 뽑아 저장한 거고,\n",
    "# 클래스가 갖고 있는 feature name (변수명)을 바로 출력하는 함수로도 가능\n",
    "vocab1 = count_vect.get_feature_names_out()\n",
    "vocab1"
   ]
  },
  {
   "cell_type": "code",
   "execution_count": 106,
   "id": "f2a17c58-db1c-4347-9599-7cef84725ae5",
   "metadata": {},
   "outputs": [
    {
     "data": {
      "text/plain": [
       "numpy.ndarray"
      ]
     },
     "execution_count": 106,
     "metadata": {},
     "output_type": "execute_result"
    }
   ],
   "source": [
    "type(vocab1)"
   ]
  },
  {
   "cell_type": "code",
   "execution_count": null,
   "id": "a8e564d0-e8ad-430c-833f-7977a27faf65",
   "metadata": {},
   "outputs": [],
   "source": [
    "'''\n",
    "1. count_vect.get_feature_names_out()     --> dtype : ndarray\n",
    "2. count_vect.vocabulary_.keys()          --> dtype : list\n",
    "3. sorted_vocab = sorted(count_vect.vocabulary_)\n",
    "\n",
    "위 코드 모두 컬럼명으로 이루어진 객체를 반환하지만,\n",
    "1번 코드는 오름차순 정렬이 되어 리턴 해줌 \n",
    "2번 코드는 저 상태에서 정렬할 방법이 없으므로 count_vect.vocabulary_ 를 정렬해야함\n",
    "3번 코드처럼 정렬하여 사용\n",
    "\n",
    "count_vect는 fit() 대상 데이터의 인덱스에 맞춰져 있기 때문\n",
    "'''"
   ]
  },
  {
   "cell_type": "code",
   "execution_count": 99,
   "id": "fc88c388-86ca-48df-b349-f1d3653d2dca",
   "metadata": {},
   "outputs": [
    {
     "data": {
      "text/plain": [
       "\u001b[1;31mDocstring:\u001b[0m D.keys() -> a set-like object providing a view on D's keys\n",
       "\u001b[1;31mType:\u001b[0m      builtin_function_or_method\n"
      ]
     },
     "metadata": {},
     "output_type": "display_data"
    }
   ],
   "source": [
    "cloud0.keys?\n",
    "\n",
    "# keys() 함수는 파라미터를 입력받지 않는 함수이므로,\n",
    "# 내부적으로 정렬 기능이 따로 없음.\n",
    "# --> keys를 사용하여 정렬된 데이터를 반환받고 싶은 경우,\n",
    "# cloud0 객체 자체를 정렬해야함"
   ]
  },
  {
   "cell_type": "code",
   "execution_count": 101,
   "id": "c5f85a54-a8ac-4f6d-89d1-8aebc59bdcfd",
   "metadata": {},
   "outputs": [
    {
     "data": {
      "text/plain": [
       "['action',\n",
       " 'comedy',\n",
       " 'drama',\n",
       " 'fantasy',\n",
       " 'fi',\n",
       " 'heartwarming',\n",
       " 'historical',\n",
       " 'horror',\n",
       " 'informative',\n",
       " 'life',\n",
       " 'mystery',\n",
       " 'of',\n",
       " 'romance',\n",
       " 'sci',\n",
       " 'slice',\n",
       " 'sports',\n",
       " 'superhero',\n",
       " 'supernatural',\n",
       " 'thriller']"
      ]
     },
     "execution_count": 101,
     "metadata": {},
     "output_type": "execute_result"
    }
   ],
   "source": [
    "# sorted 내장 함수 사용하여 정렬하기\n",
    "sorted_keys = sorted(cloud0.keys())\n",
    "sorted_keys"
   ]
  },
  {
   "cell_type": "code",
   "execution_count": 102,
   "id": "924e2264-f42f-44da-a141-7cb16a8425fc",
   "metadata": {},
   "outputs": [
    {
     "data": {
      "text/plain": [
       "['action',\n",
       " 'comedy',\n",
       " 'drama',\n",
       " 'fantasy',\n",
       " 'fi',\n",
       " 'heartwarming',\n",
       " 'historical',\n",
       " 'horror',\n",
       " 'informative',\n",
       " 'life',\n",
       " 'mystery',\n",
       " 'of',\n",
       " 'romance',\n",
       " 'sci',\n",
       " 'slice',\n",
       " 'sports',\n",
       " 'superhero',\n",
       " 'supernatural',\n",
       " 'thriller']"
      ]
     },
     "execution_count": 102,
     "metadata": {},
     "output_type": "execute_result"
    }
   ],
   "source": [
    "sorted_vocab = sorted(count_vect.vocabulary_)\n",
    "sorted_vocab"
   ]
  },
  {
   "cell_type": "code",
   "execution_count": 105,
   "id": "bc02ee10-2882-465d-9c3b-0010e8c3ac41",
   "metadata": {},
   "outputs": [
    {
     "data": {
      "text/plain": [
       "list"
      ]
     },
     "execution_count": 105,
     "metadata": {},
     "output_type": "execute_result"
    }
   ],
   "source": [
    "type(sorted_vocab)"
   ]
  },
  {
   "cell_type": "code",
   "execution_count": 120,
   "id": "cdf2f54c-af4b-4fb2-a7e5-6e554156db29",
   "metadata": {},
   "outputs": [
    {
     "data": {
      "text/html": [
       "<style>#sk-container-id-2 {color: black;background-color: white;}#sk-container-id-2 pre{padding: 0;}#sk-container-id-2 div.sk-toggleable {background-color: white;}#sk-container-id-2 label.sk-toggleable__label {cursor: pointer;display: block;width: 100%;margin-bottom: 0;padding: 0.3em;box-sizing: border-box;text-align: center;}#sk-container-id-2 label.sk-toggleable__label-arrow:before {content: \"▸\";float: left;margin-right: 0.25em;color: #696969;}#sk-container-id-2 label.sk-toggleable__label-arrow:hover:before {color: black;}#sk-container-id-2 div.sk-estimator:hover label.sk-toggleable__label-arrow:before {color: black;}#sk-container-id-2 div.sk-toggleable__content {max-height: 0;max-width: 0;overflow: hidden;text-align: left;background-color: #f0f8ff;}#sk-container-id-2 div.sk-toggleable__content pre {margin: 0.2em;color: black;border-radius: 0.25em;background-color: #f0f8ff;}#sk-container-id-2 input.sk-toggleable__control:checked~div.sk-toggleable__content {max-height: 200px;max-width: 100%;overflow: auto;}#sk-container-id-2 input.sk-toggleable__control:checked~label.sk-toggleable__label-arrow:before {content: \"▾\";}#sk-container-id-2 div.sk-estimator input.sk-toggleable__control:checked~label.sk-toggleable__label {background-color: #d4ebff;}#sk-container-id-2 div.sk-label input.sk-toggleable__control:checked~label.sk-toggleable__label {background-color: #d4ebff;}#sk-container-id-2 input.sk-hidden--visually {border: 0;clip: rect(1px 1px 1px 1px);clip: rect(1px, 1px, 1px, 1px);height: 1px;margin: -1px;overflow: hidden;padding: 0;position: absolute;width: 1px;}#sk-container-id-2 div.sk-estimator {font-family: monospace;background-color: #f0f8ff;border: 1px dotted black;border-radius: 0.25em;box-sizing: border-box;margin-bottom: 0.5em;}#sk-container-id-2 div.sk-estimator:hover {background-color: #d4ebff;}#sk-container-id-2 div.sk-parallel-item::after {content: \"\";width: 100%;border-bottom: 1px solid gray;flex-grow: 1;}#sk-container-id-2 div.sk-label:hover label.sk-toggleable__label {background-color: #d4ebff;}#sk-container-id-2 div.sk-serial::before {content: \"\";position: absolute;border-left: 1px solid gray;box-sizing: border-box;top: 0;bottom: 0;left: 50%;z-index: 0;}#sk-container-id-2 div.sk-serial {display: flex;flex-direction: column;align-items: center;background-color: white;padding-right: 0.2em;padding-left: 0.2em;position: relative;}#sk-container-id-2 div.sk-item {position: relative;z-index: 1;}#sk-container-id-2 div.sk-parallel {display: flex;align-items: stretch;justify-content: center;background-color: white;position: relative;}#sk-container-id-2 div.sk-item::before, #sk-container-id-2 div.sk-parallel-item::before {content: \"\";position: absolute;border-left: 1px solid gray;box-sizing: border-box;top: 0;bottom: 0;left: 50%;z-index: -1;}#sk-container-id-2 div.sk-parallel-item {display: flex;flex-direction: column;z-index: 1;position: relative;background-color: white;}#sk-container-id-2 div.sk-parallel-item:first-child::after {align-self: flex-end;width: 50%;}#sk-container-id-2 div.sk-parallel-item:last-child::after {align-self: flex-start;width: 50%;}#sk-container-id-2 div.sk-parallel-item:only-child::after {width: 0;}#sk-container-id-2 div.sk-dashed-wrapped {border: 1px dashed gray;margin: 0 0.4em 0.5em 0.4em;box-sizing: border-box;padding-bottom: 0.4em;background-color: white;}#sk-container-id-2 div.sk-label label {font-family: monospace;font-weight: bold;display: inline-block;line-height: 1.2em;}#sk-container-id-2 div.sk-label-container {text-align: center;}#sk-container-id-2 div.sk-container {/* jupyter's `normalize.less` sets `[hidden] { display: none; }` but bootstrap.min.css set `[hidden] { display: none !important; }` so we also need the `!important` here to be able to override the default hidden behavior on the sphinx rendered scikit-learn.org. See: https://github.com/scikit-learn/scikit-learn/issues/21755 */display: inline-block !important;position: relative;}#sk-container-id-2 div.sk-text-repr-fallback {display: none;}</style><div id=\"sk-container-id-2\" class=\"sk-top-container\"><div class=\"sk-text-repr-fallback\"><pre>TfidfVectorizer()</pre><b>In a Jupyter environment, please rerun this cell to show the HTML representation or trust the notebook. <br />On GitHub, the HTML representation is unable to render, please try loading this page with nbviewer.org.</b></div><div class=\"sk-container\" hidden><div class=\"sk-item\"><div class=\"sk-estimator sk-toggleable\"><input class=\"sk-toggleable__control sk-hidden--visually\" id=\"sk-estimator-id-2\" type=\"checkbox\" checked><label for=\"sk-estimator-id-2\" class=\"sk-toggleable__label sk-toggleable__label-arrow\">TfidfVectorizer</label><div class=\"sk-toggleable__content\"><pre>TfidfVectorizer()</pre></div></div></div></div></div>"
      ],
      "text/plain": [
       "TfidfVectorizer()"
      ]
     },
     "execution_count": 120,
     "metadata": {},
     "output_type": "execute_result"
    }
   ],
   "source": [
    "# TF-IDF ( 텍스트의 빈도별로 점수를 매겨서 중요도 산정 ) 활용하여 텍스트 전처리\n",
    "from sklearn.feature_extraction.text import TfidfVectorizer\n",
    "\n",
    "tfid = TfidfVectorizer()\n",
    "tfid.fit(df1)"
   ]
  },
  {
   "cell_type": "code",
   "execution_count": 126,
   "id": "4be8f450-cd18-40f2-ab47-8bc76cc621fb",
   "metadata": {},
   "outputs": [
    {
     "data": {
      "text/plain": [
       "{'romance': 12,\n",
       " 'supernatural': 17,\n",
       " 'fantasy': 3,\n",
       " 'action': 0,\n",
       " 'drama': 2,\n",
       " 'thriller': 18,\n",
       " 'mystery': 10,\n",
       " 'historical': 6,\n",
       " 'comedy': 1,\n",
       " 'sci': 13,\n",
       " 'fi': 4,\n",
       " 'slice': 14,\n",
       " 'of': 11,\n",
       " 'life': 9,\n",
       " 'heartwarming': 5,\n",
       " 'superhero': 16,\n",
       " 'sports': 15,\n",
       " 'informative': 8,\n",
       " 'horror': 7}"
      ]
     },
     "execution_count": 126,
     "metadata": {},
     "output_type": "execute_result"
    }
   ],
   "source": [
    "# 컬럼 데이터 확인\n",
    "tfid.vocabulary_"
   ]
  },
  {
   "cell_type": "code",
   "execution_count": 125,
   "id": "f90811cc-0eb6-4049-b1dd-7f603aa9f92a",
   "metadata": {},
   "outputs": [
    {
     "data": {
      "text/plain": [
       "array([[0., 0., 0., ..., 0., 0., 0.],\n",
       "       [0., 0., 0., ..., 0., 0., 0.],\n",
       "       [0., 0., 0., ..., 0., 0., 0.],\n",
       "       ...,\n",
       "       [0., 0., 0., ..., 0., 0., 0.],\n",
       "       [0., 0., 0., ..., 0., 0., 0.],\n",
       "       [0., 0., 0., ..., 0., 0., 0.]])"
      ]
     },
     "execution_count": 125,
     "metadata": {},
     "output_type": "execute_result"
    }
   ],
   "source": [
    "# 2차원 행렬 데이터 확인\n",
    "tfid.transform(df1).toarray()"
   ]
  },
  {
   "cell_type": "code",
   "execution_count": 127,
   "id": "5fb6a8ab-0738-4130-abcd-aca591565630",
   "metadata": {},
   "outputs": [
    {
     "data": {
      "text/html": [
       "<div>\n",
       "<style scoped>\n",
       "    .dataframe tbody tr th:only-of-type {\n",
       "        vertical-align: middle;\n",
       "    }\n",
       "\n",
       "    .dataframe tbody tr th {\n",
       "        vertical-align: top;\n",
       "    }\n",
       "\n",
       "    .dataframe thead th {\n",
       "        text-align: right;\n",
       "    }\n",
       "</style>\n",
       "<table border=\"1\" class=\"dataframe\">\n",
       "  <thead>\n",
       "    <tr style=\"text-align: right;\">\n",
       "      <th></th>\n",
       "      <th>action</th>\n",
       "      <th>comedy</th>\n",
       "      <th>drama</th>\n",
       "      <th>fantasy</th>\n",
       "      <th>fi</th>\n",
       "      <th>heartwarming</th>\n",
       "      <th>historical</th>\n",
       "      <th>horror</th>\n",
       "      <th>informative</th>\n",
       "      <th>life</th>\n",
       "      <th>mystery</th>\n",
       "      <th>of</th>\n",
       "      <th>romance</th>\n",
       "      <th>sci</th>\n",
       "      <th>slice</th>\n",
       "      <th>sports</th>\n",
       "      <th>superhero</th>\n",
       "      <th>supernatural</th>\n",
       "      <th>thriller</th>\n",
       "    </tr>\n",
       "  </thead>\n",
       "  <tbody>\n",
       "    <tr>\n",
       "      <th>0</th>\n",
       "      <td>0.0</td>\n",
       "      <td>0.0</td>\n",
       "      <td>0.0</td>\n",
       "      <td>0.0</td>\n",
       "      <td>0.0</td>\n",
       "      <td>0.0</td>\n",
       "      <td>0.0</td>\n",
       "      <td>0.0</td>\n",
       "      <td>0.0</td>\n",
       "      <td>0.0</td>\n",
       "      <td>0.0</td>\n",
       "      <td>0.0</td>\n",
       "      <td>1.0</td>\n",
       "      <td>0.0</td>\n",
       "      <td>0.0</td>\n",
       "      <td>0.0</td>\n",
       "      <td>0.0</td>\n",
       "      <td>0.0</td>\n",
       "      <td>0.0</td>\n",
       "    </tr>\n",
       "    <tr>\n",
       "      <th>1</th>\n",
       "      <td>0.0</td>\n",
       "      <td>0.0</td>\n",
       "      <td>0.0</td>\n",
       "      <td>0.0</td>\n",
       "      <td>0.0</td>\n",
       "      <td>0.0</td>\n",
       "      <td>0.0</td>\n",
       "      <td>0.0</td>\n",
       "      <td>0.0</td>\n",
       "      <td>0.0</td>\n",
       "      <td>0.0</td>\n",
       "      <td>0.0</td>\n",
       "      <td>1.0</td>\n",
       "      <td>0.0</td>\n",
       "      <td>0.0</td>\n",
       "      <td>0.0</td>\n",
       "      <td>0.0</td>\n",
       "      <td>0.0</td>\n",
       "      <td>0.0</td>\n",
       "    </tr>\n",
       "    <tr>\n",
       "      <th>2</th>\n",
       "      <td>0.0</td>\n",
       "      <td>0.0</td>\n",
       "      <td>0.0</td>\n",
       "      <td>0.0</td>\n",
       "      <td>0.0</td>\n",
       "      <td>0.0</td>\n",
       "      <td>0.0</td>\n",
       "      <td>0.0</td>\n",
       "      <td>0.0</td>\n",
       "      <td>0.0</td>\n",
       "      <td>0.0</td>\n",
       "      <td>0.0</td>\n",
       "      <td>1.0</td>\n",
       "      <td>0.0</td>\n",
       "      <td>0.0</td>\n",
       "      <td>0.0</td>\n",
       "      <td>0.0</td>\n",
       "      <td>0.0</td>\n",
       "      <td>0.0</td>\n",
       "    </tr>\n",
       "    <tr>\n",
       "      <th>3</th>\n",
       "      <td>0.0</td>\n",
       "      <td>0.0</td>\n",
       "      <td>0.0</td>\n",
       "      <td>0.0</td>\n",
       "      <td>0.0</td>\n",
       "      <td>0.0</td>\n",
       "      <td>0.0</td>\n",
       "      <td>0.0</td>\n",
       "      <td>0.0</td>\n",
       "      <td>0.0</td>\n",
       "      <td>0.0</td>\n",
       "      <td>0.0</td>\n",
       "      <td>1.0</td>\n",
       "      <td>0.0</td>\n",
       "      <td>0.0</td>\n",
       "      <td>0.0</td>\n",
       "      <td>0.0</td>\n",
       "      <td>0.0</td>\n",
       "      <td>0.0</td>\n",
       "    </tr>\n",
       "    <tr>\n",
       "      <th>4</th>\n",
       "      <td>0.0</td>\n",
       "      <td>0.0</td>\n",
       "      <td>0.0</td>\n",
       "      <td>0.0</td>\n",
       "      <td>0.0</td>\n",
       "      <td>0.0</td>\n",
       "      <td>0.0</td>\n",
       "      <td>0.0</td>\n",
       "      <td>0.0</td>\n",
       "      <td>0.0</td>\n",
       "      <td>0.0</td>\n",
       "      <td>0.0</td>\n",
       "      <td>0.0</td>\n",
       "      <td>0.0</td>\n",
       "      <td>0.0</td>\n",
       "      <td>0.0</td>\n",
       "      <td>0.0</td>\n",
       "      <td>1.0</td>\n",
       "      <td>0.0</td>\n",
       "    </tr>\n",
       "    <tr>\n",
       "      <th>...</th>\n",
       "      <td>...</td>\n",
       "      <td>...</td>\n",
       "      <td>...</td>\n",
       "      <td>...</td>\n",
       "      <td>...</td>\n",
       "      <td>...</td>\n",
       "      <td>...</td>\n",
       "      <td>...</td>\n",
       "      <td>...</td>\n",
       "      <td>...</td>\n",
       "      <td>...</td>\n",
       "      <td>...</td>\n",
       "      <td>...</td>\n",
       "      <td>...</td>\n",
       "      <td>...</td>\n",
       "      <td>...</td>\n",
       "      <td>...</td>\n",
       "      <td>...</td>\n",
       "      <td>...</td>\n",
       "    </tr>\n",
       "    <tr>\n",
       "      <th>564</th>\n",
       "      <td>0.0</td>\n",
       "      <td>0.0</td>\n",
       "      <td>0.0</td>\n",
       "      <td>0.0</td>\n",
       "      <td>0.0</td>\n",
       "      <td>0.0</td>\n",
       "      <td>0.0</td>\n",
       "      <td>0.0</td>\n",
       "      <td>0.0</td>\n",
       "      <td>0.0</td>\n",
       "      <td>0.0</td>\n",
       "      <td>0.0</td>\n",
       "      <td>0.0</td>\n",
       "      <td>0.0</td>\n",
       "      <td>0.0</td>\n",
       "      <td>0.0</td>\n",
       "      <td>0.0</td>\n",
       "      <td>1.0</td>\n",
       "      <td>0.0</td>\n",
       "    </tr>\n",
       "    <tr>\n",
       "      <th>565</th>\n",
       "      <td>0.0</td>\n",
       "      <td>0.0</td>\n",
       "      <td>0.0</td>\n",
       "      <td>0.0</td>\n",
       "      <td>0.0</td>\n",
       "      <td>0.0</td>\n",
       "      <td>0.0</td>\n",
       "      <td>0.0</td>\n",
       "      <td>0.0</td>\n",
       "      <td>0.0</td>\n",
       "      <td>1.0</td>\n",
       "      <td>0.0</td>\n",
       "      <td>0.0</td>\n",
       "      <td>0.0</td>\n",
       "      <td>0.0</td>\n",
       "      <td>0.0</td>\n",
       "      <td>0.0</td>\n",
       "      <td>0.0</td>\n",
       "      <td>0.0</td>\n",
       "    </tr>\n",
       "    <tr>\n",
       "      <th>566</th>\n",
       "      <td>0.0</td>\n",
       "      <td>0.0</td>\n",
       "      <td>0.0</td>\n",
       "      <td>0.0</td>\n",
       "      <td>0.0</td>\n",
       "      <td>0.0</td>\n",
       "      <td>0.0</td>\n",
       "      <td>0.0</td>\n",
       "      <td>1.0</td>\n",
       "      <td>0.0</td>\n",
       "      <td>0.0</td>\n",
       "      <td>0.0</td>\n",
       "      <td>0.0</td>\n",
       "      <td>0.0</td>\n",
       "      <td>0.0</td>\n",
       "      <td>0.0</td>\n",
       "      <td>0.0</td>\n",
       "      <td>0.0</td>\n",
       "      <td>0.0</td>\n",
       "    </tr>\n",
       "    <tr>\n",
       "      <th>567</th>\n",
       "      <td>0.0</td>\n",
       "      <td>0.0</td>\n",
       "      <td>0.0</td>\n",
       "      <td>0.0</td>\n",
       "      <td>0.0</td>\n",
       "      <td>0.0</td>\n",
       "      <td>0.0</td>\n",
       "      <td>0.0</td>\n",
       "      <td>1.0</td>\n",
       "      <td>0.0</td>\n",
       "      <td>0.0</td>\n",
       "      <td>0.0</td>\n",
       "      <td>0.0</td>\n",
       "      <td>0.0</td>\n",
       "      <td>0.0</td>\n",
       "      <td>0.0</td>\n",
       "      <td>0.0</td>\n",
       "      <td>0.0</td>\n",
       "      <td>0.0</td>\n",
       "    </tr>\n",
       "    <tr>\n",
       "      <th>568</th>\n",
       "      <td>0.0</td>\n",
       "      <td>0.0</td>\n",
       "      <td>0.0</td>\n",
       "      <td>0.0</td>\n",
       "      <td>0.0</td>\n",
       "      <td>0.0</td>\n",
       "      <td>0.0</td>\n",
       "      <td>0.0</td>\n",
       "      <td>1.0</td>\n",
       "      <td>0.0</td>\n",
       "      <td>0.0</td>\n",
       "      <td>0.0</td>\n",
       "      <td>0.0</td>\n",
       "      <td>0.0</td>\n",
       "      <td>0.0</td>\n",
       "      <td>0.0</td>\n",
       "      <td>0.0</td>\n",
       "      <td>0.0</td>\n",
       "      <td>0.0</td>\n",
       "    </tr>\n",
       "  </tbody>\n",
       "</table>\n",
       "<p>569 rows × 19 columns</p>\n",
       "</div>"
      ],
      "text/plain": [
       "     action  comedy  drama  fantasy   fi  heartwarming  historical  horror  \\\n",
       "0       0.0     0.0    0.0      0.0  0.0           0.0         0.0     0.0   \n",
       "1       0.0     0.0    0.0      0.0  0.0           0.0         0.0     0.0   \n",
       "2       0.0     0.0    0.0      0.0  0.0           0.0         0.0     0.0   \n",
       "3       0.0     0.0    0.0      0.0  0.0           0.0         0.0     0.0   \n",
       "4       0.0     0.0    0.0      0.0  0.0           0.0         0.0     0.0   \n",
       "..      ...     ...    ...      ...  ...           ...         ...     ...   \n",
       "564     0.0     0.0    0.0      0.0  0.0           0.0         0.0     0.0   \n",
       "565     0.0     0.0    0.0      0.0  0.0           0.0         0.0     0.0   \n",
       "566     0.0     0.0    0.0      0.0  0.0           0.0         0.0     0.0   \n",
       "567     0.0     0.0    0.0      0.0  0.0           0.0         0.0     0.0   \n",
       "568     0.0     0.0    0.0      0.0  0.0           0.0         0.0     0.0   \n",
       "\n",
       "     informative  life  mystery   of  romance  sci  slice  sports  superhero  \\\n",
       "0            0.0   0.0      0.0  0.0      1.0  0.0    0.0     0.0        0.0   \n",
       "1            0.0   0.0      0.0  0.0      1.0  0.0    0.0     0.0        0.0   \n",
       "2            0.0   0.0      0.0  0.0      1.0  0.0    0.0     0.0        0.0   \n",
       "3            0.0   0.0      0.0  0.0      1.0  0.0    0.0     0.0        0.0   \n",
       "4            0.0   0.0      0.0  0.0      0.0  0.0    0.0     0.0        0.0   \n",
       "..           ...   ...      ...  ...      ...  ...    ...     ...        ...   \n",
       "564          0.0   0.0      0.0  0.0      0.0  0.0    0.0     0.0        0.0   \n",
       "565          0.0   0.0      1.0  0.0      0.0  0.0    0.0     0.0        0.0   \n",
       "566          1.0   0.0      0.0  0.0      0.0  0.0    0.0     0.0        0.0   \n",
       "567          1.0   0.0      0.0  0.0      0.0  0.0    0.0     0.0        0.0   \n",
       "568          1.0   0.0      0.0  0.0      0.0  0.0    0.0     0.0        0.0   \n",
       "\n",
       "     supernatural  thriller  \n",
       "0             0.0       0.0  \n",
       "1             0.0       0.0  \n",
       "2             0.0       0.0  \n",
       "3             0.0       0.0  \n",
       "4             1.0       0.0  \n",
       "..            ...       ...  \n",
       "564           1.0       0.0  \n",
       "565           0.0       0.0  \n",
       "566           0.0       0.0  \n",
       "567           0.0       0.0  \n",
       "568           0.0       0.0  \n",
       "\n",
       "[569 rows x 19 columns]"
      ]
     },
     "execution_count": 127,
     "metadata": {},
     "output_type": "execute_result"
    }
   ],
   "source": [
    "# 행렬 데이터와 컬럼 데이터로 데이터프레임 생성, 확인\n",
    "tfid_df = pd.DataFrame(tfid.transform(df1).toarray(), columns=sorted_vocab)\n",
    "tfid_df"
   ]
  },
  {
   "cell_type": "markdown",
   "id": "d6bdc429-40b0-4bdb-bb67-b58d279d5888",
   "metadata": {},
   "source": [
    "해당 데이터셋은 문장형식이 아니므로, 가중치가 모두 0 아니면 1밖에 존재하지 않다는 점\n",
    "\n",
    "문장으로 된 데이터로 진행하면 각 로우별로 중요도가 산출되는데,\n",
    "\n",
    "TF-IDF 지수가 \n",
    "\n",
    "1에 가까울수록 해당 로우에 중요한 데이터라는 뜻이고,\n",
    "\n",
    "0에 가까울수록 해당 로우에서 중요하지 않은 데이터라는 뜻"
   ]
  },
  {
   "cell_type": "code",
   "execution_count": null,
   "id": "68ca1b70-eb45-40e0-864d-8fca746c1ffd",
   "metadata": {},
   "outputs": [],
   "source": []
  }
 ],
 "metadata": {
  "kernelspec": {
   "display_name": "Python 3 (ipykernel)",
   "language": "python",
   "name": "python3"
  },
  "language_info": {
   "codemirror_mode": {
    "name": "ipython",
    "version": 3
   },
   "file_extension": ".py",
   "mimetype": "text/x-python",
   "name": "python",
   "nbconvert_exporter": "python",
   "pygments_lexer": "ipython3",
   "version": "3.9.12"
  }
 },
 "nbformat": 4,
 "nbformat_minor": 5
}
