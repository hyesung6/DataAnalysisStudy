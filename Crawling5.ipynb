{
 "cells": [
  {
   "cell_type": "markdown",
   "id": "840668b0-5cab-4682-bbca-d4f776f9ef09",
   "metadata": {},
   "source": [
    "# python_scraper"
   ]
  },
  {
   "cell_type": "code",
   "execution_count": 12,
   "id": "f8ad44c8-6af0-4321-a3ba-d2cee0e240ff",
   "metadata": {},
   "outputs": [],
   "source": [
    "import re\n",
    "import sqlite3\n",
    "from urllib.request import urlopen\n",
    "from html import unescape"
   ]
  },
  {
   "cell_type": "code",
   "execution_count": 13,
   "id": "8457c807-ad6f-413b-a2a0-7d3fcadfe1d1",
   "metadata": {},
   "outputs": [],
   "source": [
    "def main():\n",
    "    \"\"\"\n",
    "    메인 처리\n",
    "    fetch(), scrape(), save() 함수를 호출\n",
    "    \"\"\"\n",
    "    html = fetch('http://www.hanbit.co.kr/store/books/full_book_list.html')\n",
    "    books = scrape(html)\n",
    "    save('books.db', books)"
   ]
  },
  {
   "cell_type": "code",
   "execution_count": 14,
   "id": "8852bf46-b43e-400d-8466-5de9cf9a2508",
   "metadata": {},
   "outputs": [],
   "source": [
    "def fetch(url):\n",
    "    \"\"\"\n",
    "    매개변수로 전달받을 url을 기반으로 웹 페이지를 추출\n",
    "    웹 페이지의 Content-Type 헤더를 통해 인코딩 형식 확인\n",
    "    반환값: str 자료형의 HTML\n",
    "    \"\"\"\n",
    "    f = urlopen(url)\n",
    "    # HTTP 헤더를 기반으로 인코딩 형식 추출\n",
    "    encoding = f.info().get_content_charset(failobj=\"utf-8\")\n",
    "    # 추출한 인코딩 형식을 기반으로 문자열 디코딩\n",
    "    html = f.read().decode(encoding)\n",
    "    return html"
   ]
  },
  {
   "cell_type": "code",
   "execution_count": 15,
   "id": "ec4e903f-9250-4ca5-8e05-09eb351332ae",
   "metadata": {},
   "outputs": [],
   "source": [
    "def scrape(html):\n",
    "    \"\"\"\n",
    "    매개변수 html로 받은 HTML을 기반으로 정규 표현식을 사용해 도서 정보를 추출합니다.\n",
    "    반환값: 도서(dict) 리스트\n",
    "    \"\"\"\n",
    "    books = []\n",
    "    # re.findall()을 사용해 도서 하나에 해당하는 HTML을 추출\n",
    "    for partial_html in re.findall(r'<td class=\"left\"><a.*?</td>', html, re.DOTALL):\n",
    "        # 도서의 URL을 추출\n",
    "        url = re.search(r'<a href=\"(.*?)\">', partial_html).group(1)\n",
    "        url = 'http://www.hanbit.co.kr' + url\n",
    "        # 태그를 제거해서 도서의 제목 추출\n",
    "        title = re.sub(r'<.*?>', '', partial_html)\n",
    "        title = unescape(title)\n",
    "        books.append({'url': url, 'title': title})\n",
    "    \n",
    "    return books"
   ]
  },
  {
   "cell_type": "code",
   "execution_count": 28,
   "id": "ddd0bedb-96bd-47d9-988a-3f2beae6e264",
   "metadata": {},
   "outputs": [],
   "source": [
    "def save(db_path, books):\n",
    "    \"\"\"\n",
    "    매개변수 books로 전달된 도서 목록을 SQLite 데이터베이스에 저장\n",
    "    데이터베이스의 경로는 매개변수 dp_path로 지정\n",
    "    반환값: None(없음)\n",
    "    \"\"\"\n",
    "    # DB Connection\n",
    "    conn = sqlite3.connect(db_path)\n",
    "    # 커서 추출\n",
    "    c = conn.cursor()\n",
    "    # execute() 메서드로 SQL을 실행\n",
    "    # 스크립트를 여러 번 실행할 수 있으므로 기존의 books 테이블을 제거\n",
    "    c.execute('DROP TABLE IF EXISTS books')\n",
    "    # books 테이블을 생성합니다.\n",
    "    c.execute('''\n",
    "        CREATE TABLE books (\n",
    "            title text,\n",
    "            url text\n",
    "        )\n",
    "    ''')\n",
    "    # executemany() 메서드를 사용하면 매개변수로 리스트를 지정\n",
    "    c.executemany('INSERT INTO books VALUES (:title, :url)', books)\n",
    "    # 변경사항을 커밋\n",
    "    conn.commit()\n",
    "    # DB Connection 종료\n",
    "    conn.close()"
   ]
  },
  {
   "cell_type": "code",
   "execution_count": 29,
   "id": "2e8eabc5-8c3f-4e76-85cb-4856323be7a0",
   "metadata": {},
   "outputs": [],
   "source": [
    "# python 명령어로 실행한 경우 main() 함수를 호출\n",
    "# 모듈로써 다른 파일에서 읽어 들였을 때 main() 함수가 호출되지 않도록 함\n",
    "# 파이썬 프로그램의 일반적인 작성 방식\n",
    "if __name__ == '__main__':\n",
    "    main()"
   ]
  },
  {
   "cell_type": "code",
   "execution_count": 30,
   "id": "4b53cac9-d5d6-46ba-854b-2c042806ebb7",
   "metadata": {},
   "outputs": [
    {
     "name": "stdout",
     "output_type": "stream",
     "text": [
      "('받침 없는 한글 동화 : 무시무시 마녀가 이사 와!', 'http://www.hanbit.co.kr/store/books/look.php?p_code=B8661740335')\n",
      "('받침 없는 한글 동화 : 도, 도, 도깨비다!', 'http://www.hanbit.co.kr/store/books/look.php?p_code=B6084607806')\n",
      "('받침 없는 한글 동화 : 바쁘다 바빠 너구리 바빠', 'http://www.hanbit.co.kr/store/books/look.php?p_code=B1382037871')\n",
      "('받침 없는 한글 동화 : 도깨비 파자마 파티', 'http://www.hanbit.co.kr/store/books/look.php?p_code=B8948111854')\n",
      "('받침 없는 한글 동화 : 4권 세트', 'http://www.hanbit.co.kr/store/books/look.php?p_code=B3178834938')\n",
      "('오늘도 시작하지 못하는 당신을 위해', 'http://www.hanbit.co.kr/store/books/look.php?p_code=B4162156367')\n",
      "('리얼 몽골 [2022~2023 최신판]', 'http://www.hanbit.co.kr/store/books/look.php?p_code=B2847674054')\n",
      "('IT CookBook, 원리로 이해하는 전력전자공학(2판)', 'http://www.hanbit.co.kr/store/books/look.php?p_code=B5156679966')\n",
      "('트러스트', 'http://www.hanbit.co.kr/store/books/look.php?p_code=B6189263297')\n",
      "('리얼 싱가포르 [2022~2023 최신판]', 'http://www.hanbit.co.kr/store/books/look.php?p_code=B8806843023')\n",
      "('구글 앱스 스크립트 완벽 가이드', 'http://www.hanbit.co.kr/store/books/look.php?p_code=B4813114979')\n",
      "('원소 이야기', 'http://www.hanbit.co.kr/store/books/look.php?p_code=B2859439220')\n",
      "('핸즈온 데이터 시각화', 'http://www.hanbit.co.kr/store/books/look.php?p_code=B1996635146')\n",
      "('생각하는 힘이 붙는 첫 숨은그림찾기', 'http://www.hanbit.co.kr/store/books/look.php?p_code=B4354575770')\n",
      "('IT CookBook, TCP/IP 소켓 프로그래밍(2판)', 'http://www.hanbit.co.kr/store/books/look.php?p_code=B9063949643')\n",
      "('파이썬을 활용한 베이지안 통계(2판)', 'http://www.hanbit.co.kr/store/books/look.php?p_code=B7798657798')\n",
      "('인피니티', 'http://www.hanbit.co.kr/store/books/look.php?p_code=B5171715268')\n",
      "('IT CookBook, 쉽게 배우는 데이터 통신과 컴퓨터 네트워크(3판)', 'http://www.hanbit.co.kr/store/books/look.php?p_code=B7400451696')\n",
      "('IT CookBook, 우분투 리눅스(3판)', 'http://www.hanbit.co.kr/store/books/look.php?p_code=B6129400746')\n",
      "('실용적 접근 방식의 경영학원론(10판)', 'http://www.hanbit.co.kr/store/books/look.php?p_code=B1959656080')\n",
      "('거시경제학(3판)', 'http://www.hanbit.co.kr/store/books/look.php?p_code=B7738896383')\n",
      "('비즈니스 데이터 과학', 'http://www.hanbit.co.kr/store/books/look.php?p_code=B6001875802')\n",
      "('혼자 해도 프로 작가처럼 잘 그리는 아이패드 드로잉 with 프로크리에이트', 'http://www.hanbit.co.kr/store/books/look.php?p_code=B6361762764')\n",
      "('IT CookBook, C로 시작하는 컴퓨터 프로그래밍(4판)', 'http://www.hanbit.co.kr/store/books/look.php?p_code=B4947312430')\n",
      "('IT CookBook, 인터넷 해킹과 보안(4판)', 'http://www.hanbit.co.kr/store/books/look.php?p_code=B1393628384')\n",
      "('리얼 뉴질랜드 [2022~2023 최신판]', 'http://www.hanbit.co.kr/store/books/look.php?p_code=B7718726335')\n",
      "('IT CookBook, 파이썬 데이터 분석 for Beginner', 'http://www.hanbit.co.kr/store/books/look.php?p_code=B9597680767')\n",
      "('IT CookBook, 엑셀 2019', 'http://www.hanbit.co.kr/store/books/look.php?p_code=B7792763682')\n",
      "('쉽게 따라하는 NFT 마스터 가이드', 'http://www.hanbit.co.kr/store/books/look.php?p_code=B8676970090')\n",
      "('오늘부터 팀장입니다', 'http://www.hanbit.co.kr/store/books/look.php?p_code=B2119731751')\n",
      "('IT CookBook, 소프트웨어 공학 이론과 실제', 'http://www.hanbit.co.kr/store/books/look.php?p_code=B5067324775')\n",
      "('회사에서 바로 통하는 파워포인트 FOR STARTERS(개정판)', 'http://www.hanbit.co.kr/store/books/look.php?p_code=B9071173699')\n",
      "('회사에서 바로 통하는 엑셀 FOR STARTERS(개정판)', 'http://www.hanbit.co.kr/store/books/look.php?p_code=B3501358503')\n",
      "('초등 공부 습관 바이블: 똑같이 하는데 탁월한 결과를 내는 아이는 무엇이 다를까?', 'http://www.hanbit.co.kr/store/books/look.php?p_code=B2835837863')\n",
      "('이그노벨상 읽어드립니다', 'http://www.hanbit.co.kr/store/books/look.php?p_code=B9503831552')\n",
      "('공학도라면 반드시 알아야 할 최소한의 수학(8판)', 'http://www.hanbit.co.kr/store/books/look.php?p_code=B2247981475')\n",
      "('기업의 성공을 이끄는 Developer Relations', 'http://www.hanbit.co.kr/store/books/look.php?p_code=B9102351881')\n",
      "('사례 분석으로 배우는 데이터 시각화', 'http://www.hanbit.co.kr/store/books/look.php?p_code=B5825921855')\n",
      "('클라우드 네이티브 애플리케이션 디자인 패턴', 'http://www.hanbit.co.kr/store/books/look.php?p_code=B3886303135')\n",
      "('변화하는 세계 질서', 'http://www.hanbit.co.kr/store/books/look.php?p_code=B7422209817')\n",
      "('혼자 공부하는파이썬(개정판)', 'http://www.hanbit.co.kr/store/books/look.php?p_code=B1681646737')\n",
      "('아이주도이유식 레시피북(개정판)', 'http://www.hanbit.co.kr/store/books/look.php?p_code=B1355665429')\n",
      "('소문난 명강의 : 소플의 처음 만난 리액트', 'http://www.hanbit.co.kr/store/books/look.php?p_code=B9365371874')\n",
      "('적정 소프트웨어 아키텍처', 'http://www.hanbit.co.kr/store/books/look.php?p_code=B6059097161')\n",
      "('리얼 호주 [2022~2023 최신판]', 'http://www.hanbit.co.kr/store/books/look.php?p_code=B6562895528')\n",
      "('회사에서 바로 통하는 실무 엑셀+파워포인트+워드&한글(모든 버전 사용 가능, 개정판)', 'http://www.hanbit.co.kr/store/books/look.php?p_code=B5594567896')\n",
      "('혼자 공부하는 얄팍한 코딩 지식', 'http://www.hanbit.co.kr/store/books/look.php?p_code=B2317469552')\n",
      "('똑똑한 코드 작성을 위한 실전 알고리즘', 'http://www.hanbit.co.kr/store/books/look.php?p_code=B3563253053')\n",
      "('IT CookBook, UI/UX 디자인 이론과 실무 with 어도비 XD', 'http://www.hanbit.co.kr/store/books/look.php?p_code=B4622884510')\n",
      "('때려치우기의 기술', 'http://www.hanbit.co.kr/store/books/look.php?p_code=B7975223427')\n"
     ]
    }
   ],
   "source": [
    "# 저장된 내용 확인\n",
    "with sqlite3.connect('books.db') as conn:\n",
    "    c = conn.cursor()\n",
    "    c.execute('SELECT * FROM books')\n",
    "    for row in c.fetchall():\n",
    "        print(row)"
   ]
  },
  {
   "cell_type": "markdown",
   "id": "ba149bd9-63c9-4d27-8218-6018c505dc82",
   "metadata": {},
   "source": [
    "---\n",
    "# scrape_by_lxml"
   ]
  },
  {
   "cell_type": "code",
   "execution_count": 1,
   "id": "9a863d1c-4acc-42b8-b3e7-379f83be99cf",
   "metadata": {},
   "outputs": [
    {
     "name": "stdout",
     "output_type": "stream",
     "text": [
      "Requirement already satisfied: lxml in c:\\users\\user\\anaconda3\\lib\\site-packages (4.8.0)\n",
      "Requirement already satisfied: cssselect in c:\\users\\user\\anaconda3\\lib\\site-packages (1.1.0)\n"
     ]
    }
   ],
   "source": [
    "!pip install lxml\n",
    "!pip install cssselect"
   ]
  },
  {
   "cell_type": "code",
   "execution_count": 3,
   "id": "c29825a1-b6f3-4b4b-bc14-2ba6f9479419",
   "metadata": {},
   "outputs": [],
   "source": [
    "import lxml.html"
   ]
  },
  {
   "cell_type": "code",
   "execution_count": 16,
   "id": "c24b5c6f-f780-4267-8b35-f20a3f524947",
   "metadata": {},
   "outputs": [],
   "source": [
    "# HTML 파일을 읽어 들이고, getroot() 메서드로 HtmlElement 객체 생성\n",
    "tree = lxml.html.parse('full_book_list.html')\n",
    "html = tree.getroot()"
   ]
  },
  {
   "cell_type": "code",
   "execution_count": 25,
   "id": "88f6765e-e3c0-4429-8fa7-0801bb44724a",
   "metadata": {},
   "outputs": [
    {
     "name": "stdout",
     "output_type": "stream",
     "text": [
      "https://www.hanbit.co.kr/store/books/full_book_list.html#gnb None\n",
      "https://www.hanbit.co.kr/store/books/full_book_list.html#top_search None\n",
      "https://www.hanbit.co.kr/store/books/full_book_list.html#container None\n",
      "https://www.hanbit.co.kr/index.html None\n",
      "https://www.hanbit.co.kr/media/ 한빛미디어\n",
      "https://www.hanbit.co.kr/academy/ 한빛아카데미\n",
      "https://www.hanbit.co.kr/biz/ 한빛비즈\n",
      "https://www.hanbit.co.kr/life/ 한빛라이프\n",
      "https://www.hanbit.co.kr/edu/ 한빛에듀\n",
      "https://www.hanbit.co.kr/realtime/ 리얼타임\n",
      "https://www.hanbit.co.kr/textbook/ 한빛정보교과서\n",
      "https://www.hanbit.co.kr/rent/ 한빛대관서비스\n",
      "https://www.hanbit.co.kr/member/login.html 로그인\n",
      "https://www.hanbit.co.kr/member/member_agree.html 회원가입\n",
      "https://www.hanbit.co.kr/myhanbit/myhanbit.html 마이한빛\n",
      "https://www.hanbit.co.kr/myhanbit/cart.html 장바구니\n",
      "https://www.hanbit.co.kr/publisher/foreignrights.html?lang=e ENGLISH\n",
      "https://www.hanbit.co.kr/index.html 한빛출판네트워크\n",
      "https://www.hanbit.co.kr/brand/brand_submain.html BRAND\n",
      "https://www.hanbit.co.kr/channel/channel_submain.html Channel.H\n",
      "https://www.hanbit.co.kr/store/store_submain.html STORE\n",
      "https://www.hanbit.co.kr/support/help_info.html SUPPORT\n",
      "https://www.hanbit.co.kr/event/current/current_event_list.html EVENT\n",
      "https://www.hanbit.co.kr/publisher/foreignrights.html?lang=e RIGHTS\n",
      "javascript:; None\n",
      "https://www.hanbit.co.kr/store/books/full_book_list.html# 카테고리\n",
      "https://www.hanbit.co.kr/store/books/category_list.html?cate_cd=001 IT/모바일\n",
      "https://www.hanbit.co.kr/store/books/category_list.html?cate_cd=001001 프로그래밍\n",
      "https://www.hanbit.co.kr/store/books/category_list.html?cate_cd=001002 웹\n",
      "https://www.hanbit.co.kr/store/books/category_list.html?cate_cd=001003 모바일/스마트기기\n",
      "https://www.hanbit.co.kr/store/books/category_list.html?cate_cd=001013 데이터베이스\n",
      "https://www.hanbit.co.kr/store/books/category_list.html?cate_cd=001005 운영체제\n",
      "https://www.hanbit.co.kr/store/books/category_list.html?cate_cd=001014 하드웨어\n",
      "https://www.hanbit.co.kr/store/books/category_list.html?cate_cd=001015 시스템/네트워크\n",
      "https://www.hanbit.co.kr/store/books/category_list.html?cate_cd=001016 보안\n",
      "https://www.hanbit.co.kr/store/books/category_list.html?cate_cd=001009 비즈니스/문화\n",
      "https://www.hanbit.co.kr/store/books/category_list.html?cate_cd=001010 게임\n",
      "https://www.hanbit.co.kr/store/books/category_list.html?cate_cd=001017 IT에세이\n",
      "https://www.hanbit.co.kr/store/books/category_list.html?cate_cd=001012 자격증\n",
      "https://www.hanbit.co.kr/store/books/category_list.html?cate_cd=001018 인공지능/데이터과학\n",
      "https://www.hanbit.co.kr/store/books/category_list.html?cate_cd=002 MAKE\n",
      "https://www.hanbit.co.kr/store/books/category_list.html?cate_cd=002002 Make 프로젝트 북\n",
      "https://www.hanbit.co.kr/store/books/category_list.html?cate_cd=003 IT활용\n",
      "https://www.hanbit.co.kr/store/books/category_list.html?cate_cd=003001 오피스/OA\n",
      "https://www.hanbit.co.kr/store/books/category_list.html?cate_cd=003002 그래픽/멀티미디어\n",
      "https://www.hanbit.co.kr/store/books/category_list.html?cate_cd=003003 사진/예술\n",
      "https://www.hanbit.co.kr/store/books/category_list.html?cate_cd=003004 컴퓨터입문/IT교양\n",
      "https://www.hanbit.co.kr/store/books/category_list.html?cate_cd=004 대학교재\n",
      "https://www.hanbit.co.kr/store/books/category_list.html?cate_cd=004003 수학/통계\n",
      "https://www.hanbit.co.kr/store/books/category_list.html?cate_cd=004010 과학/공학일반\n",
      "https://www.hanbit.co.kr/store/books/category_list.html?cate_cd=004007 컴퓨터공학\n",
      "https://www.hanbit.co.kr/store/books/category_list.html?cate_cd=004004 프로그래밍\n",
      "https://www.hanbit.co.kr/store/books/category_list.html?cate_cd=004011 데이터과학/인공지능\n",
      "https://www.hanbit.co.kr/store/books/category_list.html?cate_cd=004008 전기/전자\n",
      "https://www.hanbit.co.kr/store/books/category_list.html?cate_cd=004009 기계/자동차\n",
      "https://www.hanbit.co.kr/store/books/category_list.html?cate_cd=004006 OA/그래픽\n",
      "https://www.hanbit.co.kr/store/books/category_list.html?cate_cd=004012 경영/경제\n",
      "https://www.hanbit.co.kr/store/books/category_list.html?cate_cd=004005 논문\n",
      "https://www.hanbit.co.kr/store/books/category_list.html?cate_cd=006 실용서\n",
      "https://www.hanbit.co.kr/store/books/category_list.html?cate_cd=006001 취미/실용\n",
      "https://www.hanbit.co.kr/store/books/category_list.html?cate_cd=006002 여행\n",
      "https://www.hanbit.co.kr/store/books/category_list.html?cate_cd=006003 건강\n",
      "https://www.hanbit.co.kr/store/books/category_list.html?cate_cd=006004 유아/육아\n",
      "https://www.hanbit.co.kr/store/books/category_list.html?cate_cd=007 경제/경영/인문\n",
      "https://www.hanbit.co.kr/store/books/category_list.html?cate_cd=007001 경제/경영\n",
      "https://www.hanbit.co.kr/store/books/category_list.html?cate_cd=007002 자기계발\n",
      "https://www.hanbit.co.kr/store/books/category_list.html?cate_cd=007003 인문/교양\n",
      "https://www.hanbit.co.kr/store/books/category_list.html?cate_cd=007004 마케팅\n",
      "https://www.hanbit.co.kr/store/books/category_list.html?cate_cd=007005 에세이\n",
      "https://www.hanbit.co.kr/store/books/category_list.html?cate_cd=008 유아/어린이/초등\n",
      "https://www.hanbit.co.kr/store/books/category_list.html?cate_cd=008001 4~6세\n",
      "https://www.hanbit.co.kr/store/books/category_list.html?cate_cd=008002 5~7세\n",
      "https://www.hanbit.co.kr/store/books/category_list.html?cate_cd=008003 예비초등\n",
      "https://www.hanbit.co.kr/store/books/category_list.html?cate_cd=008004 초등교과연계 1~12영역\n",
      "https://www.hanbit.co.kr/store/books/category_list.html?cate_cd=008005 초등 전학년\n",
      "https://www.hanbit.co.kr/store/books/new_book_list.html 새로나온책\n",
      "https://www.hanbit.co.kr/store/books/reservations_list.html 예약도서\n",
      "https://www.hanbit.co.kr/store/books/bestseller_list.html 베스트셀러\n",
      "https://www.hanbit.co.kr/store/books/full_book_list.html 전체도서목록\n",
      "https://www.hanbit.co.kr/store/books/series_list.html 시리즈\n",
      "https://www.hanbit.co.kr/store/item/item_list.html None\n"
     ]
    }
   ],
   "source": [
    "# cssselect() 메서드로 a 요소의 리스트를 추출 및 반복 수행\n",
    "count = 0\n",
    "for a in html.cssselect('a'):\n",
    "    # href 속성과 글자를 추출합니다.\n",
    "    print(a.get('href'), a.text)\n",
    "    count += 1\n",
    "    if count > 80:\n",
    "        break\n",
    "    "
   ]
  },
  {
   "cell_type": "markdown",
   "id": "84c7b048-4486-43ab-8380-5f7d4285d909",
   "metadata": {},
   "source": [
    "---\n",
    "# scrape_by_bs4"
   ]
  },
  {
   "cell_type": "code",
   "execution_count": 18,
   "id": "6a8a4e79-c38d-4ae4-bcfe-3f014044591f",
   "metadata": {},
   "outputs": [
    {
     "name": "stdout",
     "output_type": "stream",
     "text": [
      "Requirement already satisfied: beautifulsoup4 in c:\\users\\user\\anaconda3\\lib\\site-packages (4.11.1)\n",
      "Requirement already satisfied: soupsieve>1.2 in c:\\users\\user\\anaconda3\\lib\\site-packages (from beautifulsoup4) (2.3.1)\n"
     ]
    }
   ],
   "source": [
    "!pip install beautifulsoup4"
   ]
  },
  {
   "cell_type": "code",
   "execution_count": 19,
   "id": "6e538149-b704-48c9-b88a-56bbd0ca7353",
   "metadata": {},
   "outputs": [],
   "source": [
    "from bs4 import BeautifulSoup"
   ]
  },
  {
   "cell_type": "code",
   "execution_count": 21,
   "id": "eff07c31-d777-405b-ba42-8cadba80501f",
   "metadata": {},
   "outputs": [],
   "source": [
    "# html 파일 읽어 들이고 BeautifulSoup 객체를 생성\n",
    "with open('full_book_list.html', encoding='utf-8') as f:\n",
    "    soup = BeautifulSoup(f, 'html.parser')"
   ]
  },
  {
   "cell_type": "code",
   "execution_count": 27,
   "id": "4f8146c3-ca72-4477-b87e-65bd6dc31f5d",
   "metadata": {},
   "outputs": [
    {
     "name": "stdout",
     "output_type": "stream",
     "text": [
      "https://www.hanbit.co.kr/store/books/full_book_list.html#gnb 메뉴 바로가기\n",
      "https://www.hanbit.co.kr/store/books/full_book_list.html#top_search 검색 및 카테고리 바로가기\n",
      "https://www.hanbit.co.kr/store/books/full_book_list.html#container 본문 바로가기\n",
      "https://www.hanbit.co.kr/index.html HOME\n",
      "https://www.hanbit.co.kr/media/ 한빛미디어\n",
      "https://www.hanbit.co.kr/academy/ 한빛아카데미\n",
      "https://www.hanbit.co.kr/biz/ 한빛비즈\n",
      "https://www.hanbit.co.kr/life/ 한빛라이프\n",
      "https://www.hanbit.co.kr/edu/ 한빛에듀\n",
      "https://www.hanbit.co.kr/realtime/ 리얼타임\n",
      "https://www.hanbit.co.kr/textbook/ 한빛정보교과서\n",
      "https://www.hanbit.co.kr/rent/ 한빛대관서비스\n",
      "https://www.hanbit.co.kr/member/login.html 로그인\n",
      "https://www.hanbit.co.kr/member/member_agree.html 회원가입\n",
      "https://www.hanbit.co.kr/myhanbit/myhanbit.html 마이한빛\n",
      "https://www.hanbit.co.kr/myhanbit/cart.html 장바구니\n",
      "https://www.hanbit.co.kr/publisher/foreignrights.html?lang=e ENGLISH\n",
      "https://www.hanbit.co.kr/index.html 한빛출판네트워크\n",
      "https://www.hanbit.co.kr/brand/brand_submain.html BRAND\n",
      "https://www.hanbit.co.kr/channel/channel_submain.html Channel.H\n",
      "https://www.hanbit.co.kr/store/store_submain.html STORE\n",
      "https://www.hanbit.co.kr/support/help_info.html SUPPORT\n",
      "https://www.hanbit.co.kr/event/current/current_event_list.html EVENT\n",
      "https://www.hanbit.co.kr/publisher/foreignrights.html?lang=e RIGHTS\n",
      "javascript:; SEARCH\n",
      "https://www.hanbit.co.kr/store/books/full_book_list.html# 카테고리\n",
      "https://www.hanbit.co.kr/store/books/category_list.html?cate_cd=001 IT/모바일\n",
      "https://www.hanbit.co.kr/store/books/category_list.html?cate_cd=001001 프로그래밍\n",
      "https://www.hanbit.co.kr/store/books/category_list.html?cate_cd=001002 웹\n",
      "https://www.hanbit.co.kr/store/books/category_list.html?cate_cd=001003 모바일/스마트기기\n",
      "https://www.hanbit.co.kr/store/books/category_list.html?cate_cd=001013 데이터베이스\n",
      "https://www.hanbit.co.kr/store/books/category_list.html?cate_cd=001005 운영체제\n",
      "https://www.hanbit.co.kr/store/books/category_list.html?cate_cd=001014 하드웨어\n",
      "https://www.hanbit.co.kr/store/books/category_list.html?cate_cd=001015 시스템/네트워크\n",
      "https://www.hanbit.co.kr/store/books/category_list.html?cate_cd=001016 보안\n",
      "https://www.hanbit.co.kr/store/books/category_list.html?cate_cd=001009 비즈니스/문화\n",
      "https://www.hanbit.co.kr/store/books/category_list.html?cate_cd=001010 게임\n",
      "https://www.hanbit.co.kr/store/books/category_list.html?cate_cd=001017 IT에세이\n",
      "https://www.hanbit.co.kr/store/books/category_list.html?cate_cd=001012 자격증\n",
      "https://www.hanbit.co.kr/store/books/category_list.html?cate_cd=001018 인공지능/데이터과학\n",
      "https://www.hanbit.co.kr/store/books/category_list.html?cate_cd=002 MAKE\n",
      "https://www.hanbit.co.kr/store/books/category_list.html?cate_cd=002002 Make 프로젝트 북\n",
      "https://www.hanbit.co.kr/store/books/category_list.html?cate_cd=003 IT활용\n",
      "https://www.hanbit.co.kr/store/books/category_list.html?cate_cd=003001 오피스/OA\n",
      "https://www.hanbit.co.kr/store/books/category_list.html?cate_cd=003002 그래픽/멀티미디어\n",
      "https://www.hanbit.co.kr/store/books/category_list.html?cate_cd=003003 사진/예술\n",
      "https://www.hanbit.co.kr/store/books/category_list.html?cate_cd=003004 컴퓨터입문/IT교양\n",
      "https://www.hanbit.co.kr/store/books/category_list.html?cate_cd=004 대학교재\n",
      "https://www.hanbit.co.kr/store/books/category_list.html?cate_cd=004003 수학/통계\n",
      "https://www.hanbit.co.kr/store/books/category_list.html?cate_cd=004010 과학/공학일반\n",
      "https://www.hanbit.co.kr/store/books/category_list.html?cate_cd=004007 컴퓨터공학\n",
      "https://www.hanbit.co.kr/store/books/category_list.html?cate_cd=004004 프로그래밍\n",
      "https://www.hanbit.co.kr/store/books/category_list.html?cate_cd=004011 데이터과학/인공지능\n",
      "https://www.hanbit.co.kr/store/books/category_list.html?cate_cd=004008 전기/전자\n",
      "https://www.hanbit.co.kr/store/books/category_list.html?cate_cd=004009 기계/자동차\n",
      "https://www.hanbit.co.kr/store/books/category_list.html?cate_cd=004006 OA/그래픽\n",
      "https://www.hanbit.co.kr/store/books/category_list.html?cate_cd=004012 경영/경제\n",
      "https://www.hanbit.co.kr/store/books/category_list.html?cate_cd=004005 논문\n",
      "https://www.hanbit.co.kr/store/books/category_list.html?cate_cd=006 실용서\n",
      "https://www.hanbit.co.kr/store/books/category_list.html?cate_cd=006001 취미/실용\n",
      "https://www.hanbit.co.kr/store/books/category_list.html?cate_cd=006002 여행\n",
      "https://www.hanbit.co.kr/store/books/category_list.html?cate_cd=006003 건강\n",
      "https://www.hanbit.co.kr/store/books/category_list.html?cate_cd=006004 유아/육아\n",
      "https://www.hanbit.co.kr/store/books/category_list.html?cate_cd=007 경제/경영/인문\n",
      "https://www.hanbit.co.kr/store/books/category_list.html?cate_cd=007001 경제/경영\n",
      "https://www.hanbit.co.kr/store/books/category_list.html?cate_cd=007002 자기계발\n",
      "https://www.hanbit.co.kr/store/books/category_list.html?cate_cd=007003 인문/교양\n",
      "https://www.hanbit.co.kr/store/books/category_list.html?cate_cd=007004 마케팅\n",
      "https://www.hanbit.co.kr/store/books/category_list.html?cate_cd=007005 에세이\n",
      "https://www.hanbit.co.kr/store/books/category_list.html?cate_cd=008 유아/어린이/초등\n",
      "https://www.hanbit.co.kr/store/books/category_list.html?cate_cd=008001 4~6세\n",
      "https://www.hanbit.co.kr/store/books/category_list.html?cate_cd=008002 5~7세\n",
      "https://www.hanbit.co.kr/store/books/category_list.html?cate_cd=008003 예비초등\n",
      "https://www.hanbit.co.kr/store/books/category_list.html?cate_cd=008004 초등교과연계 1~12영역\n",
      "https://www.hanbit.co.kr/store/books/category_list.html?cate_cd=008005 초등 전학년\n",
      "https://www.hanbit.co.kr/store/books/new_book_list.html 새로나온책\n",
      "https://www.hanbit.co.kr/store/books/reservations_list.html 예약도서\n",
      "https://www.hanbit.co.kr/store/books/bestseller_list.html 베스트셀러\n",
      "https://www.hanbit.co.kr/store/books/full_book_list.html 전체도서목록\n",
      "https://www.hanbit.co.kr/store/books/series_list.html 시리즈\n",
      "https://www.hanbit.co.kr/store/item/item_list.html 오라일리 굿즈\n"
     ]
    }
   ],
   "source": [
    "# find_all() 메서드로 a 요소를 추출 및 반복 수행\n",
    "count = 0\n",
    "for a in soup.find_all('a'):\n",
    "    # href 속성과 글자를 추출합니다.\n",
    "    print(a.get('href'), a.text)\n",
    "    count += 1\n",
    "    if count > 80:\n",
    "        break"
   ]
  },
  {
   "cell_type": "code",
   "execution_count": null,
   "id": "f5da54a2-ace2-448d-a319-17880da94171",
   "metadata": {},
   "outputs": [],
   "source": []
  }
 ],
 "metadata": {
  "kernelspec": {
   "display_name": "Python 3 (ipykernel)",
   "language": "python",
   "name": "python3"
  },
  "language_info": {
   "codemirror_mode": {
    "name": "ipython",
    "version": 3
   },
   "file_extension": ".py",
   "mimetype": "text/x-python",
   "name": "python",
   "nbconvert_exporter": "python",
   "pygments_lexer": "ipython3",
   "version": "3.9.12"
  }
 },
 "nbformat": 4,
 "nbformat_minor": 5
}
