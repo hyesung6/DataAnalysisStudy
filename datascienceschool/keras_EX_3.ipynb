{
 "cells": [
  {
   "cell_type": "markdown",
   "id": "68925239-2cb9-49d7-9c10-9df723322b50",
   "metadata": {},
   "source": [
    "# keras의 학습 과정"
   ]
  },
  {
   "cell_type": "code",
   "execution_count": 6,
   "id": "e7bf5e17-13e3-4ddc-b12f-32a3d3181082",
   "metadata": {},
   "outputs": [],
   "source": [
    "from keras import models\n",
    "from keras import layers\n",
    "\n",
    "# Sequential 클래스 사용하여 model 생성하기\n",
    "model = models.Sequential()\n",
    "model.add(layers.Dense(32, activation='relu', input_shape=(784,)))\n",
    "model.add(layers.Dense(10, activation='softmax'))"
   ]
  },
  {
   "cell_type": "code",
   "execution_count": 7,
   "id": "1f2babfb-b7bf-4ec2-8c26-2f89b491f9d8",
   "metadata": {},
   "outputs": [],
   "source": [
    "# 함수형 API를 사용하여 model 생성하기\n",
    "input_tensor = layers.Input(shape=(784,))\n",
    "x = layers.Dense(32, activation='relu')(input_tensor)\n",
    "output_tensor = layers.Dense(10, activation='softmax')(x)\n",
    "\n",
    "model = models.Model(inputs=input_tensor, outputs=output_tensor)"
   ]
  },
  {
   "cell_type": "markdown",
   "id": "93781c03-f380-4b8f-80f2-cfd125855d9b",
   "metadata": {},
   "source": [
    "모델이 생성된 이후는 어떤 방식으로 생성했는지는 상관 없이 이후 과정 동일함.\n",
    "\n",
    "- 컴파일 단계에서 학습 과정이 설정됨.\n",
    "  - 모델이 사용할 옵티마이저\n",
    "  - 손실함수\n",
    "  - 측정 지표"
   ]
  },
  {
   "cell_type": "code",
   "execution_count": 10,
   "id": "b734c2bf-ce70-4210-8d38-5368a28742ee",
   "metadata": {},
   "outputs": [],
   "source": [
    "from keras import optimizers\n",
    "\n",
    "model.compile(optimizer=optimizers.RMSprop(learning_rate=0.001),\n",
    "              loss='mse',\n",
    "              metrics=['accuracy'])"
   ]
  },
  {
   "cell_type": "markdown",
   "id": "da25e0ac-9613-4ad6-a1b3-e04ef560a54e",
   "metadata": {},
   "source": [
    "- 모델 학습\n",
    "  - 사이킷런과 비슷하게 학습 진행하면 됨\n",
    "  - 입력 데이터의 넘파이 array를 모델의 fit() 메서드에 전달"
   ]
  },
  {
   "cell_type": "code",
   "execution_count": null,
   "id": "6331c26a-553a-4e3c-8373-bd610f150a56",
   "metadata": {},
   "outputs": [],
   "source": [
    "# target_tensor 정의 후, 학습 진행\n",
    "model.fit(input_tensor, target_tensor, batch_size=128, epochs=10)"
   ]
  },
  {
   "cell_type": "code",
   "execution_count": null,
   "id": "2232437e-6944-419d-9bac-4a39db5e7946",
   "metadata": {},
   "outputs": [],
   "source": []
  }
 ],
 "metadata": {
  "kernelspec": {
   "display_name": "Python 3 (ipykernel)",
   "language": "python",
   "name": "python3"
  },
  "language_info": {
   "codemirror_mode": {
    "name": "ipython",
    "version": 3
   },
   "file_extension": ".py",
   "mimetype": "text/x-python",
   "name": "python",
   "nbconvert_exporter": "python",
   "pygments_lexer": "ipython3",
   "version": "3.9.12"
  }
 },
 "nbformat": 4,
 "nbformat_minor": 5
}
