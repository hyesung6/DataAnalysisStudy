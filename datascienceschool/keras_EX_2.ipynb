{
 "cells": [
  {
   "cell_type": "markdown",
   "id": "22a09232-2e3e-4467-97f2-fab7a8908388",
   "metadata": {},
   "source": [
    "- 텐서 : 다차원 넘파이 배열\n",
    "  - 데이터를 위한 컨테이너\n",
    "  - 거의 숫자를 위해 사용\n",
    "  - 텐서에서는 차원을 축이라고도 함 Dimension -- Axis )\n",
    "  - 스칼라 ( 0D 텐서 )\n",
    "    - 하나의 숫자만 담고 있는 텐서를 스칼라라고 함 ( ndim = 0 은 축이 0개, = 축을 랭크라고도 함 )\n",
    "    - array(12)\n",
    "  - 벡터 ( 1D 텐서 )\n",
    "    - 숫자의 배열을 벡터라고 함. 축을 1개 가짐.\n",
    "    - array([1, 2, 3, 4, 5]) --> 5D 벡터이면서 1D 텐서, 기술적으로 정확하게 말하려면 랭크5 1D 텐서가 됨\n",
    "  - 행렬 ( matrix, 2D 텐서 )\n",
    "    - 행과 열이 존재\n",
    "    - array([[1, 2, 3, 4, 5],\n",
    "             [6, 7, 8, 9, 1],\n",
    "             [2, 4, 6, 7, 9]])\n",
    "  - 3D 텐서와 고차원 텐서\n",
    "    - 행렬이 연속된 새로운 배열이 곧 3D 텐서가 됨\n",
    "    - 연속된 3D 텐서를 배열로 묶으면 4D 텐서가 됨\n",
    "    - 보통 딥러닝에서는 4D 텐서까지 취급하나, 동영상 데이터를 다루는 경우 5D 텐서까지 다룸"
   ]
  },
  {
   "cell_type": "code",
   "execution_count": 1,
   "id": "8dcec0cf-f5c9-4726-bca8-b9f7e547deb6",
   "metadata": {},
   "outputs": [],
   "source": [
    "from keras.datasets import mnist\n",
    "(train_images, train_labels), (test_images, test_labels) = mnist.load_data()"
   ]
  },
  {
   "cell_type": "code",
   "execution_count": 3,
   "id": "1cb62dd3-8328-4d13-900e-b595f9db79d0",
   "metadata": {},
   "outputs": [
    {
     "data": {
      "image/png": "[encoded data removed]",
      "text/plain": [
       "<Figure size 432x288 with 1 Axes>"
      ]
     },
     "metadata": {
      "needs_background": "light"
     },
     "output_type": "display_data"
    }
   ],
   "source": [
    "digit = train_images[4]\n",
    "import matplotlib.pyplot as plt\n",
    "plt.imshow(digit, cmap=plt.cm.binary)\n",
    "plt.show()"
   ]
  },
  {
   "cell_type": "code",
   "execution_count": 6,
   "id": "f4f7fba6-36cd-489d-bfba-e3b0ed0fe7d9",
   "metadata": {},
   "outputs": [
    {
     "name": "stdout",
     "output_type": "stream",
     "text": [
      "(90, 28, 28)\n"
     ]
    }
   ],
   "source": [
    "my_slice = train_images[10:100]\n",
    "print(my_slice.shape)"
   ]
  },
  {
   "cell_type": "markdown",
   "id": "f925c968-7717-448e-a132-b96b28594130",
   "metadata": {},
   "source": [
    "- 배치 데이터 :\n",
    "  - 일반적으로 딥러닝에 사용하는 모든 데이터 텐서의 첫 번째 축은 샘플 축이다. ( 샘플 차원 )\n",
    "  - 딥러닝은 한 번에 전체 데이터셋을 처리하지 않고, 데이터를 작은 배치로 나눠 처리"
   ]
  },
  {
   "cell_type": "code",
   "execution_count": 8,
   "id": "5607971e-f739-42d2-b48e-09fbc46887dc",
   "metadata": {},
   "outputs": [],
   "source": [
    "batch = train_images[:128]\n",
    "batch = train_images[128:256]"
   ]
  },
  {
   "cell_type": "markdown",
   "id": "bccf3136-82dc-41e8-a6c1-f2141e67984e",
   "metadata": {},
   "source": [
    "- 배치 데이터를 다룰 때 첫 번째 축 ( 0번 축 )을 배치 축 또는 배치 차원이라고 함."
   ]
  },
  {
   "cell_type": "markdown",
   "id": "4625cac5-81c9-4957-9146-cf9f4cdfd243",
   "metadata": {},
   "source": [
    "- 벡터 데이터 : (samples, features) 크기의 2D 텐서\n",
    "- 시계열 데이터 or 시퀀스 데이터 : (samples, timesteps, features) 크기의 3D 텐서\n",
    "- 이미지 : (samples, height, width, channels) 또는 (samples, channels, height, width) 크기의 4D 텐서\n",
    "- 동영상 : (samples, frames, height, width, channels) 또는 (samples, frames, channels, height, width) 크기의 5D 텐서"
   ]
  },
  {
   "cell_type": "markdown",
   "id": "1a8f31b7-0f2b-4bcb-ac5e-bd4ab6204b70",
   "metadata": {},
   "source": [
    "- 벡터 데이터\n",
    "  - 대부분의 경우 해당\n",
    "  - 첫 번째 축은 샘플 축, 두 번째 축은 특성 축\n",
    "  - 나이, 우편 번호, 소득으로 구성된 인구 데이터의 경우\n",
    "    - 각 사람은 3개의 값을 가진 벡터로 구성되고, 10만 명이 포함되면 전체 데이터셋은 (100000, 3) 크기의 텐서에 저장될 수 있다.\n",
    "    \n",
    "- 시계열 데이터 ( or Sequence data )\n",
    "  - 관례적으로 시간 축은 항상 두 번째 축(인덱스가 1인 축)\n",
    "  - 주식 가격 데이터의 경우\n",
    "    - 1분마다 현재 주식 가격, 지난 1분 동안의 최고,최저가를 저장\n",
    "    - 하루 동안 거래 시간이 390분이라고 하면, 텐서의 크기는 (390, 3)\n",
    "    - 이를 250일치의 데이터로 저장하면 (250, 390, 3)\n",
    "    \n",
    "- 이미지 데이터\n",
    "  - 전형적으로 높이, 너비, 컬러 채널의 3차원으로 이루어짐\n",
    "  - 흑백 이미지는 컬러 채널이 1개 뿐이므로 2D로 저장될 수 있지만, ( 컬러 채널을 생략한 높이와 너비로만 이루어진 텐서 ) 관례상 이미지 텐서는 항상 3D로 저장됨\n",
    "  - 256 x 256 크기의 흑백 이미지에 대한 128개의 배치는 (128, 256, 256, 1) 크기의 텐서에 저장될 수 있음.\n",
    "  - 이미지 텐서의 크기를 지정하는 방식은 두 가지\n",
    "    - 텐서플로우에서 사용하는 Channel-last 방식 : (samples, height, width, color_depth) 컬러 채널을 축의 제일 마지막 순서로 놓음\n",
    "    - 씨아노에서 사용하는 Channel-first 방식 : (samples, color-depth, height, width) 컬러 채널을 샘플 축 뒤에 놓음\n",
    "    - 케라스는 두 형식을 모두 지원\n",
    "\n",
    "- 비디오 데이터\n",
    "  - 하나의 비디오는 프레임의 연속이고, 각 프레임은 하나의 컬러 이미지임\n",
    "  - 이미지 데이터에서 축에 샘플 다음으로 frame을 추가하면 됨"
   ]
  },
  {
   "cell_type": "markdown",
   "id": "6efac501-7477-44b9-974b-5628fe07722c",
   "metadata": {},
   "source": [
    "심층 신경망이 학습한 모든 변환을 수치 데이터 텐서에 적용하는 몇 종류의 텐서 연산으로나타낼 수 있음. 텐서 덧셈이나 텐서 곱셈 등."
   ]
  },
  {
   "cell_type": "code",
   "execution_count": 14,
   "id": "de93fed8-897c-4838-93db-74d87025fe5c",
   "metadata": {},
   "outputs": [],
   "source": [
    "from keras import models\n",
    "from keras import layers\n",
    "\n",
    "models = models.Sequential()\n",
    "models.add(layers.Dense(512, activation='relu'))"
   ]
  },
  {
   "cell_type": "markdown",
   "id": "cd08f70d-03b5-48b9-b0da-9b4ebffca354",
   "metadata": {},
   "source": [
    "output = relu(dot(w, input) + b)"
   ]
  },
  {
   "cell_type": "markdown",
   "id": "0f3d089b-d71d-45b1-93fa-60139e711d98",
   "metadata": {},
   "source": [
    "relu 함수와 덧셈은 원소별 연산.\n",
    "\n",
    "연산은 텐서에 있는 각 원소에 독립적으로 적용됨.\n",
    "\n",
    "즉, 병렬 연산이 가능하다는 것\n",
    "\n",
    "relu 연산 구현처럼 for 반복문을 사용하여 함수를 작성해보는 예제"
   ]
  },
  {
   "cell_type": "code",
   "execution_count": 15,
   "id": "dd16f099-e3a4-425f-a8d6-f714f46c7c90",
   "metadata": {},
   "outputs": [],
   "source": [
    "def naive_relu(x):\n",
    "    assert len(x.shape) == 2\n",
    "    x = x.copy()\n",
    "    for i in range(x.shape[0]):\n",
    "        for j in range(x.shape[1]):\n",
    "            x[i, j] = max(x[i, j], 0)\n",
    "    return x"
   ]
  },
  {
   "cell_type": "code",
   "execution_count": 17,
   "id": "80bda0a8-5e24-4786-bb9f-1468ecbc845e",
   "metadata": {},
   "outputs": [],
   "source": [
    "def naive_add(x, y):\n",
    "    assert len(x.shape) == 2\n",
    "    assert x.shape == y.shape\n",
    "    \n",
    "    x = x.copy()\n",
    "    for i in range(x.shape[0]):\n",
    "        for j in range(x.shape[1]):\n",
    "            x[i, j] += y[i, j]\n",
    "    return x"
   ]
  },
  {
   "cell_type": "markdown",
   "id": "ae02507e-fd1e-4842-876a-14818752bec5",
   "metadata": {},
   "source": [
    "위와 같은 원리로 텐서 데이터 원소별 연산이 가능\n",
    "넘파이는 시스템에 설치된 BLAS(Basic Linear Algebra Subprogram) 구현에 복잡한 일들을 위임한다. BLAS는 고도로 병렬화되고 효율적인 저수준의 텐서 조작 루틴이며, 전형적으로 Fortran이나 C 언어로 구현되어 있음."
   ]
  },
  {
   "cell_type": "markdown",
   "id": "a52cdea7-b7ce-46eb-9600-fcc1401da40c",
   "metadata": {},
   "source": [
    "- 브로드캐스팅\n",
    "  - 텐서끼리의 연산에서 크기가 다른 텐서가 더해질 때?\n",
    "  - 작은 텐서가 큰 텐서의 크기에 맞추어 브로드캐스팅된다.\n",
    "    1. 큰 텐서의 ndim에 맞도록 작은 텐서에 축이 추가됨\n",
    "    2. 작은 텐서가 새 축을 따라서 큰 텐서의 크기에 맞도록 반복됨"
   ]
  },
  {
   "cell_type": "code",
   "execution_count": 18,
   "id": "6cc8c46f-9ef9-45e0-890e-eed105d45918",
   "metadata": {},
   "outputs": [],
   "source": [
    "# 구현 입장에서는 새로운 텐서가 만들어지면 매우 비효율적이므로 새로 만들지 않음.\n",
    "def naive_add_matrix_and_vector(x, y):\n",
    "    assert len(x.shape) == 2\n",
    "    assert len(y.shape) == 1\n",
    "    assert x.shape[1] == y.shape[0]\n",
    "    x = x.copy()\n",
    "    for i in range(x.shape[0]):\n",
    "        for j in range(x.shape[1]):\n",
    "            x[i, j] += y[j]\n",
    "    return x"
   ]
  },
  {
   "cell_type": "code",
   "execution_count": 24,
   "id": "410489da-abe5-4203-8be7-c2b7c80d00b3",
   "metadata": {},
   "outputs": [],
   "source": [
    "# 크기가 다른 두 텐서에 브로드캐스팅으로 원소별 연산을 적용하는 예\n",
    "import numpy as np\n",
    "x = np.random.random((64, 3, 32, 10))\n",
    "y = np.random.random((32, 10))\n",
    "z = np.maximum(x, y)"
   ]
  },
  {
   "cell_type": "code",
   "execution_count": 28,
   "id": "53084f97-a9a2-42e8-9bfa-c20bdcc818f9",
   "metadata": {},
   "outputs": [
    {
     "name": "stdout",
     "output_type": "stream",
     "text": [
      "x + y 연산의 결과 : (64, 3, 32, 10)\n"
     ]
    }
   ],
   "source": [
    "print('x + y 연산의 결과 :', z.shape)"
   ]
  },
  {
   "cell_type": "code",
   "execution_count": 32,
   "id": "c049ff26-9801-48d6-b261-dd31751ef759",
   "metadata": {},
   "outputs": [],
   "source": [
    "del x, y"
   ]
  },
  {
   "cell_type": "code",
   "execution_count": null,
   "id": "412cbc0b-3b43-4f97-8b37-da3cf224f49f",
   "metadata": {},
   "outputs": [],
   "source": [
    "# 텐서 점곱 ( tensor product )\n",
    "\n",
    "import numpy as np\n",
    "z = np.dot(x, y)\n",
    "z = z * y"
   ]
  },
  {
   "cell_type": "markdown",
   "id": "d8f24568-6f51-4e42-8e2c-0bd2d95033a9",
   "metadata": {},
   "source": [
    "# 딥러닝의 기하학적 해석\n",
    "신경망은 전체적으로 텐서 연산의 연결이고, 모든 텐서 연산은 입력 데이터의 기하학적 변환이다. 빨간색과 파란색 종이 각 1장씩이 뭉쳐진 작은 공을 펼쳐 깔끔하게 분리되는 변환을 찾는 것이 신경망이 할 일.\n",
    "\n",
    "기초적인 연산을 길게 연결하여 복잡한 기하학적 변환을 조금씩 분해하는 것이 바로 사람이 종이 공을 펼치기 위해 세우는 전략과 흡사하므로 이런 작업에 효율적으로 접근이 가능"
   ]
  },
  {
   "cell_type": "code",
   "execution_count": null,
   "id": "b08c99ce-1ef4-417e-b78d-2ea84b3eb9e0",
   "metadata": {},
   "outputs": [],
   "source": []
  }
 ],
 "metadata": {
  "kernelspec": {
   "display_name": "Python 3 (ipykernel)",
   "language": "python",
   "name": "python3"
  },
  "language_info": {
   "codemirror_mode": {
    "name": "ipython",
    "version": 3
   },
   "file_extension": ".py",
   "mimetype": "text/x-python",
   "name": "python",
   "nbconvert_exporter": "python",
   "pygments_lexer": "ipython3",
   "version": "3.9.12"
  }
 },
 "nbformat": 4,
 "nbformat_minor": 5
}
