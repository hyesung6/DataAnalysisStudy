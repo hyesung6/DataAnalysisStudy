{
 "cells": [
  {
   "cell_type": "code",
   "execution_count": 1,
   "id": "5b088fbc-b31e-4c75-92a3-f95b0c87e0a5",
   "metadata": {},
   "outputs": [],
   "source": [
    "import numpy as np\n",
    "import pandas as pd"
   ]
  },
  {
   "cell_type": "code",
   "execution_count": 9,
   "id": "310cd204-ed1f-4e5a-bf5d-eb95449d05f6",
   "metadata": {},
   "outputs": [],
   "source": [
    "np.random.seed(10)"
   ]
  },
  {
   "cell_type": "code",
   "execution_count": 34,
   "id": "c90a5479-06e2-4b0a-9e9d-adfc4fa50465",
   "metadata": {},
   "outputs": [],
   "source": [
    "temp1 = pd.DataFrame(np.linspace(1000, 3000, 3633), columns=['Species'])"
   ]
  },
  {
   "cell_type": "code",
   "execution_count": 53,
   "id": "9583b7f0-1322-4e27-b48e-10fd8e64beb5",
   "metadata": {},
   "outputs": [],
   "source": [
    "temp2 = pd.DataFrame(np.arange(3633), columns=['Class'])"
   ]
  },
  {
   "cell_type": "code",
   "execution_count": 52,
   "id": "cc2699a0-e087-4ee3-9f41-5230da69a426",
   "metadata": {},
   "outputs": [],
   "source": [
    "np.random.shuffle(np.arange(3633))"
   ]
  },
  {
   "cell_type": "code",
   "execution_count": 56,
   "id": "fea2daea-81ed-4882-baa9-b66e04e70e0b",
   "metadata": {},
   "outputs": [],
   "source": [
    "test1 = pd.concat([temp1, temp2], axis=1)"
   ]
  },
  {
   "cell_type": "code",
   "execution_count": 57,
   "id": "71575cfd-1345-4b6b-a931-38e85e1b500a",
   "metadata": {},
   "outputs": [
    {
     "data": {
      "text/html": [
       "<div>\n",
       "<style scoped>\n",
       "    .dataframe tbody tr th:only-of-type {\n",
       "        vertical-align: middle;\n",
       "    }\n",
       "\n",
       "    .dataframe tbody tr th {\n",
       "        vertical-align: top;\n",
       "    }\n",
       "\n",
       "    .dataframe thead th {\n",
       "        text-align: right;\n",
       "    }\n",
       "</style>\n",
       "<table border=\"1\" class=\"dataframe\">\n",
       "  <thead>\n",
       "    <tr style=\"text-align: right;\">\n",
       "      <th></th>\n",
       "      <th>Species</th>\n",
       "      <th>Class</th>\n",
       "    </tr>\n",
       "  </thead>\n",
       "  <tbody>\n",
       "    <tr>\n",
       "      <th>0</th>\n",
       "      <td>1000.000000</td>\n",
       "      <td>0</td>\n",
       "    </tr>\n",
       "    <tr>\n",
       "      <th>1</th>\n",
       "      <td>1000.550661</td>\n",
       "      <td>1</td>\n",
       "    </tr>\n",
       "    <tr>\n",
       "      <th>2</th>\n",
       "      <td>1001.101322</td>\n",
       "      <td>2</td>\n",
       "    </tr>\n",
       "    <tr>\n",
       "      <th>3</th>\n",
       "      <td>1001.651982</td>\n",
       "      <td>3</td>\n",
       "    </tr>\n",
       "    <tr>\n",
       "      <th>4</th>\n",
       "      <td>1002.202643</td>\n",
       "      <td>4</td>\n",
       "    </tr>\n",
       "    <tr>\n",
       "      <th>...</th>\n",
       "      <td>...</td>\n",
       "      <td>...</td>\n",
       "    </tr>\n",
       "    <tr>\n",
       "      <th>3628</th>\n",
       "      <td>2997.797357</td>\n",
       "      <td>3628</td>\n",
       "    </tr>\n",
       "    <tr>\n",
       "      <th>3629</th>\n",
       "      <td>2998.348018</td>\n",
       "      <td>3629</td>\n",
       "    </tr>\n",
       "    <tr>\n",
       "      <th>3630</th>\n",
       "      <td>2998.898678</td>\n",
       "      <td>3630</td>\n",
       "    </tr>\n",
       "    <tr>\n",
       "      <th>3631</th>\n",
       "      <td>2999.449339</td>\n",
       "      <td>3631</td>\n",
       "    </tr>\n",
       "    <tr>\n",
       "      <th>3632</th>\n",
       "      <td>3000.000000</td>\n",
       "      <td>3632</td>\n",
       "    </tr>\n",
       "  </tbody>\n",
       "</table>\n",
       "<p>3633 rows × 2 columns</p>\n",
       "</div>"
      ],
      "text/plain": [
       "          Species  Class\n",
       "0     1000.000000      0\n",
       "1     1000.550661      1\n",
       "2     1001.101322      2\n",
       "3     1001.651982      3\n",
       "4     1002.202643      4\n",
       "...           ...    ...\n",
       "3628  2997.797357   3628\n",
       "3629  2998.348018   3629\n",
       "3630  2998.898678   3630\n",
       "3631  2999.449339   3631\n",
       "3632  3000.000000   3632\n",
       "\n",
       "[3633 rows x 2 columns]"
      ]
     },
     "execution_count": 57,
     "metadata": {},
     "output_type": "execute_result"
    }
   ],
   "source": [
    "test1"
   ]
  },
  {
   "cell_type": "code",
   "execution_count": 60,
   "id": "85f55404-6860-477c-88e7-f70ea0eaf71a",
   "metadata": {},
   "outputs": [],
   "source": [
    "test2 = pd.DataFrame({'D': np.linspace(0.05, 0.5, 10),\n",
    "                      'CF' : np.linspace(0.1, 0.8, 10)})"
   ]
  },
  {
   "cell_type": "code",
   "execution_count": 61,
   "id": "90d0dfd9-223a-48b5-aa8c-31713dae89f9",
   "metadata": {},
   "outputs": [
    {
     "data": {
      "text/html": [
       "<div>\n",
       "<style scoped>\n",
       "    .dataframe tbody tr th:only-of-type {\n",
       "        vertical-align: middle;\n",
       "    }\n",
       "\n",
       "    .dataframe tbody tr th {\n",
       "        vertical-align: top;\n",
       "    }\n",
       "\n",
       "    .dataframe thead th {\n",
       "        text-align: right;\n",
       "    }\n",
       "</style>\n",
       "<table border=\"1\" class=\"dataframe\">\n",
       "  <thead>\n",
       "    <tr style=\"text-align: right;\">\n",
       "      <th></th>\n",
       "      <th>D</th>\n",
       "      <th>CF</th>\n",
       "    </tr>\n",
       "  </thead>\n",
       "  <tbody>\n",
       "    <tr>\n",
       "      <th>0</th>\n",
       "      <td>0.05</td>\n",
       "      <td>0.100000</td>\n",
       "    </tr>\n",
       "    <tr>\n",
       "      <th>1</th>\n",
       "      <td>0.10</td>\n",
       "      <td>0.177778</td>\n",
       "    </tr>\n",
       "    <tr>\n",
       "      <th>2</th>\n",
       "      <td>0.15</td>\n",
       "      <td>0.255556</td>\n",
       "    </tr>\n",
       "    <tr>\n",
       "      <th>3</th>\n",
       "      <td>0.20</td>\n",
       "      <td>0.333333</td>\n",
       "    </tr>\n",
       "    <tr>\n",
       "      <th>4</th>\n",
       "      <td>0.25</td>\n",
       "      <td>0.411111</td>\n",
       "    </tr>\n",
       "    <tr>\n",
       "      <th>5</th>\n",
       "      <td>0.30</td>\n",
       "      <td>0.488889</td>\n",
       "    </tr>\n",
       "    <tr>\n",
       "      <th>6</th>\n",
       "      <td>0.35</td>\n",
       "      <td>0.566667</td>\n",
       "    </tr>\n",
       "    <tr>\n",
       "      <th>7</th>\n",
       "      <td>0.40</td>\n",
       "      <td>0.644444</td>\n",
       "    </tr>\n",
       "    <tr>\n",
       "      <th>8</th>\n",
       "      <td>0.45</td>\n",
       "      <td>0.722222</td>\n",
       "    </tr>\n",
       "    <tr>\n",
       "      <th>9</th>\n",
       "      <td>0.50</td>\n",
       "      <td>0.800000</td>\n",
       "    </tr>\n",
       "  </tbody>\n",
       "</table>\n",
       "</div>"
      ],
      "text/plain": [
       "      D        CF\n",
       "0  0.05  0.100000\n",
       "1  0.10  0.177778\n",
       "2  0.15  0.255556\n",
       "3  0.20  0.333333\n",
       "4  0.25  0.411111\n",
       "5  0.30  0.488889\n",
       "6  0.35  0.566667\n",
       "7  0.40  0.644444\n",
       "8  0.45  0.722222\n",
       "9  0.50  0.800000"
      ]
     },
     "execution_count": 61,
     "metadata": {},
     "output_type": "execute_result"
    }
   ],
   "source": [
    "test2"
   ]
  },
  {
   "cell_type": "code",
   "execution_count": 73,
   "id": "2c5a8c11-c6a2-42b6-8cc5-561d1a7b2a42",
   "metadata": {},
   "outputs": [
    {
     "data": {
      "text/plain": [
       "0     0.0\n",
       "1     0.1\n",
       "2     0.3\n",
       "3     0.6\n",
       "4     1.0\n",
       "5     1.5\n",
       "6     2.1\n",
       "7     2.8\n",
       "8     3.6\n",
       "9     4.5\n",
       "10    NaN\n",
       "dtype: float64"
      ]
     },
     "execution_count": 73,
     "metadata": {},
     "output_type": "execute_result"
    }
   ],
   "source": [
    "test2['D'] * test1['Class'].head(11)"
   ]
  },
  {
   "cell_type": "code",
   "execution_count": null,
   "id": "3212c5cc-8644-4cd5-b266-01b022ab6d1a",
   "metadata": {},
   "outputs": [],
   "source": []
  }
 ],
 "metadata": {
  "kernelspec": {
   "display_name": "Python 3 (ipykernel)",
   "language": "python",
   "name": "python3"
  },
  "language_info": {
   "codemirror_mode": {
    "name": "ipython",
    "version": 3
   },
   "file_extension": ".py",
   "mimetype": "text/x-python",
   "name": "python",
   "nbconvert_exporter": "python",
   "pygments_lexer": "ipython3",
   "version": "3.9.12"
  }
 },
 "nbformat": 4,
 "nbformat_minor": 5
}
