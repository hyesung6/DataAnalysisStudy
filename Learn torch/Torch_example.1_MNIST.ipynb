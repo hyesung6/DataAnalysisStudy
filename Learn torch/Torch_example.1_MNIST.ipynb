{
 "cells": [
  {
   "cell_type": "markdown",
   "id": "0bbb306d-b879-4803-b9fc-a9081fbc13c7",
   "metadata": {},
   "source": [
    "# 데이터 작업하기"
   ]
  },
  {
   "cell_type": "code",
   "execution_count": 1,
   "id": "05dc6a7a-b4ea-478d-8724-0022f9e74915",
   "metadata": {},
   "outputs": [],
   "source": [
    "import torch\n",
    "from torch import nn\n",
    "from torch.utils.data import DataLoader\n",
    "from torchvision import datasets\n",
    "from torchvision.transforms import ToTensor"
   ]
  },
  {
   "cell_type": "markdown",
   "id": "68617c1a-5b32-4ca9-90a0-e136a0cc1c43",
   "metadata": {},
   "source": [
    "- 파이토치에는 데이터 작업을 위한 기본 요소 두 가지인 utils.data.DataLoader와 utils.data.Dataset이 있습니다. Dataset은 샘플과 정답(Label)을 저장하고, DataLoader는 Dataset을 순회 가능한 객체(iterable)로 감쌉니다."
   ]
  },
  {
   "cell_type": "markdown",
   "id": "a41c240a-5873-4bc4-aeb6-c663c33ad1d5",
   "metadata": {},
   "source": [
    "torchvision은 이미지 처리(비전 데이터)에 대한 도메인 특화 라이브러리입니다. 모든 TorchVision Dataset은 샘플과 정답을 각각 변경하기 위한 transform과 target_transform의 두 인자를 포함합니다."
   ]
  },
  {
   "cell_type": "code",
   "execution_count": 2,
   "id": "66aa7041-6583-4435-8478-88ed10bee3c0",
   "metadata": {},
   "outputs": [],
   "source": [
    "# 공개 데이터셋에서 학습 데이터를 내려받습니다.\n",
    "training_data = datasets.FashionMNIST(\n",
    "    root='data',\n",
    "    train=True,\n",
    "    download=True,\n",
    "    transform=ToTensor(),)\n",
    "\n",
    "# 테스트 데이터를 내려받습니다.\n",
    "test_data = datasets.FashionMNIST(\n",
    "    root='data',\n",
    "    train=False,\n",
    "    download=True,\n",
    "    transform=ToTensor(),)"
   ]
  },
  {
   "cell_type": "markdown",
   "id": "f2e079ac-93db-4f84-9d67-8a8090d4875f",
   "metadata": {},
   "source": [
    "Dataset을 DataLoader의 인자로 전달합니다. 이는 데이터셋을 순회 가능한 객체(iterable)로 감싸고, 자동화된 배치(batch), 샘플링(sampling), 섞기(shuffle) 및 다중 프로세스로 데이터 불러오기(multiprocess data loading)을 지원합니다. 여기서는 배치 크기(batch size)를 64로 정의합니다. 즉, 데이터로더 객체의 각 요소는 64개의 특징(feature)과 정답(label)을 묶음(batch)로 반환합니다."
   ]
  },
  {
   "cell_type": "code",
   "execution_count": 3,
   "id": "fbd63cbe-83a2-404f-9072-04c6e665735b",
   "metadata": {},
   "outputs": [
    {
     "name": "stdout",
     "output_type": "stream",
     "text": [
      "Shape of X [N, C, H, W]: torch.Size([64, 1, 28, 28])\n",
      "Shape of y: torch.Size([64]) torch.int64\n"
     ]
    }
   ],
   "source": [
    "batch_size = 64\n",
    "\n",
    "# 데이터로더를 생성합니다.\n",
    "train_dataloader = DataLoader(training_data, batch_size=batch_size)\n",
    "test_dataloader = DataLoader(test_data, batch_size=batch_size)\n",
    "\n",
    "for X, y in test_dataloader:\n",
    "    print(f'Shape of X [N, C, H, W]: {X.shape}')\n",
    "    print(f'Shape of y: {y.shape} {y.dtype}')\n",
    "    break"
   ]
  },
  {
   "cell_type": "markdown",
   "id": "9d2a2b33-2ca2-4738-91e8-c7f2d66b8de6",
   "metadata": {},
   "source": [
    "# 모델 만들기\n",
    "PyTorch에서 신경망 모델은 nn.Module을 상속받는 클래스를 생성하여 정의합니다. __init__ 함수에서 신경망의 계층(layer)들을 정의하고 forward 함수에서 신경망에 데이터를 어떻게 전달할지 지정합니다. 가능한 경우 GPU로 신경망을 이동시켜 연산을 가속(accelerate)합니다. "
   ]
  },
  {
   "cell_type": "code",
   "execution_count": 4,
   "id": "04b98ed9-c9c5-4d40-ba09-8a43d6018336",
   "metadata": {},
   "outputs": [
    {
     "name": "stdout",
     "output_type": "stream",
     "text": [
      "Using cpu device\n"
     ]
    }
   ],
   "source": [
    "# 학습에 사용할 CPU나 GPU 장치의 정보를 가져옵니다.\n",
    "device = 'cuda' if torch.cuda.is_available() else 'cpu'\n",
    "print(f'Using {device} device')"
   ]
  },
  {
   "cell_type": "code",
   "execution_count": 5,
   "id": "647014ac-a28d-48f8-9be7-20fdef328c4b",
   "metadata": {},
   "outputs": [
    {
     "name": "stdout",
     "output_type": "stream",
     "text": [
      "NeuralNetwork(\n",
      "  (flatten): Flatten(start_dim=1, end_dim=-1)\n",
      "  (linear_relu_stack): Sequential(\n",
      "    (0): Linear(in_features=784, out_features=512, bias=True)\n",
      "    (1): ReLU()\n",
      "    (2): Linear(in_features=512, out_features=512, bias=True)\n",
      "    (3): ReLU()\n",
      "    (4): Linear(in_features=512, out_features=10, bias=True)\n",
      "  )\n",
      ")\n"
     ]
    }
   ],
   "source": [
    "# 모델을 정의합니다.\n",
    "class NeuralNetwork(nn.Module):\n",
    "    def __init__(self):\n",
    "        super(NeuralNetwork, self).__init__()\n",
    "        self.flatten = nn.Flatten()\n",
    "        self.linear_relu_stack = nn.Sequential(\n",
    "            nn.Linear(28*28, 512),\n",
    "            nn.ReLU(),\n",
    "            nn.Linear(512, 512),\n",
    "            nn.ReLU(),\n",
    "            nn.Linear(512, 10)\n",
    "        )\n",
    "    def forward(self, x):\n",
    "        x = self.flatten(x)\n",
    "        logits = self.linear_relu_stack(x)\n",
    "        return logits\n",
    "model = NeuralNetwork().to(device)\n",
    "print(model)"
   ]
  },
  {
   "cell_type": "markdown",
   "id": "a790015e-9da8-44e1-a489-a58fbae2059d",
   "metadata": {},
   "source": [
    "# 모델 매개변수 최적화하기\n",
    "모델을 학습하려면 손실 함수(loss function)와 옵티마이저(optimizer)가 필요합니다."
   ]
  },
  {
   "cell_type": "code",
   "execution_count": 6,
   "id": "52f9b05c-34f7-4c15-95bf-d97c00b6c0d0",
   "metadata": {},
   "outputs": [],
   "source": [
    "loss_fn = nn.CrossEntropyLoss()\n",
    "optimizer = torch.optim.SGD(model.parameters(), lr=1e-3)"
   ]
  },
  {
   "cell_type": "markdown",
   "id": "868e12b2-bd80-4b6b-8f86-e5a1377a5fa0",
   "metadata": {},
   "source": [
    "각 학습 단계(training loop)에서 모델은 (배치로 제공되는) 학습 데이터셋에 대한 예측을 수행하고, 예측 오류를 역전파하여 모델의 매개변수를 조정합니다."
   ]
  },
  {
   "cell_type": "code",
   "execution_count": 7,
   "id": "5b35c3e0-04c6-4fa5-afe4-e444fcc6eafa",
   "metadata": {},
   "outputs": [
    {
     "data": {
      "text/plain": [
       "60032"
      ]
     },
     "execution_count": 7,
     "metadata": {},
     "output_type": "execute_result"
    }
   ],
   "source": [
    "len(train_dataloader) * 64"
   ]
  },
  {
   "cell_type": "code",
   "execution_count": 8,
   "id": "ee41d50e-a42a-4051-9904-5d59f234ed69",
   "metadata": {},
   "outputs": [
    {
     "data": {
      "text/plain": [
       "60000"
      ]
     },
     "execution_count": 8,
     "metadata": {},
     "output_type": "execute_result"
    }
   ],
   "source": [
    "len(train_dataloader.dataset.data)"
   ]
  },
  {
   "cell_type": "code",
   "execution_count": 13,
   "id": "2e63b9b6-d1a1-4931-9038-95f3c596f2a4",
   "metadata": {},
   "outputs": [],
   "source": [
    "def train(dataloader, model, loss_fn, optimizer):\n",
    "    size = len(dataloader.dataset)\n",
    "    for batch, (X, y) in enumerate(dataloader):\n",
    "        X, y = X.to(device), y.to(device)\n",
    "\n",
    "        # 예측 오류 계산\n",
    "        pred = model(X)\n",
    "        loss = loss_fn(pred, y)\n",
    "\n",
    "        # 역전파\n",
    "        optimizer.zero_grad()\n",
    "        loss.backward()\n",
    "        optimizer.step()\n",
    "\n",
    "        if batch % 100 == 0:\n",
    "            loss, current = loss.item(), batch * len(X)\n",
    "            print(f\"loss: {loss:>7f}  [{current:>5d}/{size:>5d}]\")"
   ]
  },
  {
   "cell_type": "markdown",
   "id": "193c9bd5-138f-4d3c-9f67-dc254d7e557a",
   "metadata": {},
   "source": [
    "모델의 학습 결과를 확인하기 위해 테스트 데이터셋에 대한 코드도 작성합니다."
   ]
  },
  {
   "cell_type": "code",
   "execution_count": 14,
   "id": "a3650188-1e26-4915-b26d-064a3308ee9e",
   "metadata": {},
   "outputs": [],
   "source": [
    "def test(dataloader, model, loss_fn):\n",
    "    size = len(dataloader.dataset)\n",
    "    num_batches = len(dataloader)\n",
    "    model.eval()\n",
    "    test_loss, correct = 0, 0\n",
    "    with torch.no_grad():\n",
    "        for X, y in dataloader:\n",
    "            X, y = X.to(device), y.to(device)\n",
    "            pred = model(X)\n",
    "            test_loss += loss_fn(pred, y).item()\n",
    "            correct += (pred.argmax(1) == y).type(torch.float).sum().item()\n",
    "    test_loss /= num_batches\n",
    "    correct /= size\n",
    "    print(f\"Test Error: \\n Accuracy: {(100*correct):>0.1f}%, Avg loss: {test_loss:>8f} \\n\")"
   ]
  },
  {
   "cell_type": "markdown",
   "id": "b01eeaf3-c7a5-49e3-be54-47bc6ddac8f4",
   "metadata": {},
   "source": [
    "학습 단계는 여러 번의 반복 단계 (Epochs)를 거쳐서 수행됩니다. 각 에폭에서 모델은 더 나은 예측을 하기 위해 매개변수를 학습합니다. 각 에폭마다 모델의 정확도와 손실을 출력합니다. 에폭마다 정확도와 손실의 증감폭을 확인할 것입니다."
   ]
  },
  {
   "cell_type": "code",
   "execution_count": 15,
   "id": "93db5700-54eb-47a7-b9bc-393ca31ecf00",
   "metadata": {},
   "outputs": [
    {
     "name": "stdout",
     "output_type": "stream",
     "text": [
      "Epoch 1\n",
      "-------------------------------\n",
      "loss: 2.306738  [    0/60000]\n",
      "loss: 2.298526  [ 6400/60000]\n",
      "loss: 2.276097  [12800/60000]\n",
      "loss: 2.272758  [19200/60000]\n",
      "loss: 2.250129  [25600/60000]\n",
      "loss: 2.218248  [32000/60000]\n",
      "loss: 2.229562  [38400/60000]\n",
      "loss: 2.192589  [44800/60000]\n",
      "loss: 2.195400  [51200/60000]\n",
      "loss: 2.156508  [57600/60000]\n",
      "Test Error: \n",
      " Accuracy: 44.5%, Avg loss: 2.153089 \n",
      "\n",
      "Epoch 2\n",
      "-------------------------------\n",
      "loss: 2.164933  [    0/60000]\n",
      "loss: 2.162782  [ 6400/60000]\n",
      "loss: 2.096381  [12800/60000]\n",
      "loss: 2.114935  [19200/60000]\n",
      "loss: 2.060219  [25600/60000]\n",
      "loss: 1.997635  [32000/60000]\n",
      "loss: 2.028604  [38400/60000]\n",
      "loss: 1.941573  [44800/60000]\n",
      "loss: 1.956593  [51200/60000]\n",
      "loss: 1.877472  [57600/60000]\n",
      "Test Error: \n",
      " Accuracy: 54.2%, Avg loss: 1.876428 \n",
      "\n",
      "Epoch 3\n",
      "-------------------------------\n",
      "loss: 1.908940  [    0/60000]\n",
      "loss: 1.891292  [ 6400/60000]\n",
      "loss: 1.758031  [12800/60000]\n",
      "loss: 1.803810  [19200/60000]\n",
      "loss: 1.694401  [25600/60000]\n",
      "loss: 1.640995  [32000/60000]\n",
      "loss: 1.666057  [38400/60000]\n",
      "loss: 1.554135  [44800/60000]\n",
      "loss: 1.591321  [51200/60000]\n",
      "loss: 1.485844  [57600/60000]\n",
      "Test Error: \n",
      " Accuracy: 59.5%, Avg loss: 1.503276 \n",
      "\n",
      "Epoch 4\n",
      "-------------------------------\n",
      "loss: 1.564058  [    0/60000]\n",
      "loss: 1.544800  [ 6400/60000]\n",
      "loss: 1.380704  [12800/60000]\n",
      "loss: 1.460587  [19200/60000]\n",
      "loss: 1.349293  [25600/60000]\n",
      "loss: 1.337133  [32000/60000]\n",
      "loss: 1.353933  [38400/60000]\n",
      "loss: 1.265843  [44800/60000]\n",
      "loss: 1.313534  [51200/60000]\n",
      "loss: 1.215477  [57600/60000]\n",
      "Test Error: \n",
      " Accuracy: 62.9%, Avg loss: 1.241786 \n",
      "\n",
      "Epoch 5\n",
      "-------------------------------\n",
      "loss: 1.310574  [    0/60000]\n",
      "loss: 1.307984  [ 6400/60000]\n",
      "loss: 1.130552  [12800/60000]\n",
      "loss: 1.241677  [19200/60000]\n",
      "loss: 1.127734  [25600/60000]\n",
      "loss: 1.143576  [32000/60000]\n",
      "loss: 1.166151  [38400/60000]\n",
      "loss: 1.091766  [44800/60000]\n",
      "loss: 1.142813  [51200/60000]\n",
      "loss: 1.058584  [57600/60000]\n",
      "Test Error: \n",
      " Accuracy: 64.6%, Avg loss: 1.080468 \n",
      "\n",
      "Done!\n"
     ]
    }
   ],
   "source": [
    "epochs = 5\n",
    "for t in range(epochs):\n",
    "    print(f\"Epoch {t+1}\\n-------------------------------\")\n",
    "    train(train_dataloader, model, loss_fn, optimizer)\n",
    "    test(test_dataloader, model, loss_fn)\n",
    "print(\"Done!\")"
   ]
  },
  {
   "cell_type": "markdown",
   "id": "94482cfc-7200-4bcd-9cd4-93d3dd1bd74f",
   "metadata": {},
   "source": [
    "# 모델 저장하기\n",
    "모델을 저장하는 일반적인 방법은 (모델의 매개변수들을 포함하여) 내부 상태 사전(internel state dictionary)을 직렬화(serialize)하는 것입니다."
   ]
  },
  {
   "cell_type": "code",
   "execution_count": 16,
   "id": "6c351795-c90e-4b87-8e18-dd70296ef541",
   "metadata": {},
   "outputs": [
    {
     "name": "stdout",
     "output_type": "stream",
     "text": [
      "Saved PyTorch Model State to model.pth\n"
     ]
    }
   ],
   "source": [
    "torch.save(model.state_dict(), \"model.pth\")\n",
    "print(\"Saved PyTorch Model State to model.pth\")"
   ]
  },
  {
   "cell_type": "markdown",
   "id": "3a8505eb-3175-45ba-8f51-b466a65b9a80",
   "metadata": {},
   "source": [
    "# 모델 불러오기\n",
    "모델을 불러오는 과정에는 모델 구조를 다시 만들고 상태 사전을 모델에 불러오는 과정이 포함됩니다."
   ]
  },
  {
   "cell_type": "code",
   "execution_count": 17,
   "id": "1de7fdb0-3ebc-4256-873a-ef628ca677a2",
   "metadata": {},
   "outputs": [
    {
     "data": {
      "text/plain": [
       "<All keys matched successfully>"
      ]
     },
     "execution_count": 17,
     "metadata": {},
     "output_type": "execute_result"
    }
   ],
   "source": [
    "model = NeuralNetwork()\n",
    "model.load_state_dict(torch.load(\"model.pth\"))"
   ]
  },
  {
   "cell_type": "markdown",
   "id": "66cb7967-9d13-4175-be1f-c9c5323dbaf6",
   "metadata": {},
   "source": [
    "이제 이 모델을 사용해서 예측을 할 수 있습니다."
   ]
  },
  {
   "cell_type": "code",
   "execution_count": 20,
   "id": "af08e907-f1a5-4e1d-aad6-34042a67335a",
   "metadata": {},
   "outputs": [
    {
     "name": "stdout",
     "output_type": "stream",
     "text": [
      "Predicted: \"Ankle boot\", Actual: \"Ankle boot\"\n"
     ]
    }
   ],
   "source": [
    "classes = [\n",
    "    \"T-shirt/top\",\n",
    "    \"Trouser\",\n",
    "    \"Pullover\",\n",
    "    \"Dress\",\n",
    "    \"Coat\",\n",
    "    \"Sandal\",\n",
    "    \"Shirt\",\n",
    "    \"Sneaker\",\n",
    "    \"Bag\",\n",
    "    \"Ankle boot\",]\n",
    "\n",
    "model.eval()\n",
    "x, y = test_data[0][0], test_data[0][1]\n",
    "with torch.no_grad():\n",
    "    pred = model(x)\n",
    "    predicted, actual = classes[pred[0].argmax(0)], classes[y]\n",
    "    print(f'Predicted: \"{predicted}\", Actual: \"{actual}\"')"
   ]
  },
  {
   "cell_type": "code",
   "execution_count": null,
   "id": "e9c4d18f-e32f-414f-9aa8-30b9ab70af97",
   "metadata": {},
   "outputs": [],
   "source": []
  }
 ],
 "metadata": {
  "kernelspec": {
   "display_name": "Python 3 (ipykernel)",
   "language": "python",
   "name": "python3"
  },
  "language_info": {
   "codemirror_mode": {
    "name": "ipython",
    "version": 3
   },
   "file_extension": ".py",
   "mimetype": "text/x-python",
   "name": "python",
   "nbconvert_exporter": "python",
   "pygments_lexer": "ipython3",
   "version": "3.9.12"
  }
 },
 "nbformat": 4,
 "nbformat_minor": 5
}
