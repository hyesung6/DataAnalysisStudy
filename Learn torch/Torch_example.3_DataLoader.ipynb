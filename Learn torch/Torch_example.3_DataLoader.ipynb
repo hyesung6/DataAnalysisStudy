{
 "cells": [
  {
   "cell_type": "markdown",
   "id": "ec1e04e6-e752-4cab-baef-e9045b91783d",
   "metadata": {},
   "source": [
    "데이터 샘플을 처리하는 코드는 보기에 지저분하고, 유지보수가 어려울 수 있습니다. 더 나은 가독성과 모듈성을 위해 데이터셋 코드를 모델링 코드로부터 분리하는 것이 이상적입니다. PyTorch는 DataLoader와 Dataset을 이용하여 준비된 데이터셋 혹은 로컬로부터의 데이터를 사용할 수 있도록 합니다. Dataset은 샘플과 레이블을 저장하고, DataLoader는 Dataset을 샘플에 쉽게 접근할 수 있도록 순회 가능한 객체로 감쌉니다. "
   ]
  },
  {
   "cell_type": "code",
   "execution_count": null,
   "id": "458ee003-2707-4846-8ca9-6cf9ec968181",
   "metadata": {},
   "outputs": [],
   "source": []
  }
 ],
 "metadata": {
  "kernelspec": {
   "display_name": "Python 3 (ipykernel)",
   "language": "python",
   "name": "python3"
  },
  "language_info": {
   "codemirror_mode": {
    "name": "ipython",
    "version": 3
   },
   "file_extension": ".py",
   "mimetype": "text/x-python",
   "name": "python",
   "nbconvert_exporter": "python",
   "pygments_lexer": "ipython3",
   "version": "3.9.12"
  }
 },
 "nbformat": 4,
 "nbformat_minor": 5
}
