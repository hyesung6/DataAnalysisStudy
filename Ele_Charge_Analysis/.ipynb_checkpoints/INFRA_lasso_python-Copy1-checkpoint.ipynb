{
 "cells": [
  {
   "cell_type": "markdown",
   "id": "5b8fd74a-d36f-4f17-8b64-94a9107c1662",
   "metadata": {
    "tags": []
   },
   "source": [
    "# 준비"
   ]
  },
  {
   "cell_type": "code",
   "execution_count": 1,
   "id": "31f5f3b8-9756-4bfb-bab2-8812c1597ce9",
   "metadata": {},
   "outputs": [],
   "source": [
    "# 필요 library import \n",
    "import pandas as pd\n",
    "import numpy as np\n",
    "import seaborn as sns\n",
    "import matplotlib.pyplot as plt\n",
    "from sklearn.linear_model import Lasso, Ridge, ElasticNet, LinearRegression\n",
    "from sklearn import linear_model\n",
    "from sklearn.model_selection import train_test_split\n",
    "from sklearn.metrics import mean_squared_error\n",
    "from math import sqrt\n",
    "\n",
    "# 패키지 임포트\n",
    "import os\n",
    "import warnings\n",
    "\n",
    "# FutureWarning 제거\n",
    "warnings.simplefilter(action='ignore', category = FutureWarning)\n",
    "\n",
    "# os 에 따른 Font 깨짐 제거를 위해 Font 지정\n",
    "import os\n",
    "if os.name == 'nt' :\n",
    "    font_family = \"Malgun Gothic\"\n",
    "else :\n",
    "    font_family = \"Apple Gothic\"\n",
    "    \n",
    "\n",
    "# -값이 깨지는 문제 해결을 위해 파라미터값 설정\n",
    "sns.set(font = font_family, rc = {\"axes.unicode_minus\" : False})"
   ]
  },
  {
   "cell_type": "code",
   "execution_count": 4,
   "id": "1f05d4e4-a874-4959-8b44-5aaaab5dbf4d",
   "metadata": {},
   "outputs": [],
   "source": [
    "data = pd.read_csv('total_dataset.csv', encoding='euc-kr', index_col=['EMD_NM'])"
   ]
  },
  {
   "cell_type": "markdown",
   "id": "78e56f36-e745-47f8-98a2-4038f3e25901",
   "metadata": {},
   "source": [
    "# 데이터 확인"
   ]
  },
  {
   "cell_type": "code",
   "execution_count": 5,
   "id": "92f65b22-5b29-4b42-afbb-60563e8e1784",
   "metadata": {
    "collapsed": true,
    "jupyter": {
     "outputs_hidden": true
    },
    "tags": []
   },
   "outputs": [
    {
     "data": {
      "text/html": [
       "<div>\n",
       "<style scoped>\n",
       "    .dataframe tbody tr th:only-of-type {\n",
       "        vertical-align: middle;\n",
       "    }\n",
       "\n",
       "    .dataframe tbody tr th {\n",
       "        vertical-align: top;\n",
       "    }\n",
       "\n",
       "    .dataframe thead th {\n",
       "        text-align: right;\n",
       "    }\n",
       "</style>\n",
       "<table border=\"1\" class=\"dataframe\">\n",
       "  <thead>\n",
       "    <tr style=\"text-align: right;\">\n",
       "      <th></th>\n",
       "      <th>TRAD</th>\n",
       "      <th>CONCERT</th>\n",
       "      <th>OLD</th>\n",
       "      <th>MART</th>\n",
       "      <th>LIB</th>\n",
       "      <th>ART</th>\n",
       "      <th>MUS</th>\n",
       "      <th>MED</th>\n",
       "      <th>COMM</th>\n",
       "      <th>SPORT</th>\n",
       "      <th>OWN</th>\n",
       "      <th>JOB</th>\n",
       "      <th>CARROT</th>\n",
       "      <th>CHARGE</th>\n",
       "    </tr>\n",
       "    <tr>\n",
       "      <th>EMD_NM</th>\n",
       "      <th></th>\n",
       "      <th></th>\n",
       "      <th></th>\n",
       "      <th></th>\n",
       "      <th></th>\n",
       "      <th></th>\n",
       "      <th></th>\n",
       "      <th></th>\n",
       "      <th></th>\n",
       "      <th></th>\n",
       "      <th></th>\n",
       "      <th></th>\n",
       "      <th></th>\n",
       "      <th></th>\n",
       "    </tr>\n",
       "  </thead>\n",
       "  <tbody>\n",
       "    <tr>\n",
       "      <th>연제동</th>\n",
       "      <td>0</td>\n",
       "      <td>0</td>\n",
       "      <td>0</td>\n",
       "      <td>0</td>\n",
       "      <td>3</td>\n",
       "      <td>0</td>\n",
       "      <td>0</td>\n",
       "      <td>0</td>\n",
       "      <td>0</td>\n",
       "      <td>3</td>\n",
       "      <td>0</td>\n",
       "      <td>0</td>\n",
       "      <td>2</td>\n",
       "      <td>0</td>\n",
       "    </tr>\n",
       "    <tr>\n",
       "      <th>운암동</th>\n",
       "      <td>1</td>\n",
       "      <td>2</td>\n",
       "      <td>1</td>\n",
       "      <td>0</td>\n",
       "      <td>13</td>\n",
       "      <td>1</td>\n",
       "      <td>0</td>\n",
       "      <td>13</td>\n",
       "      <td>3</td>\n",
       "      <td>3</td>\n",
       "      <td>6</td>\n",
       "      <td>135</td>\n",
       "      <td>3</td>\n",
       "      <td>3</td>\n",
       "    </tr>\n",
       "    <tr>\n",
       "      <th>덕림동</th>\n",
       "      <td>0</td>\n",
       "      <td>0</td>\n",
       "      <td>1</td>\n",
       "      <td>0</td>\n",
       "      <td>0</td>\n",
       "      <td>0</td>\n",
       "      <td>0</td>\n",
       "      <td>0</td>\n",
       "      <td>0</td>\n",
       "      <td>1</td>\n",
       "      <td>0</td>\n",
       "      <td>0</td>\n",
       "      <td>0</td>\n",
       "      <td>1</td>\n",
       "    </tr>\n",
       "    <tr>\n",
       "      <th>삼거동</th>\n",
       "      <td>0</td>\n",
       "      <td>0</td>\n",
       "      <td>3</td>\n",
       "      <td>0</td>\n",
       "      <td>0</td>\n",
       "      <td>0</td>\n",
       "      <td>0</td>\n",
       "      <td>3</td>\n",
       "      <td>0</td>\n",
       "      <td>1</td>\n",
       "      <td>0</td>\n",
       "      <td>0</td>\n",
       "      <td>0</td>\n",
       "      <td>0</td>\n",
       "    </tr>\n",
       "    <tr>\n",
       "      <th>북구_동림동</th>\n",
       "      <td>0</td>\n",
       "      <td>0</td>\n",
       "      <td>1</td>\n",
       "      <td>0</td>\n",
       "      <td>6</td>\n",
       "      <td>0</td>\n",
       "      <td>0</td>\n",
       "      <td>3</td>\n",
       "      <td>1</td>\n",
       "      <td>6</td>\n",
       "      <td>6</td>\n",
       "      <td>27</td>\n",
       "      <td>2</td>\n",
       "      <td>3</td>\n",
       "    </tr>\n",
       "    <tr>\n",
       "      <th>...</th>\n",
       "      <td>...</td>\n",
       "      <td>...</td>\n",
       "      <td>...</td>\n",
       "      <td>...</td>\n",
       "      <td>...</td>\n",
       "      <td>...</td>\n",
       "      <td>...</td>\n",
       "      <td>...</td>\n",
       "      <td>...</td>\n",
       "      <td>...</td>\n",
       "      <td>...</td>\n",
       "      <td>...</td>\n",
       "      <td>...</td>\n",
       "      <td>...</td>\n",
       "    </tr>\n",
       "    <tr>\n",
       "      <th>쌍촌동</th>\n",
       "      <td>0</td>\n",
       "      <td>3</td>\n",
       "      <td>1</td>\n",
       "      <td>0</td>\n",
       "      <td>14</td>\n",
       "      <td>0</td>\n",
       "      <td>0</td>\n",
       "      <td>8</td>\n",
       "      <td>2</td>\n",
       "      <td>10</td>\n",
       "      <td>41</td>\n",
       "      <td>256</td>\n",
       "      <td>3</td>\n",
       "      <td>5</td>\n",
       "    </tr>\n",
       "    <tr>\n",
       "      <th>내방동</th>\n",
       "      <td>0</td>\n",
       "      <td>0</td>\n",
       "      <td>0</td>\n",
       "      <td>0</td>\n",
       "      <td>1</td>\n",
       "      <td>0</td>\n",
       "      <td>0</td>\n",
       "      <td>0</td>\n",
       "      <td>0</td>\n",
       "      <td>1</td>\n",
       "      <td>0</td>\n",
       "      <td>0</td>\n",
       "      <td>0</td>\n",
       "      <td>1</td>\n",
       "    </tr>\n",
       "    <tr>\n",
       "      <th>덕흥동</th>\n",
       "      <td>0</td>\n",
       "      <td>0</td>\n",
       "      <td>1</td>\n",
       "      <td>0</td>\n",
       "      <td>0</td>\n",
       "      <td>0</td>\n",
       "      <td>0</td>\n",
       "      <td>0</td>\n",
       "      <td>0</td>\n",
       "      <td>5</td>\n",
       "      <td>0</td>\n",
       "      <td>0</td>\n",
       "      <td>0</td>\n",
       "      <td>0</td>\n",
       "    </tr>\n",
       "    <tr>\n",
       "      <th>대의동</th>\n",
       "      <td>0</td>\n",
       "      <td>0</td>\n",
       "      <td>0</td>\n",
       "      <td>0</td>\n",
       "      <td>0</td>\n",
       "      <td>1</td>\n",
       "      <td>1</td>\n",
       "      <td>0</td>\n",
       "      <td>0</td>\n",
       "      <td>0</td>\n",
       "      <td>0</td>\n",
       "      <td>0</td>\n",
       "      <td>0</td>\n",
       "      <td>0</td>\n",
       "    </tr>\n",
       "    <tr>\n",
       "      <th>충장동</th>\n",
       "      <td>0</td>\n",
       "      <td>0</td>\n",
       "      <td>0</td>\n",
       "      <td>2</td>\n",
       "      <td>4</td>\n",
       "      <td>1</td>\n",
       "      <td>0</td>\n",
       "      <td>0</td>\n",
       "      <td>1</td>\n",
       "      <td>0</td>\n",
       "      <td>1</td>\n",
       "      <td>213</td>\n",
       "      <td>0</td>\n",
       "      <td>3</td>\n",
       "    </tr>\n",
       "  </tbody>\n",
       "</table>\n",
       "<p>193 rows × 14 columns</p>\n",
       "</div>"
      ],
      "text/plain": [
       "        TRAD  CONCERT  OLD  MART  LIB  ART  MUS  MED  COMM  SPORT  OWN  JOB  \\\n",
       "EMD_NM                                                                        \n",
       "연제동        0        0    0     0    3    0    0    0     0      3    0    0   \n",
       "운암동        1        2    1     0   13    1    0   13     3      3    6  135   \n",
       "덕림동        0        0    1     0    0    0    0    0     0      1    0    0   \n",
       "삼거동        0        0    3     0    0    0    0    3     0      1    0    0   \n",
       "북구_동림동     0        0    1     0    6    0    0    3     1      6    6   27   \n",
       "...      ...      ...  ...   ...  ...  ...  ...  ...   ...    ...  ...  ...   \n",
       "쌍촌동        0        3    1     0   14    0    0    8     2     10   41  256   \n",
       "내방동        0        0    0     0    1    0    0    0     0      1    0    0   \n",
       "덕흥동        0        0    1     0    0    0    0    0     0      5    0    0   \n",
       "대의동        0        0    0     0    0    1    1    0     0      0    0    0   \n",
       "충장동        0        0    0     2    4    1    0    0     1      0    1  213   \n",
       "\n",
       "        CARROT  CHARGE  \n",
       "EMD_NM                  \n",
       "연제동          2       0  \n",
       "운암동          3       3  \n",
       "덕림동          0       1  \n",
       "삼거동          0       0  \n",
       "북구_동림동       2       3  \n",
       "...        ...     ...  \n",
       "쌍촌동          3       5  \n",
       "내방동          0       1  \n",
       "덕흥동          0       0  \n",
       "대의동          0       0  \n",
       "충장동          0       3  \n",
       "\n",
       "[193 rows x 14 columns]"
      ]
     },
     "execution_count": 5,
     "metadata": {},
     "output_type": "execute_result"
    }
   ],
   "source": [
    "data"
   ]
  },
  {
   "cell_type": "code",
   "execution_count": 7,
   "id": "ca48110a-1fed-4cf3-a2e5-c5007a6376f4",
   "metadata": {
    "collapsed": true,
    "jupyter": {
     "outputs_hidden": true
    },
    "tags": []
   },
   "outputs": [
    {
     "data": {
      "text/html": [
       "<div>\n",
       "<style scoped>\n",
       "    .dataframe tbody tr th:only-of-type {\n",
       "        vertical-align: middle;\n",
       "    }\n",
       "\n",
       "    .dataframe tbody tr th {\n",
       "        vertical-align: top;\n",
       "    }\n",
       "\n",
       "    .dataframe thead th {\n",
       "        text-align: right;\n",
       "    }\n",
       "</style>\n",
       "<table border=\"1\" class=\"dataframe\">\n",
       "  <thead>\n",
       "    <tr style=\"text-align: right;\">\n",
       "      <th></th>\n",
       "      <th>ORG_NUM</th>\n",
       "      <th>TRAD</th>\n",
       "      <th>CONCERT</th>\n",
       "      <th>OLD</th>\n",
       "      <th>MART</th>\n",
       "      <th>LIB</th>\n",
       "      <th>ART</th>\n",
       "      <th>MUS</th>\n",
       "      <th>MED</th>\n",
       "      <th>COMM</th>\n",
       "      <th>SPORT</th>\n",
       "      <th>CHARGE</th>\n",
       "    </tr>\n",
       "  </thead>\n",
       "  <tbody>\n",
       "    <tr>\n",
       "      <th>0</th>\n",
       "      <td>1430</td>\n",
       "      <td>0</td>\n",
       "      <td>0</td>\n",
       "      <td>0</td>\n",
       "      <td>0</td>\n",
       "      <td>3</td>\n",
       "      <td>0</td>\n",
       "      <td>0</td>\n",
       "      <td>0</td>\n",
       "      <td>0</td>\n",
       "      <td>3</td>\n",
       "      <td>0</td>\n",
       "    </tr>\n",
       "    <tr>\n",
       "      <th>1</th>\n",
       "      <td>1431</td>\n",
       "      <td>1</td>\n",
       "      <td>2</td>\n",
       "      <td>1</td>\n",
       "      <td>0</td>\n",
       "      <td>13</td>\n",
       "      <td>1</td>\n",
       "      <td>0</td>\n",
       "      <td>13</td>\n",
       "      <td>3</td>\n",
       "      <td>3</td>\n",
       "      <td>3</td>\n",
       "    </tr>\n",
       "    <tr>\n",
       "      <th>2</th>\n",
       "      <td>1556</td>\n",
       "      <td>0</td>\n",
       "      <td>0</td>\n",
       "      <td>1</td>\n",
       "      <td>0</td>\n",
       "      <td>0</td>\n",
       "      <td>0</td>\n",
       "      <td>0</td>\n",
       "      <td>0</td>\n",
       "      <td>0</td>\n",
       "      <td>1</td>\n",
       "      <td>1</td>\n",
       "    </tr>\n",
       "    <tr>\n",
       "      <th>3</th>\n",
       "      <td>1560</td>\n",
       "      <td>0</td>\n",
       "      <td>0</td>\n",
       "      <td>3</td>\n",
       "      <td>0</td>\n",
       "      <td>0</td>\n",
       "      <td>0</td>\n",
       "      <td>0</td>\n",
       "      <td>3</td>\n",
       "      <td>0</td>\n",
       "      <td>1</td>\n",
       "      <td>0</td>\n",
       "    </tr>\n",
       "    <tr>\n",
       "      <th>4</th>\n",
       "      <td>1429</td>\n",
       "      <td>0</td>\n",
       "      <td>0</td>\n",
       "      <td>1</td>\n",
       "      <td>0</td>\n",
       "      <td>6</td>\n",
       "      <td>0</td>\n",
       "      <td>0</td>\n",
       "      <td>3</td>\n",
       "      <td>1</td>\n",
       "      <td>6</td>\n",
       "      <td>3</td>\n",
       "    </tr>\n",
       "  </tbody>\n",
       "</table>\n",
       "</div>"
      ],
      "text/plain": [
       "   ORG_NUM  TRAD  CONCERT  OLD  MART  LIB  ART  MUS  MED  COMM  SPORT  CHARGE\n",
       "0     1430     0        0    0     0    3    0    0    0     0      3       0\n",
       "1     1431     1        2    1     0   13    1    0   13     3      3       3\n",
       "2     1556     0        0    1     0    0    0    0    0     0      1       1\n",
       "3     1560     0        0    3     0    0    0    0    3     0      1       0\n",
       "4     1429     0        0    1     0    6    0    0    3     1      6       3"
      ]
     },
     "execution_count": 7,
     "metadata": {},
     "output_type": "execute_result"
    }
   ],
   "source": [
    "data.head()"
   ]
  },
  {
   "cell_type": "code",
   "execution_count": 5,
   "id": "62e073a3-40fd-45f3-92bf-dec1b381c52c",
   "metadata": {
    "collapsed": true,
    "jupyter": {
     "outputs_hidden": true
    },
    "tags": []
   },
   "outputs": [
    {
     "data": {
      "text/html": [
       "<div>\n",
       "<style scoped>\n",
       "    .dataframe tbody tr th:only-of-type {\n",
       "        vertical-align: middle;\n",
       "    }\n",
       "\n",
       "    .dataframe tbody tr th {\n",
       "        vertical-align: top;\n",
       "    }\n",
       "\n",
       "    .dataframe thead th {\n",
       "        text-align: right;\n",
       "    }\n",
       "</style>\n",
       "<table border=\"1\" class=\"dataframe\">\n",
       "  <thead>\n",
       "    <tr style=\"text-align: right;\">\n",
       "      <th></th>\n",
       "      <th>TRAD</th>\n",
       "      <th>CONCERT</th>\n",
       "      <th>OLD</th>\n",
       "      <th>MART</th>\n",
       "      <th>LIB</th>\n",
       "      <th>ART</th>\n",
       "      <th>MUS</th>\n",
       "      <th>MED</th>\n",
       "      <th>COMM</th>\n",
       "      <th>SPORT</th>\n",
       "      <th>OWN</th>\n",
       "      <th>JOB</th>\n",
       "      <th>CARROT</th>\n",
       "      <th>CHARGE</th>\n",
       "    </tr>\n",
       "  </thead>\n",
       "  <tbody>\n",
       "    <tr>\n",
       "      <th>count</th>\n",
       "      <td>193.000000</td>\n",
       "      <td>193.000000</td>\n",
       "      <td>193.000000</td>\n",
       "      <td>193.000000</td>\n",
       "      <td>193.000000</td>\n",
       "      <td>193.000000</td>\n",
       "      <td>193.000000</td>\n",
       "      <td>193.000000</td>\n",
       "      <td>193.000000</td>\n",
       "      <td>193.000000</td>\n",
       "      <td>193.000000</td>\n",
       "      <td>193.000000</td>\n",
       "      <td>193.000000</td>\n",
       "      <td>193.000000</td>\n",
       "    </tr>\n",
       "    <tr>\n",
       "      <th>mean</th>\n",
       "      <td>0.119171</td>\n",
       "      <td>0.113990</td>\n",
       "      <td>0.492228</td>\n",
       "      <td>0.113990</td>\n",
       "      <td>1.818653</td>\n",
       "      <td>0.088083</td>\n",
       "      <td>0.041451</td>\n",
       "      <td>1.378238</td>\n",
       "      <td>0.502591</td>\n",
       "      <td>2.865285</td>\n",
       "      <td>3.497409</td>\n",
       "      <td>30.896373</td>\n",
       "      <td>0.383420</td>\n",
       "      <td>0.575130</td>\n",
       "    </tr>\n",
       "    <tr>\n",
       "      <th>std</th>\n",
       "      <td>0.434568</td>\n",
       "      <td>0.417659</td>\n",
       "      <td>0.823605</td>\n",
       "      <td>0.429948</td>\n",
       "      <td>3.367007</td>\n",
       "      <td>0.405063</td>\n",
       "      <td>0.199849</td>\n",
       "      <td>2.581372</td>\n",
       "      <td>0.791388</td>\n",
       "      <td>4.089174</td>\n",
       "      <td>11.208314</td>\n",
       "      <td>74.808990</td>\n",
       "      <td>0.900309</td>\n",
       "      <td>1.097252</td>\n",
       "    </tr>\n",
       "    <tr>\n",
       "      <th>min</th>\n",
       "      <td>0.000000</td>\n",
       "      <td>0.000000</td>\n",
       "      <td>0.000000</td>\n",
       "      <td>0.000000</td>\n",
       "      <td>0.000000</td>\n",
       "      <td>0.000000</td>\n",
       "      <td>0.000000</td>\n",
       "      <td>0.000000</td>\n",
       "      <td>0.000000</td>\n",
       "      <td>0.000000</td>\n",
       "      <td>0.000000</td>\n",
       "      <td>0.000000</td>\n",
       "      <td>0.000000</td>\n",
       "      <td>0.000000</td>\n",
       "    </tr>\n",
       "    <tr>\n",
       "      <th>25%</th>\n",
       "      <td>0.000000</td>\n",
       "      <td>0.000000</td>\n",
       "      <td>0.000000</td>\n",
       "      <td>0.000000</td>\n",
       "      <td>0.000000</td>\n",
       "      <td>0.000000</td>\n",
       "      <td>0.000000</td>\n",
       "      <td>0.000000</td>\n",
       "      <td>0.000000</td>\n",
       "      <td>0.000000</td>\n",
       "      <td>0.000000</td>\n",
       "      <td>0.000000</td>\n",
       "      <td>0.000000</td>\n",
       "      <td>0.000000</td>\n",
       "    </tr>\n",
       "    <tr>\n",
       "      <th>50%</th>\n",
       "      <td>0.000000</td>\n",
       "      <td>0.000000</td>\n",
       "      <td>0.000000</td>\n",
       "      <td>0.000000</td>\n",
       "      <td>0.000000</td>\n",
       "      <td>0.000000</td>\n",
       "      <td>0.000000</td>\n",
       "      <td>0.000000</td>\n",
       "      <td>0.000000</td>\n",
       "      <td>1.000000</td>\n",
       "      <td>0.000000</td>\n",
       "      <td>0.000000</td>\n",
       "      <td>0.000000</td>\n",
       "      <td>0.000000</td>\n",
       "    </tr>\n",
       "    <tr>\n",
       "      <th>75%</th>\n",
       "      <td>0.000000</td>\n",
       "      <td>0.000000</td>\n",
       "      <td>1.000000</td>\n",
       "      <td>0.000000</td>\n",
       "      <td>2.000000</td>\n",
       "      <td>0.000000</td>\n",
       "      <td>0.000000</td>\n",
       "      <td>2.000000</td>\n",
       "      <td>1.000000</td>\n",
       "      <td>3.000000</td>\n",
       "      <td>2.000000</td>\n",
       "      <td>26.000000</td>\n",
       "      <td>0.000000</td>\n",
       "      <td>1.000000</td>\n",
       "    </tr>\n",
       "    <tr>\n",
       "      <th>max</th>\n",
       "      <td>3.000000</td>\n",
       "      <td>3.000000</td>\n",
       "      <td>4.000000</td>\n",
       "      <td>3.000000</td>\n",
       "      <td>16.000000</td>\n",
       "      <td>4.000000</td>\n",
       "      <td>1.000000</td>\n",
       "      <td>18.000000</td>\n",
       "      <td>4.000000</td>\n",
       "      <td>20.000000</td>\n",
       "      <td>102.000000</td>\n",
       "      <td>553.000000</td>\n",
       "      <td>5.000000</td>\n",
       "      <td>5.000000</td>\n",
       "    </tr>\n",
       "  </tbody>\n",
       "</table>\n",
       "</div>"
      ],
      "text/plain": [
       "             TRAD     CONCERT         OLD        MART         LIB         ART  \\\n",
       "count  193.000000  193.000000  193.000000  193.000000  193.000000  193.000000   \n",
       "mean     0.119171    0.113990    0.492228    0.113990    1.818653    0.088083   \n",
       "std      0.434568    0.417659    0.823605    0.429948    3.367007    0.405063   \n",
       "min      0.000000    0.000000    0.000000    0.000000    0.000000    0.000000   \n",
       "25%      0.000000    0.000000    0.000000    0.000000    0.000000    0.000000   \n",
       "50%      0.000000    0.000000    0.000000    0.000000    0.000000    0.000000   \n",
       "75%      0.000000    0.000000    1.000000    0.000000    2.000000    0.000000   \n",
       "max      3.000000    3.000000    4.000000    3.000000   16.000000    4.000000   \n",
       "\n",
       "              MUS         MED        COMM       SPORT         OWN         JOB  \\\n",
       "count  193.000000  193.000000  193.000000  193.000000  193.000000  193.000000   \n",
       "mean     0.041451    1.378238    0.502591    2.865285    3.497409   30.896373   \n",
       "std      0.199849    2.581372    0.791388    4.089174   11.208314   74.808990   \n",
       "min      0.000000    0.000000    0.000000    0.000000    0.000000    0.000000   \n",
       "25%      0.000000    0.000000    0.000000    0.000000    0.000000    0.000000   \n",
       "50%      0.000000    0.000000    0.000000    1.000000    0.000000    0.000000   \n",
       "75%      0.000000    2.000000    1.000000    3.000000    2.000000   26.000000   \n",
       "max      1.000000   18.000000    4.000000   20.000000  102.000000  553.000000   \n",
       "\n",
       "           CARROT      CHARGE  \n",
       "count  193.000000  193.000000  \n",
       "mean     0.383420    0.575130  \n",
       "std      0.900309    1.097252  \n",
       "min      0.000000    0.000000  \n",
       "25%      0.000000    0.000000  \n",
       "50%      0.000000    0.000000  \n",
       "75%      0.000000    1.000000  \n",
       "max      5.000000    5.000000  "
      ]
     },
     "execution_count": 5,
     "metadata": {},
     "output_type": "execute_result"
    }
   ],
   "source": [
    "data.describe()"
   ]
  },
  {
   "cell_type": "code",
   "execution_count": 6,
   "id": "bf8b1c84-48cd-4297-bc20-a690d0d830af",
   "metadata": {
    "collapsed": true,
    "jupyter": {
     "outputs_hidden": true
    },
    "tags": []
   },
   "outputs": [
    {
     "name": "stdout",
     "output_type": "stream",
     "text": [
      "<class 'pandas.core.frame.DataFrame'>\n",
      "Index: 193 entries, 연제동 to 충장동\n",
      "Data columns (total 14 columns):\n",
      " #   Column   Non-Null Count  Dtype\n",
      "---  ------   --------------  -----\n",
      " 0   TRAD     193 non-null    int64\n",
      " 1   CONCERT  193 non-null    int64\n",
      " 2   OLD      193 non-null    int64\n",
      " 3   MART     193 non-null    int64\n",
      " 4   LIB      193 non-null    int64\n",
      " 5   ART      193 non-null    int64\n",
      " 6   MUS      193 non-null    int64\n",
      " 7   MED      193 non-null    int64\n",
      " 8   COMM     193 non-null    int64\n",
      " 9   SPORT    193 non-null    int64\n",
      " 10  OWN      193 non-null    int64\n",
      " 11  JOB      193 non-null    int64\n",
      " 12  CARROT   193 non-null    int64\n",
      " 13  CHARGE   193 non-null    int64\n",
      "dtypes: int64(14)\n",
      "memory usage: 22.6+ KB\n"
     ]
    }
   ],
   "source": [
    "data.info()"
   ]
  },
  {
   "cell_type": "code",
   "execution_count": 199,
   "id": "3feea717-0470-45e8-8e20-f17857bd0cc5",
   "metadata": {
    "collapsed": true,
    "jupyter": {
     "outputs_hidden": true
    },
    "tags": []
   },
   "outputs": [
    {
     "data": {
      "text/html": [
       "<div>\n",
       "<style scoped>\n",
       "    .dataframe tbody tr th:only-of-type {\n",
       "        vertical-align: middle;\n",
       "    }\n",
       "\n",
       "    .dataframe tbody tr th {\n",
       "        vertical-align: top;\n",
       "    }\n",
       "\n",
       "    .dataframe thead th {\n",
       "        text-align: right;\n",
       "    }\n",
       "</style>\n",
       "<table border=\"1\" class=\"dataframe\">\n",
       "  <thead>\n",
       "    <tr style=\"text-align: right;\">\n",
       "      <th></th>\n",
       "      <th>TRAD</th>\n",
       "      <th>CONCERT</th>\n",
       "      <th>OLD</th>\n",
       "      <th>MART</th>\n",
       "      <th>ART</th>\n",
       "      <th>MUS</th>\n",
       "      <th>MED</th>\n",
       "      <th>SPORT</th>\n",
       "      <th>OWN</th>\n",
       "      <th>JOB</th>\n",
       "      <th>CARROT</th>\n",
       "      <th>CHARGE</th>\n",
       "    </tr>\n",
       "    <tr>\n",
       "      <th>EMD_NM</th>\n",
       "      <th></th>\n",
       "      <th></th>\n",
       "      <th></th>\n",
       "      <th></th>\n",
       "      <th></th>\n",
       "      <th></th>\n",
       "      <th></th>\n",
       "      <th></th>\n",
       "      <th></th>\n",
       "      <th></th>\n",
       "      <th></th>\n",
       "      <th></th>\n",
       "    </tr>\n",
       "  </thead>\n",
       "  <tbody>\n",
       "    <tr>\n",
       "      <th>연제동</th>\n",
       "      <td>False</td>\n",
       "      <td>False</td>\n",
       "      <td>False</td>\n",
       "      <td>False</td>\n",
       "      <td>False</td>\n",
       "      <td>False</td>\n",
       "      <td>False</td>\n",
       "      <td>False</td>\n",
       "      <td>False</td>\n",
       "      <td>False</td>\n",
       "      <td>False</td>\n",
       "      <td>False</td>\n",
       "    </tr>\n",
       "    <tr>\n",
       "      <th>운암동</th>\n",
       "      <td>False</td>\n",
       "      <td>False</td>\n",
       "      <td>False</td>\n",
       "      <td>False</td>\n",
       "      <td>False</td>\n",
       "      <td>False</td>\n",
       "      <td>False</td>\n",
       "      <td>False</td>\n",
       "      <td>False</td>\n",
       "      <td>False</td>\n",
       "      <td>False</td>\n",
       "      <td>False</td>\n",
       "    </tr>\n",
       "    <tr>\n",
       "      <th>덕림동</th>\n",
       "      <td>False</td>\n",
       "      <td>False</td>\n",
       "      <td>False</td>\n",
       "      <td>False</td>\n",
       "      <td>False</td>\n",
       "      <td>False</td>\n",
       "      <td>False</td>\n",
       "      <td>False</td>\n",
       "      <td>False</td>\n",
       "      <td>False</td>\n",
       "      <td>False</td>\n",
       "      <td>False</td>\n",
       "    </tr>\n",
       "    <tr>\n",
       "      <th>삼거동</th>\n",
       "      <td>False</td>\n",
       "      <td>False</td>\n",
       "      <td>False</td>\n",
       "      <td>False</td>\n",
       "      <td>False</td>\n",
       "      <td>False</td>\n",
       "      <td>False</td>\n",
       "      <td>False</td>\n",
       "      <td>False</td>\n",
       "      <td>False</td>\n",
       "      <td>False</td>\n",
       "      <td>False</td>\n",
       "    </tr>\n",
       "    <tr>\n",
       "      <th>북구_동림동</th>\n",
       "      <td>False</td>\n",
       "      <td>False</td>\n",
       "      <td>False</td>\n",
       "      <td>False</td>\n",
       "      <td>False</td>\n",
       "      <td>False</td>\n",
       "      <td>False</td>\n",
       "      <td>False</td>\n",
       "      <td>False</td>\n",
       "      <td>False</td>\n",
       "      <td>False</td>\n",
       "      <td>False</td>\n",
       "    </tr>\n",
       "    <tr>\n",
       "      <th>...</th>\n",
       "      <td>...</td>\n",
       "      <td>...</td>\n",
       "      <td>...</td>\n",
       "      <td>...</td>\n",
       "      <td>...</td>\n",
       "      <td>...</td>\n",
       "      <td>...</td>\n",
       "      <td>...</td>\n",
       "      <td>...</td>\n",
       "      <td>...</td>\n",
       "      <td>...</td>\n",
       "      <td>...</td>\n",
       "    </tr>\n",
       "    <tr>\n",
       "      <th>쌍촌동</th>\n",
       "      <td>False</td>\n",
       "      <td>False</td>\n",
       "      <td>False</td>\n",
       "      <td>False</td>\n",
       "      <td>False</td>\n",
       "      <td>False</td>\n",
       "      <td>False</td>\n",
       "      <td>False</td>\n",
       "      <td>False</td>\n",
       "      <td>False</td>\n",
       "      <td>False</td>\n",
       "      <td>False</td>\n",
       "    </tr>\n",
       "    <tr>\n",
       "      <th>내방동</th>\n",
       "      <td>False</td>\n",
       "      <td>False</td>\n",
       "      <td>False</td>\n",
       "      <td>False</td>\n",
       "      <td>False</td>\n",
       "      <td>False</td>\n",
       "      <td>False</td>\n",
       "      <td>False</td>\n",
       "      <td>False</td>\n",
       "      <td>False</td>\n",
       "      <td>False</td>\n",
       "      <td>False</td>\n",
       "    </tr>\n",
       "    <tr>\n",
       "      <th>덕흥동</th>\n",
       "      <td>False</td>\n",
       "      <td>False</td>\n",
       "      <td>False</td>\n",
       "      <td>False</td>\n",
       "      <td>False</td>\n",
       "      <td>False</td>\n",
       "      <td>False</td>\n",
       "      <td>False</td>\n",
       "      <td>False</td>\n",
       "      <td>False</td>\n",
       "      <td>False</td>\n",
       "      <td>False</td>\n",
       "    </tr>\n",
       "    <tr>\n",
       "      <th>대의동</th>\n",
       "      <td>False</td>\n",
       "      <td>False</td>\n",
       "      <td>False</td>\n",
       "      <td>False</td>\n",
       "      <td>False</td>\n",
       "      <td>False</td>\n",
       "      <td>False</td>\n",
       "      <td>False</td>\n",
       "      <td>False</td>\n",
       "      <td>False</td>\n",
       "      <td>False</td>\n",
       "      <td>False</td>\n",
       "    </tr>\n",
       "    <tr>\n",
       "      <th>충장동</th>\n",
       "      <td>False</td>\n",
       "      <td>False</td>\n",
       "      <td>False</td>\n",
       "      <td>False</td>\n",
       "      <td>False</td>\n",
       "      <td>False</td>\n",
       "      <td>False</td>\n",
       "      <td>False</td>\n",
       "      <td>False</td>\n",
       "      <td>False</td>\n",
       "      <td>False</td>\n",
       "      <td>False</td>\n",
       "    </tr>\n",
       "  </tbody>\n",
       "</table>\n",
       "<p>193 rows × 12 columns</p>\n",
       "</div>"
      ],
      "text/plain": [
       "         TRAD  CONCERT    OLD   MART    ART    MUS    MED  SPORT    OWN  \\\n",
       "EMD_NM                                                                    \n",
       "연제동     False    False  False  False  False  False  False  False  False   \n",
       "운암동     False    False  False  False  False  False  False  False  False   \n",
       "덕림동     False    False  False  False  False  False  False  False  False   \n",
       "삼거동     False    False  False  False  False  False  False  False  False   \n",
       "북구_동림동  False    False  False  False  False  False  False  False  False   \n",
       "...       ...      ...    ...    ...    ...    ...    ...    ...    ...   \n",
       "쌍촌동     False    False  False  False  False  False  False  False  False   \n",
       "내방동     False    False  False  False  False  False  False  False  False   \n",
       "덕흥동     False    False  False  False  False  False  False  False  False   \n",
       "대의동     False    False  False  False  False  False  False  False  False   \n",
       "충장동     False    False  False  False  False  False  False  False  False   \n",
       "\n",
       "          JOB  CARROT  CHARGE  \n",
       "EMD_NM                         \n",
       "연제동     False   False   False  \n",
       "운암동     False   False   False  \n",
       "덕림동     False   False   False  \n",
       "삼거동     False   False   False  \n",
       "북구_동림동  False   False   False  \n",
       "...       ...     ...     ...  \n",
       "쌍촌동     False   False   False  \n",
       "내방동     False   False   False  \n",
       "덕흥동     False   False   False  \n",
       "대의동     False   False   False  \n",
       "충장동     False   False   False  \n",
       "\n",
       "[193 rows x 12 columns]"
      ]
     },
     "execution_count": 199,
     "metadata": {},
     "output_type": "execute_result"
    }
   ],
   "source": [
    "data.isnull()"
   ]
  },
  {
   "cell_type": "code",
   "execution_count": 200,
   "id": "1df4125e-df95-46c8-b019-d0e44c3c7e06",
   "metadata": {
    "collapsed": true,
    "jupyter": {
     "outputs_hidden": true
    },
    "tags": []
   },
   "outputs": [
    {
     "data": {
      "text/plain": [
       "TRAD       0\n",
       "CONCERT    0\n",
       "OLD        0\n",
       "MART       0\n",
       "ART        0\n",
       "MUS        0\n",
       "MED        0\n",
       "SPORT      0\n",
       "OWN        0\n",
       "JOB        0\n",
       "CARROT     0\n",
       "CHARGE     0\n",
       "dtype: int64"
      ]
     },
     "execution_count": 200,
     "metadata": {},
     "output_type": "execute_result"
    }
   ],
   "source": [
    "data.isnull().sum()"
   ]
  },
  {
   "cell_type": "markdown",
   "id": "dce1ed9b-d33a-4ad3-ad9f-f9ea1671df67",
   "metadata": {},
   "source": [
    "# 독립변수, 종속변수 선언"
   ]
  },
  {
   "cell_type": "code",
   "execution_count": 248,
   "id": "11e29b20-189e-4326-b31f-0b893c46bb49",
   "metadata": {
    "tags": []
   },
   "outputs": [],
   "source": [
    "# 독립변수 ( data )\n",
    "X = data.iloc[:, :-1]"
   ]
  },
  {
   "cell_type": "code",
   "execution_count": 249,
   "id": "d2e8a457-6207-4bb6-8923-a2523a76bac5",
   "metadata": {},
   "outputs": [],
   "source": [
    "# 종속변수 ( target )\n",
    "y = data.iloc[:,-1]"
   ]
  },
  {
   "cell_type": "code",
   "execution_count": 250,
   "id": "4733e870-2fdc-4ad7-a73a-980ad82704fa",
   "metadata": {},
   "outputs": [
    {
     "name": "stdout",
     "output_type": "stream",
     "text": [
      "X row : 193개\n",
      "y row : 193개\n"
     ]
    }
   ],
   "source": [
    "print(f'X row : {X.shape[0]}개')\n",
    "print(f'y row : {y.shape[0]}개')"
   ]
  },
  {
   "cell_type": "code",
   "execution_count": null,
   "id": "0a194984-38a4-4058-a6d7-2f7015f2f6cf",
   "metadata": {
    "collapsed": true,
    "jupyter": {
     "outputs_hidden": true
    },
    "tags": []
   },
   "outputs": [],
   "source": [
    "# 상관계수 그래프\n",
    "sns.pairplot(data.corr())"
   ]
  },
  {
   "cell_type": "markdown",
   "id": "c7f18457-557d-4861-943a-e81090566c7d",
   "metadata": {},
   "source": [
    "## train, test split"
   ]
  },
  {
   "cell_type": "code",
   "execution_count": 251,
   "id": "e0713bfb-b59f-4c99-8a66-6033878d915b",
   "metadata": {
    "tags": []
   },
   "outputs": [],
   "source": [
    "# 훈련, 테스트 데이터 분리 - 원본 데이터\n",
    "X_train, X_test, y_train, y_test = train_test_split(X, y, test_size=0.2, random_state=100, stratify=y)"
   ]
  },
  {
   "cell_type": "markdown",
   "id": "8cc7340e-6988-408e-bee7-237829bb0b4e",
   "metadata": {},
   "source": [
    "## VIF 높은 컬럼 제거하고 선언 ( 때에 따라 바꿔가며 진행 )"
   ]
  },
  {
   "cell_type": "code",
   "execution_count": 258,
   "id": "3ccabcc3-3d08-4c5f-8c79-84ebc29bf510",
   "metadata": {
    "tags": []
   },
   "outputs": [],
   "source": [
    "data = data.drop(['MED'], axis=1)"
   ]
  },
  {
   "cell_type": "code",
   "execution_count": 259,
   "id": "c771f42f-d52e-4cf5-ad27-ef5f27853a4a",
   "metadata": {},
   "outputs": [],
   "source": [
    "X = data.iloc[:, :-1]\n",
    "y = data.iloc[:, -1]"
   ]
  },
  {
   "cell_type": "code",
   "execution_count": 260,
   "id": "f72a93e1-3c28-4717-9905-c40273baf38a",
   "metadata": {},
   "outputs": [],
   "source": [
    "# 훈련, 테스트 데이터 분리\n",
    "X_train, X_test, y_train, y_test = train_test_split(X, y, test_size=0.2, random_state=100, stratify=y)"
   ]
  },
  {
   "cell_type": "markdown",
   "id": "8b3aaaca-1439-4b36-bfb8-3603273b12fa",
   "metadata": {},
   "source": [
    "# 표준화\n",
    "## Strandard Scaler"
   ]
  },
  {
   "cell_type": "code",
   "execution_count": 448,
   "id": "6ebbb1b5-4e48-43a5-8120-a38a0369b91c",
   "metadata": {},
   "outputs": [],
   "source": [
    "# Standard Scaler  ( 표준화 )\n",
    "from sklearn.preprocessing import StandardScaler\n",
    "\n",
    "std = StandardScaler()\n",
    "std_data = std.fit_transform(data.iloc[:, :])"
   ]
  },
  {
   "cell_type": "code",
   "execution_count": 449,
   "id": "d8437424-9efb-4623-9214-3493a371f74e",
   "metadata": {},
   "outputs": [],
   "source": [
    "# 표준화된 행렬 -> 데이터프레임 변환 \n",
    "scaled_df = pd.DataFrame(std_data, columns=[data.columns])"
   ]
  },
  {
   "cell_type": "code",
   "execution_count": 450,
   "id": "57902657-3dd0-4b64-a9f7-be5337edc065",
   "metadata": {
    "tags": []
   },
   "outputs": [],
   "source": [
    "# 독립변수 ( data )\n",
    "X = scaled_df.iloc[:,:10]"
   ]
  },
  {
   "cell_type": "code",
   "execution_count": 451,
   "id": "6665784d-503b-4f06-8ad2-fd7317b65225",
   "metadata": {},
   "outputs": [],
   "source": [
    "# 종속변수 ( target )\n",
    "y = scaled_df.iloc[:,-1]"
   ]
  },
  {
   "cell_type": "code",
   "execution_count": 452,
   "id": "e312081a-1f5c-4487-bc31-38f69a047390",
   "metadata": {},
   "outputs": [],
   "source": [
    "# 흔련, 테스트 데이터 분리 - Scaled Data\n",
    "X_train, X_test, y_train, y_test = train_test_split(X, y, test_size=0.2, random_state=369, stratify=y)"
   ]
  },
  {
   "cell_type": "markdown",
   "id": "af2ff55a-1ead-40a3-a506-09d0c7ac7d4a",
   "metadata": {},
   "source": [
    "## Min-Max Scaler"
   ]
  },
  {
   "cell_type": "code",
   "execution_count": 428,
   "id": "194a4f15-1eb4-47ae-be75-ae2996b293dc",
   "metadata": {
    "tags": []
   },
   "outputs": [],
   "source": [
    "from sklearn.preprocessing import MinMaxScaler\n",
    "\n",
    "scaler = MinMaxScaler()\n",
    "scaled_data = scaler.fit_transform(data)"
   ]
  },
  {
   "cell_type": "code",
   "execution_count": 429,
   "id": "c55280d0-e1ab-4fad-b4ab-1a189cc52526",
   "metadata": {},
   "outputs": [],
   "source": [
    "# 표준화된 행렬 -> 데이터프레임 변환 \n",
    "scaled_df = pd.DataFrame(scaled_data, columns=[data.columns])"
   ]
  },
  {
   "cell_type": "code",
   "execution_count": 430,
   "id": "6ee84bca-ec9b-4a8c-a770-f7a7c7a7d344",
   "metadata": {
    "tags": []
   },
   "outputs": [],
   "source": [
    "# 독립변수 ( data )\n",
    "X = scaled_df.iloc[:,:-1]"
   ]
  },
  {
   "cell_type": "code",
   "execution_count": 431,
   "id": "8aef1674-8d93-48d5-930b-d1c672893ba7",
   "metadata": {},
   "outputs": [],
   "source": [
    "# 종속변수 ( target )\n",
    "y = scaled_df.iloc[:,-1]"
   ]
  },
  {
   "cell_type": "code",
   "execution_count": 432,
   "id": "dcc9ec5a-1f30-497a-b97c-6b3fb5629c60",
   "metadata": {},
   "outputs": [],
   "source": [
    "# 흔련, 테스트 데이터 분리 - Scaled Data\n",
    "X_train, X_test, y_train, y_test = train_test_split(X, y, test_size=0.2, random_state=369, stratify=y)"
   ]
  },
  {
   "cell_type": "markdown",
   "id": "b5ce35b0-5807-44b2-9cd2-119f042c3104",
   "metadata": {},
   "source": [
    "# 다중공선성 확인"
   ]
  },
  {
   "cell_type": "code",
   "execution_count": 252,
   "id": "e7d944c5-9495-4d91-9002-05167f6f165b",
   "metadata": {},
   "outputs": [],
   "source": [
    "from statsmodels import api\n",
    "ols = api.OLS(y, X)\n",
    "result = ols.fit()"
   ]
  },
  {
   "cell_type": "code",
   "execution_count": 253,
   "id": "7f0c77dd-0620-4f17-87bc-4a229f36f496",
   "metadata": {},
   "outputs": [
    {
     "name": "stdout",
     "output_type": "stream",
     "text": [
      "                                 OLS Regression Results                                \n",
      "=======================================================================================\n",
      "Dep. Variable:                 CHARGE   R-squared (uncentered):                   0.747\n",
      "Model:                            OLS   Adj. R-squared (uncentered):              0.732\n",
      "Method:                 Least Squares   F-statistic:                              48.91\n",
      "Date:                Thu, 11 Aug 2022   Prob (F-statistic):                    1.75e-48\n",
      "Time:                        14:49:40   Log-Likelihood:                         -182.09\n",
      "No. Observations:                 193   AIC:                                      386.2\n",
      "Df Residuals:                     182   BIC:                                      422.1\n",
      "Df Model:                          11                                                  \n",
      "Covariance Type:            nonrobust                                                  \n",
      "==============================================================================\n",
      "                 coef    std err          t      P>|t|      [0.025      0.975]\n",
      "------------------------------------------------------------------------------\n",
      "TRAD           0.8231      0.132      6.256      0.000       0.563       1.083\n",
      "CONCERT        0.2865      0.138      2.072      0.040       0.014       0.559\n",
      "OLD           -0.1013      0.062     -1.628      0.105      -0.224       0.021\n",
      "MART          -0.1426      0.129     -1.105      0.271      -0.397       0.112\n",
      "ART            0.1618      0.118      1.368      0.173      -0.071       0.395\n",
      "MUS            0.0261      0.250      0.104      0.917      -0.468       0.520\n",
      "MED            0.1290      0.028      4.683      0.000       0.075       0.183\n",
      "SPORT          0.0508      0.012      4.339      0.000       0.028       0.074\n",
      "OWN            0.0126      0.006      2.273      0.024       0.002       0.024\n",
      "JOB            0.0036      0.001      4.823      0.000       0.002       0.005\n",
      "CARROT        -0.0110      0.066     -0.168      0.867      -0.140       0.118\n",
      "==============================================================================\n",
      "Omnibus:                       52.904   Durbin-Watson:                   1.793\n",
      "Prob(Omnibus):                  0.000   Jarque-Bera (JB):              128.748\n",
      "Skew:                           1.202   Prob(JB):                     1.10e-28\n",
      "Kurtosis:                       6.199   Cond. No.                         449.\n",
      "==============================================================================\n",
      "\n",
      "Notes:\n",
      "[1] R² is computed without centering (uncentered) since the model does not contain a constant.\n",
      "[2] Standard Errors assume that the covariance matrix of the errors is correctly specified.\n"
     ]
    }
   ],
   "source": [
    "print(result.summary())"
   ]
  },
  {
   "cell_type": "markdown",
   "id": "dda1de9a-d1a9-4dd3-8390-36dde610757a",
   "metadata": {
    "tags": []
   },
   "source": [
    "## VIF ( Variance Inflation Factors ) 확인"
   ]
  },
  {
   "cell_type": "code",
   "execution_count": 254,
   "id": "3153e155-6bd8-481a-9519-2e1fce4ec917",
   "metadata": {},
   "outputs": [],
   "source": [
    "from statsmodels.stats.outliers_influence import variance_inflation_factor"
   ]
  },
  {
   "cell_type": "code",
   "execution_count": 255,
   "id": "12ee6ddf-09b6-4c63-9aa4-14cfb0e12d69",
   "metadata": {},
   "outputs": [],
   "source": [
    "def feature_engineering_XbyVIF(X):\n",
    "    vif = pd.DataFrame()\n",
    "    vif['VIF_Factor'] = [variance_inflation_factor(X.values, i)\n",
    "                         for i in range(X.shape[1])]\n",
    "    vif['Feature'] = X.columns\n",
    "    return vif"
   ]
  },
  {
   "cell_type": "code",
   "execution_count": 256,
   "id": "8ec147e7-0ee7-40cd-8523-1ddf17a99cdc",
   "metadata": {},
   "outputs": [],
   "source": [
    "vif = feature_engineering_XbyVIF(X)"
   ]
  },
  {
   "cell_type": "code",
   "execution_count": 257,
   "id": "539d576c-b482-4a78-8f35-611bb6870ca6",
   "metadata": {},
   "outputs": [
    {
     "name": "stdout",
     "output_type": "stream",
     "text": [
      "    VIF_Factor  Feature\n",
      "0     1.647380     TRAD\n",
      "1     1.679593  CONCERT\n",
      "2     1.673572      OLD\n",
      "3     1.544639     MART\n",
      "4     1.125528      ART\n",
      "5     1.222836      MUS\n",
      "6     3.047415      MED\n",
      "7     1.601606    SPORT\n",
      "8     1.980331      OWN\n",
      "9     1.738863      JOB\n",
      "10    1.931885   CARROT\n"
     ]
    }
   ],
   "source": [
    "print(vif)"
   ]
  },
  {
   "cell_type": "markdown",
   "id": "8a054d66-57c3-4626-b256-a58a88f1a2f7",
   "metadata": {},
   "source": [
    "- VIF 가 4이상인 경우, 다중공선성이 존재한다고 판단, 변수 제거"
   ]
  },
  {
   "cell_type": "markdown",
   "id": "bb667864-87f9-425b-a9a0-259fc2f4c789",
   "metadata": {
    "tags": []
   },
   "source": [
    "# 모델 학습\n",
    "## Multi-regression"
   ]
  },
  {
   "cell_type": "code",
   "execution_count": 261,
   "id": "a86c5433-a885-4c2f-bef9-199b1496bd1d",
   "metadata": {},
   "outputs": [],
   "source": [
    "model = LinearRegression()"
   ]
  },
  {
   "cell_type": "code",
   "execution_count": 262,
   "id": "6a7aa8ea-4c48-44b3-b357-dc233a271351",
   "metadata": {},
   "outputs": [
    {
     "data": {
      "text/html": [
       "<style>#sk-container-id-6 {color: black;background-color: white;}#sk-container-id-6 pre{padding: 0;}#sk-container-id-6 div.sk-toggleable {background-color: white;}#sk-container-id-6 label.sk-toggleable__label {cursor: pointer;display: block;width: 100%;margin-bottom: 0;padding: 0.3em;box-sizing: border-box;text-align: center;}#sk-container-id-6 label.sk-toggleable__label-arrow:before {content: \"▸\";float: left;margin-right: 0.25em;color: #696969;}#sk-container-id-6 label.sk-toggleable__label-arrow:hover:before {color: black;}#sk-container-id-6 div.sk-estimator:hover label.sk-toggleable__label-arrow:before {color: black;}#sk-container-id-6 div.sk-toggleable__content {max-height: 0;max-width: 0;overflow: hidden;text-align: left;background-color: #f0f8ff;}#sk-container-id-6 div.sk-toggleable__content pre {margin: 0.2em;color: black;border-radius: 0.25em;background-color: #f0f8ff;}#sk-container-id-6 input.sk-toggleable__control:checked~div.sk-toggleable__content {max-height: 200px;max-width: 100%;overflow: auto;}#sk-container-id-6 input.sk-toggleable__control:checked~label.sk-toggleable__label-arrow:before {content: \"▾\";}#sk-container-id-6 div.sk-estimator input.sk-toggleable__control:checked~label.sk-toggleable__label {background-color: #d4ebff;}#sk-container-id-6 div.sk-label input.sk-toggleable__control:checked~label.sk-toggleable__label {background-color: #d4ebff;}#sk-container-id-6 input.sk-hidden--visually {border: 0;clip: rect(1px 1px 1px 1px);clip: rect(1px, 1px, 1px, 1px);height: 1px;margin: -1px;overflow: hidden;padding: 0;position: absolute;width: 1px;}#sk-container-id-6 div.sk-estimator {font-family: monospace;background-color: #f0f8ff;border: 1px dotted black;border-radius: 0.25em;box-sizing: border-box;margin-bottom: 0.5em;}#sk-container-id-6 div.sk-estimator:hover {background-color: #d4ebff;}#sk-container-id-6 div.sk-parallel-item::after {content: \"\";width: 100%;border-bottom: 1px solid gray;flex-grow: 1;}#sk-container-id-6 div.sk-label:hover label.sk-toggleable__label {background-color: #d4ebff;}#sk-container-id-6 div.sk-serial::before {content: \"\";position: absolute;border-left: 1px solid gray;box-sizing: border-box;top: 0;bottom: 0;left: 50%;z-index: 0;}#sk-container-id-6 div.sk-serial {display: flex;flex-direction: column;align-items: center;background-color: white;padding-right: 0.2em;padding-left: 0.2em;position: relative;}#sk-container-id-6 div.sk-item {position: relative;z-index: 1;}#sk-container-id-6 div.sk-parallel {display: flex;align-items: stretch;justify-content: center;background-color: white;position: relative;}#sk-container-id-6 div.sk-item::before, #sk-container-id-6 div.sk-parallel-item::before {content: \"\";position: absolute;border-left: 1px solid gray;box-sizing: border-box;top: 0;bottom: 0;left: 50%;z-index: -1;}#sk-container-id-6 div.sk-parallel-item {display: flex;flex-direction: column;z-index: 1;position: relative;background-color: white;}#sk-container-id-6 div.sk-parallel-item:first-child::after {align-self: flex-end;width: 50%;}#sk-container-id-6 div.sk-parallel-item:last-child::after {align-self: flex-start;width: 50%;}#sk-container-id-6 div.sk-parallel-item:only-child::after {width: 0;}#sk-container-id-6 div.sk-dashed-wrapped {border: 1px dashed gray;margin: 0 0.4em 0.5em 0.4em;box-sizing: border-box;padding-bottom: 0.4em;background-color: white;}#sk-container-id-6 div.sk-label label {font-family: monospace;font-weight: bold;display: inline-block;line-height: 1.2em;}#sk-container-id-6 div.sk-label-container {text-align: center;}#sk-container-id-6 div.sk-container {/* jupyter's `normalize.less` sets `[hidden] { display: none; }` but bootstrap.min.css set `[hidden] { display: none !important; }` so we also need the `!important` here to be able to override the default hidden behavior on the sphinx rendered scikit-learn.org. See: https://github.com/scikit-learn/scikit-learn/issues/21755 */display: inline-block !important;position: relative;}#sk-container-id-6 div.sk-text-repr-fallback {display: none;}</style><div id=\"sk-container-id-6\" class=\"sk-top-container\"><div class=\"sk-text-repr-fallback\"><pre>LinearRegression()</pre><b>In a Jupyter environment, please rerun this cell to show the HTML representation or trust the notebook. <br />On GitHub, the HTML representation is unable to render, please try loading this page with nbviewer.org.</b></div><div class=\"sk-container\" hidden><div class=\"sk-item\"><div class=\"sk-estimator sk-toggleable\"><input class=\"sk-toggleable__control sk-hidden--visually\" id=\"sk-estimator-id-6\" type=\"checkbox\" checked><label for=\"sk-estimator-id-6\" class=\"sk-toggleable__label sk-toggleable__label-arrow\">LinearRegression</label><div class=\"sk-toggleable__content\"><pre>LinearRegression()</pre></div></div></div></div></div>"
      ],
      "text/plain": [
       "LinearRegression()"
      ]
     },
     "execution_count": 262,
     "metadata": {},
     "output_type": "execute_result"
    }
   ],
   "source": [
    "model.fit(X_train, y_train)"
   ]
  },
  {
   "cell_type": "code",
   "execution_count": 263,
   "id": "187b4451-afb1-4713-bc86-1c0b4b03dc18",
   "metadata": {
    "tags": []
   },
   "outputs": [
    {
     "name": "stdout",
     "output_type": "stream",
     "text": [
      "훈련 세트의 정확도 : 0.6127527510379213\n",
      "테스트 세트의 정확도 : 0.7504066618251424\n",
      "사용한 특성의 수 : 10\n"
     ]
    }
   ],
   "source": [
    "print(f'훈련 세트의 정확도 : {model.score(X_train, y_train)}')\n",
    "print(f'테스트 세트의 정확도 : {model.score(X_test, y_test)}')\n",
    "print(f'사용한 특성의 수 : {np.sum(model.coef_ != 0)}')"
   ]
  },
  {
   "cell_type": "code",
   "execution_count": 265,
   "id": "0317148c-6fe1-4a49-ab3a-5d5a65050b56",
   "metadata": {},
   "outputs": [],
   "source": [
    "model_pred = model.predict(X_test)"
   ]
  },
  {
   "cell_type": "code",
   "execution_count": 266,
   "id": "c9598746-e9aa-496e-a4cf-f6ec34e14a9b",
   "metadata": {},
   "outputs": [],
   "source": [
    "residual = y_test - model_pred"
   ]
  },
  {
   "cell_type": "code",
   "execution_count": 267,
   "id": "36b5307c-28c7-4d70-979b-7efb6be3eae8",
   "metadata": {},
   "outputs": [
    {
     "name": "stdout",
     "output_type": "stream",
     "text": [
      "잔차 평균 : 0.023175976601801054\n"
     ]
    }
   ],
   "source": [
    "print(f'잔차 평균 : {np.mean(residual)}')"
   ]
  },
  {
   "cell_type": "code",
   "execution_count": 17,
   "id": "7cfac301-1a7a-4c6c-b062-73a1b88d86bf",
   "metadata": {
    "collapsed": true,
    "jupyter": {
     "outputs_hidden": true
    },
    "tags": []
   },
   "outputs": [
    {
     "data": {
      "text/plain": [
       "<bound method NDFrame.describe of EMD_NM\n",
       "금호동       -0.138953\n",
       "산월동        0.428765\n",
       "동구_산수동    -0.557144\n",
       "지정동       -0.116527\n",
       "산막동       -0.208410\n",
       "문흥동       -1.314941\n",
       "신창동       -1.177900\n",
       "등임동       -0.116527\n",
       "누문동       -0.075606\n",
       "방림동        0.044406\n",
       "학동         0.545463\n",
       "임암동       -0.561552\n",
       "호남동       -0.071186\n",
       "광산구_산수동   -0.208410\n",
       "송하동       -0.190815\n",
       "명화동       -0.162468\n",
       "도산동        0.334622\n",
       "임동        -0.581742\n",
       "신가동       -1.154817\n",
       "칠석동        0.116769\n",
       "소태동        1.306944\n",
       "월남동       -0.259373\n",
       "북구_용두동    -0.161950\n",
       "대지동       -0.024644\n",
       "신장동       -0.024644\n",
       "수완동       -0.493405\n",
       "운남동        0.919883\n",
       "내남동       -0.207291\n",
       "오선동       -0.070585\n",
       "동명동        0.428294\n",
       "대산동        0.024886\n",
       "용강동       -0.024644\n",
       "용동        -0.070585\n",
       "광산구_우산동    1.026569\n",
       "도천동       -0.070585\n",
       "진곡동       -0.070585\n",
       "수기동       -0.075606\n",
       "불로동       -0.024644\n",
       "옥동        -1.095016\n",
       "Name: CHARGE, dtype: float64>"
      ]
     },
     "execution_count": 17,
     "metadata": {},
     "output_type": "execute_result"
    }
   ],
   "source": [
    "residual.describe"
   ]
  },
  {
   "cell_type": "markdown",
   "id": "fc4ec656-96bd-44a9-be07-333dfc7ff692",
   "metadata": {
    "tags": []
   },
   "source": [
    "### 다중선형회귀로 수요 분석"
   ]
  },
  {
   "cell_type": "code",
   "execution_count": 270,
   "id": "38e0fa56-cfdb-4b39-b399-c1f01663e9c9",
   "metadata": {},
   "outputs": [],
   "source": [
    "# 기설치 충전소 개수와 분석 결과로 획득한 수요 개수의 차이 비교\n",
    "true_demand = pd.DataFrame({'수요 분석 결과' : model.predict(X),\n",
    "              '기설치 충전소 개수' : y,\n",
    "              '결과 수요 개수' : model.predict(X) - y})"
   ]
  },
  {
   "cell_type": "code",
   "execution_count": 276,
   "id": "2a1f4fa6-2f4d-496d-af68-4d3e13189484",
   "metadata": {},
   "outputs": [
    {
     "name": "stdout",
     "output_type": "stream",
     "text": [
      "분석 결과 충전소 수요 개수 : 23개\n"
     ]
    }
   ],
   "source": [
    "true_demand_list = true_demand[true_demand['결과 수요 개수'] >= 0.5].sort_values(by='결과 수요 개수')\n",
    "print(f'분석 결과 충전소 수요 개수 : {len(true_demand_list)}개')"
   ]
  },
  {
   "cell_type": "markdown",
   "id": "a4d7df71-6ebc-4c32-80b0-d258275b41b6",
   "metadata": {},
   "source": [
    "#### CHARGE 0개 대상 분석"
   ]
  },
  {
   "cell_type": "code",
   "execution_count": 177,
   "id": "1088f429-9b4d-4111-9aab-e5ea9d428dad",
   "metadata": {},
   "outputs": [],
   "source": [
    "# CHARGE가 0개인 X_test 생성\n",
    "X_test_charge0 = data[data['CHARGE'] == 0].iloc[:, :-1]"
   ]
  },
  {
   "cell_type": "code",
   "execution_count": 183,
   "id": "e48c3206-6a1c-49a6-b59a-da582ce55171",
   "metadata": {},
   "outputs": [],
   "source": [
    "# 생성한 test data 예측 결과 저장\n",
    "y_pred_charge0 = model.predict(X_test_charge0)"
   ]
  },
  {
   "cell_type": "code",
   "execution_count": 187,
   "id": "710e4bc6-4ffb-4d95-9643-4f81fc38bc35",
   "metadata": {},
   "outputs": [],
   "source": [
    "# 동이름만 가져와서 합친 데이터프레임 생성\n",
    "## 예측 결과 -> charge_demand 컬럼의 df 생성\n",
    "y_pred_charge0_df = pd.DataFrame(y_pred_charge0, columns=['charge_demand'])\n",
    "\n",
    "## charge가 0인 동이름 가져와서 df 생성 \n",
    "addr_charge0 = pd.DataFrame(X_test_charge0.index.values, columns=['동이름'])\n",
    "\n",
    "# 동이름과 charge_demand가 합쳐진 df 생성\n",
    "merged_charge0_df = pd.concat([addr_charge0, y_pred_charge0_df], axis=1).set_index('동이름')"
   ]
  },
  {
   "cell_type": "code",
   "execution_count": 188,
   "id": "31e34e2a-2e4f-4ee5-bcfb-3e25c7d54537",
   "metadata": {
    "tags": []
   },
   "outputs": [],
   "source": [
    "# charge_demand가 0.7 이상인 row만 조회, 높은 것부터 조회\n",
    "demand_df_charge0 = merged_charge0_df[merged_charge0_df['charge_demand'] > 0.7].sort_values(by='charge_demand', ascending=False)"
   ]
  },
  {
   "cell_type": "code",
   "execution_count": 189,
   "id": "7bd81131-8612-4cae-a7d4-13577b056e47",
   "metadata": {},
   "outputs": [
    {
     "data": {
      "text/html": [
       "<div>\n",
       "<style scoped>\n",
       "    .dataframe tbody tr th:only-of-type {\n",
       "        vertical-align: middle;\n",
       "    }\n",
       "\n",
       "    .dataframe tbody tr th {\n",
       "        vertical-align: top;\n",
       "    }\n",
       "\n",
       "    .dataframe thead th {\n",
       "        text-align: right;\n",
       "    }\n",
       "</style>\n",
       "<table border=\"1\" class=\"dataframe\">\n",
       "  <thead>\n",
       "    <tr style=\"text-align: right;\">\n",
       "      <th></th>\n",
       "      <th>charge_demand</th>\n",
       "    </tr>\n",
       "    <tr>\n",
       "      <th>동이름</th>\n",
       "      <th></th>\n",
       "    </tr>\n",
       "  </thead>\n",
       "  <tbody>\n",
       "    <tr>\n",
       "      <th>신창동</th>\n",
       "      <td>1.366676</td>\n",
       "    </tr>\n",
       "    <tr>\n",
       "      <th>소촌동</th>\n",
       "      <td>1.362111</td>\n",
       "    </tr>\n",
       "    <tr>\n",
       "      <th>장덕동</th>\n",
       "      <td>1.241581</td>\n",
       "    </tr>\n",
       "    <tr>\n",
       "      <th>운림동</th>\n",
       "      <td>1.208939</td>\n",
       "    </tr>\n",
       "    <tr>\n",
       "      <th>백운동</th>\n",
       "      <td>1.173872</td>\n",
       "    </tr>\n",
       "    <tr>\n",
       "      <th>신가동</th>\n",
       "      <td>1.149810</td>\n",
       "    </tr>\n",
       "    <tr>\n",
       "      <th>옥동</th>\n",
       "      <td>1.079336</td>\n",
       "    </tr>\n",
       "    <tr>\n",
       "      <th>대인동</th>\n",
       "      <td>1.016487</td>\n",
       "    </tr>\n",
       "    <tr>\n",
       "      <th>광천동</th>\n",
       "      <td>0.857934</td>\n",
       "    </tr>\n",
       "    <tr>\n",
       "      <th>서동</th>\n",
       "      <td>0.803850</td>\n",
       "    </tr>\n",
       "    <tr>\n",
       "      <th>문흥동</th>\n",
       "      <td>0.773553</td>\n",
       "    </tr>\n",
       "    <tr>\n",
       "      <th>서창동</th>\n",
       "      <td>0.751334</td>\n",
       "    </tr>\n",
       "  </tbody>\n",
       "</table>\n",
       "</div>"
      ],
      "text/plain": [
       "     charge_demand\n",
       "동이름               \n",
       "신창동       1.366676\n",
       "소촌동       1.362111\n",
       "장덕동       1.241581\n",
       "운림동       1.208939\n",
       "백운동       1.173872\n",
       "신가동       1.149810\n",
       "옥동        1.079336\n",
       "대인동       1.016487\n",
       "광천동       0.857934\n",
       "서동        0.803850\n",
       "문흥동       0.773553\n",
       "서창동       0.751334"
      ]
     },
     "execution_count": 189,
     "metadata": {},
     "output_type": "execute_result"
    }
   ],
   "source": [
    "demand_df_charge0"
   ]
  },
  {
   "cell_type": "code",
   "execution_count": 182,
   "id": "bec39aea-112b-40ba-ae23-9405cb62cece",
   "metadata": {},
   "outputs": [
    {
     "name": "stdout",
     "output_type": "stream",
     "text": [
      "수요 지수가 0.7 이상인 동 : 12\n"
     ]
    }
   ],
   "source": [
    "print(f'수요 지수가 0.7 이상인 동 : {len(demand_df_charge0)}')"
   ]
  },
  {
   "cell_type": "code",
   "execution_count": 190,
   "id": "32085df7-268a-45c5-a8e6-39f164368e04",
   "metadata": {},
   "outputs": [],
   "source": [
    "# demand_df의 인덱스 값이 저장된 리스트 생성\n",
    "demand_list_charge0 = demand_df_charge0.index.values"
   ]
  },
  {
   "cell_type": "code",
   "execution_count": 191,
   "id": "c0ecb7b1-66cf-4ca9-804e-2137d3572718",
   "metadata": {},
   "outputs": [],
   "source": [
    "# concat용 빈 DF 생성\n",
    "merged_df_charge0 = pd.DataFrame()"
   ]
  },
  {
   "cell_type": "code",
   "execution_count": 192,
   "id": "0ff17d2f-d019-43ea-908a-a0e6ffd2a2ee",
   "metadata": {
    "tags": []
   },
   "outputs": [],
   "source": [
    "# 빈 DF에 동이름이 demand_list와 같은 ( charge_demand가 0.7 이상인 ) 데이터들로 이루어진 DF 생성\n",
    "for i in range(len(demand_list_charge0)):\n",
    "    merged_df_charge0 = pd.concat([merged_df_charge0, data.reset_index()[data.reset_index()['EMD_NM'] == demand_list[i]]], axis=0)"
   ]
  },
  {
   "cell_type": "code",
   "execution_count": 193,
   "id": "0ee80c4c-d185-4474-8a4f-9a6540893108",
   "metadata": {},
   "outputs": [],
   "source": [
    "# CHARGE 0개 대상 분석 결과 DF 생성\n",
    "## demand_df가 저장하고 있는 model.predict 값이 실수이므로, merged_df의 dtype을 float64로 변경해야함\n",
    "mlr_charge0_final = pd.concat([merged_df_charge0.set_index('EMD_NM').astype('float64'), demand_df], axis=1)"
   ]
  },
  {
   "cell_type": "code",
   "execution_count": 194,
   "id": "f414c9ef-a466-4cb8-a54e-34095b1d4d39",
   "metadata": {},
   "outputs": [
    {
     "data": {
      "text/html": [
       "<div>\n",
       "<style scoped>\n",
       "    .dataframe tbody tr th:only-of-type {\n",
       "        vertical-align: middle;\n",
       "    }\n",
       "\n",
       "    .dataframe tbody tr th {\n",
       "        vertical-align: top;\n",
       "    }\n",
       "\n",
       "    .dataframe thead th {\n",
       "        text-align: right;\n",
       "    }\n",
       "</style>\n",
       "<table border=\"1\" class=\"dataframe\">\n",
       "  <thead>\n",
       "    <tr style=\"text-align: right;\">\n",
       "      <th></th>\n",
       "      <th>TRAD</th>\n",
       "      <th>CONCERT</th>\n",
       "      <th>OLD</th>\n",
       "      <th>MART</th>\n",
       "      <th>ART</th>\n",
       "      <th>MUS</th>\n",
       "      <th>MED</th>\n",
       "      <th>SPORT</th>\n",
       "      <th>OWN</th>\n",
       "      <th>JOB</th>\n",
       "      <th>CARROT</th>\n",
       "      <th>CHARGE</th>\n",
       "      <th>charge_demand</th>\n",
       "    </tr>\n",
       "  </thead>\n",
       "  <tbody>\n",
       "    <tr>\n",
       "      <th>신창동</th>\n",
       "      <td>0.0</td>\n",
       "      <td>0.0</td>\n",
       "      <td>2.0</td>\n",
       "      <td>0.0</td>\n",
       "      <td>0.0</td>\n",
       "      <td>0.0</td>\n",
       "      <td>3.0</td>\n",
       "      <td>19.0</td>\n",
       "      <td>3.0</td>\n",
       "      <td>50.0</td>\n",
       "      <td>2.0</td>\n",
       "      <td>0.0</td>\n",
       "      <td>1.366676</td>\n",
       "    </tr>\n",
       "    <tr>\n",
       "      <th>소촌동</th>\n",
       "      <td>0.0</td>\n",
       "      <td>0.0</td>\n",
       "      <td>3.0</td>\n",
       "      <td>0.0</td>\n",
       "      <td>0.0</td>\n",
       "      <td>0.0</td>\n",
       "      <td>1.0</td>\n",
       "      <td>15.0</td>\n",
       "      <td>5.0</td>\n",
       "      <td>197.0</td>\n",
       "      <td>1.0</td>\n",
       "      <td>0.0</td>\n",
       "      <td>1.362111</td>\n",
       "    </tr>\n",
       "    <tr>\n",
       "      <th>장덕동</th>\n",
       "      <td>0.0</td>\n",
       "      <td>1.0</td>\n",
       "      <td>0.0</td>\n",
       "      <td>2.0</td>\n",
       "      <td>0.0</td>\n",
       "      <td>0.0</td>\n",
       "      <td>8.0</td>\n",
       "      <td>3.0</td>\n",
       "      <td>0.0</td>\n",
       "      <td>0.0</td>\n",
       "      <td>3.0</td>\n",
       "      <td>0.0</td>\n",
       "      <td>1.241581</td>\n",
       "    </tr>\n",
       "    <tr>\n",
       "      <th>운림동</th>\n",
       "      <td>0.0</td>\n",
       "      <td>0.0</td>\n",
       "      <td>0.0</td>\n",
       "      <td>0.0</td>\n",
       "      <td>4.0</td>\n",
       "      <td>0.0</td>\n",
       "      <td>2.0</td>\n",
       "      <td>11.0</td>\n",
       "      <td>0.0</td>\n",
       "      <td>0.0</td>\n",
       "      <td>0.0</td>\n",
       "      <td>0.0</td>\n",
       "      <td>1.208939</td>\n",
       "    </tr>\n",
       "    <tr>\n",
       "      <th>백운동</th>\n",
       "      <td>0.0</td>\n",
       "      <td>0.0</td>\n",
       "      <td>0.0</td>\n",
       "      <td>0.0</td>\n",
       "      <td>0.0</td>\n",
       "      <td>0.0</td>\n",
       "      <td>6.0</td>\n",
       "      <td>0.0</td>\n",
       "      <td>7.0</td>\n",
       "      <td>45.0</td>\n",
       "      <td>2.0</td>\n",
       "      <td>0.0</td>\n",
       "      <td>1.173872</td>\n",
       "    </tr>\n",
       "    <tr>\n",
       "      <th>신가동</th>\n",
       "      <td>0.0</td>\n",
       "      <td>0.0</td>\n",
       "      <td>0.0</td>\n",
       "      <td>0.0</td>\n",
       "      <td>0.0</td>\n",
       "      <td>0.0</td>\n",
       "      <td>3.0</td>\n",
       "      <td>11.0</td>\n",
       "      <td>3.0</td>\n",
       "      <td>28.0</td>\n",
       "      <td>1.0</td>\n",
       "      <td>0.0</td>\n",
       "      <td>1.149810</td>\n",
       "    </tr>\n",
       "    <tr>\n",
       "      <th>옥동</th>\n",
       "      <td>0.0</td>\n",
       "      <td>0.0</td>\n",
       "      <td>0.0</td>\n",
       "      <td>0.0</td>\n",
       "      <td>0.0</td>\n",
       "      <td>0.0</td>\n",
       "      <td>0.0</td>\n",
       "      <td>3.0</td>\n",
       "      <td>0.0</td>\n",
       "      <td>210.0</td>\n",
       "      <td>1.0</td>\n",
       "      <td>0.0</td>\n",
       "      <td>1.079336</td>\n",
       "    </tr>\n",
       "    <tr>\n",
       "      <th>대인동</th>\n",
       "      <td>1.0</td>\n",
       "      <td>0.0</td>\n",
       "      <td>1.0</td>\n",
       "      <td>1.0</td>\n",
       "      <td>2.0</td>\n",
       "      <td>0.0</td>\n",
       "      <td>2.0</td>\n",
       "      <td>0.0</td>\n",
       "      <td>0.0</td>\n",
       "      <td>0.0</td>\n",
       "      <td>0.0</td>\n",
       "      <td>0.0</td>\n",
       "      <td>1.016487</td>\n",
       "    </tr>\n",
       "    <tr>\n",
       "      <th>광천동</th>\n",
       "      <td>0.0</td>\n",
       "      <td>0.0</td>\n",
       "      <td>1.0</td>\n",
       "      <td>1.0</td>\n",
       "      <td>0.0</td>\n",
       "      <td>0.0</td>\n",
       "      <td>4.0</td>\n",
       "      <td>2.0</td>\n",
       "      <td>3.0</td>\n",
       "      <td>93.0</td>\n",
       "      <td>3.0</td>\n",
       "      <td>0.0</td>\n",
       "      <td>0.857934</td>\n",
       "    </tr>\n",
       "    <tr>\n",
       "      <th>서동</th>\n",
       "      <td>0.0</td>\n",
       "      <td>0.0</td>\n",
       "      <td>1.0</td>\n",
       "      <td>0.0</td>\n",
       "      <td>0.0</td>\n",
       "      <td>0.0</td>\n",
       "      <td>4.0</td>\n",
       "      <td>0.0</td>\n",
       "      <td>3.0</td>\n",
       "      <td>75.0</td>\n",
       "      <td>0.0</td>\n",
       "      <td>0.0</td>\n",
       "      <td>0.803850</td>\n",
       "    </tr>\n",
       "    <tr>\n",
       "      <th>문흥동</th>\n",
       "      <td>0.0</td>\n",
       "      <td>1.0</td>\n",
       "      <td>0.0</td>\n",
       "      <td>0.0</td>\n",
       "      <td>0.0</td>\n",
       "      <td>0.0</td>\n",
       "      <td>1.0</td>\n",
       "      <td>3.0</td>\n",
       "      <td>5.0</td>\n",
       "      <td>26.0</td>\n",
       "      <td>1.0</td>\n",
       "      <td>0.0</td>\n",
       "      <td>0.773553</td>\n",
       "    </tr>\n",
       "    <tr>\n",
       "      <th>서창동</th>\n",
       "      <td>0.0</td>\n",
       "      <td>0.0</td>\n",
       "      <td>1.0</td>\n",
       "      <td>0.0</td>\n",
       "      <td>0.0</td>\n",
       "      <td>0.0</td>\n",
       "      <td>0.0</td>\n",
       "      <td>5.0</td>\n",
       "      <td>0.0</td>\n",
       "      <td>145.0</td>\n",
       "      <td>0.0</td>\n",
       "      <td>0.0</td>\n",
       "      <td>0.751334</td>\n",
       "    </tr>\n",
       "  </tbody>\n",
       "</table>\n",
       "</div>"
      ],
      "text/plain": [
       "     TRAD  CONCERT  OLD  MART  ART  MUS  MED  SPORT  OWN    JOB  CARROT  \\\n",
       "신창동   0.0      0.0  2.0   0.0  0.0  0.0  3.0   19.0  3.0   50.0     2.0   \n",
       "소촌동   0.0      0.0  3.0   0.0  0.0  0.0  1.0   15.0  5.0  197.0     1.0   \n",
       "장덕동   0.0      1.0  0.0   2.0  0.0  0.0  8.0    3.0  0.0    0.0     3.0   \n",
       "운림동   0.0      0.0  0.0   0.0  4.0  0.0  2.0   11.0  0.0    0.0     0.0   \n",
       "백운동   0.0      0.0  0.0   0.0  0.0  0.0  6.0    0.0  7.0   45.0     2.0   \n",
       "신가동   0.0      0.0  0.0   0.0  0.0  0.0  3.0   11.0  3.0   28.0     1.0   \n",
       "옥동    0.0      0.0  0.0   0.0  0.0  0.0  0.0    3.0  0.0  210.0     1.0   \n",
       "대인동   1.0      0.0  1.0   1.0  2.0  0.0  2.0    0.0  0.0    0.0     0.0   \n",
       "광천동   0.0      0.0  1.0   1.0  0.0  0.0  4.0    2.0  3.0   93.0     3.0   \n",
       "서동    0.0      0.0  1.0   0.0  0.0  0.0  4.0    0.0  3.0   75.0     0.0   \n",
       "문흥동   0.0      1.0  0.0   0.0  0.0  0.0  1.0    3.0  5.0   26.0     1.0   \n",
       "서창동   0.0      0.0  1.0   0.0  0.0  0.0  0.0    5.0  0.0  145.0     0.0   \n",
       "\n",
       "     CHARGE  charge_demand  \n",
       "신창동     0.0       1.366676  \n",
       "소촌동     0.0       1.362111  \n",
       "장덕동     0.0       1.241581  \n",
       "운림동     0.0       1.208939  \n",
       "백운동     0.0       1.173872  \n",
       "신가동     0.0       1.149810  \n",
       "옥동      0.0       1.079336  \n",
       "대인동     0.0       1.016487  \n",
       "광천동     0.0       0.857934  \n",
       "서동      0.0       0.803850  \n",
       "문흥동     0.0       0.773553  \n",
       "서창동     0.0       0.751334  "
      ]
     },
     "execution_count": 194,
     "metadata": {},
     "output_type": "execute_result"
    }
   ],
   "source": [
    "mlr_charge0_final"
   ]
  },
  {
   "cell_type": "markdown",
   "id": "4a4784da-eeb6-4d6a-9eb4-214696864463",
   "metadata": {
    "tags": []
   },
   "source": [
    "#### CHARGE 1개 대상 분석"
   ]
  },
  {
   "cell_type": "code",
   "execution_count": 213,
   "id": "02eabc4b-3c78-494a-8e19-0e97a0877301",
   "metadata": {},
   "outputs": [],
   "source": [
    "# CHARGE가 1개인 X_test 생성\n",
    "X_test_charge1 = data[data['CHARGE'] == 1].iloc[:, :-1]"
   ]
  },
  {
   "cell_type": "code",
   "execution_count": 214,
   "id": "f71daa1f-72da-4d88-8899-9b814c8a5ae8",
   "metadata": {},
   "outputs": [],
   "source": [
    "# 생성한 test data 예측 결과 저장\n",
    "y_pred_charge1 = model.predict(X_test_charge1)"
   ]
  },
  {
   "cell_type": "code",
   "execution_count": 215,
   "id": "37fe1345-5f43-4632-b04b-90f7f176bfa9",
   "metadata": {},
   "outputs": [],
   "source": [
    "# 동이름만 가져와서 합친 데이터프레임 생성\n",
    "## 예측 결과 -> charge_demand 컬럼의 df 생성\n",
    "y_pred_charge1_df = pd.DataFrame(y_pred_charge1, columns=['charge_demand'])\n",
    "\n",
    "## charge가 0인 동이름 가져와서 df 생성 \n",
    "addr_charge1 = pd.DataFrame(X_test_charge1.index.values, columns=['동이름'])\n",
    "\n",
    "# 동이름과 charge_demand가 합쳐진 df 생성\n",
    "merged_charge1_df = pd.concat([addr_charge1, y_pred_charge1_df], axis=1).set_index('동이름')"
   ]
  },
  {
   "cell_type": "code",
   "execution_count": 216,
   "id": "d7782b1d-a136-478e-9d60-f98b91202e4c",
   "metadata": {
    "tags": []
   },
   "outputs": [],
   "source": [
    "# charge_demand가 1 이상인 row만 조회, 높은 것부터 조회\n",
    "demand_df_charge1 = merged_charge1_df[merged_charge1_df['charge_demand'] > 1].sort_values(by='charge_demand', ascending=False)"
   ]
  },
  {
   "cell_type": "code",
   "execution_count": 217,
   "id": "7100cefc-afc4-4bf2-8de3-1a8dfd85d3c4",
   "metadata": {},
   "outputs": [
    {
     "data": {
      "text/html": [
       "<div>\n",
       "<style scoped>\n",
       "    .dataframe tbody tr th:only-of-type {\n",
       "        vertical-align: middle;\n",
       "    }\n",
       "\n",
       "    .dataframe tbody tr th {\n",
       "        vertical-align: top;\n",
       "    }\n",
       "\n",
       "    .dataframe thead th {\n",
       "        text-align: right;\n",
       "    }\n",
       "</style>\n",
       "<table border=\"1\" class=\"dataframe\">\n",
       "  <thead>\n",
       "    <tr style=\"text-align: right;\">\n",
       "      <th></th>\n",
       "      <th>charge_demand</th>\n",
       "    </tr>\n",
       "    <tr>\n",
       "      <th>동이름</th>\n",
       "      <th></th>\n",
       "    </tr>\n",
       "  </thead>\n",
       "  <tbody>\n",
       "    <tr>\n",
       "      <th>하남동</th>\n",
       "      <td>2.694794</td>\n",
       "    </tr>\n",
       "    <tr>\n",
       "      <th>수완동</th>\n",
       "      <td>1.989283</td>\n",
       "    </tr>\n",
       "    <tr>\n",
       "      <th>쌍암동</th>\n",
       "      <td>1.533606</td>\n",
       "    </tr>\n",
       "    <tr>\n",
       "      <th>북구_우산동</th>\n",
       "      <td>1.498387</td>\n",
       "    </tr>\n",
       "    <tr>\n",
       "      <th>계림동</th>\n",
       "      <td>1.398483</td>\n",
       "    </tr>\n",
       "    <tr>\n",
       "      <th>진월동</th>\n",
       "      <td>1.195450</td>\n",
       "    </tr>\n",
       "    <tr>\n",
       "      <th>풍향동</th>\n",
       "      <td>1.169096</td>\n",
       "    </tr>\n",
       "    <tr>\n",
       "      <th>오치동</th>\n",
       "      <td>1.166371</td>\n",
       "    </tr>\n",
       "    <tr>\n",
       "      <th>비아동</th>\n",
       "      <td>1.006710</td>\n",
       "    </tr>\n",
       "  </tbody>\n",
       "</table>\n",
       "</div>"
      ],
      "text/plain": [
       "        charge_demand\n",
       "동이름                  \n",
       "하남동          2.694794\n",
       "수완동          1.989283\n",
       "쌍암동          1.533606\n",
       "북구_우산동       1.498387\n",
       "계림동          1.398483\n",
       "진월동          1.195450\n",
       "풍향동          1.169096\n",
       "오치동          1.166371\n",
       "비아동          1.006710"
      ]
     },
     "execution_count": 217,
     "metadata": {},
     "output_type": "execute_result"
    }
   ],
   "source": [
    "demand_df_charge1"
   ]
  },
  {
   "cell_type": "code",
   "execution_count": 219,
   "id": "f01cefce-ae4c-461a-8fe7-724016ba763f",
   "metadata": {},
   "outputs": [
    {
     "name": "stdout",
     "output_type": "stream",
     "text": [
      "수요 지수가 1 이상인 동 : 9\n"
     ]
    }
   ],
   "source": [
    "print(f'수요 지수가 1 이상인 동 : {len(demand_df_charge1)}')"
   ]
  },
  {
   "cell_type": "code",
   "execution_count": 172,
   "id": "fe912320-768c-4847-98e3-cdadd7b82ea0",
   "metadata": {},
   "outputs": [],
   "source": [
    "# demand_df의 인덱스 값이 저장된 리스트 생성\n",
    "demand_list_charge1 = demand_df_charge1.index.values"
   ]
  },
  {
   "cell_type": "code",
   "execution_count": 173,
   "id": "1b3976a5-1e8d-4e56-840a-003376962aed",
   "metadata": {},
   "outputs": [],
   "source": [
    "# concat용 빈 DF 생성\n",
    "merged_df_charge1 = pd.DataFrame()"
   ]
  },
  {
   "cell_type": "code",
   "execution_count": 174,
   "id": "9807c6d6-2dee-4c1a-bbc8-adcd328783a8",
   "metadata": {
    "tags": []
   },
   "outputs": [],
   "source": [
    "# 빈 DF에 동이름이 demand_list와 같은 ( charge_demand가 0.7 이상인 ) 데이터들로 이루어진 DF 생성\n",
    "for i in range(len(demand_list_charge1)):\n",
    "    merged_df_charge1 = pd.concat([merged_df_charge1, data.reset_index()[data.reset_index()['EMD_NM'] == demand_list_charge1[i]]], axis=0)"
   ]
  },
  {
   "cell_type": "code",
   "execution_count": 175,
   "id": "fed4666c-142b-4d53-9b99-5218f5004040",
   "metadata": {},
   "outputs": [],
   "source": [
    "# CHARGE 0개 대상 분석 결과 DF 생성\n",
    "## demand_df가 저장하고 있는 model.predict 값이 실수이므로, merged_df의 dtype을 float64로 변경해야함\n",
    "mlr_charge1_final = pd.concat([merged_df_charge1.set_index('EMD_NM').astype('float64'), demand_df_charge1], axis=1)"
   ]
  },
  {
   "cell_type": "code",
   "execution_count": 220,
   "id": "0b128fef-39bd-4b88-a584-79caddcc31df",
   "metadata": {},
   "outputs": [
    {
     "data": {
      "text/html": [
       "<div>\n",
       "<style scoped>\n",
       "    .dataframe tbody tr th:only-of-type {\n",
       "        vertical-align: middle;\n",
       "    }\n",
       "\n",
       "    .dataframe tbody tr th {\n",
       "        vertical-align: top;\n",
       "    }\n",
       "\n",
       "    .dataframe thead th {\n",
       "        text-align: right;\n",
       "    }\n",
       "</style>\n",
       "<table border=\"1\" class=\"dataframe\">\n",
       "  <thead>\n",
       "    <tr style=\"text-align: right;\">\n",
       "      <th></th>\n",
       "      <th>TRAD</th>\n",
       "      <th>CONCERT</th>\n",
       "      <th>OLD</th>\n",
       "      <th>MART</th>\n",
       "      <th>ART</th>\n",
       "      <th>MUS</th>\n",
       "      <th>MED</th>\n",
       "      <th>SPORT</th>\n",
       "      <th>OWN</th>\n",
       "      <th>JOB</th>\n",
       "      <th>CARROT</th>\n",
       "      <th>CHARGE</th>\n",
       "      <th>charge_demand</th>\n",
       "    </tr>\n",
       "  </thead>\n",
       "  <tbody>\n",
       "    <tr>\n",
       "      <th>하남동</th>\n",
       "      <td>0.0</td>\n",
       "      <td>0.0</td>\n",
       "      <td>0.0</td>\n",
       "      <td>1.0</td>\n",
       "      <td>0.0</td>\n",
       "      <td>0.0</td>\n",
       "      <td>1.0</td>\n",
       "      <td>7.0</td>\n",
       "      <td>14.0</td>\n",
       "      <td>553.0</td>\n",
       "      <td>0.0</td>\n",
       "      <td>1.0</td>\n",
       "      <td>2.694794</td>\n",
       "    </tr>\n",
       "    <tr>\n",
       "      <th>수완동</th>\n",
       "      <td>0.0</td>\n",
       "      <td>0.0</td>\n",
       "      <td>1.0</td>\n",
       "      <td>0.0</td>\n",
       "      <td>0.0</td>\n",
       "      <td>0.0</td>\n",
       "      <td>8.0</td>\n",
       "      <td>9.0</td>\n",
       "      <td>21.0</td>\n",
       "      <td>91.0</td>\n",
       "      <td>0.0</td>\n",
       "      <td>1.0</td>\n",
       "      <td>1.989283</td>\n",
       "    </tr>\n",
       "    <tr>\n",
       "      <th>쌍암동</th>\n",
       "      <td>0.0</td>\n",
       "      <td>1.0</td>\n",
       "      <td>0.0</td>\n",
       "      <td>1.0</td>\n",
       "      <td>0.0</td>\n",
       "      <td>0.0</td>\n",
       "      <td>9.0</td>\n",
       "      <td>4.0</td>\n",
       "      <td>0.0</td>\n",
       "      <td>0.0</td>\n",
       "      <td>0.0</td>\n",
       "      <td>1.0</td>\n",
       "      <td>1.533606</td>\n",
       "    </tr>\n",
       "    <tr>\n",
       "      <th>북구_우산동</th>\n",
       "      <td>1.0</td>\n",
       "      <td>0.0</td>\n",
       "      <td>1.0</td>\n",
       "      <td>0.0</td>\n",
       "      <td>0.0</td>\n",
       "      <td>0.0</td>\n",
       "      <td>2.0</td>\n",
       "      <td>1.0</td>\n",
       "      <td>31.0</td>\n",
       "      <td>23.0</td>\n",
       "      <td>2.0</td>\n",
       "      <td>1.0</td>\n",
       "      <td>1.498387</td>\n",
       "    </tr>\n",
       "    <tr>\n",
       "      <th>계림동</th>\n",
       "      <td>0.0</td>\n",
       "      <td>0.0</td>\n",
       "      <td>1.0</td>\n",
       "      <td>2.0</td>\n",
       "      <td>0.0</td>\n",
       "      <td>0.0</td>\n",
       "      <td>6.0</td>\n",
       "      <td>14.0</td>\n",
       "      <td>12.0</td>\n",
       "      <td>67.0</td>\n",
       "      <td>0.0</td>\n",
       "      <td>1.0</td>\n",
       "      <td>1.398483</td>\n",
       "    </tr>\n",
       "    <tr>\n",
       "      <th>진월동</th>\n",
       "      <td>0.0</td>\n",
       "      <td>0.0</td>\n",
       "      <td>0.0</td>\n",
       "      <td>0.0</td>\n",
       "      <td>0.0</td>\n",
       "      <td>0.0</td>\n",
       "      <td>4.0</td>\n",
       "      <td>2.0</td>\n",
       "      <td>23.0</td>\n",
       "      <td>64.0</td>\n",
       "      <td>1.0</td>\n",
       "      <td>1.0</td>\n",
       "      <td>1.195450</td>\n",
       "    </tr>\n",
       "    <tr>\n",
       "      <th>풍향동</th>\n",
       "      <td>1.0</td>\n",
       "      <td>0.0</td>\n",
       "      <td>0.0</td>\n",
       "      <td>0.0</td>\n",
       "      <td>0.0</td>\n",
       "      <td>1.0</td>\n",
       "      <td>1.0</td>\n",
       "      <td>1.0</td>\n",
       "      <td>3.0</td>\n",
       "      <td>26.0</td>\n",
       "      <td>2.0</td>\n",
       "      <td>1.0</td>\n",
       "      <td>1.169096</td>\n",
       "    </tr>\n",
       "    <tr>\n",
       "      <th>오치동</th>\n",
       "      <td>0.0</td>\n",
       "      <td>0.0</td>\n",
       "      <td>4.0</td>\n",
       "      <td>0.0</td>\n",
       "      <td>0.0</td>\n",
       "      <td>0.0</td>\n",
       "      <td>5.0</td>\n",
       "      <td>0.0</td>\n",
       "      <td>70.0</td>\n",
       "      <td>66.0</td>\n",
       "      <td>2.0</td>\n",
       "      <td>1.0</td>\n",
       "      <td>1.166371</td>\n",
       "    </tr>\n",
       "    <tr>\n",
       "      <th>비아동</th>\n",
       "      <td>1.0</td>\n",
       "      <td>0.0</td>\n",
       "      <td>2.0</td>\n",
       "      <td>0.0</td>\n",
       "      <td>0.0</td>\n",
       "      <td>0.0</td>\n",
       "      <td>0.0</td>\n",
       "      <td>5.0</td>\n",
       "      <td>1.0</td>\n",
       "      <td>36.0</td>\n",
       "      <td>0.0</td>\n",
       "      <td>1.0</td>\n",
       "      <td>1.006710</td>\n",
       "    </tr>\n",
       "    <tr>\n",
       "      <th>신안동</th>\n",
       "      <td>0.0</td>\n",
       "      <td>0.0</td>\n",
       "      <td>2.0</td>\n",
       "      <td>1.0</td>\n",
       "      <td>0.0</td>\n",
       "      <td>0.0</td>\n",
       "      <td>6.0</td>\n",
       "      <td>0.0</td>\n",
       "      <td>6.0</td>\n",
       "      <td>120.0</td>\n",
       "      <td>0.0</td>\n",
       "      <td>1.0</td>\n",
       "      <td>0.960361</td>\n",
       "    </tr>\n",
       "    <tr>\n",
       "      <th>풍암동</th>\n",
       "      <td>0.0</td>\n",
       "      <td>2.0</td>\n",
       "      <td>2.0</td>\n",
       "      <td>2.0</td>\n",
       "      <td>0.0</td>\n",
       "      <td>0.0</td>\n",
       "      <td>2.0</td>\n",
       "      <td>10.0</td>\n",
       "      <td>2.0</td>\n",
       "      <td>31.0</td>\n",
       "      <td>3.0</td>\n",
       "      <td>1.0</td>\n",
       "      <td>0.887360</td>\n",
       "    </tr>\n",
       "    <tr>\n",
       "      <th>북구_양산동</th>\n",
       "      <td>0.0</td>\n",
       "      <td>0.0</td>\n",
       "      <td>4.0</td>\n",
       "      <td>0.0</td>\n",
       "      <td>0.0</td>\n",
       "      <td>0.0</td>\n",
       "      <td>5.0</td>\n",
       "      <td>0.0</td>\n",
       "      <td>9.0</td>\n",
       "      <td>147.0</td>\n",
       "      <td>0.0</td>\n",
       "      <td>1.0</td>\n",
       "      <td>0.881069</td>\n",
       "    </tr>\n",
       "  </tbody>\n",
       "</table>\n",
       "</div>"
      ],
      "text/plain": [
       "        TRAD  CONCERT  OLD  MART  ART  MUS  MED  SPORT   OWN    JOB  CARROT  \\\n",
       "하남동      0.0      0.0  0.0   1.0  0.0  0.0  1.0    7.0  14.0  553.0     0.0   \n",
       "수완동      0.0      0.0  1.0   0.0  0.0  0.0  8.0    9.0  21.0   91.0     0.0   \n",
       "쌍암동      0.0      1.0  0.0   1.0  0.0  0.0  9.0    4.0   0.0    0.0     0.0   \n",
       "북구_우산동   1.0      0.0  1.0   0.0  0.0  0.0  2.0    1.0  31.0   23.0     2.0   \n",
       "계림동      0.0      0.0  1.0   2.0  0.0  0.0  6.0   14.0  12.0   67.0     0.0   \n",
       "진월동      0.0      0.0  0.0   0.0  0.0  0.0  4.0    2.0  23.0   64.0     1.0   \n",
       "풍향동      1.0      0.0  0.0   0.0  0.0  1.0  1.0    1.0   3.0   26.0     2.0   \n",
       "오치동      0.0      0.0  4.0   0.0  0.0  0.0  5.0    0.0  70.0   66.0     2.0   \n",
       "비아동      1.0      0.0  2.0   0.0  0.0  0.0  0.0    5.0   1.0   36.0     0.0   \n",
       "신안동      0.0      0.0  2.0   1.0  0.0  0.0  6.0    0.0   6.0  120.0     0.0   \n",
       "풍암동      0.0      2.0  2.0   2.0  0.0  0.0  2.0   10.0   2.0   31.0     3.0   \n",
       "북구_양산동   0.0      0.0  4.0   0.0  0.0  0.0  5.0    0.0   9.0  147.0     0.0   \n",
       "\n",
       "        CHARGE  charge_demand  \n",
       "하남동        1.0       2.694794  \n",
       "수완동        1.0       1.989283  \n",
       "쌍암동        1.0       1.533606  \n",
       "북구_우산동     1.0       1.498387  \n",
       "계림동        1.0       1.398483  \n",
       "진월동        1.0       1.195450  \n",
       "풍향동        1.0       1.169096  \n",
       "오치동        1.0       1.166371  \n",
       "비아동        1.0       1.006710  \n",
       "신안동        1.0       0.960361  \n",
       "풍암동        1.0       0.887360  \n",
       "북구_양산동     1.0       0.881069  "
      ]
     },
     "execution_count": 220,
     "metadata": {},
     "output_type": "execute_result"
    }
   ],
   "source": [
    "mlr_charge1_final"
   ]
  },
  {
   "cell_type": "code",
   "execution_count": 222,
   "id": "57218cdd-f94f-4fb9-b3f0-5f85b0c225bd",
   "metadata": {},
   "outputs": [],
   "source": [
    "charge_true = mlr_charge1_final['charge_demand'] - mlr_charge1_final['CHARGE']"
   ]
  },
  {
   "cell_type": "code",
   "execution_count": 223,
   "id": "1c871bde-145a-4c06-b3ac-8a57d886f88c",
   "metadata": {},
   "outputs": [
    {
     "data": {
      "text/plain": [
       "하남동       1.694794\n",
       "수완동       0.989283\n",
       "쌍암동       0.533606\n",
       "북구_우산동    0.498387\n",
       "계림동       0.398483\n",
       "진월동       0.195450\n",
       "풍향동       0.169096\n",
       "오치동       0.166371\n",
       "비아동       0.006710\n",
       "신안동      -0.039639\n",
       "풍암동      -0.112640\n",
       "북구_양산동   -0.118931\n",
       "dtype: float64"
      ]
     },
     "execution_count": 223,
     "metadata": {},
     "output_type": "execute_result"
    }
   ],
   "source": [
    "charge_true"
   ]
  },
  {
   "cell_type": "code",
   "execution_count": null,
   "id": "22e9ec23-c04c-4ae1-890c-1d2e6dc4e5d7",
   "metadata": {},
   "outputs": [],
   "source": []
  },
  {
   "cell_type": "markdown",
   "id": "4d4ece8c-77b3-46cb-8435-6d1cce4a2e3c",
   "metadata": {},
   "source": [
    "#### CHARGE 2개 대상 분석"
   ]
  },
  {
   "cell_type": "code",
   "execution_count": 201,
   "id": "bfece0e8-cc35-457a-9e0e-06ec5470bc3f",
   "metadata": {},
   "outputs": [],
   "source": [
    "# CHARGE가 2개인 X_test 생성\n",
    "X_test_charge2 = data[data['CHARGE'] == 2].iloc[:, :-1]"
   ]
  },
  {
   "cell_type": "code",
   "execution_count": 202,
   "id": "f2418aeb-9f34-4b76-a02c-e3ee872b220e",
   "metadata": {},
   "outputs": [],
   "source": [
    "# 생성한 test data 예측 결과 저장\n",
    "y_pred_charge2 = model.predict(X_test_charge2)"
   ]
  },
  {
   "cell_type": "code",
   "execution_count": 203,
   "id": "5ec96f3a-3a65-49ca-baaf-b46122015a5b",
   "metadata": {},
   "outputs": [],
   "source": [
    "# 동이름만 가져와서 합친 데이터프레임 생성\n",
    "## 예측 결과 -> charge_demand 컬럼의 df 생성\n",
    "y_pred_charge2_df = pd.DataFrame(y_pred_charge2, columns=['charge_demand'])\n",
    "\n",
    "## charge가 2인 동이름 가져와서 df 생성 \n",
    "addr_charge2 = pd.DataFrame(X_test_charge2.index.values, columns=['동이름'])\n",
    "\n",
    "# 동이름과 charge_demand가 합쳐진 df 생성\n",
    "merged_charge2_df = pd.concat([addr_charge2, y_pred_charge2_df], axis=1).set_index('동이름')"
   ]
  },
  {
   "cell_type": "code",
   "execution_count": 210,
   "id": "efbb2f3b-3a14-4f71-a0f4-154e0b49c1b9",
   "metadata": {
    "tags": []
   },
   "outputs": [],
   "source": [
    "# charge_demand가 2 이상인 row만 조회, 높은 것부터 조회\n",
    "demand_df_charge2 = merged_charge2_df[merged_charge2_df['charge_demand'] > 2].sort_values(by='charge_demand', ascending=False)"
   ]
  },
  {
   "cell_type": "code",
   "execution_count": 211,
   "id": "94eb4eea-7fb1-43b7-9366-6c72253b916b",
   "metadata": {},
   "outputs": [
    {
     "data": {
      "text/html": [
       "<div>\n",
       "<style scoped>\n",
       "    .dataframe tbody tr th:only-of-type {\n",
       "        vertical-align: middle;\n",
       "    }\n",
       "\n",
       "    .dataframe tbody tr th {\n",
       "        vertical-align: top;\n",
       "    }\n",
       "\n",
       "    .dataframe thead th {\n",
       "        text-align: right;\n",
       "    }\n",
       "</style>\n",
       "<table border=\"1\" class=\"dataframe\">\n",
       "  <thead>\n",
       "    <tr style=\"text-align: right;\">\n",
       "      <th></th>\n",
       "      <th>charge_demand</th>\n",
       "    </tr>\n",
       "    <tr>\n",
       "      <th>동이름</th>\n",
       "      <th></th>\n",
       "    </tr>\n",
       "  </thead>\n",
       "  <tbody>\n",
       "    <tr>\n",
       "      <th>중흥동</th>\n",
       "      <td>2.896384</td>\n",
       "    </tr>\n",
       "    <tr>\n",
       "      <th>북구_용봉동</th>\n",
       "      <td>2.231234</td>\n",
       "    </tr>\n",
       "    <tr>\n",
       "      <th>동구_산수동</th>\n",
       "      <td>2.208711</td>\n",
       "    </tr>\n",
       "    <tr>\n",
       "      <th>봉선동</th>\n",
       "      <td>2.032617</td>\n",
       "    </tr>\n",
       "    <tr>\n",
       "      <th>월계동</th>\n",
       "      <td>2.010492</td>\n",
       "    </tr>\n",
       "  </tbody>\n",
       "</table>\n",
       "</div>"
      ],
      "text/plain": [
       "        charge_demand\n",
       "동이름                  \n",
       "중흥동          2.896384\n",
       "북구_용봉동       2.231234\n",
       "동구_산수동       2.208711\n",
       "봉선동          2.032617\n",
       "월계동          2.010492"
      ]
     },
     "execution_count": 211,
     "metadata": {},
     "output_type": "execute_result"
    }
   ],
   "source": [
    "demand_df_charge2"
   ]
  },
  {
   "cell_type": "code",
   "execution_count": 212,
   "id": "07f75830-4fa4-414f-9bad-10db4a56a1b2",
   "metadata": {},
   "outputs": [
    {
     "name": "stdout",
     "output_type": "stream",
     "text": [
      "수요 지수가 2 이상인 동 : 5\n"
     ]
    }
   ],
   "source": [
    "print(f'수요 지수가 2 이상인 동 : {len(demand_df_charge2)}')"
   ]
  },
  {
   "cell_type": "code",
   "execution_count": 190,
   "id": "9846c3f7-c5f1-428a-9f35-7e9720a68203",
   "metadata": {},
   "outputs": [],
   "source": [
    "# demand_df의 인덱스 값이 저장된 리스트 생성\n",
    "demand_list_charge0 = demand_df_charge0.index.values"
   ]
  },
  {
   "cell_type": "code",
   "execution_count": 191,
   "id": "fbfc4590-40b8-4a0d-bf89-ca5623a40cc5",
   "metadata": {},
   "outputs": [],
   "source": [
    "# concat용 빈 DF 생성\n",
    "merged_df_charge0 = pd.DataFrame()"
   ]
  },
  {
   "cell_type": "code",
   "execution_count": 192,
   "id": "c31c1d4b-06da-4116-bd87-e7181fb1f567",
   "metadata": {
    "tags": []
   },
   "outputs": [],
   "source": [
    "# 빈 DF에 동이름이 demand_list와 같은 ( charge_demand가 0.7 이상인 ) 데이터들로 이루어진 DF 생성\n",
    "for i in range(len(demand_list_charge0)):\n",
    "    merged_df_charge0 = pd.concat([merged_df_charge0, data.reset_index()[data.reset_index()['EMD_NM'] == demand_list[i]]], axis=0)"
   ]
  },
  {
   "cell_type": "code",
   "execution_count": 193,
   "id": "5d3d35e0-01b4-4bb9-a026-d529664f0856",
   "metadata": {},
   "outputs": [],
   "source": [
    "# CHARGE 0개 대상 분석 결과 DF 생성\n",
    "## demand_df가 저장하고 있는 model.predict 값이 실수이므로, merged_df의 dtype을 float64로 변경해야함\n",
    "mlr_charge0_final = pd.concat([merged_df_charge0.set_index('EMD_NM').astype('float64'), demand_df], axis=1)"
   ]
  },
  {
   "cell_type": "code",
   "execution_count": 194,
   "id": "c68203cf-4caf-4ecc-8461-42ae536a724b",
   "metadata": {},
   "outputs": [
    {
     "data": {
      "text/html": [
       "<div>\n",
       "<style scoped>\n",
       "    .dataframe tbody tr th:only-of-type {\n",
       "        vertical-align: middle;\n",
       "    }\n",
       "\n",
       "    .dataframe tbody tr th {\n",
       "        vertical-align: top;\n",
       "    }\n",
       "\n",
       "    .dataframe thead th {\n",
       "        text-align: right;\n",
       "    }\n",
       "</style>\n",
       "<table border=\"1\" class=\"dataframe\">\n",
       "  <thead>\n",
       "    <tr style=\"text-align: right;\">\n",
       "      <th></th>\n",
       "      <th>TRAD</th>\n",
       "      <th>CONCERT</th>\n",
       "      <th>OLD</th>\n",
       "      <th>MART</th>\n",
       "      <th>ART</th>\n",
       "      <th>MUS</th>\n",
       "      <th>MED</th>\n",
       "      <th>SPORT</th>\n",
       "      <th>OWN</th>\n",
       "      <th>JOB</th>\n",
       "      <th>CARROT</th>\n",
       "      <th>CHARGE</th>\n",
       "      <th>charge_demand</th>\n",
       "    </tr>\n",
       "  </thead>\n",
       "  <tbody>\n",
       "    <tr>\n",
       "      <th>신창동</th>\n",
       "      <td>0.0</td>\n",
       "      <td>0.0</td>\n",
       "      <td>2.0</td>\n",
       "      <td>0.0</td>\n",
       "      <td>0.0</td>\n",
       "      <td>0.0</td>\n",
       "      <td>3.0</td>\n",
       "      <td>19.0</td>\n",
       "      <td>3.0</td>\n",
       "      <td>50.0</td>\n",
       "      <td>2.0</td>\n",
       "      <td>0.0</td>\n",
       "      <td>1.366676</td>\n",
       "    </tr>\n",
       "    <tr>\n",
       "      <th>소촌동</th>\n",
       "      <td>0.0</td>\n",
       "      <td>0.0</td>\n",
       "      <td>3.0</td>\n",
       "      <td>0.0</td>\n",
       "      <td>0.0</td>\n",
       "      <td>0.0</td>\n",
       "      <td>1.0</td>\n",
       "      <td>15.0</td>\n",
       "      <td>5.0</td>\n",
       "      <td>197.0</td>\n",
       "      <td>1.0</td>\n",
       "      <td>0.0</td>\n",
       "      <td>1.362111</td>\n",
       "    </tr>\n",
       "    <tr>\n",
       "      <th>장덕동</th>\n",
       "      <td>0.0</td>\n",
       "      <td>1.0</td>\n",
       "      <td>0.0</td>\n",
       "      <td>2.0</td>\n",
       "      <td>0.0</td>\n",
       "      <td>0.0</td>\n",
       "      <td>8.0</td>\n",
       "      <td>3.0</td>\n",
       "      <td>0.0</td>\n",
       "      <td>0.0</td>\n",
       "      <td>3.0</td>\n",
       "      <td>0.0</td>\n",
       "      <td>1.241581</td>\n",
       "    </tr>\n",
       "    <tr>\n",
       "      <th>운림동</th>\n",
       "      <td>0.0</td>\n",
       "      <td>0.0</td>\n",
       "      <td>0.0</td>\n",
       "      <td>0.0</td>\n",
       "      <td>4.0</td>\n",
       "      <td>0.0</td>\n",
       "      <td>2.0</td>\n",
       "      <td>11.0</td>\n",
       "      <td>0.0</td>\n",
       "      <td>0.0</td>\n",
       "      <td>0.0</td>\n",
       "      <td>0.0</td>\n",
       "      <td>1.208939</td>\n",
       "    </tr>\n",
       "    <tr>\n",
       "      <th>백운동</th>\n",
       "      <td>0.0</td>\n",
       "      <td>0.0</td>\n",
       "      <td>0.0</td>\n",
       "      <td>0.0</td>\n",
       "      <td>0.0</td>\n",
       "      <td>0.0</td>\n",
       "      <td>6.0</td>\n",
       "      <td>0.0</td>\n",
       "      <td>7.0</td>\n",
       "      <td>45.0</td>\n",
       "      <td>2.0</td>\n",
       "      <td>0.0</td>\n",
       "      <td>1.173872</td>\n",
       "    </tr>\n",
       "    <tr>\n",
       "      <th>신가동</th>\n",
       "      <td>0.0</td>\n",
       "      <td>0.0</td>\n",
       "      <td>0.0</td>\n",
       "      <td>0.0</td>\n",
       "      <td>0.0</td>\n",
       "      <td>0.0</td>\n",
       "      <td>3.0</td>\n",
       "      <td>11.0</td>\n",
       "      <td>3.0</td>\n",
       "      <td>28.0</td>\n",
       "      <td>1.0</td>\n",
       "      <td>0.0</td>\n",
       "      <td>1.149810</td>\n",
       "    </tr>\n",
       "    <tr>\n",
       "      <th>옥동</th>\n",
       "      <td>0.0</td>\n",
       "      <td>0.0</td>\n",
       "      <td>0.0</td>\n",
       "      <td>0.0</td>\n",
       "      <td>0.0</td>\n",
       "      <td>0.0</td>\n",
       "      <td>0.0</td>\n",
       "      <td>3.0</td>\n",
       "      <td>0.0</td>\n",
       "      <td>210.0</td>\n",
       "      <td>1.0</td>\n",
       "      <td>0.0</td>\n",
       "      <td>1.079336</td>\n",
       "    </tr>\n",
       "    <tr>\n",
       "      <th>대인동</th>\n",
       "      <td>1.0</td>\n",
       "      <td>0.0</td>\n",
       "      <td>1.0</td>\n",
       "      <td>1.0</td>\n",
       "      <td>2.0</td>\n",
       "      <td>0.0</td>\n",
       "      <td>2.0</td>\n",
       "      <td>0.0</td>\n",
       "      <td>0.0</td>\n",
       "      <td>0.0</td>\n",
       "      <td>0.0</td>\n",
       "      <td>0.0</td>\n",
       "      <td>1.016487</td>\n",
       "    </tr>\n",
       "    <tr>\n",
       "      <th>광천동</th>\n",
       "      <td>0.0</td>\n",
       "      <td>0.0</td>\n",
       "      <td>1.0</td>\n",
       "      <td>1.0</td>\n",
       "      <td>0.0</td>\n",
       "      <td>0.0</td>\n",
       "      <td>4.0</td>\n",
       "      <td>2.0</td>\n",
       "      <td>3.0</td>\n",
       "      <td>93.0</td>\n",
       "      <td>3.0</td>\n",
       "      <td>0.0</td>\n",
       "      <td>0.857934</td>\n",
       "    </tr>\n",
       "    <tr>\n",
       "      <th>서동</th>\n",
       "      <td>0.0</td>\n",
       "      <td>0.0</td>\n",
       "      <td>1.0</td>\n",
       "      <td>0.0</td>\n",
       "      <td>0.0</td>\n",
       "      <td>0.0</td>\n",
       "      <td>4.0</td>\n",
       "      <td>0.0</td>\n",
       "      <td>3.0</td>\n",
       "      <td>75.0</td>\n",
       "      <td>0.0</td>\n",
       "      <td>0.0</td>\n",
       "      <td>0.803850</td>\n",
       "    </tr>\n",
       "    <tr>\n",
       "      <th>문흥동</th>\n",
       "      <td>0.0</td>\n",
       "      <td>1.0</td>\n",
       "      <td>0.0</td>\n",
       "      <td>0.0</td>\n",
       "      <td>0.0</td>\n",
       "      <td>0.0</td>\n",
       "      <td>1.0</td>\n",
       "      <td>3.0</td>\n",
       "      <td>5.0</td>\n",
       "      <td>26.0</td>\n",
       "      <td>1.0</td>\n",
       "      <td>0.0</td>\n",
       "      <td>0.773553</td>\n",
       "    </tr>\n",
       "    <tr>\n",
       "      <th>서창동</th>\n",
       "      <td>0.0</td>\n",
       "      <td>0.0</td>\n",
       "      <td>1.0</td>\n",
       "      <td>0.0</td>\n",
       "      <td>0.0</td>\n",
       "      <td>0.0</td>\n",
       "      <td>0.0</td>\n",
       "      <td>5.0</td>\n",
       "      <td>0.0</td>\n",
       "      <td>145.0</td>\n",
       "      <td>0.0</td>\n",
       "      <td>0.0</td>\n",
       "      <td>0.751334</td>\n",
       "    </tr>\n",
       "  </tbody>\n",
       "</table>\n",
       "</div>"
      ],
      "text/plain": [
       "     TRAD  CONCERT  OLD  MART  ART  MUS  MED  SPORT  OWN    JOB  CARROT  \\\n",
       "신창동   0.0      0.0  2.0   0.0  0.0  0.0  3.0   19.0  3.0   50.0     2.0   \n",
       "소촌동   0.0      0.0  3.0   0.0  0.0  0.0  1.0   15.0  5.0  197.0     1.0   \n",
       "장덕동   0.0      1.0  0.0   2.0  0.0  0.0  8.0    3.0  0.0    0.0     3.0   \n",
       "운림동   0.0      0.0  0.0   0.0  4.0  0.0  2.0   11.0  0.0    0.0     0.0   \n",
       "백운동   0.0      0.0  0.0   0.0  0.0  0.0  6.0    0.0  7.0   45.0     2.0   \n",
       "신가동   0.0      0.0  0.0   0.0  0.0  0.0  3.0   11.0  3.0   28.0     1.0   \n",
       "옥동    0.0      0.0  0.0   0.0  0.0  0.0  0.0    3.0  0.0  210.0     1.0   \n",
       "대인동   1.0      0.0  1.0   1.0  2.0  0.0  2.0    0.0  0.0    0.0     0.0   \n",
       "광천동   0.0      0.0  1.0   1.0  0.0  0.0  4.0    2.0  3.0   93.0     3.0   \n",
       "서동    0.0      0.0  1.0   0.0  0.0  0.0  4.0    0.0  3.0   75.0     0.0   \n",
       "문흥동   0.0      1.0  0.0   0.0  0.0  0.0  1.0    3.0  5.0   26.0     1.0   \n",
       "서창동   0.0      0.0  1.0   0.0  0.0  0.0  0.0    5.0  0.0  145.0     0.0   \n",
       "\n",
       "     CHARGE  charge_demand  \n",
       "신창동     0.0       1.366676  \n",
       "소촌동     0.0       1.362111  \n",
       "장덕동     0.0       1.241581  \n",
       "운림동     0.0       1.208939  \n",
       "백운동     0.0       1.173872  \n",
       "신가동     0.0       1.149810  \n",
       "옥동      0.0       1.079336  \n",
       "대인동     0.0       1.016487  \n",
       "광천동     0.0       0.857934  \n",
       "서동      0.0       0.803850  \n",
       "문흥동     0.0       0.773553  \n",
       "서창동     0.0       0.751334  "
      ]
     },
     "execution_count": 194,
     "metadata": {},
     "output_type": "execute_result"
    }
   ],
   "source": [
    "mlr_charge0_final"
   ]
  },
  {
   "cell_type": "markdown",
   "id": "d85eb20b-c0a8-46d2-b0e9-b83bf31534b6",
   "metadata": {},
   "source": [
    "## Lasso"
   ]
  },
  {
   "cell_type": "code",
   "execution_count": 460,
   "id": "ddc29644-dd45-4a04-9d6f-28dc9d7990f9",
   "metadata": {},
   "outputs": [],
   "source": [
    "lasso = Lasso(alpha=0.5).fit(X_train, y_train)"
   ]
  },
  {
   "cell_type": "code",
   "execution_count": 461,
   "id": "efbb645a-6bf6-49e7-b4c3-a41c181490f4",
   "metadata": {},
   "outputs": [
    {
     "name": "stdout",
     "output_type": "stream",
     "text": [
      "훈련 세트의 정확도 : 0.24329580333680434\n",
      "테스트 세트의 정확도 : 0.1758055053788683\n",
      "사용한 특성의 수 : 2\n",
      "사용한 max_iter : 13\n"
     ]
    }
   ],
   "source": [
    "print(f'훈련 세트의 정확도 : {lasso.score(X_train, y_train)}')\n",
    "print(f'테스트 세트의 정확도 : {lasso.score(X_test, y_test)}')\n",
    "print(\"사용한 특성의 수 : {}\".format(np.sum(lasso.coef_ != 0)))\n",
    "print(\"사용한 max_iter : {}\".format(lasso.n_iter_))"
   ]
  },
  {
   "cell_type": "code",
   "execution_count": 462,
   "id": "2d000627-c916-4301-a4cf-47a5537e3089",
   "metadata": {},
   "outputs": [
    {
     "data": {
      "text/plain": [
       "array([0.        , 0.        , 0.        , 0.        , 0.        ,\n",
       "       0.        , 0.        , 0.08087892, 0.12365883, 0.        ])"
      ]
     },
     "execution_count": 462,
     "metadata": {},
     "output_type": "execute_result"
    }
   ],
   "source": [
    "lasso.coef_"
   ]
  },
  {
   "cell_type": "code",
   "execution_count": 463,
   "id": "ea3ad0be-c420-4208-8757-f1de30ccd029",
   "metadata": {},
   "outputs": [],
   "source": [
    "lasso_pred = lasso.predict(X_test)"
   ]
  },
  {
   "cell_type": "code",
   "execution_count": 464,
   "id": "3f7083df-8728-4b51-ba20-43c8c1aee14f",
   "metadata": {},
   "outputs": [],
   "source": [
    "lasso_residual = y_test - lasso_pred"
   ]
  },
  {
   "cell_type": "code",
   "execution_count": 465,
   "id": "476c3377-5d49-4674-96fd-2a447f970acf",
   "metadata": {},
   "outputs": [
    {
     "name": "stdout",
     "output_type": "stream",
     "text": [
      "잔차 평균 : -0.01589640753475624\n"
     ]
    }
   ],
   "source": [
    "print(f'잔차 평균 : {np.mean(lasso_residual)}')"
   ]
  },
  {
   "cell_type": "markdown",
   "id": "55097e9c-833d-4d9c-984a-6cb48f911188",
   "metadata": {},
   "source": [
    "## Ridge"
   ]
  },
  {
   "cell_type": "code",
   "execution_count": 466,
   "id": "85be665e-e656-43de-9895-ca47da8fbaa7",
   "metadata": {
    "tags": []
   },
   "outputs": [],
   "source": [
    "ridge = Ridge().fit(X_train, y_train)"
   ]
  },
  {
   "cell_type": "code",
   "execution_count": 467,
   "id": "3b93f647-c1e4-4d54-8252-9601523c8d56",
   "metadata": {},
   "outputs": [
    {
     "data": {
      "text/plain": [
       "array([ 0.24279343,  0.09682852, -0.05347755, -0.0780145 ,  0.1211747 ,\n",
       "        0.05079663,  0.00879208,  0.27918559,  0.20999556,  0.21543439])"
      ]
     },
     "execution_count": 467,
     "metadata": {},
     "output_type": "execute_result"
    }
   ],
   "source": [
    "ridge.coef_"
   ]
  },
  {
   "cell_type": "code",
   "execution_count": 468,
   "id": "c1492589-12d0-4317-be88-2cb9b3b6aac4",
   "metadata": {
    "tags": []
   },
   "outputs": [
    {
     "name": "stdout",
     "output_type": "stream",
     "text": [
      "훈련 세트의 정확도 : 0.6198800276700462\n",
      "테스트 세트의 정확도 : 0.7195093628885234\n",
      "사용한 특성의 수 : 10\n",
      "사용한 max_iter : None\n"
     ]
    }
   ],
   "source": [
    "print(f'훈련 세트의 정확도 : {ridge.score(X_train, y_train)}')\n",
    "print(f'테스트 세트의 정확도 : {ridge.score(X_test, y_test)}')\n",
    "print(\"사용한 특성의 수 : {}\".format(np.sum(ridge.coef_ != 0)))\n",
    "print(\"사용한 max_iter : {}\".format(ridge.n_iter_))"
   ]
  },
  {
   "cell_type": "code",
   "execution_count": 469,
   "id": "37394b8f-2521-4bf2-ad35-8f95af875e70",
   "metadata": {},
   "outputs": [],
   "source": [
    "# 예측 데이터 도출\n",
    "y_pred = ridge.predict(X_test)"
   ]
  },
  {
   "cell_type": "code",
   "execution_count": 470,
   "id": "6a5613a1-5f45-42a9-af4b-c89c3ec90694",
   "metadata": {},
   "outputs": [],
   "source": [
    "# 타겟 데이터와 예측 데이터 사이의 잔차 계산\n",
    "ridge_residual = y_test - y_pred"
   ]
  },
  {
   "cell_type": "code",
   "execution_count": 471,
   "id": "1e38e54a-691f-4479-9fc1-d21246e843c9",
   "metadata": {},
   "outputs": [
    {
     "name": "stdout",
     "output_type": "stream",
     "text": [
      "잔차 평균 : -0.12937830804379777\n"
     ]
    }
   ],
   "source": [
    "print(f'잔차 평균 : {np.mean(ridge_residual)}')"
   ]
  },
  {
   "cell_type": "code",
   "execution_count": 472,
   "id": "529d10b4-4cb8-4f85-a94f-60db75dfb3a2",
   "metadata": {},
   "outputs": [
    {
     "data": {
      "text/plain": [
       "0.7748133112598596"
      ]
     },
     "execution_count": 472,
     "metadata": {},
     "output_type": "execute_result"
    }
   ],
   "source": [
    "# R2 제곱 ( = 정확도, 결정계수 )\n",
    "from sklearn.metrics import r2_score\n",
    "r2_score(y_test, ridge_pred, sample_weight=None, multioutput='uniform_average')"
   ]
  },
  {
   "cell_type": "markdown",
   "id": "642c2511-b94b-44a3-afc3-d52616068f7e",
   "metadata": {},
   "source": [
    "## Elastic Net"
   ]
  },
  {
   "cell_type": "code",
   "execution_count": 343,
   "id": "9a4166a4-9fab-42ea-938b-aa750b837162",
   "metadata": {},
   "outputs": [
    {
     "data": {
      "text/html": [
       "<style>#sk-container-id-38 {color: black;background-color: white;}#sk-container-id-38 pre{padding: 0;}#sk-container-id-38 div.sk-toggleable {background-color: white;}#sk-container-id-38 label.sk-toggleable__label {cursor: pointer;display: block;width: 100%;margin-bottom: 0;padding: 0.3em;box-sizing: border-box;text-align: center;}#sk-container-id-38 label.sk-toggleable__label-arrow:before {content: \"▸\";float: left;margin-right: 0.25em;color: #696969;}#sk-container-id-38 label.sk-toggleable__label-arrow:hover:before {color: black;}#sk-container-id-38 div.sk-estimator:hover label.sk-toggleable__label-arrow:before {color: black;}#sk-container-id-38 div.sk-toggleable__content {max-height: 0;max-width: 0;overflow: hidden;text-align: left;background-color: #f0f8ff;}#sk-container-id-38 div.sk-toggleable__content pre {margin: 0.2em;color: black;border-radius: 0.25em;background-color: #f0f8ff;}#sk-container-id-38 input.sk-toggleable__control:checked~div.sk-toggleable__content {max-height: 200px;max-width: 100%;overflow: auto;}#sk-container-id-38 input.sk-toggleable__control:checked~label.sk-toggleable__label-arrow:before {content: \"▾\";}#sk-container-id-38 div.sk-estimator input.sk-toggleable__control:checked~label.sk-toggleable__label {background-color: #d4ebff;}#sk-container-id-38 div.sk-label input.sk-toggleable__control:checked~label.sk-toggleable__label {background-color: #d4ebff;}#sk-container-id-38 input.sk-hidden--visually {border: 0;clip: rect(1px 1px 1px 1px);clip: rect(1px, 1px, 1px, 1px);height: 1px;margin: -1px;overflow: hidden;padding: 0;position: absolute;width: 1px;}#sk-container-id-38 div.sk-estimator {font-family: monospace;background-color: #f0f8ff;border: 1px dotted black;border-radius: 0.25em;box-sizing: border-box;margin-bottom: 0.5em;}#sk-container-id-38 div.sk-estimator:hover {background-color: #d4ebff;}#sk-container-id-38 div.sk-parallel-item::after {content: \"\";width: 100%;border-bottom: 1px solid gray;flex-grow: 1;}#sk-container-id-38 div.sk-label:hover label.sk-toggleable__label {background-color: #d4ebff;}#sk-container-id-38 div.sk-serial::before {content: \"\";position: absolute;border-left: 1px solid gray;box-sizing: border-box;top: 0;bottom: 0;left: 50%;z-index: 0;}#sk-container-id-38 div.sk-serial {display: flex;flex-direction: column;align-items: center;background-color: white;padding-right: 0.2em;padding-left: 0.2em;position: relative;}#sk-container-id-38 div.sk-item {position: relative;z-index: 1;}#sk-container-id-38 div.sk-parallel {display: flex;align-items: stretch;justify-content: center;background-color: white;position: relative;}#sk-container-id-38 div.sk-item::before, #sk-container-id-38 div.sk-parallel-item::before {content: \"\";position: absolute;border-left: 1px solid gray;box-sizing: border-box;top: 0;bottom: 0;left: 50%;z-index: -1;}#sk-container-id-38 div.sk-parallel-item {display: flex;flex-direction: column;z-index: 1;position: relative;background-color: white;}#sk-container-id-38 div.sk-parallel-item:first-child::after {align-self: flex-end;width: 50%;}#sk-container-id-38 div.sk-parallel-item:last-child::after {align-self: flex-start;width: 50%;}#sk-container-id-38 div.sk-parallel-item:only-child::after {width: 0;}#sk-container-id-38 div.sk-dashed-wrapped {border: 1px dashed gray;margin: 0 0.4em 0.5em 0.4em;box-sizing: border-box;padding-bottom: 0.4em;background-color: white;}#sk-container-id-38 div.sk-label label {font-family: monospace;font-weight: bold;display: inline-block;line-height: 1.2em;}#sk-container-id-38 div.sk-label-container {text-align: center;}#sk-container-id-38 div.sk-container {/* jupyter's `normalize.less` sets `[hidden] { display: none; }` but bootstrap.min.css set `[hidden] { display: none !important; }` so we also need the `!important` here to be able to override the default hidden behavior on the sphinx rendered scikit-learn.org. See: https://github.com/scikit-learn/scikit-learn/issues/21755 */display: inline-block !important;position: relative;}#sk-container-id-38 div.sk-text-repr-fallback {display: none;}</style><div id=\"sk-container-id-38\" class=\"sk-top-container\"><div class=\"sk-text-repr-fallback\"><pre>ElasticNet(alpha=0.5)</pre><b>In a Jupyter environment, please rerun this cell to show the HTML representation or trust the notebook. <br />On GitHub, the HTML representation is unable to render, please try loading this page with nbviewer.org.</b></div><div class=\"sk-container\" hidden><div class=\"sk-item\"><div class=\"sk-estimator sk-toggleable\"><input class=\"sk-toggleable__control sk-hidden--visually\" id=\"sk-estimator-id-38\" type=\"checkbox\" checked><label for=\"sk-estimator-id-38\" class=\"sk-toggleable__label sk-toggleable__label-arrow\">ElasticNet</label><div class=\"sk-toggleable__content\"><pre>ElasticNet(alpha=0.5)</pre></div></div></div></div></div>"
      ],
      "text/plain": [
       "ElasticNet(alpha=0.5)"
      ]
     },
     "execution_count": 343,
     "metadata": {},
     "output_type": "execute_result"
    }
   ],
   "source": [
    "from sklearn.linear_model import ElasticNet\n",
    "\n",
    "EN = ElasticNet(alpha=0.5)\n",
    "EN.fit(X_train, y_train)"
   ]
  },
  {
   "cell_type": "code",
   "execution_count": 344,
   "id": "827ab6e3-9e23-48b0-b383-a26520650955",
   "metadata": {},
   "outputs": [
    {
     "name": "stdout",
     "output_type": "stream",
     "text": [
      "train data의 정확도 : 0.0\n",
      "test data의 정확도 : -0.00015650808271461258\n",
      "ElasticNet의 정확도 : -6.510938304504776e-06\n"
     ]
    }
   ],
   "source": [
    "print(f'train data의 정확도 : {EN.score(X_train, y_train)}')\n",
    "print(f'test data의 정확도 : {EN.score(X_test, y_test)}')\n",
    "print(f'ElasticNet의 정확도 : {EN.score(X, y)}')"
   ]
  },
  {
   "cell_type": "markdown",
   "id": "2c82fabc-1abb-43dd-a300-476bb779999c",
   "metadata": {
    "tags": []
   },
   "source": [
    "## 그 외 회귀모델\n",
    "### GradientBoostingRegressor ( Ensemble )"
   ]
  },
  {
   "cell_type": "code",
   "execution_count": 345,
   "id": "2272feef-0dfa-48d5-ab36-06fd01a79f15",
   "metadata": {},
   "outputs": [
    {
     "data": {
      "text/html": [
       "<style>#sk-container-id-39 {color: black;background-color: white;}#sk-container-id-39 pre{padding: 0;}#sk-container-id-39 div.sk-toggleable {background-color: white;}#sk-container-id-39 label.sk-toggleable__label {cursor: pointer;display: block;width: 100%;margin-bottom: 0;padding: 0.3em;box-sizing: border-box;text-align: center;}#sk-container-id-39 label.sk-toggleable__label-arrow:before {content: \"▸\";float: left;margin-right: 0.25em;color: #696969;}#sk-container-id-39 label.sk-toggleable__label-arrow:hover:before {color: black;}#sk-container-id-39 div.sk-estimator:hover label.sk-toggleable__label-arrow:before {color: black;}#sk-container-id-39 div.sk-toggleable__content {max-height: 0;max-width: 0;overflow: hidden;text-align: left;background-color: #f0f8ff;}#sk-container-id-39 div.sk-toggleable__content pre {margin: 0.2em;color: black;border-radius: 0.25em;background-color: #f0f8ff;}#sk-container-id-39 input.sk-toggleable__control:checked~div.sk-toggleable__content {max-height: 200px;max-width: 100%;overflow: auto;}#sk-container-id-39 input.sk-toggleable__control:checked~label.sk-toggleable__label-arrow:before {content: \"▾\";}#sk-container-id-39 div.sk-estimator input.sk-toggleable__control:checked~label.sk-toggleable__label {background-color: #d4ebff;}#sk-container-id-39 div.sk-label input.sk-toggleable__control:checked~label.sk-toggleable__label {background-color: #d4ebff;}#sk-container-id-39 input.sk-hidden--visually {border: 0;clip: rect(1px 1px 1px 1px);clip: rect(1px, 1px, 1px, 1px);height: 1px;margin: -1px;overflow: hidden;padding: 0;position: absolute;width: 1px;}#sk-container-id-39 div.sk-estimator {font-family: monospace;background-color: #f0f8ff;border: 1px dotted black;border-radius: 0.25em;box-sizing: border-box;margin-bottom: 0.5em;}#sk-container-id-39 div.sk-estimator:hover {background-color: #d4ebff;}#sk-container-id-39 div.sk-parallel-item::after {content: \"\";width: 100%;border-bottom: 1px solid gray;flex-grow: 1;}#sk-container-id-39 div.sk-label:hover label.sk-toggleable__label {background-color: #d4ebff;}#sk-container-id-39 div.sk-serial::before {content: \"\";position: absolute;border-left: 1px solid gray;box-sizing: border-box;top: 0;bottom: 0;left: 50%;z-index: 0;}#sk-container-id-39 div.sk-serial {display: flex;flex-direction: column;align-items: center;background-color: white;padding-right: 0.2em;padding-left: 0.2em;position: relative;}#sk-container-id-39 div.sk-item {position: relative;z-index: 1;}#sk-container-id-39 div.sk-parallel {display: flex;align-items: stretch;justify-content: center;background-color: white;position: relative;}#sk-container-id-39 div.sk-item::before, #sk-container-id-39 div.sk-parallel-item::before {content: \"\";position: absolute;border-left: 1px solid gray;box-sizing: border-box;top: 0;bottom: 0;left: 50%;z-index: -1;}#sk-container-id-39 div.sk-parallel-item {display: flex;flex-direction: column;z-index: 1;position: relative;background-color: white;}#sk-container-id-39 div.sk-parallel-item:first-child::after {align-self: flex-end;width: 50%;}#sk-container-id-39 div.sk-parallel-item:last-child::after {align-self: flex-start;width: 50%;}#sk-container-id-39 div.sk-parallel-item:only-child::after {width: 0;}#sk-container-id-39 div.sk-dashed-wrapped {border: 1px dashed gray;margin: 0 0.4em 0.5em 0.4em;box-sizing: border-box;padding-bottom: 0.4em;background-color: white;}#sk-container-id-39 div.sk-label label {font-family: monospace;font-weight: bold;display: inline-block;line-height: 1.2em;}#sk-container-id-39 div.sk-label-container {text-align: center;}#sk-container-id-39 div.sk-container {/* jupyter's `normalize.less` sets `[hidden] { display: none; }` but bootstrap.min.css set `[hidden] { display: none !important; }` so we also need the `!important` here to be able to override the default hidden behavior on the sphinx rendered scikit-learn.org. See: https://github.com/scikit-learn/scikit-learn/issues/21755 */display: inline-block !important;position: relative;}#sk-container-id-39 div.sk-text-repr-fallback {display: none;}</style><div id=\"sk-container-id-39\" class=\"sk-top-container\"><div class=\"sk-text-repr-fallback\"><pre>GradientBoostingRegressor(n_estimators=50, random_state=42)</pre><b>In a Jupyter environment, please rerun this cell to show the HTML representation or trust the notebook. <br />On GitHub, the HTML representation is unable to render, please try loading this page with nbviewer.org.</b></div><div class=\"sk-container\" hidden><div class=\"sk-item\"><div class=\"sk-estimator sk-toggleable\"><input class=\"sk-toggleable__control sk-hidden--visually\" id=\"sk-estimator-id-39\" type=\"checkbox\" checked><label for=\"sk-estimator-id-39\" class=\"sk-toggleable__label sk-toggleable__label-arrow\">GradientBoostingRegressor</label><div class=\"sk-toggleable__content\"><pre>GradientBoostingRegressor(n_estimators=50, random_state=42)</pre></div></div></div></div></div>"
      ],
      "text/plain": [
       "GradientBoostingRegressor(n_estimators=50, random_state=42)"
      ]
     },
     "execution_count": 345,
     "metadata": {},
     "output_type": "execute_result"
    }
   ],
   "source": [
    "from sklearn.ensemble import GradientBoostingRegressor\n",
    "\n",
    "gbm = GradientBoostingRegressor(random_state=42, n_estimators=50)\n",
    "gbm.fit(X_train, y_train)"
   ]
  },
  {
   "cell_type": "code",
   "execution_count": 346,
   "id": "3d34d832-f2cc-4b29-8f8a-e707ee46fe08",
   "metadata": {
    "tags": []
   },
   "outputs": [
    {
     "name": "stdout",
     "output_type": "stream",
     "text": [
      "훈련 세트의 정확도 : 0.9143785827350668\n",
      "테스트 세트의 정확도 : 0.5771916913805425\n",
      "GBR R2 : 0.8449630883404955\n"
     ]
    }
   ],
   "source": [
    "print(f'훈련 세트의 정확도 : {gbm.score(X_train, y_train)}')\n",
    "print(f'테스트 세트의 정확도 : {gbm.score(X_test, y_test)}')\n",
    "print(f'GBR R2 : {gbm.score(X, y)}')"
   ]
  },
  {
   "cell_type": "markdown",
   "id": "e8d4f7b1-4bd7-46b6-abae-0cf51db5a366",
   "metadata": {
    "tags": []
   },
   "source": [
    "### KNeighborsRegressor"
   ]
  },
  {
   "cell_type": "code",
   "execution_count": 347,
   "id": "b78988c9-dbb7-4eee-8584-7540a095ca57",
   "metadata": {},
   "outputs": [
    {
     "data": {
      "text/html": [
       "<style>#sk-container-id-40 {color: black;background-color: white;}#sk-container-id-40 pre{padding: 0;}#sk-container-id-40 div.sk-toggleable {background-color: white;}#sk-container-id-40 label.sk-toggleable__label {cursor: pointer;display: block;width: 100%;margin-bottom: 0;padding: 0.3em;box-sizing: border-box;text-align: center;}#sk-container-id-40 label.sk-toggleable__label-arrow:before {content: \"▸\";float: left;margin-right: 0.25em;color: #696969;}#sk-container-id-40 label.sk-toggleable__label-arrow:hover:before {color: black;}#sk-container-id-40 div.sk-estimator:hover label.sk-toggleable__label-arrow:before {color: black;}#sk-container-id-40 div.sk-toggleable__content {max-height: 0;max-width: 0;overflow: hidden;text-align: left;background-color: #f0f8ff;}#sk-container-id-40 div.sk-toggleable__content pre {margin: 0.2em;color: black;border-radius: 0.25em;background-color: #f0f8ff;}#sk-container-id-40 input.sk-toggleable__control:checked~div.sk-toggleable__content {max-height: 200px;max-width: 100%;overflow: auto;}#sk-container-id-40 input.sk-toggleable__control:checked~label.sk-toggleable__label-arrow:before {content: \"▾\";}#sk-container-id-40 div.sk-estimator input.sk-toggleable__control:checked~label.sk-toggleable__label {background-color: #d4ebff;}#sk-container-id-40 div.sk-label input.sk-toggleable__control:checked~label.sk-toggleable__label {background-color: #d4ebff;}#sk-container-id-40 input.sk-hidden--visually {border: 0;clip: rect(1px 1px 1px 1px);clip: rect(1px, 1px, 1px, 1px);height: 1px;margin: -1px;overflow: hidden;padding: 0;position: absolute;width: 1px;}#sk-container-id-40 div.sk-estimator {font-family: monospace;background-color: #f0f8ff;border: 1px dotted black;border-radius: 0.25em;box-sizing: border-box;margin-bottom: 0.5em;}#sk-container-id-40 div.sk-estimator:hover {background-color: #d4ebff;}#sk-container-id-40 div.sk-parallel-item::after {content: \"\";width: 100%;border-bottom: 1px solid gray;flex-grow: 1;}#sk-container-id-40 div.sk-label:hover label.sk-toggleable__label {background-color: #d4ebff;}#sk-container-id-40 div.sk-serial::before {content: \"\";position: absolute;border-left: 1px solid gray;box-sizing: border-box;top: 0;bottom: 0;left: 50%;z-index: 0;}#sk-container-id-40 div.sk-serial {display: flex;flex-direction: column;align-items: center;background-color: white;padding-right: 0.2em;padding-left: 0.2em;position: relative;}#sk-container-id-40 div.sk-item {position: relative;z-index: 1;}#sk-container-id-40 div.sk-parallel {display: flex;align-items: stretch;justify-content: center;background-color: white;position: relative;}#sk-container-id-40 div.sk-item::before, #sk-container-id-40 div.sk-parallel-item::before {content: \"\";position: absolute;border-left: 1px solid gray;box-sizing: border-box;top: 0;bottom: 0;left: 50%;z-index: -1;}#sk-container-id-40 div.sk-parallel-item {display: flex;flex-direction: column;z-index: 1;position: relative;background-color: white;}#sk-container-id-40 div.sk-parallel-item:first-child::after {align-self: flex-end;width: 50%;}#sk-container-id-40 div.sk-parallel-item:last-child::after {align-self: flex-start;width: 50%;}#sk-container-id-40 div.sk-parallel-item:only-child::after {width: 0;}#sk-container-id-40 div.sk-dashed-wrapped {border: 1px dashed gray;margin: 0 0.4em 0.5em 0.4em;box-sizing: border-box;padding-bottom: 0.4em;background-color: white;}#sk-container-id-40 div.sk-label label {font-family: monospace;font-weight: bold;display: inline-block;line-height: 1.2em;}#sk-container-id-40 div.sk-label-container {text-align: center;}#sk-container-id-40 div.sk-container {/* jupyter's `normalize.less` sets `[hidden] { display: none; }` but bootstrap.min.css set `[hidden] { display: none !important; }` so we also need the `!important` here to be able to override the default hidden behavior on the sphinx rendered scikit-learn.org. See: https://github.com/scikit-learn/scikit-learn/issues/21755 */display: inline-block !important;position: relative;}#sk-container-id-40 div.sk-text-repr-fallback {display: none;}</style><div id=\"sk-container-id-40\" class=\"sk-top-container\"><div class=\"sk-text-repr-fallback\"><pre>KNeighborsRegressor()</pre><b>In a Jupyter environment, please rerun this cell to show the HTML representation or trust the notebook. <br />On GitHub, the HTML representation is unable to render, please try loading this page with nbviewer.org.</b></div><div class=\"sk-container\" hidden><div class=\"sk-item\"><div class=\"sk-estimator sk-toggleable\"><input class=\"sk-toggleable__control sk-hidden--visually\" id=\"sk-estimator-id-40\" type=\"checkbox\" checked><label for=\"sk-estimator-id-40\" class=\"sk-toggleable__label sk-toggleable__label-arrow\">KNeighborsRegressor</label><div class=\"sk-toggleable__content\"><pre>KNeighborsRegressor()</pre></div></div></div></div></div>"
      ],
      "text/plain": [
       "KNeighborsRegressor()"
      ]
     },
     "execution_count": 347,
     "metadata": {},
     "output_type": "execute_result"
    }
   ],
   "source": [
    "from sklearn.neighbors import KNeighborsRegressor\n",
    "\n",
    "KNR = KNeighborsRegressor(n_neighbors=5)\n",
    "KNR.fit(X_train, y_train)"
   ]
  },
  {
   "cell_type": "code",
   "execution_count": 348,
   "id": "6fef9fc0-2016-4877-8a3c-3621b9e52f0a",
   "metadata": {},
   "outputs": [
    {
     "name": "stdout",
     "output_type": "stream",
     "text": [
      "훈련 세트의 정확도 : 0.5853238529838338\n",
      "테스트 세트의 정확도 : 0.5536853448275861\n",
      "KNR R2 : 0.578820997893038\n"
     ]
    }
   ],
   "source": [
    "print(f'훈련 세트의 정확도 : {KNR.score(X_train, y_train)}')\n",
    "print(f'테스트 세트의 정확도 : {KNR.score(X_test, y_test)}')\n",
    "print(f'KNR R2 : {KNR.score(X, y)}')"
   ]
  },
  {
   "cell_type": "markdown",
   "id": "b3d639d3-f0e0-419d-8a42-4e8042db94f2",
   "metadata": {},
   "source": [
    "### SVM ( Support Vector Regressor )"
   ]
  },
  {
   "cell_type": "code",
   "execution_count": 349,
   "id": "1c0e9e08-a84b-474f-9c11-0441b7a48ba7",
   "metadata": {},
   "outputs": [
    {
     "data": {
      "text/html": [
       "<style>#sk-container-id-41 {color: black;background-color: white;}#sk-container-id-41 pre{padding: 0;}#sk-container-id-41 div.sk-toggleable {background-color: white;}#sk-container-id-41 label.sk-toggleable__label {cursor: pointer;display: block;width: 100%;margin-bottom: 0;padding: 0.3em;box-sizing: border-box;text-align: center;}#sk-container-id-41 label.sk-toggleable__label-arrow:before {content: \"▸\";float: left;margin-right: 0.25em;color: #696969;}#sk-container-id-41 label.sk-toggleable__label-arrow:hover:before {color: black;}#sk-container-id-41 div.sk-estimator:hover label.sk-toggleable__label-arrow:before {color: black;}#sk-container-id-41 div.sk-toggleable__content {max-height: 0;max-width: 0;overflow: hidden;text-align: left;background-color: #f0f8ff;}#sk-container-id-41 div.sk-toggleable__content pre {margin: 0.2em;color: black;border-radius: 0.25em;background-color: #f0f8ff;}#sk-container-id-41 input.sk-toggleable__control:checked~div.sk-toggleable__content {max-height: 200px;max-width: 100%;overflow: auto;}#sk-container-id-41 input.sk-toggleable__control:checked~label.sk-toggleable__label-arrow:before {content: \"▾\";}#sk-container-id-41 div.sk-estimator input.sk-toggleable__control:checked~label.sk-toggleable__label {background-color: #d4ebff;}#sk-container-id-41 div.sk-label input.sk-toggleable__control:checked~label.sk-toggleable__label {background-color: #d4ebff;}#sk-container-id-41 input.sk-hidden--visually {border: 0;clip: rect(1px 1px 1px 1px);clip: rect(1px, 1px, 1px, 1px);height: 1px;margin: -1px;overflow: hidden;padding: 0;position: absolute;width: 1px;}#sk-container-id-41 div.sk-estimator {font-family: monospace;background-color: #f0f8ff;border: 1px dotted black;border-radius: 0.25em;box-sizing: border-box;margin-bottom: 0.5em;}#sk-container-id-41 div.sk-estimator:hover {background-color: #d4ebff;}#sk-container-id-41 div.sk-parallel-item::after {content: \"\";width: 100%;border-bottom: 1px solid gray;flex-grow: 1;}#sk-container-id-41 div.sk-label:hover label.sk-toggleable__label {background-color: #d4ebff;}#sk-container-id-41 div.sk-serial::before {content: \"\";position: absolute;border-left: 1px solid gray;box-sizing: border-box;top: 0;bottom: 0;left: 50%;z-index: 0;}#sk-container-id-41 div.sk-serial {display: flex;flex-direction: column;align-items: center;background-color: white;padding-right: 0.2em;padding-left: 0.2em;position: relative;}#sk-container-id-41 div.sk-item {position: relative;z-index: 1;}#sk-container-id-41 div.sk-parallel {display: flex;align-items: stretch;justify-content: center;background-color: white;position: relative;}#sk-container-id-41 div.sk-item::before, #sk-container-id-41 div.sk-parallel-item::before {content: \"\";position: absolute;border-left: 1px solid gray;box-sizing: border-box;top: 0;bottom: 0;left: 50%;z-index: -1;}#sk-container-id-41 div.sk-parallel-item {display: flex;flex-direction: column;z-index: 1;position: relative;background-color: white;}#sk-container-id-41 div.sk-parallel-item:first-child::after {align-self: flex-end;width: 50%;}#sk-container-id-41 div.sk-parallel-item:last-child::after {align-self: flex-start;width: 50%;}#sk-container-id-41 div.sk-parallel-item:only-child::after {width: 0;}#sk-container-id-41 div.sk-dashed-wrapped {border: 1px dashed gray;margin: 0 0.4em 0.5em 0.4em;box-sizing: border-box;padding-bottom: 0.4em;background-color: white;}#sk-container-id-41 div.sk-label label {font-family: monospace;font-weight: bold;display: inline-block;line-height: 1.2em;}#sk-container-id-41 div.sk-label-container {text-align: center;}#sk-container-id-41 div.sk-container {/* jupyter's `normalize.less` sets `[hidden] { display: none; }` but bootstrap.min.css set `[hidden] { display: none !important; }` so we also need the `!important` here to be able to override the default hidden behavior on the sphinx rendered scikit-learn.org. See: https://github.com/scikit-learn/scikit-learn/issues/21755 */display: inline-block !important;position: relative;}#sk-container-id-41 div.sk-text-repr-fallback {display: none;}</style><div id=\"sk-container-id-41\" class=\"sk-top-container\"><div class=\"sk-text-repr-fallback\"><pre>SVR()</pre><b>In a Jupyter environment, please rerun this cell to show the HTML representation or trust the notebook. <br />On GitHub, the HTML representation is unable to render, please try loading this page with nbviewer.org.</b></div><div class=\"sk-container\" hidden><div class=\"sk-item\"><div class=\"sk-estimator sk-toggleable\"><input class=\"sk-toggleable__control sk-hidden--visually\" id=\"sk-estimator-id-41\" type=\"checkbox\" checked><label for=\"sk-estimator-id-41\" class=\"sk-toggleable__label sk-toggleable__label-arrow\">SVR</label><div class=\"sk-toggleable__content\"><pre>SVR()</pre></div></div></div></div></div>"
      ],
      "text/plain": [
       "SVR()"
      ]
     },
     "execution_count": 349,
     "metadata": {},
     "output_type": "execute_result"
    }
   ],
   "source": [
    "# SVM은 가급적 정규화 처리된 데이터로 진행\n",
    "from sklearn.svm import SVR\n",
    "\n",
    "SVR = SVR()\n",
    "SVR.fit(X_train, y_train)"
   ]
  },
  {
   "cell_type": "code",
   "execution_count": 350,
   "id": "8e9c75f0-6da2-435c-896c-449a87e3bdfa",
   "metadata": {},
   "outputs": [
    {
     "name": "stdout",
     "output_type": "stream",
     "text": [
      "훈련 세트의 정확도 : 0.77386050931412\n",
      "테스트 세트의 정확도 : 0.46892505158165876\n",
      "KNR R2 : 0.7110883288140832\n"
     ]
    }
   ],
   "source": [
    "print(f'훈련 세트의 정확도 : {SVR.score(X_train, y_train)}')\n",
    "print(f'테스트 세트의 정확도 : {SVR.score(X_test, y_test)}')\n",
    "print(f'KNR R2 : {SVR.score(X, y)}')"
   ]
  },
  {
   "cell_type": "markdown",
   "id": "a2a72829-2c2b-4d94-9b9d-1c5d203a5922",
   "metadata": {},
   "source": [
    "# 모델별 결정계수 비교\n",
    "## 표준화 방법별 비교"
   ]
  },
  {
   "cell_type": "code",
   "execution_count": 473,
   "id": "e095aacb-a31e-4576-bb5f-35d39e017f3b",
   "metadata": {
    "tags": []
   },
   "outputs": [
    {
     "name": "stdout",
     "output_type": "stream",
     "text": [
      "=== This data ===\n",
      "=== Test size = 0.2 ===\n",
      "MLR R2: 0.6404308375717962\n",
      "Lasso R2: 0.2294208242154553\n",
      "Ridge R2: 0.6404007961927034\n"
     ]
    }
   ],
   "source": [
    "print('=== This data ===')\n",
    "print('=== Test size = 0.2 ===')\n",
    "print(f'MLR R2: {model.score(X, y)}')\n",
    "print(f'Lasso R2: {lasso.score(X, y)}')\n",
    "print(f'Ridge R2: {ridge.score(X, y)}')"
   ]
  },
  {
   "cell_type": "code",
   "execution_count": 288,
   "id": "5ee26c2d-adbc-4762-aee7-45a400d55b55",
   "metadata": {
    "tags": []
   },
   "outputs": [
    {
     "name": "stdout",
     "output_type": "stream",
     "text": [
      "=== No Scaled data ===\n",
      "=== Test size = 0.2 ===\n",
      "MLR R2: 0.6827976424539377\n",
      "Lasso R2: 0.5287281988478004\n",
      "Ridge R2: 0.684981228421849\n"
     ]
    }
   ],
   "source": [
    "print('=== No Scaled data ===')\n",
    "print('=== Test size = 0.2 ===')\n",
    "print(f'MLR R2: {model.score(X, y)}')\n",
    "print(f'Lasso R2: {lasso.score(X, y)}')\n",
    "print(f'Ridge R2: {ridge.score(X, y)}')"
   ]
  },
  {
   "cell_type": "code",
   "execution_count": 120,
   "id": "d6b4cf7d-7dc9-47cb-a0ab-dac2b0c5ee7b",
   "metadata": {},
   "outputs": [
    {
     "name": "stdout",
     "output_type": "stream",
     "text": [
      "=== No Scaled data ===\n",
      "=== Test size = 0.33 ===\n",
      "MLR R2: 0.5941409465343874\n",
      "Lasso R2: 0.4657582803618161\n",
      "Ridge R2: 0.6027104625945415\n"
     ]
    }
   ],
   "source": [
    "print('=== No Scaled data ===')\n",
    "print('=== Test size = 0.33 ===')\n",
    "print(f'MLR R2: {model.score(X, y)}')\n",
    "print(f'Lasso R2: {lasso.score(X, y)}')\n",
    "print(f'Ridge R2: {ridge.score(X, y)}')"
   ]
  },
  {
   "cell_type": "code",
   "execution_count": 160,
   "id": "be9b0cdd-f18b-454e-874b-2e23dfa80564",
   "metadata": {},
   "outputs": [
    {
     "name": "stdout",
     "output_type": "stream",
     "text": [
      "=== No Scaled data ===\n",
      "=== Test size = 0.44 ===\n",
      "MLR R2: 0.577102712247221\n",
      "Lasso R2: 0.4660266863613799\n",
      "Ridge R2: 0.5888533138949572\n"
     ]
    }
   ],
   "source": [
    "print('=== No Scaled data ===')\n",
    "print('=== Test size = 0.44 ===')\n",
    "print(f'MLR R2: {model.score(X, y)}')\n",
    "print(f'Lasso R2: {lasso.score(X, y)}')\n",
    "print(f'Ridge R2: {ridge.score(X, y)}')"
   ]
  },
  {
   "cell_type": "code",
   "execution_count": 282,
   "id": "2aedfbe5-13b2-4948-a805-b5b20115a727",
   "metadata": {},
   "outputs": [
    {
     "name": "stdout",
     "output_type": "stream",
     "text": [
      "=== Standard Scaled data ===\n",
      "=== Test size = 0.2 ===\n",
      "MLR R2: 0.6434593333737193\n",
      "Lasso R2: 0.22939987882594082\n",
      "Ridge R2: 0.6436454772638673\n"
     ]
    }
   ],
   "source": [
    "print('=== Standard Scaled data ===')\n",
    "print('=== Test size = 0.2 ===')\n",
    "print(f'MLR R2: {model.score(X, y)}')\n",
    "print(f'Lasso R2: {lasso.score(X, y)}')\n",
    "print(f'Ridge R2: {ridge.score(X, y)}')"
   ]
  },
  {
   "cell_type": "code",
   "execution_count": 93,
   "id": "b20b3a31-3a65-43f8-ab08-e3bae95cb59a",
   "metadata": {},
   "outputs": [
    {
     "name": "stdout",
     "output_type": "stream",
     "text": [
      "=== Standard Scaled data ===\n",
      "MLR R2: 0.6344619555911336\n",
      "Lasso R2: 0.28142232133130074\n",
      "Ridge R2: 0.6349365361841097\n"
     ]
    }
   ],
   "source": [
    "print('=== Standard Scaled data ===')\n",
    "print('=== Test size = 0.33 ===')\n",
    "print(f'MLR R2: {model.score(X, y)}')\n",
    "print(f'Lasso R2: {lasso.score(X, y)}')\n",
    "print(f'Ridge R2: {ridge.score(X, y)}')"
   ]
  },
  {
   "cell_type": "code",
   "execution_count": 186,
   "id": "89b13be5-3c9b-482b-bee7-3bdc827457ad",
   "metadata": {},
   "outputs": [
    {
     "name": "stdout",
     "output_type": "stream",
     "text": [
      "=== Standard Scaled data ===\n",
      "=== Test size = 0.44 ===\n",
      "MLR R2: 0.6041716212168606\n",
      "Lasso R2: 0.3352215454524484\n",
      "Ridge R2: 0.6065632786294773\n"
     ]
    }
   ],
   "source": [
    "print('=== Standard Scaled data ===')\n",
    "print('=== Test size = 0.44 ===')\n",
    "print(f'MLR R2: {model.score(X, y)}')\n",
    "print(f'Lasso R2: {lasso.score(X, y)}')\n",
    "print(f'Ridge R2: {ridge.score(X, y)}')"
   ]
  },
  {
   "cell_type": "code",
   "execution_count": 308,
   "id": "39501008-b702-440c-b11e-a62850922661",
   "metadata": {
    "tags": []
   },
   "outputs": [
    {
     "name": "stdout",
     "output_type": "stream",
     "text": [
      "=== Min-Max Scaled data ===\n",
      "=== Test size = 0.2 ===\n",
      "MLR R2: 0.6041716212168607\n",
      "Lasso R2: -0.0033941520045470686\n",
      "Ridge R2: 0.633655887540103\n"
     ]
    }
   ],
   "source": [
    "print('=== Min-Max Scaled data ===')\n",
    "print('=== Test size = 0.2 ===')\n",
    "print(f'MLR R2: {model.score(X, y)}')\n",
    "print(f'Lasso R2: {lasso.score(X, y)}')\n",
    "print(f'Ridge R2: {ridge.score(X, y)}')"
   ]
  },
  {
   "cell_type": "code",
   "execution_count": 67,
   "id": "0e6e5204-248a-4bbe-833f-5e910fbdaf60",
   "metadata": {
    "tags": []
   },
   "outputs": [
    {
     "name": "stdout",
     "output_type": "stream",
     "text": [
      "=== Min-Max Scaled data ===\n",
      "MLR R2: 0.6344619555911337\n",
      "Lasso R2: -0.002325627460820767\n",
      "Ridge R2: 0.6358510383871747\n"
     ]
    }
   ],
   "source": [
    "print('=== Min-Max Scaled data ===')\n",
    "print('=== Test size = 0.33 ===')\n",
    "print(f'MLR R2: {model.score(X, y)}')\n",
    "print(f'Lasso R2: {lasso.score(X, y)}')\n",
    "print(f'Ridge R2: {ridge.score(X, y)}')"
   ]
  },
  {
   "cell_type": "code",
   "execution_count": 211,
   "id": "b633a645-fde9-4d54-a729-30a0769583fc",
   "metadata": {},
   "outputs": [
    {
     "name": "stdout",
     "output_type": "stream",
     "text": [
      "=== Min-Max Scaled data ===\n",
      "=== Test size = 0.44 ===\n",
      "MLR R2: 0.6041716212168607\n",
      "Lasso R2: -0.0033941520045470686\n",
      "Ridge R2: 0.633655887540103\n"
     ]
    }
   ],
   "source": [
    "print('=== Min-Max Scaled data ===')\n",
    "print('=== Test size = 0.44 ===')\n",
    "print(f'MLR R2: {model.score(X, y)}')\n",
    "print(f'Lasso R2: {lasso.score(X, y)}')\n",
    "print(f'Ridge R2: {ridge.score(X, y)}')"
   ]
  },
  {
   "cell_type": "code",
   "execution_count": 232,
   "id": "5398d77e-b3ca-4b64-9f22-6753be2e5888",
   "metadata": {},
   "outputs": [],
   "source": [
    "from statsmodels import api\n",
    "ols = api.OLS(y, X)\n",
    "result = ols.fit()"
   ]
  },
  {
   "cell_type": "code",
   "execution_count": 233,
   "id": "0b42adfc-9641-45a7-9111-27207c82fd01",
   "metadata": {},
   "outputs": [
    {
     "name": "stdout",
     "output_type": "stream",
     "text": [
      "                                 OLS Regression Results                                \n",
      "=======================================================================================\n",
      "Dep. Variable:                 CHARGE   R-squared (uncentered):                   0.763\n",
      "Model:                            OLS   Adj. R-squared (uncentered):              0.746\n",
      "Method:                 Least Squares   F-statistic:                              44.65\n",
      "Date:                Wed, 10 Aug 2022   Prob (F-statistic):                    2.61e-49\n",
      "Time:                        14:53:41   Log-Likelihood:                         -175.75\n",
      "No. Observations:                 193   AIC:                                      377.5\n",
      "Df Residuals:                     180   BIC:                                      419.9\n",
      "Df Model:                          13                                                  \n",
      "Covariance Type:            nonrobust                                                  \n",
      "==============================================================================\n",
      "                 coef    std err          t      P>|t|      [0.025      0.975]\n",
      "------------------------------------------------------------------------------\n",
      "TRAD           0.8096      0.135      6.003      0.000       0.543       1.076\n",
      "CONCERT        0.2089      0.139      1.501      0.135      -0.066       0.483\n",
      "OLD           -0.1209      0.061     -1.967      0.051      -0.242       0.000\n",
      "MART          -0.1816      0.126     -1.439      0.152      -0.431       0.067\n",
      "LIB            0.0519      0.023      2.298      0.023       0.007       0.096\n",
      "ART            0.1515      0.116      1.303      0.194      -0.078       0.381\n",
      "MUS           -0.1258      0.248     -0.508      0.612      -0.614       0.363\n",
      "MED            0.0958      0.029      3.331      0.001       0.039       0.153\n",
      "COMM           0.1066      0.100      1.062      0.289      -0.091       0.304\n",
      "SPORT          0.0495      0.012      4.203      0.000       0.026       0.073\n",
      "OWN            0.0102      0.005      1.885      0.061      -0.000       0.021\n",
      "JOB            0.0035      0.001      4.734      0.000       0.002       0.005\n",
      "CARROT        -0.0935      0.068     -1.373      0.171      -0.228       0.041\n",
      "==============================================================================\n",
      "Omnibus:                       56.593   Durbin-Watson:                   1.791\n",
      "Prob(Omnibus):                  0.000   Jarque-Bera (JB):              148.310\n",
      "Skew:                           1.254   Prob(JB):                     6.24e-33\n",
      "Kurtosis:                       6.486   Cond. No.                         456.\n",
      "==============================================================================\n",
      "\n",
      "Notes:\n",
      "[1] R² is computed without centering (uncentered) since the model does not contain a constant.\n",
      "[2] Standard Errors assume that the covariance matrix of the errors is correctly specified.\n"
     ]
    }
   ],
   "source": [
    "print(result.summary())"
   ]
  },
  {
   "cell_type": "markdown",
   "id": "5b25f045-cf83-409b-83b6-85f020c10798",
   "metadata": {},
   "source": [
    "# 다중공선성 확인"
   ]
  },
  {
   "cell_type": "code",
   "execution_count": 232,
   "id": "95a7ae97-a8a5-4051-b3ba-8bcf2d11a8cc",
   "metadata": {},
   "outputs": [],
   "source": [
    "from statsmodels import api\n",
    "ols = api.OLS(y, X)\n",
    "result = ols.fit()"
   ]
  },
  {
   "cell_type": "code",
   "execution_count": 233,
   "id": "785dd8dc-92cf-40af-804c-89321e8feab4",
   "metadata": {},
   "outputs": [
    {
     "name": "stdout",
     "output_type": "stream",
     "text": [
      "                                 OLS Regression Results                                \n",
      "=======================================================================================\n",
      "Dep. Variable:                 CHARGE   R-squared (uncentered):                   0.763\n",
      "Model:                            OLS   Adj. R-squared (uncentered):              0.746\n",
      "Method:                 Least Squares   F-statistic:                              44.65\n",
      "Date:                Wed, 10 Aug 2022   Prob (F-statistic):                    2.61e-49\n",
      "Time:                        14:53:41   Log-Likelihood:                         -175.75\n",
      "No. Observations:                 193   AIC:                                      377.5\n",
      "Df Residuals:                     180   BIC:                                      419.9\n",
      "Df Model:                          13                                                  \n",
      "Covariance Type:            nonrobust                                                  \n",
      "==============================================================================\n",
      "                 coef    std err          t      P>|t|      [0.025      0.975]\n",
      "------------------------------------------------------------------------------\n",
      "TRAD           0.8096      0.135      6.003      0.000       0.543       1.076\n",
      "CONCERT        0.2089      0.139      1.501      0.135      -0.066       0.483\n",
      "OLD           -0.1209      0.061     -1.967      0.051      -0.242       0.000\n",
      "MART          -0.1816      0.126     -1.439      0.152      -0.431       0.067\n",
      "LIB            0.0519      0.023      2.298      0.023       0.007       0.096\n",
      "ART            0.1515      0.116      1.303      0.194      -0.078       0.381\n",
      "MUS           -0.1258      0.248     -0.508      0.612      -0.614       0.363\n",
      "MED            0.0958      0.029      3.331      0.001       0.039       0.153\n",
      "COMM           0.1066      0.100      1.062      0.289      -0.091       0.304\n",
      "SPORT          0.0495      0.012      4.203      0.000       0.026       0.073\n",
      "OWN            0.0102      0.005      1.885      0.061      -0.000       0.021\n",
      "JOB            0.0035      0.001      4.734      0.000       0.002       0.005\n",
      "CARROT        -0.0935      0.068     -1.373      0.171      -0.228       0.041\n",
      "==============================================================================\n",
      "Omnibus:                       56.593   Durbin-Watson:                   1.791\n",
      "Prob(Omnibus):                  0.000   Jarque-Bera (JB):              148.310\n",
      "Skew:                           1.254   Prob(JB):                     6.24e-33\n",
      "Kurtosis:                       6.486   Cond. No.                         456.\n",
      "==============================================================================\n",
      "\n",
      "Notes:\n",
      "[1] R² is computed without centering (uncentered) since the model does not contain a constant.\n",
      "[2] Standard Errors assume that the covariance matrix of the errors is correctly specified.\n"
     ]
    }
   ],
   "source": [
    "print(result.summary())"
   ]
  },
  {
   "cell_type": "markdown",
   "id": "5738e27a-1c1c-459c-ad84-171864fd3163",
   "metadata": {
    "tags": []
   },
   "source": [
    "## VIF ( Variance Inflation Factors ) 확인"
   ]
  },
  {
   "cell_type": "code",
   "execution_count": 195,
   "id": "e1dbf11a-7819-404b-9418-b5becaa99020",
   "metadata": {},
   "outputs": [],
   "source": [
    "from statsmodels.stats.outliers_influence import variance_inflation_factor"
   ]
  },
  {
   "cell_type": "code",
   "execution_count": 196,
   "id": "02cec102-8fea-46b1-870c-86393e1f972e",
   "metadata": {},
   "outputs": [],
   "source": [
    "def feature_engineering_XbyVIF(X):\n",
    "    vif = pd.DataFrame()\n",
    "    vif['VIF_Factor'] = [variance_inflation_factor(X.values, i)\n",
    "                         for i in range(X.shape[1])]\n",
    "    vif['Feature'] = X.columns\n",
    "    return vif"
   ]
  },
  {
   "cell_type": "code",
   "execution_count": 197,
   "id": "955b3493-7fd6-4022-a7d1-5bf8f271725f",
   "metadata": {},
   "outputs": [],
   "source": [
    "vif = feature_engineering_XbyVIF(X)"
   ]
  },
  {
   "cell_type": "code",
   "execution_count": 198,
   "id": "433deb23-9e76-4806-898a-f839f5053117",
   "metadata": {},
   "outputs": [
    {
     "name": "stdout",
     "output_type": "stream",
     "text": [
      "    VIF_Factor  Feature\n",
      "0     1.647380     TRAD\n",
      "1     1.679593  CONCERT\n",
      "2     1.673572      OLD\n",
      "3     1.544639     MART\n",
      "4     1.125528      ART\n",
      "5     1.222836      MUS\n",
      "6     3.047415      MED\n",
      "7     1.601606    SPORT\n",
      "8     1.980331      OWN\n",
      "9     1.738863      JOB\n",
      "10    1.931885   CARROT\n"
     ]
    }
   ],
   "source": [
    "print(vif)"
   ]
  },
  {
   "cell_type": "markdown",
   "id": "11396ce2-6828-4bd1-a305-54b365d4eb93",
   "metadata": {},
   "source": [
    "- VIF 가 4이상인 경우, 다중공선성이 존재한다고 판단, 변수 제거"
   ]
  },
  {
   "cell_type": "markdown",
   "id": "5f77f9da-128e-4925-9861-ce3bb18066b5",
   "metadata": {},
   "source": [
    "# 시각화\n",
    "## 변수별 회귀계수의 분포 시각화"
   ]
  },
  {
   "cell_type": "code",
   "execution_count": 75,
   "id": "918715eb-951e-4964-af9d-698f206ad75c",
   "metadata": {},
   "outputs": [
    {
     "data": {
      "image/png": "[encoded data removed]",
      "text/plain": [
       "<Figure size 432x288 with 1 Axes>"
      ]
     },
     "metadata": {
      "needs_background": "light"
     },
     "output_type": "display_data"
    }
   ],
   "source": [
    "plt.plot(model.coef_, 's', label=\"Multi-Regression\")\n",
    "plt.plot(lasso.coef_, '^', label=\"Lasso alpha=0.5\")\n",
    "plt.plot(ridge.coef_, 'v', label=\"Ridge\")\n",
    "\n",
    "plt.legend(ncol=2, loc=(0, 1.05))\n",
    "plt.xlabel(\"Features\")\n",
    "plt.ylabel(\"Coefficient\")\n",
    "\n",
    "# plt.hlines(0, 0, len(lr.coef_))\n",
    "\n",
    "plt.ylim(-0.2, 0.4)\n",
    "plt.show()"
   ]
  },
  {
   "cell_type": "markdown",
   "id": "b65b0a88-b0cd-4929-9a0d-91b82e0c8931",
   "metadata": {},
   "source": [
    "## 모델별 잔차 시각화"
   ]
  },
  {
   "cell_type": "code",
   "execution_count": 77,
   "id": "e46f077a-0968-4d36-8678-65238ed09569",
   "metadata": {
    "tags": []
   },
   "outputs": [
    {
     "data": {
      "image/png": "[encoded data removed]",
      "text/plain": [
       "<Figure size 432x288 with 3 Axes>"
      ]
     },
     "metadata": {
      "needs_background": "light"
     },
     "output_type": "display_data"
    }
   ],
   "source": [
    "xx = range(64)\n",
    "plt.subplot(1, 3, 1)\n",
    "plt.plot(xx, residual, label='Multi-Regression_residual')\n",
    "plt.xlabel('Multi-Regression')\n",
    "plt.ylabel('Variance')\n",
    "\n",
    "plt.subplot(1, 3, 2)\n",
    "plt.plot(xx, lasso_residual, label='lasso_residual')\n",
    "plt.xlabel('Lasso')\n",
    "plt.ylabel('Variance')\n",
    "\n",
    "plt.subplot(1, 3, 3)\n",
    "plt.plot(xx, ridge_residual, label='ridge_residual')\n",
    "plt.xlabel('Ridge')\n",
    "plt.ylabel('Variance')\n",
    "\n",
    "plt.subplots_adjust(wspace=0.5, right=2)\n",
    "plt.show()"
   ]
  },
  {
   "cell_type": "markdown",
   "id": "ec168765-dee7-43ad-a6d4-ca0ea124cc86",
   "metadata": {
    "tags": []
   },
   "source": [
    "# 오버샘플링\n",
    "## imblearn.over_sampling"
   ]
  },
  {
   "cell_type": "code",
   "execution_count": 79,
   "id": "772f65bb-f0b6-4bc2-9ec8-a439a07b7574",
   "metadata": {},
   "outputs": [],
   "source": [
    "from imblearn.over_sampling import SMOTE, ADASYN, RandomOverSampler"
   ]
  },
  {
   "cell_type": "code",
   "execution_count": 95,
   "id": "0087707b-57f0-4338-82d8-c969a7e0f484",
   "metadata": {},
   "outputs": [],
   "source": [
    "# SMOTE\n",
    "X_train, y_train = SMOTE(random_state=42).fit_resample(X_train, y_train)"
   ]
  },
  {
   "cell_type": "code",
   "execution_count": 95,
   "id": "47544409-4ab5-4ed5-ad1f-846378b306b2",
   "metadata": {},
   "outputs": [],
   "source": [
    "# ADASYN\n",
    "X_train, y_train = ADASYN(random_state=42).fit_resample(X_train, y_train)"
   ]
  },
  {
   "cell_type": "code",
   "execution_count": 83,
   "id": "0f3a2e01-e555-4e77-986a-0ddede8ac6d2",
   "metadata": {},
   "outputs": [],
   "source": [
    "# 랜덤 오버 샘플링\n",
    "X, y = RandomOverSampler(random_state=42).fit_resample(X, y)"
   ]
  },
  {
   "cell_type": "markdown",
   "id": "5be947e7-51c8-4f85-b996-99c1a1932625",
   "metadata": {
    "tags": []
   },
   "source": [
    "## 선형회귀의 추정치로 데이터 생성"
   ]
  },
  {
   "cell_type": "code",
   "execution_count": 454,
   "id": "db0b6318-1e5e-4108-bfc7-d0b78c722eca",
   "metadata": {},
   "outputs": [],
   "source": [
    "over_list = pd.DataFrame()"
   ]
  },
  {
   "cell_type": "code",
   "execution_count": 455,
   "id": "1de718ba-6c81-4683-8cfe-1c4af7b2e60d",
   "metadata": {
    "tags": []
   },
   "outputs": [],
   "source": [
    "over_data = data.iloc[:, :]"
   ]
  },
  {
   "cell_type": "code",
   "execution_count": 456,
   "id": "b0cba928-55f3-4126-b6a0-84b4795fd23e",
   "metadata": {},
   "outputs": [
    {
     "data": {
      "text/plain": [
       "array(['TRAD', 'CONCERT', 'OLD', 'MART', 'LIB', 'ART', 'MUS', 'MED',\n",
       "       'COMM', 'SPORT', 'CHARGE'], dtype=object)"
      ]
     },
     "execution_count": 456,
     "metadata": {},
     "output_type": "execute_result"
    }
   ],
   "source": [
    "over_data.columns.values"
   ]
  },
  {
   "cell_type": "code",
   "execution_count": 457,
   "id": "051c3a4a-ebcd-404c-a2cf-73dddd839e68",
   "metadata": {},
   "outputs": [],
   "source": [
    "model = LinearRegression()"
   ]
  },
  {
   "cell_type": "code",
   "execution_count": 458,
   "id": "9b5fbeaf-aa5f-4912-8d00-a9a49efd3905",
   "metadata": {
    "tags": []
   },
   "outputs": [],
   "source": [
    "# 독립변수를 종속변수 삼아 값 추정\n",
    "for i in range(len(over_data.columns.values)):\n",
    "    over_y = over_data.loc[:, f'{over_data.columns.values[i]}']\n",
    "    over_X = over_data[over_data.columns.difference([f'{over_data.columns.values[i]}'])]\n",
    "\n",
    "    over_X_train, over_X_test, over_y_train, over_y_test = train_test_split(over_X, over_y, random_state=11, test_size=0.33)\n",
    "\n",
    "    model.fit(over_X_train, over_y_train)\n",
    "\n",
    "    y_pred = model.predict(over_X_test)\n",
    "\n",
    "    over_list[f'{over_data.columns.values[i]}'] = pd.DataFrame(y_pred)"
   ]
  },
  {
   "cell_type": "code",
   "execution_count": 459,
   "id": "8a6de1d0-d3f7-4a6c-aace-98d5e51be38e",
   "metadata": {},
   "outputs": [
    {
     "name": "stdout",
     "output_type": "stream",
     "text": [
      "<class 'pandas.core.frame.DataFrame'>\n",
      "RangeIndex: 64 entries, 0 to 63\n",
      "Data columns (total 11 columns):\n",
      " #   Column   Non-Null Count  Dtype  \n",
      "---  ------   --------------  -----  \n",
      " 0   TRAD     64 non-null     float64\n",
      " 1   CONCERT  64 non-null     float64\n",
      " 2   OLD      64 non-null     float64\n",
      " 3   MART     64 non-null     float64\n",
      " 4   LIB      64 non-null     float64\n",
      " 5   ART      64 non-null     float64\n",
      " 6   MUS      64 non-null     float64\n",
      " 7   MED      64 non-null     float64\n",
      " 8   COMM     64 non-null     float64\n",
      " 9   SPORT    64 non-null     float64\n",
      " 10  CHARGE   64 non-null     float64\n",
      "dtypes: float64(11)\n",
      "memory usage: 5.6 KB\n"
     ]
    }
   ],
   "source": [
    "over_list.info()"
   ]
  },
  {
   "cell_type": "code",
   "execution_count": 460,
   "id": "aa1c977d-b0cc-4133-852f-810e09b9d2dc",
   "metadata": {},
   "outputs": [],
   "source": [
    "over_X_result = over_list.iloc[:, :-1]\n",
    "over_y_result = over_list.iloc[:, -1]\n",
    "\n",
    "# 오버샘플링 결과 df 생성\n",
    "merged_X = pd.concat([X, over_X_result], axis=0)\n",
    "merged_y = pd.concat([y, over_y_result], axis=0)"
   ]
  },
  {
   "cell_type": "code",
   "execution_count": 210,
   "id": "c72e69bb-8da9-4f4b-9d6d-7efd269f64c1",
   "metadata": {
    "jupyter": {
     "source_hidden": true
    },
    "tags": []
   },
   "outputs": [],
   "source": [
    "X_train = merged_X\n",
    "y_train = merged_y"
   ]
  },
  {
   "cell_type": "code",
   "execution_count": 465,
   "id": "3f620661-e88a-4a77-9139-4310d0ee0b07",
   "metadata": {},
   "outputs": [],
   "source": [
    "X_train, X_test, y_train, y_test = train_test_split(merged_X, merged_y, test_size=0.33, random_state=42)"
   ]
  },
  {
   "cell_type": "code",
   "execution_count": 16,
   "id": "76ffc51b-7b95-4a81-ad8b-f2be77b3e046",
   "metadata": {},
   "outputs": [
    {
     "name": "stdout",
     "output_type": "stream",
     "text": [
      "훈련 데이터에 대한 정확도 : 0.6722062547571479\n",
      "테스트 데이터에 대한 정확도 : 0.3657553044530649\n",
      "회귀모델의 결정계수 : 0.5385313956817235\n",
      "회귀모델의 잔차 평균 : 0.21195228850202788\n"
     ]
    }
   ],
   "source": [
    "re_model = LinearRegression()\n",
    "re_model.fit(X_train, y_train)\n",
    "pred = re_model.predict(X_test)\n",
    "residual = y_test - pred\n",
    "print(f'훈련 데이터에 대한 정확도 : {re_model.score(X_train, y_train)}')\n",
    "print(f'테스트 데이터에 대한 정확도 : {re_model.score(X_test, y_test)}')\n",
    "print(f'회귀모델의 결정계수 : {re_model.score(merged_X, merged_y)}')\n",
    "print(f'회귀모델의 잔차 평균 : {np.mean(residual)}')"
   ]
  },
  {
   "cell_type": "code",
   "execution_count": 17,
   "id": "b0c51399-3d4a-4d9e-9523-09bc9eb97603",
   "metadata": {},
   "outputs": [
    {
     "name": "stdout",
     "output_type": "stream",
     "text": [
      "X_train의 shape : (172, 10)\n",
      "X_test의 shape : (85, 10)\n"
     ]
    }
   ],
   "source": [
    "print(f'X_train의 shape : {X_train.shape}')\n",
    "print(f'X_test의 shape : {X_test.shape}')"
   ]
  },
  {
   "cell_type": "markdown",
   "id": "6be27d96-3b2b-41d6-9c76-ca950091eeed",
   "metadata": {},
   "source": [
    "# test <-> pred 비교 시각화"
   ]
  },
  {
   "cell_type": "code",
   "execution_count": 125,
   "id": "9fd634a0-3893-468c-855b-a6fee52df58f",
   "metadata": {},
   "outputs": [],
   "source": [
    "# os 에 따른 Font 깨짐 제거를 위해 Font 지정\n",
    "import os\n",
    "if os.name == 'nt' :\n",
    "    font_family = \"Malgun Gothic\"\n",
    "else :\n",
    "    font_family = \"Apple Gothic\"\n",
    "    \n",
    "\n",
    "# -값이 깨지는 문제 해결을 위해 파라미터값 설정\n",
    "sns.set(font = font_family, rc = {\"axes.unicode_minus\" : False})"
   ]
  },
  {
   "cell_type": "code",
   "execution_count": 388,
   "id": "46f57dd8-6141-4133-948a-af342cbc8589",
   "metadata": {},
   "outputs": [],
   "source": [
    "y_compare = {'y_test' : y_test, 'y_predicted' : y_pred}"
   ]
  },
  {
   "cell_type": "code",
   "execution_count": 389,
   "id": "5f36ec01-1d4c-4b6f-88ad-6ba753e216c1",
   "metadata": {},
   "outputs": [],
   "source": [
    "y_compare = pd.DataFrame(y_compare)"
   ]
  },
  {
   "cell_type": "code",
   "execution_count": 390,
   "id": "a7377460-6f59-4d74-801a-9402ac893577",
   "metadata": {
    "tags": []
   },
   "outputs": [
    {
     "data": {
      "text/plain": [
       "<matplotlib.legend.Legend at 0x28ff8817730>"
      ]
     },
     "execution_count": 390,
     "metadata": {},
     "output_type": "execute_result"
    },
    {
     "data": {
      "image/png": "[encoded data removed]",
      "text/plain": [
       "<Figure size 1008x360 with 1 Axes>"
      ]
     },
     "metadata": {},
     "output_type": "display_data"
    }
   ],
   "source": [
    "ax = y_compare.head(100).plot(kind = 'bar', title = '생활 인프라 기반 충전소 수요 예측', \n",
    "                   figsize = (14, 5), legend = True, fontsize = 10)\n",
    "ax.set_xlabel('법정동', fontsize = 12)\n",
    "ax.set_ylabel('테스트 값 / 예측 값', fontsize = 12)\n",
    "ax.legend(['y_test', 'y_predicted'], fontsize = 12)"
   ]
  },
  {
   "cell_type": "code",
   "execution_count": 433,
   "id": "6c1edbfb-0210-424f-9d42-96ea138c1b07",
   "metadata": {},
   "outputs": [],
   "source": [
    "X_test = data[data['CHARGE'] <= 1].iloc[:,:-1]\n",
    "X_test\n",
    "ones = np.ones(X_test.shape[0])\n",
    "ones = ones.astype('int64')\n",
    "y_test = pd.DataFrame(ones, columns=['CHARGE'])"
   ]
  },
  {
   "cell_type": "code",
   "execution_count": 434,
   "id": "1359cde2-2bc9-4363-b181-010836d060d8",
   "metadata": {},
   "outputs": [
    {
     "data": {
      "text/html": [
       "<div>\n",
       "<style scoped>\n",
       "    .dataframe tbody tr th:only-of-type {\n",
       "        vertical-align: middle;\n",
       "    }\n",
       "\n",
       "    .dataframe tbody tr th {\n",
       "        vertical-align: top;\n",
       "    }\n",
       "\n",
       "    .dataframe thead th {\n",
       "        text-align: right;\n",
       "    }\n",
       "</style>\n",
       "<table border=\"1\" class=\"dataframe\">\n",
       "  <thead>\n",
       "    <tr style=\"text-align: right;\">\n",
       "      <th></th>\n",
       "      <th>TRAD</th>\n",
       "      <th>CONCERT</th>\n",
       "      <th>OLD</th>\n",
       "      <th>MART</th>\n",
       "      <th>LIB</th>\n",
       "      <th>ART</th>\n",
       "      <th>MUS</th>\n",
       "      <th>MED</th>\n",
       "      <th>COMM</th>\n",
       "      <th>SPORT</th>\n",
       "      <th>OWN</th>\n",
       "      <th>JOB</th>\n",
       "      <th>CARROT</th>\n",
       "    </tr>\n",
       "    <tr>\n",
       "      <th>EMD_NM</th>\n",
       "      <th></th>\n",
       "      <th></th>\n",
       "      <th></th>\n",
       "      <th></th>\n",
       "      <th></th>\n",
       "      <th></th>\n",
       "      <th></th>\n",
       "      <th></th>\n",
       "      <th></th>\n",
       "      <th></th>\n",
       "      <th></th>\n",
       "      <th></th>\n",
       "      <th></th>\n",
       "    </tr>\n",
       "  </thead>\n",
       "  <tbody>\n",
       "    <tr>\n",
       "      <th>연제동</th>\n",
       "      <td>0</td>\n",
       "      <td>0</td>\n",
       "      <td>0</td>\n",
       "      <td>0</td>\n",
       "      <td>3</td>\n",
       "      <td>0</td>\n",
       "      <td>0</td>\n",
       "      <td>0</td>\n",
       "      <td>0</td>\n",
       "      <td>3</td>\n",
       "      <td>0</td>\n",
       "      <td>0</td>\n",
       "      <td>2</td>\n",
       "    </tr>\n",
       "    <tr>\n",
       "      <th>덕림동</th>\n",
       "      <td>0</td>\n",
       "      <td>0</td>\n",
       "      <td>1</td>\n",
       "      <td>0</td>\n",
       "      <td>0</td>\n",
       "      <td>0</td>\n",
       "      <td>0</td>\n",
       "      <td>0</td>\n",
       "      <td>0</td>\n",
       "      <td>1</td>\n",
       "      <td>0</td>\n",
       "      <td>0</td>\n",
       "      <td>0</td>\n",
       "    </tr>\n",
       "    <tr>\n",
       "      <th>삼거동</th>\n",
       "      <td>0</td>\n",
       "      <td>0</td>\n",
       "      <td>3</td>\n",
       "      <td>0</td>\n",
       "      <td>0</td>\n",
       "      <td>0</td>\n",
       "      <td>0</td>\n",
       "      <td>3</td>\n",
       "      <td>0</td>\n",
       "      <td>1</td>\n",
       "      <td>0</td>\n",
       "      <td>0</td>\n",
       "      <td>0</td>\n",
       "    </tr>\n",
       "    <tr>\n",
       "      <th>남동</th>\n",
       "      <td>0</td>\n",
       "      <td>0</td>\n",
       "      <td>0</td>\n",
       "      <td>0</td>\n",
       "      <td>1</td>\n",
       "      <td>0</td>\n",
       "      <td>0</td>\n",
       "      <td>0</td>\n",
       "      <td>0</td>\n",
       "      <td>0</td>\n",
       "      <td>0</td>\n",
       "      <td>0</td>\n",
       "      <td>0</td>\n",
       "    </tr>\n",
       "    <tr>\n",
       "      <th>북구_양산동</th>\n",
       "      <td>0</td>\n",
       "      <td>0</td>\n",
       "      <td>4</td>\n",
       "      <td>0</td>\n",
       "      <td>9</td>\n",
       "      <td>0</td>\n",
       "      <td>0</td>\n",
       "      <td>5</td>\n",
       "      <td>0</td>\n",
       "      <td>0</td>\n",
       "      <td>9</td>\n",
       "      <td>147</td>\n",
       "      <td>0</td>\n",
       "    </tr>\n",
       "    <tr>\n",
       "      <th>...</th>\n",
       "      <td>...</td>\n",
       "      <td>...</td>\n",
       "      <td>...</td>\n",
       "      <td>...</td>\n",
       "      <td>...</td>\n",
       "      <td>...</td>\n",
       "      <td>...</td>\n",
       "      <td>...</td>\n",
       "      <td>...</td>\n",
       "      <td>...</td>\n",
       "      <td>...</td>\n",
       "      <td>...</td>\n",
       "      <td>...</td>\n",
       "    </tr>\n",
       "    <tr>\n",
       "      <th>남구_용두동</th>\n",
       "      <td>0</td>\n",
       "      <td>0</td>\n",
       "      <td>2</td>\n",
       "      <td>0</td>\n",
       "      <td>0</td>\n",
       "      <td>0</td>\n",
       "      <td>0</td>\n",
       "      <td>0</td>\n",
       "      <td>0</td>\n",
       "      <td>3</td>\n",
       "      <td>0</td>\n",
       "      <td>0</td>\n",
       "      <td>0</td>\n",
       "    </tr>\n",
       "    <tr>\n",
       "      <th>광천동</th>\n",
       "      <td>0</td>\n",
       "      <td>0</td>\n",
       "      <td>1</td>\n",
       "      <td>1</td>\n",
       "      <td>3</td>\n",
       "      <td>0</td>\n",
       "      <td>0</td>\n",
       "      <td>4</td>\n",
       "      <td>1</td>\n",
       "      <td>2</td>\n",
       "      <td>3</td>\n",
       "      <td>93</td>\n",
       "      <td>3</td>\n",
       "    </tr>\n",
       "    <tr>\n",
       "      <th>내방동</th>\n",
       "      <td>0</td>\n",
       "      <td>0</td>\n",
       "      <td>0</td>\n",
       "      <td>0</td>\n",
       "      <td>1</td>\n",
       "      <td>0</td>\n",
       "      <td>0</td>\n",
       "      <td>0</td>\n",
       "      <td>0</td>\n",
       "      <td>1</td>\n",
       "      <td>0</td>\n",
       "      <td>0</td>\n",
       "      <td>0</td>\n",
       "    </tr>\n",
       "    <tr>\n",
       "      <th>덕흥동</th>\n",
       "      <td>0</td>\n",
       "      <td>0</td>\n",
       "      <td>1</td>\n",
       "      <td>0</td>\n",
       "      <td>0</td>\n",
       "      <td>0</td>\n",
       "      <td>0</td>\n",
       "      <td>0</td>\n",
       "      <td>0</td>\n",
       "      <td>5</td>\n",
       "      <td>0</td>\n",
       "      <td>0</td>\n",
       "      <td>0</td>\n",
       "    </tr>\n",
       "    <tr>\n",
       "      <th>대의동</th>\n",
       "      <td>0</td>\n",
       "      <td>0</td>\n",
       "      <td>0</td>\n",
       "      <td>0</td>\n",
       "      <td>0</td>\n",
       "      <td>1</td>\n",
       "      <td>1</td>\n",
       "      <td>0</td>\n",
       "      <td>0</td>\n",
       "      <td>0</td>\n",
       "      <td>0</td>\n",
       "      <td>0</td>\n",
       "      <td>0</td>\n",
       "    </tr>\n",
       "  </tbody>\n",
       "</table>\n",
       "<p>163 rows × 13 columns</p>\n",
       "</div>"
      ],
      "text/plain": [
       "        TRAD  CONCERT  OLD  MART  LIB  ART  MUS  MED  COMM  SPORT  OWN  JOB  \\\n",
       "EMD_NM                                                                        \n",
       "연제동        0        0    0     0    3    0    0    0     0      3    0    0   \n",
       "덕림동        0        0    1     0    0    0    0    0     0      1    0    0   \n",
       "삼거동        0        0    3     0    0    0    0    3     0      1    0    0   \n",
       "남동         0        0    0     0    1    0    0    0     0      0    0    0   \n",
       "북구_양산동     0        0    4     0    9    0    0    5     0      0    9  147   \n",
       "...      ...      ...  ...   ...  ...  ...  ...  ...   ...    ...  ...  ...   \n",
       "남구_용두동     0        0    2     0    0    0    0    0     0      3    0    0   \n",
       "광천동        0        0    1     1    3    0    0    4     1      2    3   93   \n",
       "내방동        0        0    0     0    1    0    0    0     0      1    0    0   \n",
       "덕흥동        0        0    1     0    0    0    0    0     0      5    0    0   \n",
       "대의동        0        0    0     0    0    1    1    0     0      0    0    0   \n",
       "\n",
       "        CARROT  \n",
       "EMD_NM          \n",
       "연제동          2  \n",
       "덕림동          0  \n",
       "삼거동          0  \n",
       "남동           0  \n",
       "북구_양산동       0  \n",
       "...        ...  \n",
       "남구_용두동       0  \n",
       "광천동          3  \n",
       "내방동          0  \n",
       "덕흥동          0  \n",
       "대의동          0  \n",
       "\n",
       "[163 rows x 13 columns]"
      ]
     },
     "metadata": {},
     "output_type": "display_data"
    },
    {
     "data": {
      "text/html": [
       "<div>\n",
       "<style scoped>\n",
       "    .dataframe tbody tr th:only-of-type {\n",
       "        vertical-align: middle;\n",
       "    }\n",
       "\n",
       "    .dataframe tbody tr th {\n",
       "        vertical-align: top;\n",
       "    }\n",
       "\n",
       "    .dataframe thead th {\n",
       "        text-align: right;\n",
       "    }\n",
       "</style>\n",
       "<table border=\"1\" class=\"dataframe\">\n",
       "  <thead>\n",
       "    <tr style=\"text-align: right;\">\n",
       "      <th></th>\n",
       "      <th>CHARGE</th>\n",
       "    </tr>\n",
       "  </thead>\n",
       "  <tbody>\n",
       "    <tr>\n",
       "      <th>0</th>\n",
       "      <td>1</td>\n",
       "    </tr>\n",
       "    <tr>\n",
       "      <th>1</th>\n",
       "      <td>1</td>\n",
       "    </tr>\n",
       "    <tr>\n",
       "      <th>2</th>\n",
       "      <td>1</td>\n",
       "    </tr>\n",
       "    <tr>\n",
       "      <th>3</th>\n",
       "      <td>1</td>\n",
       "    </tr>\n",
       "    <tr>\n",
       "      <th>4</th>\n",
       "      <td>1</td>\n",
       "    </tr>\n",
       "    <tr>\n",
       "      <th>...</th>\n",
       "      <td>...</td>\n",
       "    </tr>\n",
       "    <tr>\n",
       "      <th>158</th>\n",
       "      <td>1</td>\n",
       "    </tr>\n",
       "    <tr>\n",
       "      <th>159</th>\n",
       "      <td>1</td>\n",
       "    </tr>\n",
       "    <tr>\n",
       "      <th>160</th>\n",
       "      <td>1</td>\n",
       "    </tr>\n",
       "    <tr>\n",
       "      <th>161</th>\n",
       "      <td>1</td>\n",
       "    </tr>\n",
       "    <tr>\n",
       "      <th>162</th>\n",
       "      <td>1</td>\n",
       "    </tr>\n",
       "  </tbody>\n",
       "</table>\n",
       "<p>163 rows × 1 columns</p>\n",
       "</div>"
      ],
      "text/plain": [
       "     CHARGE\n",
       "0         1\n",
       "1         1\n",
       "2         1\n",
       "3         1\n",
       "4         1\n",
       "..      ...\n",
       "158       1\n",
       "159       1\n",
       "160       1\n",
       "161       1\n",
       "162       1\n",
       "\n",
       "[163 rows x 1 columns]"
      ]
     },
     "metadata": {},
     "output_type": "display_data"
    }
   ],
   "source": [
    "display(X_test, y_test)"
   ]
  },
  {
   "cell_type": "code",
   "execution_count": 435,
   "id": "6b2816a9-007e-4c74-87c8-4aee0e4a4eac",
   "metadata": {},
   "outputs": [],
   "source": [
    "charge_zero_test_one = pd.concat([X_test.reset_index(), y_test], axis=1).set_index(['EMD_NM'])"
   ]
  },
  {
   "cell_type": "code",
   "execution_count": 436,
   "id": "15e6f8ef-0218-4c05-9dc3-08d9021e38d0",
   "metadata": {},
   "outputs": [],
   "source": [
    "X_test = charge_zero_train_one.iloc[:, :-1]\n",
    "y_test = charge_zero_train_one.iloc[:, -1]"
   ]
  },
  {
   "cell_type": "code",
   "execution_count": 447,
   "id": "a5af2fce-98db-4bcf-b94c-6fff258e81a9",
   "metadata": {},
   "outputs": [
    {
     "data": {
      "text/plain": [
       "EMD_NM\n",
       "연제동       1\n",
       "덕림동       1\n",
       "삼거동       1\n",
       "남동        1\n",
       "북구_양산동    1\n",
       "         ..\n",
       "남구_용두동    1\n",
       "광천동       1\n",
       "내방동       1\n",
       "덕흥동       1\n",
       "대의동       1\n",
       "Name: CHARGE, Length: 163, dtype: int64"
      ]
     },
     "metadata": {},
     "output_type": "display_data"
    }
   ],
   "source": []
  },
  {
   "cell_type": "code",
   "execution_count": null,
   "id": "58dc2701-fd54-4a57-979a-7741a0e2ff28",
   "metadata": {},
   "outputs": [],
   "source": []
  }
 ],
 "metadata": {
  "kernelspec": {
   "display_name": "Python 3 (ipykernel)",
   "language": "python",
   "name": "python3"
  },
  "language_info": {
   "codemirror_mode": {
    "name": "ipython",
    "version": 3
   },
   "file_extension": ".py",
   "mimetype": "text/x-python",
   "name": "python",
   "nbconvert_exporter": "python",
   "pygments_lexer": "ipython3",
   "version": "3.9.12"
  },
  "toc-autonumbering": true
 },
 "nbformat": 4,
 "nbformat_minor": 5
}
