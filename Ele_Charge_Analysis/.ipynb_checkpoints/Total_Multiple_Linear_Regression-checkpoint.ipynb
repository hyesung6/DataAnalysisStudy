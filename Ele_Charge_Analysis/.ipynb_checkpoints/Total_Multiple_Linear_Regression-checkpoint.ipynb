{
 "cells": [
  {
   "cell_type": "markdown",
   "id": "a68ad784",
   "metadata": {},
   "source": [
    "# Data Upload"
   ]
  },
  {
   "cell_type": "code",
   "execution_count": 1,
   "id": "eedbe806",
   "metadata": {},
   "outputs": [],
   "source": [
    "# 필요 library import \n",
    "import pandas as pd\n",
    "import numpy as np\n",
    "import seaborn as sns\n",
    "import matplotlib.pyplot as plt\n",
    "from sklearn.linear_model import Lasso, Ridge, ElasticNet, LinearRegression\n",
    "from sklearn import linear_model\n",
    "from sklearn.model_selection import train_test_split\n",
    "from sklearn.metrics import mean_squared_error\n",
    "from math import sqrt\n",
    "\n",
    "# 패키지 임포트\n",
    "import os\n",
    "import warnings\n",
    "\n",
    "# FutureWarning 제거\n",
    "warnings.simplefilter(action='ignore', category = FutureWarning)\n",
    "\n",
    "# os 에 따른 Font 깨짐 제거를 위해 Font 지정\n",
    "import os\n",
    "if os.name == 'nt' :\n",
    "    font_family = \"Malgun Gothic\"\n",
    "else :\n",
    "    font_family = \"Apple Gothic\"\n",
    "    \n",
    "\n",
    "# -값이 깨지는 문제 해결을 위해 파라미터값 설정\n",
    "sns.set(font = font_family, rc = {\"axes.unicode_minus\" : False})"
   ]
  },
  {
   "cell_type": "code",
   "execution_count": 2,
   "id": "71546a8b",
   "metadata": {},
   "outputs": [],
   "source": [
    "# data read\n",
    "total_data = pd.read_csv('total_dataset.csv', encoding='euc-kr', index_col= [\"EMD_NM\"])"
   ]
  },
  {
   "cell_type": "markdown",
   "id": "fdc4ca96",
   "metadata": {},
   "source": [
    "# Basic statistics"
   ]
  },
  {
   "cell_type": "code",
   "execution_count": 3,
   "id": "239914ff",
   "metadata": {},
   "outputs": [
    {
     "data": {
      "text/html": [
       "<div>\n",
       "<style scoped>\n",
       "    .dataframe tbody tr th:only-of-type {\n",
       "        vertical-align: middle;\n",
       "    }\n",
       "\n",
       "    .dataframe tbody tr th {\n",
       "        vertical-align: top;\n",
       "    }\n",
       "\n",
       "    .dataframe thead th {\n",
       "        text-align: right;\n",
       "    }\n",
       "</style>\n",
       "<table border=\"1\" class=\"dataframe\">\n",
       "  <thead>\n",
       "    <tr style=\"text-align: right;\">\n",
       "      <th></th>\n",
       "      <th>TRAD</th>\n",
       "      <th>CONCERT</th>\n",
       "      <th>OLD</th>\n",
       "      <th>MART</th>\n",
       "      <th>LIB</th>\n",
       "      <th>ART</th>\n",
       "      <th>MUS</th>\n",
       "      <th>MED</th>\n",
       "      <th>COMM</th>\n",
       "      <th>SPORT</th>\n",
       "      <th>OWN</th>\n",
       "      <th>JOB</th>\n",
       "      <th>CARROT</th>\n",
       "      <th>CHARGE</th>\n",
       "    </tr>\n",
       "    <tr>\n",
       "      <th>EMD_NM</th>\n",
       "      <th></th>\n",
       "      <th></th>\n",
       "      <th></th>\n",
       "      <th></th>\n",
       "      <th></th>\n",
       "      <th></th>\n",
       "      <th></th>\n",
       "      <th></th>\n",
       "      <th></th>\n",
       "      <th></th>\n",
       "      <th></th>\n",
       "      <th></th>\n",
       "      <th></th>\n",
       "      <th></th>\n",
       "    </tr>\n",
       "  </thead>\n",
       "  <tbody>\n",
       "    <tr>\n",
       "      <th>연제동</th>\n",
       "      <td>0</td>\n",
       "      <td>0</td>\n",
       "      <td>0</td>\n",
       "      <td>0</td>\n",
       "      <td>3</td>\n",
       "      <td>0</td>\n",
       "      <td>0</td>\n",
       "      <td>0</td>\n",
       "      <td>0</td>\n",
       "      <td>3</td>\n",
       "      <td>0</td>\n",
       "      <td>0</td>\n",
       "      <td>2</td>\n",
       "      <td>0</td>\n",
       "    </tr>\n",
       "    <tr>\n",
       "      <th>운암동</th>\n",
       "      <td>1</td>\n",
       "      <td>2</td>\n",
       "      <td>1</td>\n",
       "      <td>0</td>\n",
       "      <td>13</td>\n",
       "      <td>1</td>\n",
       "      <td>0</td>\n",
       "      <td>13</td>\n",
       "      <td>3</td>\n",
       "      <td>3</td>\n",
       "      <td>6</td>\n",
       "      <td>135</td>\n",
       "      <td>3</td>\n",
       "      <td>3</td>\n",
       "    </tr>\n",
       "    <tr>\n",
       "      <th>덕림동</th>\n",
       "      <td>0</td>\n",
       "      <td>0</td>\n",
       "      <td>1</td>\n",
       "      <td>0</td>\n",
       "      <td>0</td>\n",
       "      <td>0</td>\n",
       "      <td>0</td>\n",
       "      <td>0</td>\n",
       "      <td>0</td>\n",
       "      <td>1</td>\n",
       "      <td>0</td>\n",
       "      <td>0</td>\n",
       "      <td>0</td>\n",
       "      <td>1</td>\n",
       "    </tr>\n",
       "    <tr>\n",
       "      <th>삼거동</th>\n",
       "      <td>0</td>\n",
       "      <td>0</td>\n",
       "      <td>3</td>\n",
       "      <td>0</td>\n",
       "      <td>0</td>\n",
       "      <td>0</td>\n",
       "      <td>0</td>\n",
       "      <td>3</td>\n",
       "      <td>0</td>\n",
       "      <td>1</td>\n",
       "      <td>0</td>\n",
       "      <td>0</td>\n",
       "      <td>0</td>\n",
       "      <td>0</td>\n",
       "    </tr>\n",
       "    <tr>\n",
       "      <th>북구_동림동</th>\n",
       "      <td>0</td>\n",
       "      <td>0</td>\n",
       "      <td>1</td>\n",
       "      <td>0</td>\n",
       "      <td>6</td>\n",
       "      <td>0</td>\n",
       "      <td>0</td>\n",
       "      <td>3</td>\n",
       "      <td>1</td>\n",
       "      <td>6</td>\n",
       "      <td>6</td>\n",
       "      <td>27</td>\n",
       "      <td>2</td>\n",
       "      <td>3</td>\n",
       "    </tr>\n",
       "  </tbody>\n",
       "</table>\n",
       "</div>"
      ],
      "text/plain": [
       "        TRAD  CONCERT  OLD  MART  LIB  ART  MUS  MED  COMM  SPORT  OWN  JOB  \\\n",
       "EMD_NM                                                                        \n",
       "연제동        0        0    0     0    3    0    0    0     0      3    0    0   \n",
       "운암동        1        2    1     0   13    1    0   13     3      3    6  135   \n",
       "덕림동        0        0    1     0    0    0    0    0     0      1    0    0   \n",
       "삼거동        0        0    3     0    0    0    0    3     0      1    0    0   \n",
       "북구_동림동     0        0    1     0    6    0    0    3     1      6    6   27   \n",
       "\n",
       "        CARROT  CHARGE  \n",
       "EMD_NM                  \n",
       "연제동          2       0  \n",
       "운암동          3       3  \n",
       "덕림동          0       1  \n",
       "삼거동          0       0  \n",
       "북구_동림동       2       3  "
      ]
     },
     "execution_count": 3,
     "metadata": {},
     "output_type": "execute_result"
    }
   ],
   "source": [
    "total_data.head()"
   ]
  },
  {
   "cell_type": "code",
   "execution_count": 4,
   "id": "f374b935",
   "metadata": {},
   "outputs": [
    {
     "data": {
      "text/html": [
       "<div>\n",
       "<style scoped>\n",
       "    .dataframe tbody tr th:only-of-type {\n",
       "        vertical-align: middle;\n",
       "    }\n",
       "\n",
       "    .dataframe tbody tr th {\n",
       "        vertical-align: top;\n",
       "    }\n",
       "\n",
       "    .dataframe thead th {\n",
       "        text-align: right;\n",
       "    }\n",
       "</style>\n",
       "<table border=\"1\" class=\"dataframe\">\n",
       "  <thead>\n",
       "    <tr style=\"text-align: right;\">\n",
       "      <th></th>\n",
       "      <th>TRAD</th>\n",
       "      <th>CONCERT</th>\n",
       "      <th>OLD</th>\n",
       "      <th>MART</th>\n",
       "      <th>LIB</th>\n",
       "      <th>ART</th>\n",
       "      <th>MUS</th>\n",
       "      <th>MED</th>\n",
       "      <th>COMM</th>\n",
       "      <th>SPORT</th>\n",
       "      <th>OWN</th>\n",
       "      <th>JOB</th>\n",
       "      <th>CARROT</th>\n",
       "      <th>CHARGE</th>\n",
       "    </tr>\n",
       "  </thead>\n",
       "  <tbody>\n",
       "    <tr>\n",
       "      <th>count</th>\n",
       "      <td>193.000000</td>\n",
       "      <td>193.000000</td>\n",
       "      <td>193.000000</td>\n",
       "      <td>193.000000</td>\n",
       "      <td>193.000000</td>\n",
       "      <td>193.000000</td>\n",
       "      <td>193.000000</td>\n",
       "      <td>193.000000</td>\n",
       "      <td>193.000000</td>\n",
       "      <td>193.000000</td>\n",
       "      <td>193.000000</td>\n",
       "      <td>193.000000</td>\n",
       "      <td>193.000000</td>\n",
       "      <td>193.000000</td>\n",
       "    </tr>\n",
       "    <tr>\n",
       "      <th>mean</th>\n",
       "      <td>0.119171</td>\n",
       "      <td>0.113990</td>\n",
       "      <td>0.492228</td>\n",
       "      <td>0.113990</td>\n",
       "      <td>1.818653</td>\n",
       "      <td>0.088083</td>\n",
       "      <td>0.041451</td>\n",
       "      <td>1.378238</td>\n",
       "      <td>0.502591</td>\n",
       "      <td>2.865285</td>\n",
       "      <td>3.497409</td>\n",
       "      <td>30.896373</td>\n",
       "      <td>0.383420</td>\n",
       "      <td>0.575130</td>\n",
       "    </tr>\n",
       "    <tr>\n",
       "      <th>std</th>\n",
       "      <td>0.434568</td>\n",
       "      <td>0.417659</td>\n",
       "      <td>0.823605</td>\n",
       "      <td>0.429948</td>\n",
       "      <td>3.367007</td>\n",
       "      <td>0.405063</td>\n",
       "      <td>0.199849</td>\n",
       "      <td>2.581372</td>\n",
       "      <td>0.791388</td>\n",
       "      <td>4.089174</td>\n",
       "      <td>11.208314</td>\n",
       "      <td>74.808990</td>\n",
       "      <td>0.900309</td>\n",
       "      <td>1.097252</td>\n",
       "    </tr>\n",
       "    <tr>\n",
       "      <th>min</th>\n",
       "      <td>0.000000</td>\n",
       "      <td>0.000000</td>\n",
       "      <td>0.000000</td>\n",
       "      <td>0.000000</td>\n",
       "      <td>0.000000</td>\n",
       "      <td>0.000000</td>\n",
       "      <td>0.000000</td>\n",
       "      <td>0.000000</td>\n",
       "      <td>0.000000</td>\n",
       "      <td>0.000000</td>\n",
       "      <td>0.000000</td>\n",
       "      <td>0.000000</td>\n",
       "      <td>0.000000</td>\n",
       "      <td>0.000000</td>\n",
       "    </tr>\n",
       "    <tr>\n",
       "      <th>25%</th>\n",
       "      <td>0.000000</td>\n",
       "      <td>0.000000</td>\n",
       "      <td>0.000000</td>\n",
       "      <td>0.000000</td>\n",
       "      <td>0.000000</td>\n",
       "      <td>0.000000</td>\n",
       "      <td>0.000000</td>\n",
       "      <td>0.000000</td>\n",
       "      <td>0.000000</td>\n",
       "      <td>0.000000</td>\n",
       "      <td>0.000000</td>\n",
       "      <td>0.000000</td>\n",
       "      <td>0.000000</td>\n",
       "      <td>0.000000</td>\n",
       "    </tr>\n",
       "    <tr>\n",
       "      <th>50%</th>\n",
       "      <td>0.000000</td>\n",
       "      <td>0.000000</td>\n",
       "      <td>0.000000</td>\n",
       "      <td>0.000000</td>\n",
       "      <td>0.000000</td>\n",
       "      <td>0.000000</td>\n",
       "      <td>0.000000</td>\n",
       "      <td>0.000000</td>\n",
       "      <td>0.000000</td>\n",
       "      <td>1.000000</td>\n",
       "      <td>0.000000</td>\n",
       "      <td>0.000000</td>\n",
       "      <td>0.000000</td>\n",
       "      <td>0.000000</td>\n",
       "    </tr>\n",
       "    <tr>\n",
       "      <th>75%</th>\n",
       "      <td>0.000000</td>\n",
       "      <td>0.000000</td>\n",
       "      <td>1.000000</td>\n",
       "      <td>0.000000</td>\n",
       "      <td>2.000000</td>\n",
       "      <td>0.000000</td>\n",
       "      <td>0.000000</td>\n",
       "      <td>2.000000</td>\n",
       "      <td>1.000000</td>\n",
       "      <td>3.000000</td>\n",
       "      <td>2.000000</td>\n",
       "      <td>26.000000</td>\n",
       "      <td>0.000000</td>\n",
       "      <td>1.000000</td>\n",
       "    </tr>\n",
       "    <tr>\n",
       "      <th>max</th>\n",
       "      <td>3.000000</td>\n",
       "      <td>3.000000</td>\n",
       "      <td>4.000000</td>\n",
       "      <td>3.000000</td>\n",
       "      <td>16.000000</td>\n",
       "      <td>4.000000</td>\n",
       "      <td>1.000000</td>\n",
       "      <td>18.000000</td>\n",
       "      <td>4.000000</td>\n",
       "      <td>20.000000</td>\n",
       "      <td>102.000000</td>\n",
       "      <td>553.000000</td>\n",
       "      <td>5.000000</td>\n",
       "      <td>5.000000</td>\n",
       "    </tr>\n",
       "  </tbody>\n",
       "</table>\n",
       "</div>"
      ],
      "text/plain": [
       "             TRAD     CONCERT         OLD        MART         LIB         ART  \\\n",
       "count  193.000000  193.000000  193.000000  193.000000  193.000000  193.000000   \n",
       "mean     0.119171    0.113990    0.492228    0.113990    1.818653    0.088083   \n",
       "std      0.434568    0.417659    0.823605    0.429948    3.367007    0.405063   \n",
       "min      0.000000    0.000000    0.000000    0.000000    0.000000    0.000000   \n",
       "25%      0.000000    0.000000    0.000000    0.000000    0.000000    0.000000   \n",
       "50%      0.000000    0.000000    0.000000    0.000000    0.000000    0.000000   \n",
       "75%      0.000000    0.000000    1.000000    0.000000    2.000000    0.000000   \n",
       "max      3.000000    3.000000    4.000000    3.000000   16.000000    4.000000   \n",
       "\n",
       "              MUS         MED        COMM       SPORT         OWN         JOB  \\\n",
       "count  193.000000  193.000000  193.000000  193.000000  193.000000  193.000000   \n",
       "mean     0.041451    1.378238    0.502591    2.865285    3.497409   30.896373   \n",
       "std      0.199849    2.581372    0.791388    4.089174   11.208314   74.808990   \n",
       "min      0.000000    0.000000    0.000000    0.000000    0.000000    0.000000   \n",
       "25%      0.000000    0.000000    0.000000    0.000000    0.000000    0.000000   \n",
       "50%      0.000000    0.000000    0.000000    1.000000    0.000000    0.000000   \n",
       "75%      0.000000    2.000000    1.000000    3.000000    2.000000   26.000000   \n",
       "max      1.000000   18.000000    4.000000   20.000000  102.000000  553.000000   \n",
       "\n",
       "           CARROT      CHARGE  \n",
       "count  193.000000  193.000000  \n",
       "mean     0.383420    0.575130  \n",
       "std      0.900309    1.097252  \n",
       "min      0.000000    0.000000  \n",
       "25%      0.000000    0.000000  \n",
       "50%      0.000000    0.000000  \n",
       "75%      0.000000    1.000000  \n",
       "max      5.000000    5.000000  "
      ]
     },
     "execution_count": 4,
     "metadata": {},
     "output_type": "execute_result"
    }
   ],
   "source": [
    "total_data.describe()"
   ]
  },
  {
   "cell_type": "code",
   "execution_count": 5,
   "id": "29b09c6a",
   "metadata": {},
   "outputs": [
    {
     "name": "stdout",
     "output_type": "stream",
     "text": [
      "<class 'pandas.core.frame.DataFrame'>\n",
      "Index: 193 entries, 연제동 to 충장동\n",
      "Data columns (total 14 columns):\n",
      " #   Column   Non-Null Count  Dtype\n",
      "---  ------   --------------  -----\n",
      " 0   TRAD     193 non-null    int64\n",
      " 1   CONCERT  193 non-null    int64\n",
      " 2   OLD      193 non-null    int64\n",
      " 3   MART     193 non-null    int64\n",
      " 4   LIB      193 non-null    int64\n",
      " 5   ART      193 non-null    int64\n",
      " 6   MUS      193 non-null    int64\n",
      " 7   MED      193 non-null    int64\n",
      " 8   COMM     193 non-null    int64\n",
      " 9   SPORT    193 non-null    int64\n",
      " 10  OWN      193 non-null    int64\n",
      " 11  JOB      193 non-null    int64\n",
      " 12  CARROT   193 non-null    int64\n",
      " 13  CHARGE   193 non-null    int64\n",
      "dtypes: int64(14)\n",
      "memory usage: 22.6+ KB\n"
     ]
    }
   ],
   "source": [
    "total_data.info()"
   ]
  },
  {
   "cell_type": "markdown",
   "id": "a872b8a3",
   "metadata": {},
   "source": [
    "# Missing Value"
   ]
  },
  {
   "cell_type": "code",
   "execution_count": 6,
   "id": "287d5d62",
   "metadata": {},
   "outputs": [
    {
     "data": {
      "text/html": [
       "<div>\n",
       "<style scoped>\n",
       "    .dataframe tbody tr th:only-of-type {\n",
       "        vertical-align: middle;\n",
       "    }\n",
       "\n",
       "    .dataframe tbody tr th {\n",
       "        vertical-align: top;\n",
       "    }\n",
       "\n",
       "    .dataframe thead th {\n",
       "        text-align: right;\n",
       "    }\n",
       "</style>\n",
       "<table border=\"1\" class=\"dataframe\">\n",
       "  <thead>\n",
       "    <tr style=\"text-align: right;\">\n",
       "      <th></th>\n",
       "      <th>TRAD</th>\n",
       "      <th>CONCERT</th>\n",
       "      <th>OLD</th>\n",
       "      <th>MART</th>\n",
       "      <th>LIB</th>\n",
       "      <th>ART</th>\n",
       "      <th>MUS</th>\n",
       "      <th>MED</th>\n",
       "      <th>COMM</th>\n",
       "      <th>SPORT</th>\n",
       "      <th>OWN</th>\n",
       "      <th>JOB</th>\n",
       "      <th>CARROT</th>\n",
       "      <th>CHARGE</th>\n",
       "    </tr>\n",
       "    <tr>\n",
       "      <th>EMD_NM</th>\n",
       "      <th></th>\n",
       "      <th></th>\n",
       "      <th></th>\n",
       "      <th></th>\n",
       "      <th></th>\n",
       "      <th></th>\n",
       "      <th></th>\n",
       "      <th></th>\n",
       "      <th></th>\n",
       "      <th></th>\n",
       "      <th></th>\n",
       "      <th></th>\n",
       "      <th></th>\n",
       "      <th></th>\n",
       "    </tr>\n",
       "  </thead>\n",
       "  <tbody>\n",
       "    <tr>\n",
       "      <th>연제동</th>\n",
       "      <td>False</td>\n",
       "      <td>False</td>\n",
       "      <td>False</td>\n",
       "      <td>False</td>\n",
       "      <td>False</td>\n",
       "      <td>False</td>\n",
       "      <td>False</td>\n",
       "      <td>False</td>\n",
       "      <td>False</td>\n",
       "      <td>False</td>\n",
       "      <td>False</td>\n",
       "      <td>False</td>\n",
       "      <td>False</td>\n",
       "      <td>False</td>\n",
       "    </tr>\n",
       "    <tr>\n",
       "      <th>운암동</th>\n",
       "      <td>False</td>\n",
       "      <td>False</td>\n",
       "      <td>False</td>\n",
       "      <td>False</td>\n",
       "      <td>False</td>\n",
       "      <td>False</td>\n",
       "      <td>False</td>\n",
       "      <td>False</td>\n",
       "      <td>False</td>\n",
       "      <td>False</td>\n",
       "      <td>False</td>\n",
       "      <td>False</td>\n",
       "      <td>False</td>\n",
       "      <td>False</td>\n",
       "    </tr>\n",
       "    <tr>\n",
       "      <th>덕림동</th>\n",
       "      <td>False</td>\n",
       "      <td>False</td>\n",
       "      <td>False</td>\n",
       "      <td>False</td>\n",
       "      <td>False</td>\n",
       "      <td>False</td>\n",
       "      <td>False</td>\n",
       "      <td>False</td>\n",
       "      <td>False</td>\n",
       "      <td>False</td>\n",
       "      <td>False</td>\n",
       "      <td>False</td>\n",
       "      <td>False</td>\n",
       "      <td>False</td>\n",
       "    </tr>\n",
       "    <tr>\n",
       "      <th>삼거동</th>\n",
       "      <td>False</td>\n",
       "      <td>False</td>\n",
       "      <td>False</td>\n",
       "      <td>False</td>\n",
       "      <td>False</td>\n",
       "      <td>False</td>\n",
       "      <td>False</td>\n",
       "      <td>False</td>\n",
       "      <td>False</td>\n",
       "      <td>False</td>\n",
       "      <td>False</td>\n",
       "      <td>False</td>\n",
       "      <td>False</td>\n",
       "      <td>False</td>\n",
       "    </tr>\n",
       "    <tr>\n",
       "      <th>북구_동림동</th>\n",
       "      <td>False</td>\n",
       "      <td>False</td>\n",
       "      <td>False</td>\n",
       "      <td>False</td>\n",
       "      <td>False</td>\n",
       "      <td>False</td>\n",
       "      <td>False</td>\n",
       "      <td>False</td>\n",
       "      <td>False</td>\n",
       "      <td>False</td>\n",
       "      <td>False</td>\n",
       "      <td>False</td>\n",
       "      <td>False</td>\n",
       "      <td>False</td>\n",
       "    </tr>\n",
       "    <tr>\n",
       "      <th>...</th>\n",
       "      <td>...</td>\n",
       "      <td>...</td>\n",
       "      <td>...</td>\n",
       "      <td>...</td>\n",
       "      <td>...</td>\n",
       "      <td>...</td>\n",
       "      <td>...</td>\n",
       "      <td>...</td>\n",
       "      <td>...</td>\n",
       "      <td>...</td>\n",
       "      <td>...</td>\n",
       "      <td>...</td>\n",
       "      <td>...</td>\n",
       "      <td>...</td>\n",
       "    </tr>\n",
       "    <tr>\n",
       "      <th>쌍촌동</th>\n",
       "      <td>False</td>\n",
       "      <td>False</td>\n",
       "      <td>False</td>\n",
       "      <td>False</td>\n",
       "      <td>False</td>\n",
       "      <td>False</td>\n",
       "      <td>False</td>\n",
       "      <td>False</td>\n",
       "      <td>False</td>\n",
       "      <td>False</td>\n",
       "      <td>False</td>\n",
       "      <td>False</td>\n",
       "      <td>False</td>\n",
       "      <td>False</td>\n",
       "    </tr>\n",
       "    <tr>\n",
       "      <th>내방동</th>\n",
       "      <td>False</td>\n",
       "      <td>False</td>\n",
       "      <td>False</td>\n",
       "      <td>False</td>\n",
       "      <td>False</td>\n",
       "      <td>False</td>\n",
       "      <td>False</td>\n",
       "      <td>False</td>\n",
       "      <td>False</td>\n",
       "      <td>False</td>\n",
       "      <td>False</td>\n",
       "      <td>False</td>\n",
       "      <td>False</td>\n",
       "      <td>False</td>\n",
       "    </tr>\n",
       "    <tr>\n",
       "      <th>덕흥동</th>\n",
       "      <td>False</td>\n",
       "      <td>False</td>\n",
       "      <td>False</td>\n",
       "      <td>False</td>\n",
       "      <td>False</td>\n",
       "      <td>False</td>\n",
       "      <td>False</td>\n",
       "      <td>False</td>\n",
       "      <td>False</td>\n",
       "      <td>False</td>\n",
       "      <td>False</td>\n",
       "      <td>False</td>\n",
       "      <td>False</td>\n",
       "      <td>False</td>\n",
       "    </tr>\n",
       "    <tr>\n",
       "      <th>대의동</th>\n",
       "      <td>False</td>\n",
       "      <td>False</td>\n",
       "      <td>False</td>\n",
       "      <td>False</td>\n",
       "      <td>False</td>\n",
       "      <td>False</td>\n",
       "      <td>False</td>\n",
       "      <td>False</td>\n",
       "      <td>False</td>\n",
       "      <td>False</td>\n",
       "      <td>False</td>\n",
       "      <td>False</td>\n",
       "      <td>False</td>\n",
       "      <td>False</td>\n",
       "    </tr>\n",
       "    <tr>\n",
       "      <th>충장동</th>\n",
       "      <td>False</td>\n",
       "      <td>False</td>\n",
       "      <td>False</td>\n",
       "      <td>False</td>\n",
       "      <td>False</td>\n",
       "      <td>False</td>\n",
       "      <td>False</td>\n",
       "      <td>False</td>\n",
       "      <td>False</td>\n",
       "      <td>False</td>\n",
       "      <td>False</td>\n",
       "      <td>False</td>\n",
       "      <td>False</td>\n",
       "      <td>False</td>\n",
       "    </tr>\n",
       "  </tbody>\n",
       "</table>\n",
       "<p>193 rows × 14 columns</p>\n",
       "</div>"
      ],
      "text/plain": [
       "         TRAD  CONCERT    OLD   MART    LIB    ART    MUS    MED   COMM  \\\n",
       "EMD_NM                                                                    \n",
       "연제동     False    False  False  False  False  False  False  False  False   \n",
       "운암동     False    False  False  False  False  False  False  False  False   \n",
       "덕림동     False    False  False  False  False  False  False  False  False   \n",
       "삼거동     False    False  False  False  False  False  False  False  False   \n",
       "북구_동림동  False    False  False  False  False  False  False  False  False   \n",
       "...       ...      ...    ...    ...    ...    ...    ...    ...    ...   \n",
       "쌍촌동     False    False  False  False  False  False  False  False  False   \n",
       "내방동     False    False  False  False  False  False  False  False  False   \n",
       "덕흥동     False    False  False  False  False  False  False  False  False   \n",
       "대의동     False    False  False  False  False  False  False  False  False   \n",
       "충장동     False    False  False  False  False  False  False  False  False   \n",
       "\n",
       "        SPORT    OWN    JOB  CARROT  CHARGE  \n",
       "EMD_NM                                       \n",
       "연제동     False  False  False   False   False  \n",
       "운암동     False  False  False   False   False  \n",
       "덕림동     False  False  False   False   False  \n",
       "삼거동     False  False  False   False   False  \n",
       "북구_동림동  False  False  False   False   False  \n",
       "...       ...    ...    ...     ...     ...  \n",
       "쌍촌동     False  False  False   False   False  \n",
       "내방동     False  False  False   False   False  \n",
       "덕흥동     False  False  False   False   False  \n",
       "대의동     False  False  False   False   False  \n",
       "충장동     False  False  False   False   False  \n",
       "\n",
       "[193 rows x 14 columns]"
      ]
     },
     "execution_count": 6,
     "metadata": {},
     "output_type": "execute_result"
    }
   ],
   "source": [
    "total_data.isnull()"
   ]
  },
  {
   "cell_type": "code",
   "execution_count": 7,
   "id": "fc8c7301",
   "metadata": {
    "scrolled": true
   },
   "outputs": [
    {
     "data": {
      "text/plain": [
       "TRAD       0\n",
       "CONCERT    0\n",
       "OLD        0\n",
       "MART       0\n",
       "LIB        0\n",
       "ART        0\n",
       "MUS        0\n",
       "MED        0\n",
       "COMM       0\n",
       "SPORT      0\n",
       "OWN        0\n",
       "JOB        0\n",
       "CARROT     0\n",
       "CHARGE     0\n",
       "dtype: int64"
      ]
     },
     "execution_count": 7,
     "metadata": {},
     "output_type": "execute_result"
    }
   ],
   "source": [
    "total_data.isnull().sum()"
   ]
  },
  {
   "cell_type": "markdown",
   "id": "228e363f-1029-489b-a3f8-27158f38ba75",
   "metadata": {},
   "source": [
    "## Min-Max Scaler 진행"
   ]
  },
  {
   "cell_type": "code",
   "execution_count": 8,
   "id": "eb9e85ea-7f50-4c78-99a3-50f57b615225",
   "metadata": {
    "tags": []
   },
   "outputs": [],
   "source": [
    "# from sklearn.preprocessing import MinMaxScaler\n",
    "\n",
    "# scaler = MinMaxScaler()\n",
    "# scaled_data = scaler.fit_transform(total_data)"
   ]
  },
  {
   "cell_type": "code",
   "execution_count": 9,
   "id": "389d8972-e309-4655-8046-b21dbdd5b24d",
   "metadata": {},
   "outputs": [],
   "source": [
    "# # 표준화된 행렬 -> 데이터프레임 변환 \n",
    "# scaled_data = pd.DataFrame(scaled_data, columns=total_data.columns)"
   ]
  },
  {
   "cell_type": "code",
   "execution_count": 10,
   "id": "4dd18aa1-b300-48ce-af21-e76a42b2e847",
   "metadata": {
    "tags": []
   },
   "outputs": [],
   "source": [
    "# # 독립변수 ( data )\n",
    "# X = scaled_data.iloc[:,:-1]"
   ]
  },
  {
   "cell_type": "code",
   "execution_count": 11,
   "id": "b624eca1-45e3-4b5f-bb99-5d01532bc619",
   "metadata": {},
   "outputs": [],
   "source": [
    "# # 종속변수 ( target )\n",
    "# y = scaled_data.iloc[:,-1]"
   ]
  },
  {
   "cell_type": "code",
   "execution_count": 12,
   "id": "b5c39fc1-4cb2-40d9-84fd-687f502e333d",
   "metadata": {},
   "outputs": [],
   "source": [
    "# # 흔련, 테스트 데이터 분리 - Scaled Data\n",
    "# X_train, X_test, y_train, y_test = train_test_split(X, y, test_size=0.2, random_state=42, stratify=y)"
   ]
  },
  {
   "cell_type": "markdown",
   "id": "bb8299de",
   "metadata": {},
   "source": [
    "#  1. 다중선형 회귀분석 ver.1"
   ]
  },
  {
   "cell_type": "markdown",
   "id": "4f202a30",
   "metadata": {
    "tags": []
   },
   "source": [
    "## 1-1) 다중선형 회귀분석 모델"
   ]
  },
  {
   "cell_type": "code",
   "execution_count": 13,
   "id": "c999d7b2",
   "metadata": {},
   "outputs": [],
   "source": [
    "# 법정동 코드 : EMD_CD, 충전소 개수 : CHARGE를 제외한 칼럼들은 X\n",
    "X = total_data[total_data.columns.difference(['EMD_NM','CHARGE'])]\n",
    "\n",
    "y = total_data['CHARGE']"
   ]
  },
  {
   "cell_type": "code",
   "execution_count": 14,
   "id": "47921f00",
   "metadata": {},
   "outputs": [],
   "source": [
    "# train : test = 80 : 20, random_state = 42 \n",
    "X_train, X_test, y_train, y_test = train_test_split(X, y, test_size=0.2, random_state = 42, stratify = y)"
   ]
  },
  {
   "cell_type": "code",
   "execution_count": 15,
   "id": "0aaae87d",
   "metadata": {},
   "outputs": [],
   "source": [
    "lr = linear_model.LinearRegression()"
   ]
  },
  {
   "cell_type": "code",
   "execution_count": 16,
   "id": "22fe747e",
   "metadata": {},
   "outputs": [],
   "source": [
    "lr_model = lr.fit(X_train, y_train)"
   ]
  },
  {
   "cell_type": "code",
   "execution_count": 17,
   "id": "70b9af3a",
   "metadata": {},
   "outputs": [
    {
     "name": "stdout",
     "output_type": "stream",
     "text": [
      "[ 0.22744753 -0.04447084  0.02625633  0.17569742  0.00408255  0.05325123\n",
      " -0.14699244  0.09753755 -0.31699056 -0.09410003  0.00733018  0.0549985\n",
      "  0.84025854]\n"
     ]
    }
   ],
   "source": [
    "# trained_coef\n",
    "print(lr_model.coef_)"
   ]
  },
  {
   "cell_type": "code",
   "execution_count": 18,
   "id": "724bd4ec",
   "metadata": {},
   "outputs": [
    {
     "name": "stdout",
     "output_type": "stream",
     "text": [
      "-0.011944760835893464\n"
     ]
    }
   ],
   "source": [
    "# trained_intercept\n",
    "print(lr_model.intercept_)"
   ]
  },
  {
   "cell_type": "markdown",
   "id": "4622bc2a",
   "metadata": {},
   "source": [
    "## 1-2) 기존 값과 예측 값 비교"
   ]
  },
  {
   "cell_type": "code",
   "execution_count": 19,
   "id": "fb29cfb8",
   "metadata": {},
   "outputs": [
    {
     "name": "stdout",
     "output_type": "stream",
     "text": [
      "<class 'pandas.core.series.Series'>\n"
     ]
    }
   ],
   "source": [
    "x_new = X_test\n",
    "y_new = lr_model.predict(x_new)\n",
    "print(type(y_test))"
   ]
  },
  {
   "cell_type": "code",
   "execution_count": 20,
   "id": "3cc8496a",
   "metadata": {},
   "outputs": [],
   "source": [
    "y_compare = {'y_test' : y_test, 'y_predicted' : y_new}"
   ]
  },
  {
   "cell_type": "code",
   "execution_count": 21,
   "id": "54771e4f",
   "metadata": {
    "scrolled": true
   },
   "outputs": [
    {
     "data": {
      "text/html": [
       "<div>\n",
       "<style scoped>\n",
       "    .dataframe tbody tr th:only-of-type {\n",
       "        vertical-align: middle;\n",
       "    }\n",
       "\n",
       "    .dataframe tbody tr th {\n",
       "        vertical-align: top;\n",
       "    }\n",
       "\n",
       "    .dataframe thead th {\n",
       "        text-align: right;\n",
       "    }\n",
       "</style>\n",
       "<table border=\"1\" class=\"dataframe\">\n",
       "  <thead>\n",
       "    <tr style=\"text-align: right;\">\n",
       "      <th></th>\n",
       "      <th>y_test</th>\n",
       "      <th>y_predicted</th>\n",
       "    </tr>\n",
       "    <tr>\n",
       "      <th>EMD_NM</th>\n",
       "      <th></th>\n",
       "      <th></th>\n",
       "    </tr>\n",
       "  </thead>\n",
       "  <tbody>\n",
       "    <tr>\n",
       "      <th>호남동</th>\n",
       "      <td>0</td>\n",
       "      <td>0.041122</td>\n",
       "    </tr>\n",
       "    <tr>\n",
       "      <th>치평동</th>\n",
       "      <td>4</td>\n",
       "      <td>4.305368</td>\n",
       "    </tr>\n",
       "    <tr>\n",
       "      <th>월곡동</th>\n",
       "      <td>3</td>\n",
       "      <td>1.729051</td>\n",
       "    </tr>\n",
       "    <tr>\n",
       "      <th>태령동</th>\n",
       "      <td>0</td>\n",
       "      <td>0.043054</td>\n",
       "    </tr>\n",
       "    <tr>\n",
       "      <th>압촌동</th>\n",
       "      <td>0</td>\n",
       "      <td>-0.011945</td>\n",
       "    </tr>\n",
       "    <tr>\n",
       "      <th>광산구_용봉동</th>\n",
       "      <td>0</td>\n",
       "      <td>-0.090359</td>\n",
       "    </tr>\n",
       "    <tr>\n",
       "      <th>생용동</th>\n",
       "      <td>0</td>\n",
       "      <td>-0.200145</td>\n",
       "    </tr>\n",
       "    <tr>\n",
       "      <th>양과동</th>\n",
       "      <td>0</td>\n",
       "      <td>-0.011945</td>\n",
       "    </tr>\n",
       "    <tr>\n",
       "      <th>월남동</th>\n",
       "      <td>0</td>\n",
       "      <td>0.261300</td>\n",
       "    </tr>\n",
       "    <tr>\n",
       "      <th>등임동</th>\n",
       "      <td>0</td>\n",
       "      <td>0.098052</td>\n",
       "    </tr>\n",
       "    <tr>\n",
       "      <th>삼거동</th>\n",
       "      <td>0</td>\n",
       "      <td>0.053366</td>\n",
       "    </tr>\n",
       "    <tr>\n",
       "      <th>명도동</th>\n",
       "      <td>0</td>\n",
       "      <td>0.098052</td>\n",
       "    </tr>\n",
       "    <tr>\n",
       "      <th>유동</th>\n",
       "      <td>0</td>\n",
       "      <td>0.360175</td>\n",
       "    </tr>\n",
       "    <tr>\n",
       "      <th>지죽동</th>\n",
       "      <td>0</td>\n",
       "      <td>0.043054</td>\n",
       "    </tr>\n",
       "    <tr>\n",
       "      <th>월계동</th>\n",
       "      <td>2</td>\n",
       "      <td>1.786995</td>\n",
       "    </tr>\n",
       "    <tr>\n",
       "      <th>남동</th>\n",
       "      <td>0</td>\n",
       "      <td>0.041306</td>\n",
       "    </tr>\n",
       "    <tr>\n",
       "      <th>지야동</th>\n",
       "      <td>0</td>\n",
       "      <td>-0.011945</td>\n",
       "    </tr>\n",
       "    <tr>\n",
       "      <th>칠석동</th>\n",
       "      <td>0</td>\n",
       "      <td>-0.106045</td>\n",
       "    </tr>\n",
       "    <tr>\n",
       "      <th>복룡동</th>\n",
       "      <td>0</td>\n",
       "      <td>0.208049</td>\n",
       "    </tr>\n",
       "    <tr>\n",
       "      <th>광산구_산수동</th>\n",
       "      <td>0</td>\n",
       "      <td>0.208049</td>\n",
       "    </tr>\n",
       "    <tr>\n",
       "      <th>삼각동</th>\n",
       "      <td>1</td>\n",
       "      <td>0.230089</td>\n",
       "    </tr>\n",
       "    <tr>\n",
       "      <th>쌍암동</th>\n",
       "      <td>1</td>\n",
       "      <td>1.140848</td>\n",
       "    </tr>\n",
       "    <tr>\n",
       "      <th>도산동</th>\n",
       "      <td>1</td>\n",
       "      <td>0.556103</td>\n",
       "    </tr>\n",
       "    <tr>\n",
       "      <th>봉선동</th>\n",
       "      <td>2</td>\n",
       "      <td>2.227304</td>\n",
       "    </tr>\n",
       "    <tr>\n",
       "      <th>선교동</th>\n",
       "      <td>0</td>\n",
       "      <td>0.223946</td>\n",
       "    </tr>\n",
       "    <tr>\n",
       "      <th>신창동</th>\n",
       "      <td>0</td>\n",
       "      <td>1.300872</td>\n",
       "    </tr>\n",
       "    <tr>\n",
       "      <th>하산동</th>\n",
       "      <td>0</td>\n",
       "      <td>0.242471</td>\n",
       "    </tr>\n",
       "    <tr>\n",
       "      <th>학동</th>\n",
       "      <td>3</td>\n",
       "      <td>2.449549</td>\n",
       "    </tr>\n",
       "    <tr>\n",
       "      <th>운수동</th>\n",
       "      <td>0</td>\n",
       "      <td>-0.051046</td>\n",
       "    </tr>\n",
       "    <tr>\n",
       "      <th>소촌동</th>\n",
       "      <td>0</td>\n",
       "      <td>1.477963</td>\n",
       "    </tr>\n",
       "    <tr>\n",
       "      <th>옥동</th>\n",
       "      <td>0</td>\n",
       "      <td>0.992171</td>\n",
       "    </tr>\n",
       "    <tr>\n",
       "      <th>대인동</th>\n",
       "      <td>0</td>\n",
       "      <td>1.343694</td>\n",
       "    </tr>\n",
       "    <tr>\n",
       "      <th>덕림동</th>\n",
       "      <td>1</td>\n",
       "      <td>-0.051046</td>\n",
       "    </tr>\n",
       "    <tr>\n",
       "      <th>동천동</th>\n",
       "      <td>1</td>\n",
       "      <td>0.773571</td>\n",
       "    </tr>\n",
       "    <tr>\n",
       "      <th>금곡동</th>\n",
       "      <td>0</td>\n",
       "      <td>-0.011945</td>\n",
       "    </tr>\n",
       "    <tr>\n",
       "      <th>용강동</th>\n",
       "      <td>0</td>\n",
       "      <td>-0.011945</td>\n",
       "    </tr>\n",
       "    <tr>\n",
       "      <th>금호동</th>\n",
       "      <td>2</td>\n",
       "      <td>1.988442</td>\n",
       "    </tr>\n",
       "    <tr>\n",
       "      <th>석정동</th>\n",
       "      <td>0</td>\n",
       "      <td>-0.011945</td>\n",
       "    </tr>\n",
       "    <tr>\n",
       "      <th>도금동</th>\n",
       "      <td>0</td>\n",
       "      <td>-0.011945</td>\n",
       "    </tr>\n",
       "  </tbody>\n",
       "</table>\n",
       "</div>"
      ],
      "text/plain": [
       "         y_test  y_predicted\n",
       "EMD_NM                      \n",
       "호남동           0     0.041122\n",
       "치평동           4     4.305368\n",
       "월곡동           3     1.729051\n",
       "태령동           0     0.043054\n",
       "압촌동           0    -0.011945\n",
       "광산구_용봉동       0    -0.090359\n",
       "생용동           0    -0.200145\n",
       "양과동           0    -0.011945\n",
       "월남동           0     0.261300\n",
       "등임동           0     0.098052\n",
       "삼거동           0     0.053366\n",
       "명도동           0     0.098052\n",
       "유동            0     0.360175\n",
       "지죽동           0     0.043054\n",
       "월계동           2     1.786995\n",
       "남동            0     0.041306\n",
       "지야동           0    -0.011945\n",
       "칠석동           0    -0.106045\n",
       "복룡동           0     0.208049\n",
       "광산구_산수동       0     0.208049\n",
       "삼각동           1     0.230089\n",
       "쌍암동           1     1.140848\n",
       "도산동           1     0.556103\n",
       "봉선동           2     2.227304\n",
       "선교동           0     0.223946\n",
       "신창동           0     1.300872\n",
       "하산동           0     0.242471\n",
       "학동            3     2.449549\n",
       "운수동           0    -0.051046\n",
       "소촌동           0     1.477963\n",
       "옥동            0     0.992171\n",
       "대인동           0     1.343694\n",
       "덕림동           1    -0.051046\n",
       "동천동           1     0.773571\n",
       "금곡동           0    -0.011945\n",
       "용강동           0    -0.011945\n",
       "금호동           2     1.988442\n",
       "석정동           0    -0.011945\n",
       "도금동           0    -0.011945"
      ]
     },
     "execution_count": 21,
     "metadata": {},
     "output_type": "execute_result"
    }
   ],
   "source": [
    "y_compare = pd.DataFrame(y_compare)\n",
    "y_compare"
   ]
  },
  {
   "cell_type": "code",
   "execution_count": 22,
   "id": "4d0b25ce",
   "metadata": {},
   "outputs": [
    {
     "data": {
      "text/plain": [
       "<matplotlib.legend.Legend at 0x18cffafd580>"
      ]
     },
     "execution_count": 22,
     "metadata": {},
     "output_type": "execute_result"
    },
    {
     "data": {
      "image/png": "[encoded data removed]",
      "text/plain": [
       "<Figure size 864x288 with 1 Axes>"
      ]
     },
     "metadata": {},
     "output_type": "display_data"
    }
   ],
   "source": [
    "ax = y_compare.plot(kind = 'bar', title = '충전 수요 분포 지수 예측 ver.1', \n",
    "                   figsize = (12, 4), legend = True, fontsize = 12)\n",
    "ax.set_xlabel('법정동', fontsize = 12)\n",
    "ax.set_ylabel('테스트 값 / 예측 값', fontsize = 12)\n",
    "ax.legend(['y_test', 'y_predicted'], fontsize = 12)"
   ]
  },
  {
   "cell_type": "markdown",
   "id": "2b6f950a",
   "metadata": {},
   "source": [
    "## 1-3) Performance ver.1"
   ]
  },
  {
   "cell_type": "code",
   "execution_count": 23,
   "id": "0ddc9fa8",
   "metadata": {},
   "outputs": [
    {
     "name": "stdout",
     "output_type": "stream",
     "text": [
      "훈련 세트의 정확도 : 0.6860575880300621\n",
      "테스트 세트의 정확도 : 0.7171574232060203\n",
      "사용한 특성의 수 : 13\n"
     ]
    }
   ],
   "source": [
    "# R2 Score(결정계수)\n",
    "print(f'훈련 세트의 정확도 : {lr_model.score(X_train, y_train)}')\n",
    "print(f'테스트 세트의 정확도 : {lr_model.score(X_test, y_test)}')\n",
    "print(f'사용한 특성의 수 : {np.sum(lr_model.coef_ != 0)}')"
   ]
  },
  {
   "cell_type": "code",
   "execution_count": 24,
   "id": "c8c0906d-8d1e-4d21-bbce-8d5c0be2f0ae",
   "metadata": {},
   "outputs": [
    {
     "data": {
      "image/png": "[encoded data removed]",
      "text/plain": [
       "<Figure size 360x360 with 1 Axes>"
      ]
     },
     "metadata": {},
     "output_type": "display_data"
    }
   ],
   "source": [
    "visualize = [lr_model.score(X_train, y_train), lr_model.score(X_test, y_test)]\n",
    "\n",
    "plt.figure(figsize=(5,5))\n",
    "plt.bar(range(len(visualize)), visualize, width=0.65)\n",
    "plt.ylabel('performance')\n",
    "plt.xlabel('train & test')\n",
    "plt.show()"
   ]
  },
  {
   "cell_type": "markdown",
   "id": "f2b1ddd7",
   "metadata": {},
   "source": [
    "# Improved Performance - 1"
   ]
  },
  {
   "cell_type": "markdown",
   "id": "fe329b28",
   "metadata": {},
   "source": [
    "## vif가 높은 feature 제거"
   ]
  },
  {
   "cell_type": "code",
   "execution_count": 25,
   "id": "b708356c",
   "metadata": {},
   "outputs": [
    {
     "data": {
      "text/plain": [
       "<AxesSubplot:>"
      ]
     },
     "execution_count": 25,
     "metadata": {},
     "output_type": "execute_result"
    },
    {
     "data": {
      "image/png": "[encoded data removed]",
      "text/plain": [
       "<Figure size 1080x720 with 2 Axes>"
      ]
     },
     "metadata": {},
     "output_type": "display_data"
    }
   ],
   "source": [
    "# Heatmap\n",
    "total_data_corr = total_data.copy()\n",
    "plt.rcParams['figure.figsize'] = (15, 10)\n",
    "\n",
    "sns.heatmap(total_data_corr.corr(), annot = True, cmap = 'Reds', vmin = -1, vmax = 1)"
   ]
  },
  {
   "cell_type": "code",
   "execution_count": 26,
   "id": "441373ec-3a9d-4f01-840e-47be1f99efd0",
   "metadata": {},
   "outputs": [
    {
     "data": {
      "text/plain": [
       "Index(['TRAD', 'CONCERT', 'OLD', 'MART', 'LIB', 'ART', 'MUS', 'MED', 'COMM',\n",
       "       'SPORT', 'OWN', 'JOB', 'CARROT', 'CHARGE'],\n",
       "      dtype='object')"
      ]
     },
     "execution_count": 26,
     "metadata": {},
     "output_type": "execute_result"
    }
   ],
   "source": [
    "total_data_corr.columns"
   ]
  },
  {
   "cell_type": "code",
   "execution_count": 27,
   "id": "a5b6de67",
   "metadata": {},
   "outputs": [
    {
     "data": {
      "text/html": [
       "<div>\n",
       "<style scoped>\n",
       "    .dataframe tbody tr th:only-of-type {\n",
       "        vertical-align: middle;\n",
       "    }\n",
       "\n",
       "    .dataframe tbody tr th {\n",
       "        vertical-align: top;\n",
       "    }\n",
       "\n",
       "    .dataframe thead th {\n",
       "        text-align: right;\n",
       "    }\n",
       "</style>\n",
       "<table border=\"1\" class=\"dataframe\">\n",
       "  <thead>\n",
       "    <tr style=\"text-align: right;\">\n",
       "      <th></th>\n",
       "      <th>VIF</th>\n",
       "      <th>features</th>\n",
       "    </tr>\n",
       "  </thead>\n",
       "  <tbody>\n",
       "    <tr>\n",
       "      <th>0</th>\n",
       "      <td>2.194235</td>\n",
       "      <td>TRAD</td>\n",
       "    </tr>\n",
       "    <tr>\n",
       "      <th>1</th>\n",
       "      <td>1.819474</td>\n",
       "      <td>CONCERT</td>\n",
       "    </tr>\n",
       "    <tr>\n",
       "      <th>2</th>\n",
       "      <td>1.760653</td>\n",
       "      <td>OLD</td>\n",
       "    </tr>\n",
       "    <tr>\n",
       "      <th>3</th>\n",
       "      <td>1.578607</td>\n",
       "      <td>MART</td>\n",
       "    </tr>\n",
       "    <tr>\n",
       "      <th>4</th>\n",
       "      <td>3.804537</td>\n",
       "      <td>LIB</td>\n",
       "    </tr>\n",
       "    <tr>\n",
       "      <th>5</th>\n",
       "      <td>1.161986</td>\n",
       "      <td>ART</td>\n",
       "    </tr>\n",
       "    <tr>\n",
       "      <th>6</th>\n",
       "      <td>1.265390</td>\n",
       "      <td>MUS</td>\n",
       "    </tr>\n",
       "    <tr>\n",
       "      <th>7</th>\n",
       "      <td>3.726044</td>\n",
       "      <td>MED</td>\n",
       "    </tr>\n",
       "    <tr>\n",
       "      <th>8</th>\n",
       "      <td>4.409671</td>\n",
       "      <td>COMM</td>\n",
       "    </tr>\n",
       "    <tr>\n",
       "      <th>9</th>\n",
       "      <td>1.882926</td>\n",
       "      <td>SPORT</td>\n",
       "    </tr>\n",
       "    <tr>\n",
       "      <th>10</th>\n",
       "      <td>2.053591</td>\n",
       "      <td>OWN</td>\n",
       "    </tr>\n",
       "    <tr>\n",
       "      <th>11</th>\n",
       "      <td>2.018407</td>\n",
       "      <td>JOB</td>\n",
       "    </tr>\n",
       "    <tr>\n",
       "      <th>12</th>\n",
       "      <td>2.220290</td>\n",
       "      <td>CARROT</td>\n",
       "    </tr>\n",
       "    <tr>\n",
       "      <th>13</th>\n",
       "      <td>4.224462</td>\n",
       "      <td>CHARGE</td>\n",
       "    </tr>\n",
       "  </tbody>\n",
       "</table>\n",
       "</div>"
      ],
      "text/plain": [
       "         VIF features\n",
       "0   2.194235     TRAD\n",
       "1   1.819474  CONCERT\n",
       "2   1.760653      OLD\n",
       "3   1.578607     MART\n",
       "4   3.804537      LIB\n",
       "5   1.161986      ART\n",
       "6   1.265390      MUS\n",
       "7   3.726044      MED\n",
       "8   4.409671     COMM\n",
       "9   1.882926    SPORT\n",
       "10  2.053591      OWN\n",
       "11  2.018407      JOB\n",
       "12  2.220290   CARROT\n",
       "13  4.224462   CHARGE"
      ]
     },
     "execution_count": 27,
     "metadata": {},
     "output_type": "execute_result"
    }
   ],
   "source": [
    "# VIF\n",
    "from statsmodels.stats.outliers_influence import variance_inflation_factor\n",
    "vif = pd.DataFrame()\n",
    "vif['VIF'] = [variance_inflation_factor(total_data_corr.values, i) for i in range(total_data_corr.shape[1])]\n",
    "vif['features'] = total_data_corr.columns.values\n",
    "vif"
   ]
  },
  {
   "cell_type": "code",
   "execution_count": 28,
   "id": "96ced364",
   "metadata": {
    "tags": []
   },
   "outputs": [
    {
     "data": {
      "text/html": [
       "<div>\n",
       "<style scoped>\n",
       "    .dataframe tbody tr th:only-of-type {\n",
       "        vertical-align: middle;\n",
       "    }\n",
       "\n",
       "    .dataframe tbody tr th {\n",
       "        vertical-align: top;\n",
       "    }\n",
       "\n",
       "    .dataframe thead th {\n",
       "        text-align: right;\n",
       "    }\n",
       "</style>\n",
       "<table border=\"1\" class=\"dataframe\">\n",
       "  <thead>\n",
       "    <tr style=\"text-align: right;\">\n",
       "      <th></th>\n",
       "      <th>VIF</th>\n",
       "      <th>features</th>\n",
       "    </tr>\n",
       "  </thead>\n",
       "  <tbody>\n",
       "    <tr>\n",
       "      <th>0</th>\n",
       "      <td>2.060164</td>\n",
       "      <td>TRAD</td>\n",
       "    </tr>\n",
       "    <tr>\n",
       "      <th>1</th>\n",
       "      <td>1.778992</td>\n",
       "      <td>CONCERT</td>\n",
       "    </tr>\n",
       "    <tr>\n",
       "      <th>2</th>\n",
       "      <td>1.744271</td>\n",
       "      <td>OLD</td>\n",
       "    </tr>\n",
       "    <tr>\n",
       "      <th>3</th>\n",
       "      <td>1.568070</td>\n",
       "      <td>MART</td>\n",
       "    </tr>\n",
       "    <tr>\n",
       "      <th>4</th>\n",
       "      <td>2.868981</td>\n",
       "      <td>LIB</td>\n",
       "    </tr>\n",
       "    <tr>\n",
       "      <th>5</th>\n",
       "      <td>1.139530</td>\n",
       "      <td>ART</td>\n",
       "    </tr>\n",
       "    <tr>\n",
       "      <th>6</th>\n",
       "      <td>1.254635</td>\n",
       "      <td>MUS</td>\n",
       "    </tr>\n",
       "    <tr>\n",
       "      <th>7</th>\n",
       "      <td>3.550147</td>\n",
       "      <td>MED</td>\n",
       "    </tr>\n",
       "    <tr>\n",
       "      <th>8</th>\n",
       "      <td>1.794854</td>\n",
       "      <td>SPORT</td>\n",
       "    </tr>\n",
       "    <tr>\n",
       "      <th>9</th>\n",
       "      <td>2.053399</td>\n",
       "      <td>OWN</td>\n",
       "    </tr>\n",
       "    <tr>\n",
       "      <th>10</th>\n",
       "      <td>1.979166</td>\n",
       "      <td>JOB</td>\n",
       "    </tr>\n",
       "    <tr>\n",
       "      <th>11</th>\n",
       "      <td>2.203555</td>\n",
       "      <td>CARROT</td>\n",
       "    </tr>\n",
       "    <tr>\n",
       "      <th>12</th>\n",
       "      <td>4.198139</td>\n",
       "      <td>CHARGE</td>\n",
       "    </tr>\n",
       "  </tbody>\n",
       "</table>\n",
       "</div>"
      ],
      "text/plain": [
       "         VIF features\n",
       "0   2.060164     TRAD\n",
       "1   1.778992  CONCERT\n",
       "2   1.744271      OLD\n",
       "3   1.568070     MART\n",
       "4   2.868981      LIB\n",
       "5   1.139530      ART\n",
       "6   1.254635      MUS\n",
       "7   3.550147      MED\n",
       "8   1.794854    SPORT\n",
       "9   2.053399      OWN\n",
       "10  1.979166      JOB\n",
       "11  2.203555   CARROT\n",
       "12  4.198139   CHARGE"
      ]
     },
     "execution_count": 28,
     "metadata": {},
     "output_type": "execute_result"
    }
   ],
   "source": [
    "# vif가 4 이상인 feature 제거 : 'COMM' 컬럼 제거\n",
    "total_data_corr = total_data_corr.drop(['COMM'], axis = 1).copy()\n",
    "vif = pd.DataFrame()\n",
    "vif['VIF'] = [variance_inflation_factor(total_data_corr.values, i) for i in range(total_data_corr.shape[1])]\n",
    "vif['features'] = total_data_corr.columns\n",
    "vif"
   ]
  },
  {
   "cell_type": "code",
   "execution_count": 29,
   "id": "4aa8cfc8",
   "metadata": {
    "scrolled": true
   },
   "outputs": [
    {
     "data": {
      "text/plain": [
       "array(['TRAD', 'CONCERT', 'OLD', 'MART', 'LIB', 'ART', 'MUS', 'MED',\n",
       "       'SPORT', 'OWN', 'JOB', 'CARROT', 'CHARGE'], dtype=object)"
      ]
     },
     "execution_count": 29,
     "metadata": {},
     "output_type": "execute_result"
    }
   ],
   "source": [
    "vif.features.values"
   ]
  },
  {
   "cell_type": "markdown",
   "id": "5bbf8d36",
   "metadata": {},
   "source": [
    "# 2. 다중선형 회귀분석 ver.2"
   ]
  },
  {
   "cell_type": "markdown",
   "id": "2bd9e7d0",
   "metadata": {},
   "source": [
    "## 2-1) 다중선형 회귀모델"
   ]
  },
  {
   "cell_type": "code",
   "execution_count": 30,
   "id": "d4cd4632",
   "metadata": {
    "tags": []
   },
   "outputs": [],
   "source": [
    "# VIF가 4이상인 컬럼인 'COMM' 컬럼 제거된 df 생성\n",
    "total_data_corr_re = total_data_corr.copy()\n",
    "X = total_data_corr_re[total_data_corr_re.columns.difference(['CHARGE'])]\n",
    "y = total_data_corr_re['CHARGE']"
   ]
  },
  {
   "cell_type": "code",
   "execution_count": 31,
   "id": "830eb4f2",
   "metadata": {},
   "outputs": [],
   "source": [
    "# train : test = 80 : 20, random_state = 42\n",
    "X_train, X_test, y_train, y_test = train_test_split(X, y, test_size=0.2, random_state=42, stratify = y)"
   ]
  },
  {
   "cell_type": "code",
   "execution_count": 32,
   "id": "bb7059ac",
   "metadata": {},
   "outputs": [],
   "source": [
    "lr = linear_model.LinearRegression()\n",
    "lr_model2 = lr.fit(X_train, y_train)"
   ]
  },
  {
   "cell_type": "code",
   "execution_count": 33,
   "id": "de32a497",
   "metadata": {},
   "outputs": [
    {
     "name": "stdout",
     "output_type": "stream",
     "text": [
      "[ 0.22568609 -0.04397676  0.17283452  0.00412248  0.05602208 -0.14241982\n",
      "  0.10011701 -0.31542658 -0.09584597  0.0073019   0.05532287  0.85084418]\n"
     ]
    }
   ],
   "source": [
    "# trained_coef\n",
    "print(lr_model2.coef_)"
   ]
  },
  {
   "cell_type": "code",
   "execution_count": 34,
   "id": "0a0951f2",
   "metadata": {},
   "outputs": [
    {
     "name": "stdout",
     "output_type": "stream",
     "text": [
      "-0.00986077996120338\n"
     ]
    }
   ],
   "source": [
    "# trained_intercept\n",
    "print(lr_model2.intercept_)"
   ]
  },
  {
   "cell_type": "markdown",
   "id": "dacd4dd4",
   "metadata": {},
   "source": [
    "## 2-2) 기존 값과 예측 값 비교"
   ]
  },
  {
   "cell_type": "code",
   "execution_count": 35,
   "id": "4e8302ad-c29b-4412-ae6e-6370ac8e105b",
   "metadata": {},
   "outputs": [],
   "source": [
    "%matplotlib inline"
   ]
  },
  {
   "cell_type": "code",
   "execution_count": 36,
   "id": "b3b4fa68",
   "metadata": {
    "tags": []
   },
   "outputs": [],
   "source": [
    "x_new = X_test\n",
    "y_new = lr_model2.predict(x_new)"
   ]
  },
  {
   "cell_type": "code",
   "execution_count": 37,
   "id": "cae9a8a3",
   "metadata": {},
   "outputs": [],
   "source": [
    "y_compare2 = {'테스트 값' : y_test, '예측 값' : y_new}"
   ]
  },
  {
   "cell_type": "code",
   "execution_count": 38,
   "id": "8bc1b7f0",
   "metadata": {},
   "outputs": [],
   "source": [
    "y_compare2 = pd.DataFrame(y_compare2)"
   ]
  },
  {
   "cell_type": "code",
   "execution_count": 39,
   "id": "4389cc78",
   "metadata": {},
   "outputs": [
    {
     "data": {
      "text/plain": [
       "<matplotlib.legend.Legend at 0x18c806e8ca0>"
      ]
     },
     "execution_count": 39,
     "metadata": {},
     "output_type": "execute_result"
    },
    {
     "data": {
      "image/png": "[encoded data removed]",
      "text/plain": [
       "<Figure size 864x288 with 1 Axes>"
      ]
     },
     "metadata": {
      "needs_background": "light"
     },
     "output_type": "display_data"
    }
   ],
   "source": [
    "ax = y_compare2.plot(kind = 'bar', title = '충전 수요 지수 예측 막대 그래프', \n",
    "                   figsize = (12, 4), legend = True, fontsize = 12)\n",
    "ax.set_xlabel('법정동', fontsize = 12)\n",
    "ax.set_ylabel('테스트 값 / 예측 값', fontsize = 12)\n",
    "ax.legend(['y_test', 'y_predicted'], fontsize = 12)"
   ]
  },
  {
   "cell_type": "markdown",
   "id": "c1479205",
   "metadata": {},
   "source": [
    "## 2-3) Performance ver.2"
   ]
  },
  {
   "cell_type": "code",
   "execution_count": 40,
   "id": "98cb7006",
   "metadata": {},
   "outputs": [
    {
     "name": "stdout",
     "output_type": "stream",
     "text": [
      "훈련 세트의 정확도 : 0.6859507900819471\n",
      "테스트 세트의 정확도 : 0.7119450264569589\n",
      "사용한 특성의 수 : 12\n"
     ]
    }
   ],
   "source": [
    "# R2 Score(결정계수)\n",
    "print(f'훈련 세트의 정확도 : {lr_model2.score(X_train, y_train)}')\n",
    "print(f'테스트 세트의 정확도 : {lr_model2.score(X_test, y_test)}')\n",
    "print(f'사용한 특성의 수 : {np.sum(lr_model2.coef_ != 0)}')"
   ]
  },
  {
   "cell_type": "markdown",
   "id": "3e77d40c",
   "metadata": {},
   "source": [
    " # Improved Performance - 2"
   ]
  },
  {
   "cell_type": "markdown",
   "id": "35c48deb",
   "metadata": {},
   "source": [
    "## feature의 p-value 검정"
   ]
  },
  {
   "cell_type": "code",
   "execution_count": 41,
   "id": "65a0db22",
   "metadata": {
    "scrolled": true
   },
   "outputs": [
    {
     "name": "stdout",
     "output_type": "stream",
     "text": [
      "                            OLS Regression Results                            \n",
      "==============================================================================\n",
      "Dep. Variable:                 CHARGE   R-squared:                       0.686\n",
      "Model:                            OLS   Adj. R-squared:                  0.659\n",
      "Method:                 Least Squares   F-statistic:                     25.66\n",
      "Date:                Tue, 16 Aug 2022   Prob (F-statistic):           9.68e-30\n",
      "Time:                        23:03:34   Log-Likelihood:                -146.08\n",
      "No. Observations:                 154   AIC:                             318.2\n",
      "Df Residuals:                     141   BIC:                             357.6\n",
      "Df Model:                          12                                         \n",
      "Covariance Type:            nonrobust                                         \n",
      "==============================================================================\n",
      "                 coef    std err          t      P>|t|      [0.025      0.975]\n",
      "------------------------------------------------------------------------------\n",
      "const         -0.0099      0.073     -0.135      0.893      -0.154       0.134\n",
      "ART            0.2257      0.133      1.694      0.092      -0.038       0.489\n",
      "CARROT        -0.0440      0.087     -0.504      0.615      -0.217       0.129\n",
      "CONCERT        0.1728      0.150      1.150      0.252      -0.124       0.470\n",
      "JOB            0.0041      0.001      4.934      0.000       0.002       0.006\n",
      "LIB            0.0560      0.022      2.495      0.014       0.012       0.100\n",
      "MART          -0.1424      0.138     -1.034      0.303      -0.415       0.130\n",
      "MED            0.1001      0.037      2.738      0.007       0.028       0.172\n",
      "MUS           -0.3154      0.301     -1.048      0.296      -0.910       0.280\n",
      "OLD           -0.0958      0.078     -1.226      0.222      -0.250       0.059\n",
      "OWN            0.0073      0.006      1.168      0.245      -0.005       0.020\n",
      "SPORT          0.0553      0.015      3.604      0.000       0.025       0.086\n",
      "TRAD           0.8508      0.150      5.684      0.000       0.555       1.147\n",
      "==============================================================================\n",
      "Omnibus:                       41.211   Durbin-Watson:                   1.914\n",
      "Prob(Omnibus):                  0.000   Jarque-Bera (JB):               92.063\n",
      "Skew:                           1.146   Prob(JB):                     1.02e-20\n",
      "Kurtosis:                       6.016   Cond. No.                         471.\n",
      "==============================================================================\n",
      "\n",
      "Notes:\n",
      "[1] Standard Errors assume that the covariance matrix of the errors is correctly specified.\n"
     ]
    }
   ],
   "source": [
    "import statsmodels.api as sms\n",
    "\n",
    "X_train = sms.add_constant(X_train)\n",
    "lr_remodel = sms.OLS(y_train, X_train).fit()\n",
    "print(lr_remodel.summary())"
   ]
  },
  {
   "cell_type": "markdown",
   "id": "687fb3df",
   "metadata": {},
   "source": [
    "# 3. 다중선형 회귀분석 ver.3"
   ]
  },
  {
   "cell_type": "markdown",
   "id": "786b11b3",
   "metadata": {},
   "source": [
    "## 3-1) 다중선형 회귀모델"
   ]
  },
  {
   "cell_type": "code",
   "execution_count": 42,
   "id": "5838556a",
   "metadata": {},
   "outputs": [],
   "source": [
    "# t값의 절댓값이 낮은 컬럼인 'CARROT' 제거 및 잔차가 가장 높은 컬럼인 'MUS' 제거 \n",
    "total_data_corr_re = total_data_corr.drop(['CARROT', 'MUS'], axis=1).copy()\n",
    "\n",
    "X = total_data_corr_re[total_data_corr_re.columns.difference(['CHARGE'])]\n",
    "y = total_data_corr_re['CHARGE']"
   ]
  },
  {
   "cell_type": "code",
   "execution_count": 43,
   "id": "06dfe19e",
   "metadata": {},
   "outputs": [],
   "source": [
    "# train : test = 80 : 20\n",
    "X_train, X_test, y_train, y_test = train_test_split(X, y, test_size=0.2, random_state=42, stratify = y)"
   ]
  },
  {
   "cell_type": "code",
   "execution_count": 44,
   "id": "c08b1d17",
   "metadata": {},
   "outputs": [],
   "source": [
    "lr = linear_model.LinearRegression()\n",
    "lr_model3 = lr.fit(X_train, y_train)"
   ]
  },
  {
   "cell_type": "code",
   "execution_count": 45,
   "id": "edebb455-b67a-4a20-bc92-12d0d0649015",
   "metadata": {},
   "outputs": [
    {
     "data": {
      "text/html": [
       "<div>\n",
       "<style scoped>\n",
       "    .dataframe tbody tr th:only-of-type {\n",
       "        vertical-align: middle;\n",
       "    }\n",
       "\n",
       "    .dataframe tbody tr th {\n",
       "        vertical-align: top;\n",
       "    }\n",
       "\n",
       "    .dataframe thead th {\n",
       "        text-align: right;\n",
       "    }\n",
       "</style>\n",
       "<table border=\"1\" class=\"dataframe\">\n",
       "  <thead>\n",
       "    <tr style=\"text-align: right;\">\n",
       "      <th></th>\n",
       "      <th>ART</th>\n",
       "      <th>CONCERT</th>\n",
       "      <th>JOB</th>\n",
       "      <th>LIB</th>\n",
       "      <th>MART</th>\n",
       "      <th>MED</th>\n",
       "      <th>OLD</th>\n",
       "      <th>OWN</th>\n",
       "      <th>SPORT</th>\n",
       "      <th>TRAD</th>\n",
       "    </tr>\n",
       "    <tr>\n",
       "      <th>EMD_NM</th>\n",
       "      <th></th>\n",
       "      <th></th>\n",
       "      <th></th>\n",
       "      <th></th>\n",
       "      <th></th>\n",
       "      <th></th>\n",
       "      <th></th>\n",
       "      <th></th>\n",
       "      <th></th>\n",
       "      <th></th>\n",
       "    </tr>\n",
       "  </thead>\n",
       "  <tbody>\n",
       "    <tr>\n",
       "      <th>서봉동</th>\n",
       "      <td>0</td>\n",
       "      <td>0</td>\n",
       "      <td>0</td>\n",
       "      <td>0</td>\n",
       "      <td>0</td>\n",
       "      <td>0</td>\n",
       "      <td>0</td>\n",
       "      <td>0</td>\n",
       "      <td>2</td>\n",
       "      <td>0</td>\n",
       "    </tr>\n",
       "    <tr>\n",
       "      <th>장록동</th>\n",
       "      <td>0</td>\n",
       "      <td>0</td>\n",
       "      <td>0</td>\n",
       "      <td>0</td>\n",
       "      <td>0</td>\n",
       "      <td>0</td>\n",
       "      <td>0</td>\n",
       "      <td>0</td>\n",
       "      <td>2</td>\n",
       "      <td>0</td>\n",
       "    </tr>\n",
       "    <tr>\n",
       "      <th>광산동</th>\n",
       "      <td>0</td>\n",
       "      <td>1</td>\n",
       "      <td>0</td>\n",
       "      <td>1</td>\n",
       "      <td>0</td>\n",
       "      <td>0</td>\n",
       "      <td>0</td>\n",
       "      <td>0</td>\n",
       "      <td>0</td>\n",
       "      <td>0</td>\n",
       "    </tr>\n",
       "    <tr>\n",
       "      <th>도덕동</th>\n",
       "      <td>0</td>\n",
       "      <td>0</td>\n",
       "      <td>0</td>\n",
       "      <td>0</td>\n",
       "      <td>0</td>\n",
       "      <td>0</td>\n",
       "      <td>1</td>\n",
       "      <td>0</td>\n",
       "      <td>4</td>\n",
       "      <td>0</td>\n",
       "    </tr>\n",
       "    <tr>\n",
       "      <th>대의동</th>\n",
       "      <td>1</td>\n",
       "      <td>0</td>\n",
       "      <td>0</td>\n",
       "      <td>0</td>\n",
       "      <td>0</td>\n",
       "      <td>0</td>\n",
       "      <td>0</td>\n",
       "      <td>0</td>\n",
       "      <td>0</td>\n",
       "      <td>0</td>\n",
       "    </tr>\n",
       "    <tr>\n",
       "      <th>...</th>\n",
       "      <td>...</td>\n",
       "      <td>...</td>\n",
       "      <td>...</td>\n",
       "      <td>...</td>\n",
       "      <td>...</td>\n",
       "      <td>...</td>\n",
       "      <td>...</td>\n",
       "      <td>...</td>\n",
       "      <td>...</td>\n",
       "      <td>...</td>\n",
       "    </tr>\n",
       "    <tr>\n",
       "      <th>유계동</th>\n",
       "      <td>0</td>\n",
       "      <td>0</td>\n",
       "      <td>0</td>\n",
       "      <td>0</td>\n",
       "      <td>0</td>\n",
       "      <td>0</td>\n",
       "      <td>0</td>\n",
       "      <td>0</td>\n",
       "      <td>2</td>\n",
       "      <td>0</td>\n",
       "    </tr>\n",
       "    <tr>\n",
       "      <th>황금동</th>\n",
       "      <td>0</td>\n",
       "      <td>0</td>\n",
       "      <td>0</td>\n",
       "      <td>0</td>\n",
       "      <td>0</td>\n",
       "      <td>0</td>\n",
       "      <td>0</td>\n",
       "      <td>0</td>\n",
       "      <td>0</td>\n",
       "      <td>0</td>\n",
       "    </tr>\n",
       "    <tr>\n",
       "      <th>신안동</th>\n",
       "      <td>0</td>\n",
       "      <td>0</td>\n",
       "      <td>120</td>\n",
       "      <td>1</td>\n",
       "      <td>1</td>\n",
       "      <td>6</td>\n",
       "      <td>2</td>\n",
       "      <td>6</td>\n",
       "      <td>0</td>\n",
       "      <td>0</td>\n",
       "    </tr>\n",
       "    <tr>\n",
       "      <th>방림동</th>\n",
       "      <td>0</td>\n",
       "      <td>0</td>\n",
       "      <td>18</td>\n",
       "      <td>6</td>\n",
       "      <td>0</td>\n",
       "      <td>2</td>\n",
       "      <td>0</td>\n",
       "      <td>6</td>\n",
       "      <td>0</td>\n",
       "      <td>0</td>\n",
       "    </tr>\n",
       "    <tr>\n",
       "      <th>장동</th>\n",
       "      <td>0</td>\n",
       "      <td>0</td>\n",
       "      <td>0</td>\n",
       "      <td>2</td>\n",
       "      <td>0</td>\n",
       "      <td>0</td>\n",
       "      <td>0</td>\n",
       "      <td>0</td>\n",
       "      <td>0</td>\n",
       "      <td>0</td>\n",
       "    </tr>\n",
       "  </tbody>\n",
       "</table>\n",
       "<p>154 rows × 10 columns</p>\n",
       "</div>"
      ],
      "text/plain": [
       "        ART  CONCERT  JOB  LIB  MART  MED  OLD  OWN  SPORT  TRAD\n",
       "EMD_NM                                                          \n",
       "서봉동       0        0    0    0     0    0    0    0      2     0\n",
       "장록동       0        0    0    0     0    0    0    0      2     0\n",
       "광산동       0        1    0    1     0    0    0    0      0     0\n",
       "도덕동       0        0    0    0     0    0    1    0      4     0\n",
       "대의동       1        0    0    0     0    0    0    0      0     0\n",
       "...     ...      ...  ...  ...   ...  ...  ...  ...    ...   ...\n",
       "유계동       0        0    0    0     0    0    0    0      2     0\n",
       "황금동       0        0    0    0     0    0    0    0      0     0\n",
       "신안동       0        0  120    1     1    6    2    6      0     0\n",
       "방림동       0        0   18    6     0    2    0    6      0     0\n",
       "장동        0        0    0    2     0    0    0    0      0     0\n",
       "\n",
       "[154 rows x 10 columns]"
      ]
     },
     "execution_count": 45,
     "metadata": {},
     "output_type": "execute_result"
    }
   ],
   "source": [
    "X_train"
   ]
  },
  {
   "cell_type": "markdown",
   "id": "d255d101",
   "metadata": {},
   "source": [
    "## 3-2) 기존 값과 예측 값 비교"
   ]
  },
  {
   "cell_type": "code",
   "execution_count": 46,
   "id": "caba5e62",
   "metadata": {},
   "outputs": [],
   "source": [
    "x_new = X_test\n",
    "y_new = lr_model3.predict(x_new)"
   ]
  },
  {
   "cell_type": "code",
   "execution_count": 47,
   "id": "09845c67",
   "metadata": {},
   "outputs": [],
   "source": [
    "y_compare3 = {'테스트 값' : y_test, '예측 값' : y_new}"
   ]
  },
  {
   "cell_type": "code",
   "execution_count": 48,
   "id": "e084c4ef",
   "metadata": {},
   "outputs": [],
   "source": [
    "y_compare3 = pd.DataFrame(y_compare3)"
   ]
  },
  {
   "cell_type": "code",
   "execution_count": 49,
   "id": "dcf05942-d2f3-44be-abb0-2606fb3493ca",
   "metadata": {},
   "outputs": [
    {
     "data": {
      "text/plain": [
       "<matplotlib.legend.Legend at 0x18c837c9f40>"
      ]
     },
     "execution_count": 49,
     "metadata": {},
     "output_type": "execute_result"
    },
    {
     "data": {
      "image/png": "[encoded data removed]",
      "text/plain": [
       "<Figure size 864x288 with 1 Axes>"
      ]
     },
     "metadata": {
      "needs_background": "light"
     },
     "output_type": "display_data"
    }
   ],
   "source": [
    "ax = y_compare3.plot(kind = 'bar', title = '충전 수요 지수 예측 막대 그래프', \n",
    "                   figsize = (12, 4), legend = True, fontsize = 12)\n",
    "ax.set_xlabel('법정동', fontsize = 12)\n",
    "ax.set_ylabel('테스트 값 / 예측 값', fontsize = 12)\n",
    "ax.legend(['테스트 값', '예측 값'], fontsize = 12)"
   ]
  },
  {
   "cell_type": "markdown",
   "id": "1dd460c7",
   "metadata": {},
   "source": [
    "## 3-3) Performance ver.3"
   ]
  },
  {
   "cell_type": "code",
   "execution_count": 50,
   "id": "c0b37fa3",
   "metadata": {},
   "outputs": [
    {
     "name": "stdout",
     "output_type": "stream",
     "text": [
      "훈련 세트의 정확도 : 0.6830524920856065\n",
      "테스트 세트의 정확도 : 0.7218430245278967\n",
      "사용한 특성의 수 : 10\n"
     ]
    }
   ],
   "source": [
    "# R2 Score(결정계수)\n",
    "print(f'훈련 세트의 정확도 : {lr_model3.score(X_train, y_train)}')\n",
    "print(f'테스트 세트의 정확도 : {lr_model3.score(X_test, y_test)}')\n",
    "print(f'사용한 특성의 수 : {np.sum(lr_model3.coef_ != 0)}')"
   ]
  },
  {
   "cell_type": "markdown",
   "id": "8efbc882",
   "metadata": {},
   "source": [
    "# 4. 최종 모델 선택에 따른 예측 값 도출"
   ]
  },
  {
   "cell_type": "code",
   "execution_count": 51,
   "id": "c9459203",
   "metadata": {},
   "outputs": [],
   "source": [
    "X_test_total = total_data_corr_re[total_data_corr_re['CHARGE'] >= 0].iloc[:, :-1]\n",
    "y_pred_total = lr_model3.predict(X_test_total)\n",
    "y_pred_df_total = pd.DataFrame(y_pred_total, columns=['charge_demand'])"
   ]
  },
  {
   "cell_type": "code",
   "execution_count": 52,
   "id": "62ad6e7a",
   "metadata": {},
   "outputs": [
    {
     "data": {
      "text/html": [
       "<div>\n",
       "<style scoped>\n",
       "    .dataframe tbody tr th:only-of-type {\n",
       "        vertical-align: middle;\n",
       "    }\n",
       "\n",
       "    .dataframe tbody tr th {\n",
       "        vertical-align: top;\n",
       "    }\n",
       "\n",
       "    .dataframe thead th {\n",
       "        text-align: right;\n",
       "    }\n",
       "</style>\n",
       "<table border=\"1\" class=\"dataframe\">\n",
       "  <thead>\n",
       "    <tr style=\"text-align: right;\">\n",
       "      <th></th>\n",
       "      <th>fir_coef</th>\n",
       "      <th>charge_count</th>\n",
       "      <th>final_coef</th>\n",
       "    </tr>\n",
       "    <tr>\n",
       "      <th>EMD_NM</th>\n",
       "      <th></th>\n",
       "      <th></th>\n",
       "      <th></th>\n",
       "    </tr>\n",
       "  </thead>\n",
       "  <tbody>\n",
       "    <tr>\n",
       "      <th>하남동</th>\n",
       "      <td>446.761427</td>\n",
       "      <td>1</td>\n",
       "      <td>445.761427</td>\n",
       "    </tr>\n",
       "    <tr>\n",
       "      <th>본촌동</th>\n",
       "      <td>365.670103</td>\n",
       "      <td>2</td>\n",
       "      <td>363.670103</td>\n",
       "    </tr>\n",
       "    <tr>\n",
       "      <th>치평동</th>\n",
       "      <td>284.345706</td>\n",
       "      <td>4</td>\n",
       "      <td>280.345706</td>\n",
       "    </tr>\n",
       "    <tr>\n",
       "      <th>서석동</th>\n",
       "      <td>233.276734</td>\n",
       "      <td>3</td>\n",
       "      <td>230.276734</td>\n",
       "    </tr>\n",
       "    <tr>\n",
       "      <th>쌍촌동</th>\n",
       "      <td>206.821483</td>\n",
       "      <td>5</td>\n",
       "      <td>201.821483</td>\n",
       "    </tr>\n",
       "    <tr>\n",
       "      <th>...</th>\n",
       "      <td>...</td>\n",
       "      <td>...</td>\n",
       "      <td>...</td>\n",
       "    </tr>\n",
       "    <tr>\n",
       "      <th>도산동</th>\n",
       "      <td>4.260267</td>\n",
       "      <td>1</td>\n",
       "      <td>3.260267</td>\n",
       "    </tr>\n",
       "    <tr>\n",
       "      <th>동명동</th>\n",
       "      <td>2.870213</td>\n",
       "      <td>1</td>\n",
       "      <td>1.870213</td>\n",
       "    </tr>\n",
       "    <tr>\n",
       "      <th>대촌동</th>\n",
       "      <td>1.766528</td>\n",
       "      <td>0</td>\n",
       "      <td>1.766528</td>\n",
       "    </tr>\n",
       "    <tr>\n",
       "      <th>하산동</th>\n",
       "      <td>1.622771</td>\n",
       "      <td>0</td>\n",
       "      <td>1.622771</td>\n",
       "    </tr>\n",
       "    <tr>\n",
       "      <th>망월동</th>\n",
       "      <td>1.597603</td>\n",
       "      <td>0</td>\n",
       "      <td>1.597603</td>\n",
       "    </tr>\n",
       "  </tbody>\n",
       "</table>\n",
       "<p>62 rows × 3 columns</p>\n",
       "</div>"
      ],
      "text/plain": [
       "          fir_coef  charge_count  final_coef\n",
       "EMD_NM                                      \n",
       "하남동     446.761427             1  445.761427\n",
       "본촌동     365.670103             2  363.670103\n",
       "치평동     284.345706             4  280.345706\n",
       "서석동     233.276734             3  230.276734\n",
       "쌍촌동     206.821483             5  201.821483\n",
       "...            ...           ...         ...\n",
       "도산동       4.260267             1    3.260267\n",
       "동명동       2.870213             1    1.870213\n",
       "대촌동       1.766528             0    1.766528\n",
       "하산동       1.622771             0    1.622771\n",
       "망월동       1.597603             0    1.597603\n",
       "\n",
       "[62 rows x 3 columns]"
      ]
     },
     "execution_count": 52,
     "metadata": {},
     "output_type": "execute_result"
    }
   ],
   "source": [
    "# charge_true(최종 수요 지수) = 1차 수요 지수(y_pred_total) - 기설치 충전기 대수 (y)\n",
    "charge_true = y_pred_total - y\n",
    "total_df = {'fir_coef' : y_pred_total, 'charge_count' : y ,'final_coef' : charge_true}\n",
    "total_df = pd.DataFrame(total_df)\n",
    "charge_demand_coef = total_df[total_df['final_coef']>= 0.5].sort_values(by = 'final_coef', ascending = False)\n",
    "charge_demand_coef"
   ]
  },
  {
   "cell_type": "code",
   "execution_count": 53,
   "id": "789ae321",
   "metadata": {},
   "outputs": [],
   "source": [
    "# 최종 수요 지수 데이터 프레임을 엑셀로 내보내기\n",
    "charge_demand_coef.to_excel('charge_demand_coef.xlsx')"
   ]
  },
  {
   "cell_type": "code",
   "execution_count": null,
   "id": "0006f294-4db6-4ee6-b5dc-c684bbcc35a2",
   "metadata": {},
   "outputs": [],
   "source": []
  }
 ],
 "metadata": {
  "kernelspec": {
   "display_name": "Python 3 (ipykernel)",
   "language": "python",
   "name": "python3"
  },
  "language_info": {
   "codemirror_mode": {
    "name": "ipython",
    "version": 3
   },
   "file_extension": ".py",
   "mimetype": "text/x-python",
   "name": "python",
   "nbconvert_exporter": "python",
   "pygments_lexer": "ipython3",
   "version": "3.9.12"
  }
 },
 "nbformat": 4,
 "nbformat_minor": 5
}
