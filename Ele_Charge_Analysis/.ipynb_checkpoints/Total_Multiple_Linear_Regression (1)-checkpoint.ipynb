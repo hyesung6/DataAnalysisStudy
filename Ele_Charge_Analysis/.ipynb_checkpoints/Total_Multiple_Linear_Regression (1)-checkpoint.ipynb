{
 "cells": [
  {
   "cell_type": "markdown",
   "id": "a68ad784",
   "metadata": {},
   "source": [
    "# Data Upload"
   ]
  },
  {
   "cell_type": "code",
   "execution_count": 1,
   "id": "eedbe806",
   "metadata": {},
   "outputs": [],
   "source": [
    "# 필요 library import \n",
    "import pandas as pd\n",
    "import numpy as np\n",
    "import seaborn as sns\n",
    "import matplotlib.pyplot as plt\n",
    "from sklearn.linear_model import Lasso, Ridge, ElasticNet, LinearRegression\n",
    "from sklearn import linear_model\n",
    "from sklearn.model_selection import train_test_split\n",
    "from sklearn.metrics import mean_squared_error\n",
    "from math import sqrt\n",
    "\n",
    "# 패키지 임포트\n",
    "import os\n",
    "import warnings\n",
    "\n",
    "# FutureWarning 제거\n",
    "warnings.simplefilter(action='ignore', category = FutureWarning)\n",
    "\n",
    "# os 에 따른 Font 깨짐 제거를 위해 Font 지정\n",
    "import os\n",
    "if os.name == 'nt' :\n",
    "    font_family = \"Malgun Gothic\"\n",
    "else :\n",
    "    font_family = \"Apple Gothic\"\n",
    "    \n",
    "\n",
    "# -값이 깨지는 문제 해결을 위해 파라미터값 설정\n",
    "sns.set(font = font_family, rc = {\"axes.unicode_minus\" : False})"
   ]
  },
  {
   "cell_type": "code",
   "execution_count": 2,
   "id": "71546a8b",
   "metadata": {},
   "outputs": [],
   "source": [
    "# data read\n",
    "total_data = pd.read_csv('C:/Users/user/Desktop/total analysis/data/total_dataset.csv', encoding='euc-kr', index_col= [\"EMD_NM\"])"
   ]
  },
  {
   "cell_type": "markdown",
   "id": "fdc4ca96",
   "metadata": {},
   "source": [
    "# Basic statistics"
   ]
  },
  {
   "cell_type": "code",
   "execution_count": 3,
   "id": "239914ff",
   "metadata": {},
   "outputs": [
    {
     "data": {
      "text/html": [
       "<div>\n",
       "<style scoped>\n",
       "    .dataframe tbody tr th:only-of-type {\n",
       "        vertical-align: middle;\n",
       "    }\n",
       "\n",
       "    .dataframe tbody tr th {\n",
       "        vertical-align: top;\n",
       "    }\n",
       "\n",
       "    .dataframe thead th {\n",
       "        text-align: right;\n",
       "    }\n",
       "</style>\n",
       "<table border=\"1\" class=\"dataframe\">\n",
       "  <thead>\n",
       "    <tr style=\"text-align: right;\">\n",
       "      <th></th>\n",
       "      <th>TRAD</th>\n",
       "      <th>CONCERT</th>\n",
       "      <th>OLD</th>\n",
       "      <th>MART</th>\n",
       "      <th>LIB</th>\n",
       "      <th>ART</th>\n",
       "      <th>MUS</th>\n",
       "      <th>MED</th>\n",
       "      <th>COMM</th>\n",
       "      <th>SPORT</th>\n",
       "      <th>OWN</th>\n",
       "      <th>JOB</th>\n",
       "      <th>CARROT</th>\n",
       "      <th>CHARGE</th>\n",
       "    </tr>\n",
       "    <tr>\n",
       "      <th>EMD_NM</th>\n",
       "      <th></th>\n",
       "      <th></th>\n",
       "      <th></th>\n",
       "      <th></th>\n",
       "      <th></th>\n",
       "      <th></th>\n",
       "      <th></th>\n",
       "      <th></th>\n",
       "      <th></th>\n",
       "      <th></th>\n",
       "      <th></th>\n",
       "      <th></th>\n",
       "      <th></th>\n",
       "      <th></th>\n",
       "    </tr>\n",
       "  </thead>\n",
       "  <tbody>\n",
       "    <tr>\n",
       "      <th>연제동</th>\n",
       "      <td>0</td>\n",
       "      <td>0</td>\n",
       "      <td>0</td>\n",
       "      <td>0</td>\n",
       "      <td>3</td>\n",
       "      <td>0</td>\n",
       "      <td>0</td>\n",
       "      <td>0</td>\n",
       "      <td>0</td>\n",
       "      <td>3</td>\n",
       "      <td>0</td>\n",
       "      <td>0</td>\n",
       "      <td>2</td>\n",
       "      <td>0</td>\n",
       "    </tr>\n",
       "    <tr>\n",
       "      <th>운암동</th>\n",
       "      <td>1</td>\n",
       "      <td>2</td>\n",
       "      <td>1</td>\n",
       "      <td>0</td>\n",
       "      <td>13</td>\n",
       "      <td>1</td>\n",
       "      <td>0</td>\n",
       "      <td>13</td>\n",
       "      <td>3</td>\n",
       "      <td>3</td>\n",
       "      <td>6</td>\n",
       "      <td>135</td>\n",
       "      <td>3</td>\n",
       "      <td>3</td>\n",
       "    </tr>\n",
       "    <tr>\n",
       "      <th>덕림동</th>\n",
       "      <td>0</td>\n",
       "      <td>0</td>\n",
       "      <td>1</td>\n",
       "      <td>0</td>\n",
       "      <td>0</td>\n",
       "      <td>0</td>\n",
       "      <td>0</td>\n",
       "      <td>0</td>\n",
       "      <td>0</td>\n",
       "      <td>1</td>\n",
       "      <td>0</td>\n",
       "      <td>0</td>\n",
       "      <td>0</td>\n",
       "      <td>1</td>\n",
       "    </tr>\n",
       "    <tr>\n",
       "      <th>삼거동</th>\n",
       "      <td>0</td>\n",
       "      <td>0</td>\n",
       "      <td>3</td>\n",
       "      <td>0</td>\n",
       "      <td>0</td>\n",
       "      <td>0</td>\n",
       "      <td>0</td>\n",
       "      <td>3</td>\n",
       "      <td>0</td>\n",
       "      <td>1</td>\n",
       "      <td>0</td>\n",
       "      <td>0</td>\n",
       "      <td>0</td>\n",
       "      <td>0</td>\n",
       "    </tr>\n",
       "    <tr>\n",
       "      <th>북구_동림동</th>\n",
       "      <td>0</td>\n",
       "      <td>0</td>\n",
       "      <td>1</td>\n",
       "      <td>0</td>\n",
       "      <td>6</td>\n",
       "      <td>0</td>\n",
       "      <td>0</td>\n",
       "      <td>3</td>\n",
       "      <td>1</td>\n",
       "      <td>6</td>\n",
       "      <td>6</td>\n",
       "      <td>27</td>\n",
       "      <td>2</td>\n",
       "      <td>3</td>\n",
       "    </tr>\n",
       "  </tbody>\n",
       "</table>\n",
       "</div>"
      ],
      "text/plain": [
       "        TRAD  CONCERT  OLD  MART  LIB  ART  MUS  MED  COMM  SPORT  OWN  JOB  \\\n",
       "EMD_NM                                                                        \n",
       "연제동        0        0    0     0    3    0    0    0     0      3    0    0   \n",
       "운암동        1        2    1     0   13    1    0   13     3      3    6  135   \n",
       "덕림동        0        0    1     0    0    0    0    0     0      1    0    0   \n",
       "삼거동        0        0    3     0    0    0    0    3     0      1    0    0   \n",
       "북구_동림동     0        0    1     0    6    0    0    3     1      6    6   27   \n",
       "\n",
       "        CARROT  CHARGE  \n",
       "EMD_NM                  \n",
       "연제동          2       0  \n",
       "운암동          3       3  \n",
       "덕림동          0       1  \n",
       "삼거동          0       0  \n",
       "북구_동림동       2       3  "
      ]
     },
     "execution_count": 3,
     "metadata": {},
     "output_type": "execute_result"
    }
   ],
   "source": [
    "total_data.head()"
   ]
  },
  {
   "cell_type": "code",
   "execution_count": 4,
   "id": "f374b935",
   "metadata": {},
   "outputs": [
    {
     "data": {
      "text/html": [
       "<div>\n",
       "<style scoped>\n",
       "    .dataframe tbody tr th:only-of-type {\n",
       "        vertical-align: middle;\n",
       "    }\n",
       "\n",
       "    .dataframe tbody tr th {\n",
       "        vertical-align: top;\n",
       "    }\n",
       "\n",
       "    .dataframe thead th {\n",
       "        text-align: right;\n",
       "    }\n",
       "</style>\n",
       "<table border=\"1\" class=\"dataframe\">\n",
       "  <thead>\n",
       "    <tr style=\"text-align: right;\">\n",
       "      <th></th>\n",
       "      <th>TRAD</th>\n",
       "      <th>CONCERT</th>\n",
       "      <th>OLD</th>\n",
       "      <th>MART</th>\n",
       "      <th>LIB</th>\n",
       "      <th>ART</th>\n",
       "      <th>MUS</th>\n",
       "      <th>MED</th>\n",
       "      <th>COMM</th>\n",
       "      <th>SPORT</th>\n",
       "      <th>OWN</th>\n",
       "      <th>JOB</th>\n",
       "      <th>CARROT</th>\n",
       "      <th>CHARGE</th>\n",
       "    </tr>\n",
       "  </thead>\n",
       "  <tbody>\n",
       "    <tr>\n",
       "      <th>count</th>\n",
       "      <td>193.000000</td>\n",
       "      <td>193.000000</td>\n",
       "      <td>193.000000</td>\n",
       "      <td>193.000000</td>\n",
       "      <td>193.000000</td>\n",
       "      <td>193.000000</td>\n",
       "      <td>193.000000</td>\n",
       "      <td>193.000000</td>\n",
       "      <td>193.000000</td>\n",
       "      <td>193.000000</td>\n",
       "      <td>193.000000</td>\n",
       "      <td>193.000000</td>\n",
       "      <td>193.000000</td>\n",
       "      <td>193.000000</td>\n",
       "    </tr>\n",
       "    <tr>\n",
       "      <th>mean</th>\n",
       "      <td>0.119171</td>\n",
       "      <td>0.113990</td>\n",
       "      <td>0.492228</td>\n",
       "      <td>0.113990</td>\n",
       "      <td>1.818653</td>\n",
       "      <td>0.088083</td>\n",
       "      <td>0.041451</td>\n",
       "      <td>1.378238</td>\n",
       "      <td>0.502591</td>\n",
       "      <td>2.865285</td>\n",
       "      <td>3.497409</td>\n",
       "      <td>30.896373</td>\n",
       "      <td>0.383420</td>\n",
       "      <td>0.575130</td>\n",
       "    </tr>\n",
       "    <tr>\n",
       "      <th>std</th>\n",
       "      <td>0.434568</td>\n",
       "      <td>0.417659</td>\n",
       "      <td>0.823605</td>\n",
       "      <td>0.429948</td>\n",
       "      <td>3.367007</td>\n",
       "      <td>0.405063</td>\n",
       "      <td>0.199849</td>\n",
       "      <td>2.581372</td>\n",
       "      <td>0.791388</td>\n",
       "      <td>4.089174</td>\n",
       "      <td>11.208314</td>\n",
       "      <td>74.808990</td>\n",
       "      <td>0.900309</td>\n",
       "      <td>1.097252</td>\n",
       "    </tr>\n",
       "    <tr>\n",
       "      <th>min</th>\n",
       "      <td>0.000000</td>\n",
       "      <td>0.000000</td>\n",
       "      <td>0.000000</td>\n",
       "      <td>0.000000</td>\n",
       "      <td>0.000000</td>\n",
       "      <td>0.000000</td>\n",
       "      <td>0.000000</td>\n",
       "      <td>0.000000</td>\n",
       "      <td>0.000000</td>\n",
       "      <td>0.000000</td>\n",
       "      <td>0.000000</td>\n",
       "      <td>0.000000</td>\n",
       "      <td>0.000000</td>\n",
       "      <td>0.000000</td>\n",
       "    </tr>\n",
       "    <tr>\n",
       "      <th>25%</th>\n",
       "      <td>0.000000</td>\n",
       "      <td>0.000000</td>\n",
       "      <td>0.000000</td>\n",
       "      <td>0.000000</td>\n",
       "      <td>0.000000</td>\n",
       "      <td>0.000000</td>\n",
       "      <td>0.000000</td>\n",
       "      <td>0.000000</td>\n",
       "      <td>0.000000</td>\n",
       "      <td>0.000000</td>\n",
       "      <td>0.000000</td>\n",
       "      <td>0.000000</td>\n",
       "      <td>0.000000</td>\n",
       "      <td>0.000000</td>\n",
       "    </tr>\n",
       "    <tr>\n",
       "      <th>50%</th>\n",
       "      <td>0.000000</td>\n",
       "      <td>0.000000</td>\n",
       "      <td>0.000000</td>\n",
       "      <td>0.000000</td>\n",
       "      <td>0.000000</td>\n",
       "      <td>0.000000</td>\n",
       "      <td>0.000000</td>\n",
       "      <td>0.000000</td>\n",
       "      <td>0.000000</td>\n",
       "      <td>1.000000</td>\n",
       "      <td>0.000000</td>\n",
       "      <td>0.000000</td>\n",
       "      <td>0.000000</td>\n",
       "      <td>0.000000</td>\n",
       "    </tr>\n",
       "    <tr>\n",
       "      <th>75%</th>\n",
       "      <td>0.000000</td>\n",
       "      <td>0.000000</td>\n",
       "      <td>1.000000</td>\n",
       "      <td>0.000000</td>\n",
       "      <td>2.000000</td>\n",
       "      <td>0.000000</td>\n",
       "      <td>0.000000</td>\n",
       "      <td>2.000000</td>\n",
       "      <td>1.000000</td>\n",
       "      <td>3.000000</td>\n",
       "      <td>2.000000</td>\n",
       "      <td>26.000000</td>\n",
       "      <td>0.000000</td>\n",
       "      <td>1.000000</td>\n",
       "    </tr>\n",
       "    <tr>\n",
       "      <th>max</th>\n",
       "      <td>3.000000</td>\n",
       "      <td>3.000000</td>\n",
       "      <td>4.000000</td>\n",
       "      <td>3.000000</td>\n",
       "      <td>16.000000</td>\n",
       "      <td>4.000000</td>\n",
       "      <td>1.000000</td>\n",
       "      <td>18.000000</td>\n",
       "      <td>4.000000</td>\n",
       "      <td>20.000000</td>\n",
       "      <td>102.000000</td>\n",
       "      <td>553.000000</td>\n",
       "      <td>5.000000</td>\n",
       "      <td>5.000000</td>\n",
       "    </tr>\n",
       "  </tbody>\n",
       "</table>\n",
       "</div>"
      ],
      "text/plain": [
       "             TRAD     CONCERT         OLD        MART         LIB         ART  \\\n",
       "count  193.000000  193.000000  193.000000  193.000000  193.000000  193.000000   \n",
       "mean     0.119171    0.113990    0.492228    0.113990    1.818653    0.088083   \n",
       "std      0.434568    0.417659    0.823605    0.429948    3.367007    0.405063   \n",
       "min      0.000000    0.000000    0.000000    0.000000    0.000000    0.000000   \n",
       "25%      0.000000    0.000000    0.000000    0.000000    0.000000    0.000000   \n",
       "50%      0.000000    0.000000    0.000000    0.000000    0.000000    0.000000   \n",
       "75%      0.000000    0.000000    1.000000    0.000000    2.000000    0.000000   \n",
       "max      3.000000    3.000000    4.000000    3.000000   16.000000    4.000000   \n",
       "\n",
       "              MUS         MED        COMM       SPORT         OWN         JOB  \\\n",
       "count  193.000000  193.000000  193.000000  193.000000  193.000000  193.000000   \n",
       "mean     0.041451    1.378238    0.502591    2.865285    3.497409   30.896373   \n",
       "std      0.199849    2.581372    0.791388    4.089174   11.208314   74.808990   \n",
       "min      0.000000    0.000000    0.000000    0.000000    0.000000    0.000000   \n",
       "25%      0.000000    0.000000    0.000000    0.000000    0.000000    0.000000   \n",
       "50%      0.000000    0.000000    0.000000    1.000000    0.000000    0.000000   \n",
       "75%      0.000000    2.000000    1.000000    3.000000    2.000000   26.000000   \n",
       "max      1.000000   18.000000    4.000000   20.000000  102.000000  553.000000   \n",
       "\n",
       "           CARROT      CHARGE  \n",
       "count  193.000000  193.000000  \n",
       "mean     0.383420    0.575130  \n",
       "std      0.900309    1.097252  \n",
       "min      0.000000    0.000000  \n",
       "25%      0.000000    0.000000  \n",
       "50%      0.000000    0.000000  \n",
       "75%      0.000000    1.000000  \n",
       "max      5.000000    5.000000  "
      ]
     },
     "execution_count": 4,
     "metadata": {},
     "output_type": "execute_result"
    }
   ],
   "source": [
    "total_data.describe()"
   ]
  },
  {
   "cell_type": "code",
   "execution_count": 5,
   "id": "29b09c6a",
   "metadata": {},
   "outputs": [
    {
     "name": "stdout",
     "output_type": "stream",
     "text": [
      "<class 'pandas.core.frame.DataFrame'>\n",
      "Index: 193 entries, 연제동 to 충장동\n",
      "Data columns (total 14 columns):\n",
      " #   Column   Non-Null Count  Dtype\n",
      "---  ------   --------------  -----\n",
      " 0   TRAD     193 non-null    int64\n",
      " 1   CONCERT  193 non-null    int64\n",
      " 2   OLD      193 non-null    int64\n",
      " 3   MART     193 non-null    int64\n",
      " 4   LIB      193 non-null    int64\n",
      " 5   ART      193 non-null    int64\n",
      " 6   MUS      193 non-null    int64\n",
      " 7   MED      193 non-null    int64\n",
      " 8   COMM     193 non-null    int64\n",
      " 9   SPORT    193 non-null    int64\n",
      " 10  OWN      193 non-null    int64\n",
      " 11  JOB      193 non-null    int64\n",
      " 12  CARROT   193 non-null    int64\n",
      " 13  CHARGE   193 non-null    int64\n",
      "dtypes: int64(14)\n",
      "memory usage: 22.6+ KB\n"
     ]
    }
   ],
   "source": [
    "total_data.info()"
   ]
  },
  {
   "cell_type": "markdown",
   "id": "a872b8a3",
   "metadata": {},
   "source": [
    "# Missing Value"
   ]
  },
  {
   "cell_type": "code",
   "execution_count": 6,
   "id": "287d5d62",
   "metadata": {},
   "outputs": [
    {
     "data": {
      "text/html": [
       "<div>\n",
       "<style scoped>\n",
       "    .dataframe tbody tr th:only-of-type {\n",
       "        vertical-align: middle;\n",
       "    }\n",
       "\n",
       "    .dataframe tbody tr th {\n",
       "        vertical-align: top;\n",
       "    }\n",
       "\n",
       "    .dataframe thead th {\n",
       "        text-align: right;\n",
       "    }\n",
       "</style>\n",
       "<table border=\"1\" class=\"dataframe\">\n",
       "  <thead>\n",
       "    <tr style=\"text-align: right;\">\n",
       "      <th></th>\n",
       "      <th>TRAD</th>\n",
       "      <th>CONCERT</th>\n",
       "      <th>OLD</th>\n",
       "      <th>MART</th>\n",
       "      <th>LIB</th>\n",
       "      <th>ART</th>\n",
       "      <th>MUS</th>\n",
       "      <th>MED</th>\n",
       "      <th>COMM</th>\n",
       "      <th>SPORT</th>\n",
       "      <th>OWN</th>\n",
       "      <th>JOB</th>\n",
       "      <th>CARROT</th>\n",
       "      <th>CHARGE</th>\n",
       "    </tr>\n",
       "    <tr>\n",
       "      <th>EMD_NM</th>\n",
       "      <th></th>\n",
       "      <th></th>\n",
       "      <th></th>\n",
       "      <th></th>\n",
       "      <th></th>\n",
       "      <th></th>\n",
       "      <th></th>\n",
       "      <th></th>\n",
       "      <th></th>\n",
       "      <th></th>\n",
       "      <th></th>\n",
       "      <th></th>\n",
       "      <th></th>\n",
       "      <th></th>\n",
       "    </tr>\n",
       "  </thead>\n",
       "  <tbody>\n",
       "    <tr>\n",
       "      <th>연제동</th>\n",
       "      <td>False</td>\n",
       "      <td>False</td>\n",
       "      <td>False</td>\n",
       "      <td>False</td>\n",
       "      <td>False</td>\n",
       "      <td>False</td>\n",
       "      <td>False</td>\n",
       "      <td>False</td>\n",
       "      <td>False</td>\n",
       "      <td>False</td>\n",
       "      <td>False</td>\n",
       "      <td>False</td>\n",
       "      <td>False</td>\n",
       "      <td>False</td>\n",
       "    </tr>\n",
       "    <tr>\n",
       "      <th>운암동</th>\n",
       "      <td>False</td>\n",
       "      <td>False</td>\n",
       "      <td>False</td>\n",
       "      <td>False</td>\n",
       "      <td>False</td>\n",
       "      <td>False</td>\n",
       "      <td>False</td>\n",
       "      <td>False</td>\n",
       "      <td>False</td>\n",
       "      <td>False</td>\n",
       "      <td>False</td>\n",
       "      <td>False</td>\n",
       "      <td>False</td>\n",
       "      <td>False</td>\n",
       "    </tr>\n",
       "    <tr>\n",
       "      <th>덕림동</th>\n",
       "      <td>False</td>\n",
       "      <td>False</td>\n",
       "      <td>False</td>\n",
       "      <td>False</td>\n",
       "      <td>False</td>\n",
       "      <td>False</td>\n",
       "      <td>False</td>\n",
       "      <td>False</td>\n",
       "      <td>False</td>\n",
       "      <td>False</td>\n",
       "      <td>False</td>\n",
       "      <td>False</td>\n",
       "      <td>False</td>\n",
       "      <td>False</td>\n",
       "    </tr>\n",
       "    <tr>\n",
       "      <th>삼거동</th>\n",
       "      <td>False</td>\n",
       "      <td>False</td>\n",
       "      <td>False</td>\n",
       "      <td>False</td>\n",
       "      <td>False</td>\n",
       "      <td>False</td>\n",
       "      <td>False</td>\n",
       "      <td>False</td>\n",
       "      <td>False</td>\n",
       "      <td>False</td>\n",
       "      <td>False</td>\n",
       "      <td>False</td>\n",
       "      <td>False</td>\n",
       "      <td>False</td>\n",
       "    </tr>\n",
       "    <tr>\n",
       "      <th>북구_동림동</th>\n",
       "      <td>False</td>\n",
       "      <td>False</td>\n",
       "      <td>False</td>\n",
       "      <td>False</td>\n",
       "      <td>False</td>\n",
       "      <td>False</td>\n",
       "      <td>False</td>\n",
       "      <td>False</td>\n",
       "      <td>False</td>\n",
       "      <td>False</td>\n",
       "      <td>False</td>\n",
       "      <td>False</td>\n",
       "      <td>False</td>\n",
       "      <td>False</td>\n",
       "    </tr>\n",
       "    <tr>\n",
       "      <th>...</th>\n",
       "      <td>...</td>\n",
       "      <td>...</td>\n",
       "      <td>...</td>\n",
       "      <td>...</td>\n",
       "      <td>...</td>\n",
       "      <td>...</td>\n",
       "      <td>...</td>\n",
       "      <td>...</td>\n",
       "      <td>...</td>\n",
       "      <td>...</td>\n",
       "      <td>...</td>\n",
       "      <td>...</td>\n",
       "      <td>...</td>\n",
       "      <td>...</td>\n",
       "    </tr>\n",
       "    <tr>\n",
       "      <th>쌍촌동</th>\n",
       "      <td>False</td>\n",
       "      <td>False</td>\n",
       "      <td>False</td>\n",
       "      <td>False</td>\n",
       "      <td>False</td>\n",
       "      <td>False</td>\n",
       "      <td>False</td>\n",
       "      <td>False</td>\n",
       "      <td>False</td>\n",
       "      <td>False</td>\n",
       "      <td>False</td>\n",
       "      <td>False</td>\n",
       "      <td>False</td>\n",
       "      <td>False</td>\n",
       "    </tr>\n",
       "    <tr>\n",
       "      <th>내방동</th>\n",
       "      <td>False</td>\n",
       "      <td>False</td>\n",
       "      <td>False</td>\n",
       "      <td>False</td>\n",
       "      <td>False</td>\n",
       "      <td>False</td>\n",
       "      <td>False</td>\n",
       "      <td>False</td>\n",
       "      <td>False</td>\n",
       "      <td>False</td>\n",
       "      <td>False</td>\n",
       "      <td>False</td>\n",
       "      <td>False</td>\n",
       "      <td>False</td>\n",
       "    </tr>\n",
       "    <tr>\n",
       "      <th>덕흥동</th>\n",
       "      <td>False</td>\n",
       "      <td>False</td>\n",
       "      <td>False</td>\n",
       "      <td>False</td>\n",
       "      <td>False</td>\n",
       "      <td>False</td>\n",
       "      <td>False</td>\n",
       "      <td>False</td>\n",
       "      <td>False</td>\n",
       "      <td>False</td>\n",
       "      <td>False</td>\n",
       "      <td>False</td>\n",
       "      <td>False</td>\n",
       "      <td>False</td>\n",
       "    </tr>\n",
       "    <tr>\n",
       "      <th>대의동</th>\n",
       "      <td>False</td>\n",
       "      <td>False</td>\n",
       "      <td>False</td>\n",
       "      <td>False</td>\n",
       "      <td>False</td>\n",
       "      <td>False</td>\n",
       "      <td>False</td>\n",
       "      <td>False</td>\n",
       "      <td>False</td>\n",
       "      <td>False</td>\n",
       "      <td>False</td>\n",
       "      <td>False</td>\n",
       "      <td>False</td>\n",
       "      <td>False</td>\n",
       "    </tr>\n",
       "    <tr>\n",
       "      <th>충장동</th>\n",
       "      <td>False</td>\n",
       "      <td>False</td>\n",
       "      <td>False</td>\n",
       "      <td>False</td>\n",
       "      <td>False</td>\n",
       "      <td>False</td>\n",
       "      <td>False</td>\n",
       "      <td>False</td>\n",
       "      <td>False</td>\n",
       "      <td>False</td>\n",
       "      <td>False</td>\n",
       "      <td>False</td>\n",
       "      <td>False</td>\n",
       "      <td>False</td>\n",
       "    </tr>\n",
       "  </tbody>\n",
       "</table>\n",
       "<p>193 rows × 14 columns</p>\n",
       "</div>"
      ],
      "text/plain": [
       "         TRAD  CONCERT    OLD   MART    LIB    ART    MUS    MED   COMM  \\\n",
       "EMD_NM                                                                    \n",
       "연제동     False    False  False  False  False  False  False  False  False   \n",
       "운암동     False    False  False  False  False  False  False  False  False   \n",
       "덕림동     False    False  False  False  False  False  False  False  False   \n",
       "삼거동     False    False  False  False  False  False  False  False  False   \n",
       "북구_동림동  False    False  False  False  False  False  False  False  False   \n",
       "...       ...      ...    ...    ...    ...    ...    ...    ...    ...   \n",
       "쌍촌동     False    False  False  False  False  False  False  False  False   \n",
       "내방동     False    False  False  False  False  False  False  False  False   \n",
       "덕흥동     False    False  False  False  False  False  False  False  False   \n",
       "대의동     False    False  False  False  False  False  False  False  False   \n",
       "충장동     False    False  False  False  False  False  False  False  False   \n",
       "\n",
       "        SPORT    OWN    JOB  CARROT  CHARGE  \n",
       "EMD_NM                                       \n",
       "연제동     False  False  False   False   False  \n",
       "운암동     False  False  False   False   False  \n",
       "덕림동     False  False  False   False   False  \n",
       "삼거동     False  False  False   False   False  \n",
       "북구_동림동  False  False  False   False   False  \n",
       "...       ...    ...    ...     ...     ...  \n",
       "쌍촌동     False  False  False   False   False  \n",
       "내방동     False  False  False   False   False  \n",
       "덕흥동     False  False  False   False   False  \n",
       "대의동     False  False  False   False   False  \n",
       "충장동     False  False  False   False   False  \n",
       "\n",
       "[193 rows x 14 columns]"
      ]
     },
     "execution_count": 6,
     "metadata": {},
     "output_type": "execute_result"
    }
   ],
   "source": [
    "total_data.isnull()"
   ]
  },
  {
   "cell_type": "code",
   "execution_count": 7,
   "id": "fc8c7301",
   "metadata": {
    "scrolled": true
   },
   "outputs": [
    {
     "data": {
      "text/plain": [
       "TRAD       0\n",
       "CONCERT    0\n",
       "OLD        0\n",
       "MART       0\n",
       "LIB        0\n",
       "ART        0\n",
       "MUS        0\n",
       "MED        0\n",
       "COMM       0\n",
       "SPORT      0\n",
       "OWN        0\n",
       "JOB        0\n",
       "CARROT     0\n",
       "CHARGE     0\n",
       "dtype: int64"
      ]
     },
     "execution_count": 7,
     "metadata": {},
     "output_type": "execute_result"
    }
   ],
   "source": [
    "total_data.isnull().sum()"
   ]
  },
  {
   "cell_type": "code",
   "execution_count": 8,
   "id": "47c213a0",
   "metadata": {},
   "outputs": [],
   "source": [
    "# from sklearn.preprocessing import MinMaxScaler\n",
    "\n",
    "# scaler = MinMaxScaler()\n",
    "# scaled_data = scaler.fit_transform(infra_data.iloc[:, 0:])"
   ]
  },
  {
   "cell_type": "code",
   "execution_count": 9,
   "id": "d8ff1897",
   "metadata": {},
   "outputs": [],
   "source": [
    "# 표준화된 행렬 -> 데이터프레임 변환 \n",
    "# scaled_df = pd.DataFrame(infra_data, columns=['TRAD', 'CONCERT', 'OLD', 'MART', 'LIB', 'ART', 'MUS', 'MED', 'COMM', 'SPORT', 'CHARGE'])\n",
    "# scaled_df"
   ]
  },
  {
   "cell_type": "markdown",
   "id": "bb8299de",
   "metadata": {},
   "source": [
    "#  ver1. 다중선형 회귀분석"
   ]
  },
  {
   "cell_type": "code",
   "execution_count": 10,
   "id": "c999d7b2",
   "metadata": {},
   "outputs": [],
   "source": [
    "# 법정동 코드 : EMD_CD, 충전소 개수 : CHARGE를 제외한 칼럼들은 X\n",
    "X = total_data[total_data.columns.difference(['EMD_NM','CHARGE'])]\n",
    "\n",
    "y = total_data['CHARGE']"
   ]
  },
  {
   "cell_type": "code",
   "execution_count": 11,
   "id": "47921f00",
   "metadata": {},
   "outputs": [],
   "source": [
    "# train : test = 80 : 20\n",
    "X_train, X_test, y_train, y_test = train_test_split(X, y, test_size=0.2, random_state = 42, stratify = y)"
   ]
  },
  {
   "cell_type": "code",
   "execution_count": 12,
   "id": "0aaae87d",
   "metadata": {},
   "outputs": [],
   "source": [
    "lr = linear_model.LinearRegression()"
   ]
  },
  {
   "cell_type": "code",
   "execution_count": 13,
   "id": "22fe747e",
   "metadata": {},
   "outputs": [],
   "source": [
    "lr_model = lr.fit(X_train, y_train)"
   ]
  },
  {
   "cell_type": "code",
   "execution_count": 14,
   "id": "70b9af3a",
   "metadata": {},
   "outputs": [
    {
     "name": "stdout",
     "output_type": "stream",
     "text": [
      "[ 0.22744753 -0.04447084  0.02625633  0.17569742  0.00408255  0.05325123\n",
      " -0.14699244  0.09753755 -0.31699056 -0.09410003  0.00733018  0.0549985\n",
      "  0.84025854]\n"
     ]
    }
   ],
   "source": [
    "# trained_coef\n",
    "print(lr.coef_)"
   ]
  },
  {
   "cell_type": "code",
   "execution_count": 15,
   "id": "724bd4ec",
   "metadata": {},
   "outputs": [
    {
     "name": "stdout",
     "output_type": "stream",
     "text": [
      "-0.011944760835893464\n"
     ]
    }
   ],
   "source": [
    "# trained_intercept\n",
    "print(lr.intercept_)"
   ]
  },
  {
   "cell_type": "markdown",
   "id": "4622bc2a",
   "metadata": {},
   "source": [
    "## 기존 값과 예측 값 비교"
   ]
  },
  {
   "cell_type": "code",
   "execution_count": 16,
   "id": "fb29cfb8",
   "metadata": {},
   "outputs": [
    {
     "name": "stdout",
     "output_type": "stream",
     "text": [
      "<class 'pandas.core.series.Series'>\n"
     ]
    }
   ],
   "source": [
    "x_new = X_test\n",
    "y_new = lr_model.predict(x_new)\n",
    "print(type(y_test))"
   ]
  },
  {
   "cell_type": "code",
   "execution_count": 17,
   "id": "3cc8496a",
   "metadata": {},
   "outputs": [],
   "source": [
    "y_compare = {'y_test' : y_test, 'y_predicted' : y_new}"
   ]
  },
  {
   "cell_type": "code",
   "execution_count": 18,
   "id": "54771e4f",
   "metadata": {
    "scrolled": true
   },
   "outputs": [
    {
     "data": {
      "text/html": [
       "<div>\n",
       "<style scoped>\n",
       "    .dataframe tbody tr th:only-of-type {\n",
       "        vertical-align: middle;\n",
       "    }\n",
       "\n",
       "    .dataframe tbody tr th {\n",
       "        vertical-align: top;\n",
       "    }\n",
       "\n",
       "    .dataframe thead th {\n",
       "        text-align: right;\n",
       "    }\n",
       "</style>\n",
       "<table border=\"1\" class=\"dataframe\">\n",
       "  <thead>\n",
       "    <tr style=\"text-align: right;\">\n",
       "      <th></th>\n",
       "      <th>y_test</th>\n",
       "      <th>y_predicted</th>\n",
       "    </tr>\n",
       "    <tr>\n",
       "      <th>EMD_NM</th>\n",
       "      <th></th>\n",
       "      <th></th>\n",
       "    </tr>\n",
       "  </thead>\n",
       "  <tbody>\n",
       "    <tr>\n",
       "      <th>호남동</th>\n",
       "      <td>0</td>\n",
       "      <td>0.041122</td>\n",
       "    </tr>\n",
       "    <tr>\n",
       "      <th>치평동</th>\n",
       "      <td>4</td>\n",
       "      <td>4.305368</td>\n",
       "    </tr>\n",
       "    <tr>\n",
       "      <th>월곡동</th>\n",
       "      <td>3</td>\n",
       "      <td>1.729051</td>\n",
       "    </tr>\n",
       "    <tr>\n",
       "      <th>태령동</th>\n",
       "      <td>0</td>\n",
       "      <td>0.043054</td>\n",
       "    </tr>\n",
       "    <tr>\n",
       "      <th>압촌동</th>\n",
       "      <td>0</td>\n",
       "      <td>-0.011945</td>\n",
       "    </tr>\n",
       "    <tr>\n",
       "      <th>광산구_용봉동</th>\n",
       "      <td>0</td>\n",
       "      <td>-0.090359</td>\n",
       "    </tr>\n",
       "    <tr>\n",
       "      <th>생용동</th>\n",
       "      <td>0</td>\n",
       "      <td>-0.200145</td>\n",
       "    </tr>\n",
       "    <tr>\n",
       "      <th>양과동</th>\n",
       "      <td>0</td>\n",
       "      <td>-0.011945</td>\n",
       "    </tr>\n",
       "    <tr>\n",
       "      <th>월남동</th>\n",
       "      <td>0</td>\n",
       "      <td>0.261300</td>\n",
       "    </tr>\n",
       "    <tr>\n",
       "      <th>등임동</th>\n",
       "      <td>0</td>\n",
       "      <td>0.098052</td>\n",
       "    </tr>\n",
       "    <tr>\n",
       "      <th>삼거동</th>\n",
       "      <td>0</td>\n",
       "      <td>0.053366</td>\n",
       "    </tr>\n",
       "    <tr>\n",
       "      <th>명도동</th>\n",
       "      <td>0</td>\n",
       "      <td>0.098052</td>\n",
       "    </tr>\n",
       "    <tr>\n",
       "      <th>유동</th>\n",
       "      <td>0</td>\n",
       "      <td>0.360175</td>\n",
       "    </tr>\n",
       "    <tr>\n",
       "      <th>지죽동</th>\n",
       "      <td>0</td>\n",
       "      <td>0.043054</td>\n",
       "    </tr>\n",
       "    <tr>\n",
       "      <th>월계동</th>\n",
       "      <td>2</td>\n",
       "      <td>1.786995</td>\n",
       "    </tr>\n",
       "    <tr>\n",
       "      <th>남동</th>\n",
       "      <td>0</td>\n",
       "      <td>0.041306</td>\n",
       "    </tr>\n",
       "    <tr>\n",
       "      <th>지야동</th>\n",
       "      <td>0</td>\n",
       "      <td>-0.011945</td>\n",
       "    </tr>\n",
       "    <tr>\n",
       "      <th>칠석동</th>\n",
       "      <td>0</td>\n",
       "      <td>-0.106045</td>\n",
       "    </tr>\n",
       "    <tr>\n",
       "      <th>복룡동</th>\n",
       "      <td>0</td>\n",
       "      <td>0.208049</td>\n",
       "    </tr>\n",
       "    <tr>\n",
       "      <th>광산구_산수동</th>\n",
       "      <td>0</td>\n",
       "      <td>0.208049</td>\n",
       "    </tr>\n",
       "    <tr>\n",
       "      <th>삼각동</th>\n",
       "      <td>1</td>\n",
       "      <td>0.230089</td>\n",
       "    </tr>\n",
       "    <tr>\n",
       "      <th>쌍암동</th>\n",
       "      <td>1</td>\n",
       "      <td>1.140848</td>\n",
       "    </tr>\n",
       "    <tr>\n",
       "      <th>도산동</th>\n",
       "      <td>1</td>\n",
       "      <td>0.556103</td>\n",
       "    </tr>\n",
       "    <tr>\n",
       "      <th>봉선동</th>\n",
       "      <td>2</td>\n",
       "      <td>2.227304</td>\n",
       "    </tr>\n",
       "    <tr>\n",
       "      <th>선교동</th>\n",
       "      <td>0</td>\n",
       "      <td>0.223946</td>\n",
       "    </tr>\n",
       "    <tr>\n",
       "      <th>신창동</th>\n",
       "      <td>0</td>\n",
       "      <td>1.300872</td>\n",
       "    </tr>\n",
       "    <tr>\n",
       "      <th>하산동</th>\n",
       "      <td>0</td>\n",
       "      <td>0.242471</td>\n",
       "    </tr>\n",
       "    <tr>\n",
       "      <th>학동</th>\n",
       "      <td>3</td>\n",
       "      <td>2.449549</td>\n",
       "    </tr>\n",
       "    <tr>\n",
       "      <th>운수동</th>\n",
       "      <td>0</td>\n",
       "      <td>-0.051046</td>\n",
       "    </tr>\n",
       "    <tr>\n",
       "      <th>소촌동</th>\n",
       "      <td>0</td>\n",
       "      <td>1.477963</td>\n",
       "    </tr>\n",
       "    <tr>\n",
       "      <th>옥동</th>\n",
       "      <td>0</td>\n",
       "      <td>0.992171</td>\n",
       "    </tr>\n",
       "    <tr>\n",
       "      <th>대인동</th>\n",
       "      <td>0</td>\n",
       "      <td>1.343694</td>\n",
       "    </tr>\n",
       "    <tr>\n",
       "      <th>덕림동</th>\n",
       "      <td>1</td>\n",
       "      <td>-0.051046</td>\n",
       "    </tr>\n",
       "    <tr>\n",
       "      <th>동천동</th>\n",
       "      <td>1</td>\n",
       "      <td>0.773571</td>\n",
       "    </tr>\n",
       "    <tr>\n",
       "      <th>금곡동</th>\n",
       "      <td>0</td>\n",
       "      <td>-0.011945</td>\n",
       "    </tr>\n",
       "    <tr>\n",
       "      <th>용강동</th>\n",
       "      <td>0</td>\n",
       "      <td>-0.011945</td>\n",
       "    </tr>\n",
       "    <tr>\n",
       "      <th>금호동</th>\n",
       "      <td>2</td>\n",
       "      <td>1.988442</td>\n",
       "    </tr>\n",
       "    <tr>\n",
       "      <th>석정동</th>\n",
       "      <td>0</td>\n",
       "      <td>-0.011945</td>\n",
       "    </tr>\n",
       "    <tr>\n",
       "      <th>도금동</th>\n",
       "      <td>0</td>\n",
       "      <td>-0.011945</td>\n",
       "    </tr>\n",
       "  </tbody>\n",
       "</table>\n",
       "</div>"
      ],
      "text/plain": [
       "         y_test  y_predicted\n",
       "EMD_NM                      \n",
       "호남동           0     0.041122\n",
       "치평동           4     4.305368\n",
       "월곡동           3     1.729051\n",
       "태령동           0     0.043054\n",
       "압촌동           0    -0.011945\n",
       "광산구_용봉동       0    -0.090359\n",
       "생용동           0    -0.200145\n",
       "양과동           0    -0.011945\n",
       "월남동           0     0.261300\n",
       "등임동           0     0.098052\n",
       "삼거동           0     0.053366\n",
       "명도동           0     0.098052\n",
       "유동            0     0.360175\n",
       "지죽동           0     0.043054\n",
       "월계동           2     1.786995\n",
       "남동            0     0.041306\n",
       "지야동           0    -0.011945\n",
       "칠석동           0    -0.106045\n",
       "복룡동           0     0.208049\n",
       "광산구_산수동       0     0.208049\n",
       "삼각동           1     0.230089\n",
       "쌍암동           1     1.140848\n",
       "도산동           1     0.556103\n",
       "봉선동           2     2.227304\n",
       "선교동           0     0.223946\n",
       "신창동           0     1.300872\n",
       "하산동           0     0.242471\n",
       "학동            3     2.449549\n",
       "운수동           0    -0.051046\n",
       "소촌동           0     1.477963\n",
       "옥동            0     0.992171\n",
       "대인동           0     1.343694\n",
       "덕림동           1    -0.051046\n",
       "동천동           1     0.773571\n",
       "금곡동           0    -0.011945\n",
       "용강동           0    -0.011945\n",
       "금호동           2     1.988442\n",
       "석정동           0    -0.011945\n",
       "도금동           0    -0.011945"
      ]
     },
     "execution_count": 18,
     "metadata": {},
     "output_type": "execute_result"
    }
   ],
   "source": [
    "y_compare = pd.DataFrame(y_compare)\n",
    "y_compare"
   ]
  },
  {
   "cell_type": "code",
   "execution_count": 19,
   "id": "4d0b25ce",
   "metadata": {},
   "outputs": [
    {
     "data": {
      "text/plain": [
       "<matplotlib.legend.Legend at 0x2a8aaf712b0>"
      ]
     },
     "execution_count": 19,
     "metadata": {},
     "output_type": "execute_result"
    },
    {
     "data": {
      "image/png": "[encoded data removed]",
      "text/plain": [
       "<Figure size 864x288 with 1 Axes>"
      ]
     },
     "metadata": {},
     "output_type": "display_data"
    }
   ],
   "source": [
    "ax = y_compare.plot(kind = 'bar', title = '충전 수요 분포 지수 예측 ver.1', \n",
    "                   figsize = (12, 4), legend = True, fontsize = 12)\n",
    "ax.set_xlabel('법정동', fontsize = 12)\n",
    "ax.set_ylabel('테스트 값 / 예측 값', fontsize = 12)\n",
    "ax.legend(['y_test', 'y_predicted'], fontsize = 12)"
   ]
  },
  {
   "cell_type": "markdown",
   "id": "2b6f950a",
   "metadata": {},
   "source": [
    "# Performance"
   ]
  },
  {
   "cell_type": "code",
   "execution_count": 20,
   "id": "0ddc9fa8",
   "metadata": {},
   "outputs": [
    {
     "name": "stdout",
     "output_type": "stream",
     "text": [
      "훈련 세트의 정확도 : 0.6860575880300621\n",
      "테스트 세트의 정확도 : 0.7171574232060203\n",
      "사용한 특성의 수 : 13\n"
     ]
    }
   ],
   "source": [
    "# R2 Score(결정계수)\n",
    "print(f'훈련 세트의 정확도 : {lr_model.score(X_train, y_train)}')\n",
    "print(f'테스트 세트의 정확도 : {lr_model.score(X_test, y_test)}')\n",
    "print(f'사용한 특성의 수 : {np.sum(lr_model.coef_ != 0)}')"
   ]
  },
  {
   "cell_type": "markdown",
   "id": "f2b1ddd7",
   "metadata": {},
   "source": [
    "# Improved Performance "
   ]
  },
  {
   "cell_type": "markdown",
   "id": "fe329b28",
   "metadata": {},
   "source": [
    "## 1. vif가 높은 feature 제거"
   ]
  },
  {
   "cell_type": "code",
   "execution_count": 21,
   "id": "b708356c",
   "metadata": {},
   "outputs": [
    {
     "data": {
      "text/plain": [
       "<AxesSubplot:>"
      ]
     },
     "execution_count": 21,
     "metadata": {},
     "output_type": "execute_result"
    },
    {
     "data": {
      "image/png": "[encoded data removed]",
      "text/plain": [
       "<Figure size 1080x720 with 2 Axes>"
      ]
     },
     "metadata": {},
     "output_type": "display_data"
    }
   ],
   "source": [
    "# Heatmap\n",
    "total_data_corr = total_data[['TRAD', 'CONCERT', 'OLD', 'MART', 'LIB', 'MED',\n",
    "                             'ART', 'MUS', 'COMM', 'SPORT', 'OWN', 'JOB', 'CARROT', 'CHARGE']]\n",
    "plt.rcParams['figure.figsize'] = (15, 10)\n",
    "\n",
    "sns.heatmap(total_data_corr.corr(), annot = True, cmap = 'Reds', vmin = -1, vmax = 1)"
   ]
  },
  {
   "cell_type": "code",
   "execution_count": 22,
   "id": "a5b6de67",
   "metadata": {},
   "outputs": [
    {
     "data": {
      "text/html": [
       "<div>\n",
       "<style scoped>\n",
       "    .dataframe tbody tr th:only-of-type {\n",
       "        vertical-align: middle;\n",
       "    }\n",
       "\n",
       "    .dataframe tbody tr th {\n",
       "        vertical-align: top;\n",
       "    }\n",
       "\n",
       "    .dataframe thead th {\n",
       "        text-align: right;\n",
       "    }\n",
       "</style>\n",
       "<table border=\"1\" class=\"dataframe\">\n",
       "  <thead>\n",
       "    <tr style=\"text-align: right;\">\n",
       "      <th></th>\n",
       "      <th>VIF</th>\n",
       "      <th>features</th>\n",
       "    </tr>\n",
       "  </thead>\n",
       "  <tbody>\n",
       "    <tr>\n",
       "      <th>0</th>\n",
       "      <td>2.194235</td>\n",
       "      <td>TRAD</td>\n",
       "    </tr>\n",
       "    <tr>\n",
       "      <th>1</th>\n",
       "      <td>1.819474</td>\n",
       "      <td>CONCERT</td>\n",
       "    </tr>\n",
       "    <tr>\n",
       "      <th>2</th>\n",
       "      <td>1.760653</td>\n",
       "      <td>OLD</td>\n",
       "    </tr>\n",
       "    <tr>\n",
       "      <th>3</th>\n",
       "      <td>1.578607</td>\n",
       "      <td>MART</td>\n",
       "    </tr>\n",
       "    <tr>\n",
       "      <th>4</th>\n",
       "      <td>3.804537</td>\n",
       "      <td>LIB</td>\n",
       "    </tr>\n",
       "    <tr>\n",
       "      <th>5</th>\n",
       "      <td>3.726044</td>\n",
       "      <td>MED</td>\n",
       "    </tr>\n",
       "    <tr>\n",
       "      <th>6</th>\n",
       "      <td>1.161986</td>\n",
       "      <td>ART</td>\n",
       "    </tr>\n",
       "    <tr>\n",
       "      <th>7</th>\n",
       "      <td>1.265390</td>\n",
       "      <td>MUS</td>\n",
       "    </tr>\n",
       "    <tr>\n",
       "      <th>8</th>\n",
       "      <td>4.409671</td>\n",
       "      <td>COMM</td>\n",
       "    </tr>\n",
       "    <tr>\n",
       "      <th>9</th>\n",
       "      <td>1.882926</td>\n",
       "      <td>SPORT</td>\n",
       "    </tr>\n",
       "    <tr>\n",
       "      <th>10</th>\n",
       "      <td>2.053591</td>\n",
       "      <td>OWN</td>\n",
       "    </tr>\n",
       "    <tr>\n",
       "      <th>11</th>\n",
       "      <td>2.018407</td>\n",
       "      <td>JOB</td>\n",
       "    </tr>\n",
       "    <tr>\n",
       "      <th>12</th>\n",
       "      <td>2.220290</td>\n",
       "      <td>CARROT</td>\n",
       "    </tr>\n",
       "    <tr>\n",
       "      <th>13</th>\n",
       "      <td>4.224462</td>\n",
       "      <td>CHARGE</td>\n",
       "    </tr>\n",
       "  </tbody>\n",
       "</table>\n",
       "</div>"
      ],
      "text/plain": [
       "         VIF features\n",
       "0   2.194235     TRAD\n",
       "1   1.819474  CONCERT\n",
       "2   1.760653      OLD\n",
       "3   1.578607     MART\n",
       "4   3.804537      LIB\n",
       "5   3.726044      MED\n",
       "6   1.161986      ART\n",
       "7   1.265390      MUS\n",
       "8   4.409671     COMM\n",
       "9   1.882926    SPORT\n",
       "10  2.053591      OWN\n",
       "11  2.018407      JOB\n",
       "12  2.220290   CARROT\n",
       "13  4.224462   CHARGE"
      ]
     },
     "execution_count": 22,
     "metadata": {},
     "output_type": "execute_result"
    }
   ],
   "source": [
    "# VIF\n",
    "from statsmodels.stats.outliers_influence import variance_inflation_factor\n",
    "vif = pd.DataFrame()\n",
    "vif['VIF'] = [variance_inflation_factor(total_data_corr.values, i) for i in range(total_data_corr.shape[1])]\n",
    "vif['features'] = total_data_corr.columns\n",
    "vif"
   ]
  },
  {
   "cell_type": "code",
   "execution_count": 23,
   "id": "96ced364",
   "metadata": {},
   "outputs": [
    {
     "data": {
      "text/html": [
       "<div>\n",
       "<style scoped>\n",
       "    .dataframe tbody tr th:only-of-type {\n",
       "        vertical-align: middle;\n",
       "    }\n",
       "\n",
       "    .dataframe tbody tr th {\n",
       "        vertical-align: top;\n",
       "    }\n",
       "\n",
       "    .dataframe thead th {\n",
       "        text-align: right;\n",
       "    }\n",
       "</style>\n",
       "<table border=\"1\" class=\"dataframe\">\n",
       "  <thead>\n",
       "    <tr style=\"text-align: right;\">\n",
       "      <th></th>\n",
       "      <th>VIF</th>\n",
       "      <th>features</th>\n",
       "    </tr>\n",
       "  </thead>\n",
       "  <tbody>\n",
       "    <tr>\n",
       "      <th>0</th>\n",
       "      <td>2.060164</td>\n",
       "      <td>TRAD</td>\n",
       "    </tr>\n",
       "    <tr>\n",
       "      <th>1</th>\n",
       "      <td>1.778992</td>\n",
       "      <td>CONCERT</td>\n",
       "    </tr>\n",
       "    <tr>\n",
       "      <th>2</th>\n",
       "      <td>1.744271</td>\n",
       "      <td>OLD</td>\n",
       "    </tr>\n",
       "    <tr>\n",
       "      <th>3</th>\n",
       "      <td>1.568070</td>\n",
       "      <td>MART</td>\n",
       "    </tr>\n",
       "    <tr>\n",
       "      <th>4</th>\n",
       "      <td>2.868981</td>\n",
       "      <td>LIB</td>\n",
       "    </tr>\n",
       "    <tr>\n",
       "      <th>5</th>\n",
       "      <td>3.550147</td>\n",
       "      <td>MED</td>\n",
       "    </tr>\n",
       "    <tr>\n",
       "      <th>6</th>\n",
       "      <td>1.139530</td>\n",
       "      <td>ART</td>\n",
       "    </tr>\n",
       "    <tr>\n",
       "      <th>7</th>\n",
       "      <td>1.254635</td>\n",
       "      <td>MUS</td>\n",
       "    </tr>\n",
       "    <tr>\n",
       "      <th>8</th>\n",
       "      <td>1.794854</td>\n",
       "      <td>SPORT</td>\n",
       "    </tr>\n",
       "    <tr>\n",
       "      <th>9</th>\n",
       "      <td>2.053399</td>\n",
       "      <td>OWN</td>\n",
       "    </tr>\n",
       "    <tr>\n",
       "      <th>10</th>\n",
       "      <td>1.979166</td>\n",
       "      <td>JOB</td>\n",
       "    </tr>\n",
       "    <tr>\n",
       "      <th>11</th>\n",
       "      <td>2.203555</td>\n",
       "      <td>CARROT</td>\n",
       "    </tr>\n",
       "    <tr>\n",
       "      <th>12</th>\n",
       "      <td>4.198139</td>\n",
       "      <td>CHARGE</td>\n",
       "    </tr>\n",
       "  </tbody>\n",
       "</table>\n",
       "</div>"
      ],
      "text/plain": [
       "         VIF features\n",
       "0   2.060164     TRAD\n",
       "1   1.778992  CONCERT\n",
       "2   1.744271      OLD\n",
       "3   1.568070     MART\n",
       "4   2.868981      LIB\n",
       "5   3.550147      MED\n",
       "6   1.139530      ART\n",
       "7   1.254635      MUS\n",
       "8   1.794854    SPORT\n",
       "9   2.053399      OWN\n",
       "10  1.979166      JOB\n",
       "11  2.203555   CARROT\n",
       "12  4.198139   CHARGE"
      ]
     },
     "execution_count": 23,
     "metadata": {},
     "output_type": "execute_result"
    }
   ],
   "source": [
    "# vif가 높은 계수의 feature 제거 : 'COMM' 컬럼 제거\n",
    "total_data_corr = total_data_corr.drop(['COMM',  ], axis = 1)\n",
    "vif = pd.DataFrame()\n",
    "vif['VIF'] = [variance_inflation_factor(total_data_corr.values, i) for i in range(total_data_corr.shape[1])]\n",
    "vif['features'] = total_data_corr.columns\n",
    "vif"
   ]
  },
  {
   "cell_type": "code",
   "execution_count": 24,
   "id": "4aa8cfc8",
   "metadata": {
    "scrolled": true
   },
   "outputs": [
    {
     "data": {
      "text/plain": [
       "array(['TRAD', 'CONCERT', 'OLD', 'MART', 'LIB', 'MED', 'ART', 'MUS',\n",
       "       'SPORT', 'OWN', 'JOB', 'CARROT', 'CHARGE'], dtype=object)"
      ]
     },
     "execution_count": 24,
     "metadata": {},
     "output_type": "execute_result"
    }
   ],
   "source": [
    "vif.features.values"
   ]
  },
  {
   "cell_type": "markdown",
   "id": "5bbf8d36",
   "metadata": {},
   "source": [
    "# ver2. 다중선형 회귀분석"
   ]
  },
  {
   "cell_type": "code",
   "execution_count": 25,
   "id": "d4cd4632",
   "metadata": {},
   "outputs": [],
   "source": [
    "# VIF가 높은 컬럼인 'COMM' 컬럼 제거\n",
    "total_data_corr_re = total_data_corr[['TRAD', 'CONCERT', 'OLD', 'MART', 'ART', 'MUS', 'LIB', 'MED',  \n",
    "                                     'SPORT', 'OWN' , 'JOB', 'CARROT', 'CHARGE']]\n",
    "X = total_data_corr_re[total_data_corr_re.columns.difference(['CHARGE'])]\n",
    "y = total_data_corr_re['CHARGE']"
   ]
  },
  {
   "cell_type": "code",
   "execution_count": 26,
   "id": "830eb4f2",
   "metadata": {},
   "outputs": [],
   "source": [
    "# train : test = 80 : 20\n",
    "X_train, X_test, y_train, y_test = train_test_split(X, y, test_size=0.2, random_state=42, stratify = y)"
   ]
  },
  {
   "cell_type": "code",
   "execution_count": 27,
   "id": "bb7059ac",
   "metadata": {},
   "outputs": [],
   "source": [
    "lr = linear_model.LinearRegression()\n",
    "lr_model2 = lr.fit(X_train, y_train)"
   ]
  },
  {
   "cell_type": "markdown",
   "id": "dacd4dd4",
   "metadata": {},
   "source": [
    "## 기존 값과 예측 값 비교"
   ]
  },
  {
   "cell_type": "code",
   "execution_count": 28,
   "id": "b3b4fa68",
   "metadata": {},
   "outputs": [],
   "source": [
    "x_new = X_test\n",
    "y_new = lr_model2.predict(x_new)"
   ]
  },
  {
   "cell_type": "code",
   "execution_count": 29,
   "id": "cae9a8a3",
   "metadata": {},
   "outputs": [],
   "source": [
    "y_compare2 = {'y_test' : y_test, 'y_predicted' : y_new}"
   ]
  },
  {
   "cell_type": "code",
   "execution_count": 30,
   "id": "8bc1b7f0",
   "metadata": {},
   "outputs": [],
   "source": [
    "y_compare2 = pd.DataFrame(y_compare2)"
   ]
  },
  {
   "cell_type": "code",
   "execution_count": 31,
   "id": "4389cc78",
   "metadata": {},
   "outputs": [
    {
     "data": {
      "text/plain": [
       "<matplotlib.legend.Legend at 0x2a8abad48e0>"
      ]
     },
     "execution_count": 31,
     "metadata": {},
     "output_type": "execute_result"
    },
    {
     "data": {
      "image/png": "[encoded data removed]",
      "text/plain": [
       "<Figure size 864x288 with 1 Axes>"
      ]
     },
     "metadata": {},
     "output_type": "display_data"
    }
   ],
   "source": [
    "ax = y_compare2.plot(kind = 'bar', title = '충전 수요 분포 지수 예측 ver.2', \n",
    "                   figsize = (12, 4), legend = True, fontsize = 12)\n",
    "ax.set_xlabel('법정동', fontsize = 12)\n",
    "ax.set_ylabel('테스트 값 / 예측 값', fontsize = 12)\n",
    "ax.legend(['y_test', 'y_predicted'], fontsize = 12)"
   ]
  },
  {
   "cell_type": "markdown",
   "id": "c1479205",
   "metadata": {},
   "source": [
    "# Performance ver.2"
   ]
  },
  {
   "cell_type": "code",
   "execution_count": 32,
   "id": "98cb7006",
   "metadata": {},
   "outputs": [
    {
     "name": "stdout",
     "output_type": "stream",
     "text": [
      "훈련 세트의 정확도 : 0.6859507900819471\n",
      "테스트 세트의 정확도 : 0.7119450264569589\n",
      "사용한 특성의 수 : 12\n"
     ]
    }
   ],
   "source": [
    "# R2 Score(결정계수)\n",
    "print(f'훈련 세트의 정확도 : {lr_model2.score(X_train, y_train)}')\n",
    "print(f'테스트 세트의 정확도 : {lr_model2.score(X_test, y_test)}')\n",
    "print(f'사용한 특성의 수 : {np.sum(lr_model2.coef_ != 0)}')"
   ]
  },
  {
   "cell_type": "markdown",
   "id": "35c48deb",
   "metadata": {},
   "source": [
    "# 2. feature의 p-value 검정"
   ]
  },
  {
   "cell_type": "code",
   "execution_count": 33,
   "id": "65a0db22",
   "metadata": {
    "scrolled": true
   },
   "outputs": [
    {
     "data": {
      "text/html": [
       "<table class=\"simpletable\">\n",
       "<caption>OLS Regression Results</caption>\n",
       "<tr>\n",
       "  <th>Dep. Variable:</th>         <td>CHARGE</td>      <th>  R-squared:         </th> <td>   0.686</td>\n",
       "</tr>\n",
       "<tr>\n",
       "  <th>Model:</th>                   <td>OLS</td>       <th>  Adj. R-squared:    </th> <td>   0.659</td>\n",
       "</tr>\n",
       "<tr>\n",
       "  <th>Method:</th>             <td>Least Squares</td>  <th>  F-statistic:       </th> <td>   25.66</td>\n",
       "</tr>\n",
       "<tr>\n",
       "  <th>Date:</th>             <td>Thu, 11 Aug 2022</td> <th>  Prob (F-statistic):</th> <td>9.68e-30</td>\n",
       "</tr>\n",
       "<tr>\n",
       "  <th>Time:</th>                 <td>15:51:33</td>     <th>  Log-Likelihood:    </th> <td> -146.08</td>\n",
       "</tr>\n",
       "<tr>\n",
       "  <th>No. Observations:</th>      <td>   154</td>      <th>  AIC:               </th> <td>   318.2</td>\n",
       "</tr>\n",
       "<tr>\n",
       "  <th>Df Residuals:</th>          <td>   141</td>      <th>  BIC:               </th> <td>   357.6</td>\n",
       "</tr>\n",
       "<tr>\n",
       "  <th>Df Model:</th>              <td>    12</td>      <th>                     </th>     <td> </td>   \n",
       "</tr>\n",
       "<tr>\n",
       "  <th>Covariance Type:</th>      <td>nonrobust</td>    <th>                     </th>     <td> </td>   \n",
       "</tr>\n",
       "</table>\n",
       "<table class=\"simpletable\">\n",
       "<tr>\n",
       "     <td></td>        <th>coef</th>     <th>std err</th>      <th>t</th>      <th>P>|t|</th>  <th>[0.025</th>    <th>0.975]</th>  \n",
       "</tr>\n",
       "<tr>\n",
       "  <th>const</th>   <td>   -0.0099</td> <td>    0.073</td> <td>   -0.135</td> <td> 0.893</td> <td>   -0.154</td> <td>    0.134</td>\n",
       "</tr>\n",
       "<tr>\n",
       "  <th>ART</th>     <td>    0.2257</td> <td>    0.133</td> <td>    1.694</td> <td> 0.092</td> <td>   -0.038</td> <td>    0.489</td>\n",
       "</tr>\n",
       "<tr>\n",
       "  <th>CARROT</th>  <td>   -0.0440</td> <td>    0.087</td> <td>   -0.504</td> <td> 0.615</td> <td>   -0.217</td> <td>    0.129</td>\n",
       "</tr>\n",
       "<tr>\n",
       "  <th>CONCERT</th> <td>    0.1728</td> <td>    0.150</td> <td>    1.150</td> <td> 0.252</td> <td>   -0.124</td> <td>    0.470</td>\n",
       "</tr>\n",
       "<tr>\n",
       "  <th>JOB</th>     <td>    0.0041</td> <td>    0.001</td> <td>    4.934</td> <td> 0.000</td> <td>    0.002</td> <td>    0.006</td>\n",
       "</tr>\n",
       "<tr>\n",
       "  <th>LIB</th>     <td>    0.0560</td> <td>    0.022</td> <td>    2.495</td> <td> 0.014</td> <td>    0.012</td> <td>    0.100</td>\n",
       "</tr>\n",
       "<tr>\n",
       "  <th>MART</th>    <td>   -0.1424</td> <td>    0.138</td> <td>   -1.034</td> <td> 0.303</td> <td>   -0.415</td> <td>    0.130</td>\n",
       "</tr>\n",
       "<tr>\n",
       "  <th>MED</th>     <td>    0.1001</td> <td>    0.037</td> <td>    2.738</td> <td> 0.007</td> <td>    0.028</td> <td>    0.172</td>\n",
       "</tr>\n",
       "<tr>\n",
       "  <th>MUS</th>     <td>   -0.3154</td> <td>    0.301</td> <td>   -1.048</td> <td> 0.296</td> <td>   -0.910</td> <td>    0.280</td>\n",
       "</tr>\n",
       "<tr>\n",
       "  <th>OLD</th>     <td>   -0.0958</td> <td>    0.078</td> <td>   -1.226</td> <td> 0.222</td> <td>   -0.250</td> <td>    0.059</td>\n",
       "</tr>\n",
       "<tr>\n",
       "  <th>OWN</th>     <td>    0.0073</td> <td>    0.006</td> <td>    1.168</td> <td> 0.245</td> <td>   -0.005</td> <td>    0.020</td>\n",
       "</tr>\n",
       "<tr>\n",
       "  <th>SPORT</th>   <td>    0.0553</td> <td>    0.015</td> <td>    3.604</td> <td> 0.000</td> <td>    0.025</td> <td>    0.086</td>\n",
       "</tr>\n",
       "<tr>\n",
       "  <th>TRAD</th>    <td>    0.8508</td> <td>    0.150</td> <td>    5.684</td> <td> 0.000</td> <td>    0.555</td> <td>    1.147</td>\n",
       "</tr>\n",
       "</table>\n",
       "<table class=\"simpletable\">\n",
       "<tr>\n",
       "  <th>Omnibus:</th>       <td>41.211</td> <th>  Durbin-Watson:     </th> <td>   1.914</td>\n",
       "</tr>\n",
       "<tr>\n",
       "  <th>Prob(Omnibus):</th> <td> 0.000</td> <th>  Jarque-Bera (JB):  </th> <td>  92.063</td>\n",
       "</tr>\n",
       "<tr>\n",
       "  <th>Skew:</th>          <td> 1.146</td> <th>  Prob(JB):          </th> <td>1.02e-20</td>\n",
       "</tr>\n",
       "<tr>\n",
       "  <th>Kurtosis:</th>      <td> 6.016</td> <th>  Cond. No.          </th> <td>    471.</td>\n",
       "</tr>\n",
       "</table><br/><br/>Notes:<br/>[1] Standard Errors assume that the covariance matrix of the errors is correctly specified."
      ],
      "text/plain": [
       "<class 'statsmodels.iolib.summary.Summary'>\n",
       "\"\"\"\n",
       "                            OLS Regression Results                            \n",
       "==============================================================================\n",
       "Dep. Variable:                 CHARGE   R-squared:                       0.686\n",
       "Model:                            OLS   Adj. R-squared:                  0.659\n",
       "Method:                 Least Squares   F-statistic:                     25.66\n",
       "Date:                Thu, 11 Aug 2022   Prob (F-statistic):           9.68e-30\n",
       "Time:                        15:51:33   Log-Likelihood:                -146.08\n",
       "No. Observations:                 154   AIC:                             318.2\n",
       "Df Residuals:                     141   BIC:                             357.6\n",
       "Df Model:                          12                                         \n",
       "Covariance Type:            nonrobust                                         \n",
       "==============================================================================\n",
       "                 coef    std err          t      P>|t|      [0.025      0.975]\n",
       "------------------------------------------------------------------------------\n",
       "const         -0.0099      0.073     -0.135      0.893      -0.154       0.134\n",
       "ART            0.2257      0.133      1.694      0.092      -0.038       0.489\n",
       "CARROT        -0.0440      0.087     -0.504      0.615      -0.217       0.129\n",
       "CONCERT        0.1728      0.150      1.150      0.252      -0.124       0.470\n",
       "JOB            0.0041      0.001      4.934      0.000       0.002       0.006\n",
       "LIB            0.0560      0.022      2.495      0.014       0.012       0.100\n",
       "MART          -0.1424      0.138     -1.034      0.303      -0.415       0.130\n",
       "MED            0.1001      0.037      2.738      0.007       0.028       0.172\n",
       "MUS           -0.3154      0.301     -1.048      0.296      -0.910       0.280\n",
       "OLD           -0.0958      0.078     -1.226      0.222      -0.250       0.059\n",
       "OWN            0.0073      0.006      1.168      0.245      -0.005       0.020\n",
       "SPORT          0.0553      0.015      3.604      0.000       0.025       0.086\n",
       "TRAD           0.8508      0.150      5.684      0.000       0.555       1.147\n",
       "==============================================================================\n",
       "Omnibus:                       41.211   Durbin-Watson:                   1.914\n",
       "Prob(Omnibus):                  0.000   Jarque-Bera (JB):               92.063\n",
       "Skew:                           1.146   Prob(JB):                     1.02e-20\n",
       "Kurtosis:                       6.016   Cond. No.                         471.\n",
       "==============================================================================\n",
       "\n",
       "Notes:\n",
       "[1] Standard Errors assume that the covariance matrix of the errors is correctly specified.\n",
       "\"\"\""
      ]
     },
     "execution_count": 33,
     "metadata": {},
     "output_type": "execute_result"
    }
   ],
   "source": [
    "import statsmodels.api as sms\n",
    "\n",
    "X_train = sms.add_constant(X_train)\n",
    "lr_remodel = sms.OLS(y_train, X_train).fit()\n",
    "lr_remodel.summary()"
   ]
  },
  {
   "cell_type": "markdown",
   "id": "687fb3df",
   "metadata": {},
   "source": [
    "# ver3. 다중선형 회귀분석"
   ]
  },
  {
   "cell_type": "code",
   "execution_count": 34,
   "id": "5838556a",
   "metadata": {},
   "outputs": [],
   "source": [
    "# t값이 높은 컬럼인 'CARROT', 'MUS' 제거\n",
    "total_data_corr_re = total_data_corr[['ART', 'CONCERT', 'JOB', 'LIB', 'MART', 'MED','OLD',  'OWN', 'SPORT', 'TRAD', 'CHARGE']]\n",
    "\n",
    "X = total_data_corr_re[total_data_corr_re.columns.difference(['CHARGE'])]\n",
    "y = total_data_corr_re['CHARGE']"
   ]
  },
  {
   "cell_type": "code",
   "execution_count": 35,
   "id": "06dfe19e",
   "metadata": {},
   "outputs": [],
   "source": [
    "# train : test = 80 : 20\n",
    "X_train, X_test, y_train, y_test = train_test_split(X, y, test_size=0.2, random_state=42, stratify = y)"
   ]
  },
  {
   "cell_type": "code",
   "execution_count": 36,
   "id": "c08b1d17",
   "metadata": {},
   "outputs": [],
   "source": [
    "lr = linear_model.LinearRegression()\n",
    "lr_model3 = lr.fit(X_train, y_train)"
   ]
  },
  {
   "cell_type": "markdown",
   "id": "d255d101",
   "metadata": {},
   "source": [
    "## 기존 값과 예측 값 비교"
   ]
  },
  {
   "cell_type": "code",
   "execution_count": 37,
   "id": "caba5e62",
   "metadata": {},
   "outputs": [],
   "source": [
    "x_new = X_test\n",
    "y_new = lr_model3.predict(x_new)"
   ]
  },
  {
   "cell_type": "code",
   "execution_count": 38,
   "id": "09845c67",
   "metadata": {},
   "outputs": [],
   "source": [
    "y_compare3 = {'y_test' : y_test, 'y_predicted' : y_new}"
   ]
  },
  {
   "cell_type": "code",
   "execution_count": 39,
   "id": "e084c4ef",
   "metadata": {},
   "outputs": [],
   "source": [
    "y_compare3 = pd.DataFrame(y_compare3)"
   ]
  },
  {
   "cell_type": "code",
   "execution_count": 40,
   "id": "73a59878",
   "metadata": {
    "scrolled": true
   },
   "outputs": [
    {
     "data": {
      "text/plain": [
       "<matplotlib.legend.Legend at 0x2a8abad4940>"
      ]
     },
     "execution_count": 40,
     "metadata": {},
     "output_type": "execute_result"
    },
    {
     "data": {
      "image/png": "[encoded data removed]",
      "text/plain": [
       "<Figure size 864x288 with 1 Axes>"
      ]
     },
     "metadata": {},
     "output_type": "display_data"
    }
   ],
   "source": [
    "ax = y_compare3.plot(kind = 'bar', title = '충전 수요 분포 지수 예측 ver.3', \n",
    "                   figsize = (12, 4), legend = True, fontsize = 12)\n",
    "ax.set_xlabel('법정동', fontsize = 12)\n",
    "ax.set_ylabel('테스트 값 / 예측 값', fontsize = 12)\n",
    "ax.legend(['y_test', 'y_predicted'], fontsize = 12)"
   ]
  },
  {
   "cell_type": "markdown",
   "id": "1dd460c7",
   "metadata": {},
   "source": [
    "# Performance ver.3"
   ]
  },
  {
   "cell_type": "code",
   "execution_count": 41,
   "id": "c0b37fa3",
   "metadata": {},
   "outputs": [
    {
     "name": "stdout",
     "output_type": "stream",
     "text": [
      "훈련 세트의 정확도 : 0.6830524920856065\n",
      "테스트 세트의 정확도 : 0.7218430245278967\n",
      "사용한 특성의 수 : 10\n"
     ]
    }
   ],
   "source": [
    "# R2 Score(결정계수)\n",
    "print(f'훈련 세트의 정확도 : {lr_model3.score(X_train, y_train)}')\n",
    "print(f'테스트 세트의 정확도 : {lr_model3.score(X_test, y_test)}')\n",
    "print(f'사용한 특성의 수 : {np.sum(lr_model3.coef_ != 0)}')"
   ]
  },
  {
   "cell_type": "code",
   "execution_count": 42,
   "id": "881c46e4",
   "metadata": {},
   "outputs": [
    {
     "data": {
      "text/plain": [
       "(26, 3)"
      ]
     },
     "execution_count": 42,
     "metadata": {},
     "output_type": "execute_result"
    }
   ],
   "source": [
    "X_test_total = total_data_corr_re[total_data_corr_re['CHARGE'] >= 0].iloc[:, :-1]\n",
    "y_pred_total = lr_model3.predict(X_test_total)\n",
    "y_pred_df_total = pd.DataFrame(y_pred_total, columns=['charge_demand'])\n",
    "charge_true = y_pred_total - y\n",
    "total_df = {'현재 충전기 개수' : y , '충전기 수요' : y_pred_total, 'real charge' : charge_true}\n",
    "total_df = pd.DataFrame(total_df)\n",
    "total_df[total_df['real charge']>= 0.5].sort_values(by = 'real charge').shape"
   ]
  },
  {
   "cell_type": "code",
   "execution_count": null,
   "id": "0d8d7100",
   "metadata": {},
   "outputs": [],
   "source": []
  }
 ],
 "metadata": {
  "kernelspec": {
   "display_name": "Python 3 (ipykernel)",
   "language": "python",
   "name": "python3"
  },
  "language_info": {
   "codemirror_mode": {
    "name": "ipython",
    "version": 3
   },
   "file_extension": ".py",
   "mimetype": "text/x-python",
   "name": "python",
   "nbconvert_exporter": "python",
   "pygments_lexer": "ipython3",
   "version": "3.9.12"
  }
 },
 "nbformat": 4,
 "nbformat_minor": 5
}
