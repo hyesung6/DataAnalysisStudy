{
  "cells": [
    {
      "cell_type": "code",
      "execution_count": 1,
      "metadata": {
        "colab": {
          "base_uri": "https://localhost:8080/"
        },
        "id": "XuANDTl-w9pu",
        "outputId": "29efe569-9f32-44c0-a6a2-d034e4f7c6af"
      },
      "outputs": [
        {
          "output_type": "stream",
          "name": "stdout",
          "text": [
            "Looking in indexes: https://pypi.org/simple, https://us-python.pkg.dev/colab-wheels/public/simple/\n",
            "Collecting pulp\n",
            "  Downloading PuLP-2.6.0-py3-none-any.whl (14.2 MB)\n",
            "\u001b[K     |████████████████████████████████| 14.2 MB 14.7 MB/s \n",
            "\u001b[?25hInstalling collected packages: pulp\n",
            "Successfully installed pulp-2.6.0\n"
          ]
        }
      ],
      "source": [
        "!pip install pulp\n",
        "\n",
        "import pandas as pd\n",
        "from pulp import *"
      ]
    },
    {
      "cell_type": "code",
      "execution_count": 233,
      "metadata": {
        "id": "36v8m1wi_vGl"
      },
      "outputs": [],
      "source": [
        "import pandas as pd"
      ]
    },
    {
      "cell_type": "code",
      "execution_count": 260,
      "metadata": {
        "id": "6ED13O5R4Lga",
        "colab": {
          "base_uri": "https://localhost:8080/",
          "height": 143
        },
        "outputId": "360fbba6-7b8c-4531-8a6c-0985feb60109"
      },
      "outputs": [
        {
          "output_type": "execute_result",
          "data": {
            "text/plain": [
              "                    ID  광주 광산구 왕버들로251번길 27  광주 광산구 왕버들로252번길 46  \\\n",
              "0  광주 광산구 왕버들로251번길 27             0.000000           436.318289   \n",
              "1  광주 광산구 왕버들로252번길 46           436.318289             0.000000   \n",
              "2       광주 광산구 수등로 287          1321.315716          1047.535542   \n",
              "\n",
              "   광주 광산구 수등로 287  \n",
              "0     1321.315716  \n",
              "1     1047.535542  \n",
              "2        0.000000  "
            ],
            "text/html": [
              "\n",
              "  <div id=\"df-e429e4c9-056b-44ce-a3c4-d0df6b890e75\">\n",
              "    <div class=\"colab-df-container\">\n",
              "      <div>\n",
              "<style scoped>\n",
              "    .dataframe tbody tr th:only-of-type {\n",
              "        vertical-align: middle;\n",
              "    }\n",
              "\n",
              "    .dataframe tbody tr th {\n",
              "        vertical-align: top;\n",
              "    }\n",
              "\n",
              "    .dataframe thead th {\n",
              "        text-align: right;\n",
              "    }\n",
              "</style>\n",
              "<table border=\"1\" class=\"dataframe\">\n",
              "  <thead>\n",
              "    <tr style=\"text-align: right;\">\n",
              "      <th></th>\n",
              "      <th>ID</th>\n",
              "      <th>광주 광산구 왕버들로251번길 27</th>\n",
              "      <th>광주 광산구 왕버들로252번길 46</th>\n",
              "      <th>광주 광산구 수등로 287</th>\n",
              "    </tr>\n",
              "  </thead>\n",
              "  <tbody>\n",
              "    <tr>\n",
              "      <th>0</th>\n",
              "      <td>광주 광산구 왕버들로251번길 27</td>\n",
              "      <td>0.000000</td>\n",
              "      <td>436.318289</td>\n",
              "      <td>1321.315716</td>\n",
              "    </tr>\n",
              "    <tr>\n",
              "      <th>1</th>\n",
              "      <td>광주 광산구 왕버들로252번길 46</td>\n",
              "      <td>436.318289</td>\n",
              "      <td>0.000000</td>\n",
              "      <td>1047.535542</td>\n",
              "    </tr>\n",
              "    <tr>\n",
              "      <th>2</th>\n",
              "      <td>광주 광산구 수등로 287</td>\n",
              "      <td>1321.315716</td>\n",
              "      <td>1047.535542</td>\n",
              "      <td>0.000000</td>\n",
              "    </tr>\n",
              "  </tbody>\n",
              "</table>\n",
              "</div>\n",
              "      <button class=\"colab-df-convert\" onclick=\"convertToInteractive('df-e429e4c9-056b-44ce-a3c4-d0df6b890e75')\"\n",
              "              title=\"Convert this dataframe to an interactive table.\"\n",
              "              style=\"display:none;\">\n",
              "        \n",
              "  <svg xmlns=\"http://www.w3.org/2000/svg\" height=\"24px\"viewBox=\"0 0 24 24\"\n",
              "       width=\"24px\">\n",
              "    <path d=\"M0 0h24v24H0V0z\" fill=\"none\"/>\n",
              "    <path d=\"M18.56 5.44l.94 2.06.94-2.06 2.06-.94-2.06-.94-.94-2.06-.94 2.06-2.06.94zm-11 1L8.5 8.5l.94-2.06 2.06-.94-2.06-.94L8.5 2.5l-.94 2.06-2.06.94zm10 10l.94 2.06.94-2.06 2.06-.94-2.06-.94-.94-2.06-.94 2.06-2.06.94z\"/><path d=\"M17.41 7.96l-1.37-1.37c-.4-.4-.92-.59-1.43-.59-.52 0-1.04.2-1.43.59L10.3 9.45l-7.72 7.72c-.78.78-.78 2.05 0 2.83L4 21.41c.39.39.9.59 1.41.59.51 0 1.02-.2 1.41-.59l7.78-7.78 2.81-2.81c.8-.78.8-2.07 0-2.86zM5.41 20L4 18.59l7.72-7.72 1.47 1.35L5.41 20z\"/>\n",
              "  </svg>\n",
              "      </button>\n",
              "      \n",
              "  <style>\n",
              "    .colab-df-container {\n",
              "      display:flex;\n",
              "      flex-wrap:wrap;\n",
              "      gap: 12px;\n",
              "    }\n",
              "\n",
              "    .colab-df-convert {\n",
              "      background-color: #E8F0FE;\n",
              "      border: none;\n",
              "      border-radius: 50%;\n",
              "      cursor: pointer;\n",
              "      display: none;\n",
              "      fill: #1967D2;\n",
              "      height: 32px;\n",
              "      padding: 0 0 0 0;\n",
              "      width: 32px;\n",
              "    }\n",
              "\n",
              "    .colab-df-convert:hover {\n",
              "      background-color: #E2EBFA;\n",
              "      box-shadow: 0px 1px 2px rgba(60, 64, 67, 0.3), 0px 1px 3px 1px rgba(60, 64, 67, 0.15);\n",
              "      fill: #174EA6;\n",
              "    }\n",
              "\n",
              "    [theme=dark] .colab-df-convert {\n",
              "      background-color: #3B4455;\n",
              "      fill: #D2E3FC;\n",
              "    }\n",
              "\n",
              "    [theme=dark] .colab-df-convert:hover {\n",
              "      background-color: #434B5C;\n",
              "      box-shadow: 0px 1px 3px 1px rgba(0, 0, 0, 0.15);\n",
              "      filter: drop-shadow(0px 1px 2px rgba(0, 0, 0, 0.3));\n",
              "      fill: #FFFFFF;\n",
              "    }\n",
              "  </style>\n",
              "\n",
              "      <script>\n",
              "        const buttonEl =\n",
              "          document.querySelector('#df-e429e4c9-056b-44ce-a3c4-d0df6b890e75 button.colab-df-convert');\n",
              "        buttonEl.style.display =\n",
              "          google.colab.kernel.accessAllowed ? 'block' : 'none';\n",
              "\n",
              "        async function convertToInteractive(key) {\n",
              "          const element = document.querySelector('#df-e429e4c9-056b-44ce-a3c4-d0df6b890e75');\n",
              "          const dataTable =\n",
              "            await google.colab.kernel.invokeFunction('convertToInteractive',\n",
              "                                                     [key], {});\n",
              "          if (!dataTable) return;\n",
              "\n",
              "          const docLinkHtml = 'Like what you see? Visit the ' +\n",
              "            '<a target=\"_blank\" href=https://colab.research.google.com/notebooks/data_table.ipynb>data table notebook</a>'\n",
              "            + ' to learn more about interactive tables.';\n",
              "          element.innerHTML = '';\n",
              "          dataTable['output_type'] = 'display_data';\n",
              "          await google.colab.output.renderOutput(dataTable, element);\n",
              "          const docLink = document.createElement('div');\n",
              "          docLink.innerHTML = docLinkHtml;\n",
              "          element.appendChild(docLink);\n",
              "        }\n",
              "      </script>\n",
              "    </div>\n",
              "  </div>\n",
              "  "
            ]
          },
          "metadata": {},
          "execution_count": 260
        }
      ],
      "source": [
        "# distance_matrix = pd.read_excel('./광주광역시_경계구역_읍면동_충장동통합.xlsx', usecols = 'B : GM')\n",
        "distance_matrix = pd.read_excel('./신창동_p-median_거리행렬.xlsx')\n",
        "distance_matrix"
      ]
    },
    {
      "cell_type": "code",
      "execution_count": 261,
      "metadata": {
        "id": "q6RER9MTAbcu"
      },
      "outputs": [],
      "source": [
        "## 인구수 가중치로 사용x\n",
        "# pop = pd.read_excel('./행정안전부_법정동_주민등록_인구수.xlsx')"
      ]
    },
    {
      "cell_type": "code",
      "execution_count": 262,
      "metadata": {
        "id": "L_icxpuUAt_r"
      },
      "outputs": [],
      "source": [
        "# pop_final = list(pop.iloc[:, 1]) # 인구수\n",
        "final = distance_matrix[:] # 법정동 거리행렬"
      ]
    },
    {
      "cell_type": "code",
      "execution_count": 263,
      "metadata": {
        "id": "IzMLk-J4qFdp",
        "colab": {
          "base_uri": "https://localhost:8080/",
          "height": 175
        },
        "outputId": "130fcd20-1cd7-4660-d304-970bc5af82f2"
      },
      "outputs": [
        {
          "output_type": "execute_result",
          "data": {
            "text/plain": [
              "                     광주 광산구 왕버들로251번길 27  광주 광산구 왕버들로252번길 46  광주 광산구 수등로 287\n",
              "ID                                                                           \n",
              "광주 광산구 왕버들로251번길 27             0.000000           436.318289     1321.315716\n",
              "광주 광산구 왕버들로252번길 46           436.318289             0.000000     1047.535542\n",
              "광주 광산구 수등로 287               1321.315716          1047.535542        0.000000"
            ],
            "text/html": [
              "\n",
              "  <div id=\"df-41d1c7c3-1576-439e-83a0-5adbf5892505\">\n",
              "    <div class=\"colab-df-container\">\n",
              "      <div>\n",
              "<style scoped>\n",
              "    .dataframe tbody tr th:only-of-type {\n",
              "        vertical-align: middle;\n",
              "    }\n",
              "\n",
              "    .dataframe tbody tr th {\n",
              "        vertical-align: top;\n",
              "    }\n",
              "\n",
              "    .dataframe thead th {\n",
              "        text-align: right;\n",
              "    }\n",
              "</style>\n",
              "<table border=\"1\" class=\"dataframe\">\n",
              "  <thead>\n",
              "    <tr style=\"text-align: right;\">\n",
              "      <th></th>\n",
              "      <th>광주 광산구 왕버들로251번길 27</th>\n",
              "      <th>광주 광산구 왕버들로252번길 46</th>\n",
              "      <th>광주 광산구 수등로 287</th>\n",
              "    </tr>\n",
              "    <tr>\n",
              "      <th>ID</th>\n",
              "      <th></th>\n",
              "      <th></th>\n",
              "      <th></th>\n",
              "    </tr>\n",
              "  </thead>\n",
              "  <tbody>\n",
              "    <tr>\n",
              "      <th>광주 광산구 왕버들로251번길 27</th>\n",
              "      <td>0.000000</td>\n",
              "      <td>436.318289</td>\n",
              "      <td>1321.315716</td>\n",
              "    </tr>\n",
              "    <tr>\n",
              "      <th>광주 광산구 왕버들로252번길 46</th>\n",
              "      <td>436.318289</td>\n",
              "      <td>0.000000</td>\n",
              "      <td>1047.535542</td>\n",
              "    </tr>\n",
              "    <tr>\n",
              "      <th>광주 광산구 수등로 287</th>\n",
              "      <td>1321.315716</td>\n",
              "      <td>1047.535542</td>\n",
              "      <td>0.000000</td>\n",
              "    </tr>\n",
              "  </tbody>\n",
              "</table>\n",
              "</div>\n",
              "      <button class=\"colab-df-convert\" onclick=\"convertToInteractive('df-41d1c7c3-1576-439e-83a0-5adbf5892505')\"\n",
              "              title=\"Convert this dataframe to an interactive table.\"\n",
              "              style=\"display:none;\">\n",
              "        \n",
              "  <svg xmlns=\"http://www.w3.org/2000/svg\" height=\"24px\"viewBox=\"0 0 24 24\"\n",
              "       width=\"24px\">\n",
              "    <path d=\"M0 0h24v24H0V0z\" fill=\"none\"/>\n",
              "    <path d=\"M18.56 5.44l.94 2.06.94-2.06 2.06-.94-2.06-.94-.94-2.06-.94 2.06-2.06.94zm-11 1L8.5 8.5l.94-2.06 2.06-.94-2.06-.94L8.5 2.5l-.94 2.06-2.06.94zm10 10l.94 2.06.94-2.06 2.06-.94-2.06-.94-.94-2.06-.94 2.06-2.06.94z\"/><path d=\"M17.41 7.96l-1.37-1.37c-.4-.4-.92-.59-1.43-.59-.52 0-1.04.2-1.43.59L10.3 9.45l-7.72 7.72c-.78.78-.78 2.05 0 2.83L4 21.41c.39.39.9.59 1.41.59.51 0 1.02-.2 1.41-.59l7.78-7.78 2.81-2.81c.8-.78.8-2.07 0-2.86zM5.41 20L4 18.59l7.72-7.72 1.47 1.35L5.41 20z\"/>\n",
              "  </svg>\n",
              "      </button>\n",
              "      \n",
              "  <style>\n",
              "    .colab-df-container {\n",
              "      display:flex;\n",
              "      flex-wrap:wrap;\n",
              "      gap: 12px;\n",
              "    }\n",
              "\n",
              "    .colab-df-convert {\n",
              "      background-color: #E8F0FE;\n",
              "      border: none;\n",
              "      border-radius: 50%;\n",
              "      cursor: pointer;\n",
              "      display: none;\n",
              "      fill: #1967D2;\n",
              "      height: 32px;\n",
              "      padding: 0 0 0 0;\n",
              "      width: 32px;\n",
              "    }\n",
              "\n",
              "    .colab-df-convert:hover {\n",
              "      background-color: #E2EBFA;\n",
              "      box-shadow: 0px 1px 2px rgba(60, 64, 67, 0.3), 0px 1px 3px 1px rgba(60, 64, 67, 0.15);\n",
              "      fill: #174EA6;\n",
              "    }\n",
              "\n",
              "    [theme=dark] .colab-df-convert {\n",
              "      background-color: #3B4455;\n",
              "      fill: #D2E3FC;\n",
              "    }\n",
              "\n",
              "    [theme=dark] .colab-df-convert:hover {\n",
              "      background-color: #434B5C;\n",
              "      box-shadow: 0px 1px 3px 1px rgba(0, 0, 0, 0.15);\n",
              "      filter: drop-shadow(0px 1px 2px rgba(0, 0, 0, 0.3));\n",
              "      fill: #FFFFFF;\n",
              "    }\n",
              "  </style>\n",
              "\n",
              "      <script>\n",
              "        const buttonEl =\n",
              "          document.querySelector('#df-41d1c7c3-1576-439e-83a0-5adbf5892505 button.colab-df-convert');\n",
              "        buttonEl.style.display =\n",
              "          google.colab.kernel.accessAllowed ? 'block' : 'none';\n",
              "\n",
              "        async function convertToInteractive(key) {\n",
              "          const element = document.querySelector('#df-41d1c7c3-1576-439e-83a0-5adbf5892505');\n",
              "          const dataTable =\n",
              "            await google.colab.kernel.invokeFunction('convertToInteractive',\n",
              "                                                     [key], {});\n",
              "          if (!dataTable) return;\n",
              "\n",
              "          const docLinkHtml = 'Like what you see? Visit the ' +\n",
              "            '<a target=\"_blank\" href=https://colab.research.google.com/notebooks/data_table.ipynb>data table notebook</a>'\n",
              "            + ' to learn more about interactive tables.';\n",
              "          element.innerHTML = '';\n",
              "          dataTable['output_type'] = 'display_data';\n",
              "          await google.colab.output.renderOutput(dataTable, element);\n",
              "          const docLink = document.createElement('div');\n",
              "          docLink.innerHTML = docLinkHtml;\n",
              "          element.appendChild(docLink);\n",
              "        }\n",
              "      </script>\n",
              "    </div>\n",
              "  </div>\n",
              "  "
            ]
          },
          "metadata": {},
          "execution_count": 263
        }
      ],
      "source": [
        "final = final.set_index('ID')\n",
        "final"
      ]
    },
    {
      "cell_type": "code",
      "execution_count": 264,
      "metadata": {
        "id": "f0Y_XvDdAwdR"
      },
      "outputs": [],
      "source": [
        "region_name = final.iloc[:1,:] # 법정동명\n",
        "region_name_final = list(region_name) # 법정동명 리스트로 저장\n",
        "location = region_name_final # 동 이름 전처리"
      ]
    },
    {
      "cell_type": "code",
      "source": [
        "location"
      ],
      "metadata": {
        "colab": {
          "base_uri": "https://localhost:8080/"
        },
        "id": "buiBaOoYuHJk",
        "outputId": "89d7030f-ae84-4f0c-953e-e09326a6911d"
      },
      "execution_count": 265,
      "outputs": [
        {
          "output_type": "execute_result",
          "data": {
            "text/plain": [
              "['광주 광산구 왕버들로251번길 27', '광주 광산구 왕버들로252번길 46', '광주 광산구 수등로 287']"
            ]
          },
          "metadata": {},
          "execution_count": 265
        }
      ]
    },
    {
      "cell_type": "code",
      "execution_count": 266,
      "metadata": {
        "id": "9aijMxS4A0Ma",
        "colab": {
          "base_uri": "https://localhost:8080/"
        },
        "outputId": "92662441-6435-4d98-e7e1-47e264b5579b"
      },
      "outputs": [
        {
          "output_type": "execute_result",
          "data": {
            "text/plain": [
              "3"
            ]
          },
          "metadata": {},
          "execution_count": 266
        }
      ],
      "source": [
        "# a = dict(zip(location, pop_final))\n",
        "# 위치 개수\n",
        "len(location)"
      ]
    },
    {
      "cell_type": "code",
      "execution_count": 267,
      "metadata": {
        "id": "a6XuTzq0A3AL"
      },
      "outputs": [],
      "source": [
        "## 거리행렬 정의\n",
        "D = {}\n",
        "for i in range(len(location)): # 딕셔너리 형태로 한 동당 거리행렬 정의\n",
        "    D[i] = dict(zip(location[i:], [dict(zip(location, list(final.iloc[i,:])))]))\n",
        "\n",
        "merged = {}\n",
        "for i in range(len(location)):\n",
        "    merged = {**merged, **D[i]} # 193 + 193 거리행렬 정의    "
      ]
    },
    {
      "cell_type": "code",
      "execution_count": 268,
      "metadata": {
        "colab": {
          "base_uri": "https://localhost:8080/"
        },
        "id": "I0CbbzWAPHOI",
        "outputId": "227e40f9-26ba-4367-c0da-eb89e4fbc618"
      },
      "outputs": [
        {
          "output_type": "execute_result",
          "data": {
            "text/plain": [
              "{'광주 광산구 수등로 287': {'광주 광산구 수등로 287': 0.0,\n",
              "  '광주 광산구 왕버들로251번길 27': 1321.315716477261,\n",
              "  '광주 광산구 왕버들로252번길 46': 1047.535542138273},\n",
              " '광주 광산구 왕버들로251번길 27': {'광주 광산구 수등로 287': 1321.315716476755,\n",
              "  '광주 광산구 왕버들로251번길 27': 0.0,\n",
              "  '광주 광산구 왕버들로252번길 46': 436.3182887397199},\n",
              " '광주 광산구 왕버들로252번길 46': {'광주 광산구 수등로 287': 1047.535542137904,\n",
              "  '광주 광산구 왕버들로251번길 27': 436.3182887397905,\n",
              "  '광주 광산구 왕버들로252번길 46': 0.0}}"
            ]
          },
          "metadata": {},
          "execution_count": 268
        }
      ],
      "source": [
        "# 거리행렬 확인\n",
        "merged "
      ]
    },
    {
      "cell_type": "code",
      "execution_count": 269,
      "metadata": {
        "id": "Rd7X3jOuBBty"
      },
      "outputs": [],
      "source": [
        "p = 1 # 공중전화부스 선택 개수"
      ]
    },
    {
      "cell_type": "code",
      "execution_count": 270,
      "metadata": {
        "id": "TdiNfvtmBEma"
      },
      "outputs": [],
      "source": [
        "# P-Median 모델을 통해 최적지 선정하는 코드\n",
        "# X -> 변수명 설정\n",
        "X = LpVariable.dicts('%s_%s', (location, location), cat = 'Binary',\n",
        "                     lowBound = 0,\n",
        "                     upBound = 1)"
      ]
    },
    {
      "cell_type": "code",
      "execution_count": 271,
      "metadata": {
        "id": "fUVfmp3wYsdM",
        "colab": {
          "base_uri": "https://localhost:8080/"
        },
        "outputId": "84b48212-2c55-49ca-9467-00ace1edebbb"
      },
      "outputs": [
        {
          "output_type": "execute_result",
          "data": {
            "text/plain": [
              "{'광주 광산구 수등로 287': {'광주 광산구 수등로 287': 광주_광산구_수등로_287_광주_광산구_수등로_287,\n",
              "  '광주 광산구 왕버들로251번길 27': 광주_광산구_수등로_287_광주_광산구_왕버들로251번길_27,\n",
              "  '광주 광산구 왕버들로252번길 46': 광주_광산구_수등로_287_광주_광산구_왕버들로252번길_46},\n",
              " '광주 광산구 왕버들로251번길 27': {'광주 광산구 수등로 287': 광주_광산구_왕버들로251번길_27_광주_광산구_수등로_287,\n",
              "  '광주 광산구 왕버들로251번길 27': 광주_광산구_왕버들로251번길_27_광주_광산구_왕버들로251번길_27,\n",
              "  '광주 광산구 왕버들로252번길 46': 광주_광산구_왕버들로251번길_27_광주_광산구_왕버들로252번길_46},\n",
              " '광주 광산구 왕버들로252번길 46': {'광주 광산구 수등로 287': 광주_광산구_왕버들로252번길_46_광주_광산구_수등로_287,\n",
              "  '광주 광산구 왕버들로251번길 27': 광주_광산구_왕버들로252번길_46_광주_광산구_왕버들로251번길_27,\n",
              "  '광주 광산구 왕버들로252번길 46': 광주_광산구_왕버들로252번길_46_광주_광산구_왕버들로252번길_46}}"
            ]
          },
          "metadata": {},
          "execution_count": 271
        }
      ],
      "source": [
        "X"
      ]
    },
    {
      "cell_type": "markdown",
      "source": [
        " LpMaximize: 최대화 문제 -> 3개중 2개 추출할 경우(ex.신창동) 사용\n",
        "\n",
        " LpMinimize: 최소화 문제 "
      ],
      "metadata": {
        "id": "b1q0r6OR3oNG"
      }
    },
    {
      "cell_type": "code",
      "execution_count": 279,
      "metadata": {
        "colab": {
          "base_uri": "https://localhost:8080/"
        },
        "id": "uJfsmAHsFwCt",
        "outputId": "d91a7d86-3680-4a14-f388-3cbef9e03a21"
      },
      "outputs": [
        {
          "output_type": "stream",
          "name": "stderr",
          "text": [
            "/usr/local/lib/python3.7/dist-packages/pulp/pulp.py:1352: UserWarning: Spaces are not permitted in the name. Converted to '_'\n",
            "  warnings.warn(\"Spaces are not permitted in the name. Converted to '_'\")\n"
          ]
        }
      ],
      "source": [
        "# prob = LpProblem('P Median', LpMaximize) # 목적 함수\n",
        "prob = LpProblem('P Median', LpMinimize)"
      ]
    },
    {
      "cell_type": "code",
      "execution_count": 280,
      "metadata": {
        "id": "tHGqIRRgBPWT"
      },
      "outputs": [],
      "source": [
        "# prob += sum(sum(a[i]*merged[i][j] * X[i][j] for j in location)for i in location)\n",
        "prob += sum(sum(merged[i][j] * X[i][j] for j in location)for i in location) # a[i] 값 제거(인구가중치 제거)\n",
        "prob += sum(X[i][i] for i in location) == p # p=193"
      ]
    },
    {
      "cell_type": "code",
      "execution_count": 281,
      "metadata": {
        "id": "1ybkr-zqBW1H"
      },
      "outputs": [],
      "source": [
        "for i in location: prob += sum(X[i][j] for j in location) == 1 # 제약식\n",
        "\n",
        "for i in location:\n",
        "    for j in location: prob += X[i][j] <= X[j][j]"
      ]
    },
    {
      "cell_type": "code",
      "execution_count": 282,
      "metadata": {
        "colab": {
          "base_uri": "https://localhost:8080/"
        },
        "id": "0V1cmWNpBYym",
        "outputId": "a4c73e25-8411-41af-bd28-d70e4d9c93b5"
      },
      "outputs": [
        {
          "output_type": "execute_result",
          "data": {
            "text/plain": [
              "1"
            ]
          },
          "metadata": {},
          "execution_count": 282
        }
      ],
      "source": [
        "prob.writeLP(\"p-median_Gwangju_Whole.lp\")\n",
        "prob.solve() # prob 문제 풀렸으면 1 출력"
      ]
    },
    {
      "cell_type": "code",
      "execution_count": 283,
      "metadata": {
        "colab": {
          "base_uri": "https://localhost:8080/"
        },
        "id": "wNUYrL3eQq8h",
        "outputId": "c39899e0-d7ab-496d-d4eb-921d8c542717"
      },
      "outputs": [
        {
          "output_type": "execute_result",
          "data": {
            "text/plain": [
              "P_Median:\n",
              "MINIMIZE\n",
              "1321.315716477261*광주_광산구_수등로_287_광주_광산구_왕버들로251번길_27 + 1047.535542138273*광주_광산구_수등로_287_광주_광산구_왕버들로252번길_46 + 1321.315716476755*광주_광산구_왕버들로251번길_27_광주_광산구_수등로_287 + 436.3182887397199*광주_광산구_왕버들로251번길_27_광주_광산구_왕버들로252번길_46 + 1047.535542137904*광주_광산구_왕버들로252번길_46_광주_광산구_수등로_287 + 436.3182887397905*광주_광산구_왕버들로252번길_46_광주_광산구_왕버들로251번길_27 + 0.0\n",
              "SUBJECT TO\n",
              "_C1: 광주_광산구_수등로_287_광주_광산구_수등로_287 + 광주_광산구_왕버들로251번길_27_광주_광산구_왕버들로251번길_27\n",
              " + 광주_광산구_왕버들로252번길_46_광주_광산구_왕버들로252번길_46 = 1\n",
              "\n",
              "_C2: 광주_광산구_왕버들로251번길_27_광주_광산구_수등로_287\n",
              " + 광주_광산구_왕버들로251번길_27_광주_광산구_왕버들로251번길_27\n",
              " + 광주_광산구_왕버들로251번길_27_광주_광산구_왕버들로252번길_46 = 1\n",
              "\n",
              "_C3: 광주_광산구_왕버들로252번길_46_광주_광산구_수등로_287\n",
              " + 광주_광산구_왕버들로252번길_46_광주_광산구_왕버들로251번길_27\n",
              " + 광주_광산구_왕버들로252번길_46_광주_광산구_왕버들로252번길_46 = 1\n",
              "\n",
              "_C4: 광주_광산구_수등로_287_광주_광산구_수등로_287 + 광주_광산구_수등로_287_광주_광산구_왕버들로251번길_27\n",
              " + 광주_광산구_수등로_287_광주_광산구_왕버들로252번길_46 = 1\n",
              "\n",
              "_C5: 0 광주_광산구_왕버들로251번길_27_광주_광산구_왕버들로251번길_27 <= 0\n",
              "\n",
              "_C6: 광주_광산구_왕버들로251번길_27_광주_광산구_왕버들로252번길_46\n",
              " - 광주_광산구_왕버들로252번길_46_광주_광산구_왕버들로252번길_46 <= 0\n",
              "\n",
              "_C7: - 광주_광산구_수등로_287_광주_광산구_수등로_287 + 광주_광산구_왕버들로251번길_27_광주_광산구_수등로_287 <= 0\n",
              "\n",
              "_C8: - 광주_광산구_왕버들로251번길_27_광주_광산구_왕버들로251번길_27\n",
              " + 광주_광산구_왕버들로252번길_46_광주_광산구_왕버들로251번길_27 <= 0\n",
              "\n",
              "_C9: 0 광주_광산구_왕버들로252번길_46_광주_광산구_왕버들로252번길_46 <= 0\n",
              "\n",
              "_C10: - 광주_광산구_수등로_287_광주_광산구_수등로_287 + 광주_광산구_왕버들로252번길_46_광주_광산구_수등로_287\n",
              " <= 0\n",
              "\n",
              "_C11: 광주_광산구_수등로_287_광주_광산구_왕버들로251번길_27\n",
              " - 광주_광산구_왕버들로251번길_27_광주_광산구_왕버들로251번길_27 <= 0\n",
              "\n",
              "_C12: 광주_광산구_수등로_287_광주_광산구_왕버들로252번길_46\n",
              " - 광주_광산구_왕버들로252번길_46_광주_광산구_왕버들로252번길_46 <= 0\n",
              "\n",
              "_C13: 0 광주_광산구_수등로_287_광주_광산구_수등로_287 <= 0\n",
              "\n",
              "VARIABLES\n",
              "0 <= 광주_광산구_수등로_287_광주_광산구_수등로_287 <= 1 Integer\n",
              "0 <= 광주_광산구_수등로_287_광주_광산구_왕버들로251번길_27 <= 1 Integer\n",
              "0 <= 광주_광산구_수등로_287_광주_광산구_왕버들로252번길_46 <= 1 Integer\n",
              "0 <= 광주_광산구_왕버들로251번길_27_광주_광산구_수등로_287 <= 1 Integer\n",
              "0 <= 광주_광산구_왕버들로251번길_27_광주_광산구_왕버들로251번길_27 <= 1 Integer\n",
              "0 <= 광주_광산구_왕버들로251번길_27_광주_광산구_왕버들로252번길_46 <= 1 Integer\n",
              "0 <= 광주_광산구_왕버들로252번길_46_광주_광산구_수등로_287 <= 1 Integer\n",
              "0 <= 광주_광산구_왕버들로252번길_46_광주_광산구_왕버들로251번길_27 <= 1 Integer\n",
              "0 <= 광주_광산구_왕버들로252번길_46_광주_광산구_왕버들로252번길_46 <= 1 Integer"
            ]
          },
          "metadata": {},
          "execution_count": 283
        }
      ],
      "source": [
        "# prob\n",
        "# 목적함수, 제약식 출력\n",
        "\n",
        "pulp.value(prob.objective)\n",
        "\n",
        "prob"
      ]
    },
    {
      "cell_type": "code",
      "source": [
        "# 위치 확인\n",
        "location"
      ],
      "metadata": {
        "colab": {
          "base_uri": "https://localhost:8080/"
        },
        "id": "_IIoNtHws-yt",
        "outputId": "ed194fbc-305d-436a-c725-bdd345f55730"
      },
      "execution_count": 284,
      "outputs": [
        {
          "output_type": "execute_result",
          "data": {
            "text/plain": [
              "['광주 광산구 왕버들로251번길 27', '광주 광산구 왕버들로252번길 46', '광주 광산구 수등로 287']"
            ]
          },
          "metadata": {},
          "execution_count": 284
        }
      ]
    },
    {
      "cell_type": "code",
      "execution_count": 285,
      "metadata": {
        "id": "PBOtD_pePF7e",
        "colab": {
          "base_uri": "https://localhost:8080/"
        },
        "outputId": "ed4f9a78-9d75-4030-8da7-931d0b08bded"
      },
      "outputs": [
        {
          "output_type": "stream",
          "name": "stdout",
          "text": [
            "광주_광산구_수등로_287_광주_광산구_수등로_287= 0.0\n",
            "광주_광산구_수등로_287_광주_광산구_왕버들로251번길_27= 0.0\n",
            "광주_광산구_수등로_287_광주_광산구_왕버들로252번길_46= 1.0\n",
            "광주_광산구_왕버들로251번길_27_광주_광산구_수등로_287= 0.0\n",
            "광주_광산구_왕버들로251번길_27_광주_광산구_왕버들로251번길_27= 0.0\n",
            "광주_광산구_왕버들로251번길_27_광주_광산구_왕버들로252번길_46= 1.0\n",
            "광주_광산구_왕버들로252번길_46_광주_광산구_수등로_287= 0.0\n",
            "광주_광산구_왕버들로252번길_46_광주_광산구_왕버들로251번길_27= 0.0\n",
            "광주_광산구_왕버들로252번길_46_광주_광산구_왕버들로252번길_46= 1.0\n"
          ]
        }
      ],
      "source": [
        "# 1.0 값이 나오는 동 추출\n",
        "# varValue -> 최적해 출력\n",
        "for v in prob.variables():\n",
        "  print(v.name + \"=\", v.varValue)"
      ]
    },
    {
      "cell_type": "code",
      "source": [
        ""
      ],
      "metadata": {
        "id": "B1MACS40nI4e"
      },
      "execution_count": null,
      "outputs": []
    }
  ],
  "metadata": {
    "colab": {
      "collapsed_sections": [],
      "name": "p-median_알고리즘_전동휠체어_충전소_최적입지.ipynb",
      "provenance": []
    },
    "kernelspec": {
      "display_name": "Python 3",
      "name": "python3"
    },
    "language_info": {
      "name": "python"
    }
  },
  "nbformat": 4,
  "nbformat_minor": 0
}