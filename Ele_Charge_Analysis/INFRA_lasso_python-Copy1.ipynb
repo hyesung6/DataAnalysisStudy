{
 "cells": [
  {
   "cell_type": "markdown",
   "id": "5b8fd74a-d36f-4f17-8b64-94a9107c1662",
   "metadata": {
    "tags": []
   },
   "source": [
    "# 준비"
   ]
  },
  {
   "cell_type": "code",
   "execution_count": 27,
   "id": "d4608a33-a60b-4031-84bb-3d56fe1af1f2",
   "metadata": {},
   "outputs": [],
   "source": [
    "import pandas as pd\n",
    "import seaborn as sns\n",
    "import matplotlib.pyplot as plt\n",
    "from sklearn.linear_model import Lasso, Ridge, ElasticNet, LinearRegression\n",
    "from sklearn.model_selection import train_test_split\n",
    "import numpy as np"
   ]
  },
  {
   "cell_type": "code",
   "execution_count": 5,
   "id": "b878a280-eac3-427f-9f60-1668fa19a9c9",
   "metadata": {},
   "outputs": [],
   "source": [
    "data = pd.read_csv('infra_korea.csv', encoding='euc-kr', index_col=['EMD_NM'])"
   ]
  },
  {
   "cell_type": "code",
   "execution_count": 3,
   "id": "3599fbae-51f3-4c2f-83c2-441277b1e3b8",
   "metadata": {},
   "outputs": [],
   "source": [
    "# data = pd.read_csv('C:/Users/user/Desktop/DataAnalysisStudy/Ele_Charge_Analysis/INFRA_real.csv')"
   ]
  },
  {
   "cell_type": "code",
   "execution_count": 6,
   "id": "92f65b22-5b29-4b42-afbb-60563e8e1784",
   "metadata": {
    "collapsed": true,
    "jupyter": {
     "outputs_hidden": true
    },
    "tags": []
   },
   "outputs": [
    {
     "data": {
      "text/html": [
       "<div>\n",
       "<style scoped>\n",
       "    .dataframe tbody tr th:only-of-type {\n",
       "        vertical-align: middle;\n",
       "    }\n",
       "\n",
       "    .dataframe tbody tr th {\n",
       "        vertical-align: top;\n",
       "    }\n",
       "\n",
       "    .dataframe thead th {\n",
       "        text-align: right;\n",
       "    }\n",
       "</style>\n",
       "<table border=\"1\" class=\"dataframe\">\n",
       "  <thead>\n",
       "    <tr style=\"text-align: right;\">\n",
       "      <th></th>\n",
       "      <th>ORG_NUM</th>\n",
       "      <th>TRAD</th>\n",
       "      <th>CONCERT</th>\n",
       "      <th>OLD</th>\n",
       "      <th>MART</th>\n",
       "      <th>LIB</th>\n",
       "      <th>ART</th>\n",
       "      <th>MUS</th>\n",
       "      <th>MED</th>\n",
       "      <th>COMM</th>\n",
       "      <th>SPORT</th>\n",
       "      <th>CHARGE</th>\n",
       "    </tr>\n",
       "  </thead>\n",
       "  <tbody>\n",
       "    <tr>\n",
       "      <th>0</th>\n",
       "      <td>1430</td>\n",
       "      <td>0</td>\n",
       "      <td>0</td>\n",
       "      <td>0</td>\n",
       "      <td>0</td>\n",
       "      <td>3</td>\n",
       "      <td>0</td>\n",
       "      <td>0</td>\n",
       "      <td>0</td>\n",
       "      <td>0</td>\n",
       "      <td>3</td>\n",
       "      <td>0</td>\n",
       "    </tr>\n",
       "    <tr>\n",
       "      <th>1</th>\n",
       "      <td>1431</td>\n",
       "      <td>1</td>\n",
       "      <td>2</td>\n",
       "      <td>1</td>\n",
       "      <td>0</td>\n",
       "      <td>13</td>\n",
       "      <td>1</td>\n",
       "      <td>0</td>\n",
       "      <td>13</td>\n",
       "      <td>3</td>\n",
       "      <td>3</td>\n",
       "      <td>3</td>\n",
       "    </tr>\n",
       "    <tr>\n",
       "      <th>2</th>\n",
       "      <td>1556</td>\n",
       "      <td>0</td>\n",
       "      <td>0</td>\n",
       "      <td>1</td>\n",
       "      <td>0</td>\n",
       "      <td>0</td>\n",
       "      <td>0</td>\n",
       "      <td>0</td>\n",
       "      <td>0</td>\n",
       "      <td>0</td>\n",
       "      <td>1</td>\n",
       "      <td>1</td>\n",
       "    </tr>\n",
       "    <tr>\n",
       "      <th>3</th>\n",
       "      <td>1560</td>\n",
       "      <td>0</td>\n",
       "      <td>0</td>\n",
       "      <td>3</td>\n",
       "      <td>0</td>\n",
       "      <td>0</td>\n",
       "      <td>0</td>\n",
       "      <td>0</td>\n",
       "      <td>3</td>\n",
       "      <td>0</td>\n",
       "      <td>1</td>\n",
       "      <td>0</td>\n",
       "    </tr>\n",
       "    <tr>\n",
       "      <th>4</th>\n",
       "      <td>1429</td>\n",
       "      <td>0</td>\n",
       "      <td>0</td>\n",
       "      <td>1</td>\n",
       "      <td>0</td>\n",
       "      <td>6</td>\n",
       "      <td>0</td>\n",
       "      <td>0</td>\n",
       "      <td>3</td>\n",
       "      <td>1</td>\n",
       "      <td>6</td>\n",
       "      <td>3</td>\n",
       "    </tr>\n",
       "    <tr>\n",
       "      <th>...</th>\n",
       "      <td>...</td>\n",
       "      <td>...</td>\n",
       "      <td>...</td>\n",
       "      <td>...</td>\n",
       "      <td>...</td>\n",
       "      <td>...</td>\n",
       "      <td>...</td>\n",
       "      <td>...</td>\n",
       "      <td>...</td>\n",
       "      <td>...</td>\n",
       "      <td>...</td>\n",
       "      <td>...</td>\n",
       "    </tr>\n",
       "    <tr>\n",
       "      <th>199</th>\n",
       "      <td>131</td>\n",
       "      <td>0</td>\n",
       "      <td>0</td>\n",
       "      <td>0</td>\n",
       "      <td>0</td>\n",
       "      <td>1</td>\n",
       "      <td>0</td>\n",
       "      <td>0</td>\n",
       "      <td>0</td>\n",
       "      <td>0</td>\n",
       "      <td>1</td>\n",
       "      <td>1</td>\n",
       "    </tr>\n",
       "    <tr>\n",
       "      <th>200</th>\n",
       "      <td>97</td>\n",
       "      <td>0</td>\n",
       "      <td>0</td>\n",
       "      <td>1</td>\n",
       "      <td>0</td>\n",
       "      <td>0</td>\n",
       "      <td>0</td>\n",
       "      <td>0</td>\n",
       "      <td>0</td>\n",
       "      <td>0</td>\n",
       "      <td>5</td>\n",
       "      <td>0</td>\n",
       "    </tr>\n",
       "    <tr>\n",
       "      <th>201</th>\n",
       "      <td>168</td>\n",
       "      <td>0</td>\n",
       "      <td>0</td>\n",
       "      <td>0</td>\n",
       "      <td>0</td>\n",
       "      <td>0</td>\n",
       "      <td>1</td>\n",
       "      <td>1</td>\n",
       "      <td>0</td>\n",
       "      <td>0</td>\n",
       "      <td>0</td>\n",
       "      <td>0</td>\n",
       "    </tr>\n",
       "    <tr>\n",
       "      <th>202</th>\n",
       "      <td>100</td>\n",
       "      <td>0</td>\n",
       "      <td>0</td>\n",
       "      <td>0</td>\n",
       "      <td>0</td>\n",
       "      <td>0</td>\n",
       "      <td>0</td>\n",
       "      <td>0</td>\n",
       "      <td>0</td>\n",
       "      <td>0</td>\n",
       "      <td>0</td>\n",
       "      <td>0</td>\n",
       "    </tr>\n",
       "    <tr>\n",
       "      <th>203</th>\n",
       "      <td>101</td>\n",
       "      <td>0</td>\n",
       "      <td>0</td>\n",
       "      <td>0</td>\n",
       "      <td>0</td>\n",
       "      <td>0</td>\n",
       "      <td>0</td>\n",
       "      <td>0</td>\n",
       "      <td>0</td>\n",
       "      <td>0</td>\n",
       "      <td>0</td>\n",
       "      <td>0</td>\n",
       "    </tr>\n",
       "  </tbody>\n",
       "</table>\n",
       "<p>204 rows × 12 columns</p>\n",
       "</div>"
      ],
      "text/plain": [
       "     ORG_NUM  TRAD  CONCERT  OLD  MART  LIB  ART  MUS  MED  COMM  SPORT  \\\n",
       "0       1430     0        0    0     0    3    0    0    0     0      3   \n",
       "1       1431     1        2    1     0   13    1    0   13     3      3   \n",
       "2       1556     0        0    1     0    0    0    0    0     0      1   \n",
       "3       1560     0        0    3     0    0    0    0    3     0      1   \n",
       "4       1429     0        0    1     0    6    0    0    3     1      6   \n",
       "..       ...   ...      ...  ...   ...  ...  ...  ...  ...   ...    ...   \n",
       "199      131     0        0    0     0    1    0    0    0     0      1   \n",
       "200       97     0        0    1     0    0    0    0    0     0      5   \n",
       "201      168     0        0    0     0    0    1    1    0     0      0   \n",
       "202      100     0        0    0     0    0    0    0    0     0      0   \n",
       "203      101     0        0    0     0    0    0    0    0     0      0   \n",
       "\n",
       "     CHARGE  \n",
       "0         0  \n",
       "1         3  \n",
       "2         1  \n",
       "3         0  \n",
       "4         3  \n",
       "..      ...  \n",
       "199       1  \n",
       "200       0  \n",
       "201       0  \n",
       "202       0  \n",
       "203       0  \n",
       "\n",
       "[204 rows x 12 columns]"
      ]
     },
     "execution_count": 6,
     "metadata": {},
     "output_type": "execute_result"
    }
   ],
   "source": [
    "data"
   ]
  },
  {
   "cell_type": "code",
   "execution_count": 7,
   "id": "ca48110a-1fed-4cf3-a2e5-c5007a6376f4",
   "metadata": {
    "collapsed": true,
    "jupyter": {
     "outputs_hidden": true
    },
    "tags": []
   },
   "outputs": [
    {
     "data": {
      "text/html": [
       "<div>\n",
       "<style scoped>\n",
       "    .dataframe tbody tr th:only-of-type {\n",
       "        vertical-align: middle;\n",
       "    }\n",
       "\n",
       "    .dataframe tbody tr th {\n",
       "        vertical-align: top;\n",
       "    }\n",
       "\n",
       "    .dataframe thead th {\n",
       "        text-align: right;\n",
       "    }\n",
       "</style>\n",
       "<table border=\"1\" class=\"dataframe\">\n",
       "  <thead>\n",
       "    <tr style=\"text-align: right;\">\n",
       "      <th></th>\n",
       "      <th>ORG_NUM</th>\n",
       "      <th>TRAD</th>\n",
       "      <th>CONCERT</th>\n",
       "      <th>OLD</th>\n",
       "      <th>MART</th>\n",
       "      <th>LIB</th>\n",
       "      <th>ART</th>\n",
       "      <th>MUS</th>\n",
       "      <th>MED</th>\n",
       "      <th>COMM</th>\n",
       "      <th>SPORT</th>\n",
       "      <th>CHARGE</th>\n",
       "    </tr>\n",
       "  </thead>\n",
       "  <tbody>\n",
       "    <tr>\n",
       "      <th>0</th>\n",
       "      <td>1430</td>\n",
       "      <td>0</td>\n",
       "      <td>0</td>\n",
       "      <td>0</td>\n",
       "      <td>0</td>\n",
       "      <td>3</td>\n",
       "      <td>0</td>\n",
       "      <td>0</td>\n",
       "      <td>0</td>\n",
       "      <td>0</td>\n",
       "      <td>3</td>\n",
       "      <td>0</td>\n",
       "    </tr>\n",
       "    <tr>\n",
       "      <th>1</th>\n",
       "      <td>1431</td>\n",
       "      <td>1</td>\n",
       "      <td>2</td>\n",
       "      <td>1</td>\n",
       "      <td>0</td>\n",
       "      <td>13</td>\n",
       "      <td>1</td>\n",
       "      <td>0</td>\n",
       "      <td>13</td>\n",
       "      <td>3</td>\n",
       "      <td>3</td>\n",
       "      <td>3</td>\n",
       "    </tr>\n",
       "    <tr>\n",
       "      <th>2</th>\n",
       "      <td>1556</td>\n",
       "      <td>0</td>\n",
       "      <td>0</td>\n",
       "      <td>1</td>\n",
       "      <td>0</td>\n",
       "      <td>0</td>\n",
       "      <td>0</td>\n",
       "      <td>0</td>\n",
       "      <td>0</td>\n",
       "      <td>0</td>\n",
       "      <td>1</td>\n",
       "      <td>1</td>\n",
       "    </tr>\n",
       "    <tr>\n",
       "      <th>3</th>\n",
       "      <td>1560</td>\n",
       "      <td>0</td>\n",
       "      <td>0</td>\n",
       "      <td>3</td>\n",
       "      <td>0</td>\n",
       "      <td>0</td>\n",
       "      <td>0</td>\n",
       "      <td>0</td>\n",
       "      <td>3</td>\n",
       "      <td>0</td>\n",
       "      <td>1</td>\n",
       "      <td>0</td>\n",
       "    </tr>\n",
       "    <tr>\n",
       "      <th>4</th>\n",
       "      <td>1429</td>\n",
       "      <td>0</td>\n",
       "      <td>0</td>\n",
       "      <td>1</td>\n",
       "      <td>0</td>\n",
       "      <td>6</td>\n",
       "      <td>0</td>\n",
       "      <td>0</td>\n",
       "      <td>3</td>\n",
       "      <td>1</td>\n",
       "      <td>6</td>\n",
       "      <td>3</td>\n",
       "    </tr>\n",
       "  </tbody>\n",
       "</table>\n",
       "</div>"
      ],
      "text/plain": [
       "   ORG_NUM  TRAD  CONCERT  OLD  MART  LIB  ART  MUS  MED  COMM  SPORT  CHARGE\n",
       "0     1430     0        0    0     0    3    0    0    0     0      3       0\n",
       "1     1431     1        2    1     0   13    1    0   13     3      3       3\n",
       "2     1556     0        0    1     0    0    0    0    0     0      1       1\n",
       "3     1560     0        0    3     0    0    0    0    3     0      1       0\n",
       "4     1429     0        0    1     0    6    0    0    3     1      6       3"
      ]
     },
     "execution_count": 7,
     "metadata": {},
     "output_type": "execute_result"
    }
   ],
   "source": [
    "data.head()"
   ]
  },
  {
   "cell_type": "code",
   "execution_count": 8,
   "id": "62e073a3-40fd-45f3-92bf-dec1b381c52c",
   "metadata": {
    "collapsed": true,
    "jupyter": {
     "outputs_hidden": true
    },
    "tags": []
   },
   "outputs": [
    {
     "data": {
      "text/html": [
       "<div>\n",
       "<style scoped>\n",
       "    .dataframe tbody tr th:only-of-type {\n",
       "        vertical-align: middle;\n",
       "    }\n",
       "\n",
       "    .dataframe tbody tr th {\n",
       "        vertical-align: top;\n",
       "    }\n",
       "\n",
       "    .dataframe thead th {\n",
       "        text-align: right;\n",
       "    }\n",
       "</style>\n",
       "<table border=\"1\" class=\"dataframe\">\n",
       "  <thead>\n",
       "    <tr style=\"text-align: right;\">\n",
       "      <th></th>\n",
       "      <th>ORG_NUM</th>\n",
       "      <th>TRAD</th>\n",
       "      <th>CONCERT</th>\n",
       "      <th>OLD</th>\n",
       "      <th>MART</th>\n",
       "      <th>LIB</th>\n",
       "      <th>ART</th>\n",
       "      <th>MUS</th>\n",
       "      <th>MED</th>\n",
       "      <th>COMM</th>\n",
       "      <th>SPORT</th>\n",
       "      <th>CHARGE</th>\n",
       "    </tr>\n",
       "  </thead>\n",
       "  <tbody>\n",
       "    <tr>\n",
       "      <th>count</th>\n",
       "      <td>204.000000</td>\n",
       "      <td>204.000000</td>\n",
       "      <td>204.000000</td>\n",
       "      <td>204.000000</td>\n",
       "      <td>204.000000</td>\n",
       "      <td>204.000000</td>\n",
       "      <td>204.000000</td>\n",
       "      <td>204.000000</td>\n",
       "      <td>204.000000</td>\n",
       "      <td>204.000000</td>\n",
       "      <td>204.000000</td>\n",
       "      <td>204.000000</td>\n",
       "    </tr>\n",
       "    <tr>\n",
       "      <th>mean</th>\n",
       "      <td>626.416667</td>\n",
       "      <td>0.112745</td>\n",
       "      <td>0.107843</td>\n",
       "      <td>0.465686</td>\n",
       "      <td>0.107843</td>\n",
       "      <td>1.720588</td>\n",
       "      <td>0.083333</td>\n",
       "      <td>0.039216</td>\n",
       "      <td>1.303922</td>\n",
       "      <td>0.475490</td>\n",
       "      <td>2.710784</td>\n",
       "      <td>0.544118</td>\n",
       "    </tr>\n",
       "    <tr>\n",
       "      <th>std</th>\n",
       "      <td>454.959445</td>\n",
       "      <td>0.423490</td>\n",
       "      <td>0.407004</td>\n",
       "      <td>0.808696</td>\n",
       "      <td>0.407004</td>\n",
       "      <td>3.292830</td>\n",
       "      <td>0.394440</td>\n",
       "      <td>0.194585</td>\n",
       "      <td>2.529780</td>\n",
       "      <td>0.778015</td>\n",
       "      <td>4.029409</td>\n",
       "      <td>1.061189</td>\n",
       "    </tr>\n",
       "    <tr>\n",
       "      <th>min</th>\n",
       "      <td>97.000000</td>\n",
       "      <td>0.000000</td>\n",
       "      <td>0.000000</td>\n",
       "      <td>0.000000</td>\n",
       "      <td>0.000000</td>\n",
       "      <td>0.000000</td>\n",
       "      <td>0.000000</td>\n",
       "      <td>0.000000</td>\n",
       "      <td>0.000000</td>\n",
       "      <td>0.000000</td>\n",
       "      <td>0.000000</td>\n",
       "      <td>0.000000</td>\n",
       "    </tr>\n",
       "    <tr>\n",
       "      <th>25%</th>\n",
       "      <td>406.750000</td>\n",
       "      <td>0.000000</td>\n",
       "      <td>0.000000</td>\n",
       "      <td>0.000000</td>\n",
       "      <td>0.000000</td>\n",
       "      <td>0.000000</td>\n",
       "      <td>0.000000</td>\n",
       "      <td>0.000000</td>\n",
       "      <td>0.000000</td>\n",
       "      <td>0.000000</td>\n",
       "      <td>0.000000</td>\n",
       "      <td>0.000000</td>\n",
       "    </tr>\n",
       "    <tr>\n",
       "      <th>50%</th>\n",
       "      <td>523.500000</td>\n",
       "      <td>0.000000</td>\n",
       "      <td>0.000000</td>\n",
       "      <td>0.000000</td>\n",
       "      <td>0.000000</td>\n",
       "      <td>0.000000</td>\n",
       "      <td>0.000000</td>\n",
       "      <td>0.000000</td>\n",
       "      <td>0.000000</td>\n",
       "      <td>0.000000</td>\n",
       "      <td>1.000000</td>\n",
       "      <td>0.000000</td>\n",
       "    </tr>\n",
       "    <tr>\n",
       "      <th>75%</th>\n",
       "      <td>580.250000</td>\n",
       "      <td>0.000000</td>\n",
       "      <td>0.000000</td>\n",
       "      <td>1.000000</td>\n",
       "      <td>0.000000</td>\n",
       "      <td>2.000000</td>\n",
       "      <td>0.000000</td>\n",
       "      <td>0.000000</td>\n",
       "      <td>2.000000</td>\n",
       "      <td>1.000000</td>\n",
       "      <td>3.000000</td>\n",
       "      <td>1.000000</td>\n",
       "    </tr>\n",
       "    <tr>\n",
       "      <th>max</th>\n",
       "      <td>2075.000000</td>\n",
       "      <td>3.000000</td>\n",
       "      <td>3.000000</td>\n",
       "      <td>4.000000</td>\n",
       "      <td>3.000000</td>\n",
       "      <td>16.000000</td>\n",
       "      <td>4.000000</td>\n",
       "      <td>1.000000</td>\n",
       "      <td>18.000000</td>\n",
       "      <td>4.000000</td>\n",
       "      <td>20.000000</td>\n",
       "      <td>5.000000</td>\n",
       "    </tr>\n",
       "  </tbody>\n",
       "</table>\n",
       "</div>"
      ],
      "text/plain": [
       "           ORG_NUM        TRAD     CONCERT         OLD        MART  \\\n",
       "count   204.000000  204.000000  204.000000  204.000000  204.000000   \n",
       "mean    626.416667    0.112745    0.107843    0.465686    0.107843   \n",
       "std     454.959445    0.423490    0.407004    0.808696    0.407004   \n",
       "min      97.000000    0.000000    0.000000    0.000000    0.000000   \n",
       "25%     406.750000    0.000000    0.000000    0.000000    0.000000   \n",
       "50%     523.500000    0.000000    0.000000    0.000000    0.000000   \n",
       "75%     580.250000    0.000000    0.000000    1.000000    0.000000   \n",
       "max    2075.000000    3.000000    3.000000    4.000000    3.000000   \n",
       "\n",
       "              LIB         ART         MUS         MED        COMM       SPORT  \\\n",
       "count  204.000000  204.000000  204.000000  204.000000  204.000000  204.000000   \n",
       "mean     1.720588    0.083333    0.039216    1.303922    0.475490    2.710784   \n",
       "std      3.292830    0.394440    0.194585    2.529780    0.778015    4.029409   \n",
       "min      0.000000    0.000000    0.000000    0.000000    0.000000    0.000000   \n",
       "25%      0.000000    0.000000    0.000000    0.000000    0.000000    0.000000   \n",
       "50%      0.000000    0.000000    0.000000    0.000000    0.000000    1.000000   \n",
       "75%      2.000000    0.000000    0.000000    2.000000    1.000000    3.000000   \n",
       "max     16.000000    4.000000    1.000000   18.000000    4.000000   20.000000   \n",
       "\n",
       "           CHARGE  \n",
       "count  204.000000  \n",
       "mean     0.544118  \n",
       "std      1.061189  \n",
       "min      0.000000  \n",
       "25%      0.000000  \n",
       "50%      0.000000  \n",
       "75%      1.000000  \n",
       "max      5.000000  "
      ]
     },
     "execution_count": 8,
     "metadata": {},
     "output_type": "execute_result"
    }
   ],
   "source": [
    "data.describe()"
   ]
  },
  {
   "cell_type": "markdown",
   "id": "dce1ed9b-d33a-4ad3-ad9f-f9ea1671df67",
   "metadata": {},
   "source": [
    "# 독립변수, 종속변수 선언"
   ]
  },
  {
   "cell_type": "code",
   "execution_count": 328,
   "id": "11e29b20-189e-4326-b31f-0b893c46bb49",
   "metadata": {
    "tags": []
   },
   "outputs": [],
   "source": [
    "# 독립변수 ( data )\n",
    "X = data.iloc[:, :10]"
   ]
  },
  {
   "cell_type": "code",
   "execution_count": 329,
   "id": "d2e8a457-6207-4bb6-8923-a2523a76bac5",
   "metadata": {},
   "outputs": [],
   "source": [
    "# 종속변수 ( target )\n",
    "y = data.iloc[:,-1]"
   ]
  },
  {
   "cell_type": "code",
   "execution_count": 5,
   "id": "59378431-8fb8-4c93-bbb1-29f0a24857ed",
   "metadata": {
    "collapsed": true,
    "jupyter": {
     "outputs_hidden": true
    },
    "tags": []
   },
   "outputs": [
    {
     "data": {
      "text/plain": [
       "<seaborn.axisgrid.PairGrid at 0x19e907a8940>"
      ]
     },
     "execution_count": 5,
     "metadata": {},
     "output_type": "execute_result"
    },
    {
     "data": {
      "image/png": "[encoded data removed]",
      "text/plain": [
       "<Figure size 2160x2160 with 156 Axes>"
      ]
     },
     "metadata": {
      "needs_background": "light"
     },
     "output_type": "display_data"
    }
   ],
   "source": [
    "# 상관계수 그래프\n",
    "sns.pairplot(data.corr())"
   ]
  },
  {
   "cell_type": "code",
   "execution_count": 235,
   "id": "e0713bfb-b59f-4c99-8a66-6033878d915b",
   "metadata": {},
   "outputs": [],
   "source": [
    "# 훈련, 테스트 데이터 분리 - 원본 데이터\n",
    "X_train, X_test, y_train, y_test = train_test_split(X, y, test_size=0.2, random_state=1004)"
   ]
  },
  {
   "cell_type": "markdown",
   "id": "8cc7340e-6988-408e-bee7-237829bb0b4e",
   "metadata": {},
   "source": [
    "## VIF 높은 컬럼 제거하고 선언 ( 때에 따라 바꿔가며 진행 )"
   ]
  },
  {
   "cell_type": "code",
   "execution_count": 28,
   "id": "3ccabcc3-3d08-4c5f-8c79-84ebc29bf510",
   "metadata": {},
   "outputs": [],
   "source": [
    "data2 = data.drop(['COMM', 'LIB'], axis=1)"
   ]
  },
  {
   "cell_type": "code",
   "execution_count": 29,
   "id": "c771f42f-d52e-4cf5-ad27-ef5f27853a4a",
   "metadata": {},
   "outputs": [],
   "source": [
    "X = data2.iloc[:, :-1]\n",
    "y = data2.iloc[:, -1]"
   ]
  },
  {
   "cell_type": "markdown",
   "id": "8b3aaaca-1439-4b36-bfb8-3603273b12fa",
   "metadata": {},
   "source": [
    "# 표준화\n",
    "## Strandard Scaler"
   ]
  },
  {
   "cell_type": "code",
   "execution_count": 94,
   "id": "6ebbb1b5-4e48-43a5-8120-a38a0369b91c",
   "metadata": {},
   "outputs": [],
   "source": [
    "# Standard Scaler  ( 표준화 )\n",
    "from sklearn.preprocessing import StandardScaler\n",
    "\n",
    "std = StandardScaler()\n",
    "std_data = std.fit_transform(data.iloc[:, :])"
   ]
  },
  {
   "cell_type": "code",
   "execution_count": 95,
   "id": "d8437424-9efb-4623-9214-3493a371f74e",
   "metadata": {},
   "outputs": [],
   "source": [
    "# 표준화된 행렬 -> 데이터프레임 변환 \n",
    "scaled_df = pd.DataFrame(std_data, columns=['TRAD', 'CONCERT', 'OLD', 'MART', 'LIB', 'ART', 'MUS', 'MED', 'COMM', 'SPORT', 'CHARGE'])"
   ]
  },
  {
   "cell_type": "code",
   "execution_count": 96,
   "id": "57902657-3dd0-4b64-a9f7-be5337edc065",
   "metadata": {
    "tags": []
   },
   "outputs": [],
   "source": [
    "# 독립변수 ( data )\n",
    "X = scaled_df.iloc[:,:10]"
   ]
  },
  {
   "cell_type": "code",
   "execution_count": 97,
   "id": "6665784d-503b-4f06-8ad2-fd7317b65225",
   "metadata": {},
   "outputs": [],
   "source": [
    "# 종속변수 ( target )\n",
    "y = scaled_df.iloc[:,-1]"
   ]
  },
  {
   "cell_type": "code",
   "execution_count": 98,
   "id": "e312081a-1f5c-4487-bc31-38f69a047390",
   "metadata": {},
   "outputs": [],
   "source": [
    "# 흔련, 테스트 데이터 분리 - Scaled Data\n",
    "X_train, X_test, y_train, y_test = train_test_split(X, y, test_size=0.2, random_state=100, stratify=y)"
   ]
  },
  {
   "cell_type": "markdown",
   "id": "af2ff55a-1ead-40a3-a506-09d0c7ac7d4a",
   "metadata": {},
   "source": [
    "## Min-Max Scaler"
   ]
  },
  {
   "cell_type": "code",
   "execution_count": 347,
   "id": "194a4f15-1eb4-47ae-be75-ae2996b293dc",
   "metadata": {},
   "outputs": [],
   "source": [
    "from sklearn.preprocessing import MinMaxScaler\n",
    "\n",
    "scaler = MinMaxScaler()\n",
    "scaled_data = scaler.fit_transform(data.iloc[:, :])"
   ]
  },
  {
   "cell_type": "code",
   "execution_count": 348,
   "id": "c55280d0-e1ab-4fad-b4ab-1a189cc52526",
   "metadata": {},
   "outputs": [],
   "source": [
    "# 표준화된 행렬 -> 데이터프레임 변환 \n",
    "scaled_df = pd.DataFrame(scaled_data, columns=['TRAD', 'CONCERT', 'OLD', 'MART', 'LIB', 'ART', 'MUS', 'MED', 'COMM', 'SPORT', 'CHARGE'])"
   ]
  },
  {
   "cell_type": "code",
   "execution_count": 349,
   "id": "6ee84bca-ec9b-4a8c-a770-f7a7c7a7d344",
   "metadata": {
    "tags": []
   },
   "outputs": [],
   "source": [
    "# 독립변수 ( data )\n",
    "X = scaled_df.iloc[:,:10]"
   ]
  },
  {
   "cell_type": "code",
   "execution_count": 350,
   "id": "8aef1674-8d93-48d5-930b-d1c672893ba7",
   "metadata": {},
   "outputs": [],
   "source": [
    "# 종속변수 ( target )\n",
    "y = scaled_df.iloc[:,-1]"
   ]
  },
  {
   "cell_type": "code",
   "execution_count": 351,
   "id": "dcc9ec5a-1f30-497a-b97c-6b3fb5629c60",
   "metadata": {},
   "outputs": [],
   "source": [
    "# 흔련, 테스트 데이터 분리 - Scaled Data\n",
    "X_train, X_test, y_train, y_test = train_test_split(X, y, test_size=0.33, random_state=100)"
   ]
  },
  {
   "cell_type": "markdown",
   "id": "bb667864-87f9-425b-a9a0-259fc2f4c789",
   "metadata": {},
   "source": [
    "# 모델 학습\n",
    "## Multi-regression"
   ]
  },
  {
   "cell_type": "code",
   "execution_count": 482,
   "id": "a86c5433-a885-4c2f-bef9-199b1496bd1d",
   "metadata": {},
   "outputs": [],
   "source": [
    "model = LinearRegression()"
   ]
  },
  {
   "cell_type": "code",
   "execution_count": 483,
   "id": "6a7aa8ea-4c48-44b3-b357-dc233a271351",
   "metadata": {},
   "outputs": [
    {
     "data": {
      "text/html": [
       "<style>#sk-container-id-32 {color: black;background-color: white;}#sk-container-id-32 pre{padding: 0;}#sk-container-id-32 div.sk-toggleable {background-color: white;}#sk-container-id-32 label.sk-toggleable__label {cursor: pointer;display: block;width: 100%;margin-bottom: 0;padding: 0.3em;box-sizing: border-box;text-align: center;}#sk-container-id-32 label.sk-toggleable__label-arrow:before {content: \"▸\";float: left;margin-right: 0.25em;color: #696969;}#sk-container-id-32 label.sk-toggleable__label-arrow:hover:before {color: black;}#sk-container-id-32 div.sk-estimator:hover label.sk-toggleable__label-arrow:before {color: black;}#sk-container-id-32 div.sk-toggleable__content {max-height: 0;max-width: 0;overflow: hidden;text-align: left;background-color: #f0f8ff;}#sk-container-id-32 div.sk-toggleable__content pre {margin: 0.2em;color: black;border-radius: 0.25em;background-color: #f0f8ff;}#sk-container-id-32 input.sk-toggleable__control:checked~div.sk-toggleable__content {max-height: 200px;max-width: 100%;overflow: auto;}#sk-container-id-32 input.sk-toggleable__control:checked~label.sk-toggleable__label-arrow:before {content: \"▾\";}#sk-container-id-32 div.sk-estimator input.sk-toggleable__control:checked~label.sk-toggleable__label {background-color: #d4ebff;}#sk-container-id-32 div.sk-label input.sk-toggleable__control:checked~label.sk-toggleable__label {background-color: #d4ebff;}#sk-container-id-32 input.sk-hidden--visually {border: 0;clip: rect(1px 1px 1px 1px);clip: rect(1px, 1px, 1px, 1px);height: 1px;margin: -1px;overflow: hidden;padding: 0;position: absolute;width: 1px;}#sk-container-id-32 div.sk-estimator {font-family: monospace;background-color: #f0f8ff;border: 1px dotted black;border-radius: 0.25em;box-sizing: border-box;margin-bottom: 0.5em;}#sk-container-id-32 div.sk-estimator:hover {background-color: #d4ebff;}#sk-container-id-32 div.sk-parallel-item::after {content: \"\";width: 100%;border-bottom: 1px solid gray;flex-grow: 1;}#sk-container-id-32 div.sk-label:hover label.sk-toggleable__label {background-color: #d4ebff;}#sk-container-id-32 div.sk-serial::before {content: \"\";position: absolute;border-left: 1px solid gray;box-sizing: border-box;top: 0;bottom: 0;left: 50%;z-index: 0;}#sk-container-id-32 div.sk-serial {display: flex;flex-direction: column;align-items: center;background-color: white;padding-right: 0.2em;padding-left: 0.2em;position: relative;}#sk-container-id-32 div.sk-item {position: relative;z-index: 1;}#sk-container-id-32 div.sk-parallel {display: flex;align-items: stretch;justify-content: center;background-color: white;position: relative;}#sk-container-id-32 div.sk-item::before, #sk-container-id-32 div.sk-parallel-item::before {content: \"\";position: absolute;border-left: 1px solid gray;box-sizing: border-box;top: 0;bottom: 0;left: 50%;z-index: -1;}#sk-container-id-32 div.sk-parallel-item {display: flex;flex-direction: column;z-index: 1;position: relative;background-color: white;}#sk-container-id-32 div.sk-parallel-item:first-child::after {align-self: flex-end;width: 50%;}#sk-container-id-32 div.sk-parallel-item:last-child::after {align-self: flex-start;width: 50%;}#sk-container-id-32 div.sk-parallel-item:only-child::after {width: 0;}#sk-container-id-32 div.sk-dashed-wrapped {border: 1px dashed gray;margin: 0 0.4em 0.5em 0.4em;box-sizing: border-box;padding-bottom: 0.4em;background-color: white;}#sk-container-id-32 div.sk-label label {font-family: monospace;font-weight: bold;display: inline-block;line-height: 1.2em;}#sk-container-id-32 div.sk-label-container {text-align: center;}#sk-container-id-32 div.sk-container {/* jupyter's `normalize.less` sets `[hidden] { display: none; }` but bootstrap.min.css set `[hidden] { display: none !important; }` so we also need the `!important` here to be able to override the default hidden behavior on the sphinx rendered scikit-learn.org. See: https://github.com/scikit-learn/scikit-learn/issues/21755 */display: inline-block !important;position: relative;}#sk-container-id-32 div.sk-text-repr-fallback {display: none;}</style><div id=\"sk-container-id-32\" class=\"sk-top-container\"><div class=\"sk-text-repr-fallback\"><pre>LinearRegression()</pre><b>In a Jupyter environment, please rerun this cell to show the HTML representation or trust the notebook. <br />On GitHub, the HTML representation is unable to render, please try loading this page with nbviewer.org.</b></div><div class=\"sk-container\" hidden><div class=\"sk-item\"><div class=\"sk-estimator sk-toggleable\"><input class=\"sk-toggleable__control sk-hidden--visually\" id=\"sk-estimator-id-32\" type=\"checkbox\" checked><label for=\"sk-estimator-id-32\" class=\"sk-toggleable__label sk-toggleable__label-arrow\">LinearRegression</label><div class=\"sk-toggleable__content\"><pre>LinearRegression()</pre></div></div></div></div></div>"
      ],
      "text/plain": [
       "LinearRegression()"
      ]
     },
     "execution_count": 483,
     "metadata": {},
     "output_type": "execute_result"
    }
   ],
   "source": [
    "model.fit(X_train, y_train)"
   ]
  },
  {
   "cell_type": "code",
   "execution_count": 484,
   "id": "187b4451-afb1-4713-bc86-1c0b4b03dc18",
   "metadata": {},
   "outputs": [
    {
     "name": "stdout",
     "output_type": "stream",
     "text": [
      "훈련 세트의 정확도 : 0.6263871000342032\n",
      "테스트 세트의 정확도 : 0.5978330371101949\n",
      "사용한 특성의 수 : 8\n"
     ]
    }
   ],
   "source": [
    "print(f'훈련 세트의 정확도 : {model.score(X_train, y_train)}')\n",
    "print(f'테스트 세트의 정확도 : {model.score(X_test, y_test)}')\n",
    "print(f'사용한 특성의 수 : {np.sum(model.coef_ != 0)}')"
   ]
  },
  {
   "cell_type": "code",
   "execution_count": 485,
   "id": "ba41e06b-f9df-44a9-a594-69f507157a13",
   "metadata": {},
   "outputs": [],
   "source": [
    "model_pred = model.predict(X_test)"
   ]
  },
  {
   "cell_type": "code",
   "execution_count": 486,
   "id": "c9598746-e9aa-496e-a4cf-f6ec34e14a9b",
   "metadata": {},
   "outputs": [],
   "source": [
    "residual = y_test - model_pred"
   ]
  },
  {
   "cell_type": "code",
   "execution_count": 487,
   "id": "36b5307c-28c7-4d70-979b-7efb6be3eae8",
   "metadata": {},
   "outputs": [
    {
     "name": "stdout",
     "output_type": "stream",
     "text": [
      "잔차 평균 : 0.023914079211499358\n"
     ]
    }
   ],
   "source": [
    "print(f'잔차 평균 : {np.mean(residual)}')"
   ]
  },
  {
   "cell_type": "code",
   "execution_count": 488,
   "id": "7cfac301-1a7a-4c6c-b062-73a1b88d86bf",
   "metadata": {
    "tags": []
   },
   "outputs": [
    {
     "data": {
      "text/plain": [
       "<bound method NDFrame.describe of EMD_NM\n",
       "광산구_산수동   -0.269655\n",
       "내남동       -0.340609\n",
       "광산구_우산동    0.497327\n",
       "송하동       -0.454698\n",
       "요기동       -0.109619\n",
       "             ...   \n",
       "명도동       -0.162965\n",
       "덕흥동       -0.255747\n",
       "월남동       -0.269655\n",
       "대산동       -0.095711\n",
       "서봉동       -0.162965\n",
       "Name: CHARGE, Length: 64, dtype: float64>"
      ]
     },
     "execution_count": 488,
     "metadata": {},
     "output_type": "execute_result"
    }
   ],
   "source": [
    "residual.describe"
   ]
  },
  {
   "cell_type": "markdown",
   "id": "d85eb20b-c0a8-46d2-b0e9-b83bf31534b6",
   "metadata": {},
   "source": [
    "## Lasso"
   ]
  },
  {
   "cell_type": "code",
   "execution_count": 489,
   "id": "ddc29644-dd45-4a04-9d6f-28dc9d7990f9",
   "metadata": {},
   "outputs": [],
   "source": [
    "lasso = Lasso(alpha=0.5).fit(X_train, y_train)"
   ]
  },
  {
   "cell_type": "code",
   "execution_count": 490,
   "id": "efbb645a-6bf6-49e7-b4c3-a41c181490f4",
   "metadata": {},
   "outputs": [
    {
     "name": "stdout",
     "output_type": "stream",
     "text": [
      "훈련 세트의 정확도 : 0.4658191483179105\n",
      "테스트 세트의 정확도 : 0.4417730780687251\n",
      "사용한 특성의 수 : 2\n",
      "사용한 max_iter : 5\n"
     ]
    }
   ],
   "source": [
    "print(f'훈련 세트의 정확도 : {lasso.score(X_train, y_train)}')\n",
    "print(f'테스트 세트의 정확도 : {lasso.score(X_test, y_test)}')\n",
    "print(\"사용한 특성의 수 : {}\".format(np.sum(lasso.coef_ != 0)))\n",
    "print(\"사용한 max_iter : {}\".format(lasso.n_iter_))"
   ]
  },
  {
   "cell_type": "code",
   "execution_count": 491,
   "id": "2d000627-c916-4301-a4cf-47a5537e3089",
   "metadata": {},
   "outputs": [
    {
     "data": {
      "text/plain": [
       "array([0.        , 0.        , 0.        , 0.        , 0.        ,\n",
       "       0.        , 0.1907105 , 0.04331964])"
      ]
     },
     "execution_count": 491,
     "metadata": {},
     "output_type": "execute_result"
    }
   ],
   "source": [
    "lasso.coef_"
   ]
  },
  {
   "cell_type": "code",
   "execution_count": 492,
   "id": "ea3ad0be-c420-4208-8757-f1de30ccd029",
   "metadata": {},
   "outputs": [],
   "source": [
    "lasso_pred = lasso.predict(X_test)"
   ]
  },
  {
   "cell_type": "code",
   "execution_count": 493,
   "id": "3f7083df-8728-4b51-ba20-43c8c1aee14f",
   "metadata": {},
   "outputs": [],
   "source": [
    "lasso_residual = y_test - lasso_pred"
   ]
  },
  {
   "cell_type": "code",
   "execution_count": 494,
   "id": "476c3377-5d49-4674-96fd-2a447f970acf",
   "metadata": {},
   "outputs": [
    {
     "name": "stdout",
     "output_type": "stream",
     "text": [
      "잔차 평균 : -0.04910597973134931\n"
     ]
    }
   ],
   "source": [
    "print(f'잔차 평균 : {np.mean(lasso_residual)}')"
   ]
  },
  {
   "cell_type": "markdown",
   "id": "55097e9c-833d-4d9c-984a-6cb48f911188",
   "metadata": {},
   "source": [
    "## Ridge"
   ]
  },
  {
   "cell_type": "code",
   "execution_count": 495,
   "id": "85be665e-e656-43de-9895-ca47da8fbaa7",
   "metadata": {
    "tags": []
   },
   "outputs": [],
   "source": [
    "ridge = Ridge().fit(X_train, y_train)"
   ]
  },
  {
   "cell_type": "code",
   "execution_count": 496,
   "id": "3b93f647-c1e4-4d54-8252-9601523c8d56",
   "metadata": {},
   "outputs": [
    {
     "data": {
      "text/plain": [
       "array([ 0.84859268,  0.25612135, -0.06563203,  0.0162328 ,  0.02456849,\n",
       "        0.13060922,  0.18083402,  0.05441047])"
      ]
     },
     "execution_count": 496,
     "metadata": {},
     "output_type": "execute_result"
    }
   ],
   "source": [
    "ridge.coef_"
   ]
  },
  {
   "cell_type": "code",
   "execution_count": 497,
   "id": "c1492589-12d0-4317-be88-2cb9b3b6aac4",
   "metadata": {},
   "outputs": [
    {
     "name": "stdout",
     "output_type": "stream",
     "text": [
      "훈련 세트의 정확도 : 0.6261538165513458\n",
      "테스트 세트의 정확도 : 0.5970656698997816\n",
      "사용한 특성의 수 : 8\n",
      "사용한 max_iter : None\n"
     ]
    }
   ],
   "source": [
    "print(f'훈련 세트의 정확도 : {ridge.score(X_train, y_train)}')\n",
    "print(f'테스트 세트의 정확도 : {ridge.score(X_test, y_test)}')\n",
    "print(\"사용한 특성의 수 : {}\".format(np.sum(ridge.coef_ != 0)))\n",
    "print(\"사용한 max_iter : {}\".format(ridge.n_iter_))"
   ]
  },
  {
   "cell_type": "code",
   "execution_count": 498,
   "id": "37394b8f-2521-4bf2-ad35-8f95af875e70",
   "metadata": {},
   "outputs": [],
   "source": [
    "# 예측 데이터 도출\n",
    "ridge_pred = ridge.predict(X_test)"
   ]
  },
  {
   "cell_type": "code",
   "execution_count": 499,
   "id": "6a5613a1-5f45-42a9-af4b-c89c3ec90694",
   "metadata": {},
   "outputs": [],
   "source": [
    "# 타겟 데이터와 예측 데이터 사이의 잔차 계산\n",
    "ridge_residual = y_test - ridge_pred"
   ]
  },
  {
   "cell_type": "code",
   "execution_count": 500,
   "id": "1e38e54a-691f-4479-9fc1-d21246e843c9",
   "metadata": {},
   "outputs": [
    {
     "name": "stdout",
     "output_type": "stream",
     "text": [
      "잔차 평균 : 0.01894509012050098\n"
     ]
    }
   ],
   "source": [
    "print(f'잔차 평균 : {np.mean(ridge_residual)}')"
   ]
  },
  {
   "cell_type": "code",
   "execution_count": 501,
   "id": "529d10b4-4cb8-4f85-a94f-60db75dfb3a2",
   "metadata": {},
   "outputs": [
    {
     "data": {
      "text/plain": [
       "0.5970656698997816"
      ]
     },
     "execution_count": 501,
     "metadata": {},
     "output_type": "execute_result"
    }
   ],
   "source": [
    "# R2 제곱 ( = 정확도, 결정계수 )\n",
    "from sklearn.metrics import r2_score\n",
    "r2_score(y_test, ridge_pred, sample_weight=None, multioutput='uniform_average')"
   ]
  },
  {
   "cell_type": "markdown",
   "id": "642c2511-b94b-44a3-afc3-d52616068f7e",
   "metadata": {},
   "source": [
    "## Elastic Net"
   ]
  },
  {
   "cell_type": "code",
   "execution_count": 133,
   "id": "9a4166a4-9fab-42ea-938b-aa750b837162",
   "metadata": {},
   "outputs": [
    {
     "data": {
      "text/html": [
       "<style>#sk-container-id-51 {color: black;background-color: white;}#sk-container-id-51 pre{padding: 0;}#sk-container-id-51 div.sk-toggleable {background-color: white;}#sk-container-id-51 label.sk-toggleable__label {cursor: pointer;display: block;width: 100%;margin-bottom: 0;padding: 0.3em;box-sizing: border-box;text-align: center;}#sk-container-id-51 label.sk-toggleable__label-arrow:before {content: \"▸\";float: left;margin-right: 0.25em;color: #696969;}#sk-container-id-51 label.sk-toggleable__label-arrow:hover:before {color: black;}#sk-container-id-51 div.sk-estimator:hover label.sk-toggleable__label-arrow:before {color: black;}#sk-container-id-51 div.sk-toggleable__content {max-height: 0;max-width: 0;overflow: hidden;text-align: left;background-color: #f0f8ff;}#sk-container-id-51 div.sk-toggleable__content pre {margin: 0.2em;color: black;border-radius: 0.25em;background-color: #f0f8ff;}#sk-container-id-51 input.sk-toggleable__control:checked~div.sk-toggleable__content {max-height: 200px;max-width: 100%;overflow: auto;}#sk-container-id-51 input.sk-toggleable__control:checked~label.sk-toggleable__label-arrow:before {content: \"▾\";}#sk-container-id-51 div.sk-estimator input.sk-toggleable__control:checked~label.sk-toggleable__label {background-color: #d4ebff;}#sk-container-id-51 div.sk-label input.sk-toggleable__control:checked~label.sk-toggleable__label {background-color: #d4ebff;}#sk-container-id-51 input.sk-hidden--visually {border: 0;clip: rect(1px 1px 1px 1px);clip: rect(1px, 1px, 1px, 1px);height: 1px;margin: -1px;overflow: hidden;padding: 0;position: absolute;width: 1px;}#sk-container-id-51 div.sk-estimator {font-family: monospace;background-color: #f0f8ff;border: 1px dotted black;border-radius: 0.25em;box-sizing: border-box;margin-bottom: 0.5em;}#sk-container-id-51 div.sk-estimator:hover {background-color: #d4ebff;}#sk-container-id-51 div.sk-parallel-item::after {content: \"\";width: 100%;border-bottom: 1px solid gray;flex-grow: 1;}#sk-container-id-51 div.sk-label:hover label.sk-toggleable__label {background-color: #d4ebff;}#sk-container-id-51 div.sk-serial::before {content: \"\";position: absolute;border-left: 1px solid gray;box-sizing: border-box;top: 0;bottom: 0;left: 50%;z-index: 0;}#sk-container-id-51 div.sk-serial {display: flex;flex-direction: column;align-items: center;background-color: white;padding-right: 0.2em;padding-left: 0.2em;position: relative;}#sk-container-id-51 div.sk-item {position: relative;z-index: 1;}#sk-container-id-51 div.sk-parallel {display: flex;align-items: stretch;justify-content: center;background-color: white;position: relative;}#sk-container-id-51 div.sk-item::before, #sk-container-id-51 div.sk-parallel-item::before {content: \"\";position: absolute;border-left: 1px solid gray;box-sizing: border-box;top: 0;bottom: 0;left: 50%;z-index: -1;}#sk-container-id-51 div.sk-parallel-item {display: flex;flex-direction: column;z-index: 1;position: relative;background-color: white;}#sk-container-id-51 div.sk-parallel-item:first-child::after {align-self: flex-end;width: 50%;}#sk-container-id-51 div.sk-parallel-item:last-child::after {align-self: flex-start;width: 50%;}#sk-container-id-51 div.sk-parallel-item:only-child::after {width: 0;}#sk-container-id-51 div.sk-dashed-wrapped {border: 1px dashed gray;margin: 0 0.4em 0.5em 0.4em;box-sizing: border-box;padding-bottom: 0.4em;background-color: white;}#sk-container-id-51 div.sk-label label {font-family: monospace;font-weight: bold;display: inline-block;line-height: 1.2em;}#sk-container-id-51 div.sk-label-container {text-align: center;}#sk-container-id-51 div.sk-container {/* jupyter's `normalize.less` sets `[hidden] { display: none; }` but bootstrap.min.css set `[hidden] { display: none !important; }` so we also need the `!important` here to be able to override the default hidden behavior on the sphinx rendered scikit-learn.org. See: https://github.com/scikit-learn/scikit-learn/issues/21755 */display: inline-block !important;position: relative;}#sk-container-id-51 div.sk-text-repr-fallback {display: none;}</style><div id=\"sk-container-id-51\" class=\"sk-top-container\"><div class=\"sk-text-repr-fallback\"><pre>ElasticNet(alpha=0.5)</pre><b>In a Jupyter environment, please rerun this cell to show the HTML representation or trust the notebook. <br />On GitHub, the HTML representation is unable to render, please try loading this page with nbviewer.org.</b></div><div class=\"sk-container\" hidden><div class=\"sk-item\"><div class=\"sk-estimator sk-toggleable\"><input class=\"sk-toggleable__control sk-hidden--visually\" id=\"sk-estimator-id-51\" type=\"checkbox\" checked><label for=\"sk-estimator-id-51\" class=\"sk-toggleable__label sk-toggleable__label-arrow\">ElasticNet</label><div class=\"sk-toggleable__content\"><pre>ElasticNet(alpha=0.5)</pre></div></div></div></div></div>"
      ],
      "text/plain": [
       "ElasticNet(alpha=0.5)"
      ]
     },
     "execution_count": 133,
     "metadata": {},
     "output_type": "execute_result"
    }
   ],
   "source": [
    "from sklearn.linear_model import ElasticNet\n",
    "\n",
    "EN = ElasticNet(alpha=0.5)\n",
    "EN.fit(X_train, y_train)"
   ]
  },
  {
   "cell_type": "code",
   "execution_count": 134,
   "id": "827ab6e3-9e23-48b0-b383-a26520650955",
   "metadata": {},
   "outputs": [
    {
     "name": "stdout",
     "output_type": "stream",
     "text": [
      "train data의 정확도 : 0.4568872643753713\n",
      "test data의 정확도 : 0.5581030454982842\n",
      "ElasticNet의 정확도 : 0.4744213039337324\n"
     ]
    }
   ],
   "source": [
    "print(f'train data의 정확도 : {EN.score(X_train, y_train)}')\n",
    "print(f'test data의 정확도 : {EN.score(X_test, y_test)}')\n",
    "print(f'ElasticNet의 정확도 : {EN.score(X, y)}')"
   ]
  },
  {
   "cell_type": "markdown",
   "id": "2c82fabc-1abb-43dd-a300-476bb779999c",
   "metadata": {},
   "source": [
    "## Ensemble Model\n",
    "### GradientBoostingRegressor"
   ]
  },
  {
   "cell_type": "code",
   "execution_count": 105,
   "id": "2272feef-0dfa-48d5-ab36-06fd01a79f15",
   "metadata": {},
   "outputs": [
    {
     "data": {
      "text/html": [
       "<style>#sk-container-id-37 {color: black;background-color: white;}#sk-container-id-37 pre{padding: 0;}#sk-container-id-37 div.sk-toggleable {background-color: white;}#sk-container-id-37 label.sk-toggleable__label {cursor: pointer;display: block;width: 100%;margin-bottom: 0;padding: 0.3em;box-sizing: border-box;text-align: center;}#sk-container-id-37 label.sk-toggleable__label-arrow:before {content: \"▸\";float: left;margin-right: 0.25em;color: #696969;}#sk-container-id-37 label.sk-toggleable__label-arrow:hover:before {color: black;}#sk-container-id-37 div.sk-estimator:hover label.sk-toggleable__label-arrow:before {color: black;}#sk-container-id-37 div.sk-toggleable__content {max-height: 0;max-width: 0;overflow: hidden;text-align: left;background-color: #f0f8ff;}#sk-container-id-37 div.sk-toggleable__content pre {margin: 0.2em;color: black;border-radius: 0.25em;background-color: #f0f8ff;}#sk-container-id-37 input.sk-toggleable__control:checked~div.sk-toggleable__content {max-height: 200px;max-width: 100%;overflow: auto;}#sk-container-id-37 input.sk-toggleable__control:checked~label.sk-toggleable__label-arrow:before {content: \"▾\";}#sk-container-id-37 div.sk-estimator input.sk-toggleable__control:checked~label.sk-toggleable__label {background-color: #d4ebff;}#sk-container-id-37 div.sk-label input.sk-toggleable__control:checked~label.sk-toggleable__label {background-color: #d4ebff;}#sk-container-id-37 input.sk-hidden--visually {border: 0;clip: rect(1px 1px 1px 1px);clip: rect(1px, 1px, 1px, 1px);height: 1px;margin: -1px;overflow: hidden;padding: 0;position: absolute;width: 1px;}#sk-container-id-37 div.sk-estimator {font-family: monospace;background-color: #f0f8ff;border: 1px dotted black;border-radius: 0.25em;box-sizing: border-box;margin-bottom: 0.5em;}#sk-container-id-37 div.sk-estimator:hover {background-color: #d4ebff;}#sk-container-id-37 div.sk-parallel-item::after {content: \"\";width: 100%;border-bottom: 1px solid gray;flex-grow: 1;}#sk-container-id-37 div.sk-label:hover label.sk-toggleable__label {background-color: #d4ebff;}#sk-container-id-37 div.sk-serial::before {content: \"\";position: absolute;border-left: 1px solid gray;box-sizing: border-box;top: 0;bottom: 0;left: 50%;z-index: 0;}#sk-container-id-37 div.sk-serial {display: flex;flex-direction: column;align-items: center;background-color: white;padding-right: 0.2em;padding-left: 0.2em;position: relative;}#sk-container-id-37 div.sk-item {position: relative;z-index: 1;}#sk-container-id-37 div.sk-parallel {display: flex;align-items: stretch;justify-content: center;background-color: white;position: relative;}#sk-container-id-37 div.sk-item::before, #sk-container-id-37 div.sk-parallel-item::before {content: \"\";position: absolute;border-left: 1px solid gray;box-sizing: border-box;top: 0;bottom: 0;left: 50%;z-index: -1;}#sk-container-id-37 div.sk-parallel-item {display: flex;flex-direction: column;z-index: 1;position: relative;background-color: white;}#sk-container-id-37 div.sk-parallel-item:first-child::after {align-self: flex-end;width: 50%;}#sk-container-id-37 div.sk-parallel-item:last-child::after {align-self: flex-start;width: 50%;}#sk-container-id-37 div.sk-parallel-item:only-child::after {width: 0;}#sk-container-id-37 div.sk-dashed-wrapped {border: 1px dashed gray;margin: 0 0.4em 0.5em 0.4em;box-sizing: border-box;padding-bottom: 0.4em;background-color: white;}#sk-container-id-37 div.sk-label label {font-family: monospace;font-weight: bold;display: inline-block;line-height: 1.2em;}#sk-container-id-37 div.sk-label-container {text-align: center;}#sk-container-id-37 div.sk-container {/* jupyter's `normalize.less` sets `[hidden] { display: none; }` but bootstrap.min.css set `[hidden] { display: none !important; }` so we also need the `!important` here to be able to override the default hidden behavior on the sphinx rendered scikit-learn.org. See: https://github.com/scikit-learn/scikit-learn/issues/21755 */display: inline-block !important;position: relative;}#sk-container-id-37 div.sk-text-repr-fallback {display: none;}</style><div id=\"sk-container-id-37\" class=\"sk-top-container\"><div class=\"sk-text-repr-fallback\"><pre>GradientBoostingRegressor(n_estimators=50, random_state=42)</pre><b>In a Jupyter environment, please rerun this cell to show the HTML representation or trust the notebook. <br />On GitHub, the HTML representation is unable to render, please try loading this page with nbviewer.org.</b></div><div class=\"sk-container\" hidden><div class=\"sk-item\"><div class=\"sk-estimator sk-toggleable\"><input class=\"sk-toggleable__control sk-hidden--visually\" id=\"sk-estimator-id-37\" type=\"checkbox\" checked><label for=\"sk-estimator-id-37\" class=\"sk-toggleable__label sk-toggleable__label-arrow\">GradientBoostingRegressor</label><div class=\"sk-toggleable__content\"><pre>GradientBoostingRegressor(n_estimators=50, random_state=42)</pre></div></div></div></div></div>"
      ],
      "text/plain": [
       "GradientBoostingRegressor(n_estimators=50, random_state=42)"
      ]
     },
     "execution_count": 105,
     "metadata": {},
     "output_type": "execute_result"
    }
   ],
   "source": [
    "from sklearn.ensemble import GradientBoostingRegressor\n",
    "\n",
    "gbm = GradientBoostingRegressor(random_state=42, n_estimators=50)\n",
    "gbm.fit(X_train, y_train)"
   ]
  },
  {
   "cell_type": "code",
   "execution_count": 106,
   "id": "3d34d832-f2cc-4b29-8f8a-e707ee46fe08",
   "metadata": {
    "tags": []
   },
   "outputs": [
    {
     "name": "stdout",
     "output_type": "stream",
     "text": [
      "훈련 세트의 정확도 : 0.9037118647840419\n",
      "테스트 세트의 정확도 : 0.6916103383808065\n",
      "GBR R2 : 0.8673195448092976\n"
     ]
    }
   ],
   "source": [
    "print(f'훈련 세트의 정확도 : {gbm.score(X_train, y_train)}')\n",
    "print(f'테스트 세트의 정확도 : {gbm.score(X_test, y_test)}')\n",
    "print(f'GBR R2 : {gbm.score(X, y)}')"
   ]
  },
  {
   "cell_type": "markdown",
   "id": "e8d4f7b1-4bd7-46b6-abae-0cf51db5a366",
   "metadata": {},
   "source": [
    "### KNeighborsRegressor"
   ]
  },
  {
   "cell_type": "code",
   "execution_count": 82,
   "id": "b78988c9-dbb7-4eee-8584-7540a095ca57",
   "metadata": {},
   "outputs": [
    {
     "data": {
      "text/html": [
       "<style>#sk-container-id-32 {color: black;background-color: white;}#sk-container-id-32 pre{padding: 0;}#sk-container-id-32 div.sk-toggleable {background-color: white;}#sk-container-id-32 label.sk-toggleable__label {cursor: pointer;display: block;width: 100%;margin-bottom: 0;padding: 0.3em;box-sizing: border-box;text-align: center;}#sk-container-id-32 label.sk-toggleable__label-arrow:before {content: \"▸\";float: left;margin-right: 0.25em;color: #696969;}#sk-container-id-32 label.sk-toggleable__label-arrow:hover:before {color: black;}#sk-container-id-32 div.sk-estimator:hover label.sk-toggleable__label-arrow:before {color: black;}#sk-container-id-32 div.sk-toggleable__content {max-height: 0;max-width: 0;overflow: hidden;text-align: left;background-color: #f0f8ff;}#sk-container-id-32 div.sk-toggleable__content pre {margin: 0.2em;color: black;border-radius: 0.25em;background-color: #f0f8ff;}#sk-container-id-32 input.sk-toggleable__control:checked~div.sk-toggleable__content {max-height: 200px;max-width: 100%;overflow: auto;}#sk-container-id-32 input.sk-toggleable__control:checked~label.sk-toggleable__label-arrow:before {content: \"▾\";}#sk-container-id-32 div.sk-estimator input.sk-toggleable__control:checked~label.sk-toggleable__label {background-color: #d4ebff;}#sk-container-id-32 div.sk-label input.sk-toggleable__control:checked~label.sk-toggleable__label {background-color: #d4ebff;}#sk-container-id-32 input.sk-hidden--visually {border: 0;clip: rect(1px 1px 1px 1px);clip: rect(1px, 1px, 1px, 1px);height: 1px;margin: -1px;overflow: hidden;padding: 0;position: absolute;width: 1px;}#sk-container-id-32 div.sk-estimator {font-family: monospace;background-color: #f0f8ff;border: 1px dotted black;border-radius: 0.25em;box-sizing: border-box;margin-bottom: 0.5em;}#sk-container-id-32 div.sk-estimator:hover {background-color: #d4ebff;}#sk-container-id-32 div.sk-parallel-item::after {content: \"\";width: 100%;border-bottom: 1px solid gray;flex-grow: 1;}#sk-container-id-32 div.sk-label:hover label.sk-toggleable__label {background-color: #d4ebff;}#sk-container-id-32 div.sk-serial::before {content: \"\";position: absolute;border-left: 1px solid gray;box-sizing: border-box;top: 0;bottom: 0;left: 50%;z-index: 0;}#sk-container-id-32 div.sk-serial {display: flex;flex-direction: column;align-items: center;background-color: white;padding-right: 0.2em;padding-left: 0.2em;position: relative;}#sk-container-id-32 div.sk-item {position: relative;z-index: 1;}#sk-container-id-32 div.sk-parallel {display: flex;align-items: stretch;justify-content: center;background-color: white;position: relative;}#sk-container-id-32 div.sk-item::before, #sk-container-id-32 div.sk-parallel-item::before {content: \"\";position: absolute;border-left: 1px solid gray;box-sizing: border-box;top: 0;bottom: 0;left: 50%;z-index: -1;}#sk-container-id-32 div.sk-parallel-item {display: flex;flex-direction: column;z-index: 1;position: relative;background-color: white;}#sk-container-id-32 div.sk-parallel-item:first-child::after {align-self: flex-end;width: 50%;}#sk-container-id-32 div.sk-parallel-item:last-child::after {align-self: flex-start;width: 50%;}#sk-container-id-32 div.sk-parallel-item:only-child::after {width: 0;}#sk-container-id-32 div.sk-dashed-wrapped {border: 1px dashed gray;margin: 0 0.4em 0.5em 0.4em;box-sizing: border-box;padding-bottom: 0.4em;background-color: white;}#sk-container-id-32 div.sk-label label {font-family: monospace;font-weight: bold;display: inline-block;line-height: 1.2em;}#sk-container-id-32 div.sk-label-container {text-align: center;}#sk-container-id-32 div.sk-container {/* jupyter's `normalize.less` sets `[hidden] { display: none; }` but bootstrap.min.css set `[hidden] { display: none !important; }` so we also need the `!important` here to be able to override the default hidden behavior on the sphinx rendered scikit-learn.org. See: https://github.com/scikit-learn/scikit-learn/issues/21755 */display: inline-block !important;position: relative;}#sk-container-id-32 div.sk-text-repr-fallback {display: none;}</style><div id=\"sk-container-id-32\" class=\"sk-top-container\"><div class=\"sk-text-repr-fallback\"><pre>KNeighborsRegressor()</pre><b>In a Jupyter environment, please rerun this cell to show the HTML representation or trust the notebook. <br />On GitHub, the HTML representation is unable to render, please try loading this page with nbviewer.org.</b></div><div class=\"sk-container\" hidden><div class=\"sk-item\"><div class=\"sk-estimator sk-toggleable\"><input class=\"sk-toggleable__control sk-hidden--visually\" id=\"sk-estimator-id-32\" type=\"checkbox\" checked><label for=\"sk-estimator-id-32\" class=\"sk-toggleable__label sk-toggleable__label-arrow\">KNeighborsRegressor</label><div class=\"sk-toggleable__content\"><pre>KNeighborsRegressor()</pre></div></div></div></div></div>"
      ],
      "text/plain": [
       "KNeighborsRegressor()"
      ]
     },
     "execution_count": 82,
     "metadata": {},
     "output_type": "execute_result"
    }
   ],
   "source": [
    "from sklearn.neighbors import KNeighborsRegressor\n",
    "\n",
    "KNR = KNeighborsRegressor(n_neighbors=5)\n",
    "KNR.fit(X_train, y_train)"
   ]
  },
  {
   "cell_type": "code",
   "execution_count": 83,
   "id": "6fef9fc0-2016-4877-8a3c-3621b9e52f0a",
   "metadata": {},
   "outputs": [
    {
     "name": "stdout",
     "output_type": "stream",
     "text": [
      "훈련 세트의 정확도 : 0.49314938625349325\n",
      "테스트 세트의 정확도 : 0.5654525862068966\n",
      "KNR R2 : 0.5080476980320079\n"
     ]
    }
   ],
   "source": [
    "print(f'훈련 세트의 정확도 : {KNR.score(X_train, y_train)}')\n",
    "print(f'테스트 세트의 정확도 : {KNR.score(X_test, y_test)}')\n",
    "print(f'KNR R2 : {KNR.score(X, y)}')"
   ]
  },
  {
   "cell_type": "markdown",
   "id": "b3d639d3-f0e0-419d-8a42-4e8042db94f2",
   "metadata": {},
   "source": [
    "### SVM ( Support Vector Regressor )"
   ]
  },
  {
   "cell_type": "code",
   "execution_count": 99,
   "id": "1c0e9e08-a84b-474f-9c11-0441b7a48ba7",
   "metadata": {},
   "outputs": [
    {
     "data": {
      "text/html": [
       "<style>#sk-container-id-35 {color: black;background-color: white;}#sk-container-id-35 pre{padding: 0;}#sk-container-id-35 div.sk-toggleable {background-color: white;}#sk-container-id-35 label.sk-toggleable__label {cursor: pointer;display: block;width: 100%;margin-bottom: 0;padding: 0.3em;box-sizing: border-box;text-align: center;}#sk-container-id-35 label.sk-toggleable__label-arrow:before {content: \"▸\";float: left;margin-right: 0.25em;color: #696969;}#sk-container-id-35 label.sk-toggleable__label-arrow:hover:before {color: black;}#sk-container-id-35 div.sk-estimator:hover label.sk-toggleable__label-arrow:before {color: black;}#sk-container-id-35 div.sk-toggleable__content {max-height: 0;max-width: 0;overflow: hidden;text-align: left;background-color: #f0f8ff;}#sk-container-id-35 div.sk-toggleable__content pre {margin: 0.2em;color: black;border-radius: 0.25em;background-color: #f0f8ff;}#sk-container-id-35 input.sk-toggleable__control:checked~div.sk-toggleable__content {max-height: 200px;max-width: 100%;overflow: auto;}#sk-container-id-35 input.sk-toggleable__control:checked~label.sk-toggleable__label-arrow:before {content: \"▾\";}#sk-container-id-35 div.sk-estimator input.sk-toggleable__control:checked~label.sk-toggleable__label {background-color: #d4ebff;}#sk-container-id-35 div.sk-label input.sk-toggleable__control:checked~label.sk-toggleable__label {background-color: #d4ebff;}#sk-container-id-35 input.sk-hidden--visually {border: 0;clip: rect(1px 1px 1px 1px);clip: rect(1px, 1px, 1px, 1px);height: 1px;margin: -1px;overflow: hidden;padding: 0;position: absolute;width: 1px;}#sk-container-id-35 div.sk-estimator {font-family: monospace;background-color: #f0f8ff;border: 1px dotted black;border-radius: 0.25em;box-sizing: border-box;margin-bottom: 0.5em;}#sk-container-id-35 div.sk-estimator:hover {background-color: #d4ebff;}#sk-container-id-35 div.sk-parallel-item::after {content: \"\";width: 100%;border-bottom: 1px solid gray;flex-grow: 1;}#sk-container-id-35 div.sk-label:hover label.sk-toggleable__label {background-color: #d4ebff;}#sk-container-id-35 div.sk-serial::before {content: \"\";position: absolute;border-left: 1px solid gray;box-sizing: border-box;top: 0;bottom: 0;left: 50%;z-index: 0;}#sk-container-id-35 div.sk-serial {display: flex;flex-direction: column;align-items: center;background-color: white;padding-right: 0.2em;padding-left: 0.2em;position: relative;}#sk-container-id-35 div.sk-item {position: relative;z-index: 1;}#sk-container-id-35 div.sk-parallel {display: flex;align-items: stretch;justify-content: center;background-color: white;position: relative;}#sk-container-id-35 div.sk-item::before, #sk-container-id-35 div.sk-parallel-item::before {content: \"\";position: absolute;border-left: 1px solid gray;box-sizing: border-box;top: 0;bottom: 0;left: 50%;z-index: -1;}#sk-container-id-35 div.sk-parallel-item {display: flex;flex-direction: column;z-index: 1;position: relative;background-color: white;}#sk-container-id-35 div.sk-parallel-item:first-child::after {align-self: flex-end;width: 50%;}#sk-container-id-35 div.sk-parallel-item:last-child::after {align-self: flex-start;width: 50%;}#sk-container-id-35 div.sk-parallel-item:only-child::after {width: 0;}#sk-container-id-35 div.sk-dashed-wrapped {border: 1px dashed gray;margin: 0 0.4em 0.5em 0.4em;box-sizing: border-box;padding-bottom: 0.4em;background-color: white;}#sk-container-id-35 div.sk-label label {font-family: monospace;font-weight: bold;display: inline-block;line-height: 1.2em;}#sk-container-id-35 div.sk-label-container {text-align: center;}#sk-container-id-35 div.sk-container {/* jupyter's `normalize.less` sets `[hidden] { display: none; }` but bootstrap.min.css set `[hidden] { display: none !important; }` so we also need the `!important` here to be able to override the default hidden behavior on the sphinx rendered scikit-learn.org. See: https://github.com/scikit-learn/scikit-learn/issues/21755 */display: inline-block !important;position: relative;}#sk-container-id-35 div.sk-text-repr-fallback {display: none;}</style><div id=\"sk-container-id-35\" class=\"sk-top-container\"><div class=\"sk-text-repr-fallback\"><pre>SVR()</pre><b>In a Jupyter environment, please rerun this cell to show the HTML representation or trust the notebook. <br />On GitHub, the HTML representation is unable to render, please try loading this page with nbviewer.org.</b></div><div class=\"sk-container\" hidden><div class=\"sk-item\"><div class=\"sk-estimator sk-toggleable\"><input class=\"sk-toggleable__control sk-hidden--visually\" id=\"sk-estimator-id-35\" type=\"checkbox\" checked><label for=\"sk-estimator-id-35\" class=\"sk-toggleable__label sk-toggleable__label-arrow\">SVR</label><div class=\"sk-toggleable__content\"><pre>SVR()</pre></div></div></div></div></div>"
      ],
      "text/plain": [
       "SVR()"
      ]
     },
     "execution_count": 99,
     "metadata": {},
     "output_type": "execute_result"
    }
   ],
   "source": [
    "# SVM은 가급적 정규화 처리된 데이터로 진행\n",
    "from sklearn.svm import SVR\n",
    "\n",
    "SVR = SVR()\n",
    "SVR.fit(X_train, y_train)"
   ]
  },
  {
   "cell_type": "code",
   "execution_count": 100,
   "id": "8e9c75f0-6da2-435c-896c-449a87e3bdfa",
   "metadata": {},
   "outputs": [
    {
     "name": "stdout",
     "output_type": "stream",
     "text": [
      "훈련 세트의 정확도 : 0.7628050042225452\n",
      "테스트 세트의 정확도 : 0.3939315006790415\n",
      "KNR R2 : 0.6995336181783618\n"
     ]
    }
   ],
   "source": [
    "print(f'훈련 세트의 정확도 : {SVR.score(X_train, y_train)}')\n",
    "print(f'테스트 세트의 정확도 : {SVR.score(X_test, y_test)}')\n",
    "print(f'KNR R2 : {SVR.score(X, y)}')"
   ]
  },
  {
   "cell_type": "markdown",
   "id": "a2a72829-2c2b-4d94-9b9d-1c5d203a5922",
   "metadata": {},
   "source": [
    "# 모델별 결정계수 비교\n",
    "## 표준화 방법별 비교"
   ]
  },
  {
   "cell_type": "code",
   "execution_count": 256,
   "id": "5ee26c2d-adbc-4762-aee7-45a400d55b55",
   "metadata": {},
   "outputs": [
    {
     "name": "stdout",
     "output_type": "stream",
     "text": [
      "=== No Scaled data ===\n",
      "=== Test size = 0.2 ===\n",
      "MLR R2: 0.5996636173465624\n",
      "Lasso R2: 0.4650308322122455\n",
      "Ridge R2: 0.6063137017820943\n"
     ]
    }
   ],
   "source": [
    "print('=== No Scaled data ===')\n",
    "print('=== Test size = 0.2 ===')\n",
    "print(f'MLR R2: {model.score(X, y)}')\n",
    "print(f'Lasso R2: {lasso.score(X, y)}')\n",
    "print(f'Ridge R2: {ridge.score(X, y)}')"
   ]
  },
  {
   "cell_type": "code",
   "execution_count": 120,
   "id": "d6b4cf7d-7dc9-47cb-a0ab-dac2b0c5ee7b",
   "metadata": {},
   "outputs": [
    {
     "name": "stdout",
     "output_type": "stream",
     "text": [
      "=== No Scaled data ===\n",
      "=== Test size = 0.33 ===\n",
      "MLR R2: 0.5941409465343874\n",
      "Lasso R2: 0.4657582803618161\n",
      "Ridge R2: 0.6027104625945415\n"
     ]
    }
   ],
   "source": [
    "print('=== No Scaled data ===')\n",
    "print('=== Test size = 0.33 ===')\n",
    "print(f'MLR R2: {model.score(X, y)}')\n",
    "print(f'Lasso R2: {lasso.score(X, y)}')\n",
    "print(f'Ridge R2: {ridge.score(X, y)}')"
   ]
  },
  {
   "cell_type": "code",
   "execution_count": 160,
   "id": "be9b0cdd-f18b-454e-874b-2e23dfa80564",
   "metadata": {},
   "outputs": [
    {
     "name": "stdout",
     "output_type": "stream",
     "text": [
      "=== No Scaled data ===\n",
      "=== Test size = 0.44 ===\n",
      "MLR R2: 0.577102712247221\n",
      "Lasso R2: 0.4660266863613799\n",
      "Ridge R2: 0.5888533138949572\n"
     ]
    }
   ],
   "source": [
    "print('=== No Scaled data ===')\n",
    "print('=== Test size = 0.44 ===')\n",
    "print(f'MLR R2: {model.score(X, y)}')\n",
    "print(f'Lasso R2: {lasso.score(X, y)}')\n",
    "print(f'Ridge R2: {ridge.score(X, y)}')"
   ]
  },
  {
   "cell_type": "code",
   "execution_count": 282,
   "id": "2aedfbe5-13b2-4948-a805-b5b20115a727",
   "metadata": {},
   "outputs": [
    {
     "name": "stdout",
     "output_type": "stream",
     "text": [
      "=== Standard Scaled data ===\n",
      "=== Test size = 0.2 ===\n",
      "MLR R2: 0.6434593333737193\n",
      "Lasso R2: 0.22939987882594082\n",
      "Ridge R2: 0.6436454772638673\n"
     ]
    }
   ],
   "source": [
    "print('=== Standard Scaled data ===')\n",
    "print('=== Test size = 0.2 ===')\n",
    "print(f'MLR R2: {model.score(X, y)}')\n",
    "print(f'Lasso R2: {lasso.score(X, y)}')\n",
    "print(f'Ridge R2: {ridge.score(X, y)}')"
   ]
  },
  {
   "cell_type": "code",
   "execution_count": 93,
   "id": "b20b3a31-3a65-43f8-ab08-e3bae95cb59a",
   "metadata": {},
   "outputs": [
    {
     "name": "stdout",
     "output_type": "stream",
     "text": [
      "=== Standard Scaled data ===\n",
      "MLR R2: 0.6344619555911336\n",
      "Lasso R2: 0.28142232133130074\n",
      "Ridge R2: 0.6349365361841097\n"
     ]
    }
   ],
   "source": [
    "print('=== Standard Scaled data ===')\n",
    "print('=== Test size = 0.33 ===')\n",
    "print(f'MLR R2: {model.score(X, y)}')\n",
    "print(f'Lasso R2: {lasso.score(X, y)}')\n",
    "print(f'Ridge R2: {ridge.score(X, y)}')"
   ]
  },
  {
   "cell_type": "code",
   "execution_count": 186,
   "id": "89b13be5-3c9b-482b-bee7-3bdc827457ad",
   "metadata": {},
   "outputs": [
    {
     "name": "stdout",
     "output_type": "stream",
     "text": [
      "=== Standard Scaled data ===\n",
      "=== Test size = 0.44 ===\n",
      "MLR R2: 0.6041716212168606\n",
      "Lasso R2: 0.3352215454524484\n",
      "Ridge R2: 0.6065632786294773\n"
     ]
    }
   ],
   "source": [
    "print('=== Standard Scaled data ===')\n",
    "print('=== Test size = 0.44 ===')\n",
    "print(f'MLR R2: {model.score(X, y)}')\n",
    "print(f'Lasso R2: {lasso.score(X, y)}')\n",
    "print(f'Ridge R2: {ridge.score(X, y)}')"
   ]
  },
  {
   "cell_type": "code",
   "execution_count": 308,
   "id": "39501008-b702-440c-b11e-a62850922661",
   "metadata": {
    "tags": []
   },
   "outputs": [
    {
     "name": "stdout",
     "output_type": "stream",
     "text": [
      "=== Min-Max Scaled data ===\n",
      "=== Test size = 0.2 ===\n",
      "MLR R2: 0.6041716212168607\n",
      "Lasso R2: -0.0033941520045470686\n",
      "Ridge R2: 0.633655887540103\n"
     ]
    }
   ],
   "source": [
    "print('=== Min-Max Scaled data ===')\n",
    "print('=== Test size = 0.2 ===')\n",
    "print(f'MLR R2: {model.score(X, y)}')\n",
    "print(f'Lasso R2: {lasso.score(X, y)}')\n",
    "print(f'Ridge R2: {ridge.score(X, y)}')"
   ]
  },
  {
   "cell_type": "code",
   "execution_count": 67,
   "id": "0e6e5204-248a-4bbe-833f-5e910fbdaf60",
   "metadata": {
    "tags": []
   },
   "outputs": [
    {
     "name": "stdout",
     "output_type": "stream",
     "text": [
      "=== Min-Max Scaled data ===\n",
      "MLR R2: 0.6344619555911337\n",
      "Lasso R2: -0.002325627460820767\n",
      "Ridge R2: 0.6358510383871747\n"
     ]
    }
   ],
   "source": [
    "print('=== Min-Max Scaled data ===')\n",
    "print('=== Test size = 0.33 ===')\n",
    "print(f'MLR R2: {model.score(X, y)}')\n",
    "print(f'Lasso R2: {lasso.score(X, y)}')\n",
    "print(f'Ridge R2: {ridge.score(X, y)}')"
   ]
  },
  {
   "cell_type": "code",
   "execution_count": 211,
   "id": "b633a645-fde9-4d54-a729-30a0769583fc",
   "metadata": {},
   "outputs": [
    {
     "name": "stdout",
     "output_type": "stream",
     "text": [
      "=== Min-Max Scaled data ===\n",
      "=== Test size = 0.44 ===\n",
      "MLR R2: 0.6041716212168607\n",
      "Lasso R2: -0.0033941520045470686\n",
      "Ridge R2: 0.633655887540103\n"
     ]
    }
   ],
   "source": [
    "print('=== Min-Max Scaled data ===')\n",
    "print('=== Test size = 0.44 ===')\n",
    "print(f'MLR R2: {model.score(X, y)}')\n",
    "print(f'Lasso R2: {lasso.score(X, y)}')\n",
    "print(f'Ridge R2: {ridge.score(X, y)}')"
   ]
  },
  {
   "cell_type": "markdown",
   "id": "5b25f045-cf83-409b-83b6-85f020c10798",
   "metadata": {},
   "source": [
    "# 다중공선성 확인"
   ]
  },
  {
   "cell_type": "code",
   "execution_count": 309,
   "id": "95a7ae97-a8a5-4051-b3ba-8bcf2d11a8cc",
   "metadata": {},
   "outputs": [],
   "source": [
    "from statsmodels import api\n",
    "ols = api.OLS(y, X)\n",
    "result = ols.fit()"
   ]
  },
  {
   "cell_type": "code",
   "execution_count": 310,
   "id": "785dd8dc-92cf-40af-804c-89321e8feab4",
   "metadata": {},
   "outputs": [
    {
     "name": "stdout",
     "output_type": "stream",
     "text": [
      "                                 OLS Regression Results                                \n",
      "=======================================================================================\n",
      "Dep. Variable:                 CHARGE   R-squared (uncentered):                   0.724\n",
      "Model:                            OLS   Adj. R-squared (uncentered):              0.709\n",
      "Method:                 Least Squares   F-statistic:                              48.00\n",
      "Date:                Tue, 09 Aug 2022   Prob (F-statistic):                    6.39e-46\n",
      "Time:                        10:55:48   Log-Likelihood:                          120.04\n",
      "No. Observations:                 193   AIC:                                     -220.1\n",
      "Df Residuals:                     183   BIC:                                     -187.5\n",
      "Df Model:                          10                                                  \n",
      "Covariance Type:            nonrobust                                                  \n",
      "==============================================================================\n",
      "                 coef    std err          t      P>|t|      [0.025      0.975]\n",
      "------------------------------------------------------------------------------\n",
      "TRAD           0.4889      0.080      6.117      0.000       0.331       0.647\n",
      "CONCERT        0.1234      0.087      1.418      0.158      -0.048       0.295\n",
      "OLD           -0.0457      0.051     -0.896      0.372      -0.146       0.055\n",
      "MART          -0.0655      0.080     -0.820      0.413      -0.223       0.092\n",
      "LIB            0.1249      0.073      1.707      0.090      -0.019       0.269\n",
      "ART            0.1455      0.099      1.466      0.144      -0.050       0.341\n",
      "MUS            0.0139      0.051      0.273      0.785      -0.087       0.114\n",
      "MED            0.4427      0.108      4.088      0.000       0.229       0.656\n",
      "COMM           0.1501      0.084      1.781      0.077      -0.016       0.316\n",
      "SPORT          0.2142      0.050      4.287      0.000       0.116       0.313\n",
      "==============================================================================\n",
      "Omnibus:                       54.784   Durbin-Watson:                   1.832\n",
      "Prob(Omnibus):                  0.000   Jarque-Bera (JB):              142.902\n",
      "Skew:                           1.214   Prob(JB):                     9.31e-32\n",
      "Kurtosis:                       6.446   Cond. No.                         5.65\n",
      "==============================================================================\n",
      "\n",
      "Notes:\n",
      "[1] R² is computed without centering (uncentered) since the model does not contain a constant.\n",
      "[2] Standard Errors assume that the covariance matrix of the errors is correctly specified.\n"
     ]
    }
   ],
   "source": [
    "print(result.summary())"
   ]
  },
  {
   "cell_type": "markdown",
   "id": "5738e27a-1c1c-459c-ad84-171864fd3163",
   "metadata": {},
   "source": [
    "## VIF ( Variance Inflation Factors ) 확인"
   ]
  },
  {
   "cell_type": "code",
   "execution_count": 311,
   "id": "e1dbf11a-7819-404b-9418-b5becaa99020",
   "metadata": {},
   "outputs": [],
   "source": [
    "from statsmodels.stats.outliers_influence import variance_inflation_factor"
   ]
  },
  {
   "cell_type": "code",
   "execution_count": 312,
   "id": "02cec102-8fea-46b1-870c-86393e1f972e",
   "metadata": {},
   "outputs": [],
   "source": [
    "def feature_engineering_XbyVIF(X):\n",
    "    vif = pd.DataFrame()\n",
    "    vif['VIF_Factor'] = [variance_inflation_factor(X.values, i)\n",
    "                         for i in range(X.shape[1])]\n",
    "    vif['Feature'] = X.columns\n",
    "    return vif"
   ]
  },
  {
   "cell_type": "code",
   "execution_count": 313,
   "id": "955b3493-7fd6-4022-a7d1-5bf8f271725f",
   "metadata": {},
   "outputs": [],
   "source": [
    "vif = feature_engineering_XbyVIF(X)"
   ]
  },
  {
   "cell_type": "code",
   "execution_count": 314,
   "id": "433deb23-9e76-4806-898a-f839f5053117",
   "metadata": {},
   "outputs": [
    {
     "name": "stdout",
     "output_type": "stream",
     "text": [
      "   VIF_Factor  Feature\n",
      "0    1.555524     TRAD\n",
      "1    1.701851  CONCERT\n",
      "2    1.616663      OLD\n",
      "3    1.515209     MART\n",
      "4    3.306775      LIB\n",
      "5    1.141001      ART\n",
      "6    1.167651      MUS\n",
      "7    3.346976      MED\n",
      "8    4.218906     COMM\n",
      "9    1.680447    SPORT\n"
     ]
    }
   ],
   "source": [
    "print(vif)"
   ]
  },
  {
   "cell_type": "markdown",
   "id": "5f77f9da-128e-4925-9861-ce3bb18066b5",
   "metadata": {},
   "source": [
    "# 시각화\n",
    "## 변수별 회귀계수의 분포 시각화"
   ]
  },
  {
   "cell_type": "code",
   "execution_count": 220,
   "id": "918715eb-951e-4964-af9d-698f206ad75c",
   "metadata": {},
   "outputs": [
    {
     "data": {
      "image/png": "[encoded data removed]",
      "text/plain": [
       "<Figure size 432x288 with 1 Axes>"
      ]
     },
     "metadata": {},
     "output_type": "display_data"
    }
   ],
   "source": [
    "plt.plot(model.coef_, 's', label=\"Multi-Regression\")\n",
    "plt.plot(lasso.coef_, '^', label=\"Lasso alpha=0.5\")\n",
    "plt.plot(ridge.coef_, 'v', label=\"Ridge\")\n",
    "\n",
    "plt.legend(ncol=2, loc=(0, 1.05))\n",
    "plt.xlabel(\"Features\")\n",
    "plt.ylabel(\"Coefficient\")\n",
    "\n",
    "# plt.hlines(0, 0, len(lr.coef_))\n",
    "\n",
    "plt.ylim(-0.2, 0.4)\n",
    "plt.show()"
   ]
  },
  {
   "cell_type": "markdown",
   "id": "b65b0a88-b0cd-4929-9a0d-91b82e0c8931",
   "metadata": {},
   "source": [
    "## 모델별 잔차 시각화"
   ]
  },
  {
   "cell_type": "code",
   "execution_count": 222,
   "id": "e46f077a-0968-4d36-8678-65238ed09569",
   "metadata": {
    "tags": []
   },
   "outputs": [
    {
     "data": {
      "image/png": "[encoded data removed]",
      "text/plain": [
       "<Figure size 432x288 with 3 Axes>"
      ]
     },
     "metadata": {},
     "output_type": "display_data"
    }
   ],
   "source": [
    "xx = range(85)\n",
    "plt.subplot(1, 3, 1)\n",
    "plt.plot(xx, residual, label='Multi-Regression_residual')\n",
    "plt.xlabel('Multi-Regression')\n",
    "plt.ylabel('Variance')\n",
    "\n",
    "plt.subplot(1, 3, 2)\n",
    "plt.plot(xx, lasso_residual, label='lasso_residual')\n",
    "plt.xlabel('Lasso')\n",
    "plt.ylabel('Variance')\n",
    "\n",
    "plt.subplot(1, 3, 3)\n",
    "plt.plot(xx, ridge_residual, label='ridge_residual')\n",
    "plt.xlabel('Ridge')\n",
    "plt.ylabel('Variance')\n",
    "\n",
    "plt.subplots_adjust(wspace=0.5, right=2)\n",
    "plt.show()"
   ]
  },
  {
   "cell_type": "markdown",
   "id": "ec168765-dee7-43ad-a6d4-ca0ea124cc86",
   "metadata": {
    "tags": []
   },
   "source": [
    "# 오버샘플링\n",
    "## imblearn.over_sampling"
   ]
  },
  {
   "cell_type": "code",
   "execution_count": 34,
   "id": "772f65bb-f0b6-4bc2-9ec8-a439a07b7574",
   "metadata": {},
   "outputs": [],
   "source": [
    "from imblearn.over_sampling import SMOTE, ADASYN, RandomOverSampler"
   ]
  },
  {
   "cell_type": "code",
   "execution_count": 95,
   "id": "0087707b-57f0-4338-82d8-c969a7e0f484",
   "metadata": {},
   "outputs": [],
   "source": [
    "# SMOTE\n",
    "X_train, y_train = SMOTE(random_state=42).fit_resample(X_train, y_train)"
   ]
  },
  {
   "cell_type": "code",
   "execution_count": 95,
   "id": "47544409-4ab5-4ed5-ad1f-846378b306b2",
   "metadata": {},
   "outputs": [],
   "source": [
    "# ADASYN\n",
    "X_train, y_train = ADASYN(random_state=42).fit_resample(X_train, y_train)"
   ]
  },
  {
   "cell_type": "code",
   "execution_count": 84,
   "id": "0f3a2e01-e555-4e77-986a-0ddede8ac6d2",
   "metadata": {},
   "outputs": [],
   "source": [
    "# 랜덤 오버 샘플링\n",
    "X_train, y_train = RandomOverSampler(random_state=42).fit_resample(X_train, y_train)"
   ]
  },
  {
   "cell_type": "markdown",
   "id": "5be947e7-51c8-4f85-b996-99c1a1932625",
   "metadata": {
    "tags": []
   },
   "source": [
    "## 선형회귀의 추정치로 데이터 생성"
   ]
  },
  {
   "cell_type": "code",
   "execution_count": 454,
   "id": "db0b6318-1e5e-4108-bfc7-d0b78c722eca",
   "metadata": {},
   "outputs": [],
   "source": [
    "over_list = pd.DataFrame()"
   ]
  },
  {
   "cell_type": "code",
   "execution_count": 455,
   "id": "1de718ba-6c81-4683-8cfe-1c4af7b2e60d",
   "metadata": {
    "tags": []
   },
   "outputs": [],
   "source": [
    "over_data = data.iloc[:, :]"
   ]
  },
  {
   "cell_type": "code",
   "execution_count": 456,
   "id": "b0cba928-55f3-4126-b6a0-84b4795fd23e",
   "metadata": {},
   "outputs": [
    {
     "data": {
      "text/plain": [
       "array(['TRAD', 'CONCERT', 'OLD', 'MART', 'LIB', 'ART', 'MUS', 'MED',\n",
       "       'COMM', 'SPORT', 'CHARGE'], dtype=object)"
      ]
     },
     "execution_count": 456,
     "metadata": {},
     "output_type": "execute_result"
    }
   ],
   "source": [
    "over_data.columns.values"
   ]
  },
  {
   "cell_type": "code",
   "execution_count": 457,
   "id": "051c3a4a-ebcd-404c-a2cf-73dddd839e68",
   "metadata": {},
   "outputs": [],
   "source": [
    "model = LinearRegression()"
   ]
  },
  {
   "cell_type": "code",
   "execution_count": 458,
   "id": "9b5fbeaf-aa5f-4912-8d00-a9a49efd3905",
   "metadata": {
    "tags": []
   },
   "outputs": [],
   "source": [
    "# 독립변수를 종속변수 삼아 값 추정\n",
    "for i in range(len(over_data.columns.values)):\n",
    "    over_y = over_data.loc[:, f'{over_data.columns.values[i]}']\n",
    "    over_X = over_data[over_data.columns.difference([f'{over_data.columns.values[i]}'])]\n",
    "\n",
    "    over_X_train, over_X_test, over_y_train, over_y_test = train_test_split(over_X, over_y, random_state=11, test_size=0.33)\n",
    "\n",
    "    model.fit(over_X_train, over_y_train)\n",
    "\n",
    "    y_pred = model.predict(over_X_test)\n",
    "\n",
    "    over_list[f'{over_data.columns.values[i]}'] = pd.DataFrame(y_pred)"
   ]
  },
  {
   "cell_type": "code",
   "execution_count": 459,
   "id": "8a6de1d0-d3f7-4a6c-aace-98d5e51be38e",
   "metadata": {},
   "outputs": [
    {
     "name": "stdout",
     "output_type": "stream",
     "text": [
      "<class 'pandas.core.frame.DataFrame'>\n",
      "RangeIndex: 64 entries, 0 to 63\n",
      "Data columns (total 11 columns):\n",
      " #   Column   Non-Null Count  Dtype  \n",
      "---  ------   --------------  -----  \n",
      " 0   TRAD     64 non-null     float64\n",
      " 1   CONCERT  64 non-null     float64\n",
      " 2   OLD      64 non-null     float64\n",
      " 3   MART     64 non-null     float64\n",
      " 4   LIB      64 non-null     float64\n",
      " 5   ART      64 non-null     float64\n",
      " 6   MUS      64 non-null     float64\n",
      " 7   MED      64 non-null     float64\n",
      " 8   COMM     64 non-null     float64\n",
      " 9   SPORT    64 non-null     float64\n",
      " 10  CHARGE   64 non-null     float64\n",
      "dtypes: float64(11)\n",
      "memory usage: 5.6 KB\n"
     ]
    }
   ],
   "source": [
    "over_list.info()"
   ]
  },
  {
   "cell_type": "code",
   "execution_count": 460,
   "id": "aa1c977d-b0cc-4133-852f-810e09b9d2dc",
   "metadata": {},
   "outputs": [],
   "source": [
    "over_X_result = over_list.iloc[:, :-1]\n",
    "over_y_result = over_list.iloc[:, -1]\n",
    "\n",
    "# 오버샘플링 결과 df 생성\n",
    "merged_X = pd.concat([X, over_X_result], axis=0)\n",
    "merged_y = pd.concat([y, over_y_result], axis=0)"
   ]
  },
  {
   "cell_type": "code",
   "execution_count": 210,
   "id": "c72e69bb-8da9-4f4b-9d6d-7efd269f64c1",
   "metadata": {
    "jupyter": {
     "source_hidden": true
    },
    "tags": []
   },
   "outputs": [],
   "source": [
    "X_train = merged_X\n",
    "y_train = merged_y"
   ]
  },
  {
   "cell_type": "code",
   "execution_count": 465,
   "id": "3f620661-e88a-4a77-9139-4310d0ee0b07",
   "metadata": {},
   "outputs": [],
   "source": [
    "X_train, X_test, y_train, y_test = train_test_split(merged_X, merged_y, test_size=0.33, random_state=42)"
   ]
  },
  {
   "cell_type": "code",
   "execution_count": 16,
   "id": "76ffc51b-7b95-4a81-ad8b-f2be77b3e046",
   "metadata": {},
   "outputs": [
    {
     "name": "stdout",
     "output_type": "stream",
     "text": [
      "훈련 데이터에 대한 정확도 : 0.6722062547571479\n",
      "테스트 데이터에 대한 정확도 : 0.3657553044530649\n",
      "회귀모델의 결정계수 : 0.5385313956817235\n",
      "회귀모델의 잔차 평균 : 0.21195228850202788\n"
     ]
    }
   ],
   "source": [
    "re_model = LinearRegression()\n",
    "re_model.fit(X_train, y_train)\n",
    "pred = re_model.predict(X_test)\n",
    "residual = y_test - pred\n",
    "print(f'훈련 데이터에 대한 정확도 : {re_model.score(X_train, y_train)}')\n",
    "print(f'테스트 데이터에 대한 정확도 : {re_model.score(X_test, y_test)}')\n",
    "print(f'회귀모델의 결정계수 : {re_model.score(merged_X, merged_y)}')\n",
    "print(f'회귀모델의 잔차 평균 : {np.mean(residual)}')"
   ]
  },
  {
   "cell_type": "code",
   "execution_count": 17,
   "id": "b0c51399-3d4a-4d9e-9523-09bc9eb97603",
   "metadata": {},
   "outputs": [
    {
     "name": "stdout",
     "output_type": "stream",
     "text": [
      "X_train의 shape : (172, 10)\n",
      "X_test의 shape : (85, 10)\n"
     ]
    }
   ],
   "source": [
    "print(f'X_train의 shape : {X_train.shape}')\n",
    "print(f'X_test의 shape : {X_test.shape}')"
   ]
  },
  {
   "cell_type": "markdown",
   "id": "6be27d96-3b2b-41d6-9c76-ca950091eeed",
   "metadata": {},
   "source": [
    "# test <-> pred 비교 시각화"
   ]
  },
  {
   "cell_type": "code",
   "execution_count": 18,
   "id": "9fd634a0-3893-468c-855b-a6fee52df58f",
   "metadata": {},
   "outputs": [],
   "source": [
    "# os 에 따른 Font 깨짐 제거를 위해 Font 지정\n",
    "import os\n",
    "if os.name == 'nt' :\n",
    "    font_family = \"Malgun Gothic\"\n",
    "else :\n",
    "    font_family = \"Apple Gothic\"\n",
    "    \n",
    "\n",
    "# -값이 깨지는 문제 해결을 위해 파라미터값 설정\n",
    "sns.set(font = font_family, rc = {\"axes.unicode_minus\" : False})"
   ]
  },
  {
   "cell_type": "code",
   "execution_count": 226,
   "id": "46f57dd8-6141-4133-948a-af342cbc8589",
   "metadata": {},
   "outputs": [],
   "source": [
    "y_compare = {'y_test' : y_test, 'y_predicted' : ridge_pred}"
   ]
  },
  {
   "cell_type": "code",
   "execution_count": 227,
   "id": "5f36ec01-1d4c-4b6f-88ad-6ba753e216c1",
   "metadata": {},
   "outputs": [],
   "source": [
    "y_compare = pd.DataFrame(y_compare)"
   ]
  },
  {
   "cell_type": "code",
   "execution_count": 326,
   "id": "a7377460-6f59-4d74-801a-9402ac893577",
   "metadata": {},
   "outputs": [
    {
     "ename": "TypeError",
     "evalue": "no numeric data to plot",
     "output_type": "error",
     "traceback": [
      "\u001b[1;31m---------------------------------------------------------------------------\u001b[0m",
      "\u001b[1;31mTypeError\u001b[0m                                 Traceback (most recent call last)",
      "Input \u001b[1;32mIn [326]\u001b[0m, in \u001b[0;36m<cell line: 1>\u001b[1;34m()\u001b[0m\n\u001b[1;32m----> 1\u001b[0m ax \u001b[38;5;241m=\u001b[39m \u001b[43my_compare\u001b[49m\u001b[38;5;241;43m.\u001b[39;49m\u001b[43mtail\u001b[49m\u001b[43m(\u001b[49m\u001b[38;5;241;43m30\u001b[39;49m\u001b[43m)\u001b[49m\u001b[38;5;241;43m.\u001b[39;49m\u001b[43mplot\u001b[49m\u001b[43m(\u001b[49m\u001b[43mkind\u001b[49m\u001b[43m \u001b[49m\u001b[38;5;241;43m=\u001b[39;49m\u001b[43m \u001b[49m\u001b[38;5;124;43m'\u001b[39;49m\u001b[38;5;124;43mbar\u001b[39;49m\u001b[38;5;124;43m'\u001b[39;49m\u001b[43m,\u001b[49m\u001b[43m \u001b[49m\u001b[43mtitle\u001b[49m\u001b[43m \u001b[49m\u001b[38;5;241;43m=\u001b[39;49m\u001b[43m \u001b[49m\u001b[38;5;124;43m'\u001b[39;49m\u001b[38;5;124;43m생활 인프라 기반 충전소 수요 예측\u001b[39;49m\u001b[38;5;124;43m'\u001b[39;49m\u001b[43m,\u001b[49m\u001b[43m \u001b[49m\n\u001b[0;32m      2\u001b[0m \u001b[43m                   \u001b[49m\u001b[43mfigsize\u001b[49m\u001b[43m \u001b[49m\u001b[38;5;241;43m=\u001b[39;49m\u001b[43m \u001b[49m\u001b[43m(\u001b[49m\u001b[38;5;241;43m14\u001b[39;49m\u001b[43m,\u001b[49m\u001b[43m \u001b[49m\u001b[38;5;241;43m5\u001b[39;49m\u001b[43m)\u001b[49m\u001b[43m,\u001b[49m\u001b[43m \u001b[49m\u001b[43mlegend\u001b[49m\u001b[43m \u001b[49m\u001b[38;5;241;43m=\u001b[39;49m\u001b[43m \u001b[49m\u001b[38;5;28;43;01mTrue\u001b[39;49;00m\u001b[43m,\u001b[49m\u001b[43m \u001b[49m\u001b[43mfontsize\u001b[49m\u001b[43m \u001b[49m\u001b[38;5;241;43m=\u001b[39;49m\u001b[43m \u001b[49m\u001b[38;5;241;43m10\u001b[39;49m\u001b[43m)\u001b[49m\n\u001b[0;32m      3\u001b[0m ax\u001b[38;5;241m.\u001b[39mset_xlabel(\u001b[38;5;124m'\u001b[39m\u001b[38;5;124m법정동\u001b[39m\u001b[38;5;124m'\u001b[39m, fontsize \u001b[38;5;241m=\u001b[39m \u001b[38;5;241m12\u001b[39m)\n\u001b[0;32m      4\u001b[0m ax\u001b[38;5;241m.\u001b[39mset_ylabel(\u001b[38;5;124m'\u001b[39m\u001b[38;5;124m테스트 값 / 예측 값\u001b[39m\u001b[38;5;124m'\u001b[39m, fontsize \u001b[38;5;241m=\u001b[39m \u001b[38;5;241m12\u001b[39m)\n",
      "File \u001b[1;32m~\\anaconda3\\lib\\site-packages\\pandas\\plotting\\_core.py:972\u001b[0m, in \u001b[0;36mPlotAccessor.__call__\u001b[1;34m(self, *args, **kwargs)\u001b[0m\n\u001b[0;32m    969\u001b[0m             label_name \u001b[38;5;241m=\u001b[39m label_kw \u001b[38;5;129;01mor\u001b[39;00m data\u001b[38;5;241m.\u001b[39mcolumns\n\u001b[0;32m    970\u001b[0m             data\u001b[38;5;241m.\u001b[39mcolumns \u001b[38;5;241m=\u001b[39m label_name\n\u001b[1;32m--> 972\u001b[0m \u001b[38;5;28;01mreturn\u001b[39;00m plot_backend\u001b[38;5;241m.\u001b[39mplot(data, kind\u001b[38;5;241m=\u001b[39mkind, \u001b[38;5;241m*\u001b[39m\u001b[38;5;241m*\u001b[39mkwargs)\n",
      "File \u001b[1;32m~\\anaconda3\\lib\\site-packages\\pandas\\plotting\\_matplotlib\\__init__.py:71\u001b[0m, in \u001b[0;36mplot\u001b[1;34m(data, kind, **kwargs)\u001b[0m\n\u001b[0;32m     69\u001b[0m         kwargs[\u001b[38;5;124m\"\u001b[39m\u001b[38;5;124max\u001b[39m\u001b[38;5;124m\"\u001b[39m] \u001b[38;5;241m=\u001b[39m \u001b[38;5;28mgetattr\u001b[39m(ax, \u001b[38;5;124m\"\u001b[39m\u001b[38;5;124mleft_ax\u001b[39m\u001b[38;5;124m\"\u001b[39m, ax)\n\u001b[0;32m     70\u001b[0m plot_obj \u001b[38;5;241m=\u001b[39m PLOT_CLASSES[kind](data, \u001b[38;5;241m*\u001b[39m\u001b[38;5;241m*\u001b[39mkwargs)\n\u001b[1;32m---> 71\u001b[0m \u001b[43mplot_obj\u001b[49m\u001b[38;5;241;43m.\u001b[39;49m\u001b[43mgenerate\u001b[49m\u001b[43m(\u001b[49m\u001b[43m)\u001b[49m\n\u001b[0;32m     72\u001b[0m plot_obj\u001b[38;5;241m.\u001b[39mdraw()\n\u001b[0;32m     73\u001b[0m \u001b[38;5;28;01mreturn\u001b[39;00m plot_obj\u001b[38;5;241m.\u001b[39mresult\n",
      "File \u001b[1;32m~\\anaconda3\\lib\\site-packages\\pandas\\plotting\\_matplotlib\\core.py:327\u001b[0m, in \u001b[0;36mMPLPlot.generate\u001b[1;34m(self)\u001b[0m\n\u001b[0;32m    325\u001b[0m \u001b[38;5;28;01mdef\u001b[39;00m \u001b[38;5;21mgenerate\u001b[39m(\u001b[38;5;28mself\u001b[39m):\n\u001b[0;32m    326\u001b[0m     \u001b[38;5;28mself\u001b[39m\u001b[38;5;241m.\u001b[39m_args_adjust()\n\u001b[1;32m--> 327\u001b[0m     \u001b[38;5;28;43mself\u001b[39;49m\u001b[38;5;241;43m.\u001b[39;49m\u001b[43m_compute_plot_data\u001b[49m\u001b[43m(\u001b[49m\u001b[43m)\u001b[49m\n\u001b[0;32m    328\u001b[0m     \u001b[38;5;28mself\u001b[39m\u001b[38;5;241m.\u001b[39m_setup_subplots()\n\u001b[0;32m    329\u001b[0m     \u001b[38;5;28mself\u001b[39m\u001b[38;5;241m.\u001b[39m_make_plot()\n",
      "File \u001b[1;32m~\\anaconda3\\lib\\site-packages\\pandas\\plotting\\_matplotlib\\core.py:506\u001b[0m, in \u001b[0;36mMPLPlot._compute_plot_data\u001b[1;34m(self)\u001b[0m\n\u001b[0;32m    504\u001b[0m \u001b[38;5;66;03m# no non-numeric frames or series allowed\u001b[39;00m\n\u001b[0;32m    505\u001b[0m \u001b[38;5;28;01mif\u001b[39;00m is_empty:\n\u001b[1;32m--> 506\u001b[0m     \u001b[38;5;28;01mraise\u001b[39;00m \u001b[38;5;167;01mTypeError\u001b[39;00m(\u001b[38;5;124m\"\u001b[39m\u001b[38;5;124mno numeric data to plot\u001b[39m\u001b[38;5;124m\"\u001b[39m)\n\u001b[0;32m    508\u001b[0m \u001b[38;5;28mself\u001b[39m\u001b[38;5;241m.\u001b[39mdata \u001b[38;5;241m=\u001b[39m numeric_data\u001b[38;5;241m.\u001b[39mapply(\u001b[38;5;28mself\u001b[39m\u001b[38;5;241m.\u001b[39m_convert_to_ndarray)\n",
      "\u001b[1;31mTypeError\u001b[0m: no numeric data to plot"
     ]
    }
   ],
   "source": [
    "ax = y_compare.tail(30).plot(kind = 'bar', title = '생활 인프라 기반 충전소 수요 예측', \n",
    "                   figsize = (14, 5), legend = True, fontsize = 10)\n",
    "ax.set_xlabel('법정동', fontsize = 12)\n",
    "ax.set_ylabel('테스트 값 / 예측 값', fontsize = 12)\n",
    "ax.legend(['y_test', 'y_predicted'], fontsize = 12)"
   ]
  },
  {
   "cell_type": "code",
   "execution_count": null,
   "id": "ab9bbc30-85e5-47e6-a4ee-a2bfbb417a76",
   "metadata": {},
   "outputs": [],
   "source": []
  }
 ],
 "metadata": {
  "kernelspec": {
   "display_name": "Python 3 (ipykernel)",
   "language": "python",
   "name": "python3"
  },
  "language_info": {
   "codemirror_mode": {
    "name": "ipython",
    "version": 3
   },
   "file_extension": ".py",
   "mimetype": "text/x-python",
   "name": "python",
   "nbconvert_exporter": "python",
   "pygments_lexer": "ipython3",
   "version": "3.9.12"
  },
  "toc-autonumbering": true
 },
 "nbformat": 4,
 "nbformat_minor": 5
}
