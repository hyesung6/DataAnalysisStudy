{
 "cells": [
  {
   "cell_type": "markdown",
   "id": "5b8fd74a-d36f-4f17-8b64-94a9107c1662",
   "metadata": {
    "tags": []
   },
   "source": [
    "# 준비"
   ]
  },
  {
   "cell_type": "code",
   "execution_count": 1,
   "id": "31f5f3b8-9756-4bfb-bab2-8812c1597ce9",
   "metadata": {},
   "outputs": [],
   "source": [
    "# 필요 library import \n",
    "import pandas as pd\n",
    "import numpy as np\n",
    "import seaborn as sns\n",
    "import matplotlib.pyplot as plt\n",
    "from sklearn.linear_model import Lasso, Ridge, ElasticNet, LinearRegression\n",
    "from sklearn import linear_model\n",
    "from sklearn.model_selection import train_test_split\n",
    "from sklearn.metrics import mean_squared_error\n",
    "from math import sqrt\n",
    "\n",
    "# 패키지 임포트\n",
    "import os\n",
    "import warnings\n",
    "\n",
    "# FutureWarning 제거\n",
    "warnings.simplefilter(action='ignore', category = FutureWarning)\n",
    "\n",
    "# os 에 따른 Font 깨짐 제거를 위해 Font 지정\n",
    "import os\n",
    "if os.name == 'nt' :\n",
    "    font_family = \"Malgun Gothic\"\n",
    "else :\n",
    "    font_family = \"Apple Gothic\"\n",
    "    \n",
    "\n",
    "# -값이 깨지는 문제 해결을 위해 파라미터값 설정\n",
    "sns.set(font = font_family, rc = {\"axes.unicode_minus\" : False})"
   ]
  },
  {
   "cell_type": "code",
   "execution_count": 22,
   "id": "1f05d4e4-a874-4959-8b44-5aaaab5dbf4d",
   "metadata": {},
   "outputs": [],
   "source": [
    "data = pd.read_csv('total_dataset.csv', encoding='euc-kr', index_col=['EMD_NM'])"
   ]
  },
  {
   "cell_type": "markdown",
   "id": "78e56f36-e745-47f8-98a2-4038f3e25901",
   "metadata": {},
   "source": [
    "# 데이터 확인"
   ]
  },
  {
   "cell_type": "code",
   "execution_count": 3,
   "id": "92f65b22-5b29-4b42-afbb-60563e8e1784",
   "metadata": {
    "tags": []
   },
   "outputs": [
    {
     "data": {
      "text/html": [
       "<div>\n",
       "<style scoped>\n",
       "    .dataframe tbody tr th:only-of-type {\n",
       "        vertical-align: middle;\n",
       "    }\n",
       "\n",
       "    .dataframe tbody tr th {\n",
       "        vertical-align: top;\n",
       "    }\n",
       "\n",
       "    .dataframe thead th {\n",
       "        text-align: right;\n",
       "    }\n",
       "</style>\n",
       "<table border=\"1\" class=\"dataframe\">\n",
       "  <thead>\n",
       "    <tr style=\"text-align: right;\">\n",
       "      <th></th>\n",
       "      <th>TRAD</th>\n",
       "      <th>CONCERT</th>\n",
       "      <th>OLD</th>\n",
       "      <th>MART</th>\n",
       "      <th>LIB</th>\n",
       "      <th>ART</th>\n",
       "      <th>MUS</th>\n",
       "      <th>MED</th>\n",
       "      <th>COMM</th>\n",
       "      <th>SPORT</th>\n",
       "      <th>OWN</th>\n",
       "      <th>JOB</th>\n",
       "      <th>CARROT</th>\n",
       "      <th>CHARGE</th>\n",
       "    </tr>\n",
       "    <tr>\n",
       "      <th>EMD_NM</th>\n",
       "      <th></th>\n",
       "      <th></th>\n",
       "      <th></th>\n",
       "      <th></th>\n",
       "      <th></th>\n",
       "      <th></th>\n",
       "      <th></th>\n",
       "      <th></th>\n",
       "      <th></th>\n",
       "      <th></th>\n",
       "      <th></th>\n",
       "      <th></th>\n",
       "      <th></th>\n",
       "      <th></th>\n",
       "    </tr>\n",
       "  </thead>\n",
       "  <tbody>\n",
       "    <tr>\n",
       "      <th>연제동</th>\n",
       "      <td>0</td>\n",
       "      <td>0</td>\n",
       "      <td>0</td>\n",
       "      <td>0</td>\n",
       "      <td>3</td>\n",
       "      <td>0</td>\n",
       "      <td>0</td>\n",
       "      <td>0</td>\n",
       "      <td>0</td>\n",
       "      <td>3</td>\n",
       "      <td>0</td>\n",
       "      <td>0</td>\n",
       "      <td>2</td>\n",
       "      <td>0</td>\n",
       "    </tr>\n",
       "    <tr>\n",
       "      <th>운암동</th>\n",
       "      <td>1</td>\n",
       "      <td>2</td>\n",
       "      <td>1</td>\n",
       "      <td>0</td>\n",
       "      <td>13</td>\n",
       "      <td>1</td>\n",
       "      <td>0</td>\n",
       "      <td>13</td>\n",
       "      <td>3</td>\n",
       "      <td>3</td>\n",
       "      <td>6</td>\n",
       "      <td>135</td>\n",
       "      <td>3</td>\n",
       "      <td>3</td>\n",
       "    </tr>\n",
       "    <tr>\n",
       "      <th>덕림동</th>\n",
       "      <td>0</td>\n",
       "      <td>0</td>\n",
       "      <td>1</td>\n",
       "      <td>0</td>\n",
       "      <td>0</td>\n",
       "      <td>0</td>\n",
       "      <td>0</td>\n",
       "      <td>0</td>\n",
       "      <td>0</td>\n",
       "      <td>1</td>\n",
       "      <td>0</td>\n",
       "      <td>0</td>\n",
       "      <td>0</td>\n",
       "      <td>1</td>\n",
       "    </tr>\n",
       "    <tr>\n",
       "      <th>삼거동</th>\n",
       "      <td>0</td>\n",
       "      <td>0</td>\n",
       "      <td>3</td>\n",
       "      <td>0</td>\n",
       "      <td>0</td>\n",
       "      <td>0</td>\n",
       "      <td>0</td>\n",
       "      <td>3</td>\n",
       "      <td>0</td>\n",
       "      <td>1</td>\n",
       "      <td>0</td>\n",
       "      <td>0</td>\n",
       "      <td>0</td>\n",
       "      <td>0</td>\n",
       "    </tr>\n",
       "    <tr>\n",
       "      <th>북구_동림동</th>\n",
       "      <td>0</td>\n",
       "      <td>0</td>\n",
       "      <td>1</td>\n",
       "      <td>0</td>\n",
       "      <td>6</td>\n",
       "      <td>0</td>\n",
       "      <td>0</td>\n",
       "      <td>3</td>\n",
       "      <td>1</td>\n",
       "      <td>6</td>\n",
       "      <td>6</td>\n",
       "      <td>27</td>\n",
       "      <td>2</td>\n",
       "      <td>3</td>\n",
       "    </tr>\n",
       "    <tr>\n",
       "      <th>...</th>\n",
       "      <td>...</td>\n",
       "      <td>...</td>\n",
       "      <td>...</td>\n",
       "      <td>...</td>\n",
       "      <td>...</td>\n",
       "      <td>...</td>\n",
       "      <td>...</td>\n",
       "      <td>...</td>\n",
       "      <td>...</td>\n",
       "      <td>...</td>\n",
       "      <td>...</td>\n",
       "      <td>...</td>\n",
       "      <td>...</td>\n",
       "      <td>...</td>\n",
       "    </tr>\n",
       "    <tr>\n",
       "      <th>쌍촌동</th>\n",
       "      <td>0</td>\n",
       "      <td>3</td>\n",
       "      <td>1</td>\n",
       "      <td>0</td>\n",
       "      <td>14</td>\n",
       "      <td>0</td>\n",
       "      <td>0</td>\n",
       "      <td>8</td>\n",
       "      <td>2</td>\n",
       "      <td>10</td>\n",
       "      <td>41</td>\n",
       "      <td>256</td>\n",
       "      <td>3</td>\n",
       "      <td>5</td>\n",
       "    </tr>\n",
       "    <tr>\n",
       "      <th>내방동</th>\n",
       "      <td>0</td>\n",
       "      <td>0</td>\n",
       "      <td>0</td>\n",
       "      <td>0</td>\n",
       "      <td>1</td>\n",
       "      <td>0</td>\n",
       "      <td>0</td>\n",
       "      <td>0</td>\n",
       "      <td>0</td>\n",
       "      <td>1</td>\n",
       "      <td>0</td>\n",
       "      <td>0</td>\n",
       "      <td>0</td>\n",
       "      <td>1</td>\n",
       "    </tr>\n",
       "    <tr>\n",
       "      <th>덕흥동</th>\n",
       "      <td>0</td>\n",
       "      <td>0</td>\n",
       "      <td>1</td>\n",
       "      <td>0</td>\n",
       "      <td>0</td>\n",
       "      <td>0</td>\n",
       "      <td>0</td>\n",
       "      <td>0</td>\n",
       "      <td>0</td>\n",
       "      <td>5</td>\n",
       "      <td>0</td>\n",
       "      <td>0</td>\n",
       "      <td>0</td>\n",
       "      <td>0</td>\n",
       "    </tr>\n",
       "    <tr>\n",
       "      <th>대의동</th>\n",
       "      <td>0</td>\n",
       "      <td>0</td>\n",
       "      <td>0</td>\n",
       "      <td>0</td>\n",
       "      <td>0</td>\n",
       "      <td>1</td>\n",
       "      <td>1</td>\n",
       "      <td>0</td>\n",
       "      <td>0</td>\n",
       "      <td>0</td>\n",
       "      <td>0</td>\n",
       "      <td>0</td>\n",
       "      <td>0</td>\n",
       "      <td>0</td>\n",
       "    </tr>\n",
       "    <tr>\n",
       "      <th>충장동</th>\n",
       "      <td>0</td>\n",
       "      <td>0</td>\n",
       "      <td>0</td>\n",
       "      <td>2</td>\n",
       "      <td>4</td>\n",
       "      <td>1</td>\n",
       "      <td>0</td>\n",
       "      <td>0</td>\n",
       "      <td>1</td>\n",
       "      <td>0</td>\n",
       "      <td>1</td>\n",
       "      <td>213</td>\n",
       "      <td>0</td>\n",
       "      <td>3</td>\n",
       "    </tr>\n",
       "  </tbody>\n",
       "</table>\n",
       "<p>193 rows × 14 columns</p>\n",
       "</div>"
      ],
      "text/plain": [
       "        TRAD  CONCERT  OLD  MART  LIB  ART  MUS  MED  COMM  SPORT  OWN  JOB  \\\n",
       "EMD_NM                                                                        \n",
       "연제동        0        0    0     0    3    0    0    0     0      3    0    0   \n",
       "운암동        1        2    1     0   13    1    0   13     3      3    6  135   \n",
       "덕림동        0        0    1     0    0    0    0    0     0      1    0    0   \n",
       "삼거동        0        0    3     0    0    0    0    3     0      1    0    0   \n",
       "북구_동림동     0        0    1     0    6    0    0    3     1      6    6   27   \n",
       "...      ...      ...  ...   ...  ...  ...  ...  ...   ...    ...  ...  ...   \n",
       "쌍촌동        0        3    1     0   14    0    0    8     2     10   41  256   \n",
       "내방동        0        0    0     0    1    0    0    0     0      1    0    0   \n",
       "덕흥동        0        0    1     0    0    0    0    0     0      5    0    0   \n",
       "대의동        0        0    0     0    0    1    1    0     0      0    0    0   \n",
       "충장동        0        0    0     2    4    1    0    0     1      0    1  213   \n",
       "\n",
       "        CARROT  CHARGE  \n",
       "EMD_NM                  \n",
       "연제동          2       0  \n",
       "운암동          3       3  \n",
       "덕림동          0       1  \n",
       "삼거동          0       0  \n",
       "북구_동림동       2       3  \n",
       "...        ...     ...  \n",
       "쌍촌동          3       5  \n",
       "내방동          0       1  \n",
       "덕흥동          0       0  \n",
       "대의동          0       0  \n",
       "충장동          0       3  \n",
       "\n",
       "[193 rows x 14 columns]"
      ]
     },
     "execution_count": 3,
     "metadata": {},
     "output_type": "execute_result"
    }
   ],
   "source": [
    "data"
   ]
  },
  {
   "cell_type": "code",
   "execution_count": 4,
   "id": "ca48110a-1fed-4cf3-a2e5-c5007a6376f4",
   "metadata": {
    "tags": []
   },
   "outputs": [
    {
     "data": {
      "text/html": [
       "<div>\n",
       "<style scoped>\n",
       "    .dataframe tbody tr th:only-of-type {\n",
       "        vertical-align: middle;\n",
       "    }\n",
       "\n",
       "    .dataframe tbody tr th {\n",
       "        vertical-align: top;\n",
       "    }\n",
       "\n",
       "    .dataframe thead th {\n",
       "        text-align: right;\n",
       "    }\n",
       "</style>\n",
       "<table border=\"1\" class=\"dataframe\">\n",
       "  <thead>\n",
       "    <tr style=\"text-align: right;\">\n",
       "      <th></th>\n",
       "      <th>TRAD</th>\n",
       "      <th>CONCERT</th>\n",
       "      <th>OLD</th>\n",
       "      <th>MART</th>\n",
       "      <th>LIB</th>\n",
       "      <th>ART</th>\n",
       "      <th>MUS</th>\n",
       "      <th>MED</th>\n",
       "      <th>COMM</th>\n",
       "      <th>SPORT</th>\n",
       "      <th>OWN</th>\n",
       "      <th>JOB</th>\n",
       "      <th>CARROT</th>\n",
       "      <th>CHARGE</th>\n",
       "    </tr>\n",
       "    <tr>\n",
       "      <th>EMD_NM</th>\n",
       "      <th></th>\n",
       "      <th></th>\n",
       "      <th></th>\n",
       "      <th></th>\n",
       "      <th></th>\n",
       "      <th></th>\n",
       "      <th></th>\n",
       "      <th></th>\n",
       "      <th></th>\n",
       "      <th></th>\n",
       "      <th></th>\n",
       "      <th></th>\n",
       "      <th></th>\n",
       "      <th></th>\n",
       "    </tr>\n",
       "  </thead>\n",
       "  <tbody>\n",
       "    <tr>\n",
       "      <th>연제동</th>\n",
       "      <td>0</td>\n",
       "      <td>0</td>\n",
       "      <td>0</td>\n",
       "      <td>0</td>\n",
       "      <td>3</td>\n",
       "      <td>0</td>\n",
       "      <td>0</td>\n",
       "      <td>0</td>\n",
       "      <td>0</td>\n",
       "      <td>3</td>\n",
       "      <td>0</td>\n",
       "      <td>0</td>\n",
       "      <td>2</td>\n",
       "      <td>0</td>\n",
       "    </tr>\n",
       "    <tr>\n",
       "      <th>운암동</th>\n",
       "      <td>1</td>\n",
       "      <td>2</td>\n",
       "      <td>1</td>\n",
       "      <td>0</td>\n",
       "      <td>13</td>\n",
       "      <td>1</td>\n",
       "      <td>0</td>\n",
       "      <td>13</td>\n",
       "      <td>3</td>\n",
       "      <td>3</td>\n",
       "      <td>6</td>\n",
       "      <td>135</td>\n",
       "      <td>3</td>\n",
       "      <td>3</td>\n",
       "    </tr>\n",
       "    <tr>\n",
       "      <th>덕림동</th>\n",
       "      <td>0</td>\n",
       "      <td>0</td>\n",
       "      <td>1</td>\n",
       "      <td>0</td>\n",
       "      <td>0</td>\n",
       "      <td>0</td>\n",
       "      <td>0</td>\n",
       "      <td>0</td>\n",
       "      <td>0</td>\n",
       "      <td>1</td>\n",
       "      <td>0</td>\n",
       "      <td>0</td>\n",
       "      <td>0</td>\n",
       "      <td>1</td>\n",
       "    </tr>\n",
       "    <tr>\n",
       "      <th>삼거동</th>\n",
       "      <td>0</td>\n",
       "      <td>0</td>\n",
       "      <td>3</td>\n",
       "      <td>0</td>\n",
       "      <td>0</td>\n",
       "      <td>0</td>\n",
       "      <td>0</td>\n",
       "      <td>3</td>\n",
       "      <td>0</td>\n",
       "      <td>1</td>\n",
       "      <td>0</td>\n",
       "      <td>0</td>\n",
       "      <td>0</td>\n",
       "      <td>0</td>\n",
       "    </tr>\n",
       "    <tr>\n",
       "      <th>북구_동림동</th>\n",
       "      <td>0</td>\n",
       "      <td>0</td>\n",
       "      <td>1</td>\n",
       "      <td>0</td>\n",
       "      <td>6</td>\n",
       "      <td>0</td>\n",
       "      <td>0</td>\n",
       "      <td>3</td>\n",
       "      <td>1</td>\n",
       "      <td>6</td>\n",
       "      <td>6</td>\n",
       "      <td>27</td>\n",
       "      <td>2</td>\n",
       "      <td>3</td>\n",
       "    </tr>\n",
       "  </tbody>\n",
       "</table>\n",
       "</div>"
      ],
      "text/plain": [
       "        TRAD  CONCERT  OLD  MART  LIB  ART  MUS  MED  COMM  SPORT  OWN  JOB  \\\n",
       "EMD_NM                                                                        \n",
       "연제동        0        0    0     0    3    0    0    0     0      3    0    0   \n",
       "운암동        1        2    1     0   13    1    0   13     3      3    6  135   \n",
       "덕림동        0        0    1     0    0    0    0    0     0      1    0    0   \n",
       "삼거동        0        0    3     0    0    0    0    3     0      1    0    0   \n",
       "북구_동림동     0        0    1     0    6    0    0    3     1      6    6   27   \n",
       "\n",
       "        CARROT  CHARGE  \n",
       "EMD_NM                  \n",
       "연제동          2       0  \n",
       "운암동          3       3  \n",
       "덕림동          0       1  \n",
       "삼거동          0       0  \n",
       "북구_동림동       2       3  "
      ]
     },
     "execution_count": 4,
     "metadata": {},
     "output_type": "execute_result"
    }
   ],
   "source": [
    "data.head()"
   ]
  },
  {
   "cell_type": "code",
   "execution_count": 5,
   "id": "62e073a3-40fd-45f3-92bf-dec1b381c52c",
   "metadata": {
    "tags": []
   },
   "outputs": [
    {
     "data": {
      "text/html": [
       "<div>\n",
       "<style scoped>\n",
       "    .dataframe tbody tr th:only-of-type {\n",
       "        vertical-align: middle;\n",
       "    }\n",
       "\n",
       "    .dataframe tbody tr th {\n",
       "        vertical-align: top;\n",
       "    }\n",
       "\n",
       "    .dataframe thead th {\n",
       "        text-align: right;\n",
       "    }\n",
       "</style>\n",
       "<table border=\"1\" class=\"dataframe\">\n",
       "  <thead>\n",
       "    <tr style=\"text-align: right;\">\n",
       "      <th></th>\n",
       "      <th>TRAD</th>\n",
       "      <th>CONCERT</th>\n",
       "      <th>OLD</th>\n",
       "      <th>MART</th>\n",
       "      <th>LIB</th>\n",
       "      <th>ART</th>\n",
       "      <th>MUS</th>\n",
       "      <th>MED</th>\n",
       "      <th>COMM</th>\n",
       "      <th>SPORT</th>\n",
       "      <th>OWN</th>\n",
       "      <th>JOB</th>\n",
       "      <th>CARROT</th>\n",
       "      <th>CHARGE</th>\n",
       "    </tr>\n",
       "  </thead>\n",
       "  <tbody>\n",
       "    <tr>\n",
       "      <th>count</th>\n",
       "      <td>193.000000</td>\n",
       "      <td>193.000000</td>\n",
       "      <td>193.000000</td>\n",
       "      <td>193.000000</td>\n",
       "      <td>193.000000</td>\n",
       "      <td>193.000000</td>\n",
       "      <td>193.000000</td>\n",
       "      <td>193.000000</td>\n",
       "      <td>193.000000</td>\n",
       "      <td>193.000000</td>\n",
       "      <td>193.000000</td>\n",
       "      <td>193.000000</td>\n",
       "      <td>193.000000</td>\n",
       "      <td>193.000000</td>\n",
       "    </tr>\n",
       "    <tr>\n",
       "      <th>mean</th>\n",
       "      <td>0.119171</td>\n",
       "      <td>0.113990</td>\n",
       "      <td>0.492228</td>\n",
       "      <td>0.113990</td>\n",
       "      <td>1.818653</td>\n",
       "      <td>0.088083</td>\n",
       "      <td>0.041451</td>\n",
       "      <td>1.378238</td>\n",
       "      <td>0.502591</td>\n",
       "      <td>2.865285</td>\n",
       "      <td>3.497409</td>\n",
       "      <td>30.896373</td>\n",
       "      <td>0.383420</td>\n",
       "      <td>0.575130</td>\n",
       "    </tr>\n",
       "    <tr>\n",
       "      <th>std</th>\n",
       "      <td>0.434568</td>\n",
       "      <td>0.417659</td>\n",
       "      <td>0.823605</td>\n",
       "      <td>0.429948</td>\n",
       "      <td>3.367007</td>\n",
       "      <td>0.405063</td>\n",
       "      <td>0.199849</td>\n",
       "      <td>2.581372</td>\n",
       "      <td>0.791388</td>\n",
       "      <td>4.089174</td>\n",
       "      <td>11.208314</td>\n",
       "      <td>74.808990</td>\n",
       "      <td>0.900309</td>\n",
       "      <td>1.097252</td>\n",
       "    </tr>\n",
       "    <tr>\n",
       "      <th>min</th>\n",
       "      <td>0.000000</td>\n",
       "      <td>0.000000</td>\n",
       "      <td>0.000000</td>\n",
       "      <td>0.000000</td>\n",
       "      <td>0.000000</td>\n",
       "      <td>0.000000</td>\n",
       "      <td>0.000000</td>\n",
       "      <td>0.000000</td>\n",
       "      <td>0.000000</td>\n",
       "      <td>0.000000</td>\n",
       "      <td>0.000000</td>\n",
       "      <td>0.000000</td>\n",
       "      <td>0.000000</td>\n",
       "      <td>0.000000</td>\n",
       "    </tr>\n",
       "    <tr>\n",
       "      <th>25%</th>\n",
       "      <td>0.000000</td>\n",
       "      <td>0.000000</td>\n",
       "      <td>0.000000</td>\n",
       "      <td>0.000000</td>\n",
       "      <td>0.000000</td>\n",
       "      <td>0.000000</td>\n",
       "      <td>0.000000</td>\n",
       "      <td>0.000000</td>\n",
       "      <td>0.000000</td>\n",
       "      <td>0.000000</td>\n",
       "      <td>0.000000</td>\n",
       "      <td>0.000000</td>\n",
       "      <td>0.000000</td>\n",
       "      <td>0.000000</td>\n",
       "    </tr>\n",
       "    <tr>\n",
       "      <th>50%</th>\n",
       "      <td>0.000000</td>\n",
       "      <td>0.000000</td>\n",
       "      <td>0.000000</td>\n",
       "      <td>0.000000</td>\n",
       "      <td>0.000000</td>\n",
       "      <td>0.000000</td>\n",
       "      <td>0.000000</td>\n",
       "      <td>0.000000</td>\n",
       "      <td>0.000000</td>\n",
       "      <td>1.000000</td>\n",
       "      <td>0.000000</td>\n",
       "      <td>0.000000</td>\n",
       "      <td>0.000000</td>\n",
       "      <td>0.000000</td>\n",
       "    </tr>\n",
       "    <tr>\n",
       "      <th>75%</th>\n",
       "      <td>0.000000</td>\n",
       "      <td>0.000000</td>\n",
       "      <td>1.000000</td>\n",
       "      <td>0.000000</td>\n",
       "      <td>2.000000</td>\n",
       "      <td>0.000000</td>\n",
       "      <td>0.000000</td>\n",
       "      <td>2.000000</td>\n",
       "      <td>1.000000</td>\n",
       "      <td>3.000000</td>\n",
       "      <td>2.000000</td>\n",
       "      <td>26.000000</td>\n",
       "      <td>0.000000</td>\n",
       "      <td>1.000000</td>\n",
       "    </tr>\n",
       "    <tr>\n",
       "      <th>max</th>\n",
       "      <td>3.000000</td>\n",
       "      <td>3.000000</td>\n",
       "      <td>4.000000</td>\n",
       "      <td>3.000000</td>\n",
       "      <td>16.000000</td>\n",
       "      <td>4.000000</td>\n",
       "      <td>1.000000</td>\n",
       "      <td>18.000000</td>\n",
       "      <td>4.000000</td>\n",
       "      <td>20.000000</td>\n",
       "      <td>102.000000</td>\n",
       "      <td>553.000000</td>\n",
       "      <td>5.000000</td>\n",
       "      <td>5.000000</td>\n",
       "    </tr>\n",
       "  </tbody>\n",
       "</table>\n",
       "</div>"
      ],
      "text/plain": [
       "             TRAD     CONCERT         OLD        MART         LIB         ART  \\\n",
       "count  193.000000  193.000000  193.000000  193.000000  193.000000  193.000000   \n",
       "mean     0.119171    0.113990    0.492228    0.113990    1.818653    0.088083   \n",
       "std      0.434568    0.417659    0.823605    0.429948    3.367007    0.405063   \n",
       "min      0.000000    0.000000    0.000000    0.000000    0.000000    0.000000   \n",
       "25%      0.000000    0.000000    0.000000    0.000000    0.000000    0.000000   \n",
       "50%      0.000000    0.000000    0.000000    0.000000    0.000000    0.000000   \n",
       "75%      0.000000    0.000000    1.000000    0.000000    2.000000    0.000000   \n",
       "max      3.000000    3.000000    4.000000    3.000000   16.000000    4.000000   \n",
       "\n",
       "              MUS         MED        COMM       SPORT         OWN         JOB  \\\n",
       "count  193.000000  193.000000  193.000000  193.000000  193.000000  193.000000   \n",
       "mean     0.041451    1.378238    0.502591    2.865285    3.497409   30.896373   \n",
       "std      0.199849    2.581372    0.791388    4.089174   11.208314   74.808990   \n",
       "min      0.000000    0.000000    0.000000    0.000000    0.000000    0.000000   \n",
       "25%      0.000000    0.000000    0.000000    0.000000    0.000000    0.000000   \n",
       "50%      0.000000    0.000000    0.000000    1.000000    0.000000    0.000000   \n",
       "75%      0.000000    2.000000    1.000000    3.000000    2.000000   26.000000   \n",
       "max      1.000000   18.000000    4.000000   20.000000  102.000000  553.000000   \n",
       "\n",
       "           CARROT      CHARGE  \n",
       "count  193.000000  193.000000  \n",
       "mean     0.383420    0.575130  \n",
       "std      0.900309    1.097252  \n",
       "min      0.000000    0.000000  \n",
       "25%      0.000000    0.000000  \n",
       "50%      0.000000    0.000000  \n",
       "75%      0.000000    1.000000  \n",
       "max      5.000000    5.000000  "
      ]
     },
     "execution_count": 5,
     "metadata": {},
     "output_type": "execute_result"
    }
   ],
   "source": [
    "data.describe()"
   ]
  },
  {
   "cell_type": "code",
   "execution_count": 6,
   "id": "bf8b1c84-48cd-4297-bc20-a690d0d830af",
   "metadata": {
    "tags": []
   },
   "outputs": [
    {
     "name": "stdout",
     "output_type": "stream",
     "text": [
      "<class 'pandas.core.frame.DataFrame'>\n",
      "Index: 193 entries, 연제동 to 충장동\n",
      "Data columns (total 14 columns):\n",
      " #   Column   Non-Null Count  Dtype\n",
      "---  ------   --------------  -----\n",
      " 0   TRAD     193 non-null    int64\n",
      " 1   CONCERT  193 non-null    int64\n",
      " 2   OLD      193 non-null    int64\n",
      " 3   MART     193 non-null    int64\n",
      " 4   LIB      193 non-null    int64\n",
      " 5   ART      193 non-null    int64\n",
      " 6   MUS      193 non-null    int64\n",
      " 7   MED      193 non-null    int64\n",
      " 8   COMM     193 non-null    int64\n",
      " 9   SPORT    193 non-null    int64\n",
      " 10  OWN      193 non-null    int64\n",
      " 11  JOB      193 non-null    int64\n",
      " 12  CARROT   193 non-null    int64\n",
      " 13  CHARGE   193 non-null    int64\n",
      "dtypes: int64(14)\n",
      "memory usage: 22.6+ KB\n"
     ]
    }
   ],
   "source": [
    "data.info()"
   ]
  },
  {
   "cell_type": "code",
   "execution_count": 7,
   "id": "3feea717-0470-45e8-8e20-f17857bd0cc5",
   "metadata": {
    "tags": []
   },
   "outputs": [
    {
     "data": {
      "text/html": [
       "<div>\n",
       "<style scoped>\n",
       "    .dataframe tbody tr th:only-of-type {\n",
       "        vertical-align: middle;\n",
       "    }\n",
       "\n",
       "    .dataframe tbody tr th {\n",
       "        vertical-align: top;\n",
       "    }\n",
       "\n",
       "    .dataframe thead th {\n",
       "        text-align: right;\n",
       "    }\n",
       "</style>\n",
       "<table border=\"1\" class=\"dataframe\">\n",
       "  <thead>\n",
       "    <tr style=\"text-align: right;\">\n",
       "      <th></th>\n",
       "      <th>TRAD</th>\n",
       "      <th>CONCERT</th>\n",
       "      <th>OLD</th>\n",
       "      <th>MART</th>\n",
       "      <th>LIB</th>\n",
       "      <th>ART</th>\n",
       "      <th>MUS</th>\n",
       "      <th>MED</th>\n",
       "      <th>COMM</th>\n",
       "      <th>SPORT</th>\n",
       "      <th>OWN</th>\n",
       "      <th>JOB</th>\n",
       "      <th>CARROT</th>\n",
       "      <th>CHARGE</th>\n",
       "    </tr>\n",
       "    <tr>\n",
       "      <th>EMD_NM</th>\n",
       "      <th></th>\n",
       "      <th></th>\n",
       "      <th></th>\n",
       "      <th></th>\n",
       "      <th></th>\n",
       "      <th></th>\n",
       "      <th></th>\n",
       "      <th></th>\n",
       "      <th></th>\n",
       "      <th></th>\n",
       "      <th></th>\n",
       "      <th></th>\n",
       "      <th></th>\n",
       "      <th></th>\n",
       "    </tr>\n",
       "  </thead>\n",
       "  <tbody>\n",
       "    <tr>\n",
       "      <th>연제동</th>\n",
       "      <td>False</td>\n",
       "      <td>False</td>\n",
       "      <td>False</td>\n",
       "      <td>False</td>\n",
       "      <td>False</td>\n",
       "      <td>False</td>\n",
       "      <td>False</td>\n",
       "      <td>False</td>\n",
       "      <td>False</td>\n",
       "      <td>False</td>\n",
       "      <td>False</td>\n",
       "      <td>False</td>\n",
       "      <td>False</td>\n",
       "      <td>False</td>\n",
       "    </tr>\n",
       "    <tr>\n",
       "      <th>운암동</th>\n",
       "      <td>False</td>\n",
       "      <td>False</td>\n",
       "      <td>False</td>\n",
       "      <td>False</td>\n",
       "      <td>False</td>\n",
       "      <td>False</td>\n",
       "      <td>False</td>\n",
       "      <td>False</td>\n",
       "      <td>False</td>\n",
       "      <td>False</td>\n",
       "      <td>False</td>\n",
       "      <td>False</td>\n",
       "      <td>False</td>\n",
       "      <td>False</td>\n",
       "    </tr>\n",
       "    <tr>\n",
       "      <th>덕림동</th>\n",
       "      <td>False</td>\n",
       "      <td>False</td>\n",
       "      <td>False</td>\n",
       "      <td>False</td>\n",
       "      <td>False</td>\n",
       "      <td>False</td>\n",
       "      <td>False</td>\n",
       "      <td>False</td>\n",
       "      <td>False</td>\n",
       "      <td>False</td>\n",
       "      <td>False</td>\n",
       "      <td>False</td>\n",
       "      <td>False</td>\n",
       "      <td>False</td>\n",
       "    </tr>\n",
       "    <tr>\n",
       "      <th>삼거동</th>\n",
       "      <td>False</td>\n",
       "      <td>False</td>\n",
       "      <td>False</td>\n",
       "      <td>False</td>\n",
       "      <td>False</td>\n",
       "      <td>False</td>\n",
       "      <td>False</td>\n",
       "      <td>False</td>\n",
       "      <td>False</td>\n",
       "      <td>False</td>\n",
       "      <td>False</td>\n",
       "      <td>False</td>\n",
       "      <td>False</td>\n",
       "      <td>False</td>\n",
       "    </tr>\n",
       "    <tr>\n",
       "      <th>북구_동림동</th>\n",
       "      <td>False</td>\n",
       "      <td>False</td>\n",
       "      <td>False</td>\n",
       "      <td>False</td>\n",
       "      <td>False</td>\n",
       "      <td>False</td>\n",
       "      <td>False</td>\n",
       "      <td>False</td>\n",
       "      <td>False</td>\n",
       "      <td>False</td>\n",
       "      <td>False</td>\n",
       "      <td>False</td>\n",
       "      <td>False</td>\n",
       "      <td>False</td>\n",
       "    </tr>\n",
       "    <tr>\n",
       "      <th>...</th>\n",
       "      <td>...</td>\n",
       "      <td>...</td>\n",
       "      <td>...</td>\n",
       "      <td>...</td>\n",
       "      <td>...</td>\n",
       "      <td>...</td>\n",
       "      <td>...</td>\n",
       "      <td>...</td>\n",
       "      <td>...</td>\n",
       "      <td>...</td>\n",
       "      <td>...</td>\n",
       "      <td>...</td>\n",
       "      <td>...</td>\n",
       "      <td>...</td>\n",
       "    </tr>\n",
       "    <tr>\n",
       "      <th>쌍촌동</th>\n",
       "      <td>False</td>\n",
       "      <td>False</td>\n",
       "      <td>False</td>\n",
       "      <td>False</td>\n",
       "      <td>False</td>\n",
       "      <td>False</td>\n",
       "      <td>False</td>\n",
       "      <td>False</td>\n",
       "      <td>False</td>\n",
       "      <td>False</td>\n",
       "      <td>False</td>\n",
       "      <td>False</td>\n",
       "      <td>False</td>\n",
       "      <td>False</td>\n",
       "    </tr>\n",
       "    <tr>\n",
       "      <th>내방동</th>\n",
       "      <td>False</td>\n",
       "      <td>False</td>\n",
       "      <td>False</td>\n",
       "      <td>False</td>\n",
       "      <td>False</td>\n",
       "      <td>False</td>\n",
       "      <td>False</td>\n",
       "      <td>False</td>\n",
       "      <td>False</td>\n",
       "      <td>False</td>\n",
       "      <td>False</td>\n",
       "      <td>False</td>\n",
       "      <td>False</td>\n",
       "      <td>False</td>\n",
       "    </tr>\n",
       "    <tr>\n",
       "      <th>덕흥동</th>\n",
       "      <td>False</td>\n",
       "      <td>False</td>\n",
       "      <td>False</td>\n",
       "      <td>False</td>\n",
       "      <td>False</td>\n",
       "      <td>False</td>\n",
       "      <td>False</td>\n",
       "      <td>False</td>\n",
       "      <td>False</td>\n",
       "      <td>False</td>\n",
       "      <td>False</td>\n",
       "      <td>False</td>\n",
       "      <td>False</td>\n",
       "      <td>False</td>\n",
       "    </tr>\n",
       "    <tr>\n",
       "      <th>대의동</th>\n",
       "      <td>False</td>\n",
       "      <td>False</td>\n",
       "      <td>False</td>\n",
       "      <td>False</td>\n",
       "      <td>False</td>\n",
       "      <td>False</td>\n",
       "      <td>False</td>\n",
       "      <td>False</td>\n",
       "      <td>False</td>\n",
       "      <td>False</td>\n",
       "      <td>False</td>\n",
       "      <td>False</td>\n",
       "      <td>False</td>\n",
       "      <td>False</td>\n",
       "    </tr>\n",
       "    <tr>\n",
       "      <th>충장동</th>\n",
       "      <td>False</td>\n",
       "      <td>False</td>\n",
       "      <td>False</td>\n",
       "      <td>False</td>\n",
       "      <td>False</td>\n",
       "      <td>False</td>\n",
       "      <td>False</td>\n",
       "      <td>False</td>\n",
       "      <td>False</td>\n",
       "      <td>False</td>\n",
       "      <td>False</td>\n",
       "      <td>False</td>\n",
       "      <td>False</td>\n",
       "      <td>False</td>\n",
       "    </tr>\n",
       "  </tbody>\n",
       "</table>\n",
       "<p>193 rows × 14 columns</p>\n",
       "</div>"
      ],
      "text/plain": [
       "         TRAD  CONCERT    OLD   MART    LIB    ART    MUS    MED   COMM  \\\n",
       "EMD_NM                                                                    \n",
       "연제동     False    False  False  False  False  False  False  False  False   \n",
       "운암동     False    False  False  False  False  False  False  False  False   \n",
       "덕림동     False    False  False  False  False  False  False  False  False   \n",
       "삼거동     False    False  False  False  False  False  False  False  False   \n",
       "북구_동림동  False    False  False  False  False  False  False  False  False   \n",
       "...       ...      ...    ...    ...    ...    ...    ...    ...    ...   \n",
       "쌍촌동     False    False  False  False  False  False  False  False  False   \n",
       "내방동     False    False  False  False  False  False  False  False  False   \n",
       "덕흥동     False    False  False  False  False  False  False  False  False   \n",
       "대의동     False    False  False  False  False  False  False  False  False   \n",
       "충장동     False    False  False  False  False  False  False  False  False   \n",
       "\n",
       "        SPORT    OWN    JOB  CARROT  CHARGE  \n",
       "EMD_NM                                       \n",
       "연제동     False  False  False   False   False  \n",
       "운암동     False  False  False   False   False  \n",
       "덕림동     False  False  False   False   False  \n",
       "삼거동     False  False  False   False   False  \n",
       "북구_동림동  False  False  False   False   False  \n",
       "...       ...    ...    ...     ...     ...  \n",
       "쌍촌동     False  False  False   False   False  \n",
       "내방동     False  False  False   False   False  \n",
       "덕흥동     False  False  False   False   False  \n",
       "대의동     False  False  False   False   False  \n",
       "충장동     False  False  False   False   False  \n",
       "\n",
       "[193 rows x 14 columns]"
      ]
     },
     "execution_count": 7,
     "metadata": {},
     "output_type": "execute_result"
    }
   ],
   "source": [
    "data.isnull()"
   ]
  },
  {
   "cell_type": "code",
   "execution_count": 8,
   "id": "1df4125e-df95-46c8-b019-d0e44c3c7e06",
   "metadata": {
    "tags": []
   },
   "outputs": [
    {
     "data": {
      "text/plain": [
       "TRAD       0\n",
       "CONCERT    0\n",
       "OLD        0\n",
       "MART       0\n",
       "LIB        0\n",
       "ART        0\n",
       "MUS        0\n",
       "MED        0\n",
       "COMM       0\n",
       "SPORT      0\n",
       "OWN        0\n",
       "JOB        0\n",
       "CARROT     0\n",
       "CHARGE     0\n",
       "dtype: int64"
      ]
     },
     "execution_count": 8,
     "metadata": {},
     "output_type": "execute_result"
    }
   ],
   "source": [
    "data.isnull().sum()"
   ]
  },
  {
   "cell_type": "markdown",
   "id": "dce1ed9b-d33a-4ad3-ad9f-f9ea1671df67",
   "metadata": {},
   "source": [
    "# 독립변수, 종속변수 선언"
   ]
  },
  {
   "cell_type": "code",
   "execution_count": 23,
   "id": "11e29b20-189e-4326-b31f-0b893c46bb49",
   "metadata": {
    "tags": []
   },
   "outputs": [],
   "source": [
    "# 독립변수 ( data )\n",
    "X = data.iloc[:, :-1]"
   ]
  },
  {
   "cell_type": "code",
   "execution_count": 24,
   "id": "d2e8a457-6207-4bb6-8923-a2523a76bac5",
   "metadata": {},
   "outputs": [],
   "source": [
    "# 종속변수 ( target )\n",
    "y = data.iloc[:,-1]"
   ]
  },
  {
   "cell_type": "code",
   "execution_count": 5,
   "id": "4733e870-2fdc-4ad7-a73a-980ad82704fa",
   "metadata": {},
   "outputs": [
    {
     "name": "stdout",
     "output_type": "stream",
     "text": [
      "X row : 193개\n",
      "y row : 193개\n"
     ]
    }
   ],
   "source": [
    "print(f'X row : {X.shape[0]}개')\n",
    "print(f'y row : {y.shape[0]}개')"
   ]
  },
  {
   "cell_type": "code",
   "execution_count": 55,
   "id": "0a194984-38a4-4058-a6d7-2f7015f2f6cf",
   "metadata": {
    "collapsed": true,
    "jupyter": {
     "outputs_hidden": true
    },
    "tags": []
   },
   "outputs": [
    {
     "ename": "KeyboardInterrupt",
     "evalue": "",
     "output_type": "error",
     "traceback": [
      "\u001b[1;31m---------------------------------------------------------------------------\u001b[0m",
      "\u001b[1;31mKeyboardInterrupt\u001b[0m                         Traceback (most recent call last)",
      "Input \u001b[1;32mIn [55]\u001b[0m, in \u001b[0;36m<cell line: 2>\u001b[1;34m()\u001b[0m\n\u001b[0;32m      1\u001b[0m \u001b[38;5;66;03m# 상관계수 그래프\u001b[39;00m\n\u001b[1;32m----> 2\u001b[0m \u001b[43msns\u001b[49m\u001b[38;5;241;43m.\u001b[39;49m\u001b[43mpairplot\u001b[49m\u001b[43m(\u001b[49m\u001b[43mdata\u001b[49m\u001b[38;5;241;43m.\u001b[39;49m\u001b[43mcorr\u001b[49m\u001b[43m(\u001b[49m\u001b[43m)\u001b[49m\u001b[43m)\u001b[49m\n",
      "File \u001b[1;32m~\\anaconda3\\lib\\site-packages\\seaborn\\_decorators.py:46\u001b[0m, in \u001b[0;36m_deprecate_positional_args.<locals>.inner_f\u001b[1;34m(*args, **kwargs)\u001b[0m\n\u001b[0;32m     36\u001b[0m     warnings\u001b[38;5;241m.\u001b[39mwarn(\n\u001b[0;32m     37\u001b[0m         \u001b[38;5;124m\"\u001b[39m\u001b[38;5;124mPass the following variable\u001b[39m\u001b[38;5;132;01m{}\u001b[39;00m\u001b[38;5;124m as \u001b[39m\u001b[38;5;132;01m{}\u001b[39;00m\u001b[38;5;124mkeyword arg\u001b[39m\u001b[38;5;132;01m{}\u001b[39;00m\u001b[38;5;124m: \u001b[39m\u001b[38;5;132;01m{}\u001b[39;00m\u001b[38;5;124m. \u001b[39m\u001b[38;5;124m\"\u001b[39m\n\u001b[0;32m     38\u001b[0m         \u001b[38;5;124m\"\u001b[39m\u001b[38;5;124mFrom version 0.12, the only valid positional argument \u001b[39m\u001b[38;5;124m\"\u001b[39m\n\u001b[1;32m   (...)\u001b[0m\n\u001b[0;32m     43\u001b[0m         \u001b[38;5;167;01mFutureWarning\u001b[39;00m\n\u001b[0;32m     44\u001b[0m     )\n\u001b[0;32m     45\u001b[0m kwargs\u001b[38;5;241m.\u001b[39mupdate({k: arg \u001b[38;5;28;01mfor\u001b[39;00m k, arg \u001b[38;5;129;01min\u001b[39;00m \u001b[38;5;28mzip\u001b[39m(sig\u001b[38;5;241m.\u001b[39mparameters, args)})\n\u001b[1;32m---> 46\u001b[0m \u001b[38;5;28;01mreturn\u001b[39;00m f(\u001b[38;5;241m*\u001b[39m\u001b[38;5;241m*\u001b[39mkwargs)\n",
      "File \u001b[1;32m~\\anaconda3\\lib\\site-packages\\seaborn\\axisgrid.py:2096\u001b[0m, in \u001b[0;36mpairplot\u001b[1;34m(data, hue, hue_order, palette, vars, x_vars, y_vars, kind, diag_kind, markers, height, aspect, corner, dropna, plot_kws, diag_kws, grid_kws, size)\u001b[0m\n\u001b[0;32m   2094\u001b[0m \u001b[38;5;66;03m# Set up the PairGrid\u001b[39;00m\n\u001b[0;32m   2095\u001b[0m grid_kws\u001b[38;5;241m.\u001b[39msetdefault(\u001b[38;5;124m\"\u001b[39m\u001b[38;5;124mdiag_sharey\u001b[39m\u001b[38;5;124m\"\u001b[39m, diag_kind \u001b[38;5;241m==\u001b[39m \u001b[38;5;124m\"\u001b[39m\u001b[38;5;124mhist\u001b[39m\u001b[38;5;124m\"\u001b[39m)\n\u001b[1;32m-> 2096\u001b[0m grid \u001b[38;5;241m=\u001b[39m PairGrid(data, \u001b[38;5;28mvars\u001b[39m\u001b[38;5;241m=\u001b[39m\u001b[38;5;28mvars\u001b[39m, x_vars\u001b[38;5;241m=\u001b[39mx_vars, y_vars\u001b[38;5;241m=\u001b[39my_vars, hue\u001b[38;5;241m=\u001b[39mhue,\n\u001b[0;32m   2097\u001b[0m                 hue_order\u001b[38;5;241m=\u001b[39mhue_order, palette\u001b[38;5;241m=\u001b[39mpalette, corner\u001b[38;5;241m=\u001b[39mcorner,\n\u001b[0;32m   2098\u001b[0m                 height\u001b[38;5;241m=\u001b[39mheight, aspect\u001b[38;5;241m=\u001b[39maspect, dropna\u001b[38;5;241m=\u001b[39mdropna, \u001b[38;5;241m*\u001b[39m\u001b[38;5;241m*\u001b[39mgrid_kws)\n\u001b[0;32m   2100\u001b[0m \u001b[38;5;66;03m# Add the markers here as PairGrid has figured out how many levels of the\u001b[39;00m\n\u001b[0;32m   2101\u001b[0m \u001b[38;5;66;03m# hue variable are needed and we don't want to duplicate that process\u001b[39;00m\n\u001b[0;32m   2102\u001b[0m \u001b[38;5;28;01mif\u001b[39;00m markers \u001b[38;5;129;01mis\u001b[39;00m \u001b[38;5;129;01mnot\u001b[39;00m \u001b[38;5;28;01mNone\u001b[39;00m:\n",
      "File \u001b[1;32m~\\anaconda3\\lib\\site-packages\\seaborn\\_decorators.py:46\u001b[0m, in \u001b[0;36m_deprecate_positional_args.<locals>.inner_f\u001b[1;34m(*args, **kwargs)\u001b[0m\n\u001b[0;32m     36\u001b[0m     warnings\u001b[38;5;241m.\u001b[39mwarn(\n\u001b[0;32m     37\u001b[0m         \u001b[38;5;124m\"\u001b[39m\u001b[38;5;124mPass the following variable\u001b[39m\u001b[38;5;132;01m{}\u001b[39;00m\u001b[38;5;124m as \u001b[39m\u001b[38;5;132;01m{}\u001b[39;00m\u001b[38;5;124mkeyword arg\u001b[39m\u001b[38;5;132;01m{}\u001b[39;00m\u001b[38;5;124m: \u001b[39m\u001b[38;5;132;01m{}\u001b[39;00m\u001b[38;5;124m. \u001b[39m\u001b[38;5;124m\"\u001b[39m\n\u001b[0;32m     38\u001b[0m         \u001b[38;5;124m\"\u001b[39m\u001b[38;5;124mFrom version 0.12, the only valid positional argument \u001b[39m\u001b[38;5;124m\"\u001b[39m\n\u001b[1;32m   (...)\u001b[0m\n\u001b[0;32m     43\u001b[0m         \u001b[38;5;167;01mFutureWarning\u001b[39;00m\n\u001b[0;32m     44\u001b[0m     )\n\u001b[0;32m     45\u001b[0m kwargs\u001b[38;5;241m.\u001b[39mupdate({k: arg \u001b[38;5;28;01mfor\u001b[39;00m k, arg \u001b[38;5;129;01min\u001b[39;00m \u001b[38;5;28mzip\u001b[39m(sig\u001b[38;5;241m.\u001b[39mparameters, args)})\n\u001b[1;32m---> 46\u001b[0m \u001b[38;5;28;01mreturn\u001b[39;00m f(\u001b[38;5;241m*\u001b[39m\u001b[38;5;241m*\u001b[39mkwargs)\n",
      "File \u001b[1;32m~\\anaconda3\\lib\\site-packages\\seaborn\\axisgrid.py:1308\u001b[0m, in \u001b[0;36mPairGrid.__init__\u001b[1;34m(self, data, hue, hue_order, palette, hue_kws, vars, x_vars, y_vars, corner, diag_sharey, height, aspect, layout_pad, despine, dropna, size)\u001b[0m\n\u001b[0;32m   1306\u001b[0m \u001b[38;5;28;01mif\u001b[39;00m ax \u001b[38;5;129;01mis\u001b[39;00m \u001b[38;5;28;01mNone\u001b[39;00m:\n\u001b[0;32m   1307\u001b[0m     \u001b[38;5;28;01mcontinue\u001b[39;00m\n\u001b[1;32m-> 1308\u001b[0m \u001b[38;5;28;01mfor\u001b[39;00m label \u001b[38;5;129;01min\u001b[39;00m \u001b[43max\u001b[49m\u001b[38;5;241;43m.\u001b[39;49m\u001b[43mget_xticklabels\u001b[49m\u001b[43m(\u001b[49m\u001b[43m)\u001b[49m:\n\u001b[0;32m   1309\u001b[0m     label\u001b[38;5;241m.\u001b[39mset_visible(\u001b[38;5;28;01mFalse\u001b[39;00m)\n\u001b[0;32m   1310\u001b[0m ax\u001b[38;5;241m.\u001b[39mxaxis\u001b[38;5;241m.\u001b[39moffsetText\u001b[38;5;241m.\u001b[39mset_visible(\u001b[38;5;28;01mFalse\u001b[39;00m)\n",
      "File \u001b[1;32m~\\anaconda3\\lib\\site-packages\\matplotlib\\axes\\_base.py:75\u001b[0m, in \u001b[0;36m_axis_method_wrapper.__set_name__.<locals>.wrapper\u001b[1;34m(self, *args, **kwargs)\u001b[0m\n\u001b[0;32m     74\u001b[0m \u001b[38;5;28;01mdef\u001b[39;00m \u001b[38;5;21mwrapper\u001b[39m(\u001b[38;5;28mself\u001b[39m, \u001b[38;5;241m*\u001b[39margs, \u001b[38;5;241m*\u001b[39m\u001b[38;5;241m*\u001b[39mkwargs):\n\u001b[1;32m---> 75\u001b[0m     \u001b[38;5;28;01mreturn\u001b[39;00m get_method(\u001b[38;5;28mself\u001b[39m)(\u001b[38;5;241m*\u001b[39margs, \u001b[38;5;241m*\u001b[39m\u001b[38;5;241m*\u001b[39mkwargs)\n",
      "File \u001b[1;32m~\\anaconda3\\lib\\site-packages\\matplotlib\\axis.py:1249\u001b[0m, in \u001b[0;36mAxis.get_ticklabels\u001b[1;34m(self, minor, which)\u001b[0m\n\u001b[0;32m   1247\u001b[0m \u001b[38;5;28;01mif\u001b[39;00m minor:\n\u001b[0;32m   1248\u001b[0m     \u001b[38;5;28;01mreturn\u001b[39;00m \u001b[38;5;28mself\u001b[39m\u001b[38;5;241m.\u001b[39mget_minorticklabels()\n\u001b[1;32m-> 1249\u001b[0m \u001b[38;5;28;01mreturn\u001b[39;00m \u001b[38;5;28;43mself\u001b[39;49m\u001b[38;5;241;43m.\u001b[39;49m\u001b[43mget_majorticklabels\u001b[49m\u001b[43m(\u001b[49m\u001b[43m)\u001b[49m\n",
      "File \u001b[1;32m~\\anaconda3\\lib\\site-packages\\matplotlib\\axis.py:1201\u001b[0m, in \u001b[0;36mAxis.get_majorticklabels\u001b[1;34m(self)\u001b[0m\n\u001b[0;32m   1199\u001b[0m \u001b[38;5;28;01mdef\u001b[39;00m \u001b[38;5;21mget_majorticklabels\u001b[39m(\u001b[38;5;28mself\u001b[39m):\n\u001b[0;32m   1200\u001b[0m     \u001b[38;5;124;03m\"\"\"Return this Axis' major tick labels, as a list of `~.text.Text`.\"\"\"\u001b[39;00m\n\u001b[1;32m-> 1201\u001b[0m     ticks \u001b[38;5;241m=\u001b[39m \u001b[38;5;28;43mself\u001b[39;49m\u001b[38;5;241;43m.\u001b[39;49m\u001b[43mget_major_ticks\u001b[49m\u001b[43m(\u001b[49m\u001b[43m)\u001b[49m\n\u001b[0;32m   1202\u001b[0m     labels1 \u001b[38;5;241m=\u001b[39m [tick\u001b[38;5;241m.\u001b[39mlabel1 \u001b[38;5;28;01mfor\u001b[39;00m tick \u001b[38;5;129;01min\u001b[39;00m ticks \u001b[38;5;28;01mif\u001b[39;00m tick\u001b[38;5;241m.\u001b[39mlabel1\u001b[38;5;241m.\u001b[39mget_visible()]\n\u001b[0;32m   1203\u001b[0m     labels2 \u001b[38;5;241m=\u001b[39m [tick\u001b[38;5;241m.\u001b[39mlabel2 \u001b[38;5;28;01mfor\u001b[39;00m tick \u001b[38;5;129;01min\u001b[39;00m ticks \u001b[38;5;28;01mif\u001b[39;00m tick\u001b[38;5;241m.\u001b[39mlabel2\u001b[38;5;241m.\u001b[39mget_visible()]\n",
      "File \u001b[1;32m~\\anaconda3\\lib\\site-packages\\matplotlib\\axis.py:1371\u001b[0m, in \u001b[0;36mAxis.get_major_ticks\u001b[1;34m(self, numticks)\u001b[0m\n\u001b[0;32m   1369\u001b[0m \u001b[38;5;124mr\u001b[39m\u001b[38;5;124;03m\"\"\"Return the list of major `.Tick`\\s.\"\"\"\u001b[39;00m\n\u001b[0;32m   1370\u001b[0m \u001b[38;5;28;01mif\u001b[39;00m numticks \u001b[38;5;129;01mis\u001b[39;00m \u001b[38;5;28;01mNone\u001b[39;00m:\n\u001b[1;32m-> 1371\u001b[0m     numticks \u001b[38;5;241m=\u001b[39m \u001b[38;5;28mlen\u001b[39m(\u001b[38;5;28;43mself\u001b[39;49m\u001b[38;5;241;43m.\u001b[39;49m\u001b[43mget_majorticklocs\u001b[49m\u001b[43m(\u001b[49m\u001b[43m)\u001b[49m)\n\u001b[0;32m   1373\u001b[0m \u001b[38;5;28;01mwhile\u001b[39;00m \u001b[38;5;28mlen\u001b[39m(\u001b[38;5;28mself\u001b[39m\u001b[38;5;241m.\u001b[39mmajorTicks) \u001b[38;5;241m<\u001b[39m numticks:\n\u001b[0;32m   1374\u001b[0m     \u001b[38;5;66;03m# Update the new tick label properties from the old.\u001b[39;00m\n\u001b[0;32m   1375\u001b[0m     tick \u001b[38;5;241m=\u001b[39m \u001b[38;5;28mself\u001b[39m\u001b[38;5;241m.\u001b[39m_get_tick(major\u001b[38;5;241m=\u001b[39m\u001b[38;5;28;01mTrue\u001b[39;00m)\n",
      "File \u001b[1;32m~\\anaconda3\\lib\\site-packages\\matplotlib\\axis.py:1277\u001b[0m, in \u001b[0;36mAxis.get_majorticklocs\u001b[1;34m(self)\u001b[0m\n\u001b[0;32m   1275\u001b[0m \u001b[38;5;28;01mdef\u001b[39;00m \u001b[38;5;21mget_majorticklocs\u001b[39m(\u001b[38;5;28mself\u001b[39m):\n\u001b[0;32m   1276\u001b[0m     \u001b[38;5;124;03m\"\"\"Return this Axis' major tick locations in data coordinates.\"\"\"\u001b[39;00m\n\u001b[1;32m-> 1277\u001b[0m     \u001b[38;5;28;01mreturn\u001b[39;00m \u001b[38;5;28;43mself\u001b[39;49m\u001b[38;5;241;43m.\u001b[39;49m\u001b[43mmajor\u001b[49m\u001b[38;5;241;43m.\u001b[39;49m\u001b[43mlocator\u001b[49m\u001b[43m(\u001b[49m\u001b[43m)\u001b[49m\n",
      "File \u001b[1;32m~\\anaconda3\\lib\\site-packages\\matplotlib\\ticker.py:2114\u001b[0m, in \u001b[0;36mMaxNLocator.__call__\u001b[1;34m(self)\u001b[0m\n\u001b[0;32m   2112\u001b[0m \u001b[38;5;28;01mdef\u001b[39;00m \u001b[38;5;21m__call__\u001b[39m(\u001b[38;5;28mself\u001b[39m):\n\u001b[0;32m   2113\u001b[0m     vmin, vmax \u001b[38;5;241m=\u001b[39m \u001b[38;5;28mself\u001b[39m\u001b[38;5;241m.\u001b[39maxis\u001b[38;5;241m.\u001b[39mget_view_interval()\n\u001b[1;32m-> 2114\u001b[0m     \u001b[38;5;28;01mreturn\u001b[39;00m \u001b[38;5;28;43mself\u001b[39;49m\u001b[38;5;241;43m.\u001b[39;49m\u001b[43mtick_values\u001b[49m\u001b[43m(\u001b[49m\u001b[43mvmin\u001b[49m\u001b[43m,\u001b[49m\u001b[43m \u001b[49m\u001b[43mvmax\u001b[49m\u001b[43m)\u001b[49m\n",
      "File \u001b[1;32m~\\anaconda3\\lib\\site-packages\\matplotlib\\ticker.py:2122\u001b[0m, in \u001b[0;36mMaxNLocator.tick_values\u001b[1;34m(self, vmin, vmax)\u001b[0m\n\u001b[0;32m   2119\u001b[0m     vmin \u001b[38;5;241m=\u001b[39m \u001b[38;5;241m-\u001b[39mvmax\n\u001b[0;32m   2120\u001b[0m vmin, vmax \u001b[38;5;241m=\u001b[39m mtransforms\u001b[38;5;241m.\u001b[39mnonsingular(\n\u001b[0;32m   2121\u001b[0m     vmin, vmax, expander\u001b[38;5;241m=\u001b[39m\u001b[38;5;241m1e-13\u001b[39m, tiny\u001b[38;5;241m=\u001b[39m\u001b[38;5;241m1e-14\u001b[39m)\n\u001b[1;32m-> 2122\u001b[0m locs \u001b[38;5;241m=\u001b[39m \u001b[38;5;28;43mself\u001b[39;49m\u001b[38;5;241;43m.\u001b[39;49m\u001b[43m_raw_ticks\u001b[49m\u001b[43m(\u001b[49m\u001b[43mvmin\u001b[49m\u001b[43m,\u001b[49m\u001b[43m \u001b[49m\u001b[43mvmax\u001b[49m\u001b[43m)\u001b[49m\n\u001b[0;32m   2124\u001b[0m prune \u001b[38;5;241m=\u001b[39m \u001b[38;5;28mself\u001b[39m\u001b[38;5;241m.\u001b[39m_prune\n\u001b[0;32m   2125\u001b[0m \u001b[38;5;28;01mif\u001b[39;00m prune \u001b[38;5;241m==\u001b[39m \u001b[38;5;124m'\u001b[39m\u001b[38;5;124mlower\u001b[39m\u001b[38;5;124m'\u001b[39m:\n",
      "File \u001b[1;32m~\\anaconda3\\lib\\site-packages\\matplotlib\\ticker.py:2061\u001b[0m, in \u001b[0;36mMaxNLocator._raw_ticks\u001b[1;34m(self, vmin, vmax)\u001b[0m\n\u001b[0;32m   2059\u001b[0m \u001b[38;5;28;01mif\u001b[39;00m \u001b[38;5;28mself\u001b[39m\u001b[38;5;241m.\u001b[39m_nbins \u001b[38;5;241m==\u001b[39m \u001b[38;5;124m'\u001b[39m\u001b[38;5;124mauto\u001b[39m\u001b[38;5;124m'\u001b[39m:\n\u001b[0;32m   2060\u001b[0m     \u001b[38;5;28;01mif\u001b[39;00m \u001b[38;5;28mself\u001b[39m\u001b[38;5;241m.\u001b[39maxis \u001b[38;5;129;01mis\u001b[39;00m \u001b[38;5;129;01mnot\u001b[39;00m \u001b[38;5;28;01mNone\u001b[39;00m:\n\u001b[1;32m-> 2061\u001b[0m         nbins \u001b[38;5;241m=\u001b[39m np\u001b[38;5;241m.\u001b[39mclip(\u001b[38;5;28;43mself\u001b[39;49m\u001b[38;5;241;43m.\u001b[39;49m\u001b[43maxis\u001b[49m\u001b[38;5;241;43m.\u001b[39;49m\u001b[43mget_tick_space\u001b[49m\u001b[43m(\u001b[49m\u001b[43m)\u001b[49m,\n\u001b[0;32m   2062\u001b[0m                         \u001b[38;5;28mmax\u001b[39m(\u001b[38;5;241m1\u001b[39m, \u001b[38;5;28mself\u001b[39m\u001b[38;5;241m.\u001b[39m_min_n_ticks \u001b[38;5;241m-\u001b[39m \u001b[38;5;241m1\u001b[39m), \u001b[38;5;241m9\u001b[39m)\n\u001b[0;32m   2063\u001b[0m     \u001b[38;5;28;01melse\u001b[39;00m:\n\u001b[0;32m   2064\u001b[0m         nbins \u001b[38;5;241m=\u001b[39m \u001b[38;5;241m9\u001b[39m\n",
      "File \u001b[1;32m~\\anaconda3\\lib\\site-packages\\matplotlib\\axis.py:2263\u001b[0m, in \u001b[0;36mXAxis.get_tick_space\u001b[1;34m(self)\u001b[0m\n\u001b[0;32m   2261\u001b[0m \u001b[38;5;28;01mdef\u001b[39;00m \u001b[38;5;21mget_tick_space\u001b[39m(\u001b[38;5;28mself\u001b[39m):\n\u001b[0;32m   2262\u001b[0m     ends \u001b[38;5;241m=\u001b[39m mtransforms\u001b[38;5;241m.\u001b[39mBbox\u001b[38;5;241m.\u001b[39mfrom_bounds(\u001b[38;5;241m0\u001b[39m, \u001b[38;5;241m0\u001b[39m, \u001b[38;5;241m1\u001b[39m, \u001b[38;5;241m1\u001b[39m)\n\u001b[1;32m-> 2263\u001b[0m     ends \u001b[38;5;241m=\u001b[39m \u001b[43mends\u001b[49m\u001b[38;5;241;43m.\u001b[39;49m\u001b[43mtransformed\u001b[49m\u001b[43m(\u001b[49m\u001b[38;5;28;43mself\u001b[39;49m\u001b[38;5;241;43m.\u001b[39;49m\u001b[43maxes\u001b[49m\u001b[38;5;241;43m.\u001b[39;49m\u001b[43mtransAxes\u001b[49m\u001b[43m \u001b[49m\u001b[38;5;241;43m-\u001b[39;49m\n\u001b[0;32m   2264\u001b[0m \u001b[43m                            \u001b[49m\u001b[38;5;28;43mself\u001b[39;49m\u001b[38;5;241;43m.\u001b[39;49m\u001b[43mfigure\u001b[49m\u001b[38;5;241;43m.\u001b[39;49m\u001b[43mdpi_scale_trans\u001b[49m\u001b[43m)\u001b[49m\n\u001b[0;32m   2265\u001b[0m     length \u001b[38;5;241m=\u001b[39m ends\u001b[38;5;241m.\u001b[39mwidth \u001b[38;5;241m*\u001b[39m \u001b[38;5;241m72\u001b[39m\n\u001b[0;32m   2266\u001b[0m     \u001b[38;5;66;03m# There is a heuristic here that the aspect ratio of tick text\u001b[39;00m\n\u001b[0;32m   2267\u001b[0m     \u001b[38;5;66;03m# is no more than 3:1\u001b[39;00m\n",
      "File \u001b[1;32m~\\anaconda3\\lib\\site-packages\\matplotlib\\transforms.py:492\u001b[0m, in \u001b[0;36mBboxBase.transformed\u001b[1;34m(self, transform)\u001b[0m\n\u001b[0;32m    488\u001b[0m \u001b[38;5;124;03m\"\"\"\u001b[39;00m\n\u001b[0;32m    489\u001b[0m \u001b[38;5;124;03mConstruct a `Bbox` by statically transforming this one by *transform*.\u001b[39;00m\n\u001b[0;32m    490\u001b[0m \u001b[38;5;124;03m\"\"\"\u001b[39;00m\n\u001b[0;32m    491\u001b[0m pts \u001b[38;5;241m=\u001b[39m \u001b[38;5;28mself\u001b[39m\u001b[38;5;241m.\u001b[39mget_points()\n\u001b[1;32m--> 492\u001b[0m ll, ul, lr \u001b[38;5;241m=\u001b[39m \u001b[43mtransform\u001b[49m\u001b[38;5;241;43m.\u001b[39;49m\u001b[43mtransform\u001b[49m\u001b[43m(\u001b[49m\u001b[43mnp\u001b[49m\u001b[38;5;241;43m.\u001b[39;49m\u001b[43marray\u001b[49m\u001b[43m(\u001b[49m\n\u001b[0;32m    493\u001b[0m \u001b[43m    \u001b[49m\u001b[43m[\u001b[49m\u001b[43mpts\u001b[49m\u001b[43m[\u001b[49m\u001b[38;5;241;43m0\u001b[39;49m\u001b[43m]\u001b[49m\u001b[43m,\u001b[49m\u001b[43m \u001b[49m\u001b[43m[\u001b[49m\u001b[43mpts\u001b[49m\u001b[43m[\u001b[49m\u001b[38;5;241;43m0\u001b[39;49m\u001b[43m,\u001b[49m\u001b[43m \u001b[49m\u001b[38;5;241;43m0\u001b[39;49m\u001b[43m]\u001b[49m\u001b[43m,\u001b[49m\u001b[43m \u001b[49m\u001b[43mpts\u001b[49m\u001b[43m[\u001b[49m\u001b[38;5;241;43m1\u001b[39;49m\u001b[43m,\u001b[49m\u001b[43m \u001b[49m\u001b[38;5;241;43m1\u001b[39;49m\u001b[43m]\u001b[49m\u001b[43m]\u001b[49m\u001b[43m,\u001b[49m\u001b[43m \u001b[49m\u001b[43m[\u001b[49m\u001b[43mpts\u001b[49m\u001b[43m[\u001b[49m\u001b[38;5;241;43m1\u001b[39;49m\u001b[43m,\u001b[49m\u001b[43m \u001b[49m\u001b[38;5;241;43m0\u001b[39;49m\u001b[43m]\u001b[49m\u001b[43m,\u001b[49m\u001b[43m \u001b[49m\u001b[43mpts\u001b[49m\u001b[43m[\u001b[49m\u001b[38;5;241;43m0\u001b[39;49m\u001b[43m,\u001b[49m\u001b[43m \u001b[49m\u001b[38;5;241;43m1\u001b[39;49m\u001b[43m]\u001b[49m\u001b[43m]\u001b[49m\u001b[43m]\u001b[49m\u001b[43m)\u001b[49m\u001b[43m)\u001b[49m\n\u001b[0;32m    494\u001b[0m \u001b[38;5;28;01mreturn\u001b[39;00m Bbox([ll, [lr[\u001b[38;5;241m0\u001b[39m], ul[\u001b[38;5;241m1\u001b[39m]]])\n",
      "File \u001b[1;32m~\\anaconda3\\lib\\site-packages\\matplotlib\\transforms.py:1503\u001b[0m, in \u001b[0;36mTransform.transform\u001b[1;34m(self, values)\u001b[0m\n\u001b[0;32m   1500\u001b[0m values \u001b[38;5;241m=\u001b[39m values\u001b[38;5;241m.\u001b[39mreshape((\u001b[38;5;241m-\u001b[39m\u001b[38;5;241m1\u001b[39m, \u001b[38;5;28mself\u001b[39m\u001b[38;5;241m.\u001b[39minput_dims))\n\u001b[0;32m   1502\u001b[0m \u001b[38;5;66;03m# Transform the values\u001b[39;00m\n\u001b[1;32m-> 1503\u001b[0m res \u001b[38;5;241m=\u001b[39m \u001b[38;5;28;43mself\u001b[39;49m\u001b[38;5;241;43m.\u001b[39;49m\u001b[43mtransform_affine\u001b[49m\u001b[43m(\u001b[49m\u001b[38;5;28;43mself\u001b[39;49m\u001b[38;5;241;43m.\u001b[39;49m\u001b[43mtransform_non_affine\u001b[49m\u001b[43m(\u001b[49m\u001b[43mvalues\u001b[49m\u001b[43m)\u001b[49m\u001b[43m)\u001b[49m\n\u001b[0;32m   1505\u001b[0m \u001b[38;5;66;03m# Convert the result back to the shape of the input values.\u001b[39;00m\n\u001b[0;32m   1506\u001b[0m \u001b[38;5;28;01mif\u001b[39;00m ndim \u001b[38;5;241m==\u001b[39m \u001b[38;5;241m0\u001b[39m:\n",
      "File \u001b[1;32m~\\anaconda3\\lib\\site-packages\\matplotlib\\transforms.py:2419\u001b[0m, in \u001b[0;36mCompositeGenericTransform.transform_affine\u001b[1;34m(self, points)\u001b[0m\n\u001b[0;32m   2417\u001b[0m \u001b[38;5;28;01mdef\u001b[39;00m \u001b[38;5;21mtransform_affine\u001b[39m(\u001b[38;5;28mself\u001b[39m, points):\n\u001b[0;32m   2418\u001b[0m     \u001b[38;5;66;03m# docstring inherited\u001b[39;00m\n\u001b[1;32m-> 2419\u001b[0m     \u001b[38;5;28;01mreturn\u001b[39;00m \u001b[38;5;28;43mself\u001b[39;49m\u001b[38;5;241;43m.\u001b[39;49m\u001b[43mget_affine\u001b[49m\u001b[43m(\u001b[49m\u001b[43m)\u001b[49m\u001b[38;5;241m.\u001b[39mtransform(points)\n",
      "File \u001b[1;32m~\\anaconda3\\lib\\site-packages\\matplotlib\\transforms.py:2446\u001b[0m, in \u001b[0;36mCompositeGenericTransform.get_affine\u001b[1;34m(self)\u001b[0m\n\u001b[0;32m   2444\u001b[0m     \u001b[38;5;28;01mreturn\u001b[39;00m \u001b[38;5;28mself\u001b[39m\u001b[38;5;241m.\u001b[39m_b\u001b[38;5;241m.\u001b[39mget_affine()\n\u001b[0;32m   2445\u001b[0m \u001b[38;5;28;01melse\u001b[39;00m:\n\u001b[1;32m-> 2446\u001b[0m     \u001b[38;5;28;01mreturn\u001b[39;00m Affine2D(\u001b[43mnp\u001b[49m\u001b[38;5;241;43m.\u001b[39;49m\u001b[43mdot\u001b[49m\u001b[43m(\u001b[49m\u001b[38;5;28;43mself\u001b[39;49m\u001b[38;5;241;43m.\u001b[39;49m\u001b[43m_b\u001b[49m\u001b[38;5;241;43m.\u001b[39;49m\u001b[43mget_affine\u001b[49m\u001b[43m(\u001b[49m\u001b[43m)\u001b[49m\u001b[38;5;241;43m.\u001b[39;49m\u001b[43mget_matrix\u001b[49m\u001b[43m(\u001b[49m\u001b[43m)\u001b[49m\u001b[43m,\u001b[49m\n\u001b[0;32m   2447\u001b[0m \u001b[43m                           \u001b[49m\u001b[38;5;28;43mself\u001b[39;49m\u001b[38;5;241;43m.\u001b[39;49m\u001b[43m_a\u001b[49m\u001b[38;5;241;43m.\u001b[39;49m\u001b[43mget_affine\u001b[49m\u001b[43m(\u001b[49m\u001b[43m)\u001b[49m\u001b[38;5;241;43m.\u001b[39;49m\u001b[43mget_matrix\u001b[49m\u001b[43m(\u001b[49m\u001b[43m)\u001b[49m\u001b[43m)\u001b[49m)\n",
      "File \u001b[1;32m<__array_function__ internals>:5\u001b[0m, in \u001b[0;36mdot\u001b[1;34m(*args, **kwargs)\u001b[0m\n",
      "\u001b[1;31mKeyboardInterrupt\u001b[0m: "
     ]
    },
    {
     "data": {
      "image/png": "[encoded data removed]",
      "text/plain": [
       "<Figure size 2340x2340 with 169 Axes>"
      ]
     },
     "metadata": {},
     "output_type": "display_data"
    }
   ],
   "source": [
    "# 상관계수 그래프\n",
    "sns.pairplot(data.corr())"
   ]
  },
  {
   "cell_type": "markdown",
   "id": "c7f18457-557d-4861-943a-e81090566c7d",
   "metadata": {},
   "source": [
    "## train, test split"
   ]
  },
  {
   "cell_type": "code",
   "execution_count": 25,
   "id": "e0713bfb-b59f-4c99-8a66-6033878d915b",
   "metadata": {
    "tags": []
   },
   "outputs": [],
   "source": [
    "# 훈련, 테스트 데이터 분리 - 원본 데이터\n",
    "X_train, X_test, y_train, y_test = train_test_split(X, y, test_size=0.2, random_state=42, stratify=y)"
   ]
  },
  {
   "cell_type": "markdown",
   "id": "8cc7340e-6988-408e-bee7-237829bb0b4e",
   "metadata": {
    "jp-MarkdownHeadingCollapsed": true,
    "jupyter": {
     "source_hidden": true
    },
    "tags": []
   },
   "source": [
    "## VIF 높은 컬럼 제거하고 선언 ( 때에 따라 바꿔가며 진행 )"
   ]
  },
  {
   "cell_type": "code",
   "execution_count": 13,
   "id": "3ccabcc3-3d08-4c5f-8c79-84ebc29bf510",
   "metadata": {
    "tags": []
   },
   "outputs": [],
   "source": [
    "data = data.drop(['MUS', 'COMM', 'CARROT'], axis=1)"
   ]
  },
  {
   "cell_type": "code",
   "execution_count": 14,
   "id": "c771f42f-d52e-4cf5-ad27-ef5f27853a4a",
   "metadata": {},
   "outputs": [],
   "source": [
    "X = data.iloc[:, :-1]\n",
    "y = data.iloc[:, -1]"
   ]
  },
  {
   "cell_type": "code",
   "execution_count": 15,
   "id": "f72a93e1-3c28-4717-9905-c40273baf38a",
   "metadata": {},
   "outputs": [],
   "source": [
    "# 훈련, 테스트 데이터 분리\n",
    "X_train, X_test, y_train, y_test = train_test_split(X, y, test_size=0.2, random_state=42, stratify=y)"
   ]
  },
  {
   "cell_type": "markdown",
   "id": "8b3aaaca-1439-4b36-bfb8-3603273b12fa",
   "metadata": {
    "jp-MarkdownHeadingCollapsed": true,
    "jupyter": {
     "source_hidden": true
    },
    "tags": []
   },
   "source": [
    "# 표준화\n",
    "## Strandard Scaler"
   ]
  },
  {
   "cell_type": "code",
   "execution_count": 76,
   "id": "6ebbb1b5-4e48-43a5-8120-a38a0369b91c",
   "metadata": {},
   "outputs": [],
   "source": [
    "# Standard Scaler  ( 표준화 )\n",
    "from sklearn.preprocessing import StandardScaler\n",
    "\n",
    "std = StandardScaler()\n",
    "std_data = std.fit_transform(data.iloc[:, :])"
   ]
  },
  {
   "cell_type": "code",
   "execution_count": 77,
   "id": "d8437424-9efb-4623-9214-3493a371f74e",
   "metadata": {},
   "outputs": [],
   "source": [
    "# 표준화된 행렬 -> 데이터프레임 변환 \n",
    "scaled_df = pd.DataFrame(std_data, columns=[data.columns])"
   ]
  },
  {
   "cell_type": "code",
   "execution_count": 78,
   "id": "57902657-3dd0-4b64-a9f7-be5337edc065",
   "metadata": {
    "tags": []
   },
   "outputs": [],
   "source": [
    "# 독립변수 ( data )\n",
    "X = scaled_df.iloc[:,:10]"
   ]
  },
  {
   "cell_type": "code",
   "execution_count": 79,
   "id": "6665784d-503b-4f06-8ad2-fd7317b65225",
   "metadata": {},
   "outputs": [],
   "source": [
    "# 종속변수 ( target )\n",
    "y = scaled_df.iloc[:,-1]"
   ]
  },
  {
   "cell_type": "code",
   "execution_count": 80,
   "id": "e312081a-1f5c-4487-bc31-38f69a047390",
   "metadata": {},
   "outputs": [],
   "source": [
    "# 흔련, 테스트 데이터 분리 - Scaled Data\n",
    "X_train, X_test, y_train, y_test = train_test_split(X, y, test_size=0.2, random_state=369, stratify=y)"
   ]
  },
  {
   "cell_type": "markdown",
   "id": "af2ff55a-1ead-40a3-a506-09d0c7ac7d4a",
   "metadata": {
    "jp-MarkdownHeadingCollapsed": true,
    "jupyter": {
     "source_hidden": true
    },
    "tags": []
   },
   "source": [
    "## Min-Max Scaler"
   ]
  },
  {
   "cell_type": "code",
   "execution_count": 91,
   "id": "194a4f15-1eb4-47ae-be75-ae2996b293dc",
   "metadata": {
    "tags": []
   },
   "outputs": [],
   "source": [
    "from sklearn.preprocessing import MinMaxScaler\n",
    "\n",
    "scaler = MinMaxScaler()\n",
    "scaled_data = scaler.fit_transform(data)"
   ]
  },
  {
   "cell_type": "code",
   "execution_count": 92,
   "id": "c55280d0-e1ab-4fad-b4ab-1a189cc52526",
   "metadata": {},
   "outputs": [],
   "source": [
    "# 표준화된 행렬 -> 데이터프레임 변환 \n",
    "scaled_df = pd.DataFrame(scaled_data, columns=[data.columns])"
   ]
  },
  {
   "cell_type": "code",
   "execution_count": 93,
   "id": "6ee84bca-ec9b-4a8c-a770-f7a7c7a7d344",
   "metadata": {
    "tags": []
   },
   "outputs": [],
   "source": [
    "# 독립변수 ( data )\n",
    "X = scaled_df.iloc[:,:-1]"
   ]
  },
  {
   "cell_type": "code",
   "execution_count": 94,
   "id": "8aef1674-8d93-48d5-930b-d1c672893ba7",
   "metadata": {},
   "outputs": [],
   "source": [
    "# 종속변수 ( target )\n",
    "y = scaled_df.iloc[:,-1]"
   ]
  },
  {
   "cell_type": "code",
   "execution_count": 95,
   "id": "dcc9ec5a-1f30-497a-b97c-6b3fb5629c60",
   "metadata": {},
   "outputs": [],
   "source": [
    "# 흔련, 테스트 데이터 분리 - Scaled Data\n",
    "X_train, X_test, y_train, y_test = train_test_split(X, y, test_size=0.2, random_state=369, stratify=y)"
   ]
  },
  {
   "cell_type": "markdown",
   "id": "b5ce35b0-5807-44b2-9cd2-119f042c3104",
   "metadata": {
    "jp-MarkdownHeadingCollapsed": true,
    "jupyter": {
     "source_hidden": true
    },
    "tags": []
   },
   "source": [
    "# 다중공선성 확인"
   ]
  },
  {
   "cell_type": "code",
   "execution_count": 7,
   "id": "e7d944c5-9495-4d91-9002-05167f6f165b",
   "metadata": {},
   "outputs": [],
   "source": [
    "from statsmodels import api\n",
    "ols = api.OLS(y, X)\n",
    "result = ols.fit()"
   ]
  },
  {
   "cell_type": "code",
   "execution_count": 8,
   "id": "7f0c77dd-0620-4f17-87bc-4a229f36f496",
   "metadata": {},
   "outputs": [
    {
     "name": "stdout",
     "output_type": "stream",
     "text": [
      "                                 OLS Regression Results                                \n",
      "=======================================================================================\n",
      "Dep. Variable:                 CHARGE   R-squared (uncentered):                   0.760\n",
      "Model:                            OLS   Adj. R-squared (uncentered):              0.746\n",
      "Method:                 Least Squares   F-statistic:                              57.79\n",
      "Date:                Wed, 17 Aug 2022   Prob (F-statistic):                    2.58e-51\n",
      "Time:                        03:59:25   Log-Likelihood:                         -177.28\n",
      "No. Observations:                 193   AIC:                                      374.6\n",
      "Df Residuals:                     183   BIC:                                      407.2\n",
      "Df Model:                          10                                                  \n",
      "Covariance Type:            nonrobust                                                  \n",
      "==============================================================================\n",
      "                 coef    std err          t      P>|t|      [0.025      0.975]\n",
      "------------------------------------------------------------------------------\n",
      "TRAD           0.8425      0.123      6.853      0.000       0.600       1.085\n",
      "CONCERT        0.1686      0.136      1.241      0.216      -0.099       0.437\n",
      "OLD           -0.1342      0.061     -2.205      0.029      -0.254      -0.014\n",
      "MART          -0.1678      0.124     -1.357      0.176      -0.412       0.076\n",
      "LIB            0.0552      0.018      3.065      0.003       0.020       0.091\n",
      "ART            0.1401      0.115      1.221      0.224      -0.086       0.367\n",
      "MED            0.1003      0.028      3.613      0.000       0.046       0.155\n",
      "SPORT          0.0511      0.011      4.538      0.000       0.029       0.073\n",
      "OWN            0.0086      0.005      1.673      0.096      -0.002       0.019\n",
      "JOB            0.0037      0.001      5.154      0.000       0.002       0.005\n",
      "==============================================================================\n",
      "Omnibus:                       51.730   Durbin-Watson:                   1.784\n",
      "Prob(Omnibus):                  0.000   Jarque-Bera (JB):              123.142\n",
      "Skew:                           1.184   Prob(JB):                     1.82e-27\n",
      "Kurtosis:                       6.115   Cond. No.                         253.\n",
      "==============================================================================\n",
      "\n",
      "Notes:\n",
      "[1] R² is computed without centering (uncentered) since the model does not contain a constant.\n",
      "[2] Standard Errors assume that the covariance matrix of the errors is correctly specified.\n"
     ]
    }
   ],
   "source": [
    "print(result.summary())"
   ]
  },
  {
   "cell_type": "markdown",
   "id": "dda1de9a-d1a9-4dd3-8390-36dde610757a",
   "metadata": {
    "jp-MarkdownHeadingCollapsed": true,
    "jupyter": {
     "source_hidden": true
    },
    "tags": []
   },
   "source": [
    "## VIF ( Variance Inflation Factors ) 확인"
   ]
  },
  {
   "cell_type": "code",
   "execution_count": 29,
   "id": "3153e155-6bd8-481a-9519-2e1fce4ec917",
   "metadata": {},
   "outputs": [],
   "source": [
    "from statsmodels.stats.outliers_influence import variance_inflation_factor"
   ]
  },
  {
   "cell_type": "code",
   "execution_count": 30,
   "id": "12ee6ddf-09b6-4c63-9aa4-14cfb0e12d69",
   "metadata": {},
   "outputs": [],
   "source": [
    "def feature_engineering_XbyVIF(X):\n",
    "    vif = pd.DataFrame()\n",
    "    vif['VIF_Factor'] = [variance_inflation_factor(X.values, i)\n",
    "                         for i in range(X.shape[1])]\n",
    "    vif['Feature'] = X.columns\n",
    "    return vif"
   ]
  },
  {
   "cell_type": "code",
   "execution_count": 31,
   "id": "8ec147e7-0ee7-40cd-8523-1ddf17a99cdc",
   "metadata": {},
   "outputs": [],
   "source": [
    "vif = feature_engineering_XbyVIF(X)"
   ]
  },
  {
   "cell_type": "code",
   "execution_count": 32,
   "id": "539d576c-b482-4a78-8f35-611bb6870ca6",
   "metadata": {},
   "outputs": [
    {
     "name": "stdout",
     "output_type": "stream",
     "text": [
      "    VIF_Factor     Feature\n",
      "0     1.827092     (TRAD,)\n",
      "1     1.618133  (CONCERT,)\n",
      "2     1.653440      (OLD,)\n",
      "3     1.473029     (MART,)\n",
      "4     3.656890      (LIB,)\n",
      "5     1.128756      (ART,)\n",
      "6     1.262073      (MUS,)\n",
      "7     4.120794     (COMM,)\n",
      "8     1.714413    (SPORT,)\n",
      "9     1.984134      (OWN,)\n",
      "10    1.757838      (JOB,)\n",
      "11    2.192056   (CARROT,)\n"
     ]
    }
   ],
   "source": [
    "print(vif)"
   ]
  },
  {
   "cell_type": "markdown",
   "id": "8a054d66-57c3-4626-b256-a58a88f1a2f7",
   "metadata": {},
   "source": [
    "- VIF 가 4이상인 경우, 다중공선성이 존재한다고 판단, 변수 제거"
   ]
  },
  {
   "cell_type": "markdown",
   "id": "bb667864-87f9-425b-a9a0-259fc2f4c789",
   "metadata": {
    "tags": []
   },
   "source": [
    "# 모델 학습\n",
    "## Multi-regression"
   ]
  },
  {
   "cell_type": "code",
   "execution_count": 26,
   "id": "a86c5433-a885-4c2f-bef9-199b1496bd1d",
   "metadata": {},
   "outputs": [],
   "source": [
    "model = LinearRegression()"
   ]
  },
  {
   "cell_type": "code",
   "execution_count": 27,
   "id": "6a7aa8ea-4c48-44b3-b357-dc233a271351",
   "metadata": {},
   "outputs": [
    {
     "data": {
      "text/html": [
       "<style>#sk-container-id-3 {color: black;background-color: white;}#sk-container-id-3 pre{padding: 0;}#sk-container-id-3 div.sk-toggleable {background-color: white;}#sk-container-id-3 label.sk-toggleable__label {cursor: pointer;display: block;width: 100%;margin-bottom: 0;padding: 0.3em;box-sizing: border-box;text-align: center;}#sk-container-id-3 label.sk-toggleable__label-arrow:before {content: \"▸\";float: left;margin-right: 0.25em;color: #696969;}#sk-container-id-3 label.sk-toggleable__label-arrow:hover:before {color: black;}#sk-container-id-3 div.sk-estimator:hover label.sk-toggleable__label-arrow:before {color: black;}#sk-container-id-3 div.sk-toggleable__content {max-height: 0;max-width: 0;overflow: hidden;text-align: left;background-color: #f0f8ff;}#sk-container-id-3 div.sk-toggleable__content pre {margin: 0.2em;color: black;border-radius: 0.25em;background-color: #f0f8ff;}#sk-container-id-3 input.sk-toggleable__control:checked~div.sk-toggleable__content {max-height: 200px;max-width: 100%;overflow: auto;}#sk-container-id-3 input.sk-toggleable__control:checked~label.sk-toggleable__label-arrow:before {content: \"▾\";}#sk-container-id-3 div.sk-estimator input.sk-toggleable__control:checked~label.sk-toggleable__label {background-color: #d4ebff;}#sk-container-id-3 div.sk-label input.sk-toggleable__control:checked~label.sk-toggleable__label {background-color: #d4ebff;}#sk-container-id-3 input.sk-hidden--visually {border: 0;clip: rect(1px 1px 1px 1px);clip: rect(1px, 1px, 1px, 1px);height: 1px;margin: -1px;overflow: hidden;padding: 0;position: absolute;width: 1px;}#sk-container-id-3 div.sk-estimator {font-family: monospace;background-color: #f0f8ff;border: 1px dotted black;border-radius: 0.25em;box-sizing: border-box;margin-bottom: 0.5em;}#sk-container-id-3 div.sk-estimator:hover {background-color: #d4ebff;}#sk-container-id-3 div.sk-parallel-item::after {content: \"\";width: 100%;border-bottom: 1px solid gray;flex-grow: 1;}#sk-container-id-3 div.sk-label:hover label.sk-toggleable__label {background-color: #d4ebff;}#sk-container-id-3 div.sk-serial::before {content: \"\";position: absolute;border-left: 1px solid gray;box-sizing: border-box;top: 0;bottom: 0;left: 50%;z-index: 0;}#sk-container-id-3 div.sk-serial {display: flex;flex-direction: column;align-items: center;background-color: white;padding-right: 0.2em;padding-left: 0.2em;position: relative;}#sk-container-id-3 div.sk-item {position: relative;z-index: 1;}#sk-container-id-3 div.sk-parallel {display: flex;align-items: stretch;justify-content: center;background-color: white;position: relative;}#sk-container-id-3 div.sk-item::before, #sk-container-id-3 div.sk-parallel-item::before {content: \"\";position: absolute;border-left: 1px solid gray;box-sizing: border-box;top: 0;bottom: 0;left: 50%;z-index: -1;}#sk-container-id-3 div.sk-parallel-item {display: flex;flex-direction: column;z-index: 1;position: relative;background-color: white;}#sk-container-id-3 div.sk-parallel-item:first-child::after {align-self: flex-end;width: 50%;}#sk-container-id-3 div.sk-parallel-item:last-child::after {align-self: flex-start;width: 50%;}#sk-container-id-3 div.sk-parallel-item:only-child::after {width: 0;}#sk-container-id-3 div.sk-dashed-wrapped {border: 1px dashed gray;margin: 0 0.4em 0.5em 0.4em;box-sizing: border-box;padding-bottom: 0.4em;background-color: white;}#sk-container-id-3 div.sk-label label {font-family: monospace;font-weight: bold;display: inline-block;line-height: 1.2em;}#sk-container-id-3 div.sk-label-container {text-align: center;}#sk-container-id-3 div.sk-container {/* jupyter's `normalize.less` sets `[hidden] { display: none; }` but bootstrap.min.css set `[hidden] { display: none !important; }` so we also need the `!important` here to be able to override the default hidden behavior on the sphinx rendered scikit-learn.org. See: https://github.com/scikit-learn/scikit-learn/issues/21755 */display: inline-block !important;position: relative;}#sk-container-id-3 div.sk-text-repr-fallback {display: none;}</style><div id=\"sk-container-id-3\" class=\"sk-top-container\"><div class=\"sk-text-repr-fallback\"><pre>LinearRegression()</pre><b>In a Jupyter environment, please rerun this cell to show the HTML representation or trust the notebook. <br />On GitHub, the HTML representation is unable to render, please try loading this page with nbviewer.org.</b></div><div class=\"sk-container\" hidden><div class=\"sk-item\"><div class=\"sk-estimator sk-toggleable\"><input class=\"sk-toggleable__control sk-hidden--visually\" id=\"sk-estimator-id-3\" type=\"checkbox\" checked><label for=\"sk-estimator-id-3\" class=\"sk-toggleable__label sk-toggleable__label-arrow\">LinearRegression</label><div class=\"sk-toggleable__content\"><pre>LinearRegression()</pre></div></div></div></div></div>"
      ],
      "text/plain": [
       "LinearRegression()"
      ]
     },
     "execution_count": 27,
     "metadata": {},
     "output_type": "execute_result"
    }
   ],
   "source": [
    "model.fit(X_train, y_train)"
   ]
  },
  {
   "cell_type": "code",
   "execution_count": 28,
   "id": "187b4451-afb1-4713-bc86-1c0b4b03dc18",
   "metadata": {
    "tags": []
   },
   "outputs": [
    {
     "name": "stdout",
     "output_type": "stream",
     "text": [
      "훈련 세트의 정확도 : 0.6860575880300621\n",
      "테스트 세트의 정확도 : 0.7171574232060246\n",
      "사용한 특성의 수 : 13\n"
     ]
    }
   ],
   "source": [
    "print(f'훈련 세트의 정확도 : {model.score(X_train, y_train)}')\n",
    "print(f'테스트 세트의 정확도 : {model.score(X_test, y_test)}')\n",
    "print(f'사용한 특성의 수 : {np.sum(model.coef_ != 0)}')"
   ]
  },
  {
   "cell_type": "code",
   "execution_count": 36,
   "id": "0317148c-6fe1-4a49-ab3a-5d5a65050b56",
   "metadata": {
    "jupyter": {
     "source_hidden": true
    },
    "tags": []
   },
   "outputs": [],
   "source": [
    "model_pred = model.predict(X_test)"
   ]
  },
  {
   "cell_type": "code",
   "execution_count": 37,
   "id": "c9598746-e9aa-496e-a4cf-f6ec34e14a9b",
   "metadata": {
    "jupyter": {
     "source_hidden": true
    },
    "tags": []
   },
   "outputs": [],
   "source": [
    "residual = y_test - model_pred"
   ]
  },
  {
   "cell_type": "code",
   "execution_count": 38,
   "id": "36b5307c-28c7-4d70-979b-7efb6be3eae8",
   "metadata": {
    "collapsed": true,
    "jupyter": {
     "outputs_hidden": true,
     "source_hidden": true
    },
    "tags": []
   },
   "outputs": [
    {
     "name": "stdout",
     "output_type": "stream",
     "text": [
      "잔차 평균 : -0.012467962422250765\n"
     ]
    }
   ],
   "source": [
    "print(f'잔차 평균 : {np.mean(residual)}')"
   ]
  },
  {
   "cell_type": "code",
   "execution_count": 39,
   "id": "7cfac301-1a7a-4c6c-b062-73a1b88d86bf",
   "metadata": {
    "collapsed": true,
    "jupyter": {
     "outputs_hidden": true,
     "source_hidden": true
    },
    "tags": []
   },
   "outputs": [
    {
     "data": {
      "text/plain": [
       "<bound method NDFrame.describe of 183   -0.027395\n",
       "80     0.110113\n",
       "20    -0.110844\n",
       "94    -0.021549\n",
       "110   -0.037904\n",
       "146   -0.330665\n",
       "79    -0.200440\n",
       "101   -0.021549\n",
       "133   -0.017557\n",
       "177   -0.007572\n",
       "24     0.167696\n",
       "163   -0.137165\n",
       "27     0.002547\n",
       "76    -0.037904\n",
       "173   -0.019072\n",
       "83    -0.029727\n",
       "90     0.087793\n",
       "137   -0.118068\n",
       "78    -0.192213\n",
       "161    0.016421\n",
       "36     0.242093\n",
       "37    -0.050268\n",
       "145    0.002547\n",
       "168   -0.005194\n",
       "175   -0.005194\n",
       "41     0.037986\n",
       "77     0.246871\n",
       "38    -0.021549\n",
       "51    -0.013372\n",
       "19     0.072581\n",
       "65     0.000066\n",
       "140   -0.005194\n",
       "96    -0.013372\n",
       "86     0.251404\n",
       "42    -0.013372\n",
       "112   -0.013372\n",
       "31    -0.017557\n",
       "26    -0.005194\n",
       "100   -0.251105\n",
       "Name: (CHARGE,), dtype: float64>"
      ]
     },
     "execution_count": 39,
     "metadata": {},
     "output_type": "execute_result"
    }
   ],
   "source": [
    "residual.describe"
   ]
  },
  {
   "cell_type": "markdown",
   "id": "fc4ec656-96bd-44a9-be07-333dfc7ff692",
   "metadata": {
    "jp-MarkdownHeadingCollapsed": true,
    "jupyter": {
     "source_hidden": true
    },
    "tags": []
   },
   "source": [
    "### 다중선형회귀로 수요 분석"
   ]
  },
  {
   "cell_type": "code",
   "execution_count": 40,
   "id": "38e0fa56-cfdb-4b39-b399-c1f01663e9c9",
   "metadata": {},
   "outputs": [],
   "source": [
    "# 기설치 충전소 개수와 분석 결과로 획득한 수요 개수의 차이 비교\n",
    "true_demand = pd.DataFrame({'수요 분석 결과' : model.predict(X),\n",
    "              '기설치 충전소 개수' : y,\n",
    "              '결과 수요 개수' : model.predict(X) - y})"
   ]
  },
  {
   "cell_type": "code",
   "execution_count": 41,
   "id": "2a1f4fa6-2f4d-496d-af68-4d3e13189484",
   "metadata": {},
   "outputs": [
    {
     "name": "stdout",
     "output_type": "stream",
     "text": [
      "분석 결과 충전소 수요 개수 : 0개\n"
     ]
    }
   ],
   "source": [
    "true_demand_list = true_demand[true_demand['결과 수요 개수'] >= 0.5].sort_values(by='결과 수요 개수')\n",
    "print(f'분석 결과 충전소 수요 개수 : {len(true_demand_list)}개')"
   ]
  },
  {
   "cell_type": "markdown",
   "id": "a4d7df71-6ebc-4c32-80b0-d258275b41b6",
   "metadata": {
    "jp-MarkdownHeadingCollapsed": true,
    "tags": []
   },
   "source": [
    "#### CHARGE 0개 대상 분석"
   ]
  },
  {
   "cell_type": "code",
   "execution_count": 42,
   "id": "1088f429-9b4d-4111-9aab-e5ea9d428dad",
   "metadata": {},
   "outputs": [],
   "source": [
    "# CHARGE가 0개인 X_test 생성\n",
    "X_test_charge0 = data[data['CHARGE'] == 0].iloc[:, :-1]"
   ]
  },
  {
   "cell_type": "code",
   "execution_count": 43,
   "id": "e48c3206-6a1c-49a6-b59a-da582ce55171",
   "metadata": {},
   "outputs": [
    {
     "name": "stderr",
     "output_type": "stream",
     "text": [
      "C:\\Users\\user\\anaconda3\\lib\\site-packages\\sklearn\\base.py:443: UserWarning: X has feature names, but LinearRegression was fitted without feature names\n",
      "  warnings.warn(\n"
     ]
    }
   ],
   "source": [
    "# 생성한 test data 예측 결과 저장\n",
    "y_pred_charge0 = model.predict(X_test_charge0)"
   ]
  },
  {
   "cell_type": "code",
   "execution_count": 44,
   "id": "710e4bc6-4ffb-4d95-9643-4f81fc38bc35",
   "metadata": {},
   "outputs": [],
   "source": [
    "# 동이름만 가져와서 합친 데이터프레임 생성\n",
    "## 예측 결과 -> charge_demand 컬럼의 df 생성\n",
    "y_pred_charge0_df = pd.DataFrame(y_pred_charge0, columns=['charge_demand'])\n",
    "\n",
    "## charge가 0인 동이름 가져와서 df 생성 \n",
    "addr_charge0 = pd.DataFrame(X_test_charge0.index.values, columns=['동이름'])\n",
    "\n",
    "# 동이름과 charge_demand가 합쳐진 df 생성\n",
    "merged_charge0_df = pd.concat([addr_charge0, y_pred_charge0_df], axis=1).set_index('동이름')"
   ]
  },
  {
   "cell_type": "code",
   "execution_count": 45,
   "id": "31e34e2a-2e4f-4ee5-bcfb-3e25c7d54537",
   "metadata": {
    "tags": []
   },
   "outputs": [],
   "source": [
    "# charge_demand가 0.7 이상인 row만 조회, 높은 것부터 조회\n",
    "demand_df_charge0 = merged_charge0_df[merged_charge0_df['charge_demand'] > 0.7].sort_values(by='charge_demand', ascending=False)"
   ]
  },
  {
   "cell_type": "code",
   "execution_count": 46,
   "id": "7bd81131-8612-4cae-a7d4-13577b056e47",
   "metadata": {},
   "outputs": [
    {
     "data": {
      "text/html": [
       "<div>\n",
       "<style scoped>\n",
       "    .dataframe tbody tr th:only-of-type {\n",
       "        vertical-align: middle;\n",
       "    }\n",
       "\n",
       "    .dataframe tbody tr th {\n",
       "        vertical-align: top;\n",
       "    }\n",
       "\n",
       "    .dataframe thead th {\n",
       "        text-align: right;\n",
       "    }\n",
       "</style>\n",
       "<table border=\"1\" class=\"dataframe\">\n",
       "  <thead>\n",
       "    <tr style=\"text-align: right;\">\n",
       "      <th></th>\n",
       "      <th>charge_demand</th>\n",
       "    </tr>\n",
       "    <tr>\n",
       "      <th>동이름</th>\n",
       "      <th></th>\n",
       "    </tr>\n",
       "  </thead>\n",
       "  <tbody>\n",
       "    <tr>\n",
       "      <th>옥동</th>\n",
       "      <td>98.344533</td>\n",
       "    </tr>\n",
       "    <tr>\n",
       "      <th>소촌동</th>\n",
       "      <td>94.676143</td>\n",
       "    </tr>\n",
       "    <tr>\n",
       "      <th>서창동</th>\n",
       "      <td>68.180437</td>\n",
       "    </tr>\n",
       "    <tr>\n",
       "      <th>임암동</th>\n",
       "      <td>56.472850</td>\n",
       "    </tr>\n",
       "    <tr>\n",
       "      <th>광천동</th>\n",
       "      <td>44.500692</td>\n",
       "    </tr>\n",
       "    <tr>\n",
       "      <th>북동</th>\n",
       "      <td>36.285386</td>\n",
       "    </tr>\n",
       "    <tr>\n",
       "      <th>서동</th>\n",
       "      <td>35.425811</td>\n",
       "    </tr>\n",
       "    <tr>\n",
       "      <th>신창동</th>\n",
       "      <td>26.741150</td>\n",
       "    </tr>\n",
       "    <tr>\n",
       "      <th>백운동</th>\n",
       "      <td>23.625330</td>\n",
       "    </tr>\n",
       "    <tr>\n",
       "      <th>동구_지산동</th>\n",
       "      <td>20.715237</td>\n",
       "    </tr>\n",
       "    <tr>\n",
       "      <th>신가동</th>\n",
       "      <td>15.807112</td>\n",
       "    </tr>\n",
       "    <tr>\n",
       "      <th>문흥동</th>\n",
       "      <td>15.468712</td>\n",
       "    </tr>\n",
       "    <tr>\n",
       "      <th>매곡동</th>\n",
       "      <td>14.119519</td>\n",
       "    </tr>\n",
       "    <tr>\n",
       "      <th>임동</th>\n",
       "      <td>12.280866</td>\n",
       "    </tr>\n",
       "    <tr>\n",
       "      <th>삼도동</th>\n",
       "      <td>6.653882</td>\n",
       "    </tr>\n",
       "    <tr>\n",
       "      <th>임곡동</th>\n",
       "      <td>5.081050</td>\n",
       "    </tr>\n",
       "    <tr>\n",
       "      <th>신용동</th>\n",
       "      <td>3.391657</td>\n",
       "    </tr>\n",
       "    <tr>\n",
       "      <th>운림동</th>\n",
       "      <td>2.561710</td>\n",
       "    </tr>\n",
       "    <tr>\n",
       "      <th>행암동</th>\n",
       "      <td>2.301497</td>\n",
       "    </tr>\n",
       "    <tr>\n",
       "      <th>용산동</th>\n",
       "      <td>2.228332</td>\n",
       "    </tr>\n",
       "    <tr>\n",
       "      <th>신촌동</th>\n",
       "      <td>1.927749</td>\n",
       "    </tr>\n",
       "    <tr>\n",
       "      <th>하산동</th>\n",
       "      <td>1.799611</td>\n",
       "    </tr>\n",
       "    <tr>\n",
       "      <th>유촌동</th>\n",
       "      <td>1.789882</td>\n",
       "    </tr>\n",
       "    <tr>\n",
       "      <th>대촌동</th>\n",
       "      <td>1.347785</td>\n",
       "    </tr>\n",
       "    <tr>\n",
       "      <th>장덕동</th>\n",
       "      <td>1.220059</td>\n",
       "    </tr>\n",
       "    <tr>\n",
       "      <th>망월동</th>\n",
       "      <td>1.058943</td>\n",
       "    </tr>\n",
       "    <tr>\n",
       "      <th>연제동</th>\n",
       "      <td>1.011866</td>\n",
       "    </tr>\n",
       "    <tr>\n",
       "      <th>선동</th>\n",
       "      <td>0.986503</td>\n",
       "    </tr>\n",
       "    <tr>\n",
       "      <th>대인동</th>\n",
       "      <td>0.920044</td>\n",
       "    </tr>\n",
       "    <tr>\n",
       "      <th>선교동</th>\n",
       "      <td>0.900042</td>\n",
       "    </tr>\n",
       "    <tr>\n",
       "      <th>구동</th>\n",
       "      <td>0.857975</td>\n",
       "    </tr>\n",
       "    <tr>\n",
       "      <th>월남동</th>\n",
       "      <td>0.857210</td>\n",
       "    </tr>\n",
       "    <tr>\n",
       "      <th>안청동</th>\n",
       "      <td>0.822952</td>\n",
       "    </tr>\n",
       "    <tr>\n",
       "      <th>도덕동</th>\n",
       "      <td>0.782888</td>\n",
       "    </tr>\n",
       "    <tr>\n",
       "      <th>덕흥동</th>\n",
       "      <td>0.736490</td>\n",
       "    </tr>\n",
       "  </tbody>\n",
       "</table>\n",
       "</div>"
      ],
      "text/plain": [
       "        charge_demand\n",
       "동이름                  \n",
       "옥동          98.344533\n",
       "소촌동         94.676143\n",
       "서창동         68.180437\n",
       "임암동         56.472850\n",
       "광천동         44.500692\n",
       "북동          36.285386\n",
       "서동          35.425811\n",
       "신창동         26.741150\n",
       "백운동         23.625330\n",
       "동구_지산동      20.715237\n",
       "신가동         15.807112\n",
       "문흥동         15.468712\n",
       "매곡동         14.119519\n",
       "임동          12.280866\n",
       "삼도동          6.653882\n",
       "임곡동          5.081050\n",
       "신용동          3.391657\n",
       "운림동          2.561710\n",
       "행암동          2.301497\n",
       "용산동          2.228332\n",
       "신촌동          1.927749\n",
       "하산동          1.799611\n",
       "유촌동          1.789882\n",
       "대촌동          1.347785\n",
       "장덕동          1.220059\n",
       "망월동          1.058943\n",
       "연제동          1.011866\n",
       "선동           0.986503\n",
       "대인동          0.920044\n",
       "선교동          0.900042\n",
       "구동           0.857975\n",
       "월남동          0.857210\n",
       "안청동          0.822952\n",
       "도덕동          0.782888\n",
       "덕흥동          0.736490"
      ]
     },
     "execution_count": 46,
     "metadata": {},
     "output_type": "execute_result"
    }
   ],
   "source": [
    "demand_df_charge0"
   ]
  },
  {
   "cell_type": "code",
   "execution_count": 47,
   "id": "bec39aea-112b-40ba-ae23-9405cb62cece",
   "metadata": {},
   "outputs": [
    {
     "name": "stdout",
     "output_type": "stream",
     "text": [
      "수요 지수가 0.7 이상인 동 : 35\n"
     ]
    }
   ],
   "source": [
    "print(f'수요 지수가 0.7 이상인 동 : {len(demand_df_charge0)}')"
   ]
  },
  {
   "cell_type": "code",
   "execution_count": 48,
   "id": "32085df7-268a-45c5-a8e6-39f164368e04",
   "metadata": {},
   "outputs": [],
   "source": [
    "# demand_df의 인덱스 값이 저장된 리스트 생성\n",
    "demand_list_charge0 = demand_df_charge0.index.values"
   ]
  },
  {
   "cell_type": "code",
   "execution_count": 49,
   "id": "c0ecb7b1-66cf-4ca9-804e-2137d3572718",
   "metadata": {},
   "outputs": [],
   "source": [
    "# concat용 빈 DF 생성\n",
    "merged_df_charge0 = pd.DataFrame()"
   ]
  },
  {
   "cell_type": "code",
   "execution_count": 100,
   "id": "0ff17d2f-d019-43ea-908a-a0e6ffd2a2ee",
   "metadata": {
    "tags": []
   },
   "outputs": [],
   "source": [
    "# 빈 DF에 동이름이 demand_list와 같은 ( charge_demand가 0.7 이상인 ) 데이터들로 이루어진 DF 생성\n",
    "for i in range(len(demand_list_charge0)):\n",
    "    merged_df_charge0 = pd.concat([merged_df_charge0, data.reset_index()[data.reset_index()['EMD_NM'] == demand_list_charge0[i]]], axis=0)"
   ]
  },
  {
   "cell_type": "code",
   "execution_count": 102,
   "id": "0ee80c4c-d185-4474-8a4f-9a6540893108",
   "metadata": {},
   "outputs": [],
   "source": [
    "# CHARGE 0개 대상 분석 결과 DF 생성\n",
    "## demand_df가 저장하고 있는 model.predict 값이 실수이므로, merged_df의 dtype을 float64로 변경해야함\n",
    "mlr_charge0_final = pd.concat([merged_df_charge0.set_index('EMD_NM').astype('float64'), demand_df_charge0], axis=1)"
   ]
  },
  {
   "cell_type": "code",
   "execution_count": 103,
   "id": "f414c9ef-a466-4cb8-a54e-34095b1d4d39",
   "metadata": {
    "collapsed": true,
    "jupyter": {
     "outputs_hidden": true
    },
    "tags": []
   },
   "outputs": [
    {
     "data": {
      "text/html": [
       "<div>\n",
       "<style scoped>\n",
       "    .dataframe tbody tr th:only-of-type {\n",
       "        vertical-align: middle;\n",
       "    }\n",
       "\n",
       "    .dataframe tbody tr th {\n",
       "        vertical-align: top;\n",
       "    }\n",
       "\n",
       "    .dataframe thead th {\n",
       "        text-align: right;\n",
       "    }\n",
       "</style>\n",
       "<table border=\"1\" class=\"dataframe\">\n",
       "  <thead>\n",
       "    <tr style=\"text-align: right;\">\n",
       "      <th></th>\n",
       "      <th>TRAD</th>\n",
       "      <th>CONCERT</th>\n",
       "      <th>OLD</th>\n",
       "      <th>MART</th>\n",
       "      <th>LIB</th>\n",
       "      <th>ART</th>\n",
       "      <th>MUS</th>\n",
       "      <th>MED</th>\n",
       "      <th>COMM</th>\n",
       "      <th>SPORT</th>\n",
       "      <th>OWN</th>\n",
       "      <th>JOB</th>\n",
       "      <th>CARROT</th>\n",
       "      <th>CHARGE</th>\n",
       "      <th>charge_demand</th>\n",
       "    </tr>\n",
       "  </thead>\n",
       "  <tbody>\n",
       "    <tr>\n",
       "      <th>옥동</th>\n",
       "      <td>0.0</td>\n",
       "      <td>0.0</td>\n",
       "      <td>0.0</td>\n",
       "      <td>0.0</td>\n",
       "      <td>0.0</td>\n",
       "      <td>0.0</td>\n",
       "      <td>0.0</td>\n",
       "      <td>0.0</td>\n",
       "      <td>1.0</td>\n",
       "      <td>3.0</td>\n",
       "      <td>0.0</td>\n",
       "      <td>210.0</td>\n",
       "      <td>1.0</td>\n",
       "      <td>0.0</td>\n",
       "      <td>98.344533</td>\n",
       "    </tr>\n",
       "    <tr>\n",
       "      <th>소촌동</th>\n",
       "      <td>0.0</td>\n",
       "      <td>0.0</td>\n",
       "      <td>3.0</td>\n",
       "      <td>0.0</td>\n",
       "      <td>1.0</td>\n",
       "      <td>0.0</td>\n",
       "      <td>0.0</td>\n",
       "      <td>1.0</td>\n",
       "      <td>0.0</td>\n",
       "      <td>15.0</td>\n",
       "      <td>5.0</td>\n",
       "      <td>197.0</td>\n",
       "      <td>1.0</td>\n",
       "      <td>0.0</td>\n",
       "      <td>94.676143</td>\n",
       "    </tr>\n",
       "    <tr>\n",
       "      <th>서창동</th>\n",
       "      <td>0.0</td>\n",
       "      <td>0.0</td>\n",
       "      <td>1.0</td>\n",
       "      <td>0.0</td>\n",
       "      <td>0.0</td>\n",
       "      <td>0.0</td>\n",
       "      <td>0.0</td>\n",
       "      <td>0.0</td>\n",
       "      <td>0.0</td>\n",
       "      <td>5.0</td>\n",
       "      <td>0.0</td>\n",
       "      <td>145.0</td>\n",
       "      <td>0.0</td>\n",
       "      <td>0.0</td>\n",
       "      <td>68.180437</td>\n",
       "    </tr>\n",
       "    <tr>\n",
       "      <th>임암동</th>\n",
       "      <td>0.0</td>\n",
       "      <td>0.0</td>\n",
       "      <td>1.0</td>\n",
       "      <td>0.0</td>\n",
       "      <td>4.0</td>\n",
       "      <td>0.0</td>\n",
       "      <td>0.0</td>\n",
       "      <td>0.0</td>\n",
       "      <td>0.0</td>\n",
       "      <td>0.0</td>\n",
       "      <td>3.0</td>\n",
       "      <td>119.0</td>\n",
       "      <td>0.0</td>\n",
       "      <td>0.0</td>\n",
       "      <td>56.472850</td>\n",
       "    </tr>\n",
       "    <tr>\n",
       "      <th>광천동</th>\n",
       "      <td>0.0</td>\n",
       "      <td>0.0</td>\n",
       "      <td>1.0</td>\n",
       "      <td>1.0</td>\n",
       "      <td>3.0</td>\n",
       "      <td>0.0</td>\n",
       "      <td>0.0</td>\n",
       "      <td>4.0</td>\n",
       "      <td>1.0</td>\n",
       "      <td>2.0</td>\n",
       "      <td>3.0</td>\n",
       "      <td>93.0</td>\n",
       "      <td>3.0</td>\n",
       "      <td>0.0</td>\n",
       "      <td>44.500692</td>\n",
       "    </tr>\n",
       "    <tr>\n",
       "      <th>북동</th>\n",
       "      <td>0.0</td>\n",
       "      <td>0.0</td>\n",
       "      <td>0.0</td>\n",
       "      <td>0.0</td>\n",
       "      <td>0.0</td>\n",
       "      <td>0.0</td>\n",
       "      <td>0.0</td>\n",
       "      <td>0.0</td>\n",
       "      <td>0.0</td>\n",
       "      <td>0.0</td>\n",
       "      <td>0.0</td>\n",
       "      <td>78.0</td>\n",
       "      <td>0.0</td>\n",
       "      <td>0.0</td>\n",
       "      <td>36.285386</td>\n",
       "    </tr>\n",
       "    <tr>\n",
       "      <th>서동</th>\n",
       "      <td>0.0</td>\n",
       "      <td>0.0</td>\n",
       "      <td>1.0</td>\n",
       "      <td>0.0</td>\n",
       "      <td>0.0</td>\n",
       "      <td>0.0</td>\n",
       "      <td>0.0</td>\n",
       "      <td>4.0</td>\n",
       "      <td>1.0</td>\n",
       "      <td>0.0</td>\n",
       "      <td>3.0</td>\n",
       "      <td>75.0</td>\n",
       "      <td>0.0</td>\n",
       "      <td>0.0</td>\n",
       "      <td>35.425811</td>\n",
       "    </tr>\n",
       "    <tr>\n",
       "      <th>신창동</th>\n",
       "      <td>0.0</td>\n",
       "      <td>0.0</td>\n",
       "      <td>2.0</td>\n",
       "      <td>0.0</td>\n",
       "      <td>0.0</td>\n",
       "      <td>0.0</td>\n",
       "      <td>0.0</td>\n",
       "      <td>3.0</td>\n",
       "      <td>1.0</td>\n",
       "      <td>19.0</td>\n",
       "      <td>3.0</td>\n",
       "      <td>50.0</td>\n",
       "      <td>2.0</td>\n",
       "      <td>0.0</td>\n",
       "      <td>26.741150</td>\n",
       "    </tr>\n",
       "    <tr>\n",
       "      <th>백운동</th>\n",
       "      <td>0.0</td>\n",
       "      <td>0.0</td>\n",
       "      <td>0.0</td>\n",
       "      <td>0.0</td>\n",
       "      <td>7.0</td>\n",
       "      <td>0.0</td>\n",
       "      <td>0.0</td>\n",
       "      <td>6.0</td>\n",
       "      <td>2.0</td>\n",
       "      <td>0.0</td>\n",
       "      <td>7.0</td>\n",
       "      <td>45.0</td>\n",
       "      <td>2.0</td>\n",
       "      <td>0.0</td>\n",
       "      <td>23.625330</td>\n",
       "    </tr>\n",
       "    <tr>\n",
       "      <th>동구_지산동</th>\n",
       "      <td>0.0</td>\n",
       "      <td>0.0</td>\n",
       "      <td>1.0</td>\n",
       "      <td>0.0</td>\n",
       "      <td>4.0</td>\n",
       "      <td>0.0</td>\n",
       "      <td>0.0</td>\n",
       "      <td>0.0</td>\n",
       "      <td>2.0</td>\n",
       "      <td>10.0</td>\n",
       "      <td>2.0</td>\n",
       "      <td>38.0</td>\n",
       "      <td>0.0</td>\n",
       "      <td>0.0</td>\n",
       "      <td>20.715237</td>\n",
       "    </tr>\n",
       "    <tr>\n",
       "      <th>신가동</th>\n",
       "      <td>0.0</td>\n",
       "      <td>0.0</td>\n",
       "      <td>0.0</td>\n",
       "      <td>0.0</td>\n",
       "      <td>2.0</td>\n",
       "      <td>0.0</td>\n",
       "      <td>0.0</td>\n",
       "      <td>3.0</td>\n",
       "      <td>1.0</td>\n",
       "      <td>11.0</td>\n",
       "      <td>3.0</td>\n",
       "      <td>28.0</td>\n",
       "      <td>1.0</td>\n",
       "      <td>0.0</td>\n",
       "      <td>15.807112</td>\n",
       "    </tr>\n",
       "    <tr>\n",
       "      <th>문흥동</th>\n",
       "      <td>0.0</td>\n",
       "      <td>1.0</td>\n",
       "      <td>0.0</td>\n",
       "      <td>0.0</td>\n",
       "      <td>8.0</td>\n",
       "      <td>0.0</td>\n",
       "      <td>0.0</td>\n",
       "      <td>1.0</td>\n",
       "      <td>2.0</td>\n",
       "      <td>3.0</td>\n",
       "      <td>5.0</td>\n",
       "      <td>26.0</td>\n",
       "      <td>1.0</td>\n",
       "      <td>0.0</td>\n",
       "      <td>15.468712</td>\n",
       "    </tr>\n",
       "    <tr>\n",
       "      <th>매곡동</th>\n",
       "      <td>0.0</td>\n",
       "      <td>0.0</td>\n",
       "      <td>0.0</td>\n",
       "      <td>0.0</td>\n",
       "      <td>8.0</td>\n",
       "      <td>0.0</td>\n",
       "      <td>1.0</td>\n",
       "      <td>3.0</td>\n",
       "      <td>1.0</td>\n",
       "      <td>0.0</td>\n",
       "      <td>2.0</td>\n",
       "      <td>26.0</td>\n",
       "      <td>0.0</td>\n",
       "      <td>0.0</td>\n",
       "      <td>14.119519</td>\n",
       "    </tr>\n",
       "    <tr>\n",
       "      <th>임동</th>\n",
       "      <td>0.0</td>\n",
       "      <td>0.0</td>\n",
       "      <td>1.0</td>\n",
       "      <td>0.0</td>\n",
       "      <td>5.0</td>\n",
       "      <td>0.0</td>\n",
       "      <td>0.0</td>\n",
       "      <td>2.0</td>\n",
       "      <td>1.0</td>\n",
       "      <td>0.0</td>\n",
       "      <td>0.0</td>\n",
       "      <td>24.0</td>\n",
       "      <td>0.0</td>\n",
       "      <td>0.0</td>\n",
       "      <td>12.280866</td>\n",
       "    </tr>\n",
       "    <tr>\n",
       "      <th>삼도동</th>\n",
       "      <td>0.0</td>\n",
       "      <td>0.0</td>\n",
       "      <td>0.0</td>\n",
       "      <td>0.0</td>\n",
       "      <td>0.0</td>\n",
       "      <td>0.0</td>\n",
       "      <td>0.0</td>\n",
       "      <td>0.0</td>\n",
       "      <td>0.0</td>\n",
       "      <td>2.0</td>\n",
       "      <td>2.0</td>\n",
       "      <td>13.0</td>\n",
       "      <td>0.0</td>\n",
       "      <td>0.0</td>\n",
       "      <td>6.653882</td>\n",
       "    </tr>\n",
       "    <tr>\n",
       "      <th>임곡동</th>\n",
       "      <td>0.0</td>\n",
       "      <td>0.0</td>\n",
       "      <td>0.0</td>\n",
       "      <td>0.0</td>\n",
       "      <td>0.0</td>\n",
       "      <td>0.0</td>\n",
       "      <td>0.0</td>\n",
       "      <td>0.0</td>\n",
       "      <td>1.0</td>\n",
       "      <td>7.0</td>\n",
       "      <td>0.0</td>\n",
       "      <td>8.0</td>\n",
       "      <td>0.0</td>\n",
       "      <td>0.0</td>\n",
       "      <td>5.081050</td>\n",
       "    </tr>\n",
       "    <tr>\n",
       "      <th>신용동</th>\n",
       "      <td>0.0</td>\n",
       "      <td>0.0</td>\n",
       "      <td>1.0</td>\n",
       "      <td>0.0</td>\n",
       "      <td>11.0</td>\n",
       "      <td>0.0</td>\n",
       "      <td>0.0</td>\n",
       "      <td>3.0</td>\n",
       "      <td>0.0</td>\n",
       "      <td>0.0</td>\n",
       "      <td>10.0</td>\n",
       "      <td>0.0</td>\n",
       "      <td>2.0</td>\n",
       "      <td>0.0</td>\n",
       "      <td>3.391657</td>\n",
       "    </tr>\n",
       "    <tr>\n",
       "      <th>운림동</th>\n",
       "      <td>0.0</td>\n",
       "      <td>0.0</td>\n",
       "      <td>0.0</td>\n",
       "      <td>0.0</td>\n",
       "      <td>1.0</td>\n",
       "      <td>4.0</td>\n",
       "      <td>0.0</td>\n",
       "      <td>2.0</td>\n",
       "      <td>0.0</td>\n",
       "      <td>11.0</td>\n",
       "      <td>0.0</td>\n",
       "      <td>0.0</td>\n",
       "      <td>0.0</td>\n",
       "      <td>0.0</td>\n",
       "      <td>2.561710</td>\n",
       "    </tr>\n",
       "    <tr>\n",
       "      <th>행암동</th>\n",
       "      <td>0.0</td>\n",
       "      <td>0.0</td>\n",
       "      <td>0.0</td>\n",
       "      <td>0.0</td>\n",
       "      <td>12.0</td>\n",
       "      <td>0.0</td>\n",
       "      <td>0.0</td>\n",
       "      <td>0.0</td>\n",
       "      <td>0.0</td>\n",
       "      <td>0.0</td>\n",
       "      <td>0.0</td>\n",
       "      <td>0.0</td>\n",
       "      <td>2.0</td>\n",
       "      <td>0.0</td>\n",
       "      <td>2.301497</td>\n",
       "    </tr>\n",
       "    <tr>\n",
       "      <th>용산동</th>\n",
       "      <td>0.0</td>\n",
       "      <td>0.0</td>\n",
       "      <td>1.0</td>\n",
       "      <td>0.0</td>\n",
       "      <td>4.0</td>\n",
       "      <td>0.0</td>\n",
       "      <td>0.0</td>\n",
       "      <td>2.0</td>\n",
       "      <td>1.0</td>\n",
       "      <td>8.0</td>\n",
       "      <td>0.0</td>\n",
       "      <td>0.0</td>\n",
       "      <td>0.0</td>\n",
       "      <td>0.0</td>\n",
       "      <td>2.228332</td>\n",
       "    </tr>\n",
       "    <tr>\n",
       "      <th>신촌동</th>\n",
       "      <td>0.0</td>\n",
       "      <td>0.0</td>\n",
       "      <td>1.0</td>\n",
       "      <td>0.0</td>\n",
       "      <td>0.0</td>\n",
       "      <td>0.0</td>\n",
       "      <td>0.0</td>\n",
       "      <td>0.0</td>\n",
       "      <td>1.0</td>\n",
       "      <td>11.0</td>\n",
       "      <td>0.0</td>\n",
       "      <td>0.0</td>\n",
       "      <td>0.0</td>\n",
       "      <td>0.0</td>\n",
       "      <td>1.927749</td>\n",
       "    </tr>\n",
       "    <tr>\n",
       "      <th>하산동</th>\n",
       "      <td>0.0</td>\n",
       "      <td>0.0</td>\n",
       "      <td>0.0</td>\n",
       "      <td>0.0</td>\n",
       "      <td>0.0</td>\n",
       "      <td>0.0</td>\n",
       "      <td>0.0</td>\n",
       "      <td>0.0</td>\n",
       "      <td>1.0</td>\n",
       "      <td>4.0</td>\n",
       "      <td>0.0</td>\n",
       "      <td>2.0</td>\n",
       "      <td>0.0</td>\n",
       "      <td>0.0</td>\n",
       "      <td>1.799611</td>\n",
       "    </tr>\n",
       "    <tr>\n",
       "      <th>유촌동</th>\n",
       "      <td>0.0</td>\n",
       "      <td>0.0</td>\n",
       "      <td>0.0</td>\n",
       "      <td>0.0</td>\n",
       "      <td>3.0</td>\n",
       "      <td>0.0</td>\n",
       "      <td>0.0</td>\n",
       "      <td>0.0</td>\n",
       "      <td>1.0</td>\n",
       "      <td>6.0</td>\n",
       "      <td>0.0</td>\n",
       "      <td>0.0</td>\n",
       "      <td>0.0</td>\n",
       "      <td>0.0</td>\n",
       "      <td>1.789882</td>\n",
       "    </tr>\n",
       "    <tr>\n",
       "      <th>대촌동</th>\n",
       "      <td>0.0</td>\n",
       "      <td>0.0</td>\n",
       "      <td>0.0</td>\n",
       "      <td>0.0</td>\n",
       "      <td>0.0</td>\n",
       "      <td>0.0</td>\n",
       "      <td>0.0</td>\n",
       "      <td>0.0</td>\n",
       "      <td>0.0</td>\n",
       "      <td>0.0</td>\n",
       "      <td>3.0</td>\n",
       "      <td>2.0</td>\n",
       "      <td>0.0</td>\n",
       "      <td>0.0</td>\n",
       "      <td>1.347785</td>\n",
       "    </tr>\n",
       "    <tr>\n",
       "      <th>장덕동</th>\n",
       "      <td>0.0</td>\n",
       "      <td>1.0</td>\n",
       "      <td>0.0</td>\n",
       "      <td>2.0</td>\n",
       "      <td>2.0</td>\n",
       "      <td>0.0</td>\n",
       "      <td>0.0</td>\n",
       "      <td>8.0</td>\n",
       "      <td>2.0</td>\n",
       "      <td>3.0</td>\n",
       "      <td>0.0</td>\n",
       "      <td>0.0</td>\n",
       "      <td>3.0</td>\n",
       "      <td>0.0</td>\n",
       "      <td>1.220059</td>\n",
       "    </tr>\n",
       "    <tr>\n",
       "      <th>망월동</th>\n",
       "      <td>0.0</td>\n",
       "      <td>0.0</td>\n",
       "      <td>1.0</td>\n",
       "      <td>0.0</td>\n",
       "      <td>0.0</td>\n",
       "      <td>0.0</td>\n",
       "      <td>0.0</td>\n",
       "      <td>0.0</td>\n",
       "      <td>1.0</td>\n",
       "      <td>0.0</td>\n",
       "      <td>0.0</td>\n",
       "      <td>2.0</td>\n",
       "      <td>0.0</td>\n",
       "      <td>0.0</td>\n",
       "      <td>1.058943</td>\n",
       "    </tr>\n",
       "    <tr>\n",
       "      <th>연제동</th>\n",
       "      <td>0.0</td>\n",
       "      <td>0.0</td>\n",
       "      <td>0.0</td>\n",
       "      <td>0.0</td>\n",
       "      <td>3.0</td>\n",
       "      <td>0.0</td>\n",
       "      <td>0.0</td>\n",
       "      <td>0.0</td>\n",
       "      <td>0.0</td>\n",
       "      <td>3.0</td>\n",
       "      <td>0.0</td>\n",
       "      <td>0.0</td>\n",
       "      <td>2.0</td>\n",
       "      <td>0.0</td>\n",
       "      <td>1.011866</td>\n",
       "    </tr>\n",
       "    <tr>\n",
       "      <th>선동</th>\n",
       "      <td>0.0</td>\n",
       "      <td>0.0</td>\n",
       "      <td>0.0</td>\n",
       "      <td>0.0</td>\n",
       "      <td>0.0</td>\n",
       "      <td>0.0</td>\n",
       "      <td>0.0</td>\n",
       "      <td>0.0</td>\n",
       "      <td>0.0</td>\n",
       "      <td>6.0</td>\n",
       "      <td>0.0</td>\n",
       "      <td>0.0</td>\n",
       "      <td>0.0</td>\n",
       "      <td>0.0</td>\n",
       "      <td>0.986503</td>\n",
       "    </tr>\n",
       "    <tr>\n",
       "      <th>대인동</th>\n",
       "      <td>1.0</td>\n",
       "      <td>0.0</td>\n",
       "      <td>1.0</td>\n",
       "      <td>1.0</td>\n",
       "      <td>2.0</td>\n",
       "      <td>2.0</td>\n",
       "      <td>0.0</td>\n",
       "      <td>2.0</td>\n",
       "      <td>0.0</td>\n",
       "      <td>0.0</td>\n",
       "      <td>0.0</td>\n",
       "      <td>0.0</td>\n",
       "      <td>0.0</td>\n",
       "      <td>0.0</td>\n",
       "      <td>0.920044</td>\n",
       "    </tr>\n",
       "    <tr>\n",
       "      <th>선교동</th>\n",
       "      <td>0.0</td>\n",
       "      <td>0.0</td>\n",
       "      <td>1.0</td>\n",
       "      <td>0.0</td>\n",
       "      <td>0.0</td>\n",
       "      <td>0.0</td>\n",
       "      <td>0.0</td>\n",
       "      <td>0.0</td>\n",
       "      <td>0.0</td>\n",
       "      <td>6.0</td>\n",
       "      <td>0.0</td>\n",
       "      <td>0.0</td>\n",
       "      <td>0.0</td>\n",
       "      <td>0.0</td>\n",
       "      <td>0.900042</td>\n",
       "    </tr>\n",
       "    <tr>\n",
       "      <th>구동</th>\n",
       "      <td>0.0</td>\n",
       "      <td>2.0</td>\n",
       "      <td>0.0</td>\n",
       "      <td>0.0</td>\n",
       "      <td>2.0</td>\n",
       "      <td>0.0</td>\n",
       "      <td>0.0</td>\n",
       "      <td>0.0</td>\n",
       "      <td>0.0</td>\n",
       "      <td>0.0</td>\n",
       "      <td>0.0</td>\n",
       "      <td>0.0</td>\n",
       "      <td>0.0</td>\n",
       "      <td>0.0</td>\n",
       "      <td>0.857975</td>\n",
       "    </tr>\n",
       "    <tr>\n",
       "      <th>월남동</th>\n",
       "      <td>0.0</td>\n",
       "      <td>0.0</td>\n",
       "      <td>0.0</td>\n",
       "      <td>0.0</td>\n",
       "      <td>1.0</td>\n",
       "      <td>0.0</td>\n",
       "      <td>0.0</td>\n",
       "      <td>0.0</td>\n",
       "      <td>0.0</td>\n",
       "      <td>4.0</td>\n",
       "      <td>0.0</td>\n",
       "      <td>0.0</td>\n",
       "      <td>0.0</td>\n",
       "      <td>0.0</td>\n",
       "      <td>0.857210</td>\n",
       "    </tr>\n",
       "    <tr>\n",
       "      <th>안청동</th>\n",
       "      <td>0.0</td>\n",
       "      <td>0.0</td>\n",
       "      <td>0.0</td>\n",
       "      <td>0.0</td>\n",
       "      <td>0.0</td>\n",
       "      <td>0.0</td>\n",
       "      <td>0.0</td>\n",
       "      <td>0.0</td>\n",
       "      <td>0.0</td>\n",
       "      <td>5.0</td>\n",
       "      <td>0.0</td>\n",
       "      <td>0.0</td>\n",
       "      <td>0.0</td>\n",
       "      <td>0.0</td>\n",
       "      <td>0.822952</td>\n",
       "    </tr>\n",
       "    <tr>\n",
       "      <th>도덕동</th>\n",
       "      <td>0.0</td>\n",
       "      <td>0.0</td>\n",
       "      <td>1.0</td>\n",
       "      <td>0.0</td>\n",
       "      <td>0.0</td>\n",
       "      <td>0.0</td>\n",
       "      <td>0.0</td>\n",
       "      <td>0.0</td>\n",
       "      <td>1.0</td>\n",
       "      <td>4.0</td>\n",
       "      <td>0.0</td>\n",
       "      <td>0.0</td>\n",
       "      <td>0.0</td>\n",
       "      <td>0.0</td>\n",
       "      <td>0.782888</td>\n",
       "    </tr>\n",
       "    <tr>\n",
       "      <th>덕흥동</th>\n",
       "      <td>0.0</td>\n",
       "      <td>0.0</td>\n",
       "      <td>1.0</td>\n",
       "      <td>0.0</td>\n",
       "      <td>0.0</td>\n",
       "      <td>0.0</td>\n",
       "      <td>0.0</td>\n",
       "      <td>0.0</td>\n",
       "      <td>0.0</td>\n",
       "      <td>5.0</td>\n",
       "      <td>0.0</td>\n",
       "      <td>0.0</td>\n",
       "      <td>0.0</td>\n",
       "      <td>0.0</td>\n",
       "      <td>0.736490</td>\n",
       "    </tr>\n",
       "  </tbody>\n",
       "</table>\n",
       "</div>"
      ],
      "text/plain": [
       "        TRAD  CONCERT  OLD  MART   LIB  ART  MUS  MED  COMM  SPORT   OWN  \\\n",
       "옥동       0.0      0.0  0.0   0.0   0.0  0.0  0.0  0.0   1.0    3.0   0.0   \n",
       "소촌동      0.0      0.0  3.0   0.0   1.0  0.0  0.0  1.0   0.0   15.0   5.0   \n",
       "서창동      0.0      0.0  1.0   0.0   0.0  0.0  0.0  0.0   0.0    5.0   0.0   \n",
       "임암동      0.0      0.0  1.0   0.0   4.0  0.0  0.0  0.0   0.0    0.0   3.0   \n",
       "광천동      0.0      0.0  1.0   1.0   3.0  0.0  0.0  4.0   1.0    2.0   3.0   \n",
       "북동       0.0      0.0  0.0   0.0   0.0  0.0  0.0  0.0   0.0    0.0   0.0   \n",
       "서동       0.0      0.0  1.0   0.0   0.0  0.0  0.0  4.0   1.0    0.0   3.0   \n",
       "신창동      0.0      0.0  2.0   0.0   0.0  0.0  0.0  3.0   1.0   19.0   3.0   \n",
       "백운동      0.0      0.0  0.0   0.0   7.0  0.0  0.0  6.0   2.0    0.0   7.0   \n",
       "동구_지산동   0.0      0.0  1.0   0.0   4.0  0.0  0.0  0.0   2.0   10.0   2.0   \n",
       "신가동      0.0      0.0  0.0   0.0   2.0  0.0  0.0  3.0   1.0   11.0   3.0   \n",
       "문흥동      0.0      1.0  0.0   0.0   8.0  0.0  0.0  1.0   2.0    3.0   5.0   \n",
       "매곡동      0.0      0.0  0.0   0.0   8.0  0.0  1.0  3.0   1.0    0.0   2.0   \n",
       "임동       0.0      0.0  1.0   0.0   5.0  0.0  0.0  2.0   1.0    0.0   0.0   \n",
       "삼도동      0.0      0.0  0.0   0.0   0.0  0.0  0.0  0.0   0.0    2.0   2.0   \n",
       "임곡동      0.0      0.0  0.0   0.0   0.0  0.0  0.0  0.0   1.0    7.0   0.0   \n",
       "신용동      0.0      0.0  1.0   0.0  11.0  0.0  0.0  3.0   0.0    0.0  10.0   \n",
       "운림동      0.0      0.0  0.0   0.0   1.0  4.0  0.0  2.0   0.0   11.0   0.0   \n",
       "행암동      0.0      0.0  0.0   0.0  12.0  0.0  0.0  0.0   0.0    0.0   0.0   \n",
       "용산동      0.0      0.0  1.0   0.0   4.0  0.0  0.0  2.0   1.0    8.0   0.0   \n",
       "신촌동      0.0      0.0  1.0   0.0   0.0  0.0  0.0  0.0   1.0   11.0   0.0   \n",
       "하산동      0.0      0.0  0.0   0.0   0.0  0.0  0.0  0.0   1.0    4.0   0.0   \n",
       "유촌동      0.0      0.0  0.0   0.0   3.0  0.0  0.0  0.0   1.0    6.0   0.0   \n",
       "대촌동      0.0      0.0  0.0   0.0   0.0  0.0  0.0  0.0   0.0    0.0   3.0   \n",
       "장덕동      0.0      1.0  0.0   2.0   2.0  0.0  0.0  8.0   2.0    3.0   0.0   \n",
       "망월동      0.0      0.0  1.0   0.0   0.0  0.0  0.0  0.0   1.0    0.0   0.0   \n",
       "연제동      0.0      0.0  0.0   0.0   3.0  0.0  0.0  0.0   0.0    3.0   0.0   \n",
       "선동       0.0      0.0  0.0   0.0   0.0  0.0  0.0  0.0   0.0    6.0   0.0   \n",
       "대인동      1.0      0.0  1.0   1.0   2.0  2.0  0.0  2.0   0.0    0.0   0.0   \n",
       "선교동      0.0      0.0  1.0   0.0   0.0  0.0  0.0  0.0   0.0    6.0   0.0   \n",
       "구동       0.0      2.0  0.0   0.0   2.0  0.0  0.0  0.0   0.0    0.0   0.0   \n",
       "월남동      0.0      0.0  0.0   0.0   1.0  0.0  0.0  0.0   0.0    4.0   0.0   \n",
       "안청동      0.0      0.0  0.0   0.0   0.0  0.0  0.0  0.0   0.0    5.0   0.0   \n",
       "도덕동      0.0      0.0  1.0   0.0   0.0  0.0  0.0  0.0   1.0    4.0   0.0   \n",
       "덕흥동      0.0      0.0  1.0   0.0   0.0  0.0  0.0  0.0   0.0    5.0   0.0   \n",
       "\n",
       "          JOB  CARROT  CHARGE  charge_demand  \n",
       "옥동      210.0     1.0     0.0      98.344533  \n",
       "소촌동     197.0     1.0     0.0      94.676143  \n",
       "서창동     145.0     0.0     0.0      68.180437  \n",
       "임암동     119.0     0.0     0.0      56.472850  \n",
       "광천동      93.0     3.0     0.0      44.500692  \n",
       "북동       78.0     0.0     0.0      36.285386  \n",
       "서동       75.0     0.0     0.0      35.425811  \n",
       "신창동      50.0     2.0     0.0      26.741150  \n",
       "백운동      45.0     2.0     0.0      23.625330  \n",
       "동구_지산동   38.0     0.0     0.0      20.715237  \n",
       "신가동      28.0     1.0     0.0      15.807112  \n",
       "문흥동      26.0     1.0     0.0      15.468712  \n",
       "매곡동      26.0     0.0     0.0      14.119519  \n",
       "임동       24.0     0.0     0.0      12.280866  \n",
       "삼도동      13.0     0.0     0.0       6.653882  \n",
       "임곡동       8.0     0.0     0.0       5.081050  \n",
       "신용동       0.0     2.0     0.0       3.391657  \n",
       "운림동       0.0     0.0     0.0       2.561710  \n",
       "행암동       0.0     2.0     0.0       2.301497  \n",
       "용산동       0.0     0.0     0.0       2.228332  \n",
       "신촌동       0.0     0.0     0.0       1.927749  \n",
       "하산동       2.0     0.0     0.0       1.799611  \n",
       "유촌동       0.0     0.0     0.0       1.789882  \n",
       "대촌동       2.0     0.0     0.0       1.347785  \n",
       "장덕동       0.0     3.0     0.0       1.220059  \n",
       "망월동       2.0     0.0     0.0       1.058943  \n",
       "연제동       0.0     2.0     0.0       1.011866  \n",
       "선동        0.0     0.0     0.0       0.986503  \n",
       "대인동       0.0     0.0     0.0       0.920044  \n",
       "선교동       0.0     0.0     0.0       0.900042  \n",
       "구동        0.0     0.0     0.0       0.857975  \n",
       "월남동       0.0     0.0     0.0       0.857210  \n",
       "안청동       0.0     0.0     0.0       0.822952  \n",
       "도덕동       0.0     0.0     0.0       0.782888  \n",
       "덕흥동       0.0     0.0     0.0       0.736490  "
      ]
     },
     "execution_count": 103,
     "metadata": {},
     "output_type": "execute_result"
    }
   ],
   "source": [
    "mlr_charge0_final"
   ]
  },
  {
   "cell_type": "markdown",
   "id": "4a4784da-eeb6-4d6a-9eb4-214696864463",
   "metadata": {
    "jp-MarkdownHeadingCollapsed": true,
    "tags": []
   },
   "source": [
    "#### CHARGE 1개 대상 분석"
   ]
  },
  {
   "cell_type": "code",
   "execution_count": null,
   "id": "02eabc4b-3c78-494a-8e19-0e97a0877301",
   "metadata": {},
   "outputs": [],
   "source": [
    "# CHARGE가 1개인 X_test 생성\n",
    "X_test_charge1 = data[data['CHARGE'] == 1].iloc[:, :-1]"
   ]
  },
  {
   "cell_type": "code",
   "execution_count": null,
   "id": "f71daa1f-72da-4d88-8899-9b814c8a5ae8",
   "metadata": {},
   "outputs": [],
   "source": [
    "# 생성한 test data 예측 결과 저장\n",
    "y_pred_charge1 = model.predict(X_test_charge1)"
   ]
  },
  {
   "cell_type": "code",
   "execution_count": null,
   "id": "37fe1345-5f43-4632-b04b-90f7f176bfa9",
   "metadata": {},
   "outputs": [],
   "source": [
    "# 동이름만 가져와서 합친 데이터프레임 생성\n",
    "## 예측 결과 -> charge_demand 컬럼의 df 생성\n",
    "y_pred_charge1_df = pd.DataFrame(y_pred_charge1, columns=['charge_demand'])\n",
    "\n",
    "## charge가 0인 동이름 가져와서 df 생성 \n",
    "addr_charge1 = pd.DataFrame(X_test_charge1.index.values, columns=['동이름'])\n",
    "\n",
    "# 동이름과 charge_demand가 합쳐진 df 생성\n",
    "merged_charge1_df = pd.concat([addr_charge1, y_pred_charge1_df], axis=1).set_index('동이름')"
   ]
  },
  {
   "cell_type": "code",
   "execution_count": null,
   "id": "d7782b1d-a136-478e-9d60-f98b91202e4c",
   "metadata": {
    "tags": []
   },
   "outputs": [],
   "source": [
    "# charge_demand가 1 이상인 row만 조회, 높은 것부터 조회\n",
    "demand_df_charge1 = merged_charge1_df[merged_charge1_df['charge_demand'] > 1].sort_values(by='charge_demand', ascending=False)"
   ]
  },
  {
   "cell_type": "code",
   "execution_count": null,
   "id": "7100cefc-afc4-4bf2-8de3-1a8dfd85d3c4",
   "metadata": {},
   "outputs": [],
   "source": [
    "demand_df_charge1"
   ]
  },
  {
   "cell_type": "code",
   "execution_count": null,
   "id": "f01cefce-ae4c-461a-8fe7-724016ba763f",
   "metadata": {},
   "outputs": [],
   "source": [
    "print(f'수요 지수가 1 이상인 동 : {len(demand_df_charge1)}')"
   ]
  },
  {
   "cell_type": "code",
   "execution_count": null,
   "id": "fe912320-768c-4847-98e3-cdadd7b82ea0",
   "metadata": {},
   "outputs": [],
   "source": [
    "# demand_df의 인덱스 값이 저장된 리스트 생성\n",
    "demand_list_charge1 = demand_df_charge1.index.values"
   ]
  },
  {
   "cell_type": "code",
   "execution_count": null,
   "id": "1b3976a5-1e8d-4e56-840a-003376962aed",
   "metadata": {},
   "outputs": [],
   "source": [
    "# concat용 빈 DF 생성\n",
    "merged_df_charge1 = pd.DataFrame()"
   ]
  },
  {
   "cell_type": "code",
   "execution_count": null,
   "id": "9807c6d6-2dee-4c1a-bbc8-adcd328783a8",
   "metadata": {
    "tags": []
   },
   "outputs": [],
   "source": [
    "# 빈 DF에 동이름이 demand_list와 같은 ( charge_demand가 0.7 이상인 ) 데이터들로 이루어진 DF 생성\n",
    "for i in range(len(demand_list_charge1)):\n",
    "    merged_df_charge1 = pd.concat([merged_df_charge1, data.reset_index()[data.reset_index()['EMD_NM'] == demand_list_charge1[i]]], axis=0)"
   ]
  },
  {
   "cell_type": "code",
   "execution_count": null,
   "id": "fed4666c-142b-4d53-9b99-5218f5004040",
   "metadata": {},
   "outputs": [],
   "source": [
    "# CHARGE 0개 대상 분석 결과 DF 생성\n",
    "## demand_df가 저장하고 있는 model.predict 값이 실수이므로, merged_df의 dtype을 float64로 변경해야함\n",
    "mlr_charge1_final = pd.concat([merged_df_charge1.set_index('EMD_NM').astype('float64'), demand_df_charge1], axis=1)"
   ]
  },
  {
   "cell_type": "code",
   "execution_count": null,
   "id": "0b128fef-39bd-4b88-a584-79caddcc31df",
   "metadata": {},
   "outputs": [],
   "source": [
    "mlr_charge1_final"
   ]
  },
  {
   "cell_type": "code",
   "execution_count": null,
   "id": "57218cdd-f94f-4fb9-b3f0-5f85b0c225bd",
   "metadata": {},
   "outputs": [],
   "source": [
    "charge_true = mlr_charge1_final['charge_demand'] - mlr_charge1_final['CHARGE']"
   ]
  },
  {
   "cell_type": "code",
   "execution_count": null,
   "id": "1c871bde-145a-4c06-b3ac-8a57d886f88c",
   "metadata": {},
   "outputs": [],
   "source": [
    "charge_true"
   ]
  },
  {
   "cell_type": "code",
   "execution_count": null,
   "id": "22e9ec23-c04c-4ae1-890c-1d2e6dc4e5d7",
   "metadata": {},
   "outputs": [],
   "source": []
  },
  {
   "cell_type": "markdown",
   "id": "4d4ece8c-77b3-46cb-8435-6d1cce4a2e3c",
   "metadata": {},
   "source": [
    "#### CHARGE 2개 대상 분석"
   ]
  },
  {
   "cell_type": "code",
   "execution_count": null,
   "id": "bfece0e8-cc35-457a-9e0e-06ec5470bc3f",
   "metadata": {},
   "outputs": [],
   "source": [
    "# CHARGE가 2개인 X_test 생성\n",
    "X_test_charge2 = data[data['CHARGE'] == 2].iloc[:, :-1]"
   ]
  },
  {
   "cell_type": "code",
   "execution_count": null,
   "id": "f2418aeb-9f34-4b76-a02c-e3ee872b220e",
   "metadata": {},
   "outputs": [],
   "source": [
    "# 생성한 test data 예측 결과 저장\n",
    "y_pred_charge2 = model.predict(X_test_charge2)"
   ]
  },
  {
   "cell_type": "code",
   "execution_count": null,
   "id": "5ec96f3a-3a65-49ca-baaf-b46122015a5b",
   "metadata": {},
   "outputs": [],
   "source": [
    "# 동이름만 가져와서 합친 데이터프레임 생성\n",
    "## 예측 결과 -> charge_demand 컬럼의 df 생성\n",
    "y_pred_charge2_df = pd.DataFrame(y_pred_charge2, columns=['charge_demand'])\n",
    "\n",
    "## charge가 2인 동이름 가져와서 df 생성 \n",
    "addr_charge2 = pd.DataFrame(X_test_charge2.index.values, columns=['동이름'])\n",
    "\n",
    "# 동이름과 charge_demand가 합쳐진 df 생성\n",
    "merged_charge2_df = pd.concat([addr_charge2, y_pred_charge2_df], axis=1).set_index('동이름')"
   ]
  },
  {
   "cell_type": "code",
   "execution_count": null,
   "id": "efbb2f3b-3a14-4f71-a0f4-154e0b49c1b9",
   "metadata": {
    "tags": []
   },
   "outputs": [],
   "source": [
    "# charge_demand가 2 이상인 row만 조회, 높은 것부터 조회\n",
    "demand_df_charge2 = merged_charge2_df[merged_charge2_df['charge_demand'] > 2].sort_values(by='charge_demand', ascending=False)"
   ]
  },
  {
   "cell_type": "code",
   "execution_count": null,
   "id": "94eb4eea-7fb1-43b7-9366-6c72253b916b",
   "metadata": {},
   "outputs": [],
   "source": [
    "demand_df_charge2"
   ]
  },
  {
   "cell_type": "code",
   "execution_count": null,
   "id": "07f75830-4fa4-414f-9bad-10db4a56a1b2",
   "metadata": {},
   "outputs": [],
   "source": [
    "print(f'수요 지수가 2 이상인 동 : {len(demand_df_charge2)}')"
   ]
  },
  {
   "cell_type": "code",
   "execution_count": null,
   "id": "9846c3f7-c5f1-428a-9f35-7e9720a68203",
   "metadata": {},
   "outputs": [],
   "source": [
    "# demand_df의 인덱스 값이 저장된 리스트 생성\n",
    "demand_list_charge0 = demand_df_charge0.index.values"
   ]
  },
  {
   "cell_type": "code",
   "execution_count": null,
   "id": "fbfc4590-40b8-4a0d-bf89-ca5623a40cc5",
   "metadata": {},
   "outputs": [],
   "source": [
    "# concat용 빈 DF 생성\n",
    "merged_df_charge0 = pd.DataFrame()"
   ]
  },
  {
   "cell_type": "code",
   "execution_count": null,
   "id": "c31c1d4b-06da-4116-bd87-e7181fb1f567",
   "metadata": {
    "tags": []
   },
   "outputs": [],
   "source": [
    "# 빈 DF에 동이름이 demand_list와 같은 ( charge_demand가 0.7 이상인 ) 데이터들로 이루어진 DF 생성\n",
    "for i in range(len(demand_list_charge0)):\n",
    "    merged_df_charge0 = pd.concat([merged_df_charge0, data.reset_index()[data.reset_index()['EMD_NM'] == demand_list[i]]], axis=0)"
   ]
  },
  {
   "cell_type": "code",
   "execution_count": null,
   "id": "5d3d35e0-01b4-4bb9-a026-d529664f0856",
   "metadata": {},
   "outputs": [],
   "source": [
    "# CHARGE 0개 대상 분석 결과 DF 생성\n",
    "## demand_df가 저장하고 있는 model.predict 값이 실수이므로, merged_df의 dtype을 float64로 변경해야함\n",
    "mlr_charge0_final = pd.concat([merged_df_charge0.set_index('EMD_NM').astype('float64'), demand_df], axis=1)"
   ]
  },
  {
   "cell_type": "code",
   "execution_count": null,
   "id": "c68203cf-4caf-4ecc-8461-42ae536a724b",
   "metadata": {},
   "outputs": [],
   "source": [
    "mlr_charge0_final"
   ]
  },
  {
   "cell_type": "markdown",
   "id": "d85eb20b-c0a8-46d2-b0e9-b83bf31534b6",
   "metadata": {
    "jp-MarkdownHeadingCollapsed": true,
    "jupyter": {
     "source_hidden": true
    },
    "tags": []
   },
   "source": [
    "## Lasso"
   ]
  },
  {
   "cell_type": "code",
   "execution_count": null,
   "id": "ddc29644-dd45-4a04-9d6f-28dc9d7990f9",
   "metadata": {},
   "outputs": [],
   "source": [
    "lasso = Lasso(alpha=0.5).fit(X_train, y_train)"
   ]
  },
  {
   "cell_type": "code",
   "execution_count": null,
   "id": "efbb645a-6bf6-49e7-b4c3-a41c181490f4",
   "metadata": {},
   "outputs": [],
   "source": [
    "print(f'훈련 세트의 정확도 : {lasso.score(X_train, y_train)}')\n",
    "print(f'테스트 세트의 정확도 : {lasso.score(X_test, y_test)}')\n",
    "print(\"사용한 특성의 수 : {}\".format(np.sum(lasso.coef_ != 0)))\n",
    "print(\"사용한 max_iter : {}\".format(lasso.n_iter_))"
   ]
  },
  {
   "cell_type": "code",
   "execution_count": null,
   "id": "2d000627-c916-4301-a4cf-47a5537e3089",
   "metadata": {},
   "outputs": [],
   "source": [
    "lasso.coef_"
   ]
  },
  {
   "cell_type": "code",
   "execution_count": null,
   "id": "ea3ad0be-c420-4208-8757-f1de30ccd029",
   "metadata": {},
   "outputs": [],
   "source": [
    "lasso_pred = lasso.predict(X_test)"
   ]
  },
  {
   "cell_type": "code",
   "execution_count": null,
   "id": "3f7083df-8728-4b51-ba20-43c8c1aee14f",
   "metadata": {},
   "outputs": [],
   "source": [
    "lasso_residual = y_test - lasso_pred"
   ]
  },
  {
   "cell_type": "code",
   "execution_count": null,
   "id": "476c3377-5d49-4674-96fd-2a447f970acf",
   "metadata": {},
   "outputs": [],
   "source": [
    "print(f'잔차 평균 : {np.mean(lasso_residual)}')"
   ]
  },
  {
   "cell_type": "markdown",
   "id": "55097e9c-833d-4d9c-984a-6cb48f911188",
   "metadata": {},
   "source": [
    "## Ridge"
   ]
  },
  {
   "cell_type": "code",
   "execution_count": 33,
   "id": "85be665e-e656-43de-9895-ca47da8fbaa7",
   "metadata": {
    "tags": []
   },
   "outputs": [],
   "source": [
    "ridge = Ridge(random_state=142).fit(X_train, y_train)"
   ]
  },
  {
   "cell_type": "code",
   "execution_count": 20,
   "id": "3b93f647-c1e4-4d54-8252-9601523c8d56",
   "metadata": {
    "collapsed": true,
    "jupyter": {
     "outputs_hidden": true,
     "source_hidden": true
    },
    "tags": []
   },
   "outputs": [
    {
     "data": {
      "text/plain": [
       "array([ 0.77030008,  0.16383573, -0.09731176, -0.12162505,  0.05069923,\n",
       "        0.19593373,  0.09770522,  0.05877836,  0.00777667,  0.00397072])"
      ]
     },
     "execution_count": 20,
     "metadata": {},
     "output_type": "execute_result"
    }
   ],
   "source": [
    "ridge.coef_"
   ]
  },
  {
   "cell_type": "code",
   "execution_count": 34,
   "id": "c1492589-12d0-4317-be88-2cb9b3b6aac4",
   "metadata": {
    "tags": []
   },
   "outputs": [
    {
     "name": "stdout",
     "output_type": "stream",
     "text": [
      "훈련 세트의 정확도 : 0.6857155245884121\n",
      "테스트 세트의 정확도 : 0.7227126495574061\n",
      "사용한 특성의 수 : 13\n",
      "사용한 max_iter : None\n"
     ]
    }
   ],
   "source": [
    "print(f'훈련 세트의 정확도 : {ridge.score(X_train, y_train)}')\n",
    "print(f'테스트 세트의 정확도 : {ridge.score(X_test, y_test)}')\n",
    "print(\"사용한 특성의 수 : {}\".format(np.sum(ridge.coef_ != 0)))\n",
    "print(\"사용한 max_iter : {}\".format(ridge.n_iter_))"
   ]
  },
  {
   "cell_type": "code",
   "execution_count": 16,
   "id": "37394b8f-2521-4bf2-ad35-8f95af875e70",
   "metadata": {},
   "outputs": [],
   "source": [
    "# 예측 데이터 도출\n",
    "ridge_pred = ridge.predict(X_test)"
   ]
  },
  {
   "cell_type": "code",
   "execution_count": 20,
   "id": "6a5613a1-5f45-42a9-af4b-c89c3ec90694",
   "metadata": {},
   "outputs": [],
   "source": [
    "# 타겟 데이터와 예측 데이터 사이의 잔차 계산\n",
    "ridge_residual = y_test - ridge_pred"
   ]
  },
  {
   "cell_type": "code",
   "execution_count": 21,
   "id": "1e38e54a-691f-4479-9fc1-d21246e843c9",
   "metadata": {},
   "outputs": [
    {
     "name": "stdout",
     "output_type": "stream",
     "text": [
      "잔차 평균 : -0.07957475434300566\n"
     ]
    }
   ],
   "source": [
    "print(f'잔차 평균 : {np.mean(ridge_residual)}')"
   ]
  },
  {
   "cell_type": "code",
   "execution_count": 22,
   "id": "529d10b4-4cb8-4f85-a94f-60db75dfb3a2",
   "metadata": {},
   "outputs": [
    {
     "data": {
      "text/plain": [
       "0.7204045957118465"
      ]
     },
     "execution_count": 22,
     "metadata": {},
     "output_type": "execute_result"
    }
   ],
   "source": [
    "# R2 제곱 ( = 정확도, 결정계수 )\n",
    "from sklearn.metrics import r2_score\n",
    "r2_score(y_test, ridge_pred, sample_weight=None, multioutput='uniform_average')"
   ]
  },
  {
   "cell_type": "markdown",
   "id": "642c2511-b94b-44a3-afc3-d52616068f7e",
   "metadata": {},
   "source": [
    "## Elastic Net"
   ]
  },
  {
   "cell_type": "code",
   "execution_count": null,
   "id": "9a4166a4-9fab-42ea-938b-aa750b837162",
   "metadata": {},
   "outputs": [],
   "source": [
    "from sklearn.linear_model import ElasticNet\n",
    "\n",
    "EN = ElasticNet(alpha=0.5)\n",
    "EN.fit(X_train, y_train)"
   ]
  },
  {
   "cell_type": "code",
   "execution_count": null,
   "id": "827ab6e3-9e23-48b0-b383-a26520650955",
   "metadata": {},
   "outputs": [],
   "source": [
    "print(f'train data의 정확도 : {EN.score(X_train, y_train)}')\n",
    "print(f'test data의 정확도 : {EN.score(X_test, y_test)}')\n",
    "print(f'ElasticNet의 정확도 : {EN.score(X, y)}')"
   ]
  },
  {
   "cell_type": "markdown",
   "id": "2c82fabc-1abb-43dd-a300-476bb779999c",
   "metadata": {
    "tags": []
   },
   "source": [
    "## 그 외 회귀모델\n",
    "### GradientBoostingRegressor ( Ensemble )"
   ]
  },
  {
   "cell_type": "code",
   "execution_count": null,
   "id": "2272feef-0dfa-48d5-ab36-06fd01a79f15",
   "metadata": {},
   "outputs": [],
   "source": [
    "from sklearn.ensemble import GradientBoostingRegressor\n",
    "\n",
    "gbm = GradientBoostingRegressor(random_state=42, n_estimators=50)\n",
    "gbm.fit(X_train, y_train)"
   ]
  },
  {
   "cell_type": "code",
   "execution_count": null,
   "id": "3d34d832-f2cc-4b29-8f8a-e707ee46fe08",
   "metadata": {
    "tags": []
   },
   "outputs": [],
   "source": [
    "print(f'훈련 세트의 정확도 : {gbm.score(X_train, y_train)}')\n",
    "print(f'테스트 세트의 정확도 : {gbm.score(X_test, y_test)}')\n",
    "print(f'GBR R2 : {gbm.score(X, y)}')"
   ]
  },
  {
   "cell_type": "markdown",
   "id": "e8d4f7b1-4bd7-46b6-abae-0cf51db5a366",
   "metadata": {
    "tags": []
   },
   "source": [
    "### KNeighborsRegressor"
   ]
  },
  {
   "cell_type": "code",
   "execution_count": null,
   "id": "b78988c9-dbb7-4eee-8584-7540a095ca57",
   "metadata": {},
   "outputs": [],
   "source": [
    "from sklearn.neighbors import KNeighborsRegressor\n",
    "\n",
    "KNR = KNeighborsRegressor(n_neighbors=5)\n",
    "KNR.fit(X_train, y_train)"
   ]
  },
  {
   "cell_type": "code",
   "execution_count": null,
   "id": "6fef9fc0-2016-4877-8a3c-3621b9e52f0a",
   "metadata": {},
   "outputs": [],
   "source": [
    "print(f'훈련 세트의 정확도 : {KNR.score(X_train, y_train)}')\n",
    "print(f'테스트 세트의 정확도 : {KNR.score(X_test, y_test)}')\n",
    "print(f'KNR R2 : {KNR.score(X, y)}')"
   ]
  },
  {
   "cell_type": "markdown",
   "id": "b3d639d3-f0e0-419d-8a42-4e8042db94f2",
   "metadata": {},
   "source": [
    "### SVM ( Support Vector Regressor )"
   ]
  },
  {
   "cell_type": "code",
   "execution_count": null,
   "id": "1c0e9e08-a84b-474f-9c11-0441b7a48ba7",
   "metadata": {},
   "outputs": [],
   "source": [
    "# SVM은 가급적 정규화 처리된 데이터로 진행\n",
    "from sklearn.svm import SVR\n",
    "\n",
    "SVR = SVR()\n",
    "SVR.fit(X_train, y_train)"
   ]
  },
  {
   "cell_type": "code",
   "execution_count": null,
   "id": "8e9c75f0-6da2-435c-896c-449a87e3bdfa",
   "metadata": {},
   "outputs": [],
   "source": [
    "print(f'훈련 세트의 정확도 : {SVR.score(X_train, y_train)}')\n",
    "print(f'테스트 세트의 정확도 : {SVR.score(X_test, y_test)}')\n",
    "print(f'KNR R2 : {SVR.score(X, y)}')"
   ]
  },
  {
   "cell_type": "markdown",
   "id": "a2a72829-2c2b-4d94-9b9d-1c5d203a5922",
   "metadata": {},
   "source": [
    "# 모델별 결정계수 비교\n",
    "## 표준화 방법별 비교"
   ]
  },
  {
   "cell_type": "code",
   "execution_count": null,
   "id": "e095aacb-a31e-4576-bb5f-35d39e017f3b",
   "metadata": {
    "tags": []
   },
   "outputs": [],
   "source": [
    "print('=== This data ===')\n",
    "print('=== Test size = 0.2 ===')\n",
    "print(f'MLR R2: {model.score(X, y)}')\n",
    "print(f'Lasso R2: {lasso.score(X, y)}')\n",
    "print(f'Ridge R2: {ridge.score(X, y)}')"
   ]
  },
  {
   "cell_type": "code",
   "execution_count": null,
   "id": "5ee26c2d-adbc-4762-aee7-45a400d55b55",
   "metadata": {
    "tags": []
   },
   "outputs": [],
   "source": [
    "print('=== No Scaled data ===')\n",
    "print('=== Test size = 0.2 ===')\n",
    "print(f'MLR R2: {model.score(X, y)}')\n",
    "print(f'Lasso R2: {lasso.score(X, y)}')\n",
    "print(f'Ridge R2: {ridge.score(X, y)}')"
   ]
  },
  {
   "cell_type": "code",
   "execution_count": null,
   "id": "d6b4cf7d-7dc9-47cb-a0ab-dac2b0c5ee7b",
   "metadata": {},
   "outputs": [],
   "source": [
    "print('=== No Scaled data ===')\n",
    "print('=== Test size = 0.33 ===')\n",
    "print(f'MLR R2: {model.score(X, y)}')\n",
    "print(f'Lasso R2: {lasso.score(X, y)}')\n",
    "print(f'Ridge R2: {ridge.score(X, y)}')"
   ]
  },
  {
   "cell_type": "code",
   "execution_count": null,
   "id": "be9b0cdd-f18b-454e-874b-2e23dfa80564",
   "metadata": {},
   "outputs": [],
   "source": [
    "print('=== No Scaled data ===')\n",
    "print('=== Test size = 0.44 ===')\n",
    "print(f'MLR R2: {model.score(X, y)}')\n",
    "print(f'Lasso R2: {lasso.score(X, y)}')\n",
    "print(f'Ridge R2: {ridge.score(X, y)}')"
   ]
  },
  {
   "cell_type": "code",
   "execution_count": null,
   "id": "2aedfbe5-13b2-4948-a805-b5b20115a727",
   "metadata": {},
   "outputs": [],
   "source": [
    "print('=== Standard Scaled data ===')\n",
    "print('=== Test size = 0.2 ===')\n",
    "print(f'MLR R2: {model.score(X, y)}')\n",
    "print(f'Lasso R2: {lasso.score(X, y)}')\n",
    "print(f'Ridge R2: {ridge.score(X, y)}')"
   ]
  },
  {
   "cell_type": "code",
   "execution_count": null,
   "id": "b20b3a31-3a65-43f8-ab08-e3bae95cb59a",
   "metadata": {},
   "outputs": [],
   "source": [
    "print('=== Standard Scaled data ===')\n",
    "print('=== Test size = 0.33 ===')\n",
    "print(f'MLR R2: {model.score(X, y)}')\n",
    "print(f'Lasso R2: {lasso.score(X, y)}')\n",
    "print(f'Ridge R2: {ridge.score(X, y)}')"
   ]
  },
  {
   "cell_type": "code",
   "execution_count": null,
   "id": "89b13be5-3c9b-482b-bee7-3bdc827457ad",
   "metadata": {},
   "outputs": [],
   "source": [
    "print('=== Standard Scaled data ===')\n",
    "print('=== Test size = 0.44 ===')\n",
    "print(f'MLR R2: {model.score(X, y)}')\n",
    "print(f'Lasso R2: {lasso.score(X, y)}')\n",
    "print(f'Ridge R2: {ridge.score(X, y)}')"
   ]
  },
  {
   "cell_type": "code",
   "execution_count": null,
   "id": "39501008-b702-440c-b11e-a62850922661",
   "metadata": {
    "tags": []
   },
   "outputs": [],
   "source": [
    "print('=== Min-Max Scaled data ===')\n",
    "print('=== Test size = 0.2 ===')\n",
    "print(f'MLR R2: {model.score(X, y)}')\n",
    "print(f'Lasso R2: {lasso.score(X, y)}')\n",
    "print(f'Ridge R2: {ridge.score(X, y)}')"
   ]
  },
  {
   "cell_type": "code",
   "execution_count": null,
   "id": "0e6e5204-248a-4bbe-833f-5e910fbdaf60",
   "metadata": {
    "tags": []
   },
   "outputs": [],
   "source": [
    "print('=== Min-Max Scaled data ===')\n",
    "print('=== Test size = 0.33 ===')\n",
    "print(f'MLR R2: {model.score(X, y)}')\n",
    "print(f'Lasso R2: {lasso.score(X, y)}')\n",
    "print(f'Ridge R2: {ridge.score(X, y)}')"
   ]
  },
  {
   "cell_type": "code",
   "execution_count": null,
   "id": "b633a645-fde9-4d54-a729-30a0769583fc",
   "metadata": {},
   "outputs": [],
   "source": [
    "print('=== Min-Max Scaled data ===')\n",
    "print('=== Test size = 0.44 ===')\n",
    "print(f'MLR R2: {model.score(X, y)}')\n",
    "print(f'Lasso R2: {lasso.score(X, y)}')\n",
    "print(f'Ridge R2: {ridge.score(X, y)}')"
   ]
  },
  {
   "cell_type": "code",
   "execution_count": null,
   "id": "5398d77e-b3ca-4b64-9f22-6753be2e5888",
   "metadata": {},
   "outputs": [],
   "source": [
    "from statsmodels import api\n",
    "ols = api.OLS(y, X)\n",
    "result = ols.fit()"
   ]
  },
  {
   "cell_type": "code",
   "execution_count": null,
   "id": "0b42adfc-9641-45a7-9111-27207c82fd01",
   "metadata": {},
   "outputs": [],
   "source": [
    "print(result.summary())"
   ]
  },
  {
   "cell_type": "markdown",
   "id": "5b25f045-cf83-409b-83b6-85f020c10798",
   "metadata": {},
   "source": [
    "# 다중공선성 확인"
   ]
  },
  {
   "cell_type": "code",
   "execution_count": null,
   "id": "95a7ae97-a8a5-4051-b3ba-8bcf2d11a8cc",
   "metadata": {},
   "outputs": [],
   "source": [
    "from statsmodels import api\n",
    "ols = api.OLS(y, X)\n",
    "result = ols.fit()"
   ]
  },
  {
   "cell_type": "code",
   "execution_count": null,
   "id": "785dd8dc-92cf-40af-804c-89321e8feab4",
   "metadata": {},
   "outputs": [],
   "source": [
    "print(result.summary())"
   ]
  },
  {
   "cell_type": "markdown",
   "id": "5738e27a-1c1c-459c-ad84-171864fd3163",
   "metadata": {
    "tags": []
   },
   "source": [
    "## VIF ( Variance Inflation Factors ) 확인"
   ]
  },
  {
   "cell_type": "code",
   "execution_count": null,
   "id": "e1dbf11a-7819-404b-9418-b5becaa99020",
   "metadata": {},
   "outputs": [],
   "source": [
    "from statsmodels.stats.outliers_influence import variance_inflation_factor"
   ]
  },
  {
   "cell_type": "code",
   "execution_count": null,
   "id": "02cec102-8fea-46b1-870c-86393e1f972e",
   "metadata": {},
   "outputs": [],
   "source": [
    "def feature_engineering_XbyVIF(X):\n",
    "    vif = pd.DataFrame()\n",
    "    vif['VIF_Factor'] = [variance_inflation_factor(X.values, i)\n",
    "                         for i in range(X.shape[1])]\n",
    "    vif['Feature'] = X.columns\n",
    "    return vif"
   ]
  },
  {
   "cell_type": "code",
   "execution_count": null,
   "id": "955b3493-7fd6-4022-a7d1-5bf8f271725f",
   "metadata": {},
   "outputs": [],
   "source": [
    "vif = feature_engineering_XbyVIF(X)"
   ]
  },
  {
   "cell_type": "code",
   "execution_count": null,
   "id": "433deb23-9e76-4806-898a-f839f5053117",
   "metadata": {},
   "outputs": [],
   "source": [
    "print(vif)"
   ]
  },
  {
   "cell_type": "markdown",
   "id": "11396ce2-6828-4bd1-a305-54b365d4eb93",
   "metadata": {},
   "source": [
    "- VIF 가 3 이상인 경우, 다중공선성이 존재한다고 판단, 변수 제거"
   ]
  },
  {
   "cell_type": "markdown",
   "id": "5f77f9da-128e-4925-9861-ce3bb18066b5",
   "metadata": {
    "tags": []
   },
   "source": [
    "# 시각화\n",
    "## 변수별 회귀계수의 분포 시각화"
   ]
  },
  {
   "cell_type": "code",
   "execution_count": null,
   "id": "918715eb-951e-4964-af9d-698f206ad75c",
   "metadata": {},
   "outputs": [],
   "source": [
    "plt.plot(model.coef_, 's', label=\"Multi-Regression\")\n",
    "plt.plot(lasso.coef_, '^', label=\"Lasso alpha=0.5\")\n",
    "plt.plot(ridge.coef_, 'v', label=\"Ridge\")\n",
    "\n",
    "plt.legend(ncol=2, loc=(0, 1.05))\n",
    "plt.xlabel(\"Features\")\n",
    "plt.ylabel(\"Coefficient\")\n",
    "\n",
    "# plt.hlines(0, 0, len(lr.coef_))\n",
    "\n",
    "plt.ylim(-0.2, 0.4)\n",
    "plt.show()"
   ]
  },
  {
   "cell_type": "markdown",
   "id": "b65b0a88-b0cd-4929-9a0d-91b82e0c8931",
   "metadata": {},
   "source": [
    "## 모델별 잔차 시각화"
   ]
  },
  {
   "cell_type": "code",
   "execution_count": null,
   "id": "e46f077a-0968-4d36-8678-65238ed09569",
   "metadata": {
    "tags": []
   },
   "outputs": [],
   "source": [
    "xx = range(64)\n",
    "plt.subplot(1, 3, 1)\n",
    "plt.plot(xx, residual, label='Multi-Regression_residual')\n",
    "plt.xlabel('Multi-Regression')\n",
    "plt.ylabel('Variance')\n",
    "\n",
    "plt.subplot(1, 3, 2)\n",
    "plt.plot(xx, lasso_residual, label='lasso_residual')\n",
    "plt.xlabel('Lasso')\n",
    "plt.ylabel('Variance')\n",
    "\n",
    "plt.subplot(1, 3, 3)\n",
    "plt.plot(xx, ridge_residual, label='ridge_residual')\n",
    "plt.xlabel('Ridge')\n",
    "plt.ylabel('Variance')\n",
    "\n",
    "plt.subplots_adjust(wspace=0.5, right=2)\n",
    "plt.show()"
   ]
  },
  {
   "cell_type": "markdown",
   "id": "ec168765-dee7-43ad-a6d4-ca0ea124cc86",
   "metadata": {
    "tags": []
   },
   "source": [
    "# 오버샘플링\n",
    "## imblearn.over_sampling"
   ]
  },
  {
   "cell_type": "code",
   "execution_count": null,
   "id": "772f65bb-f0b6-4bc2-9ec8-a439a07b7574",
   "metadata": {},
   "outputs": [],
   "source": [
    "from imblearn.over_sampling import SMOTE, ADASYN, RandomOverSampler"
   ]
  },
  {
   "cell_type": "code",
   "execution_count": null,
   "id": "0087707b-57f0-4338-82d8-c969a7e0f484",
   "metadata": {},
   "outputs": [],
   "source": [
    "# SMOTE\n",
    "X_train, y_train = SMOTE(random_state=42).fit_resample(X_train, y_train)"
   ]
  },
  {
   "cell_type": "code",
   "execution_count": null,
   "id": "47544409-4ab5-4ed5-ad1f-846378b306b2",
   "metadata": {},
   "outputs": [],
   "source": [
    "# ADASYN\n",
    "X_train, y_train = ADASYN(random_state=42).fit_resample(X_train, y_train)"
   ]
  },
  {
   "cell_type": "code",
   "execution_count": null,
   "id": "0f3a2e01-e555-4e77-986a-0ddede8ac6d2",
   "metadata": {},
   "outputs": [],
   "source": [
    "# 랜덤 오버 샘플링\n",
    "X, y = RandomOverSampler(random_state=42).fit_resample(X, y)"
   ]
  },
  {
   "cell_type": "markdown",
   "id": "5be947e7-51c8-4f85-b996-99c1a1932625",
   "metadata": {
    "tags": []
   },
   "source": [
    "## 선형회귀의 추정치로 데이터 생성"
   ]
  },
  {
   "cell_type": "code",
   "execution_count": null,
   "id": "db0b6318-1e5e-4108-bfc7-d0b78c722eca",
   "metadata": {},
   "outputs": [],
   "source": [
    "over_list = pd.DataFrame()"
   ]
  },
  {
   "cell_type": "code",
   "execution_count": null,
   "id": "1de718ba-6c81-4683-8cfe-1c4af7b2e60d",
   "metadata": {
    "tags": []
   },
   "outputs": [],
   "source": [
    "over_data = data.iloc[:, :]"
   ]
  },
  {
   "cell_type": "code",
   "execution_count": null,
   "id": "b0cba928-55f3-4126-b6a0-84b4795fd23e",
   "metadata": {},
   "outputs": [],
   "source": [
    "over_data.columns.values"
   ]
  },
  {
   "cell_type": "code",
   "execution_count": null,
   "id": "051c3a4a-ebcd-404c-a2cf-73dddd839e68",
   "metadata": {},
   "outputs": [],
   "source": [
    "model = LinearRegression()"
   ]
  },
  {
   "cell_type": "code",
   "execution_count": null,
   "id": "9b5fbeaf-aa5f-4912-8d00-a9a49efd3905",
   "metadata": {
    "tags": []
   },
   "outputs": [],
   "source": [
    "# 독립변수를 종속변수 삼아 값 추정\n",
    "for i in range(len(over_data.columns.values)):\n",
    "    over_y = over_data.loc[:, f'{over_data.columns.values[i]}']\n",
    "    over_X = over_data[over_data.columns.difference([f'{over_data.columns.values[i]}'])]\n",
    "\n",
    "    over_X_train, over_X_test, over_y_train, over_y_test = train_test_split(over_X, over_y, random_state=11, test_size=0.33)\n",
    "\n",
    "    model.fit(over_X_train, over_y_train)\n",
    "\n",
    "    y_pred = model.predict(over_X_test)\n",
    "\n",
    "    over_list[f'{over_data.columns.values[i]}'] = pd.DataFrame(y_pred)"
   ]
  },
  {
   "cell_type": "code",
   "execution_count": null,
   "id": "8a6de1d0-d3f7-4a6c-aace-98d5e51be38e",
   "metadata": {},
   "outputs": [],
   "source": [
    "over_list.info()"
   ]
  },
  {
   "cell_type": "code",
   "execution_count": null,
   "id": "aa1c977d-b0cc-4133-852f-810e09b9d2dc",
   "metadata": {},
   "outputs": [],
   "source": [
    "over_X_result = over_list.iloc[:, :-1]\n",
    "over_y_result = over_list.iloc[:, -1]\n",
    "\n",
    "# 오버샘플링 결과 df 생성\n",
    "merged_X = pd.concat([X, over_X_result], axis=0)\n",
    "merged_y = pd.concat([y, over_y_result], axis=0)"
   ]
  },
  {
   "cell_type": "code",
   "execution_count": null,
   "id": "c72e69bb-8da9-4f4b-9d6d-7efd269f64c1",
   "metadata": {
    "jupyter": {
     "source_hidden": true
    },
    "tags": []
   },
   "outputs": [],
   "source": [
    "X_train = merged_X\n",
    "y_train = merged_y"
   ]
  },
  {
   "cell_type": "code",
   "execution_count": null,
   "id": "3f620661-e88a-4a77-9139-4310d0ee0b07",
   "metadata": {},
   "outputs": [],
   "source": [
    "X_train, X_test, y_train, y_test = train_test_split(merged_X, merged_y, test_size=0.33, random_state=42)"
   ]
  },
  {
   "cell_type": "code",
   "execution_count": null,
   "id": "76ffc51b-7b95-4a81-ad8b-f2be77b3e046",
   "metadata": {},
   "outputs": [],
   "source": [
    "re_model = LinearRegression()\n",
    "re_model.fit(X_train, y_train)\n",
    "pred = re_model.predict(X_test)\n",
    "residual = y_test - pred\n",
    "print(f'훈련 데이터에 대한 정확도 : {re_model.score(X_train, y_train)}')\n",
    "print(f'테스트 데이터에 대한 정확도 : {re_model.score(X_test, y_test)}')\n",
    "print(f'회귀모델의 결정계수 : {re_model.score(merged_X, merged_y)}')\n",
    "print(f'회귀모델의 잔차 평균 : {np.mean(residual)}')"
   ]
  },
  {
   "cell_type": "code",
   "execution_count": null,
   "id": "b0c51399-3d4a-4d9e-9523-09bc9eb97603",
   "metadata": {},
   "outputs": [],
   "source": [
    "print(f'X_train의 shape : {X_train.shape}')\n",
    "print(f'X_test의 shape : {X_test.shape}')"
   ]
  },
  {
   "cell_type": "markdown",
   "id": "6be27d96-3b2b-41d6-9c76-ca950091eeed",
   "metadata": {},
   "source": [
    "# test <-> pred 비교 시각화"
   ]
  },
  {
   "cell_type": "code",
   "execution_count": null,
   "id": "9fd634a0-3893-468c-855b-a6fee52df58f",
   "metadata": {},
   "outputs": [],
   "source": [
    "# os 에 따른 Font 깨짐 제거를 위해 Font 지정\n",
    "import os\n",
    "if os.name == 'nt' :\n",
    "    font_family = \"Malgun Gothic\"\n",
    "else :\n",
    "    font_family = \"Apple Gothic\"\n",
    "    \n",
    "\n",
    "# -값이 깨지는 문제 해결을 위해 파라미터값 설정\n",
    "sns.set(font = font_family, rc = {\"axes.unicode_minus\" : False})"
   ]
  },
  {
   "cell_type": "code",
   "execution_count": null,
   "id": "46f57dd8-6141-4133-948a-af342cbc8589",
   "metadata": {},
   "outputs": [],
   "source": [
    "y_compare = {'y_test' : y_test, 'y_predicted' : y_pred}"
   ]
  },
  {
   "cell_type": "code",
   "execution_count": null,
   "id": "5f36ec01-1d4c-4b6f-88ad-6ba753e216c1",
   "metadata": {},
   "outputs": [],
   "source": [
    "y_compare = pd.DataFrame(y_compare)"
   ]
  },
  {
   "cell_type": "code",
   "execution_count": null,
   "id": "a7377460-6f59-4d74-801a-9402ac893577",
   "metadata": {
    "tags": []
   },
   "outputs": [],
   "source": [
    "ax = y_compare.head(100).plot(kind = 'bar', title = '생활 인프라 기반 충전소 수요 예측', \n",
    "                   figsize = (14, 5), legend = True, fontsize = 10)\n",
    "ax.set_xlabel('법정동', fontsize = 12)\n",
    "ax.set_ylabel('테스트 값 / 예측 값', fontsize = 12)\n",
    "ax.legend(['y_test', 'y_predicted'], fontsize = 12)"
   ]
  },
  {
   "cell_type": "code",
   "execution_count": null,
   "id": "6c1edbfb-0210-424f-9d42-96ea138c1b07",
   "metadata": {},
   "outputs": [],
   "source": [
    "X_test = data[data['CHARGE'] <= 1].iloc[:,:-1]\n",
    "X_test\n",
    "ones = np.ones(X_test.shape[0])\n",
    "ones = ones.astype('int64')\n",
    "y_test = pd.DataFrame(ones, columns=['CHARGE'])"
   ]
  },
  {
   "cell_type": "code",
   "execution_count": null,
   "id": "1359cde2-2bc9-4363-b181-010836d060d8",
   "metadata": {},
   "outputs": [],
   "source": [
    "display(X_test, y_test)"
   ]
  },
  {
   "cell_type": "code",
   "execution_count": null,
   "id": "6b2816a9-007e-4c74-87c8-4aee0e4a4eac",
   "metadata": {},
   "outputs": [],
   "source": [
    "charge_zero_test_one = pd.concat([X_test.reset_index(), y_test], axis=1).set_index(['EMD_NM'])"
   ]
  },
  {
   "cell_type": "code",
   "execution_count": null,
   "id": "15e6f8ef-0218-4c05-9dc3-08d9021e38d0",
   "metadata": {},
   "outputs": [],
   "source": [
    "X_test = charge_zero_train_one.iloc[:, :-1]\n",
    "y_test = charge_zero_train_one.iloc[:, -1]"
   ]
  },
  {
   "cell_type": "code",
   "execution_count": null,
   "id": "a5af2fce-98db-4bcf-b94c-6fff258e81a9",
   "metadata": {},
   "outputs": [],
   "source": []
  },
  {
   "cell_type": "code",
   "execution_count": null,
   "id": "58dc2701-fd54-4a57-979a-7741a0e2ff28",
   "metadata": {},
   "outputs": [],
   "source": []
  }
 ],
 "metadata": {
  "kernelspec": {
   "display_name": "Python 3 (ipykernel)",
   "language": "python",
   "name": "python3"
  },
  "language_info": {
   "codemirror_mode": {
    "name": "ipython",
    "version": 3
   },
   "file_extension": ".py",
   "mimetype": "text/x-python",
   "name": "python",
   "nbconvert_exporter": "python",
   "pygments_lexer": "ipython3",
   "version": "3.9.12"
  },
  "toc-autonumbering": true
 },
 "nbformat": 4,
 "nbformat_minor": 5
}
