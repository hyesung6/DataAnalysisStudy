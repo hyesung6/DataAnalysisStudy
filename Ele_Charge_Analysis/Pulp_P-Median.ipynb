{
 "cells": [
  {
   "cell_type": "code",
   "execution_count": null,
   "id": "f0e206e5-c04f-4e78-8d5b-9112eaf8697a",
   "metadata": {
    "tags": []
   },
   "outputs": [],
   "source": [
    "pip install pulp\n",
    "\n",
    "import pandas as pd\n",
    "from pulp import *\n",
    "\n",
    "distance_matrix = pd.read_csv('C:/Users/user/Downloads/행정구역_20220804135153.csv', usecols = 'G : PO')\n",
    "pop = pd.read_csv('C:/Users/user/Downloads/주민등록인구_20220804102055.csv', usecols = 'C')\n",
    "\n",
    "pop_final = list(pop.iloc[0:424, 0])\n",
    "final = distance_matrix[1:426] # 데이터 전처리 완료\n",
    "\n",
    "region_name = final.iloc[0, 1:]\n",
    "region_name_final = list(region_name)\n",
    "location = region_name_final # 동 이름 전처리\n",
    "\n",
    "a = dict(zip(location, pop_final))\n",
    "\n",
    "D = {}\n",
    "for i in range(0, 424): # 딕셔너리 형태로 한 동당 거리행렬 정의\n",
    "    D[i] = dict(zip(location[i:], [dict(zip(location, list(final.iloc[i+1,1:])))]))\n",
    "    \n",
    "merged = {}\n",
    "for i in range(0, 424):\n",
    "    merged = {**merged, **D[i]} # 424 + 424 거리행렬 정의\n",
    "\n",
    "p = 26 # 임시선별검사소 수 정의\n",
    "\n",
    "# P-Median 모델을 통해 최적지 선정하는 코드\n",
    "X = LpVariable.dicts('X_%s_%s', (location, location), cat = 'Binary',\n",
    "                     lowBound = 0,\n",
    "                     upBound = 1)\n",
    "\n",
    "prob = LpProblem('P Median', LpMinimize) # 목적 함수\n",
    "prob += sum(sum(a[i]*merged[i][j] * X[i][j] for j in location)for i in location)\n",
    "prob += sum(X[i][i] for i in location) == p\n",
    "\n",
    "for i in location: prob += sum(X[i][j] for j in location) == 1 # 제약식\n",
    "for i in location:\n",
    "    for j in location: prob += X[i][j] <= X[j][j]\n",
    "\n",
    "prob.writeLP(\"p-median_Seoul_Whole.lp\")\n",
    "prob.solve()"
   ]
  },
  {
   "cell_type": "code",
   "execution_count": 1,
   "id": "8bc37895-e69d-4f2f-a6c1-4377c47da0b2",
   "metadata": {},
   "outputs": [
    {
     "name": "stdout",
     "output_type": "stream",
     "text": [
      "Collecting pulp\n",
      "  Downloading PuLP-2.6.0-py3-none-any.whl (14.2 MB)\n",
      "Installing collected packages: pulp\n",
      "Successfully installed pulp-2.6.0\n"
     ]
    }
   ],
   "source": [
    "!pip install pulp"
   ]
  },
  {
   "cell_type": "code",
   "execution_count": 3,
   "id": "17f7a1a9-ea1e-4705-88de-98c8f24576e8",
   "metadata": {},
   "outputs": [],
   "source": [
    "import pandas as pd\n",
    "from pulp import *"
   ]
  },
  {
   "cell_type": "code",
   "execution_count": 7,
   "id": "34035cf6-4d55-4cb5-8573-066e2e845116",
   "metadata": {},
   "outputs": [
    {
     "name": "stdout",
     "output_type": "stream",
     "text": [
      "Optimal : max value = 30.0 : x1_opt = 0.0 : x2_opt = 10.0\n"
     ]
    }
   ],
   "source": [
    "# 그런 다음 문제의 초기 선언을 수행합니다.\n",
    "linearProblem = pulp.LpProblem(\"Maximizing for first objective\", pulp.LpMaximize)\n",
    "\n",
    "# PuLP를 사용하여 최적화 변수 선언\n",
    "x1 = pulp.LpVariable(\"x1\",lowBound = 0) \n",
    "x2 = pulp.LpVariable(\"x2\",lowBound = 0) \n",
    "\n",
    "# 선형 문제 설명에 (첫 번째) 목적 함수 추가\n",
    "linearProblem += 2*x1 + 3*x2 \n",
    "\n",
    "# 문제에 제약을 추가\n",
    "linearProblem += x1 + x2 <= 10\n",
    "linearProblem += 2*x1 + x2 <= 15\n",
    "\n",
    "# 기본 솔버로 해결하여 첫 번째 목표를 최대화합니다.\n",
    "solution = linearProblem.solve()\n",
    "\n",
    "# 최적이 발견되면 출력 정보, 최대 목표 값 및 최적 지점이 무엇인지\n",
    "print(str(pulp.LpStatus[solution])+\" : max value = \"+str(pulp.value(linearProblem.objective))+\n",
    "      \" : x1_opt = \"+str(pulp.value(x1))+\n",
    "      \" : x2_opt = \"+str(pulp.value(x2)))"
   ]
  },
  {
   "cell_type": "code",
   "execution_count": 8,
   "id": "9af71b21-8e0d-4207-a61d-4354920ba971",
   "metadata": {},
   "outputs": [
    {
     "data": {
      "text/plain": [
       "module"
      ]
     },
     "execution_count": 8,
     "metadata": {},
     "output_type": "execute_result"
    }
   ],
   "source": [
    "type(pulp)"
   ]
  },
  {
   "cell_type": "code",
   "execution_count": 6,
   "id": "c0d969e8-9aeb-4e82-b135-7ee0a65e543a",
   "metadata": {
    "collapsed": true,
    "jupyter": {
     "outputs_hidden": true
    },
    "tags": []
   },
   "outputs": [
    {
     "ename": "TypeError",
     "evalue": "not enough arguments for format string",
     "output_type": "error",
     "traceback": [
      "\u001b[1;31m---------------------------------------------------------------------------\u001b[0m",
      "\u001b[1;31mTypeError\u001b[0m                                 Traceback (most recent call last)",
      "Input \u001b[1;32mIn [6]\u001b[0m, in \u001b[0;36m<cell line: 1>\u001b[1;34m()\u001b[0m\n\u001b[1;32m----> 1\u001b[0m X \u001b[38;5;241m=\u001b[39m \u001b[43mLpVariable\u001b[49m\u001b[38;5;241;43m.\u001b[39;49m\u001b[43mdicts\u001b[49m\u001b[43m(\u001b[49m\u001b[38;5;124;43m'\u001b[39;49m\u001b[38;5;124;43mX_\u001b[39;49m\u001b[38;5;132;43;01m%s\u001b[39;49;00m\u001b[38;5;124;43m_\u001b[39;49m\u001b[38;5;132;43;01m%s\u001b[39;49;00m\u001b[38;5;124;43m'\u001b[39;49m\u001b[43m,\u001b[49m\u001b[38;5;28;43mrange\u001b[39;49m\u001b[43m(\u001b[49m\u001b[38;5;241;43m0\u001b[39;49m\u001b[43m,\u001b[49m\u001b[43m \u001b[49m\u001b[38;5;241;43m20\u001b[39;49m\u001b[43m)\u001b[49m\u001b[43m,\u001b[49m\u001b[43m \u001b[49m\u001b[43mcat\u001b[49m\u001b[43m \u001b[49m\u001b[38;5;241;43m=\u001b[39;49m\u001b[43m \u001b[49m\u001b[38;5;124;43m'\u001b[39;49m\u001b[38;5;124;43mBinary\u001b[39;49m\u001b[38;5;124;43m'\u001b[39;49m\u001b[43m,\u001b[49m\u001b[43m \u001b[49m\u001b[43mlowBound\u001b[49m\u001b[43m \u001b[49m\u001b[38;5;241;43m=\u001b[39;49m\u001b[43m \u001b[49m\u001b[38;5;241;43m0\u001b[39;49m\u001b[43m,\u001b[49m\u001b[43m \u001b[49m\u001b[43mupBound\u001b[49m\u001b[43m \u001b[49m\u001b[38;5;241;43m=\u001b[39;49m\u001b[43m \u001b[49m\u001b[38;5;241;43m1\u001b[39;49m\u001b[43m)\u001b[49m\n\u001b[0;32m      2\u001b[0m prob \u001b[38;5;241m=\u001b[39m LpProblem(\u001b[38;5;124m'\u001b[39m\u001b[38;5;124mP Median\u001b[39m\u001b[38;5;124m'\u001b[39m, LpMinimize)\n\u001b[0;32m      4\u001b[0m \u001b[38;5;28;01mfor\u001b[39;00m i \u001b[38;5;129;01min\u001b[39;00m location: prob \u001b[38;5;241m+\u001b[39m\u001b[38;5;241m=\u001b[39m \u001b[38;5;28msum\u001b[39m(X[i][j] \u001b[38;5;28;01mfor\u001b[39;00m j \u001b[38;5;129;01min\u001b[39;00m location) \u001b[38;5;241m==\u001b[39m \u001b[38;5;241m1\u001b[39m \u001b[38;5;66;03m# 제약식\u001b[39;00m\n",
      "File \u001b[1;32m~\\anaconda3\\lib\\site-packages\\pulp\\pulp.py:419\u001b[0m, in \u001b[0;36mLpVariable.dicts\u001b[1;34m(cls, name, indices, lowBound, upBound, cat, indexStart, indexs)\u001b[0m\n\u001b[0;32m    416\u001b[0m \u001b[38;5;28;01mif\u001b[39;00m \u001b[38;5;28mlen\u001b[39m(indices) \u001b[38;5;241m==\u001b[39m \u001b[38;5;241m0\u001b[39m:\n\u001b[0;32m    417\u001b[0m     \u001b[38;5;28;01mfor\u001b[39;00m i \u001b[38;5;129;01min\u001b[39;00m index:\n\u001b[0;32m    418\u001b[0m         d[i] \u001b[38;5;241m=\u001b[39m LpVariable(\n\u001b[1;32m--> 419\u001b[0m             \u001b[43mname\u001b[49m\u001b[43m \u001b[49m\u001b[38;5;241;43m%\u001b[39;49m\u001b[43m \u001b[49m\u001b[38;5;28;43mtuple\u001b[39;49m\u001b[43m(\u001b[49m\u001b[43mindexStart\u001b[49m\u001b[43m \u001b[49m\u001b[38;5;241;43m+\u001b[39;49m\u001b[43m \u001b[49m\u001b[43m[\u001b[49m\u001b[38;5;28;43mstr\u001b[39;49m\u001b[43m(\u001b[49m\u001b[43mi\u001b[49m\u001b[43m)\u001b[49m\u001b[43m]\u001b[49m\u001b[43m)\u001b[49m, lowBound, upBound, cat\n\u001b[0;32m    420\u001b[0m         )\n\u001b[0;32m    421\u001b[0m \u001b[38;5;28;01melse\u001b[39;00m:\n\u001b[0;32m    422\u001b[0m     \u001b[38;5;28;01mfor\u001b[39;00m i \u001b[38;5;129;01min\u001b[39;00m index:\n",
      "\u001b[1;31mTypeError\u001b[0m: not enough arguments for format string"
     ]
    }
   ],
   "source": [
    "X = LpVariable.dicts('X_%s_%s',range(0, 20), cat = 'Binary', lowBound = 0, upBound = 1)\n",
    "prob = LpProblem('P Median', LpMinimize)\n",
    "\n",
    "for i in location: \n",
    "    prob += sum(X[i][j] for j in location) == 1 # 제약식\n",
    "for i in location:\n",
    "    for j in location: prob += X[i][j] <= X[j][j]\n",
    "\n",
    "prob.writeLP(\"p-median.lp\")\n",
    "\n",
    "print(prob)\n",
    "prob.solve()\n",
    "print(\"Status:\", LpStatus[prob.status])\n",
    "# print(\"Objective:\", value(prob.objective))\n",
    "for v in prob.variables():\n",
    "  print(v.name, \"=\", v.varValue)"
   ]
  },
  {
   "cell_type": "code",
   "execution_count": null,
   "id": "27bcd62a-8eb4-4424-a16f-296dd4627ab9",
   "metadata": {},
   "outputs": [],
   "source": []
  }
 ],
 "metadata": {
  "kernelspec": {
   "display_name": "Python 3 (ipykernel)",
   "language": "python",
   "name": "python3"
  },
  "language_info": {
   "codemirror_mode": {
    "name": "ipython",
    "version": 3
   },
   "file_extension": ".py",
   "mimetype": "text/x-python",
   "name": "python",
   "nbconvert_exporter": "python",
   "pygments_lexer": "ipython3",
   "version": "3.9.12"
  }
 },
 "nbformat": 4,
 "nbformat_minor": 5
}
