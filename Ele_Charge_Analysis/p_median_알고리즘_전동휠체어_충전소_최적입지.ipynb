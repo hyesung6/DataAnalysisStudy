{
 "cells": [
  {
   "cell_type": "code",
   "execution_count": null,
   "metadata": {
    "colab": {
     "base_uri": "https://localhost:8080/"
    },
    "id": "XuANDTl-w9pu",
    "outputId": "1724f973-b1b6-4916-f410-bc071638aadb"
   },
   "outputs": [
    {
     "name": "stdout",
     "output_type": "stream",
     "text": [
      "Looking in indexes: https://pypi.org/simple, https://us-python.pkg.dev/colab-wheels/public/simple/\n",
      "Collecting pulp\n",
      "  Downloading PuLP-2.6.0-py3-none-any.whl (14.2 MB)\n",
      "\u001b[K     |████████████████████████████████| 14.2 MB 6.7 MB/s \n",
      "\u001b[?25hInstalling collected packages: pulp\n",
      "Successfully installed pulp-2.6.0\n"
     ]
    }
   ],
   "source": [
    "!pip install pulp\n",
    "\n",
    "import pandas as pd\n",
    "from pulp import *"
   ]
  },
  {
   "cell_type": "code",
   "execution_count": 1,
   "metadata": {
    "id": "36v8m1wi_vGl"
   },
   "outputs": [],
   "source": [
    "import pandas as pd\n",
    "from pulp import *"
   ]
  },
  {
   "cell_type": "code",
   "execution_count": 2,
   "metadata": {
    "id": "6ED13O5R4Lga"
   },
   "outputs": [],
   "source": [
    "# distance_matrix = pd.read_excel('./광주광역시_경계구역_읍면동_충장동통합.xlsx', usecols = 'B : GM')\n",
    "distance_matrix = pd.read_excel('./광주광역시_법정동_거리행렬.xlsx')"
   ]
  },
  {
   "cell_type": "code",
   "execution_count": 26,
   "metadata": {
    "tags": []
   },
   "outputs": [
    {
     "ename": "KeyError",
     "evalue": "'신안동'",
     "output_type": "error",
     "traceback": [
      "\u001b[1;31m---------------------------------------------------------------------------\u001b[0m",
      "\u001b[1;31mKeyError\u001b[0m                                  Traceback (most recent call last)",
      "Input \u001b[1;32mIn [26]\u001b[0m, in \u001b[0;36m<cell line: 1>\u001b[1;34m()\u001b[0m\n\u001b[1;32m----> 1\u001b[0m \u001b[43mdistance_matrix\u001b[49m\u001b[43m[\u001b[49m\u001b[38;5;124;43m'\u001b[39;49m\u001b[38;5;124;43m광천동\u001b[39;49m\u001b[38;5;124;43m'\u001b[39;49m\u001b[43m]\u001b[49m\u001b[43m[\u001b[49m\u001b[38;5;124;43m'\u001b[39;49m\u001b[38;5;124;43m신안동\u001b[39;49m\u001b[38;5;124;43m'\u001b[39;49m\u001b[43m]\u001b[49m\n",
      "File \u001b[1;32m~\\anaconda3\\lib\\site-packages\\pandas\\core\\series.py:958\u001b[0m, in \u001b[0;36mSeries.__getitem__\u001b[1;34m(self, key)\u001b[0m\n\u001b[0;32m    955\u001b[0m     \u001b[38;5;28;01mreturn\u001b[39;00m \u001b[38;5;28mself\u001b[39m\u001b[38;5;241m.\u001b[39m_values[key]\n\u001b[0;32m    957\u001b[0m \u001b[38;5;28;01melif\u001b[39;00m key_is_scalar:\n\u001b[1;32m--> 958\u001b[0m     \u001b[38;5;28;01mreturn\u001b[39;00m \u001b[38;5;28;43mself\u001b[39;49m\u001b[38;5;241;43m.\u001b[39;49m\u001b[43m_get_value\u001b[49m\u001b[43m(\u001b[49m\u001b[43mkey\u001b[49m\u001b[43m)\u001b[49m\n\u001b[0;32m    960\u001b[0m \u001b[38;5;28;01mif\u001b[39;00m is_hashable(key):\n\u001b[0;32m    961\u001b[0m     \u001b[38;5;66;03m# Otherwise index.get_value will raise InvalidIndexError\u001b[39;00m\n\u001b[0;32m    962\u001b[0m     \u001b[38;5;28;01mtry\u001b[39;00m:\n\u001b[0;32m    963\u001b[0m         \u001b[38;5;66;03m# For labels that don't resolve as scalars like tuples and frozensets\u001b[39;00m\n",
      "File \u001b[1;32m~\\anaconda3\\lib\\site-packages\\pandas\\core\\series.py:1069\u001b[0m, in \u001b[0;36mSeries._get_value\u001b[1;34m(self, label, takeable)\u001b[0m\n\u001b[0;32m   1066\u001b[0m     \u001b[38;5;28;01mreturn\u001b[39;00m \u001b[38;5;28mself\u001b[39m\u001b[38;5;241m.\u001b[39m_values[label]\n\u001b[0;32m   1068\u001b[0m \u001b[38;5;66;03m# Similar to Index.get_value, but we do not fall back to positional\u001b[39;00m\n\u001b[1;32m-> 1069\u001b[0m loc \u001b[38;5;241m=\u001b[39m \u001b[38;5;28;43mself\u001b[39;49m\u001b[38;5;241;43m.\u001b[39;49m\u001b[43mindex\u001b[49m\u001b[38;5;241;43m.\u001b[39;49m\u001b[43mget_loc\u001b[49m\u001b[43m(\u001b[49m\u001b[43mlabel\u001b[49m\u001b[43m)\u001b[49m\n\u001b[0;32m   1070\u001b[0m \u001b[38;5;28;01mreturn\u001b[39;00m \u001b[38;5;28mself\u001b[39m\u001b[38;5;241m.\u001b[39mindex\u001b[38;5;241m.\u001b[39m_get_values_for_loc(\u001b[38;5;28mself\u001b[39m, loc, label)\n",
      "File \u001b[1;32m~\\anaconda3\\lib\\site-packages\\pandas\\core\\indexes\\range.py:389\u001b[0m, in \u001b[0;36mRangeIndex.get_loc\u001b[1;34m(self, key, method, tolerance)\u001b[0m\n\u001b[0;32m    387\u001b[0m             \u001b[38;5;28;01mraise\u001b[39;00m \u001b[38;5;167;01mKeyError\u001b[39;00m(key) \u001b[38;5;28;01mfrom\u001b[39;00m \u001b[38;5;21;01merr\u001b[39;00m\n\u001b[0;32m    388\u001b[0m     \u001b[38;5;28mself\u001b[39m\u001b[38;5;241m.\u001b[39m_check_indexing_error(key)\n\u001b[1;32m--> 389\u001b[0m     \u001b[38;5;28;01mraise\u001b[39;00m \u001b[38;5;167;01mKeyError\u001b[39;00m(key)\n\u001b[0;32m    390\u001b[0m \u001b[38;5;28;01mreturn\u001b[39;00m \u001b[38;5;28msuper\u001b[39m()\u001b[38;5;241m.\u001b[39mget_loc(key, method\u001b[38;5;241m=\u001b[39mmethod, tolerance\u001b[38;5;241m=\u001b[39mtolerance)\n",
      "\u001b[1;31mKeyError\u001b[0m: '신안동'"
     ]
    }
   ],
   "source": [
    "distance_matrix['광천동']['신안동']"
   ]
  },
  {
   "cell_type": "code",
   "execution_count": 3,
   "metadata": {
    "id": "q6RER9MTAbcu"
   },
   "outputs": [],
   "source": [
    "pop = pd.read_excel('./행정안전부_법정동_주민등록_인구수.xlsx')"
   ]
  },
  {
   "cell_type": "code",
   "execution_count": 4,
   "metadata": {
    "id": "L_icxpuUAt_r"
   },
   "outputs": [],
   "source": [
    "pop_final = list(pop.iloc[:, 1]) # 인구수\n",
    "final = distance_matrix[:194] # 법정동 거리행렬"
   ]
  },
  {
   "cell_type": "code",
   "execution_count": 5,
   "metadata": {},
   "outputs": [],
   "source": [
    "final = final.set_index('ID')"
   ]
  },
  {
   "cell_type": "code",
   "execution_count": 6,
   "metadata": {
    "colab": {
     "base_uri": "https://localhost:8080/",
     "height": 240
    },
    "id": "o3Esa3u4QrEx",
    "outputId": "248fe8de-24d5-4378-8a8a-a9a85e002da6"
   },
   "outputs": [
    {
     "data": {
      "text/html": [
       "<div>\n",
       "<style scoped>\n",
       "    .dataframe tbody tr th:only-of-type {\n",
       "        vertical-align: middle;\n",
       "    }\n",
       "\n",
       "    .dataframe tbody tr th {\n",
       "        vertical-align: top;\n",
       "    }\n",
       "\n",
       "    .dataframe thead th {\n",
       "        text-align: right;\n",
       "    }\n",
       "</style>\n",
       "<table border=\"1\" class=\"dataframe\">\n",
       "  <thead>\n",
       "    <tr style=\"text-align: right;\">\n",
       "      <th></th>\n",
       "      <th>광천동</th>\n",
       "      <th>덕흥동</th>\n",
       "      <th>내방동</th>\n",
       "      <th>서구양동</th>\n",
       "      <th>금호동</th>\n",
       "      <th>농성동</th>\n",
       "      <th>화정동</th>\n",
       "      <th>서구용두동</th>\n",
       "      <th>노대동</th>\n",
       "      <th>치평동</th>\n",
       "      <th>...</th>\n",
       "      <th>매곡동</th>\n",
       "      <th>북구동림동</th>\n",
       "      <th>삼거동</th>\n",
       "      <th>서석동</th>\n",
       "      <th>일곡동</th>\n",
       "      <th>연제동</th>\n",
       "      <th>덕림동</th>\n",
       "      <th>운암동</th>\n",
       "      <th>충장동</th>\n",
       "      <th>대의동</th>\n",
       "    </tr>\n",
       "    <tr>\n",
       "      <th>ID</th>\n",
       "      <th></th>\n",
       "      <th></th>\n",
       "      <th></th>\n",
       "      <th></th>\n",
       "      <th></th>\n",
       "      <th></th>\n",
       "      <th></th>\n",
       "      <th></th>\n",
       "      <th></th>\n",
       "      <th></th>\n",
       "      <th></th>\n",
       "      <th></th>\n",
       "      <th></th>\n",
       "      <th></th>\n",
       "      <th></th>\n",
       "      <th></th>\n",
       "      <th></th>\n",
       "      <th></th>\n",
       "      <th></th>\n",
       "      <th></th>\n",
       "      <th></th>\n",
       "    </tr>\n",
       "  </thead>\n",
       "  <tbody>\n",
       "    <tr>\n",
       "      <th>쌍촌동</th>\n",
       "      <td>2144.88004</td>\n",
       "      <td>2777.05799</td>\n",
       "      <td>1219.937464</td>\n",
       "      <td>3384.456895</td>\n",
       "      <td>2345.002069</td>\n",
       "      <td>2346.190337</td>\n",
       "      <td>1528.53187</td>\n",
       "      <td>7300.512049</td>\n",
       "      <td>7198.810977</td>\n",
       "      <td>1877.224242</td>\n",
       "      <td>...</td>\n",
       "      <td>4847.021614</td>\n",
       "      <td>3153.290374</td>\n",
       "      <td>17174.384225</td>\n",
       "      <td>6247.368919</td>\n",
       "      <td>7071.763137</td>\n",
       "      <td>5203.873351</td>\n",
       "      <td>17858.745719</td>\n",
       "      <td>3210.00283</td>\n",
       "      <td>4719.221324</td>\n",
       "      <td>5300.442001</td>\n",
       "    </tr>\n",
       "  </tbody>\n",
       "</table>\n",
       "<p>1 rows × 192 columns</p>\n",
       "</div>"
      ],
      "text/plain": [
       "            광천동         덕흥동          내방동         서구양동          금호동  \\\n",
       "ID                                                                   \n",
       "쌍촌동  2144.88004  2777.05799  1219.937464  3384.456895  2345.002069   \n",
       "\n",
       "             농성동         화정동        서구용두동          노대동          치평동  ...  \\\n",
       "ID                                                                   ...   \n",
       "쌍촌동  2346.190337  1528.53187  7300.512049  7198.810977  1877.224242  ...   \n",
       "\n",
       "             매곡동        북구동림동           삼거동          서석동          일곡동  \\\n",
       "ID                                                                      \n",
       "쌍촌동  4847.021614  3153.290374  17174.384225  6247.368919  7071.763137   \n",
       "\n",
       "             연제동           덕림동         운암동          충장동          대의동  \n",
       "ID                                                                    \n",
       "쌍촌동  5203.873351  17858.745719  3210.00283  4719.221324  5300.442001  \n",
       "\n",
       "[1 rows x 192 columns]"
      ]
     },
     "execution_count": 6,
     "metadata": {},
     "output_type": "execute_result"
    }
   ],
   "source": [
    "final.iloc[:1, 1:] # 행,열"
   ]
  },
  {
   "cell_type": "code",
   "execution_count": 7,
   "metadata": {
    "id": "f0Y_XvDdAwdR"
   },
   "outputs": [],
   "source": [
    "region_name = final.iloc[:1,1:] # 법정동명\n",
    "region_name_final = list(region_name) # 법정동명 리스트로 저장\n",
    "location = region_name_final # 동 이름 전처리"
   ]
  },
  {
   "cell_type": "code",
   "execution_count": null,
   "metadata": {
    "id": "Xr5vGSHdXMjN",
    "tags": []
   },
   "outputs": [],
   "source": [
    "location"
   ]
  },
  {
   "cell_type": "code",
   "execution_count": 30,
   "metadata": {},
   "outputs": [],
   "source": [
    "location = location[:5]"
   ]
  },
  {
   "cell_type": "code",
   "execution_count": 31,
   "metadata": {
    "id": "9aijMxS4A0Ma"
   },
   "outputs": [],
   "source": [
    "a = dict(zip(location, pop_final))"
   ]
  },
  {
   "cell_type": "code",
   "execution_count": 32,
   "metadata": {
    "id": "SRBwHO9TKIZs",
    "tags": []
   },
   "outputs": [
    {
     "data": {
      "text/plain": [
       "{'광천동': 48520, '덕흥동': 7805, '내방동': 451, '서구양동': 7315, '금호동': 8068}"
      ]
     },
     "execution_count": 32,
     "metadata": {},
     "output_type": "execute_result"
    }
   ],
   "source": [
    "a"
   ]
  },
  {
   "cell_type": "code",
   "execution_count": 33,
   "metadata": {
    "id": "a6XuTzq0A3AL"
   },
   "outputs": [],
   "source": [
    "## 거리행렬 정의\n",
    "D = {}\n",
    "for i in range(0, 193): # 딕셔너리 형태로 한 동당 거리행렬 정의\n",
    "    D[i] = dict(zip(location[i:], [dict(zip(location, list(final.iloc[i,:])))]))\n",
    "\n",
    "merged = {}\n",
    "for i in range(0, 193):\n",
    "    merged = {**merged, **D[i]} # 193 + 193 거리행렬 정의    "
   ]
  },
  {
   "cell_type": "code",
   "execution_count": 34,
   "metadata": {
    "id": "I0CbbzWAPHOI",
    "tags": []
   },
   "outputs": [
    {
     "data": {
      "text/plain": [
       "{'광천동': {'광천동': 0.0,\n",
       "  '덕흥동': 2144.88003961997,\n",
       "  '내방동': 2777.05799038133,\n",
       "  '서구양동': 1219.93746420492,\n",
       "  '금호동': 3384.45689518103},\n",
       " '덕흥동': {'광천동': 2144.88003961991,\n",
       "  '덕흥동': 0.0,\n",
       "  '내방동': 3978.91567897798,\n",
       "  '서구양동': 925.62967704849,\n",
       "  '금호동': 2144.3059746784},\n",
       " '내방동': {'광천동': 2777.05799038136,\n",
       "  '덕흥동': 3978.91567897798,\n",
       "  '내방동': 0.0,\n",
       "  '서구양동': 3325.46741102481,\n",
       "  '금호동': 5880.42259550082},\n",
       " '서구양동': {'광천동': 1219.93746420508,\n",
       "  '덕흥동': 925.629677048623,\n",
       "  '내방동': 3325.46741102484,\n",
       "  '서구양동': 0.0,\n",
       "  '금호동': 2557.30507962959},\n",
       " '금호동': {'광천동': 3384.45689518103,\n",
       "  '덕흥동': 2144.30597467835,\n",
       "  '내방동': 5880.42259550079,\n",
       "  '서구양동': 2557.30507962958,\n",
       "  '금호동': 0.0}}"
      ]
     },
     "execution_count": 34,
     "metadata": {},
     "output_type": "execute_result"
    }
   ],
   "source": [
    "merged"
   ]
  },
  {
   "cell_type": "code",
   "execution_count": 35,
   "metadata": {
    "id": "Rd7X3jOuBBty"
   },
   "outputs": [],
   "source": [
    "p = 2 # 임시선별검사소 수 정의"
   ]
  },
  {
   "cell_type": "code",
   "execution_count": 36,
   "metadata": {
    "id": "TdiNfvtmBEma"
   },
   "outputs": [],
   "source": [
    "# P-Median 모델을 통해 최적지 선정하는 코드\n",
    "X = LpVariable.dicts('%s_%s', (location, location), cat = 'Binary',\n",
    "                     lowBound = 0,\n",
    "                     upBound = 1)"
   ]
  },
  {
   "cell_type": "code",
   "execution_count": 42,
   "metadata": {},
   "outputs": [
    {
     "data": {
      "text/plain": [
       "{'광천동': {'광천동': 광천동_광천동,\n",
       "  '덕흥동': 광천동_덕흥동,\n",
       "  '내방동': 광천동_내방동,\n",
       "  '서구양동': 광천동_서구양동,\n",
       "  '금호동': 광천동_금호동},\n",
       " '덕흥동': {'광천동': 덕흥동_광천동,\n",
       "  '덕흥동': 덕흥동_덕흥동,\n",
       "  '내방동': 덕흥동_내방동,\n",
       "  '서구양동': 덕흥동_서구양동,\n",
       "  '금호동': 덕흥동_금호동},\n",
       " '내방동': {'광천동': 내방동_광천동,\n",
       "  '덕흥동': 내방동_덕흥동,\n",
       "  '내방동': 내방동_내방동,\n",
       "  '서구양동': 내방동_서구양동,\n",
       "  '금호동': 내방동_금호동},\n",
       " '서구양동': {'광천동': 서구양동_광천동,\n",
       "  '덕흥동': 서구양동_덕흥동,\n",
       "  '내방동': 서구양동_내방동,\n",
       "  '서구양동': 서구양동_서구양동,\n",
       "  '금호동': 서구양동_금호동},\n",
       " '금호동': {'광천동': 금호동_광천동,\n",
       "  '덕흥동': 금호동_덕흥동,\n",
       "  '내방동': 금호동_내방동,\n",
       "  '서구양동': 금호동_서구양동,\n",
       "  '금호동': 금호동_금호동}}"
      ]
     },
     "execution_count": 42,
     "metadata": {},
     "output_type": "execute_result"
    }
   ],
   "source": [
    "X"
   ]
  },
  {
   "cell_type": "code",
   "execution_count": 45,
   "metadata": {
    "colab": {
     "base_uri": "https://localhost:8080/"
    },
    "id": "uJfsmAHsFwCt",
    "outputId": "dfab4cd7-3c7b-41fe-aa88-2110e8f59951"
   },
   "outputs": [],
   "source": [
    "prob = LpProblem('P_Median', LpMinimize) # 목적 함수"
   ]
  },
  {
   "cell_type": "code",
   "execution_count": 46,
   "metadata": {
    "id": "tHGqIRRgBPWT"
   },
   "outputs": [],
   "source": [
    "# 목적 함수\n",
    "prob += sum(sum(merged[i][j] * X[i][j] for j in location) for i in location)   \n",
    "prob += sum(X[i][i] for i in location) == 1"
   ]
  },
  {
   "cell_type": "code",
   "execution_count": 47,
   "metadata": {
    "id": "1ybkr-zqBW1H"
   },
   "outputs": [],
   "source": [
    "# 제약식\n",
    "for i in location: \n",
    "    prob += sum(X[i][j] for j in location) == 1\n",
    "\n",
    "for i in location:\n",
    "    for j in location: prob += X[i][j] <= X[j][j]"
   ]
  },
  {
   "cell_type": "code",
   "execution_count": 48,
   "metadata": {
    "colab": {
     "base_uri": "https://localhost:8080/"
    },
    "id": "0V1cmWNpBYym",
    "outputId": "87718adc-89f0-4582-eed1-4c63dac93660"
   },
   "outputs": [
    {
     "data": {
      "text/plain": [
       "1"
      ]
     },
     "execution_count": 48,
     "metadata": {},
     "output_type": "execute_result"
    }
   ],
   "source": [
    "prob.writeLP(\"p-median_Seoul_Whole.lp\")\n",
    "prob.solve()"
   ]
  },
  {
   "cell_type": "code",
   "execution_count": 49,
   "metadata": {
    "colab": {
     "base_uri": "https://localhost:8080/"
    },
    "id": "wNUYrL3eQq8h",
    "outputId": "7742913e-301c-4bb7-abfd-1efc87ef641f",
    "tags": []
   },
   "outputs": [
    {
     "data": {
      "text/plain": [
       "8028.3396319078"
      ]
     },
     "execution_count": 49,
     "metadata": {},
     "output_type": "execute_result"
    }
   ],
   "source": [
    "#prob\n",
    "\n",
    "pulp.value(prob.objective)"
   ]
  },
  {
   "cell_type": "code",
   "execution_count": 66,
   "metadata": {},
   "outputs": [
    {
     "data": {
      "text/plain": [
       "0.0"
      ]
     },
     "execution_count": 67,
     "metadata": {},
     "output_type": "execute_result"
    }
   ],
   "source": [
    "X['금호동']['서구양동'].varValue"
   ]
  },
  {
   "cell_type": "code",
   "execution_count": 50,
   "metadata": {},
   "outputs": [
    {
     "data": {
      "text/plain": [
       "P_Median:\n",
       "MINIMIZE\n",
       "3384.45689518103*광천동_금호동 + 2777.05799038133*광천동_내방동 + 2144.88003961997*광천동_덕흥동 + 1219.93746420492*광천동_서구양동 + 3384.45689518103*금호동_광천동 + 5880.42259550079*금호동_내방동 + 2144.30597467835*금호동_덕흥동 + 2557.30507962958*금호동_서구양동 + 2777.05799038136*내방동_광천동 + 5880.42259550082*내방동_금호동 + 3978.91567897798*내방동_덕흥동 + 3325.46741102481*내방동_서구양동 + 2144.88003961991*덕흥동_광천동 + 2144.3059746784*덕흥동_금호동 + 3978.91567897798*덕흥동_내방동 + 925.62967704849*덕흥동_서구양동 + 1219.93746420508*서구양동_광천동 + 2557.30507962959*서구양동_금호동 + 3325.46741102484*서구양동_내방동 + 925.629677048623*서구양동_덕흥동 + 0.0\n",
       "SUBJECT TO\n",
       "_C1: 광천동_광천동 + 금호동_금호동 + 내방동_내방동 + 덕흥동_덕흥동 + 서구양동_서구양동 = 1\n",
       "\n",
       "_C2: 광천동_광천동 + 광천동_금호동 + 광천동_내방동 + 광천동_덕흥동 + 광천동_서구양동 = 1\n",
       "\n",
       "_C3: 덕흥동_광천동 + 덕흥동_금호동 + 덕흥동_내방동 + 덕흥동_덕흥동 + 덕흥동_서구양동 = 1\n",
       "\n",
       "_C4: 내방동_광천동 + 내방동_금호동 + 내방동_내방동 + 내방동_덕흥동 + 내방동_서구양동 = 1\n",
       "\n",
       "_C5: 서구양동_광천동 + 서구양동_금호동 + 서구양동_내방동 + 서구양동_덕흥동 + 서구양동_서구양동 = 1\n",
       "\n",
       "_C6: 금호동_광천동 + 금호동_금호동 + 금호동_내방동 + 금호동_덕흥동 + 금호동_서구양동 = 1\n",
       "\n",
       "_C7: 0 광천동_광천동 <= 0\n",
       "\n",
       "_C8: 광천동_덕흥동 - 덕흥동_덕흥동 <= 0\n",
       "\n",
       "_C9: 광천동_내방동 - 내방동_내방동 <= 0\n",
       "\n",
       "_C10: 광천동_서구양동 - 서구양동_서구양동 <= 0\n",
       "\n",
       "_C11: 광천동_금호동 - 금호동_금호동 <= 0\n",
       "\n",
       "_C12: - 광천동_광천동 + 덕흥동_광천동 <= 0\n",
       "\n",
       "_C13: 0 덕흥동_덕흥동 <= 0\n",
       "\n",
       "_C14: - 내방동_내방동 + 덕흥동_내방동 <= 0\n",
       "\n",
       "_C15: 덕흥동_서구양동 - 서구양동_서구양동 <= 0\n",
       "\n",
       "_C16: - 금호동_금호동 + 덕흥동_금호동 <= 0\n",
       "\n",
       "_C17: - 광천동_광천동 + 내방동_광천동 <= 0\n",
       "\n",
       "_C18: 내방동_덕흥동 - 덕흥동_덕흥동 <= 0\n",
       "\n",
       "_C19: 0 내방동_내방동 <= 0\n",
       "\n",
       "_C20: 내방동_서구양동 - 서구양동_서구양동 <= 0\n",
       "\n",
       "_C21: - 금호동_금호동 + 내방동_금호동 <= 0\n",
       "\n",
       "_C22: - 광천동_광천동 + 서구양동_광천동 <= 0\n",
       "\n",
       "_C23: - 덕흥동_덕흥동 + 서구양동_덕흥동 <= 0\n",
       "\n",
       "_C24: - 내방동_내방동 + 서구양동_내방동 <= 0\n",
       "\n",
       "_C25: 0 서구양동_서구양동 <= 0\n",
       "\n",
       "_C26: - 금호동_금호동 + 서구양동_금호동 <= 0\n",
       "\n",
       "_C27: - 광천동_광천동 + 금호동_광천동 <= 0\n",
       "\n",
       "_C28: 금호동_덕흥동 - 덕흥동_덕흥동 <= 0\n",
       "\n",
       "_C29: 금호동_내방동 - 내방동_내방동 <= 0\n",
       "\n",
       "_C30: 금호동_서구양동 - 서구양동_서구양동 <= 0\n",
       "\n",
       "_C31: 0 금호동_금호동 <= 0\n",
       "\n",
       "VARIABLES\n",
       "0 <= 광천동_광천동 <= 1 Integer\n",
       "0 <= 광천동_금호동 <= 1 Integer\n",
       "0 <= 광천동_내방동 <= 1 Integer\n",
       "0 <= 광천동_덕흥동 <= 1 Integer\n",
       "0 <= 광천동_서구양동 <= 1 Integer\n",
       "0 <= 금호동_광천동 <= 1 Integer\n",
       "0 <= 금호동_금호동 <= 1 Integer\n",
       "0 <= 금호동_내방동 <= 1 Integer\n",
       "0 <= 금호동_덕흥동 <= 1 Integer\n",
       "0 <= 금호동_서구양동 <= 1 Integer\n",
       "0 <= 내방동_광천동 <= 1 Integer\n",
       "0 <= 내방동_금호동 <= 1 Integer\n",
       "0 <= 내방동_내방동 <= 1 Integer\n",
       "0 <= 내방동_덕흥동 <= 1 Integer\n",
       "0 <= 내방동_서구양동 <= 1 Integer\n",
       "0 <= 덕흥동_광천동 <= 1 Integer\n",
       "0 <= 덕흥동_금호동 <= 1 Integer\n",
       "0 <= 덕흥동_내방동 <= 1 Integer\n",
       "0 <= 덕흥동_덕흥동 <= 1 Integer\n",
       "0 <= 덕흥동_서구양동 <= 1 Integer\n",
       "0 <= 서구양동_광천동 <= 1 Integer\n",
       "0 <= 서구양동_금호동 <= 1 Integer\n",
       "0 <= 서구양동_내방동 <= 1 Integer\n",
       "0 <= 서구양동_덕흥동 <= 1 Integer\n",
       "0 <= 서구양동_서구양동 <= 1 Integer"
      ]
     },
     "execution_count": 50,
     "metadata": {},
     "output_type": "execute_result"
    }
   ],
   "source": [
    "prob"
   ]
  },
  {
   "cell_type": "code",
   "execution_count": null,
   "metadata": {},
   "outputs": [],
   "source": []
  }
 ],
 "metadata": {
  "colab": {
   "collapsed_sections": [],
   "name": "p-median_알고리즘_전동휠체어_충전소_최적입지.ipynb",
   "provenance": []
  },
  "kernelspec": {
   "display_name": "Python 3 (ipykernel)",
   "language": "python",
   "name": "python3"
  },
  "language_info": {
   "codemirror_mode": {
    "name": "ipython",
    "version": 3
   },
   "file_extension": ".py",
   "mimetype": "text/x-python",
   "name": "python",
   "nbconvert_exporter": "python",
   "pygments_lexer": "ipython3",
   "version": "3.9.12"
  }
 },
 "nbformat": 4,
 "nbformat_minor": 4
}
