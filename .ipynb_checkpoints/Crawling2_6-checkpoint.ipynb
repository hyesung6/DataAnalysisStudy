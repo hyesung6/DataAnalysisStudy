{
 "cells": [
  {
   "cell_type": "markdown",
   "id": "4e76f8e8-e3d3-4534-9c02-c666207d7836",
   "metadata": {},
   "source": [
    "# selenium"
   ]
  },
  {
   "cell_type": "code",
   "execution_count": 3,
   "id": "ba795357-9c72-4d32-82e7-08a3fb7f0472",
   "metadata": {
    "collapsed": true,
    "jupyter": {
     "outputs_hidden": true
    },
    "tags": []
   },
   "outputs": [
    {
     "name": "stdout",
     "output_type": "stream",
     "text": [
      "Collecting selenium\n",
      "  Downloading selenium-4.3.0-py3-none-any.whl (981 kB)\n",
      "Collecting trio-websocket~=0.9\n",
      "  Downloading trio_websocket-0.9.2-py3-none-any.whl (16 kB)\n",
      "Requirement already satisfied: urllib3[secure,socks]~=1.26 in c:\\users\\user\\anaconda3\\lib\\site-packages (from selenium) (1.26.9)\n",
      "Collecting trio~=0.17\n",
      "  Downloading trio-0.21.0-py3-none-any.whl (358 kB)\n",
      "Requirement already satisfied: sortedcontainers in c:\\users\\user\\anaconda3\\lib\\site-packages (from trio~=0.17->selenium) (2.4.0)\n",
      "Requirement already satisfied: cffi>=1.14 in c:\\users\\user\\anaconda3\\lib\\site-packages (from trio~=0.17->selenium) (1.15.0)\n",
      "Requirement already satisfied: attrs>=19.2.0 in c:\\users\\user\\anaconda3\\lib\\site-packages (from trio~=0.17->selenium) (21.4.0)\n",
      "Collecting async-generator>=1.9\n",
      "  Downloading async_generator-1.10-py3-none-any.whl (18 kB)\n",
      "Requirement already satisfied: idna in c:\\users\\user\\anaconda3\\lib\\site-packages (from trio~=0.17->selenium) (2.10)\n",
      "Requirement already satisfied: sniffio in c:\\users\\user\\anaconda3\\lib\\site-packages (from trio~=0.17->selenium) (1.2.0)\n",
      "Collecting outcome\n",
      "  Downloading outcome-1.2.0-py2.py3-none-any.whl (9.7 kB)\n",
      "Requirement already satisfied: pycparser in c:\\users\\user\\anaconda3\\lib\\site-packages (from cffi>=1.14->trio~=0.17->selenium) (2.21)\n",
      "Collecting wsproto>=0.14\n",
      "  Downloading wsproto-1.1.0-py3-none-any.whl (24 kB)\n",
      "Requirement already satisfied: pyOpenSSL>=0.14 in c:\\users\\user\\anaconda3\\lib\\site-packages (from urllib3[secure,socks]~=1.26->selenium) (21.0.0)\n",
      "Requirement already satisfied: certifi in c:\\users\\user\\anaconda3\\lib\\site-packages (from urllib3[secure,socks]~=1.26->selenium) (2021.10.8)\n",
      "Requirement already satisfied: cryptography>=1.3.4 in c:\\users\\user\\anaconda3\\lib\\site-packages (from urllib3[secure,socks]~=1.26->selenium) (3.4.8)\n",
      "Requirement already satisfied: PySocks!=1.5.7,<2.0,>=1.5.6 in c:\\users\\user\\anaconda3\\lib\\site-packages (from urllib3[secure,socks]~=1.26->selenium) (1.7.1)\n",
      "Requirement already satisfied: six>=1.5.2 in c:\\users\\user\\anaconda3\\lib\\site-packages (from pyOpenSSL>=0.14->urllib3[secure,socks]~=1.26->selenium) (1.16.0)\n",
      "Requirement already satisfied: h11<1,>=0.9.0 in c:\\users\\user\\anaconda3\\lib\\site-packages (from wsproto>=0.14->trio-websocket~=0.9->selenium) (0.9.0)\n",
      "Installing collected packages: outcome, async-generator, wsproto, trio, trio-websocket, selenium\n",
      "Successfully installed async-generator-1.10 outcome-1.2.0 selenium-4.3.0 trio-0.21.0 trio-websocket-0.9.2 wsproto-1.1.0\n"
     ]
    }
   ],
   "source": [
    "!pip install selenium"
   ]
  },
  {
   "cell_type": "code",
   "execution_count": 4,
   "id": "28c96d26-5839-4a2c-bb4e-729a1a5fc893",
   "metadata": {},
   "outputs": [],
   "source": [
    "from selenium.webdriver import chrome\n",
    "import time\n",
    "import sqlite3\n",
    "from pandas.io import sql\n",
    "import os\n",
    "import pandas as pd"
   ]
  },
  {
   "cell_type": "code",
   "execution_count": 20,
   "id": "b16e2e0a-c5a8-480b-a672-6822542210e3",
   "metadata": {},
   "outputs": [],
   "source": [
    "from selenium import webdriver\n",
    "\n",
    "options = webdriver.ChromeOptions()\n",
    "options.add_argument(\"--start-maximized\");\n",
    "\n",
    "browser = webdriver.Chrome('chromedriver', options=options)"
   ]
  },
  {
   "cell_type": "code",
   "execution_count": 21,
   "id": "0263ee1e-66dd-402c-bc54-6b832fa2f0f8",
   "metadata": {},
   "outputs": [],
   "source": [
    "browser.get('http://www.data.go.kr/')\n",
    "browser.implicitly_wait(5)"
   ]
  },
  {
   "cell_type": "code",
   "execution_count": 22,
   "id": "58f60a4a-d823-45ca-b587-83e951c82cb0",
   "metadata": {},
   "outputs": [],
   "source": [
    "browser.find_element('xpath', '//*[@id=\"header\"]/div/div/div/div[2]/div/a[1]').click()\n",
    "browser.implicitly_wait(5)"
   ]
  },
  {
   "cell_type": "code",
   "execution_count": 23,
   "id": "0a1a7efe-8f4a-489a-95c7-d8b13f26d875",
   "metadata": {},
   "outputs": [],
   "source": [
    "browser.find_element('xpath', '//*[@id=\"mberId\"]').send_keys('hyesung6')"
   ]
  },
  {
   "cell_type": "code",
   "execution_count": 24,
   "id": "6a79f9ed-40a6-479f-abb4-aea21ce204f7",
   "metadata": {},
   "outputs": [],
   "source": [
    "browser.find_element('xpath', '//*[@id=\"pswrd\"]').send_keys('hyesung042@')"
   ]
  },
  {
   "cell_type": "code",
   "execution_count": 25,
   "id": "6926a6c6-5064-40dc-8d2c-9d82328a92d8",
   "metadata": {},
   "outputs": [],
   "source": [
    "browser.find_element('xpath', '//*[@id=\"loginVo\"]/div[2]/div[2]/div[2]/div/div[1]/button').click()\n",
    "browser.implicitly_wait(5)"
   ]
  },
  {
   "cell_type": "code",
   "execution_count": 26,
   "id": "a1fbcf98-1171-43a0-b5e4-36044ac77c42",
   "metadata": {},
   "outputs": [],
   "source": [
    "browser.find_element('xpath', '//*[@id=\"M000400_pc\"]/a').click()"
   ]
  },
  {
   "cell_type": "code",
   "execution_count": 27,
   "id": "5f2483c0-a0c7-46cd-a6d6-a92f5d6e7e03",
   "metadata": {},
   "outputs": [],
   "source": [
    "browser.find_element('xpath', '//*[@id=\"M000402_pc\"]/a').click()"
   ]
  },
  {
   "cell_type": "code",
   "execution_count": 28,
   "id": "37670420-e3a1-41ad-8ccd-0ca6ec20a54b",
   "metadata": {},
   "outputs": [],
   "source": [
    "def db_save(ARTICLE_LIST):\n",
    "    with sqlite3.connect(os.path.join('.','sqliteDB')) as con:\n",
    "        try:\n",
    "            ARTICLE_LIST.to_sql(name = 'ARTICLE_LIST', con = con, index = False, if_exists = 'append')\n",
    "        except Exception as e:\n",
    "            print(str(e))\n",
    "        print(len(ARTICLE_LIST), '건 저장 완료..')"
   ]
  },
  {
   "cell_type": "code",
   "execution_count": 29,
   "id": "04fefb63-ca8d-4518-a633-d9515304ad47",
   "metadata": {},
   "outputs": [
    {
     "name": "stdout",
     "output_type": "stream",
     "text": [
      "10 건 저장 완료..\n"
     ]
    }
   ],
   "source": [
    "trs = browser.find_elements('xpath', '//*[@id=\"searchVO\"]/div[5]/table/tbody/tr')\n",
    "df_list = []\n",
    "for tr in trs:\n",
    "    df = pd.DataFrame({\n",
    "            'NO': [tr.find_element('xpath','td[1]').text],\n",
    "            'TITLE': [tr.find_element('xpath','td[2]').text],\n",
    "            'IQRY': [tr.find_element('xpath','td[3]').text],\n",
    "            'REGDT': [tr.find_element('xpath','td[4]').text],\n",
    "            'CHGDT': [tr.find_element('xpath','td[5]').text],\n",
    "        })\n",
    "    df_list.append(df)\n",
    "\n",
    "ARTICLE_LIST = pd.concat(df_list)\n",
    "db_save(ARTICLE_LIST)"
   ]
  },
  {
   "cell_type": "code",
   "execution_count": 30,
   "id": "796b9c2f-2aee-4287-adbc-4143e451d558",
   "metadata": {},
   "outputs": [],
   "source": [
    "browser.find_element('xpath', '//*[@id=\"searchVO\"]/div[5]/table/tbody/tr[1]/td[2]/a').click()\n",
    "browser.implicitly_wait(3)"
   ]
  },
  {
   "cell_type": "code",
   "execution_count": 31,
   "id": "0f2a1d74-f85d-436c-ab3d-442859322bb5",
   "metadata": {},
   "outputs": [],
   "source": [
    "browser.find_element('xpath', '//*[@id=\"recsroomDetail\"]/div[2]/div[4]/div/a').click()\n",
    "time.sleep(10)"
   ]
  },
  {
   "cell_type": "code",
   "execution_count": 32,
   "id": "c22ba234-9b1f-429a-9224-637c9ed927db",
   "metadata": {},
   "outputs": [],
   "source": [
    "browser.quit()"
   ]
  },
  {
   "cell_type": "code",
   "execution_count": 35,
   "id": "ef67b08e-d2e4-4ecd-b114-b9e022a9197d",
   "metadata": {},
   "outputs": [
    {
     "data": {
      "text/plain": [
       "selenium.webdriver.remote.webelement.WebElement"
      ]
     },
     "execution_count": 35,
     "metadata": {},
     "output_type": "execute_result"
    }
   ],
   "source": [
    "type(browser.find_element('xpath', '//*[@id=\"header\"]/div/div/div/div[2]/div/a[1]'))"
   ]
  },
  {
   "cell_type": "code",
   "execution_count": 36,
   "id": "cfc36b99-ce0d-4e1e-90be-91febea50de9",
   "metadata": {},
   "outputs": [
    {
     "data": {
      "text/plain": [
       "list"
      ]
     },
     "execution_count": 36,
     "metadata": {},
     "output_type": "execute_result"
    }
   ],
   "source": [
    "type(browser.find_elements('xpath', '//*[@id=\"header\"]/div/div/div/div[2]/div/a[1]'))"
   ]
  },
  {
   "cell_type": "markdown",
   "id": "85353f34-c17c-47e0-8f69-a2c5339c8d21",
   "metadata": {},
   "source": [
    "# selenium_headless"
   ]
  },
  {
   "cell_type": "code",
   "execution_count": 6,
   "id": "fc7961f3-d543-4da1-a932-9d3d2d37fe71",
   "metadata": {},
   "outputs": [],
   "source": [
    "from selenium.webdriver import Chrome\n",
    "import time\n",
    "import sqlite3\n",
    "from pandas.io import sql\n",
    "import os\n",
    "import pandas as pd"
   ]
  },
  {
   "cell_type": "code",
   "execution_count": 33,
   "id": "c49323b8-fdac-485f-bef7-34a60b73b2da",
   "metadata": {},
   "outputs": [],
   "source": [
    "from selenium import webdriver\n",
    "\n",
    "options = webdriver.ChromeOptions()\n",
    "options.add_argument('--headless')\n",
    "options.add_argument('--disable-gpu')\n",
    "options.add_argument('--window-size=1280x1024')\n",
    "# options.add_argument(\"--start-maximized\");\n",
    "\n",
    "browser = webdriver.Chrome('chromedriver', options=options)"
   ]
  },
  {
   "cell_type": "code",
   "execution_count": 34,
   "id": "995156d6-6c19-4331-ba85-25d442b39e62",
   "metadata": {},
   "outputs": [],
   "source": [
    "browser.get('http://www.data.go.kr/')\n",
    "browser.implicitly_wait(5)"
   ]
  },
  {
   "cell_type": "code",
   "execution_count": 35,
   "id": "56450e53-4dbd-4ba1-906a-3a2ce2088772",
   "metadata": {},
   "outputs": [],
   "source": [
    "browser.find_element('xpath', '//*[@id=\"header\"]/div/div/div/div[2]/div/a[1]').click()\n",
    "browser.implicitly_wait(5)"
   ]
  },
  {
   "cell_type": "code",
   "execution_count": 36,
   "id": "b5b43d98-20e6-4c3b-9529-960737845363",
   "metadata": {},
   "outputs": [],
   "source": [
    "browser.find_element('xpath', '//*[@id=\"mberId\"]').send_keys('hyesung6')"
   ]
  },
  {
   "cell_type": "code",
   "execution_count": 37,
   "id": "e9269974-60a8-4131-ac27-7616be097962",
   "metadata": {},
   "outputs": [],
   "source": [
    "browser.find_element('xpath', '//*[@id=\"pswrd\"]').send_keys('hyesung042@')"
   ]
  },
  {
   "cell_type": "code",
   "execution_count": 38,
   "id": "18bf4477-4272-4efd-b0e1-bbed9d9856e1",
   "metadata": {},
   "outputs": [],
   "source": [
    "browser.find_element('xpath', '//*[@id=\"loginVo\"]/div[2]/div[2]/div[2]/div/div[1]/button').click()\n",
    "browser.implicitly_wait(5)"
   ]
  },
  {
   "cell_type": "code",
   "execution_count": 39,
   "id": "32aea2b2-3d96-4ec1-84d9-7c0cf8e5be3a",
   "metadata": {},
   "outputs": [],
   "source": [
    "browser.find_element('xpath', '//*[@id=\"M000400_pc\"]/a').click()"
   ]
  },
  {
   "cell_type": "code",
   "execution_count": 40,
   "id": "2ff334a5-0287-4682-8236-c2356dccd690",
   "metadata": {},
   "outputs": [],
   "source": [
    "browser.find_element('xpath', '//*[@id=\"M000402_pc\"]/a').click()"
   ]
  },
  {
   "cell_type": "code",
   "execution_count": 41,
   "id": "51e8e020-f7c0-4169-bc9e-a92adaf5ce3f",
   "metadata": {},
   "outputs": [],
   "source": [
    "def db_save(ARTICLE_LIST):\n",
    "    with sqlite3.connect(os.path.join('.','sqliteDB')) as con:\n",
    "        try:\n",
    "            ARTICLE_LIST.to_sql(name = 'ARTICLE_LIST', con = con, index = False, if_exists = 'append')\n",
    "        except Exception as e:\n",
    "            print(str(e))\n",
    "        print(len(ARTICLE_LIST), '건 저장 완료..')"
   ]
  },
  {
   "cell_type": "code",
   "execution_count": 42,
   "id": "4c9d2488-04ca-4a95-a812-c1f61a3ecf33",
   "metadata": {},
   "outputs": [
    {
     "name": "stdout",
     "output_type": "stream",
     "text": [
      "10 건 저장 완료..\n"
     ]
    }
   ],
   "source": [
    "trs = browser.find_elements('xpath', '//*[@id=\"searchVO\"]/div[5]/table/tbody/tr')\n",
    "df_list = []\n",
    "for tr in trs:\n",
    "    df = pd.DataFrame({\n",
    "            'NO': [tr.find_element('xpath','td[1]').text],\n",
    "            'TITLE': [tr.find_element('xpath','td[2]').text],\n",
    "            'IQRY': [tr.find_element('xpath','td[3]').text],\n",
    "            'REGDT': [tr.find_element('xpath','td[4]').text],\n",
    "            'CHGDT': [tr.find_element('xpath','td[5]').text],\n",
    "        })\n",
    "    df_list.append(df)\n",
    "\n",
    "ARTICLE_LIST = pd.concat(df_list)\n",
    "db_save(ARTICLE_LIST)"
   ]
  },
  {
   "cell_type": "code",
   "execution_count": 43,
   "id": "227c613f-e2f9-4881-9e44-70b067be40d6",
   "metadata": {},
   "outputs": [],
   "source": [
    "browser.find_element('xpath', '//*[@id=\"searchVO\"]/div[5]/table/tbody/tr[1]/td[2]/a').click()\n",
    "browser.implicitly_wait(3)"
   ]
  },
  {
   "cell_type": "code",
   "execution_count": 44,
   "id": "85af8af1-f8b4-4e02-92b7-148d20ade6b3",
   "metadata": {},
   "outputs": [],
   "source": [
    "browser.find_element('xpath', '//*[@id=\"recsroomDetail\"]/div[2]/div[4]/div/a').click()\n",
    "time.sleep(10)"
   ]
  },
  {
   "cell_type": "code",
   "execution_count": 41,
   "id": "a25328a1-32d7-46fc-be53-bdb1773fe653",
   "metadata": {},
   "outputs": [],
   "source": [
    "# 상세보기 화면에서 데이터 크롤링 로직 추가"
   ]
  },
  {
   "cell_type": "code",
   "execution_count": 19,
   "id": "097e6ca4-61df-4652-b9ed-bbf349c185f1",
   "metadata": {},
   "outputs": [],
   "source": [
    "browser.quit()"
   ]
  },
  {
   "cell_type": "code",
   "execution_count": null,
   "id": "fdf64e87-ceac-470e-8c0d-2a6948f69448",
   "metadata": {},
   "outputs": [],
   "source": []
  }
 ],
 "metadata": {
  "kernelspec": {
   "display_name": "Python 3 (ipykernel)",
   "language": "python",
   "name": "python3"
  },
  "language_info": {
   "codemirror_mode": {
    "name": "ipython",
    "version": 3
   },
   "file_extension": ".py",
   "mimetype": "text/x-python",
   "name": "python",
   "nbconvert_exporter": "python",
   "pygments_lexer": "ipython3",
   "version": "3.9.12"
  }
 },
 "nbformat": 4,
 "nbformat_minor": 5
}
