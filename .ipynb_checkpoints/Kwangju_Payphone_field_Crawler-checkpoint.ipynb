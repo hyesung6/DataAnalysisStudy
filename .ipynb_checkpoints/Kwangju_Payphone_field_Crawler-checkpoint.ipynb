{
 "cells": [
  {
   "cell_type": "code",
   "execution_count": 1,
   "id": "438fb016-c90e-4f66-8675-491e449579bb",
   "metadata": {},
   "outputs": [],
   "source": [
    "from selenium.webdriver import chrome\n",
    "from selenium import webdriver\n",
    "import time\n",
    "import os"
   ]
  },
  {
   "cell_type": "code",
   "execution_count": 2,
   "id": "49074a5e-478b-4132-b9ae-3e335fe1329f",
   "metadata": {},
   "outputs": [],
   "source": [
    "options = webdriver.ChromeOptions()\n",
    "options.add_argument(\"--start-maximized\");    # 브라우저 열 때 최대화\n",
    "browser = webdriver.Chrome('chromedriver', options=options)"
   ]
  },
  {
   "cell_type": "code",
   "execution_count": 3,
   "id": "ce6108a2-dfe1-4341-834d-051e8119f0e4",
   "metadata": {},
   "outputs": [],
   "source": [
    "url = 'https://map.naver.com/v5/search/%EA%B4%91%EC%A3%BC%20%EA%B3%B5%EC%A4%91%EC%A0%84%ED%99%94%20%EC%98%A5%EC%99%B8'\n",
    "browser.get(url)  \n",
    "## 검색어가 입력된 상태의 네이버맵 url   \n",
    "# 위 주소는 '광주광역시%공중전화%옥외' 로 검색한 url \n",
    "time.sleep(3)   # 위 페이지 로딩이 살짝 걸리므로 대기시간 설정"
   ]
  },
  {
   "cell_type": "code",
   "execution_count": 4,
   "id": "5d49f2fc-d17e-4fb4-9504-ccbc9d01661c",
   "metadata": {},
   "outputs": [],
   "source": [
    "browser.switch_to.frame(\"searchIframe\")      # 네이버 맵 html 코드 안에 iframe으로 내부 html이 존재, 해당 소스에서 찾기 위해서 바꾸어줌"
   ]
  },
  {
   "cell_type": "code",
   "execution_count": 5,
   "id": "3698bce2-4cca-4af5-acf2-d34efa3f012e",
   "metadata": {},
   "outputs": [],
   "source": [
    "addr_list = []"
   ]
  },
  {
   "cell_type": "code",
   "execution_count": 9,
   "id": "fa70ce41-6afc-4e0f-9beb-64e627691912",
   "metadata": {},
   "outputs": [],
   "source": [
    "try:\n",
    "    for n in range(1, 100):\n",
    "        browser.find_element('xpath', '//*[@id=\"_pcmap_list_scroll_container\"]/ul/li[{}]/div[1]/div/div/span/a'.format(n)).click()             \n",
    "        try:\n",
    "            addr = browser.find_element('xpath', '//*[@id=\"_pcmap_list_scroll_container\"]/ul/li[{}]/div[1]/div/div/div/div[1]'.format(n)).text    # 도로명주소를 우선으로 가져옴\n",
    "        except:\n",
    "            addr = browser.find_element('xpath', '//*[@id=\"_pcmap_list_scroll_container\"]/ul/li[{}]/div[1]/div/div/div/div'.format(n)).text      # 도로명주소가 없는 경우, 지번을 가져옴\n",
    "            \n",
    "        result = re.sub(\"도로명|지번|복사:.*$|복사|우편번호|우\\n:.*$|우\\n\", '', addr)\n",
    "        addr_list.append(result)\n",
    "        time.sleep(0.3)\n",
    "except:\n",
    "    browser.find_element('xpath', '//*[@id=\"app-root\"]/div/div/div[2]/a[7]').click()"
   ]
  },
  {
   "cell_type": "code",
   "execution_count": 7,
   "id": "04fd7f60-f5bc-476f-b7c0-227197e29bdb",
   "metadata": {},
   "outputs": [
    {
     "data": {
      "text/plain": [
       "[]"
      ]
     },
     "execution_count": 7,
     "metadata": {},
     "output_type": "execute_result"
    }
   ],
   "source": [
    "addr_list"
   ]
  },
  {
   "cell_type": "code",
   "execution_count": null,
   "id": "c288d6a6-6957-42fe-bec2-231e0503c72f",
   "metadata": {},
   "outputs": [],
   "source": []
  }
 ],
 "metadata": {
  "kernelspec": {
   "display_name": "Python 3 (ipykernel)",
   "language": "python",
   "name": "python3"
  },
  "language_info": {
   "codemirror_mode": {
    "name": "ipython",
    "version": 3
   },
   "file_extension": ".py",
   "mimetype": "text/x-python",
   "name": "python",
   "nbconvert_exporter": "python",
   "pygments_lexer": "ipython3",
   "version": "3.9.12"
  }
 },
 "nbformat": 4,
 "nbformat_minor": 5
}
