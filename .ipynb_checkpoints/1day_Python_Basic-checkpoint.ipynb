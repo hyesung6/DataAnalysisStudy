{
 "cells": [
  {
   "cell_type": "markdown",
   "id": "92b858f7-e298-480d-9411-f83a54f0dc03",
   "metadata": {},
   "source": [
    "# Python Basic"
   ]
  },
  {
   "cell_type": "markdown",
   "id": "e86d81c7-0d48-4ce8-b5a4-19fbaefa19cb",
   "metadata": {
    "jp-MarkdownHeadingCollapsed": true,
    "tags": []
   },
   "source": [
    "## 컨테이너 타입 정리"
   ]
  },
  {
   "cell_type": "markdown",
   "id": "8d54833b-c0fd-432b-b746-356622427efe",
   "metadata": {},
   "source": [
    "List : 순서 o 변경 가능 , 추가/삭제 가능\n",
    "\n",
    "Tuple : 순서 o 변경 불가능, 추가/삭제 불가능\n",
    "\n",
    "Set : 순서 x 변경 가능, 추가/삭제 불가능\n",
    "\n",
    "Dictionary : key/value , 변경가능, 추가/삭제 가능"
   ]
  },
  {
   "cell_type": "markdown",
   "id": "c7297e21-5f35-46a2-b2ac-0c3c3db03fd5",
   "metadata": {
    "jp-MarkdownHeadingCollapsed": true,
    "tags": []
   },
   "source": [
    "## 함수 작성 해보기"
   ]
  },
  {
   "cell_type": "code",
   "execution_count": 15,
   "id": "9be39375-fc8c-4691-b5d5-29e56265b038",
   "metadata": {},
   "outputs": [
    {
     "name": "stdout",
     "output_type": "stream",
     "text": [
      "4\n"
     ]
    }
   ],
   "source": [
    "mountRabbit = \"\"\"산토끼 토끼야. 어디를 가느냐. 깡충깡충 뛰면서. 어디를 가느냐.\n",
    "산고개 고개를. 나혼자 넘어서. 토실토실 알밤을. 주워 올 테야.\"\"\"\n",
    "\n",
    "def get_char_count(lyric, char):\n",
    "    count = 0\n",
    "    for i in lyric:\n",
    "        if i == char:\n",
    "            count += 1\n",
    "    return count\n",
    "    \n",
    "print(get_char_count(mountRabbit, '토'))"
   ]
  },
  {
   "cell_type": "markdown",
   "id": "f1c19f36-506c-456e-8726-86360ba846af",
   "metadata": {
    "tags": []
   },
   "source": [
    "## Numpy"
   ]
  },
  {
   "cell_type": "markdown",
   "id": "d87e32c2-f17e-4be4-bfe2-65db31342ccf",
   "metadata": {
    "jp-MarkdownHeadingCollapsed": true,
    "tags": []
   },
   "source": [
    "Numerical Python\n",
    "\n",
    "수치 연산을 위한 라이브러리\n",
    "\n",
    "가장 큰 장점? 메모리 효율로 인해 빠른 속도"
   ]
  },
  {
   "cell_type": "markdown",
   "id": "beab4fcd-16ee-4c4e-bfc9-c2cb0f938d7d",
   "metadata": {
    "tags": []
   },
   "source": [
    "### 배열"
   ]
  },
  {
   "cell_type": "markdown",
   "id": "00914d88-d4f6-4682-a378-2d9aa3937628",
   "metadata": {},
   "source": [
    "list : [apple, 3.14, 123] \n",
    "\n",
    "array ( 1d-array ) : ([20, 30, 40])\n",
    "\n",
    "배열은 같은 자료형만 가능\n",
    "\n",
    "배열은 차원을 갖는다.\n",
    "\n",
    "배열은 빠르게 연산을 처리한다. ( 반복문을 사용하지 않는다. )"
   ]
  },
  {
   "cell_type": "markdown",
   "id": "357465f7-2178-45a3-8926-d20426626247",
   "metadata": {
    "tags": []
   },
   "source": [
    "### Numpy 메서드 알아보기"
   ]
  },
  {
   "cell_type": "code",
   "execution_count": 20,
   "id": "c7d5532b-e7a0-434b-9929-f6dd2927ba81",
   "metadata": {},
   "outputs": [
    {
     "data": {
      "text/plain": [
       "array([1, 2, 3])"
      ]
     },
     "execution_count": 20,
     "metadata": {},
     "output_type": "execute_result"
    }
   ],
   "source": [
    "import numpy as np\n",
    "\n",
    "list1 = [1, 2, 3]\n",
    "arr1 = np.array(list1)\n",
    "arr1"
   ]
  },
  {
   "cell_type": "code",
   "execution_count": 23,
   "id": "11512c8f-65f6-425b-9739-85f2f6720aba",
   "metadata": {},
   "outputs": [
    {
     "data": {
      "text/plain": [
       "array([[0., 0., 0.],\n",
       "       [0., 0., 0.]])"
      ]
     },
     "execution_count": 23,
     "metadata": {},
     "output_type": "execute_result"
    }
   ],
   "source": [
    "np.zeros(5)\n",
    "np.zeros((2, 3))"
   ]
  },
  {
   "cell_type": "code",
   "execution_count": 24,
   "id": "606fef37-61a5-4f30-9794-cd882ee34c9f",
   "metadata": {},
   "outputs": [
    {
     "data": {
      "text/plain": [
       "array([1., 1., 1., 1., 1., 1., 1.])"
      ]
     },
     "execution_count": 24,
     "metadata": {},
     "output_type": "execute_result"
    }
   ],
   "source": [
    "np.ones(7)"
   ]
  },
  {
   "cell_type": "code",
   "execution_count": 25,
   "id": "11fbf6f7-21d7-4255-a080-be031fda0d01",
   "metadata": {},
   "outputs": [
    {
     "data": {
      "text/plain": [
       "array([0., 0., 0., 0., 0.])"
      ]
     },
     "execution_count": 25,
     "metadata": {},
     "output_type": "execute_result"
    }
   ],
   "source": [
    "np.empty(5)"
   ]
  },
  {
   "cell_type": "code",
   "execution_count": 27,
   "id": "e3db3562-267e-4335-867f-637d0d4b8315",
   "metadata": {},
   "outputs": [
    {
     "data": {
      "text/plain": [
       "array([ 0,  1,  2,  3,  4,  5,  6,  7,  8,  9, 10, 11, 12, 13, 14, 15])"
      ]
     },
     "execution_count": 27,
     "metadata": {},
     "output_type": "execute_result"
    }
   ],
   "source": [
    "arr2 = np.arange(16)\n",
    "arr2"
   ]
  },
  {
   "cell_type": "code",
   "execution_count": 28,
   "id": "55958498-2591-43da-b266-d982b659d2b3",
   "metadata": {},
   "outputs": [
    {
     "data": {
      "text/plain": [
       "array([[[ 0,  1,  2,  3],\n",
       "        [ 4,  5,  6,  7]],\n",
       "\n",
       "       [[ 8,  9, 10, 11],\n",
       "        [12, 13, 14, 15]]])"
      ]
     },
     "execution_count": 28,
     "metadata": {},
     "output_type": "execute_result"
    }
   ],
   "source": [
    "arr2.reshape(2,2,4)"
   ]
  },
  {
   "cell_type": "code",
   "execution_count": 29,
   "id": "f7e38517-5db9-4009-922c-6c307ced02a4",
   "metadata": {},
   "outputs": [
    {
     "name": "stdout",
     "output_type": "stream",
     "text": [
      "(16,)\n",
      "int32\n",
      "[ 0.  1.  2.  3.  4.  5.  6.  7.  8.  9. 10. 11. 12. 13. 14. 15.]\n"
     ]
    }
   ],
   "source": [
    "arr = np.arange(16)\n",
    "print(arr.shape)\n",
    "print(arr.dtype)\n",
    "print(arr.astype(float))"
   ]
  },
  {
   "cell_type": "markdown",
   "id": "c01910ea-8692-4f5b-bdc5-f69b34309620",
   "metadata": {
    "tags": []
   },
   "source": [
    "### 인덱스 사용"
   ]
  },
  {
   "cell_type": "code",
   "execution_count": 30,
   "id": "77e2371a-0c44-4385-a74f-4227d952dcff",
   "metadata": {},
   "outputs": [
    {
     "data": {
      "text/plain": [
       "5"
      ]
     },
     "execution_count": 30,
     "metadata": {},
     "output_type": "execute_result"
    }
   ],
   "source": [
    "# 기본 인덱스\n",
    "arr[5]"
   ]
  },
  {
   "cell_type": "code",
   "execution_count": 31,
   "id": "1132bb31-1246-479a-8109-302a98cd9f41",
   "metadata": {},
   "outputs": [
    {
     "data": {
      "text/plain": [
       "15"
      ]
     },
     "execution_count": 31,
     "metadata": {},
     "output_type": "execute_result"
    }
   ],
   "source": [
    "# 마이너스 인덱스\n",
    "arr[-1]"
   ]
  },
  {
   "cell_type": "code",
   "execution_count": 32,
   "id": "73a5a019-146b-4dba-8f6b-a0c49c0880e5",
   "metadata": {},
   "outputs": [
    {
     "data": {
      "text/plain": [
       "array([5, 6, 7])"
      ]
     },
     "execution_count": 32,
     "metadata": {},
     "output_type": "execute_result"
    }
   ],
   "source": [
    "# 슬라이싱\n",
    "arr[5:8]"
   ]
  },
  {
   "cell_type": "code",
   "execution_count": 66,
   "id": "7d5c5f04-6854-40f6-914e-5109b318306d",
   "metadata": {},
   "outputs": [
    {
     "data": {
      "text/plain": [
       "array([[ 0,  1,  2,  3],\n",
       "       [ 4,  5,  6,  7],\n",
       "       [ 8,  9, 10, 11],\n",
       "       [12, 13, 14, 15]])"
      ]
     },
     "execution_count": 66,
     "metadata": {},
     "output_type": "execute_result"
    }
   ],
   "source": [
    "# 다차원 배열\n",
    "arr2 = np.arange(16).reshape(4, 4)\n",
    "arr2"
   ]
  },
  {
   "cell_type": "code",
   "execution_count": 34,
   "id": "f91e6673-8efe-4b76-a4ff-71de66f23bbf",
   "metadata": {},
   "outputs": [
    {
     "data": {
      "text/plain": [
       "array([4, 5, 6, 7])"
      ]
     },
     "execution_count": 34,
     "metadata": {},
     "output_type": "execute_result"
    }
   ],
   "source": [
    "arr2[1]"
   ]
  },
  {
   "cell_type": "code",
   "execution_count": 35,
   "id": "d0b85e95-5a17-46ca-8310-d4f59bc5743e",
   "metadata": {},
   "outputs": [
    {
     "data": {
      "text/plain": [
       "5"
      ]
     },
     "execution_count": 35,
     "metadata": {},
     "output_type": "execute_result"
    }
   ],
   "source": [
    "arr2[1][1]"
   ]
  },
  {
   "cell_type": "code",
   "execution_count": 36,
   "id": "9b8f178d-9a14-469a-9af0-bc5cb3620e23",
   "metadata": {},
   "outputs": [
    {
     "data": {
      "text/plain": [
       "6"
      ]
     },
     "execution_count": 36,
     "metadata": {},
     "output_type": "execute_result"
    }
   ],
   "source": [
    "arr2[1, 2]"
   ]
  },
  {
   "cell_type": "code",
   "execution_count": 67,
   "id": "7e712f86-f7de-42e3-85df-b99707357075",
   "metadata": {},
   "outputs": [
    {
     "data": {
      "text/plain": [
       "array([[2, 3],\n",
       "       [6, 7]])"
      ]
     },
     "execution_count": 67,
     "metadata": {},
     "output_type": "execute_result"
    }
   ],
   "source": [
    "arr2[0:2, 2:4]"
   ]
  },
  {
   "cell_type": "code",
   "execution_count": 68,
   "id": "194d5e65-04da-46ac-9dad-c5fa9b7c4d1c",
   "metadata": {},
   "outputs": [
    {
     "data": {
      "text/plain": [
       "array([[2, 3],\n",
       "       [6, 7]])"
      ]
     },
     "execution_count": 68,
     "metadata": {},
     "output_type": "execute_result"
    }
   ],
   "source": [
    "arr2[:2, 2:]"
   ]
  },
  {
   "cell_type": "code",
   "execution_count": 39,
   "id": "5f9ff942-b498-4a29-920c-419cd6b0fe21",
   "metadata": {},
   "outputs": [
    {
     "data": {
      "text/plain": [
       "array([80, 90, 70, 65, 85, 95, 90, 80, 75, 80])"
      ]
     },
     "execution_count": 39,
     "metadata": {},
     "output_type": "execute_result"
    }
   ],
   "source": [
    "# 불리언 인덱스를 사용한 선택\n",
    "\n",
    "scores = [80, 90, 70, 65, 85, 95, 90, 80, 75, 80]\n",
    "score_arr = np.array(scores)\n",
    "score_arr"
   ]
  },
  {
   "cell_type": "code",
   "execution_count": 40,
   "id": "8994e800-1061-4123-bad4-b9920bf6b329",
   "metadata": {},
   "outputs": [
    {
     "data": {
      "text/plain": [
       "array([False,  True, False, False, False,  True,  True, False, False,\n",
       "       False])"
      ]
     },
     "execution_count": 40,
     "metadata": {},
     "output_type": "execute_result"
    }
   ],
   "source": [
    "score_arr >= 90"
   ]
  },
  {
   "cell_type": "code",
   "execution_count": 41,
   "id": "5446e322-3f28-4beb-b3bc-a30cebf7bd31",
   "metadata": {},
   "outputs": [
    {
     "data": {
      "text/plain": [
       "array([90, 95, 90])"
      ]
     },
     "execution_count": 41,
     "metadata": {},
     "output_type": "execute_result"
    }
   ],
   "source": [
    "score_arr[score_arr >= 90]"
   ]
  },
  {
   "cell_type": "code",
   "execution_count": 42,
   "id": "efe620ec-ed56-47e3-9e17-e403a8b15742",
   "metadata": {},
   "outputs": [
    {
     "data": {
      "text/plain": [
       "array([ 80, 999,  70,  65,  85, 999, 999,  80,  75,  80])"
      ]
     },
     "execution_count": 42,
     "metadata": {},
     "output_type": "execute_result"
    }
   ],
   "source": [
    "score_arr[score_arr >= 90] = 999\n",
    "score_arr"
   ]
  },
  {
   "cell_type": "markdown",
   "id": "a945f8fc-410c-4071-b4e3-233458ac381c",
   "metadata": {
    "tags": []
   },
   "source": [
    "### 주요 연산"
   ]
  },
  {
   "cell_type": "code",
   "execution_count": 71,
   "id": "2b7cccdb-fa6b-4cae-ab94-4d794770034f",
   "metadata": {},
   "outputs": [
    {
     "data": {
      "text/plain": [
       "array([1, 2, 3, 4])"
      ]
     },
     "execution_count": 71,
     "metadata": {},
     "output_type": "execute_result"
    }
   ],
   "source": [
    "arr = np.arange(1, 5)\n",
    "arr"
   ]
  },
  {
   "cell_type": "code",
   "execution_count": 72,
   "id": "5d6e1c16-5190-4047-8525-c761c59b7f51",
   "metadata": {},
   "outputs": [
    {
     "data": {
      "text/plain": [
       "array([3, 4, 5, 6])"
      ]
     },
     "execution_count": 72,
     "metadata": {},
     "output_type": "execute_result"
    }
   ],
   "source": [
    "arr + 2"
   ]
  },
  {
   "cell_type": "code",
   "execution_count": 73,
   "id": "ba0b67fd-a666-4bc3-8454-ae7992373809",
   "metadata": {},
   "outputs": [
    {
     "data": {
      "text/plain": [
       "array([3, 4, 5, 6])"
      ]
     },
     "execution_count": 73,
     "metadata": {},
     "output_type": "execute_result"
    }
   ],
   "source": [
    "arr + 2"
   ]
  },
  {
   "cell_type": "code",
   "execution_count": 78,
   "id": "e74a99b6-27b6-48f0-9341-3ac64af3064d",
   "metadata": {},
   "outputs": [
    {
     "data": {
      "text/plain": [
       "[1, 2, 3, 4]"
      ]
     },
     "execution_count": 78,
     "metadata": {},
     "output_type": "execute_result"
    }
   ],
   "source": [
    "list = [1, 2, 3, 4]\n",
    "list"
   ]
  },
  {
   "cell_type": "code",
   "execution_count": 79,
   "id": "4d08cef7-3cfe-4b84-a7ac-6e84c533c2de",
   "metadata": {},
   "outputs": [
    {
     "data": {
      "text/plain": [
       "[1, 2, 3, 4]"
      ]
     },
     "execution_count": 79,
     "metadata": {},
     "output_type": "execute_result"
    }
   ],
   "source": [
    "list * 2\n",
    "list"
   ]
  },
  {
   "cell_type": "code",
   "execution_count": 80,
   "id": "f9d6eeee-5625-4285-bcd5-b0c64959355c",
   "metadata": {},
   "outputs": [
    {
     "data": {
      "text/plain": [
       "array([5, 6, 7, 8])"
      ]
     },
     "execution_count": 80,
     "metadata": {},
     "output_type": "execute_result"
    }
   ],
   "source": [
    "arr1 = np.arange(5, 9)\n",
    "arr1"
   ]
  },
  {
   "cell_type": "code",
   "execution_count": 81,
   "id": "a2265015-00e2-4c2b-817e-58ea6f59d74d",
   "metadata": {},
   "outputs": [
    {
     "data": {
      "text/plain": [
       "array([ 6,  8, 10, 12])"
      ]
     },
     "execution_count": 81,
     "metadata": {},
     "output_type": "execute_result"
    }
   ],
   "source": [
    "arr + arr1"
   ]
  },
  {
   "cell_type": "code",
   "execution_count": 82,
   "id": "8e72e518-2411-4cd9-a85a-a81406dc75da",
   "metadata": {},
   "outputs": [
    {
     "data": {
      "text/plain": [
       "[1, 2, 3, 4, 5, 6, 7, 8]"
      ]
     },
     "execution_count": 82,
     "metadata": {},
     "output_type": "execute_result"
    }
   ],
   "source": [
    "list1 = [5, 6, 7, 8]\n",
    "list + list1"
   ]
  },
  {
   "cell_type": "markdown",
   "id": "2ee9b59a-e7ae-411b-8dfa-3aaa2509950f",
   "metadata": {},
   "source": [
    "#### 주요 산술 연산 함수"
   ]
  },
  {
   "cell_type": "code",
   "execution_count": 84,
   "id": "73b390a3-1766-46cb-9801-0126cb037aff",
   "metadata": {},
   "outputs": [
    {
     "data": {
      "text/plain": [
       "array([ 1,  4,  9, 16], dtype=int32)"
      ]
     },
     "execution_count": 84,
     "metadata": {},
     "output_type": "execute_result"
    }
   ],
   "source": [
    "# 제곱\n",
    "np.square(arr)"
   ]
  },
  {
   "cell_type": "code",
   "execution_count": 85,
   "id": "03aa2b9d-7637-4f57-9cae-021fdfac5ef0",
   "metadata": {},
   "outputs": [
    {
     "data": {
      "text/plain": [
       "array([1.        , 1.41421356, 1.73205081, 2.        ])"
      ]
     },
     "execution_count": 85,
     "metadata": {},
     "output_type": "execute_result"
    }
   ],
   "source": [
    "# 제곱근 ( 루트 )\n",
    "np.sqrt(arr)"
   ]
  },
  {
   "cell_type": "code",
   "execution_count": 86,
   "id": "5ed6cbb6-09e7-4d79-8f91-5a3a9e4fb7a5",
   "metadata": {},
   "outputs": [
    {
     "data": {
      "text/plain": [
       "array([ 2.71828183,  7.3890561 , 20.08553692, 54.59815003])"
      ]
     },
     "execution_count": 86,
     "metadata": {},
     "output_type": "execute_result"
    }
   ],
   "source": [
    "# exp ( 지수승 )\n",
    "np.exp(arr)"
   ]
  },
  {
   "cell_type": "code",
   "execution_count": 88,
   "id": "06ed55d2-6707-4e31-87eb-161c96098521",
   "metadata": {},
   "outputs": [
    {
     "data": {
      "text/plain": [
       "array([0.        , 0.69314718, 1.09861229, 1.38629436])"
      ]
     },
     "execution_count": 88,
     "metadata": {},
     "output_type": "execute_result"
    }
   ],
   "source": [
    "# log\n",
    "np.log(arr)"
   ]
  },
  {
   "cell_type": "code",
   "execution_count": 89,
   "id": "d4321b0c-67c4-4f9c-94a0-209fe7eac632",
   "metadata": {},
   "outputs": [
    {
     "data": {
      "text/plain": [
       "array([ 6,  8, 10, 12])"
      ]
     },
     "execution_count": 89,
     "metadata": {},
     "output_type": "execute_result"
    }
   ],
   "source": [
    "# 더하기\n",
    "np.add(arr, arr1) # arr + arr1과 동일"
   ]
  },
  {
   "cell_type": "code",
   "execution_count": 90,
   "id": "37a7561d-0582-4628-be97-b065fa56e87f",
   "metadata": {},
   "outputs": [
    {
     "data": {
      "text/plain": [
       "10"
      ]
     },
     "execution_count": 90,
     "metadata": {},
     "output_type": "execute_result"
    }
   ],
   "source": [
    "# 합계\n",
    "np.sum(arr)"
   ]
  },
  {
   "cell_type": "code",
   "execution_count": 91,
   "id": "84312edf-f20a-483e-82cd-624437be26bc",
   "metadata": {},
   "outputs": [
    {
     "data": {
      "text/plain": [
       "array([ 1,  3,  6, 10], dtype=int32)"
      ]
     },
     "execution_count": 91,
     "metadata": {},
     "output_type": "execute_result"
    }
   ],
   "source": [
    "# 누적합\n",
    "np.cumsum(arr)"
   ]
  },
  {
   "cell_type": "markdown",
   "id": "de0a45a1-2313-4d1c-89a8-04830243997f",
   "metadata": {},
   "source": [
    "#### 통계 수치 함수"
   ]
  },
  {
   "cell_type": "code",
   "execution_count": 92,
   "id": "c98dec63-2c1d-4dc0-827a-28d02620c70f",
   "metadata": {},
   "outputs": [
    {
     "data": {
      "text/plain": [
       "2.5"
      ]
     },
     "execution_count": 92,
     "metadata": {},
     "output_type": "execute_result"
    }
   ],
   "source": [
    "# 평균\n",
    "np.mean(arr)"
   ]
  },
  {
   "cell_type": "code",
   "execution_count": 93,
   "id": "8f0b13b8-871b-4292-b279-bb978797beac",
   "metadata": {},
   "outputs": [
    {
     "data": {
      "text/plain": [
       "1.25"
      ]
     },
     "execution_count": 93,
     "metadata": {},
     "output_type": "execute_result"
    }
   ],
   "source": [
    "# 편차\n",
    "np.var(arr)"
   ]
  },
  {
   "cell_type": "code",
   "execution_count": 94,
   "id": "7c58209b-202b-45b9-af89-77d5884cee19",
   "metadata": {},
   "outputs": [
    {
     "data": {
      "text/plain": [
       "1.118033988749895"
      ]
     },
     "execution_count": 94,
     "metadata": {},
     "output_type": "execute_result"
    }
   ],
   "source": [
    "# 표준편차\n",
    "np.std(arr)"
   ]
  },
  {
   "cell_type": "code",
   "execution_count": 95,
   "id": "bcbb1f13-5bde-4c92-bcb2-ea9ffecfaaa7",
   "metadata": {},
   "outputs": [
    {
     "data": {
      "text/plain": [
       "1"
      ]
     },
     "execution_count": 95,
     "metadata": {},
     "output_type": "execute_result"
    }
   ],
   "source": [
    "# 최소값\n",
    "np.min(arr)"
   ]
  },
  {
   "cell_type": "code",
   "execution_count": 96,
   "id": "21575fa9-f284-4d7a-8d17-bc8fdfc34e07",
   "metadata": {},
   "outputs": [
    {
     "data": {
      "text/plain": [
       "4"
      ]
     },
     "execution_count": 96,
     "metadata": {},
     "output_type": "execute_result"
    }
   ],
   "source": [
    "# 최대값\n",
    "np.max(arr)"
   ]
  },
  {
   "cell_type": "code",
   "execution_count": 97,
   "id": "ff61cb75-69ba-4b7b-8476-1b4da4112883",
   "metadata": {},
   "outputs": [
    {
     "name": "stdout",
     "output_type": "stream",
     "text": [
      "0\n",
      "3\n"
     ]
    }
   ],
   "source": [
    "# 최소값의 인덱스\n",
    "print(np.argmin(arr))\n",
    "\n",
    "# 최대값의 인덱스\n",
    "print(np.argmax(arr))"
   ]
  },
  {
   "cell_type": "markdown",
   "id": "7627703c-75f4-4c86-938b-8be271c3e3fc",
   "metadata": {
    "tags": []
   },
   "source": [
    "### 변형"
   ]
  },
  {
   "cell_type": "code",
   "execution_count": 51,
   "id": "8c94f3cc-0f9f-4625-99aa-029b0b349677",
   "metadata": {},
   "outputs": [
    {
     "data": {
      "text/plain": [
       "array([[0, 1, 2, 3, 4],\n",
       "       [5, 6, 7, 8, 9]])"
      ]
     },
     "execution_count": 51,
     "metadata": {},
     "output_type": "execute_result"
    }
   ],
   "source": [
    "arr = np.arange(10).reshape(2, 5)\n",
    "arr"
   ]
  },
  {
   "cell_type": "code",
   "execution_count": 52,
   "id": "30ce4c5c-b60c-4da9-8bed-d9571a17e6fc",
   "metadata": {},
   "outputs": [
    {
     "data": {
      "text/plain": [
       "array([[0, 5],\n",
       "       [1, 6],\n",
       "       [2, 7],\n",
       "       [3, 8],\n",
       "       [4, 9]])"
      ]
     },
     "execution_count": 52,
     "metadata": {},
     "output_type": "execute_result"
    }
   ],
   "source": [
    "arr.transpose()"
   ]
  },
  {
   "cell_type": "code",
   "execution_count": 53,
   "id": "608f91db-a526-40df-b138-726b73880365",
   "metadata": {},
   "outputs": [
    {
     "data": {
      "text/plain": [
       "array([[0, 5],\n",
       "       [1, 6],\n",
       "       [2, 7],\n",
       "       [3, 8],\n",
       "       [4, 9]])"
      ]
     },
     "execution_count": 53,
     "metadata": {},
     "output_type": "execute_result"
    }
   ],
   "source": [
    "arr.T  # arr.transpose()와 동일"
   ]
  },
  {
   "cell_type": "code",
   "execution_count": 98,
   "id": "875aaf51-3952-442c-b2db-074a56deb24e",
   "metadata": {},
   "outputs": [
    {
     "data": {
      "text/plain": [
       "array([[[ 0,  1,  2],\n",
       "        [ 3,  4,  5],\n",
       "        [ 6,  7,  8]],\n",
       "\n",
       "       [[ 9, 10, 11],\n",
       "        [12, 13, 14],\n",
       "        [15, 16, 17]],\n",
       "\n",
       "       [[18, 19, 20],\n",
       "        [21, 22, 23],\n",
       "        [24, 25, 26]]])"
      ]
     },
     "execution_count": 98,
     "metadata": {},
     "output_type": "execute_result"
    }
   ],
   "source": [
    "arr3d = np.arange(27).reshape(3,3,3)\n",
    "arr3d"
   ]
  },
  {
   "cell_type": "code",
   "execution_count": 101,
   "id": "d7014572-0992-41b3-a356-dcf69220214a",
   "metadata": {},
   "outputs": [
    {
     "name": "stdout",
     "output_type": "stream",
     "text": [
      "[[[ 0  9 18]\n",
      "  [ 3 12 21]\n",
      "  [ 6 15 24]]\n",
      "\n",
      " [[ 1 10 19]\n",
      "  [ 4 13 22]\n",
      "  [ 7 16 25]]\n",
      "\n",
      " [[ 2 11 20]\n",
      "  [ 5 14 23]\n",
      "  [ 8 17 26]]]\n",
      "====================\n",
      "[[[ 0  1  2]\n",
      "  [ 9 10 11]\n",
      "  [18 19 20]]\n",
      "\n",
      " [[ 3  4  5]\n",
      "  [12 13 14]\n",
      "  [21 22 23]]\n",
      "\n",
      " [[ 6  7  8]\n",
      "  [15 16 17]\n",
      "  [24 25 26]]]\n"
     ]
    }
   ],
   "source": [
    "# transpose()를 호출할 때, 각 축의 위치를 인자로 설정하여 넘겨줌.\n",
    "# 아무 값도 넘겨주지 않을 경우, 기본 순서(0, 1, 2)의 역순(2, 1, 0)에 해당하는 값으로 축이 설정되어 변환됨\n",
    "\n",
    "print(arr3d.transpose())        # trnaspose(2, 1, 0)과 동일\n",
    "print('='*20)\n",
    "print(arr3d.transpose(1, 0, 2))"
   ]
  },
  {
   "cell_type": "markdown",
   "id": "fed1cf16-8b4a-4f5b-8691-cab60e852d86",
   "metadata": {
    "tags": []
   },
   "source": [
    "### 저장"
   ]
  },
  {
   "cell_type": "code",
   "execution_count": 55,
   "id": "a27e3d43-38ad-4daf-9cd2-079085d259ae",
   "metadata": {},
   "outputs": [
    {
     "data": {
      "text/plain": [
       "array([[0, 1, 2, 3, 4],\n",
       "       [5, 6, 7, 8, 9]])"
      ]
     },
     "execution_count": 55,
     "metadata": {},
     "output_type": "execute_result"
    }
   ],
   "source": [
    "arr = np.arange(10).reshape(2, 5)\n",
    "arr"
   ]
  },
  {
   "cell_type": "code",
   "execution_count": 56,
   "id": "49871822-6628-4c12-8681-ceb55ac776c5",
   "metadata": {},
   "outputs": [],
   "source": [
    "# 현재 디렉토리에 .npy 확장자의 파일로 저장\n",
    "np.save('array', arr)"
   ]
  },
  {
   "cell_type": "code",
   "execution_count": 57,
   "id": "48cbe1a6-f985-407d-9db8-8b75120155da",
   "metadata": {},
   "outputs": [
    {
     "data": {
      "text/plain": [
       "array([[0, 1, 2, 3, 4],\n",
       "       [5, 6, 7, 8, 9]])"
      ]
     },
     "execution_count": 57,
     "metadata": {},
     "output_type": "execute_result"
    }
   ],
   "source": [
    "# 불러오기\n",
    "load_arr = np.load('array.npy')\n",
    "load_arr"
   ]
  },
  {
   "cell_type": "markdown",
   "id": "ec9dff46-e67f-4f80-80c3-55e60b87e22f",
   "metadata": {
    "tags": []
   },
   "source": [
    "### Numpy random 모듈"
   ]
  },
  {
   "cell_type": "code",
   "execution_count": 103,
   "id": "0a76cb48-9f39-4f4d-942b-9d27a5c5a77e",
   "metadata": {},
   "outputs": [],
   "source": [
    "from numpy import *"
   ]
  },
  {
   "cell_type": "code",
   "execution_count": 108,
   "id": "e6c9e331-4d79-479a-ad90-509305d6853b",
   "metadata": {},
   "outputs": [
    {
     "data": {
      "text/plain": [
       "array([[0.20923699, 0.06354022, 0.00271737],\n",
       "       [0.68887673, 0.45070422, 0.87535188]])"
      ]
     },
     "execution_count": 108,
     "metadata": {},
     "output_type": "execute_result"
    }
   ],
   "source": [
    "# 균등분포에서 랜덤 추출\n",
    "np.random.rand(2, 3)"
   ]
  },
  {
   "cell_type": "code",
   "execution_count": 111,
   "id": "a312c3c4-8e4a-423a-9ae5-de98a9eabbe0",
   "metadata": {},
   "outputs": [
    {
     "data": {
      "text/plain": [
       "5"
      ]
     },
     "execution_count": 111,
     "metadata": {},
     "output_type": "execute_result"
    }
   ],
   "source": [
    "# 주어진 범위 안에서 랜덤 추출\n",
    "np.random.randint(np.array(16))"
   ]
  },
  {
   "cell_type": "code",
   "execution_count": 112,
   "id": "a1095b99-2455-4b3e-a02c-be2231cf2b37",
   "metadata": {},
   "outputs": [
    {
     "data": {
      "text/plain": [
       "array([ 0.53215497,  1.66278194, -0.73166773,  0.27081961,  2.20356692,\n",
       "        1.31631556,  0.46542793, -1.25045747,  0.81702069,  0.20516007,\n",
       "       -1.11080505, -0.07768375, -0.99713779,  0.89095949, -0.93313087,\n",
       "       -0.61137592])"
      ]
     },
     "execution_count": 112,
     "metadata": {},
     "output_type": "execute_result"
    }
   ],
   "source": [
    "# 표준정규분포에서 랜덤 추출\n",
    "# 표준정규분포 : 평균이 0이고, 표준편차가 1인 정규분포\n",
    "array1 = np.array(16)\n",
    "np.random.randn(array1)"
   ]
  },
  {
   "cell_type": "code",
   "execution_count": 113,
   "id": "d4b2e9a2-e1d6-494b-a646-2fc1781890b7",
   "metadata": {},
   "outputs": [
    {
     "data": {
      "text/plain": [
       "16.298964887681013"
      ]
     },
     "execution_count": 113,
     "metadata": {},
     "output_type": "execute_result"
    }
   ],
   "source": [
    "# 정규분포에서 랜덤 추출\n",
    "np.random.normal(array1)"
   ]
  },
  {
   "cell_type": "code",
   "execution_count": 127,
   "id": "bc90c67f-0bd1-4a54-8311-cfeb97e4450d",
   "metadata": {},
   "outputs": [
    {
     "data": {
      "text/plain": [
       "array([0.5488135 , 0.71518937, 0.60276338, 0.54488318, 0.4236548 ,\n",
       "       0.64589411, 0.43758721, 0.891773  , 0.96366276, 0.38344152])"
      ]
     },
     "execution_count": 127,
     "metadata": {},
     "output_type": "execute_result"
    }
   ],
   "source": [
    "# 랜덤값 생성기의 시드를 지정\n",
    "# 시드값을 정해주면 난수 수열을 생성, 시드값을 통해 생성된 첫 값이 다시 시드값이 되어\n",
    "# 난수를 연속 생성하는 알고리즘임\n",
    "np.random.seed(0)\n",
    "np.random.rand(10)"
   ]
  },
  {
   "cell_type": "code",
   "execution_count": 123,
   "id": "9ba27eb6-4ba7-4156-ac52-442ef20fed4b",
   "metadata": {},
   "outputs": [
    {
     "data": {
      "text/plain": [
       "[5, 4, 6, 7, 1, 2, 9, 8, 3, 10]"
      ]
     },
     "execution_count": 123,
     "metadata": {},
     "output_type": "execute_result"
    }
   ],
   "source": [
    "# 리스트나 배열의 순서를 섞음\n",
    "a = [1, 2, 3, 4, 5, 6, 7, 8, 9, 10]\n",
    "np.random.shuffle(a)\n",
    "a"
   ]
  }
 ],
 "metadata": {
  "kernelspec": {
   "display_name": "Python 3 (ipykernel)",
   "language": "python",
   "name": "python3"
  },
  "language_info": {
   "codemirror_mode": {
    "name": "ipython",
    "version": 3
   },
   "file_extension": ".py",
   "mimetype": "text/x-python",
   "name": "python",
   "nbconvert_exporter": "python",
   "pygments_lexer": "ipython3",
   "version": "3.9.12"
  },
  "toc-autonumbering": true
 },
 "nbformat": 4,
 "nbformat_minor": 5
}
