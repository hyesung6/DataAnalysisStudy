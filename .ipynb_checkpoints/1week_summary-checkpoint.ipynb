{
 "cells": [
  {
   "cell_type": "markdown",
   "id": "a2a64282-b93c-45d4-9daf-af44ee4344ca",
   "metadata": {},
   "source": [
    "# Numpy"
   ]
  },
  {
   "cell_type": "markdown",
   "id": "f33a5613-d9d1-49f1-994a-8f785bd47b0d",
   "metadata": {},
   "source": [
    "## 배열 만들기"
   ]
  },
  {
   "cell_type": "code",
   "execution_count": 2,
   "id": "6163c7f4-1c77-4454-9dd2-c58af6c27dd0",
   "metadata": {},
   "outputs": [
    {
     "data": {
      "text/plain": [
       "array([1, 2, 3, 4, 5, 6])"
      ]
     },
     "execution_count": 2,
     "metadata": {},
     "output_type": "execute_result"
    }
   ],
   "source": [
    "# 초기화할 값 지정하여 배열 생성\n",
    "import numpy as np\n",
    "np.array([1, 2, 3, 4, 5, 6])"
   ]
  },
  {
   "cell_type": "code",
   "execution_count": 3,
   "id": "eda15a3e-9acc-483d-931f-669c0b87f658",
   "metadata": {},
   "outputs": [
    {
     "data": {
      "text/plain": [
       "array([0., 0., 0., 0., 0.])"
      ]
     },
     "execution_count": 3,
     "metadata": {},
     "output_type": "execute_result"
    }
   ],
   "source": [
    "# 값을 0으로 초기화하여 배열 생성\n",
    "np.zeros(5)"
   ]
  },
  {
   "cell_type": "code",
   "execution_count": 4,
   "id": "ba667fa1-0172-42ac-be28-e7a2b1f939f2",
   "metadata": {},
   "outputs": [
    {
     "data": {
      "text/plain": [
       "array([1., 1., 1., 1., 1.])"
      ]
     },
     "execution_count": 4,
     "metadata": {},
     "output_type": "execute_result"
    }
   ],
   "source": [
    "# 값을 1로 초기화하여 배열 생성\n",
    "np.ones(5)"
   ]
  },
  {
   "cell_type": "code",
   "execution_count": 5,
   "id": "0cf04478-6629-4435-8aef-f2e58b177858",
   "metadata": {},
   "outputs": [
    {
     "data": {
      "text/plain": [
       "array([1., 1., 1., 1., 1.])"
      ]
     },
     "execution_count": 5,
     "metadata": {},
     "output_type": "execute_result"
    }
   ],
   "source": [
    "# 데이터 초기화 없이, 쓰레기 값으로 채워진 배열 생성\n",
    "np.empty(5)"
   ]
  },
  {
   "cell_type": "code",
   "execution_count": 8,
   "id": "bd263f29-dab8-4fcd-beed-a0662ae1c718",
   "metadata": {},
   "outputs": [
    {
     "data": {
      "text/plain": [
       "array([ 0,  1,  2,  3,  4,  5,  6,  7,  8,  9, 10, 11, 12, 13, 14, 15, 16,\n",
       "       17, 18, 19])"
      ]
     },
     "execution_count": 8,
     "metadata": {},
     "output_type": "execute_result"
    }
   ],
   "source": [
    "# 연속된 숫자를 채워 배열 생성\n",
    "# 내장함수 range()와 유사하게\n",
    "# 종료 지점에서 -1 까지만 생성됨\n",
    "np.arange(20)"
   ]
  },
  {
   "cell_type": "code",
   "execution_count": 41,
   "id": "bac08246-6c35-4253-830b-6f535b69368e",
   "metadata": {},
   "outputs": [
    {
     "data": {
      "text/plain": [
       "array([20, 22, 24, 26, 28])"
      ]
     },
     "execution_count": 41,
     "metadata": {},
     "output_type": "execute_result"
    }
   ],
   "source": [
    "# 인자를 여러 개 사용할 경우,\n",
    "# 1번 째 인자는 시작 지점\n",
    "# 2번 째 인자는 종료 지점\n",
    "# 3번 째 인자는 Step\n",
    "np.arange(20, 30, 2)"
   ]
  },
  {
   "cell_type": "code",
   "execution_count": 45,
   "id": "51e09912-8f1f-4ce8-97b1-1ecc205e0746",
   "metadata": {},
   "outputs": [
    {
     "data": {
      "text/plain": [
       "array([ 0. ,  2.5,  5. ,  7.5, 10. ])"
      ]
     },
     "execution_count": 45,
     "metadata": {},
     "output_type": "execute_result"
    }
   ],
   "source": [
    "# 지정한 구간에 원하는 요소 개수만큼 배열 생성\n",
    "# 1번 째 인자는 시작 지점\n",
    "# 2번 째 인자는 종료 지점\n",
    "# 3번 째 인자는 생성하고자 하는 요소 개수\n",
    "np.linspace(0, 10, num=5)"
   ]
  },
  {
   "cell_type": "code",
   "execution_count": 46,
   "id": "d99d5480-295c-48e9-8601-9bcdc0ae833f",
   "metadata": {},
   "outputs": [
    {
     "data": {
      "text/plain": [
       "array([ 0,  2,  5,  7, 10], dtype=int64)"
      ]
     },
     "execution_count": 46,
     "metadata": {},
     "output_type": "execute_result"
    }
   ],
   "source": [
    "# dtype= 값으로 np.dtype을 줘서 데이터 형식을 지정할 수 있음\n",
    "np.linspace(0, 10, num=5, dtype=np.int64)"
   ]
  },
  {
   "cell_type": "code",
   "execution_count": 47,
   "id": "d62145ce-574e-44cd-8a9a-8aadaf7c22ba",
   "metadata": {},
   "outputs": [
    {
     "data": {
      "text/plain": [
       "array([[ 1.5827523 , -1.04514683,  0.25759352],\n",
       "       [-1.9593946 , -1.50780766, -0.31529207],\n",
       "       [ 0.85817886,  0.07134299, -2.29230928]])"
      ]
     },
     "execution_count": 47,
     "metadata": {},
     "output_type": "execute_result"
    }
   ],
   "source": [
    "# 난수 생성기 시드값(시작값) 설정\n",
    "np.random.seed(1)\n",
    "# 시드값을 기준으로 난수가 생성된 이후,\n",
    "# 그 생성된 값을 기준으로 다음 난수가 생성되는 방식의 알고리즘..\n",
    "\n",
    "# 랜덤값으로 배열 생성\n",
    "randArray = np.random.randn(3, 3)\n",
    "randArray"
   ]
  },
  {
   "cell_type": "markdown",
   "id": "831da107-1ce3-4e3c-8d38-8d36a60db215",
   "metadata": {
    "tags": []
   },
   "source": [
    "## 사용 설명 보기"
   ]
  },
  {
   "cell_type": "code",
   "execution_count": 44,
   "id": "a142e5de-ff44-4f57-a27c-2a8807fea315",
   "metadata": {},
   "outputs": [
    {
     "data": {
      "text/plain": [
       "\u001b[1;31mInit signature:\u001b[0m \u001b[0mnp\u001b[0m\u001b[1;33m.\u001b[0m\u001b[0mdtype\u001b[0m\u001b[1;33m(\u001b[0m\u001b[0mself\u001b[0m\u001b[1;33m,\u001b[0m \u001b[1;33m/\u001b[0m\u001b[1;33m,\u001b[0m \u001b[1;33m*\u001b[0m\u001b[0margs\u001b[0m\u001b[1;33m,\u001b[0m \u001b[1;33m**\u001b[0m\u001b[0mkwargs\u001b[0m\u001b[1;33m)\u001b[0m\u001b[1;33m\u001b[0m\u001b[1;33m\u001b[0m\u001b[0m\n",
       "\u001b[1;31mDocstring:\u001b[0m     \n",
       "dtype(dtype, align=False, copy=False)\n",
       "\n",
       "Create a data type object.\n",
       "\n",
       "A numpy array is homogeneous, and contains elements described by a\n",
       "dtype object. A dtype object can be constructed from different\n",
       "combinations of fundamental numeric types.\n",
       "\n",
       "Parameters\n",
       "----------\n",
       "dtype\n",
       "    Object to be converted to a data type object.\n",
       "align : bool, optional\n",
       "    Add padding to the fields to match what a C compiler would output\n",
       "    for a similar C-struct. Can be ``True`` only if `obj` is a dictionary\n",
       "    or a comma-separated string. If a struct dtype is being created,\n",
       "    this also sets a sticky alignment flag ``isalignedstruct``.\n",
       "copy : bool, optional\n",
       "    Make a new copy of the data-type object. If ``False``, the result\n",
       "    may just be a reference to a built-in data-type object.\n",
       "\n",
       "See also\n",
       "--------\n",
       "result_type\n",
       "\n",
       "Examples\n",
       "--------\n",
       "Using array-scalar type:\n",
       "\n",
       ">>> np.dtype(np.int16)\n",
       "dtype('int16')\n",
       "\n",
       "Structured type, one field name 'f1', containing int16:\n",
       "\n",
       ">>> np.dtype([('f1', np.int16)])\n",
       "dtype([('f1', '<i2')])\n",
       "\n",
       "Structured type, one field named 'f1', in itself containing a structured\n",
       "type with one field:\n",
       "\n",
       ">>> np.dtype([('f1', [('f1', np.int16)])])\n",
       "dtype([('f1', [('f1', '<i2')])])\n",
       "\n",
       "Structured type, two fields: the first field contains an unsigned int, the\n",
       "second an int32:\n",
       "\n",
       ">>> np.dtype([('f1', np.uint64), ('f2', np.int32)])\n",
       "dtype([('f1', '<u8'), ('f2', '<i4')])\n",
       "\n",
       "Using array-protocol type strings:\n",
       "\n",
       ">>> np.dtype([('a','f8'),('b','S10')])\n",
       "dtype([('a', '<f8'), ('b', 'S10')])\n",
       "\n",
       "Using comma-separated field formats.  The shape is (2,3):\n",
       "\n",
       ">>> np.dtype(\"i4, (2,3)f8\")\n",
       "dtype([('f0', '<i4'), ('f1', '<f8', (2, 3))])\n",
       "\n",
       "Using tuples.  ``int`` is a fixed type, 3 the field's shape.  ``void``\n",
       "is a flexible type, here of size 10:\n",
       "\n",
       ">>> np.dtype([('hello',(np.int64,3)),('world',np.void,10)])\n",
       "dtype([('hello', '<i8', (3,)), ('world', 'V10')])\n",
       "\n",
       "Subdivide ``int16`` into 2 ``int8``'s, called x and y.  0 and 1 are\n",
       "the offsets in bytes:\n",
       "\n",
       ">>> np.dtype((np.int16, {'x':(np.int8,0), 'y':(np.int8,1)}))\n",
       "dtype((numpy.int16, [('x', 'i1'), ('y', 'i1')]))\n",
       "\n",
       "Using dictionaries.  Two fields named 'gender' and 'age':\n",
       "\n",
       ">>> np.dtype({'names':['gender','age'], 'formats':['S1',np.uint8]})\n",
       "dtype([('gender', 'S1'), ('age', 'u1')])\n",
       "\n",
       "Offsets in bytes, here 0 and 25:\n",
       "\n",
       ">>> np.dtype({'surname':('S25',0),'age':(np.uint8,25)})\n",
       "dtype([('surname', 'S25'), ('age', 'u1')])\n",
       "\u001b[1;31mFile:\u001b[0m           c:\\users\\user\\anaconda3\\lib\\site-packages\\numpy\\__init__.py\n",
       "\u001b[1;31mType:\u001b[0m           _DTypeMeta\n",
       "\u001b[1;31mSubclasses:\u001b[0m     dtype[bool_], dtype[int8], dtype[uint8], dtype[int16], dtype[uint16], dtype[intc], dtype[uintc], dtype[int32], dtype[uint32], dtype[int64], ...\n"
      ]
     },
     "metadata": {},
     "output_type": "display_data"
    }
   ],
   "source": [
    "# 메서드 사용 설명 보는 법\n",
    "np.dtype?"
   ]
  },
  {
   "cell_type": "markdown",
   "id": "51ec19f6-f68d-4584-adc3-34c0d4c879e2",
   "metadata": {},
   "source": [
    "## 변형"
   ]
  },
  {
   "cell_type": "code",
   "execution_count": 26,
   "id": "e09f5215-0188-4239-a273-29bbbb21bc42",
   "metadata": {},
   "outputs": [],
   "source": [
    "# 배열의 차원 변형\n",
    "oneDArray = np.arange(16)"
   ]
  },
  {
   "cell_type": "code",
   "execution_count": 27,
   "id": "b9ebea72-d901-448c-81bc-bb246f4da62d",
   "metadata": {},
   "outputs": [
    {
     "data": {
      "text/plain": [
       "array([[ 0,  1,  2,  3],\n",
       "       [ 4,  5,  6,  7],\n",
       "       [ 8,  9, 10, 11],\n",
       "       [12, 13, 14, 15]])"
      ]
     },
     "execution_count": 27,
     "metadata": {},
     "output_type": "execute_result"
    }
   ],
   "source": [
    "oneDArray.reshape(4, 4)"
   ]
  },
  {
   "cell_type": "code",
   "execution_count": 31,
   "id": "e0431ff3-137d-498c-8d46-8aa33357944d",
   "metadata": {},
   "outputs": [
    {
     "data": {
      "text/plain": [
       "array([ 0,  1,  2,  3,  4,  5,  6,  7,  8,  9, 10, 11, 12, 13, 14, 15])"
      ]
     },
     "execution_count": 31,
     "metadata": {},
     "output_type": "execute_result"
    }
   ],
   "source": [
    "# 다시 배열을 확인해보면,\n",
    "# 원본이 바뀌지는 않은 걸 확인할 수 있음\n",
    "oneDArray"
   ]
  },
  {
   "cell_type": "code",
   "execution_count": 32,
   "id": "75e16799-57de-4c41-a3b6-b81dfe13432e",
   "metadata": {},
   "outputs": [
    {
     "data": {
      "text/plain": [
       "array([[ 0,  1,  2,  3],\n",
       "       [ 4,  5,  6,  7],\n",
       "       [ 8,  9, 10, 11],\n",
       "       [12, 13, 14, 15]])"
      ]
     },
     "execution_count": 32,
     "metadata": {},
     "output_type": "execute_result"
    }
   ],
   "source": [
    "# reshape는 차원이 변형된 결과만 반환하고,\n",
    "# 원본을 바꾸지는 않으므로,\n",
    "# 새로운 원본을 만들어 저장할 필요가 있는 경우\n",
    "# copy() 메서드를 사용하여 따로 저장해준다.\n",
    "\n",
    "copiedOneDArray = oneDArray.reshape(4, 4).copy()\n",
    "copiedOneDArray"
   ]
  },
  {
   "cell_type": "markdown",
   "id": "ea22cc3d-e28a-41fe-9a0d-64262dba0747",
   "metadata": {},
   "source": [
    "## 배열 속성 확인"
   ]
  },
  {
   "cell_type": "code",
   "execution_count": 49,
   "id": "de5143e5-4609-4314-a5ac-35f3d7b127c3",
   "metadata": {},
   "outputs": [
    {
     "data": {
      "text/plain": [
       "(4, 4)"
      ]
     },
     "execution_count": 49,
     "metadata": {},
     "output_type": "execute_result"
    }
   ],
   "source": [
    "# 배열 형태 확인할 때는 shape 사용,\n",
    "# pandas와 동일.\n",
    "copiedOneDArray.shape"
   ]
  },
  {
   "cell_type": "code",
   "execution_count": 54,
   "id": "5b1f9421-5a39-42a6-b7e1-acd8c703a04c",
   "metadata": {},
   "outputs": [
    {
     "data": {
      "text/plain": [
       "dtype('int32')"
      ]
     },
     "execution_count": 54,
     "metadata": {},
     "output_type": "execute_result"
    }
   ],
   "source": [
    "# 데이터타입 확인\n",
    "copiedOneDArray.dtype\n",
    "\n",
    "# 확인결과 int32 \n",
    "# --> (4, 4) 배열로 부동소수점이 아닌 정수형 데이터임을 확인"
   ]
  },
  {
   "cell_type": "code",
   "execution_count": 60,
   "id": "e9bcea73-e4b4-4c32-bc8b-0185f6b1880f",
   "metadata": {},
   "outputs": [
    {
     "data": {
      "text/plain": [
       "array([[ 0.,  1.,  2.,  3.],\n",
       "       [ 4.,  5.,  6.,  7.],\n",
       "       [ 8.,  9., 10., 11.],\n",
       "       [12., 13., 14., 15.]])"
      ]
     },
     "execution_count": 60,
     "metadata": {},
     "output_type": "execute_result"
    }
   ],
   "source": [
    "# float으로 데이터타입 형변환\n",
    "# astype() 메서드 또한 원본에 적용되는 것이 아니라,\n",
    "# float으로 변환된 배열을 반환하므로\n",
    "# 형변환이 이루어진 값을 새로운 변수에 저장해서 사용할 필요가 있음.\n",
    "copiedOneDArray.astype(float)"
   ]
  },
  {
   "cell_type": "code",
   "execution_count": 61,
   "id": "f81b9f21-2f2e-43f1-92f1-bb7e5f7555a4",
   "metadata": {},
   "outputs": [
    {
     "data": {
      "text/plain": [
       "dtype('float64')"
      ]
     },
     "execution_count": 61,
     "metadata": {},
     "output_type": "execute_result"
    }
   ],
   "source": [
    "# astype() 메서드 또한 원본에 적용되는 것이 아니라,\n",
    "# float으로 변환된 배열을 반환하므로\n",
    "# 형변환이 이루어진 값을 새로운 변수에 저장해서 사용할 필요가 있음.\n",
    "\n",
    "astypeFloatArray = copiedOneDArray.astype(float)\n",
    "astypeFloatArray.dtype"
   ]
  },
  {
   "cell_type": "markdown",
   "id": "c14f0d11-0053-4524-ad81-5bca494ab600",
   "metadata": {},
   "source": [
    "## 인덱싱 / 슬라이싱"
   ]
  },
  {
   "cell_type": "code",
   "execution_count": 64,
   "id": "5a0699a2-ea78-47bc-b461-15794a227a79",
   "metadata": {},
   "outputs": [
    {
     "data": {
      "text/plain": [
       "array([[ 0,  1,  2,  3],\n",
       "       [ 4,  5,  6,  7],\n",
       "       [ 8,  9, 10, 11],\n",
       "       [12, 13, 14, 15]])"
      ]
     },
     "execution_count": 64,
     "metadata": {},
     "output_type": "execute_result"
    }
   ],
   "source": [
    "arr1 = np.arange(16).reshape(4, 4)\n",
    "arr1"
   ]
  },
  {
   "cell_type": "code",
   "execution_count": 63,
   "id": "528e380c-35a2-4626-94dc-b619248bc132",
   "metadata": {},
   "outputs": [
    {
     "data": {
      "text/plain": [
       "array([ 8,  9, 10, 11])"
      ]
     },
     "execution_count": 63,
     "metadata": {},
     "output_type": "execute_result"
    }
   ],
   "source": [
    "arr1[2]"
   ]
  },
  {
   "cell_type": "code",
   "execution_count": 66,
   "id": "695b4c7d-5d74-4269-b76a-5cfbe907682d",
   "metadata": {},
   "outputs": [
    {
     "data": {
      "text/plain": [
       "array([[ 4,  5,  6,  7],\n",
       "       [ 8,  9, 10, 11]])"
      ]
     },
     "execution_count": 66,
     "metadata": {},
     "output_type": "execute_result"
    }
   ],
   "source": [
    "arr1[1:-1]"
   ]
  },
  {
   "cell_type": "code",
   "execution_count": 67,
   "id": "9cd2f0e6-b469-4410-92e1-33c6de3cc059",
   "metadata": {},
   "outputs": [
    {
     "data": {
      "text/plain": [
       "array([[ 0,  1,  2,  3],\n",
       "       [ 4,  5,  6,  7],\n",
       "       [ 8,  9, 10, 11]])"
      ]
     },
     "execution_count": 67,
     "metadata": {},
     "output_type": "execute_result"
    }
   ],
   "source": [
    "arr1[0:3]"
   ]
  },
  {
   "cell_type": "code",
   "execution_count": 68,
   "id": "358abcdc-76ba-4ba2-a6de-fdd8d5bd1987",
   "metadata": {},
   "outputs": [
    {
     "data": {
      "text/plain": [
       "array([14, 15])"
      ]
     },
     "execution_count": 68,
     "metadata": {},
     "output_type": "execute_result"
    }
   ],
   "source": [
    "arr1[3][2:4]"
   ]
  },
  {
   "cell_type": "code",
   "execution_count": 69,
   "id": "948adf30-952f-4825-90e5-64515cf00e44",
   "metadata": {},
   "outputs": [
    {
     "data": {
      "text/plain": [
       "14"
      ]
     },
     "execution_count": 69,
     "metadata": {},
     "output_type": "execute_result"
    }
   ],
   "source": [
    "arr1[3][2]"
   ]
  },
  {
   "cell_type": "code",
   "execution_count": 70,
   "id": "cb5c8367-8acb-4665-a289-ff166be3517e",
   "metadata": {},
   "outputs": [
    {
     "data": {
      "text/plain": [
       "array([[  0,   1,   2,   3],\n",
       "       [  4,   5,   6,   7],\n",
       "       [  8,   9, 100, 110],\n",
       "       [120, 130, 140, 150]])"
      ]
     },
     "execution_count": 70,
     "metadata": {},
     "output_type": "execute_result"
    }
   ],
   "source": [
    "# 배열의 10 이상 요소 값 선택해서 변경하기\n",
    "arr1[arr1 >= 10] = arr1[arr1 >= 10] * 10\n",
    "arr1"
   ]
  },
  {
   "cell_type": "code",
   "execution_count": 73,
   "id": "1a82fc32-60a9-49c9-97e5-4a028a0017c9",
   "metadata": {},
   "outputs": [
    {
     "data": {
      "text/plain": [
       "array([[  0,   0,   0,   0,   0],\n",
       "       [  0,   0,   0,   0,   0],\n",
       "       [100, 100, 100, 100, 100],\n",
       "       [100, 100, 100, 100, 200]])"
      ]
     },
     "execution_count": 73,
     "metadata": {},
     "output_type": "execute_result"
    }
   ],
   "source": [
    "# dtype=int로 지정, 생성된 2차원 배열의 모든 값에 100 곱하기\n",
    "arr2 = np.linspace(0, 2, num=20, dtype=int).reshape(4, 5)\n",
    "arr2 = arr2 * 100\n",
    "arr2"
   ]
  },
  {
   "cell_type": "code",
   "execution_count": 99,
   "id": "422b8e53-07d8-4688-aa52-b7515d94d785",
   "metadata": {},
   "outputs": [
    {
     "name": "stdout",
     "output_type": "stream",
     "text": [
      "before \n",
      "[[0.    0.275 0.55  0.825 1.1  ]\n",
      " [1.375 1.65  1.925 2.2   2.475]\n",
      " [2.75  3.025 3.3   3.575 3.85 ]\n",
      " [4.125 4.4   4.675 4.95  5.225]\n",
      " [5.5   5.775 6.05  6.325 6.6  ]]\n",
      "========================================\n",
      "after \n",
      "[[  0.     6.05  12.1   18.15  24.2 ]\n",
      " [ 30.25  36.3   42.35  48.4   54.45]\n",
      " [ 60.5   66.55  72.6   78.65  84.7 ]\n",
      " [ 90.75  96.8  102.85 108.9  114.95]\n",
      " [121.   127.05 133.1  139.15 145.2 ]]\n"
     ]
    }
   ],
   "source": [
    "# dtype=float로 지정, 생성된 2차원 배열의 모든 값에 22 곱하기\n",
    "arr3 = np.linspace(0, 6.6, num=25, dtype=float).reshape(5, 5)\n",
    "print(f'before \\n{arr3}')\n",
    "print('='*40)\n",
    "arr3 = arr3 * 22\n",
    "print(f'after \\n{arr3}')"
   ]
  },
  {
   "cell_type": "code",
   "execution_count": 104,
   "id": "49b1c012-2aca-4385-8328-4472cf678119",
   "metadata": {},
   "outputs": [
    {
     "name": "stdout",
     "output_type": "stream",
     "text": [
      " arr4's dtype is...\n",
      " int32, (4, 4)\n",
      "========================================\n",
      " arr4's dtype is...\n",
      " float64, (4, 4)\n"
     ]
    }
   ],
   "source": [
    "# astype으로 형변환 전후 dtype 비교\n",
    "arr4 = np.arange(16).reshape(4, 4)\n",
    "print(f' arr4\\'s dtype is...\\n {arr4.dtype}, {arr4.shape}')\n",
    "print('='*40)\n",
    "arr4 = arr4.astype(float)\n",
    "print(f' arr4\\'s dtype is...\\n {arr4.dtype}, {arr4.shape}')"
   ]
  },
  {
   "cell_type": "markdown",
   "id": "aeedaae3-117e-4c75-b161-b35a128dd995",
   "metadata": {},
   "source": [
    "## 연산 함수"
   ]
  },
  {
   "cell_type": "code",
   "execution_count": 7,
   "id": "312acf89-b202-49b8-8357-51903b97fc33",
   "metadata": {},
   "outputs": [
    {
     "data": {
      "text/plain": [
       "array([ 4,  8, 12, 16, 20])"
      ]
     },
     "execution_count": 7,
     "metadata": {},
     "output_type": "execute_result"
    }
   ],
   "source": [
    "arr5 = np.arange(4, 21, 4)\n",
    "arr5"
   ]
  },
  {
   "cell_type": "code",
   "execution_count": 8,
   "id": "4e6d205a-df50-41e2-aa58-8043ca357e88",
   "metadata": {},
   "outputs": [
    {
     "data": {
      "text/plain": [
       "array([ 16,  64, 144, 256, 400], dtype=int32)"
      ]
     },
     "execution_count": 8,
     "metadata": {},
     "output_type": "execute_result"
    }
   ],
   "source": [
    "# 배열의 각 요소 제곱\n",
    "np.square(arr5)"
   ]
  },
  {
   "cell_type": "code",
   "execution_count": 19,
   "id": "6b1bf835-ae17-4720-8f98-22ed581b5f35",
   "metadata": {},
   "outputs": [
    {
     "name": "stdout",
     "output_type": "stream",
     "text": [
      "sqrt result... \n",
      " ver1 : [2.         2.82842712 3.46410162 4.         4.47213595], \n",
      " dtype : float64 \n",
      " ====================================================================== \n",
      " ver2 : [2 2 3 4 4], \n",
      " dtype : int32\n"
     ]
    }
   ],
   "source": [
    "# 배열의 각 요소에 루트 씌우기 ( 제곱근 )\n",
    "print(f'sqrt result... \\n ver1 : {np.sqrt(arr5)}, \\n dtype : {np.sqrt(arr5).dtype} \\n {\"=\"*70} \\n ver2 : {np.sqrt(arr5).astype(int)}, \\n dtype : {np.sqrt(arr5).astype(int).dtype}')"
   ]
  },
  {
   "cell_type": "code",
   "execution_count": 20,
   "id": "6d58cd84-ba8d-4055-a62a-0f4ec619c4da",
   "metadata": {},
   "outputs": [
    {
     "data": {
      "text/plain": [
       "array([5.45981500e+01, 2.98095799e+03, 1.62754791e+05, 8.88611052e+06,\n",
       "       4.85165195e+08])"
      ]
     },
     "execution_count": 20,
     "metadata": {},
     "output_type": "execute_result"
    }
   ],
   "source": [
    "# 배열의 각 요소의 지수승 구하기\n",
    "np.exp(arr5)"
   ]
  },
  {
   "cell_type": "code",
   "execution_count": 21,
   "id": "303984af-d61a-4155-b574-20ac7a77875e",
   "metadata": {},
   "outputs": [
    {
     "data": {
      "text/plain": [
       "array([1.38629436, 2.07944154, 2.48490665, 2.77258872, 2.99573227])"
      ]
     },
     "execution_count": 21,
     "metadata": {},
     "output_type": "execute_result"
    }
   ],
   "source": [
    "# 배열의 각 요소에 로그식 대입\n",
    "np.log(arr5)"
   ]
  },
  {
   "cell_type": "code",
   "execution_count": 22,
   "id": "231ed51d-f64f-4515-b85e-0effea57e034",
   "metadata": {},
   "outputs": [
    {
     "data": {
      "text/plain": [
       "array([ 9, 18, 27, 36, 45])"
      ]
     },
     "execution_count": 22,
     "metadata": {},
     "output_type": "execute_result"
    }
   ],
   "source": [
    "# 배열 더하기\n",
    "arr6 = np.arange(5, 26, 5)\n",
    "np.add(arr5, arr6)"
   ]
  },
  {
   "cell_type": "code",
   "execution_count": 23,
   "id": "c9c95312-890b-470a-b3db-ecdb740def75",
   "metadata": {},
   "outputs": [
    {
     "data": {
      "text/plain": [
       "60"
      ]
     },
     "execution_count": 23,
     "metadata": {},
     "output_type": "execute_result"
    }
   ],
   "source": [
    "# 배열 내 모든 요소의 합\n",
    "np.sum(arr5)"
   ]
  },
  {
   "cell_type": "code",
   "execution_count": 24,
   "id": "009bb671-ad0d-4874-a909-ecbe2c8d50ff",
   "metadata": {},
   "outputs": [
    {
     "data": {
      "text/plain": [
       "array([ 4, 12, 24, 40, 60], dtype=int32)"
      ]
     },
     "execution_count": 24,
     "metadata": {},
     "output_type": "execute_result"
    }
   ],
   "source": [
    "# 배열 내 모든 요소의 누적합\n",
    "np.cumsum(arr5)"
   ]
  },
  {
   "cell_type": "markdown",
   "id": "d5689652-4209-409c-afc7-027bc26e2bc2",
   "metadata": {},
   "source": [
    "## 통계 지표 관련 함수"
   ]
  },
  {
   "cell_type": "code",
   "execution_count": 26,
   "id": "ef1ca86d-c89e-4823-8f41-e314124fdf5e",
   "metadata": {},
   "outputs": [
    {
     "data": {
      "text/plain": [
       "12.0"
      ]
     },
     "execution_count": 26,
     "metadata": {},
     "output_type": "execute_result"
    }
   ],
   "source": [
    "# 평균값\n",
    "np.mean(arr5)"
   ]
  },
  {
   "cell_type": "code",
   "execution_count": 31,
   "id": "546c7b6c-57b6-412c-87ee-d078b2ec3bae",
   "metadata": {},
   "outputs": [
    {
     "data": {
      "text/plain": [
       "32.0"
      ]
     },
     "execution_count": 31,
     "metadata": {},
     "output_type": "execute_result"
    }
   ],
   "source": [
    "# 편차\n",
    "np.var(arr5)"
   ]
  },
  {
   "cell_type": "code",
   "execution_count": 32,
   "id": "fbcd5409-66d6-48bf-8657-f5d029f7a847",
   "metadata": {},
   "outputs": [
    {
     "data": {
      "text/plain": [
       "5.656854249492381"
      ]
     },
     "execution_count": 32,
     "metadata": {},
     "output_type": "execute_result"
    }
   ],
   "source": [
    "# 표준편차\n",
    "np.std(arr5)"
   ]
  },
  {
   "cell_type": "code",
   "execution_count": 80,
   "id": "6065ef2f-2920-412d-b200-48932b4b00d8",
   "metadata": {},
   "outputs": [
    {
     "data": {
      "text/plain": [
       "24"
      ]
     },
     "execution_count": 80,
     "metadata": {},
     "output_type": "execute_result"
    }
   ],
   "source": [
    "# 최대값\n",
    "np.max(arr1)"
   ]
  },
  {
   "cell_type": "code",
   "execution_count": 81,
   "id": "a9227727-5731-4828-aaf4-133a0fdcd868",
   "metadata": {},
   "outputs": [
    {
     "data": {
      "text/plain": [
       "5"
      ]
     },
     "execution_count": 81,
     "metadata": {},
     "output_type": "execute_result"
    }
   ],
   "source": [
    "# 최대값의 인덱스\n",
    "np.argmax(arr1)"
   ]
  },
  {
   "cell_type": "code",
   "execution_count": 83,
   "id": "c0b09956-5de6-40f4-8047-d04c215a99a8",
   "metadata": {},
   "outputs": [
    {
     "data": {
      "text/plain": [
       "4"
      ]
     },
     "execution_count": 83,
     "metadata": {},
     "output_type": "execute_result"
    }
   ],
   "source": [
    "# 최소값\n",
    "np.min(arr1)"
   ]
  },
  {
   "cell_type": "code",
   "execution_count": 84,
   "id": "06175b9b-2f3f-4041-9d08-360a0e5c9897",
   "metadata": {},
   "outputs": [
    {
     "data": {
      "text/plain": [
       "0"
      ]
     },
     "execution_count": 84,
     "metadata": {},
     "output_type": "execute_result"
    }
   ],
   "source": [
    "# 최소값의 인덱스\n",
    "np.argmin(arr1)"
   ]
  },
  {
   "cell_type": "markdown",
   "id": "2cf932ff-f8c3-4f09-a2f1-bf45b7a7adf8",
   "metadata": {},
   "source": [
    "## Numpy로 생성한 ndarray - DataFrame으로 전환"
   ]
  },
  {
   "cell_type": "code",
   "execution_count": 50,
   "id": "696cbcf9-3e89-463f-bcd7-9aefc68885a7",
   "metadata": {},
   "outputs": [
    {
     "data": {
      "text/html": [
       "<div>\n",
       "<style scoped>\n",
       "    .dataframe tbody tr th:only-of-type {\n",
       "        vertical-align: middle;\n",
       "    }\n",
       "\n",
       "    .dataframe tbody tr th {\n",
       "        vertical-align: top;\n",
       "    }\n",
       "\n",
       "    .dataframe thead th {\n",
       "        text-align: right;\n",
       "    }\n",
       "</style>\n",
       "<table border=\"1\" class=\"dataframe\">\n",
       "  <thead>\n",
       "    <tr style=\"text-align: right;\">\n",
       "      <th></th>\n",
       "      <th>0</th>\n",
       "    </tr>\n",
       "  </thead>\n",
       "  <tbody>\n",
       "    <tr>\n",
       "      <th>count</th>\n",
       "      <td>13.000000</td>\n",
       "    </tr>\n",
       "    <tr>\n",
       "      <th>mean</th>\n",
       "      <td>19.384615</td>\n",
       "    </tr>\n",
       "    <tr>\n",
       "      <th>std</th>\n",
       "      <td>7.089176</td>\n",
       "    </tr>\n",
       "    <tr>\n",
       "      <th>min</th>\n",
       "      <td>4.000000</td>\n",
       "    </tr>\n",
       "    <tr>\n",
       "      <th>25%</th>\n",
       "      <td>16.000000</td>\n",
       "    </tr>\n",
       "    <tr>\n",
       "      <th>50%</th>\n",
       "      <td>24.000000</td>\n",
       "    </tr>\n",
       "    <tr>\n",
       "      <th>75%</th>\n",
       "      <td>24.000000</td>\n",
       "    </tr>\n",
       "    <tr>\n",
       "      <th>max</th>\n",
       "      <td>24.000000</td>\n",
       "    </tr>\n",
       "  </tbody>\n",
       "</table>\n",
       "</div>"
      ],
      "text/plain": [
       "               0\n",
       "count  13.000000\n",
       "mean   19.384615\n",
       "std     7.089176\n",
       "min     4.000000\n",
       "25%    16.000000\n",
       "50%    24.000000\n",
       "75%    24.000000\n",
       "max    24.000000"
      ]
     },
     "execution_count": 50,
     "metadata": {},
     "output_type": "execute_result"
    }
   ],
   "source": [
    "import pandas as pd\n",
    "# 값 추가해서 2차원 배열로 전환시키기\n",
    "arr5 = np.append(arr5, 24)\n",
    "arr5.shape\n",
    "\n",
    "arr5 = pd.DataFrame(arr5)\n",
    "arr5.describe()"
   ]
  },
  {
   "cell_type": "code",
   "execution_count": 57,
   "id": "0fc59909-00f0-424f-986a-0298a8da2e65",
   "metadata": {},
   "outputs": [
    {
     "data": {
      "text/plain": [
       "array([[ 4,  8, 12],\n",
       "       [16, 20, 24]])"
      ]
     },
     "execution_count": 57,
     "metadata": {},
     "output_type": "execute_result"
    }
   ],
   "source": [
    "arr1 = np.linspace(4, 24, num=6).astype(int).reshape(2, 3)\n",
    "arr1"
   ]
  },
  {
   "cell_type": "code",
   "execution_count": 58,
   "id": "4718ede2-ecf4-4d79-a02a-98b459e48da2",
   "metadata": {},
   "outputs": [
    {
     "data": {
      "text/html": [
       "<div>\n",
       "<style scoped>\n",
       "    .dataframe tbody tr th:only-of-type {\n",
       "        vertical-align: middle;\n",
       "    }\n",
       "\n",
       "    .dataframe tbody tr th {\n",
       "        vertical-align: top;\n",
       "    }\n",
       "\n",
       "    .dataframe thead th {\n",
       "        text-align: right;\n",
       "    }\n",
       "</style>\n",
       "<table border=\"1\" class=\"dataframe\">\n",
       "  <thead>\n",
       "    <tr style=\"text-align: right;\">\n",
       "      <th></th>\n",
       "      <th>0</th>\n",
       "      <th>1</th>\n",
       "      <th>2</th>\n",
       "    </tr>\n",
       "  </thead>\n",
       "  <tbody>\n",
       "    <tr>\n",
       "      <th>0</th>\n",
       "      <td>4</td>\n",
       "      <td>8</td>\n",
       "      <td>12</td>\n",
       "    </tr>\n",
       "    <tr>\n",
       "      <th>1</th>\n",
       "      <td>16</td>\n",
       "      <td>20</td>\n",
       "      <td>24</td>\n",
       "    </tr>\n",
       "  </tbody>\n",
       "</table>\n",
       "</div>"
      ],
      "text/plain": [
       "    0   1   2\n",
       "0   4   8  12\n",
       "1  16  20  24"
      ]
     },
     "execution_count": 58,
     "metadata": {},
     "output_type": "execute_result"
    }
   ],
   "source": [
    "pd.DataFrame(arr1)"
   ]
  },
  {
   "cell_type": "code",
   "execution_count": 87,
   "id": "e612bc59-e82b-4aec-8716-c044d971ff05",
   "metadata": {},
   "outputs": [],
   "source": [
    "# (2, 3) ndarray -> (3, 2) Dataframe으로 변환\n",
    "arr1T = np.transpose(arr1)"
   ]
  },
  {
   "cell_type": "code",
   "execution_count": 89,
   "id": "ddb8d42d-0c9b-4603-b841-43ae23feb859",
   "metadata": {},
   "outputs": [],
   "source": [
    "arr1T = pd.DataFrame(arr1T)"
   ]
  },
  {
   "cell_type": "code",
   "execution_count": 67,
   "id": "398aaec4-1ba1-417d-a426-4031c0721ea6",
   "metadata": {},
   "outputs": [
    {
     "data": {
      "text/html": [
       "<div>\n",
       "<style scoped>\n",
       "    .dataframe tbody tr th:only-of-type {\n",
       "        vertical-align: middle;\n",
       "    }\n",
       "\n",
       "    .dataframe tbody tr th {\n",
       "        vertical-align: top;\n",
       "    }\n",
       "\n",
       "    .dataframe thead th {\n",
       "        text-align: right;\n",
       "    }\n",
       "</style>\n",
       "<table border=\"1\" class=\"dataframe\">\n",
       "  <thead>\n",
       "    <tr style=\"text-align: right;\">\n",
       "      <th></th>\n",
       "      <th>0</th>\n",
       "      <th>1</th>\n",
       "    </tr>\n",
       "  </thead>\n",
       "  <tbody>\n",
       "    <tr>\n",
       "      <th>count</th>\n",
       "      <td>3.0</td>\n",
       "      <td>3.0</td>\n",
       "    </tr>\n",
       "    <tr>\n",
       "      <th>mean</th>\n",
       "      <td>8.0</td>\n",
       "      <td>20.0</td>\n",
       "    </tr>\n",
       "    <tr>\n",
       "      <th>std</th>\n",
       "      <td>4.0</td>\n",
       "      <td>4.0</td>\n",
       "    </tr>\n",
       "    <tr>\n",
       "      <th>min</th>\n",
       "      <td>4.0</td>\n",
       "      <td>16.0</td>\n",
       "    </tr>\n",
       "    <tr>\n",
       "      <th>25%</th>\n",
       "      <td>6.0</td>\n",
       "      <td>18.0</td>\n",
       "    </tr>\n",
       "    <tr>\n",
       "      <th>50%</th>\n",
       "      <td>8.0</td>\n",
       "      <td>20.0</td>\n",
       "    </tr>\n",
       "    <tr>\n",
       "      <th>75%</th>\n",
       "      <td>10.0</td>\n",
       "      <td>22.0</td>\n",
       "    </tr>\n",
       "    <tr>\n",
       "      <th>max</th>\n",
       "      <td>12.0</td>\n",
       "      <td>24.0</td>\n",
       "    </tr>\n",
       "  </tbody>\n",
       "</table>\n",
       "</div>"
      ],
      "text/plain": [
       "          0     1\n",
       "count   3.0   3.0\n",
       "mean    8.0  20.0\n",
       "std     4.0   4.0\n",
       "min     4.0  16.0\n",
       "25%     6.0  18.0\n",
       "50%     8.0  20.0\n",
       "75%    10.0  22.0\n",
       "max    12.0  24.0"
      ]
     },
     "execution_count": 67,
     "metadata": {},
     "output_type": "execute_result"
    }
   ],
   "source": [
    "arr1T.describe()"
   ]
  },
  {
   "cell_type": "code",
   "execution_count": 90,
   "id": "fed0c476-f442-4563-b81b-b8170f954cd7",
   "metadata": {},
   "outputs": [],
   "source": [
    "# df columns name 지정\n",
    "arr1T.rename(columns={0:'First', 1:'Second'}, inplace=True)"
   ]
  },
  {
   "cell_type": "code",
   "execution_count": 91,
   "id": "7b4c17ac-7f53-4849-94f0-bd4a113e8bd8",
   "metadata": {},
   "outputs": [
    {
     "data": {
      "text/html": [
       "<div>\n",
       "<style scoped>\n",
       "    .dataframe tbody tr th:only-of-type {\n",
       "        vertical-align: middle;\n",
       "    }\n",
       "\n",
       "    .dataframe tbody tr th {\n",
       "        vertical-align: top;\n",
       "    }\n",
       "\n",
       "    .dataframe thead th {\n",
       "        text-align: right;\n",
       "    }\n",
       "</style>\n",
       "<table border=\"1\" class=\"dataframe\">\n",
       "  <thead>\n",
       "    <tr style=\"text-align: right;\">\n",
       "      <th></th>\n",
       "      <th>First</th>\n",
       "      <th>Second</th>\n",
       "    </tr>\n",
       "  </thead>\n",
       "  <tbody>\n",
       "    <tr>\n",
       "      <th>One</th>\n",
       "      <td>4</td>\n",
       "      <td>16</td>\n",
       "    </tr>\n",
       "    <tr>\n",
       "      <th>Two</th>\n",
       "      <td>8</td>\n",
       "      <td>20</td>\n",
       "    </tr>\n",
       "    <tr>\n",
       "      <th>Three</th>\n",
       "      <td>12</td>\n",
       "      <td>24</td>\n",
       "    </tr>\n",
       "  </tbody>\n",
       "</table>\n",
       "</div>"
      ],
      "text/plain": [
       "       First  Second\n",
       "One        4      16\n",
       "Two        8      20\n",
       "Three     12      24"
      ]
     },
     "execution_count": 91,
     "metadata": {},
     "output_type": "execute_result"
    }
   ],
   "source": [
    "# df index name 지정\n",
    "# inplace=True를 주면 해당 객체에 반영, 안주면 결과로만 반환\n",
    "arr1T.rename(index={0:'One', 1:'Two', 2:'Three'}, inplace=True)\n",
    "arr1T"
   ]
  },
  {
   "cell_type": "markdown",
   "id": "b32b94a8-4851-410c-86b8-465537824fbd",
   "metadata": {},
   "source": [
    "## 저장"
   ]
  },
  {
   "cell_type": "code",
   "execution_count": 103,
   "id": "0c019d02-9eb5-4461-b50d-447f550479c7",
   "metadata": {},
   "outputs": [],
   "source": [
    "# 다차원 배열을 바이너리 형태로 저장,  -> .npy 확장자\n",
    "# 사람이 읽을 수 있는 형태는 아니지만\n",
    "# 빠른 속도로 불러오기가 가능한 형태\n",
    "np.save('arr1T', arr1T)"
   ]
  },
  {
   "cell_type": "code",
   "execution_count": 95,
   "id": "25a9df68-dd38-41e3-82c9-fee3224a3854",
   "metadata": {},
   "outputs": [],
   "source": [
    "# 불러오기\n",
    "# 꼭 .npy 확장자를 포함할 것\n",
    "loadArr = np.load('arr1T.npy')"
   ]
  },
  {
   "cell_type": "code",
   "execution_count": 96,
   "id": "b9e63c28-7434-49a3-aaa3-987088e68842",
   "metadata": {},
   "outputs": [
    {
     "data": {
      "text/plain": [
       "array([[ 4, 16],\n",
       "       [ 8, 20],\n",
       "       [12, 24]])"
      ]
     },
     "execution_count": 96,
     "metadata": {},
     "output_type": "execute_result"
    }
   ],
   "source": [
    "loadArr"
   ]
  },
  {
   "cell_type": "code",
   "execution_count": 102,
   "id": "e65f927d-5f92-4006-8b0a-c6da284de979",
   "metadata": {},
   "outputs": [
    {
     "data": {
      "text/plain": [
       "dtype('int32')"
      ]
     },
     "execution_count": 102,
     "metadata": {},
     "output_type": "execute_result"
    }
   ],
   "source": [
    "loadArr.dtype"
   ]
  },
  {
   "cell_type": "markdown",
   "id": "066f4a95-ba30-4900-8762-cfde42e5a6c4",
   "metadata": {},
   "source": [
    "# Pandas"
   ]
  },
  {
   "cell_type": "markdown",
   "id": "446a6abd-c0b7-4cf3-b590-56c07bd0cb05",
   "metadata": {},
   "source": [
    "## DataFrame 생성"
   ]
  },
  {
   "cell_type": "code",
   "execution_count": 112,
   "id": "0de739a9-f37c-424a-a866-b4efe086bad9",
   "metadata": {},
   "outputs": [
    {
     "data": {
      "text/html": [
       "<div>\n",
       "<style scoped>\n",
       "    .dataframe tbody tr th:only-of-type {\n",
       "        vertical-align: middle;\n",
       "    }\n",
       "\n",
       "    .dataframe tbody tr th {\n",
       "        vertical-align: top;\n",
       "    }\n",
       "\n",
       "    .dataframe thead th {\n",
       "        text-align: right;\n",
       "    }\n",
       "</style>\n",
       "<table border=\"1\" class=\"dataframe\">\n",
       "  <thead>\n",
       "    <tr style=\"text-align: right;\">\n",
       "      <th></th>\n",
       "      <th>이름</th>\n",
       "      <th>나이</th>\n",
       "    </tr>\n",
       "  </thead>\n",
       "  <tbody>\n",
       "    <tr>\n",
       "      <th>0</th>\n",
       "      <td>홍길동</td>\n",
       "      <td>26</td>\n",
       "    </tr>\n",
       "    <tr>\n",
       "      <th>1</th>\n",
       "      <td>김말자</td>\n",
       "      <td>27</td>\n",
       "    </tr>\n",
       "    <tr>\n",
       "      <th>2</th>\n",
       "      <td>황복순</td>\n",
       "      <td>28</td>\n",
       "    </tr>\n",
       "    <tr>\n",
       "      <th>3</th>\n",
       "      <td>오미자</td>\n",
       "      <td>29</td>\n",
       "    </tr>\n",
       "    <tr>\n",
       "      <th>4</th>\n",
       "      <td>최태균</td>\n",
       "      <td>30</td>\n",
       "    </tr>\n",
       "    <tr>\n",
       "      <th>5</th>\n",
       "      <td>구기자</td>\n",
       "      <td>31</td>\n",
       "    </tr>\n",
       "  </tbody>\n",
       "</table>\n",
       "</div>"
      ],
      "text/plain": [
       "    이름  나이\n",
       "0  홍길동  26\n",
       "1  김말자  27\n",
       "2  황복순  28\n",
       "3  오미자  29\n",
       "4  최태균  30\n",
       "5  구기자  31"
      ]
     },
     "execution_count": 112,
     "metadata": {},
     "output_type": "execute_result"
    }
   ],
   "source": [
    "# DataFrame 생성 시, \n",
    "# key에 해당하는 값이 column이 되고\n",
    "# value에 해당하는 밑으로 들어감\n",
    "data = {'이름':['홍길동', '김말자', '황복순', '오미자', '최태균', '구기자'],\n",
    "        '나이':range(26, 32)}\n",
    "df = pd.DataFrame(data)\n",
    "df"
   ]
  },
  {
   "cell_type": "code",
   "execution_count": 113,
   "id": "d9be3d80-353e-495e-9ea7-f16b32e36b7f",
   "metadata": {},
   "outputs": [],
   "source": [
    "# pd.DataFrame()의 인자로 index= 에 원하는 인덱스 값을 넣어 생성할 수 있음\n",
    "df = pd.DataFrame(data, index=[10, 11, 12, 13, 14, 15])"
   ]
  },
  {
   "cell_type": "code",
   "execution_count": 114,
   "id": "10b1263c-b277-470b-bd9c-adbf2a227e18",
   "metadata": {},
   "outputs": [
    {
     "data": {
      "text/html": [
       "<div>\n",
       "<style scoped>\n",
       "    .dataframe tbody tr th:only-of-type {\n",
       "        vertical-align: middle;\n",
       "    }\n",
       "\n",
       "    .dataframe tbody tr th {\n",
       "        vertical-align: top;\n",
       "    }\n",
       "\n",
       "    .dataframe thead th {\n",
       "        text-align: right;\n",
       "    }\n",
       "</style>\n",
       "<table border=\"1\" class=\"dataframe\">\n",
       "  <thead>\n",
       "    <tr style=\"text-align: right;\">\n",
       "      <th></th>\n",
       "      <th>이름</th>\n",
       "      <th>나이</th>\n",
       "    </tr>\n",
       "  </thead>\n",
       "  <tbody>\n",
       "    <tr>\n",
       "      <th>10</th>\n",
       "      <td>홍길동</td>\n",
       "      <td>26</td>\n",
       "    </tr>\n",
       "    <tr>\n",
       "      <th>11</th>\n",
       "      <td>김말자</td>\n",
       "      <td>27</td>\n",
       "    </tr>\n",
       "    <tr>\n",
       "      <th>12</th>\n",
       "      <td>황복순</td>\n",
       "      <td>28</td>\n",
       "    </tr>\n",
       "    <tr>\n",
       "      <th>13</th>\n",
       "      <td>오미자</td>\n",
       "      <td>29</td>\n",
       "    </tr>\n",
       "    <tr>\n",
       "      <th>14</th>\n",
       "      <td>최태균</td>\n",
       "      <td>30</td>\n",
       "    </tr>\n",
       "    <tr>\n",
       "      <th>15</th>\n",
       "      <td>구기자</td>\n",
       "      <td>31</td>\n",
       "    </tr>\n",
       "  </tbody>\n",
       "</table>\n",
       "</div>"
      ],
      "text/plain": [
       "     이름  나이\n",
       "10  홍길동  26\n",
       "11  김말자  27\n",
       "12  황복순  28\n",
       "13  오미자  29\n",
       "14  최태균  30\n",
       "15  구기자  31"
      ]
     },
     "execution_count": 114,
     "metadata": {},
     "output_type": "execute_result"
    }
   ],
   "source": [
    "df"
   ]
  },
  {
   "cell_type": "code",
   "execution_count": 124,
   "id": "ed3d5112-384d-4501-8786-174b2ffc4ff3",
   "metadata": {},
   "outputs": [
    {
     "data": {
      "text/html": [
       "<div>\n",
       "<style scoped>\n",
       "    .dataframe tbody tr th:only-of-type {\n",
       "        vertical-align: middle;\n",
       "    }\n",
       "\n",
       "    .dataframe tbody tr th {\n",
       "        vertical-align: top;\n",
       "    }\n",
       "\n",
       "    .dataframe thead th {\n",
       "        text-align: right;\n",
       "    }\n",
       "</style>\n",
       "<table border=\"1\" class=\"dataframe\">\n",
       "  <thead>\n",
       "    <tr style=\"text-align: right;\">\n",
       "      <th></th>\n",
       "      <th>sepal length (cm)</th>\n",
       "      <th>sepal width (cm)</th>\n",
       "      <th>petal length (cm)</th>\n",
       "      <th>petal width (cm)</th>\n",
       "      <th>target</th>\n",
       "    </tr>\n",
       "  </thead>\n",
       "  <tbody>\n",
       "    <tr>\n",
       "      <th>0</th>\n",
       "      <td>5.1</td>\n",
       "      <td>3.5</td>\n",
       "      <td>1.4</td>\n",
       "      <td>0.2</td>\n",
       "      <td>setosa</td>\n",
       "    </tr>\n",
       "    <tr>\n",
       "      <th>1</th>\n",
       "      <td>4.9</td>\n",
       "      <td>3.0</td>\n",
       "      <td>1.4</td>\n",
       "      <td>0.2</td>\n",
       "      <td>setosa</td>\n",
       "    </tr>\n",
       "    <tr>\n",
       "      <th>2</th>\n",
       "      <td>4.7</td>\n",
       "      <td>3.2</td>\n",
       "      <td>1.3</td>\n",
       "      <td>0.2</td>\n",
       "      <td>setosa</td>\n",
       "    </tr>\n",
       "    <tr>\n",
       "      <th>3</th>\n",
       "      <td>4.6</td>\n",
       "      <td>3.1</td>\n",
       "      <td>1.5</td>\n",
       "      <td>0.2</td>\n",
       "      <td>setosa</td>\n",
       "    </tr>\n",
       "    <tr>\n",
       "      <th>4</th>\n",
       "      <td>5.0</td>\n",
       "      <td>3.6</td>\n",
       "      <td>1.4</td>\n",
       "      <td>0.2</td>\n",
       "      <td>setosa</td>\n",
       "    </tr>\n",
       "    <tr>\n",
       "      <th>...</th>\n",
       "      <td>...</td>\n",
       "      <td>...</td>\n",
       "      <td>...</td>\n",
       "      <td>...</td>\n",
       "      <td>...</td>\n",
       "    </tr>\n",
       "    <tr>\n",
       "      <th>145</th>\n",
       "      <td>6.7</td>\n",
       "      <td>3.0</td>\n",
       "      <td>5.2</td>\n",
       "      <td>2.3</td>\n",
       "      <td>virginica</td>\n",
       "    </tr>\n",
       "    <tr>\n",
       "      <th>146</th>\n",
       "      <td>6.3</td>\n",
       "      <td>2.5</td>\n",
       "      <td>5.0</td>\n",
       "      <td>1.9</td>\n",
       "      <td>virginica</td>\n",
       "    </tr>\n",
       "    <tr>\n",
       "      <th>147</th>\n",
       "      <td>6.5</td>\n",
       "      <td>3.0</td>\n",
       "      <td>5.2</td>\n",
       "      <td>2.0</td>\n",
       "      <td>virginica</td>\n",
       "    </tr>\n",
       "    <tr>\n",
       "      <th>148</th>\n",
       "      <td>6.2</td>\n",
       "      <td>3.4</td>\n",
       "      <td>5.4</td>\n",
       "      <td>2.3</td>\n",
       "      <td>virginica</td>\n",
       "    </tr>\n",
       "    <tr>\n",
       "      <th>149</th>\n",
       "      <td>5.9</td>\n",
       "      <td>3.0</td>\n",
       "      <td>5.1</td>\n",
       "      <td>1.8</td>\n",
       "      <td>virginica</td>\n",
       "    </tr>\n",
       "  </tbody>\n",
       "</table>\n",
       "<p>150 rows × 5 columns</p>\n",
       "</div>"
      ],
      "text/plain": [
       "     sepal length (cm)  sepal width (cm)  petal length (cm)  petal width (cm)  \\\n",
       "0                  5.1               3.5                1.4               0.2   \n",
       "1                  4.9               3.0                1.4               0.2   \n",
       "2                  4.7               3.2                1.3               0.2   \n",
       "3                  4.6               3.1                1.5               0.2   \n",
       "4                  5.0               3.6                1.4               0.2   \n",
       "..                 ...               ...                ...               ...   \n",
       "145                6.7               3.0                5.2               2.3   \n",
       "146                6.3               2.5                5.0               1.9   \n",
       "147                6.5               3.0                5.2               2.0   \n",
       "148                6.2               3.4                5.4               2.3   \n",
       "149                5.9               3.0                5.1               1.8   \n",
       "\n",
       "        target  \n",
       "0       setosa  \n",
       "1       setosa  \n",
       "2       setosa  \n",
       "3       setosa  \n",
       "4       setosa  \n",
       "..         ...  \n",
       "145  virginica  \n",
       "146  virginica  \n",
       "147  virginica  \n",
       "148  virginica  \n",
       "149  virginica  \n",
       "\n",
       "[150 rows x 5 columns]"
      ]
     },
     "execution_count": 124,
     "metadata": {},
     "output_type": "execute_result"
    }
   ],
   "source": [
    "# scikit-learn iris_datasets 가져와서 생성하기\n",
    "from sklearn.datasets import load_iris\n",
    "iris = load_iris()\n",
    "iris_data = pd.DataFrame(data=np.c_[iris['data'], iris['target']], columns=iris['feature_names']+['target'])\n",
    "iris_data['target'] = iris_data['target'].map({0:\"setosa\", 1:\"versicolor\", 2:\"virginica\"})\n",
    "\n",
    "# X_data : 구분에 실제로 사용하는 데이터\n",
    "# Y_data : 구분 결과가 정확한지 맞춰볼 target 데이터\n",
    "X_data = iris_data.iloc[:, :-1]\n",
    "Y_data = iris_data.iloc[:, [-1]]\n",
    "\n",
    "iris_data"
   ]
  },
  {
   "cell_type": "code",
   "execution_count": null,
   "id": "4f7c6291-e3eb-410a-a0fb-7aec561ce47a",
   "metadata": {},
   "outputs": [],
   "source": [
    "\"\"\"\n",
    "csv 파일 읽어와서 생성하는 경우\n",
    "read_csv() 함수로 읽어옴\n",
    "\n",
    "faram :\n",
    "파일 경로 및 이름 : \n",
    "sep, delimiter : 데이터가 어떤 문자열로 구분되어있는지 표시함. csv = ,\n",
    "header : 컬럼 이름으로 사용할 로우 번호, 기본값은 0(첫 번째 로우)\n",
    "names : 컬럼 이름으로 사용할 리스트 설정\n",
    "index_col : 인덱스 컬럼의 여부, True로 지정하면 0~n에 해당하는 인덱스를 추가해줌\n",
    "encoding : csv파일의 인코딩 방식을 지정. 인코딩 방식이 한글을 나타내는 데 알맞지 않으면 깨진 채로 로드됨\n",
    "           \"EUC-KR\"이나 \"UTF-8\" 사용\n",
    "\"\"\""
   ]
  },
  {
   "cell_type": "markdown",
   "id": "13f761be-15b9-4cbb-95af-95fa88395fd4",
   "metadata": {},
   "source": [
    "## 데이터 탐색"
   ]
  },
  {
   "cell_type": "code",
   "execution_count": 125,
   "id": "ac936172-0e1e-4c75-a780-6205c1ce48ba",
   "metadata": {},
   "outputs": [
    {
     "data": {
      "text/html": [
       "<div>\n",
       "<style scoped>\n",
       "    .dataframe tbody tr th:only-of-type {\n",
       "        vertical-align: middle;\n",
       "    }\n",
       "\n",
       "    .dataframe tbody tr th {\n",
       "        vertical-align: top;\n",
       "    }\n",
       "\n",
       "    .dataframe thead th {\n",
       "        text-align: right;\n",
       "    }\n",
       "</style>\n",
       "<table border=\"1\" class=\"dataframe\">\n",
       "  <thead>\n",
       "    <tr style=\"text-align: right;\">\n",
       "      <th></th>\n",
       "      <th>sepal length (cm)</th>\n",
       "      <th>sepal width (cm)</th>\n",
       "      <th>petal length (cm)</th>\n",
       "      <th>petal width (cm)</th>\n",
       "      <th>target</th>\n",
       "    </tr>\n",
       "  </thead>\n",
       "  <tbody>\n",
       "    <tr>\n",
       "      <th>0</th>\n",
       "      <td>5.1</td>\n",
       "      <td>3.5</td>\n",
       "      <td>1.4</td>\n",
       "      <td>0.2</td>\n",
       "      <td>setosa</td>\n",
       "    </tr>\n",
       "    <tr>\n",
       "      <th>1</th>\n",
       "      <td>4.9</td>\n",
       "      <td>3.0</td>\n",
       "      <td>1.4</td>\n",
       "      <td>0.2</td>\n",
       "      <td>setosa</td>\n",
       "    </tr>\n",
       "    <tr>\n",
       "      <th>2</th>\n",
       "      <td>4.7</td>\n",
       "      <td>3.2</td>\n",
       "      <td>1.3</td>\n",
       "      <td>0.2</td>\n",
       "      <td>setosa</td>\n",
       "    </tr>\n",
       "    <tr>\n",
       "      <th>3</th>\n",
       "      <td>4.6</td>\n",
       "      <td>3.1</td>\n",
       "      <td>1.5</td>\n",
       "      <td>0.2</td>\n",
       "      <td>setosa</td>\n",
       "    </tr>\n",
       "    <tr>\n",
       "      <th>4</th>\n",
       "      <td>5.0</td>\n",
       "      <td>3.6</td>\n",
       "      <td>1.4</td>\n",
       "      <td>0.2</td>\n",
       "      <td>setosa</td>\n",
       "    </tr>\n",
       "    <tr>\n",
       "      <th>...</th>\n",
       "      <td>...</td>\n",
       "      <td>...</td>\n",
       "      <td>...</td>\n",
       "      <td>...</td>\n",
       "      <td>...</td>\n",
       "    </tr>\n",
       "    <tr>\n",
       "      <th>145</th>\n",
       "      <td>6.7</td>\n",
       "      <td>3.0</td>\n",
       "      <td>5.2</td>\n",
       "      <td>2.3</td>\n",
       "      <td>virginica</td>\n",
       "    </tr>\n",
       "    <tr>\n",
       "      <th>146</th>\n",
       "      <td>6.3</td>\n",
       "      <td>2.5</td>\n",
       "      <td>5.0</td>\n",
       "      <td>1.9</td>\n",
       "      <td>virginica</td>\n",
       "    </tr>\n",
       "    <tr>\n",
       "      <th>147</th>\n",
       "      <td>6.5</td>\n",
       "      <td>3.0</td>\n",
       "      <td>5.2</td>\n",
       "      <td>2.0</td>\n",
       "      <td>virginica</td>\n",
       "    </tr>\n",
       "    <tr>\n",
       "      <th>148</th>\n",
       "      <td>6.2</td>\n",
       "      <td>3.4</td>\n",
       "      <td>5.4</td>\n",
       "      <td>2.3</td>\n",
       "      <td>virginica</td>\n",
       "    </tr>\n",
       "    <tr>\n",
       "      <th>149</th>\n",
       "      <td>5.9</td>\n",
       "      <td>3.0</td>\n",
       "      <td>5.1</td>\n",
       "      <td>1.8</td>\n",
       "      <td>virginica</td>\n",
       "    </tr>\n",
       "  </tbody>\n",
       "</table>\n",
       "<p>150 rows × 5 columns</p>\n",
       "</div>"
      ],
      "text/plain": [
       "     sepal length (cm)  sepal width (cm)  petal length (cm)  petal width (cm)  \\\n",
       "0                  5.1               3.5                1.4               0.2   \n",
       "1                  4.9               3.0                1.4               0.2   \n",
       "2                  4.7               3.2                1.3               0.2   \n",
       "3                  4.6               3.1                1.5               0.2   \n",
       "4                  5.0               3.6                1.4               0.2   \n",
       "..                 ...               ...                ...               ...   \n",
       "145                6.7               3.0                5.2               2.3   \n",
       "146                6.3               2.5                5.0               1.9   \n",
       "147                6.5               3.0                5.2               2.0   \n",
       "148                6.2               3.4                5.4               2.3   \n",
       "149                5.9               3.0                5.1               1.8   \n",
       "\n",
       "        target  \n",
       "0       setosa  \n",
       "1       setosa  \n",
       "2       setosa  \n",
       "3       setosa  \n",
       "4       setosa  \n",
       "..         ...  \n",
       "145  virginica  \n",
       "146  virginica  \n",
       "147  virginica  \n",
       "148  virginica  \n",
       "149  virginica  \n",
       "\n",
       "[150 rows x 5 columns]"
      ]
     },
     "execution_count": 125,
     "metadata": {},
     "output_type": "execute_result"
    }
   ],
   "source": [
    "df = iris_data\n",
    "df"
   ]
  },
  {
   "cell_type": "code",
   "execution_count": 126,
   "id": "5af09a2c-8a2f-4222-8a59-e6d27af275c9",
   "metadata": {},
   "outputs": [
    {
     "data": {
      "text/html": [
       "<div>\n",
       "<style scoped>\n",
       "    .dataframe tbody tr th:only-of-type {\n",
       "        vertical-align: middle;\n",
       "    }\n",
       "\n",
       "    .dataframe tbody tr th {\n",
       "        vertical-align: top;\n",
       "    }\n",
       "\n",
       "    .dataframe thead th {\n",
       "        text-align: right;\n",
       "    }\n",
       "</style>\n",
       "<table border=\"1\" class=\"dataframe\">\n",
       "  <thead>\n",
       "    <tr style=\"text-align: right;\">\n",
       "      <th></th>\n",
       "      <th>sepal length (cm)</th>\n",
       "      <th>sepal width (cm)</th>\n",
       "      <th>petal length (cm)</th>\n",
       "      <th>petal width (cm)</th>\n",
       "      <th>target</th>\n",
       "    </tr>\n",
       "  </thead>\n",
       "  <tbody>\n",
       "    <tr>\n",
       "      <th>0</th>\n",
       "      <td>5.1</td>\n",
       "      <td>3.5</td>\n",
       "      <td>1.4</td>\n",
       "      <td>0.2</td>\n",
       "      <td>setosa</td>\n",
       "    </tr>\n",
       "    <tr>\n",
       "      <th>1</th>\n",
       "      <td>4.9</td>\n",
       "      <td>3.0</td>\n",
       "      <td>1.4</td>\n",
       "      <td>0.2</td>\n",
       "      <td>setosa</td>\n",
       "    </tr>\n",
       "    <tr>\n",
       "      <th>2</th>\n",
       "      <td>4.7</td>\n",
       "      <td>3.2</td>\n",
       "      <td>1.3</td>\n",
       "      <td>0.2</td>\n",
       "      <td>setosa</td>\n",
       "    </tr>\n",
       "    <tr>\n",
       "      <th>3</th>\n",
       "      <td>4.6</td>\n",
       "      <td>3.1</td>\n",
       "      <td>1.5</td>\n",
       "      <td>0.2</td>\n",
       "      <td>setosa</td>\n",
       "    </tr>\n",
       "    <tr>\n",
       "      <th>4</th>\n",
       "      <td>5.0</td>\n",
       "      <td>3.6</td>\n",
       "      <td>1.4</td>\n",
       "      <td>0.2</td>\n",
       "      <td>setosa</td>\n",
       "    </tr>\n",
       "  </tbody>\n",
       "</table>\n",
       "</div>"
      ],
      "text/plain": [
       "   sepal length (cm)  sepal width (cm)  petal length (cm)  petal width (cm)  \\\n",
       "0                5.1               3.5                1.4               0.2   \n",
       "1                4.9               3.0                1.4               0.2   \n",
       "2                4.7               3.2                1.3               0.2   \n",
       "3                4.6               3.1                1.5               0.2   \n",
       "4                5.0               3.6                1.4               0.2   \n",
       "\n",
       "   target  \n",
       "0  setosa  \n",
       "1  setosa  \n",
       "2  setosa  \n",
       "3  setosa  \n",
       "4  setosa  "
      ]
     },
     "execution_count": 126,
     "metadata": {},
     "output_type": "execute_result"
    }
   ],
   "source": [
    "# 지정 개수 상위 로우 확인\n",
    "df.head()"
   ]
  },
  {
   "cell_type": "code",
   "execution_count": 127,
   "id": "478ed63e-e8d6-4236-95b6-9a6b885816e5",
   "metadata": {},
   "outputs": [
    {
     "data": {
      "text/html": [
       "<div>\n",
       "<style scoped>\n",
       "    .dataframe tbody tr th:only-of-type {\n",
       "        vertical-align: middle;\n",
       "    }\n",
       "\n",
       "    .dataframe tbody tr th {\n",
       "        vertical-align: top;\n",
       "    }\n",
       "\n",
       "    .dataframe thead th {\n",
       "        text-align: right;\n",
       "    }\n",
       "</style>\n",
       "<table border=\"1\" class=\"dataframe\">\n",
       "  <thead>\n",
       "    <tr style=\"text-align: right;\">\n",
       "      <th></th>\n",
       "      <th>sepal length (cm)</th>\n",
       "      <th>sepal width (cm)</th>\n",
       "      <th>petal length (cm)</th>\n",
       "      <th>petal width (cm)</th>\n",
       "      <th>target</th>\n",
       "    </tr>\n",
       "  </thead>\n",
       "  <tbody>\n",
       "    <tr>\n",
       "      <th>145</th>\n",
       "      <td>6.7</td>\n",
       "      <td>3.0</td>\n",
       "      <td>5.2</td>\n",
       "      <td>2.3</td>\n",
       "      <td>virginica</td>\n",
       "    </tr>\n",
       "    <tr>\n",
       "      <th>146</th>\n",
       "      <td>6.3</td>\n",
       "      <td>2.5</td>\n",
       "      <td>5.0</td>\n",
       "      <td>1.9</td>\n",
       "      <td>virginica</td>\n",
       "    </tr>\n",
       "    <tr>\n",
       "      <th>147</th>\n",
       "      <td>6.5</td>\n",
       "      <td>3.0</td>\n",
       "      <td>5.2</td>\n",
       "      <td>2.0</td>\n",
       "      <td>virginica</td>\n",
       "    </tr>\n",
       "    <tr>\n",
       "      <th>148</th>\n",
       "      <td>6.2</td>\n",
       "      <td>3.4</td>\n",
       "      <td>5.4</td>\n",
       "      <td>2.3</td>\n",
       "      <td>virginica</td>\n",
       "    </tr>\n",
       "    <tr>\n",
       "      <th>149</th>\n",
       "      <td>5.9</td>\n",
       "      <td>3.0</td>\n",
       "      <td>5.1</td>\n",
       "      <td>1.8</td>\n",
       "      <td>virginica</td>\n",
       "    </tr>\n",
       "  </tbody>\n",
       "</table>\n",
       "</div>"
      ],
      "text/plain": [
       "     sepal length (cm)  sepal width (cm)  petal length (cm)  petal width (cm)  \\\n",
       "145                6.7               3.0                5.2               2.3   \n",
       "146                6.3               2.5                5.0               1.9   \n",
       "147                6.5               3.0                5.2               2.0   \n",
       "148                6.2               3.4                5.4               2.3   \n",
       "149                5.9               3.0                5.1               1.8   \n",
       "\n",
       "        target  \n",
       "145  virginica  \n",
       "146  virginica  \n",
       "147  virginica  \n",
       "148  virginica  \n",
       "149  virginica  "
      ]
     },
     "execution_count": 127,
     "metadata": {},
     "output_type": "execute_result"
    }
   ],
   "source": [
    "# 지정 개수 하위 로우 확인\n",
    "df.tail()"
   ]
  },
  {
   "cell_type": "code",
   "execution_count": 131,
   "id": "76b9fc9e-aeb3-4124-a091-dec118e06432",
   "metadata": {},
   "outputs": [
    {
     "data": {
      "text/plain": [
       "(150, 5)"
      ]
     },
     "execution_count": 131,
     "metadata": {},
     "output_type": "execute_result"
    }
   ],
   "source": [
    "# numpy ndarray와 같이 shape로 형태 확인 가능\n",
    "# shape는 DataFrame 클래스 내에 작성된 함수가 아니라 선언된 데이터이므로 () 없이 불러오는 객체임\n",
    "df.shape"
   ]
  },
  {
   "cell_type": "code",
   "execution_count": 130,
   "id": "1965e709-8d90-4a03-babc-ec24cf887e52",
   "metadata": {},
   "outputs": [
    {
     "data": {
      "text/html": [
       "<div>\n",
       "<style scoped>\n",
       "    .dataframe tbody tr th:only-of-type {\n",
       "        vertical-align: middle;\n",
       "    }\n",
       "\n",
       "    .dataframe tbody tr th {\n",
       "        vertical-align: top;\n",
       "    }\n",
       "\n",
       "    .dataframe thead th {\n",
       "        text-align: right;\n",
       "    }\n",
       "</style>\n",
       "<table border=\"1\" class=\"dataframe\">\n",
       "  <thead>\n",
       "    <tr style=\"text-align: right;\">\n",
       "      <th></th>\n",
       "      <th>sepal length (cm)</th>\n",
       "      <th>sepal width (cm)</th>\n",
       "      <th>petal length (cm)</th>\n",
       "      <th>petal width (cm)</th>\n",
       "    </tr>\n",
       "  </thead>\n",
       "  <tbody>\n",
       "    <tr>\n",
       "      <th>count</th>\n",
       "      <td>150.000000</td>\n",
       "      <td>150.000000</td>\n",
       "      <td>150.000000</td>\n",
       "      <td>150.000000</td>\n",
       "    </tr>\n",
       "    <tr>\n",
       "      <th>mean</th>\n",
       "      <td>5.843333</td>\n",
       "      <td>3.057333</td>\n",
       "      <td>3.758000</td>\n",
       "      <td>1.199333</td>\n",
       "    </tr>\n",
       "    <tr>\n",
       "      <th>std</th>\n",
       "      <td>0.828066</td>\n",
       "      <td>0.435866</td>\n",
       "      <td>1.765298</td>\n",
       "      <td>0.762238</td>\n",
       "    </tr>\n",
       "    <tr>\n",
       "      <th>min</th>\n",
       "      <td>4.300000</td>\n",
       "      <td>2.000000</td>\n",
       "      <td>1.000000</td>\n",
       "      <td>0.100000</td>\n",
       "    </tr>\n",
       "    <tr>\n",
       "      <th>25%</th>\n",
       "      <td>5.100000</td>\n",
       "      <td>2.800000</td>\n",
       "      <td>1.600000</td>\n",
       "      <td>0.300000</td>\n",
       "    </tr>\n",
       "    <tr>\n",
       "      <th>50%</th>\n",
       "      <td>5.800000</td>\n",
       "      <td>3.000000</td>\n",
       "      <td>4.350000</td>\n",
       "      <td>1.300000</td>\n",
       "    </tr>\n",
       "    <tr>\n",
       "      <th>75%</th>\n",
       "      <td>6.400000</td>\n",
       "      <td>3.300000</td>\n",
       "      <td>5.100000</td>\n",
       "      <td>1.800000</td>\n",
       "    </tr>\n",
       "    <tr>\n",
       "      <th>max</th>\n",
       "      <td>7.900000</td>\n",
       "      <td>4.400000</td>\n",
       "      <td>6.900000</td>\n",
       "      <td>2.500000</td>\n",
       "    </tr>\n",
       "  </tbody>\n",
       "</table>\n",
       "</div>"
      ],
      "text/plain": [
       "       sepal length (cm)  sepal width (cm)  petal length (cm)  \\\n",
       "count         150.000000        150.000000         150.000000   \n",
       "mean            5.843333          3.057333           3.758000   \n",
       "std             0.828066          0.435866           1.765298   \n",
       "min             4.300000          2.000000           1.000000   \n",
       "25%             5.100000          2.800000           1.600000   \n",
       "50%             5.800000          3.000000           4.350000   \n",
       "75%             6.400000          3.300000           5.100000   \n",
       "max             7.900000          4.400000           6.900000   \n",
       "\n",
       "       petal width (cm)  \n",
       "count        150.000000  \n",
       "mean           1.199333  \n",
       "std            0.762238  \n",
       "min            0.100000  \n",
       "25%            0.300000  \n",
       "50%            1.300000  \n",
       "75%            1.800000  \n",
       "max            2.500000  "
      ]
     },
     "execution_count": 130,
     "metadata": {},
     "output_type": "execute_result"
    }
   ],
   "source": [
    "# 주요 통계지표 확인\n",
    "df.describe()"
   ]
  },
  {
   "cell_type": "code",
   "execution_count": 133,
   "id": "266cf6c4-ee74-476e-a13b-19d8dfa8d42b",
   "metadata": {},
   "outputs": [
    {
     "name": "stdout",
     "output_type": "stream",
     "text": [
      "<class 'pandas.core.frame.DataFrame'>\n",
      "RangeIndex: 150 entries, 0 to 149\n",
      "Data columns (total 5 columns):\n",
      " #   Column             Non-Null Count  Dtype  \n",
      "---  ------             --------------  -----  \n",
      " 0   sepal length (cm)  150 non-null    float64\n",
      " 1   sepal width (cm)   150 non-null    float64\n",
      " 2   petal length (cm)  150 non-null    float64\n",
      " 3   petal width (cm)   150 non-null    float64\n",
      " 4   target             150 non-null    object \n",
      "dtypes: float64(4), object(1)\n",
      "memory usage: 6.0+ KB\n"
     ]
    }
   ],
   "source": [
    "# DataFrame 주요 정보 확인\n",
    "# 인덱스, 컬럼, 결측치 개수, 데이터타입 확인 가능\n",
    "df.info()"
   ]
  },
  {
   "cell_type": "code",
   "execution_count": 135,
   "id": "7e8b5b46-ceb9-4bbe-94ff-6304c54ad6dd",
   "metadata": {},
   "outputs": [
    {
     "data": {
      "text/plain": [
       "array(['setosa', 'versicolor', 'virginica'], dtype=object)"
      ]
     },
     "execution_count": 135,
     "metadata": {},
     "output_type": "execute_result"
    }
   ],
   "source": [
    "# unique() 함수\n",
    "# 컬럼에서 중복값 제거하고 유일한 값을 반환하므로,\n",
    "# 카테고리(factor 등) 데이터의 도메인값을 확인할 수 있음\n",
    "df['target'].unique()"
   ]
  },
  {
   "cell_type": "code",
   "execution_count": 136,
   "id": "558020fd-5660-4454-ba06-ca923ad0a722",
   "metadata": {},
   "outputs": [
    {
     "data": {
      "text/plain": [
       "setosa        50\n",
       "versicolor    50\n",
       "virginica     50\n",
       "Name: target, dtype: int64"
      ]
     },
     "execution_count": 136,
     "metadata": {},
     "output_type": "execute_result"
    }
   ],
   "source": [
    "# 각 데이터가 몇 개 포함되어있는지 count\n",
    "df['target'].value_counts()"
   ]
  },
  {
   "cell_type": "markdown",
   "id": "b2d47bb7-71e9-4445-b054-3e266b8fd07d",
   "metadata": {},
   "source": [
    "## 데이터 정렬"
   ]
  },
  {
   "cell_type": "code",
   "execution_count": 139,
   "id": "ddc8cd19-e6b6-4c51-897d-bbbd6a7c2b09",
   "metadata": {},
   "outputs": [
    {
     "data": {
      "text/html": [
       "<div>\n",
       "<style scoped>\n",
       "    .dataframe tbody tr th:only-of-type {\n",
       "        vertical-align: middle;\n",
       "    }\n",
       "\n",
       "    .dataframe tbody tr th {\n",
       "        vertical-align: top;\n",
       "    }\n",
       "\n",
       "    .dataframe thead th {\n",
       "        text-align: right;\n",
       "    }\n",
       "</style>\n",
       "<table border=\"1\" class=\"dataframe\">\n",
       "  <thead>\n",
       "    <tr style=\"text-align: right;\">\n",
       "      <th></th>\n",
       "      <th>꽃받침 길이</th>\n",
       "      <th>꽃받침 너비</th>\n",
       "      <th>꽃잎 길이</th>\n",
       "      <th>꽃잎 너비</th>\n",
       "      <th>target</th>\n",
       "    </tr>\n",
       "  </thead>\n",
       "  <tbody>\n",
       "    <tr>\n",
       "      <th>0</th>\n",
       "      <td>5.1</td>\n",
       "      <td>3.5</td>\n",
       "      <td>1.4</td>\n",
       "      <td>0.2</td>\n",
       "      <td>setosa</td>\n",
       "    </tr>\n",
       "    <tr>\n",
       "      <th>1</th>\n",
       "      <td>4.9</td>\n",
       "      <td>3.0</td>\n",
       "      <td>1.4</td>\n",
       "      <td>0.2</td>\n",
       "      <td>setosa</td>\n",
       "    </tr>\n",
       "    <tr>\n",
       "      <th>2</th>\n",
       "      <td>4.7</td>\n",
       "      <td>3.2</td>\n",
       "      <td>1.3</td>\n",
       "      <td>0.2</td>\n",
       "      <td>setosa</td>\n",
       "    </tr>\n",
       "    <tr>\n",
       "      <th>3</th>\n",
       "      <td>4.6</td>\n",
       "      <td>3.1</td>\n",
       "      <td>1.5</td>\n",
       "      <td>0.2</td>\n",
       "      <td>setosa</td>\n",
       "    </tr>\n",
       "    <tr>\n",
       "      <th>4</th>\n",
       "      <td>5.0</td>\n",
       "      <td>3.6</td>\n",
       "      <td>1.4</td>\n",
       "      <td>0.2</td>\n",
       "      <td>setosa</td>\n",
       "    </tr>\n",
       "    <tr>\n",
       "      <th>...</th>\n",
       "      <td>...</td>\n",
       "      <td>...</td>\n",
       "      <td>...</td>\n",
       "      <td>...</td>\n",
       "      <td>...</td>\n",
       "    </tr>\n",
       "    <tr>\n",
       "      <th>145</th>\n",
       "      <td>6.7</td>\n",
       "      <td>3.0</td>\n",
       "      <td>5.2</td>\n",
       "      <td>2.3</td>\n",
       "      <td>virginica</td>\n",
       "    </tr>\n",
       "    <tr>\n",
       "      <th>146</th>\n",
       "      <td>6.3</td>\n",
       "      <td>2.5</td>\n",
       "      <td>5.0</td>\n",
       "      <td>1.9</td>\n",
       "      <td>virginica</td>\n",
       "    </tr>\n",
       "    <tr>\n",
       "      <th>147</th>\n",
       "      <td>6.5</td>\n",
       "      <td>3.0</td>\n",
       "      <td>5.2</td>\n",
       "      <td>2.0</td>\n",
       "      <td>virginica</td>\n",
       "    </tr>\n",
       "    <tr>\n",
       "      <th>148</th>\n",
       "      <td>6.2</td>\n",
       "      <td>3.4</td>\n",
       "      <td>5.4</td>\n",
       "      <td>2.3</td>\n",
       "      <td>virginica</td>\n",
       "    </tr>\n",
       "    <tr>\n",
       "      <th>149</th>\n",
       "      <td>5.9</td>\n",
       "      <td>3.0</td>\n",
       "      <td>5.1</td>\n",
       "      <td>1.8</td>\n",
       "      <td>virginica</td>\n",
       "    </tr>\n",
       "  </tbody>\n",
       "</table>\n",
       "<p>150 rows × 5 columns</p>\n",
       "</div>"
      ],
      "text/plain": [
       "     꽃받침 길이  꽃받침 너비  꽃잎 길이  꽃잎 너비     target\n",
       "0       5.1     3.5    1.4    0.2     setosa\n",
       "1       4.9     3.0    1.4    0.2     setosa\n",
       "2       4.7     3.2    1.3    0.2     setosa\n",
       "3       4.6     3.1    1.5    0.2     setosa\n",
       "4       5.0     3.6    1.4    0.2     setosa\n",
       "..      ...     ...    ...    ...        ...\n",
       "145     6.7     3.0    5.2    2.3  virginica\n",
       "146     6.3     2.5    5.0    1.9  virginica\n",
       "147     6.5     3.0    5.2    2.0  virginica\n",
       "148     6.2     3.4    5.4    2.3  virginica\n",
       "149     5.9     3.0    5.1    1.8  virginica\n",
       "\n",
       "[150 rows x 5 columns]"
      ]
     },
     "execution_count": 139,
     "metadata": {},
     "output_type": "execute_result"
    }
   ],
   "source": [
    "# 컬럼명 가독성 좋게 바꿈\n",
    "df.rename(columns={'sepal length (cm)':'꽃받침 길이', 'sepal width (cm)':'꽃받침 너비', 'petal length (cm)':'꽃잎 길이', 'petal width (cm)':'꽃잎 너비'}, inplace=True)\n",
    "df"
   ]
  },
  {
   "cell_type": "code",
   "execution_count": 140,
   "id": "03b6ea3a-9a99-4df3-af17-7255417788c2",
   "metadata": {},
   "outputs": [
    {
     "data": {
      "text/html": [
       "<div>\n",
       "<style scoped>\n",
       "    .dataframe tbody tr th:only-of-type {\n",
       "        vertical-align: middle;\n",
       "    }\n",
       "\n",
       "    .dataframe tbody tr th {\n",
       "        vertical-align: top;\n",
       "    }\n",
       "\n",
       "    .dataframe thead th {\n",
       "        text-align: right;\n",
       "    }\n",
       "</style>\n",
       "<table border=\"1\" class=\"dataframe\">\n",
       "  <thead>\n",
       "    <tr style=\"text-align: right;\">\n",
       "      <th></th>\n",
       "      <th>꽃받침 길이</th>\n",
       "      <th>꽃받침 너비</th>\n",
       "      <th>꽃잎 길이</th>\n",
       "      <th>꽃잎 너비</th>\n",
       "      <th>target</th>\n",
       "    </tr>\n",
       "  </thead>\n",
       "  <tbody>\n",
       "    <tr>\n",
       "      <th>22</th>\n",
       "      <td>4.6</td>\n",
       "      <td>3.6</td>\n",
       "      <td>1.0</td>\n",
       "      <td>0.2</td>\n",
       "      <td>setosa</td>\n",
       "    </tr>\n",
       "    <tr>\n",
       "      <th>13</th>\n",
       "      <td>4.3</td>\n",
       "      <td>3.0</td>\n",
       "      <td>1.1</td>\n",
       "      <td>0.1</td>\n",
       "      <td>setosa</td>\n",
       "    </tr>\n",
       "    <tr>\n",
       "      <th>14</th>\n",
       "      <td>5.8</td>\n",
       "      <td>4.0</td>\n",
       "      <td>1.2</td>\n",
       "      <td>0.2</td>\n",
       "      <td>setosa</td>\n",
       "    </tr>\n",
       "    <tr>\n",
       "      <th>35</th>\n",
       "      <td>5.0</td>\n",
       "      <td>3.2</td>\n",
       "      <td>1.2</td>\n",
       "      <td>0.2</td>\n",
       "      <td>setosa</td>\n",
       "    </tr>\n",
       "    <tr>\n",
       "      <th>36</th>\n",
       "      <td>5.5</td>\n",
       "      <td>3.5</td>\n",
       "      <td>1.3</td>\n",
       "      <td>0.2</td>\n",
       "      <td>setosa</td>\n",
       "    </tr>\n",
       "    <tr>\n",
       "      <th>...</th>\n",
       "      <td>...</td>\n",
       "      <td>...</td>\n",
       "      <td>...</td>\n",
       "      <td>...</td>\n",
       "      <td>...</td>\n",
       "    </tr>\n",
       "    <tr>\n",
       "      <th>131</th>\n",
       "      <td>7.9</td>\n",
       "      <td>3.8</td>\n",
       "      <td>6.4</td>\n",
       "      <td>2.0</td>\n",
       "      <td>virginica</td>\n",
       "    </tr>\n",
       "    <tr>\n",
       "      <th>105</th>\n",
       "      <td>7.6</td>\n",
       "      <td>3.0</td>\n",
       "      <td>6.6</td>\n",
       "      <td>2.1</td>\n",
       "      <td>virginica</td>\n",
       "    </tr>\n",
       "    <tr>\n",
       "      <th>117</th>\n",
       "      <td>7.7</td>\n",
       "      <td>3.8</td>\n",
       "      <td>6.7</td>\n",
       "      <td>2.2</td>\n",
       "      <td>virginica</td>\n",
       "    </tr>\n",
       "    <tr>\n",
       "      <th>122</th>\n",
       "      <td>7.7</td>\n",
       "      <td>2.8</td>\n",
       "      <td>6.7</td>\n",
       "      <td>2.0</td>\n",
       "      <td>virginica</td>\n",
       "    </tr>\n",
       "    <tr>\n",
       "      <th>118</th>\n",
       "      <td>7.7</td>\n",
       "      <td>2.6</td>\n",
       "      <td>6.9</td>\n",
       "      <td>2.3</td>\n",
       "      <td>virginica</td>\n",
       "    </tr>\n",
       "  </tbody>\n",
       "</table>\n",
       "<p>150 rows × 5 columns</p>\n",
       "</div>"
      ],
      "text/plain": [
       "     꽃받침 길이  꽃받침 너비  꽃잎 길이  꽃잎 너비     target\n",
       "22      4.6     3.6    1.0    0.2     setosa\n",
       "13      4.3     3.0    1.1    0.1     setosa\n",
       "14      5.8     4.0    1.2    0.2     setosa\n",
       "35      5.0     3.2    1.2    0.2     setosa\n",
       "36      5.5     3.5    1.3    0.2     setosa\n",
       "..      ...     ...    ...    ...        ...\n",
       "131     7.9     3.8    6.4    2.0  virginica\n",
       "105     7.6     3.0    6.6    2.1  virginica\n",
       "117     7.7     3.8    6.7    2.2  virginica\n",
       "122     7.7     2.8    6.7    2.0  virginica\n",
       "118     7.7     2.6    6.9    2.3  virginica\n",
       "\n",
       "[150 rows x 5 columns]"
      ]
     },
     "execution_count": 140,
     "metadata": {},
     "output_type": "execute_result"
    }
   ],
   "source": [
    "# iris 데이터의 ['꽃잎 길이']기준으로 데이터 정렬\n",
    "df.sort_values(['꽃잎 길이'])"
   ]
  },
  {
   "cell_type": "code",
   "execution_count": 142,
   "id": "c87b2769-2f6e-494f-974a-6ef184c2336a",
   "metadata": {},
   "outputs": [
    {
     "data": {
      "text/html": [
       "<div>\n",
       "<style scoped>\n",
       "    .dataframe tbody tr th:only-of-type {\n",
       "        vertical-align: middle;\n",
       "    }\n",
       "\n",
       "    .dataframe tbody tr th {\n",
       "        vertical-align: top;\n",
       "    }\n",
       "\n",
       "    .dataframe thead th {\n",
       "        text-align: right;\n",
       "    }\n",
       "</style>\n",
       "<table border=\"1\" class=\"dataframe\">\n",
       "  <thead>\n",
       "    <tr style=\"text-align: right;\">\n",
       "      <th></th>\n",
       "      <th>꽃받침 길이</th>\n",
       "      <th>꽃받침 너비</th>\n",
       "      <th>꽃잎 길이</th>\n",
       "      <th>꽃잎 너비</th>\n",
       "      <th>target</th>\n",
       "    </tr>\n",
       "  </thead>\n",
       "  <tbody>\n",
       "    <tr>\n",
       "      <th>100</th>\n",
       "      <td>6.3</td>\n",
       "      <td>3.3</td>\n",
       "      <td>6.0</td>\n",
       "      <td>2.5</td>\n",
       "      <td>virginica</td>\n",
       "    </tr>\n",
       "    <tr>\n",
       "      <th>109</th>\n",
       "      <td>7.2</td>\n",
       "      <td>3.6</td>\n",
       "      <td>6.1</td>\n",
       "      <td>2.5</td>\n",
       "      <td>virginica</td>\n",
       "    </tr>\n",
       "    <tr>\n",
       "      <th>144</th>\n",
       "      <td>6.7</td>\n",
       "      <td>3.3</td>\n",
       "      <td>5.7</td>\n",
       "      <td>2.5</td>\n",
       "      <td>virginica</td>\n",
       "    </tr>\n",
       "    <tr>\n",
       "      <th>114</th>\n",
       "      <td>5.8</td>\n",
       "      <td>2.8</td>\n",
       "      <td>5.1</td>\n",
       "      <td>2.4</td>\n",
       "      <td>virginica</td>\n",
       "    </tr>\n",
       "    <tr>\n",
       "      <th>140</th>\n",
       "      <td>6.7</td>\n",
       "      <td>3.1</td>\n",
       "      <td>5.6</td>\n",
       "      <td>2.4</td>\n",
       "      <td>virginica</td>\n",
       "    </tr>\n",
       "    <tr>\n",
       "      <th>...</th>\n",
       "      <td>...</td>\n",
       "      <td>...</td>\n",
       "      <td>...</td>\n",
       "      <td>...</td>\n",
       "      <td>...</td>\n",
       "    </tr>\n",
       "    <tr>\n",
       "      <th>12</th>\n",
       "      <td>4.8</td>\n",
       "      <td>3.0</td>\n",
       "      <td>1.4</td>\n",
       "      <td>0.1</td>\n",
       "      <td>setosa</td>\n",
       "    </tr>\n",
       "    <tr>\n",
       "      <th>13</th>\n",
       "      <td>4.3</td>\n",
       "      <td>3.0</td>\n",
       "      <td>1.1</td>\n",
       "      <td>0.1</td>\n",
       "      <td>setosa</td>\n",
       "    </tr>\n",
       "    <tr>\n",
       "      <th>37</th>\n",
       "      <td>4.9</td>\n",
       "      <td>3.6</td>\n",
       "      <td>1.4</td>\n",
       "      <td>0.1</td>\n",
       "      <td>setosa</td>\n",
       "    </tr>\n",
       "    <tr>\n",
       "      <th>32</th>\n",
       "      <td>5.2</td>\n",
       "      <td>4.1</td>\n",
       "      <td>1.5</td>\n",
       "      <td>0.1</td>\n",
       "      <td>setosa</td>\n",
       "    </tr>\n",
       "    <tr>\n",
       "      <th>9</th>\n",
       "      <td>4.9</td>\n",
       "      <td>3.1</td>\n",
       "      <td>1.5</td>\n",
       "      <td>0.1</td>\n",
       "      <td>setosa</td>\n",
       "    </tr>\n",
       "  </tbody>\n",
       "</table>\n",
       "<p>150 rows × 5 columns</p>\n",
       "</div>"
      ],
      "text/plain": [
       "     꽃받침 길이  꽃받침 너비  꽃잎 길이  꽃잎 너비     target\n",
       "100     6.3     3.3    6.0    2.5  virginica\n",
       "109     7.2     3.6    6.1    2.5  virginica\n",
       "144     6.7     3.3    5.7    2.5  virginica\n",
       "114     5.8     2.8    5.1    2.4  virginica\n",
       "140     6.7     3.1    5.6    2.4  virginica\n",
       "..      ...     ...    ...    ...        ...\n",
       "12      4.8     3.0    1.4    0.1     setosa\n",
       "13      4.3     3.0    1.1    0.1     setosa\n",
       "37      4.9     3.6    1.4    0.1     setosa\n",
       "32      5.2     4.1    1.5    0.1     setosa\n",
       "9       4.9     3.1    1.5    0.1     setosa\n",
       "\n",
       "[150 rows x 5 columns]"
      ]
     },
     "execution_count": 142,
     "metadata": {},
     "output_type": "execute_result"
    }
   ],
   "source": [
    "# '꽃잎 너비' 컬럼 기준으로 정렬하되, 내림차순으로 정렬\n",
    "df.sort_values(['꽃잎 너비'], ascending=False)"
   ]
  },
  {
   "cell_type": "code",
   "execution_count": 143,
   "id": "b65d9d2c-fa6e-4ccc-9608-f467c2591538",
   "metadata": {},
   "outputs": [
    {
     "data": {
      "text/html": [
       "<div>\n",
       "<style scoped>\n",
       "    .dataframe tbody tr th:only-of-type {\n",
       "        vertical-align: middle;\n",
       "    }\n",
       "\n",
       "    .dataframe tbody tr th {\n",
       "        vertical-align: top;\n",
       "    }\n",
       "\n",
       "    .dataframe thead th {\n",
       "        text-align: right;\n",
       "    }\n",
       "</style>\n",
       "<table border=\"1\" class=\"dataframe\">\n",
       "  <thead>\n",
       "    <tr style=\"text-align: right;\">\n",
       "      <th></th>\n",
       "      <th>꽃받침 길이</th>\n",
       "      <th>꽃받침 너비</th>\n",
       "      <th>꽃잎 길이</th>\n",
       "      <th>꽃잎 너비</th>\n",
       "      <th>target</th>\n",
       "    </tr>\n",
       "  </thead>\n",
       "  <tbody>\n",
       "    <tr>\n",
       "      <th>149</th>\n",
       "      <td>5.9</td>\n",
       "      <td>3.0</td>\n",
       "      <td>5.1</td>\n",
       "      <td>1.8</td>\n",
       "      <td>virginica</td>\n",
       "    </tr>\n",
       "    <tr>\n",
       "      <th>148</th>\n",
       "      <td>6.2</td>\n",
       "      <td>3.4</td>\n",
       "      <td>5.4</td>\n",
       "      <td>2.3</td>\n",
       "      <td>virginica</td>\n",
       "    </tr>\n",
       "    <tr>\n",
       "      <th>147</th>\n",
       "      <td>6.5</td>\n",
       "      <td>3.0</td>\n",
       "      <td>5.2</td>\n",
       "      <td>2.0</td>\n",
       "      <td>virginica</td>\n",
       "    </tr>\n",
       "    <tr>\n",
       "      <th>146</th>\n",
       "      <td>6.3</td>\n",
       "      <td>2.5</td>\n",
       "      <td>5.0</td>\n",
       "      <td>1.9</td>\n",
       "      <td>virginica</td>\n",
       "    </tr>\n",
       "    <tr>\n",
       "      <th>145</th>\n",
       "      <td>6.7</td>\n",
       "      <td>3.0</td>\n",
       "      <td>5.2</td>\n",
       "      <td>2.3</td>\n",
       "      <td>virginica</td>\n",
       "    </tr>\n",
       "    <tr>\n",
       "      <th>...</th>\n",
       "      <td>...</td>\n",
       "      <td>...</td>\n",
       "      <td>...</td>\n",
       "      <td>...</td>\n",
       "      <td>...</td>\n",
       "    </tr>\n",
       "    <tr>\n",
       "      <th>4</th>\n",
       "      <td>5.0</td>\n",
       "      <td>3.6</td>\n",
       "      <td>1.4</td>\n",
       "      <td>0.2</td>\n",
       "      <td>setosa</td>\n",
       "    </tr>\n",
       "    <tr>\n",
       "      <th>3</th>\n",
       "      <td>4.6</td>\n",
       "      <td>3.1</td>\n",
       "      <td>1.5</td>\n",
       "      <td>0.2</td>\n",
       "      <td>setosa</td>\n",
       "    </tr>\n",
       "    <tr>\n",
       "      <th>2</th>\n",
       "      <td>4.7</td>\n",
       "      <td>3.2</td>\n",
       "      <td>1.3</td>\n",
       "      <td>0.2</td>\n",
       "      <td>setosa</td>\n",
       "    </tr>\n",
       "    <tr>\n",
       "      <th>1</th>\n",
       "      <td>4.9</td>\n",
       "      <td>3.0</td>\n",
       "      <td>1.4</td>\n",
       "      <td>0.2</td>\n",
       "      <td>setosa</td>\n",
       "    </tr>\n",
       "    <tr>\n",
       "      <th>0</th>\n",
       "      <td>5.1</td>\n",
       "      <td>3.5</td>\n",
       "      <td>1.4</td>\n",
       "      <td>0.2</td>\n",
       "      <td>setosa</td>\n",
       "    </tr>\n",
       "  </tbody>\n",
       "</table>\n",
       "<p>150 rows × 5 columns</p>\n",
       "</div>"
      ],
      "text/plain": [
       "     꽃받침 길이  꽃받침 너비  꽃잎 길이  꽃잎 너비     target\n",
       "149     5.9     3.0    5.1    1.8  virginica\n",
       "148     6.2     3.4    5.4    2.3  virginica\n",
       "147     6.5     3.0    5.2    2.0  virginica\n",
       "146     6.3     2.5    5.0    1.9  virginica\n",
       "145     6.7     3.0    5.2    2.3  virginica\n",
       "..      ...     ...    ...    ...        ...\n",
       "4       5.0     3.6    1.4    0.2     setosa\n",
       "3       4.6     3.1    1.5    0.2     setosa\n",
       "2       4.7     3.2    1.3    0.2     setosa\n",
       "1       4.9     3.0    1.4    0.2     setosa\n",
       "0       5.1     3.5    1.4    0.2     setosa\n",
       "\n",
       "[150 rows x 5 columns]"
      ]
     },
     "execution_count": 143,
     "metadata": {},
     "output_type": "execute_result"
    }
   ],
   "source": [
    "# 인덱스로 정렬하되, 내림차순으로\n",
    "df.sort_index(ascending=False)"
   ]
  },
  {
   "cell_type": "markdown",
   "id": "ed31e889-1d7e-4c37-8e10-e9d74a266309",
   "metadata": {},
   "source": [
    "## 데이터 선택"
   ]
  },
  {
   "cell_type": "code",
   "execution_count": 144,
   "id": "54ac5598-fe24-4c76-a033-b42d6d8e9383",
   "metadata": {},
   "outputs": [
    {
     "data": {
      "text/plain": [
       "0      3.5\n",
       "1      3.0\n",
       "2      3.2\n",
       "3      3.1\n",
       "4      3.6\n",
       "      ... \n",
       "145    3.0\n",
       "146    2.5\n",
       "147    3.0\n",
       "148    3.4\n",
       "149    3.0\n",
       "Name: 꽃받침 너비, Length: 150, dtype: float64"
      ]
     },
     "execution_count": 144,
     "metadata": {},
     "output_type": "execute_result"
    }
   ],
   "source": [
    "df['꽃받침 너비']"
   ]
  },
  {
   "cell_type": "code",
   "execution_count": 152,
   "id": "3439445e-ebf8-4ca8-a11d-bb30282d6c1e",
   "metadata": {},
   "outputs": [
    {
     "data": {
      "text/html": [
       "<div>\n",
       "<style scoped>\n",
       "    .dataframe tbody tr th:only-of-type {\n",
       "        vertical-align: middle;\n",
       "    }\n",
       "\n",
       "    .dataframe tbody tr th {\n",
       "        vertical-align: top;\n",
       "    }\n",
       "\n",
       "    .dataframe thead th {\n",
       "        text-align: right;\n",
       "    }\n",
       "</style>\n",
       "<table border=\"1\" class=\"dataframe\">\n",
       "  <thead>\n",
       "    <tr style=\"text-align: right;\">\n",
       "      <th></th>\n",
       "      <th>꽃받침 길이</th>\n",
       "      <th>꽃받침 너비</th>\n",
       "      <th>꽃잎 길이</th>\n",
       "      <th>꽃잎 너비</th>\n",
       "      <th>target</th>\n",
       "    </tr>\n",
       "  </thead>\n",
       "  <tbody>\n",
       "    <tr>\n",
       "      <th>15</th>\n",
       "      <td>5.7</td>\n",
       "      <td>4.4</td>\n",
       "      <td>1.5</td>\n",
       "      <td>0.4</td>\n",
       "      <td>setosa</td>\n",
       "    </tr>\n",
       "    <tr>\n",
       "      <th>32</th>\n",
       "      <td>5.2</td>\n",
       "      <td>4.1</td>\n",
       "      <td>1.5</td>\n",
       "      <td>0.1</td>\n",
       "      <td>setosa</td>\n",
       "    </tr>\n",
       "    <tr>\n",
       "      <th>33</th>\n",
       "      <td>5.5</td>\n",
       "      <td>4.2</td>\n",
       "      <td>1.4</td>\n",
       "      <td>0.2</td>\n",
       "      <td>setosa</td>\n",
       "    </tr>\n",
       "  </tbody>\n",
       "</table>\n",
       "</div>"
      ],
      "text/plain": [
       "    꽃받침 길이  꽃받침 너비  꽃잎 길이  꽃잎 너비  target\n",
       "15     5.7     4.4    1.5    0.4  setosa\n",
       "32     5.2     4.1    1.5    0.1  setosa\n",
       "33     5.5     4.2    1.4    0.2  setosa"
      ]
     },
     "execution_count": 152,
     "metadata": {},
     "output_type": "execute_result"
    }
   ],
   "source": [
    "# '꽃받침 너비' 컬럼에서 4이상인 로우만 선택\n",
    "df[df['꽃받침 너비'] > 4]"
   ]
  },
  {
   "cell_type": "code",
   "execution_count": 169,
   "id": "4628cbe7-6107-41af-be5f-13fdfd012a5e",
   "metadata": {},
   "outputs": [
    {
     "data": {
      "text/html": [
       "<div>\n",
       "<style scoped>\n",
       "    .dataframe tbody tr th:only-of-type {\n",
       "        vertical-align: middle;\n",
       "    }\n",
       "\n",
       "    .dataframe tbody tr th {\n",
       "        vertical-align: top;\n",
       "    }\n",
       "\n",
       "    .dataframe thead th {\n",
       "        text-align: right;\n",
       "    }\n",
       "</style>\n",
       "<table border=\"1\" class=\"dataframe\">\n",
       "  <thead>\n",
       "    <tr style=\"text-align: right;\">\n",
       "      <th></th>\n",
       "      <th>꽃받침 길이</th>\n",
       "      <th>꽃잎 길이</th>\n",
       "      <th>꽃잎 너비</th>\n",
       "      <th>target</th>\n",
       "    </tr>\n",
       "    <tr>\n",
       "      <th>꽃받침 너비</th>\n",
       "      <th></th>\n",
       "      <th></th>\n",
       "      <th></th>\n",
       "      <th></th>\n",
       "    </tr>\n",
       "  </thead>\n",
       "  <tbody>\n",
       "    <tr>\n",
       "      <th>3.1</th>\n",
       "      <td>4.8</td>\n",
       "      <td>1.6</td>\n",
       "      <td>0.2</td>\n",
       "      <td>setosa</td>\n",
       "    </tr>\n",
       "    <tr>\n",
       "      <th>3.2</th>\n",
       "      <td>5.0</td>\n",
       "      <td>1.2</td>\n",
       "      <td>0.2</td>\n",
       "      <td>setosa</td>\n",
       "    </tr>\n",
       "    <tr>\n",
       "      <th>3.5</th>\n",
       "      <td>5.0</td>\n",
       "      <td>1.3</td>\n",
       "      <td>0.3</td>\n",
       "      <td>setosa</td>\n",
       "    </tr>\n",
       "    <tr>\n",
       "      <th>3.0</th>\n",
       "      <td>4.8</td>\n",
       "      <td>1.4</td>\n",
       "      <td>0.3</td>\n",
       "      <td>setosa</td>\n",
       "    </tr>\n",
       "    <tr>\n",
       "      <th>3.2</th>\n",
       "      <td>7.0</td>\n",
       "      <td>4.7</td>\n",
       "      <td>1.4</td>\n",
       "      <td>versicolor</td>\n",
       "    </tr>\n",
       "    <tr>\n",
       "      <th>2.8</th>\n",
       "      <td>5.7</td>\n",
       "      <td>4.5</td>\n",
       "      <td>1.3</td>\n",
       "      <td>versicolor</td>\n",
       "    </tr>\n",
       "    <tr>\n",
       "      <th>2.0</th>\n",
       "      <td>5.0</td>\n",
       "      <td>3.5</td>\n",
       "      <td>1.0</td>\n",
       "      <td>versicolor</td>\n",
       "    </tr>\n",
       "  </tbody>\n",
       "</table>\n",
       "</div>"
      ],
      "text/plain": [
       "        꽃받침 길이  꽃잎 길이  꽃잎 너비      target\n",
       "꽃받침 너비                                  \n",
       "3.1        4.8    1.6    0.2      setosa\n",
       "3.2        5.0    1.2    0.2      setosa\n",
       "3.5        5.0    1.3    0.3      setosa\n",
       "3.0        4.8    1.4    0.3      setosa\n",
       "3.2        7.0    4.7    1.4  versicolor\n",
       "2.8        5.7    4.5    1.3  versicolor\n",
       "2.0        5.0    3.5    1.0  versicolor"
      ]
     },
     "execution_count": 169,
     "metadata": {},
     "output_type": "execute_result"
    }
   ],
   "source": [
    "# lioc[인덱스 위치]를 사용한 선택\n",
    "# 인덱스가 설정된 데이터프레임에 사용 가능\n",
    "df2 = df.set_index('꽃받침 너비')\n",
    "df2.iloc[range(30, 61, 5)] # 인덱스 30~ 60까지의 로우만 선택"
   ]
  },
  {
   "cell_type": "code",
   "execution_count": 170,
   "id": "7c3a68a7-e71c-41f0-b146-b07b8a09085f",
   "metadata": {},
   "outputs": [
    {
     "data": {
      "text/html": [
       "<div>\n",
       "<style scoped>\n",
       "    .dataframe tbody tr th:only-of-type {\n",
       "        vertical-align: middle;\n",
       "    }\n",
       "\n",
       "    .dataframe tbody tr th {\n",
       "        vertical-align: top;\n",
       "    }\n",
       "\n",
       "    .dataframe thead th {\n",
       "        text-align: right;\n",
       "    }\n",
       "</style>\n",
       "<table border=\"1\" class=\"dataframe\">\n",
       "  <thead>\n",
       "    <tr style=\"text-align: right;\">\n",
       "      <th></th>\n",
       "      <th>꽃받침 길이</th>\n",
       "      <th>꽃잎 길이</th>\n",
       "      <th>꽃잎 너비</th>\n",
       "      <th>target</th>\n",
       "    </tr>\n",
       "    <tr>\n",
       "      <th>꽃받침 너비</th>\n",
       "      <th></th>\n",
       "      <th></th>\n",
       "      <th></th>\n",
       "      <th></th>\n",
       "    </tr>\n",
       "  </thead>\n",
       "  <tbody>\n",
       "    <tr>\n",
       "      <th>3.1</th>\n",
       "      <td>4.6</td>\n",
       "      <td>1.5</td>\n",
       "      <td>0.2</td>\n",
       "      <td>setosa</td>\n",
       "    </tr>\n",
       "    <tr>\n",
       "      <th>3.1</th>\n",
       "      <td>4.9</td>\n",
       "      <td>1.5</td>\n",
       "      <td>0.1</td>\n",
       "      <td>setosa</td>\n",
       "    </tr>\n",
       "    <tr>\n",
       "      <th>3.1</th>\n",
       "      <td>4.8</td>\n",
       "      <td>1.6</td>\n",
       "      <td>0.2</td>\n",
       "      <td>setosa</td>\n",
       "    </tr>\n",
       "    <tr>\n",
       "      <th>3.1</th>\n",
       "      <td>4.9</td>\n",
       "      <td>1.5</td>\n",
       "      <td>0.2</td>\n",
       "      <td>setosa</td>\n",
       "    </tr>\n",
       "    <tr>\n",
       "      <th>3.1</th>\n",
       "      <td>6.9</td>\n",
       "      <td>4.9</td>\n",
       "      <td>1.5</td>\n",
       "      <td>versicolor</td>\n",
       "    </tr>\n",
       "    <tr>\n",
       "      <th>3.1</th>\n",
       "      <td>6.7</td>\n",
       "      <td>4.4</td>\n",
       "      <td>1.4</td>\n",
       "      <td>versicolor</td>\n",
       "    </tr>\n",
       "    <tr>\n",
       "      <th>3.1</th>\n",
       "      <td>6.7</td>\n",
       "      <td>4.7</td>\n",
       "      <td>1.5</td>\n",
       "      <td>versicolor</td>\n",
       "    </tr>\n",
       "    <tr>\n",
       "      <th>3.1</th>\n",
       "      <td>6.4</td>\n",
       "      <td>5.5</td>\n",
       "      <td>1.8</td>\n",
       "      <td>virginica</td>\n",
       "    </tr>\n",
       "    <tr>\n",
       "      <th>3.1</th>\n",
       "      <td>6.9</td>\n",
       "      <td>5.4</td>\n",
       "      <td>2.1</td>\n",
       "      <td>virginica</td>\n",
       "    </tr>\n",
       "    <tr>\n",
       "      <th>3.1</th>\n",
       "      <td>6.7</td>\n",
       "      <td>5.6</td>\n",
       "      <td>2.4</td>\n",
       "      <td>virginica</td>\n",
       "    </tr>\n",
       "    <tr>\n",
       "      <th>3.1</th>\n",
       "      <td>6.9</td>\n",
       "      <td>5.1</td>\n",
       "      <td>2.3</td>\n",
       "      <td>virginica</td>\n",
       "    </tr>\n",
       "  </tbody>\n",
       "</table>\n",
       "</div>"
      ],
      "text/plain": [
       "        꽃받침 길이  꽃잎 길이  꽃잎 너비      target\n",
       "꽃받침 너비                                  \n",
       "3.1        4.6    1.5    0.2      setosa\n",
       "3.1        4.9    1.5    0.1      setosa\n",
       "3.1        4.8    1.6    0.2      setosa\n",
       "3.1        4.9    1.5    0.2      setosa\n",
       "3.1        6.9    4.9    1.5  versicolor\n",
       "3.1        6.7    4.4    1.4  versicolor\n",
       "3.1        6.7    4.7    1.5  versicolor\n",
       "3.1        6.4    5.5    1.8   virginica\n",
       "3.1        6.9    5.4    2.1   virginica\n",
       "3.1        6.7    5.6    2.4   virginica\n",
       "3.1        6.9    5.1    2.3   virginica"
      ]
     },
     "execution_count": 170,
     "metadata": {},
     "output_type": "execute_result"
    }
   ],
   "source": [
    "# loc[인덱스 값]를 사용한 선택\n",
    "# '꽃받침 너비'가 3.1인 로우만 선택\n",
    "df2.loc[3.1]"
   ]
  },
  {
   "cell_type": "code",
   "execution_count": 180,
   "id": "9bf10f83-bc36-4a8a-b568-64bc83ee387d",
   "metadata": {},
   "outputs": [
    {
     "data": {
      "text/plain": [
       "꽃받침 너비\n",
       "3.5    False\n",
       "3.0    False\n",
       "3.2    False\n",
       "3.1    False\n",
       "3.6    False\n",
       "       ...  \n",
       "3.0    False\n",
       "2.5    False\n",
       "3.0    False\n",
       "3.4    False\n",
       "3.0    False\n",
       "Name: 꽃잎 길이, Length: 150, dtype: bool"
      ]
     },
     "execution_count": 180,
     "metadata": {},
     "output_type": "execute_result"
    }
   ],
   "source": [
    "# 컬럼의 로우의 값을 기준으로 불리언 값 반환\n",
    "df2['꽃잎 길이'] == 3.0"
   ]
  },
  {
   "cell_type": "code",
   "execution_count": 181,
   "id": "ae19cb32-f389-4f7b-9c24-520c7f879f04",
   "metadata": {},
   "outputs": [
    {
     "data": {
      "text/html": [
       "<div>\n",
       "<style scoped>\n",
       "    .dataframe tbody tr th:only-of-type {\n",
       "        vertical-align: middle;\n",
       "    }\n",
       "\n",
       "    .dataframe tbody tr th {\n",
       "        vertical-align: top;\n",
       "    }\n",
       "\n",
       "    .dataframe thead th {\n",
       "        text-align: right;\n",
       "    }\n",
       "</style>\n",
       "<table border=\"1\" class=\"dataframe\">\n",
       "  <thead>\n",
       "    <tr style=\"text-align: right;\">\n",
       "      <th></th>\n",
       "      <th>꽃받침 길이</th>\n",
       "      <th>꽃잎 길이</th>\n",
       "      <th>꽃잎 너비</th>\n",
       "      <th>target</th>\n",
       "    </tr>\n",
       "    <tr>\n",
       "      <th>꽃받침 너비</th>\n",
       "      <th></th>\n",
       "      <th></th>\n",
       "      <th></th>\n",
       "      <th></th>\n",
       "    </tr>\n",
       "  </thead>\n",
       "  <tbody>\n",
       "    <tr>\n",
       "      <th>2.5</th>\n",
       "      <td>5.1</td>\n",
       "      <td>3.0</td>\n",
       "      <td>1.1</td>\n",
       "      <td>versicolor</td>\n",
       "    </tr>\n",
       "  </tbody>\n",
       "</table>\n",
       "</div>"
      ],
      "text/plain": [
       "        꽃받침 길이  꽃잎 길이  꽃잎 너비      target\n",
       "꽃받침 너비                                  \n",
       "2.5        5.1    3.0    1.1  versicolor"
      ]
     },
     "execution_count": 181,
     "metadata": {},
     "output_type": "execute_result"
    }
   ],
   "source": [
    "# 컬럼의 로우 값을 기준으로 로우 선택\n",
    "df2[df2['꽃잎 길이'] == 3.0]"
   ]
  },
  {
   "cell_type": "code",
   "execution_count": 184,
   "id": "54ca9aca-ce9b-4a7f-8e46-9a672eba1397",
   "metadata": {},
   "outputs": [
    {
     "data": {
      "text/plain": [
       "Int64Index([98], dtype='int64')"
      ]
     },
     "execution_count": 184,
     "metadata": {},
     "output_type": "execute_result"
    }
   ],
   "source": [
    "# 인덱스 리셋한 df3 생성\n",
    "df3 = df2.reset_index()\n",
    "\n",
    "# 해당 컬럼의 인덱스 확인\n",
    "df3[df3['꽃잎 길이'] == 3.0].index\n",
    "\n",
    "# '꽃잎 길이' 컬럼의 값이 3.0 인 로우의 인덱스 위치는 98인 것을 확인할 수 있음"
   ]
  },
  {
   "cell_type": "code",
   "execution_count": 189,
   "id": "56c8298f-f20c-403c-8c83-0ab7ed51acd6",
   "metadata": {},
   "outputs": [
    {
     "data": {
      "text/plain": [
       "array([0.2, 0.4, 0.3, 0.1, 0.5, 0.6])"
      ]
     },
     "execution_count": 189,
     "metadata": {},
     "output_type": "execute_result"
    }
   ],
   "source": [
    "# 꽃잎 길이가 2.5 미만인 로우에서 '꽃잎 너비'의 유일값 찾기\n",
    "df3[df3['꽃잎 길이'] < 2.5]['꽃잎 너비'].unique()"
   ]
  },
  {
   "cell_type": "markdown",
   "id": "15824875-9a93-4cf4-94af-217e8f918984",
   "metadata": {},
   "source": [
    "## 데이터 삭제"
   ]
  },
  {
   "cell_type": "code",
   "execution_count": 193,
   "id": "42393ee6-a14a-4f45-a574-091a9d8a7be3",
   "metadata": {},
   "outputs": [
    {
     "data": {
      "text/html": [
       "<div>\n",
       "<style scoped>\n",
       "    .dataframe tbody tr th:only-of-type {\n",
       "        vertical-align: middle;\n",
       "    }\n",
       "\n",
       "    .dataframe tbody tr th {\n",
       "        vertical-align: top;\n",
       "    }\n",
       "\n",
       "    .dataframe thead th {\n",
       "        text-align: right;\n",
       "    }\n",
       "</style>\n",
       "<table border=\"1\" class=\"dataframe\">\n",
       "  <thead>\n",
       "    <tr style=\"text-align: right;\">\n",
       "      <th></th>\n",
       "      <th>꽃받침 너비</th>\n",
       "      <th>꽃받침 길이</th>\n",
       "      <th>target</th>\n",
       "    </tr>\n",
       "  </thead>\n",
       "  <tbody>\n",
       "    <tr>\n",
       "      <th>0</th>\n",
       "      <td>3.5</td>\n",
       "      <td>5.1</td>\n",
       "      <td>setosa</td>\n",
       "    </tr>\n",
       "    <tr>\n",
       "      <th>1</th>\n",
       "      <td>3.0</td>\n",
       "      <td>4.9</td>\n",
       "      <td>setosa</td>\n",
       "    </tr>\n",
       "    <tr>\n",
       "      <th>2</th>\n",
       "      <td>3.2</td>\n",
       "      <td>4.7</td>\n",
       "      <td>setosa</td>\n",
       "    </tr>\n",
       "    <tr>\n",
       "      <th>3</th>\n",
       "      <td>3.1</td>\n",
       "      <td>4.6</td>\n",
       "      <td>setosa</td>\n",
       "    </tr>\n",
       "    <tr>\n",
       "      <th>4</th>\n",
       "      <td>3.6</td>\n",
       "      <td>5.0</td>\n",
       "      <td>setosa</td>\n",
       "    </tr>\n",
       "    <tr>\n",
       "      <th>...</th>\n",
       "      <td>...</td>\n",
       "      <td>...</td>\n",
       "      <td>...</td>\n",
       "    </tr>\n",
       "    <tr>\n",
       "      <th>145</th>\n",
       "      <td>3.0</td>\n",
       "      <td>6.7</td>\n",
       "      <td>virginica</td>\n",
       "    </tr>\n",
       "    <tr>\n",
       "      <th>146</th>\n",
       "      <td>2.5</td>\n",
       "      <td>6.3</td>\n",
       "      <td>virginica</td>\n",
       "    </tr>\n",
       "    <tr>\n",
       "      <th>147</th>\n",
       "      <td>3.0</td>\n",
       "      <td>6.5</td>\n",
       "      <td>virginica</td>\n",
       "    </tr>\n",
       "    <tr>\n",
       "      <th>148</th>\n",
       "      <td>3.4</td>\n",
       "      <td>6.2</td>\n",
       "      <td>virginica</td>\n",
       "    </tr>\n",
       "    <tr>\n",
       "      <th>149</th>\n",
       "      <td>3.0</td>\n",
       "      <td>5.9</td>\n",
       "      <td>virginica</td>\n",
       "    </tr>\n",
       "  </tbody>\n",
       "</table>\n",
       "<p>150 rows × 3 columns</p>\n",
       "</div>"
      ],
      "text/plain": [
       "     꽃받침 너비  꽃받침 길이     target\n",
       "0       3.5     5.1     setosa\n",
       "1       3.0     4.9     setosa\n",
       "2       3.2     4.7     setosa\n",
       "3       3.1     4.6     setosa\n",
       "4       3.6     5.0     setosa\n",
       "..      ...     ...        ...\n",
       "145     3.0     6.7  virginica\n",
       "146     2.5     6.3  virginica\n",
       "147     3.0     6.5  virginica\n",
       "148     3.4     6.2  virginica\n",
       "149     3.0     5.9  virginica\n",
       "\n",
       "[150 rows x 3 columns]"
      ]
     },
     "execution_count": 193,
     "metadata": {},
     "output_type": "execute_result"
    }
   ],
   "source": [
    "# df.drop(컬럼명 or 로우인덱스)\n",
    "# 컬럼명으로 삭제하고 싶으면 axis=1 인자 추가\n",
    "# 원본 데이터에 반영시키고 싶으면 inplace=True 인자 추가\n",
    "\n",
    "# 꽃잎 너비, 꽃잎 길이 컬럼 삭제\n",
    "df3.drop(['꽃잎 너비', '꽃잎 길이'], axis=1)"
   ]
  },
  {
   "cell_type": "code",
   "execution_count": 194,
   "id": "1105b2b4-54d1-4606-960e-726960236510",
   "metadata": {},
   "outputs": [
    {
     "data": {
      "text/html": [
       "<div>\n",
       "<style scoped>\n",
       "    .dataframe tbody tr th:only-of-type {\n",
       "        vertical-align: middle;\n",
       "    }\n",
       "\n",
       "    .dataframe tbody tr th {\n",
       "        vertical-align: top;\n",
       "    }\n",
       "\n",
       "    .dataframe thead th {\n",
       "        text-align: right;\n",
       "    }\n",
       "</style>\n",
       "<table border=\"1\" class=\"dataframe\">\n",
       "  <thead>\n",
       "    <tr style=\"text-align: right;\">\n",
       "      <th></th>\n",
       "      <th>꽃받침 너비</th>\n",
       "      <th>꽃받침 길이</th>\n",
       "      <th>꽃잎 길이</th>\n",
       "      <th>꽃잎 너비</th>\n",
       "      <th>target</th>\n",
       "    </tr>\n",
       "  </thead>\n",
       "  <tbody>\n",
       "    <tr>\n",
       "      <th>0</th>\n",
       "      <td>3.5</td>\n",
       "      <td>5.1</td>\n",
       "      <td>1.4</td>\n",
       "      <td>0.2</td>\n",
       "      <td>setosa</td>\n",
       "    </tr>\n",
       "    <tr>\n",
       "      <th>1</th>\n",
       "      <td>3.0</td>\n",
       "      <td>4.9</td>\n",
       "      <td>1.4</td>\n",
       "      <td>0.2</td>\n",
       "      <td>setosa</td>\n",
       "    </tr>\n",
       "    <tr>\n",
       "      <th>2</th>\n",
       "      <td>3.2</td>\n",
       "      <td>4.7</td>\n",
       "      <td>1.3</td>\n",
       "      <td>0.2</td>\n",
       "      <td>setosa</td>\n",
       "    </tr>\n",
       "    <tr>\n",
       "      <th>3</th>\n",
       "      <td>3.1</td>\n",
       "      <td>4.6</td>\n",
       "      <td>1.5</td>\n",
       "      <td>0.2</td>\n",
       "      <td>setosa</td>\n",
       "    </tr>\n",
       "    <tr>\n",
       "      <th>4</th>\n",
       "      <td>3.6</td>\n",
       "      <td>5.0</td>\n",
       "      <td>1.4</td>\n",
       "      <td>0.2</td>\n",
       "      <td>setosa</td>\n",
       "    </tr>\n",
       "    <tr>\n",
       "      <th>...</th>\n",
       "      <td>...</td>\n",
       "      <td>...</td>\n",
       "      <td>...</td>\n",
       "      <td>...</td>\n",
       "      <td>...</td>\n",
       "    </tr>\n",
       "    <tr>\n",
       "      <th>95</th>\n",
       "      <td>3.0</td>\n",
       "      <td>5.7</td>\n",
       "      <td>4.2</td>\n",
       "      <td>1.2</td>\n",
       "      <td>versicolor</td>\n",
       "    </tr>\n",
       "    <tr>\n",
       "      <th>96</th>\n",
       "      <td>2.9</td>\n",
       "      <td>5.7</td>\n",
       "      <td>4.2</td>\n",
       "      <td>1.3</td>\n",
       "      <td>versicolor</td>\n",
       "    </tr>\n",
       "    <tr>\n",
       "      <th>97</th>\n",
       "      <td>2.9</td>\n",
       "      <td>6.2</td>\n",
       "      <td>4.3</td>\n",
       "      <td>1.3</td>\n",
       "      <td>versicolor</td>\n",
       "    </tr>\n",
       "    <tr>\n",
       "      <th>98</th>\n",
       "      <td>2.5</td>\n",
       "      <td>5.1</td>\n",
       "      <td>3.0</td>\n",
       "      <td>1.1</td>\n",
       "      <td>versicolor</td>\n",
       "    </tr>\n",
       "    <tr>\n",
       "      <th>99</th>\n",
       "      <td>2.8</td>\n",
       "      <td>5.7</td>\n",
       "      <td>4.1</td>\n",
       "      <td>1.3</td>\n",
       "      <td>versicolor</td>\n",
       "    </tr>\n",
       "  </tbody>\n",
       "</table>\n",
       "<p>100 rows × 5 columns</p>\n",
       "</div>"
      ],
      "text/plain": [
       "    꽃받침 너비  꽃받침 길이  꽃잎 길이  꽃잎 너비      target\n",
       "0      3.5     5.1    1.4    0.2      setosa\n",
       "1      3.0     4.9    1.4    0.2      setosa\n",
       "2      3.2     4.7    1.3    0.2      setosa\n",
       "3      3.1     4.6    1.5    0.2      setosa\n",
       "4      3.6     5.0    1.4    0.2      setosa\n",
       "..     ...     ...    ...    ...         ...\n",
       "95     3.0     5.7    4.2    1.2  versicolor\n",
       "96     2.9     5.7    4.2    1.3  versicolor\n",
       "97     2.9     6.2    4.3    1.3  versicolor\n",
       "98     2.5     5.1    3.0    1.1  versicolor\n",
       "99     2.8     5.7    4.1    1.3  versicolor\n",
       "\n",
       "[100 rows x 5 columns]"
      ]
     },
     "execution_count": 194,
     "metadata": {},
     "output_type": "execute_result"
    }
   ],
   "source": [
    "# 100~149번 로우인덱스 삭제\n",
    "df3.drop(range(100,150))"
   ]
  },
  {
   "cell_type": "markdown",
   "id": "ef5fe2a5-7347-4cfc-b34c-e704e4717f8e",
   "metadata": {},
   "source": [
    "## 연산"
   ]
  },
  {
   "cell_type": "markdown",
   "id": "5aead021-445e-4c8a-a6ac-13dc4ca541ac",
   "metadata": {},
   "source": [
    "### 산술 연산"
   ]
  },
  {
   "cell_type": "code",
   "execution_count": 195,
   "id": "1aa2918e-89a5-435a-8971-295ec46e1afc",
   "metadata": {},
   "outputs": [
    {
     "data": {
      "text/plain": [
       "0      0.7\n",
       "1      0.7\n",
       "2      0.7\n",
       "3      0.7\n",
       "4      0.7\n",
       "      ... \n",
       "145    2.8\n",
       "146    2.4\n",
       "147    2.5\n",
       "148    2.8\n",
       "149    2.3\n",
       "Name: 꽃잎 너비, Length: 150, dtype: float64"
      ]
     },
     "execution_count": 195,
     "metadata": {},
     "output_type": "execute_result"
    }
   ],
   "source": [
    "df3['꽃잎 너비'] + 0.5"
   ]
  },
  {
   "cell_type": "code",
   "execution_count": 198,
   "id": "b257a0e7-18cd-48e3-b15a-071675c1b162",
   "metadata": {},
   "outputs": [],
   "source": [
    "# 산술 연산으로 새로운 컬럼 생성\n",
    "df3['꽃받침 너비길이차'] = df3['꽃받침 너비'] - df3['꽃받침 길이']"
   ]
  },
  {
   "cell_type": "code",
   "execution_count": 199,
   "id": "8d71da5d-4ae7-4f40-b5f5-282821963300",
   "metadata": {},
   "outputs": [
    {
     "data": {
      "text/html": [
       "<div>\n",
       "<style scoped>\n",
       "    .dataframe tbody tr th:only-of-type {\n",
       "        vertical-align: middle;\n",
       "    }\n",
       "\n",
       "    .dataframe tbody tr th {\n",
       "        vertical-align: top;\n",
       "    }\n",
       "\n",
       "    .dataframe thead th {\n",
       "        text-align: right;\n",
       "    }\n",
       "</style>\n",
       "<table border=\"1\" class=\"dataframe\">\n",
       "  <thead>\n",
       "    <tr style=\"text-align: right;\">\n",
       "      <th></th>\n",
       "      <th>꽃받침 너비</th>\n",
       "      <th>꽃받침 길이</th>\n",
       "      <th>꽃잎 길이</th>\n",
       "      <th>꽃잎 너비</th>\n",
       "      <th>target</th>\n",
       "      <th>꽃받침 너비길이차</th>\n",
       "    </tr>\n",
       "  </thead>\n",
       "  <tbody>\n",
       "    <tr>\n",
       "      <th>0</th>\n",
       "      <td>3.5</td>\n",
       "      <td>5.1</td>\n",
       "      <td>1.4</td>\n",
       "      <td>0.2</td>\n",
       "      <td>setosa</td>\n",
       "      <td>-1.6</td>\n",
       "    </tr>\n",
       "    <tr>\n",
       "      <th>1</th>\n",
       "      <td>3.0</td>\n",
       "      <td>4.9</td>\n",
       "      <td>1.4</td>\n",
       "      <td>0.2</td>\n",
       "      <td>setosa</td>\n",
       "      <td>-1.9</td>\n",
       "    </tr>\n",
       "    <tr>\n",
       "      <th>2</th>\n",
       "      <td>3.2</td>\n",
       "      <td>4.7</td>\n",
       "      <td>1.3</td>\n",
       "      <td>0.2</td>\n",
       "      <td>setosa</td>\n",
       "      <td>-1.5</td>\n",
       "    </tr>\n",
       "    <tr>\n",
       "      <th>3</th>\n",
       "      <td>3.1</td>\n",
       "      <td>4.6</td>\n",
       "      <td>1.5</td>\n",
       "      <td>0.2</td>\n",
       "      <td>setosa</td>\n",
       "      <td>-1.5</td>\n",
       "    </tr>\n",
       "    <tr>\n",
       "      <th>4</th>\n",
       "      <td>3.6</td>\n",
       "      <td>5.0</td>\n",
       "      <td>1.4</td>\n",
       "      <td>0.2</td>\n",
       "      <td>setosa</td>\n",
       "      <td>-1.4</td>\n",
       "    </tr>\n",
       "    <tr>\n",
       "      <th>...</th>\n",
       "      <td>...</td>\n",
       "      <td>...</td>\n",
       "      <td>...</td>\n",
       "      <td>...</td>\n",
       "      <td>...</td>\n",
       "      <td>...</td>\n",
       "    </tr>\n",
       "    <tr>\n",
       "      <th>145</th>\n",
       "      <td>3.0</td>\n",
       "      <td>6.7</td>\n",
       "      <td>5.2</td>\n",
       "      <td>2.3</td>\n",
       "      <td>virginica</td>\n",
       "      <td>-3.7</td>\n",
       "    </tr>\n",
       "    <tr>\n",
       "      <th>146</th>\n",
       "      <td>2.5</td>\n",
       "      <td>6.3</td>\n",
       "      <td>5.0</td>\n",
       "      <td>1.9</td>\n",
       "      <td>virginica</td>\n",
       "      <td>-3.8</td>\n",
       "    </tr>\n",
       "    <tr>\n",
       "      <th>147</th>\n",
       "      <td>3.0</td>\n",
       "      <td>6.5</td>\n",
       "      <td>5.2</td>\n",
       "      <td>2.0</td>\n",
       "      <td>virginica</td>\n",
       "      <td>-3.5</td>\n",
       "    </tr>\n",
       "    <tr>\n",
       "      <th>148</th>\n",
       "      <td>3.4</td>\n",
       "      <td>6.2</td>\n",
       "      <td>5.4</td>\n",
       "      <td>2.3</td>\n",
       "      <td>virginica</td>\n",
       "      <td>-2.8</td>\n",
       "    </tr>\n",
       "    <tr>\n",
       "      <th>149</th>\n",
       "      <td>3.0</td>\n",
       "      <td>5.9</td>\n",
       "      <td>5.1</td>\n",
       "      <td>1.8</td>\n",
       "      <td>virginica</td>\n",
       "      <td>-2.9</td>\n",
       "    </tr>\n",
       "  </tbody>\n",
       "</table>\n",
       "<p>150 rows × 6 columns</p>\n",
       "</div>"
      ],
      "text/plain": [
       "     꽃받침 너비  꽃받침 길이  꽃잎 길이  꽃잎 너비     target  꽃받침 너비길이차\n",
       "0       3.5     5.1    1.4    0.2     setosa       -1.6\n",
       "1       3.0     4.9    1.4    0.2     setosa       -1.9\n",
       "2       3.2     4.7    1.3    0.2     setosa       -1.5\n",
       "3       3.1     4.6    1.5    0.2     setosa       -1.5\n",
       "4       3.6     5.0    1.4    0.2     setosa       -1.4\n",
       "..      ...     ...    ...    ...        ...        ...\n",
       "145     3.0     6.7    5.2    2.3  virginica       -3.7\n",
       "146     2.5     6.3    5.0    1.9  virginica       -3.8\n",
       "147     3.0     6.5    5.2    2.0  virginica       -3.5\n",
       "148     3.4     6.2    5.4    2.3  virginica       -2.8\n",
       "149     3.0     5.9    5.1    1.8  virginica       -2.9\n",
       "\n",
       "[150 rows x 6 columns]"
      ]
     },
     "execution_count": 199,
     "metadata": {},
     "output_type": "execute_result"
    }
   ],
   "source": [
    "df3"
   ]
  },
  {
   "cell_type": "code",
   "execution_count": 208,
   "id": "68d22f97-79cd-497e-b7d5-a874d5fbaed5",
   "metadata": {},
   "outputs": [
    {
     "ename": "SyntaxError",
     "evalue": "f-string: unmatched '[' (1042362569.py, line 2)",
     "output_type": "error",
     "traceback": [
      "\u001b[1;36m  Input \u001b[1;32mIn [208]\u001b[1;36m\u001b[0m\n\u001b[1;33m    print(f'꽃받침 너비길이차의 평균 : {df3['꽃받침 너비길이차'].mean()}')\u001b[0m\n\u001b[1;37m                                  ^\u001b[0m\n\u001b[1;31mSyntaxError\u001b[0m\u001b[1;31m:\u001b[0m f-string: unmatched '['\n"
     ]
    }
   ],
   "source": [
    "# 새로 생성한 꽃받침 너비길이차의 통계지표 확인\n",
    "print(f'꽃받침 너비길이차의 평균 : {df3['꽃받침 너비길이차'].mean()}')\n",
    "print(f'꽃받침 너비길이차의 표준편차 : {df3['꽃받침 너비길이차'].std()}')\n",
    "print(f'꽃받침 너비길이차의 편차 : {df3['꽃받침 너비길이차'].var()}')"
   ]
  },
  {
   "cell_type": "code",
   "execution_count": null,
   "id": "74a34573-e526-45a0-a47f-7a14d87ef635",
   "metadata": {},
   "outputs": [],
   "source": [
    "describe"
   ]
  }
 ],
 "metadata": {
  "kernelspec": {
   "display_name": "Python 3 (ipykernel)",
   "language": "python",
   "name": "python3"
  },
  "language_info": {
   "codemirror_mode": {
    "name": "ipython",
    "version": 3
   },
   "file_extension": ".py",
   "mimetype": "text/x-python",
   "name": "python",
   "nbconvert_exporter": "python",
   "pygments_lexer": "ipython3",
   "version": "3.9.12"
  },
  "toc-autonumbering": true
 },
 "nbformat": 4,
 "nbformat_minor": 5
}
