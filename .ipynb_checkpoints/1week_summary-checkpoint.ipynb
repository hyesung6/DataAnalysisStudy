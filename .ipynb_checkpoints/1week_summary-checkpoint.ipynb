{
 "cells": [
  {
   "cell_type": "markdown",
   "id": "a2a64282-b93c-45d4-9daf-af44ee4344ca",
   "metadata": {},
   "source": [
    "# Numpy"
   ]
  },
  {
   "cell_type": "markdown",
   "id": "f33a5613-d9d1-49f1-994a-8f785bd47b0d",
   "metadata": {},
   "source": [
    "## 배열 만들기"
   ]
  },
  {
   "cell_type": "code",
   "execution_count": 1,
   "id": "6163c7f4-1c77-4454-9dd2-c58af6c27dd0",
   "metadata": {},
   "outputs": [
    {
     "data": {
      "text/plain": [
       "array([1, 2, 3, 4, 5, 6])"
      ]
     },
     "execution_count": 1,
     "metadata": {},
     "output_type": "execute_result"
    }
   ],
   "source": [
    "# 초기화할 값 지정하여 배열 생성\n",
    "import numpy as np\n",
    "np.array([1, 2, 3, 4, 5, 6])"
   ]
  },
  {
   "cell_type": "code",
   "execution_count": 3,
   "id": "eda15a3e-9acc-483d-931f-669c0b87f658",
   "metadata": {},
   "outputs": [
    {
     "data": {
      "text/plain": [
       "array([0., 0., 0., 0., 0.])"
      ]
     },
     "execution_count": 3,
     "metadata": {},
     "output_type": "execute_result"
    }
   ],
   "source": [
    "# 값을 0으로 초기화하여 배열 생성\n",
    "np.zeros(5)"
   ]
  },
  {
   "cell_type": "code",
   "execution_count": 4,
   "id": "ba667fa1-0172-42ac-be28-e7a2b1f939f2",
   "metadata": {},
   "outputs": [
    {
     "data": {
      "text/plain": [
       "array([1., 1., 1., 1., 1.])"
      ]
     },
     "execution_count": 4,
     "metadata": {},
     "output_type": "execute_result"
    }
   ],
   "source": [
    "# 값을 1로 초기화하여 배열 생성\n",
    "np.ones(5)"
   ]
  },
  {
   "cell_type": "code",
   "execution_count": 5,
   "id": "0cf04478-6629-4435-8aef-f2e58b177858",
   "metadata": {},
   "outputs": [
    {
     "data": {
      "text/plain": [
       "array([1., 1., 1., 1., 1.])"
      ]
     },
     "execution_count": 5,
     "metadata": {},
     "output_type": "execute_result"
    }
   ],
   "source": [
    "# 데이터 초기화 없이, 쓰레기 값으로 채워진 배열 생성\n",
    "np.empty(5)"
   ]
  },
  {
   "cell_type": "code",
   "execution_count": 8,
   "id": "bd263f29-dab8-4fcd-beed-a0662ae1c718",
   "metadata": {},
   "outputs": [
    {
     "data": {
      "text/plain": [
       "array([ 0,  1,  2,  3,  4,  5,  6,  7,  8,  9, 10, 11, 12, 13, 14, 15, 16,\n",
       "       17, 18, 19])"
      ]
     },
     "execution_count": 8,
     "metadata": {},
     "output_type": "execute_result"
    }
   ],
   "source": [
    "# 연속된 숫자를 채워 배열 생성\n",
    "# 내장함수 range()와 유사하게\n",
    "# 종료 지점에서 -1 까지만 생성됨\n",
    "np.arange(20)"
   ]
  },
  {
   "cell_type": "code",
   "execution_count": 41,
   "id": "bac08246-6c35-4253-830b-6f535b69368e",
   "metadata": {},
   "outputs": [
    {
     "data": {
      "text/plain": [
       "array([20, 22, 24, 26, 28])"
      ]
     },
     "execution_count": 41,
     "metadata": {},
     "output_type": "execute_result"
    }
   ],
   "source": [
    "# 인자를 여러 개 사용할 경우,\n",
    "# 1번 째 인자는 시작 지점\n",
    "# 2번 째 인자는 종료 지점\n",
    "# 3번 째 인자는 Step\n",
    "np.arange(20, 30, 2)"
   ]
  },
  {
   "cell_type": "code",
   "execution_count": 45,
   "id": "51e09912-8f1f-4ce8-97b1-1ecc205e0746",
   "metadata": {},
   "outputs": [
    {
     "data": {
      "text/plain": [
       "array([ 0. ,  2.5,  5. ,  7.5, 10. ])"
      ]
     },
     "execution_count": 45,
     "metadata": {},
     "output_type": "execute_result"
    }
   ],
   "source": [
    "# 지정한 구간에 원하는 요소 개수만큼 배열 생성\n",
    "# 1번 째 인자는 시작 지점\n",
    "# 2번 째 인자는 종료 지점\n",
    "# 3번 째 인자는 생성하고자 하는 요소 개수\n",
    "np.linspace(0, 10, num=5)"
   ]
  },
  {
   "cell_type": "code",
   "execution_count": 46,
   "id": "d99d5480-295c-48e9-8601-9bcdc0ae833f",
   "metadata": {},
   "outputs": [
    {
     "data": {
      "text/plain": [
       "array([ 0,  2,  5,  7, 10], dtype=int64)"
      ]
     },
     "execution_count": 46,
     "metadata": {},
     "output_type": "execute_result"
    }
   ],
   "source": [
    "# dtype= 값으로 np.dtype을 줘서 데이터 형식을 지정할 수 있음\n",
    "np.linspace(0, 10, num=5, dtype=np.int64)"
   ]
  },
  {
   "cell_type": "code",
   "execution_count": 47,
   "id": "d62145ce-574e-44cd-8a9a-8aadaf7c22ba",
   "metadata": {},
   "outputs": [
    {
     "data": {
      "text/plain": [
       "array([[ 1.5827523 , -1.04514683,  0.25759352],\n",
       "       [-1.9593946 , -1.50780766, -0.31529207],\n",
       "       [ 0.85817886,  0.07134299, -2.29230928]])"
      ]
     },
     "execution_count": 47,
     "metadata": {},
     "output_type": "execute_result"
    }
   ],
   "source": [
    "# 난수 생성기 시드값(시작값) 설정\n",
    "np.random.seed(1)\n",
    "# 시드값을 기준으로 난수가 생성된 이후,\n",
    "# 그 생성된 값을 기준으로 다음 난수가 생성되는 방식의 알고리즘..\n",
    "\n",
    "# 랜덤값으로 배열 생성\n",
    "randArray = np.random.randn(3, 3)\n",
    "randArray"
   ]
  },
  {
   "cell_type": "markdown",
   "id": "831da107-1ce3-4e3c-8d38-8d36a60db215",
   "metadata": {
    "tags": []
   },
   "source": [
    "## 사용 설명 보기"
   ]
  },
  {
   "cell_type": "code",
   "execution_count": 44,
   "id": "a142e5de-ff44-4f57-a27c-2a8807fea315",
   "metadata": {},
   "outputs": [
    {
     "data": {
      "text/plain": [
       "\u001b[1;31mInit signature:\u001b[0m \u001b[0mnp\u001b[0m\u001b[1;33m.\u001b[0m\u001b[0mdtype\u001b[0m\u001b[1;33m(\u001b[0m\u001b[0mself\u001b[0m\u001b[1;33m,\u001b[0m \u001b[1;33m/\u001b[0m\u001b[1;33m,\u001b[0m \u001b[1;33m*\u001b[0m\u001b[0margs\u001b[0m\u001b[1;33m,\u001b[0m \u001b[1;33m**\u001b[0m\u001b[0mkwargs\u001b[0m\u001b[1;33m)\u001b[0m\u001b[1;33m\u001b[0m\u001b[1;33m\u001b[0m\u001b[0m\n",
       "\u001b[1;31mDocstring:\u001b[0m     \n",
       "dtype(dtype, align=False, copy=False)\n",
       "\n",
       "Create a data type object.\n",
       "\n",
       "A numpy array is homogeneous, and contains elements described by a\n",
       "dtype object. A dtype object can be constructed from different\n",
       "combinations of fundamental numeric types.\n",
       "\n",
       "Parameters\n",
       "----------\n",
       "dtype\n",
       "    Object to be converted to a data type object.\n",
       "align : bool, optional\n",
       "    Add padding to the fields to match what a C compiler would output\n",
       "    for a similar C-struct. Can be ``True`` only if `obj` is a dictionary\n",
       "    or a comma-separated string. If a struct dtype is being created,\n",
       "    this also sets a sticky alignment flag ``isalignedstruct``.\n",
       "copy : bool, optional\n",
       "    Make a new copy of the data-type object. If ``False``, the result\n",
       "    may just be a reference to a built-in data-type object.\n",
       "\n",
       "See also\n",
       "--------\n",
       "result_type\n",
       "\n",
       "Examples\n",
       "--------\n",
       "Using array-scalar type:\n",
       "\n",
       ">>> np.dtype(np.int16)\n",
       "dtype('int16')\n",
       "\n",
       "Structured type, one field name 'f1', containing int16:\n",
       "\n",
       ">>> np.dtype([('f1', np.int16)])\n",
       "dtype([('f1', '<i2')])\n",
       "\n",
       "Structured type, one field named 'f1', in itself containing a structured\n",
       "type with one field:\n",
       "\n",
       ">>> np.dtype([('f1', [('f1', np.int16)])])\n",
       "dtype([('f1', [('f1', '<i2')])])\n",
       "\n",
       "Structured type, two fields: the first field contains an unsigned int, the\n",
       "second an int32:\n",
       "\n",
       ">>> np.dtype([('f1', np.uint64), ('f2', np.int32)])\n",
       "dtype([('f1', '<u8'), ('f2', '<i4')])\n",
       "\n",
       "Using array-protocol type strings:\n",
       "\n",
       ">>> np.dtype([('a','f8'),('b','S10')])\n",
       "dtype([('a', '<f8'), ('b', 'S10')])\n",
       "\n",
       "Using comma-separated field formats.  The shape is (2,3):\n",
       "\n",
       ">>> np.dtype(\"i4, (2,3)f8\")\n",
       "dtype([('f0', '<i4'), ('f1', '<f8', (2, 3))])\n",
       "\n",
       "Using tuples.  ``int`` is a fixed type, 3 the field's shape.  ``void``\n",
       "is a flexible type, here of size 10:\n",
       "\n",
       ">>> np.dtype([('hello',(np.int64,3)),('world',np.void,10)])\n",
       "dtype([('hello', '<i8', (3,)), ('world', 'V10')])\n",
       "\n",
       "Subdivide ``int16`` into 2 ``int8``'s, called x and y.  0 and 1 are\n",
       "the offsets in bytes:\n",
       "\n",
       ">>> np.dtype((np.int16, {'x':(np.int8,0), 'y':(np.int8,1)}))\n",
       "dtype((numpy.int16, [('x', 'i1'), ('y', 'i1')]))\n",
       "\n",
       "Using dictionaries.  Two fields named 'gender' and 'age':\n",
       "\n",
       ">>> np.dtype({'names':['gender','age'], 'formats':['S1',np.uint8]})\n",
       "dtype([('gender', 'S1'), ('age', 'u1')])\n",
       "\n",
       "Offsets in bytes, here 0 and 25:\n",
       "\n",
       ">>> np.dtype({'surname':('S25',0),'age':(np.uint8,25)})\n",
       "dtype([('surname', 'S25'), ('age', 'u1')])\n",
       "\u001b[1;31mFile:\u001b[0m           c:\\users\\user\\anaconda3\\lib\\site-packages\\numpy\\__init__.py\n",
       "\u001b[1;31mType:\u001b[0m           _DTypeMeta\n",
       "\u001b[1;31mSubclasses:\u001b[0m     dtype[bool_], dtype[int8], dtype[uint8], dtype[int16], dtype[uint16], dtype[intc], dtype[uintc], dtype[int32], dtype[uint32], dtype[int64], ...\n"
      ]
     },
     "metadata": {},
     "output_type": "display_data"
    }
   ],
   "source": [
    "# 메서드 사용 설명 보는 법\n",
    "np.dtype?"
   ]
  },
  {
   "cell_type": "markdown",
   "id": "51ec19f6-f68d-4584-adc3-34c0d4c879e2",
   "metadata": {},
   "source": [
    "## 변형"
   ]
  },
  {
   "cell_type": "code",
   "execution_count": 26,
   "id": "e09f5215-0188-4239-a273-29bbbb21bc42",
   "metadata": {},
   "outputs": [],
   "source": [
    "# 배열의 차원 변형\n",
    "oneDArray = np.arange(16)"
   ]
  },
  {
   "cell_type": "code",
   "execution_count": 27,
   "id": "b9ebea72-d901-448c-81bc-bb246f4da62d",
   "metadata": {},
   "outputs": [
    {
     "data": {
      "text/plain": [
       "array([[ 0,  1,  2,  3],\n",
       "       [ 4,  5,  6,  7],\n",
       "       [ 8,  9, 10, 11],\n",
       "       [12, 13, 14, 15]])"
      ]
     },
     "execution_count": 27,
     "metadata": {},
     "output_type": "execute_result"
    }
   ],
   "source": [
    "oneDArray.reshape(4, 4)"
   ]
  },
  {
   "cell_type": "code",
   "execution_count": 31,
   "id": "e0431ff3-137d-498c-8d46-8aa33357944d",
   "metadata": {},
   "outputs": [
    {
     "data": {
      "text/plain": [
       "array([ 0,  1,  2,  3,  4,  5,  6,  7,  8,  9, 10, 11, 12, 13, 14, 15])"
      ]
     },
     "execution_count": 31,
     "metadata": {},
     "output_type": "execute_result"
    }
   ],
   "source": [
    "# 다시 배열을 확인해보면,\n",
    "# 원본이 바뀌지는 않은 걸 확인할 수 있음\n",
    "oneDArray"
   ]
  },
  {
   "cell_type": "code",
   "execution_count": 32,
   "id": "75e16799-57de-4c41-a3b6-b81dfe13432e",
   "metadata": {},
   "outputs": [
    {
     "data": {
      "text/plain": [
       "array([[ 0,  1,  2,  3],\n",
       "       [ 4,  5,  6,  7],\n",
       "       [ 8,  9, 10, 11],\n",
       "       [12, 13, 14, 15]])"
      ]
     },
     "execution_count": 32,
     "metadata": {},
     "output_type": "execute_result"
    }
   ],
   "source": [
    "# reshape는 차원이 변형된 결과만 반환하고,\n",
    "# 원본을 바꾸지는 않으므로,\n",
    "# 새로운 원본을 만들어 저장할 필요가 있는 경우\n",
    "# copy() 메서드를 사용하여 따로 저장해준다.\n",
    "\n",
    "copiedOneDArray = oneDArray.reshape(4, 4).copy()\n",
    "copiedOneDArray"
   ]
  },
  {
   "cell_type": "markdown",
   "id": "ea22cc3d-e28a-41fe-9a0d-64262dba0747",
   "metadata": {},
   "source": [
    "## 배열 속성 확인"
   ]
  },
  {
   "cell_type": "code",
   "execution_count": 49,
   "id": "de5143e5-4609-4314-a5ac-35f3d7b127c3",
   "metadata": {},
   "outputs": [
    {
     "data": {
      "text/plain": [
       "(4, 4)"
      ]
     },
     "execution_count": 49,
     "metadata": {},
     "output_type": "execute_result"
    }
   ],
   "source": [
    "# 배열 형태 확인할 때는 shape 사용,\n",
    "# pandas와 동일.\n",
    "copiedOneDArray.shape"
   ]
  },
  {
   "cell_type": "code",
   "execution_count": 54,
   "id": "5b1f9421-5a39-42a6-b7e1-acd8c703a04c",
   "metadata": {},
   "outputs": [
    {
     "data": {
      "text/plain": [
       "dtype('int32')"
      ]
     },
     "execution_count": 54,
     "metadata": {},
     "output_type": "execute_result"
    }
   ],
   "source": [
    "# 데이터타입 확인\n",
    "copiedOneDArray.dtype\n",
    "\n",
    "# 확인결과 int32 \n",
    "# --> (4, 4) 배열로 부동소수점이 아닌 정수형 데이터임을 확인"
   ]
  },
  {
   "cell_type": "code",
   "execution_count": 60,
   "id": "e9bcea73-e4b4-4c32-bc8b-0185f6b1880f",
   "metadata": {},
   "outputs": [
    {
     "data": {
      "text/plain": [
       "array([[ 0.,  1.,  2.,  3.],\n",
       "       [ 4.,  5.,  6.,  7.],\n",
       "       [ 8.,  9., 10., 11.],\n",
       "       [12., 13., 14., 15.]])"
      ]
     },
     "execution_count": 60,
     "metadata": {},
     "output_type": "execute_result"
    }
   ],
   "source": [
    "# float으로 데이터타입 형변환\n",
    "# astype() 메서드 또한 원본에 적용되는 것이 아니라,\n",
    "# float으로 변환된 배열을 반환하므로\n",
    "# 형변환이 이루어진 값을 새로운 변수에 저장해서 사용할 필요가 있음.\n",
    "copiedOneDArray.astype(float)"
   ]
  },
  {
   "cell_type": "code",
   "execution_count": 61,
   "id": "f81b9f21-2f2e-43f1-92f1-bb7e5f7555a4",
   "metadata": {},
   "outputs": [
    {
     "data": {
      "text/plain": [
       "dtype('float64')"
      ]
     },
     "execution_count": 61,
     "metadata": {},
     "output_type": "execute_result"
    }
   ],
   "source": [
    "# astype() 메서드 또한 원본에 적용되는 것이 아니라,\n",
    "# float으로 변환된 배열을 반환하므로\n",
    "# 형변환이 이루어진 값을 새로운 변수에 저장해서 사용할 필요가 있음.\n",
    "\n",
    "astypeFloatArray = copiedOneDArray.astype(float)\n",
    "astypeFloatArray.dtype"
   ]
  },
  {
   "cell_type": "markdown",
   "id": "c14f0d11-0053-4524-ad81-5bca494ab600",
   "metadata": {},
   "source": [
    "## 인덱싱 / 슬라이싱"
   ]
  },
  {
   "cell_type": "code",
   "execution_count": 64,
   "id": "5a0699a2-ea78-47bc-b461-15794a227a79",
   "metadata": {},
   "outputs": [
    {
     "data": {
      "text/plain": [
       "array([[ 0,  1,  2,  3],\n",
       "       [ 4,  5,  6,  7],\n",
       "       [ 8,  9, 10, 11],\n",
       "       [12, 13, 14, 15]])"
      ]
     },
     "execution_count": 64,
     "metadata": {},
     "output_type": "execute_result"
    }
   ],
   "source": [
    "arr1 = np.arange(16).reshape(4, 4)\n",
    "arr1"
   ]
  },
  {
   "cell_type": "code",
   "execution_count": 63,
   "id": "528e380c-35a2-4626-94dc-b619248bc132",
   "metadata": {},
   "outputs": [
    {
     "data": {
      "text/plain": [
       "array([ 8,  9, 10, 11])"
      ]
     },
     "execution_count": 63,
     "metadata": {},
     "output_type": "execute_result"
    }
   ],
   "source": [
    "arr1[2]"
   ]
  },
  {
   "cell_type": "code",
   "execution_count": 66,
   "id": "695b4c7d-5d74-4269-b76a-5cfbe907682d",
   "metadata": {},
   "outputs": [
    {
     "data": {
      "text/plain": [
       "array([[ 4,  5,  6,  7],\n",
       "       [ 8,  9, 10, 11]])"
      ]
     },
     "execution_count": 66,
     "metadata": {},
     "output_type": "execute_result"
    }
   ],
   "source": [
    "arr1[1:-1]"
   ]
  },
  {
   "cell_type": "code",
   "execution_count": 67,
   "id": "9cd2f0e6-b469-4410-92e1-33c6de3cc059",
   "metadata": {},
   "outputs": [
    {
     "data": {
      "text/plain": [
       "array([[ 0,  1,  2,  3],\n",
       "       [ 4,  5,  6,  7],\n",
       "       [ 8,  9, 10, 11]])"
      ]
     },
     "execution_count": 67,
     "metadata": {},
     "output_type": "execute_result"
    }
   ],
   "source": [
    "arr1[0:3]"
   ]
  },
  {
   "cell_type": "code",
   "execution_count": 68,
   "id": "358abcdc-76ba-4ba2-a6de-fdd8d5bd1987",
   "metadata": {},
   "outputs": [
    {
     "data": {
      "text/plain": [
       "array([14, 15])"
      ]
     },
     "execution_count": 68,
     "metadata": {},
     "output_type": "execute_result"
    }
   ],
   "source": [
    "arr1[3][2:4]"
   ]
  },
  {
   "cell_type": "code",
   "execution_count": 69,
   "id": "948adf30-952f-4825-90e5-64515cf00e44",
   "metadata": {},
   "outputs": [
    {
     "data": {
      "text/plain": [
       "14"
      ]
     },
     "execution_count": 69,
     "metadata": {},
     "output_type": "execute_result"
    }
   ],
   "source": [
    "arr1[3][2]"
   ]
  },
  {
   "cell_type": "code",
   "execution_count": 70,
   "id": "cb5c8367-8acb-4665-a289-ff166be3517e",
   "metadata": {},
   "outputs": [
    {
     "data": {
      "text/plain": [
       "array([[  0,   1,   2,   3],\n",
       "       [  4,   5,   6,   7],\n",
       "       [  8,   9, 100, 110],\n",
       "       [120, 130, 140, 150]])"
      ]
     },
     "execution_count": 70,
     "metadata": {},
     "output_type": "execute_result"
    }
   ],
   "source": [
    "# 배열의 10 이상 요소 값 선택해서 변경하기\n",
    "arr1[arr1 >= 10] = arr1[arr1 >= 10] * 10\n",
    "arr1"
   ]
  },
  {
   "cell_type": "code",
   "execution_count": 73,
   "id": "1a82fc32-60a9-49c9-97e5-4a028a0017c9",
   "metadata": {},
   "outputs": [
    {
     "data": {
      "text/plain": [
       "array([[  0,   0,   0,   0,   0],\n",
       "       [  0,   0,   0,   0,   0],\n",
       "       [100, 100, 100, 100, 100],\n",
       "       [100, 100, 100, 100, 200]])"
      ]
     },
     "execution_count": 73,
     "metadata": {},
     "output_type": "execute_result"
    }
   ],
   "source": [
    "# dtype=int로 지정, 생성된 2차원 배열의 모든 값에 100 곱하기\n",
    "arr2 = np.linspace(0, 2, num=20, dtype=int).reshape(4, 5)\n",
    "arr2 = arr2 * 100\n",
    "arr2"
   ]
  },
  {
   "cell_type": "code",
   "execution_count": 99,
   "id": "422b8e53-07d8-4688-aa52-b7515d94d785",
   "metadata": {},
   "outputs": [
    {
     "name": "stdout",
     "output_type": "stream",
     "text": [
      "before \n",
      "[[0.    0.275 0.55  0.825 1.1  ]\n",
      " [1.375 1.65  1.925 2.2   2.475]\n",
      " [2.75  3.025 3.3   3.575 3.85 ]\n",
      " [4.125 4.4   4.675 4.95  5.225]\n",
      " [5.5   5.775 6.05  6.325 6.6  ]]\n",
      "========================================\n",
      "after \n",
      "[[  0.     6.05  12.1   18.15  24.2 ]\n",
      " [ 30.25  36.3   42.35  48.4   54.45]\n",
      " [ 60.5   66.55  72.6   78.65  84.7 ]\n",
      " [ 90.75  96.8  102.85 108.9  114.95]\n",
      " [121.   127.05 133.1  139.15 145.2 ]]\n"
     ]
    }
   ],
   "source": [
    "# dtype=float로 지정, 생성된 2차원 배열의 모든 값에 22 곱하기\n",
    "arr3 = np.linspace(0, 6.6, num=25, dtype=float).reshape(5, 5)\n",
    "print(f'before \\n{arr3}')\n",
    "print('='*40)\n",
    "arr3 = arr3 * 22\n",
    "print(f'after \\n{arr3}')"
   ]
  },
  {
   "cell_type": "code",
   "execution_count": 104,
   "id": "49b1c012-2aca-4385-8328-4472cf678119",
   "metadata": {},
   "outputs": [
    {
     "name": "stdout",
     "output_type": "stream",
     "text": [
      " arr4's dtype is...\n",
      " int32, (4, 4)\n",
      "========================================\n",
      " arr4's dtype is...\n",
      " float64, (4, 4)\n"
     ]
    }
   ],
   "source": [
    "# astype으로 형변환 전후 dtype 비교\n",
    "arr4 = np.arange(16).reshape(4, 4)\n",
    "print(f' arr4\\'s dtype is...\\n {arr4.dtype}, {arr4.shape}')\n",
    "print('='*40)\n",
    "arr4 = arr4.astype(float)\n",
    "print(f' arr4\\'s dtype is...\\n {arr4.dtype}, {arr4.shape}')"
   ]
  },
  {
   "cell_type": "code",
   "execution_count": null,
   "id": "db696be9-3466-4cd8-bf33-6ad761d6bbe0",
   "metadata": {},
   "outputs": [],
   "source": []
  }
 ],
 "metadata": {
  "kernelspec": {
   "display_name": "Python 3 (ipykernel)",
   "language": "python",
   "name": "python3"
  },
  "language_info": {
   "codemirror_mode": {
    "name": "ipython",
    "version": 3
   },
   "file_extension": ".py",
   "mimetype": "text/x-python",
   "name": "python",
   "nbconvert_exporter": "python",
   "pygments_lexer": "ipython3",
   "version": "3.9.12"
  }
 },
 "nbformat": 4,
 "nbformat_minor": 5
}
